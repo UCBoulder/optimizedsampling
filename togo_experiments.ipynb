{
 "cells": [
  {
   "cell_type": "markdown",
   "id": "774d23fe",
   "metadata": {},
   "source": [
    "# Togo Active Learning Experiment Runner\n",
    "\n",
    "This notebook manages the execution of sampling experiments on the Togo soil fertility dataset.\n",
    "\n",
    "Author: Livia Betti  \n",
    "Date: July 2025"
   ]
  },
  {
   "cell_type": "markdown",
   "id": "444e0d2e",
   "metadata": {},
   "source": [
    "### To run this notebook, the following tasks should be completed:\n",
    "1. Generate relevant groups in Togo. I have generated group assignments based on regions, but if there are other representative groups that might be useful, we can generate those as well.\n",
    "2. Make initial samples representing Cluster Sampling and Convenience Sampling.\n",
    "3. Assign (distance-based) costs for the Convenience sampling setting\n",
    "4. (Optional) Run regressions on the initial sample (with no augmentation) --> this will give a better understanding as to what initial samples are useful to augment (ideally, initial samples that yield a small, positive R2 score). If this step is skipped, an initial sample should just be chosen by the user."
   ]
  },
  {
   "cell_type": "markdown",
   "id": "32c8db68",
   "metadata": {},
   "source": [
    "## Imports"
   ]
  },
  {
   "cell_type": "code",
   "execution_count": 34,
   "id": "6d87ec87",
   "metadata": {},
   "outputs": [
    {
     "name": "stdout",
     "output_type": "stream",
     "text": [
      "CWD now: /home/libe2152/optimizedsampling/3_sampling/tools\n",
      "sys.path[0]: /home/libe2152/optimizedsampling/3_sampling\n"
     ]
    }
   ],
   "source": [
    "import os\n",
    "import sys\n",
    "\n",
    "RUN_DIR = \"/home/libe2152/optimizedsampling/3_sampling/tools\"\n",
    "\n",
    "PROJECT_ROOT = os.path.abspath(os.path.join(RUN_DIR, \"..\"))\n",
    "if PROJECT_ROOT not in sys.path:\n",
    "    sys.path.insert(0, PROJECT_ROOT)\n",
    "\n",
    "#change current working directory to tools/\n",
    "os.chdir(RUN_DIR)\n",
    "\n",
    "print(\"CWD now:\", os.getcwd())\n",
    "print(\"sys.path[0]:\", sys.path[0])\n"
   ]
  },
  {
   "cell_type": "markdown",
   "id": "696580ec",
   "metadata": {},
   "source": [
    "## Core config values"
   ]
  },
  {
   "cell_type": "code",
   "execution_count": null,
   "id": "88341645",
   "metadata": {},
   "outputs": [],
   "source": [
    "from pathlib import Path\n",
    "import subprocess\n",
    "\n",
    "# === Shared Config ===\n",
    "base_dir = Path(\"/home/libe2152/optimizedsampling\")\n",
    "script = base_dir / \"train.py\"\n",
    "cfg = base_dir / \"3_sampling/configs/togo/RIDGE.yaml\"\n",
    "\n",
    "sim_matrix_path = base_dir / \"0_data/cosine_similarity/togo/cosine_similarity_train_test.npz\"\n",
    "dist_matrix_path = \"\" \n",
    "\n",
    "group_path = base_dir / \"0_data/groups/togo/region_assignment.pkl\"\n",
    "group_type = \"regions\"\n",
    "\n",
    "logfile = \"completed_experiments_togo.log\"\n",
    "failed_log = \"failed_experiments_togo.log\"\n",
    "\n",
    "seeds = [1, 42, 123, 456, 789, 1234, 5678, 9101, 1213, 1415]\n",
    "methods = [\"random\", \"greedycost\", \"poprisk\", \"similarity\"]\n",
    "budgets = [500, 1000, 5000, 10000]\n",
    "\n",
    "init_name = \"empty_initial_set\"\n",
    "dataset = \"togo\"\n"
   ]
  },
  {
   "cell_type": "code",
   "execution_count": null,
   "id": "0c00bf46",
   "metadata": {},
   "outputs": [],
   "source": [
    "def is_completed(exp_name):\n",
    "    try:\n",
    "        with open(logfile) as f:\n",
    "            return exp_name.strip() in {line.strip() for line in f}\n",
    "    except FileNotFoundError:\n",
    "        return False\n",
    "\n",
    "def log_result(exp_name, success):\n",
    "    log_path = logfile if success else failed_log\n",
    "    with open(log_path, \"a\") as f:\n",
    "        f.write(f\"{exp_name}\\n\")\n"
   ]
  },
  {
   "cell_type": "markdown",
   "id": "4965479c",
   "metadata": {},
   "source": [
    "## Cost related arguments"
   ]
  },
  {
   "cell_type": "code",
   "execution_count": 36,
   "id": "7bdbcfc4",
   "metadata": {},
   "outputs": [],
   "source": [
    "cost_func = \"cluster_based\"\n",
    "cost_name = \"region_aware_unit_cost\"\n",
    "\n",
    "#optional: these are specific to region-aware cost\n",
    "unit_assignment_path = \"/home/libe2152/optimizedsampling/0_data/groups/togo/ea_assignments_dict.pkl\"\n",
    "unit_type = \"cluster\"\n",
    "points_per_unit = 10\n",
    "\n",
    "region_assignment_path = \"/home/libe2152/optimizedsampling/0_data/groups/togo/prefecture_assignment.pkl\"\n",
    "in_region_unit_cost = 10\n",
    "out_of_region_unit_cost = 15\n"
   ]
  },
  {
   "cell_type": "markdown",
   "id": "6e7ca10f",
   "metadata": {},
   "source": [
    "## Method Related arguments"
   ]
  },
  {
   "cell_type": "code",
   "execution_count": null,
   "id": "dc6af4b0",
   "metadata": {},
   "outputs": [],
   "source": [
    "def append_method_flags(method):\n",
    "    args = []\n",
    "    if method == \"similarity\":\n",
    "        args += [f\"--similarity_matrix_path {sim_matrix_path}\"]\n",
    "    elif method == \"diversity\":\n",
    "        args += [f\"--distance_matrix_path {sim_matrix_path}\"]\n",
    "\n",
    "    if method == \"poprisk\":\n",
    "        args += [\n",
    "            \"--util_lambda 0.1\",\n",
    "            f\"--group_assignment_path {group_path}\",\n",
    "            f\"--group_type {group_type}\"\n",
    "        ]\n",
    "    elif method == \"match_population_proportion\":\n",
    "        args += [\n",
    "            f\"--group_assignment_path {group_path}\",\n",
    "            f\"--group_type {group_type}\"\n",
    "        ]\n",
    "    return \" \".join(args)\n"
   ]
  },
  {
   "cell_type": "markdown",
   "id": "4272e4e4",
   "metadata": {},
   "source": [
    "## Run"
   ]
  },
  {
   "cell_type": "code",
   "execution_count": null,
   "id": "03678b2b",
   "metadata": {},
   "outputs": [],
   "source": [
    "def run_setting1(seed):\n",
    "    for cost_fn in [\"uniform\", \"convenience_based\"]:\n",
    "        print(f\"Running with COST_FN={cost_fn}, SEED={seed}\")\n",
    "\n",
    "        for method in methods:\n",
    "            for budget in budgets:\n",
    "                cost_func = \"uniform\"\n",
    "                cost_name = cost_fn\n",
    "                util_lambda = 0.5  # default\n",
    "\n",
    "                unit_assignment_path = \"\"\n",
    "                unit_type = \"\"\n",
    "                points_per_unit = \"\"\n",
    "                region_assignment_path = \"\"\n",
    "                in_region_unit_cost = \"\"\n",
    "                out_of_region_unit_cost = \"\"\n",
    "                cost_array_path = \"\"\n",
    "\n",
    "                if cost_fn == \"convenience_based\":\n",
    "                    cost_func = \"pointwise_by_array\"\n",
    "                    cost_array_path = base_dir / \"0_data/costs/togo/convenience_costs/distance_based_costs_top1_urban.pkl\"\n",
    "\n",
    "                # === Build experiment name\n",
    "                if method in [\"poprisk\", \"match_population_proportion\"]:\n",
    "                    exp_name = f\"{dataset}_{init_name}_cost_{cost_name}_method_{method}_{group_type}_budget_{budget}_seed_{seed}\"\n",
    "                else:\n",
    "                    exp_name = f\"{dataset}_{init_name}_cost_{cost_name}_method_{method}_budget_{budget}_seed_{seed}\"\n",
    "\n",
    "                if is_completed(exp_name):\n",
    "                    print(f\"Skipping already completed: {exp_name}\")\n",
    "                    continue\n",
    "\n",
    "                cmd = f\"\"\"\n",
    "python {script} \\\\\n",
    "  --cfg {cfg} \\\\\n",
    "  --exp-name {exp_name} \\\\\n",
    "  --sampling_fn {method} \\\\\n",
    "  --budget {budget} \\\\\n",
    "  --initial_set_str {init_name} \\\\\n",
    "  --id_path \"\" \\\\\n",
    "  --seed {seed} \\\\\n",
    "  --cost_func {cost_func} \\\\\n",
    "  --cost_name {cost_name} \\\\\n",
    "  --unit_assignment_path {unit_assignment_path} \\\\\n",
    "  --unit_type {unit_type} \\\\\n",
    "  --points_per_unit {points_per_unit} \\\\\n",
    "  --region_assignment_path {region_assignment_path} \\\\\n",
    "  --in_region_unit_cost {in_region_unit_cost} \\\\\n",
    "  --out_of_region_unit_cost {out_of_region_unit_cost} \\\\\n",
    "  --group_assignment_path \"\" \\\\\n",
    "  --group_type {group_type} \\\\\n",
    "  --util_lambda {util_lambda} \\\\\n",
    "  {'--cost_array_path ' + str(cost_array_path) if cost_array_path else \"\"} \\\\\n",
    "  {append_method_flags(method)}\n",
    "\"\"\"\n",
    "                print(f\"▶️ Running: {exp_name}\")\n",
    "                ret = subprocess.call(cmd, shell=True)\n",
    "\n",
    "                if ret != 0:\n",
    "                    print(f\"Failed: {exp_name}\")\n",
    "                    log_result(exp_name, success=False)\n",
    "                else:\n",
    "                    print(f\"Completed: {exp_name}\")\n",
    "                    log_result(exp_name, success=True)\n"
   ]
  },
  {
   "cell_type": "code",
   "execution_count": null,
   "id": "ec794b1c",
   "metadata": {},
   "outputs": [],
   "source": [
    "for seed in seeds:\n",
    "    run_setting1(seed)"
   ]
  }
 ],
 "metadata": {
  "kernelspec": {
   "display_name": "al",
   "language": "python",
   "name": "python3"
  },
  "language_info": {
   "codemirror_mode": {
    "name": "ipython",
    "version": 3
   },
   "file_extension": ".py",
   "mimetype": "text/x-python",
   "name": "python",
   "nbconvert_exporter": "python",
   "pygments_lexer": "ipython3",
   "version": "3.11.11"
  }
 },
 "nbformat": 4,
 "nbformat_minor": 5
}
