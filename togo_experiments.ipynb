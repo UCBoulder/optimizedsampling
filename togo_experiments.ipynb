{
 "cells": [
  {
   "cell_type": "markdown",
   "id": "774d23fe",
   "metadata": {},
   "source": [
    "# Togo Active Learning Experiment Runner\n",
    "\n",
    "This notebook manages the execution of sampling experiments on the Togo soil fertility dataset.\n",
    "\n",
    "Author: Livia Betti  \n",
    "Date: July 2025"
   ]
  },
  {
   "cell_type": "markdown",
   "id": "444e0d2e",
   "metadata": {},
   "source": [
    "### To run this notebook, the following tasks should be completed:\n",
    "1. Generate relevant groups in Togo. I have generated group assignments based on regions, but if there are other representative groups that might be useful, we can generate those as well.\n",
    "2. Make initial samples representing Cluster Sampling and Convenience Sampling.\n",
    "3. Assign (distance-based) costs for the Convenience sampling setting\n",
    "4. (Optional) Run regressions on the initial sample (with no augmentation) --> this will give a better understanding as to what initial samples are useful to augment (ideally, initial samples that yield a small, positive R2 score). If this step is skipped, an initial sample should just be chosen by the user."
   ]
  },
  {
   "cell_type": "markdown",
   "id": "32c8db68",
   "metadata": {},
   "source": [
    "## Imports"
   ]
  },
  {
   "cell_type": "code",
   "execution_count": 34,
   "id": "6d87ec87",
   "metadata": {},
   "outputs": [
    {
     "name": "stdout",
     "output_type": "stream",
     "text": [
      "CWD now: /home/libe2152/optimizedsampling/3_sampling/tools\n",
      "sys.path[0]: /home/libe2152/optimizedsampling/3_sampling\n"
     ]
    }
   ],
   "source": [
    "import os\n",
    "import sys\n",
    "\n",
    "RUN_DIR = \"/home/libe2152/optimizedsampling/3_sampling/tools\"\n",
    "\n",
    "PROJECT_ROOT = os.path.abspath(os.path.join(RUN_DIR, \"..\"))\n",
    "if PROJECT_ROOT not in sys.path:\n",
    "    sys.path.insert(0, PROJECT_ROOT)\n",
    "\n",
    "#change current working directory to tools/\n",
    "os.chdir(RUN_DIR)\n",
    "\n",
    "print(\"CWD now:\", os.getcwd())\n",
    "print(\"sys.path[0]:\", sys.path[0])\n"
   ]
  },
  {
   "cell_type": "markdown",
   "id": "696580ec",
   "metadata": {},
   "source": [
    "## Core config values"
   ]
  },
  {
   "cell_type": "code",
   "execution_count": 35,
   "id": "88341645",
   "metadata": {},
   "outputs": [],
   "source": [
    "# Core file paths and experiment identifiers\n",
    "cfg = \"/home/libe2152/optimizedsampling/3_sampling/configs/togo/RIDGE.yaml\"\n",
    "script = \"train.py\"\n",
    "seed = 42\n",
    "\n",
    "initial_set_str = \"cluster_sampling/10_state_county_desired_10ppc_100_size\"\n",
    "exp_init_name = \"cluster_sampling_10_state_county_desired_10ppc_100_size\"\n",
    "exp_name = f\"togo_{exp_init_name}_cost_cluster_based_c1_10_c2_15_method_poprisk_regions_budget_50_seed_{seed}\"\n",
    "\n",
    "id_path = f\"/home/libe2152/optimizedsampling/0_data/initial_samples/togo/cluster_sampling/randomstrata/sample_1_region_prefecture_desired_10ppc_1000_size_seed_{seed}.pkl\""
   ]
  },
  {
   "cell_type": "markdown",
   "id": "4965479c",
   "metadata": {},
   "source": [
    "## Cost related arguments"
   ]
  },
  {
   "cell_type": "code",
   "execution_count": 36,
   "id": "7bdbcfc4",
   "metadata": {},
   "outputs": [],
   "source": [
    "cost_func = \"cluster_based\"\n",
    "cost_name = \"region_aware_unit_cost\"\n",
    "\n",
    "#optional: these are specific to region-aware cost\n",
    "unit_assignment_path = \"/home/libe2152/optimizedsampling/0_data/groups/togo/ea_assignments_dict.pkl\"\n",
    "unit_type = \"cluster\"\n",
    "points_per_unit = 10\n",
    "\n",
    "region_assignment_path = \"/home/libe2152/optimizedsampling/0_data/groups/togo/prefecture_assignment.pkl\"\n",
    "in_region_unit_cost = 10\n",
    "out_of_region_unit_cost = 15\n"
   ]
  },
  {
   "cell_type": "markdown",
   "id": "6e7ca10f",
   "metadata": {},
   "source": [
    "## Method Related arguments"
   ]
  },
  {
   "cell_type": "code",
   "execution_count": 37,
   "id": "dc6af4b0",
   "metadata": {},
   "outputs": [],
   "source": [
    "sampling_fn = \"poprisk\"\n",
    "budget = 50\n",
    "\n",
    "group_assignment_path = \"/home/libe2152/optimizedsampling/0_data/groups/togo/region_assignment.pkl\"\n",
    "group_type = \"regions\"\n",
    "\n",
    "util_lambda = 0.5  # poprisk-specific"
   ]
  },
  {
   "cell_type": "markdown",
   "id": "41d45278",
   "metadata": {},
   "source": [
    "### args for similarity/diversity method"
   ]
  },
  {
   "cell_type": "code",
   "execution_count": 38,
   "id": "6ca9b4ff",
   "metadata": {},
   "outputs": [],
   "source": [
    "similarity_matrix_path = \"/home/libe2152/optimizedsampling/0_data/cosine_similarity/togo/cosine_similarity_train_test.npz\""
   ]
  },
  {
   "cell_type": "markdown",
   "id": "4272e4e4",
   "metadata": {},
   "source": [
    "## Run"
   ]
  },
  {
   "cell_type": "code",
   "execution_count": 39,
   "id": "81e6a01b",
   "metadata": {},
   "outputs": [
    {
     "name": "stdout",
     "output_type": "stream",
     "text": [
      "🗑️  Removing previous log file: /home/libe2152/optimizedsampling/0_output/TOGO/cluster_sampling/10_state_county_desired_10ppc_100_size/region_aware_unit_cost/opt/poprisk/regions/budget_50/util_lambda_0.5/seed_42/stdout.log\n",
      "Sampling initial pool from IDS\n",
      "\u001b[?12l\u001b[?25hPython 3.11.11 (main, Dec 11 2024, 16:28:39) [GCC 11.2.0]\n",
      "Type 'copyright', 'credits' or 'license' for more information\n",
      "IPython 9.4.0 -- An enhanced Interactive Python. Type '?' for help.\n",
      "Tip: IPython supports combining unicode identifiers, eg F\\vec<tab> will become F⃗, useful for physics equations. Play with \\dot \\ddot and others.\n",
      "\n",
      "\u001b[6n\u001b[?2004h\u001b[?1l\u001b[?25l\u001b[0m\u001b[?7l\u001b[0m\u001b[J\u001b[0mIn [1]:\u001b[7D\u001b[8C\u001b[?7h\u001b[0m\u001b[?12l\u001b[?25h\u001b[8D\u001b[J\u001b[0m\u001b[?7h\u001b[?2004lWARNING: your terminal doesn't support cursor position requests (CPR).\n",
      "\u001b[0mC 4h\u001b[?25l\u001b[0m\u001b[?7l\u001b[0m\u001b[J\u001b[0mIn [1]:\u001b[7D\u001b[8C\u001b[?7h\u001b[0m\u001b[?12l\u001b[?25h\u001b[?25l\u001b[?7l\u001b[8D\u001b[0m\u001b[J\u001b[0;38;5;102mIn [1]:                                                                        \n",
      "\u001b[J\u001b[?7h\u001b[0m\u001b[?12l\u001b[?25h\u001b[?2004l^C\n",
      "Error in sys.excepthook:\n",
      "Traceback (most recent call last):\n",
      "  File \"/share/anaconda3/envs/al/lib/python3.11/site-packages/IPython/core/ultratb.py\", line 819, in get_records\n",
      "    mod = inspect.getmodule(cf.tb_frame)\n",
      "          ^^^^^^^^^^^^^^^^^^^^^^^^^^^^^^\n",
      "  File \"/share/anaconda3/envs/al/lib/python3.11/inspect.py\", line 997, in getmodule\n",
      "    os.path.realpath(f)] = module.__name__\n",
      "    ^^^^^^^^^^^^^^^^^^^\n",
      "  File \"<frozen posixpath>\", line 416, in realpath\n",
      "  File \"<frozen posixpath>\", line 451, in _joinrealpath\n",
      "KeyboardInterrupt\n",
      "\n",
      "Original exception was:\n",
      "Traceback (most recent call last):\n",
      "  File \"/home/libe2152/optimizedsampling/3_sampling/tools/train.py\", line 331, in <module>\n",
      "    main_wrapper()\n",
      "  File \"/home/libe2152/optimizedsampling/3_sampling/tools/train.py\", line 328, in main_wrapper\n",
      "    main(cfg)\n",
      "  File \"/home/libe2152/optimizedsampling/3_sampling/tools/train.py\", line 131, in main\n",
      "    lSet_path, uSet_path, valSet_path = data_obj.makeLUVSets_from_ids(cfg.LSET_IDS, data=train_data, save_dir=cfg.EXP_DIR)\n",
      "                                        ^^^^^^^^^^^^^^^^^^^^^^^^^^^^^^^^^^^^^^^^^^^^^^^^^^^^^^^^^^^^^^^^^^^^^^^^^^^^^^^^^^\n",
      "  File \"/home/libe2152/optimizedsampling/3_sampling/pycls/datasets/data.py\", line 258, in makeLUVSets_from_ids\n",
      "    return self.makeLUVSets_from_ids_india_secc(ids, data, save_dir)\n",
      "           ^^^^^^^^^^^^^^^^^^^^^^^^^^^^^^^^^^^^^^^^^^^^^^^^^^^^^^^^^\n",
      "  File \"/home/libe2152/optimizedsampling/3_sampling/pycls/datasets/data.py\", line 319, in makeLUVSets_from_ids_india_secc\n",
      "    from IPython import embed; embed()\n",
      "                               ^^^^^^^\n",
      "  File \"/share/anaconda3/envs/al/lib/python3.11/site-packages/IPython/terminal/embed.py\", line 425, in embed\n",
      "    shell(header=header, stack_depth=2, compile_flags=compile_flags,\n",
      "  File \"/share/anaconda3/envs/al/lib/python3.11/site-packages/IPython/terminal/embed.py\", line 253, in __call__\n",
      "    self.mainloop(\n",
      "  File \"/share/anaconda3/envs/al/lib/python3.11/site-packages/IPython/terminal/embed.py\", line 344, in mainloop\n",
      "    self.interact()\n",
      "  File \"/share/anaconda3/envs/al/lib/python3.11/site-packages/IPython/terminal/interactiveshell.py\", line 997, in interact\n",
      "    code = self.prompt_for_code()\n",
      "           ^^^^^^^^^^^^^^^^^^^^^^\n",
      "  File \"/share/anaconda3/envs/al/lib/python3.11/site-packages/IPython/terminal/interactiveshell.py\", line 947, in prompt_for_code\n",
      "    text = self.pt_app.prompt(\n",
      "           ^^^^^^^^^^^^^^^^^^^\n",
      "  File \"/share/anaconda3/envs/al/lib/python3.11/site-packages/prompt_toolkit/shortcuts/prompt.py\", line 1035, in prompt\n",
      "    return self.app.run(\n",
      "           ^^^^^^^^^^^^^\n",
      "  File \"/share/anaconda3/envs/al/lib/python3.11/site-packages/prompt_toolkit/application/application.py\", line 1002, in run\n",
      "    return asyncio.run(coro)\n",
      "           ^^^^^^^^^^^^^^^^^\n",
      "  File \"/share/anaconda3/envs/al/lib/python3.11/asyncio/runners.py\", line 190, in run\n",
      "    return runner.run(main)\n",
      "           ^^^^^^^^^^^^^^^^\n",
      "  File \"/share/anaconda3/envs/al/lib/python3.11/asyncio/runners.py\", line 118, in run\n",
      "    return self._loop.run_until_complete(task)\n",
      "           ^^^^^^^^^^^^^^^^^^^^^^^^^^^^^^^^^^^\n",
      "  File \"/share/anaconda3/envs/al/lib/python3.11/asyncio/base_events.py\", line 641, in run_until_complete\n",
      "    self.run_forever()\n",
      "  File \"/share/anaconda3/envs/al/lib/python3.11/asyncio/base_events.py\", line 608, in run_forever\n",
      "    self._run_once()\n",
      "  File \"/share/anaconda3/envs/al/lib/python3.11/asyncio/base_events.py\", line 1936, in _run_once\n",
      "    handle._run()\n",
      "  File \"/share/anaconda3/envs/al/lib/python3.11/asyncio/events.py\", line 84, in _run\n",
      "    self._context.run(self._callback, *self._args)\n",
      "  File \"/share/anaconda3/envs/al/lib/python3.11/site-packages/prompt_toolkit/application/application.py\", line 886, in run_async\n",
      "    return await _run_async(f)\n",
      "           ^^^^^^^^^^^^^^^^^^^\n",
      "  File \"/share/anaconda3/envs/al/lib/python3.11/site-packages/prompt_toolkit/application/application.py\", line 746, in _run_async\n",
      "    result = await f\n",
      "             ^^^^^^^\n",
      "KeyboardInterrupt\n"
     ]
    }
   ],
   "source": [
    "cmd = f\"\"\"\n",
    "python {script} \\\n",
    "  --cfg {cfg} \\\n",
    "  --exp-name {exp_name} \\\n",
    "  --sampling_fn {sampling_fn} \\\n",
    "  --budget {budget} \\\n",
    "  --initial_set_str {initial_set_str} \\\n",
    "  --id_path {id_path} \\\n",
    "  --seed {seed} \\\n",
    "  --cost_func {cost_func} \\\n",
    "  --cost_name {cost_name} \\\n",
    "  --unit_assignment_path {unit_assignment_path} \\\n",
    "  --unit_type {unit_type} \\\n",
    "  --points_per_unit {points_per_unit} \\\n",
    "  --region_assignment_path {region_assignment_path} \\\n",
    "  --in_region_unit_cost {in_region_unit_cost} \\\n",
    "  --out_of_region_unit_cost {out_of_region_unit_cost} \\\n",
    "  --group_assignment_path {group_assignment_path} \\\n",
    "  --group_type {group_type} \\\n",
    "  --util_lambda {util_lambda} \\\n",
    "\"\"\"\n",
    "\n",
    "!{cmd}\n"
   ]
  }
 ],
 "metadata": {
  "kernelspec": {
   "display_name": "al",
   "language": "python",
   "name": "python3"
  },
  "language_info": {
   "codemirror_mode": {
    "name": "ipython",
    "version": 3
   },
   "file_extension": ".py",
   "mimetype": "text/x-python",
   "name": "python",
   "nbconvert_exporter": "python",
   "pygments_lexer": "ipython3",
   "version": "3.11.11"
  }
 },
 "nbformat": 4,
 "nbformat_minor": 5
}
