{
 "cells": [
  {
   "cell_type": "code",
   "execution_count": null,
   "id": "b4d0ed43",
   "metadata": {},
   "outputs": [],
   "source": [
    "import numpy as np\n",
    "import geopandas as gpd"
   ]
  },
  {
   "cell_type": "code",
   "execution_count": null,
   "id": "1fdcd176",
   "metadata": {},
   "outputs": [],
   "source": [
    "from convenience_costs import compute_or_load_distances_to_urban, dist_to_cost, save_cost_array"
   ]
  },
  {
   "cell_type": "code",
   "execution_count": null,
   "id": "56372859",
   "metadata": {},
   "outputs": [
    {
     "name": "stdout",
     "output_type": "stream",
     "text": [
      "Computing distances to nearest urban areas using BallTree...\n",
      "Saved distances for 50652 points to ../0_data/distances/india_secc/distance_km_to_top20_urban.pkl\n",
      "Min/Max/Mean distance (m): 0.00 / 1485.51 / 299.12\n"
     ]
    },
    {
     "ename": "TypeError",
     "evalue": "dist_to_cost() missing 1 required positional argument: 'cap'",
     "output_type": "error",
     "traceback": [
      "\u001b[31m---------------------------------------------------------------------------\u001b[39m",
      "\u001b[31mTypeError\u001b[39m                                 Traceback (most recent call last)",
      "\u001b[36mCell\u001b[39m\u001b[36m \u001b[39m\u001b[32mIn[4]\u001b[39m\u001b[32m, line 13\u001b[39m\n\u001b[32m     10\u001b[39m dists = np.array([dist_dict[\u001b[38;5;28mstr\u001b[39m(i)] \u001b[38;5;28;01mfor\u001b[39;00m i \u001b[38;5;129;01min\u001b[39;00m gdf_points[\u001b[33m'\u001b[39m\u001b[33mcondensed_shrug_id\u001b[39m\u001b[33m'\u001b[39m]])\n\u001b[32m     11\u001b[39m \u001b[38;5;28mprint\u001b[39m(\u001b[33mf\u001b[39m\u001b[33m\"\u001b[39m\u001b[33mMin/Max/Mean distance (m): \u001b[39m\u001b[38;5;132;01m{\u001b[39;00mdists.min()\u001b[38;5;132;01m:\u001b[39;00m\u001b[33m.2f\u001b[39m\u001b[38;5;132;01m}\u001b[39;00m\u001b[33m / \u001b[39m\u001b[38;5;132;01m{\u001b[39;00mdists.max()\u001b[38;5;132;01m:\u001b[39;00m\u001b[33m.2f\u001b[39m\u001b[38;5;132;01m}\u001b[39;00m\u001b[33m / \u001b[39m\u001b[38;5;132;01m{\u001b[39;00mdists.mean()\u001b[38;5;132;01m:\u001b[39;00m\u001b[33m.2f\u001b[39m\u001b[38;5;132;01m}\u001b[39;00m\u001b[33m\"\u001b[39m)\n\u001b[32m---> \u001b[39m\u001b[32m13\u001b[39m costs = dist_to_cost(dists, scale=\u001b[33m'\u001b[39m\u001b[33mlinear\u001b[39m\u001b[33m'\u001b[39m, alpha=\u001b[32m0.01\u001b[39m)\n\u001b[32m     14\u001b[39m \u001b[38;5;28mprint\u001b[39m(\u001b[33mf\u001b[39m\u001b[33m\"\u001b[39m\u001b[33mCost stats -> Min: \u001b[39m\u001b[38;5;132;01m{\u001b[39;00mcosts.min()\u001b[38;5;132;01m:\u001b[39;00m\u001b[33m.4f\u001b[39m\u001b[38;5;132;01m}\u001b[39;00m\u001b[33m, Max: \u001b[39m\u001b[38;5;132;01m{\u001b[39;00mcosts.max()\u001b[38;5;132;01m:\u001b[39;00m\u001b[33m.4f\u001b[39m\u001b[38;5;132;01m}\u001b[39;00m\u001b[33m, Mean: \u001b[39m\u001b[38;5;132;01m{\u001b[39;00mcosts.mean()\u001b[38;5;132;01m:\u001b[39;00m\u001b[33m.4f\u001b[39m\u001b[38;5;132;01m}\u001b[39;00m\u001b[33m\"\u001b[39m)\n\u001b[32m     16\u001b[39m \u001b[38;5;66;03m#save\u001b[39;00m\n",
      "\u001b[31mTypeError\u001b[39m: dist_to_cost() missing 1 required positional argument: 'cap'"
     ]
    }
   ],
   "source": [
    "gdf_points = gpd.read_file(f\"/share/india_secc/MOSAIKS/train_shrugs_with_admins.geojson\")\n",
    "gdf_points = gdf_points.to_crs(\"EPSG:4326\")\n",
    "n_urban = 20\n",
    "pop_col = 'pc11_pca_tot_p_combined'\n",
    "\n",
    "gdf_urban_top = gdf_points.nlargest(n_urban, pop_col)\n",
    "\n",
    "#compute distance-based cost\n",
    "dist_dict = compute_or_load_distances_to_urban(gdf_points, gdf_urban_top, f\"../0_data/distances/india_secc/distance_km_to_top{n_urban}_urban.pkl\", id_col='condensed_shrug_id')\n",
    "dists = np.array([dist_dict[str(i)] for i in gdf_points['condensed_shrug_id']])\n",
    "print(f\"Min/Max/Mean distance (m): {dists.min():.2f} / {dists.max():.2f} / {dists.mean():.2f}\")\n",
    "\n",
    "costs = dist_to_cost(dists, cap=100000, scale='linear', alpha=0.01)\n",
    "print(f\"Cost stats -> Min: {costs.min():.4f}, Max: {costs.max():.4f}, Mean: {costs.mean():.4f}\")\n",
    "\n",
    "#save\n",
    "out_path = f\"../0_data/costs/india_secc/linear_distance_km_based_costs_top{n_urban}_urban.pkl\"\n",
    "save_cost_array(gdf_points['condensed_shrug_id'], costs, out_path)"
   ]
  }
 ],
 "metadata": {
  "kernelspec": {
   "display_name": "mosaiks",
   "language": "python",
   "name": "python3"
  },
  "language_info": {
   "codemirror_mode": {
    "name": "ipython",
    "version": 3
   },
   "file_extension": ".py",
   "mimetype": "text/x-python",
   "name": "python",
   "nbconvert_exporter": "python",
   "pygments_lexer": "ipython3",
   "version": "3.11.11"
  }
 },
 "nbformat": 4,
 "nbformat_minor": 5
}
