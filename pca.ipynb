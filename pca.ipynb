{
 "cells": [
  {
   "cell_type": "markdown",
   "metadata": {},
   "source": [
    "### Imports"
   ]
  },
  {
   "cell_type": "code",
   "execution_count": 10,
   "metadata": {},
   "outputs": [],
   "source": [
    "from os.path import basename, dirname, join\n",
    "import numpy as np\n",
    "\n",
    "from mosaiks.code.mosaiks import config as cfg\n",
    "from mosaiks.code.mosaiks.utils import io\n",
    "from mosaiks.code.mosaiks.solve import data_parser as parse\n",
    "from mosaiks.code.mosaiks.solve import solve_functions as solve\n",
    "from mosaiks.code.mosaiks.solve import interpret_results as ir\n",
    "from sklearn.decomposition import PCA\n",
    "\n",
    "from sampling import valid_set\n",
    "from oed import v_optimal_design"
   ]
  },
  {
   "cell_type": "markdown",
   "metadata": {},
   "source": [
    "### Setup\n",
    "This notebook is only running regressions for the label \"population\" for now."
   ]
  },
  {
   "cell_type": "code",
   "execution_count": 16,
   "metadata": {},
   "outputs": [],
   "source": [
    "X, latlons= io.get_X_latlon(cfg, \"UAR\")\n",
    "\n",
    "label = \"population\"\n",
    "#valid_num, valid_rows, X_df, latlons_df = valid_set(cfg, label, X, latlons)\n",
    "rule=v_optimal_design\n",
    "\n",
    "solver = solve.ridge_regression"
   ]
  },
  {
   "cell_type": "code",
   "execution_count": 18,
   "metadata": {},
   "outputs": [],
   "source": [
    "#Test all lambdas (specified in config file)\n",
    "this_lambdas = io.get_lambdas(cfg, label, best_lambda_fpath=None)\n",
    "\n",
    "c = io.get_filepaths(cfg, label)\n",
    "c_app = getattr(c, label)\n",
    "\n",
    "#Bounds from config file\n",
    "if c_app[\"logged\"]:\n",
    "    bounds = np.array([c_app[\"us_bounds_log_pred\"]])\n",
    "else:\n",
    "    bounds = np.array([c_app[\"us_bounds_pred\"]])"
   ]
  },
  {
   "cell_type": "markdown",
   "metadata": {},
   "source": [
    "### Merge and Transform Data"
   ]
  },
  {
   "cell_type": "code",
   "execution_count": 20,
   "metadata": {},
   "outputs": [
    {
     "name": "stdout",
     "output_type": "stream",
     "text": [
      "Loading labels...\n",
      "Merging labels and features...\n",
      "Splitting training/test...\n"
     ]
    }
   ],
   "source": [
    "(\n",
    "    this_X,\n",
    "    this_X_test,\n",
    "    this_Y,\n",
    "    this_Y_test,\n",
    "    this_latlons,\n",
    "    this_latlons_test,\n",
    "    this_emb,\n",
    "    this_emb_test\n",
    ") = parse.merge_dropna_transform_split_train_test(\n",
    "    c, label, X, latlons, None\n",
    ")"
   ]
  },
  {
   "cell_type": "code",
   "execution_count": 21,
   "metadata": {},
   "outputs": [],
   "source": [
    "#Make sure train is divisible by 5 for cross-validation\n",
    "n = len(this_X)\n",
    "this_X = this_X[:-(n%5)]\n",
    "this_Y = this_Y[:-(n%5)]\n",
    "this_latlons = this_latlons[:-(n%5)]"
   ]
  },
  {
   "cell_type": "markdown",
   "metadata": {},
   "source": [
    "### PCA\n",
    "\n",
    "1) Combine Train and Test (``this_X``, ``this_X_test``)\n",
    "2) Initialize PCA\n",
    "3) ``fit_transform`` to combined data\n",
    "4) Split data into train and test"
   ]
  },
  {
   "cell_type": "code",
   "execution_count": 22,
   "metadata": {},
   "outputs": [
    {
     "name": "stdout",
     "output_type": "stream",
     "text": [
      "Performing PCA...\n",
      "Number of PCA Components:  13\n"
     ]
    }
   ],
   "source": [
    "X = np.concatenate((this_X, this_X_test), axis=0)\n",
    "\n",
    "#PCA\n",
    "print(\"Performing PCA...\")\n",
    "pca = PCA(0.99)\n",
    "X_pca = pca.fit_transform(X)\n",
    "\n",
    "print(\"Number of PCA Components: \", pca.n_components_)\n",
    "\n",
    "#Separate train and test\n",
    "this_X = X_pca[:this_X.shape[0], :]\n",
    "this_X_test = X_pca[this_X.shape[0]:, :]"
   ]
  },
  {
   "cell_type": "markdown",
   "metadata": {},
   "source": [
    "### Sanity Check"
   ]
  },
  {
   "cell_type": "code",
   "execution_count": 23,
   "metadata": {},
   "outputs": [
    {
     "name": "stdout",
     "output_type": "stream",
     "text": [
      "(54340, 13)\n",
      "(13585, 13)\n"
     ]
    }
   ],
   "source": [
    "print(this_X.shape)\n",
    "print(this_X_test.shape)"
   ]
  },
  {
   "cell_type": "markdown",
   "metadata": {},
   "source": [
    "### Run Regressions"
   ]
  },
  {
   "cell_type": "code",
   "execution_count": 24,
   "metadata": {},
   "outputs": [
    {
     "name": "stdout",
     "output_type": "stream",
     "text": [
      "*** Running regressions for: population\n",
      "Training model...\n",
      "on fold (of 5): 1 2 3 4 5 \n",
      "Training time: 99.89334893226624\n",
      "Test set training time: 17.289098262786865\n",
      "R^2 score:  0.7413341635475623\n"
     ]
    }
   ],
   "source": [
    "print(\"*** Running regressions for: {label}\".format(label=label))\n",
    "\n",
    "print(\"Training model...\")\n",
    "import time\n",
    "\n",
    "st_train = time.time()\n",
    "kfold_results = solve.kfold_solve(\n",
    "    this_X,\n",
    "    this_Y,\n",
    "    solve_function=solver,\n",
    "    num_folds=c.ml_model[\"n_folds\"],\n",
    "    return_model=True,\n",
    "    lambdas=this_lambdas,\n",
    "    return_preds=True,\n",
    "    svd_solve=False,\n",
    "    clip_bounds=bounds,\n",
    ")\n",
    "print(\"\")\n",
    "\n",
    "# get timing\n",
    "training_time = time.time() - st_train\n",
    "print(\"Training time:\", training_time)\n",
    "\n",
    "## Store the metrics and the predictions from the best performing model\n",
    "best_lambda_idx, best_metrics, best_preds = ir.interpret_kfold_results(\n",
    "    kfold_results, \"r2_score\", hps=[(\"lambdas\", c_app[\"lambdas\"])]\n",
    ")\n",
    "best_lambda = this_lambdas[best_lambda_idx][0]\n",
    "\n",
    "# Get test set predictions\n",
    "st_test = time.time()\n",
    "holdout_results = solve.single_solve(\n",
    "    this_X,\n",
    "    this_X_test,\n",
    "    this_Y,\n",
    "    this_Y_test,\n",
    "    lambdas=best_lambda,\n",
    "    svd_solve=False,\n",
    "    return_preds=True,\n",
    "    return_model=False,\n",
    "    clip_bounds=bounds,\n",
    ")\n",
    "\n",
    "#Get timing\n",
    "test_time = time.time() - st_test\n",
    "print(\"Test set training time:\", test_time)\n",
    "\n",
    "print(\"R^2 score: \", holdout_results[\"metrics_test\"][0][0][0][\"r2_score\"])\n"
   ]
  }
 ],
 "metadata": {
  "kernelspec": {
   "display_name": "mosaiksenv",
   "language": "python",
   "name": "python3"
  },
  "language_info": {
   "codemirror_mode": {
    "name": "ipython",
    "version": 3
   },
   "file_extension": ".py",
   "mimetype": "text/x-python",
   "name": "python",
   "nbconvert_exporter": "python",
   "pygments_lexer": "ipython3",
   "version": "3.9.2"
  }
 },
 "nbformat": 4,
 "nbformat_minor": 2
}
