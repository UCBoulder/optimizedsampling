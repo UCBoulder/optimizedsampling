{
 "cells": [
  {
   "cell_type": "markdown",
   "id": "774d23fe",
   "metadata": {},
   "source": [
    "# Togo Active Learning Experiment Runner\n",
    "\n",
    "This notebook manages the execution of sampling experiments on the Togo soil fertility dataset.\n",
    "\n",
    "Author: Livia Betti  \n",
    "Date: July 2025"
   ]
  },
  {
   "cell_type": "markdown",
   "id": "444e0d2e",
   "metadata": {},
   "source": [
    "### To run this notebook, the following tasks should be completed:\n",
    "1. Generate relevant groups in Togo. I have generated group assignments based on regions, but if there are other representative groups that might be useful, we can generate those as well.\n",
    "2. Assign (distance-based) costs for the Convenience sampling setting"
   ]
  },
  {
   "cell_type": "markdown",
   "id": "32c8db68",
   "metadata": {},
   "source": [
    "## Imports"
   ]
  },
  {
   "cell_type": "code",
   "execution_count": 1,
   "id": "6d87ec87",
   "metadata": {},
   "outputs": [],
   "source": [
    "import subprocess\n",
    "from pathlib import Path\n",
    "\n",
    "base_dir = Path(\"/home/libe2152/optimizedsampling/3_sampling\") #replace with path to folder\n",
    "script = base_dir / \"tools\" / \"train.py\"  #adjust if needed\n",
    "cfg = base_dir / \"configs\" / \"togo\" / \"RIDGE.yaml\"  #adjust if needed"
   ]
  },
  {
   "cell_type": "markdown",
   "id": "696580ec",
   "metadata": {},
   "source": [
    "## Core config values"
   ]
  },
  {
   "cell_type": "code",
   "execution_count": null,
   "id": "88341645",
   "metadata": {},
   "outputs": [],
   "source": [
    "#static experiment parameters\n",
    "seeds = [1, 42, 123, 456, 789, 1234, 5678, 9101, 1213, 1415]\n",
    "methods = [\"random\", \"greedycost\", \"poprisk\", \"similarity\"]\n",
    "budgets = [100, 500, 1000, 5000, 10000]\n",
    "\n",
    "# Common\n",
    "init_name = \"empty_initial_set\"\n",
    "dataset = \"togo\"\n",
    "group_type = \"regions\"\n",
    "util_lambda = 0.5\n",
    "id_path = \"\"\n",
    "group_assignment_path = \"/home/libe2152/optimizedsampling/0_data/groups/togo/region_assignment.pkl\"\n"
   ]
  },
  {
   "cell_type": "markdown",
   "id": "4965479c",
   "metadata": {},
   "source": [
    "## Cost related arguments"
   ]
  },
  {
   "cell_type": "code",
   "execution_count": null,
   "id": "a2c96e66",
   "metadata": {},
   "outputs": [],
   "source": [
    "def run_setting1(seed):\n",
    "    for cost_fn in [\"uniform\", \"convenience_based\"]:\n",
    "        print(f\"Cost function: {cost_fn}, seed: {seed}\")\n",
    "        \n",
    "        for method in methods:\n",
    "            for budget in budgets:\n",
    "                cost_func = \"uniform\"\n",
    "                cost_name = cost_fn\n",
    "                unit_assignment_path = \"\"\n",
    "                unit_type = \"\"\n",
    "                points_per_unit = \"\"\n",
    "                region_assignment_path = \"\"\n",
    "                in_region_unit_cost = \"\"\n",
    "                out_of_region_unit_cost = \"\"\n",
    "\n",
    "                if cost_fn == \"convenience_based\":\n",
    "                    cost_func = \"pointwise_by_array\"\n",
    "                    cost_array_path = base_dir / \"0_data/costs/togo/convenience_costs/distance_based_costs_top1_urban.pkl\"\n",
    "\n",
    "                if method in [\"poprisk\"]:\n",
    "                    exp_name = f\"{dataset}_{init_name}_cost_{cost_name}_method_{method}_{group_type}_budget_{budget}_seed_{seed}\"\n",
    "                else:\n",
    "                    exp_name = f\"{dataset}_{init_name}_cost_{cost_name}_method_{method}_budget_{budget}_seed_{seed}\"\n",
    "\n",
    "                cmd = f\"\"\"\n",
    "python {script} \\\\\n",
    "  --cfg {cfg} \\\\\n",
    "  --exp-name {exp_name} \\\\\n",
    "  --sampling_fn {method} \\\\\n",
    "  --budget {budget} \\\\\n",
    "  --initial_set_str {init_name} \\\\\n",
    "  --id_path {id_path} \\\\\n",
    "  --seed {seed} \\\\\n",
    "  --cost_func {cost_func} \\\\\n",
    "  --cost_name {cost_name} \\\\\n",
    "  --unit_assignment_path {unit_assignment_path} \\\\\n",
    "  --unit_type {unit_type} \\\\\n",
    "  --points_per_unit {points_per_unit} \\\\\n",
    "  --region_assignment_path {region_assignment_path} \\\\\n",
    "  --in_region_unit_cost {in_region_unit_cost} \\\\\n",
    "  --out_of_region_unit_cost {out_of_region_unit_cost} \\\\\n",
    "  --group_assignment_path {group_assignment_path} \\\\\n",
    "  --group_type {group_type} \\\\\n",
    "  --util_lambda {util_lambda}\n",
    "\"\"\"\n",
    "                print(f\"Running: {exp_name}\")\n",
    "                !{cmd}\n"
   ]
  },
  {
   "cell_type": "markdown",
   "id": "6e7ca10f",
   "metadata": {},
   "source": [
    "## Method Related arguments"
   ]
  },
  {
   "cell_type": "markdown",
   "id": "41d45278",
   "metadata": {},
   "source": [
    "### args for similarity/diversity method"
   ]
  },
  {
   "cell_type": "code",
   "execution_count": 38,
   "id": "6ca9b4ff",
   "metadata": {},
   "outputs": [],
   "source": [
    "similarity_matrix_path = \"/home/libe2152/optimizedsampling/0_data/cosine_similarity/togo/cosine_similarity_train_test.npz\""
   ]
  },
  {
   "cell_type": "markdown",
   "id": "4272e4e4",
   "metadata": {},
   "source": [
    "## Run"
   ]
  },
  {
   "cell_type": "code",
   "execution_count": null,
   "id": "81e6a01b",
   "metadata": {},
   "outputs": [],
   "source": [
    "for seed in seeds:\n",
    "    run_setting1(seed)"
   ]
  }
 ],
 "metadata": {
  "kernelspec": {
   "display_name": "al",
   "language": "python",
   "name": "python3"
  },
  "language_info": {
   "codemirror_mode": {
    "name": "ipython",
    "version": 3
   },
   "file_extension": ".py",
   "mimetype": "text/x-python",
   "name": "python",
   "nbconvert_exporter": "python",
   "pygments_lexer": "ipython3",
   "version": "3.11.11"
  }
 },
 "nbformat": 4,
 "nbformat_minor": 5
}
