{
 "cells": [
  {
   "cell_type": "code",
   "execution_count": 1,
   "id": "449dbf3f",
   "metadata": {
    "execution": {
     "iopub.execute_input": "2025-07-15T15:21:10.975911Z",
     "iopub.status.busy": "2025-07-15T15:21:10.975326Z",
     "iopub.status.idle": "2025-07-15T15:21:11.266112Z",
     "shell.execute_reply": "2025-07-15T15:21:11.265551Z"
    }
   },
   "outputs": [],
   "source": [
    "import geopandas as gpd"
   ]
  },
  {
   "cell_type": "markdown",
   "id": "283b726c",
   "metadata": {},
   "source": [
    "# Cluster Sampling"
   ]
  },
  {
   "cell_type": "code",
   "execution_count": 2,
   "id": "70128e29",
   "metadata": {
    "execution": {
     "iopub.execute_input": "2025-07-15T15:21:11.269359Z",
     "iopub.status.busy": "2025-07-15T15:21:11.269039Z",
     "iopub.status.idle": "2025-07-15T15:21:11.544951Z",
     "shell.execute_reply": "2025-07-15T15:21:11.544366Z"
    }
   },
   "outputs": [],
   "source": [
    "from cluster_sampling import ClusterSampler"
   ]
  },
  {
   "cell_type": "code",
   "execution_count": 3,
   "id": "6293164f",
   "metadata": {
    "execution": {
     "iopub.execute_input": "2025-07-15T15:21:11.549170Z",
     "iopub.status.busy": "2025-07-15T15:21:11.548826Z",
     "iopub.status.idle": "2025-07-15T15:21:11.552309Z",
     "shell.execute_reply": "2025-07-15T15:21:11.551753Z"
    }
   },
   "outputs": [],
   "source": [
    "\n",
    "# ADMIN_IDS = {\n",
    "#     'pc11_s_id': 'state',\n",
    "#     'pc11_d_id': 'district',\n",
    "#     'pc11_sd_id': 'subdistrict'\n",
    "# }\n",
    "\n",
    "# data_path = \"/share/india_secc/MOSAIKS/shrugs_with_all_admins.geojson\"\n",
    "# gdf = gpd.read_file(data_path)\n",
    "\n",
    "# country_shape_file = '/home/libe2152/optimizedsampling/0_data/boundaries/world/ne_10m_admin_0_countries.shp'\n",
    "# country_name = 'India'\n",
    "\n",
    "# strata_col = 'pc11_s_id'\n",
    "# cluster_col = 'pc11_d_id'\n",
    "\n",
    "# out_path = f'/home/libe2152/optimizedsampling/0_data/initial_samples/india_secc/cluster_sampling'\n",
    "\n",
    "# sampler = ClusterSampler(gdf, id_col='condensed_shrug_id', strata_col=strata_col, cluster_col=cluster_col, ADMIN_IDS=ADMIN_IDS)\n",
    "\n",
    "# for points_per_cluster in [25]: #and 2, 5, 10\n",
    "#     sampler.cluster_col = cluster_col\n",
    "#     sampler.merge_small_strata(points_per_cluster)\n",
    "#     sampler.merge_small_clusters(points_per_cluster)\n",
    "#     for total_sample_size in [1000]:\n",
    "        \n",
    "#         for seed in [1, 42, 123, 456, 789, 1234, 5678, 9101, 1213, 1415]:\n",
    "#             try:\n",
    "#                 sampler.sample(total_sample_size, points_per_cluster, seed=seed)\n",
    "#                 sampler.save_sampled_ids(out_path)\n",
    "#                 sampler.plot(country_shape_file=country_shape_file, country_name=country_name)\n",
    "#             except Exception as e:\n",
    "#                 print(e)\n",
    "#                 from IPython import embed; embed()\n",
    "#             sampler.reset_sample()"
   ]
  },
  {
   "cell_type": "markdown",
   "id": "7bdea7e3",
   "metadata": {},
   "source": [
    "# Convenience Sampling"
   ]
  },
  {
   "cell_type": "code",
   "execution_count": 4,
   "id": "5803a1d7",
   "metadata": {
    "execution": {
     "iopub.execute_input": "2025-07-15T15:21:11.555933Z",
     "iopub.status.busy": "2025-07-15T15:21:11.555713Z",
     "iopub.status.idle": "2025-07-15T15:21:11.723669Z",
     "shell.execute_reply": "2025-07-15T15:21:11.723117Z"
    }
   },
   "outputs": [],
   "source": [
    "from convenience_sampling import ConvenienceSampler"
   ]
  },
  {
   "cell_type": "code",
   "execution_count": 5,
   "id": "fe843b25",
   "metadata": {
    "execution": {
     "iopub.execute_input": "2025-07-15T15:21:11.727616Z",
     "iopub.status.busy": "2025-07-15T15:21:11.727285Z",
     "iopub.status.idle": "2025-07-15T16:14:08.838828Z",
     "shell.execute_reply": "2025-07-15T16:14:08.838284Z"
    }
   },
   "outputs": [
    {
     "name": "stdout",
     "output_type": "stream",
     "text": [
      "Reading GeoDataFrame...\n"
     ]
    },
    {
     "name": "stdout",
     "output_type": "stream",
     "text": [
      "Initializing ConvenienceSampler...\n",
      "Loading precomputed distances from /home/libe2152/optimizedsampling/0_data/distances/india_secc/distance_to_top50_urban.pkl...\n",
      "Running probabilistic sampling...\n",
      "Saved 100 sampled IDs to /home/libe2152/optimizedsampling/0_data/initial_samples/india_secc/convenience_sampling/probabilistic/IDS_top50_urban_100_points_probabilistic_seed_1.pkl\n"
     ]
    },
    {
     "name": "stderr",
     "output_type": "stream",
     "text": [
      "/home/libe2152/optimizedsampling/2_initial_sample/convenience_sampling.py:113: UserWarning: Legend does not support handles for PatchCollection instances.\n",
      "See: https://matplotlib.org/stable/tutorials/intermediate/legend_guide.html#implementing-a-custom-legend-handler\n",
      "  ax.legend(loc='lower left', fontsize=10, title='Legend', title_fontsize=11, frameon=True)\n",
      "/home/libe2152/optimizedsampling/2_initial_sample/convenience_sampling.py:113: UserWarning: No artists with labels found to put in legend.  Note that artists whose label start with an underscore are ignored when legend() is called with no argument.\n",
      "  ax.legend(loc='lower left', fontsize=10, title='Legend', title_fontsize=11, frameon=True)\n"
     ]
    },
    {
     "name": "stdout",
     "output_type": "stream",
     "text": [
      "Saved plot to /home/libe2152/optimizedsampling/0_data/initial_samples/india_secc/convenience_sampling/plots/top50_urban_areas_100_points_probabilistic_seed_1.png\n",
      "Initializing ConvenienceSampler...\n",
      "Loading precomputed distances from /home/libe2152/optimizedsampling/0_data/distances/india_secc/distance_to_top50_urban.pkl...\n",
      "Running probabilistic sampling...\n",
      "Saved 100 sampled IDs to /home/libe2152/optimizedsampling/0_data/initial_samples/india_secc/convenience_sampling/probabilistic/IDS_top50_urban_100_points_probabilistic_seed_42.pkl\n"
     ]
    },
    {
     "name": "stderr",
     "output_type": "stream",
     "text": [
      "/home/libe2152/optimizedsampling/2_initial_sample/convenience_sampling.py:113: UserWarning: Legend does not support handles for PatchCollection instances.\n",
      "See: https://matplotlib.org/stable/tutorials/intermediate/legend_guide.html#implementing-a-custom-legend-handler\n",
      "  ax.legend(loc='lower left', fontsize=10, title='Legend', title_fontsize=11, frameon=True)\n",
      "/home/libe2152/optimizedsampling/2_initial_sample/convenience_sampling.py:113: UserWarning: No artists with labels found to put in legend.  Note that artists whose label start with an underscore are ignored when legend() is called with no argument.\n",
      "  ax.legend(loc='lower left', fontsize=10, title='Legend', title_fontsize=11, frameon=True)\n"
     ]
    },
    {
     "name": "stdout",
     "output_type": "stream",
     "text": [
      "Saved plot to /home/libe2152/optimizedsampling/0_data/initial_samples/india_secc/convenience_sampling/plots/top50_urban_areas_100_points_probabilistic_seed_42.png\n",
      "Initializing ConvenienceSampler...\n",
      "Loading precomputed distances from /home/libe2152/optimizedsampling/0_data/distances/india_secc/distance_to_top50_urban.pkl...\n",
      "Running probabilistic sampling...\n",
      "Saved 100 sampled IDs to /home/libe2152/optimizedsampling/0_data/initial_samples/india_secc/convenience_sampling/probabilistic/IDS_top50_urban_100_points_probabilistic_seed_123.pkl\n"
     ]
    },
    {
     "name": "stderr",
     "output_type": "stream",
     "text": [
      "/home/libe2152/optimizedsampling/2_initial_sample/convenience_sampling.py:113: UserWarning: Legend does not support handles for PatchCollection instances.\n",
      "See: https://matplotlib.org/stable/tutorials/intermediate/legend_guide.html#implementing-a-custom-legend-handler\n",
      "  ax.legend(loc='lower left', fontsize=10, title='Legend', title_fontsize=11, frameon=True)\n",
      "/home/libe2152/optimizedsampling/2_initial_sample/convenience_sampling.py:113: UserWarning: No artists with labels found to put in legend.  Note that artists whose label start with an underscore are ignored when legend() is called with no argument.\n",
      "  ax.legend(loc='lower left', fontsize=10, title='Legend', title_fontsize=11, frameon=True)\n"
     ]
    },
    {
     "name": "stdout",
     "output_type": "stream",
     "text": [
      "Saved plot to /home/libe2152/optimizedsampling/0_data/initial_samples/india_secc/convenience_sampling/plots/top50_urban_areas_100_points_probabilistic_seed_123.png\n",
      "Initializing ConvenienceSampler...\n",
      "Loading precomputed distances from /home/libe2152/optimizedsampling/0_data/distances/india_secc/distance_to_top50_urban.pkl...\n",
      "Running probabilistic sampling...\n",
      "Saved 100 sampled IDs to /home/libe2152/optimizedsampling/0_data/initial_samples/india_secc/convenience_sampling/probabilistic/IDS_top50_urban_100_points_probabilistic_seed_456.pkl\n"
     ]
    },
    {
     "name": "stderr",
     "output_type": "stream",
     "text": [
      "/home/libe2152/optimizedsampling/2_initial_sample/convenience_sampling.py:113: UserWarning: Legend does not support handles for PatchCollection instances.\n",
      "See: https://matplotlib.org/stable/tutorials/intermediate/legend_guide.html#implementing-a-custom-legend-handler\n",
      "  ax.legend(loc='lower left', fontsize=10, title='Legend', title_fontsize=11, frameon=True)\n",
      "/home/libe2152/optimizedsampling/2_initial_sample/convenience_sampling.py:113: UserWarning: No artists with labels found to put in legend.  Note that artists whose label start with an underscore are ignored when legend() is called with no argument.\n",
      "  ax.legend(loc='lower left', fontsize=10, title='Legend', title_fontsize=11, frameon=True)\n"
     ]
    },
    {
     "name": "stdout",
     "output_type": "stream",
     "text": [
      "Saved plot to /home/libe2152/optimizedsampling/0_data/initial_samples/india_secc/convenience_sampling/plots/top50_urban_areas_100_points_probabilistic_seed_456.png\n",
      "Initializing ConvenienceSampler...\n",
      "Loading precomputed distances from /home/libe2152/optimizedsampling/0_data/distances/india_secc/distance_to_top50_urban.pkl...\n",
      "Running probabilistic sampling...\n",
      "Saved 100 sampled IDs to /home/libe2152/optimizedsampling/0_data/initial_samples/india_secc/convenience_sampling/probabilistic/IDS_top50_urban_100_points_probabilistic_seed_789.pkl\n"
     ]
    },
    {
     "name": "stderr",
     "output_type": "stream",
     "text": [
      "/home/libe2152/optimizedsampling/2_initial_sample/convenience_sampling.py:113: UserWarning: Legend does not support handles for PatchCollection instances.\n",
      "See: https://matplotlib.org/stable/tutorials/intermediate/legend_guide.html#implementing-a-custom-legend-handler\n",
      "  ax.legend(loc='lower left', fontsize=10, title='Legend', title_fontsize=11, frameon=True)\n",
      "/home/libe2152/optimizedsampling/2_initial_sample/convenience_sampling.py:113: UserWarning: No artists with labels found to put in legend.  Note that artists whose label start with an underscore are ignored when legend() is called with no argument.\n",
      "  ax.legend(loc='lower left', fontsize=10, title='Legend', title_fontsize=11, frameon=True)\n"
     ]
    },
    {
     "name": "stdout",
     "output_type": "stream",
     "text": [
      "Saved plot to /home/libe2152/optimizedsampling/0_data/initial_samples/india_secc/convenience_sampling/plots/top50_urban_areas_100_points_probabilistic_seed_789.png\n",
      "Initializing ConvenienceSampler...\n",
      "Loading precomputed distances from /home/libe2152/optimizedsampling/0_data/distances/india_secc/distance_to_top50_urban.pkl...\n",
      "Running probabilistic sampling...\n",
      "Saved 100 sampled IDs to /home/libe2152/optimizedsampling/0_data/initial_samples/india_secc/convenience_sampling/probabilistic/IDS_top50_urban_100_points_probabilistic_seed_1234.pkl\n"
     ]
    },
    {
     "name": "stderr",
     "output_type": "stream",
     "text": [
      "/home/libe2152/optimizedsampling/2_initial_sample/convenience_sampling.py:113: UserWarning: Legend does not support handles for PatchCollection instances.\n",
      "See: https://matplotlib.org/stable/tutorials/intermediate/legend_guide.html#implementing-a-custom-legend-handler\n",
      "  ax.legend(loc='lower left', fontsize=10, title='Legend', title_fontsize=11, frameon=True)\n",
      "/home/libe2152/optimizedsampling/2_initial_sample/convenience_sampling.py:113: UserWarning: No artists with labels found to put in legend.  Note that artists whose label start with an underscore are ignored when legend() is called with no argument.\n",
      "  ax.legend(loc='lower left', fontsize=10, title='Legend', title_fontsize=11, frameon=True)\n"
     ]
    },
    {
     "name": "stdout",
     "output_type": "stream",
     "text": [
      "Saved plot to /home/libe2152/optimizedsampling/0_data/initial_samples/india_secc/convenience_sampling/plots/top50_urban_areas_100_points_probabilistic_seed_1234.png\n",
      "Initializing ConvenienceSampler...\n",
      "Loading precomputed distances from /home/libe2152/optimizedsampling/0_data/distances/india_secc/distance_to_top50_urban.pkl...\n",
      "Running probabilistic sampling...\n",
      "Saved 100 sampled IDs to /home/libe2152/optimizedsampling/0_data/initial_samples/india_secc/convenience_sampling/probabilistic/IDS_top50_urban_100_points_probabilistic_seed_5678.pkl\n"
     ]
    },
    {
     "name": "stderr",
     "output_type": "stream",
     "text": [
      "/home/libe2152/optimizedsampling/2_initial_sample/convenience_sampling.py:113: UserWarning: Legend does not support handles for PatchCollection instances.\n",
      "See: https://matplotlib.org/stable/tutorials/intermediate/legend_guide.html#implementing-a-custom-legend-handler\n",
      "  ax.legend(loc='lower left', fontsize=10, title='Legend', title_fontsize=11, frameon=True)\n",
      "/home/libe2152/optimizedsampling/2_initial_sample/convenience_sampling.py:113: UserWarning: No artists with labels found to put in legend.  Note that artists whose label start with an underscore are ignored when legend() is called with no argument.\n",
      "  ax.legend(loc='lower left', fontsize=10, title='Legend', title_fontsize=11, frameon=True)\n"
     ]
    },
    {
     "name": "stdout",
     "output_type": "stream",
     "text": [
      "Saved plot to /home/libe2152/optimizedsampling/0_data/initial_samples/india_secc/convenience_sampling/plots/top50_urban_areas_100_points_probabilistic_seed_5678.png\n",
      "Initializing ConvenienceSampler...\n",
      "Loading precomputed distances from /home/libe2152/optimizedsampling/0_data/distances/india_secc/distance_to_top50_urban.pkl...\n",
      "Running probabilistic sampling...\n",
      "Saved 100 sampled IDs to /home/libe2152/optimizedsampling/0_data/initial_samples/india_secc/convenience_sampling/probabilistic/IDS_top50_urban_100_points_probabilistic_seed_9101.pkl\n"
     ]
    },
    {
     "name": "stderr",
     "output_type": "stream",
     "text": [
      "/home/libe2152/optimizedsampling/2_initial_sample/convenience_sampling.py:113: UserWarning: Legend does not support handles for PatchCollection instances.\n",
      "See: https://matplotlib.org/stable/tutorials/intermediate/legend_guide.html#implementing-a-custom-legend-handler\n",
      "  ax.legend(loc='lower left', fontsize=10, title='Legend', title_fontsize=11, frameon=True)\n",
      "/home/libe2152/optimizedsampling/2_initial_sample/convenience_sampling.py:113: UserWarning: No artists with labels found to put in legend.  Note that artists whose label start with an underscore are ignored when legend() is called with no argument.\n",
      "  ax.legend(loc='lower left', fontsize=10, title='Legend', title_fontsize=11, frameon=True)\n"
     ]
    },
    {
     "name": "stdout",
     "output_type": "stream",
     "text": [
      "Saved plot to /home/libe2152/optimizedsampling/0_data/initial_samples/india_secc/convenience_sampling/plots/top50_urban_areas_100_points_probabilistic_seed_9101.png\n",
      "Initializing ConvenienceSampler...\n",
      "Loading precomputed distances from /home/libe2152/optimizedsampling/0_data/distances/india_secc/distance_to_top50_urban.pkl...\n",
      "Running probabilistic sampling...\n",
      "Saved 100 sampled IDs to /home/libe2152/optimizedsampling/0_data/initial_samples/india_secc/convenience_sampling/probabilistic/IDS_top50_urban_100_points_probabilistic_seed_1213.pkl\n"
     ]
    },
    {
     "name": "stderr",
     "output_type": "stream",
     "text": [
      "/home/libe2152/optimizedsampling/2_initial_sample/convenience_sampling.py:113: UserWarning: Legend does not support handles for PatchCollection instances.\n",
      "See: https://matplotlib.org/stable/tutorials/intermediate/legend_guide.html#implementing-a-custom-legend-handler\n",
      "  ax.legend(loc='lower left', fontsize=10, title='Legend', title_fontsize=11, frameon=True)\n",
      "/home/libe2152/optimizedsampling/2_initial_sample/convenience_sampling.py:113: UserWarning: No artists with labels found to put in legend.  Note that artists whose label start with an underscore are ignored when legend() is called with no argument.\n",
      "  ax.legend(loc='lower left', fontsize=10, title='Legend', title_fontsize=11, frameon=True)\n"
     ]
    },
    {
     "name": "stdout",
     "output_type": "stream",
     "text": [
      "Saved plot to /home/libe2152/optimizedsampling/0_data/initial_samples/india_secc/convenience_sampling/plots/top50_urban_areas_100_points_probabilistic_seed_1213.png\n",
      "Initializing ConvenienceSampler...\n",
      "Loading precomputed distances from /home/libe2152/optimizedsampling/0_data/distances/india_secc/distance_to_top50_urban.pkl...\n",
      "Running probabilistic sampling...\n",
      "Saved 100 sampled IDs to /home/libe2152/optimizedsampling/0_data/initial_samples/india_secc/convenience_sampling/probabilistic/IDS_top50_urban_100_points_probabilistic_seed_1415.pkl\n"
     ]
    },
    {
     "name": "stderr",
     "output_type": "stream",
     "text": [
      "/home/libe2152/optimizedsampling/2_initial_sample/convenience_sampling.py:113: UserWarning: Legend does not support handles for PatchCollection instances.\n",
      "See: https://matplotlib.org/stable/tutorials/intermediate/legend_guide.html#implementing-a-custom-legend-handler\n",
      "  ax.legend(loc='lower left', fontsize=10, title='Legend', title_fontsize=11, frameon=True)\n",
      "/home/libe2152/optimizedsampling/2_initial_sample/convenience_sampling.py:113: UserWarning: No artists with labels found to put in legend.  Note that artists whose label start with an underscore are ignored when legend() is called with no argument.\n",
      "  ax.legend(loc='lower left', fontsize=10, title='Legend', title_fontsize=11, frameon=True)\n"
     ]
    },
    {
     "name": "stdout",
     "output_type": "stream",
     "text": [
      "Saved plot to /home/libe2152/optimizedsampling/0_data/initial_samples/india_secc/convenience_sampling/plots/top50_urban_areas_100_points_probabilistic_seed_1415.png\n",
      "Initializing ConvenienceSampler...\n",
      "Loading precomputed distances from /home/libe2152/optimizedsampling/0_data/distances/india_secc/distance_to_top50_urban.pkl...\n",
      "Running probabilistic sampling...\n",
      "Saved 200 sampled IDs to /home/libe2152/optimizedsampling/0_data/initial_samples/india_secc/convenience_sampling/probabilistic/IDS_top50_urban_200_points_probabilistic_seed_1.pkl\n"
     ]
    },
    {
     "name": "stderr",
     "output_type": "stream",
     "text": [
      "/home/libe2152/optimizedsampling/2_initial_sample/convenience_sampling.py:113: UserWarning: Legend does not support handles for PatchCollection instances.\n",
      "See: https://matplotlib.org/stable/tutorials/intermediate/legend_guide.html#implementing-a-custom-legend-handler\n",
      "  ax.legend(loc='lower left', fontsize=10, title='Legend', title_fontsize=11, frameon=True)\n",
      "/home/libe2152/optimizedsampling/2_initial_sample/convenience_sampling.py:113: UserWarning: No artists with labels found to put in legend.  Note that artists whose label start with an underscore are ignored when legend() is called with no argument.\n",
      "  ax.legend(loc='lower left', fontsize=10, title='Legend', title_fontsize=11, frameon=True)\n"
     ]
    },
    {
     "name": "stdout",
     "output_type": "stream",
     "text": [
      "Saved plot to /home/libe2152/optimizedsampling/0_data/initial_samples/india_secc/convenience_sampling/plots/top50_urban_areas_200_points_probabilistic_seed_1.png\n",
      "Initializing ConvenienceSampler...\n",
      "Loading precomputed distances from /home/libe2152/optimizedsampling/0_data/distances/india_secc/distance_to_top50_urban.pkl...\n",
      "Running probabilistic sampling...\n",
      "Saved 200 sampled IDs to /home/libe2152/optimizedsampling/0_data/initial_samples/india_secc/convenience_sampling/probabilistic/IDS_top50_urban_200_points_probabilistic_seed_42.pkl\n"
     ]
    },
    {
     "name": "stderr",
     "output_type": "stream",
     "text": [
      "/home/libe2152/optimizedsampling/2_initial_sample/convenience_sampling.py:113: UserWarning: Legend does not support handles for PatchCollection instances.\n",
      "See: https://matplotlib.org/stable/tutorials/intermediate/legend_guide.html#implementing-a-custom-legend-handler\n",
      "  ax.legend(loc='lower left', fontsize=10, title='Legend', title_fontsize=11, frameon=True)\n",
      "/home/libe2152/optimizedsampling/2_initial_sample/convenience_sampling.py:113: UserWarning: No artists with labels found to put in legend.  Note that artists whose label start with an underscore are ignored when legend() is called with no argument.\n",
      "  ax.legend(loc='lower left', fontsize=10, title='Legend', title_fontsize=11, frameon=True)\n"
     ]
    },
    {
     "name": "stdout",
     "output_type": "stream",
     "text": [
      "Saved plot to /home/libe2152/optimizedsampling/0_data/initial_samples/india_secc/convenience_sampling/plots/top50_urban_areas_200_points_probabilistic_seed_42.png\n",
      "Initializing ConvenienceSampler...\n",
      "Loading precomputed distances from /home/libe2152/optimizedsampling/0_data/distances/india_secc/distance_to_top50_urban.pkl...\n",
      "Running probabilistic sampling...\n",
      "Saved 200 sampled IDs to /home/libe2152/optimizedsampling/0_data/initial_samples/india_secc/convenience_sampling/probabilistic/IDS_top50_urban_200_points_probabilistic_seed_123.pkl\n"
     ]
    },
    {
     "name": "stderr",
     "output_type": "stream",
     "text": [
      "/home/libe2152/optimizedsampling/2_initial_sample/convenience_sampling.py:113: UserWarning: Legend does not support handles for PatchCollection instances.\n",
      "See: https://matplotlib.org/stable/tutorials/intermediate/legend_guide.html#implementing-a-custom-legend-handler\n",
      "  ax.legend(loc='lower left', fontsize=10, title='Legend', title_fontsize=11, frameon=True)\n",
      "/home/libe2152/optimizedsampling/2_initial_sample/convenience_sampling.py:113: UserWarning: No artists with labels found to put in legend.  Note that artists whose label start with an underscore are ignored when legend() is called with no argument.\n",
      "  ax.legend(loc='lower left', fontsize=10, title='Legend', title_fontsize=11, frameon=True)\n"
     ]
    },
    {
     "name": "stdout",
     "output_type": "stream",
     "text": [
      "Saved plot to /home/libe2152/optimizedsampling/0_data/initial_samples/india_secc/convenience_sampling/plots/top50_urban_areas_200_points_probabilistic_seed_123.png\n",
      "Initializing ConvenienceSampler...\n",
      "Loading precomputed distances from /home/libe2152/optimizedsampling/0_data/distances/india_secc/distance_to_top50_urban.pkl...\n",
      "Running probabilistic sampling...\n",
      "Saved 200 sampled IDs to /home/libe2152/optimizedsampling/0_data/initial_samples/india_secc/convenience_sampling/probabilistic/IDS_top50_urban_200_points_probabilistic_seed_456.pkl\n"
     ]
    },
    {
     "name": "stderr",
     "output_type": "stream",
     "text": [
      "/home/libe2152/optimizedsampling/2_initial_sample/convenience_sampling.py:113: UserWarning: Legend does not support handles for PatchCollection instances.\n",
      "See: https://matplotlib.org/stable/tutorials/intermediate/legend_guide.html#implementing-a-custom-legend-handler\n",
      "  ax.legend(loc='lower left', fontsize=10, title='Legend', title_fontsize=11, frameon=True)\n",
      "/home/libe2152/optimizedsampling/2_initial_sample/convenience_sampling.py:113: UserWarning: No artists with labels found to put in legend.  Note that artists whose label start with an underscore are ignored when legend() is called with no argument.\n",
      "  ax.legend(loc='lower left', fontsize=10, title='Legend', title_fontsize=11, frameon=True)\n"
     ]
    },
    {
     "name": "stdout",
     "output_type": "stream",
     "text": [
      "Saved plot to /home/libe2152/optimizedsampling/0_data/initial_samples/india_secc/convenience_sampling/plots/top50_urban_areas_200_points_probabilistic_seed_456.png\n",
      "Initializing ConvenienceSampler...\n",
      "Loading precomputed distances from /home/libe2152/optimizedsampling/0_data/distances/india_secc/distance_to_top50_urban.pkl...\n",
      "Running probabilistic sampling...\n",
      "Saved 200 sampled IDs to /home/libe2152/optimizedsampling/0_data/initial_samples/india_secc/convenience_sampling/probabilistic/IDS_top50_urban_200_points_probabilistic_seed_789.pkl\n"
     ]
    },
    {
     "name": "stderr",
     "output_type": "stream",
     "text": [
      "/home/libe2152/optimizedsampling/2_initial_sample/convenience_sampling.py:113: UserWarning: Legend does not support handles for PatchCollection instances.\n",
      "See: https://matplotlib.org/stable/tutorials/intermediate/legend_guide.html#implementing-a-custom-legend-handler\n",
      "  ax.legend(loc='lower left', fontsize=10, title='Legend', title_fontsize=11, frameon=True)\n",
      "/home/libe2152/optimizedsampling/2_initial_sample/convenience_sampling.py:113: UserWarning: No artists with labels found to put in legend.  Note that artists whose label start with an underscore are ignored when legend() is called with no argument.\n",
      "  ax.legend(loc='lower left', fontsize=10, title='Legend', title_fontsize=11, frameon=True)\n"
     ]
    },
    {
     "name": "stdout",
     "output_type": "stream",
     "text": [
      "Saved plot to /home/libe2152/optimizedsampling/0_data/initial_samples/india_secc/convenience_sampling/plots/top50_urban_areas_200_points_probabilistic_seed_789.png\n",
      "Initializing ConvenienceSampler...\n",
      "Loading precomputed distances from /home/libe2152/optimizedsampling/0_data/distances/india_secc/distance_to_top50_urban.pkl...\n",
      "Running probabilistic sampling...\n",
      "Saved 200 sampled IDs to /home/libe2152/optimizedsampling/0_data/initial_samples/india_secc/convenience_sampling/probabilistic/IDS_top50_urban_200_points_probabilistic_seed_1234.pkl\n"
     ]
    },
    {
     "name": "stderr",
     "output_type": "stream",
     "text": [
      "/home/libe2152/optimizedsampling/2_initial_sample/convenience_sampling.py:113: UserWarning: Legend does not support handles for PatchCollection instances.\n",
      "See: https://matplotlib.org/stable/tutorials/intermediate/legend_guide.html#implementing-a-custom-legend-handler\n",
      "  ax.legend(loc='lower left', fontsize=10, title='Legend', title_fontsize=11, frameon=True)\n",
      "/home/libe2152/optimizedsampling/2_initial_sample/convenience_sampling.py:113: UserWarning: No artists with labels found to put in legend.  Note that artists whose label start with an underscore are ignored when legend() is called with no argument.\n",
      "  ax.legend(loc='lower left', fontsize=10, title='Legend', title_fontsize=11, frameon=True)\n"
     ]
    },
    {
     "name": "stdout",
     "output_type": "stream",
     "text": [
      "Saved plot to /home/libe2152/optimizedsampling/0_data/initial_samples/india_secc/convenience_sampling/plots/top50_urban_areas_200_points_probabilistic_seed_1234.png\n",
      "Initializing ConvenienceSampler...\n",
      "Loading precomputed distances from /home/libe2152/optimizedsampling/0_data/distances/india_secc/distance_to_top50_urban.pkl...\n",
      "Running probabilistic sampling...\n",
      "Saved 200 sampled IDs to /home/libe2152/optimizedsampling/0_data/initial_samples/india_secc/convenience_sampling/probabilistic/IDS_top50_urban_200_points_probabilistic_seed_5678.pkl\n"
     ]
    },
    {
     "name": "stderr",
     "output_type": "stream",
     "text": [
      "/home/libe2152/optimizedsampling/2_initial_sample/convenience_sampling.py:113: UserWarning: Legend does not support handles for PatchCollection instances.\n",
      "See: https://matplotlib.org/stable/tutorials/intermediate/legend_guide.html#implementing-a-custom-legend-handler\n",
      "  ax.legend(loc='lower left', fontsize=10, title='Legend', title_fontsize=11, frameon=True)\n",
      "/home/libe2152/optimizedsampling/2_initial_sample/convenience_sampling.py:113: UserWarning: No artists with labels found to put in legend.  Note that artists whose label start with an underscore are ignored when legend() is called with no argument.\n",
      "  ax.legend(loc='lower left', fontsize=10, title='Legend', title_fontsize=11, frameon=True)\n"
     ]
    },
    {
     "name": "stdout",
     "output_type": "stream",
     "text": [
      "Saved plot to /home/libe2152/optimizedsampling/0_data/initial_samples/india_secc/convenience_sampling/plots/top50_urban_areas_200_points_probabilistic_seed_5678.png\n",
      "Initializing ConvenienceSampler...\n",
      "Loading precomputed distances from /home/libe2152/optimizedsampling/0_data/distances/india_secc/distance_to_top50_urban.pkl...\n",
      "Running probabilistic sampling...\n",
      "Saved 200 sampled IDs to /home/libe2152/optimizedsampling/0_data/initial_samples/india_secc/convenience_sampling/probabilistic/IDS_top50_urban_200_points_probabilistic_seed_9101.pkl\n"
     ]
    },
    {
     "name": "stderr",
     "output_type": "stream",
     "text": [
      "/home/libe2152/optimizedsampling/2_initial_sample/convenience_sampling.py:113: UserWarning: Legend does not support handles for PatchCollection instances.\n",
      "See: https://matplotlib.org/stable/tutorials/intermediate/legend_guide.html#implementing-a-custom-legend-handler\n",
      "  ax.legend(loc='lower left', fontsize=10, title='Legend', title_fontsize=11, frameon=True)\n",
      "/home/libe2152/optimizedsampling/2_initial_sample/convenience_sampling.py:113: UserWarning: No artists with labels found to put in legend.  Note that artists whose label start with an underscore are ignored when legend() is called with no argument.\n",
      "  ax.legend(loc='lower left', fontsize=10, title='Legend', title_fontsize=11, frameon=True)\n"
     ]
    },
    {
     "name": "stdout",
     "output_type": "stream",
     "text": [
      "Saved plot to /home/libe2152/optimizedsampling/0_data/initial_samples/india_secc/convenience_sampling/plots/top50_urban_areas_200_points_probabilistic_seed_9101.png\n",
      "Initializing ConvenienceSampler...\n",
      "Loading precomputed distances from /home/libe2152/optimizedsampling/0_data/distances/india_secc/distance_to_top50_urban.pkl...\n",
      "Running probabilistic sampling...\n",
      "Saved 200 sampled IDs to /home/libe2152/optimizedsampling/0_data/initial_samples/india_secc/convenience_sampling/probabilistic/IDS_top50_urban_200_points_probabilistic_seed_1213.pkl\n"
     ]
    },
    {
     "name": "stderr",
     "output_type": "stream",
     "text": [
      "/home/libe2152/optimizedsampling/2_initial_sample/convenience_sampling.py:113: UserWarning: Legend does not support handles for PatchCollection instances.\n",
      "See: https://matplotlib.org/stable/tutorials/intermediate/legend_guide.html#implementing-a-custom-legend-handler\n",
      "  ax.legend(loc='lower left', fontsize=10, title='Legend', title_fontsize=11, frameon=True)\n",
      "/home/libe2152/optimizedsampling/2_initial_sample/convenience_sampling.py:113: UserWarning: No artists with labels found to put in legend.  Note that artists whose label start with an underscore are ignored when legend() is called with no argument.\n",
      "  ax.legend(loc='lower left', fontsize=10, title='Legend', title_fontsize=11, frameon=True)\n"
     ]
    },
    {
     "name": "stdout",
     "output_type": "stream",
     "text": [
      "Saved plot to /home/libe2152/optimizedsampling/0_data/initial_samples/india_secc/convenience_sampling/plots/top50_urban_areas_200_points_probabilistic_seed_1213.png\n",
      "Initializing ConvenienceSampler...\n",
      "Loading precomputed distances from /home/libe2152/optimizedsampling/0_data/distances/india_secc/distance_to_top50_urban.pkl...\n",
      "Running probabilistic sampling...\n",
      "Saved 200 sampled IDs to /home/libe2152/optimizedsampling/0_data/initial_samples/india_secc/convenience_sampling/probabilistic/IDS_top50_urban_200_points_probabilistic_seed_1415.pkl\n"
     ]
    },
    {
     "name": "stderr",
     "output_type": "stream",
     "text": [
      "/home/libe2152/optimizedsampling/2_initial_sample/convenience_sampling.py:113: UserWarning: Legend does not support handles for PatchCollection instances.\n",
      "See: https://matplotlib.org/stable/tutorials/intermediate/legend_guide.html#implementing-a-custom-legend-handler\n",
      "  ax.legend(loc='lower left', fontsize=10, title='Legend', title_fontsize=11, frameon=True)\n",
      "/home/libe2152/optimizedsampling/2_initial_sample/convenience_sampling.py:113: UserWarning: No artists with labels found to put in legend.  Note that artists whose label start with an underscore are ignored when legend() is called with no argument.\n",
      "  ax.legend(loc='lower left', fontsize=10, title='Legend', title_fontsize=11, frameon=True)\n"
     ]
    },
    {
     "name": "stdout",
     "output_type": "stream",
     "text": [
      "Saved plot to /home/libe2152/optimizedsampling/0_data/initial_samples/india_secc/convenience_sampling/plots/top50_urban_areas_200_points_probabilistic_seed_1415.png\n",
      "Initializing ConvenienceSampler...\n",
      "Loading precomputed distances from /home/libe2152/optimizedsampling/0_data/distances/india_secc/distance_to_top50_urban.pkl...\n",
      "Running probabilistic sampling...\n",
      "Saved 300 sampled IDs to /home/libe2152/optimizedsampling/0_data/initial_samples/india_secc/convenience_sampling/probabilistic/IDS_top50_urban_300_points_probabilistic_seed_1.pkl\n"
     ]
    },
    {
     "name": "stderr",
     "output_type": "stream",
     "text": [
      "/home/libe2152/optimizedsampling/2_initial_sample/convenience_sampling.py:113: UserWarning: Legend does not support handles for PatchCollection instances.\n",
      "See: https://matplotlib.org/stable/tutorials/intermediate/legend_guide.html#implementing-a-custom-legend-handler\n",
      "  ax.legend(loc='lower left', fontsize=10, title='Legend', title_fontsize=11, frameon=True)\n",
      "/home/libe2152/optimizedsampling/2_initial_sample/convenience_sampling.py:113: UserWarning: No artists with labels found to put in legend.  Note that artists whose label start with an underscore are ignored when legend() is called with no argument.\n",
      "  ax.legend(loc='lower left', fontsize=10, title='Legend', title_fontsize=11, frameon=True)\n"
     ]
    },
    {
     "name": "stdout",
     "output_type": "stream",
     "text": [
      "Saved plot to /home/libe2152/optimizedsampling/0_data/initial_samples/india_secc/convenience_sampling/plots/top50_urban_areas_300_points_probabilistic_seed_1.png\n",
      "Initializing ConvenienceSampler...\n",
      "Loading precomputed distances from /home/libe2152/optimizedsampling/0_data/distances/india_secc/distance_to_top50_urban.pkl...\n",
      "Running probabilistic sampling...\n",
      "Saved 300 sampled IDs to /home/libe2152/optimizedsampling/0_data/initial_samples/india_secc/convenience_sampling/probabilistic/IDS_top50_urban_300_points_probabilistic_seed_42.pkl\n"
     ]
    },
    {
     "name": "stderr",
     "output_type": "stream",
     "text": [
      "/home/libe2152/optimizedsampling/2_initial_sample/convenience_sampling.py:113: UserWarning: Legend does not support handles for PatchCollection instances.\n",
      "See: https://matplotlib.org/stable/tutorials/intermediate/legend_guide.html#implementing-a-custom-legend-handler\n",
      "  ax.legend(loc='lower left', fontsize=10, title='Legend', title_fontsize=11, frameon=True)\n",
      "/home/libe2152/optimizedsampling/2_initial_sample/convenience_sampling.py:113: UserWarning: No artists with labels found to put in legend.  Note that artists whose label start with an underscore are ignored when legend() is called with no argument.\n",
      "  ax.legend(loc='lower left', fontsize=10, title='Legend', title_fontsize=11, frameon=True)\n"
     ]
    },
    {
     "name": "stdout",
     "output_type": "stream",
     "text": [
      "Saved plot to /home/libe2152/optimizedsampling/0_data/initial_samples/india_secc/convenience_sampling/plots/top50_urban_areas_300_points_probabilistic_seed_42.png\n",
      "Initializing ConvenienceSampler...\n",
      "Loading precomputed distances from /home/libe2152/optimizedsampling/0_data/distances/india_secc/distance_to_top50_urban.pkl...\n",
      "Running probabilistic sampling...\n",
      "Saved 300 sampled IDs to /home/libe2152/optimizedsampling/0_data/initial_samples/india_secc/convenience_sampling/probabilistic/IDS_top50_urban_300_points_probabilistic_seed_123.pkl\n"
     ]
    },
    {
     "name": "stderr",
     "output_type": "stream",
     "text": [
      "/home/libe2152/optimizedsampling/2_initial_sample/convenience_sampling.py:113: UserWarning: Legend does not support handles for PatchCollection instances.\n",
      "See: https://matplotlib.org/stable/tutorials/intermediate/legend_guide.html#implementing-a-custom-legend-handler\n",
      "  ax.legend(loc='lower left', fontsize=10, title='Legend', title_fontsize=11, frameon=True)\n",
      "/home/libe2152/optimizedsampling/2_initial_sample/convenience_sampling.py:113: UserWarning: No artists with labels found to put in legend.  Note that artists whose label start with an underscore are ignored when legend() is called with no argument.\n",
      "  ax.legend(loc='lower left', fontsize=10, title='Legend', title_fontsize=11, frameon=True)\n"
     ]
    },
    {
     "name": "stdout",
     "output_type": "stream",
     "text": [
      "Saved plot to /home/libe2152/optimizedsampling/0_data/initial_samples/india_secc/convenience_sampling/plots/top50_urban_areas_300_points_probabilistic_seed_123.png\n",
      "Initializing ConvenienceSampler...\n",
      "Loading precomputed distances from /home/libe2152/optimizedsampling/0_data/distances/india_secc/distance_to_top50_urban.pkl...\n",
      "Running probabilistic sampling...\n",
      "Saved 300 sampled IDs to /home/libe2152/optimizedsampling/0_data/initial_samples/india_secc/convenience_sampling/probabilistic/IDS_top50_urban_300_points_probabilistic_seed_456.pkl\n"
     ]
    },
    {
     "name": "stderr",
     "output_type": "stream",
     "text": [
      "/home/libe2152/optimizedsampling/2_initial_sample/convenience_sampling.py:113: UserWarning: Legend does not support handles for PatchCollection instances.\n",
      "See: https://matplotlib.org/stable/tutorials/intermediate/legend_guide.html#implementing-a-custom-legend-handler\n",
      "  ax.legend(loc='lower left', fontsize=10, title='Legend', title_fontsize=11, frameon=True)\n",
      "/home/libe2152/optimizedsampling/2_initial_sample/convenience_sampling.py:113: UserWarning: No artists with labels found to put in legend.  Note that artists whose label start with an underscore are ignored when legend() is called with no argument.\n",
      "  ax.legend(loc='lower left', fontsize=10, title='Legend', title_fontsize=11, frameon=True)\n"
     ]
    },
    {
     "name": "stdout",
     "output_type": "stream",
     "text": [
      "Saved plot to /home/libe2152/optimizedsampling/0_data/initial_samples/india_secc/convenience_sampling/plots/top50_urban_areas_300_points_probabilistic_seed_456.png\n",
      "Initializing ConvenienceSampler...\n",
      "Loading precomputed distances from /home/libe2152/optimizedsampling/0_data/distances/india_secc/distance_to_top50_urban.pkl...\n",
      "Running probabilistic sampling...\n",
      "Saved 300 sampled IDs to /home/libe2152/optimizedsampling/0_data/initial_samples/india_secc/convenience_sampling/probabilistic/IDS_top50_urban_300_points_probabilistic_seed_789.pkl\n"
     ]
    },
    {
     "name": "stderr",
     "output_type": "stream",
     "text": [
      "/home/libe2152/optimizedsampling/2_initial_sample/convenience_sampling.py:113: UserWarning: Legend does not support handles for PatchCollection instances.\n",
      "See: https://matplotlib.org/stable/tutorials/intermediate/legend_guide.html#implementing-a-custom-legend-handler\n",
      "  ax.legend(loc='lower left', fontsize=10, title='Legend', title_fontsize=11, frameon=True)\n",
      "/home/libe2152/optimizedsampling/2_initial_sample/convenience_sampling.py:113: UserWarning: No artists with labels found to put in legend.  Note that artists whose label start with an underscore are ignored when legend() is called with no argument.\n",
      "  ax.legend(loc='lower left', fontsize=10, title='Legend', title_fontsize=11, frameon=True)\n"
     ]
    },
    {
     "name": "stdout",
     "output_type": "stream",
     "text": [
      "Saved plot to /home/libe2152/optimizedsampling/0_data/initial_samples/india_secc/convenience_sampling/plots/top50_urban_areas_300_points_probabilistic_seed_789.png\n",
      "Initializing ConvenienceSampler...\n",
      "Loading precomputed distances from /home/libe2152/optimizedsampling/0_data/distances/india_secc/distance_to_top50_urban.pkl...\n",
      "Running probabilistic sampling...\n",
      "Saved 300 sampled IDs to /home/libe2152/optimizedsampling/0_data/initial_samples/india_secc/convenience_sampling/probabilistic/IDS_top50_urban_300_points_probabilistic_seed_1234.pkl\n"
     ]
    },
    {
     "name": "stderr",
     "output_type": "stream",
     "text": [
      "/home/libe2152/optimizedsampling/2_initial_sample/convenience_sampling.py:113: UserWarning: Legend does not support handles for PatchCollection instances.\n",
      "See: https://matplotlib.org/stable/tutorials/intermediate/legend_guide.html#implementing-a-custom-legend-handler\n",
      "  ax.legend(loc='lower left', fontsize=10, title='Legend', title_fontsize=11, frameon=True)\n",
      "/home/libe2152/optimizedsampling/2_initial_sample/convenience_sampling.py:113: UserWarning: No artists with labels found to put in legend.  Note that artists whose label start with an underscore are ignored when legend() is called with no argument.\n",
      "  ax.legend(loc='lower left', fontsize=10, title='Legend', title_fontsize=11, frameon=True)\n"
     ]
    },
    {
     "name": "stdout",
     "output_type": "stream",
     "text": [
      "Saved plot to /home/libe2152/optimizedsampling/0_data/initial_samples/india_secc/convenience_sampling/plots/top50_urban_areas_300_points_probabilistic_seed_1234.png\n",
      "Initializing ConvenienceSampler...\n",
      "Loading precomputed distances from /home/libe2152/optimizedsampling/0_data/distances/india_secc/distance_to_top50_urban.pkl...\n",
      "Running probabilistic sampling...\n",
      "Saved 300 sampled IDs to /home/libe2152/optimizedsampling/0_data/initial_samples/india_secc/convenience_sampling/probabilistic/IDS_top50_urban_300_points_probabilistic_seed_5678.pkl\n"
     ]
    },
    {
     "name": "stderr",
     "output_type": "stream",
     "text": [
      "/home/libe2152/optimizedsampling/2_initial_sample/convenience_sampling.py:113: UserWarning: Legend does not support handles for PatchCollection instances.\n",
      "See: https://matplotlib.org/stable/tutorials/intermediate/legend_guide.html#implementing-a-custom-legend-handler\n",
      "  ax.legend(loc='lower left', fontsize=10, title='Legend', title_fontsize=11, frameon=True)\n",
      "/home/libe2152/optimizedsampling/2_initial_sample/convenience_sampling.py:113: UserWarning: No artists with labels found to put in legend.  Note that artists whose label start with an underscore are ignored when legend() is called with no argument.\n",
      "  ax.legend(loc='lower left', fontsize=10, title='Legend', title_fontsize=11, frameon=True)\n"
     ]
    },
    {
     "name": "stdout",
     "output_type": "stream",
     "text": [
      "Saved plot to /home/libe2152/optimizedsampling/0_data/initial_samples/india_secc/convenience_sampling/plots/top50_urban_areas_300_points_probabilistic_seed_5678.png\n",
      "Initializing ConvenienceSampler...\n",
      "Loading precomputed distances from /home/libe2152/optimizedsampling/0_data/distances/india_secc/distance_to_top50_urban.pkl...\n",
      "Running probabilistic sampling...\n",
      "Saved 300 sampled IDs to /home/libe2152/optimizedsampling/0_data/initial_samples/india_secc/convenience_sampling/probabilistic/IDS_top50_urban_300_points_probabilistic_seed_9101.pkl\n"
     ]
    },
    {
     "name": "stderr",
     "output_type": "stream",
     "text": [
      "/home/libe2152/optimizedsampling/2_initial_sample/convenience_sampling.py:113: UserWarning: Legend does not support handles for PatchCollection instances.\n",
      "See: https://matplotlib.org/stable/tutorials/intermediate/legend_guide.html#implementing-a-custom-legend-handler\n",
      "  ax.legend(loc='lower left', fontsize=10, title='Legend', title_fontsize=11, frameon=True)\n",
      "/home/libe2152/optimizedsampling/2_initial_sample/convenience_sampling.py:113: UserWarning: No artists with labels found to put in legend.  Note that artists whose label start with an underscore are ignored when legend() is called with no argument.\n",
      "  ax.legend(loc='lower left', fontsize=10, title='Legend', title_fontsize=11, frameon=True)\n"
     ]
    },
    {
     "name": "stdout",
     "output_type": "stream",
     "text": [
      "Saved plot to /home/libe2152/optimizedsampling/0_data/initial_samples/india_secc/convenience_sampling/plots/top50_urban_areas_300_points_probabilistic_seed_9101.png\n",
      "Initializing ConvenienceSampler...\n",
      "Loading precomputed distances from /home/libe2152/optimizedsampling/0_data/distances/india_secc/distance_to_top50_urban.pkl...\n",
      "Running probabilistic sampling...\n",
      "Saved 300 sampled IDs to /home/libe2152/optimizedsampling/0_data/initial_samples/india_secc/convenience_sampling/probabilistic/IDS_top50_urban_300_points_probabilistic_seed_1213.pkl\n"
     ]
    },
    {
     "name": "stderr",
     "output_type": "stream",
     "text": [
      "/home/libe2152/optimizedsampling/2_initial_sample/convenience_sampling.py:113: UserWarning: Legend does not support handles for PatchCollection instances.\n",
      "See: https://matplotlib.org/stable/tutorials/intermediate/legend_guide.html#implementing-a-custom-legend-handler\n",
      "  ax.legend(loc='lower left', fontsize=10, title='Legend', title_fontsize=11, frameon=True)\n",
      "/home/libe2152/optimizedsampling/2_initial_sample/convenience_sampling.py:113: UserWarning: No artists with labels found to put in legend.  Note that artists whose label start with an underscore are ignored when legend() is called with no argument.\n",
      "  ax.legend(loc='lower left', fontsize=10, title='Legend', title_fontsize=11, frameon=True)\n"
     ]
    },
    {
     "name": "stdout",
     "output_type": "stream",
     "text": [
      "Saved plot to /home/libe2152/optimizedsampling/0_data/initial_samples/india_secc/convenience_sampling/plots/top50_urban_areas_300_points_probabilistic_seed_1213.png\n",
      "Initializing ConvenienceSampler...\n",
      "Loading precomputed distances from /home/libe2152/optimizedsampling/0_data/distances/india_secc/distance_to_top50_urban.pkl...\n",
      "Running probabilistic sampling...\n",
      "Saved 300 sampled IDs to /home/libe2152/optimizedsampling/0_data/initial_samples/india_secc/convenience_sampling/probabilistic/IDS_top50_urban_300_points_probabilistic_seed_1415.pkl\n"
     ]
    },
    {
     "name": "stderr",
     "output_type": "stream",
     "text": [
      "/home/libe2152/optimizedsampling/2_initial_sample/convenience_sampling.py:113: UserWarning: Legend does not support handles for PatchCollection instances.\n",
      "See: https://matplotlib.org/stable/tutorials/intermediate/legend_guide.html#implementing-a-custom-legend-handler\n",
      "  ax.legend(loc='lower left', fontsize=10, title='Legend', title_fontsize=11, frameon=True)\n",
      "/home/libe2152/optimizedsampling/2_initial_sample/convenience_sampling.py:113: UserWarning: No artists with labels found to put in legend.  Note that artists whose label start with an underscore are ignored when legend() is called with no argument.\n",
      "  ax.legend(loc='lower left', fontsize=10, title='Legend', title_fontsize=11, frameon=True)\n"
     ]
    },
    {
     "name": "stdout",
     "output_type": "stream",
     "text": [
      "Saved plot to /home/libe2152/optimizedsampling/0_data/initial_samples/india_secc/convenience_sampling/plots/top50_urban_areas_300_points_probabilistic_seed_1415.png\n",
      "Initializing ConvenienceSampler...\n",
      "Loading precomputed distances from /home/libe2152/optimizedsampling/0_data/distances/india_secc/distance_to_top50_urban.pkl...\n",
      "Running probabilistic sampling...\n",
      "Saved 400 sampled IDs to /home/libe2152/optimizedsampling/0_data/initial_samples/india_secc/convenience_sampling/probabilistic/IDS_top50_urban_400_points_probabilistic_seed_1.pkl\n"
     ]
    },
    {
     "name": "stderr",
     "output_type": "stream",
     "text": [
      "/home/libe2152/optimizedsampling/2_initial_sample/convenience_sampling.py:113: UserWarning: Legend does not support handles for PatchCollection instances.\n",
      "See: https://matplotlib.org/stable/tutorials/intermediate/legend_guide.html#implementing-a-custom-legend-handler\n",
      "  ax.legend(loc='lower left', fontsize=10, title='Legend', title_fontsize=11, frameon=True)\n",
      "/home/libe2152/optimizedsampling/2_initial_sample/convenience_sampling.py:113: UserWarning: No artists with labels found to put in legend.  Note that artists whose label start with an underscore are ignored when legend() is called with no argument.\n",
      "  ax.legend(loc='lower left', fontsize=10, title='Legend', title_fontsize=11, frameon=True)\n"
     ]
    },
    {
     "name": "stdout",
     "output_type": "stream",
     "text": [
      "Saved plot to /home/libe2152/optimizedsampling/0_data/initial_samples/india_secc/convenience_sampling/plots/top50_urban_areas_400_points_probabilistic_seed_1.png\n",
      "Initializing ConvenienceSampler...\n",
      "Loading precomputed distances from /home/libe2152/optimizedsampling/0_data/distances/india_secc/distance_to_top50_urban.pkl...\n",
      "Running probabilistic sampling...\n",
      "Saved 400 sampled IDs to /home/libe2152/optimizedsampling/0_data/initial_samples/india_secc/convenience_sampling/probabilistic/IDS_top50_urban_400_points_probabilistic_seed_42.pkl\n"
     ]
    },
    {
     "name": "stderr",
     "output_type": "stream",
     "text": [
      "/home/libe2152/optimizedsampling/2_initial_sample/convenience_sampling.py:113: UserWarning: Legend does not support handles for PatchCollection instances.\n",
      "See: https://matplotlib.org/stable/tutorials/intermediate/legend_guide.html#implementing-a-custom-legend-handler\n",
      "  ax.legend(loc='lower left', fontsize=10, title='Legend', title_fontsize=11, frameon=True)\n",
      "/home/libe2152/optimizedsampling/2_initial_sample/convenience_sampling.py:113: UserWarning: No artists with labels found to put in legend.  Note that artists whose label start with an underscore are ignored when legend() is called with no argument.\n",
      "  ax.legend(loc='lower left', fontsize=10, title='Legend', title_fontsize=11, frameon=True)\n"
     ]
    },
    {
     "name": "stdout",
     "output_type": "stream",
     "text": [
      "Saved plot to /home/libe2152/optimizedsampling/0_data/initial_samples/india_secc/convenience_sampling/plots/top50_urban_areas_400_points_probabilistic_seed_42.png\n",
      "Initializing ConvenienceSampler...\n",
      "Loading precomputed distances from /home/libe2152/optimizedsampling/0_data/distances/india_secc/distance_to_top50_urban.pkl...\n",
      "Running probabilistic sampling...\n",
      "Saved 400 sampled IDs to /home/libe2152/optimizedsampling/0_data/initial_samples/india_secc/convenience_sampling/probabilistic/IDS_top50_urban_400_points_probabilistic_seed_123.pkl\n"
     ]
    },
    {
     "name": "stderr",
     "output_type": "stream",
     "text": [
      "/home/libe2152/optimizedsampling/2_initial_sample/convenience_sampling.py:113: UserWarning: Legend does not support handles for PatchCollection instances.\n",
      "See: https://matplotlib.org/stable/tutorials/intermediate/legend_guide.html#implementing-a-custom-legend-handler\n",
      "  ax.legend(loc='lower left', fontsize=10, title='Legend', title_fontsize=11, frameon=True)\n",
      "/home/libe2152/optimizedsampling/2_initial_sample/convenience_sampling.py:113: UserWarning: No artists with labels found to put in legend.  Note that artists whose label start with an underscore are ignored when legend() is called with no argument.\n",
      "  ax.legend(loc='lower left', fontsize=10, title='Legend', title_fontsize=11, frameon=True)\n"
     ]
    },
    {
     "name": "stdout",
     "output_type": "stream",
     "text": [
      "Saved plot to /home/libe2152/optimizedsampling/0_data/initial_samples/india_secc/convenience_sampling/plots/top50_urban_areas_400_points_probabilistic_seed_123.png\n",
      "Initializing ConvenienceSampler...\n",
      "Loading precomputed distances from /home/libe2152/optimizedsampling/0_data/distances/india_secc/distance_to_top50_urban.pkl...\n",
      "Running probabilistic sampling...\n",
      "Saved 400 sampled IDs to /home/libe2152/optimizedsampling/0_data/initial_samples/india_secc/convenience_sampling/probabilistic/IDS_top50_urban_400_points_probabilistic_seed_456.pkl\n"
     ]
    },
    {
     "name": "stderr",
     "output_type": "stream",
     "text": [
      "/home/libe2152/optimizedsampling/2_initial_sample/convenience_sampling.py:113: UserWarning: Legend does not support handles for PatchCollection instances.\n",
      "See: https://matplotlib.org/stable/tutorials/intermediate/legend_guide.html#implementing-a-custom-legend-handler\n",
      "  ax.legend(loc='lower left', fontsize=10, title='Legend', title_fontsize=11, frameon=True)\n",
      "/home/libe2152/optimizedsampling/2_initial_sample/convenience_sampling.py:113: UserWarning: No artists with labels found to put in legend.  Note that artists whose label start with an underscore are ignored when legend() is called with no argument.\n",
      "  ax.legend(loc='lower left', fontsize=10, title='Legend', title_fontsize=11, frameon=True)\n"
     ]
    },
    {
     "name": "stdout",
     "output_type": "stream",
     "text": [
      "Saved plot to /home/libe2152/optimizedsampling/0_data/initial_samples/india_secc/convenience_sampling/plots/top50_urban_areas_400_points_probabilistic_seed_456.png\n",
      "Initializing ConvenienceSampler...\n",
      "Loading precomputed distances from /home/libe2152/optimizedsampling/0_data/distances/india_secc/distance_to_top50_urban.pkl...\n"
     ]
    },
    {
     "name": "stdout",
     "output_type": "stream",
     "text": [
      "Running probabilistic sampling...\n",
      "Saved 400 sampled IDs to /home/libe2152/optimizedsampling/0_data/initial_samples/india_secc/convenience_sampling/probabilistic/IDS_top50_urban_400_points_probabilistic_seed_789.pkl\n"
     ]
    },
    {
     "name": "stderr",
     "output_type": "stream",
     "text": [
      "/home/libe2152/optimizedsampling/2_initial_sample/convenience_sampling.py:113: UserWarning: Legend does not support handles for PatchCollection instances.\n",
      "See: https://matplotlib.org/stable/tutorials/intermediate/legend_guide.html#implementing-a-custom-legend-handler\n",
      "  ax.legend(loc='lower left', fontsize=10, title='Legend', title_fontsize=11, frameon=True)\n",
      "/home/libe2152/optimizedsampling/2_initial_sample/convenience_sampling.py:113: UserWarning: No artists with labels found to put in legend.  Note that artists whose label start with an underscore are ignored when legend() is called with no argument.\n",
      "  ax.legend(loc='lower left', fontsize=10, title='Legend', title_fontsize=11, frameon=True)\n"
     ]
    },
    {
     "name": "stdout",
     "output_type": "stream",
     "text": [
      "Saved plot to /home/libe2152/optimizedsampling/0_data/initial_samples/india_secc/convenience_sampling/plots/top50_urban_areas_400_points_probabilistic_seed_789.png\n",
      "Initializing ConvenienceSampler...\n",
      "Loading precomputed distances from /home/libe2152/optimizedsampling/0_data/distances/india_secc/distance_to_top50_urban.pkl...\n",
      "Running probabilistic sampling...\n",
      "Saved 400 sampled IDs to /home/libe2152/optimizedsampling/0_data/initial_samples/india_secc/convenience_sampling/probabilistic/IDS_top50_urban_400_points_probabilistic_seed_1234.pkl\n"
     ]
    },
    {
     "name": "stderr",
     "output_type": "stream",
     "text": [
      "/home/libe2152/optimizedsampling/2_initial_sample/convenience_sampling.py:113: UserWarning: Legend does not support handles for PatchCollection instances.\n",
      "See: https://matplotlib.org/stable/tutorials/intermediate/legend_guide.html#implementing-a-custom-legend-handler\n",
      "  ax.legend(loc='lower left', fontsize=10, title='Legend', title_fontsize=11, frameon=True)\n",
      "/home/libe2152/optimizedsampling/2_initial_sample/convenience_sampling.py:113: UserWarning: No artists with labels found to put in legend.  Note that artists whose label start with an underscore are ignored when legend() is called with no argument.\n",
      "  ax.legend(loc='lower left', fontsize=10, title='Legend', title_fontsize=11, frameon=True)\n"
     ]
    },
    {
     "name": "stdout",
     "output_type": "stream",
     "text": [
      "Saved plot to /home/libe2152/optimizedsampling/0_data/initial_samples/india_secc/convenience_sampling/plots/top50_urban_areas_400_points_probabilistic_seed_1234.png\n",
      "Initializing ConvenienceSampler...\n",
      "Loading precomputed distances from /home/libe2152/optimizedsampling/0_data/distances/india_secc/distance_to_top50_urban.pkl...\n",
      "Running probabilistic sampling...\n",
      "Saved 400 sampled IDs to /home/libe2152/optimizedsampling/0_data/initial_samples/india_secc/convenience_sampling/probabilistic/IDS_top50_urban_400_points_probabilistic_seed_5678.pkl\n"
     ]
    },
    {
     "name": "stderr",
     "output_type": "stream",
     "text": [
      "/home/libe2152/optimizedsampling/2_initial_sample/convenience_sampling.py:113: UserWarning: Legend does not support handles for PatchCollection instances.\n",
      "See: https://matplotlib.org/stable/tutorials/intermediate/legend_guide.html#implementing-a-custom-legend-handler\n",
      "  ax.legend(loc='lower left', fontsize=10, title='Legend', title_fontsize=11, frameon=True)\n",
      "/home/libe2152/optimizedsampling/2_initial_sample/convenience_sampling.py:113: UserWarning: No artists with labels found to put in legend.  Note that artists whose label start with an underscore are ignored when legend() is called with no argument.\n",
      "  ax.legend(loc='lower left', fontsize=10, title='Legend', title_fontsize=11, frameon=True)\n"
     ]
    },
    {
     "name": "stdout",
     "output_type": "stream",
     "text": [
      "Saved plot to /home/libe2152/optimizedsampling/0_data/initial_samples/india_secc/convenience_sampling/plots/top50_urban_areas_400_points_probabilistic_seed_5678.png\n",
      "Initializing ConvenienceSampler...\n",
      "Loading precomputed distances from /home/libe2152/optimizedsampling/0_data/distances/india_secc/distance_to_top50_urban.pkl...\n"
     ]
    },
    {
     "name": "stdout",
     "output_type": "stream",
     "text": [
      "Running probabilistic sampling...\n",
      "Saved 400 sampled IDs to /home/libe2152/optimizedsampling/0_data/initial_samples/india_secc/convenience_sampling/probabilistic/IDS_top50_urban_400_points_probabilistic_seed_9101.pkl\n"
     ]
    },
    {
     "name": "stderr",
     "output_type": "stream",
     "text": [
      "/home/libe2152/optimizedsampling/2_initial_sample/convenience_sampling.py:113: UserWarning: Legend does not support handles for PatchCollection instances.\n",
      "See: https://matplotlib.org/stable/tutorials/intermediate/legend_guide.html#implementing-a-custom-legend-handler\n",
      "  ax.legend(loc='lower left', fontsize=10, title='Legend', title_fontsize=11, frameon=True)\n",
      "/home/libe2152/optimizedsampling/2_initial_sample/convenience_sampling.py:113: UserWarning: No artists with labels found to put in legend.  Note that artists whose label start with an underscore are ignored when legend() is called with no argument.\n",
      "  ax.legend(loc='lower left', fontsize=10, title='Legend', title_fontsize=11, frameon=True)\n"
     ]
    },
    {
     "name": "stdout",
     "output_type": "stream",
     "text": [
      "Saved plot to /home/libe2152/optimizedsampling/0_data/initial_samples/india_secc/convenience_sampling/plots/top50_urban_areas_400_points_probabilistic_seed_9101.png\n",
      "Initializing ConvenienceSampler...\n",
      "Loading precomputed distances from /home/libe2152/optimizedsampling/0_data/distances/india_secc/distance_to_top50_urban.pkl...\n"
     ]
    },
    {
     "name": "stdout",
     "output_type": "stream",
     "text": [
      "Running probabilistic sampling...\n",
      "Saved 400 sampled IDs to /home/libe2152/optimizedsampling/0_data/initial_samples/india_secc/convenience_sampling/probabilistic/IDS_top50_urban_400_points_probabilistic_seed_1213.pkl\n"
     ]
    },
    {
     "name": "stderr",
     "output_type": "stream",
     "text": [
      "/home/libe2152/optimizedsampling/2_initial_sample/convenience_sampling.py:113: UserWarning: Legend does not support handles for PatchCollection instances.\n",
      "See: https://matplotlib.org/stable/tutorials/intermediate/legend_guide.html#implementing-a-custom-legend-handler\n",
      "  ax.legend(loc='lower left', fontsize=10, title='Legend', title_fontsize=11, frameon=True)\n",
      "/home/libe2152/optimizedsampling/2_initial_sample/convenience_sampling.py:113: UserWarning: No artists with labels found to put in legend.  Note that artists whose label start with an underscore are ignored when legend() is called with no argument.\n",
      "  ax.legend(loc='lower left', fontsize=10, title='Legend', title_fontsize=11, frameon=True)\n"
     ]
    },
    {
     "name": "stdout",
     "output_type": "stream",
     "text": [
      "Saved plot to /home/libe2152/optimizedsampling/0_data/initial_samples/india_secc/convenience_sampling/plots/top50_urban_areas_400_points_probabilistic_seed_1213.png\n",
      "Initializing ConvenienceSampler...\n",
      "Loading precomputed distances from /home/libe2152/optimizedsampling/0_data/distances/india_secc/distance_to_top50_urban.pkl...\n",
      "Running probabilistic sampling...\n",
      "Saved 400 sampled IDs to /home/libe2152/optimizedsampling/0_data/initial_samples/india_secc/convenience_sampling/probabilistic/IDS_top50_urban_400_points_probabilistic_seed_1415.pkl\n"
     ]
    },
    {
     "name": "stderr",
     "output_type": "stream",
     "text": [
      "/home/libe2152/optimizedsampling/2_initial_sample/convenience_sampling.py:113: UserWarning: Legend does not support handles for PatchCollection instances.\n",
      "See: https://matplotlib.org/stable/tutorials/intermediate/legend_guide.html#implementing-a-custom-legend-handler\n",
      "  ax.legend(loc='lower left', fontsize=10, title='Legend', title_fontsize=11, frameon=True)\n",
      "/home/libe2152/optimizedsampling/2_initial_sample/convenience_sampling.py:113: UserWarning: No artists with labels found to put in legend.  Note that artists whose label start with an underscore are ignored when legend() is called with no argument.\n",
      "  ax.legend(loc='lower left', fontsize=10, title='Legend', title_fontsize=11, frameon=True)\n"
     ]
    },
    {
     "name": "stdout",
     "output_type": "stream",
     "text": [
      "Saved plot to /home/libe2152/optimizedsampling/0_data/initial_samples/india_secc/convenience_sampling/plots/top50_urban_areas_400_points_probabilistic_seed_1415.png\n",
      "Initializing ConvenienceSampler...\n",
      "Loading precomputed distances from /home/libe2152/optimizedsampling/0_data/distances/india_secc/distance_to_top50_urban.pkl...\n",
      "Running probabilistic sampling...\n",
      "Saved 500 sampled IDs to /home/libe2152/optimizedsampling/0_data/initial_samples/india_secc/convenience_sampling/probabilistic/IDS_top50_urban_500_points_probabilistic_seed_1.pkl\n"
     ]
    },
    {
     "name": "stderr",
     "output_type": "stream",
     "text": [
      "/home/libe2152/optimizedsampling/2_initial_sample/convenience_sampling.py:113: UserWarning: Legend does not support handles for PatchCollection instances.\n",
      "See: https://matplotlib.org/stable/tutorials/intermediate/legend_guide.html#implementing-a-custom-legend-handler\n",
      "  ax.legend(loc='lower left', fontsize=10, title='Legend', title_fontsize=11, frameon=True)\n",
      "/home/libe2152/optimizedsampling/2_initial_sample/convenience_sampling.py:113: UserWarning: No artists with labels found to put in legend.  Note that artists whose label start with an underscore are ignored when legend() is called with no argument.\n",
      "  ax.legend(loc='lower left', fontsize=10, title='Legend', title_fontsize=11, frameon=True)\n"
     ]
    },
    {
     "name": "stdout",
     "output_type": "stream",
     "text": [
      "Saved plot to /home/libe2152/optimizedsampling/0_data/initial_samples/india_secc/convenience_sampling/plots/top50_urban_areas_500_points_probabilistic_seed_1.png\n",
      "Initializing ConvenienceSampler...\n",
      "Loading precomputed distances from /home/libe2152/optimizedsampling/0_data/distances/india_secc/distance_to_top50_urban.pkl...\n",
      "Running probabilistic sampling...\n"
     ]
    },
    {
     "name": "stdout",
     "output_type": "stream",
     "text": [
      "Saved 500 sampled IDs to /home/libe2152/optimizedsampling/0_data/initial_samples/india_secc/convenience_sampling/probabilistic/IDS_top50_urban_500_points_probabilistic_seed_42.pkl\n"
     ]
    },
    {
     "name": "stderr",
     "output_type": "stream",
     "text": [
      "/home/libe2152/optimizedsampling/2_initial_sample/convenience_sampling.py:113: UserWarning: Legend does not support handles for PatchCollection instances.\n",
      "See: https://matplotlib.org/stable/tutorials/intermediate/legend_guide.html#implementing-a-custom-legend-handler\n",
      "  ax.legend(loc='lower left', fontsize=10, title='Legend', title_fontsize=11, frameon=True)\n",
      "/home/libe2152/optimizedsampling/2_initial_sample/convenience_sampling.py:113: UserWarning: No artists with labels found to put in legend.  Note that artists whose label start with an underscore are ignored when legend() is called with no argument.\n",
      "  ax.legend(loc='lower left', fontsize=10, title='Legend', title_fontsize=11, frameon=True)\n"
     ]
    },
    {
     "name": "stdout",
     "output_type": "stream",
     "text": [
      "Saved plot to /home/libe2152/optimizedsampling/0_data/initial_samples/india_secc/convenience_sampling/plots/top50_urban_areas_500_points_probabilistic_seed_42.png\n",
      "Initializing ConvenienceSampler...\n",
      "Loading precomputed distances from /home/libe2152/optimizedsampling/0_data/distances/india_secc/distance_to_top50_urban.pkl...\n"
     ]
    },
    {
     "name": "stdout",
     "output_type": "stream",
     "text": [
      "Running probabilistic sampling...\n",
      "Saved 500 sampled IDs to /home/libe2152/optimizedsampling/0_data/initial_samples/india_secc/convenience_sampling/probabilistic/IDS_top50_urban_500_points_probabilistic_seed_123.pkl\n"
     ]
    },
    {
     "name": "stderr",
     "output_type": "stream",
     "text": [
      "/home/libe2152/optimizedsampling/2_initial_sample/convenience_sampling.py:113: UserWarning: Legend does not support handles for PatchCollection instances.\n",
      "See: https://matplotlib.org/stable/tutorials/intermediate/legend_guide.html#implementing-a-custom-legend-handler\n",
      "  ax.legend(loc='lower left', fontsize=10, title='Legend', title_fontsize=11, frameon=True)\n",
      "/home/libe2152/optimizedsampling/2_initial_sample/convenience_sampling.py:113: UserWarning: No artists with labels found to put in legend.  Note that artists whose label start with an underscore are ignored when legend() is called with no argument.\n",
      "  ax.legend(loc='lower left', fontsize=10, title='Legend', title_fontsize=11, frameon=True)\n"
     ]
    },
    {
     "name": "stdout",
     "output_type": "stream",
     "text": [
      "Saved plot to /home/libe2152/optimizedsampling/0_data/initial_samples/india_secc/convenience_sampling/plots/top50_urban_areas_500_points_probabilistic_seed_123.png\n",
      "Initializing ConvenienceSampler...\n",
      "Loading precomputed distances from /home/libe2152/optimizedsampling/0_data/distances/india_secc/distance_to_top50_urban.pkl...\n"
     ]
    },
    {
     "name": "stdout",
     "output_type": "stream",
     "text": [
      "Running probabilistic sampling...\n",
      "Saved 500 sampled IDs to /home/libe2152/optimizedsampling/0_data/initial_samples/india_secc/convenience_sampling/probabilistic/IDS_top50_urban_500_points_probabilistic_seed_456.pkl\n"
     ]
    },
    {
     "name": "stderr",
     "output_type": "stream",
     "text": [
      "/home/libe2152/optimizedsampling/2_initial_sample/convenience_sampling.py:113: UserWarning: Legend does not support handles for PatchCollection instances.\n",
      "See: https://matplotlib.org/stable/tutorials/intermediate/legend_guide.html#implementing-a-custom-legend-handler\n",
      "  ax.legend(loc='lower left', fontsize=10, title='Legend', title_fontsize=11, frameon=True)\n",
      "/home/libe2152/optimizedsampling/2_initial_sample/convenience_sampling.py:113: UserWarning: No artists with labels found to put in legend.  Note that artists whose label start with an underscore are ignored when legend() is called with no argument.\n",
      "  ax.legend(loc='lower left', fontsize=10, title='Legend', title_fontsize=11, frameon=True)\n"
     ]
    },
    {
     "name": "stdout",
     "output_type": "stream",
     "text": [
      "Saved plot to /home/libe2152/optimizedsampling/0_data/initial_samples/india_secc/convenience_sampling/plots/top50_urban_areas_500_points_probabilistic_seed_456.png\n",
      "Initializing ConvenienceSampler...\n",
      "Loading precomputed distances from /home/libe2152/optimizedsampling/0_data/distances/india_secc/distance_to_top50_urban.pkl...\n",
      "Running probabilistic sampling...\n",
      "Saved 500 sampled IDs to /home/libe2152/optimizedsampling/0_data/initial_samples/india_secc/convenience_sampling/probabilistic/IDS_top50_urban_500_points_probabilistic_seed_789.pkl\n"
     ]
    },
    {
     "name": "stderr",
     "output_type": "stream",
     "text": [
      "/home/libe2152/optimizedsampling/2_initial_sample/convenience_sampling.py:113: UserWarning: Legend does not support handles for PatchCollection instances.\n",
      "See: https://matplotlib.org/stable/tutorials/intermediate/legend_guide.html#implementing-a-custom-legend-handler\n",
      "  ax.legend(loc='lower left', fontsize=10, title='Legend', title_fontsize=11, frameon=True)\n",
      "/home/libe2152/optimizedsampling/2_initial_sample/convenience_sampling.py:113: UserWarning: No artists with labels found to put in legend.  Note that artists whose label start with an underscore are ignored when legend() is called with no argument.\n",
      "  ax.legend(loc='lower left', fontsize=10, title='Legend', title_fontsize=11, frameon=True)\n"
     ]
    },
    {
     "name": "stdout",
     "output_type": "stream",
     "text": [
      "Saved plot to /home/libe2152/optimizedsampling/0_data/initial_samples/india_secc/convenience_sampling/plots/top50_urban_areas_500_points_probabilistic_seed_789.png\n",
      "Initializing ConvenienceSampler...\n",
      "Loading precomputed distances from /home/libe2152/optimizedsampling/0_data/distances/india_secc/distance_to_top50_urban.pkl...\n",
      "Running probabilistic sampling...\n"
     ]
    },
    {
     "name": "stdout",
     "output_type": "stream",
     "text": [
      "Saved 500 sampled IDs to /home/libe2152/optimizedsampling/0_data/initial_samples/india_secc/convenience_sampling/probabilistic/IDS_top50_urban_500_points_probabilistic_seed_1234.pkl\n"
     ]
    },
    {
     "name": "stderr",
     "output_type": "stream",
     "text": [
      "/home/libe2152/optimizedsampling/2_initial_sample/convenience_sampling.py:113: UserWarning: Legend does not support handles for PatchCollection instances.\n",
      "See: https://matplotlib.org/stable/tutorials/intermediate/legend_guide.html#implementing-a-custom-legend-handler\n",
      "  ax.legend(loc='lower left', fontsize=10, title='Legend', title_fontsize=11, frameon=True)\n",
      "/home/libe2152/optimizedsampling/2_initial_sample/convenience_sampling.py:113: UserWarning: No artists with labels found to put in legend.  Note that artists whose label start with an underscore are ignored when legend() is called with no argument.\n",
      "  ax.legend(loc='lower left', fontsize=10, title='Legend', title_fontsize=11, frameon=True)\n"
     ]
    },
    {
     "name": "stdout",
     "output_type": "stream",
     "text": [
      "Saved plot to /home/libe2152/optimizedsampling/0_data/initial_samples/india_secc/convenience_sampling/plots/top50_urban_areas_500_points_probabilistic_seed_1234.png\n",
      "Initializing ConvenienceSampler...\n",
      "Loading precomputed distances from /home/libe2152/optimizedsampling/0_data/distances/india_secc/distance_to_top50_urban.pkl...\n",
      "Running probabilistic sampling...\n",
      "Saved 500 sampled IDs to /home/libe2152/optimizedsampling/0_data/initial_samples/india_secc/convenience_sampling/probabilistic/IDS_top50_urban_500_points_probabilistic_seed_5678.pkl\n"
     ]
    },
    {
     "name": "stderr",
     "output_type": "stream",
     "text": [
      "/home/libe2152/optimizedsampling/2_initial_sample/convenience_sampling.py:113: UserWarning: Legend does not support handles for PatchCollection instances.\n",
      "See: https://matplotlib.org/stable/tutorials/intermediate/legend_guide.html#implementing-a-custom-legend-handler\n",
      "  ax.legend(loc='lower left', fontsize=10, title='Legend', title_fontsize=11, frameon=True)\n",
      "/home/libe2152/optimizedsampling/2_initial_sample/convenience_sampling.py:113: UserWarning: No artists with labels found to put in legend.  Note that artists whose label start with an underscore are ignored when legend() is called with no argument.\n",
      "  ax.legend(loc='lower left', fontsize=10, title='Legend', title_fontsize=11, frameon=True)\n"
     ]
    },
    {
     "name": "stdout",
     "output_type": "stream",
     "text": [
      "Saved plot to /home/libe2152/optimizedsampling/0_data/initial_samples/india_secc/convenience_sampling/plots/top50_urban_areas_500_points_probabilistic_seed_5678.png\n",
      "Initializing ConvenienceSampler...\n",
      "Loading precomputed distances from /home/libe2152/optimizedsampling/0_data/distances/india_secc/distance_to_top50_urban.pkl...\n"
     ]
    },
    {
     "name": "stdout",
     "output_type": "stream",
     "text": [
      "Running probabilistic sampling...\n",
      "Saved 500 sampled IDs to /home/libe2152/optimizedsampling/0_data/initial_samples/india_secc/convenience_sampling/probabilistic/IDS_top50_urban_500_points_probabilistic_seed_9101.pkl\n"
     ]
    },
    {
     "name": "stderr",
     "output_type": "stream",
     "text": [
      "/home/libe2152/optimizedsampling/2_initial_sample/convenience_sampling.py:113: UserWarning: Legend does not support handles for PatchCollection instances.\n",
      "See: https://matplotlib.org/stable/tutorials/intermediate/legend_guide.html#implementing-a-custom-legend-handler\n",
      "  ax.legend(loc='lower left', fontsize=10, title='Legend', title_fontsize=11, frameon=True)\n",
      "/home/libe2152/optimizedsampling/2_initial_sample/convenience_sampling.py:113: UserWarning: No artists with labels found to put in legend.  Note that artists whose label start with an underscore are ignored when legend() is called with no argument.\n",
      "  ax.legend(loc='lower left', fontsize=10, title='Legend', title_fontsize=11, frameon=True)\n"
     ]
    },
    {
     "name": "stdout",
     "output_type": "stream",
     "text": [
      "Saved plot to /home/libe2152/optimizedsampling/0_data/initial_samples/india_secc/convenience_sampling/plots/top50_urban_areas_500_points_probabilistic_seed_9101.png\n",
      "Initializing ConvenienceSampler...\n",
      "Loading precomputed distances from /home/libe2152/optimizedsampling/0_data/distances/india_secc/distance_to_top50_urban.pkl...\n",
      "Running probabilistic sampling...\n",
      "Saved 500 sampled IDs to /home/libe2152/optimizedsampling/0_data/initial_samples/india_secc/convenience_sampling/probabilistic/IDS_top50_urban_500_points_probabilistic_seed_1213.pkl\n"
     ]
    },
    {
     "name": "stderr",
     "output_type": "stream",
     "text": [
      "/home/libe2152/optimizedsampling/2_initial_sample/convenience_sampling.py:113: UserWarning: Legend does not support handles for PatchCollection instances.\n",
      "See: https://matplotlib.org/stable/tutorials/intermediate/legend_guide.html#implementing-a-custom-legend-handler\n",
      "  ax.legend(loc='lower left', fontsize=10, title='Legend', title_fontsize=11, frameon=True)\n",
      "/home/libe2152/optimizedsampling/2_initial_sample/convenience_sampling.py:113: UserWarning: No artists with labels found to put in legend.  Note that artists whose label start with an underscore are ignored when legend() is called with no argument.\n",
      "  ax.legend(loc='lower left', fontsize=10, title='Legend', title_fontsize=11, frameon=True)\n"
     ]
    },
    {
     "name": "stdout",
     "output_type": "stream",
     "text": [
      "Saved plot to /home/libe2152/optimizedsampling/0_data/initial_samples/india_secc/convenience_sampling/plots/top50_urban_areas_500_points_probabilistic_seed_1213.png\n",
      "Initializing ConvenienceSampler...\n",
      "Loading precomputed distances from /home/libe2152/optimizedsampling/0_data/distances/india_secc/distance_to_top50_urban.pkl...\n",
      "Running probabilistic sampling...\n",
      "Saved 500 sampled IDs to /home/libe2152/optimizedsampling/0_data/initial_samples/india_secc/convenience_sampling/probabilistic/IDS_top50_urban_500_points_probabilistic_seed_1415.pkl\n"
     ]
    },
    {
     "name": "stderr",
     "output_type": "stream",
     "text": [
      "/home/libe2152/optimizedsampling/2_initial_sample/convenience_sampling.py:113: UserWarning: Legend does not support handles for PatchCollection instances.\n",
      "See: https://matplotlib.org/stable/tutorials/intermediate/legend_guide.html#implementing-a-custom-legend-handler\n",
      "  ax.legend(loc='lower left', fontsize=10, title='Legend', title_fontsize=11, frameon=True)\n",
      "/home/libe2152/optimizedsampling/2_initial_sample/convenience_sampling.py:113: UserWarning: No artists with labels found to put in legend.  Note that artists whose label start with an underscore are ignored when legend() is called with no argument.\n",
      "  ax.legend(loc='lower left', fontsize=10, title='Legend', title_fontsize=11, frameon=True)\n"
     ]
    },
    {
     "name": "stdout",
     "output_type": "stream",
     "text": [
      "Saved plot to /home/libe2152/optimizedsampling/0_data/initial_samples/india_secc/convenience_sampling/plots/top50_urban_areas_500_points_probabilistic_seed_1415.png\n",
      "Initializing ConvenienceSampler...\n",
      "Loading precomputed distances from /home/libe2152/optimizedsampling/0_data/distances/india_secc/distance_to_top50_urban.pkl...\n"
     ]
    },
    {
     "name": "stdout",
     "output_type": "stream",
     "text": [
      "Running probabilistic sampling...\n",
      "Saved 600 sampled IDs to /home/libe2152/optimizedsampling/0_data/initial_samples/india_secc/convenience_sampling/probabilistic/IDS_top50_urban_600_points_probabilistic_seed_1.pkl\n"
     ]
    },
    {
     "name": "stderr",
     "output_type": "stream",
     "text": [
      "/home/libe2152/optimizedsampling/2_initial_sample/convenience_sampling.py:113: UserWarning: Legend does not support handles for PatchCollection instances.\n",
      "See: https://matplotlib.org/stable/tutorials/intermediate/legend_guide.html#implementing-a-custom-legend-handler\n",
      "  ax.legend(loc='lower left', fontsize=10, title='Legend', title_fontsize=11, frameon=True)\n",
      "/home/libe2152/optimizedsampling/2_initial_sample/convenience_sampling.py:113: UserWarning: No artists with labels found to put in legend.  Note that artists whose label start with an underscore are ignored when legend() is called with no argument.\n",
      "  ax.legend(loc='lower left', fontsize=10, title='Legend', title_fontsize=11, frameon=True)\n"
     ]
    },
    {
     "name": "stdout",
     "output_type": "stream",
     "text": [
      "Saved plot to /home/libe2152/optimizedsampling/0_data/initial_samples/india_secc/convenience_sampling/plots/top50_urban_areas_600_points_probabilistic_seed_1.png\n",
      "Initializing ConvenienceSampler...\n",
      "Loading precomputed distances from /home/libe2152/optimizedsampling/0_data/distances/india_secc/distance_to_top50_urban.pkl...\n"
     ]
    },
    {
     "name": "stdout",
     "output_type": "stream",
     "text": [
      "Running probabilistic sampling...\n",
      "Saved 600 sampled IDs to /home/libe2152/optimizedsampling/0_data/initial_samples/india_secc/convenience_sampling/probabilistic/IDS_top50_urban_600_points_probabilistic_seed_42.pkl\n"
     ]
    },
    {
     "name": "stderr",
     "output_type": "stream",
     "text": [
      "/home/libe2152/optimizedsampling/2_initial_sample/convenience_sampling.py:113: UserWarning: Legend does not support handles for PatchCollection instances.\n",
      "See: https://matplotlib.org/stable/tutorials/intermediate/legend_guide.html#implementing-a-custom-legend-handler\n",
      "  ax.legend(loc='lower left', fontsize=10, title='Legend', title_fontsize=11, frameon=True)\n",
      "/home/libe2152/optimizedsampling/2_initial_sample/convenience_sampling.py:113: UserWarning: No artists with labels found to put in legend.  Note that artists whose label start with an underscore are ignored when legend() is called with no argument.\n",
      "  ax.legend(loc='lower left', fontsize=10, title='Legend', title_fontsize=11, frameon=True)\n"
     ]
    },
    {
     "name": "stdout",
     "output_type": "stream",
     "text": [
      "Saved plot to /home/libe2152/optimizedsampling/0_data/initial_samples/india_secc/convenience_sampling/plots/top50_urban_areas_600_points_probabilistic_seed_42.png\n",
      "Initializing ConvenienceSampler...\n",
      "Loading precomputed distances from /home/libe2152/optimizedsampling/0_data/distances/india_secc/distance_to_top50_urban.pkl...\n",
      "Running probabilistic sampling...\n"
     ]
    },
    {
     "name": "stdout",
     "output_type": "stream",
     "text": [
      "Saved 600 sampled IDs to /home/libe2152/optimizedsampling/0_data/initial_samples/india_secc/convenience_sampling/probabilistic/IDS_top50_urban_600_points_probabilistic_seed_123.pkl\n"
     ]
    },
    {
     "name": "stderr",
     "output_type": "stream",
     "text": [
      "/home/libe2152/optimizedsampling/2_initial_sample/convenience_sampling.py:113: UserWarning: Legend does not support handles for PatchCollection instances.\n",
      "See: https://matplotlib.org/stable/tutorials/intermediate/legend_guide.html#implementing-a-custom-legend-handler\n",
      "  ax.legend(loc='lower left', fontsize=10, title='Legend', title_fontsize=11, frameon=True)\n",
      "/home/libe2152/optimizedsampling/2_initial_sample/convenience_sampling.py:113: UserWarning: No artists with labels found to put in legend.  Note that artists whose label start with an underscore are ignored when legend() is called with no argument.\n",
      "  ax.legend(loc='lower left', fontsize=10, title='Legend', title_fontsize=11, frameon=True)\n"
     ]
    },
    {
     "name": "stdout",
     "output_type": "stream",
     "text": [
      "Saved plot to /home/libe2152/optimizedsampling/0_data/initial_samples/india_secc/convenience_sampling/plots/top50_urban_areas_600_points_probabilistic_seed_123.png\n",
      "Initializing ConvenienceSampler...\n",
      "Loading precomputed distances from /home/libe2152/optimizedsampling/0_data/distances/india_secc/distance_to_top50_urban.pkl...\n",
      "Running probabilistic sampling...\n",
      "Saved 600 sampled IDs to /home/libe2152/optimizedsampling/0_data/initial_samples/india_secc/convenience_sampling/probabilistic/IDS_top50_urban_600_points_probabilistic_seed_456.pkl\n"
     ]
    },
    {
     "name": "stderr",
     "output_type": "stream",
     "text": [
      "/home/libe2152/optimizedsampling/2_initial_sample/convenience_sampling.py:113: UserWarning: Legend does not support handles for PatchCollection instances.\n",
      "See: https://matplotlib.org/stable/tutorials/intermediate/legend_guide.html#implementing-a-custom-legend-handler\n",
      "  ax.legend(loc='lower left', fontsize=10, title='Legend', title_fontsize=11, frameon=True)\n",
      "/home/libe2152/optimizedsampling/2_initial_sample/convenience_sampling.py:113: UserWarning: No artists with labels found to put in legend.  Note that artists whose label start with an underscore are ignored when legend() is called with no argument.\n",
      "  ax.legend(loc='lower left', fontsize=10, title='Legend', title_fontsize=11, frameon=True)\n"
     ]
    },
    {
     "name": "stdout",
     "output_type": "stream",
     "text": [
      "Saved plot to /home/libe2152/optimizedsampling/0_data/initial_samples/india_secc/convenience_sampling/plots/top50_urban_areas_600_points_probabilistic_seed_456.png\n",
      "Initializing ConvenienceSampler...\n",
      "Loading precomputed distances from /home/libe2152/optimizedsampling/0_data/distances/india_secc/distance_to_top50_urban.pkl...\n",
      "Running probabilistic sampling...\n",
      "Saved 600 sampled IDs to /home/libe2152/optimizedsampling/0_data/initial_samples/india_secc/convenience_sampling/probabilistic/IDS_top50_urban_600_points_probabilistic_seed_789.pkl\n"
     ]
    },
    {
     "name": "stderr",
     "output_type": "stream",
     "text": [
      "/home/libe2152/optimizedsampling/2_initial_sample/convenience_sampling.py:113: UserWarning: Legend does not support handles for PatchCollection instances.\n",
      "See: https://matplotlib.org/stable/tutorials/intermediate/legend_guide.html#implementing-a-custom-legend-handler\n",
      "  ax.legend(loc='lower left', fontsize=10, title='Legend', title_fontsize=11, frameon=True)\n",
      "/home/libe2152/optimizedsampling/2_initial_sample/convenience_sampling.py:113: UserWarning: No artists with labels found to put in legend.  Note that artists whose label start with an underscore are ignored when legend() is called with no argument.\n",
      "  ax.legend(loc='lower left', fontsize=10, title='Legend', title_fontsize=11, frameon=True)\n"
     ]
    },
    {
     "name": "stdout",
     "output_type": "stream",
     "text": [
      "Saved plot to /home/libe2152/optimizedsampling/0_data/initial_samples/india_secc/convenience_sampling/plots/top50_urban_areas_600_points_probabilistic_seed_789.png\n",
      "Initializing ConvenienceSampler...\n",
      "Loading precomputed distances from /home/libe2152/optimizedsampling/0_data/distances/india_secc/distance_to_top50_urban.pkl...\n",
      "Running probabilistic sampling...\n"
     ]
    },
    {
     "name": "stdout",
     "output_type": "stream",
     "text": [
      "Saved 600 sampled IDs to /home/libe2152/optimizedsampling/0_data/initial_samples/india_secc/convenience_sampling/probabilistic/IDS_top50_urban_600_points_probabilistic_seed_1234.pkl\n"
     ]
    },
    {
     "name": "stderr",
     "output_type": "stream",
     "text": [
      "/home/libe2152/optimizedsampling/2_initial_sample/convenience_sampling.py:113: UserWarning: Legend does not support handles for PatchCollection instances.\n",
      "See: https://matplotlib.org/stable/tutorials/intermediate/legend_guide.html#implementing-a-custom-legend-handler\n",
      "  ax.legend(loc='lower left', fontsize=10, title='Legend', title_fontsize=11, frameon=True)\n",
      "/home/libe2152/optimizedsampling/2_initial_sample/convenience_sampling.py:113: UserWarning: No artists with labels found to put in legend.  Note that artists whose label start with an underscore are ignored when legend() is called with no argument.\n",
      "  ax.legend(loc='lower left', fontsize=10, title='Legend', title_fontsize=11, frameon=True)\n"
     ]
    },
    {
     "name": "stdout",
     "output_type": "stream",
     "text": [
      "Saved plot to /home/libe2152/optimizedsampling/0_data/initial_samples/india_secc/convenience_sampling/plots/top50_urban_areas_600_points_probabilistic_seed_1234.png\n",
      "Initializing ConvenienceSampler...\n",
      "Loading precomputed distances from /home/libe2152/optimizedsampling/0_data/distances/india_secc/distance_to_top50_urban.pkl...\n"
     ]
    },
    {
     "name": "stdout",
     "output_type": "stream",
     "text": [
      "Running probabilistic sampling...\n",
      "Saved 600 sampled IDs to /home/libe2152/optimizedsampling/0_data/initial_samples/india_secc/convenience_sampling/probabilistic/IDS_top50_urban_600_points_probabilistic_seed_5678.pkl\n"
     ]
    },
    {
     "name": "stderr",
     "output_type": "stream",
     "text": [
      "/home/libe2152/optimizedsampling/2_initial_sample/convenience_sampling.py:113: UserWarning: Legend does not support handles for PatchCollection instances.\n",
      "See: https://matplotlib.org/stable/tutorials/intermediate/legend_guide.html#implementing-a-custom-legend-handler\n",
      "  ax.legend(loc='lower left', fontsize=10, title='Legend', title_fontsize=11, frameon=True)\n",
      "/home/libe2152/optimizedsampling/2_initial_sample/convenience_sampling.py:113: UserWarning: No artists with labels found to put in legend.  Note that artists whose label start with an underscore are ignored when legend() is called with no argument.\n",
      "  ax.legend(loc='lower left', fontsize=10, title='Legend', title_fontsize=11, frameon=True)\n"
     ]
    },
    {
     "name": "stdout",
     "output_type": "stream",
     "text": [
      "Saved plot to /home/libe2152/optimizedsampling/0_data/initial_samples/india_secc/convenience_sampling/plots/top50_urban_areas_600_points_probabilistic_seed_5678.png\n",
      "Initializing ConvenienceSampler...\n",
      "Loading precomputed distances from /home/libe2152/optimizedsampling/0_data/distances/india_secc/distance_to_top50_urban.pkl...\n",
      "Running probabilistic sampling...\n",
      "Saved 600 sampled IDs to /home/libe2152/optimizedsampling/0_data/initial_samples/india_secc/convenience_sampling/probabilistic/IDS_top50_urban_600_points_probabilistic_seed_9101.pkl\n"
     ]
    },
    {
     "name": "stderr",
     "output_type": "stream",
     "text": [
      "/home/libe2152/optimizedsampling/2_initial_sample/convenience_sampling.py:113: UserWarning: Legend does not support handles for PatchCollection instances.\n",
      "See: https://matplotlib.org/stable/tutorials/intermediate/legend_guide.html#implementing-a-custom-legend-handler\n",
      "  ax.legend(loc='lower left', fontsize=10, title='Legend', title_fontsize=11, frameon=True)\n",
      "/home/libe2152/optimizedsampling/2_initial_sample/convenience_sampling.py:113: UserWarning: No artists with labels found to put in legend.  Note that artists whose label start with an underscore are ignored when legend() is called with no argument.\n",
      "  ax.legend(loc='lower left', fontsize=10, title='Legend', title_fontsize=11, frameon=True)\n"
     ]
    },
    {
     "name": "stdout",
     "output_type": "stream",
     "text": [
      "Saved plot to /home/libe2152/optimizedsampling/0_data/initial_samples/india_secc/convenience_sampling/plots/top50_urban_areas_600_points_probabilistic_seed_9101.png\n",
      "Initializing ConvenienceSampler...\n",
      "Loading precomputed distances from /home/libe2152/optimizedsampling/0_data/distances/india_secc/distance_to_top50_urban.pkl...\n"
     ]
    },
    {
     "name": "stdout",
     "output_type": "stream",
     "text": [
      "Running probabilistic sampling...\n",
      "Saved 600 sampled IDs to /home/libe2152/optimizedsampling/0_data/initial_samples/india_secc/convenience_sampling/probabilistic/IDS_top50_urban_600_points_probabilistic_seed_1213.pkl\n"
     ]
    },
    {
     "name": "stderr",
     "output_type": "stream",
     "text": [
      "/home/libe2152/optimizedsampling/2_initial_sample/convenience_sampling.py:113: UserWarning: Legend does not support handles for PatchCollection instances.\n",
      "See: https://matplotlib.org/stable/tutorials/intermediate/legend_guide.html#implementing-a-custom-legend-handler\n",
      "  ax.legend(loc='lower left', fontsize=10, title='Legend', title_fontsize=11, frameon=True)\n",
      "/home/libe2152/optimizedsampling/2_initial_sample/convenience_sampling.py:113: UserWarning: No artists with labels found to put in legend.  Note that artists whose label start with an underscore are ignored when legend() is called with no argument.\n",
      "  ax.legend(loc='lower left', fontsize=10, title='Legend', title_fontsize=11, frameon=True)\n"
     ]
    },
    {
     "name": "stdout",
     "output_type": "stream",
     "text": [
      "Saved plot to /home/libe2152/optimizedsampling/0_data/initial_samples/india_secc/convenience_sampling/plots/top50_urban_areas_600_points_probabilistic_seed_1213.png\n",
      "Initializing ConvenienceSampler...\n",
      "Loading precomputed distances from /home/libe2152/optimizedsampling/0_data/distances/india_secc/distance_to_top50_urban.pkl...\n",
      "Running probabilistic sampling...\n",
      "Saved 600 sampled IDs to /home/libe2152/optimizedsampling/0_data/initial_samples/india_secc/convenience_sampling/probabilistic/IDS_top50_urban_600_points_probabilistic_seed_1415.pkl\n"
     ]
    },
    {
     "name": "stderr",
     "output_type": "stream",
     "text": [
      "/home/libe2152/optimizedsampling/2_initial_sample/convenience_sampling.py:113: UserWarning: Legend does not support handles for PatchCollection instances.\n",
      "See: https://matplotlib.org/stable/tutorials/intermediate/legend_guide.html#implementing-a-custom-legend-handler\n",
      "  ax.legend(loc='lower left', fontsize=10, title='Legend', title_fontsize=11, frameon=True)\n",
      "/home/libe2152/optimizedsampling/2_initial_sample/convenience_sampling.py:113: UserWarning: No artists with labels found to put in legend.  Note that artists whose label start with an underscore are ignored when legend() is called with no argument.\n",
      "  ax.legend(loc='lower left', fontsize=10, title='Legend', title_fontsize=11, frameon=True)\n"
     ]
    },
    {
     "name": "stdout",
     "output_type": "stream",
     "text": [
      "Saved plot to /home/libe2152/optimizedsampling/0_data/initial_samples/india_secc/convenience_sampling/plots/top50_urban_areas_600_points_probabilistic_seed_1415.png\n",
      "Initializing ConvenienceSampler...\n",
      "Loading precomputed distances from /home/libe2152/optimizedsampling/0_data/distances/india_secc/distance_to_top50_urban.pkl...\n",
      "Running probabilistic sampling...\n",
      "Saved 700 sampled IDs to /home/libe2152/optimizedsampling/0_data/initial_samples/india_secc/convenience_sampling/probabilistic/IDS_top50_urban_700_points_probabilistic_seed_1.pkl\n"
     ]
    },
    {
     "name": "stderr",
     "output_type": "stream",
     "text": [
      "/home/libe2152/optimizedsampling/2_initial_sample/convenience_sampling.py:113: UserWarning: Legend does not support handles for PatchCollection instances.\n",
      "See: https://matplotlib.org/stable/tutorials/intermediate/legend_guide.html#implementing-a-custom-legend-handler\n",
      "  ax.legend(loc='lower left', fontsize=10, title='Legend', title_fontsize=11, frameon=True)\n",
      "/home/libe2152/optimizedsampling/2_initial_sample/convenience_sampling.py:113: UserWarning: No artists with labels found to put in legend.  Note that artists whose label start with an underscore are ignored when legend() is called with no argument.\n",
      "  ax.legend(loc='lower left', fontsize=10, title='Legend', title_fontsize=11, frameon=True)\n"
     ]
    },
    {
     "name": "stdout",
     "output_type": "stream",
     "text": [
      "Saved plot to /home/libe2152/optimizedsampling/0_data/initial_samples/india_secc/convenience_sampling/plots/top50_urban_areas_700_points_probabilistic_seed_1.png\n",
      "Initializing ConvenienceSampler...\n",
      "Loading precomputed distances from /home/libe2152/optimizedsampling/0_data/distances/india_secc/distance_to_top50_urban.pkl...\n",
      "Running probabilistic sampling...\n",
      "Saved 700 sampled IDs to /home/libe2152/optimizedsampling/0_data/initial_samples/india_secc/convenience_sampling/probabilistic/IDS_top50_urban_700_points_probabilistic_seed_42.pkl\n"
     ]
    },
    {
     "name": "stderr",
     "output_type": "stream",
     "text": [
      "/home/libe2152/optimizedsampling/2_initial_sample/convenience_sampling.py:113: UserWarning: Legend does not support handles for PatchCollection instances.\n",
      "See: https://matplotlib.org/stable/tutorials/intermediate/legend_guide.html#implementing-a-custom-legend-handler\n",
      "  ax.legend(loc='lower left', fontsize=10, title='Legend', title_fontsize=11, frameon=True)\n",
      "/home/libe2152/optimizedsampling/2_initial_sample/convenience_sampling.py:113: UserWarning: No artists with labels found to put in legend.  Note that artists whose label start with an underscore are ignored when legend() is called with no argument.\n",
      "  ax.legend(loc='lower left', fontsize=10, title='Legend', title_fontsize=11, frameon=True)\n"
     ]
    },
    {
     "name": "stdout",
     "output_type": "stream",
     "text": [
      "Saved plot to /home/libe2152/optimizedsampling/0_data/initial_samples/india_secc/convenience_sampling/plots/top50_urban_areas_700_points_probabilistic_seed_42.png\n",
      "Initializing ConvenienceSampler...\n",
      "Loading precomputed distances from /home/libe2152/optimizedsampling/0_data/distances/india_secc/distance_to_top50_urban.pkl...\n"
     ]
    },
    {
     "name": "stdout",
     "output_type": "stream",
     "text": [
      "Running probabilistic sampling...\n",
      "Saved 700 sampled IDs to /home/libe2152/optimizedsampling/0_data/initial_samples/india_secc/convenience_sampling/probabilistic/IDS_top50_urban_700_points_probabilistic_seed_123.pkl\n"
     ]
    },
    {
     "name": "stderr",
     "output_type": "stream",
     "text": [
      "/home/libe2152/optimizedsampling/2_initial_sample/convenience_sampling.py:113: UserWarning: Legend does not support handles for PatchCollection instances.\n",
      "See: https://matplotlib.org/stable/tutorials/intermediate/legend_guide.html#implementing-a-custom-legend-handler\n",
      "  ax.legend(loc='lower left', fontsize=10, title='Legend', title_fontsize=11, frameon=True)\n",
      "/home/libe2152/optimizedsampling/2_initial_sample/convenience_sampling.py:113: UserWarning: No artists with labels found to put in legend.  Note that artists whose label start with an underscore are ignored when legend() is called with no argument.\n",
      "  ax.legend(loc='lower left', fontsize=10, title='Legend', title_fontsize=11, frameon=True)\n"
     ]
    },
    {
     "name": "stdout",
     "output_type": "stream",
     "text": [
      "Saved plot to /home/libe2152/optimizedsampling/0_data/initial_samples/india_secc/convenience_sampling/plots/top50_urban_areas_700_points_probabilistic_seed_123.png\n",
      "Initializing ConvenienceSampler...\n",
      "Loading precomputed distances from /home/libe2152/optimizedsampling/0_data/distances/india_secc/distance_to_top50_urban.pkl...\n",
      "Running probabilistic sampling...\n"
     ]
    },
    {
     "name": "stdout",
     "output_type": "stream",
     "text": [
      "Saved 700 sampled IDs to /home/libe2152/optimizedsampling/0_data/initial_samples/india_secc/convenience_sampling/probabilistic/IDS_top50_urban_700_points_probabilistic_seed_456.pkl\n"
     ]
    },
    {
     "name": "stderr",
     "output_type": "stream",
     "text": [
      "/home/libe2152/optimizedsampling/2_initial_sample/convenience_sampling.py:113: UserWarning: Legend does not support handles for PatchCollection instances.\n",
      "See: https://matplotlib.org/stable/tutorials/intermediate/legend_guide.html#implementing-a-custom-legend-handler\n",
      "  ax.legend(loc='lower left', fontsize=10, title='Legend', title_fontsize=11, frameon=True)\n",
      "/home/libe2152/optimizedsampling/2_initial_sample/convenience_sampling.py:113: UserWarning: No artists with labels found to put in legend.  Note that artists whose label start with an underscore are ignored when legend() is called with no argument.\n",
      "  ax.legend(loc='lower left', fontsize=10, title='Legend', title_fontsize=11, frameon=True)\n"
     ]
    },
    {
     "name": "stdout",
     "output_type": "stream",
     "text": [
      "Saved plot to /home/libe2152/optimizedsampling/0_data/initial_samples/india_secc/convenience_sampling/plots/top50_urban_areas_700_points_probabilistic_seed_456.png\n",
      "Initializing ConvenienceSampler...\n",
      "Loading precomputed distances from /home/libe2152/optimizedsampling/0_data/distances/india_secc/distance_to_top50_urban.pkl...\n",
      "Running probabilistic sampling...\n"
     ]
    },
    {
     "name": "stdout",
     "output_type": "stream",
     "text": [
      "Saved 700 sampled IDs to /home/libe2152/optimizedsampling/0_data/initial_samples/india_secc/convenience_sampling/probabilistic/IDS_top50_urban_700_points_probabilistic_seed_789.pkl\n"
     ]
    },
    {
     "name": "stderr",
     "output_type": "stream",
     "text": [
      "/home/libe2152/optimizedsampling/2_initial_sample/convenience_sampling.py:113: UserWarning: Legend does not support handles for PatchCollection instances.\n",
      "See: https://matplotlib.org/stable/tutorials/intermediate/legend_guide.html#implementing-a-custom-legend-handler\n",
      "  ax.legend(loc='lower left', fontsize=10, title='Legend', title_fontsize=11, frameon=True)\n",
      "/home/libe2152/optimizedsampling/2_initial_sample/convenience_sampling.py:113: UserWarning: No artists with labels found to put in legend.  Note that artists whose label start with an underscore are ignored when legend() is called with no argument.\n",
      "  ax.legend(loc='lower left', fontsize=10, title='Legend', title_fontsize=11, frameon=True)\n"
     ]
    },
    {
     "name": "stdout",
     "output_type": "stream",
     "text": [
      "Saved plot to /home/libe2152/optimizedsampling/0_data/initial_samples/india_secc/convenience_sampling/plots/top50_urban_areas_700_points_probabilistic_seed_789.png\n",
      "Initializing ConvenienceSampler...\n",
      "Loading precomputed distances from /home/libe2152/optimizedsampling/0_data/distances/india_secc/distance_to_top50_urban.pkl...\n"
     ]
    },
    {
     "name": "stdout",
     "output_type": "stream",
     "text": [
      "Running probabilistic sampling...\n",
      "Saved 700 sampled IDs to /home/libe2152/optimizedsampling/0_data/initial_samples/india_secc/convenience_sampling/probabilistic/IDS_top50_urban_700_points_probabilistic_seed_1234.pkl\n"
     ]
    },
    {
     "name": "stderr",
     "output_type": "stream",
     "text": [
      "/home/libe2152/optimizedsampling/2_initial_sample/convenience_sampling.py:113: UserWarning: Legend does not support handles for PatchCollection instances.\n",
      "See: https://matplotlib.org/stable/tutorials/intermediate/legend_guide.html#implementing-a-custom-legend-handler\n",
      "  ax.legend(loc='lower left', fontsize=10, title='Legend', title_fontsize=11, frameon=True)\n",
      "/home/libe2152/optimizedsampling/2_initial_sample/convenience_sampling.py:113: UserWarning: No artists with labels found to put in legend.  Note that artists whose label start with an underscore are ignored when legend() is called with no argument.\n",
      "  ax.legend(loc='lower left', fontsize=10, title='Legend', title_fontsize=11, frameon=True)\n"
     ]
    },
    {
     "name": "stdout",
     "output_type": "stream",
     "text": [
      "Saved plot to /home/libe2152/optimizedsampling/0_data/initial_samples/india_secc/convenience_sampling/plots/top50_urban_areas_700_points_probabilistic_seed_1234.png\n",
      "Initializing ConvenienceSampler...\n",
      "Loading precomputed distances from /home/libe2152/optimizedsampling/0_data/distances/india_secc/distance_to_top50_urban.pkl...\n"
     ]
    },
    {
     "name": "stdout",
     "output_type": "stream",
     "text": [
      "Running probabilistic sampling...\n",
      "Saved 700 sampled IDs to /home/libe2152/optimizedsampling/0_data/initial_samples/india_secc/convenience_sampling/probabilistic/IDS_top50_urban_700_points_probabilistic_seed_5678.pkl\n"
     ]
    },
    {
     "name": "stderr",
     "output_type": "stream",
     "text": [
      "/home/libe2152/optimizedsampling/2_initial_sample/convenience_sampling.py:113: UserWarning: Legend does not support handles for PatchCollection instances.\n",
      "See: https://matplotlib.org/stable/tutorials/intermediate/legend_guide.html#implementing-a-custom-legend-handler\n",
      "  ax.legend(loc='lower left', fontsize=10, title='Legend', title_fontsize=11, frameon=True)\n",
      "/home/libe2152/optimizedsampling/2_initial_sample/convenience_sampling.py:113: UserWarning: No artists with labels found to put in legend.  Note that artists whose label start with an underscore are ignored when legend() is called with no argument.\n",
      "  ax.legend(loc='lower left', fontsize=10, title='Legend', title_fontsize=11, frameon=True)\n"
     ]
    },
    {
     "name": "stdout",
     "output_type": "stream",
     "text": [
      "Saved plot to /home/libe2152/optimizedsampling/0_data/initial_samples/india_secc/convenience_sampling/plots/top50_urban_areas_700_points_probabilistic_seed_5678.png\n",
      "Initializing ConvenienceSampler...\n",
      "Loading precomputed distances from /home/libe2152/optimizedsampling/0_data/distances/india_secc/distance_to_top50_urban.pkl...\n",
      "Running probabilistic sampling...\n"
     ]
    },
    {
     "name": "stdout",
     "output_type": "stream",
     "text": [
      "Saved 700 sampled IDs to /home/libe2152/optimizedsampling/0_data/initial_samples/india_secc/convenience_sampling/probabilistic/IDS_top50_urban_700_points_probabilistic_seed_9101.pkl\n"
     ]
    },
    {
     "name": "stderr",
     "output_type": "stream",
     "text": [
      "/home/libe2152/optimizedsampling/2_initial_sample/convenience_sampling.py:113: UserWarning: Legend does not support handles for PatchCollection instances.\n",
      "See: https://matplotlib.org/stable/tutorials/intermediate/legend_guide.html#implementing-a-custom-legend-handler\n",
      "  ax.legend(loc='lower left', fontsize=10, title='Legend', title_fontsize=11, frameon=True)\n",
      "/home/libe2152/optimizedsampling/2_initial_sample/convenience_sampling.py:113: UserWarning: No artists with labels found to put in legend.  Note that artists whose label start with an underscore are ignored when legend() is called with no argument.\n",
      "  ax.legend(loc='lower left', fontsize=10, title='Legend', title_fontsize=11, frameon=True)\n"
     ]
    },
    {
     "name": "stdout",
     "output_type": "stream",
     "text": [
      "Saved plot to /home/libe2152/optimizedsampling/0_data/initial_samples/india_secc/convenience_sampling/plots/top50_urban_areas_700_points_probabilistic_seed_9101.png\n",
      "Initializing ConvenienceSampler...\n",
      "Loading precomputed distances from /home/libe2152/optimizedsampling/0_data/distances/india_secc/distance_to_top50_urban.pkl...\n",
      "Running probabilistic sampling...\n"
     ]
    },
    {
     "name": "stdout",
     "output_type": "stream",
     "text": [
      "Saved 700 sampled IDs to /home/libe2152/optimizedsampling/0_data/initial_samples/india_secc/convenience_sampling/probabilistic/IDS_top50_urban_700_points_probabilistic_seed_1213.pkl\n"
     ]
    },
    {
     "name": "stderr",
     "output_type": "stream",
     "text": [
      "/home/libe2152/optimizedsampling/2_initial_sample/convenience_sampling.py:113: UserWarning: Legend does not support handles for PatchCollection instances.\n",
      "See: https://matplotlib.org/stable/tutorials/intermediate/legend_guide.html#implementing-a-custom-legend-handler\n",
      "  ax.legend(loc='lower left', fontsize=10, title='Legend', title_fontsize=11, frameon=True)\n",
      "/home/libe2152/optimizedsampling/2_initial_sample/convenience_sampling.py:113: UserWarning: No artists with labels found to put in legend.  Note that artists whose label start with an underscore are ignored when legend() is called with no argument.\n",
      "  ax.legend(loc='lower left', fontsize=10, title='Legend', title_fontsize=11, frameon=True)\n"
     ]
    },
    {
     "name": "stdout",
     "output_type": "stream",
     "text": [
      "Saved plot to /home/libe2152/optimizedsampling/0_data/initial_samples/india_secc/convenience_sampling/plots/top50_urban_areas_700_points_probabilistic_seed_1213.png\n",
      "Initializing ConvenienceSampler...\n",
      "Loading precomputed distances from /home/libe2152/optimizedsampling/0_data/distances/india_secc/distance_to_top50_urban.pkl...\n"
     ]
    },
    {
     "name": "stdout",
     "output_type": "stream",
     "text": [
      "Running probabilistic sampling...\n",
      "Saved 700 sampled IDs to /home/libe2152/optimizedsampling/0_data/initial_samples/india_secc/convenience_sampling/probabilistic/IDS_top50_urban_700_points_probabilistic_seed_1415.pkl\n"
     ]
    },
    {
     "name": "stderr",
     "output_type": "stream",
     "text": [
      "/home/libe2152/optimizedsampling/2_initial_sample/convenience_sampling.py:113: UserWarning: Legend does not support handles for PatchCollection instances.\n",
      "See: https://matplotlib.org/stable/tutorials/intermediate/legend_guide.html#implementing-a-custom-legend-handler\n",
      "  ax.legend(loc='lower left', fontsize=10, title='Legend', title_fontsize=11, frameon=True)\n",
      "/home/libe2152/optimizedsampling/2_initial_sample/convenience_sampling.py:113: UserWarning: No artists with labels found to put in legend.  Note that artists whose label start with an underscore are ignored when legend() is called with no argument.\n",
      "  ax.legend(loc='lower left', fontsize=10, title='Legend', title_fontsize=11, frameon=True)\n"
     ]
    },
    {
     "name": "stdout",
     "output_type": "stream",
     "text": [
      "Saved plot to /home/libe2152/optimizedsampling/0_data/initial_samples/india_secc/convenience_sampling/plots/top50_urban_areas_700_points_probabilistic_seed_1415.png\n",
      "Initializing ConvenienceSampler...\n",
      "Loading precomputed distances from /home/libe2152/optimizedsampling/0_data/distances/india_secc/distance_to_top50_urban.pkl...\n"
     ]
    },
    {
     "name": "stdout",
     "output_type": "stream",
     "text": [
      "Running probabilistic sampling...\n",
      "Saved 800 sampled IDs to /home/libe2152/optimizedsampling/0_data/initial_samples/india_secc/convenience_sampling/probabilistic/IDS_top50_urban_800_points_probabilistic_seed_1.pkl\n"
     ]
    },
    {
     "name": "stderr",
     "output_type": "stream",
     "text": [
      "/home/libe2152/optimizedsampling/2_initial_sample/convenience_sampling.py:113: UserWarning: Legend does not support handles for PatchCollection instances.\n",
      "See: https://matplotlib.org/stable/tutorials/intermediate/legend_guide.html#implementing-a-custom-legend-handler\n",
      "  ax.legend(loc='lower left', fontsize=10, title='Legend', title_fontsize=11, frameon=True)\n",
      "/home/libe2152/optimizedsampling/2_initial_sample/convenience_sampling.py:113: UserWarning: No artists with labels found to put in legend.  Note that artists whose label start with an underscore are ignored when legend() is called with no argument.\n",
      "  ax.legend(loc='lower left', fontsize=10, title='Legend', title_fontsize=11, frameon=True)\n"
     ]
    },
    {
     "name": "stdout",
     "output_type": "stream",
     "text": [
      "Saved plot to /home/libe2152/optimizedsampling/0_data/initial_samples/india_secc/convenience_sampling/plots/top50_urban_areas_800_points_probabilistic_seed_1.png\n",
      "Initializing ConvenienceSampler...\n",
      "Loading precomputed distances from /home/libe2152/optimizedsampling/0_data/distances/india_secc/distance_to_top50_urban.pkl...\n"
     ]
    },
    {
     "name": "stdout",
     "output_type": "stream",
     "text": [
      "Running probabilistic sampling...\n",
      "Saved 800 sampled IDs to /home/libe2152/optimizedsampling/0_data/initial_samples/india_secc/convenience_sampling/probabilistic/IDS_top50_urban_800_points_probabilistic_seed_42.pkl\n"
     ]
    },
    {
     "name": "stderr",
     "output_type": "stream",
     "text": [
      "/home/libe2152/optimizedsampling/2_initial_sample/convenience_sampling.py:113: UserWarning: Legend does not support handles for PatchCollection instances.\n",
      "See: https://matplotlib.org/stable/tutorials/intermediate/legend_guide.html#implementing-a-custom-legend-handler\n",
      "  ax.legend(loc='lower left', fontsize=10, title='Legend', title_fontsize=11, frameon=True)\n",
      "/home/libe2152/optimizedsampling/2_initial_sample/convenience_sampling.py:113: UserWarning: No artists with labels found to put in legend.  Note that artists whose label start with an underscore are ignored when legend() is called with no argument.\n",
      "  ax.legend(loc='lower left', fontsize=10, title='Legend', title_fontsize=11, frameon=True)\n"
     ]
    },
    {
     "name": "stdout",
     "output_type": "stream",
     "text": [
      "Saved plot to /home/libe2152/optimizedsampling/0_data/initial_samples/india_secc/convenience_sampling/plots/top50_urban_areas_800_points_probabilistic_seed_42.png\n",
      "Initializing ConvenienceSampler...\n",
      "Loading precomputed distances from /home/libe2152/optimizedsampling/0_data/distances/india_secc/distance_to_top50_urban.pkl...\n"
     ]
    },
    {
     "name": "stdout",
     "output_type": "stream",
     "text": [
      "Running probabilistic sampling...\n",
      "Saved 800 sampled IDs to /home/libe2152/optimizedsampling/0_data/initial_samples/india_secc/convenience_sampling/probabilistic/IDS_top50_urban_800_points_probabilistic_seed_123.pkl\n"
     ]
    },
    {
     "name": "stderr",
     "output_type": "stream",
     "text": [
      "/home/libe2152/optimizedsampling/2_initial_sample/convenience_sampling.py:113: UserWarning: Legend does not support handles for PatchCollection instances.\n",
      "See: https://matplotlib.org/stable/tutorials/intermediate/legend_guide.html#implementing-a-custom-legend-handler\n",
      "  ax.legend(loc='lower left', fontsize=10, title='Legend', title_fontsize=11, frameon=True)\n",
      "/home/libe2152/optimizedsampling/2_initial_sample/convenience_sampling.py:113: UserWarning: No artists with labels found to put in legend.  Note that artists whose label start with an underscore are ignored when legend() is called with no argument.\n",
      "  ax.legend(loc='lower left', fontsize=10, title='Legend', title_fontsize=11, frameon=True)\n"
     ]
    },
    {
     "name": "stdout",
     "output_type": "stream",
     "text": [
      "Saved plot to /home/libe2152/optimizedsampling/0_data/initial_samples/india_secc/convenience_sampling/plots/top50_urban_areas_800_points_probabilistic_seed_123.png\n",
      "Initializing ConvenienceSampler...\n",
      "Loading precomputed distances from /home/libe2152/optimizedsampling/0_data/distances/india_secc/distance_to_top50_urban.pkl...\n",
      "Running probabilistic sampling...\n"
     ]
    },
    {
     "name": "stdout",
     "output_type": "stream",
     "text": [
      "Saved 800 sampled IDs to /home/libe2152/optimizedsampling/0_data/initial_samples/india_secc/convenience_sampling/probabilistic/IDS_top50_urban_800_points_probabilistic_seed_456.pkl\n"
     ]
    },
    {
     "name": "stderr",
     "output_type": "stream",
     "text": [
      "/home/libe2152/optimizedsampling/2_initial_sample/convenience_sampling.py:113: UserWarning: Legend does not support handles for PatchCollection instances.\n",
      "See: https://matplotlib.org/stable/tutorials/intermediate/legend_guide.html#implementing-a-custom-legend-handler\n",
      "  ax.legend(loc='lower left', fontsize=10, title='Legend', title_fontsize=11, frameon=True)\n",
      "/home/libe2152/optimizedsampling/2_initial_sample/convenience_sampling.py:113: UserWarning: No artists with labels found to put in legend.  Note that artists whose label start with an underscore are ignored when legend() is called with no argument.\n",
      "  ax.legend(loc='lower left', fontsize=10, title='Legend', title_fontsize=11, frameon=True)\n"
     ]
    },
    {
     "name": "stdout",
     "output_type": "stream",
     "text": [
      "Saved plot to /home/libe2152/optimizedsampling/0_data/initial_samples/india_secc/convenience_sampling/plots/top50_urban_areas_800_points_probabilistic_seed_456.png\n",
      "Initializing ConvenienceSampler...\n",
      "Loading precomputed distances from /home/libe2152/optimizedsampling/0_data/distances/india_secc/distance_to_top50_urban.pkl...\n"
     ]
    },
    {
     "name": "stdout",
     "output_type": "stream",
     "text": [
      "Running probabilistic sampling...\n",
      "Saved 800 sampled IDs to /home/libe2152/optimizedsampling/0_data/initial_samples/india_secc/convenience_sampling/probabilistic/IDS_top50_urban_800_points_probabilistic_seed_789.pkl\n"
     ]
    },
    {
     "name": "stderr",
     "output_type": "stream",
     "text": [
      "/home/libe2152/optimizedsampling/2_initial_sample/convenience_sampling.py:113: UserWarning: Legend does not support handles for PatchCollection instances.\n",
      "See: https://matplotlib.org/stable/tutorials/intermediate/legend_guide.html#implementing-a-custom-legend-handler\n",
      "  ax.legend(loc='lower left', fontsize=10, title='Legend', title_fontsize=11, frameon=True)\n",
      "/home/libe2152/optimizedsampling/2_initial_sample/convenience_sampling.py:113: UserWarning: No artists with labels found to put in legend.  Note that artists whose label start with an underscore are ignored when legend() is called with no argument.\n",
      "  ax.legend(loc='lower left', fontsize=10, title='Legend', title_fontsize=11, frameon=True)\n"
     ]
    },
    {
     "name": "stdout",
     "output_type": "stream",
     "text": [
      "Saved plot to /home/libe2152/optimizedsampling/0_data/initial_samples/india_secc/convenience_sampling/plots/top50_urban_areas_800_points_probabilistic_seed_789.png\n",
      "Initializing ConvenienceSampler...\n",
      "Loading precomputed distances from /home/libe2152/optimizedsampling/0_data/distances/india_secc/distance_to_top50_urban.pkl...\n",
      "Running probabilistic sampling...\n"
     ]
    },
    {
     "name": "stdout",
     "output_type": "stream",
     "text": [
      "Saved 800 sampled IDs to /home/libe2152/optimizedsampling/0_data/initial_samples/india_secc/convenience_sampling/probabilistic/IDS_top50_urban_800_points_probabilistic_seed_1234.pkl\n"
     ]
    },
    {
     "name": "stderr",
     "output_type": "stream",
     "text": [
      "/home/libe2152/optimizedsampling/2_initial_sample/convenience_sampling.py:113: UserWarning: Legend does not support handles for PatchCollection instances.\n",
      "See: https://matplotlib.org/stable/tutorials/intermediate/legend_guide.html#implementing-a-custom-legend-handler\n",
      "  ax.legend(loc='lower left', fontsize=10, title='Legend', title_fontsize=11, frameon=True)\n",
      "/home/libe2152/optimizedsampling/2_initial_sample/convenience_sampling.py:113: UserWarning: No artists with labels found to put in legend.  Note that artists whose label start with an underscore are ignored when legend() is called with no argument.\n",
      "  ax.legend(loc='lower left', fontsize=10, title='Legend', title_fontsize=11, frameon=True)\n"
     ]
    },
    {
     "name": "stdout",
     "output_type": "stream",
     "text": [
      "Saved plot to /home/libe2152/optimizedsampling/0_data/initial_samples/india_secc/convenience_sampling/plots/top50_urban_areas_800_points_probabilistic_seed_1234.png\n",
      "Initializing ConvenienceSampler...\n",
      "Loading precomputed distances from /home/libe2152/optimizedsampling/0_data/distances/india_secc/distance_to_top50_urban.pkl...\n"
     ]
    },
    {
     "name": "stdout",
     "output_type": "stream",
     "text": [
      "Running probabilistic sampling...\n",
      "Saved 800 sampled IDs to /home/libe2152/optimizedsampling/0_data/initial_samples/india_secc/convenience_sampling/probabilistic/IDS_top50_urban_800_points_probabilistic_seed_5678.pkl\n"
     ]
    },
    {
     "name": "stderr",
     "output_type": "stream",
     "text": [
      "/home/libe2152/optimizedsampling/2_initial_sample/convenience_sampling.py:113: UserWarning: Legend does not support handles for PatchCollection instances.\n",
      "See: https://matplotlib.org/stable/tutorials/intermediate/legend_guide.html#implementing-a-custom-legend-handler\n",
      "  ax.legend(loc='lower left', fontsize=10, title='Legend', title_fontsize=11, frameon=True)\n",
      "/home/libe2152/optimizedsampling/2_initial_sample/convenience_sampling.py:113: UserWarning: No artists with labels found to put in legend.  Note that artists whose label start with an underscore are ignored when legend() is called with no argument.\n",
      "  ax.legend(loc='lower left', fontsize=10, title='Legend', title_fontsize=11, frameon=True)\n"
     ]
    },
    {
     "name": "stdout",
     "output_type": "stream",
     "text": [
      "Saved plot to /home/libe2152/optimizedsampling/0_data/initial_samples/india_secc/convenience_sampling/plots/top50_urban_areas_800_points_probabilistic_seed_5678.png\n",
      "Initializing ConvenienceSampler...\n",
      "Loading precomputed distances from /home/libe2152/optimizedsampling/0_data/distances/india_secc/distance_to_top50_urban.pkl...\n",
      "Running probabilistic sampling...\n",
      "Saved 800 sampled IDs to /home/libe2152/optimizedsampling/0_data/initial_samples/india_secc/convenience_sampling/probabilistic/IDS_top50_urban_800_points_probabilistic_seed_9101.pkl\n"
     ]
    },
    {
     "name": "stderr",
     "output_type": "stream",
     "text": [
      "/home/libe2152/optimizedsampling/2_initial_sample/convenience_sampling.py:113: UserWarning: Legend does not support handles for PatchCollection instances.\n",
      "See: https://matplotlib.org/stable/tutorials/intermediate/legend_guide.html#implementing-a-custom-legend-handler\n",
      "  ax.legend(loc='lower left', fontsize=10, title='Legend', title_fontsize=11, frameon=True)\n",
      "/home/libe2152/optimizedsampling/2_initial_sample/convenience_sampling.py:113: UserWarning: No artists with labels found to put in legend.  Note that artists whose label start with an underscore are ignored when legend() is called with no argument.\n",
      "  ax.legend(loc='lower left', fontsize=10, title='Legend', title_fontsize=11, frameon=True)\n"
     ]
    },
    {
     "name": "stdout",
     "output_type": "stream",
     "text": [
      "Saved plot to /home/libe2152/optimizedsampling/0_data/initial_samples/india_secc/convenience_sampling/plots/top50_urban_areas_800_points_probabilistic_seed_9101.png\n",
      "Initializing ConvenienceSampler...\n",
      "Loading precomputed distances from /home/libe2152/optimizedsampling/0_data/distances/india_secc/distance_to_top50_urban.pkl...\n",
      "Running probabilistic sampling...\n",
      "Saved 800 sampled IDs to /home/libe2152/optimizedsampling/0_data/initial_samples/india_secc/convenience_sampling/probabilistic/IDS_top50_urban_800_points_probabilistic_seed_1213.pkl\n"
     ]
    },
    {
     "name": "stderr",
     "output_type": "stream",
     "text": [
      "/home/libe2152/optimizedsampling/2_initial_sample/convenience_sampling.py:113: UserWarning: Legend does not support handles for PatchCollection instances.\n",
      "See: https://matplotlib.org/stable/tutorials/intermediate/legend_guide.html#implementing-a-custom-legend-handler\n",
      "  ax.legend(loc='lower left', fontsize=10, title='Legend', title_fontsize=11, frameon=True)\n",
      "/home/libe2152/optimizedsampling/2_initial_sample/convenience_sampling.py:113: UserWarning: No artists with labels found to put in legend.  Note that artists whose label start with an underscore are ignored when legend() is called with no argument.\n",
      "  ax.legend(loc='lower left', fontsize=10, title='Legend', title_fontsize=11, frameon=True)\n"
     ]
    },
    {
     "name": "stdout",
     "output_type": "stream",
     "text": [
      "Saved plot to /home/libe2152/optimizedsampling/0_data/initial_samples/india_secc/convenience_sampling/plots/top50_urban_areas_800_points_probabilistic_seed_1213.png\n",
      "Initializing ConvenienceSampler...\n",
      "Loading precomputed distances from /home/libe2152/optimizedsampling/0_data/distances/india_secc/distance_to_top50_urban.pkl...\n",
      "Running probabilistic sampling...\n"
     ]
    },
    {
     "name": "stdout",
     "output_type": "stream",
     "text": [
      "Saved 800 sampled IDs to /home/libe2152/optimizedsampling/0_data/initial_samples/india_secc/convenience_sampling/probabilistic/IDS_top50_urban_800_points_probabilistic_seed_1415.pkl\n"
     ]
    },
    {
     "name": "stderr",
     "output_type": "stream",
     "text": [
      "/home/libe2152/optimizedsampling/2_initial_sample/convenience_sampling.py:113: UserWarning: Legend does not support handles for PatchCollection instances.\n",
      "See: https://matplotlib.org/stable/tutorials/intermediate/legend_guide.html#implementing-a-custom-legend-handler\n",
      "  ax.legend(loc='lower left', fontsize=10, title='Legend', title_fontsize=11, frameon=True)\n",
      "/home/libe2152/optimizedsampling/2_initial_sample/convenience_sampling.py:113: UserWarning: No artists with labels found to put in legend.  Note that artists whose label start with an underscore are ignored when legend() is called with no argument.\n",
      "  ax.legend(loc='lower left', fontsize=10, title='Legend', title_fontsize=11, frameon=True)\n"
     ]
    },
    {
     "name": "stdout",
     "output_type": "stream",
     "text": [
      "Saved plot to /home/libe2152/optimizedsampling/0_data/initial_samples/india_secc/convenience_sampling/plots/top50_urban_areas_800_points_probabilistic_seed_1415.png\n",
      "Initializing ConvenienceSampler...\n",
      "Loading precomputed distances from /home/libe2152/optimizedsampling/0_data/distances/india_secc/distance_to_top50_urban.pkl...\n"
     ]
    },
    {
     "name": "stdout",
     "output_type": "stream",
     "text": [
      "Running probabilistic sampling...\n",
      "Saved 900 sampled IDs to /home/libe2152/optimizedsampling/0_data/initial_samples/india_secc/convenience_sampling/probabilistic/IDS_top50_urban_900_points_probabilistic_seed_1.pkl\n"
     ]
    },
    {
     "name": "stderr",
     "output_type": "stream",
     "text": [
      "/home/libe2152/optimizedsampling/2_initial_sample/convenience_sampling.py:113: UserWarning: Legend does not support handles for PatchCollection instances.\n",
      "See: https://matplotlib.org/stable/tutorials/intermediate/legend_guide.html#implementing-a-custom-legend-handler\n",
      "  ax.legend(loc='lower left', fontsize=10, title='Legend', title_fontsize=11, frameon=True)\n",
      "/home/libe2152/optimizedsampling/2_initial_sample/convenience_sampling.py:113: UserWarning: No artists with labels found to put in legend.  Note that artists whose label start with an underscore are ignored when legend() is called with no argument.\n",
      "  ax.legend(loc='lower left', fontsize=10, title='Legend', title_fontsize=11, frameon=True)\n"
     ]
    },
    {
     "name": "stdout",
     "output_type": "stream",
     "text": [
      "Saved plot to /home/libe2152/optimizedsampling/0_data/initial_samples/india_secc/convenience_sampling/plots/top50_urban_areas_900_points_probabilistic_seed_1.png\n",
      "Initializing ConvenienceSampler...\n",
      "Loading precomputed distances from /home/libe2152/optimizedsampling/0_data/distances/india_secc/distance_to_top50_urban.pkl...\n",
      "Running probabilistic sampling...\n",
      "Saved 900 sampled IDs to /home/libe2152/optimizedsampling/0_data/initial_samples/india_secc/convenience_sampling/probabilistic/IDS_top50_urban_900_points_probabilistic_seed_42.pkl\n"
     ]
    },
    {
     "name": "stderr",
     "output_type": "stream",
     "text": [
      "/home/libe2152/optimizedsampling/2_initial_sample/convenience_sampling.py:113: UserWarning: Legend does not support handles for PatchCollection instances.\n",
      "See: https://matplotlib.org/stable/tutorials/intermediate/legend_guide.html#implementing-a-custom-legend-handler\n",
      "  ax.legend(loc='lower left', fontsize=10, title='Legend', title_fontsize=11, frameon=True)\n",
      "/home/libe2152/optimizedsampling/2_initial_sample/convenience_sampling.py:113: UserWarning: No artists with labels found to put in legend.  Note that artists whose label start with an underscore are ignored when legend() is called with no argument.\n",
      "  ax.legend(loc='lower left', fontsize=10, title='Legend', title_fontsize=11, frameon=True)\n"
     ]
    },
    {
     "name": "stdout",
     "output_type": "stream",
     "text": [
      "Saved plot to /home/libe2152/optimizedsampling/0_data/initial_samples/india_secc/convenience_sampling/plots/top50_urban_areas_900_points_probabilistic_seed_42.png\n",
      "Initializing ConvenienceSampler...\n",
      "Loading precomputed distances from /home/libe2152/optimizedsampling/0_data/distances/india_secc/distance_to_top50_urban.pkl...\n"
     ]
    },
    {
     "name": "stdout",
     "output_type": "stream",
     "text": [
      "Running probabilistic sampling...\n",
      "Saved 900 sampled IDs to /home/libe2152/optimizedsampling/0_data/initial_samples/india_secc/convenience_sampling/probabilistic/IDS_top50_urban_900_points_probabilistic_seed_123.pkl\n"
     ]
    },
    {
     "name": "stderr",
     "output_type": "stream",
     "text": [
      "/home/libe2152/optimizedsampling/2_initial_sample/convenience_sampling.py:113: UserWarning: Legend does not support handles for PatchCollection instances.\n",
      "See: https://matplotlib.org/stable/tutorials/intermediate/legend_guide.html#implementing-a-custom-legend-handler\n",
      "  ax.legend(loc='lower left', fontsize=10, title='Legend', title_fontsize=11, frameon=True)\n",
      "/home/libe2152/optimizedsampling/2_initial_sample/convenience_sampling.py:113: UserWarning: No artists with labels found to put in legend.  Note that artists whose label start with an underscore are ignored when legend() is called with no argument.\n",
      "  ax.legend(loc='lower left', fontsize=10, title='Legend', title_fontsize=11, frameon=True)\n"
     ]
    },
    {
     "name": "stdout",
     "output_type": "stream",
     "text": [
      "Saved plot to /home/libe2152/optimizedsampling/0_data/initial_samples/india_secc/convenience_sampling/plots/top50_urban_areas_900_points_probabilistic_seed_123.png\n",
      "Initializing ConvenienceSampler...\n",
      "Loading precomputed distances from /home/libe2152/optimizedsampling/0_data/distances/india_secc/distance_to_top50_urban.pkl...\n"
     ]
    },
    {
     "name": "stdout",
     "output_type": "stream",
     "text": [
      "Running probabilistic sampling...\n",
      "Saved 900 sampled IDs to /home/libe2152/optimizedsampling/0_data/initial_samples/india_secc/convenience_sampling/probabilistic/IDS_top50_urban_900_points_probabilistic_seed_456.pkl\n"
     ]
    },
    {
     "name": "stderr",
     "output_type": "stream",
     "text": [
      "/home/libe2152/optimizedsampling/2_initial_sample/convenience_sampling.py:113: UserWarning: Legend does not support handles for PatchCollection instances.\n",
      "See: https://matplotlib.org/stable/tutorials/intermediate/legend_guide.html#implementing-a-custom-legend-handler\n",
      "  ax.legend(loc='lower left', fontsize=10, title='Legend', title_fontsize=11, frameon=True)\n",
      "/home/libe2152/optimizedsampling/2_initial_sample/convenience_sampling.py:113: UserWarning: No artists with labels found to put in legend.  Note that artists whose label start with an underscore are ignored when legend() is called with no argument.\n",
      "  ax.legend(loc='lower left', fontsize=10, title='Legend', title_fontsize=11, frameon=True)\n"
     ]
    },
    {
     "name": "stdout",
     "output_type": "stream",
     "text": [
      "Saved plot to /home/libe2152/optimizedsampling/0_data/initial_samples/india_secc/convenience_sampling/plots/top50_urban_areas_900_points_probabilistic_seed_456.png\n",
      "Initializing ConvenienceSampler...\n",
      "Loading precomputed distances from /home/libe2152/optimizedsampling/0_data/distances/india_secc/distance_to_top50_urban.pkl...\n"
     ]
    },
    {
     "name": "stdout",
     "output_type": "stream",
     "text": [
      "Running probabilistic sampling...\n",
      "Saved 900 sampled IDs to /home/libe2152/optimizedsampling/0_data/initial_samples/india_secc/convenience_sampling/probabilistic/IDS_top50_urban_900_points_probabilistic_seed_789.pkl\n"
     ]
    },
    {
     "name": "stderr",
     "output_type": "stream",
     "text": [
      "/home/libe2152/optimizedsampling/2_initial_sample/convenience_sampling.py:113: UserWarning: Legend does not support handles for PatchCollection instances.\n",
      "See: https://matplotlib.org/stable/tutorials/intermediate/legend_guide.html#implementing-a-custom-legend-handler\n",
      "  ax.legend(loc='lower left', fontsize=10, title='Legend', title_fontsize=11, frameon=True)\n",
      "/home/libe2152/optimizedsampling/2_initial_sample/convenience_sampling.py:113: UserWarning: No artists with labels found to put in legend.  Note that artists whose label start with an underscore are ignored when legend() is called with no argument.\n",
      "  ax.legend(loc='lower left', fontsize=10, title='Legend', title_fontsize=11, frameon=True)\n"
     ]
    },
    {
     "name": "stdout",
     "output_type": "stream",
     "text": [
      "Saved plot to /home/libe2152/optimizedsampling/0_data/initial_samples/india_secc/convenience_sampling/plots/top50_urban_areas_900_points_probabilistic_seed_789.png\n",
      "Initializing ConvenienceSampler...\n",
      "Loading precomputed distances from /home/libe2152/optimizedsampling/0_data/distances/india_secc/distance_to_top50_urban.pkl...\n",
      "Running probabilistic sampling...\n",
      "Saved 900 sampled IDs to /home/libe2152/optimizedsampling/0_data/initial_samples/india_secc/convenience_sampling/probabilistic/IDS_top50_urban_900_points_probabilistic_seed_1234.pkl\n"
     ]
    },
    {
     "name": "stderr",
     "output_type": "stream",
     "text": [
      "/home/libe2152/optimizedsampling/2_initial_sample/convenience_sampling.py:113: UserWarning: Legend does not support handles for PatchCollection instances.\n",
      "See: https://matplotlib.org/stable/tutorials/intermediate/legend_guide.html#implementing-a-custom-legend-handler\n",
      "  ax.legend(loc='lower left', fontsize=10, title='Legend', title_fontsize=11, frameon=True)\n",
      "/home/libe2152/optimizedsampling/2_initial_sample/convenience_sampling.py:113: UserWarning: No artists with labels found to put in legend.  Note that artists whose label start with an underscore are ignored when legend() is called with no argument.\n",
      "  ax.legend(loc='lower left', fontsize=10, title='Legend', title_fontsize=11, frameon=True)\n"
     ]
    },
    {
     "name": "stdout",
     "output_type": "stream",
     "text": [
      "Saved plot to /home/libe2152/optimizedsampling/0_data/initial_samples/india_secc/convenience_sampling/plots/top50_urban_areas_900_points_probabilistic_seed_1234.png\n",
      "Initializing ConvenienceSampler...\n",
      "Loading precomputed distances from /home/libe2152/optimizedsampling/0_data/distances/india_secc/distance_to_top50_urban.pkl...\n"
     ]
    },
    {
     "name": "stdout",
     "output_type": "stream",
     "text": [
      "Running probabilistic sampling...\n",
      "Saved 900 sampled IDs to /home/libe2152/optimizedsampling/0_data/initial_samples/india_secc/convenience_sampling/probabilistic/IDS_top50_urban_900_points_probabilistic_seed_5678.pkl\n"
     ]
    },
    {
     "name": "stderr",
     "output_type": "stream",
     "text": [
      "/home/libe2152/optimizedsampling/2_initial_sample/convenience_sampling.py:113: UserWarning: Legend does not support handles for PatchCollection instances.\n",
      "See: https://matplotlib.org/stable/tutorials/intermediate/legend_guide.html#implementing-a-custom-legend-handler\n",
      "  ax.legend(loc='lower left', fontsize=10, title='Legend', title_fontsize=11, frameon=True)\n",
      "/home/libe2152/optimizedsampling/2_initial_sample/convenience_sampling.py:113: UserWarning: No artists with labels found to put in legend.  Note that artists whose label start with an underscore are ignored when legend() is called with no argument.\n",
      "  ax.legend(loc='lower left', fontsize=10, title='Legend', title_fontsize=11, frameon=True)\n"
     ]
    },
    {
     "name": "stdout",
     "output_type": "stream",
     "text": [
      "Saved plot to /home/libe2152/optimizedsampling/0_data/initial_samples/india_secc/convenience_sampling/plots/top50_urban_areas_900_points_probabilistic_seed_5678.png\n",
      "Initializing ConvenienceSampler...\n",
      "Loading precomputed distances from /home/libe2152/optimizedsampling/0_data/distances/india_secc/distance_to_top50_urban.pkl...\n"
     ]
    },
    {
     "name": "stdout",
     "output_type": "stream",
     "text": [
      "Running probabilistic sampling...\n",
      "Saved 900 sampled IDs to /home/libe2152/optimizedsampling/0_data/initial_samples/india_secc/convenience_sampling/probabilistic/IDS_top50_urban_900_points_probabilistic_seed_9101.pkl\n"
     ]
    },
    {
     "name": "stderr",
     "output_type": "stream",
     "text": [
      "/home/libe2152/optimizedsampling/2_initial_sample/convenience_sampling.py:113: UserWarning: Legend does not support handles for PatchCollection instances.\n",
      "See: https://matplotlib.org/stable/tutorials/intermediate/legend_guide.html#implementing-a-custom-legend-handler\n",
      "  ax.legend(loc='lower left', fontsize=10, title='Legend', title_fontsize=11, frameon=True)\n",
      "/home/libe2152/optimizedsampling/2_initial_sample/convenience_sampling.py:113: UserWarning: No artists with labels found to put in legend.  Note that artists whose label start with an underscore are ignored when legend() is called with no argument.\n",
      "  ax.legend(loc='lower left', fontsize=10, title='Legend', title_fontsize=11, frameon=True)\n"
     ]
    },
    {
     "name": "stdout",
     "output_type": "stream",
     "text": [
      "Saved plot to /home/libe2152/optimizedsampling/0_data/initial_samples/india_secc/convenience_sampling/plots/top50_urban_areas_900_points_probabilistic_seed_9101.png\n",
      "Initializing ConvenienceSampler...\n",
      "Loading precomputed distances from /home/libe2152/optimizedsampling/0_data/distances/india_secc/distance_to_top50_urban.pkl...\n"
     ]
    },
    {
     "name": "stdout",
     "output_type": "stream",
     "text": [
      "Running probabilistic sampling...\n",
      "Saved 900 sampled IDs to /home/libe2152/optimizedsampling/0_data/initial_samples/india_secc/convenience_sampling/probabilistic/IDS_top50_urban_900_points_probabilistic_seed_1213.pkl\n"
     ]
    },
    {
     "name": "stderr",
     "output_type": "stream",
     "text": [
      "/home/libe2152/optimizedsampling/2_initial_sample/convenience_sampling.py:113: UserWarning: Legend does not support handles for PatchCollection instances.\n",
      "See: https://matplotlib.org/stable/tutorials/intermediate/legend_guide.html#implementing-a-custom-legend-handler\n",
      "  ax.legend(loc='lower left', fontsize=10, title='Legend', title_fontsize=11, frameon=True)\n",
      "/home/libe2152/optimizedsampling/2_initial_sample/convenience_sampling.py:113: UserWarning: No artists with labels found to put in legend.  Note that artists whose label start with an underscore are ignored when legend() is called with no argument.\n",
      "  ax.legend(loc='lower left', fontsize=10, title='Legend', title_fontsize=11, frameon=True)\n"
     ]
    },
    {
     "name": "stdout",
     "output_type": "stream",
     "text": [
      "Saved plot to /home/libe2152/optimizedsampling/0_data/initial_samples/india_secc/convenience_sampling/plots/top50_urban_areas_900_points_probabilistic_seed_1213.png\n",
      "Initializing ConvenienceSampler...\n",
      "Loading precomputed distances from /home/libe2152/optimizedsampling/0_data/distances/india_secc/distance_to_top50_urban.pkl...\n"
     ]
    },
    {
     "name": "stdout",
     "output_type": "stream",
     "text": [
      "Running probabilistic sampling...\n",
      "Saved 900 sampled IDs to /home/libe2152/optimizedsampling/0_data/initial_samples/india_secc/convenience_sampling/probabilistic/IDS_top50_urban_900_points_probabilistic_seed_1415.pkl\n"
     ]
    },
    {
     "name": "stderr",
     "output_type": "stream",
     "text": [
      "/home/libe2152/optimizedsampling/2_initial_sample/convenience_sampling.py:113: UserWarning: Legend does not support handles for PatchCollection instances.\n",
      "See: https://matplotlib.org/stable/tutorials/intermediate/legend_guide.html#implementing-a-custom-legend-handler\n",
      "  ax.legend(loc='lower left', fontsize=10, title='Legend', title_fontsize=11, frameon=True)\n",
      "/home/libe2152/optimizedsampling/2_initial_sample/convenience_sampling.py:113: UserWarning: No artists with labels found to put in legend.  Note that artists whose label start with an underscore are ignored when legend() is called with no argument.\n",
      "  ax.legend(loc='lower left', fontsize=10, title='Legend', title_fontsize=11, frameon=True)\n"
     ]
    },
    {
     "name": "stdout",
     "output_type": "stream",
     "text": [
      "Saved plot to /home/libe2152/optimizedsampling/0_data/initial_samples/india_secc/convenience_sampling/plots/top50_urban_areas_900_points_probabilistic_seed_1415.png\n",
      "Initializing ConvenienceSampler...\n",
      "Loading precomputed distances from /home/libe2152/optimizedsampling/0_data/distances/india_secc/distance_to_top50_urban.pkl...\n"
     ]
    },
    {
     "name": "stdout",
     "output_type": "stream",
     "text": [
      "Running probabilistic sampling...\n",
      "Saved 1000 sampled IDs to /home/libe2152/optimizedsampling/0_data/initial_samples/india_secc/convenience_sampling/probabilistic/IDS_top50_urban_1000_points_probabilistic_seed_1.pkl\n"
     ]
    },
    {
     "name": "stderr",
     "output_type": "stream",
     "text": [
      "/home/libe2152/optimizedsampling/2_initial_sample/convenience_sampling.py:113: UserWarning: Legend does not support handles for PatchCollection instances.\n",
      "See: https://matplotlib.org/stable/tutorials/intermediate/legend_guide.html#implementing-a-custom-legend-handler\n",
      "  ax.legend(loc='lower left', fontsize=10, title='Legend', title_fontsize=11, frameon=True)\n",
      "/home/libe2152/optimizedsampling/2_initial_sample/convenience_sampling.py:113: UserWarning: No artists with labels found to put in legend.  Note that artists whose label start with an underscore are ignored when legend() is called with no argument.\n",
      "  ax.legend(loc='lower left', fontsize=10, title='Legend', title_fontsize=11, frameon=True)\n"
     ]
    },
    {
     "name": "stdout",
     "output_type": "stream",
     "text": [
      "Saved plot to /home/libe2152/optimizedsampling/0_data/initial_samples/india_secc/convenience_sampling/plots/top50_urban_areas_1000_points_probabilistic_seed_1.png\n",
      "Initializing ConvenienceSampler...\n",
      "Loading precomputed distances from /home/libe2152/optimizedsampling/0_data/distances/india_secc/distance_to_top50_urban.pkl...\n",
      "Running probabilistic sampling...\n",
      "Saved 1000 sampled IDs to /home/libe2152/optimizedsampling/0_data/initial_samples/india_secc/convenience_sampling/probabilistic/IDS_top50_urban_1000_points_probabilistic_seed_42.pkl\n"
     ]
    },
    {
     "name": "stderr",
     "output_type": "stream",
     "text": [
      "/home/libe2152/optimizedsampling/2_initial_sample/convenience_sampling.py:113: UserWarning: Legend does not support handles for PatchCollection instances.\n",
      "See: https://matplotlib.org/stable/tutorials/intermediate/legend_guide.html#implementing-a-custom-legend-handler\n",
      "  ax.legend(loc='lower left', fontsize=10, title='Legend', title_fontsize=11, frameon=True)\n",
      "/home/libe2152/optimizedsampling/2_initial_sample/convenience_sampling.py:113: UserWarning: No artists with labels found to put in legend.  Note that artists whose label start with an underscore are ignored when legend() is called with no argument.\n",
      "  ax.legend(loc='lower left', fontsize=10, title='Legend', title_fontsize=11, frameon=True)\n"
     ]
    },
    {
     "name": "stdout",
     "output_type": "stream",
     "text": [
      "Saved plot to /home/libe2152/optimizedsampling/0_data/initial_samples/india_secc/convenience_sampling/plots/top50_urban_areas_1000_points_probabilistic_seed_42.png\n",
      "Initializing ConvenienceSampler...\n",
      "Loading precomputed distances from /home/libe2152/optimizedsampling/0_data/distances/india_secc/distance_to_top50_urban.pkl...\n",
      "Running probabilistic sampling...\n",
      "Saved 1000 sampled IDs to /home/libe2152/optimizedsampling/0_data/initial_samples/india_secc/convenience_sampling/probabilistic/IDS_top50_urban_1000_points_probabilistic_seed_123.pkl\n"
     ]
    },
    {
     "name": "stderr",
     "output_type": "stream",
     "text": [
      "/home/libe2152/optimizedsampling/2_initial_sample/convenience_sampling.py:113: UserWarning: Legend does not support handles for PatchCollection instances.\n",
      "See: https://matplotlib.org/stable/tutorials/intermediate/legend_guide.html#implementing-a-custom-legend-handler\n",
      "  ax.legend(loc='lower left', fontsize=10, title='Legend', title_fontsize=11, frameon=True)\n",
      "/home/libe2152/optimizedsampling/2_initial_sample/convenience_sampling.py:113: UserWarning: No artists with labels found to put in legend.  Note that artists whose label start with an underscore are ignored when legend() is called with no argument.\n",
      "  ax.legend(loc='lower left', fontsize=10, title='Legend', title_fontsize=11, frameon=True)\n"
     ]
    },
    {
     "name": "stdout",
     "output_type": "stream",
     "text": [
      "Saved plot to /home/libe2152/optimizedsampling/0_data/initial_samples/india_secc/convenience_sampling/plots/top50_urban_areas_1000_points_probabilistic_seed_123.png\n",
      "Initializing ConvenienceSampler...\n",
      "Loading precomputed distances from /home/libe2152/optimizedsampling/0_data/distances/india_secc/distance_to_top50_urban.pkl...\n",
      "Running probabilistic sampling...\n",
      "Saved 1000 sampled IDs to /home/libe2152/optimizedsampling/0_data/initial_samples/india_secc/convenience_sampling/probabilistic/IDS_top50_urban_1000_points_probabilistic_seed_456.pkl\n"
     ]
    },
    {
     "name": "stderr",
     "output_type": "stream",
     "text": [
      "/home/libe2152/optimizedsampling/2_initial_sample/convenience_sampling.py:113: UserWarning: Legend does not support handles for PatchCollection instances.\n",
      "See: https://matplotlib.org/stable/tutorials/intermediate/legend_guide.html#implementing-a-custom-legend-handler\n",
      "  ax.legend(loc='lower left', fontsize=10, title='Legend', title_fontsize=11, frameon=True)\n",
      "/home/libe2152/optimizedsampling/2_initial_sample/convenience_sampling.py:113: UserWarning: No artists with labels found to put in legend.  Note that artists whose label start with an underscore are ignored when legend() is called with no argument.\n",
      "  ax.legend(loc='lower left', fontsize=10, title='Legend', title_fontsize=11, frameon=True)\n"
     ]
    },
    {
     "name": "stdout",
     "output_type": "stream",
     "text": [
      "Saved plot to /home/libe2152/optimizedsampling/0_data/initial_samples/india_secc/convenience_sampling/plots/top50_urban_areas_1000_points_probabilistic_seed_456.png\n",
      "Initializing ConvenienceSampler...\n",
      "Loading precomputed distances from /home/libe2152/optimizedsampling/0_data/distances/india_secc/distance_to_top50_urban.pkl...\n",
      "Running probabilistic sampling...\n",
      "Saved 1000 sampled IDs to /home/libe2152/optimizedsampling/0_data/initial_samples/india_secc/convenience_sampling/probabilistic/IDS_top50_urban_1000_points_probabilistic_seed_789.pkl\n"
     ]
    },
    {
     "name": "stderr",
     "output_type": "stream",
     "text": [
      "/home/libe2152/optimizedsampling/2_initial_sample/convenience_sampling.py:113: UserWarning: Legend does not support handles for PatchCollection instances.\n",
      "See: https://matplotlib.org/stable/tutorials/intermediate/legend_guide.html#implementing-a-custom-legend-handler\n",
      "  ax.legend(loc='lower left', fontsize=10, title='Legend', title_fontsize=11, frameon=True)\n",
      "/home/libe2152/optimizedsampling/2_initial_sample/convenience_sampling.py:113: UserWarning: No artists with labels found to put in legend.  Note that artists whose label start with an underscore are ignored when legend() is called with no argument.\n",
      "  ax.legend(loc='lower left', fontsize=10, title='Legend', title_fontsize=11, frameon=True)\n"
     ]
    },
    {
     "name": "stdout",
     "output_type": "stream",
     "text": [
      "Saved plot to /home/libe2152/optimizedsampling/0_data/initial_samples/india_secc/convenience_sampling/plots/top50_urban_areas_1000_points_probabilistic_seed_789.png\n",
      "Initializing ConvenienceSampler...\n",
      "Loading precomputed distances from /home/libe2152/optimizedsampling/0_data/distances/india_secc/distance_to_top50_urban.pkl...\n",
      "Running probabilistic sampling...\n"
     ]
    },
    {
     "name": "stdout",
     "output_type": "stream",
     "text": [
      "Saved 1000 sampled IDs to /home/libe2152/optimizedsampling/0_data/initial_samples/india_secc/convenience_sampling/probabilistic/IDS_top50_urban_1000_points_probabilistic_seed_1234.pkl\n"
     ]
    },
    {
     "name": "stderr",
     "output_type": "stream",
     "text": [
      "/home/libe2152/optimizedsampling/2_initial_sample/convenience_sampling.py:113: UserWarning: Legend does not support handles for PatchCollection instances.\n",
      "See: https://matplotlib.org/stable/tutorials/intermediate/legend_guide.html#implementing-a-custom-legend-handler\n",
      "  ax.legend(loc='lower left', fontsize=10, title='Legend', title_fontsize=11, frameon=True)\n",
      "/home/libe2152/optimizedsampling/2_initial_sample/convenience_sampling.py:113: UserWarning: No artists with labels found to put in legend.  Note that artists whose label start with an underscore are ignored when legend() is called with no argument.\n",
      "  ax.legend(loc='lower left', fontsize=10, title='Legend', title_fontsize=11, frameon=True)\n"
     ]
    },
    {
     "name": "stdout",
     "output_type": "stream",
     "text": [
      "Saved plot to /home/libe2152/optimizedsampling/0_data/initial_samples/india_secc/convenience_sampling/plots/top50_urban_areas_1000_points_probabilistic_seed_1234.png\n",
      "Initializing ConvenienceSampler...\n",
      "Loading precomputed distances from /home/libe2152/optimizedsampling/0_data/distances/india_secc/distance_to_top50_urban.pkl...\n"
     ]
    },
    {
     "name": "stdout",
     "output_type": "stream",
     "text": [
      "Running probabilistic sampling...\n",
      "Saved 1000 sampled IDs to /home/libe2152/optimizedsampling/0_data/initial_samples/india_secc/convenience_sampling/probabilistic/IDS_top50_urban_1000_points_probabilistic_seed_5678.pkl\n"
     ]
    },
    {
     "name": "stderr",
     "output_type": "stream",
     "text": [
      "/home/libe2152/optimizedsampling/2_initial_sample/convenience_sampling.py:113: UserWarning: Legend does not support handles for PatchCollection instances.\n",
      "See: https://matplotlib.org/stable/tutorials/intermediate/legend_guide.html#implementing-a-custom-legend-handler\n",
      "  ax.legend(loc='lower left', fontsize=10, title='Legend', title_fontsize=11, frameon=True)\n",
      "/home/libe2152/optimizedsampling/2_initial_sample/convenience_sampling.py:113: UserWarning: No artists with labels found to put in legend.  Note that artists whose label start with an underscore are ignored when legend() is called with no argument.\n",
      "  ax.legend(loc='lower left', fontsize=10, title='Legend', title_fontsize=11, frameon=True)\n"
     ]
    },
    {
     "name": "stdout",
     "output_type": "stream",
     "text": [
      "Saved plot to /home/libe2152/optimizedsampling/0_data/initial_samples/india_secc/convenience_sampling/plots/top50_urban_areas_1000_points_probabilistic_seed_5678.png\n",
      "Initializing ConvenienceSampler...\n",
      "Loading precomputed distances from /home/libe2152/optimizedsampling/0_data/distances/india_secc/distance_to_top50_urban.pkl...\n"
     ]
    },
    {
     "name": "stdout",
     "output_type": "stream",
     "text": [
      "Running probabilistic sampling...\n",
      "Saved 1000 sampled IDs to /home/libe2152/optimizedsampling/0_data/initial_samples/india_secc/convenience_sampling/probabilistic/IDS_top50_urban_1000_points_probabilistic_seed_9101.pkl\n"
     ]
    },
    {
     "name": "stderr",
     "output_type": "stream",
     "text": [
      "/home/libe2152/optimizedsampling/2_initial_sample/convenience_sampling.py:113: UserWarning: Legend does not support handles for PatchCollection instances.\n",
      "See: https://matplotlib.org/stable/tutorials/intermediate/legend_guide.html#implementing-a-custom-legend-handler\n",
      "  ax.legend(loc='lower left', fontsize=10, title='Legend', title_fontsize=11, frameon=True)\n",
      "/home/libe2152/optimizedsampling/2_initial_sample/convenience_sampling.py:113: UserWarning: No artists with labels found to put in legend.  Note that artists whose label start with an underscore are ignored when legend() is called with no argument.\n",
      "  ax.legend(loc='lower left', fontsize=10, title='Legend', title_fontsize=11, frameon=True)\n"
     ]
    },
    {
     "name": "stdout",
     "output_type": "stream",
     "text": [
      "Saved plot to /home/libe2152/optimizedsampling/0_data/initial_samples/india_secc/convenience_sampling/plots/top50_urban_areas_1000_points_probabilistic_seed_9101.png\n",
      "Initializing ConvenienceSampler...\n",
      "Loading precomputed distances from /home/libe2152/optimizedsampling/0_data/distances/india_secc/distance_to_top50_urban.pkl...\n",
      "Running probabilistic sampling...\n"
     ]
    },
    {
     "name": "stdout",
     "output_type": "stream",
     "text": [
      "Saved 1000 sampled IDs to /home/libe2152/optimizedsampling/0_data/initial_samples/india_secc/convenience_sampling/probabilistic/IDS_top50_urban_1000_points_probabilistic_seed_1213.pkl\n"
     ]
    },
    {
     "name": "stderr",
     "output_type": "stream",
     "text": [
      "/home/libe2152/optimizedsampling/2_initial_sample/convenience_sampling.py:113: UserWarning: Legend does not support handles for PatchCollection instances.\n",
      "See: https://matplotlib.org/stable/tutorials/intermediate/legend_guide.html#implementing-a-custom-legend-handler\n",
      "  ax.legend(loc='lower left', fontsize=10, title='Legend', title_fontsize=11, frameon=True)\n",
      "/home/libe2152/optimizedsampling/2_initial_sample/convenience_sampling.py:113: UserWarning: No artists with labels found to put in legend.  Note that artists whose label start with an underscore are ignored when legend() is called with no argument.\n",
      "  ax.legend(loc='lower left', fontsize=10, title='Legend', title_fontsize=11, frameon=True)\n"
     ]
    },
    {
     "name": "stdout",
     "output_type": "stream",
     "text": [
      "Saved plot to /home/libe2152/optimizedsampling/0_data/initial_samples/india_secc/convenience_sampling/plots/top50_urban_areas_1000_points_probabilistic_seed_1213.png\n",
      "Initializing ConvenienceSampler...\n",
      "Loading precomputed distances from /home/libe2152/optimizedsampling/0_data/distances/india_secc/distance_to_top50_urban.pkl...\n",
      "Running probabilistic sampling...\n"
     ]
    },
    {
     "name": "stdout",
     "output_type": "stream",
     "text": [
      "Saved 1000 sampled IDs to /home/libe2152/optimizedsampling/0_data/initial_samples/india_secc/convenience_sampling/probabilistic/IDS_top50_urban_1000_points_probabilistic_seed_1415.pkl\n"
     ]
    },
    {
     "name": "stderr",
     "output_type": "stream",
     "text": [
      "/home/libe2152/optimizedsampling/2_initial_sample/convenience_sampling.py:113: UserWarning: Legend does not support handles for PatchCollection instances.\n",
      "See: https://matplotlib.org/stable/tutorials/intermediate/legend_guide.html#implementing-a-custom-legend-handler\n",
      "  ax.legend(loc='lower left', fontsize=10, title='Legend', title_fontsize=11, frameon=True)\n",
      "/home/libe2152/optimizedsampling/2_initial_sample/convenience_sampling.py:113: UserWarning: No artists with labels found to put in legend.  Note that artists whose label start with an underscore are ignored when legend() is called with no argument.\n",
      "  ax.legend(loc='lower left', fontsize=10, title='Legend', title_fontsize=11, frameon=True)\n"
     ]
    },
    {
     "name": "stdout",
     "output_type": "stream",
     "text": [
      "Saved plot to /home/libe2152/optimizedsampling/0_data/initial_samples/india_secc/convenience_sampling/plots/top50_urban_areas_1000_points_probabilistic_seed_1415.png\n"
     ]
    }
   ],
   "source": [
    "id_col = 'condensed_shrug_id'\n",
    "gdf_path = '/share/india_secc/MOSAIKS/shrugs_with_all_admins.geojson'\n",
    "n_urban = 50\n",
    "pop_col = 'pc11_pca_tot_p_combined'\n",
    "country_shape_file = '/home/libe2152/optimizedsampling/0_data/boundaries/world/ne_10m_admin_0_countries.shp'\n",
    "country_name = 'India'\n",
    "out_path = f'/home/libe2152/optimizedsampling/0_data/initial_samples/india_secc/convenience_sampling'\n",
    "distances_dir = f'/home/libe2152/optimizedsampling/0_data/distances/india_secc/distance_to_top50_urban.pkl'\n",
    "\n",
    "print(\"Reading GeoDataFrame...\")\n",
    "gdf = gpd.read_file(gdf_path)\n",
    "\n",
    "method = 'deterministic'\n",
    "# for desired_sample_size in range(1000, 1100, 100):\n",
    "#     print(\"Initializing ConvenienceSampler...\")\n",
    "#     sampler = ConvenienceSampler(\n",
    "#         id_col=id_col,\n",
    "#         gdf_points=gdf,\n",
    "#         gdf_urban=gdf,\n",
    "#         n_urban=n_urban,\n",
    "#         pop_col=pop_col,\n",
    "#         distances_dir=distances_dir\n",
    "#     )\n",
    "\n",
    "#     sampler.sample(n_samples=desired_sample_size, method=method, seed=1) #seed needed to break ties\n",
    "#     sampler.save_sampled_ids(out_path)\n",
    "#     sampler.plot(country_shape_file=country_shape_file, country_name=country_name)\n",
    "\n",
    "method = 'probabilistic'\n",
    "for desired_sample_size in range(100, 1100, 100):\n",
    "    for seed in [1, 42, 123, 456, 789, 1234, 5678, 9101, 1213, 1415]:\n",
    "\n",
    "        print(\"Initializing ConvenienceSampler...\")\n",
    "        sampler = ConvenienceSampler(\n",
    "            id_col=id_col,\n",
    "            gdf_points=gdf,\n",
    "            gdf_urban=gdf,\n",
    "            n_urban=n_urban,\n",
    "            pop_col=pop_col,\n",
    "            distances_dir=distances_dir\n",
    "        )\n",
    "\n",
    "        sampler.sample(n_samples=desired_sample_size, method=method, seed=seed)\n",
    "        sampler.save_sampled_ids(out_path)\n",
    "        sampler.plot(country_shape_file=country_shape_file, country_name=country_name)"
   ]
  },
  {
   "cell_type": "markdown",
   "id": "6b1adef7",
   "metadata": {},
   "source": [
    "# Random Sampling"
   ]
  },
  {
   "cell_type": "code",
   "execution_count": 6,
   "id": "f754cb39",
   "metadata": {
    "execution": {
     "iopub.execute_input": "2025-07-15T16:14:08.841434Z",
     "iopub.status.busy": "2025-07-15T16:14:08.840977Z",
     "iopub.status.idle": "2025-07-15T16:14:08.844832Z",
     "shell.execute_reply": "2025-07-15T16:14:08.844244Z"
    }
   },
   "outputs": [],
   "source": [
    "from random_sampling import RandomSampler"
   ]
  },
  {
   "cell_type": "code",
   "execution_count": 7,
   "id": "bee20728",
   "metadata": {
    "execution": {
     "iopub.execute_input": "2025-07-15T16:14:08.846875Z",
     "iopub.status.busy": "2025-07-15T16:14:08.846639Z",
     "iopub.status.idle": "2025-07-15T17:15:00.986922Z",
     "shell.execute_reply": "2025-07-15T17:15:00.985889Z"
    }
   },
   "outputs": [
    {
     "name": "stdout",
     "output_type": "stream",
     "text": [
      "[Random Sample] Sampled 100 random points.\n",
      "[Random Sample] Saved IDs to /home/libe2152/optimizedsampling/0_data/initial_samples/india_secc/random_sampling/random_sample_100_points_seed_1.pkl\n"
     ]
    },
    {
     "name": "stderr",
     "output_type": "stream",
     "text": [
      "/home/libe2152/optimizedsampling/2_initial_sample/random_sampling.py:56: UserWarning: Legend does not support handles for PatchCollection instances.\n",
      "See: https://matplotlib.org/stable/tutorials/intermediate/legend_guide.html#implementing-a-custom-legend-handler\n",
      "  ax.legend(loc='lower left', fontsize=10)\n",
      "/home/libe2152/optimizedsampling/2_initial_sample/random_sampling.py:56: UserWarning: No artists with labels found to put in legend.  Note that artists whose label start with an underscore are ignored when legend() is called with no argument.\n",
      "  ax.legend(loc='lower left', fontsize=10)\n"
     ]
    },
    {
     "name": "stdout",
     "output_type": "stream",
     "text": [
      "[Random Sample] Sampled 100 random points.\n",
      "[Random Sample] Saved IDs to /home/libe2152/optimizedsampling/0_data/initial_samples/india_secc/random_sampling/random_sample_100_points_seed_42.pkl\n"
     ]
    },
    {
     "name": "stderr",
     "output_type": "stream",
     "text": [
      "/home/libe2152/optimizedsampling/2_initial_sample/random_sampling.py:56: UserWarning: Legend does not support handles for PatchCollection instances.\n",
      "See: https://matplotlib.org/stable/tutorials/intermediate/legend_guide.html#implementing-a-custom-legend-handler\n",
      "  ax.legend(loc='lower left', fontsize=10)\n",
      "/home/libe2152/optimizedsampling/2_initial_sample/random_sampling.py:56: UserWarning: No artists with labels found to put in legend.  Note that artists whose label start with an underscore are ignored when legend() is called with no argument.\n",
      "  ax.legend(loc='lower left', fontsize=10)\n"
     ]
    },
    {
     "name": "stdout",
     "output_type": "stream",
     "text": [
      "[Random Sample] Sampled 100 random points.\n",
      "[Random Sample] Saved IDs to /home/libe2152/optimizedsampling/0_data/initial_samples/india_secc/random_sampling/random_sample_100_points_seed_123.pkl\n"
     ]
    },
    {
     "name": "stderr",
     "output_type": "stream",
     "text": [
      "/home/libe2152/optimizedsampling/2_initial_sample/random_sampling.py:56: UserWarning: Legend does not support handles for PatchCollection instances.\n",
      "See: https://matplotlib.org/stable/tutorials/intermediate/legend_guide.html#implementing-a-custom-legend-handler\n",
      "  ax.legend(loc='lower left', fontsize=10)\n",
      "/home/libe2152/optimizedsampling/2_initial_sample/random_sampling.py:56: UserWarning: No artists with labels found to put in legend.  Note that artists whose label start with an underscore are ignored when legend() is called with no argument.\n",
      "  ax.legend(loc='lower left', fontsize=10)\n"
     ]
    },
    {
     "name": "stdout",
     "output_type": "stream",
     "text": [
      "[Random Sample] Sampled 100 random points.\n",
      "[Random Sample] Saved IDs to /home/libe2152/optimizedsampling/0_data/initial_samples/india_secc/random_sampling/random_sample_100_points_seed_456.pkl\n"
     ]
    },
    {
     "name": "stderr",
     "output_type": "stream",
     "text": [
      "/home/libe2152/optimizedsampling/2_initial_sample/random_sampling.py:56: UserWarning: Legend does not support handles for PatchCollection instances.\n",
      "See: https://matplotlib.org/stable/tutorials/intermediate/legend_guide.html#implementing-a-custom-legend-handler\n",
      "  ax.legend(loc='lower left', fontsize=10)\n",
      "/home/libe2152/optimizedsampling/2_initial_sample/random_sampling.py:56: UserWarning: No artists with labels found to put in legend.  Note that artists whose label start with an underscore are ignored when legend() is called with no argument.\n",
      "  ax.legend(loc='lower left', fontsize=10)\n"
     ]
    },
    {
     "name": "stdout",
     "output_type": "stream",
     "text": [
      "[Random Sample] Sampled 100 random points.\n",
      "[Random Sample] Saved IDs to /home/libe2152/optimizedsampling/0_data/initial_samples/india_secc/random_sampling/random_sample_100_points_seed_789.pkl\n"
     ]
    },
    {
     "name": "stderr",
     "output_type": "stream",
     "text": [
      "/home/libe2152/optimizedsampling/2_initial_sample/random_sampling.py:56: UserWarning: Legend does not support handles for PatchCollection instances.\n",
      "See: https://matplotlib.org/stable/tutorials/intermediate/legend_guide.html#implementing-a-custom-legend-handler\n",
      "  ax.legend(loc='lower left', fontsize=10)\n",
      "/home/libe2152/optimizedsampling/2_initial_sample/random_sampling.py:56: UserWarning: No artists with labels found to put in legend.  Note that artists whose label start with an underscore are ignored when legend() is called with no argument.\n",
      "  ax.legend(loc='lower left', fontsize=10)\n"
     ]
    },
    {
     "name": "stdout",
     "output_type": "stream",
     "text": [
      "[Random Sample] Sampled 100 random points.\n",
      "[Random Sample] Saved IDs to /home/libe2152/optimizedsampling/0_data/initial_samples/india_secc/random_sampling/random_sample_100_points_seed_1234.pkl\n"
     ]
    },
    {
     "name": "stderr",
     "output_type": "stream",
     "text": [
      "/home/libe2152/optimizedsampling/2_initial_sample/random_sampling.py:56: UserWarning: Legend does not support handles for PatchCollection instances.\n",
      "See: https://matplotlib.org/stable/tutorials/intermediate/legend_guide.html#implementing-a-custom-legend-handler\n",
      "  ax.legend(loc='lower left', fontsize=10)\n",
      "/home/libe2152/optimizedsampling/2_initial_sample/random_sampling.py:56: UserWarning: No artists with labels found to put in legend.  Note that artists whose label start with an underscore are ignored when legend() is called with no argument.\n",
      "  ax.legend(loc='lower left', fontsize=10)\n"
     ]
    },
    {
     "name": "stdout",
     "output_type": "stream",
     "text": [
      "[Random Sample] Sampled 100 random points.\n",
      "[Random Sample] Saved IDs to /home/libe2152/optimizedsampling/0_data/initial_samples/india_secc/random_sampling/random_sample_100_points_seed_5678.pkl\n"
     ]
    },
    {
     "name": "stderr",
     "output_type": "stream",
     "text": [
      "/home/libe2152/optimizedsampling/2_initial_sample/random_sampling.py:56: UserWarning: Legend does not support handles for PatchCollection instances.\n",
      "See: https://matplotlib.org/stable/tutorials/intermediate/legend_guide.html#implementing-a-custom-legend-handler\n",
      "  ax.legend(loc='lower left', fontsize=10)\n",
      "/home/libe2152/optimizedsampling/2_initial_sample/random_sampling.py:56: UserWarning: No artists with labels found to put in legend.  Note that artists whose label start with an underscore are ignored when legend() is called with no argument.\n",
      "  ax.legend(loc='lower left', fontsize=10)\n"
     ]
    },
    {
     "name": "stdout",
     "output_type": "stream",
     "text": [
      "[Random Sample] Sampled 100 random points.\n",
      "[Random Sample] Saved IDs to /home/libe2152/optimizedsampling/0_data/initial_samples/india_secc/random_sampling/random_sample_100_points_seed_9101.pkl\n"
     ]
    },
    {
     "name": "stderr",
     "output_type": "stream",
     "text": [
      "/home/libe2152/optimizedsampling/2_initial_sample/random_sampling.py:56: UserWarning: Legend does not support handles for PatchCollection instances.\n",
      "See: https://matplotlib.org/stable/tutorials/intermediate/legend_guide.html#implementing-a-custom-legend-handler\n",
      "  ax.legend(loc='lower left', fontsize=10)\n",
      "/home/libe2152/optimizedsampling/2_initial_sample/random_sampling.py:56: UserWarning: No artists with labels found to put in legend.  Note that artists whose label start with an underscore are ignored when legend() is called with no argument.\n",
      "  ax.legend(loc='lower left', fontsize=10)\n"
     ]
    },
    {
     "name": "stdout",
     "output_type": "stream",
     "text": [
      "[Random Sample] Sampled 100 random points.\n",
      "[Random Sample] Saved IDs to /home/libe2152/optimizedsampling/0_data/initial_samples/india_secc/random_sampling/random_sample_100_points_seed_1213.pkl\n"
     ]
    },
    {
     "name": "stderr",
     "output_type": "stream",
     "text": [
      "/home/libe2152/optimizedsampling/2_initial_sample/random_sampling.py:56: UserWarning: Legend does not support handles for PatchCollection instances.\n",
      "See: https://matplotlib.org/stable/tutorials/intermediate/legend_guide.html#implementing-a-custom-legend-handler\n",
      "  ax.legend(loc='lower left', fontsize=10)\n",
      "/home/libe2152/optimizedsampling/2_initial_sample/random_sampling.py:56: UserWarning: No artists with labels found to put in legend.  Note that artists whose label start with an underscore are ignored when legend() is called with no argument.\n",
      "  ax.legend(loc='lower left', fontsize=10)\n"
     ]
    },
    {
     "name": "stdout",
     "output_type": "stream",
     "text": [
      "[Random Sample] Sampled 100 random points.\n",
      "[Random Sample] Saved IDs to /home/libe2152/optimizedsampling/0_data/initial_samples/india_secc/random_sampling/random_sample_100_points_seed_1415.pkl\n"
     ]
    },
    {
     "name": "stderr",
     "output_type": "stream",
     "text": [
      "/home/libe2152/optimizedsampling/2_initial_sample/random_sampling.py:56: UserWarning: Legend does not support handles for PatchCollection instances.\n",
      "See: https://matplotlib.org/stable/tutorials/intermediate/legend_guide.html#implementing-a-custom-legend-handler\n",
      "  ax.legend(loc='lower left', fontsize=10)\n",
      "/home/libe2152/optimizedsampling/2_initial_sample/random_sampling.py:56: UserWarning: No artists with labels found to put in legend.  Note that artists whose label start with an underscore are ignored when legend() is called with no argument.\n",
      "  ax.legend(loc='lower left', fontsize=10)\n"
     ]
    },
    {
     "name": "stdout",
     "output_type": "stream",
     "text": [
      "[Random Sample] Sampled 200 random points.\n",
      "[Random Sample] Saved IDs to /home/libe2152/optimizedsampling/0_data/initial_samples/india_secc/random_sampling/random_sample_200_points_seed_1.pkl\n"
     ]
    },
    {
     "name": "stderr",
     "output_type": "stream",
     "text": [
      "/home/libe2152/optimizedsampling/2_initial_sample/random_sampling.py:56: UserWarning: Legend does not support handles for PatchCollection instances.\n",
      "See: https://matplotlib.org/stable/tutorials/intermediate/legend_guide.html#implementing-a-custom-legend-handler\n",
      "  ax.legend(loc='lower left', fontsize=10)\n",
      "/home/libe2152/optimizedsampling/2_initial_sample/random_sampling.py:56: UserWarning: No artists with labels found to put in legend.  Note that artists whose label start with an underscore are ignored when legend() is called with no argument.\n",
      "  ax.legend(loc='lower left', fontsize=10)\n"
     ]
    },
    {
     "name": "stdout",
     "output_type": "stream",
     "text": [
      "[Random Sample] Sampled 200 random points.\n",
      "[Random Sample] Saved IDs to /home/libe2152/optimizedsampling/0_data/initial_samples/india_secc/random_sampling/random_sample_200_points_seed_42.pkl\n"
     ]
    },
    {
     "name": "stderr",
     "output_type": "stream",
     "text": [
      "/home/libe2152/optimizedsampling/2_initial_sample/random_sampling.py:56: UserWarning: Legend does not support handles for PatchCollection instances.\n",
      "See: https://matplotlib.org/stable/tutorials/intermediate/legend_guide.html#implementing-a-custom-legend-handler\n",
      "  ax.legend(loc='lower left', fontsize=10)\n",
      "/home/libe2152/optimizedsampling/2_initial_sample/random_sampling.py:56: UserWarning: No artists with labels found to put in legend.  Note that artists whose label start with an underscore are ignored when legend() is called with no argument.\n",
      "  ax.legend(loc='lower left', fontsize=10)\n"
     ]
    },
    {
     "name": "stdout",
     "output_type": "stream",
     "text": [
      "[Random Sample] Sampled 200 random points.\n",
      "[Random Sample] Saved IDs to /home/libe2152/optimizedsampling/0_data/initial_samples/india_secc/random_sampling/random_sample_200_points_seed_123.pkl\n"
     ]
    },
    {
     "name": "stderr",
     "output_type": "stream",
     "text": [
      "/home/libe2152/optimizedsampling/2_initial_sample/random_sampling.py:56: UserWarning: Legend does not support handles for PatchCollection instances.\n",
      "See: https://matplotlib.org/stable/tutorials/intermediate/legend_guide.html#implementing-a-custom-legend-handler\n",
      "  ax.legend(loc='lower left', fontsize=10)\n",
      "/home/libe2152/optimizedsampling/2_initial_sample/random_sampling.py:56: UserWarning: No artists with labels found to put in legend.  Note that artists whose label start with an underscore are ignored when legend() is called with no argument.\n",
      "  ax.legend(loc='lower left', fontsize=10)\n"
     ]
    },
    {
     "name": "stdout",
     "output_type": "stream",
     "text": [
      "[Random Sample] Sampled 200 random points.\n",
      "[Random Sample] Saved IDs to /home/libe2152/optimizedsampling/0_data/initial_samples/india_secc/random_sampling/random_sample_200_points_seed_456.pkl\n"
     ]
    },
    {
     "name": "stderr",
     "output_type": "stream",
     "text": [
      "/home/libe2152/optimizedsampling/2_initial_sample/random_sampling.py:56: UserWarning: Legend does not support handles for PatchCollection instances.\n",
      "See: https://matplotlib.org/stable/tutorials/intermediate/legend_guide.html#implementing-a-custom-legend-handler\n",
      "  ax.legend(loc='lower left', fontsize=10)\n",
      "/home/libe2152/optimizedsampling/2_initial_sample/random_sampling.py:56: UserWarning: No artists with labels found to put in legend.  Note that artists whose label start with an underscore are ignored when legend() is called with no argument.\n",
      "  ax.legend(loc='lower left', fontsize=10)\n"
     ]
    },
    {
     "name": "stdout",
     "output_type": "stream",
     "text": [
      "[Random Sample] Sampled 200 random points.\n",
      "[Random Sample] Saved IDs to /home/libe2152/optimizedsampling/0_data/initial_samples/india_secc/random_sampling/random_sample_200_points_seed_789.pkl\n"
     ]
    },
    {
     "name": "stderr",
     "output_type": "stream",
     "text": [
      "/home/libe2152/optimizedsampling/2_initial_sample/random_sampling.py:56: UserWarning: Legend does not support handles for PatchCollection instances.\n",
      "See: https://matplotlib.org/stable/tutorials/intermediate/legend_guide.html#implementing-a-custom-legend-handler\n",
      "  ax.legend(loc='lower left', fontsize=10)\n",
      "/home/libe2152/optimizedsampling/2_initial_sample/random_sampling.py:56: UserWarning: No artists with labels found to put in legend.  Note that artists whose label start with an underscore are ignored when legend() is called with no argument.\n",
      "  ax.legend(loc='lower left', fontsize=10)\n"
     ]
    },
    {
     "name": "stdout",
     "output_type": "stream",
     "text": [
      "[Random Sample] Sampled 200 random points.\n",
      "[Random Sample] Saved IDs to /home/libe2152/optimizedsampling/0_data/initial_samples/india_secc/random_sampling/random_sample_200_points_seed_1234.pkl\n"
     ]
    },
    {
     "name": "stderr",
     "output_type": "stream",
     "text": [
      "/home/libe2152/optimizedsampling/2_initial_sample/random_sampling.py:56: UserWarning: Legend does not support handles for PatchCollection instances.\n",
      "See: https://matplotlib.org/stable/tutorials/intermediate/legend_guide.html#implementing-a-custom-legend-handler\n",
      "  ax.legend(loc='lower left', fontsize=10)\n",
      "/home/libe2152/optimizedsampling/2_initial_sample/random_sampling.py:56: UserWarning: No artists with labels found to put in legend.  Note that artists whose label start with an underscore are ignored when legend() is called with no argument.\n",
      "  ax.legend(loc='lower left', fontsize=10)\n"
     ]
    },
    {
     "name": "stdout",
     "output_type": "stream",
     "text": [
      "[Random Sample] Sampled 200 random points.\n",
      "[Random Sample] Saved IDs to /home/libe2152/optimizedsampling/0_data/initial_samples/india_secc/random_sampling/random_sample_200_points_seed_5678.pkl\n"
     ]
    },
    {
     "name": "stderr",
     "output_type": "stream",
     "text": [
      "/home/libe2152/optimizedsampling/2_initial_sample/random_sampling.py:56: UserWarning: Legend does not support handles for PatchCollection instances.\n",
      "See: https://matplotlib.org/stable/tutorials/intermediate/legend_guide.html#implementing-a-custom-legend-handler\n",
      "  ax.legend(loc='lower left', fontsize=10)\n",
      "/home/libe2152/optimizedsampling/2_initial_sample/random_sampling.py:56: UserWarning: No artists with labels found to put in legend.  Note that artists whose label start with an underscore are ignored when legend() is called with no argument.\n",
      "  ax.legend(loc='lower left', fontsize=10)\n"
     ]
    },
    {
     "name": "stdout",
     "output_type": "stream",
     "text": [
      "[Random Sample] Sampled 200 random points.\n",
      "[Random Sample] Saved IDs to /home/libe2152/optimizedsampling/0_data/initial_samples/india_secc/random_sampling/random_sample_200_points_seed_9101.pkl\n"
     ]
    },
    {
     "name": "stderr",
     "output_type": "stream",
     "text": [
      "/home/libe2152/optimizedsampling/2_initial_sample/random_sampling.py:56: UserWarning: Legend does not support handles for PatchCollection instances.\n",
      "See: https://matplotlib.org/stable/tutorials/intermediate/legend_guide.html#implementing-a-custom-legend-handler\n",
      "  ax.legend(loc='lower left', fontsize=10)\n",
      "/home/libe2152/optimizedsampling/2_initial_sample/random_sampling.py:56: UserWarning: No artists with labels found to put in legend.  Note that artists whose label start with an underscore are ignored when legend() is called with no argument.\n",
      "  ax.legend(loc='lower left', fontsize=10)\n"
     ]
    },
    {
     "name": "stdout",
     "output_type": "stream",
     "text": [
      "[Random Sample] Sampled 200 random points.\n",
      "[Random Sample] Saved IDs to /home/libe2152/optimizedsampling/0_data/initial_samples/india_secc/random_sampling/random_sample_200_points_seed_1213.pkl\n"
     ]
    },
    {
     "name": "stderr",
     "output_type": "stream",
     "text": [
      "/home/libe2152/optimizedsampling/2_initial_sample/random_sampling.py:56: UserWarning: Legend does not support handles for PatchCollection instances.\n",
      "See: https://matplotlib.org/stable/tutorials/intermediate/legend_guide.html#implementing-a-custom-legend-handler\n",
      "  ax.legend(loc='lower left', fontsize=10)\n",
      "/home/libe2152/optimizedsampling/2_initial_sample/random_sampling.py:56: UserWarning: No artists with labels found to put in legend.  Note that artists whose label start with an underscore are ignored when legend() is called with no argument.\n",
      "  ax.legend(loc='lower left', fontsize=10)\n"
     ]
    },
    {
     "name": "stdout",
     "output_type": "stream",
     "text": [
      "[Random Sample] Sampled 200 random points.\n",
      "[Random Sample] Saved IDs to /home/libe2152/optimizedsampling/0_data/initial_samples/india_secc/random_sampling/random_sample_200_points_seed_1415.pkl\n"
     ]
    },
    {
     "name": "stderr",
     "output_type": "stream",
     "text": [
      "/home/libe2152/optimizedsampling/2_initial_sample/random_sampling.py:56: UserWarning: Legend does not support handles for PatchCollection instances.\n",
      "See: https://matplotlib.org/stable/tutorials/intermediate/legend_guide.html#implementing-a-custom-legend-handler\n",
      "  ax.legend(loc='lower left', fontsize=10)\n",
      "/home/libe2152/optimizedsampling/2_initial_sample/random_sampling.py:56: UserWarning: No artists with labels found to put in legend.  Note that artists whose label start with an underscore are ignored when legend() is called with no argument.\n",
      "  ax.legend(loc='lower left', fontsize=10)\n"
     ]
    },
    {
     "name": "stdout",
     "output_type": "stream",
     "text": [
      "[Random Sample] Sampled 300 random points.\n",
      "[Random Sample] Saved IDs to /home/libe2152/optimizedsampling/0_data/initial_samples/india_secc/random_sampling/random_sample_300_points_seed_1.pkl\n"
     ]
    },
    {
     "name": "stderr",
     "output_type": "stream",
     "text": [
      "/home/libe2152/optimizedsampling/2_initial_sample/random_sampling.py:56: UserWarning: Legend does not support handles for PatchCollection instances.\n",
      "See: https://matplotlib.org/stable/tutorials/intermediate/legend_guide.html#implementing-a-custom-legend-handler\n",
      "  ax.legend(loc='lower left', fontsize=10)\n",
      "/home/libe2152/optimizedsampling/2_initial_sample/random_sampling.py:56: UserWarning: No artists with labels found to put in legend.  Note that artists whose label start with an underscore are ignored when legend() is called with no argument.\n",
      "  ax.legend(loc='lower left', fontsize=10)\n"
     ]
    },
    {
     "name": "stdout",
     "output_type": "stream",
     "text": [
      "[Random Sample] Sampled 300 random points.\n",
      "[Random Sample] Saved IDs to /home/libe2152/optimizedsampling/0_data/initial_samples/india_secc/random_sampling/random_sample_300_points_seed_42.pkl\n"
     ]
    },
    {
     "name": "stderr",
     "output_type": "stream",
     "text": [
      "/home/libe2152/optimizedsampling/2_initial_sample/random_sampling.py:56: UserWarning: Legend does not support handles for PatchCollection instances.\n",
      "See: https://matplotlib.org/stable/tutorials/intermediate/legend_guide.html#implementing-a-custom-legend-handler\n",
      "  ax.legend(loc='lower left', fontsize=10)\n",
      "/home/libe2152/optimizedsampling/2_initial_sample/random_sampling.py:56: UserWarning: No artists with labels found to put in legend.  Note that artists whose label start with an underscore are ignored when legend() is called with no argument.\n",
      "  ax.legend(loc='lower left', fontsize=10)\n"
     ]
    },
    {
     "name": "stdout",
     "output_type": "stream",
     "text": [
      "[Random Sample] Sampled 300 random points.\n",
      "[Random Sample] Saved IDs to /home/libe2152/optimizedsampling/0_data/initial_samples/india_secc/random_sampling/random_sample_300_points_seed_123.pkl\n"
     ]
    },
    {
     "name": "stderr",
     "output_type": "stream",
     "text": [
      "/home/libe2152/optimizedsampling/2_initial_sample/random_sampling.py:56: UserWarning: Legend does not support handles for PatchCollection instances.\n",
      "See: https://matplotlib.org/stable/tutorials/intermediate/legend_guide.html#implementing-a-custom-legend-handler\n",
      "  ax.legend(loc='lower left', fontsize=10)\n",
      "/home/libe2152/optimizedsampling/2_initial_sample/random_sampling.py:56: UserWarning: No artists with labels found to put in legend.  Note that artists whose label start with an underscore are ignored when legend() is called with no argument.\n",
      "  ax.legend(loc='lower left', fontsize=10)\n"
     ]
    },
    {
     "name": "stdout",
     "output_type": "stream",
     "text": [
      "[Random Sample] Sampled 300 random points.\n",
      "[Random Sample] Saved IDs to /home/libe2152/optimizedsampling/0_data/initial_samples/india_secc/random_sampling/random_sample_300_points_seed_456.pkl\n"
     ]
    },
    {
     "name": "stderr",
     "output_type": "stream",
     "text": [
      "/home/libe2152/optimizedsampling/2_initial_sample/random_sampling.py:56: UserWarning: Legend does not support handles for PatchCollection instances.\n",
      "See: https://matplotlib.org/stable/tutorials/intermediate/legend_guide.html#implementing-a-custom-legend-handler\n",
      "  ax.legend(loc='lower left', fontsize=10)\n",
      "/home/libe2152/optimizedsampling/2_initial_sample/random_sampling.py:56: UserWarning: No artists with labels found to put in legend.  Note that artists whose label start with an underscore are ignored when legend() is called with no argument.\n",
      "  ax.legend(loc='lower left', fontsize=10)\n"
     ]
    },
    {
     "name": "stdout",
     "output_type": "stream",
     "text": [
      "[Random Sample] Sampled 300 random points.\n",
      "[Random Sample] Saved IDs to /home/libe2152/optimizedsampling/0_data/initial_samples/india_secc/random_sampling/random_sample_300_points_seed_789.pkl\n"
     ]
    },
    {
     "name": "stderr",
     "output_type": "stream",
     "text": [
      "/home/libe2152/optimizedsampling/2_initial_sample/random_sampling.py:56: UserWarning: Legend does not support handles for PatchCollection instances.\n",
      "See: https://matplotlib.org/stable/tutorials/intermediate/legend_guide.html#implementing-a-custom-legend-handler\n",
      "  ax.legend(loc='lower left', fontsize=10)\n",
      "/home/libe2152/optimizedsampling/2_initial_sample/random_sampling.py:56: UserWarning: No artists with labels found to put in legend.  Note that artists whose label start with an underscore are ignored when legend() is called with no argument.\n",
      "  ax.legend(loc='lower left', fontsize=10)\n"
     ]
    },
    {
     "name": "stdout",
     "output_type": "stream",
     "text": [
      "[Random Sample] Sampled 300 random points.\n",
      "[Random Sample] Saved IDs to /home/libe2152/optimizedsampling/0_data/initial_samples/india_secc/random_sampling/random_sample_300_points_seed_1234.pkl\n"
     ]
    },
    {
     "name": "stderr",
     "output_type": "stream",
     "text": [
      "/home/libe2152/optimizedsampling/2_initial_sample/random_sampling.py:56: UserWarning: Legend does not support handles for PatchCollection instances.\n",
      "See: https://matplotlib.org/stable/tutorials/intermediate/legend_guide.html#implementing-a-custom-legend-handler\n",
      "  ax.legend(loc='lower left', fontsize=10)\n",
      "/home/libe2152/optimizedsampling/2_initial_sample/random_sampling.py:56: UserWarning: No artists with labels found to put in legend.  Note that artists whose label start with an underscore are ignored when legend() is called with no argument.\n",
      "  ax.legend(loc='lower left', fontsize=10)\n"
     ]
    },
    {
     "name": "stdout",
     "output_type": "stream",
     "text": [
      "[Random Sample] Sampled 300 random points.\n",
      "[Random Sample] Saved IDs to /home/libe2152/optimizedsampling/0_data/initial_samples/india_secc/random_sampling/random_sample_300_points_seed_5678.pkl\n"
     ]
    },
    {
     "name": "stderr",
     "output_type": "stream",
     "text": [
      "/home/libe2152/optimizedsampling/2_initial_sample/random_sampling.py:56: UserWarning: Legend does not support handles for PatchCollection instances.\n",
      "See: https://matplotlib.org/stable/tutorials/intermediate/legend_guide.html#implementing-a-custom-legend-handler\n",
      "  ax.legend(loc='lower left', fontsize=10)\n",
      "/home/libe2152/optimizedsampling/2_initial_sample/random_sampling.py:56: UserWarning: No artists with labels found to put in legend.  Note that artists whose label start with an underscore are ignored when legend() is called with no argument.\n",
      "  ax.legend(loc='lower left', fontsize=10)\n"
     ]
    },
    {
     "name": "stdout",
     "output_type": "stream",
     "text": [
      "[Random Sample] Sampled 300 random points.\n",
      "[Random Sample] Saved IDs to /home/libe2152/optimizedsampling/0_data/initial_samples/india_secc/random_sampling/random_sample_300_points_seed_9101.pkl\n"
     ]
    },
    {
     "name": "stderr",
     "output_type": "stream",
     "text": [
      "/home/libe2152/optimizedsampling/2_initial_sample/random_sampling.py:56: UserWarning: Legend does not support handles for PatchCollection instances.\n",
      "See: https://matplotlib.org/stable/tutorials/intermediate/legend_guide.html#implementing-a-custom-legend-handler\n",
      "  ax.legend(loc='lower left', fontsize=10)\n",
      "/home/libe2152/optimizedsampling/2_initial_sample/random_sampling.py:56: UserWarning: No artists with labels found to put in legend.  Note that artists whose label start with an underscore are ignored when legend() is called with no argument.\n",
      "  ax.legend(loc='lower left', fontsize=10)\n"
     ]
    },
    {
     "name": "stdout",
     "output_type": "stream",
     "text": [
      "[Random Sample] Sampled 300 random points.\n",
      "[Random Sample] Saved IDs to /home/libe2152/optimizedsampling/0_data/initial_samples/india_secc/random_sampling/random_sample_300_points_seed_1213.pkl\n"
     ]
    },
    {
     "name": "stderr",
     "output_type": "stream",
     "text": [
      "/home/libe2152/optimizedsampling/2_initial_sample/random_sampling.py:56: UserWarning: Legend does not support handles for PatchCollection instances.\n",
      "See: https://matplotlib.org/stable/tutorials/intermediate/legend_guide.html#implementing-a-custom-legend-handler\n",
      "  ax.legend(loc='lower left', fontsize=10)\n",
      "/home/libe2152/optimizedsampling/2_initial_sample/random_sampling.py:56: UserWarning: No artists with labels found to put in legend.  Note that artists whose label start with an underscore are ignored when legend() is called with no argument.\n",
      "  ax.legend(loc='lower left', fontsize=10)\n"
     ]
    },
    {
     "name": "stdout",
     "output_type": "stream",
     "text": [
      "[Random Sample] Sampled 300 random points.\n",
      "[Random Sample] Saved IDs to /home/libe2152/optimizedsampling/0_data/initial_samples/india_secc/random_sampling/random_sample_300_points_seed_1415.pkl\n"
     ]
    },
    {
     "name": "stderr",
     "output_type": "stream",
     "text": [
      "/home/libe2152/optimizedsampling/2_initial_sample/random_sampling.py:56: UserWarning: Legend does not support handles for PatchCollection instances.\n",
      "See: https://matplotlib.org/stable/tutorials/intermediate/legend_guide.html#implementing-a-custom-legend-handler\n",
      "  ax.legend(loc='lower left', fontsize=10)\n",
      "/home/libe2152/optimizedsampling/2_initial_sample/random_sampling.py:56: UserWarning: No artists with labels found to put in legend.  Note that artists whose label start with an underscore are ignored when legend() is called with no argument.\n",
      "  ax.legend(loc='lower left', fontsize=10)\n"
     ]
    },
    {
     "name": "stdout",
     "output_type": "stream",
     "text": [
      "[Random Sample] Sampled 400 random points.\n",
      "[Random Sample] Saved IDs to /home/libe2152/optimizedsampling/0_data/initial_samples/india_secc/random_sampling/random_sample_400_points_seed_1.pkl\n"
     ]
    },
    {
     "name": "stderr",
     "output_type": "stream",
     "text": [
      "/home/libe2152/optimizedsampling/2_initial_sample/random_sampling.py:56: UserWarning: Legend does not support handles for PatchCollection instances.\n",
      "See: https://matplotlib.org/stable/tutorials/intermediate/legend_guide.html#implementing-a-custom-legend-handler\n",
      "  ax.legend(loc='lower left', fontsize=10)\n",
      "/home/libe2152/optimizedsampling/2_initial_sample/random_sampling.py:56: UserWarning: No artists with labels found to put in legend.  Note that artists whose label start with an underscore are ignored when legend() is called with no argument.\n",
      "  ax.legend(loc='lower left', fontsize=10)\n"
     ]
    },
    {
     "name": "stdout",
     "output_type": "stream",
     "text": [
      "[Random Sample] Sampled 400 random points.\n",
      "[Random Sample] Saved IDs to /home/libe2152/optimizedsampling/0_data/initial_samples/india_secc/random_sampling/random_sample_400_points_seed_42.pkl\n"
     ]
    },
    {
     "name": "stderr",
     "output_type": "stream",
     "text": [
      "/home/libe2152/optimizedsampling/2_initial_sample/random_sampling.py:56: UserWarning: Legend does not support handles for PatchCollection instances.\n",
      "See: https://matplotlib.org/stable/tutorials/intermediate/legend_guide.html#implementing-a-custom-legend-handler\n",
      "  ax.legend(loc='lower left', fontsize=10)\n",
      "/home/libe2152/optimizedsampling/2_initial_sample/random_sampling.py:56: UserWarning: No artists with labels found to put in legend.  Note that artists whose label start with an underscore are ignored when legend() is called with no argument.\n",
      "  ax.legend(loc='lower left', fontsize=10)\n"
     ]
    },
    {
     "name": "stdout",
     "output_type": "stream",
     "text": [
      "[Random Sample] Sampled 400 random points.\n",
      "[Random Sample] Saved IDs to /home/libe2152/optimizedsampling/0_data/initial_samples/india_secc/random_sampling/random_sample_400_points_seed_123.pkl\n"
     ]
    },
    {
     "name": "stderr",
     "output_type": "stream",
     "text": [
      "/home/libe2152/optimizedsampling/2_initial_sample/random_sampling.py:56: UserWarning: Legend does not support handles for PatchCollection instances.\n",
      "See: https://matplotlib.org/stable/tutorials/intermediate/legend_guide.html#implementing-a-custom-legend-handler\n",
      "  ax.legend(loc='lower left', fontsize=10)\n",
      "/home/libe2152/optimizedsampling/2_initial_sample/random_sampling.py:56: UserWarning: No artists with labels found to put in legend.  Note that artists whose label start with an underscore are ignored when legend() is called with no argument.\n",
      "  ax.legend(loc='lower left', fontsize=10)\n"
     ]
    },
    {
     "name": "stdout",
     "output_type": "stream",
     "text": [
      "[Random Sample] Sampled 400 random points.\n",
      "[Random Sample] Saved IDs to /home/libe2152/optimizedsampling/0_data/initial_samples/india_secc/random_sampling/random_sample_400_points_seed_456.pkl\n"
     ]
    },
    {
     "name": "stderr",
     "output_type": "stream",
     "text": [
      "/home/libe2152/optimizedsampling/2_initial_sample/random_sampling.py:56: UserWarning: Legend does not support handles for PatchCollection instances.\n",
      "See: https://matplotlib.org/stable/tutorials/intermediate/legend_guide.html#implementing-a-custom-legend-handler\n",
      "  ax.legend(loc='lower left', fontsize=10)\n",
      "/home/libe2152/optimizedsampling/2_initial_sample/random_sampling.py:56: UserWarning: No artists with labels found to put in legend.  Note that artists whose label start with an underscore are ignored when legend() is called with no argument.\n",
      "  ax.legend(loc='lower left', fontsize=10)\n"
     ]
    },
    {
     "name": "stdout",
     "output_type": "stream",
     "text": [
      "[Random Sample] Sampled 400 random points.\n",
      "[Random Sample] Saved IDs to /home/libe2152/optimizedsampling/0_data/initial_samples/india_secc/random_sampling/random_sample_400_points_seed_789.pkl\n"
     ]
    },
    {
     "name": "stderr",
     "output_type": "stream",
     "text": [
      "/home/libe2152/optimizedsampling/2_initial_sample/random_sampling.py:56: UserWarning: Legend does not support handles for PatchCollection instances.\n",
      "See: https://matplotlib.org/stable/tutorials/intermediate/legend_guide.html#implementing-a-custom-legend-handler\n",
      "  ax.legend(loc='lower left', fontsize=10)\n",
      "/home/libe2152/optimizedsampling/2_initial_sample/random_sampling.py:56: UserWarning: No artists with labels found to put in legend.  Note that artists whose label start with an underscore are ignored when legend() is called with no argument.\n",
      "  ax.legend(loc='lower left', fontsize=10)\n"
     ]
    },
    {
     "name": "stdout",
     "output_type": "stream",
     "text": [
      "[Random Sample] Sampled 400 random points.\n",
      "[Random Sample] Saved IDs to /home/libe2152/optimizedsampling/0_data/initial_samples/india_secc/random_sampling/random_sample_400_points_seed_1234.pkl\n"
     ]
    },
    {
     "name": "stderr",
     "output_type": "stream",
     "text": [
      "/home/libe2152/optimizedsampling/2_initial_sample/random_sampling.py:56: UserWarning: Legend does not support handles for PatchCollection instances.\n",
      "See: https://matplotlib.org/stable/tutorials/intermediate/legend_guide.html#implementing-a-custom-legend-handler\n",
      "  ax.legend(loc='lower left', fontsize=10)\n",
      "/home/libe2152/optimizedsampling/2_initial_sample/random_sampling.py:56: UserWarning: No artists with labels found to put in legend.  Note that artists whose label start with an underscore are ignored when legend() is called with no argument.\n",
      "  ax.legend(loc='lower left', fontsize=10)\n"
     ]
    },
    {
     "name": "stdout",
     "output_type": "stream",
     "text": [
      "[Random Sample] Sampled 400 random points.\n",
      "[Random Sample] Saved IDs to /home/libe2152/optimizedsampling/0_data/initial_samples/india_secc/random_sampling/random_sample_400_points_seed_5678.pkl\n"
     ]
    },
    {
     "name": "stderr",
     "output_type": "stream",
     "text": [
      "/home/libe2152/optimizedsampling/2_initial_sample/random_sampling.py:56: UserWarning: Legend does not support handles for PatchCollection instances.\n",
      "See: https://matplotlib.org/stable/tutorials/intermediate/legend_guide.html#implementing-a-custom-legend-handler\n",
      "  ax.legend(loc='lower left', fontsize=10)\n",
      "/home/libe2152/optimizedsampling/2_initial_sample/random_sampling.py:56: UserWarning: No artists with labels found to put in legend.  Note that artists whose label start with an underscore are ignored when legend() is called with no argument.\n",
      "  ax.legend(loc='lower left', fontsize=10)\n"
     ]
    },
    {
     "name": "stdout",
     "output_type": "stream",
     "text": [
      "[Random Sample] Sampled 400 random points.\n",
      "[Random Sample] Saved IDs to /home/libe2152/optimizedsampling/0_data/initial_samples/india_secc/random_sampling/random_sample_400_points_seed_9101.pkl\n"
     ]
    },
    {
     "name": "stderr",
     "output_type": "stream",
     "text": [
      "/home/libe2152/optimizedsampling/2_initial_sample/random_sampling.py:56: UserWarning: Legend does not support handles for PatchCollection instances.\n",
      "See: https://matplotlib.org/stable/tutorials/intermediate/legend_guide.html#implementing-a-custom-legend-handler\n",
      "  ax.legend(loc='lower left', fontsize=10)\n",
      "/home/libe2152/optimizedsampling/2_initial_sample/random_sampling.py:56: UserWarning: No artists with labels found to put in legend.  Note that artists whose label start with an underscore are ignored when legend() is called with no argument.\n",
      "  ax.legend(loc='lower left', fontsize=10)\n"
     ]
    },
    {
     "name": "stdout",
     "output_type": "stream",
     "text": [
      "[Random Sample] Sampled 400 random points.\n",
      "[Random Sample] Saved IDs to /home/libe2152/optimizedsampling/0_data/initial_samples/india_secc/random_sampling/random_sample_400_points_seed_1213.pkl\n"
     ]
    },
    {
     "name": "stderr",
     "output_type": "stream",
     "text": [
      "/home/libe2152/optimizedsampling/2_initial_sample/random_sampling.py:56: UserWarning: Legend does not support handles for PatchCollection instances.\n",
      "See: https://matplotlib.org/stable/tutorials/intermediate/legend_guide.html#implementing-a-custom-legend-handler\n",
      "  ax.legend(loc='lower left', fontsize=10)\n",
      "/home/libe2152/optimizedsampling/2_initial_sample/random_sampling.py:56: UserWarning: No artists with labels found to put in legend.  Note that artists whose label start with an underscore are ignored when legend() is called with no argument.\n",
      "  ax.legend(loc='lower left', fontsize=10)\n"
     ]
    },
    {
     "name": "stdout",
     "output_type": "stream",
     "text": [
      "[Random Sample] Sampled 400 random points.\n",
      "[Random Sample] Saved IDs to /home/libe2152/optimizedsampling/0_data/initial_samples/india_secc/random_sampling/random_sample_400_points_seed_1415.pkl\n"
     ]
    },
    {
     "name": "stderr",
     "output_type": "stream",
     "text": [
      "/home/libe2152/optimizedsampling/2_initial_sample/random_sampling.py:56: UserWarning: Legend does not support handles for PatchCollection instances.\n",
      "See: https://matplotlib.org/stable/tutorials/intermediate/legend_guide.html#implementing-a-custom-legend-handler\n",
      "  ax.legend(loc='lower left', fontsize=10)\n",
      "/home/libe2152/optimizedsampling/2_initial_sample/random_sampling.py:56: UserWarning: No artists with labels found to put in legend.  Note that artists whose label start with an underscore are ignored when legend() is called with no argument.\n",
      "  ax.legend(loc='lower left', fontsize=10)\n"
     ]
    },
    {
     "name": "stdout",
     "output_type": "stream",
     "text": [
      "[Random Sample] Sampled 500 random points.\n",
      "[Random Sample] Saved IDs to /home/libe2152/optimizedsampling/0_data/initial_samples/india_secc/random_sampling/random_sample_500_points_seed_1.pkl\n"
     ]
    },
    {
     "name": "stderr",
     "output_type": "stream",
     "text": [
      "/home/libe2152/optimizedsampling/2_initial_sample/random_sampling.py:56: UserWarning: Legend does not support handles for PatchCollection instances.\n",
      "See: https://matplotlib.org/stable/tutorials/intermediate/legend_guide.html#implementing-a-custom-legend-handler\n",
      "  ax.legend(loc='lower left', fontsize=10)\n",
      "/home/libe2152/optimizedsampling/2_initial_sample/random_sampling.py:56: UserWarning: No artists with labels found to put in legend.  Note that artists whose label start with an underscore are ignored when legend() is called with no argument.\n",
      "  ax.legend(loc='lower left', fontsize=10)\n"
     ]
    },
    {
     "name": "stdout",
     "output_type": "stream",
     "text": [
      "[Random Sample] Sampled 500 random points.\n",
      "[Random Sample] Saved IDs to /home/libe2152/optimizedsampling/0_data/initial_samples/india_secc/random_sampling/random_sample_500_points_seed_42.pkl\n"
     ]
    },
    {
     "name": "stderr",
     "output_type": "stream",
     "text": [
      "/home/libe2152/optimizedsampling/2_initial_sample/random_sampling.py:56: UserWarning: Legend does not support handles for PatchCollection instances.\n",
      "See: https://matplotlib.org/stable/tutorials/intermediate/legend_guide.html#implementing-a-custom-legend-handler\n",
      "  ax.legend(loc='lower left', fontsize=10)\n",
      "/home/libe2152/optimizedsampling/2_initial_sample/random_sampling.py:56: UserWarning: No artists with labels found to put in legend.  Note that artists whose label start with an underscore are ignored when legend() is called with no argument.\n",
      "  ax.legend(loc='lower left', fontsize=10)\n"
     ]
    },
    {
     "name": "stdout",
     "output_type": "stream",
     "text": [
      "[Random Sample] Sampled 500 random points.\n",
      "[Random Sample] Saved IDs to /home/libe2152/optimizedsampling/0_data/initial_samples/india_secc/random_sampling/random_sample_500_points_seed_123.pkl\n"
     ]
    },
    {
     "name": "stderr",
     "output_type": "stream",
     "text": [
      "/home/libe2152/optimizedsampling/2_initial_sample/random_sampling.py:56: UserWarning: Legend does not support handles for PatchCollection instances.\n",
      "See: https://matplotlib.org/stable/tutorials/intermediate/legend_guide.html#implementing-a-custom-legend-handler\n",
      "  ax.legend(loc='lower left', fontsize=10)\n",
      "/home/libe2152/optimizedsampling/2_initial_sample/random_sampling.py:56: UserWarning: No artists with labels found to put in legend.  Note that artists whose label start with an underscore are ignored when legend() is called with no argument.\n",
      "  ax.legend(loc='lower left', fontsize=10)\n"
     ]
    },
    {
     "name": "stdout",
     "output_type": "stream",
     "text": [
      "[Random Sample] Sampled 500 random points.\n",
      "[Random Sample] Saved IDs to /home/libe2152/optimizedsampling/0_data/initial_samples/india_secc/random_sampling/random_sample_500_points_seed_456.pkl\n"
     ]
    },
    {
     "name": "stderr",
     "output_type": "stream",
     "text": [
      "/home/libe2152/optimizedsampling/2_initial_sample/random_sampling.py:56: UserWarning: Legend does not support handles for PatchCollection instances.\n",
      "See: https://matplotlib.org/stable/tutorials/intermediate/legend_guide.html#implementing-a-custom-legend-handler\n",
      "  ax.legend(loc='lower left', fontsize=10)\n",
      "/home/libe2152/optimizedsampling/2_initial_sample/random_sampling.py:56: UserWarning: No artists with labels found to put in legend.  Note that artists whose label start with an underscore are ignored when legend() is called with no argument.\n",
      "  ax.legend(loc='lower left', fontsize=10)\n"
     ]
    },
    {
     "name": "stdout",
     "output_type": "stream",
     "text": [
      "[Random Sample] Sampled 500 random points.\n",
      "[Random Sample] Saved IDs to /home/libe2152/optimizedsampling/0_data/initial_samples/india_secc/random_sampling/random_sample_500_points_seed_789.pkl\n"
     ]
    },
    {
     "name": "stderr",
     "output_type": "stream",
     "text": [
      "/home/libe2152/optimizedsampling/2_initial_sample/random_sampling.py:56: UserWarning: Legend does not support handles for PatchCollection instances.\n",
      "See: https://matplotlib.org/stable/tutorials/intermediate/legend_guide.html#implementing-a-custom-legend-handler\n",
      "  ax.legend(loc='lower left', fontsize=10)\n",
      "/home/libe2152/optimizedsampling/2_initial_sample/random_sampling.py:56: UserWarning: No artists with labels found to put in legend.  Note that artists whose label start with an underscore are ignored when legend() is called with no argument.\n",
      "  ax.legend(loc='lower left', fontsize=10)\n"
     ]
    },
    {
     "name": "stdout",
     "output_type": "stream",
     "text": [
      "[Random Sample] Sampled 500 random points.\n",
      "[Random Sample] Saved IDs to /home/libe2152/optimizedsampling/0_data/initial_samples/india_secc/random_sampling/random_sample_500_points_seed_1234.pkl\n"
     ]
    },
    {
     "name": "stderr",
     "output_type": "stream",
     "text": [
      "/home/libe2152/optimizedsampling/2_initial_sample/random_sampling.py:56: UserWarning: Legend does not support handles for PatchCollection instances.\n",
      "See: https://matplotlib.org/stable/tutorials/intermediate/legend_guide.html#implementing-a-custom-legend-handler\n",
      "  ax.legend(loc='lower left', fontsize=10)\n",
      "/home/libe2152/optimizedsampling/2_initial_sample/random_sampling.py:56: UserWarning: No artists with labels found to put in legend.  Note that artists whose label start with an underscore are ignored when legend() is called with no argument.\n",
      "  ax.legend(loc='lower left', fontsize=10)\n"
     ]
    },
    {
     "name": "stdout",
     "output_type": "stream",
     "text": [
      "[Random Sample] Sampled 500 random points.\n",
      "[Random Sample] Saved IDs to /home/libe2152/optimizedsampling/0_data/initial_samples/india_secc/random_sampling/random_sample_500_points_seed_5678.pkl\n"
     ]
    },
    {
     "name": "stderr",
     "output_type": "stream",
     "text": [
      "/home/libe2152/optimizedsampling/2_initial_sample/random_sampling.py:56: UserWarning: Legend does not support handles for PatchCollection instances.\n",
      "See: https://matplotlib.org/stable/tutorials/intermediate/legend_guide.html#implementing-a-custom-legend-handler\n",
      "  ax.legend(loc='lower left', fontsize=10)\n",
      "/home/libe2152/optimizedsampling/2_initial_sample/random_sampling.py:56: UserWarning: No artists with labels found to put in legend.  Note that artists whose label start with an underscore are ignored when legend() is called with no argument.\n",
      "  ax.legend(loc='lower left', fontsize=10)\n"
     ]
    },
    {
     "name": "stdout",
     "output_type": "stream",
     "text": [
      "[Random Sample] Sampled 500 random points.\n",
      "[Random Sample] Saved IDs to /home/libe2152/optimizedsampling/0_data/initial_samples/india_secc/random_sampling/random_sample_500_points_seed_9101.pkl\n"
     ]
    },
    {
     "name": "stderr",
     "output_type": "stream",
     "text": [
      "/home/libe2152/optimizedsampling/2_initial_sample/random_sampling.py:56: UserWarning: Legend does not support handles for PatchCollection instances.\n",
      "See: https://matplotlib.org/stable/tutorials/intermediate/legend_guide.html#implementing-a-custom-legend-handler\n",
      "  ax.legend(loc='lower left', fontsize=10)\n",
      "/home/libe2152/optimizedsampling/2_initial_sample/random_sampling.py:56: UserWarning: No artists with labels found to put in legend.  Note that artists whose label start with an underscore are ignored when legend() is called with no argument.\n",
      "  ax.legend(loc='lower left', fontsize=10)\n"
     ]
    },
    {
     "name": "stdout",
     "output_type": "stream",
     "text": [
      "[Random Sample] Sampled 500 random points.\n",
      "[Random Sample] Saved IDs to /home/libe2152/optimizedsampling/0_data/initial_samples/india_secc/random_sampling/random_sample_500_points_seed_1213.pkl\n"
     ]
    },
    {
     "name": "stderr",
     "output_type": "stream",
     "text": [
      "/home/libe2152/optimizedsampling/2_initial_sample/random_sampling.py:56: UserWarning: Legend does not support handles for PatchCollection instances.\n",
      "See: https://matplotlib.org/stable/tutorials/intermediate/legend_guide.html#implementing-a-custom-legend-handler\n",
      "  ax.legend(loc='lower left', fontsize=10)\n",
      "/home/libe2152/optimizedsampling/2_initial_sample/random_sampling.py:56: UserWarning: No artists with labels found to put in legend.  Note that artists whose label start with an underscore are ignored when legend() is called with no argument.\n",
      "  ax.legend(loc='lower left', fontsize=10)\n"
     ]
    },
    {
     "name": "stdout",
     "output_type": "stream",
     "text": [
      "[Random Sample] Sampled 500 random points.\n",
      "[Random Sample] Saved IDs to /home/libe2152/optimizedsampling/0_data/initial_samples/india_secc/random_sampling/random_sample_500_points_seed_1415.pkl\n"
     ]
    },
    {
     "name": "stderr",
     "output_type": "stream",
     "text": [
      "/home/libe2152/optimizedsampling/2_initial_sample/random_sampling.py:56: UserWarning: Legend does not support handles for PatchCollection instances.\n",
      "See: https://matplotlib.org/stable/tutorials/intermediate/legend_guide.html#implementing-a-custom-legend-handler\n",
      "  ax.legend(loc='lower left', fontsize=10)\n",
      "/home/libe2152/optimizedsampling/2_initial_sample/random_sampling.py:56: UserWarning: No artists with labels found to put in legend.  Note that artists whose label start with an underscore are ignored when legend() is called with no argument.\n",
      "  ax.legend(loc='lower left', fontsize=10)\n"
     ]
    },
    {
     "name": "stdout",
     "output_type": "stream",
     "text": [
      "[Random Sample] Sampled 600 random points.\n",
      "[Random Sample] Saved IDs to /home/libe2152/optimizedsampling/0_data/initial_samples/india_secc/random_sampling/random_sample_600_points_seed_1.pkl\n"
     ]
    },
    {
     "name": "stderr",
     "output_type": "stream",
     "text": [
      "/home/libe2152/optimizedsampling/2_initial_sample/random_sampling.py:56: UserWarning: Legend does not support handles for PatchCollection instances.\n",
      "See: https://matplotlib.org/stable/tutorials/intermediate/legend_guide.html#implementing-a-custom-legend-handler\n",
      "  ax.legend(loc='lower left', fontsize=10)\n",
      "/home/libe2152/optimizedsampling/2_initial_sample/random_sampling.py:56: UserWarning: No artists with labels found to put in legend.  Note that artists whose label start with an underscore are ignored when legend() is called with no argument.\n",
      "  ax.legend(loc='lower left', fontsize=10)\n"
     ]
    },
    {
     "name": "stdout",
     "output_type": "stream",
     "text": [
      "[Random Sample] Sampled 600 random points.\n",
      "[Random Sample] Saved IDs to /home/libe2152/optimizedsampling/0_data/initial_samples/india_secc/random_sampling/random_sample_600_points_seed_42.pkl\n"
     ]
    },
    {
     "name": "stderr",
     "output_type": "stream",
     "text": [
      "/home/libe2152/optimizedsampling/2_initial_sample/random_sampling.py:56: UserWarning: Legend does not support handles for PatchCollection instances.\n",
      "See: https://matplotlib.org/stable/tutorials/intermediate/legend_guide.html#implementing-a-custom-legend-handler\n",
      "  ax.legend(loc='lower left', fontsize=10)\n",
      "/home/libe2152/optimizedsampling/2_initial_sample/random_sampling.py:56: UserWarning: No artists with labels found to put in legend.  Note that artists whose label start with an underscore are ignored when legend() is called with no argument.\n",
      "  ax.legend(loc='lower left', fontsize=10)\n"
     ]
    },
    {
     "name": "stdout",
     "output_type": "stream",
     "text": [
      "[Random Sample] Sampled 600 random points.\n",
      "[Random Sample] Saved IDs to /home/libe2152/optimizedsampling/0_data/initial_samples/india_secc/random_sampling/random_sample_600_points_seed_123.pkl\n"
     ]
    },
    {
     "name": "stderr",
     "output_type": "stream",
     "text": [
      "/home/libe2152/optimizedsampling/2_initial_sample/random_sampling.py:56: UserWarning: Legend does not support handles for PatchCollection instances.\n",
      "See: https://matplotlib.org/stable/tutorials/intermediate/legend_guide.html#implementing-a-custom-legend-handler\n",
      "  ax.legend(loc='lower left', fontsize=10)\n",
      "/home/libe2152/optimizedsampling/2_initial_sample/random_sampling.py:56: UserWarning: No artists with labels found to put in legend.  Note that artists whose label start with an underscore are ignored when legend() is called with no argument.\n",
      "  ax.legend(loc='lower left', fontsize=10)\n"
     ]
    },
    {
     "name": "stdout",
     "output_type": "stream",
     "text": [
      "[Random Sample] Sampled 600 random points.\n",
      "[Random Sample] Saved IDs to /home/libe2152/optimizedsampling/0_data/initial_samples/india_secc/random_sampling/random_sample_600_points_seed_456.pkl\n"
     ]
    },
    {
     "name": "stderr",
     "output_type": "stream",
     "text": [
      "/home/libe2152/optimizedsampling/2_initial_sample/random_sampling.py:56: UserWarning: Legend does not support handles for PatchCollection instances.\n",
      "See: https://matplotlib.org/stable/tutorials/intermediate/legend_guide.html#implementing-a-custom-legend-handler\n",
      "  ax.legend(loc='lower left', fontsize=10)\n",
      "/home/libe2152/optimizedsampling/2_initial_sample/random_sampling.py:56: UserWarning: No artists with labels found to put in legend.  Note that artists whose label start with an underscore are ignored when legend() is called with no argument.\n",
      "  ax.legend(loc='lower left', fontsize=10)\n"
     ]
    },
    {
     "name": "stdout",
     "output_type": "stream",
     "text": [
      "[Random Sample] Sampled 600 random points.\n",
      "[Random Sample] Saved IDs to /home/libe2152/optimizedsampling/0_data/initial_samples/india_secc/random_sampling/random_sample_600_points_seed_789.pkl\n"
     ]
    },
    {
     "name": "stderr",
     "output_type": "stream",
     "text": [
      "/home/libe2152/optimizedsampling/2_initial_sample/random_sampling.py:56: UserWarning: Legend does not support handles for PatchCollection instances.\n",
      "See: https://matplotlib.org/stable/tutorials/intermediate/legend_guide.html#implementing-a-custom-legend-handler\n",
      "  ax.legend(loc='lower left', fontsize=10)\n",
      "/home/libe2152/optimizedsampling/2_initial_sample/random_sampling.py:56: UserWarning: No artists with labels found to put in legend.  Note that artists whose label start with an underscore are ignored when legend() is called with no argument.\n",
      "  ax.legend(loc='lower left', fontsize=10)\n"
     ]
    },
    {
     "name": "stdout",
     "output_type": "stream",
     "text": [
      "[Random Sample] Sampled 600 random points.\n",
      "[Random Sample] Saved IDs to /home/libe2152/optimizedsampling/0_data/initial_samples/india_secc/random_sampling/random_sample_600_points_seed_1234.pkl\n"
     ]
    },
    {
     "name": "stderr",
     "output_type": "stream",
     "text": [
      "/home/libe2152/optimizedsampling/2_initial_sample/random_sampling.py:56: UserWarning: Legend does not support handles for PatchCollection instances.\n",
      "See: https://matplotlib.org/stable/tutorials/intermediate/legend_guide.html#implementing-a-custom-legend-handler\n",
      "  ax.legend(loc='lower left', fontsize=10)\n",
      "/home/libe2152/optimizedsampling/2_initial_sample/random_sampling.py:56: UserWarning: No artists with labels found to put in legend.  Note that artists whose label start with an underscore are ignored when legend() is called with no argument.\n",
      "  ax.legend(loc='lower left', fontsize=10)\n"
     ]
    },
    {
     "name": "stdout",
     "output_type": "stream",
     "text": [
      "[Random Sample] Sampled 600 random points.\n",
      "[Random Sample] Saved IDs to /home/libe2152/optimizedsampling/0_data/initial_samples/india_secc/random_sampling/random_sample_600_points_seed_5678.pkl\n"
     ]
    },
    {
     "name": "stderr",
     "output_type": "stream",
     "text": [
      "/home/libe2152/optimizedsampling/2_initial_sample/random_sampling.py:56: UserWarning: Legend does not support handles for PatchCollection instances.\n",
      "See: https://matplotlib.org/stable/tutorials/intermediate/legend_guide.html#implementing-a-custom-legend-handler\n",
      "  ax.legend(loc='lower left', fontsize=10)\n",
      "/home/libe2152/optimizedsampling/2_initial_sample/random_sampling.py:56: UserWarning: No artists with labels found to put in legend.  Note that artists whose label start with an underscore are ignored when legend() is called with no argument.\n",
      "  ax.legend(loc='lower left', fontsize=10)\n"
     ]
    },
    {
     "name": "stdout",
     "output_type": "stream",
     "text": [
      "[Random Sample] Sampled 600 random points.\n",
      "[Random Sample] Saved IDs to /home/libe2152/optimizedsampling/0_data/initial_samples/india_secc/random_sampling/random_sample_600_points_seed_9101.pkl\n"
     ]
    },
    {
     "name": "stderr",
     "output_type": "stream",
     "text": [
      "/home/libe2152/optimizedsampling/2_initial_sample/random_sampling.py:56: UserWarning: Legend does not support handles for PatchCollection instances.\n",
      "See: https://matplotlib.org/stable/tutorials/intermediate/legend_guide.html#implementing-a-custom-legend-handler\n",
      "  ax.legend(loc='lower left', fontsize=10)\n",
      "/home/libe2152/optimizedsampling/2_initial_sample/random_sampling.py:56: UserWarning: No artists with labels found to put in legend.  Note that artists whose label start with an underscore are ignored when legend() is called with no argument.\n",
      "  ax.legend(loc='lower left', fontsize=10)\n"
     ]
    },
    {
     "name": "stdout",
     "output_type": "stream",
     "text": [
      "[Random Sample] Sampled 600 random points.\n",
      "[Random Sample] Saved IDs to /home/libe2152/optimizedsampling/0_data/initial_samples/india_secc/random_sampling/random_sample_600_points_seed_1213.pkl\n"
     ]
    },
    {
     "name": "stderr",
     "output_type": "stream",
     "text": [
      "/home/libe2152/optimizedsampling/2_initial_sample/random_sampling.py:56: UserWarning: Legend does not support handles for PatchCollection instances.\n",
      "See: https://matplotlib.org/stable/tutorials/intermediate/legend_guide.html#implementing-a-custom-legend-handler\n",
      "  ax.legend(loc='lower left', fontsize=10)\n",
      "/home/libe2152/optimizedsampling/2_initial_sample/random_sampling.py:56: UserWarning: No artists with labels found to put in legend.  Note that artists whose label start with an underscore are ignored when legend() is called with no argument.\n",
      "  ax.legend(loc='lower left', fontsize=10)\n"
     ]
    },
    {
     "name": "stdout",
     "output_type": "stream",
     "text": [
      "[Random Sample] Sampled 600 random points.\n",
      "[Random Sample] Saved IDs to /home/libe2152/optimizedsampling/0_data/initial_samples/india_secc/random_sampling/random_sample_600_points_seed_1415.pkl\n"
     ]
    },
    {
     "name": "stderr",
     "output_type": "stream",
     "text": [
      "/home/libe2152/optimizedsampling/2_initial_sample/random_sampling.py:56: UserWarning: Legend does not support handles for PatchCollection instances.\n",
      "See: https://matplotlib.org/stable/tutorials/intermediate/legend_guide.html#implementing-a-custom-legend-handler\n",
      "  ax.legend(loc='lower left', fontsize=10)\n",
      "/home/libe2152/optimizedsampling/2_initial_sample/random_sampling.py:56: UserWarning: No artists with labels found to put in legend.  Note that artists whose label start with an underscore are ignored when legend() is called with no argument.\n",
      "  ax.legend(loc='lower left', fontsize=10)\n"
     ]
    },
    {
     "name": "stdout",
     "output_type": "stream",
     "text": [
      "[Random Sample] Sampled 700 random points.\n",
      "[Random Sample] Saved IDs to /home/libe2152/optimizedsampling/0_data/initial_samples/india_secc/random_sampling/random_sample_700_points_seed_1.pkl\n"
     ]
    },
    {
     "name": "stderr",
     "output_type": "stream",
     "text": [
      "/home/libe2152/optimizedsampling/2_initial_sample/random_sampling.py:56: UserWarning: Legend does not support handles for PatchCollection instances.\n",
      "See: https://matplotlib.org/stable/tutorials/intermediate/legend_guide.html#implementing-a-custom-legend-handler\n",
      "  ax.legend(loc='lower left', fontsize=10)\n",
      "/home/libe2152/optimizedsampling/2_initial_sample/random_sampling.py:56: UserWarning: No artists with labels found to put in legend.  Note that artists whose label start with an underscore are ignored when legend() is called with no argument.\n",
      "  ax.legend(loc='lower left', fontsize=10)\n"
     ]
    },
    {
     "name": "stdout",
     "output_type": "stream",
     "text": [
      "[Random Sample] Sampled 700 random points.\n",
      "[Random Sample] Saved IDs to /home/libe2152/optimizedsampling/0_data/initial_samples/india_secc/random_sampling/random_sample_700_points_seed_42.pkl\n"
     ]
    },
    {
     "name": "stderr",
     "output_type": "stream",
     "text": [
      "/home/libe2152/optimizedsampling/2_initial_sample/random_sampling.py:56: UserWarning: Legend does not support handles for PatchCollection instances.\n",
      "See: https://matplotlib.org/stable/tutorials/intermediate/legend_guide.html#implementing-a-custom-legend-handler\n",
      "  ax.legend(loc='lower left', fontsize=10)\n",
      "/home/libe2152/optimizedsampling/2_initial_sample/random_sampling.py:56: UserWarning: No artists with labels found to put in legend.  Note that artists whose label start with an underscore are ignored when legend() is called with no argument.\n",
      "  ax.legend(loc='lower left', fontsize=10)\n"
     ]
    },
    {
     "name": "stdout",
     "output_type": "stream",
     "text": [
      "[Random Sample] Sampled 700 random points.\n",
      "[Random Sample] Saved IDs to /home/libe2152/optimizedsampling/0_data/initial_samples/india_secc/random_sampling/random_sample_700_points_seed_123.pkl\n"
     ]
    },
    {
     "name": "stderr",
     "output_type": "stream",
     "text": [
      "/home/libe2152/optimizedsampling/2_initial_sample/random_sampling.py:56: UserWarning: Legend does not support handles for PatchCollection instances.\n",
      "See: https://matplotlib.org/stable/tutorials/intermediate/legend_guide.html#implementing-a-custom-legend-handler\n",
      "  ax.legend(loc='lower left', fontsize=10)\n",
      "/home/libe2152/optimizedsampling/2_initial_sample/random_sampling.py:56: UserWarning: No artists with labels found to put in legend.  Note that artists whose label start with an underscore are ignored when legend() is called with no argument.\n",
      "  ax.legend(loc='lower left', fontsize=10)\n"
     ]
    },
    {
     "name": "stdout",
     "output_type": "stream",
     "text": [
      "[Random Sample] Sampled 700 random points.\n",
      "[Random Sample] Saved IDs to /home/libe2152/optimizedsampling/0_data/initial_samples/india_secc/random_sampling/random_sample_700_points_seed_456.pkl\n"
     ]
    },
    {
     "name": "stderr",
     "output_type": "stream",
     "text": [
      "/home/libe2152/optimizedsampling/2_initial_sample/random_sampling.py:56: UserWarning: Legend does not support handles for PatchCollection instances.\n",
      "See: https://matplotlib.org/stable/tutorials/intermediate/legend_guide.html#implementing-a-custom-legend-handler\n",
      "  ax.legend(loc='lower left', fontsize=10)\n",
      "/home/libe2152/optimizedsampling/2_initial_sample/random_sampling.py:56: UserWarning: No artists with labels found to put in legend.  Note that artists whose label start with an underscore are ignored when legend() is called with no argument.\n",
      "  ax.legend(loc='lower left', fontsize=10)\n"
     ]
    },
    {
     "name": "stdout",
     "output_type": "stream",
     "text": [
      "[Random Sample] Sampled 700 random points.\n",
      "[Random Sample] Saved IDs to /home/libe2152/optimizedsampling/0_data/initial_samples/india_secc/random_sampling/random_sample_700_points_seed_789.pkl\n"
     ]
    },
    {
     "name": "stderr",
     "output_type": "stream",
     "text": [
      "/home/libe2152/optimizedsampling/2_initial_sample/random_sampling.py:56: UserWarning: Legend does not support handles for PatchCollection instances.\n",
      "See: https://matplotlib.org/stable/tutorials/intermediate/legend_guide.html#implementing-a-custom-legend-handler\n",
      "  ax.legend(loc='lower left', fontsize=10)\n",
      "/home/libe2152/optimizedsampling/2_initial_sample/random_sampling.py:56: UserWarning: No artists with labels found to put in legend.  Note that artists whose label start with an underscore are ignored when legend() is called with no argument.\n",
      "  ax.legend(loc='lower left', fontsize=10)\n"
     ]
    },
    {
     "name": "stdout",
     "output_type": "stream",
     "text": [
      "[Random Sample] Sampled 700 random points.\n",
      "[Random Sample] Saved IDs to /home/libe2152/optimizedsampling/0_data/initial_samples/india_secc/random_sampling/random_sample_700_points_seed_1234.pkl\n"
     ]
    },
    {
     "name": "stderr",
     "output_type": "stream",
     "text": [
      "/home/libe2152/optimizedsampling/2_initial_sample/random_sampling.py:56: UserWarning: Legend does not support handles for PatchCollection instances.\n",
      "See: https://matplotlib.org/stable/tutorials/intermediate/legend_guide.html#implementing-a-custom-legend-handler\n",
      "  ax.legend(loc='lower left', fontsize=10)\n",
      "/home/libe2152/optimizedsampling/2_initial_sample/random_sampling.py:56: UserWarning: No artists with labels found to put in legend.  Note that artists whose label start with an underscore are ignored when legend() is called with no argument.\n",
      "  ax.legend(loc='lower left', fontsize=10)\n"
     ]
    },
    {
     "name": "stdout",
     "output_type": "stream",
     "text": [
      "[Random Sample] Sampled 700 random points.\n",
      "[Random Sample] Saved IDs to /home/libe2152/optimizedsampling/0_data/initial_samples/india_secc/random_sampling/random_sample_700_points_seed_5678.pkl\n"
     ]
    },
    {
     "name": "stderr",
     "output_type": "stream",
     "text": [
      "/home/libe2152/optimizedsampling/2_initial_sample/random_sampling.py:56: UserWarning: Legend does not support handles for PatchCollection instances.\n",
      "See: https://matplotlib.org/stable/tutorials/intermediate/legend_guide.html#implementing-a-custom-legend-handler\n",
      "  ax.legend(loc='lower left', fontsize=10)\n",
      "/home/libe2152/optimizedsampling/2_initial_sample/random_sampling.py:56: UserWarning: No artists with labels found to put in legend.  Note that artists whose label start with an underscore are ignored when legend() is called with no argument.\n",
      "  ax.legend(loc='lower left', fontsize=10)\n"
     ]
    },
    {
     "name": "stdout",
     "output_type": "stream",
     "text": [
      "[Random Sample] Sampled 700 random points.\n",
      "[Random Sample] Saved IDs to /home/libe2152/optimizedsampling/0_data/initial_samples/india_secc/random_sampling/random_sample_700_points_seed_9101.pkl\n"
     ]
    },
    {
     "name": "stderr",
     "output_type": "stream",
     "text": [
      "/home/libe2152/optimizedsampling/2_initial_sample/random_sampling.py:56: UserWarning: Legend does not support handles for PatchCollection instances.\n",
      "See: https://matplotlib.org/stable/tutorials/intermediate/legend_guide.html#implementing-a-custom-legend-handler\n",
      "  ax.legend(loc='lower left', fontsize=10)\n",
      "/home/libe2152/optimizedsampling/2_initial_sample/random_sampling.py:56: UserWarning: No artists with labels found to put in legend.  Note that artists whose label start with an underscore are ignored when legend() is called with no argument.\n",
      "  ax.legend(loc='lower left', fontsize=10)\n"
     ]
    },
    {
     "name": "stdout",
     "output_type": "stream",
     "text": [
      "[Random Sample] Sampled 700 random points.\n",
      "[Random Sample] Saved IDs to /home/libe2152/optimizedsampling/0_data/initial_samples/india_secc/random_sampling/random_sample_700_points_seed_1213.pkl\n"
     ]
    },
    {
     "name": "stderr",
     "output_type": "stream",
     "text": [
      "/home/libe2152/optimizedsampling/2_initial_sample/random_sampling.py:56: UserWarning: Legend does not support handles for PatchCollection instances.\n",
      "See: https://matplotlib.org/stable/tutorials/intermediate/legend_guide.html#implementing-a-custom-legend-handler\n",
      "  ax.legend(loc='lower left', fontsize=10)\n",
      "/home/libe2152/optimizedsampling/2_initial_sample/random_sampling.py:56: UserWarning: No artists with labels found to put in legend.  Note that artists whose label start with an underscore are ignored when legend() is called with no argument.\n",
      "  ax.legend(loc='lower left', fontsize=10)\n"
     ]
    },
    {
     "name": "stdout",
     "output_type": "stream",
     "text": [
      "[Random Sample] Sampled 700 random points.\n",
      "[Random Sample] Saved IDs to /home/libe2152/optimizedsampling/0_data/initial_samples/india_secc/random_sampling/random_sample_700_points_seed_1415.pkl\n"
     ]
    },
    {
     "name": "stderr",
     "output_type": "stream",
     "text": [
      "/home/libe2152/optimizedsampling/2_initial_sample/random_sampling.py:56: UserWarning: Legend does not support handles for PatchCollection instances.\n",
      "See: https://matplotlib.org/stable/tutorials/intermediate/legend_guide.html#implementing-a-custom-legend-handler\n",
      "  ax.legend(loc='lower left', fontsize=10)\n",
      "/home/libe2152/optimizedsampling/2_initial_sample/random_sampling.py:56: UserWarning: No artists with labels found to put in legend.  Note that artists whose label start with an underscore are ignored when legend() is called with no argument.\n",
      "  ax.legend(loc='lower left', fontsize=10)\n"
     ]
    },
    {
     "name": "stdout",
     "output_type": "stream",
     "text": [
      "[Random Sample] Sampled 800 random points.\n",
      "[Random Sample] Saved IDs to /home/libe2152/optimizedsampling/0_data/initial_samples/india_secc/random_sampling/random_sample_800_points_seed_1.pkl\n"
     ]
    },
    {
     "name": "stderr",
     "output_type": "stream",
     "text": [
      "/home/libe2152/optimizedsampling/2_initial_sample/random_sampling.py:56: UserWarning: Legend does not support handles for PatchCollection instances.\n",
      "See: https://matplotlib.org/stable/tutorials/intermediate/legend_guide.html#implementing-a-custom-legend-handler\n",
      "  ax.legend(loc='lower left', fontsize=10)\n",
      "/home/libe2152/optimizedsampling/2_initial_sample/random_sampling.py:56: UserWarning: No artists with labels found to put in legend.  Note that artists whose label start with an underscore are ignored when legend() is called with no argument.\n",
      "  ax.legend(loc='lower left', fontsize=10)\n"
     ]
    },
    {
     "name": "stdout",
     "output_type": "stream",
     "text": [
      "[Random Sample] Sampled 800 random points.\n",
      "[Random Sample] Saved IDs to /home/libe2152/optimizedsampling/0_data/initial_samples/india_secc/random_sampling/random_sample_800_points_seed_42.pkl\n"
     ]
    },
    {
     "name": "stderr",
     "output_type": "stream",
     "text": [
      "/home/libe2152/optimizedsampling/2_initial_sample/random_sampling.py:56: UserWarning: Legend does not support handles for PatchCollection instances.\n",
      "See: https://matplotlib.org/stable/tutorials/intermediate/legend_guide.html#implementing-a-custom-legend-handler\n",
      "  ax.legend(loc='lower left', fontsize=10)\n",
      "/home/libe2152/optimizedsampling/2_initial_sample/random_sampling.py:56: UserWarning: No artists with labels found to put in legend.  Note that artists whose label start with an underscore are ignored when legend() is called with no argument.\n",
      "  ax.legend(loc='lower left', fontsize=10)\n"
     ]
    },
    {
     "name": "stdout",
     "output_type": "stream",
     "text": [
      "[Random Sample] Sampled 800 random points.\n",
      "[Random Sample] Saved IDs to /home/libe2152/optimizedsampling/0_data/initial_samples/india_secc/random_sampling/random_sample_800_points_seed_123.pkl\n"
     ]
    },
    {
     "name": "stderr",
     "output_type": "stream",
     "text": [
      "/home/libe2152/optimizedsampling/2_initial_sample/random_sampling.py:56: UserWarning: Legend does not support handles for PatchCollection instances.\n",
      "See: https://matplotlib.org/stable/tutorials/intermediate/legend_guide.html#implementing-a-custom-legend-handler\n",
      "  ax.legend(loc='lower left', fontsize=10)\n",
      "/home/libe2152/optimizedsampling/2_initial_sample/random_sampling.py:56: UserWarning: No artists with labels found to put in legend.  Note that artists whose label start with an underscore are ignored when legend() is called with no argument.\n",
      "  ax.legend(loc='lower left', fontsize=10)\n"
     ]
    },
    {
     "name": "stdout",
     "output_type": "stream",
     "text": [
      "[Random Sample] Sampled 800 random points.\n",
      "[Random Sample] Saved IDs to /home/libe2152/optimizedsampling/0_data/initial_samples/india_secc/random_sampling/random_sample_800_points_seed_456.pkl\n"
     ]
    },
    {
     "name": "stderr",
     "output_type": "stream",
     "text": [
      "/home/libe2152/optimizedsampling/2_initial_sample/random_sampling.py:56: UserWarning: Legend does not support handles for PatchCollection instances.\n",
      "See: https://matplotlib.org/stable/tutorials/intermediate/legend_guide.html#implementing-a-custom-legend-handler\n",
      "  ax.legend(loc='lower left', fontsize=10)\n",
      "/home/libe2152/optimizedsampling/2_initial_sample/random_sampling.py:56: UserWarning: No artists with labels found to put in legend.  Note that artists whose label start with an underscore are ignored when legend() is called with no argument.\n",
      "  ax.legend(loc='lower left', fontsize=10)\n"
     ]
    },
    {
     "name": "stdout",
     "output_type": "stream",
     "text": [
      "[Random Sample] Sampled 800 random points.\n",
      "[Random Sample] Saved IDs to /home/libe2152/optimizedsampling/0_data/initial_samples/india_secc/random_sampling/random_sample_800_points_seed_789.pkl\n"
     ]
    },
    {
     "name": "stderr",
     "output_type": "stream",
     "text": [
      "/home/libe2152/optimizedsampling/2_initial_sample/random_sampling.py:56: UserWarning: Legend does not support handles for PatchCollection instances.\n",
      "See: https://matplotlib.org/stable/tutorials/intermediate/legend_guide.html#implementing-a-custom-legend-handler\n",
      "  ax.legend(loc='lower left', fontsize=10)\n",
      "/home/libe2152/optimizedsampling/2_initial_sample/random_sampling.py:56: UserWarning: No artists with labels found to put in legend.  Note that artists whose label start with an underscore are ignored when legend() is called with no argument.\n",
      "  ax.legend(loc='lower left', fontsize=10)\n"
     ]
    },
    {
     "name": "stdout",
     "output_type": "stream",
     "text": [
      "[Random Sample] Sampled 800 random points.\n",
      "[Random Sample] Saved IDs to /home/libe2152/optimizedsampling/0_data/initial_samples/india_secc/random_sampling/random_sample_800_points_seed_1234.pkl\n"
     ]
    },
    {
     "name": "stderr",
     "output_type": "stream",
     "text": [
      "/home/libe2152/optimizedsampling/2_initial_sample/random_sampling.py:56: UserWarning: Legend does not support handles for PatchCollection instances.\n",
      "See: https://matplotlib.org/stable/tutorials/intermediate/legend_guide.html#implementing-a-custom-legend-handler\n",
      "  ax.legend(loc='lower left', fontsize=10)\n",
      "/home/libe2152/optimizedsampling/2_initial_sample/random_sampling.py:56: UserWarning: No artists with labels found to put in legend.  Note that artists whose label start with an underscore are ignored when legend() is called with no argument.\n",
      "  ax.legend(loc='lower left', fontsize=10)\n"
     ]
    },
    {
     "name": "stdout",
     "output_type": "stream",
     "text": [
      "[Random Sample] Sampled 800 random points.\n",
      "[Random Sample] Saved IDs to /home/libe2152/optimizedsampling/0_data/initial_samples/india_secc/random_sampling/random_sample_800_points_seed_5678.pkl\n"
     ]
    },
    {
     "name": "stderr",
     "output_type": "stream",
     "text": [
      "/home/libe2152/optimizedsampling/2_initial_sample/random_sampling.py:56: UserWarning: Legend does not support handles for PatchCollection instances.\n",
      "See: https://matplotlib.org/stable/tutorials/intermediate/legend_guide.html#implementing-a-custom-legend-handler\n",
      "  ax.legend(loc='lower left', fontsize=10)\n",
      "/home/libe2152/optimizedsampling/2_initial_sample/random_sampling.py:56: UserWarning: No artists with labels found to put in legend.  Note that artists whose label start with an underscore are ignored when legend() is called with no argument.\n",
      "  ax.legend(loc='lower left', fontsize=10)\n"
     ]
    },
    {
     "name": "stdout",
     "output_type": "stream",
     "text": [
      "[Random Sample] Sampled 800 random points.\n",
      "[Random Sample] Saved IDs to /home/libe2152/optimizedsampling/0_data/initial_samples/india_secc/random_sampling/random_sample_800_points_seed_9101.pkl\n"
     ]
    },
    {
     "name": "stderr",
     "output_type": "stream",
     "text": [
      "/home/libe2152/optimizedsampling/2_initial_sample/random_sampling.py:56: UserWarning: Legend does not support handles for PatchCollection instances.\n",
      "See: https://matplotlib.org/stable/tutorials/intermediate/legend_guide.html#implementing-a-custom-legend-handler\n",
      "  ax.legend(loc='lower left', fontsize=10)\n",
      "/home/libe2152/optimizedsampling/2_initial_sample/random_sampling.py:56: UserWarning: No artists with labels found to put in legend.  Note that artists whose label start with an underscore are ignored when legend() is called with no argument.\n",
      "  ax.legend(loc='lower left', fontsize=10)\n"
     ]
    },
    {
     "name": "stdout",
     "output_type": "stream",
     "text": [
      "[Random Sample] Sampled 800 random points.\n",
      "[Random Sample] Saved IDs to /home/libe2152/optimizedsampling/0_data/initial_samples/india_secc/random_sampling/random_sample_800_points_seed_1213.pkl\n"
     ]
    },
    {
     "name": "stderr",
     "output_type": "stream",
     "text": [
      "/home/libe2152/optimizedsampling/2_initial_sample/random_sampling.py:56: UserWarning: Legend does not support handles for PatchCollection instances.\n",
      "See: https://matplotlib.org/stable/tutorials/intermediate/legend_guide.html#implementing-a-custom-legend-handler\n",
      "  ax.legend(loc='lower left', fontsize=10)\n",
      "/home/libe2152/optimizedsampling/2_initial_sample/random_sampling.py:56: UserWarning: No artists with labels found to put in legend.  Note that artists whose label start with an underscore are ignored when legend() is called with no argument.\n",
      "  ax.legend(loc='lower left', fontsize=10)\n"
     ]
    },
    {
     "name": "stdout",
     "output_type": "stream",
     "text": [
      "[Random Sample] Sampled 800 random points.\n",
      "[Random Sample] Saved IDs to /home/libe2152/optimizedsampling/0_data/initial_samples/india_secc/random_sampling/random_sample_800_points_seed_1415.pkl\n"
     ]
    },
    {
     "name": "stderr",
     "output_type": "stream",
     "text": [
      "/home/libe2152/optimizedsampling/2_initial_sample/random_sampling.py:56: UserWarning: Legend does not support handles for PatchCollection instances.\n",
      "See: https://matplotlib.org/stable/tutorials/intermediate/legend_guide.html#implementing-a-custom-legend-handler\n",
      "  ax.legend(loc='lower left', fontsize=10)\n",
      "/home/libe2152/optimizedsampling/2_initial_sample/random_sampling.py:56: UserWarning: No artists with labels found to put in legend.  Note that artists whose label start with an underscore are ignored when legend() is called with no argument.\n",
      "  ax.legend(loc='lower left', fontsize=10)\n"
     ]
    },
    {
     "name": "stdout",
     "output_type": "stream",
     "text": [
      "[Random Sample] Sampled 900 random points.\n",
      "[Random Sample] Saved IDs to /home/libe2152/optimizedsampling/0_data/initial_samples/india_secc/random_sampling/random_sample_900_points_seed_1.pkl\n"
     ]
    },
    {
     "name": "stderr",
     "output_type": "stream",
     "text": [
      "/home/libe2152/optimizedsampling/2_initial_sample/random_sampling.py:56: UserWarning: Legend does not support handles for PatchCollection instances.\n",
      "See: https://matplotlib.org/stable/tutorials/intermediate/legend_guide.html#implementing-a-custom-legend-handler\n",
      "  ax.legend(loc='lower left', fontsize=10)\n",
      "/home/libe2152/optimizedsampling/2_initial_sample/random_sampling.py:56: UserWarning: No artists with labels found to put in legend.  Note that artists whose label start with an underscore are ignored when legend() is called with no argument.\n",
      "  ax.legend(loc='lower left', fontsize=10)\n"
     ]
    },
    {
     "name": "stdout",
     "output_type": "stream",
     "text": [
      "[Random Sample] Sampled 900 random points.\n",
      "[Random Sample] Saved IDs to /home/libe2152/optimizedsampling/0_data/initial_samples/india_secc/random_sampling/random_sample_900_points_seed_42.pkl\n"
     ]
    },
    {
     "name": "stderr",
     "output_type": "stream",
     "text": [
      "/home/libe2152/optimizedsampling/2_initial_sample/random_sampling.py:56: UserWarning: Legend does not support handles for PatchCollection instances.\n",
      "See: https://matplotlib.org/stable/tutorials/intermediate/legend_guide.html#implementing-a-custom-legend-handler\n",
      "  ax.legend(loc='lower left', fontsize=10)\n",
      "/home/libe2152/optimizedsampling/2_initial_sample/random_sampling.py:56: UserWarning: No artists with labels found to put in legend.  Note that artists whose label start with an underscore are ignored when legend() is called with no argument.\n",
      "  ax.legend(loc='lower left', fontsize=10)\n"
     ]
    },
    {
     "name": "stdout",
     "output_type": "stream",
     "text": [
      "[Random Sample] Sampled 900 random points.\n",
      "[Random Sample] Saved IDs to /home/libe2152/optimizedsampling/0_data/initial_samples/india_secc/random_sampling/random_sample_900_points_seed_123.pkl\n"
     ]
    },
    {
     "name": "stderr",
     "output_type": "stream",
     "text": [
      "/home/libe2152/optimizedsampling/2_initial_sample/random_sampling.py:56: UserWarning: Legend does not support handles for PatchCollection instances.\n",
      "See: https://matplotlib.org/stable/tutorials/intermediate/legend_guide.html#implementing-a-custom-legend-handler\n",
      "  ax.legend(loc='lower left', fontsize=10)\n",
      "/home/libe2152/optimizedsampling/2_initial_sample/random_sampling.py:56: UserWarning: No artists with labels found to put in legend.  Note that artists whose label start with an underscore are ignored when legend() is called with no argument.\n",
      "  ax.legend(loc='lower left', fontsize=10)\n"
     ]
    },
    {
     "name": "stdout",
     "output_type": "stream",
     "text": [
      "[Random Sample] Sampled 900 random points.\n",
      "[Random Sample] Saved IDs to /home/libe2152/optimizedsampling/0_data/initial_samples/india_secc/random_sampling/random_sample_900_points_seed_456.pkl\n"
     ]
    },
    {
     "name": "stderr",
     "output_type": "stream",
     "text": [
      "/home/libe2152/optimizedsampling/2_initial_sample/random_sampling.py:56: UserWarning: Legend does not support handles for PatchCollection instances.\n",
      "See: https://matplotlib.org/stable/tutorials/intermediate/legend_guide.html#implementing-a-custom-legend-handler\n",
      "  ax.legend(loc='lower left', fontsize=10)\n",
      "/home/libe2152/optimizedsampling/2_initial_sample/random_sampling.py:56: UserWarning: No artists with labels found to put in legend.  Note that artists whose label start with an underscore are ignored when legend() is called with no argument.\n",
      "  ax.legend(loc='lower left', fontsize=10)\n"
     ]
    },
    {
     "name": "stdout",
     "output_type": "stream",
     "text": [
      "[Random Sample] Sampled 900 random points.\n",
      "[Random Sample] Saved IDs to /home/libe2152/optimizedsampling/0_data/initial_samples/india_secc/random_sampling/random_sample_900_points_seed_789.pkl\n"
     ]
    },
    {
     "name": "stderr",
     "output_type": "stream",
     "text": [
      "/home/libe2152/optimizedsampling/2_initial_sample/random_sampling.py:56: UserWarning: Legend does not support handles for PatchCollection instances.\n",
      "See: https://matplotlib.org/stable/tutorials/intermediate/legend_guide.html#implementing-a-custom-legend-handler\n",
      "  ax.legend(loc='lower left', fontsize=10)\n",
      "/home/libe2152/optimizedsampling/2_initial_sample/random_sampling.py:56: UserWarning: No artists with labels found to put in legend.  Note that artists whose label start with an underscore are ignored when legend() is called with no argument.\n",
      "  ax.legend(loc='lower left', fontsize=10)\n"
     ]
    },
    {
     "name": "stdout",
     "output_type": "stream",
     "text": [
      "[Random Sample] Sampled 900 random points.\n",
      "[Random Sample] Saved IDs to /home/libe2152/optimizedsampling/0_data/initial_samples/india_secc/random_sampling/random_sample_900_points_seed_1234.pkl\n"
     ]
    },
    {
     "name": "stderr",
     "output_type": "stream",
     "text": [
      "/home/libe2152/optimizedsampling/2_initial_sample/random_sampling.py:56: UserWarning: Legend does not support handles for PatchCollection instances.\n",
      "See: https://matplotlib.org/stable/tutorials/intermediate/legend_guide.html#implementing-a-custom-legend-handler\n",
      "  ax.legend(loc='lower left', fontsize=10)\n",
      "/home/libe2152/optimizedsampling/2_initial_sample/random_sampling.py:56: UserWarning: No artists with labels found to put in legend.  Note that artists whose label start with an underscore are ignored when legend() is called with no argument.\n",
      "  ax.legend(loc='lower left', fontsize=10)\n"
     ]
    },
    {
     "name": "stdout",
     "output_type": "stream",
     "text": [
      "[Random Sample] Sampled 900 random points.\n",
      "[Random Sample] Saved IDs to /home/libe2152/optimizedsampling/0_data/initial_samples/india_secc/random_sampling/random_sample_900_points_seed_5678.pkl\n"
     ]
    },
    {
     "name": "stderr",
     "output_type": "stream",
     "text": [
      "/home/libe2152/optimizedsampling/2_initial_sample/random_sampling.py:56: UserWarning: Legend does not support handles for PatchCollection instances.\n",
      "See: https://matplotlib.org/stable/tutorials/intermediate/legend_guide.html#implementing-a-custom-legend-handler\n",
      "  ax.legend(loc='lower left', fontsize=10)\n",
      "/home/libe2152/optimizedsampling/2_initial_sample/random_sampling.py:56: UserWarning: No artists with labels found to put in legend.  Note that artists whose label start with an underscore are ignored when legend() is called with no argument.\n",
      "  ax.legend(loc='lower left', fontsize=10)\n"
     ]
    },
    {
     "name": "stdout",
     "output_type": "stream",
     "text": [
      "[Random Sample] Sampled 900 random points.\n",
      "[Random Sample] Saved IDs to /home/libe2152/optimizedsampling/0_data/initial_samples/india_secc/random_sampling/random_sample_900_points_seed_9101.pkl\n"
     ]
    },
    {
     "name": "stderr",
     "output_type": "stream",
     "text": [
      "/home/libe2152/optimizedsampling/2_initial_sample/random_sampling.py:56: UserWarning: Legend does not support handles for PatchCollection instances.\n",
      "See: https://matplotlib.org/stable/tutorials/intermediate/legend_guide.html#implementing-a-custom-legend-handler\n",
      "  ax.legend(loc='lower left', fontsize=10)\n",
      "/home/libe2152/optimizedsampling/2_initial_sample/random_sampling.py:56: UserWarning: No artists with labels found to put in legend.  Note that artists whose label start with an underscore are ignored when legend() is called with no argument.\n",
      "  ax.legend(loc='lower left', fontsize=10)\n"
     ]
    },
    {
     "name": "stdout",
     "output_type": "stream",
     "text": [
      "[Random Sample] Sampled 900 random points.\n",
      "[Random Sample] Saved IDs to /home/libe2152/optimizedsampling/0_data/initial_samples/india_secc/random_sampling/random_sample_900_points_seed_1213.pkl\n"
     ]
    },
    {
     "name": "stderr",
     "output_type": "stream",
     "text": [
      "/home/libe2152/optimizedsampling/2_initial_sample/random_sampling.py:56: UserWarning: Legend does not support handles for PatchCollection instances.\n",
      "See: https://matplotlib.org/stable/tutorials/intermediate/legend_guide.html#implementing-a-custom-legend-handler\n",
      "  ax.legend(loc='lower left', fontsize=10)\n",
      "/home/libe2152/optimizedsampling/2_initial_sample/random_sampling.py:56: UserWarning: No artists with labels found to put in legend.  Note that artists whose label start with an underscore are ignored when legend() is called with no argument.\n",
      "  ax.legend(loc='lower left', fontsize=10)\n"
     ]
    },
    {
     "name": "stdout",
     "output_type": "stream",
     "text": [
      "[Random Sample] Sampled 900 random points.\n",
      "[Random Sample] Saved IDs to /home/libe2152/optimizedsampling/0_data/initial_samples/india_secc/random_sampling/random_sample_900_points_seed_1415.pkl\n"
     ]
    },
    {
     "name": "stderr",
     "output_type": "stream",
     "text": [
      "/home/libe2152/optimizedsampling/2_initial_sample/random_sampling.py:56: UserWarning: Legend does not support handles for PatchCollection instances.\n",
      "See: https://matplotlib.org/stable/tutorials/intermediate/legend_guide.html#implementing-a-custom-legend-handler\n",
      "  ax.legend(loc='lower left', fontsize=10)\n",
      "/home/libe2152/optimizedsampling/2_initial_sample/random_sampling.py:56: UserWarning: No artists with labels found to put in legend.  Note that artists whose label start with an underscore are ignored when legend() is called with no argument.\n",
      "  ax.legend(loc='lower left', fontsize=10)\n"
     ]
    }
   ],
   "source": [
    "data_path = \"/share/india_secc/MOSAIKS/shrugs_with_all_admins.geojson\"\n",
    "gdf = gpd.read_file(data_path)\n",
    "\n",
    "out_path = f'/home/libe2152/optimizedsampling/0_data/initial_samples/india_secc/random_sampling'\n",
    "\n",
    "country_shape_file = '/home/libe2152/optimizedsampling/0_data/boundaries/world/ne_10m_admin_0_countries.shp'\n",
    "country_name = 'India'\n",
    "\n",
    "sampler = RandomSampler(gdf, id_col=\"condensed_shrug_id\")\n",
    "\n",
    "for total_sample_size in range(100, 1000, 100):\n",
    "    for seed in [1, 42, 123, 456, 789, 1234, 5678, 9101, 1213, 1415]:\n",
    "        sampler.sample(total_sample_size=total_sample_size, seed=seed)\n",
    "        sampler.save_sampled_ids(out_path)\n",
    "        sampler.plot(country_shape_file=country_shape_file, country_name=country_name)\n",
    "        sampler.reset_sample()"
   ]
  }
 ],
 "metadata": {
  "kernelspec": {
   "display_name": "mosaiks",
   "language": "python",
   "name": "python3"
  },
  "language_info": {
   "codemirror_mode": {
    "name": "ipython",
    "version": 3
   },
   "file_extension": ".py",
   "mimetype": "text/x-python",
   "name": "python",
   "nbconvert_exporter": "python",
   "pygments_lexer": "ipython3",
   "version": "3.11.11"
  }
 },
 "nbformat": 4,
 "nbformat_minor": 5
}
