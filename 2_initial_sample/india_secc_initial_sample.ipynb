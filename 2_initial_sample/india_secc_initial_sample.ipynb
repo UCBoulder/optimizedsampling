{
 "cells": [
  {
   "cell_type": "code",
   "execution_count": 7,
   "id": "449dbf3f",
   "metadata": {},
   "outputs": [],
   "source": [
    "import geopandas as gpd"
   ]
  },
  {
   "cell_type": "code",
   "execution_count": 8,
   "id": "765df96f",
   "metadata": {},
   "outputs": [],
   "source": [
    "import numpy as np"
   ]
  },
  {
   "cell_type": "markdown",
   "id": "283b726c",
   "metadata": {},
   "source": [
    "# Cluster Sampling"
   ]
  },
  {
   "cell_type": "code",
   "execution_count": 9,
   "id": "70128e29",
   "metadata": {},
   "outputs": [],
   "source": [
    "from cluster_sampling import ClusterSampler"
   ]
  },
  {
   "cell_type": "code",
   "execution_count": 14,
   "id": "6293164f",
   "metadata": {},
   "outputs": [
    {
     "name": "stdout",
     "output_type": "stream",
     "text": [
      "[Init] Initializing ClusterSampler...\n",
      "[Stratify] Stratifying points by column: pc11_s_id\n",
      "[Stratify] Unique strata found: ['01' '02' '03' '04' '05' '06' '07' '08' '09' '10' '11' '14' '18' '19'\n",
      " '20' '21' '22' '23' '24' '25' '27' '28' '29' '30' '33' '34' '16' '17']\n",
      "[Init] Found 28 strata.\n",
      "[Sample] Starting sampling process...\n",
      "[Determine Sample Sizes] Total desired sample size: 1000\n",
      "[Determine Sample Sizes] Selected strata: ['08' '09' '33' '11' '25']\n",
      "[Determine Sample Sizes] Final sample size per stratum:\n",
      "{'08': 432, '09': 383, '33': 182, '11': 3, '25': 0}\n",
      "[Sample] Processing stratum: 08\n",
      "[Sample] Processing stratum: 09\n",
      "[Sample] Processing stratum: 33\n",
      "[Sample] Processing stratum: 11\n",
      "[Sample Clusters] No points returned.\n",
      "[Sample] Processing stratum: 25\n",
      "[Sample] Sampling complete. Total points sampled: 882\n",
      "Clusters: district\n",
      "Saved 882 sampled IDs and metadata to india_secc/cluster_sampling/fixedstrata_08-09-11-25-33/sample_state_district_50ppc_1000_size_seed_1.pkl\n"
     ]
    },
    {
     "name": "stderr",
     "output_type": "stream",
     "text": [
      "/media/volume/geo_sampling_data/optimizedsampling/2_initial_sample/cluster_sampling.py:208: FutureWarning: The behavior of DataFrame concatenation with empty or all-NA entries is deprecated. In a future version, this will no longer exclude empty or all-NA columns when determining the result dtypes. To retain the old behavior, exclude the relevant entries before the concat operation.\n",
      "  all_sampled = pd.concat(all_sampled).reset_index(drop=True)\n",
      "/media/volume/geo_sampling_data/optimizedsampling/2_initial_sample/cluster_sampling.py:312: UserWarning: Legend does not support handles for PatchCollection instances.\n",
      "See: https://matplotlib.org/stable/tutorials/intermediate/legend_guide.html#implementing-a-custom-legend-handler\n",
      "  ax.legend(loc='lower left', fontsize=10)\n",
      "/media/volume/geo_sampling_data/optimizedsampling/2_initial_sample/cluster_sampling.py:312: UserWarning: No artists with labels found to put in legend.  Note that artists whose label start with an underscore are ignored when legend() is called with no argument.\n",
      "  ax.legend(loc='lower left', fontsize=10)\n"
     ]
    },
    {
     "name": "stdout",
     "output_type": "stream",
     "text": [
      "Saved plot to india_secc/cluster_sampling/fixedstrata_08-09-11-25-33/plots/sample_state_district_50ppc_882_size_seed_1.png\n",
      "[Reset Sample] Clearing previous sample state...\n",
      "[Sample] Starting sampling process...\n",
      "[Determine Sample Sizes] Total desired sample size: 1000\n",
      "[Determine Sample Sizes] Selected strata: ['08' '09' '33' '11' '25']\n",
      "[Determine Sample Sizes] Final sample size per stratum:\n",
      "{'08': 432, '09': 383, '33': 182, '11': 3, '25': 0}\n",
      "[Sample] Processing stratum: 08\n",
      "[Sample] Processing stratum: 09\n",
      "[Sample] Processing stratum: 33\n",
      "[Sample] Processing stratum: 11\n",
      "[Sample Clusters] No points returned.\n",
      "[Sample] Processing stratum: 25\n",
      "[Sample] Sampling complete. Total points sampled: 885\n",
      "Clusters: district\n",
      "Saved 885 sampled IDs and metadata to india_secc/cluster_sampling/fixedstrata_08-09-11-25-33/sample_state_district_50ppc_1000_size_seed_42.pkl\n"
     ]
    },
    {
     "name": "stderr",
     "output_type": "stream",
     "text": [
      "/media/volume/geo_sampling_data/optimizedsampling/2_initial_sample/cluster_sampling.py:208: FutureWarning: The behavior of DataFrame concatenation with empty or all-NA entries is deprecated. In a future version, this will no longer exclude empty or all-NA columns when determining the result dtypes. To retain the old behavior, exclude the relevant entries before the concat operation.\n",
      "  all_sampled = pd.concat(all_sampled).reset_index(drop=True)\n",
      "/media/volume/geo_sampling_data/optimizedsampling/2_initial_sample/cluster_sampling.py:312: UserWarning: Legend does not support handles for PatchCollection instances.\n",
      "See: https://matplotlib.org/stable/tutorials/intermediate/legend_guide.html#implementing-a-custom-legend-handler\n",
      "  ax.legend(loc='lower left', fontsize=10)\n",
      "/media/volume/geo_sampling_data/optimizedsampling/2_initial_sample/cluster_sampling.py:312: UserWarning: No artists with labels found to put in legend.  Note that artists whose label start with an underscore are ignored when legend() is called with no argument.\n",
      "  ax.legend(loc='lower left', fontsize=10)\n"
     ]
    },
    {
     "name": "stdout",
     "output_type": "stream",
     "text": [
      "Saved plot to india_secc/cluster_sampling/fixedstrata_08-09-11-25-33/plots/sample_state_district_50ppc_885_size_seed_42.png\n",
      "[Reset Sample] Clearing previous sample state...\n",
      "[Sample] Starting sampling process...\n",
      "[Determine Sample Sizes] Total desired sample size: 1000\n",
      "[Determine Sample Sizes] Selected strata: ['08' '09' '33' '11' '25']\n",
      "[Determine Sample Sizes] Final sample size per stratum:\n",
      "{'08': 432, '09': 383, '33': 182, '11': 3, '25': 0}\n",
      "[Sample] Processing stratum: 08\n",
      "[Sample] Processing stratum: 09\n",
      "[Sample] Processing stratum: 33\n",
      "[Sample] Processing stratum: 11\n",
      "[Sample Clusters] No points returned.\n",
      "[Sample] Processing stratum: 25\n",
      "[Sample] Sampling complete. Total points sampled: 896\n",
      "Clusters: district\n",
      "Saved 896 sampled IDs and metadata to india_secc/cluster_sampling/fixedstrata_08-09-11-25-33/sample_state_district_50ppc_1000_size_seed_123.pkl\n"
     ]
    },
    {
     "name": "stderr",
     "output_type": "stream",
     "text": [
      "/media/volume/geo_sampling_data/optimizedsampling/2_initial_sample/cluster_sampling.py:208: FutureWarning: The behavior of DataFrame concatenation with empty or all-NA entries is deprecated. In a future version, this will no longer exclude empty or all-NA columns when determining the result dtypes. To retain the old behavior, exclude the relevant entries before the concat operation.\n",
      "  all_sampled = pd.concat(all_sampled).reset_index(drop=True)\n",
      "/media/volume/geo_sampling_data/optimizedsampling/2_initial_sample/cluster_sampling.py:312: UserWarning: Legend does not support handles for PatchCollection instances.\n",
      "See: https://matplotlib.org/stable/tutorials/intermediate/legend_guide.html#implementing-a-custom-legend-handler\n",
      "  ax.legend(loc='lower left', fontsize=10)\n",
      "/media/volume/geo_sampling_data/optimizedsampling/2_initial_sample/cluster_sampling.py:312: UserWarning: No artists with labels found to put in legend.  Note that artists whose label start with an underscore are ignored when legend() is called with no argument.\n",
      "  ax.legend(loc='lower left', fontsize=10)\n"
     ]
    },
    {
     "name": "stdout",
     "output_type": "stream",
     "text": [
      "Saved plot to india_secc/cluster_sampling/fixedstrata_08-09-11-25-33/plots/sample_state_district_50ppc_896_size_seed_123.png\n",
      "[Reset Sample] Clearing previous sample state...\n",
      "[Sample] Starting sampling process...\n",
      "[Determine Sample Sizes] Total desired sample size: 1000\n",
      "[Determine Sample Sizes] Selected strata: ['08' '09' '33' '11' '25']\n",
      "[Determine Sample Sizes] Final sample size per stratum:\n",
      "{'08': 432, '09': 383, '33': 182, '11': 3, '25': 0}\n",
      "[Sample] Processing stratum: 08\n",
      "[Sample] Processing stratum: 09\n",
      "[Sample] Processing stratum: 33\n",
      "[Sample] Processing stratum: 11\n",
      "[Sample Clusters] No points returned.\n",
      "[Sample] Processing stratum: 25\n",
      "[Sample] Sampling complete. Total points sampled: 887\n",
      "Clusters: district\n",
      "Saved 887 sampled IDs and metadata to india_secc/cluster_sampling/fixedstrata_08-09-11-25-33/sample_state_district_50ppc_1000_size_seed_456.pkl\n"
     ]
    },
    {
     "name": "stderr",
     "output_type": "stream",
     "text": [
      "/media/volume/geo_sampling_data/optimizedsampling/2_initial_sample/cluster_sampling.py:208: FutureWarning: The behavior of DataFrame concatenation with empty or all-NA entries is deprecated. In a future version, this will no longer exclude empty or all-NA columns when determining the result dtypes. To retain the old behavior, exclude the relevant entries before the concat operation.\n",
      "  all_sampled = pd.concat(all_sampled).reset_index(drop=True)\n",
      "/media/volume/geo_sampling_data/optimizedsampling/2_initial_sample/cluster_sampling.py:312: UserWarning: Legend does not support handles for PatchCollection instances.\n",
      "See: https://matplotlib.org/stable/tutorials/intermediate/legend_guide.html#implementing-a-custom-legend-handler\n",
      "  ax.legend(loc='lower left', fontsize=10)\n",
      "/media/volume/geo_sampling_data/optimizedsampling/2_initial_sample/cluster_sampling.py:312: UserWarning: No artists with labels found to put in legend.  Note that artists whose label start with an underscore are ignored when legend() is called with no argument.\n",
      "  ax.legend(loc='lower left', fontsize=10)\n"
     ]
    },
    {
     "name": "stdout",
     "output_type": "stream",
     "text": [
      "Saved plot to india_secc/cluster_sampling/fixedstrata_08-09-11-25-33/plots/sample_state_district_50ppc_887_size_seed_456.png\n",
      "[Reset Sample] Clearing previous sample state...\n",
      "[Sample] Starting sampling process...\n",
      "[Determine Sample Sizes] Total desired sample size: 1000\n",
      "[Determine Sample Sizes] Selected strata: ['08' '09' '33' '11' '25']\n",
      "[Determine Sample Sizes] Final sample size per stratum:\n",
      "{'08': 432, '09': 383, '33': 182, '11': 3, '25': 0}\n",
      "[Sample] Processing stratum: 08\n",
      "[Sample] Processing stratum: 09\n",
      "[Sample] Processing stratum: 33\n",
      "[Sample] Processing stratum: 11\n",
      "[Sample Clusters] No points returned.\n",
      "[Sample] Processing stratum: 25\n",
      "[Sample] Sampling complete. Total points sampled: 900\n",
      "Clusters: district\n",
      "Saved 900 sampled IDs and metadata to india_secc/cluster_sampling/fixedstrata_08-09-11-25-33/sample_state_district_50ppc_1000_size_seed_789.pkl\n"
     ]
    },
    {
     "name": "stderr",
     "output_type": "stream",
     "text": [
      "/media/volume/geo_sampling_data/optimizedsampling/2_initial_sample/cluster_sampling.py:208: FutureWarning: The behavior of DataFrame concatenation with empty or all-NA entries is deprecated. In a future version, this will no longer exclude empty or all-NA columns when determining the result dtypes. To retain the old behavior, exclude the relevant entries before the concat operation.\n",
      "  all_sampled = pd.concat(all_sampled).reset_index(drop=True)\n",
      "/media/volume/geo_sampling_data/optimizedsampling/2_initial_sample/cluster_sampling.py:312: UserWarning: Legend does not support handles for PatchCollection instances.\n",
      "See: https://matplotlib.org/stable/tutorials/intermediate/legend_guide.html#implementing-a-custom-legend-handler\n",
      "  ax.legend(loc='lower left', fontsize=10)\n",
      "/media/volume/geo_sampling_data/optimizedsampling/2_initial_sample/cluster_sampling.py:312: UserWarning: No artists with labels found to put in legend.  Note that artists whose label start with an underscore are ignored when legend() is called with no argument.\n",
      "  ax.legend(loc='lower left', fontsize=10)\n"
     ]
    },
    {
     "name": "stdout",
     "output_type": "stream",
     "text": [
      "Saved plot to india_secc/cluster_sampling/fixedstrata_08-09-11-25-33/plots/sample_state_district_50ppc_900_size_seed_789.png\n",
      "[Reset Sample] Clearing previous sample state...\n",
      "[Sample] Starting sampling process...\n",
      "[Determine Sample Sizes] Total desired sample size: 1000\n",
      "[Determine Sample Sizes] Selected strata: ['08' '09' '33' '11' '25']\n",
      "[Determine Sample Sizes] Final sample size per stratum:\n",
      "{'08': 432, '09': 383, '33': 182, '11': 3, '25': 0}\n",
      "[Sample] Processing stratum: 08\n",
      "[Sample] Processing stratum: 09\n",
      "[Sample] Processing stratum: 33\n",
      "[Sample] Processing stratum: 11\n",
      "[Sample Clusters] No points returned.\n",
      "[Sample] Processing stratum: 25\n",
      "[Sample] Sampling complete. Total points sampled: 962\n",
      "Clusters: district\n",
      "Saved 962 sampled IDs and metadata to india_secc/cluster_sampling/fixedstrata_08-09-11-25-33/sample_state_district_50ppc_1000_size_seed_1234.pkl\n"
     ]
    },
    {
     "name": "stderr",
     "output_type": "stream",
     "text": [
      "/media/volume/geo_sampling_data/optimizedsampling/2_initial_sample/cluster_sampling.py:208: FutureWarning: The behavior of DataFrame concatenation with empty or all-NA entries is deprecated. In a future version, this will no longer exclude empty or all-NA columns when determining the result dtypes. To retain the old behavior, exclude the relevant entries before the concat operation.\n",
      "  all_sampled = pd.concat(all_sampled).reset_index(drop=True)\n",
      "/media/volume/geo_sampling_data/optimizedsampling/2_initial_sample/cluster_sampling.py:312: UserWarning: Legend does not support handles for PatchCollection instances.\n",
      "See: https://matplotlib.org/stable/tutorials/intermediate/legend_guide.html#implementing-a-custom-legend-handler\n",
      "  ax.legend(loc='lower left', fontsize=10)\n",
      "/media/volume/geo_sampling_data/optimizedsampling/2_initial_sample/cluster_sampling.py:312: UserWarning: No artists with labels found to put in legend.  Note that artists whose label start with an underscore are ignored when legend() is called with no argument.\n",
      "  ax.legend(loc='lower left', fontsize=10)\n"
     ]
    },
    {
     "name": "stdout",
     "output_type": "stream",
     "text": [
      "Saved plot to india_secc/cluster_sampling/fixedstrata_08-09-11-25-33/plots/sample_state_district_50ppc_962_size_seed_1234.png\n",
      "[Reset Sample] Clearing previous sample state...\n",
      "[Sample] Starting sampling process...\n",
      "[Determine Sample Sizes] Total desired sample size: 1000\n",
      "[Determine Sample Sizes] Selected strata: ['08' '09' '33' '11' '25']\n",
      "[Determine Sample Sizes] Final sample size per stratum:\n",
      "{'08': 432, '09': 383, '33': 182, '11': 3, '25': 0}\n",
      "[Sample] Processing stratum: 08\n",
      "[Sample] Processing stratum: 09\n",
      "[Sample] Processing stratum: 33\n",
      "[Sample] Processing stratum: 11\n",
      "[Sample Clusters] No points returned.\n",
      "[Sample] Processing stratum: 25\n",
      "[Sample] Sampling complete. Total points sampled: 893\n",
      "Clusters: district\n",
      "Saved 893 sampled IDs and metadata to india_secc/cluster_sampling/fixedstrata_08-09-11-25-33/sample_state_district_50ppc_1000_size_seed_5678.pkl\n"
     ]
    },
    {
     "name": "stderr",
     "output_type": "stream",
     "text": [
      "/media/volume/geo_sampling_data/optimizedsampling/2_initial_sample/cluster_sampling.py:208: FutureWarning: The behavior of DataFrame concatenation with empty or all-NA entries is deprecated. In a future version, this will no longer exclude empty or all-NA columns when determining the result dtypes. To retain the old behavior, exclude the relevant entries before the concat operation.\n",
      "  all_sampled = pd.concat(all_sampled).reset_index(drop=True)\n",
      "/media/volume/geo_sampling_data/optimizedsampling/2_initial_sample/cluster_sampling.py:312: UserWarning: Legend does not support handles for PatchCollection instances.\n",
      "See: https://matplotlib.org/stable/tutorials/intermediate/legend_guide.html#implementing-a-custom-legend-handler\n",
      "  ax.legend(loc='lower left', fontsize=10)\n",
      "/media/volume/geo_sampling_data/optimizedsampling/2_initial_sample/cluster_sampling.py:312: UserWarning: No artists with labels found to put in legend.  Note that artists whose label start with an underscore are ignored when legend() is called with no argument.\n",
      "  ax.legend(loc='lower left', fontsize=10)\n"
     ]
    },
    {
     "name": "stdout",
     "output_type": "stream",
     "text": [
      "Saved plot to india_secc/cluster_sampling/fixedstrata_08-09-11-25-33/plots/sample_state_district_50ppc_893_size_seed_5678.png\n",
      "[Reset Sample] Clearing previous sample state...\n",
      "[Sample] Starting sampling process...\n",
      "[Determine Sample Sizes] Total desired sample size: 1000\n",
      "[Determine Sample Sizes] Selected strata: ['08' '09' '33' '11' '25']\n",
      "[Determine Sample Sizes] Final sample size per stratum:\n",
      "{'08': 432, '09': 383, '33': 182, '11': 3, '25': 0}\n",
      "[Sample] Processing stratum: 08\n",
      "[Sample] Processing stratum: 09\n",
      "[Sample] Processing stratum: 33\n",
      "[Sample] Processing stratum: 11\n",
      "[Sample Clusters] No points returned.\n",
      "[Sample] Processing stratum: 25\n",
      "[Sample] Sampling complete. Total points sampled: 900\n",
      "Clusters: district\n",
      "Saved 900 sampled IDs and metadata to india_secc/cluster_sampling/fixedstrata_08-09-11-25-33/sample_state_district_50ppc_1000_size_seed_9101.pkl\n"
     ]
    },
    {
     "name": "stderr",
     "output_type": "stream",
     "text": [
      "/media/volume/geo_sampling_data/optimizedsampling/2_initial_sample/cluster_sampling.py:208: FutureWarning: The behavior of DataFrame concatenation with empty or all-NA entries is deprecated. In a future version, this will no longer exclude empty or all-NA columns when determining the result dtypes. To retain the old behavior, exclude the relevant entries before the concat operation.\n",
      "  all_sampled = pd.concat(all_sampled).reset_index(drop=True)\n",
      "/media/volume/geo_sampling_data/optimizedsampling/2_initial_sample/cluster_sampling.py:312: UserWarning: Legend does not support handles for PatchCollection instances.\n",
      "See: https://matplotlib.org/stable/tutorials/intermediate/legend_guide.html#implementing-a-custom-legend-handler\n",
      "  ax.legend(loc='lower left', fontsize=10)\n",
      "/media/volume/geo_sampling_data/optimizedsampling/2_initial_sample/cluster_sampling.py:312: UserWarning: No artists with labels found to put in legend.  Note that artists whose label start with an underscore are ignored when legend() is called with no argument.\n",
      "  ax.legend(loc='lower left', fontsize=10)\n"
     ]
    },
    {
     "name": "stdout",
     "output_type": "stream",
     "text": [
      "Saved plot to india_secc/cluster_sampling/fixedstrata_08-09-11-25-33/plots/sample_state_district_50ppc_900_size_seed_9101.png\n",
      "[Reset Sample] Clearing previous sample state...\n",
      "[Sample] Starting sampling process...\n",
      "[Determine Sample Sizes] Total desired sample size: 1000\n",
      "[Determine Sample Sizes] Selected strata: ['08' '09' '33' '11' '25']\n",
      "[Determine Sample Sizes] Final sample size per stratum:\n",
      "{'08': 432, '09': 383, '33': 182, '11': 3, '25': 0}\n",
      "[Sample] Processing stratum: 08\n",
      "[Sample] Processing stratum: 09\n",
      "[Sample] Processing stratum: 33\n",
      "[Sample] Processing stratum: 11\n",
      "[Sample Clusters] No points returned.\n",
      "[Sample] Processing stratum: 25\n",
      "[Sample] Sampling complete. Total points sampled: 900\n",
      "Clusters: district\n",
      "Saved 900 sampled IDs and metadata to india_secc/cluster_sampling/fixedstrata_08-09-11-25-33/sample_state_district_50ppc_1000_size_seed_1213.pkl\n"
     ]
    },
    {
     "name": "stderr",
     "output_type": "stream",
     "text": [
      "/media/volume/geo_sampling_data/optimizedsampling/2_initial_sample/cluster_sampling.py:208: FutureWarning: The behavior of DataFrame concatenation with empty or all-NA entries is deprecated. In a future version, this will no longer exclude empty or all-NA columns when determining the result dtypes. To retain the old behavior, exclude the relevant entries before the concat operation.\n",
      "  all_sampled = pd.concat(all_sampled).reset_index(drop=True)\n",
      "/media/volume/geo_sampling_data/optimizedsampling/2_initial_sample/cluster_sampling.py:312: UserWarning: Legend does not support handles for PatchCollection instances.\n",
      "See: https://matplotlib.org/stable/tutorials/intermediate/legend_guide.html#implementing-a-custom-legend-handler\n",
      "  ax.legend(loc='lower left', fontsize=10)\n",
      "/media/volume/geo_sampling_data/optimizedsampling/2_initial_sample/cluster_sampling.py:312: UserWarning: No artists with labels found to put in legend.  Note that artists whose label start with an underscore are ignored when legend() is called with no argument.\n",
      "  ax.legend(loc='lower left', fontsize=10)\n"
     ]
    },
    {
     "name": "stdout",
     "output_type": "stream",
     "text": [
      "Saved plot to india_secc/cluster_sampling/fixedstrata_08-09-11-25-33/plots/sample_state_district_50ppc_900_size_seed_1213.png\n",
      "[Reset Sample] Clearing previous sample state...\n",
      "[Sample] Starting sampling process...\n",
      "[Determine Sample Sizes] Total desired sample size: 1000\n",
      "[Determine Sample Sizes] Selected strata: ['08' '09' '33' '11' '25']\n",
      "[Determine Sample Sizes] Final sample size per stratum:\n",
      "{'08': 432, '09': 383, '33': 182, '11': 3, '25': 0}\n",
      "[Sample] Processing stratum: 08\n",
      "[Sample] Processing stratum: 09\n",
      "[Sample] Processing stratum: 33\n",
      "[Sample] Processing stratum: 11\n",
      "[Sample Clusters] No points returned.\n",
      "[Sample] Processing stratum: 25\n",
      "[Sample] Sampling complete. Total points sampled: 900\n",
      "Clusters: district\n",
      "Saved 900 sampled IDs and metadata to india_secc/cluster_sampling/fixedstrata_08-09-11-25-33/sample_state_district_50ppc_1000_size_seed_1415.pkl\n"
     ]
    },
    {
     "name": "stderr",
     "output_type": "stream",
     "text": [
      "/media/volume/geo_sampling_data/optimizedsampling/2_initial_sample/cluster_sampling.py:208: FutureWarning: The behavior of DataFrame concatenation with empty or all-NA entries is deprecated. In a future version, this will no longer exclude empty or all-NA columns when determining the result dtypes. To retain the old behavior, exclude the relevant entries before the concat operation.\n",
      "  all_sampled = pd.concat(all_sampled).reset_index(drop=True)\n",
      "/media/volume/geo_sampling_data/optimizedsampling/2_initial_sample/cluster_sampling.py:312: UserWarning: Legend does not support handles for PatchCollection instances.\n",
      "See: https://matplotlib.org/stable/tutorials/intermediate/legend_guide.html#implementing-a-custom-legend-handler\n",
      "  ax.legend(loc='lower left', fontsize=10)\n",
      "/media/volume/geo_sampling_data/optimizedsampling/2_initial_sample/cluster_sampling.py:312: UserWarning: No artists with labels found to put in legend.  Note that artists whose label start with an underscore are ignored when legend() is called with no argument.\n",
      "  ax.legend(loc='lower left', fontsize=10)\n"
     ]
    },
    {
     "name": "stdout",
     "output_type": "stream",
     "text": [
      "Saved plot to india_secc/cluster_sampling/fixedstrata_08-09-11-25-33/plots/sample_state_district_50ppc_900_size_seed_1415.png\n",
      "[Reset Sample] Clearing previous sample state...\n",
      "[Sample] Starting sampling process...\n",
      "[Determine Sample Sizes] Total desired sample size: 2000\n",
      "[Determine Sample Sizes] Selected strata: ['08' '09' '33' '11' '25']\n",
      "[Determine Sample Sizes] Final sample size per stratum:\n",
      "{'08': 864, '09': 765, '33': 364, '11': 6, '25': 1}\n",
      "[Sample] Processing stratum: 08\n",
      "[Sample] Processing stratum: 09\n",
      "[Sample] Processing stratum: 33\n",
      "[Sample] Processing stratum: 11\n",
      "[Sample Clusters] No points returned.\n",
      "[Sample] Processing stratum: 25\n",
      "[Sample Clusters] No points returned.\n",
      "[Sample] Sampling complete. Total points sampled: 1926\n",
      "Clusters: district\n",
      "Saved 1926 sampled IDs and metadata to india_secc/cluster_sampling/fixedstrata_08-09-11-25-33/sample_state_district_50ppc_2000_size_seed_1.pkl\n"
     ]
    },
    {
     "name": "stderr",
     "output_type": "stream",
     "text": [
      "/media/volume/geo_sampling_data/optimizedsampling/2_initial_sample/cluster_sampling.py:208: FutureWarning: The behavior of DataFrame concatenation with empty or all-NA entries is deprecated. In a future version, this will no longer exclude empty or all-NA columns when determining the result dtypes. To retain the old behavior, exclude the relevant entries before the concat operation.\n",
      "  all_sampled = pd.concat(all_sampled).reset_index(drop=True)\n",
      "/media/volume/geo_sampling_data/optimizedsampling/2_initial_sample/cluster_sampling.py:312: UserWarning: Legend does not support handles for PatchCollection instances.\n",
      "See: https://matplotlib.org/stable/tutorials/intermediate/legend_guide.html#implementing-a-custom-legend-handler\n",
      "  ax.legend(loc='lower left', fontsize=10)\n",
      "/media/volume/geo_sampling_data/optimizedsampling/2_initial_sample/cluster_sampling.py:312: UserWarning: No artists with labels found to put in legend.  Note that artists whose label start with an underscore are ignored when legend() is called with no argument.\n",
      "  ax.legend(loc='lower left', fontsize=10)\n"
     ]
    },
    {
     "name": "stdout",
     "output_type": "stream",
     "text": [
      "Saved plot to india_secc/cluster_sampling/fixedstrata_08-09-11-25-33/plots/sample_state_district_50ppc_1926_size_seed_1.png\n",
      "[Reset Sample] Clearing previous sample state...\n",
      "[Sample] Starting sampling process...\n",
      "[Determine Sample Sizes] Total desired sample size: 2000\n",
      "[Determine Sample Sizes] Selected strata: ['08' '09' '33' '11' '25']\n",
      "[Determine Sample Sizes] Final sample size per stratum:\n",
      "{'08': 864, '09': 765, '33': 364, '11': 6, '25': 1}\n",
      "[Sample] Processing stratum: 08\n",
      "[Sample] Processing stratum: 09\n",
      "[Sample] Processing stratum: 33\n",
      "[Sample] Processing stratum: 11\n",
      "[Sample Clusters] No points returned.\n",
      "[Sample] Processing stratum: 25\n",
      "[Sample Clusters] No points returned.\n",
      "[Sample] Sampling complete. Total points sampled: 1914\n",
      "Clusters: district\n",
      "Saved 1914 sampled IDs and metadata to india_secc/cluster_sampling/fixedstrata_08-09-11-25-33/sample_state_district_50ppc_2000_size_seed_42.pkl\n"
     ]
    },
    {
     "name": "stderr",
     "output_type": "stream",
     "text": [
      "/media/volume/geo_sampling_data/optimizedsampling/2_initial_sample/cluster_sampling.py:208: FutureWarning: The behavior of DataFrame concatenation with empty or all-NA entries is deprecated. In a future version, this will no longer exclude empty or all-NA columns when determining the result dtypes. To retain the old behavior, exclude the relevant entries before the concat operation.\n",
      "  all_sampled = pd.concat(all_sampled).reset_index(drop=True)\n",
      "/media/volume/geo_sampling_data/optimizedsampling/2_initial_sample/cluster_sampling.py:312: UserWarning: Legend does not support handles for PatchCollection instances.\n",
      "See: https://matplotlib.org/stable/tutorials/intermediate/legend_guide.html#implementing-a-custom-legend-handler\n",
      "  ax.legend(loc='lower left', fontsize=10)\n",
      "/media/volume/geo_sampling_data/optimizedsampling/2_initial_sample/cluster_sampling.py:312: UserWarning: No artists with labels found to put in legend.  Note that artists whose label start with an underscore are ignored when legend() is called with no argument.\n",
      "  ax.legend(loc='lower left', fontsize=10)\n"
     ]
    },
    {
     "name": "stdout",
     "output_type": "stream",
     "text": [
      "Saved plot to india_secc/cluster_sampling/fixedstrata_08-09-11-25-33/plots/sample_state_district_50ppc_1914_size_seed_42.png\n",
      "[Reset Sample] Clearing previous sample state...\n",
      "[Sample] Starting sampling process...\n",
      "[Determine Sample Sizes] Total desired sample size: 2000\n",
      "[Determine Sample Sizes] Selected strata: ['08' '09' '33' '11' '25']\n",
      "[Determine Sample Sizes] Final sample size per stratum:\n",
      "{'08': 864, '09': 765, '33': 364, '11': 6, '25': 1}\n",
      "[Sample] Processing stratum: 08\n",
      "[Sample] Processing stratum: 09\n",
      "[Sample] Processing stratum: 33\n",
      "[Sample] Processing stratum: 11\n",
      "[Sample Clusters] No points returned.\n",
      "[Sample] Processing stratum: 25\n",
      "[Sample Clusters] No points returned.\n",
      "[Sample] Sampling complete. Total points sampled: 1937\n",
      "Clusters: district\n",
      "Saved 1937 sampled IDs and metadata to india_secc/cluster_sampling/fixedstrata_08-09-11-25-33/sample_state_district_50ppc_2000_size_seed_123.pkl\n"
     ]
    },
    {
     "name": "stderr",
     "output_type": "stream",
     "text": [
      "/media/volume/geo_sampling_data/optimizedsampling/2_initial_sample/cluster_sampling.py:208: FutureWarning: The behavior of DataFrame concatenation with empty or all-NA entries is deprecated. In a future version, this will no longer exclude empty or all-NA columns when determining the result dtypes. To retain the old behavior, exclude the relevant entries before the concat operation.\n",
      "  all_sampled = pd.concat(all_sampled).reset_index(drop=True)\n",
      "/media/volume/geo_sampling_data/optimizedsampling/2_initial_sample/cluster_sampling.py:312: UserWarning: Legend does not support handles for PatchCollection instances.\n",
      "See: https://matplotlib.org/stable/tutorials/intermediate/legend_guide.html#implementing-a-custom-legend-handler\n",
      "  ax.legend(loc='lower left', fontsize=10)\n",
      "/media/volume/geo_sampling_data/optimizedsampling/2_initial_sample/cluster_sampling.py:312: UserWarning: No artists with labels found to put in legend.  Note that artists whose label start with an underscore are ignored when legend() is called with no argument.\n",
      "  ax.legend(loc='lower left', fontsize=10)\n"
     ]
    },
    {
     "name": "stdout",
     "output_type": "stream",
     "text": [
      "Saved plot to india_secc/cluster_sampling/fixedstrata_08-09-11-25-33/plots/sample_state_district_50ppc_1937_size_seed_123.png\n",
      "[Reset Sample] Clearing previous sample state...\n",
      "[Sample] Starting sampling process...\n",
      "[Determine Sample Sizes] Total desired sample size: 2000\n",
      "[Determine Sample Sizes] Selected strata: ['08' '09' '33' '11' '25']\n",
      "[Determine Sample Sizes] Final sample size per stratum:\n",
      "{'08': 864, '09': 765, '33': 364, '11': 6, '25': 1}\n",
      "[Sample] Processing stratum: 08\n",
      "[Sample] Processing stratum: 09\n",
      "[Sample] Processing stratum: 33\n",
      "[Sample] Processing stratum: 11\n",
      "[Sample Clusters] No points returned.\n",
      "[Sample] Processing stratum: 25\n",
      "[Sample Clusters] No points returned.\n",
      "[Sample] Sampling complete. Total points sampled: 1903\n",
      "Clusters: district\n",
      "Saved 1903 sampled IDs and metadata to india_secc/cluster_sampling/fixedstrata_08-09-11-25-33/sample_state_district_50ppc_2000_size_seed_456.pkl\n"
     ]
    },
    {
     "name": "stderr",
     "output_type": "stream",
     "text": [
      "/media/volume/geo_sampling_data/optimizedsampling/2_initial_sample/cluster_sampling.py:208: FutureWarning: The behavior of DataFrame concatenation with empty or all-NA entries is deprecated. In a future version, this will no longer exclude empty or all-NA columns when determining the result dtypes. To retain the old behavior, exclude the relevant entries before the concat operation.\n",
      "  all_sampled = pd.concat(all_sampled).reset_index(drop=True)\n",
      "/media/volume/geo_sampling_data/optimizedsampling/2_initial_sample/cluster_sampling.py:312: UserWarning: Legend does not support handles for PatchCollection instances.\n",
      "See: https://matplotlib.org/stable/tutorials/intermediate/legend_guide.html#implementing-a-custom-legend-handler\n",
      "  ax.legend(loc='lower left', fontsize=10)\n",
      "/media/volume/geo_sampling_data/optimizedsampling/2_initial_sample/cluster_sampling.py:312: UserWarning: No artists with labels found to put in legend.  Note that artists whose label start with an underscore are ignored when legend() is called with no argument.\n",
      "  ax.legend(loc='lower left', fontsize=10)\n"
     ]
    },
    {
     "name": "stdout",
     "output_type": "stream",
     "text": [
      "Saved plot to india_secc/cluster_sampling/fixedstrata_08-09-11-25-33/plots/sample_state_district_50ppc_1903_size_seed_456.png\n",
      "[Reset Sample] Clearing previous sample state...\n",
      "[Sample] Starting sampling process...\n",
      "[Determine Sample Sizes] Total desired sample size: 2000\n",
      "[Determine Sample Sizes] Selected strata: ['08' '09' '33' '11' '25']\n",
      "[Determine Sample Sizes] Final sample size per stratum:\n",
      "{'08': 864, '09': 765, '33': 364, '11': 6, '25': 1}\n",
      "[Sample] Processing stratum: 08\n",
      "[Sample] Processing stratum: 09\n",
      "[Sample] Processing stratum: 33\n",
      "[Sample] Processing stratum: 11\n",
      "[Sample Clusters] No points returned.\n",
      "[Sample] Processing stratum: 25\n",
      "[Sample Clusters] No points returned.\n",
      "[Sample] Sampling complete. Total points sampled: 1950\n",
      "Clusters: district\n",
      "Saved 1950 sampled IDs and metadata to india_secc/cluster_sampling/fixedstrata_08-09-11-25-33/sample_state_district_50ppc_2000_size_seed_789.pkl\n"
     ]
    },
    {
     "name": "stderr",
     "output_type": "stream",
     "text": [
      "/media/volume/geo_sampling_data/optimizedsampling/2_initial_sample/cluster_sampling.py:208: FutureWarning: The behavior of DataFrame concatenation with empty or all-NA entries is deprecated. In a future version, this will no longer exclude empty or all-NA columns when determining the result dtypes. To retain the old behavior, exclude the relevant entries before the concat operation.\n",
      "  all_sampled = pd.concat(all_sampled).reset_index(drop=True)\n",
      "/media/volume/geo_sampling_data/optimizedsampling/2_initial_sample/cluster_sampling.py:312: UserWarning: Legend does not support handles for PatchCollection instances.\n",
      "See: https://matplotlib.org/stable/tutorials/intermediate/legend_guide.html#implementing-a-custom-legend-handler\n",
      "  ax.legend(loc='lower left', fontsize=10)\n",
      "/media/volume/geo_sampling_data/optimizedsampling/2_initial_sample/cluster_sampling.py:312: UserWarning: No artists with labels found to put in legend.  Note that artists whose label start with an underscore are ignored when legend() is called with no argument.\n",
      "  ax.legend(loc='lower left', fontsize=10)\n"
     ]
    },
    {
     "name": "stdout",
     "output_type": "stream",
     "text": [
      "Saved plot to india_secc/cluster_sampling/fixedstrata_08-09-11-25-33/plots/sample_state_district_50ppc_1950_size_seed_789.png\n",
      "[Reset Sample] Clearing previous sample state...\n",
      "[Sample] Starting sampling process...\n",
      "[Determine Sample Sizes] Total desired sample size: 2000\n",
      "[Determine Sample Sizes] Selected strata: ['08' '09' '33' '11' '25']\n",
      "[Determine Sample Sizes] Final sample size per stratum:\n",
      "{'08': 864, '09': 765, '33': 364, '11': 6, '25': 1}\n",
      "[Sample] Processing stratum: 08\n",
      "[Sample] Processing stratum: 09\n",
      "[Sample] Processing stratum: 33\n",
      "[Sample] Processing stratum: 11\n",
      "[Sample Clusters] No points returned.\n",
      "[Sample] Processing stratum: 25\n",
      "[Sample Clusters] No points returned.\n",
      "[Sample] Sampling complete. Total points sampled: 1903\n",
      "Clusters: district\n",
      "Saved 1903 sampled IDs and metadata to india_secc/cluster_sampling/fixedstrata_08-09-11-25-33/sample_state_district_50ppc_2000_size_seed_1234.pkl\n"
     ]
    },
    {
     "name": "stderr",
     "output_type": "stream",
     "text": [
      "/media/volume/geo_sampling_data/optimizedsampling/2_initial_sample/cluster_sampling.py:208: FutureWarning: The behavior of DataFrame concatenation with empty or all-NA entries is deprecated. In a future version, this will no longer exclude empty or all-NA columns when determining the result dtypes. To retain the old behavior, exclude the relevant entries before the concat operation.\n",
      "  all_sampled = pd.concat(all_sampled).reset_index(drop=True)\n",
      "/media/volume/geo_sampling_data/optimizedsampling/2_initial_sample/cluster_sampling.py:312: UserWarning: Legend does not support handles for PatchCollection instances.\n",
      "See: https://matplotlib.org/stable/tutorials/intermediate/legend_guide.html#implementing-a-custom-legend-handler\n",
      "  ax.legend(loc='lower left', fontsize=10)\n",
      "/media/volume/geo_sampling_data/optimizedsampling/2_initial_sample/cluster_sampling.py:312: UserWarning: No artists with labels found to put in legend.  Note that artists whose label start with an underscore are ignored when legend() is called with no argument.\n",
      "  ax.legend(loc='lower left', fontsize=10)\n"
     ]
    },
    {
     "name": "stdout",
     "output_type": "stream",
     "text": [
      "Saved plot to india_secc/cluster_sampling/fixedstrata_08-09-11-25-33/plots/sample_state_district_50ppc_1903_size_seed_1234.png\n",
      "[Reset Sample] Clearing previous sample state...\n",
      "[Sample] Starting sampling process...\n",
      "[Determine Sample Sizes] Total desired sample size: 2000\n",
      "[Determine Sample Sizes] Selected strata: ['08' '09' '33' '11' '25']\n",
      "[Determine Sample Sizes] Final sample size per stratum:\n",
      "{'08': 864, '09': 765, '33': 364, '11': 6, '25': 1}\n",
      "[Sample] Processing stratum: 08\n",
      "[Sample] Processing stratum: 09\n",
      "[Sample] Processing stratum: 33\n",
      "[Sample] Processing stratum: 11\n",
      "[Sample Clusters] No points returned.\n",
      "[Sample] Processing stratum: 25\n",
      "[Sample Clusters] No points returned.\n",
      "[Sample] Sampling complete. Total points sampled: 1939\n",
      "Clusters: district\n",
      "Saved 1939 sampled IDs and metadata to india_secc/cluster_sampling/fixedstrata_08-09-11-25-33/sample_state_district_50ppc_2000_size_seed_5678.pkl\n"
     ]
    },
    {
     "name": "stderr",
     "output_type": "stream",
     "text": [
      "/media/volume/geo_sampling_data/optimizedsampling/2_initial_sample/cluster_sampling.py:208: FutureWarning: The behavior of DataFrame concatenation with empty or all-NA entries is deprecated. In a future version, this will no longer exclude empty or all-NA columns when determining the result dtypes. To retain the old behavior, exclude the relevant entries before the concat operation.\n",
      "  all_sampled = pd.concat(all_sampled).reset_index(drop=True)\n",
      "/media/volume/geo_sampling_data/optimizedsampling/2_initial_sample/cluster_sampling.py:312: UserWarning: Legend does not support handles for PatchCollection instances.\n",
      "See: https://matplotlib.org/stable/tutorials/intermediate/legend_guide.html#implementing-a-custom-legend-handler\n",
      "  ax.legend(loc='lower left', fontsize=10)\n",
      "/media/volume/geo_sampling_data/optimizedsampling/2_initial_sample/cluster_sampling.py:312: UserWarning: No artists with labels found to put in legend.  Note that artists whose label start with an underscore are ignored when legend() is called with no argument.\n",
      "  ax.legend(loc='lower left', fontsize=10)\n"
     ]
    },
    {
     "name": "stdout",
     "output_type": "stream",
     "text": [
      "Saved plot to india_secc/cluster_sampling/fixedstrata_08-09-11-25-33/plots/sample_state_district_50ppc_1939_size_seed_5678.png\n",
      "[Reset Sample] Clearing previous sample state...\n",
      "[Sample] Starting sampling process...\n",
      "[Determine Sample Sizes] Total desired sample size: 2000\n",
      "[Determine Sample Sizes] Selected strata: ['08' '09' '33' '11' '25']\n",
      "[Determine Sample Sizes] Final sample size per stratum:\n",
      "{'08': 864, '09': 765, '33': 364, '11': 6, '25': 1}\n",
      "[Sample] Processing stratum: 08\n",
      "[Sample] Processing stratum: 09\n",
      "[Sample] Processing stratum: 33\n",
      "[Sample] Processing stratum: 11\n",
      "[Sample Clusters] No points returned.\n",
      "[Sample] Processing stratum: 25\n",
      "[Sample Clusters] No points returned.\n",
      "[Sample] Sampling complete. Total points sampled: 1949\n",
      "Clusters: district\n",
      "Saved 1949 sampled IDs and metadata to india_secc/cluster_sampling/fixedstrata_08-09-11-25-33/sample_state_district_50ppc_2000_size_seed_9101.pkl\n"
     ]
    },
    {
     "name": "stderr",
     "output_type": "stream",
     "text": [
      "/media/volume/geo_sampling_data/optimizedsampling/2_initial_sample/cluster_sampling.py:208: FutureWarning: The behavior of DataFrame concatenation with empty or all-NA entries is deprecated. In a future version, this will no longer exclude empty or all-NA columns when determining the result dtypes. To retain the old behavior, exclude the relevant entries before the concat operation.\n",
      "  all_sampled = pd.concat(all_sampled).reset_index(drop=True)\n",
      "/media/volume/geo_sampling_data/optimizedsampling/2_initial_sample/cluster_sampling.py:312: UserWarning: Legend does not support handles for PatchCollection instances.\n",
      "See: https://matplotlib.org/stable/tutorials/intermediate/legend_guide.html#implementing-a-custom-legend-handler\n",
      "  ax.legend(loc='lower left', fontsize=10)\n",
      "/media/volume/geo_sampling_data/optimizedsampling/2_initial_sample/cluster_sampling.py:312: UserWarning: No artists with labels found to put in legend.  Note that artists whose label start with an underscore are ignored when legend() is called with no argument.\n",
      "  ax.legend(loc='lower left', fontsize=10)\n"
     ]
    },
    {
     "name": "stdout",
     "output_type": "stream",
     "text": [
      "Saved plot to india_secc/cluster_sampling/fixedstrata_08-09-11-25-33/plots/sample_state_district_50ppc_1949_size_seed_9101.png\n",
      "[Reset Sample] Clearing previous sample state...\n",
      "[Sample] Starting sampling process...\n",
      "[Determine Sample Sizes] Total desired sample size: 2000\n",
      "[Determine Sample Sizes] Selected strata: ['08' '09' '33' '11' '25']\n",
      "[Determine Sample Sizes] Final sample size per stratum:\n",
      "{'08': 864, '09': 765, '33': 364, '11': 6, '25': 1}\n",
      "[Sample] Processing stratum: 08\n",
      "[Sample] Processing stratum: 09\n",
      "[Sample] Processing stratum: 33\n",
      "[Sample] Processing stratum: 11\n",
      "[Sample Clusters] No points returned.\n",
      "[Sample] Processing stratum: 25\n",
      "[Sample Clusters] No points returned.\n",
      "[Sample] Sampling complete. Total points sampled: 1946\n",
      "Clusters: district\n",
      "Saved 1946 sampled IDs and metadata to india_secc/cluster_sampling/fixedstrata_08-09-11-25-33/sample_state_district_50ppc_2000_size_seed_1213.pkl\n"
     ]
    },
    {
     "name": "stderr",
     "output_type": "stream",
     "text": [
      "/media/volume/geo_sampling_data/optimizedsampling/2_initial_sample/cluster_sampling.py:208: FutureWarning: The behavior of DataFrame concatenation with empty or all-NA entries is deprecated. In a future version, this will no longer exclude empty or all-NA columns when determining the result dtypes. To retain the old behavior, exclude the relevant entries before the concat operation.\n",
      "  all_sampled = pd.concat(all_sampled).reset_index(drop=True)\n",
      "/media/volume/geo_sampling_data/optimizedsampling/2_initial_sample/cluster_sampling.py:312: UserWarning: Legend does not support handles for PatchCollection instances.\n",
      "See: https://matplotlib.org/stable/tutorials/intermediate/legend_guide.html#implementing-a-custom-legend-handler\n",
      "  ax.legend(loc='lower left', fontsize=10)\n",
      "/media/volume/geo_sampling_data/optimizedsampling/2_initial_sample/cluster_sampling.py:312: UserWarning: No artists with labels found to put in legend.  Note that artists whose label start with an underscore are ignored when legend() is called with no argument.\n",
      "  ax.legend(loc='lower left', fontsize=10)\n"
     ]
    },
    {
     "name": "stdout",
     "output_type": "stream",
     "text": [
      "Saved plot to india_secc/cluster_sampling/fixedstrata_08-09-11-25-33/plots/sample_state_district_50ppc_1946_size_seed_1213.png\n",
      "[Reset Sample] Clearing previous sample state...\n",
      "[Sample] Starting sampling process...\n",
      "[Determine Sample Sizes] Total desired sample size: 2000\n",
      "[Determine Sample Sizes] Selected strata: ['08' '09' '33' '11' '25']\n",
      "[Determine Sample Sizes] Final sample size per stratum:\n",
      "{'08': 864, '09': 765, '33': 364, '11': 6, '25': 1}\n",
      "[Sample] Processing stratum: 08\n",
      "[Sample] Processing stratum: 09\n",
      "[Sample] Processing stratum: 33\n",
      "[Sample] Processing stratum: 11\n",
      "[Sample Clusters] No points returned.\n",
      "[Sample] Processing stratum: 25\n",
      "[Sample Clusters] No points returned.\n",
      "[Sample] Sampling complete. Total points sampled: 1932\n",
      "Clusters: district\n",
      "Saved 1932 sampled IDs and metadata to india_secc/cluster_sampling/fixedstrata_08-09-11-25-33/sample_state_district_50ppc_2000_size_seed_1415.pkl\n"
     ]
    },
    {
     "name": "stderr",
     "output_type": "stream",
     "text": [
      "/media/volume/geo_sampling_data/optimizedsampling/2_initial_sample/cluster_sampling.py:208: FutureWarning: The behavior of DataFrame concatenation with empty or all-NA entries is deprecated. In a future version, this will no longer exclude empty or all-NA columns when determining the result dtypes. To retain the old behavior, exclude the relevant entries before the concat operation.\n",
      "  all_sampled = pd.concat(all_sampled).reset_index(drop=True)\n",
      "/media/volume/geo_sampling_data/optimizedsampling/2_initial_sample/cluster_sampling.py:312: UserWarning: Legend does not support handles for PatchCollection instances.\n",
      "See: https://matplotlib.org/stable/tutorials/intermediate/legend_guide.html#implementing-a-custom-legend-handler\n",
      "  ax.legend(loc='lower left', fontsize=10)\n",
      "/media/volume/geo_sampling_data/optimizedsampling/2_initial_sample/cluster_sampling.py:312: UserWarning: No artists with labels found to put in legend.  Note that artists whose label start with an underscore are ignored when legend() is called with no argument.\n",
      "  ax.legend(loc='lower left', fontsize=10)\n"
     ]
    },
    {
     "name": "stdout",
     "output_type": "stream",
     "text": [
      "Saved plot to india_secc/cluster_sampling/fixedstrata_08-09-11-25-33/plots/sample_state_district_50ppc_1932_size_seed_1415.png\n",
      "[Reset Sample] Clearing previous sample state...\n",
      "[Sample] Starting sampling process...\n",
      "[Determine Sample Sizes] Total desired sample size: 3000\n",
      "[Determine Sample Sizes] Selected strata: ['08' '09' '33' '11' '25']\n",
      "[Determine Sample Sizes] Final sample size per stratum:\n",
      "{'08': 1295, '09': 1148, '33': 546, '11': 10, '25': 1}\n",
      "[Sample] Processing stratum: 08\n",
      "[Sample] Processing stratum: 09\n",
      "[Sample] Processing stratum: 33\n",
      "[Sample] Processing stratum: 11\n",
      "[Sample Clusters] No points returned.\n",
      "[Sample] Processing stratum: 25\n",
      "[Sample Clusters] No points returned.\n",
      "[Sample] Sampling complete. Total points sampled: 2926\n",
      "Clusters: district\n",
      "Saved 2926 sampled IDs and metadata to india_secc/cluster_sampling/fixedstrata_08-09-11-25-33/sample_state_district_50ppc_3000_size_seed_1.pkl\n"
     ]
    },
    {
     "name": "stderr",
     "output_type": "stream",
     "text": [
      "/media/volume/geo_sampling_data/optimizedsampling/2_initial_sample/cluster_sampling.py:208: FutureWarning: The behavior of DataFrame concatenation with empty or all-NA entries is deprecated. In a future version, this will no longer exclude empty or all-NA columns when determining the result dtypes. To retain the old behavior, exclude the relevant entries before the concat operation.\n",
      "  all_sampled = pd.concat(all_sampled).reset_index(drop=True)\n",
      "/media/volume/geo_sampling_data/optimizedsampling/2_initial_sample/cluster_sampling.py:312: UserWarning: Legend does not support handles for PatchCollection instances.\n",
      "See: https://matplotlib.org/stable/tutorials/intermediate/legend_guide.html#implementing-a-custom-legend-handler\n",
      "  ax.legend(loc='lower left', fontsize=10)\n",
      "/media/volume/geo_sampling_data/optimizedsampling/2_initial_sample/cluster_sampling.py:312: UserWarning: No artists with labels found to put in legend.  Note that artists whose label start with an underscore are ignored when legend() is called with no argument.\n",
      "  ax.legend(loc='lower left', fontsize=10)\n"
     ]
    },
    {
     "name": "stdout",
     "output_type": "stream",
     "text": [
      "Saved plot to india_secc/cluster_sampling/fixedstrata_08-09-11-25-33/plots/sample_state_district_50ppc_2926_size_seed_1.png\n",
      "[Reset Sample] Clearing previous sample state...\n",
      "[Sample] Starting sampling process...\n",
      "[Determine Sample Sizes] Total desired sample size: 3000\n",
      "[Determine Sample Sizes] Selected strata: ['08' '09' '33' '11' '25']\n",
      "[Determine Sample Sizes] Final sample size per stratum:\n",
      "{'08': 1295, '09': 1148, '33': 546, '11': 10, '25': 1}\n",
      "[Sample] Processing stratum: 08\n",
      "[Sample] Processing stratum: 09\n",
      "[Sample] Processing stratum: 33\n",
      "[Sample] Processing stratum: 11\n",
      "[Sample] Processing stratum: 25\n",
      "[Sample Clusters] No points returned.\n",
      "[Sample] Sampling complete. Total points sampled: 2910\n",
      "Clusters: district\n",
      "Saved 2910 sampled IDs and metadata to india_secc/cluster_sampling/fixedstrata_08-09-11-25-33/sample_state_district_50ppc_3000_size_seed_42.pkl\n"
     ]
    },
    {
     "name": "stderr",
     "output_type": "stream",
     "text": [
      "/media/volume/geo_sampling_data/optimizedsampling/2_initial_sample/cluster_sampling.py:208: FutureWarning: The behavior of DataFrame concatenation with empty or all-NA entries is deprecated. In a future version, this will no longer exclude empty or all-NA columns when determining the result dtypes. To retain the old behavior, exclude the relevant entries before the concat operation.\n",
      "  all_sampled = pd.concat(all_sampled).reset_index(drop=True)\n",
      "/media/volume/geo_sampling_data/optimizedsampling/2_initial_sample/cluster_sampling.py:312: UserWarning: Legend does not support handles for PatchCollection instances.\n",
      "See: https://matplotlib.org/stable/tutorials/intermediate/legend_guide.html#implementing-a-custom-legend-handler\n",
      "  ax.legend(loc='lower left', fontsize=10)\n",
      "/media/volume/geo_sampling_data/optimizedsampling/2_initial_sample/cluster_sampling.py:312: UserWarning: No artists with labels found to put in legend.  Note that artists whose label start with an underscore are ignored when legend() is called with no argument.\n",
      "  ax.legend(loc='lower left', fontsize=10)\n"
     ]
    },
    {
     "name": "stdout",
     "output_type": "stream",
     "text": [
      "Saved plot to india_secc/cluster_sampling/fixedstrata_08-09-11-25-33/plots/sample_state_district_50ppc_2910_size_seed_42.png\n",
      "[Reset Sample] Clearing previous sample state...\n",
      "[Sample] Starting sampling process...\n",
      "[Determine Sample Sizes] Total desired sample size: 3000\n",
      "[Determine Sample Sizes] Selected strata: ['08' '09' '33' '11' '25']\n",
      "[Determine Sample Sizes] Final sample size per stratum:\n",
      "{'08': 1295, '09': 1148, '33': 546, '11': 10, '25': 1}\n",
      "[Sample] Processing stratum: 08\n",
      "[Sample] Processing stratum: 09\n",
      "[Sample] Processing stratum: 33\n",
      "[Sample] Processing stratum: 11\n",
      "[Sample] Processing stratum: 25\n",
      "[Sample Clusters] No points returned.\n",
      "[Sample] Sampling complete. Total points sampled: 2937\n",
      "Clusters: district\n",
      "Saved 2937 sampled IDs and metadata to india_secc/cluster_sampling/fixedstrata_08-09-11-25-33/sample_state_district_50ppc_3000_size_seed_123.pkl\n"
     ]
    },
    {
     "name": "stderr",
     "output_type": "stream",
     "text": [
      "/media/volume/geo_sampling_data/optimizedsampling/2_initial_sample/cluster_sampling.py:208: FutureWarning: The behavior of DataFrame concatenation with empty or all-NA entries is deprecated. In a future version, this will no longer exclude empty or all-NA columns when determining the result dtypes. To retain the old behavior, exclude the relevant entries before the concat operation.\n",
      "  all_sampled = pd.concat(all_sampled).reset_index(drop=True)\n",
      "/media/volume/geo_sampling_data/optimizedsampling/2_initial_sample/cluster_sampling.py:312: UserWarning: Legend does not support handles for PatchCollection instances.\n",
      "See: https://matplotlib.org/stable/tutorials/intermediate/legend_guide.html#implementing-a-custom-legend-handler\n",
      "  ax.legend(loc='lower left', fontsize=10)\n",
      "/media/volume/geo_sampling_data/optimizedsampling/2_initial_sample/cluster_sampling.py:312: UserWarning: No artists with labels found to put in legend.  Note that artists whose label start with an underscore are ignored when legend() is called with no argument.\n",
      "  ax.legend(loc='lower left', fontsize=10)\n"
     ]
    },
    {
     "name": "stdout",
     "output_type": "stream",
     "text": [
      "Saved plot to india_secc/cluster_sampling/fixedstrata_08-09-11-25-33/plots/sample_state_district_50ppc_2937_size_seed_123.png\n",
      "[Reset Sample] Clearing previous sample state...\n",
      "[Sample] Starting sampling process...\n",
      "[Determine Sample Sizes] Total desired sample size: 3000\n",
      "[Determine Sample Sizes] Selected strata: ['08' '09' '33' '11' '25']\n",
      "[Determine Sample Sizes] Final sample size per stratum:\n",
      "{'08': 1295, '09': 1148, '33': 546, '11': 10, '25': 1}\n",
      "[Sample] Processing stratum: 08\n",
      "[Sample] Processing stratum: 09\n",
      "[Sample] Processing stratum: 33\n",
      "[Sample] Processing stratum: 11\n",
      "[Sample Clusters] No points returned.\n",
      "[Sample] Processing stratum: 25\n",
      "[Sample Clusters] No points returned.\n",
      "[Sample] Sampling complete. Total points sampled: 2881\n",
      "Clusters: district\n",
      "Saved 2881 sampled IDs and metadata to india_secc/cluster_sampling/fixedstrata_08-09-11-25-33/sample_state_district_50ppc_3000_size_seed_456.pkl\n"
     ]
    },
    {
     "name": "stderr",
     "output_type": "stream",
     "text": [
      "/media/volume/geo_sampling_data/optimizedsampling/2_initial_sample/cluster_sampling.py:208: FutureWarning: The behavior of DataFrame concatenation with empty or all-NA entries is deprecated. In a future version, this will no longer exclude empty or all-NA columns when determining the result dtypes. To retain the old behavior, exclude the relevant entries before the concat operation.\n",
      "  all_sampled = pd.concat(all_sampled).reset_index(drop=True)\n",
      "/media/volume/geo_sampling_data/optimizedsampling/2_initial_sample/cluster_sampling.py:312: UserWarning: Legend does not support handles for PatchCollection instances.\n",
      "See: https://matplotlib.org/stable/tutorials/intermediate/legend_guide.html#implementing-a-custom-legend-handler\n",
      "  ax.legend(loc='lower left', fontsize=10)\n",
      "/media/volume/geo_sampling_data/optimizedsampling/2_initial_sample/cluster_sampling.py:312: UserWarning: No artists with labels found to put in legend.  Note that artists whose label start with an underscore are ignored when legend() is called with no argument.\n",
      "  ax.legend(loc='lower left', fontsize=10)\n"
     ]
    },
    {
     "name": "stdout",
     "output_type": "stream",
     "text": [
      "Saved plot to india_secc/cluster_sampling/fixedstrata_08-09-11-25-33/plots/sample_state_district_50ppc_2881_size_seed_456.png\n",
      "[Reset Sample] Clearing previous sample state...\n",
      "[Sample] Starting sampling process...\n",
      "[Determine Sample Sizes] Total desired sample size: 3000\n",
      "[Determine Sample Sizes] Selected strata: ['08' '09' '33' '11' '25']\n",
      "[Determine Sample Sizes] Final sample size per stratum:\n",
      "{'08': 1295, '09': 1148, '33': 546, '11': 10, '25': 1}\n",
      "[Sample] Processing stratum: 08\n",
      "[Sample] Processing stratum: 09\n",
      "[Sample] Processing stratum: 33\n",
      "[Sample] Processing stratum: 11\n",
      "[Sample Clusters] No points returned.\n",
      "[Sample] Processing stratum: 25\n",
      "[Sample Clusters] No points returned.\n",
      "[Sample] Sampling complete. Total points sampled: 2895\n",
      "Clusters: district\n",
      "Saved 2895 sampled IDs and metadata to india_secc/cluster_sampling/fixedstrata_08-09-11-25-33/sample_state_district_50ppc_3000_size_seed_789.pkl\n"
     ]
    },
    {
     "name": "stderr",
     "output_type": "stream",
     "text": [
      "/media/volume/geo_sampling_data/optimizedsampling/2_initial_sample/cluster_sampling.py:208: FutureWarning: The behavior of DataFrame concatenation with empty or all-NA entries is deprecated. In a future version, this will no longer exclude empty or all-NA columns when determining the result dtypes. To retain the old behavior, exclude the relevant entries before the concat operation.\n",
      "  all_sampled = pd.concat(all_sampled).reset_index(drop=True)\n",
      "/media/volume/geo_sampling_data/optimizedsampling/2_initial_sample/cluster_sampling.py:312: UserWarning: Legend does not support handles for PatchCollection instances.\n",
      "See: https://matplotlib.org/stable/tutorials/intermediate/legend_guide.html#implementing-a-custom-legend-handler\n",
      "  ax.legend(loc='lower left', fontsize=10)\n",
      "/media/volume/geo_sampling_data/optimizedsampling/2_initial_sample/cluster_sampling.py:312: UserWarning: No artists with labels found to put in legend.  Note that artists whose label start with an underscore are ignored when legend() is called with no argument.\n",
      "  ax.legend(loc='lower left', fontsize=10)\n"
     ]
    },
    {
     "name": "stdout",
     "output_type": "stream",
     "text": [
      "Saved plot to india_secc/cluster_sampling/fixedstrata_08-09-11-25-33/plots/sample_state_district_50ppc_2895_size_seed_789.png\n",
      "[Reset Sample] Clearing previous sample state...\n",
      "[Sample] Starting sampling process...\n",
      "[Determine Sample Sizes] Total desired sample size: 3000\n",
      "[Determine Sample Sizes] Selected strata: ['08' '09' '33' '11' '25']\n",
      "[Determine Sample Sizes] Final sample size per stratum:\n",
      "{'08': 1295, '09': 1148, '33': 546, '11': 10, '25': 1}\n",
      "[Sample] Processing stratum: 08\n",
      "[Sample] Processing stratum: 09\n",
      "[Sample] Processing stratum: 33\n",
      "[Sample] Processing stratum: 11\n",
      "[Sample] Processing stratum: 25\n",
      "[Sample Clusters] No points returned.\n",
      "[Sample] Sampling complete. Total points sampled: 2895\n",
      "Clusters: district\n",
      "Saved 2895 sampled IDs and metadata to india_secc/cluster_sampling/fixedstrata_08-09-11-25-33/sample_state_district_50ppc_3000_size_seed_1234.pkl\n"
     ]
    },
    {
     "name": "stderr",
     "output_type": "stream",
     "text": [
      "/media/volume/geo_sampling_data/optimizedsampling/2_initial_sample/cluster_sampling.py:208: FutureWarning: The behavior of DataFrame concatenation with empty or all-NA entries is deprecated. In a future version, this will no longer exclude empty or all-NA columns when determining the result dtypes. To retain the old behavior, exclude the relevant entries before the concat operation.\n",
      "  all_sampled = pd.concat(all_sampled).reset_index(drop=True)\n",
      "/media/volume/geo_sampling_data/optimizedsampling/2_initial_sample/cluster_sampling.py:312: UserWarning: Legend does not support handles for PatchCollection instances.\n",
      "See: https://matplotlib.org/stable/tutorials/intermediate/legend_guide.html#implementing-a-custom-legend-handler\n",
      "  ax.legend(loc='lower left', fontsize=10)\n",
      "/media/volume/geo_sampling_data/optimizedsampling/2_initial_sample/cluster_sampling.py:312: UserWarning: No artists with labels found to put in legend.  Note that artists whose label start with an underscore are ignored when legend() is called with no argument.\n",
      "  ax.legend(loc='lower left', fontsize=10)\n"
     ]
    },
    {
     "name": "stdout",
     "output_type": "stream",
     "text": [
      "Saved plot to india_secc/cluster_sampling/fixedstrata_08-09-11-25-33/plots/sample_state_district_50ppc_2895_size_seed_1234.png\n",
      "[Reset Sample] Clearing previous sample state...\n",
      "[Sample] Starting sampling process...\n",
      "[Determine Sample Sizes] Total desired sample size: 3000\n",
      "[Determine Sample Sizes] Selected strata: ['08' '09' '33' '11' '25']\n",
      "[Determine Sample Sizes] Final sample size per stratum:\n",
      "{'08': 1295, '09': 1148, '33': 546, '11': 10, '25': 1}\n",
      "[Sample] Processing stratum: 08\n",
      "[Sample] Processing stratum: 09\n",
      "[Sample] Processing stratum: 33\n",
      "[Sample] Processing stratum: 11\n",
      "[Sample] Processing stratum: 25\n",
      "[Sample Clusters] No points returned.\n",
      "[Sample] Sampling complete. Total points sampled: 2943\n",
      "Clusters: district\n",
      "Saved 2943 sampled IDs and metadata to india_secc/cluster_sampling/fixedstrata_08-09-11-25-33/sample_state_district_50ppc_3000_size_seed_5678.pkl\n"
     ]
    },
    {
     "name": "stderr",
     "output_type": "stream",
     "text": [
      "/media/volume/geo_sampling_data/optimizedsampling/2_initial_sample/cluster_sampling.py:208: FutureWarning: The behavior of DataFrame concatenation with empty or all-NA entries is deprecated. In a future version, this will no longer exclude empty or all-NA columns when determining the result dtypes. To retain the old behavior, exclude the relevant entries before the concat operation.\n",
      "  all_sampled = pd.concat(all_sampled).reset_index(drop=True)\n",
      "/media/volume/geo_sampling_data/optimizedsampling/2_initial_sample/cluster_sampling.py:312: UserWarning: Legend does not support handles for PatchCollection instances.\n",
      "See: https://matplotlib.org/stable/tutorials/intermediate/legend_guide.html#implementing-a-custom-legend-handler\n",
      "  ax.legend(loc='lower left', fontsize=10)\n",
      "/media/volume/geo_sampling_data/optimizedsampling/2_initial_sample/cluster_sampling.py:312: UserWarning: No artists with labels found to put in legend.  Note that artists whose label start with an underscore are ignored when legend() is called with no argument.\n",
      "  ax.legend(loc='lower left', fontsize=10)\n"
     ]
    },
    {
     "name": "stdout",
     "output_type": "stream",
     "text": [
      "Saved plot to india_secc/cluster_sampling/fixedstrata_08-09-11-25-33/plots/sample_state_district_50ppc_2943_size_seed_5678.png\n",
      "[Reset Sample] Clearing previous sample state...\n",
      "[Sample] Starting sampling process...\n",
      "[Determine Sample Sizes] Total desired sample size: 3000\n",
      "[Determine Sample Sizes] Selected strata: ['08' '09' '33' '11' '25']\n",
      "[Determine Sample Sizes] Final sample size per stratum:\n",
      "{'08': 1295, '09': 1148, '33': 546, '11': 10, '25': 1}\n",
      "[Sample] Processing stratum: 08\n",
      "[Sample] Processing stratum: 09\n",
      "[Sample] Processing stratum: 33\n",
      "[Sample] Processing stratum: 11\n",
      "[Sample Clusters] No points returned.\n",
      "[Sample] Processing stratum: 25\n",
      "[Sample Clusters] No points returned.\n",
      "[Sample] Sampling complete. Total points sampled: 2896\n",
      "Clusters: district\n",
      "Saved 2896 sampled IDs and metadata to india_secc/cluster_sampling/fixedstrata_08-09-11-25-33/sample_state_district_50ppc_3000_size_seed_9101.pkl\n"
     ]
    },
    {
     "name": "stderr",
     "output_type": "stream",
     "text": [
      "/media/volume/geo_sampling_data/optimizedsampling/2_initial_sample/cluster_sampling.py:208: FutureWarning: The behavior of DataFrame concatenation with empty or all-NA entries is deprecated. In a future version, this will no longer exclude empty or all-NA columns when determining the result dtypes. To retain the old behavior, exclude the relevant entries before the concat operation.\n",
      "  all_sampled = pd.concat(all_sampled).reset_index(drop=True)\n",
      "/media/volume/geo_sampling_data/optimizedsampling/2_initial_sample/cluster_sampling.py:312: UserWarning: Legend does not support handles for PatchCollection instances.\n",
      "See: https://matplotlib.org/stable/tutorials/intermediate/legend_guide.html#implementing-a-custom-legend-handler\n",
      "  ax.legend(loc='lower left', fontsize=10)\n",
      "/media/volume/geo_sampling_data/optimizedsampling/2_initial_sample/cluster_sampling.py:312: UserWarning: No artists with labels found to put in legend.  Note that artists whose label start with an underscore are ignored when legend() is called with no argument.\n",
      "  ax.legend(loc='lower left', fontsize=10)\n"
     ]
    },
    {
     "name": "stdout",
     "output_type": "stream",
     "text": [
      "Saved plot to india_secc/cluster_sampling/fixedstrata_08-09-11-25-33/plots/sample_state_district_50ppc_2896_size_seed_9101.png\n",
      "[Reset Sample] Clearing previous sample state...\n",
      "[Sample] Starting sampling process...\n",
      "[Determine Sample Sizes] Total desired sample size: 3000\n",
      "[Determine Sample Sizes] Selected strata: ['08' '09' '33' '11' '25']\n",
      "[Determine Sample Sizes] Final sample size per stratum:\n",
      "{'08': 1295, '09': 1148, '33': 546, '11': 10, '25': 1}\n",
      "[Sample] Processing stratum: 08\n",
      "[Sample] Processing stratum: 09\n",
      "[Sample] Processing stratum: 33\n",
      "[Sample] Processing stratum: 11\n",
      "[Sample Clusters] No points returned.\n",
      "[Sample] Processing stratum: 25\n",
      "[Sample Clusters] No points returned.\n",
      "[Sample] Sampling complete. Total points sampled: 2937\n",
      "Clusters: district\n",
      "Saved 2937 sampled IDs and metadata to india_secc/cluster_sampling/fixedstrata_08-09-11-25-33/sample_state_district_50ppc_3000_size_seed_1213.pkl\n"
     ]
    },
    {
     "name": "stderr",
     "output_type": "stream",
     "text": [
      "/media/volume/geo_sampling_data/optimizedsampling/2_initial_sample/cluster_sampling.py:208: FutureWarning: The behavior of DataFrame concatenation with empty or all-NA entries is deprecated. In a future version, this will no longer exclude empty or all-NA columns when determining the result dtypes. To retain the old behavior, exclude the relevant entries before the concat operation.\n",
      "  all_sampled = pd.concat(all_sampled).reset_index(drop=True)\n",
      "/media/volume/geo_sampling_data/optimizedsampling/2_initial_sample/cluster_sampling.py:312: UserWarning: Legend does not support handles for PatchCollection instances.\n",
      "See: https://matplotlib.org/stable/tutorials/intermediate/legend_guide.html#implementing-a-custom-legend-handler\n",
      "  ax.legend(loc='lower left', fontsize=10)\n",
      "/media/volume/geo_sampling_data/optimizedsampling/2_initial_sample/cluster_sampling.py:312: UserWarning: No artists with labels found to put in legend.  Note that artists whose label start with an underscore are ignored when legend() is called with no argument.\n",
      "  ax.legend(loc='lower left', fontsize=10)\n"
     ]
    },
    {
     "name": "stdout",
     "output_type": "stream",
     "text": [
      "Saved plot to india_secc/cluster_sampling/fixedstrata_08-09-11-25-33/plots/sample_state_district_50ppc_2937_size_seed_1213.png\n",
      "[Reset Sample] Clearing previous sample state...\n",
      "[Sample] Starting sampling process...\n",
      "[Determine Sample Sizes] Total desired sample size: 3000\n",
      "[Determine Sample Sizes] Selected strata: ['08' '09' '33' '11' '25']\n",
      "[Determine Sample Sizes] Final sample size per stratum:\n",
      "{'08': 1295, '09': 1148, '33': 546, '11': 10, '25': 1}\n",
      "[Sample] Processing stratum: 08\n",
      "[Sample] Processing stratum: 09\n",
      "[Sample] Processing stratum: 33\n",
      "[Sample] Processing stratum: 11\n",
      "[Sample Clusters] No points returned.\n",
      "[Sample] Processing stratum: 25\n",
      "[Sample Clusters] No points returned.\n",
      "[Sample] Sampling complete. Total points sampled: 2856\n",
      "Clusters: district\n",
      "Saved 2856 sampled IDs and metadata to india_secc/cluster_sampling/fixedstrata_08-09-11-25-33/sample_state_district_50ppc_3000_size_seed_1415.pkl\n"
     ]
    },
    {
     "name": "stderr",
     "output_type": "stream",
     "text": [
      "/media/volume/geo_sampling_data/optimizedsampling/2_initial_sample/cluster_sampling.py:208: FutureWarning: The behavior of DataFrame concatenation with empty or all-NA entries is deprecated. In a future version, this will no longer exclude empty or all-NA columns when determining the result dtypes. To retain the old behavior, exclude the relevant entries before the concat operation.\n",
      "  all_sampled = pd.concat(all_sampled).reset_index(drop=True)\n",
      "/media/volume/geo_sampling_data/optimizedsampling/2_initial_sample/cluster_sampling.py:312: UserWarning: Legend does not support handles for PatchCollection instances.\n",
      "See: https://matplotlib.org/stable/tutorials/intermediate/legend_guide.html#implementing-a-custom-legend-handler\n",
      "  ax.legend(loc='lower left', fontsize=10)\n",
      "/media/volume/geo_sampling_data/optimizedsampling/2_initial_sample/cluster_sampling.py:312: UserWarning: No artists with labels found to put in legend.  Note that artists whose label start with an underscore are ignored when legend() is called with no argument.\n",
      "  ax.legend(loc='lower left', fontsize=10)\n"
     ]
    },
    {
     "name": "stdout",
     "output_type": "stream",
     "text": [
      "Saved plot to india_secc/cluster_sampling/fixedstrata_08-09-11-25-33/plots/sample_state_district_50ppc_2856_size_seed_1415.png\n",
      "[Reset Sample] Clearing previous sample state...\n",
      "[Sample] Starting sampling process...\n",
      "[Determine Sample Sizes] Total desired sample size: 4000\n",
      "[Determine Sample Sizes] Selected strata: ['08' '09' '33' '11' '25']\n",
      "[Determine Sample Sizes] Final sample size per stratum:\n",
      "{'08': 1727, '09': 1531, '33': 727, '11': 13, '25': 2}\n",
      "[Sample] Processing stratum: 08\n",
      "[Sample] Processing stratum: 09\n",
      "[Sample] Processing stratum: 33\n",
      "[Sample] Processing stratum: 11\n",
      "[Sample] Processing stratum: 25\n",
      "[Sample Clusters] No points returned.\n",
      "[Sample] Sampling complete. Total points sampled: 3844\n",
      "Clusters: district\n",
      "Saved 3844 sampled IDs and metadata to india_secc/cluster_sampling/fixedstrata_08-09-11-25-33/sample_state_district_50ppc_4000_size_seed_1.pkl\n"
     ]
    },
    {
     "name": "stderr",
     "output_type": "stream",
     "text": [
      "/media/volume/geo_sampling_data/optimizedsampling/2_initial_sample/cluster_sampling.py:208: FutureWarning: The behavior of DataFrame concatenation with empty or all-NA entries is deprecated. In a future version, this will no longer exclude empty or all-NA columns when determining the result dtypes. To retain the old behavior, exclude the relevant entries before the concat operation.\n",
      "  all_sampled = pd.concat(all_sampled).reset_index(drop=True)\n",
      "/media/volume/geo_sampling_data/optimizedsampling/2_initial_sample/cluster_sampling.py:312: UserWarning: Legend does not support handles for PatchCollection instances.\n",
      "See: https://matplotlib.org/stable/tutorials/intermediate/legend_guide.html#implementing-a-custom-legend-handler\n",
      "  ax.legend(loc='lower left', fontsize=10)\n",
      "/media/volume/geo_sampling_data/optimizedsampling/2_initial_sample/cluster_sampling.py:312: UserWarning: No artists with labels found to put in legend.  Note that artists whose label start with an underscore are ignored when legend() is called with no argument.\n",
      "  ax.legend(loc='lower left', fontsize=10)\n"
     ]
    },
    {
     "name": "stdout",
     "output_type": "stream",
     "text": [
      "Saved plot to india_secc/cluster_sampling/fixedstrata_08-09-11-25-33/plots/sample_state_district_50ppc_3844_size_seed_1.png\n",
      "[Reset Sample] Clearing previous sample state...\n",
      "[Sample] Starting sampling process...\n",
      "[Determine Sample Sizes] Total desired sample size: 4000\n",
      "[Determine Sample Sizes] Selected strata: ['08' '09' '33' '11' '25']\n",
      "[Determine Sample Sizes] Final sample size per stratum:\n",
      "{'08': 1727, '09': 1531, '33': 727, '11': 13, '25': 2}\n",
      "[Sample] Processing stratum: 08\n",
      "[Sample] Processing stratum: 09\n",
      "[Sample] Processing stratum: 33\n",
      "[Sample] Processing stratum: 11\n",
      "[Sample] Processing stratum: 25\n",
      "[Sample] Sampling complete. Total points sampled: 3903\n",
      "Clusters: district\n",
      "Saved 3903 sampled IDs and metadata to india_secc/cluster_sampling/fixedstrata_08-09-11-25-33/sample_state_district_50ppc_4000_size_seed_42.pkl\n"
     ]
    },
    {
     "name": "stderr",
     "output_type": "stream",
     "text": [
      "/media/volume/geo_sampling_data/optimizedsampling/2_initial_sample/cluster_sampling.py:312: UserWarning: Legend does not support handles for PatchCollection instances.\n",
      "See: https://matplotlib.org/stable/tutorials/intermediate/legend_guide.html#implementing-a-custom-legend-handler\n",
      "  ax.legend(loc='lower left', fontsize=10)\n",
      "/media/volume/geo_sampling_data/optimizedsampling/2_initial_sample/cluster_sampling.py:312: UserWarning: No artists with labels found to put in legend.  Note that artists whose label start with an underscore are ignored when legend() is called with no argument.\n",
      "  ax.legend(loc='lower left', fontsize=10)\n"
     ]
    },
    {
     "name": "stdout",
     "output_type": "stream",
     "text": [
      "Saved plot to india_secc/cluster_sampling/fixedstrata_08-09-11-25-33/plots/sample_state_district_50ppc_3903_size_seed_42.png\n",
      "[Reset Sample] Clearing previous sample state...\n",
      "[Sample] Starting sampling process...\n",
      "[Determine Sample Sizes] Total desired sample size: 4000\n",
      "[Determine Sample Sizes] Selected strata: ['08' '09' '33' '11' '25']\n",
      "[Determine Sample Sizes] Final sample size per stratum:\n",
      "{'08': 1727, '09': 1531, '33': 727, '11': 13, '25': 2}\n",
      "[Sample] Processing stratum: 08\n",
      "[Sample] Processing stratum: 09\n",
      "[Sample] Processing stratum: 33\n",
      "[Sample] Processing stratum: 11\n",
      "[Sample] Processing stratum: 25\n",
      "[Sample] Sampling complete. Total points sampled: 3879\n",
      "Clusters: district\n",
      "Saved 3879 sampled IDs and metadata to india_secc/cluster_sampling/fixedstrata_08-09-11-25-33/sample_state_district_50ppc_4000_size_seed_123.pkl\n"
     ]
    },
    {
     "name": "stderr",
     "output_type": "stream",
     "text": [
      "/media/volume/geo_sampling_data/optimizedsampling/2_initial_sample/cluster_sampling.py:312: UserWarning: Legend does not support handles for PatchCollection instances.\n",
      "See: https://matplotlib.org/stable/tutorials/intermediate/legend_guide.html#implementing-a-custom-legend-handler\n",
      "  ax.legend(loc='lower left', fontsize=10)\n",
      "/media/volume/geo_sampling_data/optimizedsampling/2_initial_sample/cluster_sampling.py:312: UserWarning: No artists with labels found to put in legend.  Note that artists whose label start with an underscore are ignored when legend() is called with no argument.\n",
      "  ax.legend(loc='lower left', fontsize=10)\n"
     ]
    },
    {
     "name": "stdout",
     "output_type": "stream",
     "text": [
      "Saved plot to india_secc/cluster_sampling/fixedstrata_08-09-11-25-33/plots/sample_state_district_50ppc_3879_size_seed_123.png\n",
      "[Reset Sample] Clearing previous sample state...\n",
      "[Sample] Starting sampling process...\n",
      "[Determine Sample Sizes] Total desired sample size: 4000\n",
      "[Determine Sample Sizes] Selected strata: ['08' '09' '33' '11' '25']\n",
      "[Determine Sample Sizes] Final sample size per stratum:\n",
      "{'08': 1727, '09': 1531, '33': 727, '11': 13, '25': 2}\n",
      "[Sample] Processing stratum: 08\n",
      "[Sample] Processing stratum: 09\n",
      "[Sample] Processing stratum: 33\n",
      "[Sample] Processing stratum: 11\n",
      "[Sample] Processing stratum: 25\n",
      "[Sample Clusters] No points returned.\n",
      "[Sample] Sampling complete. Total points sampled: 3889\n",
      "Clusters: district\n",
      "Saved 3889 sampled IDs and metadata to india_secc/cluster_sampling/fixedstrata_08-09-11-25-33/sample_state_district_50ppc_4000_size_seed_456.pkl\n"
     ]
    },
    {
     "name": "stderr",
     "output_type": "stream",
     "text": [
      "/media/volume/geo_sampling_data/optimizedsampling/2_initial_sample/cluster_sampling.py:208: FutureWarning: The behavior of DataFrame concatenation with empty or all-NA entries is deprecated. In a future version, this will no longer exclude empty or all-NA columns when determining the result dtypes. To retain the old behavior, exclude the relevant entries before the concat operation.\n",
      "  all_sampled = pd.concat(all_sampled).reset_index(drop=True)\n",
      "/media/volume/geo_sampling_data/optimizedsampling/2_initial_sample/cluster_sampling.py:312: UserWarning: Legend does not support handles for PatchCollection instances.\n",
      "See: https://matplotlib.org/stable/tutorials/intermediate/legend_guide.html#implementing-a-custom-legend-handler\n",
      "  ax.legend(loc='lower left', fontsize=10)\n",
      "/media/volume/geo_sampling_data/optimizedsampling/2_initial_sample/cluster_sampling.py:312: UserWarning: No artists with labels found to put in legend.  Note that artists whose label start with an underscore are ignored when legend() is called with no argument.\n",
      "  ax.legend(loc='lower left', fontsize=10)\n"
     ]
    },
    {
     "name": "stdout",
     "output_type": "stream",
     "text": [
      "Saved plot to india_secc/cluster_sampling/fixedstrata_08-09-11-25-33/plots/sample_state_district_50ppc_3889_size_seed_456.png\n",
      "[Reset Sample] Clearing previous sample state...\n",
      "[Sample] Starting sampling process...\n",
      "[Determine Sample Sizes] Total desired sample size: 4000\n",
      "[Determine Sample Sizes] Selected strata: ['08' '09' '33' '11' '25']\n",
      "[Determine Sample Sizes] Final sample size per stratum:\n",
      "{'08': 1727, '09': 1531, '33': 727, '11': 13, '25': 2}\n",
      "[Sample] Processing stratum: 08\n",
      "[Sample] Processing stratum: 09\n",
      "[Sample] Processing stratum: 33\n",
      "[Sample] Processing stratum: 11\n",
      "[Sample Clusters] No points returned.\n",
      "[Sample] Processing stratum: 25\n",
      "[Sample Clusters] No points returned.\n",
      "[Sample] Sampling complete. Total points sampled: 3839\n",
      "Clusters: district\n",
      "Saved 3839 sampled IDs and metadata to india_secc/cluster_sampling/fixedstrata_08-09-11-25-33/sample_state_district_50ppc_4000_size_seed_789.pkl\n"
     ]
    },
    {
     "name": "stderr",
     "output_type": "stream",
     "text": [
      "/media/volume/geo_sampling_data/optimizedsampling/2_initial_sample/cluster_sampling.py:208: FutureWarning: The behavior of DataFrame concatenation with empty or all-NA entries is deprecated. In a future version, this will no longer exclude empty or all-NA columns when determining the result dtypes. To retain the old behavior, exclude the relevant entries before the concat operation.\n",
      "  all_sampled = pd.concat(all_sampled).reset_index(drop=True)\n",
      "/media/volume/geo_sampling_data/optimizedsampling/2_initial_sample/cluster_sampling.py:312: UserWarning: Legend does not support handles for PatchCollection instances.\n",
      "See: https://matplotlib.org/stable/tutorials/intermediate/legend_guide.html#implementing-a-custom-legend-handler\n",
      "  ax.legend(loc='lower left', fontsize=10)\n",
      "/media/volume/geo_sampling_data/optimizedsampling/2_initial_sample/cluster_sampling.py:312: UserWarning: No artists with labels found to put in legend.  Note that artists whose label start with an underscore are ignored when legend() is called with no argument.\n",
      "  ax.legend(loc='lower left', fontsize=10)\n"
     ]
    },
    {
     "name": "stdout",
     "output_type": "stream",
     "text": [
      "Saved plot to india_secc/cluster_sampling/fixedstrata_08-09-11-25-33/plots/sample_state_district_50ppc_3839_size_seed_789.png\n",
      "[Reset Sample] Clearing previous sample state...\n",
      "[Sample] Starting sampling process...\n",
      "[Determine Sample Sizes] Total desired sample size: 4000\n",
      "[Determine Sample Sizes] Selected strata: ['08' '09' '33' '11' '25']\n",
      "[Determine Sample Sizes] Final sample size per stratum:\n",
      "{'08': 1727, '09': 1531, '33': 727, '11': 13, '25': 2}\n",
      "[Sample] Processing stratum: 08\n",
      "[Sample] Processing stratum: 09\n",
      "[Sample] Processing stratum: 33\n",
      "[Sample] Processing stratum: 11\n",
      "[Sample] Processing stratum: 25\n",
      "[Sample] Sampling complete. Total points sampled: 3877\n",
      "Clusters: district\n",
      "Saved 3877 sampled IDs and metadata to india_secc/cluster_sampling/fixedstrata_08-09-11-25-33/sample_state_district_50ppc_4000_size_seed_1234.pkl\n"
     ]
    },
    {
     "name": "stderr",
     "output_type": "stream",
     "text": [
      "/media/volume/geo_sampling_data/optimizedsampling/2_initial_sample/cluster_sampling.py:312: UserWarning: Legend does not support handles for PatchCollection instances.\n",
      "See: https://matplotlib.org/stable/tutorials/intermediate/legend_guide.html#implementing-a-custom-legend-handler\n",
      "  ax.legend(loc='lower left', fontsize=10)\n",
      "/media/volume/geo_sampling_data/optimizedsampling/2_initial_sample/cluster_sampling.py:312: UserWarning: No artists with labels found to put in legend.  Note that artists whose label start with an underscore are ignored when legend() is called with no argument.\n",
      "  ax.legend(loc='lower left', fontsize=10)\n"
     ]
    },
    {
     "name": "stdout",
     "output_type": "stream",
     "text": [
      "Saved plot to india_secc/cluster_sampling/fixedstrata_08-09-11-25-33/plots/sample_state_district_50ppc_3877_size_seed_1234.png\n",
      "[Reset Sample] Clearing previous sample state...\n",
      "[Sample] Starting sampling process...\n",
      "[Determine Sample Sizes] Total desired sample size: 4000\n",
      "[Determine Sample Sizes] Selected strata: ['08' '09' '33' '11' '25']\n",
      "[Determine Sample Sizes] Final sample size per stratum:\n",
      "{'08': 1727, '09': 1531, '33': 727, '11': 13, '25': 2}\n",
      "[Sample] Processing stratum: 08\n",
      "[Sample] Processing stratum: 09\n",
      "[Sample] Processing stratum: 33\n",
      "[Sample] Processing stratum: 11\n",
      "[Sample] Processing stratum: 25\n",
      "[Sample] Sampling complete. Total points sampled: 3836\n",
      "Clusters: district\n",
      "Saved 3836 sampled IDs and metadata to india_secc/cluster_sampling/fixedstrata_08-09-11-25-33/sample_state_district_50ppc_4000_size_seed_5678.pkl\n"
     ]
    },
    {
     "name": "stderr",
     "output_type": "stream",
     "text": [
      "/media/volume/geo_sampling_data/optimizedsampling/2_initial_sample/cluster_sampling.py:312: UserWarning: Legend does not support handles for PatchCollection instances.\n",
      "See: https://matplotlib.org/stable/tutorials/intermediate/legend_guide.html#implementing-a-custom-legend-handler\n",
      "  ax.legend(loc='lower left', fontsize=10)\n",
      "/media/volume/geo_sampling_data/optimizedsampling/2_initial_sample/cluster_sampling.py:312: UserWarning: No artists with labels found to put in legend.  Note that artists whose label start with an underscore are ignored when legend() is called with no argument.\n",
      "  ax.legend(loc='lower left', fontsize=10)\n"
     ]
    },
    {
     "name": "stdout",
     "output_type": "stream",
     "text": [
      "Saved plot to india_secc/cluster_sampling/fixedstrata_08-09-11-25-33/plots/sample_state_district_50ppc_3836_size_seed_5678.png\n",
      "[Reset Sample] Clearing previous sample state...\n",
      "[Sample] Starting sampling process...\n",
      "[Determine Sample Sizes] Total desired sample size: 4000\n",
      "[Determine Sample Sizes] Selected strata: ['08' '09' '33' '11' '25']\n",
      "[Determine Sample Sizes] Final sample size per stratum:\n",
      "{'08': 1727, '09': 1531, '33': 727, '11': 13, '25': 2}\n",
      "[Sample] Processing stratum: 08\n",
      "[Sample] Processing stratum: 09\n",
      "[Sample] Processing stratum: 33\n",
      "[Sample] Processing stratum: 11\n",
      "[Sample Clusters] No points returned.\n",
      "[Sample] Processing stratum: 25\n",
      "[Sample Clusters] No points returned.\n",
      "[Sample] Sampling complete. Total points sampled: 3869\n",
      "Clusters: district\n",
      "Saved 3869 sampled IDs and metadata to india_secc/cluster_sampling/fixedstrata_08-09-11-25-33/sample_state_district_50ppc_4000_size_seed_9101.pkl\n"
     ]
    },
    {
     "name": "stderr",
     "output_type": "stream",
     "text": [
      "/media/volume/geo_sampling_data/optimizedsampling/2_initial_sample/cluster_sampling.py:208: FutureWarning: The behavior of DataFrame concatenation with empty or all-NA entries is deprecated. In a future version, this will no longer exclude empty or all-NA columns when determining the result dtypes. To retain the old behavior, exclude the relevant entries before the concat operation.\n",
      "  all_sampled = pd.concat(all_sampled).reset_index(drop=True)\n",
      "/media/volume/geo_sampling_data/optimizedsampling/2_initial_sample/cluster_sampling.py:312: UserWarning: Legend does not support handles for PatchCollection instances.\n",
      "See: https://matplotlib.org/stable/tutorials/intermediate/legend_guide.html#implementing-a-custom-legend-handler\n",
      "  ax.legend(loc='lower left', fontsize=10)\n",
      "/media/volume/geo_sampling_data/optimizedsampling/2_initial_sample/cluster_sampling.py:312: UserWarning: No artists with labels found to put in legend.  Note that artists whose label start with an underscore are ignored when legend() is called with no argument.\n",
      "  ax.legend(loc='lower left', fontsize=10)\n"
     ]
    },
    {
     "name": "stdout",
     "output_type": "stream",
     "text": [
      "Saved plot to india_secc/cluster_sampling/fixedstrata_08-09-11-25-33/plots/sample_state_district_50ppc_3869_size_seed_9101.png\n",
      "[Reset Sample] Clearing previous sample state...\n",
      "[Sample] Starting sampling process...\n",
      "[Determine Sample Sizes] Total desired sample size: 4000\n",
      "[Determine Sample Sizes] Selected strata: ['08' '09' '33' '11' '25']\n",
      "[Determine Sample Sizes] Final sample size per stratum:\n",
      "{'08': 1727, '09': 1531, '33': 727, '11': 13, '25': 2}\n",
      "[Sample] Processing stratum: 08\n",
      "[Sample] Processing stratum: 09\n",
      "[Sample] Processing stratum: 33\n",
      "[Sample] Processing stratum: 11\n",
      "[Sample] Processing stratum: 25\n",
      "[Sample Clusters] No points returned.\n",
      "[Sample] Sampling complete. Total points sampled: 3838\n",
      "Clusters: district\n",
      "Saved 3838 sampled IDs and metadata to india_secc/cluster_sampling/fixedstrata_08-09-11-25-33/sample_state_district_50ppc_4000_size_seed_1213.pkl\n"
     ]
    },
    {
     "name": "stderr",
     "output_type": "stream",
     "text": [
      "/media/volume/geo_sampling_data/optimizedsampling/2_initial_sample/cluster_sampling.py:208: FutureWarning: The behavior of DataFrame concatenation with empty or all-NA entries is deprecated. In a future version, this will no longer exclude empty or all-NA columns when determining the result dtypes. To retain the old behavior, exclude the relevant entries before the concat operation.\n",
      "  all_sampled = pd.concat(all_sampled).reset_index(drop=True)\n",
      "/media/volume/geo_sampling_data/optimizedsampling/2_initial_sample/cluster_sampling.py:312: UserWarning: Legend does not support handles for PatchCollection instances.\n",
      "See: https://matplotlib.org/stable/tutorials/intermediate/legend_guide.html#implementing-a-custom-legend-handler\n",
      "  ax.legend(loc='lower left', fontsize=10)\n",
      "/media/volume/geo_sampling_data/optimizedsampling/2_initial_sample/cluster_sampling.py:312: UserWarning: No artists with labels found to put in legend.  Note that artists whose label start with an underscore are ignored when legend() is called with no argument.\n",
      "  ax.legend(loc='lower left', fontsize=10)\n"
     ]
    },
    {
     "name": "stdout",
     "output_type": "stream",
     "text": [
      "Saved plot to india_secc/cluster_sampling/fixedstrata_08-09-11-25-33/plots/sample_state_district_50ppc_3838_size_seed_1213.png\n",
      "[Reset Sample] Clearing previous sample state...\n",
      "[Sample] Starting sampling process...\n",
      "[Determine Sample Sizes] Total desired sample size: 4000\n",
      "[Determine Sample Sizes] Selected strata: ['08' '09' '33' '11' '25']\n",
      "[Determine Sample Sizes] Final sample size per stratum:\n",
      "{'08': 1727, '09': 1531, '33': 727, '11': 13, '25': 2}\n",
      "[Sample] Processing stratum: 08\n",
      "[Sample] Processing stratum: 09\n",
      "[Sample] Processing stratum: 33\n",
      "[Sample] Processing stratum: 11\n",
      "[Sample Clusters] No points returned.\n",
      "[Sample] Processing stratum: 25\n",
      "[Sample Clusters] No points returned.\n",
      "[Sample] Sampling complete. Total points sampled: 3861\n",
      "Clusters: district\n",
      "Saved 3861 sampled IDs and metadata to india_secc/cluster_sampling/fixedstrata_08-09-11-25-33/sample_state_district_50ppc_4000_size_seed_1415.pkl\n"
     ]
    },
    {
     "name": "stderr",
     "output_type": "stream",
     "text": [
      "/media/volume/geo_sampling_data/optimizedsampling/2_initial_sample/cluster_sampling.py:208: FutureWarning: The behavior of DataFrame concatenation with empty or all-NA entries is deprecated. In a future version, this will no longer exclude empty or all-NA columns when determining the result dtypes. To retain the old behavior, exclude the relevant entries before the concat operation.\n",
      "  all_sampled = pd.concat(all_sampled).reset_index(drop=True)\n",
      "/media/volume/geo_sampling_data/optimizedsampling/2_initial_sample/cluster_sampling.py:312: UserWarning: Legend does not support handles for PatchCollection instances.\n",
      "See: https://matplotlib.org/stable/tutorials/intermediate/legend_guide.html#implementing-a-custom-legend-handler\n",
      "  ax.legend(loc='lower left', fontsize=10)\n",
      "/media/volume/geo_sampling_data/optimizedsampling/2_initial_sample/cluster_sampling.py:312: UserWarning: No artists with labels found to put in legend.  Note that artists whose label start with an underscore are ignored when legend() is called with no argument.\n",
      "  ax.legend(loc='lower left', fontsize=10)\n"
     ]
    },
    {
     "name": "stdout",
     "output_type": "stream",
     "text": [
      "Saved plot to india_secc/cluster_sampling/fixedstrata_08-09-11-25-33/plots/sample_state_district_50ppc_3861_size_seed_1415.png\n",
      "[Reset Sample] Clearing previous sample state...\n",
      "[Sample] Starting sampling process...\n",
      "[Determine Sample Sizes] Total desired sample size: 5000\n",
      "[Determine Sample Sizes] Selected strata: ['08' '09' '33' '11' '25']\n",
      "[Determine Sample Sizes] Final sample size per stratum:\n",
      "{'08': 2159, '09': 1914, '33': 909, '11': 16, '25': 2}\n",
      "[Sample] Processing stratum: 08\n",
      "[Sample] Processing stratum: 09\n",
      "[Sample] Processing stratum: 33\n",
      "[Sample] Processing stratum: 11\n",
      "[Sample] Processing stratum: 25\n",
      "[Sample Clusters] No points returned.\n",
      "[Sample] Sampling complete. Total points sampled: 4441\n",
      "Clusters: district\n",
      "Saved 4441 sampled IDs and metadata to india_secc/cluster_sampling/fixedstrata_08-09-11-25-33/sample_state_district_50ppc_5000_size_seed_1.pkl\n"
     ]
    },
    {
     "name": "stderr",
     "output_type": "stream",
     "text": [
      "/media/volume/geo_sampling_data/optimizedsampling/2_initial_sample/cluster_sampling.py:208: FutureWarning: The behavior of DataFrame concatenation with empty or all-NA entries is deprecated. In a future version, this will no longer exclude empty or all-NA columns when determining the result dtypes. To retain the old behavior, exclude the relevant entries before the concat operation.\n",
      "  all_sampled = pd.concat(all_sampled).reset_index(drop=True)\n",
      "/media/volume/geo_sampling_data/optimizedsampling/2_initial_sample/cluster_sampling.py:312: UserWarning: Legend does not support handles for PatchCollection instances.\n",
      "See: https://matplotlib.org/stable/tutorials/intermediate/legend_guide.html#implementing-a-custom-legend-handler\n",
      "  ax.legend(loc='lower left', fontsize=10)\n",
      "/media/volume/geo_sampling_data/optimizedsampling/2_initial_sample/cluster_sampling.py:312: UserWarning: No artists with labels found to put in legend.  Note that artists whose label start with an underscore are ignored when legend() is called with no argument.\n",
      "  ax.legend(loc='lower left', fontsize=10)\n"
     ]
    },
    {
     "name": "stdout",
     "output_type": "stream",
     "text": [
      "Saved plot to india_secc/cluster_sampling/fixedstrata_08-09-11-25-33/plots/sample_state_district_50ppc_4441_size_seed_1.png\n",
      "[Reset Sample] Clearing previous sample state...\n",
      "[Sample] Starting sampling process...\n",
      "[Determine Sample Sizes] Total desired sample size: 5000\n",
      "[Determine Sample Sizes] Selected strata: ['08' '09' '33' '11' '25']\n",
      "[Determine Sample Sizes] Final sample size per stratum:\n",
      "{'08': 2159, '09': 1914, '33': 909, '11': 16, '25': 2}\n",
      "[Sample] Processing stratum: 08\n",
      "[Sample] Processing stratum: 09\n",
      "[Sample] Processing stratum: 33\n",
      "[Sample] Processing stratum: 11\n",
      "[Sample] Processing stratum: 25\n",
      "[Sample] Sampling complete. Total points sampled: 4445\n",
      "Clusters: district\n",
      "Saved 4445 sampled IDs and metadata to india_secc/cluster_sampling/fixedstrata_08-09-11-25-33/sample_state_district_50ppc_5000_size_seed_42.pkl\n"
     ]
    },
    {
     "name": "stderr",
     "output_type": "stream",
     "text": [
      "/media/volume/geo_sampling_data/optimizedsampling/2_initial_sample/cluster_sampling.py:312: UserWarning: Legend does not support handles for PatchCollection instances.\n",
      "See: https://matplotlib.org/stable/tutorials/intermediate/legend_guide.html#implementing-a-custom-legend-handler\n",
      "  ax.legend(loc='lower left', fontsize=10)\n",
      "/media/volume/geo_sampling_data/optimizedsampling/2_initial_sample/cluster_sampling.py:312: UserWarning: No artists with labels found to put in legend.  Note that artists whose label start with an underscore are ignored when legend() is called with no argument.\n",
      "  ax.legend(loc='lower left', fontsize=10)\n"
     ]
    },
    {
     "name": "stdout",
     "output_type": "stream",
     "text": [
      "Saved plot to india_secc/cluster_sampling/fixedstrata_08-09-11-25-33/plots/sample_state_district_50ppc_4445_size_seed_42.png\n",
      "[Reset Sample] Clearing previous sample state...\n",
      "[Sample] Starting sampling process...\n",
      "[Determine Sample Sizes] Total desired sample size: 5000\n",
      "[Determine Sample Sizes] Selected strata: ['08' '09' '33' '11' '25']\n",
      "[Determine Sample Sizes] Final sample size per stratum:\n",
      "{'08': 2159, '09': 1914, '33': 909, '11': 16, '25': 2}\n",
      "[Sample] Processing stratum: 08\n",
      "[Sample] Processing stratum: 09\n",
      "[Sample] Processing stratum: 33\n",
      "[Sample] Processing stratum: 11\n",
      "[Sample] Processing stratum: 25\n",
      "[Sample] Sampling complete. Total points sampled: 4408\n",
      "Clusters: district\n",
      "Saved 4408 sampled IDs and metadata to india_secc/cluster_sampling/fixedstrata_08-09-11-25-33/sample_state_district_50ppc_5000_size_seed_123.pkl\n"
     ]
    },
    {
     "name": "stderr",
     "output_type": "stream",
     "text": [
      "/media/volume/geo_sampling_data/optimizedsampling/2_initial_sample/cluster_sampling.py:312: UserWarning: Legend does not support handles for PatchCollection instances.\n",
      "See: https://matplotlib.org/stable/tutorials/intermediate/legend_guide.html#implementing-a-custom-legend-handler\n",
      "  ax.legend(loc='lower left', fontsize=10)\n",
      "/media/volume/geo_sampling_data/optimizedsampling/2_initial_sample/cluster_sampling.py:312: UserWarning: No artists with labels found to put in legend.  Note that artists whose label start with an underscore are ignored when legend() is called with no argument.\n",
      "  ax.legend(loc='lower left', fontsize=10)\n"
     ]
    },
    {
     "name": "stdout",
     "output_type": "stream",
     "text": [
      "Saved plot to india_secc/cluster_sampling/fixedstrata_08-09-11-25-33/plots/sample_state_district_50ppc_4408_size_seed_123.png\n",
      "[Reset Sample] Clearing previous sample state...\n",
      "[Sample] Starting sampling process...\n",
      "[Determine Sample Sizes] Total desired sample size: 5000\n",
      "[Determine Sample Sizes] Selected strata: ['08' '09' '33' '11' '25']\n",
      "[Determine Sample Sizes] Final sample size per stratum:\n",
      "{'08': 2159, '09': 1914, '33': 909, '11': 16, '25': 2}\n",
      "[Sample] Processing stratum: 08\n",
      "[Sample] Processing stratum: 09\n",
      "[Sample] Processing stratum: 33\n",
      "[Sample] Processing stratum: 11\n",
      "[Sample] Processing stratum: 25\n",
      "[Sample Clusters] No points returned.\n",
      "[Sample] Sampling complete. Total points sampled: 4417\n",
      "Clusters: district\n",
      "Saved 4417 sampled IDs and metadata to india_secc/cluster_sampling/fixedstrata_08-09-11-25-33/sample_state_district_50ppc_5000_size_seed_456.pkl\n"
     ]
    },
    {
     "name": "stderr",
     "output_type": "stream",
     "text": [
      "/media/volume/geo_sampling_data/optimizedsampling/2_initial_sample/cluster_sampling.py:208: FutureWarning: The behavior of DataFrame concatenation with empty or all-NA entries is deprecated. In a future version, this will no longer exclude empty or all-NA columns when determining the result dtypes. To retain the old behavior, exclude the relevant entries before the concat operation.\n",
      "  all_sampled = pd.concat(all_sampled).reset_index(drop=True)\n",
      "/media/volume/geo_sampling_data/optimizedsampling/2_initial_sample/cluster_sampling.py:312: UserWarning: Legend does not support handles for PatchCollection instances.\n",
      "See: https://matplotlib.org/stable/tutorials/intermediate/legend_guide.html#implementing-a-custom-legend-handler\n",
      "  ax.legend(loc='lower left', fontsize=10)\n",
      "/media/volume/geo_sampling_data/optimizedsampling/2_initial_sample/cluster_sampling.py:312: UserWarning: No artists with labels found to put in legend.  Note that artists whose label start with an underscore are ignored when legend() is called with no argument.\n",
      "  ax.legend(loc='lower left', fontsize=10)\n"
     ]
    },
    {
     "name": "stdout",
     "output_type": "stream",
     "text": [
      "Saved plot to india_secc/cluster_sampling/fixedstrata_08-09-11-25-33/plots/sample_state_district_50ppc_4417_size_seed_456.png\n",
      "[Reset Sample] Clearing previous sample state...\n",
      "[Sample] Starting sampling process...\n",
      "[Determine Sample Sizes] Total desired sample size: 5000\n",
      "[Determine Sample Sizes] Selected strata: ['08' '09' '33' '11' '25']\n",
      "[Determine Sample Sizes] Final sample size per stratum:\n",
      "{'08': 2159, '09': 1914, '33': 909, '11': 16, '25': 2}\n",
      "[Sample] Processing stratum: 08\n",
      "[Sample] Processing stratum: 09\n",
      "[Sample] Processing stratum: 33\n",
      "[Sample] Processing stratum: 11\n",
      "[Sample] Processing stratum: 25\n",
      "[Sample Clusters] No points returned.\n",
      "[Sample] Sampling complete. Total points sampled: 4469\n",
      "Clusters: district\n",
      "Saved 4469 sampled IDs and metadata to india_secc/cluster_sampling/fixedstrata_08-09-11-25-33/sample_state_district_50ppc_5000_size_seed_789.pkl\n"
     ]
    },
    {
     "name": "stderr",
     "output_type": "stream",
     "text": [
      "/media/volume/geo_sampling_data/optimizedsampling/2_initial_sample/cluster_sampling.py:208: FutureWarning: The behavior of DataFrame concatenation with empty or all-NA entries is deprecated. In a future version, this will no longer exclude empty or all-NA columns when determining the result dtypes. To retain the old behavior, exclude the relevant entries before the concat operation.\n",
      "  all_sampled = pd.concat(all_sampled).reset_index(drop=True)\n",
      "/media/volume/geo_sampling_data/optimizedsampling/2_initial_sample/cluster_sampling.py:312: UserWarning: Legend does not support handles for PatchCollection instances.\n",
      "See: https://matplotlib.org/stable/tutorials/intermediate/legend_guide.html#implementing-a-custom-legend-handler\n",
      "  ax.legend(loc='lower left', fontsize=10)\n",
      "/media/volume/geo_sampling_data/optimizedsampling/2_initial_sample/cluster_sampling.py:312: UserWarning: No artists with labels found to put in legend.  Note that artists whose label start with an underscore are ignored when legend() is called with no argument.\n",
      "  ax.legend(loc='lower left', fontsize=10)\n"
     ]
    },
    {
     "name": "stdout",
     "output_type": "stream",
     "text": [
      "Saved plot to india_secc/cluster_sampling/fixedstrata_08-09-11-25-33/plots/sample_state_district_50ppc_4469_size_seed_789.png\n",
      "[Reset Sample] Clearing previous sample state...\n",
      "[Sample] Starting sampling process...\n",
      "[Determine Sample Sizes] Total desired sample size: 5000\n",
      "[Determine Sample Sizes] Selected strata: ['08' '09' '33' '11' '25']\n",
      "[Determine Sample Sizes] Final sample size per stratum:\n",
      "{'08': 2159, '09': 1914, '33': 909, '11': 16, '25': 2}\n",
      "[Sample] Processing stratum: 08\n",
      "[Sample] Processing stratum: 09\n",
      "[Sample] Processing stratum: 33\n",
      "[Sample] Processing stratum: 11\n",
      "[Sample] Processing stratum: 25\n",
      "[Sample] Sampling complete. Total points sampled: 4392\n",
      "Clusters: district\n",
      "Saved 4392 sampled IDs and metadata to india_secc/cluster_sampling/fixedstrata_08-09-11-25-33/sample_state_district_50ppc_5000_size_seed_1234.pkl\n"
     ]
    },
    {
     "name": "stderr",
     "output_type": "stream",
     "text": [
      "/media/volume/geo_sampling_data/optimizedsampling/2_initial_sample/cluster_sampling.py:312: UserWarning: Legend does not support handles for PatchCollection instances.\n",
      "See: https://matplotlib.org/stable/tutorials/intermediate/legend_guide.html#implementing-a-custom-legend-handler\n",
      "  ax.legend(loc='lower left', fontsize=10)\n",
      "/media/volume/geo_sampling_data/optimizedsampling/2_initial_sample/cluster_sampling.py:312: UserWarning: No artists with labels found to put in legend.  Note that artists whose label start with an underscore are ignored when legend() is called with no argument.\n",
      "  ax.legend(loc='lower left', fontsize=10)\n"
     ]
    },
    {
     "name": "stdout",
     "output_type": "stream",
     "text": [
      "Saved plot to india_secc/cluster_sampling/fixedstrata_08-09-11-25-33/plots/sample_state_district_50ppc_4392_size_seed_1234.png\n",
      "[Reset Sample] Clearing previous sample state...\n",
      "[Sample] Starting sampling process...\n",
      "[Determine Sample Sizes] Total desired sample size: 5000\n",
      "[Determine Sample Sizes] Selected strata: ['08' '09' '33' '11' '25']\n",
      "[Determine Sample Sizes] Final sample size per stratum:\n",
      "{'08': 2159, '09': 1914, '33': 909, '11': 16, '25': 2}\n",
      "[Sample] Processing stratum: 08\n",
      "[Sample] Processing stratum: 09\n",
      "[Sample] Processing stratum: 33\n",
      "[Sample] Processing stratum: 11\n",
      "[Sample] Processing stratum: 25\n",
      "[Sample] Sampling complete. Total points sampled: 4432\n",
      "Clusters: district\n",
      "Saved 4432 sampled IDs and metadata to india_secc/cluster_sampling/fixedstrata_08-09-11-25-33/sample_state_district_50ppc_5000_size_seed_5678.pkl\n"
     ]
    },
    {
     "name": "stderr",
     "output_type": "stream",
     "text": [
      "/media/volume/geo_sampling_data/optimizedsampling/2_initial_sample/cluster_sampling.py:312: UserWarning: Legend does not support handles for PatchCollection instances.\n",
      "See: https://matplotlib.org/stable/tutorials/intermediate/legend_guide.html#implementing-a-custom-legend-handler\n",
      "  ax.legend(loc='lower left', fontsize=10)\n",
      "/media/volume/geo_sampling_data/optimizedsampling/2_initial_sample/cluster_sampling.py:312: UserWarning: No artists with labels found to put in legend.  Note that artists whose label start with an underscore are ignored when legend() is called with no argument.\n",
      "  ax.legend(loc='lower left', fontsize=10)\n"
     ]
    },
    {
     "name": "stdout",
     "output_type": "stream",
     "text": [
      "Saved plot to india_secc/cluster_sampling/fixedstrata_08-09-11-25-33/plots/sample_state_district_50ppc_4432_size_seed_5678.png\n",
      "[Reset Sample] Clearing previous sample state...\n",
      "[Sample] Starting sampling process...\n",
      "[Determine Sample Sizes] Total desired sample size: 5000\n",
      "[Determine Sample Sizes] Selected strata: ['08' '09' '33' '11' '25']\n",
      "[Determine Sample Sizes] Final sample size per stratum:\n",
      "{'08': 2159, '09': 1914, '33': 909, '11': 16, '25': 2}\n",
      "[Sample] Processing stratum: 08\n",
      "[Sample] Processing stratum: 09\n",
      "[Sample] Processing stratum: 33\n",
      "[Sample] Processing stratum: 11\n",
      "[Sample] Processing stratum: 25\n",
      "[Sample Clusters] No points returned.\n",
      "[Sample] Sampling complete. Total points sampled: 4426\n",
      "Clusters: district\n",
      "Saved 4426 sampled IDs and metadata to india_secc/cluster_sampling/fixedstrata_08-09-11-25-33/sample_state_district_50ppc_5000_size_seed_9101.pkl\n"
     ]
    },
    {
     "name": "stderr",
     "output_type": "stream",
     "text": [
      "/media/volume/geo_sampling_data/optimizedsampling/2_initial_sample/cluster_sampling.py:208: FutureWarning: The behavior of DataFrame concatenation with empty or all-NA entries is deprecated. In a future version, this will no longer exclude empty or all-NA columns when determining the result dtypes. To retain the old behavior, exclude the relevant entries before the concat operation.\n",
      "  all_sampled = pd.concat(all_sampled).reset_index(drop=True)\n",
      "/media/volume/geo_sampling_data/optimizedsampling/2_initial_sample/cluster_sampling.py:312: UserWarning: Legend does not support handles for PatchCollection instances.\n",
      "See: https://matplotlib.org/stable/tutorials/intermediate/legend_guide.html#implementing-a-custom-legend-handler\n",
      "  ax.legend(loc='lower left', fontsize=10)\n",
      "/media/volume/geo_sampling_data/optimizedsampling/2_initial_sample/cluster_sampling.py:312: UserWarning: No artists with labels found to put in legend.  Note that artists whose label start with an underscore are ignored when legend() is called with no argument.\n",
      "  ax.legend(loc='lower left', fontsize=10)\n"
     ]
    },
    {
     "name": "stdout",
     "output_type": "stream",
     "text": [
      "Saved plot to india_secc/cluster_sampling/fixedstrata_08-09-11-25-33/plots/sample_state_district_50ppc_4426_size_seed_9101.png\n",
      "[Reset Sample] Clearing previous sample state...\n",
      "[Sample] Starting sampling process...\n",
      "[Determine Sample Sizes] Total desired sample size: 5000\n",
      "[Determine Sample Sizes] Selected strata: ['08' '09' '33' '11' '25']\n",
      "[Determine Sample Sizes] Final sample size per stratum:\n",
      "{'08': 2159, '09': 1914, '33': 909, '11': 16, '25': 2}\n",
      "[Sample] Processing stratum: 08\n",
      "[Sample] Processing stratum: 09\n",
      "[Sample] Processing stratum: 33\n",
      "[Sample] Processing stratum: 11\n",
      "[Sample] Processing stratum: 25\n",
      "[Sample Clusters] No points returned.\n",
      "[Sample] Sampling complete. Total points sampled: 4454\n",
      "Clusters: district\n",
      "Saved 4454 sampled IDs and metadata to india_secc/cluster_sampling/fixedstrata_08-09-11-25-33/sample_state_district_50ppc_5000_size_seed_1213.pkl\n"
     ]
    },
    {
     "name": "stderr",
     "output_type": "stream",
     "text": [
      "/media/volume/geo_sampling_data/optimizedsampling/2_initial_sample/cluster_sampling.py:208: FutureWarning: The behavior of DataFrame concatenation with empty or all-NA entries is deprecated. In a future version, this will no longer exclude empty or all-NA columns when determining the result dtypes. To retain the old behavior, exclude the relevant entries before the concat operation.\n",
      "  all_sampled = pd.concat(all_sampled).reset_index(drop=True)\n",
      "/media/volume/geo_sampling_data/optimizedsampling/2_initial_sample/cluster_sampling.py:312: UserWarning: Legend does not support handles for PatchCollection instances.\n",
      "See: https://matplotlib.org/stable/tutorials/intermediate/legend_guide.html#implementing-a-custom-legend-handler\n",
      "  ax.legend(loc='lower left', fontsize=10)\n",
      "/media/volume/geo_sampling_data/optimizedsampling/2_initial_sample/cluster_sampling.py:312: UserWarning: No artists with labels found to put in legend.  Note that artists whose label start with an underscore are ignored when legend() is called with no argument.\n",
      "  ax.legend(loc='lower left', fontsize=10)\n"
     ]
    },
    {
     "name": "stdout",
     "output_type": "stream",
     "text": [
      "Saved plot to india_secc/cluster_sampling/fixedstrata_08-09-11-25-33/plots/sample_state_district_50ppc_4454_size_seed_1213.png\n",
      "[Reset Sample] Clearing previous sample state...\n",
      "[Sample] Starting sampling process...\n",
      "[Determine Sample Sizes] Total desired sample size: 5000\n",
      "[Determine Sample Sizes] Selected strata: ['08' '09' '33' '11' '25']\n",
      "[Determine Sample Sizes] Final sample size per stratum:\n",
      "{'08': 2159, '09': 1914, '33': 909, '11': 16, '25': 2}\n",
      "[Sample] Processing stratum: 08\n",
      "[Sample] Processing stratum: 09\n",
      "[Sample] Processing stratum: 33\n",
      "[Sample] Processing stratum: 11\n",
      "[Sample] Processing stratum: 25\n",
      "[Sample Clusters] No points returned.\n",
      "[Sample] Sampling complete. Total points sampled: 4413\n",
      "Clusters: district\n",
      "Saved 4413 sampled IDs and metadata to india_secc/cluster_sampling/fixedstrata_08-09-11-25-33/sample_state_district_50ppc_5000_size_seed_1415.pkl\n"
     ]
    },
    {
     "name": "stderr",
     "output_type": "stream",
     "text": [
      "/media/volume/geo_sampling_data/optimizedsampling/2_initial_sample/cluster_sampling.py:208: FutureWarning: The behavior of DataFrame concatenation with empty or all-NA entries is deprecated. In a future version, this will no longer exclude empty or all-NA columns when determining the result dtypes. To retain the old behavior, exclude the relevant entries before the concat operation.\n",
      "  all_sampled = pd.concat(all_sampled).reset_index(drop=True)\n",
      "/media/volume/geo_sampling_data/optimizedsampling/2_initial_sample/cluster_sampling.py:312: UserWarning: Legend does not support handles for PatchCollection instances.\n",
      "See: https://matplotlib.org/stable/tutorials/intermediate/legend_guide.html#implementing-a-custom-legend-handler\n",
      "  ax.legend(loc='lower left', fontsize=10)\n",
      "/media/volume/geo_sampling_data/optimizedsampling/2_initial_sample/cluster_sampling.py:312: UserWarning: No artists with labels found to put in legend.  Note that artists whose label start with an underscore are ignored when legend() is called with no argument.\n",
      "  ax.legend(loc='lower left', fontsize=10)\n"
     ]
    },
    {
     "name": "stdout",
     "output_type": "stream",
     "text": [
      "Saved plot to india_secc/cluster_sampling/fixedstrata_08-09-11-25-33/plots/sample_state_district_50ppc_4413_size_seed_1415.png\n",
      "[Reset Sample] Clearing previous sample state...\n",
      "[Sample] Starting sampling process...\n",
      "[Determine Sample Sizes] Total desired sample size: 1000\n",
      "[Determine Sample Sizes] Selected strata: ['08' '09' '33' '11' '25' '06' '01' '21' '23' '04']\n",
      "[Determine Sample Sizes] Final sample size per stratum:\n",
      "{'08': 240, '09': 213, '33': 101, '11': 2, '25': 0, '06': 40, '01': 26, '21': 153, '23': 225, '04': 0}\n",
      "[Sample] Processing stratum: 08\n",
      "[Sample] Processing stratum: 09\n",
      "[Sample] Processing stratum: 33\n",
      "[Sample] Processing stratum: 11\n",
      "[Sample Clusters] No points returned.\n",
      "[Sample] Processing stratum: 25\n",
      "[Sample] Processing stratum: 06\n",
      "[Sample] Processing stratum: 01\n",
      "[Sample] Processing stratum: 21\n",
      "[Sample] Processing stratum: 23\n",
      "[Sample] Processing stratum: 04\n",
      "[Sample] Sampling complete. Total points sampled: 960\n",
      "Clusters: district\n",
      "Saved 960 sampled IDs and metadata to india_secc/cluster_sampling/fixedstrata_01-04-06-08-09-11-21-23-25-33/sample_state_district_20ppc_1000_size_seed_1.pkl\n"
     ]
    },
    {
     "name": "stderr",
     "output_type": "stream",
     "text": [
      "/media/volume/geo_sampling_data/optimizedsampling/2_initial_sample/cluster_sampling.py:208: FutureWarning: The behavior of DataFrame concatenation with empty or all-NA entries is deprecated. In a future version, this will no longer exclude empty or all-NA columns when determining the result dtypes. To retain the old behavior, exclude the relevant entries before the concat operation.\n",
      "  all_sampled = pd.concat(all_sampled).reset_index(drop=True)\n",
      "/media/volume/geo_sampling_data/optimizedsampling/2_initial_sample/cluster_sampling.py:312: UserWarning: Legend does not support handles for PatchCollection instances.\n",
      "See: https://matplotlib.org/stable/tutorials/intermediate/legend_guide.html#implementing-a-custom-legend-handler\n",
      "  ax.legend(loc='lower left', fontsize=10)\n",
      "/media/volume/geo_sampling_data/optimizedsampling/2_initial_sample/cluster_sampling.py:312: UserWarning: No artists with labels found to put in legend.  Note that artists whose label start with an underscore are ignored when legend() is called with no argument.\n",
      "  ax.legend(loc='lower left', fontsize=10)\n"
     ]
    },
    {
     "name": "stdout",
     "output_type": "stream",
     "text": [
      "Saved plot to india_secc/cluster_sampling/fixedstrata_01-04-06-08-09-11-21-23-25-33/plots/sample_state_district_20ppc_960_size_seed_1.png\n",
      "[Reset Sample] Clearing previous sample state...\n",
      "[Sample] Starting sampling process...\n",
      "[Determine Sample Sizes] Total desired sample size: 1000\n",
      "[Determine Sample Sizes] Selected strata: ['08' '09' '33' '11' '25' '06' '01' '21' '23' '04']\n",
      "[Determine Sample Sizes] Final sample size per stratum:\n",
      "{'08': 240, '09': 213, '33': 101, '11': 2, '25': 0, '06': 40, '01': 26, '21': 153, '23': 225, '04': 0}\n",
      "[Sample] Processing stratum: 08\n",
      "[Sample] Processing stratum: 09\n",
      "[Sample] Processing stratum: 33\n",
      "[Sample] Processing stratum: 11\n",
      "[Sample Clusters] No points returned.\n",
      "[Sample] Processing stratum: 25\n",
      "[Sample] Processing stratum: 06\n",
      "[Sample] Processing stratum: 01\n",
      "[Sample] Processing stratum: 21\n",
      "[Sample] Processing stratum: 23\n",
      "[Sample] Processing stratum: 04\n",
      "[Sample] Sampling complete. Total points sampled: 960\n",
      "Clusters: district\n",
      "Saved 960 sampled IDs and metadata to india_secc/cluster_sampling/fixedstrata_01-04-06-08-09-11-21-23-25-33/sample_state_district_20ppc_1000_size_seed_42.pkl\n"
     ]
    },
    {
     "name": "stderr",
     "output_type": "stream",
     "text": [
      "/media/volume/geo_sampling_data/optimizedsampling/2_initial_sample/cluster_sampling.py:208: FutureWarning: The behavior of DataFrame concatenation with empty or all-NA entries is deprecated. In a future version, this will no longer exclude empty or all-NA columns when determining the result dtypes. To retain the old behavior, exclude the relevant entries before the concat operation.\n",
      "  all_sampled = pd.concat(all_sampled).reset_index(drop=True)\n"
     ]
    },
    {
     "ename": "KeyboardInterrupt",
     "evalue": "",
     "output_type": "error",
     "traceback": [
      "\u001b[31m---------------------------------------------------------------------------\u001b[39m",
      "\u001b[31mKeyboardInterrupt\u001b[39m                         Traceback (most recent call last)",
      "\u001b[36mCell\u001b[39m\u001b[36m \u001b[39m\u001b[32mIn[14]\u001b[39m\u001b[32m, line 54\u001b[39m\n\u001b[32m     52\u001b[39m     sampler.sample(total_sample_size, points_per_cluster, seed, fixed_strata=fixed_strata)\n\u001b[32m     53\u001b[39m     sampler.save_sampled_ids(out_path)\n\u001b[32m---> \u001b[39m\u001b[32m54\u001b[39m     \u001b[43msampler\u001b[49m\u001b[43m.\u001b[49m\u001b[43mplot\u001b[49m\u001b[43m(\u001b[49m\u001b[43mcountry_shape_file\u001b[49m\u001b[43m=\u001b[49m\u001b[43mcountry_shape_file\u001b[49m\u001b[43m,\u001b[49m\u001b[43m \u001b[49m\u001b[43mcountry_name\u001b[49m\u001b[43m=\u001b[49m\u001b[43mcountry_name\u001b[49m\u001b[43m)\u001b[49m\n\u001b[32m     55\u001b[39m \u001b[38;5;28;01mexcept\u001b[39;00m \u001b[38;5;167;01mException\u001b[39;00m \u001b[38;5;28;01mas\u001b[39;00m e:\n\u001b[32m     56\u001b[39m     \u001b[38;5;28mprint\u001b[39m(e)\n",
      "\u001b[36mFile \u001b[39m\u001b[32m/media/volume/geo_sampling_data/optimizedsampling/2_initial_sample/cluster_sampling.py:301\u001b[39m, in \u001b[36mClusterSampler.plot\u001b[39m\u001b[34m(self, country_shape_file, country_name, exclude_names)\u001b[39m\n\u001b[32m    298\u001b[39m country = country.to_crs(\u001b[33m'\u001b[39m\u001b[33mEPSG:4326\u001b[39m\u001b[33m'\u001b[39m)\n\u001b[32m    300\u001b[39m country.boundary.plot(ax=ax, color=\u001b[33m'\u001b[39m\u001b[33mblack\u001b[39m\u001b[33m'\u001b[39m, linewidth=\u001b[32m0.8\u001b[39m, zorder=\u001b[32m4\u001b[39m, alpha=\u001b[32m0.8\u001b[39m)\n\u001b[32m--> \u001b[39m\u001b[32m301\u001b[39m \u001b[38;5;28;43mself\u001b[39;49m\u001b[43m.\u001b[49m\u001b[43mgdf_points\u001b[49m\u001b[43m.\u001b[49m\u001b[43mplot\u001b[49m\u001b[43m(\u001b[49m\u001b[43max\u001b[49m\u001b[43m=\u001b[49m\u001b[43max\u001b[49m\u001b[43m,\u001b[49m\u001b[43m \u001b[49m\u001b[43mcolor\u001b[49m\u001b[43m=\u001b[49m\u001b[33;43m'\u001b[39;49m\u001b[33;43m#cccccc\u001b[39;49m\u001b[33;43m'\u001b[39;49m\u001b[43m,\u001b[49m\u001b[43m \u001b[49m\u001b[43mmarkersize\u001b[49m\u001b[43m=\u001b[49m\u001b[32;43m5\u001b[39;49m\u001b[43m,\u001b[49m\u001b[43m \u001b[49m\u001b[43mlabel\u001b[49m\u001b[43m=\u001b[49m\u001b[33;43m'\u001b[39;49m\u001b[33;43mAll Points\u001b[39;49m\u001b[33;43m'\u001b[39;49m\u001b[43m,\u001b[49m\u001b[43m \u001b[49m\u001b[43mzorder\u001b[49m\u001b[43m=\u001b[49m\u001b[32;43m1\u001b[39;49m\u001b[43m,\u001b[49m\u001b[43m \u001b[49m\u001b[43malpha\u001b[49m\u001b[43m=\u001b[49m\u001b[32;43m0.6\u001b[39;49m\u001b[43m)\u001b[49m\n\u001b[32m    302\u001b[39m \u001b[38;5;28mself\u001b[39m.sampled_gdf.plot(ax=ax, color=\u001b[33m'\u001b[39m\u001b[33m#d62728\u001b[39m\u001b[33m'\u001b[39m, markersize=\u001b[32m5\u001b[39m, label=\u001b[33mf\u001b[39m\u001b[33m'\u001b[39m\u001b[33mSampled (\u001b[39m\u001b[38;5;132;01m{\u001b[39;00m\u001b[38;5;28mself\u001b[39m.sample_size\u001b[38;5;132;01m}\u001b[39;00m\u001b[33m)\u001b[39m\u001b[33m'\u001b[39m, zorder=\u001b[32m3\u001b[39m, alpha=\u001b[32m0.8\u001b[39m)\n\u001b[32m    304\u001b[39m \u001b[38;5;28;01mif\u001b[39;00m \u001b[38;5;28mlen\u001b[39m(\u001b[38;5;28mself\u001b[39m.cluster_col_keys) > \u001b[32m1\u001b[39m:\n",
      "\u001b[36mFile \u001b[39m\u001b[32m~/miniconda3/envs/mosaiks/lib/python3.11/site-packages/geopandas/plotting.py:962\u001b[39m, in \u001b[36mGeoplotAccessor.__call__\u001b[39m\u001b[34m(self, *args, **kwargs)\u001b[39m\n\u001b[32m    960\u001b[39m kind = kwargs.pop(\u001b[33m\"\u001b[39m\u001b[33mkind\u001b[39m\u001b[33m\"\u001b[39m, \u001b[33m\"\u001b[39m\u001b[33mgeo\u001b[39m\u001b[33m\"\u001b[39m)\n\u001b[32m    961\u001b[39m \u001b[38;5;28;01mif\u001b[39;00m kind == \u001b[33m\"\u001b[39m\u001b[33mgeo\u001b[39m\u001b[33m\"\u001b[39m:\n\u001b[32m--> \u001b[39m\u001b[32m962\u001b[39m     \u001b[38;5;28;01mreturn\u001b[39;00m \u001b[43mplot_dataframe\u001b[49m\u001b[43m(\u001b[49m\u001b[43mdata\u001b[49m\u001b[43m,\u001b[49m\u001b[43m \u001b[49m\u001b[43m*\u001b[49m\u001b[43margs\u001b[49m\u001b[43m,\u001b[49m\u001b[43m \u001b[49m\u001b[43m*\u001b[49m\u001b[43m*\u001b[49m\u001b[43mkwargs\u001b[49m\u001b[43m)\u001b[49m\n\u001b[32m    963\u001b[39m \u001b[38;5;28;01mif\u001b[39;00m kind \u001b[38;5;129;01min\u001b[39;00m \u001b[38;5;28mself\u001b[39m._pandas_kinds:\n\u001b[32m    964\u001b[39m     \u001b[38;5;66;03m# Access pandas plots\u001b[39;00m\n\u001b[32m    965\u001b[39m     \u001b[38;5;28;01mreturn\u001b[39;00m PlotAccessor(data)(kind=kind, **kwargs)\n",
      "\u001b[36mFile \u001b[39m\u001b[32m~/miniconda3/envs/mosaiks/lib/python3.11/site-packages/geopandas/plotting.py:688\u001b[39m, in \u001b[36mplot_dataframe\u001b[39m\u001b[34m(df, column, cmap, color, ax, cax, categorical, legend, scheme, k, vmin, vmax, markersize, figsize, legend_kwds, categories, classification_kwds, missing_kwds, aspect, autolim, **style_kwds)\u001b[39m\n\u001b[32m    685\u001b[39m     markersize = df[markersize].values\n\u001b[32m    687\u001b[39m \u001b[38;5;28;01mif\u001b[39;00m column \u001b[38;5;129;01mis\u001b[39;00m \u001b[38;5;28;01mNone\u001b[39;00m:\n\u001b[32m--> \u001b[39m\u001b[32m688\u001b[39m     \u001b[38;5;28;01mreturn\u001b[39;00m \u001b[43mplot_series\u001b[49m\u001b[43m(\u001b[49m\n\u001b[32m    689\u001b[39m \u001b[43m        \u001b[49m\u001b[43mdf\u001b[49m\u001b[43m.\u001b[49m\u001b[43mgeometry\u001b[49m\u001b[43m,\u001b[49m\n\u001b[32m    690\u001b[39m \u001b[43m        \u001b[49m\u001b[43mcmap\u001b[49m\u001b[43m=\u001b[49m\u001b[43mcmap\u001b[49m\u001b[43m,\u001b[49m\n\u001b[32m    691\u001b[39m \u001b[43m        \u001b[49m\u001b[43mcolor\u001b[49m\u001b[43m=\u001b[49m\u001b[43mcolor\u001b[49m\u001b[43m,\u001b[49m\n\u001b[32m    692\u001b[39m \u001b[43m        \u001b[49m\u001b[43max\u001b[49m\u001b[43m=\u001b[49m\u001b[43max\u001b[49m\u001b[43m,\u001b[49m\n\u001b[32m    693\u001b[39m \u001b[43m        \u001b[49m\u001b[43mfigsize\u001b[49m\u001b[43m=\u001b[49m\u001b[43mfigsize\u001b[49m\u001b[43m,\u001b[49m\n\u001b[32m    694\u001b[39m \u001b[43m        \u001b[49m\u001b[43mmarkersize\u001b[49m\u001b[43m=\u001b[49m\u001b[43mmarkersize\u001b[49m\u001b[43m,\u001b[49m\n\u001b[32m    695\u001b[39m \u001b[43m        \u001b[49m\u001b[43maspect\u001b[49m\u001b[43m=\u001b[49m\u001b[43maspect\u001b[49m\u001b[43m,\u001b[49m\n\u001b[32m    696\u001b[39m \u001b[43m        \u001b[49m\u001b[43mautolim\u001b[49m\u001b[43m=\u001b[49m\u001b[43mautolim\u001b[49m\u001b[43m,\u001b[49m\n\u001b[32m    697\u001b[39m \u001b[43m        \u001b[49m\u001b[43m*\u001b[49m\u001b[43m*\u001b[49m\u001b[43mstyle_kwds\u001b[49m\u001b[43m,\u001b[49m\n\u001b[32m    698\u001b[39m \u001b[43m    \u001b[49m\u001b[43m)\u001b[49m\n\u001b[32m    700\u001b[39m \u001b[38;5;66;03m# To accept pd.Series and np.arrays as column\u001b[39;00m\n\u001b[32m    701\u001b[39m \u001b[38;5;28;01mif\u001b[39;00m \u001b[38;5;28misinstance\u001b[39m(column, np.ndarray | pd.Series | pd.Index):\n",
      "\u001b[36mFile \u001b[39m\u001b[32m~/miniconda3/envs/mosaiks/lib/python3.11/site-packages/geopandas/plotting.py:450\u001b[39m, in \u001b[36mplot_series\u001b[39m\u001b[34m(s, cmap, color, ax, figsize, aspect, autolim, **style_kwds)\u001b[39m\n\u001b[32m    447\u001b[39m         facecolor = color_\n\u001b[32m    449\u001b[39m     values_ = values[poly_idx] \u001b[38;5;28;01mif\u001b[39;00m cmap \u001b[38;5;28;01melse\u001b[39;00m \u001b[38;5;28;01mNone\u001b[39;00m\n\u001b[32m--> \u001b[39m\u001b[32m450\u001b[39m     \u001b[43m_plot_polygon_collection\u001b[49m\u001b[43m(\u001b[49m\n\u001b[32m    451\u001b[39m \u001b[43m        \u001b[49m\u001b[43max\u001b[49m\u001b[43m,\u001b[49m\n\u001b[32m    452\u001b[39m \u001b[43m        \u001b[49m\u001b[43mpolys\u001b[49m\u001b[43m,\u001b[49m\n\u001b[32m    453\u001b[39m \u001b[43m        \u001b[49m\u001b[43mvalues_\u001b[49m\u001b[43m,\u001b[49m\n\u001b[32m    454\u001b[39m \u001b[43m        \u001b[49m\u001b[43mfacecolor\u001b[49m\u001b[43m=\u001b[49m\u001b[43mfacecolor\u001b[49m\u001b[43m,\u001b[49m\n\u001b[32m    455\u001b[39m \u001b[43m        \u001b[49m\u001b[43mcmap\u001b[49m\u001b[43m=\u001b[49m\u001b[43mcmap\u001b[49m\u001b[43m,\u001b[49m\n\u001b[32m    456\u001b[39m \u001b[43m        \u001b[49m\u001b[43mautolim\u001b[49m\u001b[43m=\u001b[49m\u001b[43mautolim\u001b[49m\u001b[43m,\u001b[49m\n\u001b[32m    457\u001b[39m \u001b[43m        \u001b[49m\u001b[43m*\u001b[49m\u001b[43m*\u001b[49m\u001b[43mstyle_kwds\u001b[49m\u001b[43m,\u001b[49m\n\u001b[32m    458\u001b[39m \u001b[43m    \u001b[49m\u001b[43m)\u001b[49m\n\u001b[32m    460\u001b[39m \u001b[38;5;66;03m# plot all LineStrings and MultiLineString components in same collection\u001b[39;00m\n\u001b[32m    461\u001b[39m lines = expl_series[line_idx]\n",
      "\u001b[36mFile \u001b[39m\u001b[32m~/miniconda3/envs/mosaiks/lib/python3.11/site-packages/geopandas/plotting.py:173\u001b[39m, in \u001b[36m_plot_polygon_collection\u001b[39m\u001b[34m(ax, geoms, values, color, cmap, vmin, vmax, autolim, **kwargs)\u001b[39m\n\u001b[32m    169\u001b[39m     kwargs[\u001b[33m\"\u001b[39m\u001b[33mcolor\u001b[39m\u001b[33m\"\u001b[39m] = color\n\u001b[32m    171\u001b[39m _expand_kwargs(kwargs, multiindex)\n\u001b[32m--> \u001b[39m\u001b[32m173\u001b[39m collection = PatchCollection(\u001b[43m[\u001b[49m\u001b[43m_PolygonPatch\u001b[49m\u001b[43m(\u001b[49m\u001b[43mpoly\u001b[49m\u001b[43m)\u001b[49m\u001b[43m \u001b[49m\u001b[38;5;28;43;01mfor\u001b[39;49;00m\u001b[43m \u001b[49m\u001b[43mpoly\u001b[49m\u001b[43m \u001b[49m\u001b[38;5;129;43;01min\u001b[39;49;00m\u001b[43m \u001b[49m\u001b[43mgeoms\u001b[49m\u001b[43m]\u001b[49m, **kwargs)\n\u001b[32m    175\u001b[39m \u001b[38;5;28;01mif\u001b[39;00m values \u001b[38;5;129;01mis\u001b[39;00m \u001b[38;5;129;01mnot\u001b[39;00m \u001b[38;5;28;01mNone\u001b[39;00m:\n\u001b[32m    176\u001b[39m     collection.set_array(np.asarray(values))\n",
      "\u001b[36mFile \u001b[39m\u001b[32m~/miniconda3/envs/mosaiks/lib/python3.11/site-packages/geopandas/plotting.py:173\u001b[39m, in \u001b[36m<listcomp>\u001b[39m\u001b[34m(.0)\u001b[39m\n\u001b[32m    169\u001b[39m     kwargs[\u001b[33m\"\u001b[39m\u001b[33mcolor\u001b[39m\u001b[33m\"\u001b[39m] = color\n\u001b[32m    171\u001b[39m _expand_kwargs(kwargs, multiindex)\n\u001b[32m--> \u001b[39m\u001b[32m173\u001b[39m collection = PatchCollection([\u001b[43m_PolygonPatch\u001b[49m\u001b[43m(\u001b[49m\u001b[43mpoly\u001b[49m\u001b[43m)\u001b[49m \u001b[38;5;28;01mfor\u001b[39;00m poly \u001b[38;5;129;01min\u001b[39;00m geoms], **kwargs)\n\u001b[32m    175\u001b[39m \u001b[38;5;28;01mif\u001b[39;00m values \u001b[38;5;129;01mis\u001b[39;00m \u001b[38;5;129;01mnot\u001b[39;00m \u001b[38;5;28;01mNone\u001b[39;00m:\n\u001b[32m    176\u001b[39m     collection.set_array(np.asarray(values))\n",
      "\u001b[36mFile \u001b[39m\u001b[32m~/miniconda3/envs/mosaiks/lib/python3.11/site-packages/geopandas/plotting.py:107\u001b[39m, in \u001b[36m_PolygonPatch\u001b[39m\u001b[34m(polygon, **kwargs)\u001b[39m\n\u001b[32m    103\u001b[39m \u001b[38;5;28;01mfrom\u001b[39;00m\u001b[38;5;250m \u001b[39m\u001b[34;01mmatplotlib\u001b[39;00m\u001b[34;01m.\u001b[39;00m\u001b[34;01mpatches\u001b[39;00m\u001b[38;5;250m \u001b[39m\u001b[38;5;28;01mimport\u001b[39;00m PathPatch\n\u001b[32m    104\u001b[39m \u001b[38;5;28;01mfrom\u001b[39;00m\u001b[38;5;250m \u001b[39m\u001b[34;01mmatplotlib\u001b[39;00m\u001b[34;01m.\u001b[39;00m\u001b[34;01mpath\u001b[39;00m\u001b[38;5;250m \u001b[39m\u001b[38;5;28;01mimport\u001b[39;00m Path\n\u001b[32m    106\u001b[39m path = Path.make_compound_path(\n\u001b[32m--> \u001b[39m\u001b[32m107\u001b[39m     Path(np.asarray(\u001b[43mpolygon\u001b[49m\u001b[43m.\u001b[49m\u001b[43mexterior\u001b[49m\u001b[43m.\u001b[49m\u001b[43mcoords\u001b[49m)[:, :\u001b[32m2\u001b[39m], closed=\u001b[38;5;28;01mTrue\u001b[39;00m),\n\u001b[32m    108\u001b[39m     *[\n\u001b[32m    109\u001b[39m         Path(np.asarray(ring.coords)[:, :\u001b[32m2\u001b[39m], closed=\u001b[38;5;28;01mTrue\u001b[39;00m)\n\u001b[32m    110\u001b[39m         \u001b[38;5;28;01mfor\u001b[39;00m ring \u001b[38;5;129;01min\u001b[39;00m polygon.interiors\n\u001b[32m    111\u001b[39m     ],\n\u001b[32m    112\u001b[39m )\n\u001b[32m    113\u001b[39m \u001b[38;5;28;01mreturn\u001b[39;00m PathPatch(path, **kwargs)\n",
      "\u001b[36mFile \u001b[39m\u001b[32m~/miniconda3/envs/mosaiks/lib/python3.11/site-packages/shapely/geometry/base.py:219\u001b[39m, in \u001b[36mBaseGeometry.coords\u001b[39m\u001b[34m(self)\u001b[39m\n\u001b[32m    214\u001b[39m     \u001b[38;5;28;01mreturn\u001b[39;00m \u001b[38;5;28mself\u001b[39m.symmetric_difference(other)\n\u001b[32m    216\u001b[39m \u001b[38;5;66;03m# Coordinate access\u001b[39;00m\n\u001b[32m    217\u001b[39m \u001b[38;5;66;03m# -----------------\u001b[39;00m\n\u001b[32m--> \u001b[39m\u001b[32m219\u001b[39m \u001b[38;5;129m@property\u001b[39m\n\u001b[32m    220\u001b[39m \u001b[38;5;28;01mdef\u001b[39;00m\u001b[38;5;250m \u001b[39m\u001b[34mcoords\u001b[39m(\u001b[38;5;28mself\u001b[39m):\n\u001b[32m    221\u001b[39m \u001b[38;5;250m    \u001b[39m\u001b[33;03m\"\"\"Access to geometry's coordinates (CoordinateSequence).\"\"\"\u001b[39;00m\n\u001b[32m    222\u001b[39m     has_z = \u001b[38;5;28mself\u001b[39m.has_z\n",
      "\u001b[31mKeyboardInterrupt\u001b[39m: "
     ]
    },
    {
     "data": {
      "image/png": "[encoded data removed]",
      "text/plain": [
       "<Figure size 1200x1000 with 1 Axes>"
      ]
     },
     "metadata": {},
     "output_type": "display_data"
    }
   ],
   "source": [
    "ADMIN_IDS = {\n",
    "    'pc11_s_id': 'state',\n",
    "    'pc11_d_id': 'district',\n",
    "    'pc11_sd_id': 'subdistrict'\n",
    "}\n",
    "\n",
    "data_path = \"../india_secc/train_shrugs_with_admins.geojson\"\n",
    "gdf = gpd.read_file(data_path)\n",
    "\n",
    "country_shape_file = '../shapefiles/ne_10m_admin_0_countries.shp'\n",
    "country_name = 'India'\n",
    "\n",
    "strata_col = 'pc11_s_id'\n",
    "cluster_col = 'pc11_d_id'\n",
    "\n",
    "out_path = f'india_secc/cluster_sampling'\n",
    "\n",
    "sampler = ClusterSampler(gdf, id_col='condensed_shrug_id', strata_col=strata_col, cluster_col=cluster_col, ADMIN_IDS=ADMIN_IDS)\n",
    "\n",
    "n_strata = 5\n",
    "all_strata = gdf[strata_col].astype(str).unique()\n",
    "\n",
    "np.random.seed(78910)\n",
    "fixed_strata = np.random.choice(all_strata, size=n_strata, replace=False)\n",
    "\n",
    "for points_per_cluster in [50]:\n",
    "    sampler.cluster_col = cluster_col\n",
    "    for total_sample_size in range(1000, 6000, 1000):\n",
    "        \n",
    "        for seed in [1, 42, 123, 456, 789, 1234, 5678, 9101, 1213, 1415]:\n",
    "            try:\n",
    "                sampler.sample(total_sample_size, points_per_cluster, seed, fixed_strata=fixed_strata)\n",
    "                sampler.save_sampled_ids(out_path)\n",
    "                sampler.plot(country_shape_file=country_shape_file, country_name=country_name)\n",
    "            except Exception as e:\n",
    "                print(e)\n",
    "                from IPython import embed; embed()\n",
    "            sampler.reset_sample()\n",
    "\n",
    "n_strata = 10\n",
    "all_strata = gdf[strata_col].astype(str).unique()\n",
    "\n",
    "np.random.seed(78910)\n",
    "fixed_strata = np.random.choice(all_strata, size=n_strata, replace=False)\n",
    "\n",
    "for points_per_cluster in [20, 50]:\n",
    "    sampler.cluster_col = cluster_col\n",
    "    for total_sample_size in range(1000, 6000, 1000):\n",
    "        \n",
    "        for seed in [1, 42, 123, 456, 789, 1234, 5678, 9101, 1213, 1415]:\n",
    "            try:\n",
    "                sampler.sample(total_sample_size, points_per_cluster, seed, fixed_strata=fixed_strata)\n",
    "                sampler.save_sampled_ids(out_path)\n",
    "                sampler.plot(country_shape_file=country_shape_file, country_name=country_name)\n",
    "            except Exception as e:\n",
    "                print(e)\n",
    "                from IPython import embed; embed()\n",
    "            sampler.reset_sample()"
   ]
  },
  {
   "cell_type": "markdown",
   "id": "7bdea7e3",
   "metadata": {},
   "source": [
    "# Convenience Sampling"
   ]
  },
  {
   "cell_type": "code",
   "execution_count": 16,
   "id": "5803a1d7",
   "metadata": {},
   "outputs": [],
   "source": [
    "from infrastructure_convenience_sampling import UrbanConvenienceSampler"
   ]
  },
  {
   "cell_type": "code",
   "execution_count": null,
   "id": "fe843b25",
   "metadata": {},
   "outputs": [
    {
     "name": "stdout",
     "output_type": "stream",
     "text": [
      "Reading GeoDataFrame...\n",
      "Initializing UrbanConvenienceSampler...\n",
      "Computing distances using BallTree haversine nearest neighbor...\n"
     ]
    },
    {
     "ename": "PermissionError",
     "evalue": "[Errno 13] Permission denied: '/home/libe2152'",
     "output_type": "error",
     "traceback": [
      "\u001b[31m---------------------------------------------------------------------------\u001b[39m",
      "\u001b[31mPermissionError\u001b[39m                           Traceback (most recent call last)",
      "\u001b[36mCell\u001b[39m\u001b[36m \u001b[39m\u001b[32mIn[19]\u001b[39m\u001b[32m, line 34\u001b[39m\n\u001b[32m     24\u001b[39m \u001b[38;5;28mprint\u001b[39m(\u001b[33m\"\u001b[39m\u001b[33mInitializing UrbanConvenienceSampler...\u001b[39m\u001b[33m\"\u001b[39m)\n\u001b[32m     25\u001b[39m sampler = UrbanConvenienceSampler(\n\u001b[32m     26\u001b[39m     id_col=id_col,\n\u001b[32m     27\u001b[39m     gdf_points=gdf,\n\u001b[32m   (...)\u001b[39m\u001b[32m     31\u001b[39m     distances_dir=distances_dir\n\u001b[32m     32\u001b[39m )\n\u001b[32m---> \u001b[39m\u001b[32m34\u001b[39m \u001b[43msampler\u001b[49m\u001b[43m.\u001b[49m\u001b[43msample\u001b[49m\u001b[43m(\u001b[49m\u001b[43mn_samples\u001b[49m\u001b[43m=\u001b[49m\u001b[43mdesired_sample_size\u001b[49m\u001b[43m,\u001b[49m\u001b[43m \u001b[49m\u001b[43mmethod\u001b[49m\u001b[43m=\u001b[49m\u001b[43mmethod\u001b[49m\u001b[43m,\u001b[49m\u001b[43m \u001b[49m\u001b[43mtemp\u001b[49m\u001b[43m=\u001b[49m\u001b[43mtemp\u001b[49m\u001b[43m,\u001b[49m\u001b[43m \u001b[49m\u001b[43mseed\u001b[49m\u001b[43m=\u001b[49m\u001b[43mseed\u001b[49m\u001b[43m)\u001b[49m\n\u001b[32m     35\u001b[39m sampler.save_sampled_ids(out_path)\n\u001b[32m     36\u001b[39m sampler.plot(country_shape_file=country_shape_file, country_name=country_name)\n",
      "\u001b[36mFile \u001b[39m\u001b[32m/media/volume/geo_sampling_data/optimizedsampling/2_initial_sample/infrastructure_convenience_sampling.py:152\u001b[39m, in \u001b[36mUrbanConvenienceSampler.sample\u001b[39m\u001b[34m(self, n_samples, method, temp, seed)\u001b[39m\n\u001b[32m    150\u001b[39m \u001b[38;5;28;01mdef\u001b[39;00m\u001b[38;5;250m \u001b[39m\u001b[34msample\u001b[39m(\u001b[38;5;28mself\u001b[39m, n_samples, method=\u001b[33m\"\u001b[39m\u001b[33mdeterministic\u001b[39m\u001b[33m\"\u001b[39m, temp=\u001b[32m0.025\u001b[39m, seed=\u001b[32m42\u001b[39m):\n\u001b[32m    151\u001b[39m     \u001b[38;5;28;01massert\u001b[39;00m method \u001b[38;5;129;01min\u001b[39;00m [\u001b[33m\"\u001b[39m\u001b[33mdeterministic\u001b[39m\u001b[33m\"\u001b[39m, \u001b[33m\"\u001b[39m\u001b[33mprobabilistic\u001b[39m\u001b[33m\"\u001b[39m]\n\u001b[32m--> \u001b[39m\u001b[32m152\u001b[39m     \u001b[38;5;28;43mself\u001b[39;49m\u001b[43m.\u001b[49m\u001b[43m_load_or_compute_distances\u001b[49m\u001b[43m(\u001b[49m\u001b[43m)\u001b[49m\n\u001b[32m    154\u001b[39m     \u001b[38;5;28mself\u001b[39m.method = method\n\u001b[32m    155\u001b[39m     \u001b[38;5;28mself\u001b[39m.sample_size = n_samples\n",
      "\u001b[36mFile \u001b[39m\u001b[32m/media/volume/geo_sampling_data/optimizedsampling/2_initial_sample/infrastructure_convenience_sampling.py:114\u001b[39m, in \u001b[36mUrbanConvenienceSampler._load_or_compute_distances\u001b[39m\u001b[34m(self)\u001b[39m\n\u001b[32m    111\u001b[39m \u001b[38;5;28mself\u001b[39m.distances = distance_map\n\u001b[32m    112\u001b[39m \u001b[38;5;28mself\u001b[39m.gdf_points[\u001b[33m\"\u001b[39m\u001b[33mdistance\u001b[39m\u001b[33m\"\u001b[39m] = distances_array\n\u001b[32m--> \u001b[39m\u001b[32m114\u001b[39m \u001b[43mos\u001b[49m\u001b[43m.\u001b[49m\u001b[43mmakedirs\u001b[49m\u001b[43m(\u001b[49m\u001b[43mos\u001b[49m\u001b[43m.\u001b[49m\u001b[43mpath\u001b[49m\u001b[43m.\u001b[49m\u001b[43mdirname\u001b[49m\u001b[43m(\u001b[49m\u001b[43msave_path\u001b[49m\u001b[43m)\u001b[49m\u001b[43m,\u001b[49m\u001b[43m \u001b[49m\u001b[43mexist_ok\u001b[49m\u001b[43m=\u001b[49m\u001b[38;5;28;43;01mTrue\u001b[39;49;00m\u001b[43m)\u001b[49m\n\u001b[32m    115\u001b[39m \u001b[38;5;28;01mwith\u001b[39;00m \u001b[38;5;28mopen\u001b[39m(save_path, \u001b[33m\"\u001b[39m\u001b[33mwb\u001b[39m\u001b[33m\"\u001b[39m) \u001b[38;5;28;01mas\u001b[39;00m f:\n\u001b[32m    116\u001b[39m     dill.dump({\u001b[33m\"\u001b[39m\u001b[33mdistances_to_urban_area\u001b[39m\u001b[33m\"\u001b[39m: distance_map}, f)\n",
      "\u001b[36mFile \u001b[39m\u001b[32m<frozen os>:215\u001b[39m, in \u001b[36mmakedirs\u001b[39m\u001b[34m(name, mode, exist_ok)\u001b[39m\n",
      "\u001b[36mFile \u001b[39m\u001b[32m<frozen os>:215\u001b[39m, in \u001b[36mmakedirs\u001b[39m\u001b[34m(name, mode, exist_ok)\u001b[39m\n",
      "    \u001b[31m[... skipping similar frames: makedirs at line 215 (1 times)]\u001b[39m\n",
      "\u001b[36mFile \u001b[39m\u001b[32m<frozen os>:215\u001b[39m, in \u001b[36mmakedirs\u001b[39m\u001b[34m(name, mode, exist_ok)\u001b[39m\n",
      "\u001b[36mFile \u001b[39m\u001b[32m<frozen os>:225\u001b[39m, in \u001b[36mmakedirs\u001b[39m\u001b[34m(name, mode, exist_ok)\u001b[39m\n",
      "\u001b[31mPermissionError\u001b[39m: [Errno 13] Permission denied: '/home/libe2152'"
     ]
    }
   ],
   "source": [
    "ADMIN_IDS = {\n",
    "    'pc11_s_id': 'state',\n",
    "    'pc11_d_id': 'district',\n",
    "    'pc11_sd_id': 'subdistrict'\n",
    "}\n",
    "\n",
    "id_col = 'condensed_shrug_id'\n",
    "gdf_path = '../india_secc/train_shrugs_with_admins.geojson'\n",
    "pop_col = 'pc11_pca_tot_p_combined'\n",
    "country_shape_file = '../shapefiles/world/ne_10m_admin_0_countries.shp'\n",
    "country_name = 'India'\n",
    "out_path = f'india_secc/convenience_sampling'\n",
    "\n",
    "print(\"Reading GeoDataFrame...\")\n",
    "gdf = gpd.read_file(gdf_path)\n",
    "\n",
    "method = 'probabilistic'\n",
    "temp=0.025\n",
    "for n_urban in [20, 50]:\n",
    "    distances_dir = f'distances/india_secc/distance_to_top{n_urban}_urban.pkl'\n",
    "    for desired_sample_size in range(1000, 6000, 1000):\n",
    "        for seed in [1, 42, 123, 456, 789, 1234, 5678, 9101, 1213, 1415]:\n",
    "\n",
    "            print(\"Initializing UrbanConvenienceSampler...\")\n",
    "            sampler = UrbanConvenienceSampler(\n",
    "                id_col=id_col,\n",
    "                gdf_points=gdf,\n",
    "                gdf_urban=gdf,\n",
    "                n_urban=n_urban,\n",
    "                pop_col=pop_col,\n",
    "                distances_dir=distances_dir\n",
    "            )\n",
    "\n",
    "            sampler.sample(n_samples=desired_sample_size, method=method, temp=temp, seed=seed)\n",
    "            sampler.save_sampled_ids(out_path)\n",
    "            sampler.plot(country_shape_file=country_shape_file, country_name=country_name)"
   ]
  },
  {
   "cell_type": "code",
   "execution_count": null,
   "id": "5860a4fe",
   "metadata": {},
   "outputs": [],
   "source": [
    "ADMIN_IDS = {\n",
    "'pc11_s_id': 'state',\n",
    "'pc11_d_id': 'district',\n",
    "'pc11_sd_id': 'subdistrict'\n",
    "}\n",
    "\n",
    "cluster_col = 'pc11_d_id'\n",
    "# or another appropriate cluster ID\n",
    "id_col=\"id\"\n",
    "id_col = 'condensed_shrug_id'\n",
    "\n",
    "for points_per_cluster in [20, 30, 50]:\n",
    "    gdf_path = '/share/india_secc/MOSAIKS/train_shrugs_with_admins.geojson'\n",
    "    gdf = gpd.read_file(gdf_path)\n",
    "\n",
    "    for n_urban in [10, 20, 50]:\n",
    "        pop_col = 'pc11_pca_tot_p_combined'\n",
    "\n",
    "        distances_dir = f'/home/libe2152/optimizedsampling/0_data/distances/india_secc/distance_to_top{n_urban}_urban.pkl'\n",
    "        cluster_distances_dir = f'/home/libe2152/optimizedsampling/0_data/distancesindia_secc/cluster_distance_to_top{n_urban}_urban.pkl'\n",
    "\n",
    "        country_shape_file = '/home/libe2152/optimizedsampling/0_data/boundaries/world/ne_10m_admin_0_countries.shp'\n",
    "        country_name = 'India'\n",
    "\n",
    "        out_path = f'/home/libe2152/optimizedsampling/0_data/initial_samples/india_secc/convenience_sampling'\n",
    "\n",
    "        method = 'probabilistic'\n",
    "        temp = 0.025\n",
    "\n",
    "        for desired_sample_size in range(1000, 6000, 1000):\n",
    "            for seed in [1, 42, 123, 456, 789, 1234, 5678, 9101, 1213, 1415]:\n",
    "                # Cluster Convenience Sampler (NEW)\n",
    "                print(\"Initializing ClusterConvenienceSampler...\")\n",
    "                sampler = UrbanConvenienceSampler(  # make sure you have this class\n",
    "                    gdf_points=gdf,\n",
    "                    id_col=id_col,\n",
    "                    pop_col=pop_col,\n",
    "                    cluster_col=cluster_col,\n",
    "                    points_per_cluster=points_per_cluster,\n",
    "                    gdf_urban=gdf,\n",
    "                    n_urban=n_urban,\n",
    "                    distances_dir=distances_dir,\n",
    "                    cluster_distances_dir=cluster_distances_dir,\n",
    "                    admin_ids=ADMIN_IDS\n",
    "                )\n",
    "\n",
    "                sampler.sample_by_clusters(\n",
    "                    total_sample_size=desired_sample_size,\n",
    "                    method=method,\n",
    "                    temp=temp,\n",
    "                    seed=seed\n",
    "                )\n",
    "                sampler.save_sampled_ids(out_path)\n",
    "                sampler.plot(country_shape_file=country_shape_file, country_name=country_name)"
   ]
  },
  {
   "cell_type": "markdown",
   "id": "6b1adef7",
   "metadata": {},
   "source": [
    "# Random Sampling"
   ]
  },
  {
   "cell_type": "code",
   "execution_count": null,
   "id": "f754cb39",
   "metadata": {},
   "outputs": [],
   "source": [
    "from random_sampling import RandomSampler"
   ]
  },
  {
   "cell_type": "code",
   "execution_count": null,
   "id": "bee20728",
   "metadata": {},
   "outputs": [],
   "source": [
    "data_path = \"/share/india_secc/MOSAIKS/train_shrugs_with_admins.geojson\"\n",
    "gdf = gpd.read_file(data_path)\n",
    "\n",
    "out_path = f'/home/libe2152/optimizedsampling/0_data/initial_samples/india_secc/random_sampling'\n",
    "\n",
    "country_shape_file = '/home/libe2152/optimizedsampling/0_data/boundaries/world/ne_10m_admin_0_countries.shp'\n",
    "country_name = 'India'\n",
    "\n",
    "sampler = RandomSampler(gdf, id_col=\"condensed_shrug_id\")\n",
    "\n",
    "for total_sample_size in range(1000, 6000, 1000):\n",
    "    for seed in [1, 42, 123, 456, 789, 1234, 5678, 9101, 1213, 1415]:\n",
    "        sampler.sample(total_sample_size=total_sample_size, seed=seed)\n",
    "        sampler.save_sampled_ids(out_path)\n",
    "        sampler.plot(country_shape_file=country_shape_file, country_name=country_name)\n",
    "        sampler.reset_sample()"
   ]
  }
 ],
 "metadata": {
  "kernelspec": {
   "display_name": "al",
   "language": "python",
   "name": "python3"
  },
  "language_info": {
   "codemirror_mode": {
    "name": "ipython",
    "version": 3
   },
   "file_extension": ".py",
   "mimetype": "text/x-python",
   "name": "python",
   "nbconvert_exporter": "python",
   "pygments_lexer": "ipython3",
   "version": "3.11.11"
  }
 },
 "nbformat": 4,
 "nbformat_minor": 5
}
