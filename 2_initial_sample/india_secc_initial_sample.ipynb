{
 "cells": [
  {
   "cell_type": "code",
   "execution_count": null,
   "id": "449dbf3f",
   "metadata": {},
   "outputs": [],
   "source": [
    "import geopandas as gpd"
   ]
  },
  {
   "cell_type": "markdown",
   "id": "283b726c",
   "metadata": {},
   "source": [
    "# Cluster Sampling"
   ]
  },
  {
   "cell_type": "code",
   "execution_count": null,
   "id": "70128e29",
   "metadata": {},
   "outputs": [],
   "source": [
    "from cluster_sampling import ClusterSampler"
   ]
  },
  {
   "cell_type": "code",
   "execution_count": null,
   "id": "6293164f",
   "metadata": {},
   "outputs": [],
   "source": [
    "ADMIN_IDS = {\n",
    "    'pc11_s_id': 'state',\n",
    "    'pc11_d_id': 'district',\n",
    "    'pc11_sd_id': 'subdistrict'\n",
    "}\n",
    "\n",
    "data_path = \"/share/india_secc/MOSAIKS/train_shrugs_with_admins.geojson\"\n",
    "gdf = gpd.read_file(data_path)\n",
    "\n",
    "country_shape_file = '/home/libe2152/optimizedsampling/0_data/boundaries/world/ne_10m_admin_0_countries.shp'\n",
    "country_name = 'India'\n",
    "\n",
    "strata_col = 'pc11_s_id'\n",
    "cluster_col = 'pc11_d_id'\n",
    "\n",
    "out_path = f'/home/libe2152/optimizedsampling/0_data/initial_samples/india_secc/cluster_sampling'\n",
    "\n",
    "sampler = ClusterSampler(gdf, id_col='condensed_shrug_id', strata_col=strata_col, cluster_col=cluster_col, ADMIN_IDS=ADMIN_IDS)\n",
    "\n",
    "n_strata = 5\n",
    "for points_per_cluster in [20, 30, 50]:\n",
    "    sampler.cluster_col = cluster_col\n",
    "    #sampler.merge_small_strata(points_per_cluster)\n",
    "    #sampler.merge_small_clusters(points_per_cluster)\n",
    "    for total_sample_size in range(1000, 6000, 1000):\n",
    "        \n",
    "        for seed in [1, 42, 123, 456, 789, 1234, 5678, 9101, 1213, 1415]:\n",
    "            try:\n",
    "                sampler.sample(total_sample_size, points_per_cluster, seed, n_strata=n_strata)\n",
    "                sampler.save_sampled_ids(out_path)\n",
    "                sampler.plot(country_shape_file=country_shape_file, country_name=country_name)\n",
    "            except Exception as e:\n",
    "                print(e)\n",
    "                from IPython import embed; embed()\n",
    "            sampler.reset_sample()"
   ]
  },
  {
   "cell_type": "markdown",
   "id": "7bdea7e3",
   "metadata": {},
   "source": [
    "# Convenience Sampling"
   ]
  },
  {
   "cell_type": "code",
   "execution_count": null,
   "id": "5803a1d7",
   "metadata": {},
   "outputs": [],
   "source": [
    "from infrastructure_convenience_sampling import UrbanConvenienceSampler"
   ]
  },
  {
   "cell_type": "code",
   "execution_count": null,
   "id": "fe843b25",
   "metadata": {},
   "outputs": [],
   "source": [
    "ADMIN_IDS = {\n",
    "    'pc11_s_id': 'state',\n",
    "    'pc11_d_id': 'district',\n",
    "    'pc11_sd_id': 'subdistrict'\n",
    "}\n",
    "\n",
    "id_col = 'condensed_shrug_id'\n",
    "gdf_path = '/share/india_secc/MOSAIKS/train_shrugs_with_admins.geojson'\n",
    "pop_col = 'pc11_pca_tot_p_combined'\n",
    "country_shape_file = '/home/libe2152/optimizedsampling/0_data/boundaries/world/ne_10m_admin_0_countries.shp'\n",
    "country_name = 'India'\n",
    "out_path = f'/home/libe2152/optimizedsampling/0_data/initial_samples/india_secc/convenience_sampling'\n",
    "\n",
    "print(\"Reading GeoDataFrame...\")\n",
    "gdf = gpd.read_file(gdf_path)\n",
    "\n",
    "method = 'probabilistic'\n",
    "temp=0.025\n",
    "for n_urban in [20, 50]:\n",
    "    distances_dir = f'/home/libe2152/optimizedsampling/0_data/distances/india_secc/distance_to_top{n_urban}_urban.pkl'\n",
    "    for desired_sample_size in range(1000, 6000, 1000):\n",
    "        for seed in [1, 42, 123, 456, 789, 1234, 5678, 9101, 1213, 1415]:\n",
    "\n",
    "            print(\"Initializing UrbanConvenienceSampler...\")\n",
    "            sampler = UrbanConvenienceSampler(\n",
    "                id_col=id_col,\n",
    "                gdf_points=gdf,\n",
    "                gdf_urban=gdf,\n",
    "                n_urban=n_urban,\n",
    "                pop_col=pop_col,\n",
    "                distances_dir=distances_dir\n",
    "            )\n",
    "\n",
    "            sampler.sample(n_samples=desired_sample_size, method=method, temp=temp, seed=seed)\n",
    "            sampler.save_sampled_ids(out_path)\n",
    "            sampler.plot(country_shape_file=country_shape_file, country_name=country_name)"
   ]
  },
  {
   "cell_type": "code",
   "execution_count": null,
   "id": "5860a4fe",
   "metadata": {},
   "outputs": [],
   "source": [
    "ADMIN_IDS = {\n",
    "'pc11_s_id': 'state',\n",
    "'pc11_d_id': 'district',\n",
    "'pc11_sd_id': 'subdistrict'\n",
    "}\n",
    "\n",
    "cluster_col = 'pc11_d_id'\n",
    "# or another appropriate cluster ID\n",
    "id_col=\"id\"\n",
    "id_col = 'condensed_shrug_id'\n",
    "\n",
    "for points_per_cluster in [20, 30, 50]:\n",
    "    gdf_path = '/share/india_secc/MOSAIKS/train_shrugs_with_admins.geojson'\n",
    "    gdf = gpd.read_file(gdf_path)\n",
    "\n",
    "    for n_urban in [10, 20, 50]:\n",
    "        pop_col = 'pc11_pca_tot_p_combined'\n",
    "\n",
    "        distances_dir = f'/home/libe2152/optimizedsampling/0_data/distances/india_secc/distance_to_top{n_urban}_urban.pkl'\n",
    "        cluster_distances_dir = f'/home/libe2152/optimizedsampling/0_data/distancesindia_secc/cluster_distance_to_top{n_urban}_urban.pkl'\n",
    "\n",
    "        country_shape_file = '/home/libe2152/optimizedsampling/0_data/boundaries/world/ne_10m_admin_0_countries.shp'\n",
    "        country_name = 'India'\n",
    "\n",
    "        out_path = f'/home/libe2152/optimizedsampling/0_data/initial_samples/india_secc/convenience_sampling'\n",
    "\n",
    "        method = 'probabilistic'\n",
    "        temp = 0.025\n",
    "\n",
    "        for desired_sample_size in range(1000, 6000, 1000):\n",
    "            for seed in [1, 42, 123, 456, 789, 1234, 5678, 9101, 1213, 1415]:\n",
    "                # Cluster Convenience Sampler (NEW)\n",
    "                print(\"Initializing ClusterConvenienceSampler...\")\n",
    "                sampler = UrbanConvenienceSampler(  # make sure you have this class\n",
    "                    gdf_points=gdf,\n",
    "                    id_col=id_col,\n",
    "                    pop_col=pop_col,\n",
    "                    cluster_col=cluster_col,\n",
    "                    points_per_cluster=points_per_cluster,\n",
    "                    gdf_urban=gdf,\n",
    "                    n_urban=n_urban,\n",
    "                    distances_dir=distances_dir,\n",
    "                    cluster_distances_dir=cluster_distances_dir,\n",
    "                    admin_ids=ADMIN_IDS\n",
    "                )\n",
    "\n",
    "                sampler.sample_by_clusters(\n",
    "                    total_sample_size=desired_sample_size,\n",
    "                    method=method,\n",
    "                    temp=temp,\n",
    "                    seed=seed\n",
    "                )\n",
    "                sampler.save_sampled_ids(out_path)\n",
    "                sampler.plot(country_shape_file=country_shape_file, country_name=country_name)"
   ]
  },
  {
   "cell_type": "markdown",
   "id": "6b1adef7",
   "metadata": {},
   "source": [
    "# Random Sampling"
   ]
  },
  {
   "cell_type": "code",
   "execution_count": null,
   "id": "f754cb39",
   "metadata": {},
   "outputs": [],
   "source": [
    "from random_sampling import RandomSampler"
   ]
  },
  {
   "cell_type": "code",
   "execution_count": null,
   "id": "bee20728",
   "metadata": {},
   "outputs": [],
   "source": [
    "data_path = \"/share/india_secc/MOSAIKS/train_shrugs_with_admins.geojson\"\n",
    "gdf = gpd.read_file(data_path)\n",
    "\n",
    "out_path = f'/home/libe2152/optimizedsampling/0_data/initial_samples/india_secc/random_sampling'\n",
    "\n",
    "country_shape_file = '/home/libe2152/optimizedsampling/0_data/boundaries/world/ne_10m_admin_0_countries.shp'\n",
    "country_name = 'India'\n",
    "\n",
    "sampler = RandomSampler(gdf, id_col=\"condensed_shrug_id\")\n",
    "\n",
    "for total_sample_size in range(1000, 6000, 1000):\n",
    "    for seed in [1, 42, 123, 456, 789, 1234, 5678, 9101, 1213, 1415]:\n",
    "        sampler.sample(total_sample_size=total_sample_size, seed=seed)\n",
    "        sampler.save_sampled_ids(out_path)\n",
    "        sampler.plot(country_shape_file=country_shape_file, country_name=country_name)\n",
    "        sampler.reset_sample()"
   ]
  }
 ],
 "metadata": {
  "kernelspec": {
   "display_name": "mosaiks",
   "language": "python",
   "name": "python3"
  },
  "language_info": {
   "codemirror_mode": {
    "name": "ipython",
    "version": 3
   },
   "file_extension": ".py",
   "mimetype": "text/x-python",
   "name": "python",
   "nbconvert_exporter": "python",
   "pygments_lexer": "ipython3",
   "version": "3.11.11"
  }
 },
 "nbformat": 4,
 "nbformat_minor": 5
}
