{
 "cells": [
  {
   "cell_type": "code",
   "execution_count": 1,
   "id": "449dbf3f",
   "metadata": {},
   "outputs": [],
   "source": [
    "import geopandas as gpd"
   ]
  },
  {
   "cell_type": "markdown",
   "id": "283b726c",
   "metadata": {},
   "source": [
    "# Cluster Sampling"
   ]
  },
  {
   "cell_type": "code",
   "execution_count": 2,
   "id": "70128e29",
   "metadata": {},
   "outputs": [],
   "source": [
    "from cluster_sampling import ClusterSampler"
   ]
  },
  {
   "cell_type": "code",
   "execution_count": null,
   "id": "6293164f",
   "metadata": {},
   "outputs": [
    {
     "ename": "KeyboardInterrupt",
     "evalue": "",
     "output_type": "error",
     "traceback": [
      "\u001b[31m---------------------------------------------------------------------------\u001b[39m",
      "\u001b[31mKeyboardInterrupt\u001b[39m                         Traceback (most recent call last)",
      "\u001b[36mCell\u001b[39m\u001b[36m \u001b[39m\u001b[32mIn[3]\u001b[39m\u001b[32m, line 8\u001b[39m\n\u001b[32m      1\u001b[39m ADMIN_IDS = {\n\u001b[32m      2\u001b[39m     \u001b[33m'\u001b[39m\u001b[33mpc11_s_id\u001b[39m\u001b[33m'\u001b[39m: \u001b[33m'\u001b[39m\u001b[33mstate\u001b[39m\u001b[33m'\u001b[39m,\n\u001b[32m      3\u001b[39m     \u001b[33m'\u001b[39m\u001b[33mpc11_d_id\u001b[39m\u001b[33m'\u001b[39m: \u001b[33m'\u001b[39m\u001b[33mdistrict\u001b[39m\u001b[33m'\u001b[39m,\n\u001b[32m      4\u001b[39m     \u001b[33m'\u001b[39m\u001b[33mpc11_sd_id\u001b[39m\u001b[33m'\u001b[39m: \u001b[33m'\u001b[39m\u001b[33msubdistrict\u001b[39m\u001b[33m'\u001b[39m\n\u001b[32m      5\u001b[39m }\n\u001b[32m      7\u001b[39m data_path = \u001b[33m\"\u001b[39m\u001b[33m/share/india_secc/MOSAIKS/train_shrugs_with_admins.geojson\u001b[39m\u001b[33m\"\u001b[39m\n\u001b[32m----> \u001b[39m\u001b[32m8\u001b[39m gdf = gpd.read_file(data_path)\n\u001b[32m     10\u001b[39m country_shape_file = \u001b[33m'\u001b[39m\u001b[33m/home/libe2152/optimizedsampling/0_data/boundaries/world/ne_10m_admin_0_countries.shp\u001b[39m\u001b[33m'\u001b[39m\n\u001b[32m     11\u001b[39m country_name = \u001b[33m'\u001b[39m\u001b[33mIndia\u001b[39m\u001b[33m'\u001b[39m\n",
      "\u001b[36mFile \u001b[39m\u001b[32m/share/anaconda3/envs/mosaiks/lib/python3.11/site-packages/geopandas/io/file.py:294\u001b[39m, in \u001b[36m_read_file\u001b[39m\u001b[34m(filename, bbox, mask, columns, rows, engine, **kwargs)\u001b[39m\n\u001b[32m    291\u001b[39m             from_bytes = \u001b[38;5;28;01mTrue\u001b[39;00m\n\u001b[32m    293\u001b[39m \u001b[38;5;28;01mif\u001b[39;00m engine == \u001b[33m\"\u001b[39m\u001b[33mpyogrio\u001b[39m\u001b[33m\"\u001b[39m:\n\u001b[32m--> \u001b[39m\u001b[32m294\u001b[39m     \u001b[38;5;28;01mreturn\u001b[39;00m _read_file_pyogrio(\n\u001b[32m    295\u001b[39m         filename, bbox=bbox, mask=mask, columns=columns, rows=rows, **kwargs\n\u001b[32m    296\u001b[39m     )\n\u001b[32m    298\u001b[39m \u001b[38;5;28;01melif\u001b[39;00m engine == \u001b[33m\"\u001b[39m\u001b[33mfiona\u001b[39m\u001b[33m\"\u001b[39m:\n\u001b[32m    299\u001b[39m     \u001b[38;5;28;01mif\u001b[39;00m pd.api.types.is_file_like(filename):\n",
      "\u001b[36mFile \u001b[39m\u001b[32m/share/anaconda3/envs/mosaiks/lib/python3.11/site-packages/geopandas/io/file.py:547\u001b[39m, in \u001b[36m_read_file_pyogrio\u001b[39m\u001b[34m(path_or_bytes, bbox, mask, rows, **kwargs)\u001b[39m\n\u001b[32m    538\u001b[39m     warnings.warn(\n\u001b[32m    539\u001b[39m         \u001b[33m\"\u001b[39m\u001b[33mThe \u001b[39m\u001b[33m'\u001b[39m\u001b[33minclude_fields\u001b[39m\u001b[33m'\u001b[39m\u001b[33m and \u001b[39m\u001b[33m'\u001b[39m\u001b[33mignore_fields\u001b[39m\u001b[33m'\u001b[39m\u001b[33m keywords are deprecated, and \u001b[39m\u001b[33m\"\u001b[39m\n\u001b[32m    540\u001b[39m         \u001b[33m\"\u001b[39m\u001b[33mwill be removed in a future release. You can use the \u001b[39m\u001b[33m'\u001b[39m\u001b[33mcolumns\u001b[39m\u001b[33m'\u001b[39m\u001b[33m keyword \u001b[39m\u001b[33m\"\u001b[39m\n\u001b[32m   (...)\u001b[39m\u001b[32m    543\u001b[39m         stacklevel=\u001b[32m3\u001b[39m,\n\u001b[32m    544\u001b[39m     )\n\u001b[32m    545\u001b[39m     kwargs[\u001b[33m\"\u001b[39m\u001b[33mcolumns\u001b[39m\u001b[33m\"\u001b[39m] = kwargs.pop(\u001b[33m\"\u001b[39m\u001b[33minclude_fields\u001b[39m\u001b[33m\"\u001b[39m)\n\u001b[32m--> \u001b[39m\u001b[32m547\u001b[39m \u001b[38;5;28;01mreturn\u001b[39;00m pyogrio.read_dataframe(path_or_bytes, bbox=bbox, **kwargs)\n",
      "\u001b[36mFile \u001b[39m\u001b[32m/share/anaconda3/envs/mosaiks/lib/python3.11/site-packages/pyogrio/geopandas.py:275\u001b[39m, in \u001b[36mread_dataframe\u001b[39m\u001b[34m(path_or_buffer, layer, encoding, columns, read_geometry, force_2d, skip_features, max_features, where, bbox, mask, fids, sql, sql_dialect, fid_as_index, use_arrow, on_invalid, arrow_to_pandas_kwargs, **kwargs)\u001b[39m\n\u001b[32m    270\u001b[39m \u001b[38;5;28;01mif\u001b[39;00m \u001b[38;5;129;01mnot\u001b[39;00m use_arrow:\n\u001b[32m    271\u001b[39m     \u001b[38;5;66;03m# For arrow, datetimes are read as is.\u001b[39;00m\n\u001b[32m    272\u001b[39m     \u001b[38;5;66;03m# For numpy IO, datetimes are read as string values to preserve timezone info\u001b[39;00m\n\u001b[32m    273\u001b[39m     \u001b[38;5;66;03m# as numpy does not directly support timezones.\u001b[39;00m\n\u001b[32m    274\u001b[39m     kwargs[\u001b[33m\"\u001b[39m\u001b[33mdatetime_as_string\u001b[39m\u001b[33m\"\u001b[39m] = \u001b[38;5;28;01mTrue\u001b[39;00m\n\u001b[32m--> \u001b[39m\u001b[32m275\u001b[39m result = read_func(\n\u001b[32m    276\u001b[39m     path_or_buffer,\n\u001b[32m    277\u001b[39m     layer=layer,\n\u001b[32m    278\u001b[39m     encoding=encoding,\n\u001b[32m    279\u001b[39m     columns=columns,\n\u001b[32m    280\u001b[39m     read_geometry=read_geometry,\n\u001b[32m    281\u001b[39m     force_2d=gdal_force_2d,\n\u001b[32m    282\u001b[39m     skip_features=skip_features,\n\u001b[32m    283\u001b[39m     max_features=max_features,\n\u001b[32m    284\u001b[39m     where=where,\n\u001b[32m    285\u001b[39m     bbox=bbox,\n\u001b[32m    286\u001b[39m     mask=mask,\n\u001b[32m    287\u001b[39m     fids=fids,\n\u001b[32m    288\u001b[39m     sql=sql,\n\u001b[32m    289\u001b[39m     sql_dialect=sql_dialect,\n\u001b[32m    290\u001b[39m     return_fids=fid_as_index,\n\u001b[32m    291\u001b[39m     **kwargs,\n\u001b[32m    292\u001b[39m )\n\u001b[32m    294\u001b[39m \u001b[38;5;28;01mif\u001b[39;00m use_arrow:\n\u001b[32m    295\u001b[39m     \u001b[38;5;28;01mimport\u001b[39;00m\u001b[38;5;250m \u001b[39m\u001b[34;01mpyarrow\u001b[39;00m\u001b[38;5;250m \u001b[39m\u001b[38;5;28;01mas\u001b[39;00m\u001b[38;5;250m \u001b[39m\u001b[34;01mpa\u001b[39;00m\n",
      "\u001b[36mFile \u001b[39m\u001b[32m/share/anaconda3/envs/mosaiks/lib/python3.11/site-packages/pyogrio/raw.py:198\u001b[39m, in \u001b[36mread\u001b[39m\u001b[34m(path_or_buffer, layer, encoding, columns, read_geometry, force_2d, skip_features, max_features, where, bbox, mask, fids, sql, sql_dialect, return_fids, datetime_as_string, **kwargs)\u001b[39m\n\u001b[32m     59\u001b[39m \u001b[38;5;250m\u001b[39m\u001b[33;03m\"\"\"Read OGR data source into numpy arrays.\u001b[39;00m\n\u001b[32m     60\u001b[39m \n\u001b[32m     61\u001b[39m \u001b[33;03mIMPORTANT: non-linear geometry types (e.g., MultiSurface) are converted\u001b[39;00m\n\u001b[32m   (...)\u001b[39m\u001b[32m    194\u001b[39m \n\u001b[32m    195\u001b[39m \u001b[33;03m\"\"\"\u001b[39;00m\n\u001b[32m    196\u001b[39m dataset_kwargs = _preprocess_options_key_value(kwargs) \u001b[38;5;28;01mif\u001b[39;00m kwargs \u001b[38;5;28;01melse\u001b[39;00m {}\n\u001b[32m--> \u001b[39m\u001b[32m198\u001b[39m \u001b[38;5;28;01mreturn\u001b[39;00m ogr_read(\n\u001b[32m    199\u001b[39m     get_vsi_path_or_buffer(path_or_buffer),\n\u001b[32m    200\u001b[39m     layer=layer,\n\u001b[32m    201\u001b[39m     encoding=encoding,\n\u001b[32m    202\u001b[39m     columns=columns,\n\u001b[32m    203\u001b[39m     read_geometry=read_geometry,\n\u001b[32m    204\u001b[39m     force_2d=force_2d,\n\u001b[32m    205\u001b[39m     skip_features=skip_features,\n\u001b[32m    206\u001b[39m     max_features=max_features \u001b[38;5;129;01mor\u001b[39;00m \u001b[32m0\u001b[39m,\n\u001b[32m    207\u001b[39m     where=where,\n\u001b[32m    208\u001b[39m     bbox=bbox,\n\u001b[32m    209\u001b[39m     mask=_mask_to_wkb(mask),\n\u001b[32m    210\u001b[39m     fids=fids,\n\u001b[32m    211\u001b[39m     sql=sql,\n\u001b[32m    212\u001b[39m     sql_dialect=sql_dialect,\n\u001b[32m    213\u001b[39m     return_fids=return_fids,\n\u001b[32m    214\u001b[39m     dataset_kwargs=dataset_kwargs,\n\u001b[32m    215\u001b[39m     datetime_as_string=datetime_as_string,\n\u001b[32m    216\u001b[39m )\n",
      "\u001b[36mFile \u001b[39m\u001b[32mpyogrio/_io.pyx:1293\u001b[39m, in \u001b[36mpyogrio._io.ogr_read\u001b[39m\u001b[34m()\u001b[39m\n",
      "\u001b[36mFile \u001b[39m\u001b[32mpyogrio/_io.pyx:212\u001b[39m, in \u001b[36mpyogrio._io.ogr_open\u001b[39m\u001b[34m()\u001b[39m\n",
      "\u001b[36mFile \u001b[39m\u001b[32m/share/anaconda3/envs/mosaiks/lib/python3.11/contextlib.py:141\u001b[39m, in \u001b[36m_GeneratorContextManager.__exit__\u001b[39m\u001b[34m(self, typ, value, traceback)\u001b[39m\n\u001b[32m    138\u001b[39m     \u001b[38;5;28;01mexcept\u001b[39;00m \u001b[38;5;167;01mStopIteration\u001b[39;00m:\n\u001b[32m    139\u001b[39m         \u001b[38;5;28;01mraise\u001b[39;00m \u001b[38;5;167;01mRuntimeError\u001b[39;00m(\u001b[33m\"\u001b[39m\u001b[33mgenerator didn\u001b[39m\u001b[33m'\u001b[39m\u001b[33mt yield\u001b[39m\u001b[33m\"\u001b[39m) \u001b[38;5;28;01mfrom\u001b[39;00m\u001b[38;5;250m \u001b[39m\u001b[38;5;28;01mNone\u001b[39;00m\n\u001b[32m--> \u001b[39m\u001b[32m141\u001b[39m \u001b[38;5;28;01mdef\u001b[39;00m\u001b[38;5;250m \u001b[39m\u001b[34m__exit__\u001b[39m(\u001b[38;5;28mself\u001b[39m, typ, value, traceback):\n\u001b[32m    142\u001b[39m     \u001b[38;5;28;01mif\u001b[39;00m typ \u001b[38;5;129;01mis\u001b[39;00m \u001b[38;5;28;01mNone\u001b[39;00m:\n\u001b[32m    143\u001b[39m         \u001b[38;5;28;01mtry\u001b[39;00m:\n",
      "\u001b[31mKeyboardInterrupt\u001b[39m: "
     ]
    }
   ],
   "source": [
    "ADMIN_IDS = {\n",
    "    'pc11_s_id': 'state',\n",
    "    'pc11_d_id': 'district',\n",
    "    'pc11_sd_id': 'subdistrict'\n",
    "}\n",
    "\n",
    "data_path = \"/share/india_secc/MOSAIKS/train_shrugs_with_admins.geojson\"\n",
    "gdf = gpd.read_file(data_path)\n",
    "\n",
    "country_shape_file = '/home/libe2152/optimizedsampling/0_data/boundaries/world/ne_10m_admin_0_countries.shp'\n",
    "country_name = 'India'\n",
    "\n",
    "strata_col = 'pc11_s_id'\n",
    "cluster_col = 'pc11_d_id'\n",
    "\n",
    "out_path = f'/home/libe2152/optimizedsampling/0_data/initial_samples/india_secc/cluster_sampling'\n",
    "\n",
    "sampler = ClusterSampler(gdf, id_col='condensed_shrug_id', strata_col=strata_col, cluster_col=cluster_col, ADMIN_IDS=ADMIN_IDS)\n",
    "\n",
    "n_strata = 5\n",
    "for points_per_cluster in [20, 30, 50]:\n",
    "    sampler.cluster_col = cluster_col\n",
    "    #sampler.merge_small_strata(points_per_cluster)\n",
    "    #sampler.merge_small_clusters(points_per_cluster)\n",
    "    for total_sample_size in range(1000, 6000, 1000):\n",
    "        \n",
    "        for seed in [1, 42, 123, 456, 789, 1234, 5678, 9101, 1213, 1415]:\n",
    "            try:\n",
    "                sampler.sample(total_sample_size, points_per_cluster, seed, n_strata=n_strata)\n",
    "                sampler.save_sampled_ids(out_path)\n",
    "                sampler.plot(country_shape_file=country_shape_file, country_name=country_name)\n",
    "            except Exception as e:\n",
    "                print(e)\n",
    "                from IPython import embed; embed()\n",
    "            sampler.reset_sample()"
   ]
  },
  {
   "cell_type": "markdown",
   "id": "7bdea7e3",
   "metadata": {},
   "source": [
    "# Convenience Sampling"
   ]
  },
  {
   "cell_type": "code",
   "execution_count": 4,
   "id": "5803a1d7",
   "metadata": {},
   "outputs": [],
   "source": [
    "from infrastructure_convenience_sampling import UrbanConvenienceSampler"
   ]
  },
  {
   "cell_type": "code",
   "execution_count": 5,
   "id": "fe843b25",
   "metadata": {},
   "outputs": [
    {
     "name": "stdout",
     "output_type": "stream",
     "text": [
      "Reading GeoDataFrame...\n",
      "Initializing UrbanConvenienceSampler...\n",
      "Computing distances using spatial index...\n",
      "Saved distances for 50652 points to /home/libe2152/optimizedsampling/0_data/distances/india_secc/distance_to_top20_urban.pkl\n",
      "Running probabilistic sampling...\n",
      "Saved 1000 sampled IDs to /home/libe2152/optimizedsampling/0_data/initial_samples/india_secc/convenience_sampling/urban_based/IDS_top20_urban_1000_points_probabilistic_1000_size_seed_1.pkl\n"
     ]
    },
    {
     "name": "stderr",
     "output_type": "stream",
     "text": [
      "/home/libe2152/optimizedsampling/2_initial_sample/infrastructure_convenience_sampling.py:237: UserWarning: Legend does not support handles for PatchCollection instances.\n",
      "See: https://matplotlib.org/stable/tutorials/intermediate/legend_guide.html#implementing-a-custom-legend-handler\n",
      "  ax.legend(loc='lower left', fontsize=10, title='Legend', title_fontsize=11, frameon=True)\n",
      "/home/libe2152/optimizedsampling/2_initial_sample/infrastructure_convenience_sampling.py:237: UserWarning: No artists with labels found to put in legend.  Note that artists whose label start with an underscore are ignored when legend() is called with no argument.\n",
      "  ax.legend(loc='lower left', fontsize=10, title='Legend', title_fontsize=11, frameon=True)\n"
     ]
    },
    {
     "name": "stdout",
     "output_type": "stream",
     "text": [
      "Saved plot to /home/libe2152/optimizedsampling/0_data/initial_samples/india_secc/convenience_sampling/urban_based/plots/top20_urban_areas_1000_points_probabilistic_1000_size_seed_1.png\n",
      "Initializing UrbanConvenienceSampler...\n",
      "Loading precomputed distances from /home/libe2152/optimizedsampling/0_data/distances/india_secc/distance_to_top20_urban.pkl...\n",
      "Running probabilistic sampling...\n",
      "Saved 1000 sampled IDs to /home/libe2152/optimizedsampling/0_data/initial_samples/india_secc/convenience_sampling/urban_based/IDS_top20_urban_1000_points_probabilistic_1000_size_seed_42.pkl\n"
     ]
    },
    {
     "name": "stderr",
     "output_type": "stream",
     "text": [
      "/home/libe2152/optimizedsampling/2_initial_sample/infrastructure_convenience_sampling.py:237: UserWarning: Legend does not support handles for PatchCollection instances.\n",
      "See: https://matplotlib.org/stable/tutorials/intermediate/legend_guide.html#implementing-a-custom-legend-handler\n",
      "  ax.legend(loc='lower left', fontsize=10, title='Legend', title_fontsize=11, frameon=True)\n",
      "/home/libe2152/optimizedsampling/2_initial_sample/infrastructure_convenience_sampling.py:237: UserWarning: No artists with labels found to put in legend.  Note that artists whose label start with an underscore are ignored when legend() is called with no argument.\n",
      "  ax.legend(loc='lower left', fontsize=10, title='Legend', title_fontsize=11, frameon=True)\n"
     ]
    },
    {
     "name": "stdout",
     "output_type": "stream",
     "text": [
      "Saved plot to /home/libe2152/optimizedsampling/0_data/initial_samples/india_secc/convenience_sampling/urban_based/plots/top20_urban_areas_1000_points_probabilistic_1000_size_seed_42.png\n",
      "Initializing UrbanConvenienceSampler...\n",
      "Loading precomputed distances from /home/libe2152/optimizedsampling/0_data/distances/india_secc/distance_to_top20_urban.pkl...\n",
      "Running probabilistic sampling...\n",
      "Saved 1000 sampled IDs to /home/libe2152/optimizedsampling/0_data/initial_samples/india_secc/convenience_sampling/urban_based/IDS_top20_urban_1000_points_probabilistic_1000_size_seed_123.pkl\n"
     ]
    },
    {
     "name": "stderr",
     "output_type": "stream",
     "text": [
      "/home/libe2152/optimizedsampling/2_initial_sample/infrastructure_convenience_sampling.py:237: UserWarning: Legend does not support handles for PatchCollection instances.\n",
      "See: https://matplotlib.org/stable/tutorials/intermediate/legend_guide.html#implementing-a-custom-legend-handler\n",
      "  ax.legend(loc='lower left', fontsize=10, title='Legend', title_fontsize=11, frameon=True)\n",
      "/home/libe2152/optimizedsampling/2_initial_sample/infrastructure_convenience_sampling.py:237: UserWarning: No artists with labels found to put in legend.  Note that artists whose label start with an underscore are ignored when legend() is called with no argument.\n",
      "  ax.legend(loc='lower left', fontsize=10, title='Legend', title_fontsize=11, frameon=True)\n"
     ]
    },
    {
     "name": "stdout",
     "output_type": "stream",
     "text": [
      "Saved plot to /home/libe2152/optimizedsampling/0_data/initial_samples/india_secc/convenience_sampling/urban_based/plots/top20_urban_areas_1000_points_probabilistic_1000_size_seed_123.png\n",
      "Initializing UrbanConvenienceSampler...\n",
      "Loading precomputed distances from /home/libe2152/optimizedsampling/0_data/distances/india_secc/distance_to_top20_urban.pkl...\n",
      "Running probabilistic sampling...\n",
      "Saved 1000 sampled IDs to /home/libe2152/optimizedsampling/0_data/initial_samples/india_secc/convenience_sampling/urban_based/IDS_top20_urban_1000_points_probabilistic_1000_size_seed_456.pkl\n"
     ]
    },
    {
     "name": "stderr",
     "output_type": "stream",
     "text": [
      "/home/libe2152/optimizedsampling/2_initial_sample/infrastructure_convenience_sampling.py:237: UserWarning: Legend does not support handles for PatchCollection instances.\n",
      "See: https://matplotlib.org/stable/tutorials/intermediate/legend_guide.html#implementing-a-custom-legend-handler\n",
      "  ax.legend(loc='lower left', fontsize=10, title='Legend', title_fontsize=11, frameon=True)\n",
      "/home/libe2152/optimizedsampling/2_initial_sample/infrastructure_convenience_sampling.py:237: UserWarning: No artists with labels found to put in legend.  Note that artists whose label start with an underscore are ignored when legend() is called with no argument.\n",
      "  ax.legend(loc='lower left', fontsize=10, title='Legend', title_fontsize=11, frameon=True)\n"
     ]
    },
    {
     "name": "stdout",
     "output_type": "stream",
     "text": [
      "Saved plot to /home/libe2152/optimizedsampling/0_data/initial_samples/india_secc/convenience_sampling/urban_based/plots/top20_urban_areas_1000_points_probabilistic_1000_size_seed_456.png\n",
      "Initializing UrbanConvenienceSampler...\n",
      "Loading precomputed distances from /home/libe2152/optimizedsampling/0_data/distances/india_secc/distance_to_top20_urban.pkl...\n",
      "Running probabilistic sampling...\n",
      "Saved 1000 sampled IDs to /home/libe2152/optimizedsampling/0_data/initial_samples/india_secc/convenience_sampling/urban_based/IDS_top20_urban_1000_points_probabilistic_1000_size_seed_789.pkl\n"
     ]
    },
    {
     "name": "stderr",
     "output_type": "stream",
     "text": [
      "/home/libe2152/optimizedsampling/2_initial_sample/infrastructure_convenience_sampling.py:237: UserWarning: Legend does not support handles for PatchCollection instances.\n",
      "See: https://matplotlib.org/stable/tutorials/intermediate/legend_guide.html#implementing-a-custom-legend-handler\n",
      "  ax.legend(loc='lower left', fontsize=10, title='Legend', title_fontsize=11, frameon=True)\n",
      "/home/libe2152/optimizedsampling/2_initial_sample/infrastructure_convenience_sampling.py:237: UserWarning: No artists with labels found to put in legend.  Note that artists whose label start with an underscore are ignored when legend() is called with no argument.\n",
      "  ax.legend(loc='lower left', fontsize=10, title='Legend', title_fontsize=11, frameon=True)\n"
     ]
    },
    {
     "name": "stdout",
     "output_type": "stream",
     "text": [
      "Saved plot to /home/libe2152/optimizedsampling/0_data/initial_samples/india_secc/convenience_sampling/urban_based/plots/top20_urban_areas_1000_points_probabilistic_1000_size_seed_789.png\n",
      "Initializing UrbanConvenienceSampler...\n",
      "Loading precomputed distances from /home/libe2152/optimizedsampling/0_data/distances/india_secc/distance_to_top20_urban.pkl...\n",
      "Running probabilistic sampling...\n",
      "Saved 1000 sampled IDs to /home/libe2152/optimizedsampling/0_data/initial_samples/india_secc/convenience_sampling/urban_based/IDS_top20_urban_1000_points_probabilistic_1000_size_seed_1234.pkl\n"
     ]
    },
    {
     "name": "stderr",
     "output_type": "stream",
     "text": [
      "/home/libe2152/optimizedsampling/2_initial_sample/infrastructure_convenience_sampling.py:237: UserWarning: Legend does not support handles for PatchCollection instances.\n",
      "See: https://matplotlib.org/stable/tutorials/intermediate/legend_guide.html#implementing-a-custom-legend-handler\n",
      "  ax.legend(loc='lower left', fontsize=10, title='Legend', title_fontsize=11, frameon=True)\n",
      "/home/libe2152/optimizedsampling/2_initial_sample/infrastructure_convenience_sampling.py:237: UserWarning: No artists with labels found to put in legend.  Note that artists whose label start with an underscore are ignored when legend() is called with no argument.\n",
      "  ax.legend(loc='lower left', fontsize=10, title='Legend', title_fontsize=11, frameon=True)\n"
     ]
    },
    {
     "name": "stdout",
     "output_type": "stream",
     "text": [
      "Saved plot to /home/libe2152/optimizedsampling/0_data/initial_samples/india_secc/convenience_sampling/urban_based/plots/top20_urban_areas_1000_points_probabilistic_1000_size_seed_1234.png\n",
      "Initializing UrbanConvenienceSampler...\n",
      "Loading precomputed distances from /home/libe2152/optimizedsampling/0_data/distances/india_secc/distance_to_top20_urban.pkl...\n",
      "Running probabilistic sampling...\n",
      "Saved 1000 sampled IDs to /home/libe2152/optimizedsampling/0_data/initial_samples/india_secc/convenience_sampling/urban_based/IDS_top20_urban_1000_points_probabilistic_1000_size_seed_5678.pkl\n"
     ]
    },
    {
     "name": "stderr",
     "output_type": "stream",
     "text": [
      "/home/libe2152/optimizedsampling/2_initial_sample/infrastructure_convenience_sampling.py:237: UserWarning: Legend does not support handles for PatchCollection instances.\n",
      "See: https://matplotlib.org/stable/tutorials/intermediate/legend_guide.html#implementing-a-custom-legend-handler\n",
      "  ax.legend(loc='lower left', fontsize=10, title='Legend', title_fontsize=11, frameon=True)\n",
      "/home/libe2152/optimizedsampling/2_initial_sample/infrastructure_convenience_sampling.py:237: UserWarning: No artists with labels found to put in legend.  Note that artists whose label start with an underscore are ignored when legend() is called with no argument.\n",
      "  ax.legend(loc='lower left', fontsize=10, title='Legend', title_fontsize=11, frameon=True)\n"
     ]
    },
    {
     "name": "stdout",
     "output_type": "stream",
     "text": [
      "Saved plot to /home/libe2152/optimizedsampling/0_data/initial_samples/india_secc/convenience_sampling/urban_based/plots/top20_urban_areas_1000_points_probabilistic_1000_size_seed_5678.png\n",
      "Initializing UrbanConvenienceSampler...\n",
      "Loading precomputed distances from /home/libe2152/optimizedsampling/0_data/distances/india_secc/distance_to_top20_urban.pkl...\n",
      "Running probabilistic sampling...\n",
      "Saved 1000 sampled IDs to /home/libe2152/optimizedsampling/0_data/initial_samples/india_secc/convenience_sampling/urban_based/IDS_top20_urban_1000_points_probabilistic_1000_size_seed_9101.pkl\n"
     ]
    },
    {
     "name": "stderr",
     "output_type": "stream",
     "text": [
      "/home/libe2152/optimizedsampling/2_initial_sample/infrastructure_convenience_sampling.py:237: UserWarning: Legend does not support handles for PatchCollection instances.\n",
      "See: https://matplotlib.org/stable/tutorials/intermediate/legend_guide.html#implementing-a-custom-legend-handler\n",
      "  ax.legend(loc='lower left', fontsize=10, title='Legend', title_fontsize=11, frameon=True)\n",
      "/home/libe2152/optimizedsampling/2_initial_sample/infrastructure_convenience_sampling.py:237: UserWarning: No artists with labels found to put in legend.  Note that artists whose label start with an underscore are ignored when legend() is called with no argument.\n",
      "  ax.legend(loc='lower left', fontsize=10, title='Legend', title_fontsize=11, frameon=True)\n"
     ]
    },
    {
     "name": "stdout",
     "output_type": "stream",
     "text": [
      "Saved plot to /home/libe2152/optimizedsampling/0_data/initial_samples/india_secc/convenience_sampling/urban_based/plots/top20_urban_areas_1000_points_probabilistic_1000_size_seed_9101.png\n",
      "Initializing UrbanConvenienceSampler...\n",
      "Loading precomputed distances from /home/libe2152/optimizedsampling/0_data/distances/india_secc/distance_to_top20_urban.pkl...\n",
      "Running probabilistic sampling...\n",
      "Saved 1000 sampled IDs to /home/libe2152/optimizedsampling/0_data/initial_samples/india_secc/convenience_sampling/urban_based/IDS_top20_urban_1000_points_probabilistic_1000_size_seed_1213.pkl\n"
     ]
    },
    {
     "name": "stderr",
     "output_type": "stream",
     "text": [
      "/home/libe2152/optimizedsampling/2_initial_sample/infrastructure_convenience_sampling.py:237: UserWarning: Legend does not support handles for PatchCollection instances.\n",
      "See: https://matplotlib.org/stable/tutorials/intermediate/legend_guide.html#implementing-a-custom-legend-handler\n",
      "  ax.legend(loc='lower left', fontsize=10, title='Legend', title_fontsize=11, frameon=True)\n",
      "/home/libe2152/optimizedsampling/2_initial_sample/infrastructure_convenience_sampling.py:237: UserWarning: No artists with labels found to put in legend.  Note that artists whose label start with an underscore are ignored when legend() is called with no argument.\n",
      "  ax.legend(loc='lower left', fontsize=10, title='Legend', title_fontsize=11, frameon=True)\n"
     ]
    },
    {
     "name": "stdout",
     "output_type": "stream",
     "text": [
      "Saved plot to /home/libe2152/optimizedsampling/0_data/initial_samples/india_secc/convenience_sampling/urban_based/plots/top20_urban_areas_1000_points_probabilistic_1000_size_seed_1213.png\n",
      "Initializing UrbanConvenienceSampler...\n",
      "Loading precomputed distances from /home/libe2152/optimizedsampling/0_data/distances/india_secc/distance_to_top20_urban.pkl...\n",
      "Running probabilistic sampling...\n",
      "Saved 1000 sampled IDs to /home/libe2152/optimizedsampling/0_data/initial_samples/india_secc/convenience_sampling/urban_based/IDS_top20_urban_1000_points_probabilistic_1000_size_seed_1415.pkl\n"
     ]
    },
    {
     "name": "stderr",
     "output_type": "stream",
     "text": [
      "/home/libe2152/optimizedsampling/2_initial_sample/infrastructure_convenience_sampling.py:237: UserWarning: Legend does not support handles for PatchCollection instances.\n",
      "See: https://matplotlib.org/stable/tutorials/intermediate/legend_guide.html#implementing-a-custom-legend-handler\n",
      "  ax.legend(loc='lower left', fontsize=10, title='Legend', title_fontsize=11, frameon=True)\n",
      "/home/libe2152/optimizedsampling/2_initial_sample/infrastructure_convenience_sampling.py:237: UserWarning: No artists with labels found to put in legend.  Note that artists whose label start with an underscore are ignored when legend() is called with no argument.\n",
      "  ax.legend(loc='lower left', fontsize=10, title='Legend', title_fontsize=11, frameon=True)\n"
     ]
    },
    {
     "name": "stdout",
     "output_type": "stream",
     "text": [
      "Saved plot to /home/libe2152/optimizedsampling/0_data/initial_samples/india_secc/convenience_sampling/urban_based/plots/top20_urban_areas_1000_points_probabilistic_1000_size_seed_1415.png\n",
      "Initializing UrbanConvenienceSampler...\n",
      "Loading precomputed distances from /home/libe2152/optimizedsampling/0_data/distances/india_secc/distance_to_top20_urban.pkl...\n",
      "Running probabilistic sampling...\n",
      "Saved 2000 sampled IDs to /home/libe2152/optimizedsampling/0_data/initial_samples/india_secc/convenience_sampling/urban_based/IDS_top20_urban_2000_points_probabilistic_2000_size_seed_1.pkl\n"
     ]
    },
    {
     "name": "stderr",
     "output_type": "stream",
     "text": [
      "/home/libe2152/optimizedsampling/2_initial_sample/infrastructure_convenience_sampling.py:237: UserWarning: Legend does not support handles for PatchCollection instances.\n",
      "See: https://matplotlib.org/stable/tutorials/intermediate/legend_guide.html#implementing-a-custom-legend-handler\n",
      "  ax.legend(loc='lower left', fontsize=10, title='Legend', title_fontsize=11, frameon=True)\n",
      "/home/libe2152/optimizedsampling/2_initial_sample/infrastructure_convenience_sampling.py:237: UserWarning: No artists with labels found to put in legend.  Note that artists whose label start with an underscore are ignored when legend() is called with no argument.\n",
      "  ax.legend(loc='lower left', fontsize=10, title='Legend', title_fontsize=11, frameon=True)\n"
     ]
    },
    {
     "name": "stdout",
     "output_type": "stream",
     "text": [
      "Saved plot to /home/libe2152/optimizedsampling/0_data/initial_samples/india_secc/convenience_sampling/urban_based/plots/top20_urban_areas_2000_points_probabilistic_2000_size_seed_1.png\n",
      "Initializing UrbanConvenienceSampler...\n",
      "Loading precomputed distances from /home/libe2152/optimizedsampling/0_data/distances/india_secc/distance_to_top20_urban.pkl...\n",
      "Running probabilistic sampling...\n",
      "Saved 2000 sampled IDs to /home/libe2152/optimizedsampling/0_data/initial_samples/india_secc/convenience_sampling/urban_based/IDS_top20_urban_2000_points_probabilistic_2000_size_seed_42.pkl\n"
     ]
    },
    {
     "name": "stderr",
     "output_type": "stream",
     "text": [
      "/home/libe2152/optimizedsampling/2_initial_sample/infrastructure_convenience_sampling.py:237: UserWarning: Legend does not support handles for PatchCollection instances.\n",
      "See: https://matplotlib.org/stable/tutorials/intermediate/legend_guide.html#implementing-a-custom-legend-handler\n",
      "  ax.legend(loc='lower left', fontsize=10, title='Legend', title_fontsize=11, frameon=True)\n",
      "/home/libe2152/optimizedsampling/2_initial_sample/infrastructure_convenience_sampling.py:237: UserWarning: No artists with labels found to put in legend.  Note that artists whose label start with an underscore are ignored when legend() is called with no argument.\n",
      "  ax.legend(loc='lower left', fontsize=10, title='Legend', title_fontsize=11, frameon=True)\n"
     ]
    },
    {
     "name": "stdout",
     "output_type": "stream",
     "text": [
      "Saved plot to /home/libe2152/optimizedsampling/0_data/initial_samples/india_secc/convenience_sampling/urban_based/plots/top20_urban_areas_2000_points_probabilistic_2000_size_seed_42.png\n",
      "Initializing UrbanConvenienceSampler...\n",
      "Loading precomputed distances from /home/libe2152/optimizedsampling/0_data/distances/india_secc/distance_to_top20_urban.pkl...\n",
      "Running probabilistic sampling...\n",
      "Saved 2000 sampled IDs to /home/libe2152/optimizedsampling/0_data/initial_samples/india_secc/convenience_sampling/urban_based/IDS_top20_urban_2000_points_probabilistic_2000_size_seed_123.pkl\n"
     ]
    },
    {
     "name": "stderr",
     "output_type": "stream",
     "text": [
      "/home/libe2152/optimizedsampling/2_initial_sample/infrastructure_convenience_sampling.py:237: UserWarning: Legend does not support handles for PatchCollection instances.\n",
      "See: https://matplotlib.org/stable/tutorials/intermediate/legend_guide.html#implementing-a-custom-legend-handler\n",
      "  ax.legend(loc='lower left', fontsize=10, title='Legend', title_fontsize=11, frameon=True)\n",
      "/home/libe2152/optimizedsampling/2_initial_sample/infrastructure_convenience_sampling.py:237: UserWarning: No artists with labels found to put in legend.  Note that artists whose label start with an underscore are ignored when legend() is called with no argument.\n",
      "  ax.legend(loc='lower left', fontsize=10, title='Legend', title_fontsize=11, frameon=True)\n"
     ]
    },
    {
     "name": "stdout",
     "output_type": "stream",
     "text": [
      "Saved plot to /home/libe2152/optimizedsampling/0_data/initial_samples/india_secc/convenience_sampling/urban_based/plots/top20_urban_areas_2000_points_probabilistic_2000_size_seed_123.png\n",
      "Initializing UrbanConvenienceSampler...\n",
      "Loading precomputed distances from /home/libe2152/optimizedsampling/0_data/distances/india_secc/distance_to_top20_urban.pkl...\n",
      "Running probabilistic sampling...\n",
      "Saved 2000 sampled IDs to /home/libe2152/optimizedsampling/0_data/initial_samples/india_secc/convenience_sampling/urban_based/IDS_top20_urban_2000_points_probabilistic_2000_size_seed_456.pkl\n"
     ]
    },
    {
     "name": "stderr",
     "output_type": "stream",
     "text": [
      "/home/libe2152/optimizedsampling/2_initial_sample/infrastructure_convenience_sampling.py:237: UserWarning: Legend does not support handles for PatchCollection instances.\n",
      "See: https://matplotlib.org/stable/tutorials/intermediate/legend_guide.html#implementing-a-custom-legend-handler\n",
      "  ax.legend(loc='lower left', fontsize=10, title='Legend', title_fontsize=11, frameon=True)\n",
      "/home/libe2152/optimizedsampling/2_initial_sample/infrastructure_convenience_sampling.py:237: UserWarning: No artists with labels found to put in legend.  Note that artists whose label start with an underscore are ignored when legend() is called with no argument.\n",
      "  ax.legend(loc='lower left', fontsize=10, title='Legend', title_fontsize=11, frameon=True)\n"
     ]
    },
    {
     "name": "stdout",
     "output_type": "stream",
     "text": [
      "Saved plot to /home/libe2152/optimizedsampling/0_data/initial_samples/india_secc/convenience_sampling/urban_based/plots/top20_urban_areas_2000_points_probabilistic_2000_size_seed_456.png\n",
      "Initializing UrbanConvenienceSampler...\n",
      "Loading precomputed distances from /home/libe2152/optimizedsampling/0_data/distances/india_secc/distance_to_top20_urban.pkl...\n",
      "Running probabilistic sampling...\n",
      "Saved 2000 sampled IDs to /home/libe2152/optimizedsampling/0_data/initial_samples/india_secc/convenience_sampling/urban_based/IDS_top20_urban_2000_points_probabilistic_2000_size_seed_789.pkl\n"
     ]
    },
    {
     "name": "stderr",
     "output_type": "stream",
     "text": [
      "/home/libe2152/optimizedsampling/2_initial_sample/infrastructure_convenience_sampling.py:237: UserWarning: Legend does not support handles for PatchCollection instances.\n",
      "See: https://matplotlib.org/stable/tutorials/intermediate/legend_guide.html#implementing-a-custom-legend-handler\n",
      "  ax.legend(loc='lower left', fontsize=10, title='Legend', title_fontsize=11, frameon=True)\n",
      "/home/libe2152/optimizedsampling/2_initial_sample/infrastructure_convenience_sampling.py:237: UserWarning: No artists with labels found to put in legend.  Note that artists whose label start with an underscore are ignored when legend() is called with no argument.\n",
      "  ax.legend(loc='lower left', fontsize=10, title='Legend', title_fontsize=11, frameon=True)\n"
     ]
    },
    {
     "name": "stdout",
     "output_type": "stream",
     "text": [
      "Saved plot to /home/libe2152/optimizedsampling/0_data/initial_samples/india_secc/convenience_sampling/urban_based/plots/top20_urban_areas_2000_points_probabilistic_2000_size_seed_789.png\n",
      "Initializing UrbanConvenienceSampler...\n",
      "Loading precomputed distances from /home/libe2152/optimizedsampling/0_data/distances/india_secc/distance_to_top20_urban.pkl...\n",
      "Running probabilistic sampling...\n",
      "Saved 2000 sampled IDs to /home/libe2152/optimizedsampling/0_data/initial_samples/india_secc/convenience_sampling/urban_based/IDS_top20_urban_2000_points_probabilistic_2000_size_seed_1234.pkl\n"
     ]
    },
    {
     "name": "stderr",
     "output_type": "stream",
     "text": [
      "/home/libe2152/optimizedsampling/2_initial_sample/infrastructure_convenience_sampling.py:237: UserWarning: Legend does not support handles for PatchCollection instances.\n",
      "See: https://matplotlib.org/stable/tutorials/intermediate/legend_guide.html#implementing-a-custom-legend-handler\n",
      "  ax.legend(loc='lower left', fontsize=10, title='Legend', title_fontsize=11, frameon=True)\n",
      "/home/libe2152/optimizedsampling/2_initial_sample/infrastructure_convenience_sampling.py:237: UserWarning: No artists with labels found to put in legend.  Note that artists whose label start with an underscore are ignored when legend() is called with no argument.\n",
      "  ax.legend(loc='lower left', fontsize=10, title='Legend', title_fontsize=11, frameon=True)\n"
     ]
    },
    {
     "name": "stdout",
     "output_type": "stream",
     "text": [
      "Saved plot to /home/libe2152/optimizedsampling/0_data/initial_samples/india_secc/convenience_sampling/urban_based/plots/top20_urban_areas_2000_points_probabilistic_2000_size_seed_1234.png\n",
      "Initializing UrbanConvenienceSampler...\n",
      "Loading precomputed distances from /home/libe2152/optimizedsampling/0_data/distances/india_secc/distance_to_top20_urban.pkl...\n",
      "Running probabilistic sampling...\n",
      "Saved 2000 sampled IDs to /home/libe2152/optimizedsampling/0_data/initial_samples/india_secc/convenience_sampling/urban_based/IDS_top20_urban_2000_points_probabilistic_2000_size_seed_5678.pkl\n"
     ]
    },
    {
     "name": "stderr",
     "output_type": "stream",
     "text": [
      "/home/libe2152/optimizedsampling/2_initial_sample/infrastructure_convenience_sampling.py:237: UserWarning: Legend does not support handles for PatchCollection instances.\n",
      "See: https://matplotlib.org/stable/tutorials/intermediate/legend_guide.html#implementing-a-custom-legend-handler\n",
      "  ax.legend(loc='lower left', fontsize=10, title='Legend', title_fontsize=11, frameon=True)\n",
      "/home/libe2152/optimizedsampling/2_initial_sample/infrastructure_convenience_sampling.py:237: UserWarning: No artists with labels found to put in legend.  Note that artists whose label start with an underscore are ignored when legend() is called with no argument.\n",
      "  ax.legend(loc='lower left', fontsize=10, title='Legend', title_fontsize=11, frameon=True)\n"
     ]
    },
    {
     "name": "stdout",
     "output_type": "stream",
     "text": [
      "Saved plot to /home/libe2152/optimizedsampling/0_data/initial_samples/india_secc/convenience_sampling/urban_based/plots/top20_urban_areas_2000_points_probabilistic_2000_size_seed_5678.png\n",
      "Initializing UrbanConvenienceSampler...\n",
      "Loading precomputed distances from /home/libe2152/optimizedsampling/0_data/distances/india_secc/distance_to_top20_urban.pkl...\n",
      "Running probabilistic sampling...\n",
      "Saved 2000 sampled IDs to /home/libe2152/optimizedsampling/0_data/initial_samples/india_secc/convenience_sampling/urban_based/IDS_top20_urban_2000_points_probabilistic_2000_size_seed_9101.pkl\n"
     ]
    },
    {
     "name": "stderr",
     "output_type": "stream",
     "text": [
      "/home/libe2152/optimizedsampling/2_initial_sample/infrastructure_convenience_sampling.py:237: UserWarning: Legend does not support handles for PatchCollection instances.\n",
      "See: https://matplotlib.org/stable/tutorials/intermediate/legend_guide.html#implementing-a-custom-legend-handler\n",
      "  ax.legend(loc='lower left', fontsize=10, title='Legend', title_fontsize=11, frameon=True)\n",
      "/home/libe2152/optimizedsampling/2_initial_sample/infrastructure_convenience_sampling.py:237: UserWarning: No artists with labels found to put in legend.  Note that artists whose label start with an underscore are ignored when legend() is called with no argument.\n",
      "  ax.legend(loc='lower left', fontsize=10, title='Legend', title_fontsize=11, frameon=True)\n"
     ]
    },
    {
     "name": "stdout",
     "output_type": "stream",
     "text": [
      "Saved plot to /home/libe2152/optimizedsampling/0_data/initial_samples/india_secc/convenience_sampling/urban_based/plots/top20_urban_areas_2000_points_probabilistic_2000_size_seed_9101.png\n",
      "Initializing UrbanConvenienceSampler...\n",
      "Loading precomputed distances from /home/libe2152/optimizedsampling/0_data/distances/india_secc/distance_to_top20_urban.pkl...\n",
      "Running probabilistic sampling...\n",
      "Saved 2000 sampled IDs to /home/libe2152/optimizedsampling/0_data/initial_samples/india_secc/convenience_sampling/urban_based/IDS_top20_urban_2000_points_probabilistic_2000_size_seed_1213.pkl\n"
     ]
    },
    {
     "name": "stderr",
     "output_type": "stream",
     "text": [
      "/home/libe2152/optimizedsampling/2_initial_sample/infrastructure_convenience_sampling.py:237: UserWarning: Legend does not support handles for PatchCollection instances.\n",
      "See: https://matplotlib.org/stable/tutorials/intermediate/legend_guide.html#implementing-a-custom-legend-handler\n",
      "  ax.legend(loc='lower left', fontsize=10, title='Legend', title_fontsize=11, frameon=True)\n",
      "/home/libe2152/optimizedsampling/2_initial_sample/infrastructure_convenience_sampling.py:237: UserWarning: No artists with labels found to put in legend.  Note that artists whose label start with an underscore are ignored when legend() is called with no argument.\n",
      "  ax.legend(loc='lower left', fontsize=10, title='Legend', title_fontsize=11, frameon=True)\n"
     ]
    },
    {
     "name": "stdout",
     "output_type": "stream",
     "text": [
      "Saved plot to /home/libe2152/optimizedsampling/0_data/initial_samples/india_secc/convenience_sampling/urban_based/plots/top20_urban_areas_2000_points_probabilistic_2000_size_seed_1213.png\n",
      "Initializing UrbanConvenienceSampler...\n",
      "Loading precomputed distances from /home/libe2152/optimizedsampling/0_data/distances/india_secc/distance_to_top20_urban.pkl...\n",
      "Running probabilistic sampling...\n",
      "Saved 2000 sampled IDs to /home/libe2152/optimizedsampling/0_data/initial_samples/india_secc/convenience_sampling/urban_based/IDS_top20_urban_2000_points_probabilistic_2000_size_seed_1415.pkl\n"
     ]
    },
    {
     "name": "stderr",
     "output_type": "stream",
     "text": [
      "/home/libe2152/optimizedsampling/2_initial_sample/infrastructure_convenience_sampling.py:237: UserWarning: Legend does not support handles for PatchCollection instances.\n",
      "See: https://matplotlib.org/stable/tutorials/intermediate/legend_guide.html#implementing-a-custom-legend-handler\n",
      "  ax.legend(loc='lower left', fontsize=10, title='Legend', title_fontsize=11, frameon=True)\n",
      "/home/libe2152/optimizedsampling/2_initial_sample/infrastructure_convenience_sampling.py:237: UserWarning: No artists with labels found to put in legend.  Note that artists whose label start with an underscore are ignored when legend() is called with no argument.\n",
      "  ax.legend(loc='lower left', fontsize=10, title='Legend', title_fontsize=11, frameon=True)\n"
     ]
    },
    {
     "name": "stdout",
     "output_type": "stream",
     "text": [
      "Saved plot to /home/libe2152/optimizedsampling/0_data/initial_samples/india_secc/convenience_sampling/urban_based/plots/top20_urban_areas_2000_points_probabilistic_2000_size_seed_1415.png\n",
      "Initializing UrbanConvenienceSampler...\n",
      "Loading precomputed distances from /home/libe2152/optimizedsampling/0_data/distances/india_secc/distance_to_top20_urban.pkl...\n",
      "Running probabilistic sampling...\n",
      "Saved 3000 sampled IDs to /home/libe2152/optimizedsampling/0_data/initial_samples/india_secc/convenience_sampling/urban_based/IDS_top20_urban_3000_points_probabilistic_3000_size_seed_1.pkl\n"
     ]
    },
    {
     "name": "stderr",
     "output_type": "stream",
     "text": [
      "/home/libe2152/optimizedsampling/2_initial_sample/infrastructure_convenience_sampling.py:237: UserWarning: Legend does not support handles for PatchCollection instances.\n",
      "See: https://matplotlib.org/stable/tutorials/intermediate/legend_guide.html#implementing-a-custom-legend-handler\n",
      "  ax.legend(loc='lower left', fontsize=10, title='Legend', title_fontsize=11, frameon=True)\n",
      "/home/libe2152/optimizedsampling/2_initial_sample/infrastructure_convenience_sampling.py:237: UserWarning: No artists with labels found to put in legend.  Note that artists whose label start with an underscore are ignored when legend() is called with no argument.\n",
      "  ax.legend(loc='lower left', fontsize=10, title='Legend', title_fontsize=11, frameon=True)\n"
     ]
    },
    {
     "name": "stdout",
     "output_type": "stream",
     "text": [
      "Saved plot to /home/libe2152/optimizedsampling/0_data/initial_samples/india_secc/convenience_sampling/urban_based/plots/top20_urban_areas_3000_points_probabilistic_3000_size_seed_1.png\n",
      "Initializing UrbanConvenienceSampler...\n",
      "Loading precomputed distances from /home/libe2152/optimizedsampling/0_data/distances/india_secc/distance_to_top20_urban.pkl...\n",
      "Running probabilistic sampling...\n",
      "Saved 3000 sampled IDs to /home/libe2152/optimizedsampling/0_data/initial_samples/india_secc/convenience_sampling/urban_based/IDS_top20_urban_3000_points_probabilistic_3000_size_seed_42.pkl\n"
     ]
    },
    {
     "name": "stderr",
     "output_type": "stream",
     "text": [
      "/home/libe2152/optimizedsampling/2_initial_sample/infrastructure_convenience_sampling.py:237: UserWarning: Legend does not support handles for PatchCollection instances.\n",
      "See: https://matplotlib.org/stable/tutorials/intermediate/legend_guide.html#implementing-a-custom-legend-handler\n",
      "  ax.legend(loc='lower left', fontsize=10, title='Legend', title_fontsize=11, frameon=True)\n",
      "/home/libe2152/optimizedsampling/2_initial_sample/infrastructure_convenience_sampling.py:237: UserWarning: No artists with labels found to put in legend.  Note that artists whose label start with an underscore are ignored when legend() is called with no argument.\n",
      "  ax.legend(loc='lower left', fontsize=10, title='Legend', title_fontsize=11, frameon=True)\n"
     ]
    },
    {
     "name": "stdout",
     "output_type": "stream",
     "text": [
      "Saved plot to /home/libe2152/optimizedsampling/0_data/initial_samples/india_secc/convenience_sampling/urban_based/plots/top20_urban_areas_3000_points_probabilistic_3000_size_seed_42.png\n",
      "Initializing UrbanConvenienceSampler...\n",
      "Loading precomputed distances from /home/libe2152/optimizedsampling/0_data/distances/india_secc/distance_to_top20_urban.pkl...\n",
      "Running probabilistic sampling...\n",
      "Saved 3000 sampled IDs to /home/libe2152/optimizedsampling/0_data/initial_samples/india_secc/convenience_sampling/urban_based/IDS_top20_urban_3000_points_probabilistic_3000_size_seed_123.pkl\n"
     ]
    },
    {
     "name": "stderr",
     "output_type": "stream",
     "text": [
      "/home/libe2152/optimizedsampling/2_initial_sample/infrastructure_convenience_sampling.py:237: UserWarning: Legend does not support handles for PatchCollection instances.\n",
      "See: https://matplotlib.org/stable/tutorials/intermediate/legend_guide.html#implementing-a-custom-legend-handler\n",
      "  ax.legend(loc='lower left', fontsize=10, title='Legend', title_fontsize=11, frameon=True)\n",
      "/home/libe2152/optimizedsampling/2_initial_sample/infrastructure_convenience_sampling.py:237: UserWarning: No artists with labels found to put in legend.  Note that artists whose label start with an underscore are ignored when legend() is called with no argument.\n",
      "  ax.legend(loc='lower left', fontsize=10, title='Legend', title_fontsize=11, frameon=True)\n"
     ]
    },
    {
     "name": "stdout",
     "output_type": "stream",
     "text": [
      "Saved plot to /home/libe2152/optimizedsampling/0_data/initial_samples/india_secc/convenience_sampling/urban_based/plots/top20_urban_areas_3000_points_probabilistic_3000_size_seed_123.png\n",
      "Initializing UrbanConvenienceSampler...\n",
      "Loading precomputed distances from /home/libe2152/optimizedsampling/0_data/distances/india_secc/distance_to_top20_urban.pkl...\n",
      "Running probabilistic sampling...\n",
      "Saved 3000 sampled IDs to /home/libe2152/optimizedsampling/0_data/initial_samples/india_secc/convenience_sampling/urban_based/IDS_top20_urban_3000_points_probabilistic_3000_size_seed_456.pkl\n"
     ]
    },
    {
     "name": "stderr",
     "output_type": "stream",
     "text": [
      "/home/libe2152/optimizedsampling/2_initial_sample/infrastructure_convenience_sampling.py:237: UserWarning: Legend does not support handles for PatchCollection instances.\n",
      "See: https://matplotlib.org/stable/tutorials/intermediate/legend_guide.html#implementing-a-custom-legend-handler\n",
      "  ax.legend(loc='lower left', fontsize=10, title='Legend', title_fontsize=11, frameon=True)\n",
      "/home/libe2152/optimizedsampling/2_initial_sample/infrastructure_convenience_sampling.py:237: UserWarning: No artists with labels found to put in legend.  Note that artists whose label start with an underscore are ignored when legend() is called with no argument.\n",
      "  ax.legend(loc='lower left', fontsize=10, title='Legend', title_fontsize=11, frameon=True)\n"
     ]
    },
    {
     "name": "stdout",
     "output_type": "stream",
     "text": [
      "Saved plot to /home/libe2152/optimizedsampling/0_data/initial_samples/india_secc/convenience_sampling/urban_based/plots/top20_urban_areas_3000_points_probabilistic_3000_size_seed_456.png\n",
      "Initializing UrbanConvenienceSampler...\n",
      "Loading precomputed distances from /home/libe2152/optimizedsampling/0_data/distances/india_secc/distance_to_top20_urban.pkl...\n",
      "Running probabilistic sampling...\n",
      "Saved 3000 sampled IDs to /home/libe2152/optimizedsampling/0_data/initial_samples/india_secc/convenience_sampling/urban_based/IDS_top20_urban_3000_points_probabilistic_3000_size_seed_789.pkl\n"
     ]
    },
    {
     "name": "stderr",
     "output_type": "stream",
     "text": [
      "/home/libe2152/optimizedsampling/2_initial_sample/infrastructure_convenience_sampling.py:237: UserWarning: Legend does not support handles for PatchCollection instances.\n",
      "See: https://matplotlib.org/stable/tutorials/intermediate/legend_guide.html#implementing-a-custom-legend-handler\n",
      "  ax.legend(loc='lower left', fontsize=10, title='Legend', title_fontsize=11, frameon=True)\n",
      "/home/libe2152/optimizedsampling/2_initial_sample/infrastructure_convenience_sampling.py:237: UserWarning: No artists with labels found to put in legend.  Note that artists whose label start with an underscore are ignored when legend() is called with no argument.\n",
      "  ax.legend(loc='lower left', fontsize=10, title='Legend', title_fontsize=11, frameon=True)\n"
     ]
    },
    {
     "name": "stdout",
     "output_type": "stream",
     "text": [
      "Saved plot to /home/libe2152/optimizedsampling/0_data/initial_samples/india_secc/convenience_sampling/urban_based/plots/top20_urban_areas_3000_points_probabilistic_3000_size_seed_789.png\n",
      "Initializing UrbanConvenienceSampler...\n",
      "Loading precomputed distances from /home/libe2152/optimizedsampling/0_data/distances/india_secc/distance_to_top20_urban.pkl...\n",
      "Running probabilistic sampling...\n",
      "Saved 3000 sampled IDs to /home/libe2152/optimizedsampling/0_data/initial_samples/india_secc/convenience_sampling/urban_based/IDS_top20_urban_3000_points_probabilistic_3000_size_seed_1234.pkl\n"
     ]
    },
    {
     "name": "stderr",
     "output_type": "stream",
     "text": [
      "/home/libe2152/optimizedsampling/2_initial_sample/infrastructure_convenience_sampling.py:237: UserWarning: Legend does not support handles for PatchCollection instances.\n",
      "See: https://matplotlib.org/stable/tutorials/intermediate/legend_guide.html#implementing-a-custom-legend-handler\n",
      "  ax.legend(loc='lower left', fontsize=10, title='Legend', title_fontsize=11, frameon=True)\n",
      "/home/libe2152/optimizedsampling/2_initial_sample/infrastructure_convenience_sampling.py:237: UserWarning: No artists with labels found to put in legend.  Note that artists whose label start with an underscore are ignored when legend() is called with no argument.\n",
      "  ax.legend(loc='lower left', fontsize=10, title='Legend', title_fontsize=11, frameon=True)\n"
     ]
    },
    {
     "name": "stdout",
     "output_type": "stream",
     "text": [
      "Saved plot to /home/libe2152/optimizedsampling/0_data/initial_samples/india_secc/convenience_sampling/urban_based/plots/top20_urban_areas_3000_points_probabilistic_3000_size_seed_1234.png\n",
      "Initializing UrbanConvenienceSampler...\n",
      "Loading precomputed distances from /home/libe2152/optimizedsampling/0_data/distances/india_secc/distance_to_top20_urban.pkl...\n",
      "Running probabilistic sampling...\n",
      "Saved 3000 sampled IDs to /home/libe2152/optimizedsampling/0_data/initial_samples/india_secc/convenience_sampling/urban_based/IDS_top20_urban_3000_points_probabilistic_3000_size_seed_5678.pkl\n"
     ]
    },
    {
     "name": "stderr",
     "output_type": "stream",
     "text": [
      "/home/libe2152/optimizedsampling/2_initial_sample/infrastructure_convenience_sampling.py:237: UserWarning: Legend does not support handles for PatchCollection instances.\n",
      "See: https://matplotlib.org/stable/tutorials/intermediate/legend_guide.html#implementing-a-custom-legend-handler\n",
      "  ax.legend(loc='lower left', fontsize=10, title='Legend', title_fontsize=11, frameon=True)\n",
      "/home/libe2152/optimizedsampling/2_initial_sample/infrastructure_convenience_sampling.py:237: UserWarning: No artists with labels found to put in legend.  Note that artists whose label start with an underscore are ignored when legend() is called with no argument.\n",
      "  ax.legend(loc='lower left', fontsize=10, title='Legend', title_fontsize=11, frameon=True)\n"
     ]
    },
    {
     "name": "stdout",
     "output_type": "stream",
     "text": [
      "Saved plot to /home/libe2152/optimizedsampling/0_data/initial_samples/india_secc/convenience_sampling/urban_based/plots/top20_urban_areas_3000_points_probabilistic_3000_size_seed_5678.png\n",
      "Initializing UrbanConvenienceSampler...\n",
      "Loading precomputed distances from /home/libe2152/optimizedsampling/0_data/distances/india_secc/distance_to_top20_urban.pkl...\n",
      "Running probabilistic sampling...\n",
      "Saved 3000 sampled IDs to /home/libe2152/optimizedsampling/0_data/initial_samples/india_secc/convenience_sampling/urban_based/IDS_top20_urban_3000_points_probabilistic_3000_size_seed_9101.pkl\n"
     ]
    },
    {
     "name": "stderr",
     "output_type": "stream",
     "text": [
      "/home/libe2152/optimizedsampling/2_initial_sample/infrastructure_convenience_sampling.py:237: UserWarning: Legend does not support handles for PatchCollection instances.\n",
      "See: https://matplotlib.org/stable/tutorials/intermediate/legend_guide.html#implementing-a-custom-legend-handler\n",
      "  ax.legend(loc='lower left', fontsize=10, title='Legend', title_fontsize=11, frameon=True)\n",
      "/home/libe2152/optimizedsampling/2_initial_sample/infrastructure_convenience_sampling.py:237: UserWarning: No artists with labels found to put in legend.  Note that artists whose label start with an underscore are ignored when legend() is called with no argument.\n",
      "  ax.legend(loc='lower left', fontsize=10, title='Legend', title_fontsize=11, frameon=True)\n"
     ]
    },
    {
     "name": "stdout",
     "output_type": "stream",
     "text": [
      "Saved plot to /home/libe2152/optimizedsampling/0_data/initial_samples/india_secc/convenience_sampling/urban_based/plots/top20_urban_areas_3000_points_probabilistic_3000_size_seed_9101.png\n",
      "Initializing UrbanConvenienceSampler...\n",
      "Loading precomputed distances from /home/libe2152/optimizedsampling/0_data/distances/india_secc/distance_to_top20_urban.pkl...\n",
      "Running probabilistic sampling...\n",
      "Saved 3000 sampled IDs to /home/libe2152/optimizedsampling/0_data/initial_samples/india_secc/convenience_sampling/urban_based/IDS_top20_urban_3000_points_probabilistic_3000_size_seed_1213.pkl\n"
     ]
    },
    {
     "name": "stderr",
     "output_type": "stream",
     "text": [
      "/home/libe2152/optimizedsampling/2_initial_sample/infrastructure_convenience_sampling.py:237: UserWarning: Legend does not support handles for PatchCollection instances.\n",
      "See: https://matplotlib.org/stable/tutorials/intermediate/legend_guide.html#implementing-a-custom-legend-handler\n",
      "  ax.legend(loc='lower left', fontsize=10, title='Legend', title_fontsize=11, frameon=True)\n",
      "/home/libe2152/optimizedsampling/2_initial_sample/infrastructure_convenience_sampling.py:237: UserWarning: No artists with labels found to put in legend.  Note that artists whose label start with an underscore are ignored when legend() is called with no argument.\n",
      "  ax.legend(loc='lower left', fontsize=10, title='Legend', title_fontsize=11, frameon=True)\n"
     ]
    },
    {
     "name": "stdout",
     "output_type": "stream",
     "text": [
      "Saved plot to /home/libe2152/optimizedsampling/0_data/initial_samples/india_secc/convenience_sampling/urban_based/plots/top20_urban_areas_3000_points_probabilistic_3000_size_seed_1213.png\n",
      "Initializing UrbanConvenienceSampler...\n",
      "Loading precomputed distances from /home/libe2152/optimizedsampling/0_data/distances/india_secc/distance_to_top20_urban.pkl...\n",
      "Running probabilistic sampling...\n",
      "Saved 3000 sampled IDs to /home/libe2152/optimizedsampling/0_data/initial_samples/india_secc/convenience_sampling/urban_based/IDS_top20_urban_3000_points_probabilistic_3000_size_seed_1415.pkl\n"
     ]
    },
    {
     "name": "stderr",
     "output_type": "stream",
     "text": [
      "/home/libe2152/optimizedsampling/2_initial_sample/infrastructure_convenience_sampling.py:237: UserWarning: Legend does not support handles for PatchCollection instances.\n",
      "See: https://matplotlib.org/stable/tutorials/intermediate/legend_guide.html#implementing-a-custom-legend-handler\n",
      "  ax.legend(loc='lower left', fontsize=10, title='Legend', title_fontsize=11, frameon=True)\n",
      "/home/libe2152/optimizedsampling/2_initial_sample/infrastructure_convenience_sampling.py:237: UserWarning: No artists with labels found to put in legend.  Note that artists whose label start with an underscore are ignored when legend() is called with no argument.\n",
      "  ax.legend(loc='lower left', fontsize=10, title='Legend', title_fontsize=11, frameon=True)\n"
     ]
    },
    {
     "name": "stdout",
     "output_type": "stream",
     "text": [
      "Saved plot to /home/libe2152/optimizedsampling/0_data/initial_samples/india_secc/convenience_sampling/urban_based/plots/top20_urban_areas_3000_points_probabilistic_3000_size_seed_1415.png\n",
      "Initializing UrbanConvenienceSampler...\n",
      "Loading precomputed distances from /home/libe2152/optimizedsampling/0_data/distances/india_secc/distance_to_top20_urban.pkl...\n",
      "Running probabilistic sampling...\n",
      "Saved 4000 sampled IDs to /home/libe2152/optimizedsampling/0_data/initial_samples/india_secc/convenience_sampling/urban_based/IDS_top20_urban_4000_points_probabilistic_4000_size_seed_1.pkl\n"
     ]
    },
    {
     "name": "stderr",
     "output_type": "stream",
     "text": [
      "/home/libe2152/optimizedsampling/2_initial_sample/infrastructure_convenience_sampling.py:237: UserWarning: Legend does not support handles for PatchCollection instances.\n",
      "See: https://matplotlib.org/stable/tutorials/intermediate/legend_guide.html#implementing-a-custom-legend-handler\n",
      "  ax.legend(loc='lower left', fontsize=10, title='Legend', title_fontsize=11, frameon=True)\n",
      "/home/libe2152/optimizedsampling/2_initial_sample/infrastructure_convenience_sampling.py:237: UserWarning: No artists with labels found to put in legend.  Note that artists whose label start with an underscore are ignored when legend() is called with no argument.\n",
      "  ax.legend(loc='lower left', fontsize=10, title='Legend', title_fontsize=11, frameon=True)\n"
     ]
    },
    {
     "name": "stdout",
     "output_type": "stream",
     "text": [
      "Saved plot to /home/libe2152/optimizedsampling/0_data/initial_samples/india_secc/convenience_sampling/urban_based/plots/top20_urban_areas_4000_points_probabilistic_4000_size_seed_1.png\n",
      "Initializing UrbanConvenienceSampler...\n",
      "Loading precomputed distances from /home/libe2152/optimizedsampling/0_data/distances/india_secc/distance_to_top20_urban.pkl...\n",
      "Running probabilistic sampling...\n",
      "Saved 4000 sampled IDs to /home/libe2152/optimizedsampling/0_data/initial_samples/india_secc/convenience_sampling/urban_based/IDS_top20_urban_4000_points_probabilistic_4000_size_seed_42.pkl\n"
     ]
    },
    {
     "name": "stderr",
     "output_type": "stream",
     "text": [
      "/home/libe2152/optimizedsampling/2_initial_sample/infrastructure_convenience_sampling.py:237: UserWarning: Legend does not support handles for PatchCollection instances.\n",
      "See: https://matplotlib.org/stable/tutorials/intermediate/legend_guide.html#implementing-a-custom-legend-handler\n",
      "  ax.legend(loc='lower left', fontsize=10, title='Legend', title_fontsize=11, frameon=True)\n",
      "/home/libe2152/optimizedsampling/2_initial_sample/infrastructure_convenience_sampling.py:237: UserWarning: No artists with labels found to put in legend.  Note that artists whose label start with an underscore are ignored when legend() is called with no argument.\n",
      "  ax.legend(loc='lower left', fontsize=10, title='Legend', title_fontsize=11, frameon=True)\n"
     ]
    },
    {
     "name": "stdout",
     "output_type": "stream",
     "text": [
      "Saved plot to /home/libe2152/optimizedsampling/0_data/initial_samples/india_secc/convenience_sampling/urban_based/plots/top20_urban_areas_4000_points_probabilistic_4000_size_seed_42.png\n",
      "Initializing UrbanConvenienceSampler...\n",
      "Loading precomputed distances from /home/libe2152/optimizedsampling/0_data/distances/india_secc/distance_to_top20_urban.pkl...\n",
      "Running probabilistic sampling...\n",
      "Saved 4000 sampled IDs to /home/libe2152/optimizedsampling/0_data/initial_samples/india_secc/convenience_sampling/urban_based/IDS_top20_urban_4000_points_probabilistic_4000_size_seed_123.pkl\n"
     ]
    },
    {
     "name": "stderr",
     "output_type": "stream",
     "text": [
      "/home/libe2152/optimizedsampling/2_initial_sample/infrastructure_convenience_sampling.py:237: UserWarning: Legend does not support handles for PatchCollection instances.\n",
      "See: https://matplotlib.org/stable/tutorials/intermediate/legend_guide.html#implementing-a-custom-legend-handler\n",
      "  ax.legend(loc='lower left', fontsize=10, title='Legend', title_fontsize=11, frameon=True)\n",
      "/home/libe2152/optimizedsampling/2_initial_sample/infrastructure_convenience_sampling.py:237: UserWarning: No artists with labels found to put in legend.  Note that artists whose label start with an underscore are ignored when legend() is called with no argument.\n",
      "  ax.legend(loc='lower left', fontsize=10, title='Legend', title_fontsize=11, frameon=True)\n"
     ]
    },
    {
     "name": "stdout",
     "output_type": "stream",
     "text": [
      "Saved plot to /home/libe2152/optimizedsampling/0_data/initial_samples/india_secc/convenience_sampling/urban_based/plots/top20_urban_areas_4000_points_probabilistic_4000_size_seed_123.png\n",
      "Initializing UrbanConvenienceSampler...\n",
      "Loading precomputed distances from /home/libe2152/optimizedsampling/0_data/distances/india_secc/distance_to_top20_urban.pkl...\n",
      "Running probabilistic sampling...\n",
      "Saved 4000 sampled IDs to /home/libe2152/optimizedsampling/0_data/initial_samples/india_secc/convenience_sampling/urban_based/IDS_top20_urban_4000_points_probabilistic_4000_size_seed_456.pkl\n"
     ]
    },
    {
     "name": "stderr",
     "output_type": "stream",
     "text": [
      "/home/libe2152/optimizedsampling/2_initial_sample/infrastructure_convenience_sampling.py:237: UserWarning: Legend does not support handles for PatchCollection instances.\n",
      "See: https://matplotlib.org/stable/tutorials/intermediate/legend_guide.html#implementing-a-custom-legend-handler\n",
      "  ax.legend(loc='lower left', fontsize=10, title='Legend', title_fontsize=11, frameon=True)\n",
      "/home/libe2152/optimizedsampling/2_initial_sample/infrastructure_convenience_sampling.py:237: UserWarning: No artists with labels found to put in legend.  Note that artists whose label start with an underscore are ignored when legend() is called with no argument.\n",
      "  ax.legend(loc='lower left', fontsize=10, title='Legend', title_fontsize=11, frameon=True)\n"
     ]
    },
    {
     "name": "stdout",
     "output_type": "stream",
     "text": [
      "Saved plot to /home/libe2152/optimizedsampling/0_data/initial_samples/india_secc/convenience_sampling/urban_based/plots/top20_urban_areas_4000_points_probabilistic_4000_size_seed_456.png\n",
      "Initializing UrbanConvenienceSampler...\n",
      "Loading precomputed distances from /home/libe2152/optimizedsampling/0_data/distances/india_secc/distance_to_top20_urban.pkl...\n",
      "Running probabilistic sampling...\n",
      "Saved 4000 sampled IDs to /home/libe2152/optimizedsampling/0_data/initial_samples/india_secc/convenience_sampling/urban_based/IDS_top20_urban_4000_points_probabilistic_4000_size_seed_789.pkl\n"
     ]
    },
    {
     "name": "stderr",
     "output_type": "stream",
     "text": [
      "/home/libe2152/optimizedsampling/2_initial_sample/infrastructure_convenience_sampling.py:237: UserWarning: Legend does not support handles for PatchCollection instances.\n",
      "See: https://matplotlib.org/stable/tutorials/intermediate/legend_guide.html#implementing-a-custom-legend-handler\n",
      "  ax.legend(loc='lower left', fontsize=10, title='Legend', title_fontsize=11, frameon=True)\n",
      "/home/libe2152/optimizedsampling/2_initial_sample/infrastructure_convenience_sampling.py:237: UserWarning: No artists with labels found to put in legend.  Note that artists whose label start with an underscore are ignored when legend() is called with no argument.\n",
      "  ax.legend(loc='lower left', fontsize=10, title='Legend', title_fontsize=11, frameon=True)\n"
     ]
    },
    {
     "name": "stdout",
     "output_type": "stream",
     "text": [
      "Saved plot to /home/libe2152/optimizedsampling/0_data/initial_samples/india_secc/convenience_sampling/urban_based/plots/top20_urban_areas_4000_points_probabilistic_4000_size_seed_789.png\n",
      "Initializing UrbanConvenienceSampler...\n",
      "Loading precomputed distances from /home/libe2152/optimizedsampling/0_data/distances/india_secc/distance_to_top20_urban.pkl...\n",
      "Running probabilistic sampling...\n",
      "Saved 4000 sampled IDs to /home/libe2152/optimizedsampling/0_data/initial_samples/india_secc/convenience_sampling/urban_based/IDS_top20_urban_4000_points_probabilistic_4000_size_seed_1234.pkl\n"
     ]
    },
    {
     "name": "stderr",
     "output_type": "stream",
     "text": [
      "/home/libe2152/optimizedsampling/2_initial_sample/infrastructure_convenience_sampling.py:237: UserWarning: Legend does not support handles for PatchCollection instances.\n",
      "See: https://matplotlib.org/stable/tutorials/intermediate/legend_guide.html#implementing-a-custom-legend-handler\n",
      "  ax.legend(loc='lower left', fontsize=10, title='Legend', title_fontsize=11, frameon=True)\n",
      "/home/libe2152/optimizedsampling/2_initial_sample/infrastructure_convenience_sampling.py:237: UserWarning: No artists with labels found to put in legend.  Note that artists whose label start with an underscore are ignored when legend() is called with no argument.\n",
      "  ax.legend(loc='lower left', fontsize=10, title='Legend', title_fontsize=11, frameon=True)\n"
     ]
    },
    {
     "name": "stdout",
     "output_type": "stream",
     "text": [
      "Saved plot to /home/libe2152/optimizedsampling/0_data/initial_samples/india_secc/convenience_sampling/urban_based/plots/top20_urban_areas_4000_points_probabilistic_4000_size_seed_1234.png\n",
      "Initializing UrbanConvenienceSampler...\n",
      "Loading precomputed distances from /home/libe2152/optimizedsampling/0_data/distances/india_secc/distance_to_top20_urban.pkl...\n",
      "Running probabilistic sampling...\n",
      "Saved 4000 sampled IDs to /home/libe2152/optimizedsampling/0_data/initial_samples/india_secc/convenience_sampling/urban_based/IDS_top20_urban_4000_points_probabilistic_4000_size_seed_5678.pkl\n"
     ]
    },
    {
     "name": "stderr",
     "output_type": "stream",
     "text": [
      "/home/libe2152/optimizedsampling/2_initial_sample/infrastructure_convenience_sampling.py:237: UserWarning: Legend does not support handles for PatchCollection instances.\n",
      "See: https://matplotlib.org/stable/tutorials/intermediate/legend_guide.html#implementing-a-custom-legend-handler\n",
      "  ax.legend(loc='lower left', fontsize=10, title='Legend', title_fontsize=11, frameon=True)\n",
      "/home/libe2152/optimizedsampling/2_initial_sample/infrastructure_convenience_sampling.py:237: UserWarning: No artists with labels found to put in legend.  Note that artists whose label start with an underscore are ignored when legend() is called with no argument.\n",
      "  ax.legend(loc='lower left', fontsize=10, title='Legend', title_fontsize=11, frameon=True)\n"
     ]
    },
    {
     "name": "stdout",
     "output_type": "stream",
     "text": [
      "Saved plot to /home/libe2152/optimizedsampling/0_data/initial_samples/india_secc/convenience_sampling/urban_based/plots/top20_urban_areas_4000_points_probabilistic_4000_size_seed_5678.png\n",
      "Initializing UrbanConvenienceSampler...\n",
      "Loading precomputed distances from /home/libe2152/optimizedsampling/0_data/distances/india_secc/distance_to_top20_urban.pkl...\n",
      "Running probabilistic sampling...\n",
      "Saved 4000 sampled IDs to /home/libe2152/optimizedsampling/0_data/initial_samples/india_secc/convenience_sampling/urban_based/IDS_top20_urban_4000_points_probabilistic_4000_size_seed_9101.pkl\n"
     ]
    },
    {
     "name": "stderr",
     "output_type": "stream",
     "text": [
      "/home/libe2152/optimizedsampling/2_initial_sample/infrastructure_convenience_sampling.py:237: UserWarning: Legend does not support handles for PatchCollection instances.\n",
      "See: https://matplotlib.org/stable/tutorials/intermediate/legend_guide.html#implementing-a-custom-legend-handler\n",
      "  ax.legend(loc='lower left', fontsize=10, title='Legend', title_fontsize=11, frameon=True)\n",
      "/home/libe2152/optimizedsampling/2_initial_sample/infrastructure_convenience_sampling.py:237: UserWarning: No artists with labels found to put in legend.  Note that artists whose label start with an underscore are ignored when legend() is called with no argument.\n",
      "  ax.legend(loc='lower left', fontsize=10, title='Legend', title_fontsize=11, frameon=True)\n"
     ]
    },
    {
     "name": "stdout",
     "output_type": "stream",
     "text": [
      "Saved plot to /home/libe2152/optimizedsampling/0_data/initial_samples/india_secc/convenience_sampling/urban_based/plots/top20_urban_areas_4000_points_probabilistic_4000_size_seed_9101.png\n",
      "Initializing UrbanConvenienceSampler...\n",
      "Loading precomputed distances from /home/libe2152/optimizedsampling/0_data/distances/india_secc/distance_to_top20_urban.pkl...\n",
      "Running probabilistic sampling...\n",
      "Saved 4000 sampled IDs to /home/libe2152/optimizedsampling/0_data/initial_samples/india_secc/convenience_sampling/urban_based/IDS_top20_urban_4000_points_probabilistic_4000_size_seed_1213.pkl\n"
     ]
    },
    {
     "name": "stderr",
     "output_type": "stream",
     "text": [
      "/home/libe2152/optimizedsampling/2_initial_sample/infrastructure_convenience_sampling.py:237: UserWarning: Legend does not support handles for PatchCollection instances.\n",
      "See: https://matplotlib.org/stable/tutorials/intermediate/legend_guide.html#implementing-a-custom-legend-handler\n",
      "  ax.legend(loc='lower left', fontsize=10, title='Legend', title_fontsize=11, frameon=True)\n",
      "/home/libe2152/optimizedsampling/2_initial_sample/infrastructure_convenience_sampling.py:237: UserWarning: No artists with labels found to put in legend.  Note that artists whose label start with an underscore are ignored when legend() is called with no argument.\n",
      "  ax.legend(loc='lower left', fontsize=10, title='Legend', title_fontsize=11, frameon=True)\n"
     ]
    },
    {
     "name": "stdout",
     "output_type": "stream",
     "text": [
      "Saved plot to /home/libe2152/optimizedsampling/0_data/initial_samples/india_secc/convenience_sampling/urban_based/plots/top20_urban_areas_4000_points_probabilistic_4000_size_seed_1213.png\n",
      "Initializing UrbanConvenienceSampler...\n",
      "Loading precomputed distances from /home/libe2152/optimizedsampling/0_data/distances/india_secc/distance_to_top20_urban.pkl...\n",
      "Running probabilistic sampling...\n",
      "Saved 4000 sampled IDs to /home/libe2152/optimizedsampling/0_data/initial_samples/india_secc/convenience_sampling/urban_based/IDS_top20_urban_4000_points_probabilistic_4000_size_seed_1415.pkl\n"
     ]
    },
    {
     "name": "stderr",
     "output_type": "stream",
     "text": [
      "/home/libe2152/optimizedsampling/2_initial_sample/infrastructure_convenience_sampling.py:237: UserWarning: Legend does not support handles for PatchCollection instances.\n",
      "See: https://matplotlib.org/stable/tutorials/intermediate/legend_guide.html#implementing-a-custom-legend-handler\n",
      "  ax.legend(loc='lower left', fontsize=10, title='Legend', title_fontsize=11, frameon=True)\n",
      "/home/libe2152/optimizedsampling/2_initial_sample/infrastructure_convenience_sampling.py:237: UserWarning: No artists with labels found to put in legend.  Note that artists whose label start with an underscore are ignored when legend() is called with no argument.\n",
      "  ax.legend(loc='lower left', fontsize=10, title='Legend', title_fontsize=11, frameon=True)\n"
     ]
    },
    {
     "name": "stdout",
     "output_type": "stream",
     "text": [
      "Saved plot to /home/libe2152/optimizedsampling/0_data/initial_samples/india_secc/convenience_sampling/urban_based/plots/top20_urban_areas_4000_points_probabilistic_4000_size_seed_1415.png\n",
      "Initializing UrbanConvenienceSampler...\n",
      "Loading precomputed distances from /home/libe2152/optimizedsampling/0_data/distances/india_secc/distance_to_top20_urban.pkl...\n",
      "Running probabilistic sampling...\n",
      "Saved 5000 sampled IDs to /home/libe2152/optimizedsampling/0_data/initial_samples/india_secc/convenience_sampling/urban_based/IDS_top20_urban_5000_points_probabilistic_5000_size_seed_1.pkl\n"
     ]
    },
    {
     "name": "stderr",
     "output_type": "stream",
     "text": [
      "/home/libe2152/optimizedsampling/2_initial_sample/infrastructure_convenience_sampling.py:237: UserWarning: Legend does not support handles for PatchCollection instances.\n",
      "See: https://matplotlib.org/stable/tutorials/intermediate/legend_guide.html#implementing-a-custom-legend-handler\n",
      "  ax.legend(loc='lower left', fontsize=10, title='Legend', title_fontsize=11, frameon=True)\n",
      "/home/libe2152/optimizedsampling/2_initial_sample/infrastructure_convenience_sampling.py:237: UserWarning: No artists with labels found to put in legend.  Note that artists whose label start with an underscore are ignored when legend() is called with no argument.\n",
      "  ax.legend(loc='lower left', fontsize=10, title='Legend', title_fontsize=11, frameon=True)\n"
     ]
    },
    {
     "name": "stdout",
     "output_type": "stream",
     "text": [
      "Saved plot to /home/libe2152/optimizedsampling/0_data/initial_samples/india_secc/convenience_sampling/urban_based/plots/top20_urban_areas_5000_points_probabilistic_5000_size_seed_1.png\n",
      "Initializing UrbanConvenienceSampler...\n",
      "Loading precomputed distances from /home/libe2152/optimizedsampling/0_data/distances/india_secc/distance_to_top20_urban.pkl...\n",
      "Running probabilistic sampling...\n",
      "Saved 5000 sampled IDs to /home/libe2152/optimizedsampling/0_data/initial_samples/india_secc/convenience_sampling/urban_based/IDS_top20_urban_5000_points_probabilistic_5000_size_seed_42.pkl\n"
     ]
    },
    {
     "name": "stderr",
     "output_type": "stream",
     "text": [
      "/home/libe2152/optimizedsampling/2_initial_sample/infrastructure_convenience_sampling.py:237: UserWarning: Legend does not support handles for PatchCollection instances.\n",
      "See: https://matplotlib.org/stable/tutorials/intermediate/legend_guide.html#implementing-a-custom-legend-handler\n",
      "  ax.legend(loc='lower left', fontsize=10, title='Legend', title_fontsize=11, frameon=True)\n",
      "/home/libe2152/optimizedsampling/2_initial_sample/infrastructure_convenience_sampling.py:237: UserWarning: No artists with labels found to put in legend.  Note that artists whose label start with an underscore are ignored when legend() is called with no argument.\n",
      "  ax.legend(loc='lower left', fontsize=10, title='Legend', title_fontsize=11, frameon=True)\n"
     ]
    },
    {
     "name": "stdout",
     "output_type": "stream",
     "text": [
      "Saved plot to /home/libe2152/optimizedsampling/0_data/initial_samples/india_secc/convenience_sampling/urban_based/plots/top20_urban_areas_5000_points_probabilistic_5000_size_seed_42.png\n",
      "Initializing UrbanConvenienceSampler...\n",
      "Loading precomputed distances from /home/libe2152/optimizedsampling/0_data/distances/india_secc/distance_to_top20_urban.pkl...\n",
      "Running probabilistic sampling...\n",
      "Saved 5000 sampled IDs to /home/libe2152/optimizedsampling/0_data/initial_samples/india_secc/convenience_sampling/urban_based/IDS_top20_urban_5000_points_probabilistic_5000_size_seed_123.pkl\n"
     ]
    },
    {
     "name": "stderr",
     "output_type": "stream",
     "text": [
      "/home/libe2152/optimizedsampling/2_initial_sample/infrastructure_convenience_sampling.py:237: UserWarning: Legend does not support handles for PatchCollection instances.\n",
      "See: https://matplotlib.org/stable/tutorials/intermediate/legend_guide.html#implementing-a-custom-legend-handler\n",
      "  ax.legend(loc='lower left', fontsize=10, title='Legend', title_fontsize=11, frameon=True)\n",
      "/home/libe2152/optimizedsampling/2_initial_sample/infrastructure_convenience_sampling.py:237: UserWarning: No artists with labels found to put in legend.  Note that artists whose label start with an underscore are ignored when legend() is called with no argument.\n",
      "  ax.legend(loc='lower left', fontsize=10, title='Legend', title_fontsize=11, frameon=True)\n"
     ]
    },
    {
     "name": "stdout",
     "output_type": "stream",
     "text": [
      "Saved plot to /home/libe2152/optimizedsampling/0_data/initial_samples/india_secc/convenience_sampling/urban_based/plots/top20_urban_areas_5000_points_probabilistic_5000_size_seed_123.png\n",
      "Initializing UrbanConvenienceSampler...\n",
      "Loading precomputed distances from /home/libe2152/optimizedsampling/0_data/distances/india_secc/distance_to_top20_urban.pkl...\n",
      "Running probabilistic sampling...\n",
      "Saved 5000 sampled IDs to /home/libe2152/optimizedsampling/0_data/initial_samples/india_secc/convenience_sampling/urban_based/IDS_top20_urban_5000_points_probabilistic_5000_size_seed_456.pkl\n"
     ]
    },
    {
     "name": "stderr",
     "output_type": "stream",
     "text": [
      "/home/libe2152/optimizedsampling/2_initial_sample/infrastructure_convenience_sampling.py:237: UserWarning: Legend does not support handles for PatchCollection instances.\n",
      "See: https://matplotlib.org/stable/tutorials/intermediate/legend_guide.html#implementing-a-custom-legend-handler\n",
      "  ax.legend(loc='lower left', fontsize=10, title='Legend', title_fontsize=11, frameon=True)\n",
      "/home/libe2152/optimizedsampling/2_initial_sample/infrastructure_convenience_sampling.py:237: UserWarning: No artists with labels found to put in legend.  Note that artists whose label start with an underscore are ignored when legend() is called with no argument.\n",
      "  ax.legend(loc='lower left', fontsize=10, title='Legend', title_fontsize=11, frameon=True)\n"
     ]
    },
    {
     "name": "stdout",
     "output_type": "stream",
     "text": [
      "Saved plot to /home/libe2152/optimizedsampling/0_data/initial_samples/india_secc/convenience_sampling/urban_based/plots/top20_urban_areas_5000_points_probabilistic_5000_size_seed_456.png\n",
      "Initializing UrbanConvenienceSampler...\n",
      "Loading precomputed distances from /home/libe2152/optimizedsampling/0_data/distances/india_secc/distance_to_top20_urban.pkl...\n",
      "Running probabilistic sampling...\n",
      "Saved 5000 sampled IDs to /home/libe2152/optimizedsampling/0_data/initial_samples/india_secc/convenience_sampling/urban_based/IDS_top20_urban_5000_points_probabilistic_5000_size_seed_789.pkl\n"
     ]
    },
    {
     "name": "stderr",
     "output_type": "stream",
     "text": [
      "/home/libe2152/optimizedsampling/2_initial_sample/infrastructure_convenience_sampling.py:237: UserWarning: Legend does not support handles for PatchCollection instances.\n",
      "See: https://matplotlib.org/stable/tutorials/intermediate/legend_guide.html#implementing-a-custom-legend-handler\n",
      "  ax.legend(loc='lower left', fontsize=10, title='Legend', title_fontsize=11, frameon=True)\n",
      "/home/libe2152/optimizedsampling/2_initial_sample/infrastructure_convenience_sampling.py:237: UserWarning: No artists with labels found to put in legend.  Note that artists whose label start with an underscore are ignored when legend() is called with no argument.\n",
      "  ax.legend(loc='lower left', fontsize=10, title='Legend', title_fontsize=11, frameon=True)\n"
     ]
    },
    {
     "name": "stdout",
     "output_type": "stream",
     "text": [
      "Saved plot to /home/libe2152/optimizedsampling/0_data/initial_samples/india_secc/convenience_sampling/urban_based/plots/top20_urban_areas_5000_points_probabilistic_5000_size_seed_789.png\n",
      "Initializing UrbanConvenienceSampler...\n",
      "Loading precomputed distances from /home/libe2152/optimizedsampling/0_data/distances/india_secc/distance_to_top20_urban.pkl...\n",
      "Running probabilistic sampling...\n",
      "Saved 5000 sampled IDs to /home/libe2152/optimizedsampling/0_data/initial_samples/india_secc/convenience_sampling/urban_based/IDS_top20_urban_5000_points_probabilistic_5000_size_seed_1234.pkl\n"
     ]
    },
    {
     "name": "stderr",
     "output_type": "stream",
     "text": [
      "/home/libe2152/optimizedsampling/2_initial_sample/infrastructure_convenience_sampling.py:237: UserWarning: Legend does not support handles for PatchCollection instances.\n",
      "See: https://matplotlib.org/stable/tutorials/intermediate/legend_guide.html#implementing-a-custom-legend-handler\n",
      "  ax.legend(loc='lower left', fontsize=10, title='Legend', title_fontsize=11, frameon=True)\n",
      "/home/libe2152/optimizedsampling/2_initial_sample/infrastructure_convenience_sampling.py:237: UserWarning: No artists with labels found to put in legend.  Note that artists whose label start with an underscore are ignored when legend() is called with no argument.\n",
      "  ax.legend(loc='lower left', fontsize=10, title='Legend', title_fontsize=11, frameon=True)\n"
     ]
    },
    {
     "name": "stdout",
     "output_type": "stream",
     "text": [
      "Saved plot to /home/libe2152/optimizedsampling/0_data/initial_samples/india_secc/convenience_sampling/urban_based/plots/top20_urban_areas_5000_points_probabilistic_5000_size_seed_1234.png\n",
      "Initializing UrbanConvenienceSampler...\n",
      "Loading precomputed distances from /home/libe2152/optimizedsampling/0_data/distances/india_secc/distance_to_top20_urban.pkl...\n",
      "Running probabilistic sampling...\n",
      "Saved 5000 sampled IDs to /home/libe2152/optimizedsampling/0_data/initial_samples/india_secc/convenience_sampling/urban_based/IDS_top20_urban_5000_points_probabilistic_5000_size_seed_5678.pkl\n"
     ]
    },
    {
     "name": "stderr",
     "output_type": "stream",
     "text": [
      "/home/libe2152/optimizedsampling/2_initial_sample/infrastructure_convenience_sampling.py:237: UserWarning: Legend does not support handles for PatchCollection instances.\n",
      "See: https://matplotlib.org/stable/tutorials/intermediate/legend_guide.html#implementing-a-custom-legend-handler\n",
      "  ax.legend(loc='lower left', fontsize=10, title='Legend', title_fontsize=11, frameon=True)\n",
      "/home/libe2152/optimizedsampling/2_initial_sample/infrastructure_convenience_sampling.py:237: UserWarning: No artists with labels found to put in legend.  Note that artists whose label start with an underscore are ignored when legend() is called with no argument.\n",
      "  ax.legend(loc='lower left', fontsize=10, title='Legend', title_fontsize=11, frameon=True)\n"
     ]
    },
    {
     "name": "stdout",
     "output_type": "stream",
     "text": [
      "Saved plot to /home/libe2152/optimizedsampling/0_data/initial_samples/india_secc/convenience_sampling/urban_based/plots/top20_urban_areas_5000_points_probabilistic_5000_size_seed_5678.png\n",
      "Initializing UrbanConvenienceSampler...\n",
      "Loading precomputed distances from /home/libe2152/optimizedsampling/0_data/distances/india_secc/distance_to_top20_urban.pkl...\n",
      "Running probabilistic sampling...\n",
      "Saved 5000 sampled IDs to /home/libe2152/optimizedsampling/0_data/initial_samples/india_secc/convenience_sampling/urban_based/IDS_top20_urban_5000_points_probabilistic_5000_size_seed_9101.pkl\n"
     ]
    },
    {
     "name": "stderr",
     "output_type": "stream",
     "text": [
      "/home/libe2152/optimizedsampling/2_initial_sample/infrastructure_convenience_sampling.py:237: UserWarning: Legend does not support handles for PatchCollection instances.\n",
      "See: https://matplotlib.org/stable/tutorials/intermediate/legend_guide.html#implementing-a-custom-legend-handler\n",
      "  ax.legend(loc='lower left', fontsize=10, title='Legend', title_fontsize=11, frameon=True)\n",
      "/home/libe2152/optimizedsampling/2_initial_sample/infrastructure_convenience_sampling.py:237: UserWarning: No artists with labels found to put in legend.  Note that artists whose label start with an underscore are ignored when legend() is called with no argument.\n",
      "  ax.legend(loc='lower left', fontsize=10, title='Legend', title_fontsize=11, frameon=True)\n"
     ]
    },
    {
     "name": "stdout",
     "output_type": "stream",
     "text": [
      "Saved plot to /home/libe2152/optimizedsampling/0_data/initial_samples/india_secc/convenience_sampling/urban_based/plots/top20_urban_areas_5000_points_probabilistic_5000_size_seed_9101.png\n",
      "Initializing UrbanConvenienceSampler...\n",
      "Loading precomputed distances from /home/libe2152/optimizedsampling/0_data/distances/india_secc/distance_to_top20_urban.pkl...\n",
      "Running probabilistic sampling...\n",
      "Saved 5000 sampled IDs to /home/libe2152/optimizedsampling/0_data/initial_samples/india_secc/convenience_sampling/urban_based/IDS_top20_urban_5000_points_probabilistic_5000_size_seed_1213.pkl\n"
     ]
    },
    {
     "name": "stderr",
     "output_type": "stream",
     "text": [
      "/home/libe2152/optimizedsampling/2_initial_sample/infrastructure_convenience_sampling.py:237: UserWarning: Legend does not support handles for PatchCollection instances.\n",
      "See: https://matplotlib.org/stable/tutorials/intermediate/legend_guide.html#implementing-a-custom-legend-handler\n",
      "  ax.legend(loc='lower left', fontsize=10, title='Legend', title_fontsize=11, frameon=True)\n",
      "/home/libe2152/optimizedsampling/2_initial_sample/infrastructure_convenience_sampling.py:237: UserWarning: No artists with labels found to put in legend.  Note that artists whose label start with an underscore are ignored when legend() is called with no argument.\n",
      "  ax.legend(loc='lower left', fontsize=10, title='Legend', title_fontsize=11, frameon=True)\n"
     ]
    },
    {
     "name": "stdout",
     "output_type": "stream",
     "text": [
      "Saved plot to /home/libe2152/optimizedsampling/0_data/initial_samples/india_secc/convenience_sampling/urban_based/plots/top20_urban_areas_5000_points_probabilistic_5000_size_seed_1213.png\n",
      "Initializing UrbanConvenienceSampler...\n",
      "Loading precomputed distances from /home/libe2152/optimizedsampling/0_data/distances/india_secc/distance_to_top20_urban.pkl...\n",
      "Running probabilistic sampling...\n",
      "Saved 5000 sampled IDs to /home/libe2152/optimizedsampling/0_data/initial_samples/india_secc/convenience_sampling/urban_based/IDS_top20_urban_5000_points_probabilistic_5000_size_seed_1415.pkl\n"
     ]
    },
    {
     "name": "stderr",
     "output_type": "stream",
     "text": [
      "/home/libe2152/optimizedsampling/2_initial_sample/infrastructure_convenience_sampling.py:237: UserWarning: Legend does not support handles for PatchCollection instances.\n",
      "See: https://matplotlib.org/stable/tutorials/intermediate/legend_guide.html#implementing-a-custom-legend-handler\n",
      "  ax.legend(loc='lower left', fontsize=10, title='Legend', title_fontsize=11, frameon=True)\n",
      "/home/libe2152/optimizedsampling/2_initial_sample/infrastructure_convenience_sampling.py:237: UserWarning: No artists with labels found to put in legend.  Note that artists whose label start with an underscore are ignored when legend() is called with no argument.\n",
      "  ax.legend(loc='lower left', fontsize=10, title='Legend', title_fontsize=11, frameon=True)\n"
     ]
    },
    {
     "name": "stdout",
     "output_type": "stream",
     "text": [
      "Saved plot to /home/libe2152/optimizedsampling/0_data/initial_samples/india_secc/convenience_sampling/urban_based/plots/top20_urban_areas_5000_points_probabilistic_5000_size_seed_1415.png\n",
      "Initializing UrbanConvenienceSampler...\n",
      "Computing distances using spatial index...\n",
      "Saved distances for 50652 points to /home/libe2152/optimizedsampling/0_data/distances/india_secc/distance_to_top50_urban.pkl\n",
      "Running probabilistic sampling...\n",
      "Saved 1000 sampled IDs to /home/libe2152/optimizedsampling/0_data/initial_samples/india_secc/convenience_sampling/urban_based/IDS_top50_urban_1000_points_probabilistic_1000_size_seed_1.pkl\n"
     ]
    },
    {
     "name": "stderr",
     "output_type": "stream",
     "text": [
      "/home/libe2152/optimizedsampling/2_initial_sample/infrastructure_convenience_sampling.py:237: UserWarning: Legend does not support handles for PatchCollection instances.\n",
      "See: https://matplotlib.org/stable/tutorials/intermediate/legend_guide.html#implementing-a-custom-legend-handler\n",
      "  ax.legend(loc='lower left', fontsize=10, title='Legend', title_fontsize=11, frameon=True)\n",
      "/home/libe2152/optimizedsampling/2_initial_sample/infrastructure_convenience_sampling.py:237: UserWarning: No artists with labels found to put in legend.  Note that artists whose label start with an underscore are ignored when legend() is called with no argument.\n",
      "  ax.legend(loc='lower left', fontsize=10, title='Legend', title_fontsize=11, frameon=True)\n"
     ]
    },
    {
     "name": "stdout",
     "output_type": "stream",
     "text": [
      "Saved plot to /home/libe2152/optimizedsampling/0_data/initial_samples/india_secc/convenience_sampling/urban_based/plots/top50_urban_areas_1000_points_probabilistic_1000_size_seed_1.png\n",
      "Initializing UrbanConvenienceSampler...\n",
      "Loading precomputed distances from /home/libe2152/optimizedsampling/0_data/distances/india_secc/distance_to_top50_urban.pkl...\n",
      "Running probabilistic sampling...\n",
      "Saved 1000 sampled IDs to /home/libe2152/optimizedsampling/0_data/initial_samples/india_secc/convenience_sampling/urban_based/IDS_top50_urban_1000_points_probabilistic_1000_size_seed_42.pkl\n"
     ]
    },
    {
     "name": "stderr",
     "output_type": "stream",
     "text": [
      "/home/libe2152/optimizedsampling/2_initial_sample/infrastructure_convenience_sampling.py:237: UserWarning: Legend does not support handles for PatchCollection instances.\n",
      "See: https://matplotlib.org/stable/tutorials/intermediate/legend_guide.html#implementing-a-custom-legend-handler\n",
      "  ax.legend(loc='lower left', fontsize=10, title='Legend', title_fontsize=11, frameon=True)\n",
      "/home/libe2152/optimizedsampling/2_initial_sample/infrastructure_convenience_sampling.py:237: UserWarning: No artists with labels found to put in legend.  Note that artists whose label start with an underscore are ignored when legend() is called with no argument.\n",
      "  ax.legend(loc='lower left', fontsize=10, title='Legend', title_fontsize=11, frameon=True)\n"
     ]
    },
    {
     "name": "stdout",
     "output_type": "stream",
     "text": [
      "Saved plot to /home/libe2152/optimizedsampling/0_data/initial_samples/india_secc/convenience_sampling/urban_based/plots/top50_urban_areas_1000_points_probabilistic_1000_size_seed_42.png\n",
      "Initializing UrbanConvenienceSampler...\n",
      "Loading precomputed distances from /home/libe2152/optimizedsampling/0_data/distances/india_secc/distance_to_top50_urban.pkl...\n",
      "Running probabilistic sampling...\n",
      "Saved 1000 sampled IDs to /home/libe2152/optimizedsampling/0_data/initial_samples/india_secc/convenience_sampling/urban_based/IDS_top50_urban_1000_points_probabilistic_1000_size_seed_123.pkl\n"
     ]
    },
    {
     "name": "stderr",
     "output_type": "stream",
     "text": [
      "/home/libe2152/optimizedsampling/2_initial_sample/infrastructure_convenience_sampling.py:237: UserWarning: Legend does not support handles for PatchCollection instances.\n",
      "See: https://matplotlib.org/stable/tutorials/intermediate/legend_guide.html#implementing-a-custom-legend-handler\n",
      "  ax.legend(loc='lower left', fontsize=10, title='Legend', title_fontsize=11, frameon=True)\n",
      "/home/libe2152/optimizedsampling/2_initial_sample/infrastructure_convenience_sampling.py:237: UserWarning: No artists with labels found to put in legend.  Note that artists whose label start with an underscore are ignored when legend() is called with no argument.\n",
      "  ax.legend(loc='lower left', fontsize=10, title='Legend', title_fontsize=11, frameon=True)\n"
     ]
    },
    {
     "name": "stdout",
     "output_type": "stream",
     "text": [
      "Saved plot to /home/libe2152/optimizedsampling/0_data/initial_samples/india_secc/convenience_sampling/urban_based/plots/top50_urban_areas_1000_points_probabilistic_1000_size_seed_123.png\n",
      "Initializing UrbanConvenienceSampler...\n",
      "Loading precomputed distances from /home/libe2152/optimizedsampling/0_data/distances/india_secc/distance_to_top50_urban.pkl...\n",
      "Running probabilistic sampling...\n",
      "Saved 1000 sampled IDs to /home/libe2152/optimizedsampling/0_data/initial_samples/india_secc/convenience_sampling/urban_based/IDS_top50_urban_1000_points_probabilistic_1000_size_seed_456.pkl\n"
     ]
    },
    {
     "name": "stderr",
     "output_type": "stream",
     "text": [
      "/home/libe2152/optimizedsampling/2_initial_sample/infrastructure_convenience_sampling.py:237: UserWarning: Legend does not support handles for PatchCollection instances.\n",
      "See: https://matplotlib.org/stable/tutorials/intermediate/legend_guide.html#implementing-a-custom-legend-handler\n",
      "  ax.legend(loc='lower left', fontsize=10, title='Legend', title_fontsize=11, frameon=True)\n",
      "/home/libe2152/optimizedsampling/2_initial_sample/infrastructure_convenience_sampling.py:237: UserWarning: No artists with labels found to put in legend.  Note that artists whose label start with an underscore are ignored when legend() is called with no argument.\n",
      "  ax.legend(loc='lower left', fontsize=10, title='Legend', title_fontsize=11, frameon=True)\n"
     ]
    },
    {
     "name": "stdout",
     "output_type": "stream",
     "text": [
      "Saved plot to /home/libe2152/optimizedsampling/0_data/initial_samples/india_secc/convenience_sampling/urban_based/plots/top50_urban_areas_1000_points_probabilistic_1000_size_seed_456.png\n",
      "Initializing UrbanConvenienceSampler...\n",
      "Loading precomputed distances from /home/libe2152/optimizedsampling/0_data/distances/india_secc/distance_to_top50_urban.pkl...\n",
      "Running probabilistic sampling...\n",
      "Saved 1000 sampled IDs to /home/libe2152/optimizedsampling/0_data/initial_samples/india_secc/convenience_sampling/urban_based/IDS_top50_urban_1000_points_probabilistic_1000_size_seed_789.pkl\n"
     ]
    },
    {
     "name": "stderr",
     "output_type": "stream",
     "text": [
      "/home/libe2152/optimizedsampling/2_initial_sample/infrastructure_convenience_sampling.py:237: UserWarning: Legend does not support handles for PatchCollection instances.\n",
      "See: https://matplotlib.org/stable/tutorials/intermediate/legend_guide.html#implementing-a-custom-legend-handler\n",
      "  ax.legend(loc='lower left', fontsize=10, title='Legend', title_fontsize=11, frameon=True)\n",
      "/home/libe2152/optimizedsampling/2_initial_sample/infrastructure_convenience_sampling.py:237: UserWarning: No artists with labels found to put in legend.  Note that artists whose label start with an underscore are ignored when legend() is called with no argument.\n",
      "  ax.legend(loc='lower left', fontsize=10, title='Legend', title_fontsize=11, frameon=True)\n"
     ]
    },
    {
     "name": "stdout",
     "output_type": "stream",
     "text": [
      "Saved plot to /home/libe2152/optimizedsampling/0_data/initial_samples/india_secc/convenience_sampling/urban_based/plots/top50_urban_areas_1000_points_probabilistic_1000_size_seed_789.png\n",
      "Initializing UrbanConvenienceSampler...\n",
      "Loading precomputed distances from /home/libe2152/optimizedsampling/0_data/distances/india_secc/distance_to_top50_urban.pkl...\n",
      "Running probabilistic sampling...\n",
      "Saved 1000 sampled IDs to /home/libe2152/optimizedsampling/0_data/initial_samples/india_secc/convenience_sampling/urban_based/IDS_top50_urban_1000_points_probabilistic_1000_size_seed_1234.pkl\n"
     ]
    },
    {
     "name": "stderr",
     "output_type": "stream",
     "text": [
      "/home/libe2152/optimizedsampling/2_initial_sample/infrastructure_convenience_sampling.py:237: UserWarning: Legend does not support handles for PatchCollection instances.\n",
      "See: https://matplotlib.org/stable/tutorials/intermediate/legend_guide.html#implementing-a-custom-legend-handler\n",
      "  ax.legend(loc='lower left', fontsize=10, title='Legend', title_fontsize=11, frameon=True)\n",
      "/home/libe2152/optimizedsampling/2_initial_sample/infrastructure_convenience_sampling.py:237: UserWarning: No artists with labels found to put in legend.  Note that artists whose label start with an underscore are ignored when legend() is called with no argument.\n",
      "  ax.legend(loc='lower left', fontsize=10, title='Legend', title_fontsize=11, frameon=True)\n"
     ]
    },
    {
     "name": "stdout",
     "output_type": "stream",
     "text": [
      "Saved plot to /home/libe2152/optimizedsampling/0_data/initial_samples/india_secc/convenience_sampling/urban_based/plots/top50_urban_areas_1000_points_probabilistic_1000_size_seed_1234.png\n",
      "Initializing UrbanConvenienceSampler...\n",
      "Loading precomputed distances from /home/libe2152/optimizedsampling/0_data/distances/india_secc/distance_to_top50_urban.pkl...\n",
      "Running probabilistic sampling...\n",
      "Saved 1000 sampled IDs to /home/libe2152/optimizedsampling/0_data/initial_samples/india_secc/convenience_sampling/urban_based/IDS_top50_urban_1000_points_probabilistic_1000_size_seed_5678.pkl\n"
     ]
    },
    {
     "name": "stderr",
     "output_type": "stream",
     "text": [
      "/home/libe2152/optimizedsampling/2_initial_sample/infrastructure_convenience_sampling.py:237: UserWarning: Legend does not support handles for PatchCollection instances.\n",
      "See: https://matplotlib.org/stable/tutorials/intermediate/legend_guide.html#implementing-a-custom-legend-handler\n",
      "  ax.legend(loc='lower left', fontsize=10, title='Legend', title_fontsize=11, frameon=True)\n",
      "/home/libe2152/optimizedsampling/2_initial_sample/infrastructure_convenience_sampling.py:237: UserWarning: No artists with labels found to put in legend.  Note that artists whose label start with an underscore are ignored when legend() is called with no argument.\n",
      "  ax.legend(loc='lower left', fontsize=10, title='Legend', title_fontsize=11, frameon=True)\n"
     ]
    },
    {
     "name": "stdout",
     "output_type": "stream",
     "text": [
      "Saved plot to /home/libe2152/optimizedsampling/0_data/initial_samples/india_secc/convenience_sampling/urban_based/plots/top50_urban_areas_1000_points_probabilistic_1000_size_seed_5678.png\n",
      "Initializing UrbanConvenienceSampler...\n",
      "Loading precomputed distances from /home/libe2152/optimizedsampling/0_data/distances/india_secc/distance_to_top50_urban.pkl...\n",
      "Running probabilistic sampling...\n",
      "Saved 1000 sampled IDs to /home/libe2152/optimizedsampling/0_data/initial_samples/india_secc/convenience_sampling/urban_based/IDS_top50_urban_1000_points_probabilistic_1000_size_seed_9101.pkl\n"
     ]
    },
    {
     "name": "stderr",
     "output_type": "stream",
     "text": [
      "/home/libe2152/optimizedsampling/2_initial_sample/infrastructure_convenience_sampling.py:237: UserWarning: Legend does not support handles for PatchCollection instances.\n",
      "See: https://matplotlib.org/stable/tutorials/intermediate/legend_guide.html#implementing-a-custom-legend-handler\n",
      "  ax.legend(loc='lower left', fontsize=10, title='Legend', title_fontsize=11, frameon=True)\n",
      "/home/libe2152/optimizedsampling/2_initial_sample/infrastructure_convenience_sampling.py:237: UserWarning: No artists with labels found to put in legend.  Note that artists whose label start with an underscore are ignored when legend() is called with no argument.\n",
      "  ax.legend(loc='lower left', fontsize=10, title='Legend', title_fontsize=11, frameon=True)\n"
     ]
    },
    {
     "name": "stdout",
     "output_type": "stream",
     "text": [
      "Saved plot to /home/libe2152/optimizedsampling/0_data/initial_samples/india_secc/convenience_sampling/urban_based/plots/top50_urban_areas_1000_points_probabilistic_1000_size_seed_9101.png\n",
      "Initializing UrbanConvenienceSampler...\n",
      "Loading precomputed distances from /home/libe2152/optimizedsampling/0_data/distances/india_secc/distance_to_top50_urban.pkl...\n",
      "Running probabilistic sampling...\n",
      "Saved 1000 sampled IDs to /home/libe2152/optimizedsampling/0_data/initial_samples/india_secc/convenience_sampling/urban_based/IDS_top50_urban_1000_points_probabilistic_1000_size_seed_1213.pkl\n"
     ]
    },
    {
     "name": "stderr",
     "output_type": "stream",
     "text": [
      "/home/libe2152/optimizedsampling/2_initial_sample/infrastructure_convenience_sampling.py:237: UserWarning: Legend does not support handles for PatchCollection instances.\n",
      "See: https://matplotlib.org/stable/tutorials/intermediate/legend_guide.html#implementing-a-custom-legend-handler\n",
      "  ax.legend(loc='lower left', fontsize=10, title='Legend', title_fontsize=11, frameon=True)\n",
      "/home/libe2152/optimizedsampling/2_initial_sample/infrastructure_convenience_sampling.py:237: UserWarning: No artists with labels found to put in legend.  Note that artists whose label start with an underscore are ignored when legend() is called with no argument.\n",
      "  ax.legend(loc='lower left', fontsize=10, title='Legend', title_fontsize=11, frameon=True)\n"
     ]
    },
    {
     "name": "stdout",
     "output_type": "stream",
     "text": [
      "Saved plot to /home/libe2152/optimizedsampling/0_data/initial_samples/india_secc/convenience_sampling/urban_based/plots/top50_urban_areas_1000_points_probabilistic_1000_size_seed_1213.png\n",
      "Initializing UrbanConvenienceSampler...\n",
      "Loading precomputed distances from /home/libe2152/optimizedsampling/0_data/distances/india_secc/distance_to_top50_urban.pkl...\n",
      "Running probabilistic sampling...\n",
      "Saved 1000 sampled IDs to /home/libe2152/optimizedsampling/0_data/initial_samples/india_secc/convenience_sampling/urban_based/IDS_top50_urban_1000_points_probabilistic_1000_size_seed_1415.pkl\n"
     ]
    },
    {
     "name": "stderr",
     "output_type": "stream",
     "text": [
      "/home/libe2152/optimizedsampling/2_initial_sample/infrastructure_convenience_sampling.py:237: UserWarning: Legend does not support handles for PatchCollection instances.\n",
      "See: https://matplotlib.org/stable/tutorials/intermediate/legend_guide.html#implementing-a-custom-legend-handler\n",
      "  ax.legend(loc='lower left', fontsize=10, title='Legend', title_fontsize=11, frameon=True)\n",
      "/home/libe2152/optimizedsampling/2_initial_sample/infrastructure_convenience_sampling.py:237: UserWarning: No artists with labels found to put in legend.  Note that artists whose label start with an underscore are ignored when legend() is called with no argument.\n",
      "  ax.legend(loc='lower left', fontsize=10, title='Legend', title_fontsize=11, frameon=True)\n"
     ]
    },
    {
     "name": "stdout",
     "output_type": "stream",
     "text": [
      "Saved plot to /home/libe2152/optimizedsampling/0_data/initial_samples/india_secc/convenience_sampling/urban_based/plots/top50_urban_areas_1000_points_probabilistic_1000_size_seed_1415.png\n",
      "Initializing UrbanConvenienceSampler...\n",
      "Loading precomputed distances from /home/libe2152/optimizedsampling/0_data/distances/india_secc/distance_to_top50_urban.pkl...\n",
      "Running probabilistic sampling...\n",
      "Saved 2000 sampled IDs to /home/libe2152/optimizedsampling/0_data/initial_samples/india_secc/convenience_sampling/urban_based/IDS_top50_urban_2000_points_probabilistic_2000_size_seed_1.pkl\n"
     ]
    },
    {
     "name": "stderr",
     "output_type": "stream",
     "text": [
      "/home/libe2152/optimizedsampling/2_initial_sample/infrastructure_convenience_sampling.py:237: UserWarning: Legend does not support handles for PatchCollection instances.\n",
      "See: https://matplotlib.org/stable/tutorials/intermediate/legend_guide.html#implementing-a-custom-legend-handler\n",
      "  ax.legend(loc='lower left', fontsize=10, title='Legend', title_fontsize=11, frameon=True)\n",
      "/home/libe2152/optimizedsampling/2_initial_sample/infrastructure_convenience_sampling.py:237: UserWarning: No artists with labels found to put in legend.  Note that artists whose label start with an underscore are ignored when legend() is called with no argument.\n",
      "  ax.legend(loc='lower left', fontsize=10, title='Legend', title_fontsize=11, frameon=True)\n"
     ]
    },
    {
     "name": "stdout",
     "output_type": "stream",
     "text": [
      "Saved plot to /home/libe2152/optimizedsampling/0_data/initial_samples/india_secc/convenience_sampling/urban_based/plots/top50_urban_areas_2000_points_probabilistic_2000_size_seed_1.png\n",
      "Initializing UrbanConvenienceSampler...\n",
      "Loading precomputed distances from /home/libe2152/optimizedsampling/0_data/distances/india_secc/distance_to_top50_urban.pkl...\n",
      "Running probabilistic sampling...\n",
      "Saved 2000 sampled IDs to /home/libe2152/optimizedsampling/0_data/initial_samples/india_secc/convenience_sampling/urban_based/IDS_top50_urban_2000_points_probabilistic_2000_size_seed_42.pkl\n"
     ]
    },
    {
     "name": "stderr",
     "output_type": "stream",
     "text": [
      "/home/libe2152/optimizedsampling/2_initial_sample/infrastructure_convenience_sampling.py:237: UserWarning: Legend does not support handles for PatchCollection instances.\n",
      "See: https://matplotlib.org/stable/tutorials/intermediate/legend_guide.html#implementing-a-custom-legend-handler\n",
      "  ax.legend(loc='lower left', fontsize=10, title='Legend', title_fontsize=11, frameon=True)\n",
      "/home/libe2152/optimizedsampling/2_initial_sample/infrastructure_convenience_sampling.py:237: UserWarning: No artists with labels found to put in legend.  Note that artists whose label start with an underscore are ignored when legend() is called with no argument.\n",
      "  ax.legend(loc='lower left', fontsize=10, title='Legend', title_fontsize=11, frameon=True)\n"
     ]
    },
    {
     "name": "stdout",
     "output_type": "stream",
     "text": [
      "Saved plot to /home/libe2152/optimizedsampling/0_data/initial_samples/india_secc/convenience_sampling/urban_based/plots/top50_urban_areas_2000_points_probabilistic_2000_size_seed_42.png\n",
      "Initializing UrbanConvenienceSampler...\n",
      "Loading precomputed distances from /home/libe2152/optimizedsampling/0_data/distances/india_secc/distance_to_top50_urban.pkl...\n",
      "Running probabilistic sampling...\n",
      "Saved 2000 sampled IDs to /home/libe2152/optimizedsampling/0_data/initial_samples/india_secc/convenience_sampling/urban_based/IDS_top50_urban_2000_points_probabilistic_2000_size_seed_123.pkl\n"
     ]
    },
    {
     "name": "stderr",
     "output_type": "stream",
     "text": [
      "/home/libe2152/optimizedsampling/2_initial_sample/infrastructure_convenience_sampling.py:237: UserWarning: Legend does not support handles for PatchCollection instances.\n",
      "See: https://matplotlib.org/stable/tutorials/intermediate/legend_guide.html#implementing-a-custom-legend-handler\n",
      "  ax.legend(loc='lower left', fontsize=10, title='Legend', title_fontsize=11, frameon=True)\n",
      "/home/libe2152/optimizedsampling/2_initial_sample/infrastructure_convenience_sampling.py:237: UserWarning: No artists with labels found to put in legend.  Note that artists whose label start with an underscore are ignored when legend() is called with no argument.\n",
      "  ax.legend(loc='lower left', fontsize=10, title='Legend', title_fontsize=11, frameon=True)\n"
     ]
    },
    {
     "name": "stdout",
     "output_type": "stream",
     "text": [
      "Saved plot to /home/libe2152/optimizedsampling/0_data/initial_samples/india_secc/convenience_sampling/urban_based/plots/top50_urban_areas_2000_points_probabilistic_2000_size_seed_123.png\n",
      "Initializing UrbanConvenienceSampler...\n",
      "Loading precomputed distances from /home/libe2152/optimizedsampling/0_data/distances/india_secc/distance_to_top50_urban.pkl...\n",
      "Running probabilistic sampling...\n",
      "Saved 2000 sampled IDs to /home/libe2152/optimizedsampling/0_data/initial_samples/india_secc/convenience_sampling/urban_based/IDS_top50_urban_2000_points_probabilistic_2000_size_seed_456.pkl\n"
     ]
    },
    {
     "name": "stderr",
     "output_type": "stream",
     "text": [
      "/home/libe2152/optimizedsampling/2_initial_sample/infrastructure_convenience_sampling.py:237: UserWarning: Legend does not support handles for PatchCollection instances.\n",
      "See: https://matplotlib.org/stable/tutorials/intermediate/legend_guide.html#implementing-a-custom-legend-handler\n",
      "  ax.legend(loc='lower left', fontsize=10, title='Legend', title_fontsize=11, frameon=True)\n",
      "/home/libe2152/optimizedsampling/2_initial_sample/infrastructure_convenience_sampling.py:237: UserWarning: No artists with labels found to put in legend.  Note that artists whose label start with an underscore are ignored when legend() is called with no argument.\n",
      "  ax.legend(loc='lower left', fontsize=10, title='Legend', title_fontsize=11, frameon=True)\n"
     ]
    },
    {
     "name": "stdout",
     "output_type": "stream",
     "text": [
      "Saved plot to /home/libe2152/optimizedsampling/0_data/initial_samples/india_secc/convenience_sampling/urban_based/plots/top50_urban_areas_2000_points_probabilistic_2000_size_seed_456.png\n",
      "Initializing UrbanConvenienceSampler...\n",
      "Loading precomputed distances from /home/libe2152/optimizedsampling/0_data/distances/india_secc/distance_to_top50_urban.pkl...\n",
      "Running probabilistic sampling...\n",
      "Saved 2000 sampled IDs to /home/libe2152/optimizedsampling/0_data/initial_samples/india_secc/convenience_sampling/urban_based/IDS_top50_urban_2000_points_probabilistic_2000_size_seed_789.pkl\n"
     ]
    },
    {
     "name": "stderr",
     "output_type": "stream",
     "text": [
      "/home/libe2152/optimizedsampling/2_initial_sample/infrastructure_convenience_sampling.py:237: UserWarning: Legend does not support handles for PatchCollection instances.\n",
      "See: https://matplotlib.org/stable/tutorials/intermediate/legend_guide.html#implementing-a-custom-legend-handler\n",
      "  ax.legend(loc='lower left', fontsize=10, title='Legend', title_fontsize=11, frameon=True)\n",
      "/home/libe2152/optimizedsampling/2_initial_sample/infrastructure_convenience_sampling.py:237: UserWarning: No artists with labels found to put in legend.  Note that artists whose label start with an underscore are ignored when legend() is called with no argument.\n",
      "  ax.legend(loc='lower left', fontsize=10, title='Legend', title_fontsize=11, frameon=True)\n"
     ]
    },
    {
     "name": "stdout",
     "output_type": "stream",
     "text": [
      "Saved plot to /home/libe2152/optimizedsampling/0_data/initial_samples/india_secc/convenience_sampling/urban_based/plots/top50_urban_areas_2000_points_probabilistic_2000_size_seed_789.png\n",
      "Initializing UrbanConvenienceSampler...\n",
      "Loading precomputed distances from /home/libe2152/optimizedsampling/0_data/distances/india_secc/distance_to_top50_urban.pkl...\n",
      "Running probabilistic sampling...\n",
      "Saved 2000 sampled IDs to /home/libe2152/optimizedsampling/0_data/initial_samples/india_secc/convenience_sampling/urban_based/IDS_top50_urban_2000_points_probabilistic_2000_size_seed_1234.pkl\n"
     ]
    },
    {
     "name": "stderr",
     "output_type": "stream",
     "text": [
      "/home/libe2152/optimizedsampling/2_initial_sample/infrastructure_convenience_sampling.py:237: UserWarning: Legend does not support handles for PatchCollection instances.\n",
      "See: https://matplotlib.org/stable/tutorials/intermediate/legend_guide.html#implementing-a-custom-legend-handler\n",
      "  ax.legend(loc='lower left', fontsize=10, title='Legend', title_fontsize=11, frameon=True)\n",
      "/home/libe2152/optimizedsampling/2_initial_sample/infrastructure_convenience_sampling.py:237: UserWarning: No artists with labels found to put in legend.  Note that artists whose label start with an underscore are ignored when legend() is called with no argument.\n",
      "  ax.legend(loc='lower left', fontsize=10, title='Legend', title_fontsize=11, frameon=True)\n"
     ]
    },
    {
     "name": "stdout",
     "output_type": "stream",
     "text": [
      "Saved plot to /home/libe2152/optimizedsampling/0_data/initial_samples/india_secc/convenience_sampling/urban_based/plots/top50_urban_areas_2000_points_probabilistic_2000_size_seed_1234.png\n",
      "Initializing UrbanConvenienceSampler...\n",
      "Loading precomputed distances from /home/libe2152/optimizedsampling/0_data/distances/india_secc/distance_to_top50_urban.pkl...\n",
      "Running probabilistic sampling...\n",
      "Saved 2000 sampled IDs to /home/libe2152/optimizedsampling/0_data/initial_samples/india_secc/convenience_sampling/urban_based/IDS_top50_urban_2000_points_probabilistic_2000_size_seed_5678.pkl\n"
     ]
    },
    {
     "name": "stderr",
     "output_type": "stream",
     "text": [
      "/home/libe2152/optimizedsampling/2_initial_sample/infrastructure_convenience_sampling.py:237: UserWarning: Legend does not support handles for PatchCollection instances.\n",
      "See: https://matplotlib.org/stable/tutorials/intermediate/legend_guide.html#implementing-a-custom-legend-handler\n",
      "  ax.legend(loc='lower left', fontsize=10, title='Legend', title_fontsize=11, frameon=True)\n",
      "/home/libe2152/optimizedsampling/2_initial_sample/infrastructure_convenience_sampling.py:237: UserWarning: No artists with labels found to put in legend.  Note that artists whose label start with an underscore are ignored when legend() is called with no argument.\n",
      "  ax.legend(loc='lower left', fontsize=10, title='Legend', title_fontsize=11, frameon=True)\n"
     ]
    },
    {
     "name": "stdout",
     "output_type": "stream",
     "text": [
      "Saved plot to /home/libe2152/optimizedsampling/0_data/initial_samples/india_secc/convenience_sampling/urban_based/plots/top50_urban_areas_2000_points_probabilistic_2000_size_seed_5678.png\n",
      "Initializing UrbanConvenienceSampler...\n",
      "Loading precomputed distances from /home/libe2152/optimizedsampling/0_data/distances/india_secc/distance_to_top50_urban.pkl...\n",
      "Running probabilistic sampling...\n",
      "Saved 2000 sampled IDs to /home/libe2152/optimizedsampling/0_data/initial_samples/india_secc/convenience_sampling/urban_based/IDS_top50_urban_2000_points_probabilistic_2000_size_seed_9101.pkl\n"
     ]
    },
    {
     "name": "stderr",
     "output_type": "stream",
     "text": [
      "/home/libe2152/optimizedsampling/2_initial_sample/infrastructure_convenience_sampling.py:237: UserWarning: Legend does not support handles for PatchCollection instances.\n",
      "See: https://matplotlib.org/stable/tutorials/intermediate/legend_guide.html#implementing-a-custom-legend-handler\n",
      "  ax.legend(loc='lower left', fontsize=10, title='Legend', title_fontsize=11, frameon=True)\n",
      "/home/libe2152/optimizedsampling/2_initial_sample/infrastructure_convenience_sampling.py:237: UserWarning: No artists with labels found to put in legend.  Note that artists whose label start with an underscore are ignored when legend() is called with no argument.\n",
      "  ax.legend(loc='lower left', fontsize=10, title='Legend', title_fontsize=11, frameon=True)\n"
     ]
    },
    {
     "name": "stdout",
     "output_type": "stream",
     "text": [
      "Saved plot to /home/libe2152/optimizedsampling/0_data/initial_samples/india_secc/convenience_sampling/urban_based/plots/top50_urban_areas_2000_points_probabilistic_2000_size_seed_9101.png\n",
      "Initializing UrbanConvenienceSampler...\n",
      "Loading precomputed distances from /home/libe2152/optimizedsampling/0_data/distances/india_secc/distance_to_top50_urban.pkl...\n",
      "Running probabilistic sampling...\n",
      "Saved 2000 sampled IDs to /home/libe2152/optimizedsampling/0_data/initial_samples/india_secc/convenience_sampling/urban_based/IDS_top50_urban_2000_points_probabilistic_2000_size_seed_1213.pkl\n"
     ]
    },
    {
     "name": "stderr",
     "output_type": "stream",
     "text": [
      "/home/libe2152/optimizedsampling/2_initial_sample/infrastructure_convenience_sampling.py:237: UserWarning: Legend does not support handles for PatchCollection instances.\n",
      "See: https://matplotlib.org/stable/tutorials/intermediate/legend_guide.html#implementing-a-custom-legend-handler\n",
      "  ax.legend(loc='lower left', fontsize=10, title='Legend', title_fontsize=11, frameon=True)\n",
      "/home/libe2152/optimizedsampling/2_initial_sample/infrastructure_convenience_sampling.py:237: UserWarning: No artists with labels found to put in legend.  Note that artists whose label start with an underscore are ignored when legend() is called with no argument.\n",
      "  ax.legend(loc='lower left', fontsize=10, title='Legend', title_fontsize=11, frameon=True)\n"
     ]
    },
    {
     "name": "stdout",
     "output_type": "stream",
     "text": [
      "Saved plot to /home/libe2152/optimizedsampling/0_data/initial_samples/india_secc/convenience_sampling/urban_based/plots/top50_urban_areas_2000_points_probabilistic_2000_size_seed_1213.png\n",
      "Initializing UrbanConvenienceSampler...\n",
      "Loading precomputed distances from /home/libe2152/optimizedsampling/0_data/distances/india_secc/distance_to_top50_urban.pkl...\n",
      "Running probabilistic sampling...\n",
      "Saved 2000 sampled IDs to /home/libe2152/optimizedsampling/0_data/initial_samples/india_secc/convenience_sampling/urban_based/IDS_top50_urban_2000_points_probabilistic_2000_size_seed_1415.pkl\n"
     ]
    },
    {
     "name": "stderr",
     "output_type": "stream",
     "text": [
      "/home/libe2152/optimizedsampling/2_initial_sample/infrastructure_convenience_sampling.py:237: UserWarning: Legend does not support handles for PatchCollection instances.\n",
      "See: https://matplotlib.org/stable/tutorials/intermediate/legend_guide.html#implementing-a-custom-legend-handler\n",
      "  ax.legend(loc='lower left', fontsize=10, title='Legend', title_fontsize=11, frameon=True)\n",
      "/home/libe2152/optimizedsampling/2_initial_sample/infrastructure_convenience_sampling.py:237: UserWarning: No artists with labels found to put in legend.  Note that artists whose label start with an underscore are ignored when legend() is called with no argument.\n",
      "  ax.legend(loc='lower left', fontsize=10, title='Legend', title_fontsize=11, frameon=True)\n"
     ]
    },
    {
     "name": "stdout",
     "output_type": "stream",
     "text": [
      "Saved plot to /home/libe2152/optimizedsampling/0_data/initial_samples/india_secc/convenience_sampling/urban_based/plots/top50_urban_areas_2000_points_probabilistic_2000_size_seed_1415.png\n",
      "Initializing UrbanConvenienceSampler...\n",
      "Loading precomputed distances from /home/libe2152/optimizedsampling/0_data/distances/india_secc/distance_to_top50_urban.pkl...\n",
      "Running probabilistic sampling...\n",
      "Saved 3000 sampled IDs to /home/libe2152/optimizedsampling/0_data/initial_samples/india_secc/convenience_sampling/urban_based/IDS_top50_urban_3000_points_probabilistic_3000_size_seed_1.pkl\n"
     ]
    },
    {
     "name": "stderr",
     "output_type": "stream",
     "text": [
      "/home/libe2152/optimizedsampling/2_initial_sample/infrastructure_convenience_sampling.py:237: UserWarning: Legend does not support handles for PatchCollection instances.\n",
      "See: https://matplotlib.org/stable/tutorials/intermediate/legend_guide.html#implementing-a-custom-legend-handler\n",
      "  ax.legend(loc='lower left', fontsize=10, title='Legend', title_fontsize=11, frameon=True)\n",
      "/home/libe2152/optimizedsampling/2_initial_sample/infrastructure_convenience_sampling.py:237: UserWarning: No artists with labels found to put in legend.  Note that artists whose label start with an underscore are ignored when legend() is called with no argument.\n",
      "  ax.legend(loc='lower left', fontsize=10, title='Legend', title_fontsize=11, frameon=True)\n"
     ]
    },
    {
     "name": "stdout",
     "output_type": "stream",
     "text": [
      "Saved plot to /home/libe2152/optimizedsampling/0_data/initial_samples/india_secc/convenience_sampling/urban_based/plots/top50_urban_areas_3000_points_probabilistic_3000_size_seed_1.png\n",
      "Initializing UrbanConvenienceSampler...\n",
      "Loading precomputed distances from /home/libe2152/optimizedsampling/0_data/distances/india_secc/distance_to_top50_urban.pkl...\n",
      "Running probabilistic sampling...\n",
      "Saved 3000 sampled IDs to /home/libe2152/optimizedsampling/0_data/initial_samples/india_secc/convenience_sampling/urban_based/IDS_top50_urban_3000_points_probabilistic_3000_size_seed_42.pkl\n"
     ]
    },
    {
     "name": "stderr",
     "output_type": "stream",
     "text": [
      "/home/libe2152/optimizedsampling/2_initial_sample/infrastructure_convenience_sampling.py:237: UserWarning: Legend does not support handles for PatchCollection instances.\n",
      "See: https://matplotlib.org/stable/tutorials/intermediate/legend_guide.html#implementing-a-custom-legend-handler\n",
      "  ax.legend(loc='lower left', fontsize=10, title='Legend', title_fontsize=11, frameon=True)\n",
      "/home/libe2152/optimizedsampling/2_initial_sample/infrastructure_convenience_sampling.py:237: UserWarning: No artists with labels found to put in legend.  Note that artists whose label start with an underscore are ignored when legend() is called with no argument.\n",
      "  ax.legend(loc='lower left', fontsize=10, title='Legend', title_fontsize=11, frameon=True)\n"
     ]
    },
    {
     "name": "stdout",
     "output_type": "stream",
     "text": [
      "Saved plot to /home/libe2152/optimizedsampling/0_data/initial_samples/india_secc/convenience_sampling/urban_based/plots/top50_urban_areas_3000_points_probabilistic_3000_size_seed_42.png\n",
      "Initializing UrbanConvenienceSampler...\n",
      "Loading precomputed distances from /home/libe2152/optimizedsampling/0_data/distances/india_secc/distance_to_top50_urban.pkl...\n",
      "Running probabilistic sampling...\n",
      "Saved 3000 sampled IDs to /home/libe2152/optimizedsampling/0_data/initial_samples/india_secc/convenience_sampling/urban_based/IDS_top50_urban_3000_points_probabilistic_3000_size_seed_123.pkl\n"
     ]
    },
    {
     "name": "stderr",
     "output_type": "stream",
     "text": [
      "/home/libe2152/optimizedsampling/2_initial_sample/infrastructure_convenience_sampling.py:237: UserWarning: Legend does not support handles for PatchCollection instances.\n",
      "See: https://matplotlib.org/stable/tutorials/intermediate/legend_guide.html#implementing-a-custom-legend-handler\n",
      "  ax.legend(loc='lower left', fontsize=10, title='Legend', title_fontsize=11, frameon=True)\n",
      "/home/libe2152/optimizedsampling/2_initial_sample/infrastructure_convenience_sampling.py:237: UserWarning: No artists with labels found to put in legend.  Note that artists whose label start with an underscore are ignored when legend() is called with no argument.\n",
      "  ax.legend(loc='lower left', fontsize=10, title='Legend', title_fontsize=11, frameon=True)\n"
     ]
    },
    {
     "name": "stdout",
     "output_type": "stream",
     "text": [
      "Saved plot to /home/libe2152/optimizedsampling/0_data/initial_samples/india_secc/convenience_sampling/urban_based/plots/top50_urban_areas_3000_points_probabilistic_3000_size_seed_123.png\n",
      "Initializing UrbanConvenienceSampler...\n",
      "Loading precomputed distances from /home/libe2152/optimizedsampling/0_data/distances/india_secc/distance_to_top50_urban.pkl...\n",
      "Running probabilistic sampling...\n",
      "Saved 3000 sampled IDs to /home/libe2152/optimizedsampling/0_data/initial_samples/india_secc/convenience_sampling/urban_based/IDS_top50_urban_3000_points_probabilistic_3000_size_seed_456.pkl\n"
     ]
    },
    {
     "name": "stderr",
     "output_type": "stream",
     "text": [
      "/home/libe2152/optimizedsampling/2_initial_sample/infrastructure_convenience_sampling.py:237: UserWarning: Legend does not support handles for PatchCollection instances.\n",
      "See: https://matplotlib.org/stable/tutorials/intermediate/legend_guide.html#implementing-a-custom-legend-handler\n",
      "  ax.legend(loc='lower left', fontsize=10, title='Legend', title_fontsize=11, frameon=True)\n",
      "/home/libe2152/optimizedsampling/2_initial_sample/infrastructure_convenience_sampling.py:237: UserWarning: No artists with labels found to put in legend.  Note that artists whose label start with an underscore are ignored when legend() is called with no argument.\n",
      "  ax.legend(loc='lower left', fontsize=10, title='Legend', title_fontsize=11, frameon=True)\n"
     ]
    },
    {
     "name": "stdout",
     "output_type": "stream",
     "text": [
      "Saved plot to /home/libe2152/optimizedsampling/0_data/initial_samples/india_secc/convenience_sampling/urban_based/plots/top50_urban_areas_3000_points_probabilistic_3000_size_seed_456.png\n",
      "Initializing UrbanConvenienceSampler...\n",
      "Loading precomputed distances from /home/libe2152/optimizedsampling/0_data/distances/india_secc/distance_to_top50_urban.pkl...\n",
      "Running probabilistic sampling...\n",
      "Saved 3000 sampled IDs to /home/libe2152/optimizedsampling/0_data/initial_samples/india_secc/convenience_sampling/urban_based/IDS_top50_urban_3000_points_probabilistic_3000_size_seed_789.pkl\n"
     ]
    },
    {
     "name": "stderr",
     "output_type": "stream",
     "text": [
      "/home/libe2152/optimizedsampling/2_initial_sample/infrastructure_convenience_sampling.py:237: UserWarning: Legend does not support handles for PatchCollection instances.\n",
      "See: https://matplotlib.org/stable/tutorials/intermediate/legend_guide.html#implementing-a-custom-legend-handler\n",
      "  ax.legend(loc='lower left', fontsize=10, title='Legend', title_fontsize=11, frameon=True)\n",
      "/home/libe2152/optimizedsampling/2_initial_sample/infrastructure_convenience_sampling.py:237: UserWarning: No artists with labels found to put in legend.  Note that artists whose label start with an underscore are ignored when legend() is called with no argument.\n",
      "  ax.legend(loc='lower left', fontsize=10, title='Legend', title_fontsize=11, frameon=True)\n"
     ]
    },
    {
     "name": "stdout",
     "output_type": "stream",
     "text": [
      "Saved plot to /home/libe2152/optimizedsampling/0_data/initial_samples/india_secc/convenience_sampling/urban_based/plots/top50_urban_areas_3000_points_probabilistic_3000_size_seed_789.png\n",
      "Initializing UrbanConvenienceSampler...\n",
      "Loading precomputed distances from /home/libe2152/optimizedsampling/0_data/distances/india_secc/distance_to_top50_urban.pkl...\n",
      "Running probabilistic sampling...\n",
      "Saved 3000 sampled IDs to /home/libe2152/optimizedsampling/0_data/initial_samples/india_secc/convenience_sampling/urban_based/IDS_top50_urban_3000_points_probabilistic_3000_size_seed_1234.pkl\n"
     ]
    },
    {
     "name": "stderr",
     "output_type": "stream",
     "text": [
      "/home/libe2152/optimizedsampling/2_initial_sample/infrastructure_convenience_sampling.py:237: UserWarning: Legend does not support handles for PatchCollection instances.\n",
      "See: https://matplotlib.org/stable/tutorials/intermediate/legend_guide.html#implementing-a-custom-legend-handler\n",
      "  ax.legend(loc='lower left', fontsize=10, title='Legend', title_fontsize=11, frameon=True)\n",
      "/home/libe2152/optimizedsampling/2_initial_sample/infrastructure_convenience_sampling.py:237: UserWarning: No artists with labels found to put in legend.  Note that artists whose label start with an underscore are ignored when legend() is called with no argument.\n",
      "  ax.legend(loc='lower left', fontsize=10, title='Legend', title_fontsize=11, frameon=True)\n"
     ]
    },
    {
     "name": "stdout",
     "output_type": "stream",
     "text": [
      "Saved plot to /home/libe2152/optimizedsampling/0_data/initial_samples/india_secc/convenience_sampling/urban_based/plots/top50_urban_areas_3000_points_probabilistic_3000_size_seed_1234.png\n",
      "Initializing UrbanConvenienceSampler...\n",
      "Loading precomputed distances from /home/libe2152/optimizedsampling/0_data/distances/india_secc/distance_to_top50_urban.pkl...\n",
      "Running probabilistic sampling...\n",
      "Saved 3000 sampled IDs to /home/libe2152/optimizedsampling/0_data/initial_samples/india_secc/convenience_sampling/urban_based/IDS_top50_urban_3000_points_probabilistic_3000_size_seed_5678.pkl\n"
     ]
    },
    {
     "name": "stderr",
     "output_type": "stream",
     "text": [
      "/home/libe2152/optimizedsampling/2_initial_sample/infrastructure_convenience_sampling.py:237: UserWarning: Legend does not support handles for PatchCollection instances.\n",
      "See: https://matplotlib.org/stable/tutorials/intermediate/legend_guide.html#implementing-a-custom-legend-handler\n",
      "  ax.legend(loc='lower left', fontsize=10, title='Legend', title_fontsize=11, frameon=True)\n",
      "/home/libe2152/optimizedsampling/2_initial_sample/infrastructure_convenience_sampling.py:237: UserWarning: No artists with labels found to put in legend.  Note that artists whose label start with an underscore are ignored when legend() is called with no argument.\n",
      "  ax.legend(loc='lower left', fontsize=10, title='Legend', title_fontsize=11, frameon=True)\n"
     ]
    },
    {
     "name": "stdout",
     "output_type": "stream",
     "text": [
      "Saved plot to /home/libe2152/optimizedsampling/0_data/initial_samples/india_secc/convenience_sampling/urban_based/plots/top50_urban_areas_3000_points_probabilistic_3000_size_seed_5678.png\n",
      "Initializing UrbanConvenienceSampler...\n",
      "Loading precomputed distances from /home/libe2152/optimizedsampling/0_data/distances/india_secc/distance_to_top50_urban.pkl...\n",
      "Running probabilistic sampling...\n",
      "Saved 3000 sampled IDs to /home/libe2152/optimizedsampling/0_data/initial_samples/india_secc/convenience_sampling/urban_based/IDS_top50_urban_3000_points_probabilistic_3000_size_seed_9101.pkl\n"
     ]
    },
    {
     "name": "stderr",
     "output_type": "stream",
     "text": [
      "/home/libe2152/optimizedsampling/2_initial_sample/infrastructure_convenience_sampling.py:237: UserWarning: Legend does not support handles for PatchCollection instances.\n",
      "See: https://matplotlib.org/stable/tutorials/intermediate/legend_guide.html#implementing-a-custom-legend-handler\n",
      "  ax.legend(loc='lower left', fontsize=10, title='Legend', title_fontsize=11, frameon=True)\n",
      "/home/libe2152/optimizedsampling/2_initial_sample/infrastructure_convenience_sampling.py:237: UserWarning: No artists with labels found to put in legend.  Note that artists whose label start with an underscore are ignored when legend() is called with no argument.\n",
      "  ax.legend(loc='lower left', fontsize=10, title='Legend', title_fontsize=11, frameon=True)\n"
     ]
    },
    {
     "name": "stdout",
     "output_type": "stream",
     "text": [
      "Saved plot to /home/libe2152/optimizedsampling/0_data/initial_samples/india_secc/convenience_sampling/urban_based/plots/top50_urban_areas_3000_points_probabilistic_3000_size_seed_9101.png\n",
      "Initializing UrbanConvenienceSampler...\n",
      "Loading precomputed distances from /home/libe2152/optimizedsampling/0_data/distances/india_secc/distance_to_top50_urban.pkl...\n",
      "Running probabilistic sampling...\n",
      "Saved 3000 sampled IDs to /home/libe2152/optimizedsampling/0_data/initial_samples/india_secc/convenience_sampling/urban_based/IDS_top50_urban_3000_points_probabilistic_3000_size_seed_1213.pkl\n"
     ]
    },
    {
     "name": "stderr",
     "output_type": "stream",
     "text": [
      "/home/libe2152/optimizedsampling/2_initial_sample/infrastructure_convenience_sampling.py:237: UserWarning: Legend does not support handles for PatchCollection instances.\n",
      "See: https://matplotlib.org/stable/tutorials/intermediate/legend_guide.html#implementing-a-custom-legend-handler\n",
      "  ax.legend(loc='lower left', fontsize=10, title='Legend', title_fontsize=11, frameon=True)\n",
      "/home/libe2152/optimizedsampling/2_initial_sample/infrastructure_convenience_sampling.py:237: UserWarning: No artists with labels found to put in legend.  Note that artists whose label start with an underscore are ignored when legend() is called with no argument.\n",
      "  ax.legend(loc='lower left', fontsize=10, title='Legend', title_fontsize=11, frameon=True)\n"
     ]
    },
    {
     "name": "stdout",
     "output_type": "stream",
     "text": [
      "Saved plot to /home/libe2152/optimizedsampling/0_data/initial_samples/india_secc/convenience_sampling/urban_based/plots/top50_urban_areas_3000_points_probabilistic_3000_size_seed_1213.png\n",
      "Initializing UrbanConvenienceSampler...\n",
      "Loading precomputed distances from /home/libe2152/optimizedsampling/0_data/distances/india_secc/distance_to_top50_urban.pkl...\n",
      "Running probabilistic sampling...\n",
      "Saved 3000 sampled IDs to /home/libe2152/optimizedsampling/0_data/initial_samples/india_secc/convenience_sampling/urban_based/IDS_top50_urban_3000_points_probabilistic_3000_size_seed_1415.pkl\n"
     ]
    },
    {
     "name": "stderr",
     "output_type": "stream",
     "text": [
      "/home/libe2152/optimizedsampling/2_initial_sample/infrastructure_convenience_sampling.py:237: UserWarning: Legend does not support handles for PatchCollection instances.\n",
      "See: https://matplotlib.org/stable/tutorials/intermediate/legend_guide.html#implementing-a-custom-legend-handler\n",
      "  ax.legend(loc='lower left', fontsize=10, title='Legend', title_fontsize=11, frameon=True)\n",
      "/home/libe2152/optimizedsampling/2_initial_sample/infrastructure_convenience_sampling.py:237: UserWarning: No artists with labels found to put in legend.  Note that artists whose label start with an underscore are ignored when legend() is called with no argument.\n",
      "  ax.legend(loc='lower left', fontsize=10, title='Legend', title_fontsize=11, frameon=True)\n"
     ]
    },
    {
     "name": "stdout",
     "output_type": "stream",
     "text": [
      "Saved plot to /home/libe2152/optimizedsampling/0_data/initial_samples/india_secc/convenience_sampling/urban_based/plots/top50_urban_areas_3000_points_probabilistic_3000_size_seed_1415.png\n",
      "Initializing UrbanConvenienceSampler...\n",
      "Loading precomputed distances from /home/libe2152/optimizedsampling/0_data/distances/india_secc/distance_to_top50_urban.pkl...\n",
      "Running probabilistic sampling...\n",
      "Saved 4000 sampled IDs to /home/libe2152/optimizedsampling/0_data/initial_samples/india_secc/convenience_sampling/urban_based/IDS_top50_urban_4000_points_probabilistic_4000_size_seed_1.pkl\n"
     ]
    },
    {
     "name": "stderr",
     "output_type": "stream",
     "text": [
      "/home/libe2152/optimizedsampling/2_initial_sample/infrastructure_convenience_sampling.py:237: UserWarning: Legend does not support handles for PatchCollection instances.\n",
      "See: https://matplotlib.org/stable/tutorials/intermediate/legend_guide.html#implementing-a-custom-legend-handler\n",
      "  ax.legend(loc='lower left', fontsize=10, title='Legend', title_fontsize=11, frameon=True)\n",
      "/home/libe2152/optimizedsampling/2_initial_sample/infrastructure_convenience_sampling.py:237: UserWarning: No artists with labels found to put in legend.  Note that artists whose label start with an underscore are ignored when legend() is called with no argument.\n",
      "  ax.legend(loc='lower left', fontsize=10, title='Legend', title_fontsize=11, frameon=True)\n"
     ]
    },
    {
     "name": "stdout",
     "output_type": "stream",
     "text": [
      "Saved plot to /home/libe2152/optimizedsampling/0_data/initial_samples/india_secc/convenience_sampling/urban_based/plots/top50_urban_areas_4000_points_probabilistic_4000_size_seed_1.png\n",
      "Initializing UrbanConvenienceSampler...\n",
      "Loading precomputed distances from /home/libe2152/optimizedsampling/0_data/distances/india_secc/distance_to_top50_urban.pkl...\n",
      "Running probabilistic sampling...\n",
      "Saved 4000 sampled IDs to /home/libe2152/optimizedsampling/0_data/initial_samples/india_secc/convenience_sampling/urban_based/IDS_top50_urban_4000_points_probabilistic_4000_size_seed_42.pkl\n"
     ]
    },
    {
     "name": "stderr",
     "output_type": "stream",
     "text": [
      "/home/libe2152/optimizedsampling/2_initial_sample/infrastructure_convenience_sampling.py:237: UserWarning: Legend does not support handles for PatchCollection instances.\n",
      "See: https://matplotlib.org/stable/tutorials/intermediate/legend_guide.html#implementing-a-custom-legend-handler\n",
      "  ax.legend(loc='lower left', fontsize=10, title='Legend', title_fontsize=11, frameon=True)\n",
      "/home/libe2152/optimizedsampling/2_initial_sample/infrastructure_convenience_sampling.py:237: UserWarning: No artists with labels found to put in legend.  Note that artists whose label start with an underscore are ignored when legend() is called with no argument.\n",
      "  ax.legend(loc='lower left', fontsize=10, title='Legend', title_fontsize=11, frameon=True)\n"
     ]
    },
    {
     "name": "stdout",
     "output_type": "stream",
     "text": [
      "Saved plot to /home/libe2152/optimizedsampling/0_data/initial_samples/india_secc/convenience_sampling/urban_based/plots/top50_urban_areas_4000_points_probabilistic_4000_size_seed_42.png\n",
      "Initializing UrbanConvenienceSampler...\n",
      "Loading precomputed distances from /home/libe2152/optimizedsampling/0_data/distances/india_secc/distance_to_top50_urban.pkl...\n",
      "Running probabilistic sampling...\n",
      "Saved 4000 sampled IDs to /home/libe2152/optimizedsampling/0_data/initial_samples/india_secc/convenience_sampling/urban_based/IDS_top50_urban_4000_points_probabilistic_4000_size_seed_123.pkl\n"
     ]
    },
    {
     "name": "stderr",
     "output_type": "stream",
     "text": [
      "/home/libe2152/optimizedsampling/2_initial_sample/infrastructure_convenience_sampling.py:237: UserWarning: Legend does not support handles for PatchCollection instances.\n",
      "See: https://matplotlib.org/stable/tutorials/intermediate/legend_guide.html#implementing-a-custom-legend-handler\n",
      "  ax.legend(loc='lower left', fontsize=10, title='Legend', title_fontsize=11, frameon=True)\n",
      "/home/libe2152/optimizedsampling/2_initial_sample/infrastructure_convenience_sampling.py:237: UserWarning: No artists with labels found to put in legend.  Note that artists whose label start with an underscore are ignored when legend() is called with no argument.\n",
      "  ax.legend(loc='lower left', fontsize=10, title='Legend', title_fontsize=11, frameon=True)\n"
     ]
    },
    {
     "name": "stdout",
     "output_type": "stream",
     "text": [
      "Saved plot to /home/libe2152/optimizedsampling/0_data/initial_samples/india_secc/convenience_sampling/urban_based/plots/top50_urban_areas_4000_points_probabilistic_4000_size_seed_123.png\n",
      "Initializing UrbanConvenienceSampler...\n",
      "Loading precomputed distances from /home/libe2152/optimizedsampling/0_data/distances/india_secc/distance_to_top50_urban.pkl...\n",
      "Running probabilistic sampling...\n",
      "Saved 4000 sampled IDs to /home/libe2152/optimizedsampling/0_data/initial_samples/india_secc/convenience_sampling/urban_based/IDS_top50_urban_4000_points_probabilistic_4000_size_seed_456.pkl\n"
     ]
    },
    {
     "name": "stderr",
     "output_type": "stream",
     "text": [
      "/home/libe2152/optimizedsampling/2_initial_sample/infrastructure_convenience_sampling.py:237: UserWarning: Legend does not support handles for PatchCollection instances.\n",
      "See: https://matplotlib.org/stable/tutorials/intermediate/legend_guide.html#implementing-a-custom-legend-handler\n",
      "  ax.legend(loc='lower left', fontsize=10, title='Legend', title_fontsize=11, frameon=True)\n",
      "/home/libe2152/optimizedsampling/2_initial_sample/infrastructure_convenience_sampling.py:237: UserWarning: No artists with labels found to put in legend.  Note that artists whose label start with an underscore are ignored when legend() is called with no argument.\n",
      "  ax.legend(loc='lower left', fontsize=10, title='Legend', title_fontsize=11, frameon=True)\n"
     ]
    },
    {
     "name": "stdout",
     "output_type": "stream",
     "text": [
      "Saved plot to /home/libe2152/optimizedsampling/0_data/initial_samples/india_secc/convenience_sampling/urban_based/plots/top50_urban_areas_4000_points_probabilistic_4000_size_seed_456.png\n",
      "Initializing UrbanConvenienceSampler...\n",
      "Loading precomputed distances from /home/libe2152/optimizedsampling/0_data/distances/india_secc/distance_to_top50_urban.pkl...\n",
      "Running probabilistic sampling...\n",
      "Saved 4000 sampled IDs to /home/libe2152/optimizedsampling/0_data/initial_samples/india_secc/convenience_sampling/urban_based/IDS_top50_urban_4000_points_probabilistic_4000_size_seed_789.pkl\n"
     ]
    },
    {
     "name": "stderr",
     "output_type": "stream",
     "text": [
      "/home/libe2152/optimizedsampling/2_initial_sample/infrastructure_convenience_sampling.py:237: UserWarning: Legend does not support handles for PatchCollection instances.\n",
      "See: https://matplotlib.org/stable/tutorials/intermediate/legend_guide.html#implementing-a-custom-legend-handler\n",
      "  ax.legend(loc='lower left', fontsize=10, title='Legend', title_fontsize=11, frameon=True)\n",
      "/home/libe2152/optimizedsampling/2_initial_sample/infrastructure_convenience_sampling.py:237: UserWarning: No artists with labels found to put in legend.  Note that artists whose label start with an underscore are ignored when legend() is called with no argument.\n",
      "  ax.legend(loc='lower left', fontsize=10, title='Legend', title_fontsize=11, frameon=True)\n"
     ]
    },
    {
     "name": "stdout",
     "output_type": "stream",
     "text": [
      "Saved plot to /home/libe2152/optimizedsampling/0_data/initial_samples/india_secc/convenience_sampling/urban_based/plots/top50_urban_areas_4000_points_probabilistic_4000_size_seed_789.png\n",
      "Initializing UrbanConvenienceSampler...\n",
      "Loading precomputed distances from /home/libe2152/optimizedsampling/0_data/distances/india_secc/distance_to_top50_urban.pkl...\n",
      "Running probabilistic sampling...\n",
      "Saved 4000 sampled IDs to /home/libe2152/optimizedsampling/0_data/initial_samples/india_secc/convenience_sampling/urban_based/IDS_top50_urban_4000_points_probabilistic_4000_size_seed_1234.pkl\n"
     ]
    },
    {
     "name": "stderr",
     "output_type": "stream",
     "text": [
      "/home/libe2152/optimizedsampling/2_initial_sample/infrastructure_convenience_sampling.py:237: UserWarning: Legend does not support handles for PatchCollection instances.\n",
      "See: https://matplotlib.org/stable/tutorials/intermediate/legend_guide.html#implementing-a-custom-legend-handler\n",
      "  ax.legend(loc='lower left', fontsize=10, title='Legend', title_fontsize=11, frameon=True)\n",
      "/home/libe2152/optimizedsampling/2_initial_sample/infrastructure_convenience_sampling.py:237: UserWarning: No artists with labels found to put in legend.  Note that artists whose label start with an underscore are ignored when legend() is called with no argument.\n",
      "  ax.legend(loc='lower left', fontsize=10, title='Legend', title_fontsize=11, frameon=True)\n"
     ]
    },
    {
     "name": "stdout",
     "output_type": "stream",
     "text": [
      "Saved plot to /home/libe2152/optimizedsampling/0_data/initial_samples/india_secc/convenience_sampling/urban_based/plots/top50_urban_areas_4000_points_probabilistic_4000_size_seed_1234.png\n",
      "Initializing UrbanConvenienceSampler...\n",
      "Loading precomputed distances from /home/libe2152/optimizedsampling/0_data/distances/india_secc/distance_to_top50_urban.pkl...\n",
      "Running probabilistic sampling...\n",
      "Saved 4000 sampled IDs to /home/libe2152/optimizedsampling/0_data/initial_samples/india_secc/convenience_sampling/urban_based/IDS_top50_urban_4000_points_probabilistic_4000_size_seed_5678.pkl\n"
     ]
    },
    {
     "name": "stderr",
     "output_type": "stream",
     "text": [
      "/home/libe2152/optimizedsampling/2_initial_sample/infrastructure_convenience_sampling.py:237: UserWarning: Legend does not support handles for PatchCollection instances.\n",
      "See: https://matplotlib.org/stable/tutorials/intermediate/legend_guide.html#implementing-a-custom-legend-handler\n",
      "  ax.legend(loc='lower left', fontsize=10, title='Legend', title_fontsize=11, frameon=True)\n",
      "/home/libe2152/optimizedsampling/2_initial_sample/infrastructure_convenience_sampling.py:237: UserWarning: No artists with labels found to put in legend.  Note that artists whose label start with an underscore are ignored when legend() is called with no argument.\n",
      "  ax.legend(loc='lower left', fontsize=10, title='Legend', title_fontsize=11, frameon=True)\n"
     ]
    },
    {
     "name": "stdout",
     "output_type": "stream",
     "text": [
      "Saved plot to /home/libe2152/optimizedsampling/0_data/initial_samples/india_secc/convenience_sampling/urban_based/plots/top50_urban_areas_4000_points_probabilistic_4000_size_seed_5678.png\n",
      "Initializing UrbanConvenienceSampler...\n",
      "Loading precomputed distances from /home/libe2152/optimizedsampling/0_data/distances/india_secc/distance_to_top50_urban.pkl...\n",
      "Running probabilistic sampling...\n",
      "Saved 4000 sampled IDs to /home/libe2152/optimizedsampling/0_data/initial_samples/india_secc/convenience_sampling/urban_based/IDS_top50_urban_4000_points_probabilistic_4000_size_seed_9101.pkl\n"
     ]
    },
    {
     "name": "stderr",
     "output_type": "stream",
     "text": [
      "/home/libe2152/optimizedsampling/2_initial_sample/infrastructure_convenience_sampling.py:237: UserWarning: Legend does not support handles for PatchCollection instances.\n",
      "See: https://matplotlib.org/stable/tutorials/intermediate/legend_guide.html#implementing-a-custom-legend-handler\n",
      "  ax.legend(loc='lower left', fontsize=10, title='Legend', title_fontsize=11, frameon=True)\n",
      "/home/libe2152/optimizedsampling/2_initial_sample/infrastructure_convenience_sampling.py:237: UserWarning: No artists with labels found to put in legend.  Note that artists whose label start with an underscore are ignored when legend() is called with no argument.\n",
      "  ax.legend(loc='lower left', fontsize=10, title='Legend', title_fontsize=11, frameon=True)\n"
     ]
    },
    {
     "name": "stdout",
     "output_type": "stream",
     "text": [
      "Saved plot to /home/libe2152/optimizedsampling/0_data/initial_samples/india_secc/convenience_sampling/urban_based/plots/top50_urban_areas_4000_points_probabilistic_4000_size_seed_9101.png\n",
      "Initializing UrbanConvenienceSampler...\n",
      "Loading precomputed distances from /home/libe2152/optimizedsampling/0_data/distances/india_secc/distance_to_top50_urban.pkl...\n",
      "Running probabilistic sampling...\n",
      "Saved 4000 sampled IDs to /home/libe2152/optimizedsampling/0_data/initial_samples/india_secc/convenience_sampling/urban_based/IDS_top50_urban_4000_points_probabilistic_4000_size_seed_1213.pkl\n"
     ]
    },
    {
     "name": "stderr",
     "output_type": "stream",
     "text": [
      "/home/libe2152/optimizedsampling/2_initial_sample/infrastructure_convenience_sampling.py:237: UserWarning: Legend does not support handles for PatchCollection instances.\n",
      "See: https://matplotlib.org/stable/tutorials/intermediate/legend_guide.html#implementing-a-custom-legend-handler\n",
      "  ax.legend(loc='lower left', fontsize=10, title='Legend', title_fontsize=11, frameon=True)\n",
      "/home/libe2152/optimizedsampling/2_initial_sample/infrastructure_convenience_sampling.py:237: UserWarning: No artists with labels found to put in legend.  Note that artists whose label start with an underscore are ignored when legend() is called with no argument.\n",
      "  ax.legend(loc='lower left', fontsize=10, title='Legend', title_fontsize=11, frameon=True)\n"
     ]
    },
    {
     "name": "stdout",
     "output_type": "stream",
     "text": [
      "Saved plot to /home/libe2152/optimizedsampling/0_data/initial_samples/india_secc/convenience_sampling/urban_based/plots/top50_urban_areas_4000_points_probabilistic_4000_size_seed_1213.png\n",
      "Initializing UrbanConvenienceSampler...\n",
      "Loading precomputed distances from /home/libe2152/optimizedsampling/0_data/distances/india_secc/distance_to_top50_urban.pkl...\n",
      "Running probabilistic sampling...\n",
      "Saved 4000 sampled IDs to /home/libe2152/optimizedsampling/0_data/initial_samples/india_secc/convenience_sampling/urban_based/IDS_top50_urban_4000_points_probabilistic_4000_size_seed_1415.pkl\n"
     ]
    },
    {
     "name": "stderr",
     "output_type": "stream",
     "text": [
      "/home/libe2152/optimizedsampling/2_initial_sample/infrastructure_convenience_sampling.py:237: UserWarning: Legend does not support handles for PatchCollection instances.\n",
      "See: https://matplotlib.org/stable/tutorials/intermediate/legend_guide.html#implementing-a-custom-legend-handler\n",
      "  ax.legend(loc='lower left', fontsize=10, title='Legend', title_fontsize=11, frameon=True)\n",
      "/home/libe2152/optimizedsampling/2_initial_sample/infrastructure_convenience_sampling.py:237: UserWarning: No artists with labels found to put in legend.  Note that artists whose label start with an underscore are ignored when legend() is called with no argument.\n",
      "  ax.legend(loc='lower left', fontsize=10, title='Legend', title_fontsize=11, frameon=True)\n"
     ]
    },
    {
     "name": "stdout",
     "output_type": "stream",
     "text": [
      "Saved plot to /home/libe2152/optimizedsampling/0_data/initial_samples/india_secc/convenience_sampling/urban_based/plots/top50_urban_areas_4000_points_probabilistic_4000_size_seed_1415.png\n",
      "Initializing UrbanConvenienceSampler...\n",
      "Loading precomputed distances from /home/libe2152/optimizedsampling/0_data/distances/india_secc/distance_to_top50_urban.pkl...\n",
      "Running probabilistic sampling...\n",
      "Saved 5000 sampled IDs to /home/libe2152/optimizedsampling/0_data/initial_samples/india_secc/convenience_sampling/urban_based/IDS_top50_urban_5000_points_probabilistic_5000_size_seed_1.pkl\n"
     ]
    },
    {
     "name": "stderr",
     "output_type": "stream",
     "text": [
      "/home/libe2152/optimizedsampling/2_initial_sample/infrastructure_convenience_sampling.py:237: UserWarning: Legend does not support handles for PatchCollection instances.\n",
      "See: https://matplotlib.org/stable/tutorials/intermediate/legend_guide.html#implementing-a-custom-legend-handler\n",
      "  ax.legend(loc='lower left', fontsize=10, title='Legend', title_fontsize=11, frameon=True)\n",
      "/home/libe2152/optimizedsampling/2_initial_sample/infrastructure_convenience_sampling.py:237: UserWarning: No artists with labels found to put in legend.  Note that artists whose label start with an underscore are ignored when legend() is called with no argument.\n",
      "  ax.legend(loc='lower left', fontsize=10, title='Legend', title_fontsize=11, frameon=True)\n"
     ]
    },
    {
     "name": "stdout",
     "output_type": "stream",
     "text": [
      "Saved plot to /home/libe2152/optimizedsampling/0_data/initial_samples/india_secc/convenience_sampling/urban_based/plots/top50_urban_areas_5000_points_probabilistic_5000_size_seed_1.png\n",
      "Initializing UrbanConvenienceSampler...\n",
      "Loading precomputed distances from /home/libe2152/optimizedsampling/0_data/distances/india_secc/distance_to_top50_urban.pkl...\n",
      "Running probabilistic sampling...\n",
      "Saved 5000 sampled IDs to /home/libe2152/optimizedsampling/0_data/initial_samples/india_secc/convenience_sampling/urban_based/IDS_top50_urban_5000_points_probabilistic_5000_size_seed_42.pkl\n"
     ]
    },
    {
     "name": "stderr",
     "output_type": "stream",
     "text": [
      "/home/libe2152/optimizedsampling/2_initial_sample/infrastructure_convenience_sampling.py:237: UserWarning: Legend does not support handles for PatchCollection instances.\n",
      "See: https://matplotlib.org/stable/tutorials/intermediate/legend_guide.html#implementing-a-custom-legend-handler\n",
      "  ax.legend(loc='lower left', fontsize=10, title='Legend', title_fontsize=11, frameon=True)\n",
      "/home/libe2152/optimizedsampling/2_initial_sample/infrastructure_convenience_sampling.py:237: UserWarning: No artists with labels found to put in legend.  Note that artists whose label start with an underscore are ignored when legend() is called with no argument.\n",
      "  ax.legend(loc='lower left', fontsize=10, title='Legend', title_fontsize=11, frameon=True)\n"
     ]
    },
    {
     "name": "stdout",
     "output_type": "stream",
     "text": [
      "Saved plot to /home/libe2152/optimizedsampling/0_data/initial_samples/india_secc/convenience_sampling/urban_based/plots/top50_urban_areas_5000_points_probabilistic_5000_size_seed_42.png\n",
      "Initializing UrbanConvenienceSampler...\n",
      "Loading precomputed distances from /home/libe2152/optimizedsampling/0_data/distances/india_secc/distance_to_top50_urban.pkl...\n",
      "Running probabilistic sampling...\n",
      "Saved 5000 sampled IDs to /home/libe2152/optimizedsampling/0_data/initial_samples/india_secc/convenience_sampling/urban_based/IDS_top50_urban_5000_points_probabilistic_5000_size_seed_123.pkl\n"
     ]
    },
    {
     "name": "stderr",
     "output_type": "stream",
     "text": [
      "/home/libe2152/optimizedsampling/2_initial_sample/infrastructure_convenience_sampling.py:237: UserWarning: Legend does not support handles for PatchCollection instances.\n",
      "See: https://matplotlib.org/stable/tutorials/intermediate/legend_guide.html#implementing-a-custom-legend-handler\n",
      "  ax.legend(loc='lower left', fontsize=10, title='Legend', title_fontsize=11, frameon=True)\n",
      "/home/libe2152/optimizedsampling/2_initial_sample/infrastructure_convenience_sampling.py:237: UserWarning: No artists with labels found to put in legend.  Note that artists whose label start with an underscore are ignored when legend() is called with no argument.\n",
      "  ax.legend(loc='lower left', fontsize=10, title='Legend', title_fontsize=11, frameon=True)\n"
     ]
    },
    {
     "name": "stdout",
     "output_type": "stream",
     "text": [
      "Saved plot to /home/libe2152/optimizedsampling/0_data/initial_samples/india_secc/convenience_sampling/urban_based/plots/top50_urban_areas_5000_points_probabilistic_5000_size_seed_123.png\n",
      "Initializing UrbanConvenienceSampler...\n",
      "Loading precomputed distances from /home/libe2152/optimizedsampling/0_data/distances/india_secc/distance_to_top50_urban.pkl...\n",
      "Running probabilistic sampling...\n",
      "Saved 5000 sampled IDs to /home/libe2152/optimizedsampling/0_data/initial_samples/india_secc/convenience_sampling/urban_based/IDS_top50_urban_5000_points_probabilistic_5000_size_seed_456.pkl\n"
     ]
    },
    {
     "name": "stderr",
     "output_type": "stream",
     "text": [
      "/home/libe2152/optimizedsampling/2_initial_sample/infrastructure_convenience_sampling.py:237: UserWarning: Legend does not support handles for PatchCollection instances.\n",
      "See: https://matplotlib.org/stable/tutorials/intermediate/legend_guide.html#implementing-a-custom-legend-handler\n",
      "  ax.legend(loc='lower left', fontsize=10, title='Legend', title_fontsize=11, frameon=True)\n",
      "/home/libe2152/optimizedsampling/2_initial_sample/infrastructure_convenience_sampling.py:237: UserWarning: No artists with labels found to put in legend.  Note that artists whose label start with an underscore are ignored when legend() is called with no argument.\n",
      "  ax.legend(loc='lower left', fontsize=10, title='Legend', title_fontsize=11, frameon=True)\n"
     ]
    },
    {
     "name": "stdout",
     "output_type": "stream",
     "text": [
      "Saved plot to /home/libe2152/optimizedsampling/0_data/initial_samples/india_secc/convenience_sampling/urban_based/plots/top50_urban_areas_5000_points_probabilistic_5000_size_seed_456.png\n",
      "Initializing UrbanConvenienceSampler...\n",
      "Loading precomputed distances from /home/libe2152/optimizedsampling/0_data/distances/india_secc/distance_to_top50_urban.pkl...\n",
      "Running probabilistic sampling...\n",
      "Saved 5000 sampled IDs to /home/libe2152/optimizedsampling/0_data/initial_samples/india_secc/convenience_sampling/urban_based/IDS_top50_urban_5000_points_probabilistic_5000_size_seed_789.pkl\n"
     ]
    },
    {
     "name": "stderr",
     "output_type": "stream",
     "text": [
      "/home/libe2152/optimizedsampling/2_initial_sample/infrastructure_convenience_sampling.py:237: UserWarning: Legend does not support handles for PatchCollection instances.\n",
      "See: https://matplotlib.org/stable/tutorials/intermediate/legend_guide.html#implementing-a-custom-legend-handler\n",
      "  ax.legend(loc='lower left', fontsize=10, title='Legend', title_fontsize=11, frameon=True)\n",
      "/home/libe2152/optimizedsampling/2_initial_sample/infrastructure_convenience_sampling.py:237: UserWarning: No artists with labels found to put in legend.  Note that artists whose label start with an underscore are ignored when legend() is called with no argument.\n",
      "  ax.legend(loc='lower left', fontsize=10, title='Legend', title_fontsize=11, frameon=True)\n"
     ]
    },
    {
     "name": "stdout",
     "output_type": "stream",
     "text": [
      "Saved plot to /home/libe2152/optimizedsampling/0_data/initial_samples/india_secc/convenience_sampling/urban_based/plots/top50_urban_areas_5000_points_probabilistic_5000_size_seed_789.png\n",
      "Initializing UrbanConvenienceSampler...\n",
      "Loading precomputed distances from /home/libe2152/optimizedsampling/0_data/distances/india_secc/distance_to_top50_urban.pkl...\n",
      "Running probabilistic sampling...\n",
      "Saved 5000 sampled IDs to /home/libe2152/optimizedsampling/0_data/initial_samples/india_secc/convenience_sampling/urban_based/IDS_top50_urban_5000_points_probabilistic_5000_size_seed_1234.pkl\n"
     ]
    },
    {
     "name": "stderr",
     "output_type": "stream",
     "text": [
      "/home/libe2152/optimizedsampling/2_initial_sample/infrastructure_convenience_sampling.py:237: UserWarning: Legend does not support handles for PatchCollection instances.\n",
      "See: https://matplotlib.org/stable/tutorials/intermediate/legend_guide.html#implementing-a-custom-legend-handler\n",
      "  ax.legend(loc='lower left', fontsize=10, title='Legend', title_fontsize=11, frameon=True)\n",
      "/home/libe2152/optimizedsampling/2_initial_sample/infrastructure_convenience_sampling.py:237: UserWarning: No artists with labels found to put in legend.  Note that artists whose label start with an underscore are ignored when legend() is called with no argument.\n",
      "  ax.legend(loc='lower left', fontsize=10, title='Legend', title_fontsize=11, frameon=True)\n"
     ]
    },
    {
     "name": "stdout",
     "output_type": "stream",
     "text": [
      "Saved plot to /home/libe2152/optimizedsampling/0_data/initial_samples/india_secc/convenience_sampling/urban_based/plots/top50_urban_areas_5000_points_probabilistic_5000_size_seed_1234.png\n",
      "Initializing UrbanConvenienceSampler...\n",
      "Loading precomputed distances from /home/libe2152/optimizedsampling/0_data/distances/india_secc/distance_to_top50_urban.pkl...\n",
      "Running probabilistic sampling...\n",
      "Saved 5000 sampled IDs to /home/libe2152/optimizedsampling/0_data/initial_samples/india_secc/convenience_sampling/urban_based/IDS_top50_urban_5000_points_probabilistic_5000_size_seed_5678.pkl\n"
     ]
    },
    {
     "name": "stderr",
     "output_type": "stream",
     "text": [
      "/home/libe2152/optimizedsampling/2_initial_sample/infrastructure_convenience_sampling.py:237: UserWarning: Legend does not support handles for PatchCollection instances.\n",
      "See: https://matplotlib.org/stable/tutorials/intermediate/legend_guide.html#implementing-a-custom-legend-handler\n",
      "  ax.legend(loc='lower left', fontsize=10, title='Legend', title_fontsize=11, frameon=True)\n",
      "/home/libe2152/optimizedsampling/2_initial_sample/infrastructure_convenience_sampling.py:237: UserWarning: No artists with labels found to put in legend.  Note that artists whose label start with an underscore are ignored when legend() is called with no argument.\n",
      "  ax.legend(loc='lower left', fontsize=10, title='Legend', title_fontsize=11, frameon=True)\n"
     ]
    },
    {
     "name": "stdout",
     "output_type": "stream",
     "text": [
      "Saved plot to /home/libe2152/optimizedsampling/0_data/initial_samples/india_secc/convenience_sampling/urban_based/plots/top50_urban_areas_5000_points_probabilistic_5000_size_seed_5678.png\n",
      "Initializing UrbanConvenienceSampler...\n",
      "Loading precomputed distances from /home/libe2152/optimizedsampling/0_data/distances/india_secc/distance_to_top50_urban.pkl...\n",
      "Running probabilistic sampling...\n",
      "Saved 5000 sampled IDs to /home/libe2152/optimizedsampling/0_data/initial_samples/india_secc/convenience_sampling/urban_based/IDS_top50_urban_5000_points_probabilistic_5000_size_seed_9101.pkl\n"
     ]
    },
    {
     "name": "stderr",
     "output_type": "stream",
     "text": [
      "/home/libe2152/optimizedsampling/2_initial_sample/infrastructure_convenience_sampling.py:237: UserWarning: Legend does not support handles for PatchCollection instances.\n",
      "See: https://matplotlib.org/stable/tutorials/intermediate/legend_guide.html#implementing-a-custom-legend-handler\n",
      "  ax.legend(loc='lower left', fontsize=10, title='Legend', title_fontsize=11, frameon=True)\n",
      "/home/libe2152/optimizedsampling/2_initial_sample/infrastructure_convenience_sampling.py:237: UserWarning: No artists with labels found to put in legend.  Note that artists whose label start with an underscore are ignored when legend() is called with no argument.\n",
      "  ax.legend(loc='lower left', fontsize=10, title='Legend', title_fontsize=11, frameon=True)\n"
     ]
    },
    {
     "name": "stdout",
     "output_type": "stream",
     "text": [
      "Saved plot to /home/libe2152/optimizedsampling/0_data/initial_samples/india_secc/convenience_sampling/urban_based/plots/top50_urban_areas_5000_points_probabilistic_5000_size_seed_9101.png\n",
      "Initializing UrbanConvenienceSampler...\n",
      "Loading precomputed distances from /home/libe2152/optimizedsampling/0_data/distances/india_secc/distance_to_top50_urban.pkl...\n",
      "Running probabilistic sampling...\n",
      "Saved 5000 sampled IDs to /home/libe2152/optimizedsampling/0_data/initial_samples/india_secc/convenience_sampling/urban_based/IDS_top50_urban_5000_points_probabilistic_5000_size_seed_1213.pkl\n"
     ]
    },
    {
     "name": "stderr",
     "output_type": "stream",
     "text": [
      "/home/libe2152/optimizedsampling/2_initial_sample/infrastructure_convenience_sampling.py:237: UserWarning: Legend does not support handles for PatchCollection instances.\n",
      "See: https://matplotlib.org/stable/tutorials/intermediate/legend_guide.html#implementing-a-custom-legend-handler\n",
      "  ax.legend(loc='lower left', fontsize=10, title='Legend', title_fontsize=11, frameon=True)\n",
      "/home/libe2152/optimizedsampling/2_initial_sample/infrastructure_convenience_sampling.py:237: UserWarning: No artists with labels found to put in legend.  Note that artists whose label start with an underscore are ignored when legend() is called with no argument.\n",
      "  ax.legend(loc='lower left', fontsize=10, title='Legend', title_fontsize=11, frameon=True)\n"
     ]
    },
    {
     "name": "stdout",
     "output_type": "stream",
     "text": [
      "Saved plot to /home/libe2152/optimizedsampling/0_data/initial_samples/india_secc/convenience_sampling/urban_based/plots/top50_urban_areas_5000_points_probabilistic_5000_size_seed_1213.png\n",
      "Initializing UrbanConvenienceSampler...\n",
      "Loading precomputed distances from /home/libe2152/optimizedsampling/0_data/distances/india_secc/distance_to_top50_urban.pkl...\n",
      "Running probabilistic sampling...\n",
      "Saved 5000 sampled IDs to /home/libe2152/optimizedsampling/0_data/initial_samples/india_secc/convenience_sampling/urban_based/IDS_top50_urban_5000_points_probabilistic_5000_size_seed_1415.pkl\n"
     ]
    },
    {
     "name": "stderr",
     "output_type": "stream",
     "text": [
      "/home/libe2152/optimizedsampling/2_initial_sample/infrastructure_convenience_sampling.py:237: UserWarning: Legend does not support handles for PatchCollection instances.\n",
      "See: https://matplotlib.org/stable/tutorials/intermediate/legend_guide.html#implementing-a-custom-legend-handler\n",
      "  ax.legend(loc='lower left', fontsize=10, title='Legend', title_fontsize=11, frameon=True)\n",
      "/home/libe2152/optimizedsampling/2_initial_sample/infrastructure_convenience_sampling.py:237: UserWarning: No artists with labels found to put in legend.  Note that artists whose label start with an underscore are ignored when legend() is called with no argument.\n",
      "  ax.legend(loc='lower left', fontsize=10, title='Legend', title_fontsize=11, frameon=True)\n"
     ]
    },
    {
     "name": "stdout",
     "output_type": "stream",
     "text": [
      "Saved plot to /home/libe2152/optimizedsampling/0_data/initial_samples/india_secc/convenience_sampling/urban_based/plots/top50_urban_areas_5000_points_probabilistic_5000_size_seed_1415.png\n"
     ]
    }
   ],
   "source": [
    "ADMIN_IDS = {\n",
    "    'pc11_s_id': 'state',\n",
    "    'pc11_d_id': 'district',\n",
    "    'pc11_sd_id': 'subdistrict'\n",
    "}\n",
    "\n",
    "id_col = 'condensed_shrug_id'\n",
    "gdf_path = '/share/india_secc/MOSAIKS/train_shrugs_with_admins.geojson'\n",
    "pop_col = 'pc11_pca_tot_p_combined'\n",
    "country_shape_file = '/home/libe2152/optimizedsampling/0_data/boundaries/world/ne_10m_admin_0_countries.shp'\n",
    "country_name = 'India'\n",
    "out_path = f'/home/libe2152/optimizedsampling/0_data/initial_samples/india_secc/convenience_sampling'\n",
    "\n",
    "print(\"Reading GeoDataFrame...\")\n",
    "gdf = gpd.read_file(gdf_path)\n",
    "\n",
    "method = 'probabilistic'\n",
    "temp=0.025\n",
    "for n_urban in [20, 50]:\n",
    "    distances_dir = f'/home/libe2152/optimizedsampling/0_data/distances/india_secc/distance_to_top{n_urban}_urban.pkl'\n",
    "    for desired_sample_size in range(1000, 6000, 1000):\n",
    "        for seed in [1, 42, 123, 456, 789, 1234, 5678, 9101, 1213, 1415]:\n",
    "\n",
    "            print(\"Initializing UrbanConvenienceSampler...\")\n",
    "            sampler = UrbanConvenienceSampler(\n",
    "                id_col=id_col,\n",
    "                gdf_points=gdf,\n",
    "                gdf_urban=gdf,\n",
    "                n_urban=n_urban,\n",
    "                pop_col=pop_col,\n",
    "                distances_dir=distances_dir\n",
    "            )\n",
    "\n",
    "            sampler.sample(n_samples=desired_sample_size, method=method, temp=temp, seed=seed)\n",
    "            sampler.save_sampled_ids(out_path)\n",
    "            sampler.plot(country_shape_file=country_shape_file, country_name=country_name)"
   ]
  },
  {
   "cell_type": "code",
   "execution_count": null,
   "id": "5860a4fe",
   "metadata": {},
   "outputs": [
    {
     "name": "stdout",
     "output_type": "stream",
     "text": [
      "Initializing ClusterConvenienceSampler...\n",
      "Computing cluster distances using spatial index...\n",
      "Saved cluster distances for 556 clusters to /home/libe2152/optimizedsampling/0_data/distancesindia_secc/cluster_distance_to_top10_urban.pkl\n",
      "pc11_d_id\n",
      "041    16\n",
      "047    49\n",
      "048    76\n",
      "054    30\n",
      "058    29\n",
      "       ..\n",
      "630    67\n",
      "631    88\n",
      "632    72\n",
      "633    92\n",
      "635    12\n",
      "Length: 200, dtype: int64\n",
      "Saved 1000 sampled IDs to /home/libe2152/optimizedsampling/0_data/initial_samples/india_secc/convenience_sampling/cluster_based/IDS_top10_urban_cluster_pc11_d_id_5_ppc_200_clusters_1000_size_probabilistic_seed_1.pkl\n"
     ]
    },
    {
     "name": "stderr",
     "output_type": "stream",
     "text": [
      "/home/libe2152/optimizedsampling/2_initial_sample/infrastructure_convenience_sampling.py:237: UserWarning: Legend does not support handles for PatchCollection instances.\n",
      "See: https://matplotlib.org/stable/tutorials/intermediate/legend_guide.html#implementing-a-custom-legend-handler\n",
      "  ax.legend(loc='lower left', fontsize=10, title='Legend', title_fontsize=11, frameon=True)\n",
      "/home/libe2152/optimizedsampling/2_initial_sample/infrastructure_convenience_sampling.py:237: UserWarning: No artists with labels found to put in legend.  Note that artists whose label start with an underscore are ignored when legend() is called with no argument.\n",
      "  ax.legend(loc='lower left', fontsize=10, title='Legend', title_fontsize=11, frameon=True)\n"
     ]
    },
    {
     "name": "stdout",
     "output_type": "stream",
     "text": [
      "Saved plot to /home/libe2152/optimizedsampling/0_data/initial_samples/india_secc/convenience_sampling/cluster_based/plots/top10_urban_areas_cluster_pc11_d_id_5_ppc_200_clusters_probabilistic_1000_size_seed_1.png\n",
      "Initializing ClusterConvenienceSampler...\n",
      "Loading precomputed cluster distances from /home/libe2152/optimizedsampling/0_data/distancesindia_secc/cluster_distance_to_top10_urban.pkl...\n",
      "pc11_d_id\n",
      "032    60\n",
      "040    26\n",
      "041    16\n",
      "045    35\n",
      "047    49\n",
      "       ..\n",
      "630    67\n",
      "631    88\n",
      "632    72\n",
      "633    92\n",
      "635    12\n",
      "Length: 200, dtype: int64\n",
      "Saved 1000 sampled IDs to /home/libe2152/optimizedsampling/0_data/initial_samples/india_secc/convenience_sampling/cluster_based/IDS_top10_urban_cluster_pc11_d_id_5_ppc_200_clusters_1000_size_probabilistic_seed_42.pkl\n"
     ]
    },
    {
     "name": "stderr",
     "output_type": "stream",
     "text": [
      "/home/libe2152/optimizedsampling/2_initial_sample/infrastructure_convenience_sampling.py:237: UserWarning: Legend does not support handles for PatchCollection instances.\n",
      "See: https://matplotlib.org/stable/tutorials/intermediate/legend_guide.html#implementing-a-custom-legend-handler\n",
      "  ax.legend(loc='lower left', fontsize=10, title='Legend', title_fontsize=11, frameon=True)\n",
      "/home/libe2152/optimizedsampling/2_initial_sample/infrastructure_convenience_sampling.py:237: UserWarning: No artists with labels found to put in legend.  Note that artists whose label start with an underscore are ignored when legend() is called with no argument.\n",
      "  ax.legend(loc='lower left', fontsize=10, title='Legend', title_fontsize=11, frameon=True)\n"
     ]
    },
    {
     "name": "stdout",
     "output_type": "stream",
     "text": [
      "Saved plot to /home/libe2152/optimizedsampling/0_data/initial_samples/india_secc/convenience_sampling/cluster_based/plots/top10_urban_areas_cluster_pc11_d_id_5_ppc_200_clusters_probabilistic_1000_size_seed_42.png\n",
      "Initializing ClusterConvenienceSampler...\n",
      "Loading precomputed cluster distances from /home/libe2152/optimizedsampling/0_data/distancesindia_secc/cluster_distance_to_top10_urban.pkl...\n",
      "pc11_d_id\n",
      "037    62\n",
      "040    26\n",
      "046    70\n",
      "047    49\n",
      "051    30\n",
      "       ..\n",
      "630    67\n",
      "631    88\n",
      "632    72\n",
      "633    92\n",
      "635    12\n",
      "Length: 200, dtype: int64\n",
      "Saved 1000 sampled IDs to /home/libe2152/optimizedsampling/0_data/initial_samples/india_secc/convenience_sampling/cluster_based/IDS_top10_urban_cluster_pc11_d_id_5_ppc_200_clusters_1000_size_probabilistic_seed_123.pkl\n"
     ]
    },
    {
     "name": "stderr",
     "output_type": "stream",
     "text": [
      "/home/libe2152/optimizedsampling/2_initial_sample/infrastructure_convenience_sampling.py:237: UserWarning: Legend does not support handles for PatchCollection instances.\n",
      "See: https://matplotlib.org/stable/tutorials/intermediate/legend_guide.html#implementing-a-custom-legend-handler\n",
      "  ax.legend(loc='lower left', fontsize=10, title='Legend', title_fontsize=11, frameon=True)\n",
      "/home/libe2152/optimizedsampling/2_initial_sample/infrastructure_convenience_sampling.py:237: UserWarning: No artists with labels found to put in legend.  Note that artists whose label start with an underscore are ignored when legend() is called with no argument.\n",
      "  ax.legend(loc='lower left', fontsize=10, title='Legend', title_fontsize=11, frameon=True)\n"
     ]
    },
    {
     "name": "stdout",
     "output_type": "stream",
     "text": [
      "Saved plot to /home/libe2152/optimizedsampling/0_data/initial_samples/india_secc/convenience_sampling/cluster_based/plots/top10_urban_areas_cluster_pc11_d_id_5_ppc_200_clusters_probabilistic_1000_size_seed_123.png\n",
      "Initializing ClusterConvenienceSampler...\n",
      "Loading precomputed cluster distances from /home/libe2152/optimizedsampling/0_data/distancesindia_secc/cluster_distance_to_top10_urban.pkl...\n",
      "pc11_d_id\n",
      "032    60\n",
      "041    16\n",
      "046    70\n",
      "047    49\n",
      "048    76\n",
      "       ..\n",
      "630    67\n",
      "631    88\n",
      "632    72\n",
      "633    92\n",
      "635    12\n",
      "Length: 200, dtype: int64\n",
      "Saved 1000 sampled IDs to /home/libe2152/optimizedsampling/0_data/initial_samples/india_secc/convenience_sampling/cluster_based/IDS_top10_urban_cluster_pc11_d_id_5_ppc_200_clusters_1000_size_probabilistic_seed_456.pkl\n"
     ]
    },
    {
     "name": "stderr",
     "output_type": "stream",
     "text": [
      "/home/libe2152/optimizedsampling/2_initial_sample/infrastructure_convenience_sampling.py:237: UserWarning: Legend does not support handles for PatchCollection instances.\n",
      "See: https://matplotlib.org/stable/tutorials/intermediate/legend_guide.html#implementing-a-custom-legend-handler\n",
      "  ax.legend(loc='lower left', fontsize=10, title='Legend', title_fontsize=11, frameon=True)\n",
      "/home/libe2152/optimizedsampling/2_initial_sample/infrastructure_convenience_sampling.py:237: UserWarning: No artists with labels found to put in legend.  Note that artists whose label start with an underscore are ignored when legend() is called with no argument.\n",
      "  ax.legend(loc='lower left', fontsize=10, title='Legend', title_fontsize=11, frameon=True)\n"
     ]
    },
    {
     "name": "stdout",
     "output_type": "stream",
     "text": [
      "Saved plot to /home/libe2152/optimizedsampling/0_data/initial_samples/india_secc/convenience_sampling/cluster_based/plots/top10_urban_areas_cluster_pc11_d_id_5_ppc_200_clusters_probabilistic_1000_size_seed_456.png\n",
      "Initializing ClusterConvenienceSampler...\n",
      "Loading precomputed cluster distances from /home/libe2152/optimizedsampling/0_data/distancesindia_secc/cluster_distance_to_top10_urban.pkl...\n",
      "pc11_d_id\n",
      "040    26\n",
      "041    16\n",
      "042    48\n",
      "047    49\n",
      "048    76\n",
      "       ..\n",
      "630    67\n",
      "631    88\n",
      "632    72\n",
      "633    92\n",
      "635    12\n",
      "Length: 200, dtype: int64\n",
      "Saved 1000 sampled IDs to /home/libe2152/optimizedsampling/0_data/initial_samples/india_secc/convenience_sampling/cluster_based/IDS_top10_urban_cluster_pc11_d_id_5_ppc_200_clusters_1000_size_probabilistic_seed_789.pkl\n"
     ]
    },
    {
     "name": "stderr",
     "output_type": "stream",
     "text": [
      "/home/libe2152/optimizedsampling/2_initial_sample/infrastructure_convenience_sampling.py:237: UserWarning: Legend does not support handles for PatchCollection instances.\n",
      "See: https://matplotlib.org/stable/tutorials/intermediate/legend_guide.html#implementing-a-custom-legend-handler\n",
      "  ax.legend(loc='lower left', fontsize=10, title='Legend', title_fontsize=11, frameon=True)\n",
      "/home/libe2152/optimizedsampling/2_initial_sample/infrastructure_convenience_sampling.py:237: UserWarning: No artists with labels found to put in legend.  Note that artists whose label start with an underscore are ignored when legend() is called with no argument.\n",
      "  ax.legend(loc='lower left', fontsize=10, title='Legend', title_fontsize=11, frameon=True)\n"
     ]
    },
    {
     "name": "stdout",
     "output_type": "stream",
     "text": [
      "Saved plot to /home/libe2152/optimizedsampling/0_data/initial_samples/india_secc/convenience_sampling/cluster_based/plots/top10_urban_areas_cluster_pc11_d_id_5_ppc_200_clusters_probabilistic_1000_size_seed_789.png\n",
      "Initializing ClusterConvenienceSampler...\n",
      "Loading precomputed cluster distances from /home/libe2152/optimizedsampling/0_data/distancesindia_secc/cluster_distance_to_top10_urban.pkl...\n",
      "pc11_d_id\n",
      "026    31\n",
      "040    26\n",
      "041    16\n",
      "042    48\n",
      "046    70\n",
      "       ..\n",
      "630    67\n",
      "631    88\n",
      "632    72\n",
      "633    92\n",
      "635    12\n",
      "Length: 200, dtype: int64\n",
      "Saved 1000 sampled IDs to /home/libe2152/optimizedsampling/0_data/initial_samples/india_secc/convenience_sampling/cluster_based/IDS_top10_urban_cluster_pc11_d_id_5_ppc_200_clusters_1000_size_probabilistic_seed_1234.pkl\n"
     ]
    },
    {
     "name": "stderr",
     "output_type": "stream",
     "text": [
      "/home/libe2152/optimizedsampling/2_initial_sample/infrastructure_convenience_sampling.py:237: UserWarning: Legend does not support handles for PatchCollection instances.\n",
      "See: https://matplotlib.org/stable/tutorials/intermediate/legend_guide.html#implementing-a-custom-legend-handler\n",
      "  ax.legend(loc='lower left', fontsize=10, title='Legend', title_fontsize=11, frameon=True)\n",
      "/home/libe2152/optimizedsampling/2_initial_sample/infrastructure_convenience_sampling.py:237: UserWarning: No artists with labels found to put in legend.  Note that artists whose label start with an underscore are ignored when legend() is called with no argument.\n",
      "  ax.legend(loc='lower left', fontsize=10, title='Legend', title_fontsize=11, frameon=True)\n"
     ]
    },
    {
     "name": "stdout",
     "output_type": "stream",
     "text": [
      "Saved plot to /home/libe2152/optimizedsampling/0_data/initial_samples/india_secc/convenience_sampling/cluster_based/plots/top10_urban_areas_cluster_pc11_d_id_5_ppc_200_clusters_probabilistic_1000_size_seed_1234.png\n",
      "Initializing ClusterConvenienceSampler...\n",
      "Loading precomputed cluster distances from /home/libe2152/optimizedsampling/0_data/distancesindia_secc/cluster_distance_to_top10_urban.pkl...\n",
      "pc11_d_id\n",
      "032    60\n",
      "040    26\n",
      "041    16\n",
      "047    49\n",
      "048    76\n",
      "       ..\n",
      "630    67\n",
      "631    88\n",
      "632    72\n",
      "633    92\n",
      "635    12\n",
      "Length: 200, dtype: int64\n",
      "Saved 1000 sampled IDs to /home/libe2152/optimizedsampling/0_data/initial_samples/india_secc/convenience_sampling/cluster_based/IDS_top10_urban_cluster_pc11_d_id_5_ppc_200_clusters_1000_size_probabilistic_seed_5678.pkl\n"
     ]
    },
    {
     "name": "stderr",
     "output_type": "stream",
     "text": [
      "/home/libe2152/optimizedsampling/2_initial_sample/infrastructure_convenience_sampling.py:237: UserWarning: Legend does not support handles for PatchCollection instances.\n",
      "See: https://matplotlib.org/stable/tutorials/intermediate/legend_guide.html#implementing-a-custom-legend-handler\n",
      "  ax.legend(loc='lower left', fontsize=10, title='Legend', title_fontsize=11, frameon=True)\n",
      "/home/libe2152/optimizedsampling/2_initial_sample/infrastructure_convenience_sampling.py:237: UserWarning: No artists with labels found to put in legend.  Note that artists whose label start with an underscore are ignored when legend() is called with no argument.\n",
      "  ax.legend(loc='lower left', fontsize=10, title='Legend', title_fontsize=11, frameon=True)\n"
     ]
    },
    {
     "name": "stdout",
     "output_type": "stream",
     "text": [
      "Saved plot to /home/libe2152/optimizedsampling/0_data/initial_samples/india_secc/convenience_sampling/cluster_based/plots/top10_urban_areas_cluster_pc11_d_id_5_ppc_200_clusters_probabilistic_1000_size_seed_5678.png\n",
      "Initializing ClusterConvenienceSampler...\n",
      "Loading precomputed cluster distances from /home/libe2152/optimizedsampling/0_data/distancesindia_secc/cluster_distance_to_top10_urban.pkl...\n",
      "pc11_d_id\n",
      "032    60\n",
      "035    80\n",
      "048    76\n",
      "051    30\n",
      "052    25\n",
      "       ..\n",
      "620    79\n",
      "630    67\n",
      "631    88\n",
      "632    72\n",
      "635    12\n",
      "Length: 200, dtype: int64\n",
      "Saved 1000 sampled IDs to /home/libe2152/optimizedsampling/0_data/initial_samples/india_secc/convenience_sampling/cluster_based/IDS_top10_urban_cluster_pc11_d_id_5_ppc_200_clusters_1000_size_probabilistic_seed_9101.pkl\n"
     ]
    },
    {
     "name": "stderr",
     "output_type": "stream",
     "text": [
      "/home/libe2152/optimizedsampling/2_initial_sample/infrastructure_convenience_sampling.py:237: UserWarning: Legend does not support handles for PatchCollection instances.\n",
      "See: https://matplotlib.org/stable/tutorials/intermediate/legend_guide.html#implementing-a-custom-legend-handler\n",
      "  ax.legend(loc='lower left', fontsize=10, title='Legend', title_fontsize=11, frameon=True)\n",
      "/home/libe2152/optimizedsampling/2_initial_sample/infrastructure_convenience_sampling.py:237: UserWarning: No artists with labels found to put in legend.  Note that artists whose label start with an underscore are ignored when legend() is called with no argument.\n",
      "  ax.legend(loc='lower left', fontsize=10, title='Legend', title_fontsize=11, frameon=True)\n"
     ]
    },
    {
     "name": "stdout",
     "output_type": "stream",
     "text": [
      "Saved plot to /home/libe2152/optimizedsampling/0_data/initial_samples/india_secc/convenience_sampling/cluster_based/plots/top10_urban_areas_cluster_pc11_d_id_5_ppc_200_clusters_probabilistic_1000_size_seed_9101.png\n",
      "Initializing ClusterConvenienceSampler...\n",
      "Loading precomputed cluster distances from /home/libe2152/optimizedsampling/0_data/distancesindia_secc/cluster_distance_to_top10_urban.pkl...\n",
      "pc11_d_id\n",
      "032    60\n",
      "039    28\n",
      "047    49\n",
      "048    76\n",
      "052    25\n",
      "       ..\n",
      "630    67\n",
      "631    88\n",
      "632    72\n",
      "633    92\n",
      "635    12\n",
      "Length: 200, dtype: int64\n",
      "Saved 1000 sampled IDs to /home/libe2152/optimizedsampling/0_data/initial_samples/india_secc/convenience_sampling/cluster_based/IDS_top10_urban_cluster_pc11_d_id_5_ppc_200_clusters_1000_size_probabilistic_seed_1213.pkl\n"
     ]
    },
    {
     "name": "stderr",
     "output_type": "stream",
     "text": [
      "/home/libe2152/optimizedsampling/2_initial_sample/infrastructure_convenience_sampling.py:237: UserWarning: Legend does not support handles for PatchCollection instances.\n",
      "See: https://matplotlib.org/stable/tutorials/intermediate/legend_guide.html#implementing-a-custom-legend-handler\n",
      "  ax.legend(loc='lower left', fontsize=10, title='Legend', title_fontsize=11, frameon=True)\n",
      "/home/libe2152/optimizedsampling/2_initial_sample/infrastructure_convenience_sampling.py:237: UserWarning: No artists with labels found to put in legend.  Note that artists whose label start with an underscore are ignored when legend() is called with no argument.\n",
      "  ax.legend(loc='lower left', fontsize=10, title='Legend', title_fontsize=11, frameon=True)\n"
     ]
    },
    {
     "name": "stdout",
     "output_type": "stream",
     "text": [
      "Saved plot to /home/libe2152/optimizedsampling/0_data/initial_samples/india_secc/convenience_sampling/cluster_based/plots/top10_urban_areas_cluster_pc11_d_id_5_ppc_200_clusters_probabilistic_1000_size_seed_1213.png\n",
      "Initializing ClusterConvenienceSampler...\n",
      "Loading precomputed cluster distances from /home/libe2152/optimizedsampling/0_data/distancesindia_secc/cluster_distance_to_top10_urban.pkl...\n",
      "pc11_d_id\n",
      "032    60\n",
      "039    28\n",
      "040    26\n",
      "042    48\n",
      "047    49\n",
      "       ..\n",
      "620    79\n",
      "630    67\n",
      "631    88\n",
      "632    72\n",
      "635    12\n",
      "Length: 200, dtype: int64\n",
      "Saved 1000 sampled IDs to /home/libe2152/optimizedsampling/0_data/initial_samples/india_secc/convenience_sampling/cluster_based/IDS_top10_urban_cluster_pc11_d_id_5_ppc_200_clusters_1000_size_probabilistic_seed_1415.pkl\n"
     ]
    },
    {
     "name": "stderr",
     "output_type": "stream",
     "text": [
      "/home/libe2152/optimizedsampling/2_initial_sample/infrastructure_convenience_sampling.py:237: UserWarning: Legend does not support handles for PatchCollection instances.\n",
      "See: https://matplotlib.org/stable/tutorials/intermediate/legend_guide.html#implementing-a-custom-legend-handler\n",
      "  ax.legend(loc='lower left', fontsize=10, title='Legend', title_fontsize=11, frameon=True)\n",
      "/home/libe2152/optimizedsampling/2_initial_sample/infrastructure_convenience_sampling.py:237: UserWarning: No artists with labels found to put in legend.  Note that artists whose label start with an underscore are ignored when legend() is called with no argument.\n",
      "  ax.legend(loc='lower left', fontsize=10, title='Legend', title_fontsize=11, frameon=True)\n"
     ]
    },
    {
     "name": "stdout",
     "output_type": "stream",
     "text": [
      "Saved plot to /home/libe2152/optimizedsampling/0_data/initial_samples/india_secc/convenience_sampling/cluster_based/plots/top10_urban_areas_cluster_pc11_d_id_5_ppc_200_clusters_probabilistic_1000_size_seed_1415.png\n",
      "Initializing ClusterConvenienceSampler...\n",
      "Loading precomputed cluster distances from /home/libe2152/optimizedsampling/0_data/distancesindia_secc/cluster_distance_to_top10_urban.pkl...\n",
      "pc11_d_id\n",
      "007    58\n",
      "016    22\n",
      "019    47\n",
      "022    23\n",
      "023    67\n",
      "       ..\n",
      "630    67\n",
      "631    88\n",
      "632    72\n",
      "633    92\n",
      "635    12\n",
      "Length: 400, dtype: int64\n",
      "Saved 2000 sampled IDs to /home/libe2152/optimizedsampling/0_data/initial_samples/india_secc/convenience_sampling/cluster_based/IDS_top10_urban_cluster_pc11_d_id_5_ppc_400_clusters_2000_size_probabilistic_seed_1.pkl\n"
     ]
    },
    {
     "name": "stderr",
     "output_type": "stream",
     "text": [
      "/home/libe2152/optimizedsampling/2_initial_sample/infrastructure_convenience_sampling.py:237: UserWarning: Legend does not support handles for PatchCollection instances.\n",
      "See: https://matplotlib.org/stable/tutorials/intermediate/legend_guide.html#implementing-a-custom-legend-handler\n",
      "  ax.legend(loc='lower left', fontsize=10, title='Legend', title_fontsize=11, frameon=True)\n",
      "/home/libe2152/optimizedsampling/2_initial_sample/infrastructure_convenience_sampling.py:237: UserWarning: No artists with labels found to put in legend.  Note that artists whose label start with an underscore are ignored when legend() is called with no argument.\n",
      "  ax.legend(loc='lower left', fontsize=10, title='Legend', title_fontsize=11, frameon=True)\n"
     ]
    },
    {
     "name": "stdout",
     "output_type": "stream",
     "text": [
      "Saved plot to /home/libe2152/optimizedsampling/0_data/initial_samples/india_secc/convenience_sampling/cluster_based/plots/top10_urban_areas_cluster_pc11_d_id_5_ppc_400_clusters_probabilistic_2000_size_seed_1.png\n",
      "Initializing ClusterConvenienceSampler...\n",
      "Loading precomputed cluster distances from /home/libe2152/optimizedsampling/0_data/distancesindia_secc/cluster_distance_to_top10_urban.pkl...\n",
      "pc11_d_id\n",
      "007     58\n",
      "016     22\n",
      "022     23\n",
      "023     67\n",
      "024    134\n",
      "      ... \n",
      "630     67\n",
      "631     88\n",
      "632     72\n",
      "633     92\n",
      "635     12\n",
      "Length: 400, dtype: int64\n",
      "Saved 2000 sampled IDs to /home/libe2152/optimizedsampling/0_data/initial_samples/india_secc/convenience_sampling/cluster_based/IDS_top10_urban_cluster_pc11_d_id_5_ppc_400_clusters_2000_size_probabilistic_seed_42.pkl\n"
     ]
    },
    {
     "name": "stderr",
     "output_type": "stream",
     "text": [
      "/home/libe2152/optimizedsampling/2_initial_sample/infrastructure_convenience_sampling.py:237: UserWarning: Legend does not support handles for PatchCollection instances.\n",
      "See: https://matplotlib.org/stable/tutorials/intermediate/legend_guide.html#implementing-a-custom-legend-handler\n",
      "  ax.legend(loc='lower left', fontsize=10, title='Legend', title_fontsize=11, frameon=True)\n",
      "/home/libe2152/optimizedsampling/2_initial_sample/infrastructure_convenience_sampling.py:237: UserWarning: No artists with labels found to put in legend.  Note that artists whose label start with an underscore are ignored when legend() is called with no argument.\n",
      "  ax.legend(loc='lower left', fontsize=10, title='Legend', title_fontsize=11, frameon=True)\n"
     ]
    },
    {
     "name": "stdout",
     "output_type": "stream",
     "text": [
      "Saved plot to /home/libe2152/optimizedsampling/0_data/initial_samples/india_secc/convenience_sampling/cluster_based/plots/top10_urban_areas_cluster_pc11_d_id_5_ppc_400_clusters_probabilistic_2000_size_seed_42.png\n",
      "Initializing ClusterConvenienceSampler...\n",
      "Loading precomputed cluster distances from /home/libe2152/optimizedsampling/0_data/distancesindia_secc/cluster_distance_to_top10_urban.pkl...\n",
      "pc11_d_id\n",
      "007    58\n",
      "018    58\n",
      "019    47\n",
      "020    46\n",
      "022    23\n",
      "       ..\n",
      "630    67\n",
      "631    88\n",
      "632    72\n",
      "633    92\n",
      "635    12\n",
      "Length: 400, dtype: int64\n",
      "Saved 2000 sampled IDs to /home/libe2152/optimizedsampling/0_data/initial_samples/india_secc/convenience_sampling/cluster_based/IDS_top10_urban_cluster_pc11_d_id_5_ppc_400_clusters_2000_size_probabilistic_seed_123.pkl\n"
     ]
    },
    {
     "name": "stderr",
     "output_type": "stream",
     "text": [
      "/home/libe2152/optimizedsampling/2_initial_sample/infrastructure_convenience_sampling.py:237: UserWarning: Legend does not support handles for PatchCollection instances.\n",
      "See: https://matplotlib.org/stable/tutorials/intermediate/legend_guide.html#implementing-a-custom-legend-handler\n",
      "  ax.legend(loc='lower left', fontsize=10, title='Legend', title_fontsize=11, frameon=True)\n",
      "/home/libe2152/optimizedsampling/2_initial_sample/infrastructure_convenience_sampling.py:237: UserWarning: No artists with labels found to put in legend.  Note that artists whose label start with an underscore are ignored when legend() is called with no argument.\n",
      "  ax.legend(loc='lower left', fontsize=10, title='Legend', title_fontsize=11, frameon=True)\n"
     ]
    },
    {
     "name": "stdout",
     "output_type": "stream",
     "text": [
      "Saved plot to /home/libe2152/optimizedsampling/0_data/initial_samples/india_secc/convenience_sampling/cluster_based/plots/top10_urban_areas_cluster_pc11_d_id_5_ppc_400_clusters_probabilistic_2000_size_seed_123.png\n",
      "Initializing ClusterConvenienceSampler...\n",
      "Loading precomputed cluster distances from /home/libe2152/optimizedsampling/0_data/distancesindia_secc/cluster_distance_to_top10_urban.pkl...\n",
      "pc11_d_id\n",
      "007    58\n",
      "016    22\n",
      "018    58\n",
      "019    47\n",
      "023    67\n",
      "       ..\n",
      "630    67\n",
      "631    88\n",
      "632    72\n",
      "633    92\n",
      "635    12\n",
      "Length: 400, dtype: int64\n",
      "Saved 2000 sampled IDs to /home/libe2152/optimizedsampling/0_data/initial_samples/india_secc/convenience_sampling/cluster_based/IDS_top10_urban_cluster_pc11_d_id_5_ppc_400_clusters_2000_size_probabilistic_seed_456.pkl\n"
     ]
    },
    {
     "name": "stderr",
     "output_type": "stream",
     "text": [
      "/home/libe2152/optimizedsampling/2_initial_sample/infrastructure_convenience_sampling.py:237: UserWarning: Legend does not support handles for PatchCollection instances.\n",
      "See: https://matplotlib.org/stable/tutorials/intermediate/legend_guide.html#implementing-a-custom-legend-handler\n",
      "  ax.legend(loc='lower left', fontsize=10, title='Legend', title_fontsize=11, frameon=True)\n",
      "/home/libe2152/optimizedsampling/2_initial_sample/infrastructure_convenience_sampling.py:237: UserWarning: No artists with labels found to put in legend.  Note that artists whose label start with an underscore are ignored when legend() is called with no argument.\n",
      "  ax.legend(loc='lower left', fontsize=10, title='Legend', title_fontsize=11, frameon=True)\n"
     ]
    },
    {
     "name": "stdout",
     "output_type": "stream",
     "text": [
      "Saved plot to /home/libe2152/optimizedsampling/0_data/initial_samples/india_secc/convenience_sampling/cluster_based/plots/top10_urban_areas_cluster_pc11_d_id_5_ppc_400_clusters_probabilistic_2000_size_seed_456.png\n",
      "Initializing ClusterConvenienceSampler...\n",
      "Loading precomputed cluster distances from /home/libe2152/optimizedsampling/0_data/distancesindia_secc/cluster_distance_to_top10_urban.pkl...\n",
      "pc11_d_id\n",
      "007    58\n",
      "016    22\n",
      "019    47\n",
      "020    46\n",
      "021    51\n",
      "       ..\n",
      "630    67\n",
      "631    88\n",
      "632    72\n",
      "633    92\n",
      "635    12\n",
      "Length: 400, dtype: int64\n",
      "Saved 2000 sampled IDs to /home/libe2152/optimizedsampling/0_data/initial_samples/india_secc/convenience_sampling/cluster_based/IDS_top10_urban_cluster_pc11_d_id_5_ppc_400_clusters_2000_size_probabilistic_seed_789.pkl\n"
     ]
    },
    {
     "name": "stderr",
     "output_type": "stream",
     "text": [
      "/home/libe2152/optimizedsampling/2_initial_sample/infrastructure_convenience_sampling.py:237: UserWarning: Legend does not support handles for PatchCollection instances.\n",
      "See: https://matplotlib.org/stable/tutorials/intermediate/legend_guide.html#implementing-a-custom-legend-handler\n",
      "  ax.legend(loc='lower left', fontsize=10, title='Legend', title_fontsize=11, frameon=True)\n",
      "/home/libe2152/optimizedsampling/2_initial_sample/infrastructure_convenience_sampling.py:237: UserWarning: No artists with labels found to put in legend.  Note that artists whose label start with an underscore are ignored when legend() is called with no argument.\n",
      "  ax.legend(loc='lower left', fontsize=10, title='Legend', title_fontsize=11, frameon=True)\n"
     ]
    },
    {
     "name": "stdout",
     "output_type": "stream",
     "text": [
      "Saved plot to /home/libe2152/optimizedsampling/0_data/initial_samples/india_secc/convenience_sampling/cluster_based/plots/top10_urban_areas_cluster_pc11_d_id_5_ppc_400_clusters_probabilistic_2000_size_seed_789.png\n",
      "Initializing ClusterConvenienceSampler...\n",
      "Loading precomputed cluster distances from /home/libe2152/optimizedsampling/0_data/distancesindia_secc/cluster_distance_to_top10_urban.pkl...\n",
      "pc11_d_id\n",
      "007     58\n",
      "018     58\n",
      "022     23\n",
      "023     67\n",
      "024    134\n",
      "      ... \n",
      "630     67\n",
      "631     88\n",
      "632     72\n",
      "633     92\n",
      "635     12\n",
      "Length: 400, dtype: int64\n",
      "Saved 2000 sampled IDs to /home/libe2152/optimizedsampling/0_data/initial_samples/india_secc/convenience_sampling/cluster_based/IDS_top10_urban_cluster_pc11_d_id_5_ppc_400_clusters_2000_size_probabilistic_seed_1234.pkl\n"
     ]
    },
    {
     "name": "stderr",
     "output_type": "stream",
     "text": [
      "/home/libe2152/optimizedsampling/2_initial_sample/infrastructure_convenience_sampling.py:237: UserWarning: Legend does not support handles for PatchCollection instances.\n",
      "See: https://matplotlib.org/stable/tutorials/intermediate/legend_guide.html#implementing-a-custom-legend-handler\n",
      "  ax.legend(loc='lower left', fontsize=10, title='Legend', title_fontsize=11, frameon=True)\n",
      "/home/libe2152/optimizedsampling/2_initial_sample/infrastructure_convenience_sampling.py:237: UserWarning: No artists with labels found to put in legend.  Note that artists whose label start with an underscore are ignored when legend() is called with no argument.\n",
      "  ax.legend(loc='lower left', fontsize=10, title='Legend', title_fontsize=11, frameon=True)\n"
     ]
    },
    {
     "name": "stdout",
     "output_type": "stream",
     "text": [
      "Saved plot to /home/libe2152/optimizedsampling/0_data/initial_samples/india_secc/convenience_sampling/cluster_based/plots/top10_urban_areas_cluster_pc11_d_id_5_ppc_400_clusters_probabilistic_2000_size_seed_1234.png\n",
      "Initializing ClusterConvenienceSampler...\n",
      "Loading precomputed cluster distances from /home/libe2152/optimizedsampling/0_data/distancesindia_secc/cluster_distance_to_top10_urban.pkl...\n",
      "pc11_d_id\n",
      "007    58\n",
      "015    17\n",
      "016    22\n",
      "019    47\n",
      "023    67\n",
      "       ..\n",
      "630    67\n",
      "631    88\n",
      "632    72\n",
      "633    92\n",
      "635    12\n",
      "Length: 400, dtype: int64\n",
      "Saved 2000 sampled IDs to /home/libe2152/optimizedsampling/0_data/initial_samples/india_secc/convenience_sampling/cluster_based/IDS_top10_urban_cluster_pc11_d_id_5_ppc_400_clusters_2000_size_probabilistic_seed_5678.pkl\n"
     ]
    },
    {
     "name": "stderr",
     "output_type": "stream",
     "text": [
      "/home/libe2152/optimizedsampling/2_initial_sample/infrastructure_convenience_sampling.py:237: UserWarning: Legend does not support handles for PatchCollection instances.\n",
      "See: https://matplotlib.org/stable/tutorials/intermediate/legend_guide.html#implementing-a-custom-legend-handler\n",
      "  ax.legend(loc='lower left', fontsize=10, title='Legend', title_fontsize=11, frameon=True)\n",
      "/home/libe2152/optimizedsampling/2_initial_sample/infrastructure_convenience_sampling.py:237: UserWarning: No artists with labels found to put in legend.  Note that artists whose label start with an underscore are ignored when legend() is called with no argument.\n",
      "  ax.legend(loc='lower left', fontsize=10, title='Legend', title_fontsize=11, frameon=True)\n"
     ]
    },
    {
     "name": "stdout",
     "output_type": "stream",
     "text": [
      "Saved plot to /home/libe2152/optimizedsampling/0_data/initial_samples/india_secc/convenience_sampling/cluster_based/plots/top10_urban_areas_cluster_pc11_d_id_5_ppc_400_clusters_probabilistic_2000_size_seed_5678.png\n",
      "Initializing ClusterConvenienceSampler...\n",
      "Loading precomputed cluster distances from /home/libe2152/optimizedsampling/0_data/distancesindia_secc/cluster_distance_to_top10_urban.pkl...\n",
      "pc11_d_id\n",
      "007    58\n",
      "016    22\n",
      "021    51\n",
      "022    23\n",
      "023    67\n",
      "       ..\n",
      "630    67\n",
      "631    88\n",
      "632    72\n",
      "633    92\n",
      "635    12\n",
      "Length: 400, dtype: int64\n",
      "Saved 2000 sampled IDs to /home/libe2152/optimizedsampling/0_data/initial_samples/india_secc/convenience_sampling/cluster_based/IDS_top10_urban_cluster_pc11_d_id_5_ppc_400_clusters_2000_size_probabilistic_seed_9101.pkl\n"
     ]
    },
    {
     "name": "stderr",
     "output_type": "stream",
     "text": [
      "/home/libe2152/optimizedsampling/2_initial_sample/infrastructure_convenience_sampling.py:237: UserWarning: Legend does not support handles for PatchCollection instances.\n",
      "See: https://matplotlib.org/stable/tutorials/intermediate/legend_guide.html#implementing-a-custom-legend-handler\n",
      "  ax.legend(loc='lower left', fontsize=10, title='Legend', title_fontsize=11, frameon=True)\n",
      "/home/libe2152/optimizedsampling/2_initial_sample/infrastructure_convenience_sampling.py:237: UserWarning: No artists with labels found to put in legend.  Note that artists whose label start with an underscore are ignored when legend() is called with no argument.\n",
      "  ax.legend(loc='lower left', fontsize=10, title='Legend', title_fontsize=11, frameon=True)\n"
     ]
    },
    {
     "name": "stdout",
     "output_type": "stream",
     "text": [
      "Saved plot to /home/libe2152/optimizedsampling/0_data/initial_samples/india_secc/convenience_sampling/cluster_based/plots/top10_urban_areas_cluster_pc11_d_id_5_ppc_400_clusters_probabilistic_2000_size_seed_9101.png\n",
      "Initializing ClusterConvenienceSampler...\n",
      "Loading precomputed cluster distances from /home/libe2152/optimizedsampling/0_data/distancesindia_secc/cluster_distance_to_top10_urban.pkl...\n",
      "pc11_d_id\n",
      "005    27\n",
      "007    58\n",
      "015    17\n",
      "016    22\n",
      "019    47\n",
      "       ..\n",
      "630    67\n",
      "631    88\n",
      "632    72\n",
      "633    92\n",
      "635    12\n",
      "Length: 400, dtype: int64\n",
      "Saved 2000 sampled IDs to /home/libe2152/optimizedsampling/0_data/initial_samples/india_secc/convenience_sampling/cluster_based/IDS_top10_urban_cluster_pc11_d_id_5_ppc_400_clusters_2000_size_probabilistic_seed_1213.pkl\n"
     ]
    },
    {
     "name": "stderr",
     "output_type": "stream",
     "text": [
      "/home/libe2152/optimizedsampling/2_initial_sample/infrastructure_convenience_sampling.py:237: UserWarning: Legend does not support handles for PatchCollection instances.\n",
      "See: https://matplotlib.org/stable/tutorials/intermediate/legend_guide.html#implementing-a-custom-legend-handler\n",
      "  ax.legend(loc='lower left', fontsize=10, title='Legend', title_fontsize=11, frameon=True)\n",
      "/home/libe2152/optimizedsampling/2_initial_sample/infrastructure_convenience_sampling.py:237: UserWarning: No artists with labels found to put in legend.  Note that artists whose label start with an underscore are ignored when legend() is called with no argument.\n",
      "  ax.legend(loc='lower left', fontsize=10, title='Legend', title_fontsize=11, frameon=True)\n"
     ]
    },
    {
     "name": "stdout",
     "output_type": "stream",
     "text": [
      "Saved plot to /home/libe2152/optimizedsampling/0_data/initial_samples/india_secc/convenience_sampling/cluster_based/plots/top10_urban_areas_cluster_pc11_d_id_5_ppc_400_clusters_probabilistic_2000_size_seed_1213.png\n",
      "Initializing ClusterConvenienceSampler...\n",
      "Loading precomputed cluster distances from /home/libe2152/optimizedsampling/0_data/distancesindia_secc/cluster_distance_to_top10_urban.pkl...\n",
      "pc11_d_id\n",
      "006    60\n",
      "007    58\n",
      "016    22\n",
      "020    46\n",
      "022    23\n",
      "       ..\n",
      "630    67\n",
      "631    88\n",
      "632    72\n",
      "633    92\n",
      "635    12\n",
      "Length: 400, dtype: int64\n",
      "Saved 2000 sampled IDs to /home/libe2152/optimizedsampling/0_data/initial_samples/india_secc/convenience_sampling/cluster_based/IDS_top10_urban_cluster_pc11_d_id_5_ppc_400_clusters_2000_size_probabilistic_seed_1415.pkl\n"
     ]
    },
    {
     "name": "stderr",
     "output_type": "stream",
     "text": [
      "/home/libe2152/optimizedsampling/2_initial_sample/infrastructure_convenience_sampling.py:237: UserWarning: Legend does not support handles for PatchCollection instances.\n",
      "See: https://matplotlib.org/stable/tutorials/intermediate/legend_guide.html#implementing-a-custom-legend-handler\n",
      "  ax.legend(loc='lower left', fontsize=10, title='Legend', title_fontsize=11, frameon=True)\n",
      "/home/libe2152/optimizedsampling/2_initial_sample/infrastructure_convenience_sampling.py:237: UserWarning: No artists with labels found to put in legend.  Note that artists whose label start with an underscore are ignored when legend() is called with no argument.\n",
      "  ax.legend(loc='lower left', fontsize=10, title='Legend', title_fontsize=11, frameon=True)\n"
     ]
    },
    {
     "name": "stdout",
     "output_type": "stream",
     "text": [
      "Saved plot to /home/libe2152/optimizedsampling/0_data/initial_samples/india_secc/convenience_sampling/cluster_based/plots/top10_urban_areas_cluster_pc11_d_id_5_ppc_400_clusters_probabilistic_2000_size_seed_1415.png\n",
      "Initializing ClusterConvenienceSampler...\n",
      "Loading precomputed cluster distances from /home/libe2152/optimizedsampling/0_data/distancesindia_secc/cluster_distance_to_top10_urban.pkl...\n"
     ]
    },
    {
     "ename": "ValueError",
     "evalue": "Not enough valid clusters with at least 5 points. Needed: 600, Available: 545",
     "output_type": "error",
     "traceback": [
      "\u001b[31m---------------------------------------------------------------------------\u001b[39m",
      "\u001b[31mValueError\u001b[39m                                Traceback (most recent call last)",
      "\u001b[36mCell\u001b[39m\u001b[36m \u001b[39m\u001b[32mIn[6]\u001b[39m\u001b[32m, line 47\u001b[39m\n\u001b[32m     33\u001b[39m \u001b[38;5;28mprint\u001b[39m(\u001b[33m\"\u001b[39m\u001b[33mInitializing ClusterConvenienceSampler...\u001b[39m\u001b[33m\"\u001b[39m)\n\u001b[32m     34\u001b[39m sampler = UrbanConvenienceSampler(  \u001b[38;5;66;03m# make sure you have this class\u001b[39;00m\n\u001b[32m     35\u001b[39m     gdf_points=gdf,\n\u001b[32m     36\u001b[39m     id_col=id_col,\n\u001b[32m   (...)\u001b[39m\u001b[32m     44\u001b[39m     admin_ids=ADMIN_IDS\n\u001b[32m     45\u001b[39m )\n\u001b[32m---> \u001b[39m\u001b[32m47\u001b[39m sampler.sample_by_clusters(\n\u001b[32m     48\u001b[39m     total_sample_size=desired_sample_size,\n\u001b[32m     49\u001b[39m     method=method,\n\u001b[32m     50\u001b[39m     temp=temp,\n\u001b[32m     51\u001b[39m     seed=seed\n\u001b[32m     52\u001b[39m )\n\u001b[32m     53\u001b[39m sampler.save_sampled_ids(out_path)\n\u001b[32m     54\u001b[39m sampler.plot(country_shape_file=country_shape_file, country_name=country_name)\n",
      "\u001b[36mFile \u001b[39m\u001b[32m~/optimizedsampling/2_initial_sample/infrastructure_convenience_sampling.py:162\u001b[39m, in \u001b[36mUrbanConvenienceSampler.sample_by_clusters\u001b[39m\u001b[34m(self, total_sample_size, method, temp, seed)\u001b[39m\n\u001b[32m    156\u001b[39m valid_clusters = [\n\u001b[32m    157\u001b[39m     c \u001b[38;5;28;01mfor\u001b[39;00m c \u001b[38;5;129;01min\u001b[39;00m \u001b[38;5;28mself\u001b[39m.cluster_distances.index\n\u001b[32m    158\u001b[39m     \u001b[38;5;28;01mif\u001b[39;00m \u001b[38;5;28mlen\u001b[39m(\u001b[38;5;28mself\u001b[39m.gdf_points[\u001b[38;5;28mself\u001b[39m.gdf_points[\u001b[38;5;28mself\u001b[39m.cluster_col] == c]) >= \u001b[38;5;28mself\u001b[39m.points_per_cluster\n\u001b[32m    159\u001b[39m ]\n\u001b[32m    161\u001b[39m \u001b[38;5;28;01mif\u001b[39;00m \u001b[38;5;28mlen\u001b[39m(valid_clusters) < n_clusters:\n\u001b[32m--> \u001b[39m\u001b[32m162\u001b[39m     \u001b[38;5;28;01mraise\u001b[39;00m \u001b[38;5;167;01mValueError\u001b[39;00m(\u001b[33mf\u001b[39m\u001b[33m\"\u001b[39m\u001b[33mNot enough valid clusters with at least \u001b[39m\u001b[38;5;132;01m{\u001b[39;00m\u001b[38;5;28mself\u001b[39m.points_per_cluster\u001b[38;5;132;01m}\u001b[39;00m\u001b[33m points. \u001b[39m\u001b[33m\"\u001b[39m\n\u001b[32m    163\u001b[39m                     \u001b[33mf\u001b[39m\u001b[33m\"\u001b[39m\u001b[33mNeeded: \u001b[39m\u001b[38;5;132;01m{\u001b[39;00mn_clusters\u001b[38;5;132;01m}\u001b[39;00m\u001b[33m, Available: \u001b[39m\u001b[38;5;132;01m{\u001b[39;00m\u001b[38;5;28mlen\u001b[39m(valid_clusters)\u001b[38;5;132;01m}\u001b[39;00m\u001b[33m\"\u001b[39m)\n\u001b[32m    165\u001b[39m cluster_distances = \u001b[38;5;28mself\u001b[39m.cluster_distances.loc[valid_clusters]\n\u001b[32m    167\u001b[39m \u001b[38;5;28;01mif\u001b[39;00m method == \u001b[33m\"\u001b[39m\u001b[33mdeterministic\u001b[39m\u001b[33m\"\u001b[39m:\n",
      "\u001b[31mValueError\u001b[39m: Not enough valid clusters with at least 5 points. Needed: 600, Available: 545"
     ]
    }
   ],
   "source": [
    "ADMIN_IDS = {\n",
    "'pc11_s_id': 'state',\n",
    "'pc11_d_id': 'district',\n",
    "'pc11_sd_id': 'subdistrict'\n",
    "}\n",
    "\n",
    "cluster_col = 'pc11_d_id'\n",
    "# or another appropriate cluster ID\n",
    "id_col=\"id\"\n",
    "id_col = 'condensed_shrug_id'\n",
    "\n",
    "for points_per_cluster in [20, 30, 50]:\n",
    "    gdf_path = '/share/india_secc/MOSAIKS/train_shrugs_with_admins.geojson'\n",
    "    gdf = gpd.read_file(gdf_path)\n",
    "\n",
    "    for n_urban in [10, 20, 50]:\n",
    "        pop_col = 'pc11_pca_tot_p_combined'\n",
    "\n",
    "        distances_dir = f'/home/libe2152/optimizedsampling/0_data/distances/india_secc/distance_to_top{n_urban}_urban.pkl'\n",
    "        cluster_distances_dir = f'/home/libe2152/optimizedsampling/0_data/distancesindia_secc/cluster_distance_to_top{n_urban}_urban.pkl'\n",
    "\n",
    "        country_shape_file = '/home/libe2152/optimizedsampling/0_data/boundaries/world/ne_10m_admin_0_countries.shp'\n",
    "        country_name = 'India'\n",
    "\n",
    "        out_path = f'/home/libe2152/optimizedsampling/0_data/initial_samples/india_secc/convenience_sampling'\n",
    "\n",
    "        method = 'probabilistic'\n",
    "        temp = 0.025\n",
    "\n",
    "        for desired_sample_size in range(1000, 6000, 1000):\n",
    "            for seed in [1, 42, 123, 456, 789, 1234, 5678, 9101, 1213, 1415]:\n",
    "                # Cluster Convenience Sampler (NEW)\n",
    "                print(\"Initializing ClusterConvenienceSampler...\")\n",
    "                sampler = UrbanConvenienceSampler(  # make sure you have this class\n",
    "                    gdf_points=gdf,\n",
    "                    id_col=id_col,\n",
    "                    pop_col=pop_col,\n",
    "                    cluster_col=cluster_col,\n",
    "                    points_per_cluster=points_per_cluster,\n",
    "                    gdf_urban=gdf,\n",
    "                    n_urban=n_urban,\n",
    "                    distances_dir=distances_dir,\n",
    "                    cluster_distances_dir=cluster_distances_dir,\n",
    "                    admin_ids=ADMIN_IDS\n",
    "                )\n",
    "\n",
    "                sampler.sample_by_clusters(\n",
    "                    total_sample_size=desired_sample_size,\n",
    "                    method=method,\n",
    "                    temp=temp,\n",
    "                    seed=seed\n",
    "                )\n",
    "                sampler.save_sampled_ids(out_path)\n",
    "                sampler.plot(country_shape_file=country_shape_file, country_name=country_name)"
   ]
  },
  {
   "cell_type": "markdown",
   "id": "6b1adef7",
   "metadata": {},
   "source": [
    "# Random Sampling"
   ]
  },
  {
   "cell_type": "code",
   "execution_count": null,
   "id": "f754cb39",
   "metadata": {},
   "outputs": [],
   "source": [
    "from random_sampling import RandomSampler"
   ]
  },
  {
   "cell_type": "code",
   "execution_count": null,
   "id": "bee20728",
   "metadata": {},
   "outputs": [],
   "source": [
    "data_path = \"/share/india_secc/MOSAIKS/train_shrugs_with_admins.geojson\"\n",
    "gdf = gpd.read_file(data_path)\n",
    "\n",
    "out_path = f'/home/libe2152/optimizedsampling/0_data/initial_samples/india_secc/random_sampling'\n",
    "\n",
    "country_shape_file = '/home/libe2152/optimizedsampling/0_data/boundaries/world/ne_10m_admin_0_countries.shp'\n",
    "country_name = 'India'\n",
    "\n",
    "sampler = RandomSampler(gdf, id_col=\"condensed_shrug_id\")\n",
    "\n",
    "for total_sample_size in range(1000, 6000, 1000):\n",
    "    for seed in [1, 42, 123, 456, 789, 1234, 5678, 9101, 1213, 1415]:\n",
    "        sampler.sample(total_sample_size=total_sample_size, seed=seed)\n",
    "        sampler.save_sampled_ids(out_path)\n",
    "        sampler.plot(country_shape_file=country_shape_file, country_name=country_name)\n",
    "        sampler.reset_sample()"
   ]
  }
 ],
 "metadata": {
  "kernelspec": {
   "display_name": "mosaiks",
   "language": "python",
   "name": "python3"
  },
  "language_info": {
   "codemirror_mode": {
    "name": "ipython",
    "version": 3
   },
   "file_extension": ".py",
   "mimetype": "text/x-python",
   "name": "python",
   "nbconvert_exporter": "python",
   "pygments_lexer": "ipython3",
   "version": "3.11.11"
  }
 },
 "nbformat": 4,
 "nbformat_minor": 5
}
