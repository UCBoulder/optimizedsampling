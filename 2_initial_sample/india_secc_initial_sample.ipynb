{
 "cells": [
  {
   "cell_type": "code",
   "execution_count": null,
   "id": "449dbf3f",
   "metadata": {},
   "outputs": [],
   "source": [
    "import geopandas as gpd"
   ]
  },
  {
   "cell_type": "markdown",
   "id": "283b726c",
   "metadata": {},
   "source": [
    "# Cluster Sampling"
   ]
  },
  {
   "cell_type": "code",
   "execution_count": null,
   "id": "70128e29",
   "metadata": {},
   "outputs": [],
   "source": [
    "from cluster_sampling import ClusterSampler"
   ]
  },
  {
   "cell_type": "code",
   "execution_count": null,
   "id": "6293164f",
   "metadata": {},
   "outputs": [],
   "source": [
    "\n",
    "ADMIN_IDS = {\n",
    "    'pc11_s_id': 'state',\n",
    "    'pc11_d_id': 'district',\n",
    "    'pc11_sd_id': 'subdistrict'\n",
    "}\n",
    "\n",
    "data_path = \"/share/india_secc/MOSAIKS/shrugs_with_all_admins.geojson\"\n",
    "gdf = gpd.read_file(data_path)\n",
    "\n",
    "country_shape_file = '/home/libe2152/optimizedsampling/0_data/boundaries/world/ne_10m_admin_0_countries.shp'\n",
    "country_name = 'India'\n",
    "\n",
    "strata_col = 'pc11_s_id'\n",
    "cluster_col = 'pc11_d_id'\n",
    "\n",
    "out_path = f'/home/libe2152/optimizedsampling/0_data/initial_samples/india_secc/cluster_sampling'\n",
    "\n",
    "sampler = ClusterSampler(gdf, id_col='condensed_shrug_id', strata_col=strata_col, cluster_col=cluster_col, ADMIN_IDS=ADMIN_IDS)\n",
    "\n",
    "for points_per_cluster in [2, 5, 10, 25]:\n",
    "    sampler.cluster_col = cluster_col\n",
    "    sampler.merge_small_strata(points_per_cluster)\n",
    "    sampler.merge_small_clusters(points_per_cluster)\n",
    "    for total_sample_size in range(100, 5000, 100):\n",
    "        \n",
    "        for seed in [1, 42, 123, 456, 789, 1234, 5678, 9101, 1213, 1415]:\n",
    "            try:\n",
    "                sampler.sample(total_sample_size, points_per_cluster, seed=seed)\n",
    "                sampler.save_sampled_ids(out_path)\n",
    "                sampler.plot(country_shape_file=country_shape_file, country_name=country_name)\n",
    "            except Exception as e:\n",
    "                print(e)\n",
    "                from IPython import embed; embed()\n",
    "            sampler.reset_sample()"
   ]
  },
  {
   "cell_type": "markdown",
   "id": "7bdea7e3",
   "metadata": {},
   "source": [
    "# Convenience Sampling"
   ]
  },
  {
   "cell_type": "code",
   "execution_count": null,
   "id": "5803a1d7",
   "metadata": {},
   "outputs": [],
   "source": [
    "from convenience_sampling import ConvenienceSampler"
   ]
  },
  {
   "cell_type": "code",
   "execution_count": null,
   "id": "fe843b25",
   "metadata": {},
   "outputs": [],
   "source": [
    "id_col = 'condensed_shrug_id'\n",
    "gdf_path = '/share/india_secc/MOSAIKS/shrugs_with_all_admins.geojson'\n",
    "n_urban = 50\n",
    "pop_col = 'pc11_pca_tot_p_combined'\n",
    "country_shape_file = '/home/libe2152/optimizedsampling/0_data/boundaries/world/ne_10m_admin_0_countries.shp'\n",
    "country_name = 'India'\n",
    "out_path = f'/home/libe2152/optimizedsampling/0_data/initial_samples/india_secc/convenience_sampling'\n",
    "distances_dir = f'/home/libe2152/optimizedsampling/0_data/distances/india_secc/distance_to_top50_urban.pkl'\n",
    "\n",
    "print(\"Reading GeoDataFrame...\")\n",
    "gdf = gpd.read_file(gdf_path)\n",
    "\n",
    "method = 'deterministic'\n",
    "for desired_sample_size in range(100, 5000, 100):\n",
    "    print(\"Initializing ConvenienceSampler...\")\n",
    "    sampler = ConvenienceSampler(\n",
    "        id_col=id_col,\n",
    "        gdf_points=gdf,\n",
    "        gdf_urban=gdf,\n",
    "        n_urban=n_urban,\n",
    "        pop_col=pop_col,\n",
    "        distances_dir=distances_dir\n",
    "    )\n",
    "\n",
    "    sampler.sample(n_samples=desired_sample_size, method=method, seed=1) #seed needed to break ties\n",
    "    sampler.save_sampled_ids(out_path)\n",
    "    sampler.plot(country_shape_file=country_shape_file, country_name=country_name)\n",
    "\n",
    "for method in ['probabilistic']:\n",
    "    for desired_sample_size in range(100, 5000, 100):\n",
    "        for seed in [1, 42, 123, 456, 789, 1234, 5678, 9101, 1213, 1415]:\n",
    "\n",
    "            print(\"Initializing ConvenienceSampler...\")\n",
    "            sampler = ConvenienceSampler(\n",
    "                id_col=id_col,\n",
    "                gdf_points=gdf,\n",
    "                gdf_urban=gdf,\n",
    "                n_urban=n_urban,\n",
    "                pop_col=pop_col,\n",
    "                distances_dir=distances_dir\n",
    "            )\n",
    "\n",
    "            sampler.sample(n_samples=desired_sample_size, method=method, seed=seed)\n",
    "            sampler.save_sampled_ids(out_path)\n",
    "            sampler.plot(country_shape_file=country_shape_file, country_name=country_name)"
   ]
  },
  {
   "cell_type": "markdown",
   "id": "6b1adef7",
   "metadata": {},
   "source": [
    "# Random Sampling"
   ]
  },
  {
   "cell_type": "code",
   "execution_count": null,
   "id": "f754cb39",
   "metadata": {},
   "outputs": [],
   "source": [
    "from random_sampling import RandomSampler"
   ]
  },
  {
   "cell_type": "code",
   "execution_count": null,
   "id": "bee20728",
   "metadata": {},
   "outputs": [],
   "source": [
    "data_path = \"/share/india_secc/MOSAIKS/shrugs_with_all_admins.geojson\"\n",
    "gdf = gpd.read_file(data_path)\n",
    "\n",
    "out_path = f'/home/libe2152/optimizedsampling/0_data/initial_samples/india_secc/random_sampling'\n",
    "\n",
    "country_shape_file = '/home/libe2152/optimizedsampling/0_data/boundaries/world/ne_10m_admin_0_countries.shp'\n",
    "country_name = 'India'\n",
    "\n",
    "sampler = RandomSampler(gdf, id_col=\"condensed_shrug_id\")\n",
    "\n",
    "for total_sample_size in range(100, 5000, 100):\n",
    "    for seed in [1, 42, 123, 456, 789, 1234, 5678, 9101, 1213, 1415]:\n",
    "        sampler.sample(total_sample_size=total_sample_size, seed=seed)\n",
    "        sampler.save_sampled_ids(out_path)\n",
    "        sampler.plot(country_shape_file=country_shape_file, country_name=country_name)\n",
    "        sampler.reset_sample()"
   ]
  }
 ],
 "metadata": {
  "language_info": {
   "name": "python"
  }
 },
 "nbformat": 4,
 "nbformat_minor": 5
}
