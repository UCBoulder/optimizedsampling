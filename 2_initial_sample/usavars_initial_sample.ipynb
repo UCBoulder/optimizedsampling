{
 "cells": [
  {
   "cell_type": "code",
   "execution_count": null,
   "id": "ea0dea08",
   "metadata": {},
   "outputs": [],
   "source": [
    "import geopandas as gpd"
   ]
  },
  {
   "cell_type": "markdown",
   "id": "b55c73d8",
   "metadata": {},
   "source": [
    "# Cluster Sample"
   ]
  },
  {
   "cell_type": "code",
   "execution_count": 1,
   "id": "c24a805d",
   "metadata": {},
   "outputs": [],
   "source": [
    "from cluster_sampling import ClusterSampler"
   ]
  },
  {
   "cell_type": "code",
   "execution_count": null,
   "id": "1d8edc5d",
   "metadata": {},
   "outputs": [],
   "source": [
    "ADMIN_IDS = {\n",
    "    'STATEFP': 'state',\n",
    "    'STATE_NAME': 'state',\n",
    "    'COUNTYFP': 'county',\n",
    "    'COUNTY_NAME': 'county'\n",
    "}\n",
    "\n",
    "for label in ['population', 'treecover']:\n",
    "\n",
    "    data_path = f\"/home/libe2152/optimizedsampling/0_data/admin_gdfs/usavars/{label}/gdf_counties_2015.geojson\"\n",
    "    gdf = gpd.read_file(data_path)\n",
    "\n",
    "    out_path = f'/home/libe2152/optimizedsampling/0_data/initial_samples/usavars/{label}/cluster_sampling'\n",
    "\n",
    "    country_shape_file = '/home/libe2152/optimizedsampling/0_data/boundaries/us/us_states_provinces/ne_110m_admin_1_states_provinces.shp'\n",
    "    exclude_names = ['Alaska', 'Hawaii', 'Puerto Rico']\n",
    "\n",
    "    strata_col = 'STATEFP'\n",
    "    cluster_col = 'COUNTYFP'\n",
    "\n",
    "    sampler = ClusterSampler(gdf, id_col='id', strata_col=strata_col, cluster_col=cluster_col)\n",
    "\n",
    "    for points_per_cluster in [2, 5, 10, 25]:\n",
    "        sampler.cluster_col = cluster_col\n",
    "        sampler.merge_small_strata(points_per_cluster)\n",
    "        sampler.merge_small_clusters(points_per_cluster)\n",
    "        for total_sample_size in range(100, 5000, 100):\n",
    "            \n",
    "            for seed in [1, 42, 123, 456, 789, 1234, 5678, 9101, 1213, 1415]:\n",
    "                try:\n",
    "                    sampler.sample(total_sample_size, points_per_cluster, seed=seed)\n",
    "                    sampler.save_sampled_ids(out_path)\n",
    "                    sampler.plot(country_shape_file=country_shape_file, exclude_names=exclude_names)\n",
    "                except Exception as e:\n",
    "                    print(e)\n",
    "                sampler.reset_sample()"
   ]
  },
  {
   "cell_type": "markdown",
   "id": "0c7fde38",
   "metadata": {},
   "source": [
    "# Convenience Sample"
   ]
  },
  {
   "cell_type": "code",
   "execution_count": 2,
   "id": "906e9508",
   "metadata": {},
   "outputs": [],
   "source": [
    "from convenience_sampling import ConvenienceSampler"
   ]
  },
  {
   "cell_type": "code",
   "execution_count": null,
   "id": "512378c4",
   "metadata": {},
   "outputs": [],
   "source": [
    "id_col = 'id'\n",
    "for label in ['population', 'treecover']:\n",
    "    gdf_path = f\"/home/libe2152/optimizedsampling/0_data/admin_gdfs/usavars/{label}/gdf_counties_2015.geojson\"\n",
    "    gdf = gpd.read_file(gdf_path)\n",
    "\n",
    "    n_urban = 50\n",
    "    pop_col = 'POP'\n",
    "    gdf_urban_path = '/home/libe2152/optimizedsampling/0_data/boundaries/us/us_urban_area_census_2020/tl_2020_us_uac20_with_pop.shp'\n",
    "    gdf_urban = gpd.read_file(gdf_urban_path)\n",
    "\n",
    "    distances_dir = f'/home/libe2152/optimizedsampling/0_data/distances/usavars/{label}/distance_to_top50_urban.pkl'\n",
    "\n",
    "    country_shape_file = '/home/libe2152/optimizedsampling/0_data/boundaries/us/us_states_provinces/ne_110m_admin_1_states_provinces.shp'\n",
    "    exclude_names = ['Alaska', 'Hawaii', 'Puerto Rico']\n",
    "\n",
    "    out_path = f'/home/libe2152/optimizedsampling/0_data/initial_samples/usavars/{label}/convenience_sampling'\n",
    "\n",
    "    print(\"Reading GeoDataFrame...\")\n",
    "    gdf = gpd.read_file(gdf_path)\n",
    "\n",
    "    method = 'deterministic'\n",
    "    for desired_sample_size in range(100, 5000, 100):\n",
    "        print(\"Initializing ConvenienceSampler...\")\n",
    "        sampler = ConvenienceSampler(\n",
    "            id_col=id_col,\n",
    "            gdf_points=gdf,\n",
    "            gdf_urban=gdf_urban,\n",
    "            n_urban=n_urban,\n",
    "            pop_col=pop_col,\n",
    "            distances_dir=distances_dir\n",
    "        )\n",
    "\n",
    "        sampler.sample(n_samples=desired_sample_size, method=method, seed=1) #seed needed to break ties\n",
    "        sampler.save_sampled_ids(out_path)\n",
    "        sampler.plot(country_shape_file=country_shape_file, exclude_names=exclude_names)\n",
    "\n",
    "    for method in ['probabilistic']:\n",
    "        for desired_sample_size in range(100, 5000, 100):\n",
    "            for seed in [1, 42, 123, 456, 789, 1234, 5678, 9101, 1213, 1415]:\n",
    "\n",
    "                print(\"Initializing ConvenienceSampler...\")\n",
    "                sampler = ConvenienceSampler(\n",
    "                    id_col=id_col,\n",
    "                    gdf_points=gdf,\n",
    "                    gdf_urban=gdf_urban,\n",
    "                    n_urban=n_urban,\n",
    "                    pop_col=pop_col,\n",
    "                    distances_dir=distances_dir\n",
    "                )\n",
    "\n",
    "                sampler.sample(n_samples=desired_sample_size, method=method, seed=seed)\n",
    "                sampler.save_sampled_ids(out_path)\n",
    "                sampler.plot(country_shape_file=country_shape_file, exclude_names=exclude_names)"
   ]
  },
  {
   "cell_type": "markdown",
   "id": "2eb9be5d",
   "metadata": {},
   "source": [
    "# Random Sampling"
   ]
  },
  {
   "cell_type": "code",
   "execution_count": null,
   "id": "b777cab1",
   "metadata": {},
   "outputs": [],
   "source": [
    "from random_sampling import RandomSampler"
   ]
  },
  {
   "cell_type": "code",
   "execution_count": null,
   "id": "aecfb837",
   "metadata": {},
   "outputs": [],
   "source": [
    "for label in ['population', 'treecover']:\n",
    "\n",
    "    data_path = f\"/home/libe2152/optimizedsampling/0_data/admin_gdfs/usavars/{label}/gdf_counties_2015.geojson\"\n",
    "    gdf = gpd.read_file(data_path)\n",
    "\n",
    "    out_path = f'/home/libe2152/optimizedsampling/0_data/initial_samples/usavars/{label}/random_sampling'\n",
    "\n",
    "    country_shape_file = '/home/libe2152/optimizedsampling/0_data/boundaries/us/us_states_provinces/ne_110m_admin_1_states_provinces.shp'\n",
    "    exclude_names = ['Alaska', 'Hawaii', 'Puerto Rico']\n",
    "\n",
    "    sampler = RandomSampler(gdf, id_col=\"id\")\n",
    "\n",
    "    for total_sample_size in [1100, 1200, 1300, 1400, 1500, 1600, 1700, 1800, 1900, 2000, 2100, 2200, 2300, 2400, 2500, 2600, 2700, 2800, 2900, 3000]:\n",
    "        for seed in [1, 42, 123, 456, 789, 1234, 5678, 9101, 1213, 1415]:\n",
    "            sampler.sample(total_sample_size=total_sample_size, seed=seed)\n",
    "            sampler.save_sampled_ids(out_path)\n",
    "            sampler.plot(country_shape_file, exclude_names=[\"Alaska\", \"Hawaii\", \"Puerto Rico\"])\n",
    "            sampler.reset_sample()"
   ]
  }
 ],
 "metadata": {
  "kernelspec": {
   "display_name": "mosaiks",
   "language": "python",
   "name": "python3"
  },
  "language_info": {
   "codemirror_mode": {
    "name": "ipython",
    "version": 3
   },
   "file_extension": ".py",
   "mimetype": "text/x-python",
   "name": "python",
   "nbconvert_exporter": "python",
   "pygments_lexer": "ipython3",
   "version": "3.11.11"
  }
 },
 "nbformat": 4,
 "nbformat_minor": 5
}
