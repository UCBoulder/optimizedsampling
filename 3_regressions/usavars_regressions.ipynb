{
 "cells": [
  {
   "cell_type": "code",
   "execution_count": 1,
   "id": "d6c3f0ba",
   "metadata": {},
   "outputs": [],
   "source": [
    "from regressions import ridge_regression\n",
    "from initial_set_regressions import cluster_sampling_r2_scores, convenience_sampling_r2_scores, random_sampling_r2_scores"
   ]
  },
  {
   "cell_type": "markdown",
   "id": "54479c88",
   "metadata": {},
   "source": [
    "# USAVars Initial Set Regressions"
   ]
  },
  {
   "cell_type": "code",
   "execution_count": null,
   "id": "6fb1407d",
   "metadata": {},
   "outputs": [
    {
     "name": "stdout",
     "output_type": "stream",
     "text": [
      "Loading features from /home/libe2152/optimizedsampling/0_data/features/usavars/CONTUS_UAR_population_with_splits_torchgeo4096.pkl ...\n",
      "Processing samples from /home/libe2152/optimizedsampling/0_data/initial_samples/usavars/population/cluster_sampling/fixedstrata_Idaho_16-Louisiana_22-Mississippi_28-New Mexico_35-Pennsylvania_42 ...\n"
     ]
    },
    {
     "name": "stderr",
     "output_type": "stream",
     "text": [
      "Processing samples:   0%|          | 0/201 [00:00<?, ?it/s]"
     ]
    },
    {
     "name": "stdout",
     "output_type": "stream",
     "text": [
      "Fitting regression...\n",
      "NUM SAMPLES: 988\n",
      "Best alpha: 46.41588833612782\n"
     ]
    },
    {
     "name": "stderr",
     "output_type": "stream",
     "text": [
      "Processing samples:   1%|          | 2/201 [00:20<34:10, 10.31s/it]"
     ]
    },
    {
     "name": "stdout",
     "output_type": "stream",
     "text": [
      "0.48414736071870523\n",
      "[WRITE] Saved result from sample_state_combined_county_id_10ppc_1000_size_seed_1.pkl to /home/libe2152/optimizedsampling/0_results/usavars/population/cluster_sampling_r2_scores.csv\n",
      "Fitting regression...\n",
      "NUM SAMPLES: 988\n",
      "Best alpha: 46.41588833612782\n"
     ]
    },
    {
     "name": "stderr",
     "output_type": "stream",
     "text": [
      "Processing samples:   1%|▏         | 3/201 [00:37<43:23, 13.15s/it]"
     ]
    },
    {
     "name": "stdout",
     "output_type": "stream",
     "text": [
      "0.46321011500341647\n",
      "[WRITE] Saved result from sample_state_combined_county_id_10ppc_1000_size_seed_1213.pkl to /home/libe2152/optimizedsampling/0_results/usavars/population/cluster_sampling_r2_scores.csv\n",
      "Fitting regression...\n",
      "NUM SAMPLES: 976\n",
      "Best alpha: 46.41588833612782\n"
     ]
    },
    {
     "name": "stderr",
     "output_type": "stream",
     "text": [
      "Processing samples:   2%|▏         | 4/201 [00:46<37:46, 11.51s/it]"
     ]
    },
    {
     "name": "stdout",
     "output_type": "stream",
     "text": [
      "0.5219234993212043\n",
      "[WRITE] Saved result from sample_state_combined_county_id_10ppc_1000_size_seed_123.pkl to /home/libe2152/optimizedsampling/0_results/usavars/population/cluster_sampling_r2_scores.csv\n",
      "Fitting regression...\n",
      "NUM SAMPLES: 981\n",
      "Best alpha: 46.41588833612782\n"
     ]
    },
    {
     "name": "stderr",
     "output_type": "stream",
     "text": [
      "Processing samples:   2%|▏         | 5/201 [00:55<34:14, 10.48s/it]"
     ]
    },
    {
     "name": "stdout",
     "output_type": "stream",
     "text": [
      "0.49204440661182747\n",
      "[WRITE] Saved result from sample_state_combined_county_id_10ppc_1000_size_seed_1234.pkl to /home/libe2152/optimizedsampling/0_results/usavars/population/cluster_sampling_r2_scores.csv\n",
      "Fitting regression...\n",
      "NUM SAMPLES: 978\n",
      "Best alpha: 46.41588833612782\n"
     ]
    },
    {
     "name": "stderr",
     "output_type": "stream",
     "text": [
      "Processing samples:   3%|▎         | 6/201 [01:07<35:58, 11.07s/it]"
     ]
    },
    {
     "name": "stdout",
     "output_type": "stream",
     "text": [
      "0.5150831913548034\n",
      "[WRITE] Saved result from sample_state_combined_county_id_10ppc_1000_size_seed_1415.pkl to /home/libe2152/optimizedsampling/0_results/usavars/population/cluster_sampling_r2_scores.csv\n",
      "Fitting regression...\n",
      "NUM SAMPLES: 978\n",
      "Best alpha: 46.41588833612782\n"
     ]
    },
    {
     "name": "stderr",
     "output_type": "stream",
     "text": [
      "Processing samples:   3%|▎         | 7/201 [01:24<42:32, 13.16s/it]"
     ]
    },
    {
     "name": "stdout",
     "output_type": "stream",
     "text": [
      "0.508396140409383\n",
      "[WRITE] Saved result from sample_state_combined_county_id_10ppc_1000_size_seed_42.pkl to /home/libe2152/optimizedsampling/0_results/usavars/population/cluster_sampling_r2_scores.csv\n",
      "Fitting regression...\n",
      "NUM SAMPLES: 982\n",
      "Best alpha: 3.593813663804626\n"
     ]
    },
    {
     "name": "stderr",
     "output_type": "stream",
     "text": [
      "Processing samples:   4%|▍         | 8/201 [01:33<37:59, 11.81s/it]"
     ]
    },
    {
     "name": "stdout",
     "output_type": "stream",
     "text": [
      "0.4823493079385801\n",
      "[WRITE] Saved result from sample_state_combined_county_id_10ppc_1000_size_seed_456.pkl to /home/libe2152/optimizedsampling/0_results/usavars/population/cluster_sampling_r2_scores.csv\n",
      "Fitting regression...\n",
      "NUM SAMPLES: 980\n",
      "Best alpha: 46.41588833612782\n"
     ]
    },
    {
     "name": "stderr",
     "output_type": "stream",
     "text": [
      "Processing samples:   4%|▍         | 9/201 [01:46<38:52, 12.15s/it]"
     ]
    },
    {
     "name": "stdout",
     "output_type": "stream",
     "text": [
      "0.5050720663923214\n",
      "[WRITE] Saved result from sample_state_combined_county_id_10ppc_1000_size_seed_5678.pkl to /home/libe2152/optimizedsampling/0_results/usavars/population/cluster_sampling_r2_scores.csv\n",
      "Fitting regression...\n",
      "NUM SAMPLES: 992\n",
      "Best alpha: 46.41588833612782\n"
     ]
    },
    {
     "name": "stderr",
     "output_type": "stream",
     "text": [
      "Processing samples:   5%|▍         | 10/201 [02:03<43:24, 13.64s/it]"
     ]
    },
    {
     "name": "stdout",
     "output_type": "stream",
     "text": [
      "0.5101824552534455\n",
      "[WRITE] Saved result from sample_state_combined_county_id_10ppc_1000_size_seed_789.pkl to /home/libe2152/optimizedsampling/0_results/usavars/population/cluster_sampling_r2_scores.csv\n",
      "Fitting regression...\n",
      "NUM SAMPLES: 991\n",
      "Best alpha: 46.41588833612782\n"
     ]
    },
    {
     "name": "stderr",
     "output_type": "stream",
     "text": [
      "Processing samples:   5%|▌         | 11/201 [02:18<44:44, 14.13s/it]"
     ]
    },
    {
     "name": "stdout",
     "output_type": "stream",
     "text": [
      "0.48242894522306123\n",
      "[WRITE] Saved result from sample_state_combined_county_id_10ppc_1000_size_seed_9101.pkl to /home/libe2152/optimizedsampling/0_results/usavars/population/cluster_sampling_r2_scores.csv\n",
      "Fitting regression...\n",
      "NUM SAMPLES: 85\n",
      "Best alpha: 599.4842503189421\n"
     ]
    },
    {
     "name": "stderr",
     "output_type": "stream",
     "text": [
      "Processing samples:   6%|▌         | 12/201 [02:19<31:38, 10.05s/it]"
     ]
    },
    {
     "name": "stdout",
     "output_type": "stream",
     "text": [
      "-0.17735197925532886\n",
      "[WRITE] Saved result from sample_state_combined_county_id_10ppc_100_size_seed_1.pkl to /home/libe2152/optimizedsampling/0_results/usavars/population/cluster_sampling_r2_scores.csv\n",
      "Fitting regression...\n",
      "NUM SAMPLES: 80\n",
      "Best alpha: 599.4842503189421\n"
     ]
    },
    {
     "name": "stderr",
     "output_type": "stream",
     "text": [
      "Processing samples:   6%|▋         | 13/201 [02:20<22:36,  7.22s/it]"
     ]
    },
    {
     "name": "stdout",
     "output_type": "stream",
     "text": [
      "0.2590298175672111\n",
      "[WRITE] Saved result from sample_state_combined_county_id_10ppc_100_size_seed_1213.pkl to /home/libe2152/optimizedsampling/0_results/usavars/population/cluster_sampling_r2_scores.csv\n",
      "Fitting regression...\n",
      "NUM SAMPLES: 80\n",
      "Best alpha: 46.41588833612782\n"
     ]
    },
    {
     "name": "stderr",
     "output_type": "stream",
     "text": [
      "Processing samples:   7%|▋         | 14/201 [02:20<16:19,  5.24s/it]"
     ]
    },
    {
     "name": "stdout",
     "output_type": "stream",
     "text": [
      "0.31673246782538167\n",
      "[WRITE] Saved result from sample_state_combined_county_id_10ppc_100_size_seed_123.pkl to /home/libe2152/optimizedsampling/0_results/usavars/population/cluster_sampling_r2_scores.csv\n",
      "Fitting regression...\n",
      "NUM SAMPLES: 75\n",
      "Best alpha: 599.4842503189421\n"
     ]
    },
    {
     "name": "stderr",
     "output_type": "stream",
     "text": [
      "Processing samples:   7%|▋         | 15/201 [02:21<11:57,  3.86s/it]"
     ]
    },
    {
     "name": "stdout",
     "output_type": "stream",
     "text": [
      "0.180441099784996\n",
      "[WRITE] Saved result from sample_state_combined_county_id_10ppc_100_size_seed_1234.pkl to /home/libe2152/optimizedsampling/0_results/usavars/population/cluster_sampling_r2_scores.csv\n",
      "Fitting regression...\n",
      "NUM SAMPLES: 80\n",
      "Best alpha: 3.593813663804626\n"
     ]
    },
    {
     "name": "stderr",
     "output_type": "stream",
     "text": [
      "Processing samples:   8%|▊         | 16/201 [02:22<09:00,  2.92s/it]"
     ]
    },
    {
     "name": "stdout",
     "output_type": "stream",
     "text": [
      "-0.5964336457445101\n",
      "[WRITE] Saved result from sample_state_combined_county_id_10ppc_100_size_seed_1415.pkl to /home/libe2152/optimizedsampling/0_results/usavars/population/cluster_sampling_r2_scores.csv\n",
      "Fitting regression...\n",
      "NUM SAMPLES: 80\n",
      "Best alpha: 599.4842503189421\n"
     ]
    },
    {
     "name": "stderr",
     "output_type": "stream",
     "text": [
      "Processing samples:   8%|▊         | 17/201 [02:22<06:54,  2.25s/it]"
     ]
    },
    {
     "name": "stdout",
     "output_type": "stream",
     "text": [
      "-0.02007989403175392\n",
      "[WRITE] Saved result from sample_state_combined_county_id_10ppc_100_size_seed_42.pkl to /home/libe2152/optimizedsampling/0_results/usavars/population/cluster_sampling_r2_scores.csv\n",
      "Fitting regression...\n",
      "NUM SAMPLES: 80\n",
      "Best alpha: 599.4842503189421\n"
     ]
    },
    {
     "name": "stderr",
     "output_type": "stream",
     "text": [
      "Processing samples:   9%|▉         | 18/201 [02:23<05:22,  1.76s/it]"
     ]
    },
    {
     "name": "stdout",
     "output_type": "stream",
     "text": [
      "0.02235582581403628\n",
      "[WRITE] Saved result from sample_state_combined_county_id_10ppc_100_size_seed_456.pkl to /home/libe2152/optimizedsampling/0_results/usavars/population/cluster_sampling_r2_scores.csv\n",
      "Fitting regression...\n",
      "NUM SAMPLES: 85\n",
      "Best alpha: 46.41588833612782\n"
     ]
    },
    {
     "name": "stderr",
     "output_type": "stream",
     "text": [
      "Processing samples:   9%|▉         | 19/201 [02:24<04:13,  1.40s/it]"
     ]
    },
    {
     "name": "stdout",
     "output_type": "stream",
     "text": [
      "-0.2769745410577569\n",
      "[WRITE] Saved result from sample_state_combined_county_id_10ppc_100_size_seed_5678.pkl to /home/libe2152/optimizedsampling/0_results/usavars/population/cluster_sampling_r2_scores.csv\n",
      "Fitting regression...\n",
      "NUM SAMPLES: 80\n",
      "Best alpha: 46.41588833612782\n"
     ]
    },
    {
     "name": "stderr",
     "output_type": "stream",
     "text": [
      "Processing samples:  10%|▉         | 20/201 [02:24<03:26,  1.14s/it]"
     ]
    },
    {
     "name": "stdout",
     "output_type": "stream",
     "text": [
      "0.10019800411067303\n",
      "[WRITE] Saved result from sample_state_combined_county_id_10ppc_100_size_seed_789.pkl to /home/libe2152/optimizedsampling/0_results/usavars/population/cluster_sampling_r2_scores.csv\n",
      "Fitting regression...\n",
      "NUM SAMPLES: 80\n",
      "Best alpha: 7742.636826811277\n"
     ]
    },
    {
     "name": "stderr",
     "output_type": "stream",
     "text": [
      "Processing samples:  10%|█         | 21/201 [02:25<02:52,  1.04it/s]"
     ]
    },
    {
     "name": "stdout",
     "output_type": "stream",
     "text": [
      "0.1542384343591635\n",
      "[WRITE] Saved result from sample_state_combined_county_id_10ppc_100_size_seed_9101.pkl to /home/libe2152/optimizedsampling/0_results/usavars/population/cluster_sampling_r2_scores.csv\n",
      "Fitting regression...\n",
      "NUM SAMPLES: 177\n",
      "Best alpha: 46.41588833612782\n"
     ]
    },
    {
     "name": "stderr",
     "output_type": "stream",
     "text": [
      "Processing samples:  11%|█         | 22/201 [02:27<03:51,  1.29s/it]"
     ]
    },
    {
     "name": "stdout",
     "output_type": "stream",
     "text": [
      "0.39674180625640465\n",
      "[WRITE] Saved result from sample_state_combined_county_id_10ppc_200_size_seed_1.pkl to /home/libe2152/optimizedsampling/0_results/usavars/population/cluster_sampling_r2_scores.csv\n",
      "Fitting regression...\n",
      "NUM SAMPLES: 170\n",
      "Best alpha: 46.41588833612782\n"
     ]
    },
    {
     "name": "stderr",
     "output_type": "stream",
     "text": [
      "Processing samples:  11%|█▏        | 23/201 [02:29<04:11,  1.42s/it]"
     ]
    },
    {
     "name": "stdout",
     "output_type": "stream",
     "text": [
      "0.41841924988486034\n",
      "[WRITE] Saved result from sample_state_combined_county_id_10ppc_200_size_seed_1213.pkl to /home/libe2152/optimizedsampling/0_results/usavars/population/cluster_sampling_r2_scores.csv\n",
      "Fitting regression...\n",
      "NUM SAMPLES: 170\n",
      "Best alpha: 46.41588833612782\n"
     ]
    },
    {
     "name": "stderr",
     "output_type": "stream",
     "text": [
      "Processing samples:  12%|█▏        | 24/201 [02:31<05:03,  1.71s/it]"
     ]
    },
    {
     "name": "stdout",
     "output_type": "stream",
     "text": [
      "0.42103045878227874\n",
      "[WRITE] Saved result from sample_state_combined_county_id_10ppc_200_size_seed_123.pkl to /home/libe2152/optimizedsampling/0_results/usavars/population/cluster_sampling_r2_scores.csv\n",
      "Fitting regression...\n",
      "NUM SAMPLES: 170\n",
      "Best alpha: 599.4842503189421\n"
     ]
    },
    {
     "name": "stderr",
     "output_type": "stream",
     "text": [
      "Processing samples:  12%|█▏        | 25/201 [02:33<05:29,  1.87s/it]"
     ]
    },
    {
     "name": "stdout",
     "output_type": "stream",
     "text": [
      "0.3034703821283393\n",
      "[WRITE] Saved result from sample_state_combined_county_id_10ppc_200_size_seed_1234.pkl to /home/libe2152/optimizedsampling/0_results/usavars/population/cluster_sampling_r2_scores.csv\n",
      "Fitting regression...\n",
      "NUM SAMPLES: 170\n",
      "Best alpha: 3.593813663804626\n"
     ]
    },
    {
     "name": "stderr",
     "output_type": "stream",
     "text": [
      "Processing samples:  13%|█▎        | 26/201 [02:35<05:38,  1.93s/it]"
     ]
    },
    {
     "name": "stdout",
     "output_type": "stream",
     "text": [
      "0.0902337683949439\n",
      "[WRITE] Saved result from sample_state_combined_county_id_10ppc_200_size_seed_1415.pkl to /home/libe2152/optimizedsampling/0_results/usavars/population/cluster_sampling_r2_scores.csv\n",
      "Fitting regression...\n",
      "NUM SAMPLES: 168\n",
      "Best alpha: 599.4842503189421\n"
     ]
    },
    {
     "name": "stderr",
     "output_type": "stream",
     "text": [
      "Processing samples:  13%|█▎        | 27/201 [02:37<05:43,  1.97s/it]"
     ]
    },
    {
     "name": "stdout",
     "output_type": "stream",
     "text": [
      "0.10879058271927966\n",
      "[WRITE] Saved result from sample_state_combined_county_id_10ppc_200_size_seed_42.pkl to /home/libe2152/optimizedsampling/0_results/usavars/population/cluster_sampling_r2_scores.csv\n",
      "Fitting regression...\n",
      "NUM SAMPLES: 170\n",
      "Best alpha: 46.41588833612782\n"
     ]
    },
    {
     "name": "stderr",
     "output_type": "stream",
     "text": [
      "Processing samples:  14%|█▍        | 28/201 [02:40<05:57,  2.06s/it]"
     ]
    },
    {
     "name": "stdout",
     "output_type": "stream",
     "text": [
      "0.32523654900392873\n",
      "[WRITE] Saved result from sample_state_combined_county_id_10ppc_200_size_seed_456.pkl to /home/libe2152/optimizedsampling/0_results/usavars/population/cluster_sampling_r2_scores.csv\n",
      "Fitting regression...\n",
      "NUM SAMPLES: 175\n",
      "Best alpha: 599.4842503189421\n"
     ]
    },
    {
     "name": "stderr",
     "output_type": "stream",
     "text": [
      "Processing samples:  14%|█▍        | 29/201 [02:42<05:50,  2.04s/it]"
     ]
    },
    {
     "name": "stdout",
     "output_type": "stream",
     "text": [
      "0.31390290098777995\n",
      "[WRITE] Saved result from sample_state_combined_county_id_10ppc_200_size_seed_5678.pkl to /home/libe2152/optimizedsampling/0_results/usavars/population/cluster_sampling_r2_scores.csv\n",
      "Fitting regression...\n",
      "NUM SAMPLES: 170\n",
      "Best alpha: 599.4842503189421\n"
     ]
    },
    {
     "name": "stderr",
     "output_type": "stream",
     "text": [
      "Processing samples:  15%|█▍        | 30/201 [02:44<05:50,  2.05s/it]"
     ]
    },
    {
     "name": "stdout",
     "output_type": "stream",
     "text": [
      "0.4099421796255597\n",
      "[WRITE] Saved result from sample_state_combined_county_id_10ppc_200_size_seed_789.pkl to /home/libe2152/optimizedsampling/0_results/usavars/population/cluster_sampling_r2_scores.csv\n",
      "Fitting regression...\n",
      "NUM SAMPLES: 170\n",
      "Best alpha: 599.4842503189421\n"
     ]
    },
    {
     "name": "stderr",
     "output_type": "stream",
     "text": [
      "Processing samples:  15%|█▌        | 31/201 [02:46<05:38,  1.99s/it]"
     ]
    },
    {
     "name": "stdout",
     "output_type": "stream",
     "text": [
      "0.2985083116163555\n",
      "[WRITE] Saved result from sample_state_combined_county_id_10ppc_200_size_seed_9101.pkl to /home/libe2152/optimizedsampling/0_results/usavars/population/cluster_sampling_r2_scores.csv\n",
      "Fitting regression...\n",
      "NUM SAMPLES: 282\n",
      "Best alpha: 46.41588833612782\n"
     ]
    },
    {
     "name": "stderr",
     "output_type": "stream",
     "text": [
      "Processing samples:  16%|█▌        | 32/201 [02:48<06:14,  2.21s/it]"
     ]
    },
    {
     "name": "stdout",
     "output_type": "stream",
     "text": [
      "0.3993481391866883\n",
      "[WRITE] Saved result from sample_state_combined_county_id_10ppc_300_size_seed_1.pkl to /home/libe2152/optimizedsampling/0_results/usavars/population/cluster_sampling_r2_scores.csv\n",
      "Fitting regression...\n",
      "NUM SAMPLES: 280\n",
      "Best alpha: 46.41588833612782\n"
     ]
    },
    {
     "name": "stderr",
     "output_type": "stream",
     "text": [
      "Processing samples:  16%|█▋        | 33/201 [02:52<07:06,  2.54s/it]"
     ]
    },
    {
     "name": "stdout",
     "output_type": "stream",
     "text": [
      "0.4936058316525085\n",
      "[WRITE] Saved result from sample_state_combined_county_id_10ppc_300_size_seed_1213.pkl to /home/libe2152/optimizedsampling/0_results/usavars/population/cluster_sampling_r2_scores.csv\n",
      "Fitting regression...\n",
      "NUM SAMPLES: 280\n",
      "Best alpha: 46.41588833612782\n"
     ]
    },
    {
     "name": "stderr",
     "output_type": "stream",
     "text": [
      "Processing samples:  17%|█▋        | 34/201 [02:55<07:47,  2.80s/it]"
     ]
    },
    {
     "name": "stdout",
     "output_type": "stream",
     "text": [
      "0.42922676598909837\n",
      "[WRITE] Saved result from sample_state_combined_county_id_10ppc_300_size_seed_123.pkl to /home/libe2152/optimizedsampling/0_results/usavars/population/cluster_sampling_r2_scores.csv\n",
      "Fitting regression...\n",
      "NUM SAMPLES: 280\n",
      "Best alpha: 599.4842503189421\n"
     ]
    },
    {
     "name": "stderr",
     "output_type": "stream",
     "text": [
      "Processing samples:  17%|█▋        | 35/201 [02:58<07:51,  2.84s/it]"
     ]
    },
    {
     "name": "stdout",
     "output_type": "stream",
     "text": [
      "0.41418058459779084\n",
      "[WRITE] Saved result from sample_state_combined_county_id_10ppc_300_size_seed_1234.pkl to /home/libe2152/optimizedsampling/0_results/usavars/population/cluster_sampling_r2_scores.csv\n",
      "Fitting regression...\n",
      "NUM SAMPLES: 280\n",
      "Best alpha: 46.41588833612782\n"
     ]
    },
    {
     "name": "stderr",
     "output_type": "stream",
     "text": [
      "Processing samples:  18%|█▊        | 36/201 [03:01<07:38,  2.78s/it]"
     ]
    },
    {
     "name": "stdout",
     "output_type": "stream",
     "text": [
      "0.3348774608530798\n",
      "[WRITE] Saved result from sample_state_combined_county_id_10ppc_300_size_seed_1415.pkl to /home/libe2152/optimizedsampling/0_results/usavars/population/cluster_sampling_r2_scores.csv\n",
      "Fitting regression...\n",
      "NUM SAMPLES: 276\n",
      "Best alpha: 46.41588833612782\n"
     ]
    },
    {
     "name": "stderr",
     "output_type": "stream",
     "text": [
      "Processing samples:  18%|█▊        | 37/201 [03:04<08:14,  3.01s/it]"
     ]
    },
    {
     "name": "stdout",
     "output_type": "stream",
     "text": [
      "0.2839372715788837\n",
      "[WRITE] Saved result from sample_state_combined_county_id_10ppc_300_size_seed_42.pkl to /home/libe2152/optimizedsampling/0_results/usavars/population/cluster_sampling_r2_scores.csv\n",
      "Fitting regression...\n",
      "NUM SAMPLES: 281\n",
      "Best alpha: 46.41588833612782\n"
     ]
    },
    {
     "name": "stderr",
     "output_type": "stream",
     "text": [
      "Processing samples:  19%|█▉        | 38/201 [03:08<08:35,  3.16s/it]"
     ]
    },
    {
     "name": "stdout",
     "output_type": "stream",
     "text": [
      "0.3472080267944778\n",
      "[WRITE] Saved result from sample_state_combined_county_id_10ppc_300_size_seed_456.pkl to /home/libe2152/optimizedsampling/0_results/usavars/population/cluster_sampling_r2_scores.csv\n",
      "Fitting regression...\n",
      "NUM SAMPLES: 274\n",
      "Best alpha: 46.41588833612782\n"
     ]
    },
    {
     "name": "stderr",
     "output_type": "stream",
     "text": [
      "Processing samples:  19%|█▉        | 39/201 [03:10<08:19,  3.08s/it]"
     ]
    },
    {
     "name": "stdout",
     "output_type": "stream",
     "text": [
      "0.28819454512962017\n",
      "[WRITE] Saved result from sample_state_combined_county_id_10ppc_300_size_seed_5678.pkl to /home/libe2152/optimizedsampling/0_results/usavars/population/cluster_sampling_r2_scores.csv\n",
      "Fitting regression...\n",
      "NUM SAMPLES: 280\n",
      "Best alpha: 599.4842503189421\n"
     ]
    },
    {
     "name": "stderr",
     "output_type": "stream",
     "text": [
      "Processing samples:  20%|█▉        | 40/201 [03:14<08:29,  3.16s/it]"
     ]
    },
    {
     "name": "stdout",
     "output_type": "stream",
     "text": [
      "0.4476029772743335\n",
      "[WRITE] Saved result from sample_state_combined_county_id_10ppc_300_size_seed_789.pkl to /home/libe2152/optimizedsampling/0_results/usavars/population/cluster_sampling_r2_scores.csv\n",
      "Fitting regression...\n",
      "NUM SAMPLES: 280\n",
      "Best alpha: 46.41588833612782\n"
     ]
    },
    {
     "name": "stderr",
     "output_type": "stream",
     "text": [
      "Processing samples:  20%|██        | 41/201 [03:16<07:33,  2.84s/it]"
     ]
    },
    {
     "name": "stdout",
     "output_type": "stream",
     "text": [
      "0.37308649246446235\n",
      "[WRITE] Saved result from sample_state_combined_county_id_10ppc_300_size_seed_9101.pkl to /home/libe2152/optimizedsampling/0_results/usavars/population/cluster_sampling_r2_scores.csv\n",
      "Fitting regression...\n",
      "NUM SAMPLES: 371\n",
      "Best alpha: 46.41588833612782\n"
     ]
    },
    {
     "name": "stderr",
     "output_type": "stream",
     "text": [
      "Processing samples:  21%|██        | 42/201 [03:19<08:04,  3.04s/it]"
     ]
    },
    {
     "name": "stdout",
     "output_type": "stream",
     "text": [
      "0.3619148311057102\n",
      "[WRITE] Saved result from sample_state_combined_county_id_10ppc_400_size_seed_1.pkl to /home/libe2152/optimizedsampling/0_results/usavars/population/cluster_sampling_r2_scores.csv\n",
      "Fitting regression...\n",
      "NUM SAMPLES: 370\n",
      "Best alpha: 46.41588833612782\n"
     ]
    },
    {
     "name": "stderr",
     "output_type": "stream",
     "text": [
      "Processing samples:  21%|██▏       | 43/201 [03:22<07:32,  2.86s/it]"
     ]
    },
    {
     "name": "stdout",
     "output_type": "stream",
     "text": [
      "0.4959784852463094\n",
      "[WRITE] Saved result from sample_state_combined_county_id_10ppc_400_size_seed_1213.pkl to /home/libe2152/optimizedsampling/0_results/usavars/population/cluster_sampling_r2_scores.csv\n",
      "Fitting regression...\n",
      "NUM SAMPLES: 366\n",
      "Best alpha: 46.41588833612782\n"
     ]
    },
    {
     "name": "stderr",
     "output_type": "stream",
     "text": [
      "Processing samples:  22%|██▏       | 44/201 [03:25<07:34,  2.89s/it]"
     ]
    },
    {
     "name": "stdout",
     "output_type": "stream",
     "text": [
      "0.4215661337832558\n",
      "[WRITE] Saved result from sample_state_combined_county_id_10ppc_400_size_seed_123.pkl to /home/libe2152/optimizedsampling/0_results/usavars/population/cluster_sampling_r2_scores.csv\n",
      "Fitting regression...\n",
      "NUM SAMPLES: 389\n",
      "Best alpha: 599.4842503189421\n"
     ]
    },
    {
     "name": "stderr",
     "output_type": "stream",
     "text": [
      "Processing samples:  22%|██▏       | 45/201 [03:27<07:10,  2.76s/it]"
     ]
    },
    {
     "name": "stdout",
     "output_type": "stream",
     "text": [
      "0.39820194814748233\n",
      "[WRITE] Saved result from sample_state_combined_county_id_10ppc_400_size_seed_1234.pkl to /home/libe2152/optimizedsampling/0_results/usavars/population/cluster_sampling_r2_scores.csv\n",
      "Fitting regression...\n",
      "NUM SAMPLES: 370\n",
      "Best alpha: 3.593813663804626\n"
     ]
    },
    {
     "name": "stderr",
     "output_type": "stream",
     "text": [
      "Processing samples:  23%|██▎       | 46/201 [03:30<06:50,  2.65s/it]"
     ]
    },
    {
     "name": "stdout",
     "output_type": "stream",
     "text": [
      "0.3239947594322028\n",
      "[WRITE] Saved result from sample_state_combined_county_id_10ppc_400_size_seed_1415.pkl to /home/libe2152/optimizedsampling/0_results/usavars/population/cluster_sampling_r2_scores.csv\n",
      "Fitting regression...\n",
      "NUM SAMPLES: 380\n",
      "Best alpha: 599.4842503189421\n"
     ]
    },
    {
     "name": "stderr",
     "output_type": "stream",
     "text": [
      "Processing samples:  23%|██▎       | 47/201 [03:32<06:35,  2.57s/it]"
     ]
    },
    {
     "name": "stdout",
     "output_type": "stream",
     "text": [
      "0.34710859539286565\n",
      "[WRITE] Saved result from sample_state_combined_county_id_10ppc_400_size_seed_42.pkl to /home/libe2152/optimizedsampling/0_results/usavars/population/cluster_sampling_r2_scores.csv\n",
      "Fitting regression...\n",
      "NUM SAMPLES: 385\n",
      "Best alpha: 3.593813663804626\n"
     ]
    },
    {
     "name": "stderr",
     "output_type": "stream",
     "text": [
      "Processing samples:  24%|██▍       | 48/201 [03:34<06:20,  2.48s/it]"
     ]
    },
    {
     "name": "stdout",
     "output_type": "stream",
     "text": [
      "0.2440336113050091\n",
      "[WRITE] Saved result from sample_state_combined_county_id_10ppc_400_size_seed_456.pkl to /home/libe2152/optimizedsampling/0_results/usavars/population/cluster_sampling_r2_scores.csv\n",
      "Fitting regression...\n",
      "NUM SAMPLES: 373\n",
      "Best alpha: 599.4842503189421\n"
     ]
    },
    {
     "name": "stderr",
     "output_type": "stream",
     "text": [
      "Processing samples:  24%|██▍       | 49/201 [03:38<07:16,  2.87s/it]"
     ]
    },
    {
     "name": "stdout",
     "output_type": "stream",
     "text": [
      "0.34922693858382403\n",
      "[WRITE] Saved result from sample_state_combined_county_id_10ppc_400_size_seed_5678.pkl to /home/libe2152/optimizedsampling/0_results/usavars/population/cluster_sampling_r2_scores.csv\n",
      "Fitting regression...\n",
      "NUM SAMPLES: 370\n",
      "Best alpha: 46.41588833612782\n"
     ]
    },
    {
     "name": "stderr",
     "output_type": "stream",
     "text": [
      "Processing samples:  25%|██▍       | 50/201 [03:42<07:40,  3.05s/it]"
     ]
    },
    {
     "name": "stdout",
     "output_type": "stream",
     "text": [
      "0.43624124461748714\n",
      "[WRITE] Saved result from sample_state_combined_county_id_10ppc_400_size_seed_789.pkl to /home/libe2152/optimizedsampling/0_results/usavars/population/cluster_sampling_r2_scores.csv\n",
      "Fitting regression...\n",
      "NUM SAMPLES: 369\n",
      "Best alpha: 46.41588833612782\n"
     ]
    },
    {
     "name": "stderr",
     "output_type": "stream",
     "text": [
      "Processing samples:  25%|██▌       | 51/201 [03:45<08:04,  3.23s/it]"
     ]
    },
    {
     "name": "stdout",
     "output_type": "stream",
     "text": [
      "0.32964678386557755\n",
      "[WRITE] Saved result from sample_state_combined_county_id_10ppc_400_size_seed_9101.pkl to /home/libe2152/optimizedsampling/0_results/usavars/population/cluster_sampling_r2_scores.csv\n",
      "Fitting regression...\n",
      "NUM SAMPLES: 490\n",
      "Best alpha: 46.41588833612782\n"
     ]
    },
    {
     "name": "stderr",
     "output_type": "stream",
     "text": [
      "Processing samples:  26%|██▌       | 52/201 [03:51<10:07,  4.07s/it]"
     ]
    },
    {
     "name": "stdout",
     "output_type": "stream",
     "text": [
      "0.460448647228758\n",
      "[WRITE] Saved result from sample_state_combined_county_id_10ppc_500_size_seed_1.pkl to /home/libe2152/optimizedsampling/0_results/usavars/population/cluster_sampling_r2_scores.csv\n",
      "Fitting regression...\n",
      "NUM SAMPLES: 478\n",
      "Best alpha: 46.41588833612782\n"
     ]
    },
    {
     "name": "stderr",
     "output_type": "stream",
     "text": [
      "Processing samples:  26%|██▋       | 53/201 [03:56<10:31,  4.27s/it]"
     ]
    },
    {
     "name": "stdout",
     "output_type": "stream",
     "text": [
      "0.48044687098704386\n",
      "[WRITE] Saved result from sample_state_combined_county_id_10ppc_500_size_seed_1213.pkl to /home/libe2152/optimizedsampling/0_results/usavars/population/cluster_sampling_r2_scores.csv\n",
      "Fitting regression...\n",
      "NUM SAMPLES: 487\n",
      "Best alpha: 46.41588833612782\n"
     ]
    },
    {
     "name": "stderr",
     "output_type": "stream",
     "text": [
      "Processing samples:  27%|██▋       | 54/201 [04:02<11:38,  4.75s/it]"
     ]
    },
    {
     "name": "stdout",
     "output_type": "stream",
     "text": [
      "0.4814740588556955\n",
      "[WRITE] Saved result from sample_state_combined_county_id_10ppc_500_size_seed_123.pkl to /home/libe2152/optimizedsampling/0_results/usavars/population/cluster_sampling_r2_scores.csv\n",
      "Fitting regression...\n",
      "NUM SAMPLES: 485\n",
      "Best alpha: 599.4842503189421\n"
     ]
    },
    {
     "name": "stderr",
     "output_type": "stream",
     "text": [
      "Processing samples:  27%|██▋       | 55/201 [04:08<12:29,  5.14s/it]"
     ]
    },
    {
     "name": "stdout",
     "output_type": "stream",
     "text": [
      "0.4365946192355389\n",
      "[WRITE] Saved result from sample_state_combined_county_id_10ppc_500_size_seed_1234.pkl to /home/libe2152/optimizedsampling/0_results/usavars/population/cluster_sampling_r2_scores.csv\n",
      "Fitting regression...\n",
      "NUM SAMPLES: 480\n",
      "Best alpha: 46.41588833612782\n"
     ]
    },
    {
     "name": "stderr",
     "output_type": "stream",
     "text": [
      "Processing samples:  28%|██▊       | 56/201 [04:13<12:42,  5.26s/it]"
     ]
    },
    {
     "name": "stdout",
     "output_type": "stream",
     "text": [
      "0.4426812363560847\n",
      "[WRITE] Saved result from sample_state_combined_county_id_10ppc_500_size_seed_1415.pkl to /home/libe2152/optimizedsampling/0_results/usavars/population/cluster_sampling_r2_scores.csv\n",
      "Fitting regression...\n",
      "NUM SAMPLES: 490\n",
      "Best alpha: 599.4842503189421\n"
     ]
    },
    {
     "name": "stderr",
     "output_type": "stream",
     "text": [
      "Processing samples:  28%|██▊       | 57/201 [04:20<13:13,  5.51s/it]"
     ]
    },
    {
     "name": "stdout",
     "output_type": "stream",
     "text": [
      "0.37265407557914776\n",
      "[WRITE] Saved result from sample_state_combined_county_id_10ppc_500_size_seed_42.pkl to /home/libe2152/optimizedsampling/0_results/usavars/population/cluster_sampling_r2_scores.csv\n",
      "Fitting regression...\n",
      "NUM SAMPLES: 481\n",
      "Best alpha: 3.593813663804626\n"
     ]
    },
    {
     "name": "stderr",
     "output_type": "stream",
     "text": [
      "Processing samples:  29%|██▉       | 58/201 [04:25<13:21,  5.61s/it]"
     ]
    },
    {
     "name": "stdout",
     "output_type": "stream",
     "text": [
      "0.31998859335425633\n",
      "[WRITE] Saved result from sample_state_combined_county_id_10ppc_500_size_seed_456.pkl to /home/libe2152/optimizedsampling/0_results/usavars/population/cluster_sampling_r2_scores.csv\n",
      "Fitting regression...\n",
      "NUM SAMPLES: 483\n",
      "Best alpha: 46.41588833612782\n"
     ]
    },
    {
     "name": "stderr",
     "output_type": "stream",
     "text": [
      "Processing samples:  29%|██▉       | 59/201 [04:31<13:07,  5.55s/it]"
     ]
    },
    {
     "name": "stdout",
     "output_type": "stream",
     "text": [
      "0.33588302683284277\n",
      "[WRITE] Saved result from sample_state_combined_county_id_10ppc_500_size_seed_5678.pkl to /home/libe2152/optimizedsampling/0_results/usavars/population/cluster_sampling_r2_scores.csv\n",
      "Fitting regression...\n",
      "NUM SAMPLES: 479\n",
      "Best alpha: 599.4842503189421\n"
     ]
    },
    {
     "name": "stderr",
     "output_type": "stream",
     "text": [
      "Processing samples:  30%|██▉       | 60/201 [04:37<13:26,  5.72s/it]"
     ]
    },
    {
     "name": "stdout",
     "output_type": "stream",
     "text": [
      "0.4634231211389205\n",
      "[WRITE] Saved result from sample_state_combined_county_id_10ppc_500_size_seed_789.pkl to /home/libe2152/optimizedsampling/0_results/usavars/population/cluster_sampling_r2_scores.csv\n",
      "Fitting regression...\n",
      "NUM SAMPLES: 488\n",
      "Best alpha: 46.41588833612782\n"
     ]
    },
    {
     "name": "stderr",
     "output_type": "stream",
     "text": [
      "Processing samples:  30%|███       | 61/201 [04:42<13:14,  5.68s/it]"
     ]
    },
    {
     "name": "stdout",
     "output_type": "stream",
     "text": [
      "0.43410917790386794\n",
      "[WRITE] Saved result from sample_state_combined_county_id_10ppc_500_size_seed_9101.pkl to /home/libe2152/optimizedsampling/0_results/usavars/population/cluster_sampling_r2_scores.csv\n",
      "Fitting regression...\n",
      "NUM SAMPLES: 570\n",
      "Best alpha: 46.41588833612782\n"
     ]
    },
    {
     "name": "stderr",
     "output_type": "stream",
     "text": [
      "Processing samples:  31%|███       | 62/201 [04:50<14:31,  6.27s/it]"
     ]
    },
    {
     "name": "stdout",
     "output_type": "stream",
     "text": [
      "0.4651832833486478\n",
      "[WRITE] Saved result from sample_state_combined_county_id_10ppc_600_size_seed_1.pkl to /home/libe2152/optimizedsampling/0_results/usavars/population/cluster_sampling_r2_scores.csv\n",
      "Fitting regression...\n",
      "NUM SAMPLES: 574\n",
      "Best alpha: 46.41588833612782\n"
     ]
    },
    {
     "name": "stderr",
     "output_type": "stream",
     "text": [
      "Processing samples:  31%|███▏      | 63/201 [04:58<15:27,  6.72s/it]"
     ]
    },
    {
     "name": "stdout",
     "output_type": "stream",
     "text": [
      "0.4846091510901577\n",
      "[WRITE] Saved result from sample_state_combined_county_id_10ppc_600_size_seed_1213.pkl to /home/libe2152/optimizedsampling/0_results/usavars/population/cluster_sampling_r2_scores.csv\n",
      "Fitting regression...\n",
      "NUM SAMPLES: 567\n",
      "Best alpha: 46.41588833612782\n"
     ]
    },
    {
     "name": "stderr",
     "output_type": "stream",
     "text": [
      "Processing samples:  32%|███▏      | 64/201 [05:06<16:03,  7.03s/it]"
     ]
    },
    {
     "name": "stdout",
     "output_type": "stream",
     "text": [
      "0.4838626589160273\n",
      "[WRITE] Saved result from sample_state_combined_county_id_10ppc_600_size_seed_123.pkl to /home/libe2152/optimizedsampling/0_results/usavars/population/cluster_sampling_r2_scores.csv\n",
      "Fitting regression...\n",
      "NUM SAMPLES: 580\n",
      "Best alpha: 599.4842503189421\n"
     ]
    },
    {
     "name": "stderr",
     "output_type": "stream",
     "text": [
      "Processing samples:  32%|███▏      | 65/201 [05:13<16:23,  7.23s/it]"
     ]
    },
    {
     "name": "stdout",
     "output_type": "stream",
     "text": [
      "0.42032247138322376\n",
      "[WRITE] Saved result from sample_state_combined_county_id_10ppc_600_size_seed_1234.pkl to /home/libe2152/optimizedsampling/0_results/usavars/population/cluster_sampling_r2_scores.csv\n",
      "Fitting regression...\n",
      "NUM SAMPLES: 580\n",
      "Best alpha: 46.41588833612782\n"
     ]
    },
    {
     "name": "stderr",
     "output_type": "stream",
     "text": [
      "Processing samples:  33%|███▎      | 66/201 [05:21<16:40,  7.41s/it]"
     ]
    },
    {
     "name": "stdout",
     "output_type": "stream",
     "text": [
      "0.4654301310290462\n",
      "[WRITE] Saved result from sample_state_combined_county_id_10ppc_600_size_seed_1415.pkl to /home/libe2152/optimizedsampling/0_results/usavars/population/cluster_sampling_r2_scores.csv\n",
      "Fitting regression...\n",
      "NUM SAMPLES: 586\n",
      "Best alpha: 46.41588833612782\n"
     ]
    },
    {
     "name": "stderr",
     "output_type": "stream",
     "text": [
      "Processing samples:  33%|███▎      | 67/201 [05:28<16:17,  7.30s/it]"
     ]
    },
    {
     "name": "stdout",
     "output_type": "stream",
     "text": [
      "0.4209967531300943\n",
      "[WRITE] Saved result from sample_state_combined_county_id_10ppc_600_size_seed_42.pkl to /home/libe2152/optimizedsampling/0_results/usavars/population/cluster_sampling_r2_scores.csv\n",
      "Fitting regression...\n",
      "NUM SAMPLES: 570\n",
      "Best alpha: 46.41588833612782\n"
     ]
    },
    {
     "name": "stderr",
     "output_type": "stream",
     "text": [
      "Processing samples:  34%|███▍      | 68/201 [05:36<16:28,  7.43s/it]"
     ]
    },
    {
     "name": "stdout",
     "output_type": "stream",
     "text": [
      "0.4669441807487573\n",
      "[WRITE] Saved result from sample_state_combined_county_id_10ppc_600_size_seed_456.pkl to /home/libe2152/optimizedsampling/0_results/usavars/population/cluster_sampling_r2_scores.csv\n",
      "Fitting regression...\n",
      "NUM SAMPLES: 573\n",
      "Best alpha: 599.4842503189421\n"
     ]
    },
    {
     "name": "stderr",
     "output_type": "stream",
     "text": [
      "Processing samples:  34%|███▍      | 69/201 [05:42<15:10,  6.90s/it]"
     ]
    },
    {
     "name": "stdout",
     "output_type": "stream",
     "text": [
      "0.4065164562139205\n",
      "[WRITE] Saved result from sample_state_combined_county_id_10ppc_600_size_seed_5678.pkl to /home/libe2152/optimizedsampling/0_results/usavars/population/cluster_sampling_r2_scores.csv\n",
      "Fitting regression...\n",
      "NUM SAMPLES: 579\n",
      "Best alpha: 46.41588833612782\n"
     ]
    },
    {
     "name": "stderr",
     "output_type": "stream",
     "text": [
      "Processing samples:  35%|███▍      | 70/201 [05:48<14:33,  6.67s/it]"
     ]
    },
    {
     "name": "stdout",
     "output_type": "stream",
     "text": [
      "0.4931728862901642\n",
      "[WRITE] Saved result from sample_state_combined_county_id_10ppc_600_size_seed_789.pkl to /home/libe2152/optimizedsampling/0_results/usavars/population/cluster_sampling_r2_scores.csv\n",
      "Fitting regression...\n",
      "NUM SAMPLES: 577\n",
      "Best alpha: 46.41588833612782\n"
     ]
    },
    {
     "name": "stderr",
     "output_type": "stream",
     "text": [
      "Processing samples:  35%|███▌      | 71/201 [05:53<13:44,  6.35s/it]"
     ]
    },
    {
     "name": "stdout",
     "output_type": "stream",
     "text": [
      "0.4155668919460881\n",
      "[WRITE] Saved result from sample_state_combined_county_id_10ppc_600_size_seed_9101.pkl to /home/libe2152/optimizedsampling/0_results/usavars/population/cluster_sampling_r2_scores.csv\n",
      "Fitting regression...\n",
      "NUM SAMPLES: 670\n",
      "Best alpha: 599.4842503189421\n"
     ]
    },
    {
     "name": "stderr",
     "output_type": "stream",
     "text": [
      "Processing samples:  36%|███▌      | 72/201 [05:59<12:57,  6.03s/it]"
     ]
    },
    {
     "name": "stdout",
     "output_type": "stream",
     "text": [
      "0.48627668493079845\n",
      "[WRITE] Saved result from sample_state_combined_county_id_10ppc_700_size_seed_1.pkl to /home/libe2152/optimizedsampling/0_results/usavars/population/cluster_sampling_r2_scores.csv\n",
      "Fitting regression...\n",
      "NUM SAMPLES: 670\n",
      "Best alpha: 46.41588833612782\n"
     ]
    },
    {
     "name": "stderr",
     "output_type": "stream",
     "text": [
      "Processing samples:  36%|███▋      | 73/201 [06:05<12:45,  5.98s/it]"
     ]
    },
    {
     "name": "stdout",
     "output_type": "stream",
     "text": [
      "0.4552710506055212\n",
      "[WRITE] Saved result from sample_state_combined_county_id_10ppc_700_size_seed_1213.pkl to /home/libe2152/optimizedsampling/0_results/usavars/population/cluster_sampling_r2_scores.csv\n",
      "Fitting regression...\n",
      "NUM SAMPLES: 662\n",
      "Best alpha: 46.41588833612782\n"
     ]
    },
    {
     "name": "stderr",
     "output_type": "stream",
     "text": [
      "Processing samples:  37%|███▋      | 74/201 [06:14<14:36,  6.91s/it]"
     ]
    },
    {
     "name": "stdout",
     "output_type": "stream",
     "text": [
      "0.4808992869897324\n",
      "[WRITE] Saved result from sample_state_combined_county_id_10ppc_700_size_seed_123.pkl to /home/libe2152/optimizedsampling/0_results/usavars/population/cluster_sampling_r2_scores.csv\n",
      "Fitting regression...\n",
      "NUM SAMPLES: 676\n",
      "Best alpha: 599.4842503189421\n"
     ]
    },
    {
     "name": "stderr",
     "output_type": "stream",
     "text": [
      "Processing samples:  37%|███▋      | 75/201 [06:23<16:05,  7.66s/it]"
     ]
    },
    {
     "name": "stdout",
     "output_type": "stream",
     "text": [
      "0.4296910905705724\n",
      "[WRITE] Saved result from sample_state_combined_county_id_10ppc_700_size_seed_1234.pkl to /home/libe2152/optimizedsampling/0_results/usavars/population/cluster_sampling_r2_scores.csv\n",
      "Fitting regression...\n",
      "NUM SAMPLES: 668\n",
      "Best alpha: 46.41588833612782\n"
     ]
    },
    {
     "name": "stderr",
     "output_type": "stream",
     "text": [
      "Processing samples:  38%|███▊      | 76/201 [06:32<16:34,  7.95s/it]"
     ]
    },
    {
     "name": "stdout",
     "output_type": "stream",
     "text": [
      "0.4730059660634446\n",
      "[WRITE] Saved result from sample_state_combined_county_id_10ppc_700_size_seed_1415.pkl to /home/libe2152/optimizedsampling/0_results/usavars/population/cluster_sampling_r2_scores.csv\n",
      "Fitting regression...\n",
      "NUM SAMPLES: 675\n",
      "Best alpha: 46.41588833612782\n"
     ]
    },
    {
     "name": "stderr",
     "output_type": "stream",
     "text": [
      "Processing samples:  38%|███▊      | 77/201 [06:38<15:23,  7.45s/it]"
     ]
    },
    {
     "name": "stdout",
     "output_type": "stream",
     "text": [
      "0.4502080989935381\n",
      "[WRITE] Saved result from sample_state_combined_county_id_10ppc_700_size_seed_42.pkl to /home/libe2152/optimizedsampling/0_results/usavars/population/cluster_sampling_r2_scores.csv\n",
      "Fitting regression...\n",
      "NUM SAMPLES: 674\n",
      "Best alpha: 46.41588833612782\n"
     ]
    },
    {
     "name": "stderr",
     "output_type": "stream",
     "text": [
      "Processing samples:  39%|███▉      | 78/201 [06:44<14:14,  6.95s/it]"
     ]
    },
    {
     "name": "stdout",
     "output_type": "stream",
     "text": [
      "0.46379527804013576\n",
      "[WRITE] Saved result from sample_state_combined_county_id_10ppc_700_size_seed_456.pkl to /home/libe2152/optimizedsampling/0_results/usavars/population/cluster_sampling_r2_scores.csv\n",
      "Fitting regression...\n",
      "NUM SAMPLES: 669\n",
      "Best alpha: 46.41588833612782\n"
     ]
    },
    {
     "name": "stderr",
     "output_type": "stream",
     "text": [
      "Processing samples:  39%|███▉      | 79/201 [06:50<13:31,  6.65s/it]"
     ]
    },
    {
     "name": "stdout",
     "output_type": "stream",
     "text": [
      "0.4363750905408317\n",
      "[WRITE] Saved result from sample_state_combined_county_id_10ppc_700_size_seed_5678.pkl to /home/libe2152/optimizedsampling/0_results/usavars/population/cluster_sampling_r2_scores.csv\n",
      "Fitting regression...\n",
      "NUM SAMPLES: 667\n",
      "Best alpha: 46.41588833612782\n"
     ]
    },
    {
     "name": "stderr",
     "output_type": "stream",
     "text": [
      "Processing samples:  40%|███▉      | 80/201 [06:56<13:16,  6.58s/it]"
     ]
    },
    {
     "name": "stdout",
     "output_type": "stream",
     "text": [
      "0.4943274745885542\n",
      "[WRITE] Saved result from sample_state_combined_county_id_10ppc_700_size_seed_789.pkl to /home/libe2152/optimizedsampling/0_results/usavars/population/cluster_sampling_r2_scores.csv\n",
      "Fitting regression...\n",
      "NUM SAMPLES: 667\n",
      "Best alpha: 46.41588833612782\n"
     ]
    },
    {
     "name": "stderr",
     "output_type": "stream",
     "text": [
      "Processing samples:  40%|████      | 81/201 [07:07<15:46,  7.88s/it]"
     ]
    },
    {
     "name": "stdout",
     "output_type": "stream",
     "text": [
      "0.4343691467780567\n",
      "[WRITE] Saved result from sample_state_combined_county_id_10ppc_700_size_seed_9101.pkl to /home/libe2152/optimizedsampling/0_results/usavars/population/cluster_sampling_r2_scores.csv\n",
      "Fitting regression...\n",
      "NUM SAMPLES: 779\n",
      "Best alpha: 46.41588833612782\n"
     ]
    },
    {
     "name": "stderr",
     "output_type": "stream",
     "text": [
      "Processing samples:  41%|████      | 82/201 [07:19<17:59,  9.07s/it]"
     ]
    },
    {
     "name": "stdout",
     "output_type": "stream",
     "text": [
      "0.46460555629482136\n",
      "[WRITE] Saved result from sample_state_combined_county_id_10ppc_800_size_seed_1.pkl to /home/libe2152/optimizedsampling/0_results/usavars/population/cluster_sampling_r2_scores.csv\n",
      "Fitting regression...\n",
      "NUM SAMPLES: 780\n",
      "Best alpha: 46.41588833612782\n"
     ]
    },
    {
     "name": "stderr",
     "output_type": "stream",
     "text": [
      "Processing samples:  41%|████▏     | 83/201 [07:32<19:59, 10.16s/it]"
     ]
    },
    {
     "name": "stdout",
     "output_type": "stream",
     "text": [
      "0.4586369486314047\n",
      "[WRITE] Saved result from sample_state_combined_county_id_10ppc_800_size_seed_1213.pkl to /home/libe2152/optimizedsampling/0_results/usavars/population/cluster_sampling_r2_scores.csv\n",
      "Fitting regression...\n",
      "NUM SAMPLES: 781\n",
      "Best alpha: 46.41588833612782\n"
     ]
    },
    {
     "name": "stderr",
     "output_type": "stream",
     "text": [
      "Processing samples:  42%|████▏     | 84/201 [07:44<21:13, 10.89s/it]"
     ]
    },
    {
     "name": "stdout",
     "output_type": "stream",
     "text": [
      "0.5082644064993365\n",
      "[WRITE] Saved result from sample_state_combined_county_id_10ppc_800_size_seed_123.pkl to /home/libe2152/optimizedsampling/0_results/usavars/population/cluster_sampling_r2_scores.csv\n",
      "Fitting regression...\n",
      "NUM SAMPLES: 776\n",
      "Best alpha: 599.4842503189421\n"
     ]
    },
    {
     "name": "stderr",
     "output_type": "stream",
     "text": [
      "Processing samples:  42%|████▏     | 85/201 [07:56<21:46, 11.27s/it]"
     ]
    },
    {
     "name": "stdout",
     "output_type": "stream",
     "text": [
      "0.45806264293770027\n",
      "[WRITE] Saved result from sample_state_combined_county_id_10ppc_800_size_seed_1234.pkl to /home/libe2152/optimizedsampling/0_results/usavars/population/cluster_sampling_r2_scores.csv\n",
      "Fitting regression...\n",
      "NUM SAMPLES: 783\n",
      "Best alpha: 46.41588833612782\n"
     ]
    },
    {
     "name": "stderr",
     "output_type": "stream",
     "text": [
      "Processing samples:  43%|████▎     | 86/201 [08:09<22:27, 11.72s/it]"
     ]
    },
    {
     "name": "stdout",
     "output_type": "stream",
     "text": [
      "0.5139244199573325\n",
      "[WRITE] Saved result from sample_state_combined_county_id_10ppc_800_size_seed_1415.pkl to /home/libe2152/optimizedsampling/0_results/usavars/population/cluster_sampling_r2_scores.csv\n",
      "Fitting regression...\n",
      "NUM SAMPLES: 781\n",
      "Best alpha: 3.593813663804626\n"
     ]
    },
    {
     "name": "stderr",
     "output_type": "stream",
     "text": [
      "Processing samples:  43%|████▎     | 87/201 [08:22<22:56, 12.07s/it]"
     ]
    },
    {
     "name": "stdout",
     "output_type": "stream",
     "text": [
      "0.4338008239558112\n",
      "[WRITE] Saved result from sample_state_combined_county_id_10ppc_800_size_seed_42.pkl to /home/libe2152/optimizedsampling/0_results/usavars/population/cluster_sampling_r2_scores.csv\n",
      "Fitting regression...\n",
      "NUM SAMPLES: 774\n",
      "Best alpha: 3.593813663804626\n"
     ]
    },
    {
     "name": "stderr",
     "output_type": "stream",
     "text": [
      "Processing samples:  44%|████▍     | 88/201 [08:34<22:59, 12.20s/it]"
     ]
    },
    {
     "name": "stdout",
     "output_type": "stream",
     "text": [
      "0.46041616078784076\n",
      "[WRITE] Saved result from sample_state_combined_county_id_10ppc_800_size_seed_456.pkl to /home/libe2152/optimizedsampling/0_results/usavars/population/cluster_sampling_r2_scores.csv\n",
      "Fitting regression...\n",
      "NUM SAMPLES: 784\n",
      "Best alpha: 46.41588833612782\n"
     ]
    },
    {
     "name": "stderr",
     "output_type": "stream",
     "text": [
      "Processing samples:  44%|████▍     | 89/201 [08:47<23:01, 12.34s/it]"
     ]
    },
    {
     "name": "stdout",
     "output_type": "stream",
     "text": [
      "0.4547214445335688\n",
      "[WRITE] Saved result from sample_state_combined_county_id_10ppc_800_size_seed_5678.pkl to /home/libe2152/optimizedsampling/0_results/usavars/population/cluster_sampling_r2_scores.csv\n",
      "Fitting regression...\n",
      "NUM SAMPLES: 787\n",
      "Best alpha: 46.41588833612782\n"
     ]
    },
    {
     "name": "stderr",
     "output_type": "stream",
     "text": [
      "Processing samples:  45%|████▍     | 90/201 [08:59<22:43, 12.28s/it]"
     ]
    },
    {
     "name": "stdout",
     "output_type": "stream",
     "text": [
      "0.49951467060211074\n",
      "[WRITE] Saved result from sample_state_combined_county_id_10ppc_800_size_seed_789.pkl to /home/libe2152/optimizedsampling/0_results/usavars/population/cluster_sampling_r2_scores.csv\n",
      "Fitting regression...\n",
      "NUM SAMPLES: 783\n",
      "Best alpha: 46.41588833612782\n"
     ]
    },
    {
     "name": "stderr",
     "output_type": "stream",
     "text": [
      "Processing samples:  45%|████▌     | 91/201 [09:10<21:45, 11.86s/it]"
     ]
    },
    {
     "name": "stdout",
     "output_type": "stream",
     "text": [
      "0.4396694343209916\n",
      "[WRITE] Saved result from sample_state_combined_county_id_10ppc_800_size_seed_9101.pkl to /home/libe2152/optimizedsampling/0_results/usavars/population/cluster_sampling_r2_scores.csv\n",
      "Fitting regression...\n",
      "NUM SAMPLES: 869\n",
      "Best alpha: 46.41588833612782\n"
     ]
    },
    {
     "name": "stderr",
     "output_type": "stream",
     "text": [
      "Processing samples:  46%|████▌     | 92/201 [09:18<19:18, 10.63s/it]"
     ]
    },
    {
     "name": "stdout",
     "output_type": "stream",
     "text": [
      "0.4734120935787698\n",
      "[WRITE] Saved result from sample_state_combined_county_id_10ppc_900_size_seed_1.pkl to /home/libe2152/optimizedsampling/0_results/usavars/population/cluster_sampling_r2_scores.csv\n",
      "Fitting regression...\n",
      "NUM SAMPLES: 879\n",
      "Best alpha: 46.41588833612782\n"
     ]
    },
    {
     "name": "stderr",
     "output_type": "stream",
     "text": [
      "Processing samples:  46%|████▋     | 93/201 [09:26<17:36,  9.78s/it]"
     ]
    },
    {
     "name": "stdout",
     "output_type": "stream",
     "text": [
      "0.4723511717810136\n",
      "[WRITE] Saved result from sample_state_combined_county_id_10ppc_900_size_seed_1213.pkl to /home/libe2152/optimizedsampling/0_results/usavars/population/cluster_sampling_r2_scores.csv\n",
      "Fitting regression...\n",
      "NUM SAMPLES: 867\n",
      "Best alpha: 46.41588833612782\n"
     ]
    },
    {
     "name": "stderr",
     "output_type": "stream",
     "text": [
      "Processing samples:  47%|████▋     | 94/201 [09:34<16:23,  9.19s/it]"
     ]
    },
    {
     "name": "stdout",
     "output_type": "stream",
     "text": [
      "0.5163352044529874\n",
      "[WRITE] Saved result from sample_state_combined_county_id_10ppc_900_size_seed_123.pkl to /home/libe2152/optimizedsampling/0_results/usavars/population/cluster_sampling_r2_scores.csv\n",
      "Fitting regression...\n",
      "NUM SAMPLES: 883\n",
      "Best alpha: 46.41588833612782\n"
     ]
    },
    {
     "name": "stderr",
     "output_type": "stream",
     "text": [
      "Processing samples:  47%|████▋     | 95/201 [09:42<15:37,  8.85s/it]"
     ]
    },
    {
     "name": "stdout",
     "output_type": "stream",
     "text": [
      "0.453458759088042\n",
      "[WRITE] Saved result from sample_state_combined_county_id_10ppc_900_size_seed_1234.pkl to /home/libe2152/optimizedsampling/0_results/usavars/population/cluster_sampling_r2_scores.csv\n",
      "Fitting regression...\n",
      "NUM SAMPLES: 872\n",
      "Best alpha: 46.41588833612782\n"
     ]
    },
    {
     "name": "stderr",
     "output_type": "stream",
     "text": [
      "Processing samples:  48%|████▊     | 96/201 [09:49<14:58,  8.56s/it]"
     ]
    },
    {
     "name": "stdout",
     "output_type": "stream",
     "text": [
      "0.5104847652940984\n",
      "[WRITE] Saved result from sample_state_combined_county_id_10ppc_900_size_seed_1415.pkl to /home/libe2152/optimizedsampling/0_results/usavars/population/cluster_sampling_r2_scores.csv\n",
      "Fitting regression...\n",
      "NUM SAMPLES: 871\n",
      "Best alpha: 46.41588833612782\n"
     ]
    },
    {
     "name": "stderr",
     "output_type": "stream",
     "text": [
      "Processing samples:  48%|████▊     | 97/201 [09:57<14:19,  8.26s/it]"
     ]
    },
    {
     "name": "stdout",
     "output_type": "stream",
     "text": [
      "0.49701420548475883\n",
      "[WRITE] Saved result from sample_state_combined_county_id_10ppc_900_size_seed_42.pkl to /home/libe2152/optimizedsampling/0_results/usavars/population/cluster_sampling_r2_scores.csv\n",
      "Fitting regression...\n",
      "NUM SAMPLES: 882\n",
      "Best alpha: 3.593813663804626\n"
     ]
    },
    {
     "name": "stderr",
     "output_type": "stream",
     "text": [
      "Processing samples:  49%|████▉     | 98/201 [10:05<14:11,  8.26s/it]"
     ]
    },
    {
     "name": "stdout",
     "output_type": "stream",
     "text": [
      "0.47475133664335956\n",
      "[WRITE] Saved result from sample_state_combined_county_id_10ppc_900_size_seed_456.pkl to /home/libe2152/optimizedsampling/0_results/usavars/population/cluster_sampling_r2_scores.csv\n",
      "Fitting regression...\n",
      "NUM SAMPLES: 873\n",
      "Best alpha: 46.41588833612782\n"
     ]
    },
    {
     "name": "stderr",
     "output_type": "stream",
     "text": [
      "Processing samples:  49%|████▉     | 99/201 [10:13<13:47,  8.12s/it]"
     ]
    },
    {
     "name": "stdout",
     "output_type": "stream",
     "text": [
      "0.4898719551361532\n",
      "[WRITE] Saved result from sample_state_combined_county_id_10ppc_900_size_seed_5678.pkl to /home/libe2152/optimizedsampling/0_results/usavars/population/cluster_sampling_r2_scores.csv\n",
      "Fitting regression...\n",
      "NUM SAMPLES: 874\n",
      "Best alpha: 46.41588833612782\n"
     ]
    },
    {
     "name": "stderr",
     "output_type": "stream",
     "text": [
      "Processing samples:  50%|████▉     | 100/201 [10:21<13:27,  7.99s/it]"
     ]
    },
    {
     "name": "stdout",
     "output_type": "stream",
     "text": [
      "0.49334981888104035\n",
      "[WRITE] Saved result from sample_state_combined_county_id_10ppc_900_size_seed_789.pkl to /home/libe2152/optimizedsampling/0_results/usavars/population/cluster_sampling_r2_scores.csv\n",
      "Fitting regression...\n",
      "NUM SAMPLES: 873\n",
      "Best alpha: 46.41588833612782\n"
     ]
    },
    {
     "name": "stderr",
     "output_type": "stream",
     "text": [
      "Processing samples:  50%|█████     | 101/201 [10:28<13:10,  7.90s/it]"
     ]
    },
    {
     "name": "stdout",
     "output_type": "stream",
     "text": [
      "0.4718949765206083\n",
      "[WRITE] Saved result from sample_state_combined_county_id_10ppc_900_size_seed_9101.pkl to /home/libe2152/optimizedsampling/0_results/usavars/population/cluster_sampling_r2_scores.csv\n",
      "Fitting regression...\n",
      "NUM SAMPLES: 913\n",
      "Best alpha: 46.41588833612782\n"
     ]
    },
    {
     "name": "stderr",
     "output_type": "stream",
     "text": [
      "Processing samples:  51%|█████     | 102/201 [10:37<13:11,  8.00s/it]"
     ]
    },
    {
     "name": "stdout",
     "output_type": "stream",
     "text": [
      "0.48481592482566926\n",
      "[WRITE] Saved result from sample_state_combined_county_id_5ppc_1000_size_seed_1.pkl to /home/libe2152/optimizedsampling/0_results/usavars/population/cluster_sampling_r2_scores.csv\n",
      "Fitting regression...\n",
      "NUM SAMPLES: 911\n",
      "Best alpha: 46.41588833612782\n"
     ]
    },
    {
     "name": "stderr",
     "output_type": "stream",
     "text": [
      "Processing samples:  51%|█████     | 103/201 [10:44<12:53,  7.89s/it]"
     ]
    },
    {
     "name": "stdout",
     "output_type": "stream",
     "text": [
      "0.5007483215907623\n",
      "[WRITE] Saved result from sample_state_combined_county_id_5ppc_1000_size_seed_1213.pkl to /home/libe2152/optimizedsampling/0_results/usavars/population/cluster_sampling_r2_scores.csv\n",
      "Fitting regression...\n",
      "NUM SAMPLES: 911\n",
      "Best alpha: 46.41588833612782\n"
     ]
    },
    {
     "name": "stderr",
     "output_type": "stream",
     "text": [
      "Processing samples:  52%|█████▏    | 104/201 [10:52<12:42,  7.86s/it]"
     ]
    },
    {
     "name": "stdout",
     "output_type": "stream",
     "text": [
      "0.5045785224631898\n",
      "[WRITE] Saved result from sample_state_combined_county_id_5ppc_1000_size_seed_123.pkl to /home/libe2152/optimizedsampling/0_results/usavars/population/cluster_sampling_r2_scores.csv\n",
      "Fitting regression...\n",
      "NUM SAMPLES: 915\n",
      "Best alpha: 46.41588833612782\n"
     ]
    },
    {
     "name": "stderr",
     "output_type": "stream",
     "text": [
      "Processing samples:  52%|█████▏    | 105/201 [11:00<12:36,  7.88s/it]"
     ]
    },
    {
     "name": "stdout",
     "output_type": "stream",
     "text": [
      "0.4938222539869337\n",
      "[WRITE] Saved result from sample_state_combined_county_id_5ppc_1000_size_seed_1234.pkl to /home/libe2152/optimizedsampling/0_results/usavars/population/cluster_sampling_r2_scores.csv\n",
      "Fitting regression...\n",
      "NUM SAMPLES: 912\n",
      "Best alpha: 46.41588833612782\n"
     ]
    },
    {
     "name": "stderr",
     "output_type": "stream",
     "text": [
      "Processing samples:  53%|█████▎    | 106/201 [11:08<12:25,  7.84s/it]"
     ]
    },
    {
     "name": "stdout",
     "output_type": "stream",
     "text": [
      "0.49503766610262634\n",
      "[WRITE] Saved result from sample_state_combined_county_id_5ppc_1000_size_seed_1415.pkl to /home/libe2152/optimizedsampling/0_results/usavars/population/cluster_sampling_r2_scores.csv\n",
      "Fitting regression...\n",
      "NUM SAMPLES: 915\n",
      "Best alpha: 46.41588833612782\n"
     ]
    },
    {
     "name": "stderr",
     "output_type": "stream",
     "text": [
      "Processing samples:  53%|█████▎    | 107/201 [11:16<12:21,  7.89s/it]"
     ]
    },
    {
     "name": "stdout",
     "output_type": "stream",
     "text": [
      "0.4806587691989891\n",
      "[WRITE] Saved result from sample_state_combined_county_id_5ppc_1000_size_seed_42.pkl to /home/libe2152/optimizedsampling/0_results/usavars/population/cluster_sampling_r2_scores.csv\n",
      "Fitting regression...\n",
      "NUM SAMPLES: 915\n",
      "Best alpha: 46.41588833612782\n"
     ]
    },
    {
     "name": "stderr",
     "output_type": "stream",
     "text": [
      "Processing samples:  54%|█████▎    | 108/201 [11:24<12:24,  8.01s/it]"
     ]
    },
    {
     "name": "stdout",
     "output_type": "stream",
     "text": [
      "0.46278676884985137\n",
      "[WRITE] Saved result from sample_state_combined_county_id_5ppc_1000_size_seed_456.pkl to /home/libe2152/optimizedsampling/0_results/usavars/population/cluster_sampling_r2_scores.csv\n",
      "Fitting regression...\n",
      "NUM SAMPLES: 911\n",
      "Best alpha: 46.41588833612782\n"
     ]
    },
    {
     "name": "stderr",
     "output_type": "stream",
     "text": [
      "Processing samples:  54%|█████▍    | 109/201 [11:32<12:23,  8.08s/it]"
     ]
    },
    {
     "name": "stdout",
     "output_type": "stream",
     "text": [
      "0.5073544773611024\n",
      "[WRITE] Saved result from sample_state_combined_county_id_5ppc_1000_size_seed_5678.pkl to /home/libe2152/optimizedsampling/0_results/usavars/population/cluster_sampling_r2_scores.csv\n",
      "Fitting regression...\n",
      "NUM SAMPLES: 914\n",
      "Best alpha: 46.41588833612782\n"
     ]
    },
    {
     "name": "stderr",
     "output_type": "stream",
     "text": [
      "Processing samples:  55%|█████▍    | 110/201 [11:40<12:15,  8.09s/it]"
     ]
    },
    {
     "name": "stdout",
     "output_type": "stream",
     "text": [
      "0.48522845394379543\n",
      "[WRITE] Saved result from sample_state_combined_county_id_5ppc_1000_size_seed_789.pkl to /home/libe2152/optimizedsampling/0_results/usavars/population/cluster_sampling_r2_scores.csv\n",
      "Fitting regression...\n",
      "NUM SAMPLES: 913\n",
      "Best alpha: 46.41588833612782\n"
     ]
    },
    {
     "name": "stderr",
     "output_type": "stream",
     "text": [
      "Processing samples:  55%|█████▌    | 111/201 [11:49<12:11,  8.12s/it]"
     ]
    },
    {
     "name": "stdout",
     "output_type": "stream",
     "text": [
      "0.4720310918250372\n",
      "[WRITE] Saved result from sample_state_combined_county_id_5ppc_1000_size_seed_9101.pkl to /home/libe2152/optimizedsampling/0_results/usavars/population/cluster_sampling_r2_scores.csv\n",
      "Fitting regression...\n",
      "NUM SAMPLES: 85\n",
      "Best alpha: 599.4842503189421\n"
     ]
    },
    {
     "name": "stderr",
     "output_type": "stream",
     "text": [
      "Processing samples:  56%|█████▌    | 112/201 [11:49<08:39,  5.84s/it]"
     ]
    },
    {
     "name": "stdout",
     "output_type": "stream",
     "text": [
      "0.16542137133433943\n",
      "[WRITE] Saved result from sample_state_combined_county_id_5ppc_100_size_seed_1.pkl to /home/libe2152/optimizedsampling/0_results/usavars/population/cluster_sampling_r2_scores.csv\n",
      "Fitting regression...\n",
      "NUM SAMPLES: 85\n",
      "Best alpha: 46.41588833612782\n"
     ]
    },
    {
     "name": "stderr",
     "output_type": "stream",
     "text": [
      "Processing samples:  56%|█████▌    | 113/201 [11:50<06:12,  4.24s/it]"
     ]
    },
    {
     "name": "stdout",
     "output_type": "stream",
     "text": [
      "0.2096064877729661\n",
      "[WRITE] Saved result from sample_state_combined_county_id_5ppc_100_size_seed_1213.pkl to /home/libe2152/optimizedsampling/0_results/usavars/population/cluster_sampling_r2_scores.csv\n",
      "Fitting regression...\n",
      "NUM SAMPLES: 85\n",
      "Best alpha: 3.593813663804626\n"
     ]
    },
    {
     "name": "stderr",
     "output_type": "stream",
     "text": [
      "Processing samples:  57%|█████▋    | 114/201 [11:50<04:32,  3.13s/it]"
     ]
    },
    {
     "name": "stdout",
     "output_type": "stream",
     "text": [
      "0.13334036257588122\n",
      "[WRITE] Saved result from sample_state_combined_county_id_5ppc_100_size_seed_123.pkl to /home/libe2152/optimizedsampling/0_results/usavars/population/cluster_sampling_r2_scores.csv\n",
      "Fitting regression...\n",
      "NUM SAMPLES: 85\n",
      "Best alpha: 599.4842503189421\n"
     ]
    },
    {
     "name": "stderr",
     "output_type": "stream",
     "text": [
      "Processing samples:  57%|█████▋    | 115/201 [11:51<03:22,  2.35s/it]"
     ]
    },
    {
     "name": "stdout",
     "output_type": "stream",
     "text": [
      "0.2960481969659766\n",
      "[WRITE] Saved result from sample_state_combined_county_id_5ppc_100_size_seed_1234.pkl to /home/libe2152/optimizedsampling/0_results/usavars/population/cluster_sampling_r2_scores.csv\n",
      "Fitting regression...\n",
      "NUM SAMPLES: 85\n",
      "Best alpha: 46.41588833612782\n"
     ]
    },
    {
     "name": "stderr",
     "output_type": "stream",
     "text": [
      "Processing samples:  58%|█████▊    | 116/201 [11:51<02:33,  1.80s/it]"
     ]
    },
    {
     "name": "stdout",
     "output_type": "stream",
     "text": [
      "0.12754471897969222\n",
      "[WRITE] Saved result from sample_state_combined_county_id_5ppc_100_size_seed_1415.pkl to /home/libe2152/optimizedsampling/0_results/usavars/population/cluster_sampling_r2_scores.csv\n",
      "Fitting regression...\n",
      "NUM SAMPLES: 85\n",
      "Best alpha: 599.4842503189421\n"
     ]
    },
    {
     "name": "stderr",
     "output_type": "stream",
     "text": [
      "Processing samples:  58%|█████▊    | 117/201 [11:52<01:58,  1.41s/it]"
     ]
    },
    {
     "name": "stdout",
     "output_type": "stream",
     "text": [
      "0.08231260480892011\n",
      "[WRITE] Saved result from sample_state_combined_county_id_5ppc_100_size_seed_42.pkl to /home/libe2152/optimizedsampling/0_results/usavars/population/cluster_sampling_r2_scores.csv\n",
      "Fitting regression...\n",
      "NUM SAMPLES: 85\n",
      "Best alpha: 599.4842503189421\n"
     ]
    },
    {
     "name": "stderr",
     "output_type": "stream",
     "text": [
      "Processing samples:  59%|█████▊    | 118/201 [11:52<01:35,  1.15s/it]"
     ]
    },
    {
     "name": "stdout",
     "output_type": "stream",
     "text": [
      "0.2926962563079518\n",
      "[WRITE] Saved result from sample_state_combined_county_id_5ppc_100_size_seed_456.pkl to /home/libe2152/optimizedsampling/0_results/usavars/population/cluster_sampling_r2_scores.csv\n",
      "Fitting regression...\n",
      "NUM SAMPLES: 85\n",
      "Best alpha: 599.4842503189421\n"
     ]
    },
    {
     "name": "stderr",
     "output_type": "stream",
     "text": [
      "Processing samples:  59%|█████▉    | 119/201 [11:53<01:19,  1.03it/s]"
     ]
    },
    {
     "name": "stdout",
     "output_type": "stream",
     "text": [
      "0.1377543431056043\n",
      "[WRITE] Saved result from sample_state_combined_county_id_5ppc_100_size_seed_5678.pkl to /home/libe2152/optimizedsampling/0_results/usavars/population/cluster_sampling_r2_scores.csv\n",
      "Fitting regression...\n",
      "NUM SAMPLES: 85\n",
      "Best alpha: 599.4842503189421\n"
     ]
    },
    {
     "name": "stderr",
     "output_type": "stream",
     "text": [
      "Processing samples:  60%|█████▉    | 120/201 [11:53<01:07,  1.21it/s]"
     ]
    },
    {
     "name": "stdout",
     "output_type": "stream",
     "text": [
      "0.31275352999247774\n",
      "[WRITE] Saved result from sample_state_combined_county_id_5ppc_100_size_seed_789.pkl to /home/libe2152/optimizedsampling/0_results/usavars/population/cluster_sampling_r2_scores.csv\n",
      "Fitting regression...\n",
      "NUM SAMPLES: 85\n",
      "Best alpha: 46.41588833612782\n"
     ]
    },
    {
     "name": "stderr",
     "output_type": "stream",
     "text": [
      "Processing samples:  60%|██████    | 121/201 [11:54<00:58,  1.36it/s]"
     ]
    },
    {
     "name": "stdout",
     "output_type": "stream",
     "text": [
      "0.3590223034363734\n",
      "[WRITE] Saved result from sample_state_combined_county_id_5ppc_100_size_seed_9101.pkl to /home/libe2152/optimizedsampling/0_results/usavars/population/cluster_sampling_r2_scores.csv\n",
      "Fitting regression...\n",
      "NUM SAMPLES: 185\n",
      "Best alpha: 46.41588833612782\n"
     ]
    },
    {
     "name": "stderr",
     "output_type": "stream",
     "text": [
      "Processing samples:  61%|██████    | 122/201 [11:55<01:19,  1.00s/it]"
     ]
    },
    {
     "name": "stdout",
     "output_type": "stream",
     "text": [
      "0.3239470457647612\n",
      "[WRITE] Saved result from sample_state_combined_county_id_5ppc_200_size_seed_1.pkl to /home/libe2152/optimizedsampling/0_results/usavars/population/cluster_sampling_r2_scores.csv\n",
      "Fitting regression...\n",
      "NUM SAMPLES: 185\n",
      "Best alpha: 599.4842503189421\n"
     ]
    },
    {
     "name": "stderr",
     "output_type": "stream",
     "text": [
      "Processing samples:  61%|██████    | 123/201 [11:58<01:44,  1.34s/it]"
     ]
    },
    {
     "name": "stdout",
     "output_type": "stream",
     "text": [
      "0.37388154167396115\n",
      "[WRITE] Saved result from sample_state_combined_county_id_5ppc_200_size_seed_1213.pkl to /home/libe2152/optimizedsampling/0_results/usavars/population/cluster_sampling_r2_scores.csv\n",
      "Fitting regression...\n",
      "NUM SAMPLES: 185\n",
      "Best alpha: 46.41588833612782\n"
     ]
    },
    {
     "name": "stderr",
     "output_type": "stream",
     "text": [
      "Processing samples:  62%|██████▏   | 124/201 [11:59<01:50,  1.43s/it]"
     ]
    },
    {
     "name": "stdout",
     "output_type": "stream",
     "text": [
      "0.35366846935410945\n",
      "[WRITE] Saved result from sample_state_combined_county_id_5ppc_200_size_seed_123.pkl to /home/libe2152/optimizedsampling/0_results/usavars/population/cluster_sampling_r2_scores.csv\n",
      "Fitting regression...\n",
      "NUM SAMPLES: 185\n",
      "Best alpha: 599.4842503189421\n"
     ]
    },
    {
     "name": "stderr",
     "output_type": "stream",
     "text": [
      "Processing samples:  62%|██████▏   | 125/201 [12:01<01:58,  1.55s/it]"
     ]
    },
    {
     "name": "stdout",
     "output_type": "stream",
     "text": [
      "0.3749559523669693\n",
      "[WRITE] Saved result from sample_state_combined_county_id_5ppc_200_size_seed_1234.pkl to /home/libe2152/optimizedsampling/0_results/usavars/population/cluster_sampling_r2_scores.csv\n",
      "Fitting regression...\n",
      "NUM SAMPLES: 185\n",
      "Best alpha: 46.41588833612782\n"
     ]
    },
    {
     "name": "stderr",
     "output_type": "stream",
     "text": [
      "Processing samples:  63%|██████▎   | 126/201 [12:03<02:02,  1.63s/it]"
     ]
    },
    {
     "name": "stdout",
     "output_type": "stream",
     "text": [
      "0.2659269770764737\n",
      "[WRITE] Saved result from sample_state_combined_county_id_5ppc_200_size_seed_1415.pkl to /home/libe2152/optimizedsampling/0_results/usavars/population/cluster_sampling_r2_scores.csv\n",
      "Fitting regression...\n",
      "NUM SAMPLES: 185\n",
      "Best alpha: 599.4842503189421\n"
     ]
    },
    {
     "name": "stderr",
     "output_type": "stream",
     "text": [
      "Processing samples:  63%|██████▎   | 127/201 [12:05<02:09,  1.74s/it]"
     ]
    },
    {
     "name": "stdout",
     "output_type": "stream",
     "text": [
      "0.37150475639192504\n",
      "[WRITE] Saved result from sample_state_combined_county_id_5ppc_200_size_seed_42.pkl to /home/libe2152/optimizedsampling/0_results/usavars/population/cluster_sampling_r2_scores.csv\n",
      "Fitting regression...\n",
      "NUM SAMPLES: 185\n",
      "Best alpha: 3.593813663804626\n"
     ]
    },
    {
     "name": "stderr",
     "output_type": "stream",
     "text": [
      "Processing samples:  64%|██████▎   | 128/201 [12:07<02:07,  1.75s/it]"
     ]
    },
    {
     "name": "stdout",
     "output_type": "stream",
     "text": [
      "0.05651801877684404\n",
      "[WRITE] Saved result from sample_state_combined_county_id_5ppc_200_size_seed_456.pkl to /home/libe2152/optimizedsampling/0_results/usavars/population/cluster_sampling_r2_scores.csv\n",
      "Fitting regression...\n",
      "NUM SAMPLES: 185\n",
      "Best alpha: 599.4842503189421\n"
     ]
    },
    {
     "name": "stderr",
     "output_type": "stream",
     "text": [
      "Processing samples:  64%|██████▍   | 129/201 [12:08<02:07,  1.77s/it]"
     ]
    },
    {
     "name": "stdout",
     "output_type": "stream",
     "text": [
      "0.34424563296618016\n",
      "[WRITE] Saved result from sample_state_combined_county_id_5ppc_200_size_seed_5678.pkl to /home/libe2152/optimizedsampling/0_results/usavars/population/cluster_sampling_r2_scores.csv\n",
      "Fitting regression...\n",
      "NUM SAMPLES: 185\n",
      "Best alpha: 599.4842503189421\n"
     ]
    },
    {
     "name": "stderr",
     "output_type": "stream",
     "text": [
      "Processing samples:  65%|██████▍   | 130/201 [12:11<02:26,  2.06s/it]"
     ]
    },
    {
     "name": "stdout",
     "output_type": "stream",
     "text": [
      "0.4086108768518377\n",
      "[WRITE] Saved result from sample_state_combined_county_id_5ppc_200_size_seed_789.pkl to /home/libe2152/optimizedsampling/0_results/usavars/population/cluster_sampling_r2_scores.csv\n",
      "Fitting regression...\n",
      "NUM SAMPLES: 185\n",
      "Best alpha: 46.41588833612782\n"
     ]
    },
    {
     "name": "stderr",
     "output_type": "stream",
     "text": [
      "Processing samples:  65%|██████▌   | 131/201 [12:13<02:25,  2.08s/it]"
     ]
    },
    {
     "name": "stdout",
     "output_type": "stream",
     "text": [
      "0.2471778359045782\n",
      "[WRITE] Saved result from sample_state_combined_county_id_5ppc_200_size_seed_9101.pkl to /home/libe2152/optimizedsampling/0_results/usavars/population/cluster_sampling_r2_scores.csv\n",
      "Fitting regression...\n",
      "NUM SAMPLES: 290\n",
      "Best alpha: 46.41588833612782\n"
     ]
    },
    {
     "name": "stderr",
     "output_type": "stream",
     "text": [
      "Processing samples:  66%|██████▌   | 132/201 [12:16<02:28,  2.15s/it]"
     ]
    },
    {
     "name": "stdout",
     "output_type": "stream",
     "text": [
      "0.4253377370753709\n",
      "[WRITE] Saved result from sample_state_combined_county_id_5ppc_300_size_seed_1.pkl to /home/libe2152/optimizedsampling/0_results/usavars/population/cluster_sampling_r2_scores.csv\n",
      "Fitting regression...\n",
      "NUM SAMPLES: 290\n",
      "Best alpha: 599.4842503189421\n"
     ]
    },
    {
     "name": "stderr",
     "output_type": "stream",
     "text": [
      "Processing samples:  66%|██████▌   | 133/201 [12:18<02:22,  2.10s/it]"
     ]
    },
    {
     "name": "stdout",
     "output_type": "stream",
     "text": [
      "0.43078052927430655\n",
      "[WRITE] Saved result from sample_state_combined_county_id_5ppc_300_size_seed_1213.pkl to /home/libe2152/optimizedsampling/0_results/usavars/population/cluster_sampling_r2_scores.csv\n",
      "Fitting regression...\n",
      "NUM SAMPLES: 290\n",
      "Best alpha: 46.41588833612782\n"
     ]
    },
    {
     "name": "stderr",
     "output_type": "stream",
     "text": [
      "Processing samples:  67%|██████▋   | 134/201 [12:20<02:21,  2.11s/it]"
     ]
    },
    {
     "name": "stdout",
     "output_type": "stream",
     "text": [
      "0.4135994761396392\n",
      "[WRITE] Saved result from sample_state_combined_county_id_5ppc_300_size_seed_123.pkl to /home/libe2152/optimizedsampling/0_results/usavars/population/cluster_sampling_r2_scores.csv\n",
      "Fitting regression...\n",
      "NUM SAMPLES: 290\n",
      "Best alpha: 599.4842503189421\n"
     ]
    },
    {
     "name": "stderr",
     "output_type": "stream",
     "text": [
      "Processing samples:  67%|██████▋   | 135/201 [12:22<02:17,  2.09s/it]"
     ]
    },
    {
     "name": "stdout",
     "output_type": "stream",
     "text": [
      "0.38944419461752533\n",
      "[WRITE] Saved result from sample_state_combined_county_id_5ppc_300_size_seed_1234.pkl to /home/libe2152/optimizedsampling/0_results/usavars/population/cluster_sampling_r2_scores.csv\n",
      "Fitting regression...\n",
      "NUM SAMPLES: 290\n",
      "Best alpha: 46.41588833612782\n"
     ]
    },
    {
     "name": "stderr",
     "output_type": "stream",
     "text": [
      "Processing samples:  68%|██████▊   | 136/201 [12:24<02:13,  2.06s/it]"
     ]
    },
    {
     "name": "stdout",
     "output_type": "stream",
     "text": [
      "0.3862774656482175\n",
      "[WRITE] Saved result from sample_state_combined_county_id_5ppc_300_size_seed_1415.pkl to /home/libe2152/optimizedsampling/0_results/usavars/population/cluster_sampling_r2_scores.csv\n",
      "Fitting regression...\n",
      "NUM SAMPLES: 290\n",
      "Best alpha: 599.4842503189421\n"
     ]
    },
    {
     "name": "stderr",
     "output_type": "stream",
     "text": [
      "Processing samples:  68%|██████▊   | 137/201 [12:26<02:14,  2.10s/it]"
     ]
    },
    {
     "name": "stdout",
     "output_type": "stream",
     "text": [
      "0.33866787488069927\n",
      "[WRITE] Saved result from sample_state_combined_county_id_5ppc_300_size_seed_42.pkl to /home/libe2152/optimizedsampling/0_results/usavars/population/cluster_sampling_r2_scores.csv\n",
      "Fitting regression...\n",
      "NUM SAMPLES: 290\n",
      "Best alpha: 46.41588833612782\n"
     ]
    },
    {
     "name": "stderr",
     "output_type": "stream",
     "text": [
      "Processing samples:  69%|██████▊   | 138/201 [12:28<02:11,  2.09s/it]"
     ]
    },
    {
     "name": "stdout",
     "output_type": "stream",
     "text": [
      "0.4420731353003231\n",
      "[WRITE] Saved result from sample_state_combined_county_id_5ppc_300_size_seed_456.pkl to /home/libe2152/optimizedsampling/0_results/usavars/population/cluster_sampling_r2_scores.csv\n",
      "Fitting regression...\n",
      "NUM SAMPLES: 290\n",
      "Best alpha: 599.4842503189421\n"
     ]
    },
    {
     "name": "stderr",
     "output_type": "stream",
     "text": [
      "Processing samples:  69%|██████▉   | 139/201 [12:30<02:04,  2.00s/it]"
     ]
    },
    {
     "name": "stdout",
     "output_type": "stream",
     "text": [
      "0.3648577567794046\n",
      "[WRITE] Saved result from sample_state_combined_county_id_5ppc_300_size_seed_5678.pkl to /home/libe2152/optimizedsampling/0_results/usavars/population/cluster_sampling_r2_scores.csv\n",
      "Fitting regression...\n",
      "NUM SAMPLES: 290\n",
      "Best alpha: 599.4842503189421\n"
     ]
    },
    {
     "name": "stderr",
     "output_type": "stream",
     "text": [
      "Processing samples:  70%|██████▉   | 140/201 [12:32<02:02,  2.00s/it]"
     ]
    },
    {
     "name": "stdout",
     "output_type": "stream",
     "text": [
      "0.4581935447542329\n",
      "[WRITE] Saved result from sample_state_combined_county_id_5ppc_300_size_seed_789.pkl to /home/libe2152/optimizedsampling/0_results/usavars/population/cluster_sampling_r2_scores.csv\n",
      "Fitting regression...\n",
      "NUM SAMPLES: 290\n",
      "Best alpha: 599.4842503189421\n"
     ]
    },
    {
     "name": "stderr",
     "output_type": "stream",
     "text": [
      "Processing samples:  70%|███████   | 141/201 [12:34<02:02,  2.03s/it]"
     ]
    },
    {
     "name": "stdout",
     "output_type": "stream",
     "text": [
      "0.34887235528153704\n",
      "[WRITE] Saved result from sample_state_combined_county_id_5ppc_300_size_seed_9101.pkl to /home/libe2152/optimizedsampling/0_results/usavars/population/cluster_sampling_r2_scores.csv\n",
      "Fitting regression...\n",
      "NUM SAMPLES: 390\n",
      "Best alpha: 46.41588833612782\n"
     ]
    },
    {
     "name": "stderr",
     "output_type": "stream",
     "text": [
      "Processing samples:  71%|███████   | 142/201 [12:37<02:11,  2.22s/it]"
     ]
    },
    {
     "name": "stdout",
     "output_type": "stream",
     "text": [
      "0.42848047284590995\n",
      "[WRITE] Saved result from sample_state_combined_county_id_5ppc_400_size_seed_1.pkl to /home/libe2152/optimizedsampling/0_results/usavars/population/cluster_sampling_r2_scores.csv\n",
      "Fitting regression...\n",
      "NUM SAMPLES: 390\n",
      "Best alpha: 46.41588833612782\n"
     ]
    },
    {
     "name": "stderr",
     "output_type": "stream",
     "text": [
      "Processing samples:  71%|███████   | 143/201 [12:39<02:15,  2.34s/it]"
     ]
    },
    {
     "name": "stdout",
     "output_type": "stream",
     "text": [
      "0.4243049977705421\n",
      "[WRITE] Saved result from sample_state_combined_county_id_5ppc_400_size_seed_1213.pkl to /home/libe2152/optimizedsampling/0_results/usavars/population/cluster_sampling_r2_scores.csv\n",
      "Fitting regression...\n",
      "NUM SAMPLES: 390\n",
      "Best alpha: 599.4842503189421\n"
     ]
    },
    {
     "name": "stderr",
     "output_type": "stream",
     "text": [
      "Processing samples:  72%|███████▏  | 144/201 [12:43<02:33,  2.69s/it]"
     ]
    },
    {
     "name": "stdout",
     "output_type": "stream",
     "text": [
      "0.45496382390538936\n",
      "[WRITE] Saved result from sample_state_combined_county_id_5ppc_400_size_seed_123.pkl to /home/libe2152/optimizedsampling/0_results/usavars/population/cluster_sampling_r2_scores.csv\n",
      "Fitting regression...\n",
      "NUM SAMPLES: 390\n",
      "Best alpha: 599.4842503189421\n"
     ]
    },
    {
     "name": "stderr",
     "output_type": "stream",
     "text": [
      "Processing samples:  72%|███████▏  | 145/201 [12:45<02:30,  2.69s/it]"
     ]
    },
    {
     "name": "stdout",
     "output_type": "stream",
     "text": [
      "0.4037209236763546\n",
      "[WRITE] Saved result from sample_state_combined_county_id_5ppc_400_size_seed_1234.pkl to /home/libe2152/optimizedsampling/0_results/usavars/population/cluster_sampling_r2_scores.csv\n",
      "Fitting regression...\n",
      "NUM SAMPLES: 390\n",
      "Best alpha: 46.41588833612782\n"
     ]
    },
    {
     "name": "stderr",
     "output_type": "stream",
     "text": [
      "Processing samples:  73%|███████▎  | 146/201 [12:48<02:24,  2.63s/it]"
     ]
    },
    {
     "name": "stdout",
     "output_type": "stream",
     "text": [
      "0.42354772308608646\n",
      "[WRITE] Saved result from sample_state_combined_county_id_5ppc_400_size_seed_1415.pkl to /home/libe2152/optimizedsampling/0_results/usavars/population/cluster_sampling_r2_scores.csv\n",
      "Fitting regression...\n",
      "NUM SAMPLES: 390\n",
      "Best alpha: 46.41588833612782\n"
     ]
    },
    {
     "name": "stderr",
     "output_type": "stream",
     "text": [
      "Processing samples:  73%|███████▎  | 147/201 [12:51<02:31,  2.80s/it]"
     ]
    },
    {
     "name": "stdout",
     "output_type": "stream",
     "text": [
      "0.40238025841974856\n",
      "[WRITE] Saved result from sample_state_combined_county_id_5ppc_400_size_seed_42.pkl to /home/libe2152/optimizedsampling/0_results/usavars/population/cluster_sampling_r2_scores.csv\n",
      "Fitting regression...\n",
      "NUM SAMPLES: 389\n",
      "Best alpha: 46.41588833612782\n"
     ]
    },
    {
     "name": "stderr",
     "output_type": "stream",
     "text": [
      "Processing samples:  74%|███████▎  | 148/201 [12:54<02:28,  2.80s/it]"
     ]
    },
    {
     "name": "stdout",
     "output_type": "stream",
     "text": [
      "0.4638454621597474\n",
      "[WRITE] Saved result from sample_state_combined_county_id_5ppc_400_size_seed_456.pkl to /home/libe2152/optimizedsampling/0_results/usavars/population/cluster_sampling_r2_scores.csv\n",
      "Fitting regression...\n",
      "NUM SAMPLES: 390\n",
      "Best alpha: 599.4842503189421\n"
     ]
    },
    {
     "name": "stderr",
     "output_type": "stream",
     "text": [
      "Processing samples:  74%|███████▍  | 149/201 [12:57<02:25,  2.80s/it]"
     ]
    },
    {
     "name": "stdout",
     "output_type": "stream",
     "text": [
      "0.4277550033341385\n",
      "[WRITE] Saved result from sample_state_combined_county_id_5ppc_400_size_seed_5678.pkl to /home/libe2152/optimizedsampling/0_results/usavars/population/cluster_sampling_r2_scores.csv\n",
      "Fitting regression...\n",
      "NUM SAMPLES: 390\n",
      "Best alpha: 46.41588833612782\n"
     ]
    },
    {
     "name": "stderr",
     "output_type": "stream",
     "text": [
      "Processing samples:  75%|███████▍  | 150/201 [12:59<02:15,  2.67s/it]"
     ]
    },
    {
     "name": "stdout",
     "output_type": "stream",
     "text": [
      "0.47759280781916746\n",
      "[WRITE] Saved result from sample_state_combined_county_id_5ppc_400_size_seed_789.pkl to /home/libe2152/optimizedsampling/0_results/usavars/population/cluster_sampling_r2_scores.csv\n",
      "Fitting regression...\n",
      "NUM SAMPLES: 390\n",
      "Best alpha: 46.41588833612782\n"
     ]
    },
    {
     "name": "stderr",
     "output_type": "stream",
     "text": [
      "Processing samples:  75%|███████▌  | 151/201 [13:02<02:18,  2.76s/it]"
     ]
    },
    {
     "name": "stdout",
     "output_type": "stream",
     "text": [
      "0.3033486317420645\n",
      "[WRITE] Saved result from sample_state_combined_county_id_5ppc_400_size_seed_9101.pkl to /home/libe2152/optimizedsampling/0_results/usavars/population/cluster_sampling_r2_scores.csv\n",
      "Fitting regression...\n",
      "NUM SAMPLES: 490\n",
      "Best alpha: 46.41588833612782\n"
     ]
    },
    {
     "name": "stderr",
     "output_type": "stream",
     "text": [
      "Processing samples:  76%|███████▌  | 152/201 [13:05<02:20,  2.87s/it]"
     ]
    },
    {
     "name": "stdout",
     "output_type": "stream",
     "text": [
      "0.46923901539730095\n",
      "[WRITE] Saved result from sample_state_combined_county_id_5ppc_500_size_seed_1.pkl to /home/libe2152/optimizedsampling/0_results/usavars/population/cluster_sampling_r2_scores.csv\n",
      "Fitting regression...\n",
      "NUM SAMPLES: 490\n",
      "Best alpha: 46.41588833612782\n"
     ]
    },
    {
     "name": "stderr",
     "output_type": "stream",
     "text": [
      "Processing samples:  76%|███████▌  | 153/201 [13:08<02:23,  2.99s/it]"
     ]
    },
    {
     "name": "stdout",
     "output_type": "stream",
     "text": [
      "0.4502963802864737\n",
      "[WRITE] Saved result from sample_state_combined_county_id_5ppc_500_size_seed_1213.pkl to /home/libe2152/optimizedsampling/0_results/usavars/population/cluster_sampling_r2_scores.csv\n",
      "Fitting regression...\n",
      "NUM SAMPLES: 490\n",
      "Best alpha: 46.41588833612782\n"
     ]
    },
    {
     "name": "stderr",
     "output_type": "stream",
     "text": [
      "Processing samples:  77%|███████▋  | 154/201 [13:11<02:19,  2.97s/it]"
     ]
    },
    {
     "name": "stdout",
     "output_type": "stream",
     "text": [
      "0.4305126732383654\n",
      "[WRITE] Saved result from sample_state_combined_county_id_5ppc_500_size_seed_123.pkl to /home/libe2152/optimizedsampling/0_results/usavars/population/cluster_sampling_r2_scores.csv\n",
      "Fitting regression...\n",
      "NUM SAMPLES: 490\n",
      "Best alpha: 46.41588833612782\n"
     ]
    },
    {
     "name": "stderr",
     "output_type": "stream",
     "text": [
      "Processing samples:  77%|███████▋  | 155/201 [13:14<02:16,  2.96s/it]"
     ]
    },
    {
     "name": "stdout",
     "output_type": "stream",
     "text": [
      "0.39286353389736717\n",
      "[WRITE] Saved result from sample_state_combined_county_id_5ppc_500_size_seed_1234.pkl to /home/libe2152/optimizedsampling/0_results/usavars/population/cluster_sampling_r2_scores.csv\n",
      "Fitting regression...\n",
      "NUM SAMPLES: 490\n",
      "Best alpha: 46.41588833612782\n"
     ]
    },
    {
     "name": "stderr",
     "output_type": "stream",
     "text": [
      "Processing samples:  78%|███████▊  | 156/201 [13:18<02:20,  3.12s/it]"
     ]
    },
    {
     "name": "stdout",
     "output_type": "stream",
     "text": [
      "0.4279865009359276\n",
      "[WRITE] Saved result from sample_state_combined_county_id_5ppc_500_size_seed_1415.pkl to /home/libe2152/optimizedsampling/0_results/usavars/population/cluster_sampling_r2_scores.csv\n",
      "Fitting regression...\n",
      "NUM SAMPLES: 490\n",
      "Best alpha: 46.41588833612782\n"
     ]
    },
    {
     "name": "stderr",
     "output_type": "stream",
     "text": [
      "Processing samples:  78%|███████▊  | 157/201 [13:21<02:22,  3.23s/it]"
     ]
    },
    {
     "name": "stdout",
     "output_type": "stream",
     "text": [
      "0.42336310254770126\n",
      "[WRITE] Saved result from sample_state_combined_county_id_5ppc_500_size_seed_42.pkl to /home/libe2152/optimizedsampling/0_results/usavars/population/cluster_sampling_r2_scores.csv\n",
      "Fitting regression...\n",
      "NUM SAMPLES: 494\n",
      "Best alpha: 46.41588833612782\n"
     ]
    },
    {
     "name": "stderr",
     "output_type": "stream",
     "text": [
      "Processing samples:  79%|███████▊  | 158/201 [13:25<02:18,  3.23s/it]"
     ]
    },
    {
     "name": "stdout",
     "output_type": "stream",
     "text": [
      "0.4743042968359412\n",
      "[WRITE] Saved result from sample_state_combined_county_id_5ppc_500_size_seed_456.pkl to /home/libe2152/optimizedsampling/0_results/usavars/population/cluster_sampling_r2_scores.csv\n",
      "Fitting regression...\n",
      "NUM SAMPLES: 490\n",
      "Best alpha: 599.4842503189421\n"
     ]
    },
    {
     "name": "stderr",
     "output_type": "stream",
     "text": [
      "Processing samples:  79%|███████▉  | 159/201 [13:28<02:13,  3.18s/it]"
     ]
    },
    {
     "name": "stdout",
     "output_type": "stream",
     "text": [
      "0.4342966474660176\n",
      "[WRITE] Saved result from sample_state_combined_county_id_5ppc_500_size_seed_5678.pkl to /home/libe2152/optimizedsampling/0_results/usavars/population/cluster_sampling_r2_scores.csv\n",
      "Fitting regression...\n",
      "NUM SAMPLES: 490\n",
      "Best alpha: 46.41588833612782\n"
     ]
    },
    {
     "name": "stderr",
     "output_type": "stream",
     "text": [
      "Processing samples:  80%|███████▉  | 160/201 [13:31<02:18,  3.39s/it]"
     ]
    },
    {
     "name": "stdout",
     "output_type": "stream",
     "text": [
      "0.45449638096749845\n",
      "[WRITE] Saved result from sample_state_combined_county_id_5ppc_500_size_seed_789.pkl to /home/libe2152/optimizedsampling/0_results/usavars/population/cluster_sampling_r2_scores.csv\n",
      "Fitting regression...\n",
      "NUM SAMPLES: 490\n",
      "Best alpha: 46.41588833612782\n"
     ]
    },
    {
     "name": "stderr",
     "output_type": "stream",
     "text": [
      "Processing samples:  80%|████████  | 161/201 [13:35<02:11,  3.29s/it]"
     ]
    },
    {
     "name": "stdout",
     "output_type": "stream",
     "text": [
      "0.39971047930308545\n",
      "[WRITE] Saved result from sample_state_combined_county_id_5ppc_500_size_seed_9101.pkl to /home/libe2152/optimizedsampling/0_results/usavars/population/cluster_sampling_r2_scores.csv\n",
      "Fitting regression...\n",
      "NUM SAMPLES: 590\n",
      "Best alpha: 46.41588833612782\n"
     ]
    },
    {
     "name": "stderr",
     "output_type": "stream",
     "text": [
      "Processing samples:  81%|████████  | 162/201 [13:39<02:26,  3.77s/it]"
     ]
    },
    {
     "name": "stdout",
     "output_type": "stream",
     "text": [
      "0.49660845187979086\n",
      "[WRITE] Saved result from sample_state_combined_county_id_5ppc_600_size_seed_1.pkl to /home/libe2152/optimizedsampling/0_results/usavars/population/cluster_sampling_r2_scores.csv\n",
      "Fitting regression...\n",
      "NUM SAMPLES: 590\n",
      "Best alpha: 46.41588833612782\n"
     ]
    },
    {
     "name": "stderr",
     "output_type": "stream",
     "text": [
      "Processing samples:  81%|████████  | 163/201 [13:45<02:39,  4.20s/it]"
     ]
    },
    {
     "name": "stdout",
     "output_type": "stream",
     "text": [
      "0.44138130838582046\n",
      "[WRITE] Saved result from sample_state_combined_county_id_5ppc_600_size_seed_1213.pkl to /home/libe2152/optimizedsampling/0_results/usavars/population/cluster_sampling_r2_scores.csv\n",
      "Fitting regression...\n",
      "NUM SAMPLES: 590\n",
      "Best alpha: 46.41588833612782\n"
     ]
    },
    {
     "name": "stderr",
     "output_type": "stream",
     "text": [
      "Processing samples:  82%|████████▏ | 164/201 [13:51<02:56,  4.77s/it]"
     ]
    },
    {
     "name": "stdout",
     "output_type": "stream",
     "text": [
      "0.43279148029462666\n",
      "[WRITE] Saved result from sample_state_combined_county_id_5ppc_600_size_seed_123.pkl to /home/libe2152/optimizedsampling/0_results/usavars/population/cluster_sampling_r2_scores.csv\n",
      "Fitting regression...\n",
      "NUM SAMPLES: 590\n",
      "Best alpha: 599.4842503189421\n"
     ]
    },
    {
     "name": "stderr",
     "output_type": "stream",
     "text": [
      "Processing samples:  82%|████████▏ | 165/201 [13:56<02:59,  4.99s/it]"
     ]
    },
    {
     "name": "stdout",
     "output_type": "stream",
     "text": [
      "0.44391445449671674\n",
      "[WRITE] Saved result from sample_state_combined_county_id_5ppc_600_size_seed_1234.pkl to /home/libe2152/optimizedsampling/0_results/usavars/population/cluster_sampling_r2_scores.csv\n",
      "Fitting regression...\n",
      "NUM SAMPLES: 585\n",
      "Best alpha: 46.41588833612782\n"
     ]
    },
    {
     "name": "stderr",
     "output_type": "stream",
     "text": [
      "Processing samples:  83%|████████▎ | 166/201 [14:02<02:59,  5.12s/it]"
     ]
    },
    {
     "name": "stdout",
     "output_type": "stream",
     "text": [
      "0.4478112831732789\n",
      "[WRITE] Saved result from sample_state_combined_county_id_5ppc_600_size_seed_1415.pkl to /home/libe2152/optimizedsampling/0_results/usavars/population/cluster_sampling_r2_scores.csv\n",
      "Fitting regression...\n",
      "NUM SAMPLES: 590\n",
      "Best alpha: 46.41588833612782\n"
     ]
    },
    {
     "name": "stderr",
     "output_type": "stream",
     "text": [
      "Processing samples:  83%|████████▎ | 167/201 [14:08<03:09,  5.58s/it]"
     ]
    },
    {
     "name": "stdout",
     "output_type": "stream",
     "text": [
      "0.44183823542053857\n",
      "[WRITE] Saved result from sample_state_combined_county_id_5ppc_600_size_seed_42.pkl to /home/libe2152/optimizedsampling/0_results/usavars/population/cluster_sampling_r2_scores.csv\n",
      "Fitting regression...\n",
      "NUM SAMPLES: 589\n",
      "Best alpha: 46.41588833612782\n"
     ]
    },
    {
     "name": "stderr",
     "output_type": "stream",
     "text": [
      "Processing samples:  84%|████████▎ | 168/201 [14:13<02:55,  5.32s/it]"
     ]
    },
    {
     "name": "stdout",
     "output_type": "stream",
     "text": [
      "0.4843628089481027\n",
      "[WRITE] Saved result from sample_state_combined_county_id_5ppc_600_size_seed_456.pkl to /home/libe2152/optimizedsampling/0_results/usavars/population/cluster_sampling_r2_scores.csv\n",
      "Fitting regression...\n",
      "NUM SAMPLES: 590\n",
      "Best alpha: 599.4842503189421\n"
     ]
    },
    {
     "name": "stderr",
     "output_type": "stream",
     "text": [
      "Processing samples:  84%|████████▍ | 169/201 [14:18<02:45,  5.18s/it]"
     ]
    },
    {
     "name": "stdout",
     "output_type": "stream",
     "text": [
      "0.44749343911993755\n",
      "[WRITE] Saved result from sample_state_combined_county_id_5ppc_600_size_seed_5678.pkl to /home/libe2152/optimizedsampling/0_results/usavars/population/cluster_sampling_r2_scores.csv\n",
      "Fitting regression...\n",
      "NUM SAMPLES: 590\n",
      "Best alpha: 46.41588833612782\n"
     ]
    },
    {
     "name": "stderr",
     "output_type": "stream",
     "text": [
      "Processing samples:  85%|████████▍ | 170/201 [14:23<02:40,  5.16s/it]"
     ]
    },
    {
     "name": "stdout",
     "output_type": "stream",
     "text": [
      "0.4630574217197553\n",
      "[WRITE] Saved result from sample_state_combined_county_id_5ppc_600_size_seed_789.pkl to /home/libe2152/optimizedsampling/0_results/usavars/population/cluster_sampling_r2_scores.csv\n",
      "Fitting regression...\n",
      "NUM SAMPLES: 590\n",
      "Best alpha: 3.593813663804626\n"
     ]
    },
    {
     "name": "stderr",
     "output_type": "stream",
     "text": [
      "Processing samples:  85%|████████▌ | 171/201 [14:29<02:42,  5.41s/it]"
     ]
    },
    {
     "name": "stdout",
     "output_type": "stream",
     "text": [
      "0.2727397891557115\n",
      "[WRITE] Saved result from sample_state_combined_county_id_5ppc_600_size_seed_9101.pkl to /home/libe2152/optimizedsampling/0_results/usavars/population/cluster_sampling_r2_scores.csv\n",
      "Fitting regression...\n",
      "NUM SAMPLES: 685\n",
      "Best alpha: 599.4842503189421\n"
     ]
    },
    {
     "name": "stderr",
     "output_type": "stream",
     "text": [
      "Processing samples:  86%|████████▌ | 172/201 [14:35<02:40,  5.52s/it]"
     ]
    },
    {
     "name": "stdout",
     "output_type": "stream",
     "text": [
      "0.49779244347905505\n",
      "[WRITE] Saved result from sample_state_combined_county_id_5ppc_700_size_seed_1.pkl to /home/libe2152/optimizedsampling/0_results/usavars/population/cluster_sampling_r2_scores.csv\n",
      "Fitting regression...\n",
      "NUM SAMPLES: 686\n",
      "Best alpha: 599.4842503189421\n"
     ]
    },
    {
     "name": "stderr",
     "output_type": "stream",
     "text": [
      "Processing samples:  86%|████████▌ | 173/201 [14:41<02:39,  5.69s/it]"
     ]
    },
    {
     "name": "stdout",
     "output_type": "stream",
     "text": [
      "0.4576459825663306\n",
      "[WRITE] Saved result from sample_state_combined_county_id_5ppc_700_size_seed_1213.pkl to /home/libe2152/optimizedsampling/0_results/usavars/population/cluster_sampling_r2_scores.csv\n",
      "Fitting regression...\n",
      "NUM SAMPLES: 686\n",
      "Best alpha: 46.41588833612782\n"
     ]
    },
    {
     "name": "stderr",
     "output_type": "stream",
     "text": [
      "Processing samples:  87%|████████▋ | 174/201 [14:47<02:35,  5.77s/it]"
     ]
    },
    {
     "name": "stdout",
     "output_type": "stream",
     "text": [
      "0.45421990287296277\n",
      "[WRITE] Saved result from sample_state_combined_county_id_5ppc_700_size_seed_123.pkl to /home/libe2152/optimizedsampling/0_results/usavars/population/cluster_sampling_r2_scores.csv\n",
      "Fitting regression...\n",
      "NUM SAMPLES: 686\n",
      "Best alpha: 599.4842503189421\n"
     ]
    },
    {
     "name": "stderr",
     "output_type": "stream",
     "text": [
      "Processing samples:  87%|████████▋ | 175/201 [14:52<02:29,  5.75s/it]"
     ]
    },
    {
     "name": "stdout",
     "output_type": "stream",
     "text": [
      "0.4367559661708841\n",
      "[WRITE] Saved result from sample_state_combined_county_id_5ppc_700_size_seed_1234.pkl to /home/libe2152/optimizedsampling/0_results/usavars/population/cluster_sampling_r2_scores.csv\n",
      "Fitting regression...\n",
      "NUM SAMPLES: 686\n",
      "Best alpha: 46.41588833612782\n"
     ]
    },
    {
     "name": "stderr",
     "output_type": "stream",
     "text": [
      "Processing samples:  88%|████████▊ | 176/201 [14:59<02:28,  5.94s/it]"
     ]
    },
    {
     "name": "stdout",
     "output_type": "stream",
     "text": [
      "0.4740859694861831\n",
      "[WRITE] Saved result from sample_state_combined_county_id_5ppc_700_size_seed_1415.pkl to /home/libe2152/optimizedsampling/0_results/usavars/population/cluster_sampling_r2_scores.csv\n",
      "Fitting regression...\n",
      "NUM SAMPLES: 686\n",
      "Best alpha: 46.41588833612782\n"
     ]
    },
    {
     "name": "stderr",
     "output_type": "stream",
     "text": [
      "Processing samples:  88%|████████▊ | 177/201 [15:04<02:19,  5.82s/it]"
     ]
    },
    {
     "name": "stdout",
     "output_type": "stream",
     "text": [
      "0.4823885570456983\n",
      "[WRITE] Saved result from sample_state_combined_county_id_5ppc_700_size_seed_42.pkl to /home/libe2152/optimizedsampling/0_results/usavars/population/cluster_sampling_r2_scores.csv\n",
      "Fitting regression...\n",
      "NUM SAMPLES: 685\n",
      "Best alpha: 46.41588833612782\n"
     ]
    },
    {
     "name": "stderr",
     "output_type": "stream",
     "text": [
      "Processing samples:  89%|████████▊ | 178/201 [15:10<02:11,  5.74s/it]"
     ]
    },
    {
     "name": "stdout",
     "output_type": "stream",
     "text": [
      "0.4695941416348488\n",
      "[WRITE] Saved result from sample_state_combined_county_id_5ppc_700_size_seed_456.pkl to /home/libe2152/optimizedsampling/0_results/usavars/population/cluster_sampling_r2_scores.csv\n",
      "Fitting regression...\n",
      "NUM SAMPLES: 686\n",
      "Best alpha: 46.41588833612782\n"
     ]
    },
    {
     "name": "stderr",
     "output_type": "stream",
     "text": [
      "Processing samples:  89%|████████▉ | 179/201 [15:16<02:05,  5.71s/it]"
     ]
    },
    {
     "name": "stdout",
     "output_type": "stream",
     "text": [
      "0.49505225731467084\n",
      "[WRITE] Saved result from sample_state_combined_county_id_5ppc_700_size_seed_5678.pkl to /home/libe2152/optimizedsampling/0_results/usavars/population/cluster_sampling_r2_scores.csv\n",
      "Fitting regression...\n",
      "NUM SAMPLES: 686\n",
      "Best alpha: 46.41588833612782\n"
     ]
    },
    {
     "name": "stderr",
     "output_type": "stream",
     "text": [
      "Processing samples:  90%|████████▉ | 180/201 [15:21<01:57,  5.57s/it]"
     ]
    },
    {
     "name": "stdout",
     "output_type": "stream",
     "text": [
      "0.4693831694286009\n",
      "[WRITE] Saved result from sample_state_combined_county_id_5ppc_700_size_seed_789.pkl to /home/libe2152/optimizedsampling/0_results/usavars/population/cluster_sampling_r2_scores.csv\n",
      "Fitting regression...\n",
      "NUM SAMPLES: 690\n",
      "Best alpha: 46.41588833612782\n"
     ]
    },
    {
     "name": "stderr",
     "output_type": "stream",
     "text": [
      "Processing samples:  90%|█████████ | 181/201 [15:26<01:50,  5.54s/it]"
     ]
    },
    {
     "name": "stdout",
     "output_type": "stream",
     "text": [
      "0.4416705163832114\n",
      "[WRITE] Saved result from sample_state_combined_county_id_5ppc_700_size_seed_9101.pkl to /home/libe2152/optimizedsampling/0_results/usavars/population/cluster_sampling_r2_scores.csv\n",
      "Fitting regression...\n",
      "NUM SAMPLES: 760\n",
      "Best alpha: 599.4842503189421\n"
     ]
    },
    {
     "name": "stderr",
     "output_type": "stream",
     "text": [
      "Processing samples:  91%|█████████ | 182/201 [15:33<01:52,  5.92s/it]"
     ]
    },
    {
     "name": "stdout",
     "output_type": "stream",
     "text": [
      "0.49376993445169026\n",
      "[WRITE] Saved result from sample_state_combined_county_id_5ppc_800_size_seed_1.pkl to /home/libe2152/optimizedsampling/0_results/usavars/population/cluster_sampling_r2_scores.csv\n",
      "Fitting regression...\n",
      "NUM SAMPLES: 759\n",
      "Best alpha: 599.4842503189421\n"
     ]
    },
    {
     "name": "stderr",
     "output_type": "stream",
     "text": [
      "Processing samples:  91%|█████████ | 183/201 [15:40<01:50,  6.16s/it]"
     ]
    },
    {
     "name": "stdout",
     "output_type": "stream",
     "text": [
      "0.4700944647314197\n",
      "[WRITE] Saved result from sample_state_combined_county_id_5ppc_800_size_seed_1213.pkl to /home/libe2152/optimizedsampling/0_results/usavars/population/cluster_sampling_r2_scores.csv\n",
      "Fitting regression...\n",
      "NUM SAMPLES: 761\n",
      "Best alpha: 46.41588833612782\n"
     ]
    },
    {
     "name": "stderr",
     "output_type": "stream",
     "text": [
      "Processing samples:  92%|█████████▏| 184/201 [15:47<01:51,  6.53s/it]"
     ]
    },
    {
     "name": "stdout",
     "output_type": "stream",
     "text": [
      "0.5004145843721126\n",
      "[WRITE] Saved result from sample_state_combined_county_id_5ppc_800_size_seed_123.pkl to /home/libe2152/optimizedsampling/0_results/usavars/population/cluster_sampling_r2_scores.csv\n",
      "Fitting regression...\n",
      "NUM SAMPLES: 761\n",
      "Best alpha: 46.41588833612782\n"
     ]
    },
    {
     "name": "stderr",
     "output_type": "stream",
     "text": [
      "Processing samples:  92%|█████████▏| 185/201 [15:55<01:47,  6.75s/it]"
     ]
    },
    {
     "name": "stdout",
     "output_type": "stream",
     "text": [
      "0.4620826031884828\n",
      "[WRITE] Saved result from sample_state_combined_county_id_5ppc_800_size_seed_1234.pkl to /home/libe2152/optimizedsampling/0_results/usavars/population/cluster_sampling_r2_scores.csv\n",
      "Fitting regression...\n",
      "NUM SAMPLES: 762\n",
      "Best alpha: 46.41588833612782\n"
     ]
    },
    {
     "name": "stderr",
     "output_type": "stream",
     "text": [
      "Processing samples:  93%|█████████▎| 186/201 [16:01<01:41,  6.78s/it]"
     ]
    },
    {
     "name": "stdout",
     "output_type": "stream",
     "text": [
      "0.44953261957640644\n",
      "[WRITE] Saved result from sample_state_combined_county_id_5ppc_800_size_seed_1415.pkl to /home/libe2152/optimizedsampling/0_results/usavars/population/cluster_sampling_r2_scores.csv\n",
      "Fitting regression...\n",
      "NUM SAMPLES: 761\n",
      "Best alpha: 46.41588833612782\n"
     ]
    },
    {
     "name": "stderr",
     "output_type": "stream",
     "text": [
      "Processing samples:  93%|█████████▎| 187/201 [16:08<01:36,  6.88s/it]"
     ]
    },
    {
     "name": "stdout",
     "output_type": "stream",
     "text": [
      "0.4814692044560869\n",
      "[WRITE] Saved result from sample_state_combined_county_id_5ppc_800_size_seed_42.pkl to /home/libe2152/optimizedsampling/0_results/usavars/population/cluster_sampling_r2_scores.csv\n",
      "Fitting regression...\n",
      "NUM SAMPLES: 760\n",
      "Best alpha: 46.41588833612782\n"
     ]
    },
    {
     "name": "stderr",
     "output_type": "stream",
     "text": [
      "Processing samples:  94%|█████████▎| 188/201 [16:15<01:29,  6.87s/it]"
     ]
    },
    {
     "name": "stdout",
     "output_type": "stream",
     "text": [
      "0.4272487546839002\n",
      "[WRITE] Saved result from sample_state_combined_county_id_5ppc_800_size_seed_456.pkl to /home/libe2152/optimizedsampling/0_results/usavars/population/cluster_sampling_r2_scores.csv\n",
      "Fitting regression...\n",
      "NUM SAMPLES: 761\n",
      "Best alpha: 46.41588833612782\n"
     ]
    },
    {
     "name": "stderr",
     "output_type": "stream",
     "text": [
      "Processing samples:  94%|█████████▍| 189/201 [16:22<01:23,  6.93s/it]"
     ]
    },
    {
     "name": "stdout",
     "output_type": "stream",
     "text": [
      "0.4978635758971677\n",
      "[WRITE] Saved result from sample_state_combined_county_id_5ppc_800_size_seed_5678.pkl to /home/libe2152/optimizedsampling/0_results/usavars/population/cluster_sampling_r2_scores.csv\n",
      "Fitting regression...\n",
      "NUM SAMPLES: 761\n",
      "Best alpha: 46.41588833612782\n"
     ]
    },
    {
     "name": "stderr",
     "output_type": "stream",
     "text": [
      "Processing samples:  95%|█████████▍| 190/201 [16:30<01:16,  6.99s/it]"
     ]
    },
    {
     "name": "stdout",
     "output_type": "stream",
     "text": [
      "0.4741587593389064\n",
      "[WRITE] Saved result from sample_state_combined_county_id_5ppc_800_size_seed_789.pkl to /home/libe2152/optimizedsampling/0_results/usavars/population/cluster_sampling_r2_scores.csv\n",
      "Fitting regression...\n",
      "NUM SAMPLES: 763\n",
      "Best alpha: 46.41588833612782\n"
     ]
    },
    {
     "name": "stderr",
     "output_type": "stream",
     "text": [
      "Processing samples:  95%|█████████▌| 191/201 [16:37<01:09,  7.00s/it]"
     ]
    },
    {
     "name": "stdout",
     "output_type": "stream",
     "text": [
      "0.44559007163437725\n",
      "[WRITE] Saved result from sample_state_combined_county_id_5ppc_800_size_seed_9101.pkl to /home/libe2152/optimizedsampling/0_results/usavars/population/cluster_sampling_r2_scores.csv\n",
      "Fitting regression...\n",
      "NUM SAMPLES: 833\n",
      "Best alpha: 46.41588833612782\n"
     ]
    },
    {
     "name": "stderr",
     "output_type": "stream",
     "text": [
      "Processing samples:  96%|█████████▌| 192/201 [16:44<01:04,  7.18s/it]"
     ]
    },
    {
     "name": "stdout",
     "output_type": "stream",
     "text": [
      "0.4837482542782807\n",
      "[WRITE] Saved result from sample_state_combined_county_id_5ppc_900_size_seed_1.pkl to /home/libe2152/optimizedsampling/0_results/usavars/population/cluster_sampling_r2_scores.csv\n",
      "Fitting regression...\n",
      "NUM SAMPLES: 836\n",
      "Best alpha: 46.41588833612782\n"
     ]
    },
    {
     "name": "stderr",
     "output_type": "stream",
     "text": [
      "Processing samples:  96%|█████████▌| 193/201 [16:52<00:58,  7.32s/it]"
     ]
    },
    {
     "name": "stdout",
     "output_type": "stream",
     "text": [
      "0.49790618587572\n",
      "[WRITE] Saved result from sample_state_combined_county_id_5ppc_900_size_seed_1213.pkl to /home/libe2152/optimizedsampling/0_results/usavars/population/cluster_sampling_r2_scores.csv\n",
      "Fitting regression...\n",
      "NUM SAMPLES: 836\n",
      "Best alpha: 46.41588833612782\n"
     ]
    },
    {
     "name": "stderr",
     "output_type": "stream",
     "text": [
      "Processing samples:  97%|█████████▋| 194/201 [17:00<00:52,  7.46s/it]"
     ]
    },
    {
     "name": "stdout",
     "output_type": "stream",
     "text": [
      "0.5140415702047815\n",
      "[WRITE] Saved result from sample_state_combined_county_id_5ppc_900_size_seed_123.pkl to /home/libe2152/optimizedsampling/0_results/usavars/population/cluster_sampling_r2_scores.csv\n",
      "Fitting regression...\n",
      "NUM SAMPLES: 835\n",
      "Best alpha: 46.41588833612782\n"
     ]
    },
    {
     "name": "stderr",
     "output_type": "stream",
     "text": [
      "Processing samples:  97%|█████████▋| 195/201 [17:08<00:46,  7.67s/it]"
     ]
    },
    {
     "name": "stdout",
     "output_type": "stream",
     "text": [
      "0.47894674576233753\n",
      "[WRITE] Saved result from sample_state_combined_county_id_5ppc_900_size_seed_1234.pkl to /home/libe2152/optimizedsampling/0_results/usavars/population/cluster_sampling_r2_scores.csv\n",
      "Fitting regression...\n",
      "NUM SAMPLES: 837\n",
      "Best alpha: 46.41588833612782\n"
     ]
    },
    {
     "name": "stderr",
     "output_type": "stream",
     "text": [
      "Processing samples:  98%|█████████▊| 196/201 [17:16<00:38,  7.71s/it]"
     ]
    },
    {
     "name": "stdout",
     "output_type": "stream",
     "text": [
      "0.47921071947375793\n",
      "[WRITE] Saved result from sample_state_combined_county_id_5ppc_900_size_seed_1415.pkl to /home/libe2152/optimizedsampling/0_results/usavars/population/cluster_sampling_r2_scores.csv\n",
      "Fitting regression...\n",
      "NUM SAMPLES: 835\n",
      "Best alpha: 46.41588833612782\n"
     ]
    },
    {
     "name": "stderr",
     "output_type": "stream",
     "text": [
      "Processing samples:  98%|█████████▊| 197/201 [17:23<00:31,  7.76s/it]"
     ]
    },
    {
     "name": "stdout",
     "output_type": "stream",
     "text": [
      "0.4789601745462715\n",
      "[WRITE] Saved result from sample_state_combined_county_id_5ppc_900_size_seed_42.pkl to /home/libe2152/optimizedsampling/0_results/usavars/population/cluster_sampling_r2_scores.csv\n",
      "Fitting regression...\n",
      "NUM SAMPLES: 835\n",
      "Best alpha: 46.41588833612782\n"
     ]
    },
    {
     "name": "stderr",
     "output_type": "stream",
     "text": [
      "Processing samples:  99%|█████████▊| 198/201 [17:31<00:23,  7.82s/it]"
     ]
    },
    {
     "name": "stdout",
     "output_type": "stream",
     "text": [
      "0.43991571352254333\n",
      "[WRITE] Saved result from sample_state_combined_county_id_5ppc_900_size_seed_456.pkl to /home/libe2152/optimizedsampling/0_results/usavars/population/cluster_sampling_r2_scores.csv\n",
      "Fitting regression...\n",
      "NUM SAMPLES: 836\n",
      "Best alpha: 46.41588833612782\n"
     ]
    },
    {
     "name": "stderr",
     "output_type": "stream",
     "text": [
      "Processing samples:  99%|█████████▉| 199/201 [17:39<00:15,  7.82s/it]"
     ]
    },
    {
     "name": "stdout",
     "output_type": "stream",
     "text": [
      "0.49395663586471694\n",
      "[WRITE] Saved result from sample_state_combined_county_id_5ppc_900_size_seed_5678.pkl to /home/libe2152/optimizedsampling/0_results/usavars/population/cluster_sampling_r2_scores.csv\n",
      "Fitting regression...\n",
      "NUM SAMPLES: 835\n",
      "Best alpha: 46.41588833612782\n"
     ]
    },
    {
     "name": "stderr",
     "output_type": "stream",
     "text": [
      "Processing samples: 100%|█████████▉| 200/201 [17:47<00:07,  7.85s/it]"
     ]
    },
    {
     "name": "stdout",
     "output_type": "stream",
     "text": [
      "0.48902731026111934\n",
      "[WRITE] Saved result from sample_state_combined_county_id_5ppc_900_size_seed_789.pkl to /home/libe2152/optimizedsampling/0_results/usavars/population/cluster_sampling_r2_scores.csv\n",
      "Fitting regression...\n",
      "NUM SAMPLES: 833\n",
      "Best alpha: 3.593813663804626\n"
     ]
    },
    {
     "name": "stderr",
     "output_type": "stream",
     "text": [
      "Processing samples: 100%|██████████| 201/201 [17:55<00:00,  5.35s/it]"
     ]
    },
    {
     "name": "stdout",
     "output_type": "stream",
     "text": [
      "0.37156841804605856\n",
      "[WRITE] Saved result from sample_state_combined_county_id_5ppc_900_size_seed_9101.pkl to /home/libe2152/optimizedsampling/0_results/usavars/population/cluster_sampling_r2_scores.csv\n",
      "Results written incrementally to /home/libe2152/optimizedsampling/0_results/usavars/population/cluster_sampling_r2_scores.csv\n",
      "Loading features from /home/libe2152/optimizedsampling/0_data/features/usavars/CONTUS_UAR_population_with_splits_torchgeo4096.pkl ...\n"
     ]
    },
    {
     "name": "stderr",
     "output_type": "stream",
     "text": [
      "\n"
     ]
    },
    {
     "name": "stdout",
     "output_type": "stream",
     "text": [
      "Processing samples from /home/libe2152/optimizedsampling/0_data/initial_samples/usavars/population/convenience_sampling/urban_based ...\n"
     ]
    },
    {
     "name": "stderr",
     "output_type": "stream",
     "text": [
      "Processing samples: 100%|██████████| 403/403 [00:00<00:00, 18159.31it/s]"
     ]
    },
    {
     "name": "stdout",
     "output_type": "stream",
     "text": [
      "[WARNING] Failed to load IDS_top10_urban_1000_points_probabilistic_1000_size_seed_1.pkl: list indices must be integers or slices, not str\n",
      "[WARNING] Failed to load IDS_top10_urban_1000_points_probabilistic_1000_size_seed_1213.pkl: list indices must be integers or slices, not str\n",
      "[WARNING] Failed to load IDS_top10_urban_1000_points_probabilistic_1000_size_seed_123.pkl: list indices must be integers or slices, not str\n",
      "[WARNING] Failed to load IDS_top10_urban_1000_points_probabilistic_1000_size_seed_1234.pkl: list indices must be integers or slices, not str\n",
      "[WARNING] Failed to load IDS_top10_urban_1000_points_probabilistic_1000_size_seed_1415.pkl: list indices must be integers or slices, not str\n",
      "[WARNING] Failed to load IDS_top10_urban_1000_points_probabilistic_1000_size_seed_42.pkl: list indices must be integers or slices, not str\n",
      "[WARNING] Failed to load IDS_top10_urban_1000_points_probabilistic_1000_size_seed_456.pkl: list indices must be integers or slices, not str\n",
      "[WARNING] Failed to load IDS_top10_urban_1000_points_probabilistic_1000_size_seed_5678.pkl: list indices must be integers or slices, not str\n",
      "[WARNING] Failed to load IDS_top10_urban_1000_points_probabilistic_1000_size_seed_789.pkl: list indices must be integers or slices, not str\n",
      "[WARNING] Failed to load IDS_top10_urban_1000_points_probabilistic_1000_size_seed_9101.pkl: list indices must be integers or slices, not str\n",
      "[WARNING] Failed to load IDS_top10_urban_1000_points_probabilistic_seed_1.pkl: list indices must be integers or slices, not str\n",
      "[WARNING] Failed to load IDS_top10_urban_1000_points_probabilistic_seed_1213.pkl: list indices must be integers or slices, not str\n",
      "[WARNING] Failed to load IDS_top10_urban_1000_points_probabilistic_seed_123.pkl: list indices must be integers or slices, not str\n",
      "[WARNING] Failed to load IDS_top10_urban_1000_points_probabilistic_seed_1234.pkl: list indices must be integers or slices, not str\n",
      "[WARNING] Failed to load IDS_top10_urban_1000_points_probabilistic_seed_1415.pkl: list indices must be integers or slices, not str\n",
      "[WARNING] Failed to load IDS_top10_urban_1000_points_probabilistic_seed_42.pkl: list indices must be integers or slices, not str\n",
      "[WARNING] Failed to load IDS_top10_urban_1000_points_probabilistic_seed_456.pkl: list indices must be integers or slices, not str\n",
      "[WARNING] Failed to load IDS_top10_urban_1000_points_probabilistic_seed_5678.pkl: list indices must be integers or slices, not str\n",
      "[WARNING] Failed to load IDS_top10_urban_1000_points_probabilistic_seed_789.pkl: list indices must be integers or slices, not str\n",
      "[WARNING] Failed to load IDS_top10_urban_1000_points_probabilistic_seed_9101.pkl: list indices must be integers or slices, not str\n",
      "[WARNING] Failed to load IDS_top10_urban_100_points_probabilistic_100_size_seed_1.pkl: list indices must be integers or slices, not str\n",
      "[WARNING] Failed to load IDS_top10_urban_100_points_probabilistic_100_size_seed_1213.pkl: list indices must be integers or slices, not str\n",
      "[WARNING] Failed to load IDS_top10_urban_100_points_probabilistic_100_size_seed_123.pkl: list indices must be integers or slices, not str\n",
      "[WARNING] Failed to load IDS_top10_urban_100_points_probabilistic_100_size_seed_1234.pkl: list indices must be integers or slices, not str\n",
      "[WARNING] Failed to load IDS_top10_urban_100_points_probabilistic_100_size_seed_1415.pkl: list indices must be integers or slices, not str\n",
      "[WARNING] Failed to load IDS_top10_urban_100_points_probabilistic_100_size_seed_42.pkl: list indices must be integers or slices, not str\n",
      "[WARNING] Failed to load IDS_top10_urban_100_points_probabilistic_100_size_seed_456.pkl: list indices must be integers or slices, not str\n",
      "[WARNING] Failed to load IDS_top10_urban_100_points_probabilistic_100_size_seed_5678.pkl: list indices must be integers or slices, not str\n",
      "[WARNING] Failed to load IDS_top10_urban_100_points_probabilistic_100_size_seed_789.pkl: list indices must be integers or slices, not str\n",
      "[WARNING] Failed to load IDS_top10_urban_100_points_probabilistic_100_size_seed_9101.pkl: list indices must be integers or slices, not str\n",
      "[WARNING] Failed to load IDS_top10_urban_100_points_probabilistic_seed_1.pkl: list indices must be integers or slices, not str\n",
      "[WARNING] Failed to load IDS_top10_urban_100_points_probabilistic_seed_1213.pkl: list indices must be integers or slices, not str\n",
      "[WARNING] Failed to load IDS_top10_urban_100_points_probabilistic_seed_123.pkl: list indices must be integers or slices, not str\n",
      "[WARNING] Failed to load IDS_top10_urban_100_points_probabilistic_seed_1234.pkl: list indices must be integers or slices, not str\n",
      "[WARNING] Failed to load IDS_top10_urban_100_points_probabilistic_seed_1415.pkl: list indices must be integers or slices, not str\n",
      "[WARNING] Failed to load IDS_top10_urban_100_points_probabilistic_seed_42.pkl: list indices must be integers or slices, not str\n",
      "[WARNING] Failed to load IDS_top10_urban_100_points_probabilistic_seed_456.pkl: list indices must be integers or slices, not str\n",
      "[WARNING] Failed to load IDS_top10_urban_100_points_probabilistic_seed_5678.pkl: list indices must be integers or slices, not str\n",
      "[WARNING] Failed to load IDS_top10_urban_100_points_probabilistic_seed_789.pkl: list indices must be integers or slices, not str\n",
      "[WARNING] Failed to load IDS_top10_urban_100_points_probabilistic_seed_9101.pkl: list indices must be integers or slices, not str\n",
      "[WARNING] Failed to load IDS_top10_urban_10_points_probabilistic_seed_1.pkl: list indices must be integers or slices, not str\n",
      "[WARNING] Failed to load IDS_top10_urban_10_points_probabilistic_seed_42.pkl: list indices must be integers or slices, not str\n",
      "[WARNING] Failed to load IDS_top10_urban_200_points_probabilistic_200_size_seed_1.pkl: list indices must be integers or slices, not str\n",
      "[WARNING] Failed to load IDS_top10_urban_200_points_probabilistic_200_size_seed_1213.pkl: list indices must be integers or slices, not str\n",
      "[WARNING] Failed to load IDS_top10_urban_200_points_probabilistic_200_size_seed_123.pkl: list indices must be integers or slices, not str\n",
      "[WARNING] Failed to load IDS_top10_urban_200_points_probabilistic_200_size_seed_1234.pkl: list indices must be integers or slices, not str\n",
      "[WARNING] Failed to load IDS_top10_urban_200_points_probabilistic_200_size_seed_1415.pkl: list indices must be integers or slices, not str\n",
      "[WARNING] Failed to load IDS_top10_urban_200_points_probabilistic_200_size_seed_42.pkl: list indices must be integers or slices, not str\n",
      "[WARNING] Failed to load IDS_top10_urban_200_points_probabilistic_200_size_seed_456.pkl: list indices must be integers or slices, not str\n",
      "[WARNING] Failed to load IDS_top10_urban_200_points_probabilistic_200_size_seed_5678.pkl: list indices must be integers or slices, not str\n",
      "[WARNING] Failed to load IDS_top10_urban_200_points_probabilistic_200_size_seed_789.pkl: list indices must be integers or slices, not str\n",
      "[WARNING] Failed to load IDS_top10_urban_200_points_probabilistic_200_size_seed_9101.pkl: list indices must be integers or slices, not str\n",
      "[WARNING] Failed to load IDS_top10_urban_200_points_probabilistic_seed_1.pkl: list indices must be integers or slices, not str\n",
      "[WARNING] Failed to load IDS_top10_urban_200_points_probabilistic_seed_1213.pkl: list indices must be integers or slices, not str\n",
      "[WARNING] Failed to load IDS_top10_urban_200_points_probabilistic_seed_123.pkl: list indices must be integers or slices, not str\n",
      "[WARNING] Failed to load IDS_top10_urban_200_points_probabilistic_seed_1234.pkl: list indices must be integers or slices, not str\n",
      "[WARNING] Failed to load IDS_top10_urban_200_points_probabilistic_seed_1415.pkl: list indices must be integers or slices, not str\n",
      "[WARNING] Failed to load IDS_top10_urban_200_points_probabilistic_seed_42.pkl: list indices must be integers or slices, not str\n",
      "[WARNING] Failed to load IDS_top10_urban_200_points_probabilistic_seed_456.pkl: list indices must be integers or slices, not str\n",
      "[WARNING] Failed to load IDS_top10_urban_200_points_probabilistic_seed_5678.pkl: list indices must be integers or slices, not str\n",
      "[WARNING] Failed to load IDS_top10_urban_200_points_probabilistic_seed_789.pkl: list indices must be integers or slices, not str\n",
      "[WARNING] Failed to load IDS_top10_urban_200_points_probabilistic_seed_9101.pkl: list indices must be integers or slices, not str\n",
      "[WARNING] Failed to load IDS_top10_urban_300_points_probabilistic_300_size_seed_1.pkl: list indices must be integers or slices, not str\n",
      "[WARNING] Failed to load IDS_top10_urban_300_points_probabilistic_300_size_seed_1213.pkl: list indices must be integers or slices, not str\n",
      "[WARNING] Failed to load IDS_top10_urban_300_points_probabilistic_300_size_seed_123.pkl: list indices must be integers or slices, not str\n",
      "[WARNING] Failed to load IDS_top10_urban_300_points_probabilistic_300_size_seed_1234.pkl: list indices must be integers or slices, not str\n",
      "[WARNING] Failed to load IDS_top10_urban_300_points_probabilistic_300_size_seed_1415.pkl: list indices must be integers or slices, not str\n",
      "[WARNING] Failed to load IDS_top10_urban_300_points_probabilistic_300_size_seed_42.pkl: list indices must be integers or slices, not str\n",
      "[WARNING] Failed to load IDS_top10_urban_300_points_probabilistic_300_size_seed_456.pkl: list indices must be integers or slices, not str\n",
      "[WARNING] Failed to load IDS_top10_urban_300_points_probabilistic_300_size_seed_5678.pkl: list indices must be integers or slices, not str\n",
      "[WARNING] Failed to load IDS_top10_urban_300_points_probabilistic_300_size_seed_789.pkl: list indices must be integers or slices, not str\n",
      "[WARNING] Failed to load IDS_top10_urban_300_points_probabilistic_300_size_seed_9101.pkl: list indices must be integers or slices, not str\n",
      "[WARNING] Failed to load IDS_top10_urban_300_points_probabilistic_seed_1.pkl: list indices must be integers or slices, not str\n",
      "[WARNING] Failed to load IDS_top10_urban_300_points_probabilistic_seed_1213.pkl: list indices must be integers or slices, not str\n",
      "[WARNING] Failed to load IDS_top10_urban_300_points_probabilistic_seed_123.pkl: list indices must be integers or slices, not str\n",
      "[WARNING] Failed to load IDS_top10_urban_300_points_probabilistic_seed_1234.pkl: list indices must be integers or slices, not str\n",
      "[WARNING] Failed to load IDS_top10_urban_300_points_probabilistic_seed_1415.pkl: list indices must be integers or slices, not str\n",
      "[WARNING] Failed to load IDS_top10_urban_300_points_probabilistic_seed_42.pkl: list indices must be integers or slices, not str\n",
      "[WARNING] Failed to load IDS_top10_urban_300_points_probabilistic_seed_456.pkl: list indices must be integers or slices, not str\n",
      "[WARNING] Failed to load IDS_top10_urban_300_points_probabilistic_seed_5678.pkl: list indices must be integers or slices, not str\n",
      "[WARNING] Failed to load IDS_top10_urban_300_points_probabilistic_seed_789.pkl: list indices must be integers or slices, not str\n",
      "[WARNING] Failed to load IDS_top10_urban_300_points_probabilistic_seed_9101.pkl: list indices must be integers or slices, not str\n",
      "[WARNING] Failed to load IDS_top10_urban_400_points_probabilistic_400_size_seed_1.pkl: list indices must be integers or slices, not str\n",
      "[WARNING] Failed to load IDS_top10_urban_400_points_probabilistic_400_size_seed_1213.pkl: list indices must be integers or slices, not str\n",
      "[WARNING] Failed to load IDS_top10_urban_400_points_probabilistic_400_size_seed_123.pkl: list indices must be integers or slices, not str\n",
      "[WARNING] Failed to load IDS_top10_urban_400_points_probabilistic_400_size_seed_1234.pkl: list indices must be integers or slices, not str\n",
      "[WARNING] Failed to load IDS_top10_urban_400_points_probabilistic_400_size_seed_1415.pkl: list indices must be integers or slices, not str\n",
      "[WARNING] Failed to load IDS_top10_urban_400_points_probabilistic_400_size_seed_42.pkl: list indices must be integers or slices, not str\n",
      "[WARNING] Failed to load IDS_top10_urban_400_points_probabilistic_400_size_seed_456.pkl: list indices must be integers or slices, not str\n",
      "[WARNING] Failed to load IDS_top10_urban_400_points_probabilistic_400_size_seed_5678.pkl: list indices must be integers or slices, not str\n",
      "[WARNING] Failed to load IDS_top10_urban_400_points_probabilistic_400_size_seed_789.pkl: list indices must be integers or slices, not str\n",
      "[WARNING] Failed to load IDS_top10_urban_400_points_probabilistic_400_size_seed_9101.pkl: list indices must be integers or slices, not str\n",
      "[WARNING] Failed to load IDS_top10_urban_400_points_probabilistic_seed_1.pkl: list indices must be integers or slices, not str\n",
      "[WARNING] Failed to load IDS_top10_urban_400_points_probabilistic_seed_1213.pkl: list indices must be integers or slices, not str\n",
      "[WARNING] Failed to load IDS_top10_urban_400_points_probabilistic_seed_123.pkl: list indices must be integers or slices, not str\n",
      "[WARNING] Failed to load IDS_top10_urban_400_points_probabilistic_seed_1234.pkl: list indices must be integers or slices, not str\n",
      "[WARNING] Failed to load IDS_top10_urban_400_points_probabilistic_seed_1415.pkl: list indices must be integers or slices, not str\n",
      "[WARNING] Failed to load IDS_top10_urban_400_points_probabilistic_seed_42.pkl: list indices must be integers or slices, not str\n",
      "[WARNING] Failed to load IDS_top10_urban_400_points_probabilistic_seed_456.pkl: list indices must be integers or slices, not str\n",
      "[WARNING] Failed to load IDS_top10_urban_400_points_probabilistic_seed_5678.pkl: list indices must be integers or slices, not str\n",
      "[WARNING] Failed to load IDS_top10_urban_400_points_probabilistic_seed_789.pkl: list indices must be integers or slices, not str\n",
      "[WARNING] Failed to load IDS_top10_urban_400_points_probabilistic_seed_9101.pkl: list indices must be integers or slices, not str\n",
      "[WARNING] Failed to load IDS_top10_urban_500_points_probabilistic_500_size_seed_1.pkl: list indices must be integers or slices, not str\n",
      "[WARNING] Failed to load IDS_top10_urban_500_points_probabilistic_500_size_seed_1213.pkl: list indices must be integers or slices, not str\n",
      "[WARNING] Failed to load IDS_top10_urban_500_points_probabilistic_500_size_seed_123.pkl: list indices must be integers or slices, not str\n",
      "[WARNING] Failed to load IDS_top10_urban_500_points_probabilistic_500_size_seed_1234.pkl: list indices must be integers or slices, not str\n",
      "[WARNING] Failed to load IDS_top10_urban_500_points_probabilistic_500_size_seed_1415.pkl: list indices must be integers or slices, not str\n",
      "[WARNING] Failed to load IDS_top10_urban_500_points_probabilistic_500_size_seed_42.pkl: list indices must be integers or slices, not str\n",
      "[WARNING] Failed to load IDS_top10_urban_500_points_probabilistic_500_size_seed_456.pkl: list indices must be integers or slices, not str\n",
      "[WARNING] Failed to load IDS_top10_urban_500_points_probabilistic_500_size_seed_5678.pkl: list indices must be integers or slices, not str\n",
      "[WARNING] Failed to load IDS_top10_urban_500_points_probabilistic_500_size_seed_789.pkl: list indices must be integers or slices, not str\n",
      "[WARNING] Failed to load IDS_top10_urban_500_points_probabilistic_500_size_seed_9101.pkl: list indices must be integers or slices, not str\n",
      "[WARNING] Failed to load IDS_top10_urban_500_points_probabilistic_seed_1.pkl: list indices must be integers or slices, not str\n",
      "[WARNING] Failed to load IDS_top10_urban_500_points_probabilistic_seed_1213.pkl: list indices must be integers or slices, not str\n",
      "[WARNING] Failed to load IDS_top10_urban_500_points_probabilistic_seed_123.pkl: list indices must be integers or slices, not str\n",
      "[WARNING] Failed to load IDS_top10_urban_500_points_probabilistic_seed_1234.pkl: list indices must be integers or slices, not str\n",
      "[WARNING] Failed to load IDS_top10_urban_500_points_probabilistic_seed_1415.pkl: list indices must be integers or slices, not str\n",
      "[WARNING] Failed to load IDS_top10_urban_500_points_probabilistic_seed_42.pkl: list indices must be integers or slices, not str\n",
      "[WARNING] Failed to load IDS_top10_urban_500_points_probabilistic_seed_456.pkl: list indices must be integers or slices, not str\n",
      "[WARNING] Failed to load IDS_top10_urban_500_points_probabilistic_seed_5678.pkl: list indices must be integers or slices, not str\n",
      "[WARNING] Failed to load IDS_top10_urban_500_points_probabilistic_seed_789.pkl: list indices must be integers or slices, not str\n",
      "[WARNING] Failed to load IDS_top10_urban_500_points_probabilistic_seed_9101.pkl: list indices must be integers or slices, not str\n",
      "[WARNING] Failed to load IDS_top10_urban_600_points_probabilistic_600_size_seed_1.pkl: list indices must be integers or slices, not str\n",
      "[WARNING] Failed to load IDS_top10_urban_600_points_probabilistic_600_size_seed_1213.pkl: list indices must be integers or slices, not str\n",
      "[WARNING] Failed to load IDS_top10_urban_600_points_probabilistic_600_size_seed_123.pkl: list indices must be integers or slices, not str\n",
      "[WARNING] Failed to load IDS_top10_urban_600_points_probabilistic_600_size_seed_1234.pkl: list indices must be integers or slices, not str\n",
      "[WARNING] Failed to load IDS_top10_urban_600_points_probabilistic_600_size_seed_1415.pkl: list indices must be integers or slices, not str\n",
      "[WARNING] Failed to load IDS_top10_urban_600_points_probabilistic_600_size_seed_42.pkl: list indices must be integers or slices, not str\n",
      "[WARNING] Failed to load IDS_top10_urban_600_points_probabilistic_600_size_seed_456.pkl: list indices must be integers or slices, not str\n",
      "[WARNING] Failed to load IDS_top10_urban_600_points_probabilistic_600_size_seed_5678.pkl: list indices must be integers or slices, not str\n",
      "[WARNING] Failed to load IDS_top10_urban_600_points_probabilistic_600_size_seed_789.pkl: list indices must be integers or slices, not str\n",
      "[WARNING] Failed to load IDS_top10_urban_600_points_probabilistic_600_size_seed_9101.pkl: list indices must be integers or slices, not str\n",
      "[WARNING] Failed to load IDS_top10_urban_600_points_probabilistic_seed_1.pkl: list indices must be integers or slices, not str\n",
      "[WARNING] Failed to load IDS_top10_urban_600_points_probabilistic_seed_1213.pkl: list indices must be integers or slices, not str\n",
      "[WARNING] Failed to load IDS_top10_urban_600_points_probabilistic_seed_123.pkl: list indices must be integers or slices, not str\n",
      "[WARNING] Failed to load IDS_top10_urban_600_points_probabilistic_seed_1234.pkl: list indices must be integers or slices, not str\n",
      "[WARNING] Failed to load IDS_top10_urban_600_points_probabilistic_seed_1415.pkl: list indices must be integers or slices, not str\n",
      "[WARNING] Failed to load IDS_top10_urban_600_points_probabilistic_seed_42.pkl: list indices must be integers or slices, not str\n",
      "[WARNING] Failed to load IDS_top10_urban_600_points_probabilistic_seed_456.pkl: list indices must be integers or slices, not str\n",
      "[WARNING] Failed to load IDS_top10_urban_600_points_probabilistic_seed_5678.pkl: list indices must be integers or slices, not str\n",
      "[WARNING] Failed to load IDS_top10_urban_600_points_probabilistic_seed_789.pkl: list indices must be integers or slices, not str\n",
      "[WARNING] Failed to load IDS_top10_urban_600_points_probabilistic_seed_9101.pkl: list indices must be integers or slices, not str\n",
      "[WARNING] Failed to load IDS_top10_urban_700_points_probabilistic_700_size_seed_1.pkl: list indices must be integers or slices, not str\n",
      "[WARNING] Failed to load IDS_top10_urban_700_points_probabilistic_700_size_seed_1213.pkl: list indices must be integers or slices, not str\n",
      "[WARNING] Failed to load IDS_top10_urban_700_points_probabilistic_700_size_seed_123.pkl: list indices must be integers or slices, not str\n",
      "[WARNING] Failed to load IDS_top10_urban_700_points_probabilistic_700_size_seed_1234.pkl: list indices must be integers or slices, not str\n",
      "[WARNING] Failed to load IDS_top10_urban_700_points_probabilistic_700_size_seed_1415.pkl: list indices must be integers or slices, not str\n",
      "[WARNING] Failed to load IDS_top10_urban_700_points_probabilistic_700_size_seed_42.pkl: list indices must be integers or slices, not str\n",
      "[WARNING] Failed to load IDS_top10_urban_700_points_probabilistic_700_size_seed_456.pkl: list indices must be integers or slices, not str\n",
      "[WARNING] Failed to load IDS_top10_urban_700_points_probabilistic_700_size_seed_5678.pkl: list indices must be integers or slices, not str\n",
      "[WARNING] Failed to load IDS_top10_urban_700_points_probabilistic_700_size_seed_789.pkl: list indices must be integers or slices, not str\n",
      "[WARNING] Failed to load IDS_top10_urban_700_points_probabilistic_700_size_seed_9101.pkl: list indices must be integers or slices, not str\n",
      "[WARNING] Failed to load IDS_top10_urban_700_points_probabilistic_seed_1.pkl: list indices must be integers or slices, not str\n",
      "[WARNING] Failed to load IDS_top10_urban_700_points_probabilistic_seed_1213.pkl: list indices must be integers or slices, not str\n",
      "[WARNING] Failed to load IDS_top10_urban_700_points_probabilistic_seed_123.pkl: list indices must be integers or slices, not str\n",
      "[WARNING] Failed to load IDS_top10_urban_700_points_probabilistic_seed_1234.pkl: list indices must be integers or slices, not str\n",
      "[WARNING] Failed to load IDS_top10_urban_700_points_probabilistic_seed_1415.pkl: list indices must be integers or slices, not str\n",
      "[WARNING] Failed to load IDS_top10_urban_700_points_probabilistic_seed_42.pkl: list indices must be integers or slices, not str\n",
      "[WARNING] Failed to load IDS_top10_urban_700_points_probabilistic_seed_456.pkl: list indices must be integers or slices, not str\n",
      "[WARNING] Failed to load IDS_top10_urban_700_points_probabilistic_seed_5678.pkl: list indices must be integers or slices, not str\n",
      "[WARNING] Failed to load IDS_top10_urban_700_points_probabilistic_seed_789.pkl: list indices must be integers or slices, not str\n",
      "[WARNING] Failed to load IDS_top10_urban_700_points_probabilistic_seed_9101.pkl: list indices must be integers or slices, not str\n",
      "[WARNING] Failed to load IDS_top10_urban_800_points_probabilistic_800_size_seed_1.pkl: list indices must be integers or slices, not str\n",
      "[WARNING] Failed to load IDS_top10_urban_800_points_probabilistic_800_size_seed_1213.pkl: list indices must be integers or slices, not str\n",
      "[WARNING] Failed to load IDS_top10_urban_800_points_probabilistic_800_size_seed_123.pkl: list indices must be integers or slices, not str\n",
      "[WARNING] Failed to load IDS_top10_urban_800_points_probabilistic_800_size_seed_1234.pkl: list indices must be integers or slices, not str\n",
      "[WARNING] Failed to load IDS_top10_urban_800_points_probabilistic_800_size_seed_1415.pkl: list indices must be integers or slices, not str\n",
      "[WARNING] Failed to load IDS_top10_urban_800_points_probabilistic_800_size_seed_42.pkl: list indices must be integers or slices, not str\n",
      "[WARNING] Failed to load IDS_top10_urban_800_points_probabilistic_800_size_seed_456.pkl: list indices must be integers or slices, not str\n",
      "[WARNING] Failed to load IDS_top10_urban_800_points_probabilistic_800_size_seed_5678.pkl: list indices must be integers or slices, not str\n",
      "[WARNING] Failed to load IDS_top10_urban_800_points_probabilistic_800_size_seed_789.pkl: list indices must be integers or slices, not str\n",
      "[WARNING] Failed to load IDS_top10_urban_800_points_probabilistic_800_size_seed_9101.pkl: list indices must be integers or slices, not str\n",
      "[WARNING] Failed to load IDS_top10_urban_800_points_probabilistic_seed_1.pkl: list indices must be integers or slices, not str\n",
      "[WARNING] Failed to load IDS_top10_urban_800_points_probabilistic_seed_1213.pkl: list indices must be integers or slices, not str\n",
      "[WARNING] Failed to load IDS_top10_urban_800_points_probabilistic_seed_123.pkl: list indices must be integers or slices, not str\n",
      "[WARNING] Failed to load IDS_top10_urban_800_points_probabilistic_seed_1234.pkl: list indices must be integers or slices, not str\n",
      "[WARNING] Failed to load IDS_top10_urban_800_points_probabilistic_seed_1415.pkl: list indices must be integers or slices, not str\n",
      "[WARNING] Failed to load IDS_top10_urban_800_points_probabilistic_seed_42.pkl: list indices must be integers or slices, not str\n",
      "[WARNING] Failed to load IDS_top10_urban_800_points_probabilistic_seed_456.pkl: list indices must be integers or slices, not str\n",
      "[WARNING] Failed to load IDS_top10_urban_800_points_probabilistic_seed_5678.pkl: list indices must be integers or slices, not str\n",
      "[WARNING] Failed to load IDS_top10_urban_800_points_probabilistic_seed_789.pkl: list indices must be integers or slices, not str\n",
      "[WARNING] Failed to load IDS_top10_urban_800_points_probabilistic_seed_9101.pkl: list indices must be integers or slices, not str\n",
      "[WARNING] Failed to load IDS_top10_urban_900_points_probabilistic_900_size_seed_1.pkl: list indices must be integers or slices, not str\n",
      "[WARNING] Failed to load IDS_top10_urban_900_points_probabilistic_900_size_seed_1213.pkl: list indices must be integers or slices, not str\n",
      "[WARNING] Failed to load IDS_top10_urban_900_points_probabilistic_900_size_seed_123.pkl: list indices must be integers or slices, not str\n",
      "[WARNING] Failed to load IDS_top10_urban_900_points_probabilistic_900_size_seed_1234.pkl: list indices must be integers or slices, not str\n",
      "[WARNING] Failed to load IDS_top10_urban_900_points_probabilistic_900_size_seed_1415.pkl: list indices must be integers or slices, not str\n",
      "[WARNING] Failed to load IDS_top10_urban_900_points_probabilistic_900_size_seed_42.pkl: list indices must be integers or slices, not str\n",
      "[WARNING] Failed to load IDS_top10_urban_900_points_probabilistic_900_size_seed_456.pkl: list indices must be integers or slices, not str\n",
      "[WARNING] Failed to load IDS_top10_urban_900_points_probabilistic_900_size_seed_5678.pkl: list indices must be integers or slices, not str\n",
      "[WARNING] Failed to load IDS_top10_urban_900_points_probabilistic_900_size_seed_789.pkl: list indices must be integers or slices, not str\n",
      "[WARNING] Failed to load IDS_top10_urban_900_points_probabilistic_900_size_seed_9101.pkl: list indices must be integers or slices, not str\n",
      "[WARNING] Failed to load IDS_top10_urban_900_points_probabilistic_seed_1.pkl: list indices must be integers or slices, not str\n",
      "[WARNING] Failed to load IDS_top10_urban_900_points_probabilistic_seed_1213.pkl: list indices must be integers or slices, not str\n",
      "[WARNING] Failed to load IDS_top10_urban_900_points_probabilistic_seed_123.pkl: list indices must be integers or slices, not str\n",
      "[WARNING] Failed to load IDS_top10_urban_900_points_probabilistic_seed_1234.pkl: list indices must be integers or slices, not str\n",
      "[WARNING] Failed to load IDS_top10_urban_900_points_probabilistic_seed_1415.pkl: list indices must be integers or slices, not str\n",
      "[WARNING] Failed to load IDS_top10_urban_900_points_probabilistic_seed_42.pkl: list indices must be integers or slices, not str\n",
      "[WARNING] Failed to load IDS_top10_urban_900_points_probabilistic_seed_456.pkl: list indices must be integers or slices, not str\n",
      "[WARNING] Failed to load IDS_top10_urban_900_points_probabilistic_seed_5678.pkl: list indices must be integers or slices, not str\n",
      "[WARNING] Failed to load IDS_top10_urban_900_points_probabilistic_seed_789.pkl: list indices must be integers or slices, not str\n",
      "[WARNING] Failed to load IDS_top10_urban_900_points_probabilistic_seed_9101.pkl: list indices must be integers or slices, not str\n",
      "[WARNING] Failed to load IDS_top20_urban_1000_points_probabilistic_1000_size_seed_1.pkl: list indices must be integers or slices, not str\n",
      "[WARNING] Failed to load IDS_top20_urban_1000_points_probabilistic_1000_size_seed_1213.pkl: list indices must be integers or slices, not str\n",
      "[WARNING] Failed to load IDS_top20_urban_1000_points_probabilistic_1000_size_seed_123.pkl: list indices must be integers or slices, not str\n",
      "[WARNING] Failed to load IDS_top20_urban_1000_points_probabilistic_1000_size_seed_1234.pkl: list indices must be integers or slices, not str\n",
      "[WARNING] Failed to load IDS_top20_urban_1000_points_probabilistic_1000_size_seed_1415.pkl: list indices must be integers or slices, not str\n",
      "[WARNING] Failed to load IDS_top20_urban_1000_points_probabilistic_1000_size_seed_42.pkl: list indices must be integers or slices, not str\n",
      "[WARNING] Failed to load IDS_top20_urban_1000_points_probabilistic_1000_size_seed_456.pkl: list indices must be integers or slices, not str\n",
      "[WARNING] Failed to load IDS_top20_urban_1000_points_probabilistic_1000_size_seed_5678.pkl: list indices must be integers or slices, not str\n",
      "[WARNING] Failed to load IDS_top20_urban_1000_points_probabilistic_1000_size_seed_789.pkl: list indices must be integers or slices, not str\n",
      "[WARNING] Failed to load IDS_top20_urban_1000_points_probabilistic_1000_size_seed_9101.pkl: list indices must be integers or slices, not str\n",
      "[WARNING] Failed to load IDS_top20_urban_100_points_probabilistic_100_size_seed_1.pkl: list indices must be integers or slices, not str\n",
      "[WARNING] Failed to load IDS_top20_urban_100_points_probabilistic_100_size_seed_1213.pkl: list indices must be integers or slices, not str\n",
      "[WARNING] Failed to load IDS_top20_urban_100_points_probabilistic_100_size_seed_123.pkl: list indices must be integers or slices, not str\n",
      "[WARNING] Failed to load IDS_top20_urban_100_points_probabilistic_100_size_seed_1234.pkl: list indices must be integers or slices, not str\n",
      "[WARNING] Failed to load IDS_top20_urban_100_points_probabilistic_100_size_seed_1415.pkl: list indices must be integers or slices, not str\n",
      "[WARNING] Failed to load IDS_top20_urban_100_points_probabilistic_100_size_seed_42.pkl: list indices must be integers or slices, not str\n",
      "[WARNING] Failed to load IDS_top20_urban_100_points_probabilistic_100_size_seed_456.pkl: list indices must be integers or slices, not str\n",
      "[WARNING] Failed to load IDS_top20_urban_100_points_probabilistic_100_size_seed_5678.pkl: list indices must be integers or slices, not str\n",
      "[WARNING] Failed to load IDS_top20_urban_100_points_probabilistic_100_size_seed_789.pkl: list indices must be integers or slices, not str\n",
      "[WARNING] Failed to load IDS_top20_urban_100_points_probabilistic_100_size_seed_9101.pkl: list indices must be integers or slices, not str\n",
      "[WARNING] Failed to load IDS_top20_urban_200_points_probabilistic_200_size_seed_1.pkl: list indices must be integers or slices, not str\n",
      "[WARNING] Failed to load IDS_top20_urban_200_points_probabilistic_200_size_seed_1213.pkl: list indices must be integers or slices, not str\n",
      "[WARNING] Failed to load IDS_top20_urban_200_points_probabilistic_200_size_seed_123.pkl: list indices must be integers or slices, not str\n",
      "[WARNING] Failed to load IDS_top20_urban_200_points_probabilistic_200_size_seed_1234.pkl: list indices must be integers or slices, not str\n",
      "[WARNING] Failed to load IDS_top20_urban_200_points_probabilistic_200_size_seed_1415.pkl: list indices must be integers or slices, not str\n",
      "[WARNING] Failed to load IDS_top20_urban_200_points_probabilistic_200_size_seed_42.pkl: list indices must be integers or slices, not str\n",
      "[WARNING] Failed to load IDS_top20_urban_200_points_probabilistic_200_size_seed_456.pkl: list indices must be integers or slices, not str\n",
      "[WARNING] Failed to load IDS_top20_urban_200_points_probabilistic_200_size_seed_5678.pkl: list indices must be integers or slices, not str\n",
      "[WARNING] Failed to load IDS_top20_urban_200_points_probabilistic_200_size_seed_789.pkl: list indices must be integers or slices, not str\n",
      "[WARNING] Failed to load IDS_top20_urban_200_points_probabilistic_200_size_seed_9101.pkl: list indices must be integers or slices, not str\n",
      "[WARNING] Failed to load IDS_top20_urban_300_points_probabilistic_300_size_seed_1.pkl: list indices must be integers or slices, not str\n",
      "[WARNING] Failed to load IDS_top20_urban_300_points_probabilistic_300_size_seed_1213.pkl: list indices must be integers or slices, not str\n",
      "[WARNING] Failed to load IDS_top20_urban_300_points_probabilistic_300_size_seed_123.pkl: list indices must be integers or slices, not str\n",
      "[WARNING] Failed to load IDS_top20_urban_300_points_probabilistic_300_size_seed_1234.pkl: list indices must be integers or slices, not str\n",
      "[WARNING] Failed to load IDS_top20_urban_300_points_probabilistic_300_size_seed_1415.pkl: list indices must be integers or slices, not str\n",
      "[WARNING] Failed to load IDS_top20_urban_300_points_probabilistic_300_size_seed_42.pkl: list indices must be integers or slices, not str\n",
      "[WARNING] Failed to load IDS_top20_urban_300_points_probabilistic_300_size_seed_456.pkl: list indices must be integers or slices, not str\n",
      "[WARNING] Failed to load IDS_top20_urban_300_points_probabilistic_300_size_seed_5678.pkl: list indices must be integers or slices, not str\n",
      "[WARNING] Failed to load IDS_top20_urban_300_points_probabilistic_300_size_seed_789.pkl: list indices must be integers or slices, not str\n",
      "[WARNING] Failed to load IDS_top20_urban_300_points_probabilistic_300_size_seed_9101.pkl: list indices must be integers or slices, not str\n",
      "[WARNING] Failed to load IDS_top20_urban_400_points_probabilistic_400_size_seed_1.pkl: list indices must be integers or slices, not str\n",
      "[WARNING] Failed to load IDS_top20_urban_400_points_probabilistic_400_size_seed_1213.pkl: list indices must be integers or slices, not str\n",
      "[WARNING] Failed to load IDS_top20_urban_400_points_probabilistic_400_size_seed_123.pkl: list indices must be integers or slices, not str\n",
      "[WARNING] Failed to load IDS_top20_urban_400_points_probabilistic_400_size_seed_1234.pkl: list indices must be integers or slices, not str\n",
      "[WARNING] Failed to load IDS_top20_urban_400_points_probabilistic_400_size_seed_1415.pkl: list indices must be integers or slices, not str\n",
      "[WARNING] Failed to load IDS_top20_urban_400_points_probabilistic_400_size_seed_42.pkl: list indices must be integers or slices, not str\n",
      "[WARNING] Failed to load IDS_top20_urban_400_points_probabilistic_400_size_seed_456.pkl: list indices must be integers or slices, not str\n",
      "[WARNING] Failed to load IDS_top20_urban_400_points_probabilistic_400_size_seed_5678.pkl: list indices must be integers or slices, not str\n",
      "[WARNING] Failed to load IDS_top20_urban_400_points_probabilistic_400_size_seed_789.pkl: list indices must be integers or slices, not str\n",
      "[WARNING] Failed to load IDS_top20_urban_400_points_probabilistic_400_size_seed_9101.pkl: list indices must be integers or slices, not str\n",
      "[WARNING] Failed to load IDS_top20_urban_500_points_probabilistic_500_size_seed_1.pkl: list indices must be integers or slices, not str\n",
      "[WARNING] Failed to load IDS_top20_urban_500_points_probabilistic_500_size_seed_1213.pkl: list indices must be integers or slices, not str\n",
      "[WARNING] Failed to load IDS_top20_urban_500_points_probabilistic_500_size_seed_123.pkl: list indices must be integers or slices, not str\n",
      "[WARNING] Failed to load IDS_top20_urban_500_points_probabilistic_500_size_seed_1234.pkl: list indices must be integers or slices, not str\n",
      "[WARNING] Failed to load IDS_top20_urban_500_points_probabilistic_500_size_seed_1415.pkl: list indices must be integers or slices, not str\n",
      "[WARNING] Failed to load IDS_top20_urban_500_points_probabilistic_500_size_seed_42.pkl: list indices must be integers or slices, not str\n",
      "[WARNING] Failed to load IDS_top20_urban_500_points_probabilistic_500_size_seed_456.pkl: list indices must be integers or slices, not str\n",
      "[WARNING] Failed to load IDS_top20_urban_500_points_probabilistic_500_size_seed_5678.pkl: list indices must be integers or slices, not str\n",
      "[WARNING] Failed to load IDS_top20_urban_500_points_probabilistic_500_size_seed_789.pkl: list indices must be integers or slices, not str\n",
      "[WARNING] Failed to load IDS_top20_urban_500_points_probabilistic_500_size_seed_9101.pkl: list indices must be integers or slices, not str\n",
      "[WARNING] Failed to load IDS_top20_urban_600_points_probabilistic_600_size_seed_1.pkl: list indices must be integers or slices, not str\n",
      "[WARNING] Failed to load IDS_top20_urban_600_points_probabilistic_600_size_seed_1213.pkl: list indices must be integers or slices, not str\n",
      "[WARNING] Failed to load IDS_top20_urban_600_points_probabilistic_600_size_seed_123.pkl: list indices must be integers or slices, not str\n",
      "[WARNING] Failed to load IDS_top20_urban_600_points_probabilistic_600_size_seed_1234.pkl: list indices must be integers or slices, not str\n",
      "[WARNING] Failed to load IDS_top20_urban_600_points_probabilistic_600_size_seed_1415.pkl: list indices must be integers or slices, not str\n",
      "[WARNING] Failed to load IDS_top20_urban_600_points_probabilistic_600_size_seed_42.pkl: list indices must be integers or slices, not str\n",
      "[WARNING] Failed to load IDS_top20_urban_600_points_probabilistic_600_size_seed_456.pkl: list indices must be integers or slices, not str\n",
      "[WARNING] Failed to load IDS_top20_urban_600_points_probabilistic_600_size_seed_5678.pkl: list indices must be integers or slices, not str\n",
      "[WARNING] Failed to load IDS_top20_urban_600_points_probabilistic_600_size_seed_789.pkl: list indices must be integers or slices, not str\n",
      "[WARNING] Failed to load IDS_top20_urban_600_points_probabilistic_600_size_seed_9101.pkl: list indices must be integers or slices, not str\n",
      "[WARNING] Failed to load IDS_top20_urban_700_points_probabilistic_700_size_seed_1.pkl: list indices must be integers or slices, not str\n",
      "[WARNING] Failed to load IDS_top20_urban_700_points_probabilistic_700_size_seed_1213.pkl: list indices must be integers or slices, not str\n",
      "[WARNING] Failed to load IDS_top20_urban_700_points_probabilistic_700_size_seed_123.pkl: list indices must be integers or slices, not str\n",
      "[WARNING] Failed to load IDS_top20_urban_700_points_probabilistic_700_size_seed_1234.pkl: list indices must be integers or slices, not str\n",
      "[WARNING] Failed to load IDS_top20_urban_700_points_probabilistic_700_size_seed_1415.pkl: list indices must be integers or slices, not str\n",
      "[WARNING] Failed to load IDS_top20_urban_700_points_probabilistic_700_size_seed_42.pkl: list indices must be integers or slices, not str\n",
      "[WARNING] Failed to load IDS_top20_urban_700_points_probabilistic_700_size_seed_456.pkl: list indices must be integers or slices, not str\n",
      "[WARNING] Failed to load IDS_top20_urban_700_points_probabilistic_700_size_seed_5678.pkl: list indices must be integers or slices, not str\n",
      "[WARNING] Failed to load IDS_top20_urban_700_points_probabilistic_700_size_seed_789.pkl: list indices must be integers or slices, not str\n",
      "[WARNING] Failed to load IDS_top20_urban_700_points_probabilistic_700_size_seed_9101.pkl: list indices must be integers or slices, not str\n",
      "[WARNING] Failed to load IDS_top20_urban_800_points_probabilistic_800_size_seed_1.pkl: list indices must be integers or slices, not str\n",
      "[WARNING] Failed to load IDS_top20_urban_800_points_probabilistic_800_size_seed_1213.pkl: list indices must be integers or slices, not str\n",
      "[WARNING] Failed to load IDS_top20_urban_800_points_probabilistic_800_size_seed_123.pkl: list indices must be integers or slices, not str\n",
      "[WARNING] Failed to load IDS_top20_urban_800_points_probabilistic_800_size_seed_1234.pkl: list indices must be integers or slices, not str\n",
      "[WARNING] Failed to load IDS_top20_urban_800_points_probabilistic_800_size_seed_1415.pkl: list indices must be integers or slices, not str\n",
      "[WARNING] Failed to load IDS_top20_urban_800_points_probabilistic_800_size_seed_42.pkl: list indices must be integers or slices, not str\n",
      "[WARNING] Failed to load IDS_top20_urban_800_points_probabilistic_800_size_seed_456.pkl: list indices must be integers or slices, not str\n",
      "[WARNING] Failed to load IDS_top20_urban_800_points_probabilistic_800_size_seed_5678.pkl: list indices must be integers or slices, not str\n",
      "[WARNING] Failed to load IDS_top20_urban_800_points_probabilistic_800_size_seed_789.pkl: list indices must be integers or slices, not str\n",
      "[WARNING] Failed to load IDS_top20_urban_800_points_probabilistic_800_size_seed_9101.pkl: list indices must be integers or slices, not str\n",
      "[WARNING] Failed to load IDS_top20_urban_900_points_probabilistic_900_size_seed_1.pkl: list indices must be integers or slices, not str\n",
      "[WARNING] Failed to load IDS_top20_urban_900_points_probabilistic_900_size_seed_1213.pkl: list indices must be integers or slices, not str\n",
      "[WARNING] Failed to load IDS_top20_urban_900_points_probabilistic_900_size_seed_123.pkl: list indices must be integers or slices, not str\n",
      "[WARNING] Failed to load IDS_top20_urban_900_points_probabilistic_900_size_seed_1234.pkl: list indices must be integers or slices, not str\n",
      "[WARNING] Failed to load IDS_top20_urban_900_points_probabilistic_900_size_seed_1415.pkl: list indices must be integers or slices, not str\n",
      "[WARNING] Failed to load IDS_top20_urban_900_points_probabilistic_900_size_seed_42.pkl: list indices must be integers or slices, not str\n",
      "[WARNING] Failed to load IDS_top20_urban_900_points_probabilistic_900_size_seed_456.pkl: list indices must be integers or slices, not str\n",
      "[WARNING] Failed to load IDS_top20_urban_900_points_probabilistic_900_size_seed_5678.pkl: list indices must be integers or slices, not str\n",
      "[WARNING] Failed to load IDS_top20_urban_900_points_probabilistic_900_size_seed_789.pkl: list indices must be integers or slices, not str\n",
      "[WARNING] Failed to load IDS_top20_urban_900_points_probabilistic_900_size_seed_9101.pkl: list indices must be integers or slices, not str\n",
      "[WARNING] Failed to load IDS_top50_urban_1000_points_probabilistic_1000_size_seed_1.pkl: list indices must be integers or slices, not str\n",
      "[WARNING] Failed to load IDS_top50_urban_1000_points_probabilistic_1000_size_seed_1213.pkl: list indices must be integers or slices, not str\n",
      "[WARNING] Failed to load IDS_top50_urban_1000_points_probabilistic_1000_size_seed_123.pkl: list indices must be integers or slices, not str\n",
      "[WARNING] Failed to load IDS_top50_urban_1000_points_probabilistic_1000_size_seed_1234.pkl: list indices must be integers or slices, not str\n",
      "[WARNING] Failed to load IDS_top50_urban_1000_points_probabilistic_1000_size_seed_1415.pkl: list indices must be integers or slices, not str\n",
      "[WARNING] Failed to load IDS_top50_urban_1000_points_probabilistic_1000_size_seed_42.pkl: list indices must be integers or slices, not str\n",
      "[WARNING] Failed to load IDS_top50_urban_1000_points_probabilistic_1000_size_seed_456.pkl: list indices must be integers or slices, not str\n",
      "[WARNING] Failed to load IDS_top50_urban_1000_points_probabilistic_1000_size_seed_5678.pkl: list indices must be integers or slices, not str\n",
      "[WARNING] Failed to load IDS_top50_urban_1000_points_probabilistic_1000_size_seed_789.pkl: list indices must be integers or slices, not str\n",
      "[WARNING] Failed to load IDS_top50_urban_1000_points_probabilistic_1000_size_seed_9101.pkl: list indices must be integers or slices, not str\n",
      "[WARNING] Failed to load IDS_top50_urban_100_points_probabilistic_100_size_seed_1.pkl: list indices must be integers or slices, not str\n",
      "[WARNING] Failed to load IDS_top50_urban_100_points_probabilistic_100_size_seed_1213.pkl: list indices must be integers or slices, not str\n",
      "[WARNING] Failed to load IDS_top50_urban_100_points_probabilistic_100_size_seed_123.pkl: list indices must be integers or slices, not str\n",
      "[WARNING] Failed to load IDS_top50_urban_100_points_probabilistic_100_size_seed_1234.pkl: list indices must be integers or slices, not str\n",
      "[WARNING] Failed to load IDS_top50_urban_100_points_probabilistic_100_size_seed_1415.pkl: list indices must be integers or slices, not str\n",
      "[WARNING] Failed to load IDS_top50_urban_100_points_probabilistic_100_size_seed_42.pkl: list indices must be integers or slices, not str\n",
      "[WARNING] Failed to load IDS_top50_urban_100_points_probabilistic_100_size_seed_456.pkl: list indices must be integers or slices, not str\n",
      "[WARNING] Failed to load IDS_top50_urban_100_points_probabilistic_100_size_seed_5678.pkl: list indices must be integers or slices, not str\n",
      "[WARNING] Failed to load IDS_top50_urban_100_points_probabilistic_100_size_seed_789.pkl: list indices must be integers or slices, not str\n",
      "[WARNING] Failed to load IDS_top50_urban_100_points_probabilistic_100_size_seed_9101.pkl: list indices must be integers or slices, not str\n",
      "[WARNING] Failed to load IDS_top50_urban_200_points_probabilistic_200_size_seed_1.pkl: list indices must be integers or slices, not str\n",
      "[WARNING] Failed to load IDS_top50_urban_200_points_probabilistic_200_size_seed_1213.pkl: list indices must be integers or slices, not str\n",
      "[WARNING] Failed to load IDS_top50_urban_200_points_probabilistic_200_size_seed_123.pkl: list indices must be integers or slices, not str\n",
      "[WARNING] Failed to load IDS_top50_urban_200_points_probabilistic_200_size_seed_1234.pkl: list indices must be integers or slices, not str\n",
      "[WARNING] Failed to load IDS_top50_urban_200_points_probabilistic_200_size_seed_1415.pkl: list indices must be integers or slices, not str\n",
      "[WARNING] Failed to load IDS_top50_urban_200_points_probabilistic_200_size_seed_42.pkl: list indices must be integers or slices, not str\n",
      "[WARNING] Failed to load IDS_top50_urban_200_points_probabilistic_200_size_seed_456.pkl: list indices must be integers or slices, not str\n",
      "[WARNING] Failed to load IDS_top50_urban_200_points_probabilistic_200_size_seed_5678.pkl: list indices must be integers or slices, not str\n",
      "[WARNING] Failed to load IDS_top50_urban_200_points_probabilistic_200_size_seed_789.pkl: list indices must be integers or slices, not str\n",
      "[WARNING] Failed to load IDS_top50_urban_200_points_probabilistic_200_size_seed_9101.pkl: list indices must be integers or slices, not str\n",
      "[WARNING] Failed to load IDS_top50_urban_300_points_probabilistic_300_size_seed_1.pkl: list indices must be integers or slices, not str\n",
      "[WARNING] Failed to load IDS_top50_urban_300_points_probabilistic_300_size_seed_1213.pkl: list indices must be integers or slices, not str\n",
      "[WARNING] Failed to load IDS_top50_urban_300_points_probabilistic_300_size_seed_123.pkl: list indices must be integers or slices, not str\n",
      "[WARNING] Failed to load IDS_top50_urban_300_points_probabilistic_300_size_seed_1234.pkl: list indices must be integers or slices, not str\n",
      "[WARNING] Failed to load IDS_top50_urban_300_points_probabilistic_300_size_seed_1415.pkl: list indices must be integers or slices, not str\n",
      "[WARNING] Failed to load IDS_top50_urban_300_points_probabilistic_300_size_seed_42.pkl: list indices must be integers or slices, not str\n",
      "[WARNING] Failed to load IDS_top50_urban_300_points_probabilistic_300_size_seed_456.pkl: list indices must be integers or slices, not str\n",
      "[WARNING] Failed to load IDS_top50_urban_300_points_probabilistic_300_size_seed_5678.pkl: list indices must be integers or slices, not str\n",
      "[WARNING] Failed to load IDS_top50_urban_300_points_probabilistic_300_size_seed_789.pkl: list indices must be integers or slices, not str\n",
      "[WARNING] Failed to load IDS_top50_urban_300_points_probabilistic_300_size_seed_9101.pkl: list indices must be integers or slices, not str\n",
      "[WARNING] Failed to load IDS_top50_urban_400_points_probabilistic_400_size_seed_1.pkl: list indices must be integers or slices, not str\n",
      "[WARNING] Failed to load IDS_top50_urban_400_points_probabilistic_400_size_seed_1213.pkl: list indices must be integers or slices, not str\n",
      "[WARNING] Failed to load IDS_top50_urban_400_points_probabilistic_400_size_seed_123.pkl: list indices must be integers or slices, not str\n",
      "[WARNING] Failed to load IDS_top50_urban_400_points_probabilistic_400_size_seed_1234.pkl: list indices must be integers or slices, not str\n",
      "[WARNING] Failed to load IDS_top50_urban_400_points_probabilistic_400_size_seed_1415.pkl: list indices must be integers or slices, not str\n",
      "[WARNING] Failed to load IDS_top50_urban_400_points_probabilistic_400_size_seed_42.pkl: list indices must be integers or slices, not str\n",
      "[WARNING] Failed to load IDS_top50_urban_400_points_probabilistic_400_size_seed_456.pkl: list indices must be integers or slices, not str\n",
      "[WARNING] Failed to load IDS_top50_urban_400_points_probabilistic_400_size_seed_5678.pkl: list indices must be integers or slices, not str\n",
      "[WARNING] Failed to load IDS_top50_urban_400_points_probabilistic_400_size_seed_789.pkl: list indices must be integers or slices, not str\n",
      "[WARNING] Failed to load IDS_top50_urban_400_points_probabilistic_400_size_seed_9101.pkl: list indices must be integers or slices, not str\n",
      "[WARNING] Failed to load IDS_top50_urban_500_points_probabilistic_500_size_seed_1.pkl: list indices must be integers or slices, not str\n",
      "[WARNING] Failed to load IDS_top50_urban_500_points_probabilistic_500_size_seed_1213.pkl: list indices must be integers or slices, not str\n",
      "[WARNING] Failed to load IDS_top50_urban_500_points_probabilistic_500_size_seed_123.pkl: list indices must be integers or slices, not str\n",
      "[WARNING] Failed to load IDS_top50_urban_500_points_probabilistic_500_size_seed_1234.pkl: list indices must be integers or slices, not str\n",
      "[WARNING] Failed to load IDS_top50_urban_500_points_probabilistic_500_size_seed_1415.pkl: list indices must be integers or slices, not str\n",
      "[WARNING] Failed to load IDS_top50_urban_500_points_probabilistic_500_size_seed_42.pkl: list indices must be integers or slices, not str\n",
      "[WARNING] Failed to load IDS_top50_urban_500_points_probabilistic_500_size_seed_456.pkl: list indices must be integers or slices, not str\n",
      "[WARNING] Failed to load IDS_top50_urban_500_points_probabilistic_500_size_seed_5678.pkl: list indices must be integers or slices, not str\n",
      "[WARNING] Failed to load IDS_top50_urban_500_points_probabilistic_500_size_seed_789.pkl: list indices must be integers or slices, not str\n",
      "[WARNING] Failed to load IDS_top50_urban_500_points_probabilistic_500_size_seed_9101.pkl: list indices must be integers or slices, not str\n",
      "[WARNING] Failed to load IDS_top50_urban_600_points_probabilistic_600_size_seed_1.pkl: list indices must be integers or slices, not str\n",
      "[WARNING] Failed to load IDS_top50_urban_600_points_probabilistic_600_size_seed_1213.pkl: list indices must be integers or slices, not str\n",
      "[WARNING] Failed to load IDS_top50_urban_600_points_probabilistic_600_size_seed_123.pkl: list indices must be integers or slices, not str\n",
      "[WARNING] Failed to load IDS_top50_urban_600_points_probabilistic_600_size_seed_1234.pkl: list indices must be integers or slices, not str\n",
      "[WARNING] Failed to load IDS_top50_urban_600_points_probabilistic_600_size_seed_1415.pkl: list indices must be integers or slices, not str\n",
      "[WARNING] Failed to load IDS_top50_urban_600_points_probabilistic_600_size_seed_42.pkl: list indices must be integers or slices, not str\n",
      "[WARNING] Failed to load IDS_top50_urban_600_points_probabilistic_600_size_seed_456.pkl: list indices must be integers or slices, not str\n",
      "[WARNING] Failed to load IDS_top50_urban_600_points_probabilistic_600_size_seed_5678.pkl: list indices must be integers or slices, not str\n",
      "[WARNING] Failed to load IDS_top50_urban_600_points_probabilistic_600_size_seed_789.pkl: list indices must be integers or slices, not str\n",
      "[WARNING] Failed to load IDS_top50_urban_600_points_probabilistic_600_size_seed_9101.pkl: list indices must be integers or slices, not str\n",
      "[WARNING] Failed to load IDS_top50_urban_700_points_probabilistic_700_size_seed_1.pkl: list indices must be integers or slices, not str\n",
      "[WARNING] Failed to load IDS_top50_urban_700_points_probabilistic_700_size_seed_1213.pkl: list indices must be integers or slices, not str\n",
      "[WARNING] Failed to load IDS_top50_urban_700_points_probabilistic_700_size_seed_123.pkl: list indices must be integers or slices, not str\n",
      "[WARNING] Failed to load IDS_top50_urban_700_points_probabilistic_700_size_seed_1234.pkl: list indices must be integers or slices, not str\n",
      "[WARNING] Failed to load IDS_top50_urban_700_points_probabilistic_700_size_seed_1415.pkl: list indices must be integers or slices, not str\n",
      "[WARNING] Failed to load IDS_top50_urban_700_points_probabilistic_700_size_seed_42.pkl: list indices must be integers or slices, not str\n",
      "[WARNING] Failed to load IDS_top50_urban_700_points_probabilistic_700_size_seed_456.pkl: list indices must be integers or slices, not str\n",
      "[WARNING] Failed to load IDS_top50_urban_700_points_probabilistic_700_size_seed_5678.pkl: list indices must be integers or slices, not str\n",
      "[WARNING] Failed to load IDS_top50_urban_700_points_probabilistic_700_size_seed_789.pkl: list indices must be integers or slices, not str\n",
      "[WARNING] Failed to load IDS_top50_urban_700_points_probabilistic_700_size_seed_9101.pkl: list indices must be integers or slices, not str\n",
      "[WARNING] Failed to load IDS_top50_urban_800_points_probabilistic_800_size_seed_1.pkl: list indices must be integers or slices, not str\n",
      "[WARNING] Failed to load IDS_top50_urban_800_points_probabilistic_800_size_seed_1213.pkl: list indices must be integers or slices, not str\n",
      "[WARNING] Failed to load IDS_top50_urban_800_points_probabilistic_800_size_seed_123.pkl: list indices must be integers or slices, not str\n",
      "[WARNING] Failed to load IDS_top50_urban_800_points_probabilistic_800_size_seed_1234.pkl: list indices must be integers or slices, not str\n",
      "[WARNING] Failed to load IDS_top50_urban_800_points_probabilistic_800_size_seed_1415.pkl: list indices must be integers or slices, not str\n",
      "[WARNING] Failed to load IDS_top50_urban_800_points_probabilistic_800_size_seed_42.pkl: list indices must be integers or slices, not str\n",
      "[WARNING] Failed to load IDS_top50_urban_800_points_probabilistic_800_size_seed_456.pkl: list indices must be integers or slices, not str\n",
      "[WARNING] Failed to load IDS_top50_urban_800_points_probabilistic_800_size_seed_5678.pkl: list indices must be integers or slices, not str\n",
      "[WARNING] Failed to load IDS_top50_urban_800_points_probabilistic_800_size_seed_789.pkl: list indices must be integers or slices, not str\n",
      "[WARNING] Failed to load IDS_top50_urban_800_points_probabilistic_800_size_seed_9101.pkl: list indices must be integers or slices, not str\n",
      "[WARNING] Failed to load IDS_top50_urban_900_points_probabilistic_900_size_seed_1.pkl: list indices must be integers or slices, not str\n",
      "[WARNING] Failed to load IDS_top50_urban_900_points_probabilistic_900_size_seed_1213.pkl: list indices must be integers or slices, not str\n",
      "[WARNING] Failed to load IDS_top50_urban_900_points_probabilistic_900_size_seed_123.pkl: list indices must be integers or slices, not str\n",
      "[WARNING] Failed to load IDS_top50_urban_900_points_probabilistic_900_size_seed_1234.pkl: list indices must be integers or slices, not str\n",
      "[WARNING] Failed to load IDS_top50_urban_900_points_probabilistic_900_size_seed_1415.pkl: list indices must be integers or slices, not str\n",
      "[WARNING] Failed to load IDS_top50_urban_900_points_probabilistic_900_size_seed_42.pkl: list indices must be integers or slices, not str\n",
      "[WARNING] Failed to load IDS_top50_urban_900_points_probabilistic_900_size_seed_456.pkl: list indices must be integers or slices, not str\n",
      "[WARNING] Failed to load IDS_top50_urban_900_points_probabilistic_900_size_seed_5678.pkl: list indices must be integers or slices, not str\n",
      "[WARNING] Failed to load IDS_top50_urban_900_points_probabilistic_900_size_seed_789.pkl: list indices must be integers or slices, not str\n",
      "[WARNING] Failed to load IDS_top50_urban_900_points_probabilistic_900_size_seed_9101.pkl: list indices must be integers or slices, not str\n",
      "Results written incrementally to /home/libe2152/optimizedsampling/0_results/usavars/population/convenience_sampling_r2_scores.csv\n",
      "Loading features from /home/libe2152/optimizedsampling/0_data/features/usavars/CONTUS_UAR_treecover_with_splits_torchgeo4096.pkl ...\n"
     ]
    },
    {
     "name": "stderr",
     "output_type": "stream",
     "text": [
      "\n"
     ]
    },
    {
     "name": "stdout",
     "output_type": "stream",
     "text": [
      "Processing samples from /home/libe2152/optimizedsampling/0_data/initial_samples/usavars/treecover/cluster_sampling/fixedstrata_Idaho_16-Louisiana_22-Mississippi_28-New Mexico_35-Pennsylvania_42 ...\n"
     ]
    },
    {
     "ename": "FileNotFoundError",
     "evalue": "[Errno 2] No such file or directory: '/home/libe2152/optimizedsampling/0_data/initial_samples/usavars/treecover/cluster_sampling/fixedstrata_Idaho_16-Louisiana_22-Mississippi_28-New Mexico_35-Pennsylvania_42'",
     "output_type": "error",
     "traceback": [
      "\u001b[31m---------------------------------------------------------------------------\u001b[39m",
      "\u001b[31mFileNotFoundError\u001b[39m                         Traceback (most recent call last)",
      "\u001b[36mCell\u001b[39m\u001b[36m \u001b[39m\u001b[32mIn[2]\u001b[39m\u001b[32m, line 12\u001b[39m\n\u001b[32m      9\u001b[39m results_dir = \u001b[33mf\u001b[39m\u001b[33m\"\u001b[39m\u001b[33m/home/libe2152/optimizedsampling/0_results/usavars/\u001b[39m\u001b[38;5;132;01m{\u001b[39;00mlabel\u001b[38;5;132;01m}\u001b[39;00m\u001b[33m\"\u001b[39m\n\u001b[32m     11\u001b[39m \u001b[38;5;66;03m# # Run cluster sampling R2 scores\u001b[39;00m\n\u001b[32m---> \u001b[39m\u001b[32m12\u001b[39m cluster_sampling_r2_scores(\n\u001b[32m     13\u001b[39m     features_path=features_path,\n\u001b[32m     14\u001b[39m     sampling_dir=cluster_sampling_dir,\n\u001b[32m     15\u001b[39m     results_dir=results_dir,\n\u001b[32m     16\u001b[39m     ridge_regression_fn=ridge_regression,\n\u001b[32m     17\u001b[39m     verbose=\u001b[38;5;28;01mTrue\u001b[39;00m,\n\u001b[32m     18\u001b[39m )\n\u001b[32m     20\u001b[39m \u001b[38;5;66;03m# Run convenience sampling R2 scores\u001b[39;00m\n\u001b[32m     21\u001b[39m convenience_sampling_r2_scores(\n\u001b[32m     22\u001b[39m     features_path=features_path,\n\u001b[32m     23\u001b[39m     sampling_dir=convenience_sampling_urban_dir,\n\u001b[32m   (...)\u001b[39m\u001b[32m     26\u001b[39m     verbose=\u001b[38;5;28;01mTrue\u001b[39;00m,\n\u001b[32m     27\u001b[39m )\n",
      "\u001b[36mFile \u001b[39m\u001b[32m~/optimizedsampling/3_regressions/initial_set_regressions.py:202\u001b[39m, in \u001b[36mcluster_sampling_r2_scores\u001b[39m\u001b[34m(*args, **kwargs)\u001b[39m\n\u001b[32m    201\u001b[39m \u001b[38;5;28;01mdef\u001b[39;00m\u001b[38;5;250m \u001b[39m\u001b[34mcluster_sampling_r2_scores\u001b[39m(*args, **kwargs):\n\u001b[32m--> \u001b[39m\u001b[32m202\u001b[39m     \u001b[38;5;28;01mreturn\u001b[39;00m sampling_r2_scores(\n\u001b[32m    203\u001b[39m         *args,\n\u001b[32m    204\u001b[39m         metadata_parser=parse_cluster_metadata,\n\u001b[32m    205\u001b[39m         results_filename_suffix=\u001b[33m\"\u001b[39m\u001b[33mcluster_sampling_r2_scores\u001b[39m\u001b[33m\"\u001b[39m,\n\u001b[32m    206\u001b[39m         **kwargs,\n\u001b[32m    207\u001b[39m     )\n",
      "\u001b[36mFile \u001b[39m\u001b[32m~/optimizedsampling/3_regressions/initial_set_regressions.py:46\u001b[39m, in \u001b[36msampling_r2_scores\u001b[39m\u001b[34m(features_path, sampling_dir, results_dir, ridge_regression_fn, metadata_parser, results_filename_suffix, min_samples, verbose, **kwargs)\u001b[39m\n\u001b[32m     43\u001b[39m \u001b[38;5;28;01mwith\u001b[39;00m \u001b[38;5;28mopen\u001b[39m(csv_path, \u001b[33m'\u001b[39m\u001b[33ma\u001b[39m\u001b[33m'\u001b[39m, newline=\u001b[33m'\u001b[39m\u001b[33m'\u001b[39m) \u001b[38;5;28;01mas\u001b[39;00m csvfile:\n\u001b[32m     44\u001b[39m     writer = \u001b[38;5;28;01mNone\u001b[39;00m\n\u001b[32m---> \u001b[39m\u001b[32m46\u001b[39m     \u001b[38;5;28;01mfor\u001b[39;00m fname \u001b[38;5;129;01min\u001b[39;00m tqdm(\u001b[38;5;28msorted\u001b[39m(os.listdir(sampling_dir)), desc=\u001b[33mf\u001b[39m\u001b[33m\"\u001b[39m\u001b[33mProcessing samples\u001b[39m\u001b[33m\"\u001b[39m):\n\u001b[32m     47\u001b[39m         \u001b[38;5;28;01mif\u001b[39;00m \u001b[38;5;129;01mnot\u001b[39;00m fname.endswith(\u001b[33m\"\u001b[39m\u001b[33m.pkl\u001b[39m\u001b[33m\"\u001b[39m):\n\u001b[32m     48\u001b[39m             \u001b[38;5;28;01mcontinue\u001b[39;00m\n",
      "\u001b[31mFileNotFoundError\u001b[39m: [Errno 2] No such file or directory: '/home/libe2152/optimizedsampling/0_data/initial_samples/usavars/treecover/cluster_sampling/fixedstrata_Idaho_16-Louisiana_22-Mississippi_28-New Mexico_35-Pennsylvania_42'"
     ]
    }
   ],
   "source": [
    "for label in ['population', 'treecover']:\n",
    "\n",
    "    features_path = f\"/home/libe2152/optimizedsampling/0_data/features/usavars/CONTUS_UAR_{label}_with_splits_torchgeo4096.pkl\"\n",
    "    cluster_sampling_dir= f\"/home/libe2152/optimizedsampling/0_data/initial_samples/usavars/{label}/cluster_sampling/fixedstrata_Alabama_01-Colorado_08-Montana_30-New York_36-Ohio_39\"\n",
    "    convenience_sampling_urban_dir = f\"/home/libe2152/optimizedsampling/0_data/initial_samples/usavars/{label}/convenience_sampling/urban_based\"\n",
    "    # convenience_sampling_region_dir = f\"/home/libe2152/optimizedsampling/0_data/initial_samples/usavars/{label}/convenience_sampling/cluster_based\"\n",
    "    random_sampling_dir = f\"/home/libe2152/optimizedsampling/0_data/initial_samples/usavars/{label}/random_sampling\"\n",
    "\n",
    "    results_dir = f\"/home/libe2152/optimizedsampling/0_results/usavars/{label}\"\n",
    "\n",
    "    # # Run cluster sampling R2 scores\n",
    "    cluster_sampling_r2_scores(\n",
    "        features_path=features_path,\n",
    "        sampling_dir=cluster_sampling_dir,\n",
    "        results_dir=results_dir,\n",
    "        ridge_regression_fn=ridge_regression,\n",
    "        verbose=True,\n",
    "    )\n",
    "\n",
    "    # Run convenience sampling R2 scores\n",
    "    convenience_sampling_r2_scores(\n",
    "        features_path=features_path,\n",
    "        sampling_dir=convenience_sampling_urban_dir,\n",
    "        results_dir=results_dir,\n",
    "        ridge_regression_fn=ridge_regression,\n",
    "        verbose=True,\n",
    "    )\n",
    "\n",
    "    # convenience_sampling_r2_scores(\n",
    "    #     features_path=features_path,\n",
    "    #     sampling_dir=convenience_sampling_region_dir,\n",
    "    #     results_dir=results_dir,\n",
    "    #     ridge_regression_fn=ridge_regression,\n",
    "    #     verbose=True,\n",
    "    # )\n",
    "\n",
    "    # # Run random sampling R2 scores\n",
    "    # random_sampling_r2_scores(\n",
    "    #     features_path=features_path,\n",
    "    #     sampling_dir=random_sampling_dir,\n",
    "    #     results_dir=results_dir,\n",
    "    #     ridge_regression_fn=ridge_regression,\n",
    "    #     verbose=True,\n",
    "    # )"
   ]
  }
 ],
 "metadata": {
  "kernelspec": {
   "display_name": "mosaiks",
   "language": "python",
   "name": "python3"
  },
  "language_info": {
   "codemirror_mode": {
    "name": "ipython",
    "version": 3
   },
   "file_extension": ".py",
   "mimetype": "text/x-python",
   "name": "python",
   "nbconvert_exporter": "python",
   "pygments_lexer": "ipython3",
   "version": "3.11.11"
  }
 },
 "nbformat": 4,
 "nbformat_minor": 5
}
