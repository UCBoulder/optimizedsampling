{
 "cells": [
  {
   "cell_type": "code",
   "execution_count": 2,
   "id": "d6c3f0ba",
   "metadata": {},
   "outputs": [],
   "source": [
    "from regressions import ridge_regression\n",
    "from initial_set_regressions import cluster_sampling_r2_scores, convenience_sampling_r2_scores, random_sampling_r2_scores"
   ]
  },
  {
   "cell_type": "markdown",
   "id": "54479c88",
   "metadata": {},
   "source": [
    "# USAVars Initial Set Regressions"
   ]
  },
  {
   "cell_type": "code",
   "execution_count": 3,
   "id": "6fb1407d",
   "metadata": {},
   "outputs": [
    {
     "name": "stdout",
     "output_type": "stream",
     "text": [
      "Loading features from /home/libe2152/optimizedsampling/0_data/features/usavars/CONTUS_UAR_population_with_splits_torchgeo4096.pkl ...\n",
      "Processing samples from /home/libe2152/optimizedsampling/0_data/initial_samples/usavars/population/cluster_sampling/randomstrata ...\n"
     ]
    },
    {
     "name": "stderr",
     "output_type": "stream",
     "text": [
      "Processing samples:   0%|          | 0/401 [00:00<?, ?it/s]"
     ]
    },
    {
     "name": "stdout",
     "output_type": "stream",
     "text": [
      "Fitting regression...\n",
      "NUM SAMPLES: 1000\n",
      "Best alpha: 599.4842503189421\n"
     ]
    },
    {
     "name": "stderr",
     "output_type": "stream",
     "text": [
      "Processing samples:   0%|          | 2/401 [00:08<29:03,  4.37s/it]"
     ]
    },
    {
     "name": "stdout",
     "output_type": "stream",
     "text": [
      "0.481616845931488\n",
      "[WRITE] Saved result from sample_10_state_county_county_desired_10ppc_1000_size_seed_1.pkl to /home/libe2152/optimizedsampling/0_results/usavars/population/cluster_sampling_r2_scores.csv\n",
      "Fitting regression...\n",
      "NUM SAMPLES: 1000\n",
      "Best alpha: 46.41588833612782\n"
     ]
    },
    {
     "name": "stderr",
     "output_type": "stream",
     "text": [
      "Processing samples:   1%|          | 3/401 [00:17<40:28,  6.10s/it]"
     ]
    },
    {
     "name": "stdout",
     "output_type": "stream",
     "text": [
      "0.44052885634886096\n",
      "[WRITE] Saved result from sample_10_state_county_county_desired_10ppc_1000_size_seed_1213.pkl to /home/libe2152/optimizedsampling/0_results/usavars/population/cluster_sampling_r2_scores.csv\n",
      "Fitting regression...\n",
      "NUM SAMPLES: 1000\n",
      "Best alpha: 3.593813663804626\n"
     ]
    },
    {
     "name": "stderr",
     "output_type": "stream",
     "text": [
      "Processing samples:   1%|          | 4/401 [00:25<46:04,  6.96s/it]"
     ]
    },
    {
     "name": "stdout",
     "output_type": "stream",
     "text": [
      "0.46393502754895366\n",
      "[WRITE] Saved result from sample_10_state_county_county_desired_10ppc_1000_size_seed_123.pkl to /home/libe2152/optimizedsampling/0_results/usavars/population/cluster_sampling_r2_scores.csv\n",
      "Fitting regression...\n",
      "NUM SAMPLES: 1000\n",
      "Best alpha: 46.41588833612782\n"
     ]
    },
    {
     "name": "stderr",
     "output_type": "stream",
     "text": [
      "Processing samples:   1%|          | 5/401 [00:34<49:28,  7.50s/it]"
     ]
    },
    {
     "name": "stdout",
     "output_type": "stream",
     "text": [
      "0.5005986466876364\n",
      "[WRITE] Saved result from sample_10_state_county_county_desired_10ppc_1000_size_seed_1234.pkl to /home/libe2152/optimizedsampling/0_results/usavars/population/cluster_sampling_r2_scores.csv\n",
      "Fitting regression...\n",
      "NUM SAMPLES: 1000\n",
      "Best alpha: 46.41588833612782\n"
     ]
    },
    {
     "name": "stderr",
     "output_type": "stream",
     "text": [
      "Processing samples:   1%|▏         | 6/401 [00:42<51:22,  7.80s/it]"
     ]
    },
    {
     "name": "stdout",
     "output_type": "stream",
     "text": [
      "0.4646433439356149\n",
      "[WRITE] Saved result from sample_10_state_county_county_desired_10ppc_1000_size_seed_1415.pkl to /home/libe2152/optimizedsampling/0_results/usavars/population/cluster_sampling_r2_scores.csv\n",
      "Fitting regression...\n",
      "NUM SAMPLES: 1000\n",
      "Best alpha: 46.41588833612782\n"
     ]
    },
    {
     "name": "stderr",
     "output_type": "stream",
     "text": [
      "Processing samples:   2%|▏         | 7/401 [00:50<52:28,  7.99s/it]"
     ]
    },
    {
     "name": "stdout",
     "output_type": "stream",
     "text": [
      "0.4480318573490001\n",
      "[WRITE] Saved result from sample_10_state_county_county_desired_10ppc_1000_size_seed_42.pkl to /home/libe2152/optimizedsampling/0_results/usavars/population/cluster_sampling_r2_scores.csv\n",
      "Fitting regression...\n",
      "NUM SAMPLES: 1000\n",
      "Best alpha: 46.41588833612782\n"
     ]
    },
    {
     "name": "stderr",
     "output_type": "stream",
     "text": [
      "Processing samples:   2%|▏         | 8/401 [00:59<53:22,  8.15s/it]"
     ]
    },
    {
     "name": "stdout",
     "output_type": "stream",
     "text": [
      "0.554829018715354\n",
      "[WRITE] Saved result from sample_10_state_county_county_desired_10ppc_1000_size_seed_456.pkl to /home/libe2152/optimizedsampling/0_results/usavars/population/cluster_sampling_r2_scores.csv\n",
      "Fitting regression...\n",
      "NUM SAMPLES: 1000\n",
      "Best alpha: 46.41588833612782\n"
     ]
    },
    {
     "name": "stderr",
     "output_type": "stream",
     "text": [
      "Processing samples:   2%|▏         | 9/401 [01:08<54:10,  8.29s/it]"
     ]
    },
    {
     "name": "stdout",
     "output_type": "stream",
     "text": [
      "0.35018326709182146\n",
      "[WRITE] Saved result from sample_10_state_county_county_desired_10ppc_1000_size_seed_5678.pkl to /home/libe2152/optimizedsampling/0_results/usavars/population/cluster_sampling_r2_scores.csv\n",
      "Fitting regression...\n",
      "NUM SAMPLES: 1000\n",
      "Best alpha: 46.41588833612782\n"
     ]
    },
    {
     "name": "stderr",
     "output_type": "stream",
     "text": [
      "Processing samples:   2%|▏         | 10/401 [01:16<53:47,  8.26s/it]"
     ]
    },
    {
     "name": "stdout",
     "output_type": "stream",
     "text": [
      "0.5086707742277496\n",
      "[WRITE] Saved result from sample_10_state_county_county_desired_10ppc_1000_size_seed_789.pkl to /home/libe2152/optimizedsampling/0_results/usavars/population/cluster_sampling_r2_scores.csv\n",
      "Fitting regression...\n",
      "NUM SAMPLES: 1000\n",
      "Best alpha: 46.41588833612782\n"
     ]
    },
    {
     "name": "stderr",
     "output_type": "stream",
     "text": [
      "Processing samples:   3%|▎         | 11/401 [01:24<54:25,  8.37s/it]"
     ]
    },
    {
     "name": "stdout",
     "output_type": "stream",
     "text": [
      "0.5174915737443904\n",
      "[WRITE] Saved result from sample_10_state_county_county_desired_10ppc_1000_size_seed_9101.pkl to /home/libe2152/optimizedsampling/0_results/usavars/population/cluster_sampling_r2_scores.csv\n",
      "Fitting regression...\n",
      "NUM SAMPLES: 100\n",
      "Best alpha: 599.4842503189421\n"
     ]
    },
    {
     "name": "stderr",
     "output_type": "stream",
     "text": [
      "Processing samples:   3%|▎         | 12/401 [01:25<38:54,  6.00s/it]"
     ]
    },
    {
     "name": "stdout",
     "output_type": "stream",
     "text": [
      "0.35440310974312017\n",
      "[WRITE] Saved result from sample_10_state_county_county_desired_10ppc_100_size_seed_1.pkl to /home/libe2152/optimizedsampling/0_results/usavars/population/cluster_sampling_r2_scores.csv\n",
      "Fitting regression...\n",
      "NUM SAMPLES: 100\n",
      "Best alpha: 46.41588833612782\n"
     ]
    },
    {
     "name": "stderr",
     "output_type": "stream",
     "text": [
      "Processing samples:   3%|▎         | 13/401 [01:26<28:12,  4.36s/it]"
     ]
    },
    {
     "name": "stdout",
     "output_type": "stream",
     "text": [
      "0.2734691796096881\n",
      "[WRITE] Saved result from sample_10_state_county_county_desired_10ppc_100_size_seed_1213.pkl to /home/libe2152/optimizedsampling/0_results/usavars/population/cluster_sampling_r2_scores.csv\n",
      "Fitting regression...\n",
      "NUM SAMPLES: 100\n",
      "Best alpha: 599.4842503189421\n"
     ]
    },
    {
     "name": "stderr",
     "output_type": "stream",
     "text": [
      "Processing samples:   3%|▎         | 14/401 [01:26<20:44,  3.22s/it]"
     ]
    },
    {
     "name": "stdout",
     "output_type": "stream",
     "text": [
      "0.3724312140622901\n",
      "[WRITE] Saved result from sample_10_state_county_county_desired_10ppc_100_size_seed_123.pkl to /home/libe2152/optimizedsampling/0_results/usavars/population/cluster_sampling_r2_scores.csv\n",
      "Fitting regression...\n",
      "NUM SAMPLES: 100\n",
      "Best alpha: 599.4842503189421\n"
     ]
    },
    {
     "name": "stderr",
     "output_type": "stream",
     "text": [
      "Processing samples:   4%|▎         | 15/401 [01:27<15:33,  2.42s/it]"
     ]
    },
    {
     "name": "stdout",
     "output_type": "stream",
     "text": [
      "0.17107380946435424\n",
      "[WRITE] Saved result from sample_10_state_county_county_desired_10ppc_100_size_seed_1234.pkl to /home/libe2152/optimizedsampling/0_results/usavars/population/cluster_sampling_r2_scores.csv\n",
      "Fitting regression...\n",
      "NUM SAMPLES: 100\n",
      "Best alpha: 46.41588833612782\n"
     ]
    },
    {
     "name": "stderr",
     "output_type": "stream",
     "text": [
      "Processing samples:   4%|▍         | 16/401 [01:27<11:50,  1.84s/it]"
     ]
    },
    {
     "name": "stdout",
     "output_type": "stream",
     "text": [
      "0.19841810041249341\n",
      "[WRITE] Saved result from sample_10_state_county_county_desired_10ppc_100_size_seed_1415.pkl to /home/libe2152/optimizedsampling/0_results/usavars/population/cluster_sampling_r2_scores.csv\n",
      "Fitting regression...\n",
      "NUM SAMPLES: 100\n",
      "Best alpha: 7742.636826811277\n"
     ]
    },
    {
     "name": "stderr",
     "output_type": "stream",
     "text": [
      "Processing samples:   4%|▍         | 17/401 [01:28<09:17,  1.45s/it]"
     ]
    },
    {
     "name": "stdout",
     "output_type": "stream",
     "text": [
      "0.19494558228932068\n",
      "[WRITE] Saved result from sample_10_state_county_county_desired_10ppc_100_size_seed_42.pkl to /home/libe2152/optimizedsampling/0_results/usavars/population/cluster_sampling_r2_scores.csv\n",
      "Fitting regression...\n",
      "NUM SAMPLES: 100\n",
      "Best alpha: 599.4842503189421\n"
     ]
    },
    {
     "name": "stderr",
     "output_type": "stream",
     "text": [
      "Processing samples:   4%|▍         | 18/401 [01:28<07:32,  1.18s/it]"
     ]
    },
    {
     "name": "stdout",
     "output_type": "stream",
     "text": [
      "0.18420312904302483\n",
      "[WRITE] Saved result from sample_10_state_county_county_desired_10ppc_100_size_seed_456.pkl to /home/libe2152/optimizedsampling/0_results/usavars/population/cluster_sampling_r2_scores.csv\n",
      "Fitting regression...\n",
      "NUM SAMPLES: 100\n",
      "Best alpha: 599.4842503189421\n"
     ]
    },
    {
     "name": "stderr",
     "output_type": "stream",
     "text": [
      "Processing samples:   5%|▍         | 19/401 [01:29<06:15,  1.02it/s]"
     ]
    },
    {
     "name": "stdout",
     "output_type": "stream",
     "text": [
      "-0.7991205049744914\n",
      "[WRITE] Saved result from sample_10_state_county_county_desired_10ppc_100_size_seed_5678.pkl to /home/libe2152/optimizedsampling/0_results/usavars/population/cluster_sampling_r2_scores.csv\n",
      "Fitting regression...\n",
      "NUM SAMPLES: 100\n",
      "Best alpha: 46.41588833612782\n"
     ]
    },
    {
     "name": "stderr",
     "output_type": "stream",
     "text": [
      "Processing samples:   5%|▍         | 20/401 [01:29<05:29,  1.16it/s]"
     ]
    },
    {
     "name": "stdout",
     "output_type": "stream",
     "text": [
      "0.1507587837204969\n",
      "[WRITE] Saved result from sample_10_state_county_county_desired_10ppc_100_size_seed_789.pkl to /home/libe2152/optimizedsampling/0_results/usavars/population/cluster_sampling_r2_scores.csv\n",
      "Fitting regression...\n",
      "NUM SAMPLES: 100\n",
      "Best alpha: 599.4842503189421\n"
     ]
    },
    {
     "name": "stderr",
     "output_type": "stream",
     "text": [
      "Processing samples:   5%|▌         | 21/401 [01:30<04:49,  1.31it/s]"
     ]
    },
    {
     "name": "stdout",
     "output_type": "stream",
     "text": [
      "0.4032899373840615\n",
      "[WRITE] Saved result from sample_10_state_county_county_desired_10ppc_100_size_seed_9101.pkl to /home/libe2152/optimizedsampling/0_results/usavars/population/cluster_sampling_r2_scores.csv\n",
      "Fitting regression...\n",
      "NUM SAMPLES: 200\n",
      "Best alpha: 599.4842503189421\n"
     ]
    },
    {
     "name": "stderr",
     "output_type": "stream",
     "text": [
      "Processing samples:   5%|▌         | 22/401 [01:32<07:00,  1.11s/it]"
     ]
    },
    {
     "name": "stdout",
     "output_type": "stream",
     "text": [
      "0.4254708557197985\n",
      "[WRITE] Saved result from sample_10_state_county_county_desired_10ppc_200_size_seed_1.pkl to /home/libe2152/optimizedsampling/0_results/usavars/population/cluster_sampling_r2_scores.csv\n",
      "Fitting regression...\n",
      "NUM SAMPLES: 200\n",
      "Best alpha: 46.41588833612782\n"
     ]
    },
    {
     "name": "stderr",
     "output_type": "stream",
     "text": [
      "Processing samples:   6%|▌         | 23/401 [01:34<08:29,  1.35s/it]"
     ]
    },
    {
     "name": "stdout",
     "output_type": "stream",
     "text": [
      "0.3574695838191143\n",
      "[WRITE] Saved result from sample_10_state_county_county_desired_10ppc_200_size_seed_1213.pkl to /home/libe2152/optimizedsampling/0_results/usavars/population/cluster_sampling_r2_scores.csv\n",
      "Fitting regression...\n",
      "NUM SAMPLES: 200\n",
      "Best alpha: 599.4842503189421\n"
     ]
    },
    {
     "name": "stderr",
     "output_type": "stream",
     "text": [
      "Processing samples:   6%|▌         | 24/401 [01:35<08:51,  1.41s/it]"
     ]
    },
    {
     "name": "stdout",
     "output_type": "stream",
     "text": [
      "0.44593494741271467\n",
      "[WRITE] Saved result from sample_10_state_county_county_desired_10ppc_200_size_seed_123.pkl to /home/libe2152/optimizedsampling/0_results/usavars/population/cluster_sampling_r2_scores.csv\n",
      "Fitting regression...\n",
      "NUM SAMPLES: 200\n",
      "Best alpha: 46.41588833612782\n"
     ]
    },
    {
     "name": "stderr",
     "output_type": "stream",
     "text": [
      "Processing samples:   6%|▌         | 25/401 [01:37<09:27,  1.51s/it]"
     ]
    },
    {
     "name": "stdout",
     "output_type": "stream",
     "text": [
      "0.3401836364881863\n",
      "[WRITE] Saved result from sample_10_state_county_county_desired_10ppc_200_size_seed_1234.pkl to /home/libe2152/optimizedsampling/0_results/usavars/population/cluster_sampling_r2_scores.csv\n",
      "Fitting regression...\n",
      "NUM SAMPLES: 200\n",
      "Best alpha: 599.4842503189421\n"
     ]
    },
    {
     "name": "stderr",
     "output_type": "stream",
     "text": [
      "Processing samples:   6%|▋         | 26/401 [01:39<10:05,  1.62s/it]"
     ]
    },
    {
     "name": "stdout",
     "output_type": "stream",
     "text": [
      "0.2914968909371958\n",
      "[WRITE] Saved result from sample_10_state_county_county_desired_10ppc_200_size_seed_1415.pkl to /home/libe2152/optimizedsampling/0_results/usavars/population/cluster_sampling_r2_scores.csv\n",
      "Fitting regression...\n",
      "NUM SAMPLES: 200\n",
      "Best alpha: 46.41588833612782\n"
     ]
    },
    {
     "name": "stderr",
     "output_type": "stream",
     "text": [
      "Processing samples:   7%|▋         | 27/401 [01:41<10:13,  1.64s/it]"
     ]
    },
    {
     "name": "stdout",
     "output_type": "stream",
     "text": [
      "0.3565710611125864\n",
      "[WRITE] Saved result from sample_10_state_county_county_desired_10ppc_200_size_seed_42.pkl to /home/libe2152/optimizedsampling/0_results/usavars/population/cluster_sampling_r2_scores.csv\n",
      "Fitting regression...\n",
      "NUM SAMPLES: 200\n",
      "Best alpha: 3.593813663804626\n"
     ]
    },
    {
     "name": "stderr",
     "output_type": "stream",
     "text": [
      "Processing samples:   7%|▋         | 28/401 [01:42<10:19,  1.66s/it]"
     ]
    },
    {
     "name": "stdout",
     "output_type": "stream",
     "text": [
      "0.22699807989610954\n",
      "[WRITE] Saved result from sample_10_state_county_county_desired_10ppc_200_size_seed_456.pkl to /home/libe2152/optimizedsampling/0_results/usavars/population/cluster_sampling_r2_scores.csv\n",
      "Fitting regression...\n",
      "NUM SAMPLES: 200\n",
      "Best alpha: 46.41588833612782\n"
     ]
    },
    {
     "name": "stderr",
     "output_type": "stream",
     "text": [
      "Processing samples:   7%|▋         | 29/401 [01:44<10:48,  1.74s/it]"
     ]
    },
    {
     "name": "stdout",
     "output_type": "stream",
     "text": [
      "0.2901084343944911\n",
      "[WRITE] Saved result from sample_10_state_county_county_desired_10ppc_200_size_seed_5678.pkl to /home/libe2152/optimizedsampling/0_results/usavars/population/cluster_sampling_r2_scores.csv\n",
      "Fitting regression...\n",
      "NUM SAMPLES: 200\n",
      "Best alpha: 46.41588833612782\n"
     ]
    },
    {
     "name": "stderr",
     "output_type": "stream",
     "text": [
      "Processing samples:   7%|▋         | 30/401 [01:46<10:28,  1.70s/it]"
     ]
    },
    {
     "name": "stdout",
     "output_type": "stream",
     "text": [
      "0.27889179311436296\n",
      "[WRITE] Saved result from sample_10_state_county_county_desired_10ppc_200_size_seed_789.pkl to /home/libe2152/optimizedsampling/0_results/usavars/population/cluster_sampling_r2_scores.csv\n",
      "Fitting regression...\n",
      "NUM SAMPLES: 200\n",
      "Best alpha: 46.41588833612782\n"
     ]
    },
    {
     "name": "stderr",
     "output_type": "stream",
     "text": [
      "Processing samples:   8%|▊         | 31/401 [01:48<10:53,  1.77s/it]"
     ]
    },
    {
     "name": "stdout",
     "output_type": "stream",
     "text": [
      "0.4648100133418014\n",
      "[WRITE] Saved result from sample_10_state_county_county_desired_10ppc_200_size_seed_9101.pkl to /home/libe2152/optimizedsampling/0_results/usavars/population/cluster_sampling_r2_scores.csv\n",
      "Fitting regression...\n",
      "NUM SAMPLES: 300\n",
      "Best alpha: 599.4842503189421\n"
     ]
    },
    {
     "name": "stderr",
     "output_type": "stream",
     "text": [
      "Processing samples:   8%|▊         | 32/401 [01:50<11:19,  1.84s/it]"
     ]
    },
    {
     "name": "stdout",
     "output_type": "stream",
     "text": [
      "0.46332302675258974\n",
      "[WRITE] Saved result from sample_10_state_county_county_desired_10ppc_300_size_seed_1.pkl to /home/libe2152/optimizedsampling/0_results/usavars/population/cluster_sampling_r2_scores.csv\n",
      "Fitting regression...\n",
      "NUM SAMPLES: 300\n",
      "Best alpha: 46.41588833612782\n"
     ]
    },
    {
     "name": "stderr",
     "output_type": "stream",
     "text": [
      "Processing samples:   8%|▊         | 33/401 [01:52<11:29,  1.87s/it]"
     ]
    },
    {
     "name": "stdout",
     "output_type": "stream",
     "text": [
      "0.3765333360163208\n",
      "[WRITE] Saved result from sample_10_state_county_county_desired_10ppc_300_size_seed_1213.pkl to /home/libe2152/optimizedsampling/0_results/usavars/population/cluster_sampling_r2_scores.csv\n",
      "Fitting regression...\n",
      "NUM SAMPLES: 300\n",
      "Best alpha: 599.4842503189421\n"
     ]
    },
    {
     "name": "stderr",
     "output_type": "stream",
     "text": [
      "Processing samples:   8%|▊         | 34/401 [01:54<11:56,  1.95s/it]"
     ]
    },
    {
     "name": "stdout",
     "output_type": "stream",
     "text": [
      "0.4569665158064177\n",
      "[WRITE] Saved result from sample_10_state_county_county_desired_10ppc_300_size_seed_123.pkl to /home/libe2152/optimizedsampling/0_results/usavars/population/cluster_sampling_r2_scores.csv\n",
      "Fitting regression...\n",
      "NUM SAMPLES: 300\n",
      "Best alpha: 599.4842503189421\n"
     ]
    },
    {
     "name": "stderr",
     "output_type": "stream",
     "text": [
      "Processing samples:   9%|▊         | 35/401 [01:56<12:58,  2.13s/it]"
     ]
    },
    {
     "name": "stdout",
     "output_type": "stream",
     "text": [
      "0.3588935585792189\n",
      "[WRITE] Saved result from sample_10_state_county_county_desired_10ppc_300_size_seed_1234.pkl to /home/libe2152/optimizedsampling/0_results/usavars/population/cluster_sampling_r2_scores.csv\n",
      "Fitting regression...\n",
      "NUM SAMPLES: 300\n",
      "Best alpha: 46.41588833612782\n"
     ]
    },
    {
     "name": "stderr",
     "output_type": "stream",
     "text": [
      "Processing samples:   9%|▉         | 36/401 [01:59<12:57,  2.13s/it]"
     ]
    },
    {
     "name": "stdout",
     "output_type": "stream",
     "text": [
      "0.2684536961274132\n",
      "[WRITE] Saved result from sample_10_state_county_county_desired_10ppc_300_size_seed_1415.pkl to /home/libe2152/optimizedsampling/0_results/usavars/population/cluster_sampling_r2_scores.csv\n",
      "Fitting regression...\n",
      "NUM SAMPLES: 300\n",
      "Best alpha: 599.4842503189421\n"
     ]
    },
    {
     "name": "stderr",
     "output_type": "stream",
     "text": [
      "Processing samples:   9%|▉         | 37/401 [02:01<12:52,  2.12s/it]"
     ]
    },
    {
     "name": "stdout",
     "output_type": "stream",
     "text": [
      "0.38874491023666924\n",
      "[WRITE] Saved result from sample_10_state_county_county_desired_10ppc_300_size_seed_42.pkl to /home/libe2152/optimizedsampling/0_results/usavars/population/cluster_sampling_r2_scores.csv\n",
      "Fitting regression...\n",
      "NUM SAMPLES: 300\n",
      "Best alpha: 3.593813663804626\n"
     ]
    },
    {
     "name": "stderr",
     "output_type": "stream",
     "text": [
      "Processing samples:   9%|▉         | 38/401 [02:03<12:35,  2.08s/it]"
     ]
    },
    {
     "name": "stdout",
     "output_type": "stream",
     "text": [
      "0.38068714971430984\n",
      "[WRITE] Saved result from sample_10_state_county_county_desired_10ppc_300_size_seed_456.pkl to /home/libe2152/optimizedsampling/0_results/usavars/population/cluster_sampling_r2_scores.csv\n",
      "Fitting regression...\n",
      "NUM SAMPLES: 300\n",
      "Best alpha: 46.41588833612782\n"
     ]
    },
    {
     "name": "stderr",
     "output_type": "stream",
     "text": [
      "Processing samples:  10%|▉         | 39/401 [02:05<12:36,  2.09s/it]"
     ]
    },
    {
     "name": "stdout",
     "output_type": "stream",
     "text": [
      "0.32548720545104215\n",
      "[WRITE] Saved result from sample_10_state_county_county_desired_10ppc_300_size_seed_5678.pkl to /home/libe2152/optimizedsampling/0_results/usavars/population/cluster_sampling_r2_scores.csv\n",
      "Fitting regression...\n",
      "NUM SAMPLES: 300\n",
      "Best alpha: 46.41588833612782\n"
     ]
    },
    {
     "name": "stderr",
     "output_type": "stream",
     "text": [
      "Processing samples:  10%|▉         | 40/401 [02:07<12:38,  2.10s/it]"
     ]
    },
    {
     "name": "stdout",
     "output_type": "stream",
     "text": [
      "0.4580223017270386\n",
      "[WRITE] Saved result from sample_10_state_county_county_desired_10ppc_300_size_seed_789.pkl to /home/libe2152/optimizedsampling/0_results/usavars/population/cluster_sampling_r2_scores.csv\n",
      "Fitting regression...\n",
      "NUM SAMPLES: 300\n",
      "Best alpha: 46.41588833612782\n"
     ]
    },
    {
     "name": "stderr",
     "output_type": "stream",
     "text": [
      "Processing samples:  10%|█         | 41/401 [02:09<13:15,  2.21s/it]"
     ]
    },
    {
     "name": "stdout",
     "output_type": "stream",
     "text": [
      "0.47499697373993777\n",
      "[WRITE] Saved result from sample_10_state_county_county_desired_10ppc_300_size_seed_9101.pkl to /home/libe2152/optimizedsampling/0_results/usavars/population/cluster_sampling_r2_scores.csv\n",
      "Fitting regression...\n",
      "NUM SAMPLES: 400\n",
      "Best alpha: 599.4842503189421\n"
     ]
    },
    {
     "name": "stderr",
     "output_type": "stream",
     "text": [
      "Processing samples:  10%|█         | 42/401 [02:13<15:03,  2.52s/it]"
     ]
    },
    {
     "name": "stdout",
     "output_type": "stream",
     "text": [
      "0.48219983808663247\n",
      "[WRITE] Saved result from sample_10_state_county_county_desired_10ppc_400_size_seed_1.pkl to /home/libe2152/optimizedsampling/0_results/usavars/population/cluster_sampling_r2_scores.csv\n",
      "Fitting regression...\n",
      "NUM SAMPLES: 400\n",
      "Best alpha: 46.41588833612782\n"
     ]
    },
    {
     "name": "stderr",
     "output_type": "stream",
     "text": [
      "Processing samples:  11%|█         | 43/401 [02:16<16:10,  2.71s/it]"
     ]
    },
    {
     "name": "stdout",
     "output_type": "stream",
     "text": [
      "0.3834264867575464\n",
      "[WRITE] Saved result from sample_10_state_county_county_desired_10ppc_400_size_seed_1213.pkl to /home/libe2152/optimizedsampling/0_results/usavars/population/cluster_sampling_r2_scores.csv\n",
      "Fitting regression...\n",
      "NUM SAMPLES: 400\n",
      "Best alpha: 46.41588833612782\n"
     ]
    },
    {
     "name": "stderr",
     "output_type": "stream",
     "text": [
      "Processing samples:  11%|█         | 44/401 [02:18<15:35,  2.62s/it]"
     ]
    },
    {
     "name": "stdout",
     "output_type": "stream",
     "text": [
      "0.4685689219628958\n",
      "[WRITE] Saved result from sample_10_state_county_county_desired_10ppc_400_size_seed_123.pkl to /home/libe2152/optimizedsampling/0_results/usavars/population/cluster_sampling_r2_scores.csv\n",
      "Fitting regression...\n",
      "NUM SAMPLES: 400\n",
      "Best alpha: 46.41588833612782\n"
     ]
    },
    {
     "name": "stderr",
     "output_type": "stream",
     "text": [
      "Processing samples:  11%|█         | 45/401 [02:21<16:00,  2.70s/it]"
     ]
    },
    {
     "name": "stdout",
     "output_type": "stream",
     "text": [
      "0.38926184753204307\n",
      "[WRITE] Saved result from sample_10_state_county_county_desired_10ppc_400_size_seed_1234.pkl to /home/libe2152/optimizedsampling/0_results/usavars/population/cluster_sampling_r2_scores.csv\n",
      "Fitting regression...\n",
      "NUM SAMPLES: 400\n",
      "Best alpha: 46.41588833612782\n"
     ]
    },
    {
     "name": "stderr",
     "output_type": "stream",
     "text": [
      "Processing samples:  11%|█▏        | 46/401 [02:23<15:19,  2.59s/it]"
     ]
    },
    {
     "name": "stdout",
     "output_type": "stream",
     "text": [
      "0.3745849479188347\n",
      "[WRITE] Saved result from sample_10_state_county_county_desired_10ppc_400_size_seed_1415.pkl to /home/libe2152/optimizedsampling/0_results/usavars/population/cluster_sampling_r2_scores.csv\n",
      "Fitting regression...\n",
      "NUM SAMPLES: 400\n",
      "Best alpha: 46.41588833612782\n"
     ]
    },
    {
     "name": "stderr",
     "output_type": "stream",
     "text": [
      "Processing samples:  12%|█▏        | 47/401 [02:26<15:43,  2.67s/it]"
     ]
    },
    {
     "name": "stdout",
     "output_type": "stream",
     "text": [
      "0.4511913095635002\n",
      "[WRITE] Saved result from sample_10_state_county_county_desired_10ppc_400_size_seed_42.pkl to /home/libe2152/optimizedsampling/0_results/usavars/population/cluster_sampling_r2_scores.csv\n",
      "Fitting regression...\n",
      "NUM SAMPLES: 400\n",
      "Best alpha: 46.41588833612782\n"
     ]
    },
    {
     "name": "stderr",
     "output_type": "stream",
     "text": [
      "Processing samples:  12%|█▏        | 48/401 [02:29<15:51,  2.70s/it]"
     ]
    },
    {
     "name": "stdout",
     "output_type": "stream",
     "text": [
      "0.4181680235354711\n",
      "[WRITE] Saved result from sample_10_state_county_county_desired_10ppc_400_size_seed_456.pkl to /home/libe2152/optimizedsampling/0_results/usavars/population/cluster_sampling_r2_scores.csv\n",
      "Fitting regression...\n",
      "NUM SAMPLES: 400\n",
      "Best alpha: 46.41588833612782\n"
     ]
    },
    {
     "name": "stderr",
     "output_type": "stream",
     "text": [
      "Processing samples:  12%|█▏        | 49/401 [02:32<15:53,  2.71s/it]"
     ]
    },
    {
     "name": "stdout",
     "output_type": "stream",
     "text": [
      "0.3214903341846267\n",
      "[WRITE] Saved result from sample_10_state_county_county_desired_10ppc_400_size_seed_5678.pkl to /home/libe2152/optimizedsampling/0_results/usavars/population/cluster_sampling_r2_scores.csv\n",
      "Fitting regression...\n",
      "NUM SAMPLES: 400\n",
      "Best alpha: 599.4842503189421\n"
     ]
    },
    {
     "name": "stderr",
     "output_type": "stream",
     "text": [
      "Processing samples:  12%|█▏        | 50/401 [02:34<15:14,  2.60s/it]"
     ]
    },
    {
     "name": "stdout",
     "output_type": "stream",
     "text": [
      "0.4352812365279697\n",
      "[WRITE] Saved result from sample_10_state_county_county_desired_10ppc_400_size_seed_789.pkl to /home/libe2152/optimizedsampling/0_results/usavars/population/cluster_sampling_r2_scores.csv\n",
      "Fitting regression...\n",
      "NUM SAMPLES: 400\n",
      "Best alpha: 46.41588833612782\n"
     ]
    },
    {
     "name": "stderr",
     "output_type": "stream",
     "text": [
      "Processing samples:  13%|█▎        | 51/401 [02:37<15:17,  2.62s/it]"
     ]
    },
    {
     "name": "stdout",
     "output_type": "stream",
     "text": [
      "0.48068138245817016\n",
      "[WRITE] Saved result from sample_10_state_county_county_desired_10ppc_400_size_seed_9101.pkl to /home/libe2152/optimizedsampling/0_results/usavars/population/cluster_sampling_r2_scores.csv\n",
      "Fitting regression...\n",
      "NUM SAMPLES: 500\n",
      "Best alpha: 599.4842503189421\n"
     ]
    },
    {
     "name": "stderr",
     "output_type": "stream",
     "text": [
      "Processing samples:  13%|█▎        | 52/401 [02:41<17:46,  3.06s/it]"
     ]
    },
    {
     "name": "stdout",
     "output_type": "stream",
     "text": [
      "0.4934891896468029\n",
      "[WRITE] Saved result from sample_10_state_county_county_desired_10ppc_500_size_seed_1.pkl to /home/libe2152/optimizedsampling/0_results/usavars/population/cluster_sampling_r2_scores.csv\n",
      "Fitting regression...\n",
      "NUM SAMPLES: 500\n",
      "Best alpha: 46.41588833612782\n"
     ]
    },
    {
     "name": "stderr",
     "output_type": "stream",
     "text": [
      "Processing samples:  13%|█▎        | 53/401 [02:44<17:21,  2.99s/it]"
     ]
    },
    {
     "name": "stdout",
     "output_type": "stream",
     "text": [
      "0.3523659152117491\n",
      "[WRITE] Saved result from sample_10_state_county_county_desired_10ppc_500_size_seed_1213.pkl to /home/libe2152/optimizedsampling/0_results/usavars/population/cluster_sampling_r2_scores.csv\n",
      "Fitting regression...\n",
      "NUM SAMPLES: 500\n",
      "Best alpha: 46.41588833612782\n"
     ]
    },
    {
     "name": "stderr",
     "output_type": "stream",
     "text": [
      "Processing samples:  13%|█▎        | 54/401 [02:46<16:58,  2.94s/it]"
     ]
    },
    {
     "name": "stdout",
     "output_type": "stream",
     "text": [
      "0.4729225402995979\n",
      "[WRITE] Saved result from sample_10_state_county_county_desired_10ppc_500_size_seed_123.pkl to /home/libe2152/optimizedsampling/0_results/usavars/population/cluster_sampling_r2_scores.csv\n",
      "Fitting regression...\n",
      "NUM SAMPLES: 500\n",
      "Best alpha: 599.4842503189421\n"
     ]
    },
    {
     "name": "stderr",
     "output_type": "stream",
     "text": [
      "Processing samples:  14%|█▎        | 55/401 [02:49<16:41,  2.89s/it]"
     ]
    },
    {
     "name": "stdout",
     "output_type": "stream",
     "text": [
      "0.4292233354434334\n",
      "[WRITE] Saved result from sample_10_state_county_county_desired_10ppc_500_size_seed_1234.pkl to /home/libe2152/optimizedsampling/0_results/usavars/population/cluster_sampling_r2_scores.csv\n",
      "Fitting regression...\n",
      "NUM SAMPLES: 500\n",
      "Best alpha: 46.41588833612782\n"
     ]
    },
    {
     "name": "stderr",
     "output_type": "stream",
     "text": [
      "Processing samples:  14%|█▍        | 56/401 [02:52<16:59,  2.96s/it]"
     ]
    },
    {
     "name": "stdout",
     "output_type": "stream",
     "text": [
      "0.3878324790185683\n",
      "[WRITE] Saved result from sample_10_state_county_county_desired_10ppc_500_size_seed_1415.pkl to /home/libe2152/optimizedsampling/0_results/usavars/population/cluster_sampling_r2_scores.csv\n",
      "Fitting regression...\n",
      "NUM SAMPLES: 500\n",
      "Best alpha: 46.41588833612782\n"
     ]
    },
    {
     "name": "stderr",
     "output_type": "stream",
     "text": [
      "Processing samples:  14%|█▍        | 57/401 [02:55<16:57,  2.96s/it]"
     ]
    },
    {
     "name": "stdout",
     "output_type": "stream",
     "text": [
      "0.4460866866609785\n",
      "[WRITE] Saved result from sample_10_state_county_county_desired_10ppc_500_size_seed_42.pkl to /home/libe2152/optimizedsampling/0_results/usavars/population/cluster_sampling_r2_scores.csv\n",
      "Fitting regression...\n",
      "NUM SAMPLES: 500\n",
      "Best alpha: 3.593813663804626\n"
     ]
    },
    {
     "name": "stderr",
     "output_type": "stream",
     "text": [
      "Processing samples:  14%|█▍        | 58/401 [02:59<18:24,  3.22s/it]"
     ]
    },
    {
     "name": "stdout",
     "output_type": "stream",
     "text": [
      "0.45189977444276896\n",
      "[WRITE] Saved result from sample_10_state_county_county_desired_10ppc_500_size_seed_456.pkl to /home/libe2152/optimizedsampling/0_results/usavars/population/cluster_sampling_r2_scores.csv\n",
      "Fitting regression...\n",
      "NUM SAMPLES: 500\n",
      "Best alpha: 46.41588833612782\n"
     ]
    },
    {
     "name": "stderr",
     "output_type": "stream",
     "text": [
      "Processing samples:  15%|█▍        | 59/401 [03:02<18:34,  3.26s/it]"
     ]
    },
    {
     "name": "stdout",
     "output_type": "stream",
     "text": [
      "0.22984849551746767\n",
      "[WRITE] Saved result from sample_10_state_county_county_desired_10ppc_500_size_seed_5678.pkl to /home/libe2152/optimizedsampling/0_results/usavars/population/cluster_sampling_r2_scores.csv\n",
      "Fitting regression...\n",
      "NUM SAMPLES: 500\n",
      "Best alpha: 599.4842503189421\n"
     ]
    },
    {
     "name": "stderr",
     "output_type": "stream",
     "text": [
      "Processing samples:  15%|█▍        | 60/401 [03:06<19:41,  3.47s/it]"
     ]
    },
    {
     "name": "stdout",
     "output_type": "stream",
     "text": [
      "0.4973749210605143\n",
      "[WRITE] Saved result from sample_10_state_county_county_desired_10ppc_500_size_seed_789.pkl to /home/libe2152/optimizedsampling/0_results/usavars/population/cluster_sampling_r2_scores.csv\n",
      "Fitting regression...\n",
      "NUM SAMPLES: 500\n",
      "Best alpha: 46.41588833612782\n"
     ]
    },
    {
     "name": "stderr",
     "output_type": "stream",
     "text": [
      "Processing samples:  15%|█▌        | 61/401 [03:10<20:14,  3.57s/it]"
     ]
    },
    {
     "name": "stdout",
     "output_type": "stream",
     "text": [
      "0.4818180212735893\n",
      "[WRITE] Saved result from sample_10_state_county_county_desired_10ppc_500_size_seed_9101.pkl to /home/libe2152/optimizedsampling/0_results/usavars/population/cluster_sampling_r2_scores.csv\n",
      "Fitting regression...\n",
      "NUM SAMPLES: 600\n",
      "Best alpha: 599.4842503189421\n"
     ]
    },
    {
     "name": "stderr",
     "output_type": "stream",
     "text": [
      "Processing samples:  15%|█▌        | 62/401 [03:16<24:24,  4.32s/it]"
     ]
    },
    {
     "name": "stdout",
     "output_type": "stream",
     "text": [
      "0.4929800897783325\n",
      "[WRITE] Saved result from sample_10_state_county_county_desired_10ppc_600_size_seed_1.pkl to /home/libe2152/optimizedsampling/0_results/usavars/population/cluster_sampling_r2_scores.csv\n",
      "Fitting regression...\n",
      "NUM SAMPLES: 600\n",
      "Best alpha: 46.41588833612782\n"
     ]
    },
    {
     "name": "stderr",
     "output_type": "stream",
     "text": [
      "Processing samples:  16%|█▌        | 63/401 [03:22<26:23,  4.69s/it]"
     ]
    },
    {
     "name": "stdout",
     "output_type": "stream",
     "text": [
      "0.3966982532488246\n",
      "[WRITE] Saved result from sample_10_state_county_county_desired_10ppc_600_size_seed_1213.pkl to /home/libe2152/optimizedsampling/0_results/usavars/population/cluster_sampling_r2_scores.csv\n",
      "Fitting regression...\n",
      "NUM SAMPLES: 600\n",
      "Best alpha: 46.41588833612782\n"
     ]
    },
    {
     "name": "stderr",
     "output_type": "stream",
     "text": [
      "Processing samples:  16%|█▌        | 64/401 [03:26<25:35,  4.56s/it]"
     ]
    },
    {
     "name": "stdout",
     "output_type": "stream",
     "text": [
      "0.5130619853895466\n",
      "[WRITE] Saved result from sample_10_state_county_county_desired_10ppc_600_size_seed_123.pkl to /home/libe2152/optimizedsampling/0_results/usavars/population/cluster_sampling_r2_scores.csv\n",
      "Fitting regression...\n",
      "NUM SAMPLES: 600\n",
      "Best alpha: 46.41588833612782\n"
     ]
    },
    {
     "name": "stderr",
     "output_type": "stream",
     "text": [
      "Processing samples:  16%|█▌        | 65/401 [03:31<26:04,  4.66s/it]"
     ]
    },
    {
     "name": "stdout",
     "output_type": "stream",
     "text": [
      "0.4756510138939334\n",
      "[WRITE] Saved result from sample_10_state_county_county_desired_10ppc_600_size_seed_1234.pkl to /home/libe2152/optimizedsampling/0_results/usavars/population/cluster_sampling_r2_scores.csv\n",
      "Fitting regression...\n",
      "NUM SAMPLES: 600\n",
      "Best alpha: 46.41588833612782\n"
     ]
    },
    {
     "name": "stderr",
     "output_type": "stream",
     "text": [
      "Processing samples:  16%|█▋        | 66/401 [03:37<27:50,  4.99s/it]"
     ]
    },
    {
     "name": "stdout",
     "output_type": "stream",
     "text": [
      "0.4096546474804479\n",
      "[WRITE] Saved result from sample_10_state_county_county_desired_10ppc_600_size_seed_1415.pkl to /home/libe2152/optimizedsampling/0_results/usavars/population/cluster_sampling_r2_scores.csv\n",
      "Fitting regression...\n",
      "NUM SAMPLES: 600\n",
      "Best alpha: 46.41588833612782\n"
     ]
    },
    {
     "name": "stderr",
     "output_type": "stream",
     "text": [
      "Processing samples:  17%|█▋        | 67/401 [03:43<29:59,  5.39s/it]"
     ]
    },
    {
     "name": "stdout",
     "output_type": "stream",
     "text": [
      "0.4263710699258515\n",
      "[WRITE] Saved result from sample_10_state_county_county_desired_10ppc_600_size_seed_42.pkl to /home/libe2152/optimizedsampling/0_results/usavars/population/cluster_sampling_r2_scores.csv\n",
      "Fitting regression...\n",
      "NUM SAMPLES: 600\n",
      "Best alpha: 46.41588833612782\n"
     ]
    },
    {
     "name": "stderr",
     "output_type": "stream",
     "text": [
      "Processing samples:  17%|█▋        | 68/401 [03:49<30:38,  5.52s/it]"
     ]
    },
    {
     "name": "stdout",
     "output_type": "stream",
     "text": [
      "0.5052708087373261\n",
      "[WRITE] Saved result from sample_10_state_county_county_desired_10ppc_600_size_seed_456.pkl to /home/libe2152/optimizedsampling/0_results/usavars/population/cluster_sampling_r2_scores.csv\n",
      "Fitting regression...\n",
      "NUM SAMPLES: 600\n",
      "Best alpha: 46.41588833612782\n"
     ]
    },
    {
     "name": "stderr",
     "output_type": "stream",
     "text": [
      "Processing samples:  17%|█▋        | 69/401 [03:54<29:30,  5.33s/it]"
     ]
    },
    {
     "name": "stdout",
     "output_type": "stream",
     "text": [
      "0.3065919950258479\n",
      "[WRITE] Saved result from sample_10_state_county_county_desired_10ppc_600_size_seed_5678.pkl to /home/libe2152/optimizedsampling/0_results/usavars/population/cluster_sampling_r2_scores.csv\n",
      "Fitting regression...\n",
      "NUM SAMPLES: 600\n",
      "Best alpha: 46.41588833612782\n"
     ]
    },
    {
     "name": "stderr",
     "output_type": "stream",
     "text": [
      "Processing samples:  17%|█▋        | 70/401 [04:00<30:06,  5.46s/it]"
     ]
    },
    {
     "name": "stdout",
     "output_type": "stream",
     "text": [
      "0.5063435860980219\n",
      "[WRITE] Saved result from sample_10_state_county_county_desired_10ppc_600_size_seed_789.pkl to /home/libe2152/optimizedsampling/0_results/usavars/population/cluster_sampling_r2_scores.csv\n",
      "Fitting regression...\n",
      "NUM SAMPLES: 600\n",
      "Best alpha: 46.41588833612782\n"
     ]
    },
    {
     "name": "stderr",
     "output_type": "stream",
     "text": [
      "Processing samples:  18%|█▊        | 71/401 [04:05<29:53,  5.43s/it]"
     ]
    },
    {
     "name": "stdout",
     "output_type": "stream",
     "text": [
      "0.5120732061751476\n",
      "[WRITE] Saved result from sample_10_state_county_county_desired_10ppc_600_size_seed_9101.pkl to /home/libe2152/optimizedsampling/0_results/usavars/population/cluster_sampling_r2_scores.csv\n",
      "Fitting regression...\n",
      "NUM SAMPLES: 700\n",
      "Best alpha: 46.41588833612782\n"
     ]
    },
    {
     "name": "stderr",
     "output_type": "stream",
     "text": [
      "Processing samples:  18%|█▊        | 72/401 [04:11<30:27,  5.56s/it]"
     ]
    },
    {
     "name": "stdout",
     "output_type": "stream",
     "text": [
      "0.5064431598574939\n",
      "[WRITE] Saved result from sample_10_state_county_county_desired_10ppc_700_size_seed_1.pkl to /home/libe2152/optimizedsampling/0_results/usavars/population/cluster_sampling_r2_scores.csv\n",
      "Fitting regression...\n",
      "NUM SAMPLES: 700\n",
      "Best alpha: 46.41588833612782\n"
     ]
    },
    {
     "name": "stderr",
     "output_type": "stream",
     "text": [
      "Processing samples:  18%|█▊        | 73/401 [04:17<30:45,  5.63s/it]"
     ]
    },
    {
     "name": "stdout",
     "output_type": "stream",
     "text": [
      "0.3841307969877584\n",
      "[WRITE] Saved result from sample_10_state_county_county_desired_10ppc_700_size_seed_1213.pkl to /home/libe2152/optimizedsampling/0_results/usavars/population/cluster_sampling_r2_scores.csv\n",
      "Fitting regression...\n",
      "NUM SAMPLES: 700\n",
      "Best alpha: 46.41588833612782\n"
     ]
    },
    {
     "name": "stderr",
     "output_type": "stream",
     "text": [
      "Processing samples:  18%|█▊        | 74/401 [04:22<30:58,  5.68s/it]"
     ]
    },
    {
     "name": "stdout",
     "output_type": "stream",
     "text": [
      "0.5156556649311874\n",
      "[WRITE] Saved result from sample_10_state_county_county_desired_10ppc_700_size_seed_123.pkl to /home/libe2152/optimizedsampling/0_results/usavars/population/cluster_sampling_r2_scores.csv\n",
      "Fitting regression...\n",
      "NUM SAMPLES: 700\n",
      "Best alpha: 46.41588833612782\n"
     ]
    },
    {
     "name": "stderr",
     "output_type": "stream",
     "text": [
      "Processing samples:  19%|█▊        | 75/401 [04:28<31:15,  5.75s/it]"
     ]
    },
    {
     "name": "stdout",
     "output_type": "stream",
     "text": [
      "0.4745381386547215\n",
      "[WRITE] Saved result from sample_10_state_county_county_desired_10ppc_700_size_seed_1234.pkl to /home/libe2152/optimizedsampling/0_results/usavars/population/cluster_sampling_r2_scores.csv\n",
      "Fitting regression...\n",
      "NUM SAMPLES: 700\n",
      "Best alpha: 46.41588833612782\n"
     ]
    },
    {
     "name": "stderr",
     "output_type": "stream",
     "text": [
      "Processing samples:  19%|█▉        | 76/401 [04:34<31:38,  5.84s/it]"
     ]
    },
    {
     "name": "stdout",
     "output_type": "stream",
     "text": [
      "0.45144190528446493\n",
      "[WRITE] Saved result from sample_10_state_county_county_desired_10ppc_700_size_seed_1415.pkl to /home/libe2152/optimizedsampling/0_results/usavars/population/cluster_sampling_r2_scores.csv\n",
      "Fitting regression...\n",
      "NUM SAMPLES: 700\n",
      "Best alpha: 46.41588833612782\n"
     ]
    },
    {
     "name": "stderr",
     "output_type": "stream",
     "text": [
      "Processing samples:  19%|█▉        | 77/401 [04:40<31:43,  5.87s/it]"
     ]
    },
    {
     "name": "stdout",
     "output_type": "stream",
     "text": [
      "0.4607697271587813\n",
      "[WRITE] Saved result from sample_10_state_county_county_desired_10ppc_700_size_seed_42.pkl to /home/libe2152/optimizedsampling/0_results/usavars/population/cluster_sampling_r2_scores.csv\n",
      "Fitting regression...\n",
      "NUM SAMPLES: 700\n",
      "Best alpha: 46.41588833612782\n"
     ]
    },
    {
     "name": "stderr",
     "output_type": "stream",
     "text": [
      "Processing samples:  19%|█▉        | 78/401 [04:46<31:40,  5.88s/it]"
     ]
    },
    {
     "name": "stdout",
     "output_type": "stream",
     "text": [
      "0.4995365730089748\n",
      "[WRITE] Saved result from sample_10_state_county_county_desired_10ppc_700_size_seed_456.pkl to /home/libe2152/optimizedsampling/0_results/usavars/population/cluster_sampling_r2_scores.csv\n",
      "Fitting regression...\n",
      "NUM SAMPLES: 700\n",
      "Best alpha: 46.41588833612782\n"
     ]
    },
    {
     "name": "stderr",
     "output_type": "stream",
     "text": [
      "Processing samples:  20%|█▉        | 79/401 [04:52<30:48,  5.74s/it]"
     ]
    },
    {
     "name": "stdout",
     "output_type": "stream",
     "text": [
      "0.2898443089222813\n",
      "[WRITE] Saved result from sample_10_state_county_county_desired_10ppc_700_size_seed_5678.pkl to /home/libe2152/optimizedsampling/0_results/usavars/population/cluster_sampling_r2_scores.csv\n",
      "Fitting regression...\n",
      "NUM SAMPLES: 700\n",
      "Best alpha: 46.41588833612782\n"
     ]
    },
    {
     "name": "stderr",
     "output_type": "stream",
     "text": [
      "Processing samples:  20%|█▉        | 80/401 [04:58<31:31,  5.89s/it]"
     ]
    },
    {
     "name": "stdout",
     "output_type": "stream",
     "text": [
      "0.5056944689465059\n",
      "[WRITE] Saved result from sample_10_state_county_county_desired_10ppc_700_size_seed_789.pkl to /home/libe2152/optimizedsampling/0_results/usavars/population/cluster_sampling_r2_scores.csv\n",
      "Fitting regression...\n",
      "NUM SAMPLES: 700\n",
      "Best alpha: 46.41588833612782\n"
     ]
    },
    {
     "name": "stderr",
     "output_type": "stream",
     "text": [
      "Processing samples:  20%|██        | 81/401 [05:04<31:32,  5.91s/it]"
     ]
    },
    {
     "name": "stdout",
     "output_type": "stream",
     "text": [
      "0.5095311541357579\n",
      "[WRITE] Saved result from sample_10_state_county_county_desired_10ppc_700_size_seed_9101.pkl to /home/libe2152/optimizedsampling/0_results/usavars/population/cluster_sampling_r2_scores.csv\n",
      "Fitting regression...\n",
      "NUM SAMPLES: 800\n",
      "Best alpha: 599.4842503189421\n"
     ]
    },
    {
     "name": "stderr",
     "output_type": "stream",
     "text": [
      "Processing samples:  20%|██        | 82/401 [05:11<33:52,  6.37s/it]"
     ]
    },
    {
     "name": "stdout",
     "output_type": "stream",
     "text": [
      "0.48946553149736916\n",
      "[WRITE] Saved result from sample_10_state_county_county_desired_10ppc_800_size_seed_1.pkl to /home/libe2152/optimizedsampling/0_results/usavars/population/cluster_sampling_r2_scores.csv\n",
      "Fitting regression...\n",
      "NUM SAMPLES: 800\n",
      "Best alpha: 46.41588833612782\n"
     ]
    },
    {
     "name": "stderr",
     "output_type": "stream",
     "text": [
      "Processing samples:  21%|██        | 83/401 [05:19<35:19,  6.66s/it]"
     ]
    },
    {
     "name": "stdout",
     "output_type": "stream",
     "text": [
      "0.4037752264136798\n",
      "[WRITE] Saved result from sample_10_state_county_county_desired_10ppc_800_size_seed_1213.pkl to /home/libe2152/optimizedsampling/0_results/usavars/population/cluster_sampling_r2_scores.csv\n",
      "Fitting regression...\n",
      "NUM SAMPLES: 800\n",
      "Best alpha: 46.41588833612782\n"
     ]
    },
    {
     "name": "stderr",
     "output_type": "stream",
     "text": [
      "Processing samples:  21%|██        | 84/401 [05:26<36:01,  6.82s/it]"
     ]
    },
    {
     "name": "stdout",
     "output_type": "stream",
     "text": [
      "0.5100668050371538\n",
      "[WRITE] Saved result from sample_10_state_county_county_desired_10ppc_800_size_seed_123.pkl to /home/libe2152/optimizedsampling/0_results/usavars/population/cluster_sampling_r2_scores.csv\n",
      "Fitting regression...\n",
      "NUM SAMPLES: 800\n",
      "Best alpha: 46.41588833612782\n"
     ]
    },
    {
     "name": "stderr",
     "output_type": "stream",
     "text": [
      "Processing samples:  21%|██        | 85/401 [05:33<36:45,  6.98s/it]"
     ]
    },
    {
     "name": "stdout",
     "output_type": "stream",
     "text": [
      "0.4896129879883112\n",
      "[WRITE] Saved result from sample_10_state_county_county_desired_10ppc_800_size_seed_1234.pkl to /home/libe2152/optimizedsampling/0_results/usavars/population/cluster_sampling_r2_scores.csv\n",
      "Fitting regression...\n",
      "NUM SAMPLES: 800\n",
      "Best alpha: 46.41588833612782\n"
     ]
    },
    {
     "name": "stderr",
     "output_type": "stream",
     "text": [
      "Processing samples:  21%|██▏       | 86/401 [05:41<37:44,  7.19s/it]"
     ]
    },
    {
     "name": "stdout",
     "output_type": "stream",
     "text": [
      "0.4675645849241429\n",
      "[WRITE] Saved result from sample_10_state_county_county_desired_10ppc_800_size_seed_1415.pkl to /home/libe2152/optimizedsampling/0_results/usavars/population/cluster_sampling_r2_scores.csv\n",
      "Fitting regression...\n",
      "NUM SAMPLES: 800\n",
      "Best alpha: 46.41588833612782\n"
     ]
    },
    {
     "name": "stderr",
     "output_type": "stream",
     "text": [
      "Processing samples:  22%|██▏       | 87/401 [05:48<37:43,  7.21s/it]"
     ]
    },
    {
     "name": "stdout",
     "output_type": "stream",
     "text": [
      "0.4495486434501835\n",
      "[WRITE] Saved result from sample_10_state_county_county_desired_10ppc_800_size_seed_42.pkl to /home/libe2152/optimizedsampling/0_results/usavars/population/cluster_sampling_r2_scores.csv\n",
      "Fitting regression...\n",
      "NUM SAMPLES: 800\n",
      "Best alpha: 46.41588833612782\n"
     ]
    },
    {
     "name": "stderr",
     "output_type": "stream",
     "text": [
      "Processing samples:  22%|██▏       | 88/401 [05:56<38:18,  7.34s/it]"
     ]
    },
    {
     "name": "stdout",
     "output_type": "stream",
     "text": [
      "0.5176966004592052\n",
      "[WRITE] Saved result from sample_10_state_county_county_desired_10ppc_800_size_seed_456.pkl to /home/libe2152/optimizedsampling/0_results/usavars/population/cluster_sampling_r2_scores.csv\n",
      "Fitting regression...\n",
      "NUM SAMPLES: 800\n",
      "Best alpha: 46.41588833612782\n"
     ]
    },
    {
     "name": "stderr",
     "output_type": "stream",
     "text": [
      "Processing samples:  22%|██▏       | 89/401 [06:03<38:37,  7.43s/it]"
     ]
    },
    {
     "name": "stdout",
     "output_type": "stream",
     "text": [
      "0.3337022228308012\n",
      "[WRITE] Saved result from sample_10_state_county_county_desired_10ppc_800_size_seed_5678.pkl to /home/libe2152/optimizedsampling/0_results/usavars/population/cluster_sampling_r2_scores.csv\n",
      "Fitting regression...\n",
      "NUM SAMPLES: 800\n",
      "Best alpha: 46.41588833612782\n"
     ]
    },
    {
     "name": "stderr",
     "output_type": "stream",
     "text": [
      "Processing samples:  22%|██▏       | 90/401 [06:11<39:12,  7.56s/it]"
     ]
    },
    {
     "name": "stdout",
     "output_type": "stream",
     "text": [
      "0.49520811832355294\n",
      "[WRITE] Saved result from sample_10_state_county_county_desired_10ppc_800_size_seed_789.pkl to /home/libe2152/optimizedsampling/0_results/usavars/population/cluster_sampling_r2_scores.csv\n",
      "Fitting regression...\n",
      "NUM SAMPLES: 800\n",
      "Best alpha: 46.41588833612782\n"
     ]
    },
    {
     "name": "stderr",
     "output_type": "stream",
     "text": [
      "Processing samples:  23%|██▎       | 91/401 [06:19<39:10,  7.58s/it]"
     ]
    },
    {
     "name": "stdout",
     "output_type": "stream",
     "text": [
      "0.5184030822055496\n",
      "[WRITE] Saved result from sample_10_state_county_county_desired_10ppc_800_size_seed_9101.pkl to /home/libe2152/optimizedsampling/0_results/usavars/population/cluster_sampling_r2_scores.csv\n",
      "Fitting regression...\n",
      "NUM SAMPLES: 900\n",
      "Best alpha: 46.41588833612782\n"
     ]
    },
    {
     "name": "stderr",
     "output_type": "stream",
     "text": [
      "Processing samples:  23%|██▎       | 92/401 [06:27<39:51,  7.74s/it]"
     ]
    },
    {
     "name": "stdout",
     "output_type": "stream",
     "text": [
      "0.4989075041086213\n",
      "[WRITE] Saved result from sample_10_state_county_county_desired_10ppc_900_size_seed_1.pkl to /home/libe2152/optimizedsampling/0_results/usavars/population/cluster_sampling_r2_scores.csv\n",
      "Fitting regression...\n",
      "NUM SAMPLES: 900\n",
      "Best alpha: 46.41588833612782\n"
     ]
    },
    {
     "name": "stderr",
     "output_type": "stream",
     "text": [
      "Processing samples:  23%|██▎       | 93/401 [06:35<40:27,  7.88s/it]"
     ]
    },
    {
     "name": "stdout",
     "output_type": "stream",
     "text": [
      "0.4349840373234134\n",
      "[WRITE] Saved result from sample_10_state_county_county_desired_10ppc_900_size_seed_1213.pkl to /home/libe2152/optimizedsampling/0_results/usavars/population/cluster_sampling_r2_scores.csv\n",
      "Fitting regression...\n",
      "NUM SAMPLES: 900\n",
      "Best alpha: 3.593813663804626\n"
     ]
    },
    {
     "name": "stderr",
     "output_type": "stream",
     "text": [
      "Processing samples:  23%|██▎       | 94/401 [06:43<40:41,  7.95s/it]"
     ]
    },
    {
     "name": "stdout",
     "output_type": "stream",
     "text": [
      "0.47118597624558545\n",
      "[WRITE] Saved result from sample_10_state_county_county_desired_10ppc_900_size_seed_123.pkl to /home/libe2152/optimizedsampling/0_results/usavars/population/cluster_sampling_r2_scores.csv\n",
      "Fitting regression...\n",
      "NUM SAMPLES: 900\n",
      "Best alpha: 46.41588833612782\n"
     ]
    },
    {
     "name": "stderr",
     "output_type": "stream",
     "text": [
      "Processing samples:  24%|██▎       | 95/401 [06:51<40:36,  7.96s/it]"
     ]
    },
    {
     "name": "stdout",
     "output_type": "stream",
     "text": [
      "0.49743240471763805\n",
      "[WRITE] Saved result from sample_10_state_county_county_desired_10ppc_900_size_seed_1234.pkl to /home/libe2152/optimizedsampling/0_results/usavars/population/cluster_sampling_r2_scores.csv\n",
      "Fitting regression...\n",
      "NUM SAMPLES: 900\n",
      "Best alpha: 46.41588833612782\n"
     ]
    },
    {
     "name": "stderr",
     "output_type": "stream",
     "text": [
      "Processing samples:  24%|██▍       | 96/401 [06:59<40:44,  8.01s/it]"
     ]
    },
    {
     "name": "stdout",
     "output_type": "stream",
     "text": [
      "0.45641262726295506\n",
      "[WRITE] Saved result from sample_10_state_county_county_desired_10ppc_900_size_seed_1415.pkl to /home/libe2152/optimizedsampling/0_results/usavars/population/cluster_sampling_r2_scores.csv\n",
      "Fitting regression...\n",
      "NUM SAMPLES: 900\n",
      "Best alpha: 46.41588833612782\n"
     ]
    },
    {
     "name": "stderr",
     "output_type": "stream",
     "text": [
      "Processing samples:  24%|██▍       | 97/401 [07:07<40:32,  8.00s/it]"
     ]
    },
    {
     "name": "stdout",
     "output_type": "stream",
     "text": [
      "0.4488375846802177\n",
      "[WRITE] Saved result from sample_10_state_county_county_desired_10ppc_900_size_seed_42.pkl to /home/libe2152/optimizedsampling/0_results/usavars/population/cluster_sampling_r2_scores.csv\n",
      "Fitting regression...\n",
      "NUM SAMPLES: 900\n",
      "Best alpha: 46.41588833612782\n"
     ]
    },
    {
     "name": "stderr",
     "output_type": "stream",
     "text": [
      "Processing samples:  24%|██▍       | 98/401 [07:15<40:14,  7.97s/it]"
     ]
    },
    {
     "name": "stdout",
     "output_type": "stream",
     "text": [
      "0.5369994747239359\n",
      "[WRITE] Saved result from sample_10_state_county_county_desired_10ppc_900_size_seed_456.pkl to /home/libe2152/optimizedsampling/0_results/usavars/population/cluster_sampling_r2_scores.csv\n",
      "Fitting regression...\n",
      "NUM SAMPLES: 900\n",
      "Best alpha: 46.41588833612782\n"
     ]
    },
    {
     "name": "stderr",
     "output_type": "stream",
     "text": [
      "Processing samples:  25%|██▍       | 99/401 [07:23<40:12,  7.99s/it]"
     ]
    },
    {
     "name": "stdout",
     "output_type": "stream",
     "text": [
      "0.37112296530309397\n",
      "[WRITE] Saved result from sample_10_state_county_county_desired_10ppc_900_size_seed_5678.pkl to /home/libe2152/optimizedsampling/0_results/usavars/population/cluster_sampling_r2_scores.csv\n",
      "Fitting regression...\n",
      "NUM SAMPLES: 900\n",
      "Best alpha: 46.41588833612782\n"
     ]
    },
    {
     "name": "stderr",
     "output_type": "stream",
     "text": [
      "Processing samples:  25%|██▍       | 100/401 [07:31<40:14,  8.02s/it]"
     ]
    },
    {
     "name": "stdout",
     "output_type": "stream",
     "text": [
      "0.5055925196288888\n",
      "[WRITE] Saved result from sample_10_state_county_county_desired_10ppc_900_size_seed_789.pkl to /home/libe2152/optimizedsampling/0_results/usavars/population/cluster_sampling_r2_scores.csv\n",
      "Fitting regression...\n",
      "NUM SAMPLES: 900\n",
      "Best alpha: 46.41588833612782\n"
     ]
    },
    {
     "name": "stderr",
     "output_type": "stream",
     "text": [
      "Processing samples:  25%|██▌       | 101/401 [07:40<40:21,  8.07s/it]"
     ]
    },
    {
     "name": "stdout",
     "output_type": "stream",
     "text": [
      "0.5188504962921128\n",
      "[WRITE] Saved result from sample_10_state_county_county_desired_10ppc_900_size_seed_9101.pkl to /home/libe2152/optimizedsampling/0_results/usavars/population/cluster_sampling_r2_scores.csv\n",
      "Fitting regression...\n",
      "NUM SAMPLES: 1000\n",
      "Best alpha: 46.41588833612782\n"
     ]
    },
    {
     "name": "stderr",
     "output_type": "stream",
     "text": [
      "Processing samples:  25%|██▌       | 102/401 [07:48<40:57,  8.22s/it]"
     ]
    },
    {
     "name": "stdout",
     "output_type": "stream",
     "text": [
      "0.5131951380808013\n",
      "[WRITE] Saved result from sample_10_state_county_county_desired_25ppc_1000_size_seed_1.pkl to /home/libe2152/optimizedsampling/0_results/usavars/population/cluster_sampling_r2_scores.csv\n",
      "Fitting regression...\n",
      "NUM SAMPLES: 1000\n",
      "Best alpha: 46.41588833612782\n"
     ]
    },
    {
     "name": "stderr",
     "output_type": "stream",
     "text": [
      "Processing samples:  26%|██▌       | 103/401 [07:57<41:11,  8.30s/it]"
     ]
    },
    {
     "name": "stdout",
     "output_type": "stream",
     "text": [
      "0.4303103244812888\n",
      "[WRITE] Saved result from sample_10_state_county_county_desired_25ppc_1000_size_seed_1213.pkl to /home/libe2152/optimizedsampling/0_results/usavars/population/cluster_sampling_r2_scores.csv\n",
      "Fitting regression...\n",
      "NUM SAMPLES: 1000\n",
      "Best alpha: 3.593813663804626\n"
     ]
    },
    {
     "name": "stderr",
     "output_type": "stream",
     "text": [
      "Processing samples:  26%|██▌       | 104/401 [08:05<41:23,  8.36s/it]"
     ]
    },
    {
     "name": "stdout",
     "output_type": "stream",
     "text": [
      "0.45490847691170877\n",
      "[WRITE] Saved result from sample_10_state_county_county_desired_25ppc_1000_size_seed_123.pkl to /home/libe2152/optimizedsampling/0_results/usavars/population/cluster_sampling_r2_scores.csv\n",
      "Fitting regression...\n",
      "NUM SAMPLES: 1000\n",
      "Best alpha: 46.41588833612782\n"
     ]
    },
    {
     "name": "stderr",
     "output_type": "stream",
     "text": [
      "Processing samples:  26%|██▌       | 105/401 [08:14<41:49,  8.48s/it]"
     ]
    },
    {
     "name": "stdout",
     "output_type": "stream",
     "text": [
      "0.4535367823100732\n",
      "[WRITE] Saved result from sample_10_state_county_county_desired_25ppc_1000_size_seed_1234.pkl to /home/libe2152/optimizedsampling/0_results/usavars/population/cluster_sampling_r2_scores.csv\n",
      "Fitting regression...\n",
      "NUM SAMPLES: 1000\n",
      "Best alpha: 46.41588833612782\n"
     ]
    },
    {
     "name": "stderr",
     "output_type": "stream",
     "text": [
      "Processing samples:  26%|██▋       | 106/401 [08:22<41:46,  8.50s/it]"
     ]
    },
    {
     "name": "stdout",
     "output_type": "stream",
     "text": [
      "0.434301287194679\n",
      "[WRITE] Saved result from sample_10_state_county_county_desired_25ppc_1000_size_seed_1415.pkl to /home/libe2152/optimizedsampling/0_results/usavars/population/cluster_sampling_r2_scores.csv\n",
      "Fitting regression...\n",
      "NUM SAMPLES: 1000\n",
      "Best alpha: 3.593813663804626\n"
     ]
    },
    {
     "name": "stderr",
     "output_type": "stream",
     "text": [
      "Processing samples:  27%|██▋       | 107/401 [08:31<41:39,  8.50s/it]"
     ]
    },
    {
     "name": "stdout",
     "output_type": "stream",
     "text": [
      "0.388865502660118\n",
      "[WRITE] Saved result from sample_10_state_county_county_desired_25ppc_1000_size_seed_42.pkl to /home/libe2152/optimizedsampling/0_results/usavars/population/cluster_sampling_r2_scores.csv\n",
      "Fitting regression...\n",
      "NUM SAMPLES: 1000\n",
      "Best alpha: 3.593813663804626\n"
     ]
    },
    {
     "name": "stderr",
     "output_type": "stream",
     "text": [
      "Processing samples:  27%|██▋       | 108/401 [08:39<41:32,  8.51s/it]"
     ]
    },
    {
     "name": "stdout",
     "output_type": "stream",
     "text": [
      "0.5245557730362016\n",
      "[WRITE] Saved result from sample_10_state_county_county_desired_25ppc_1000_size_seed_456.pkl to /home/libe2152/optimizedsampling/0_results/usavars/population/cluster_sampling_r2_scores.csv\n",
      "Fitting regression...\n",
      "NUM SAMPLES: 1000\n",
      "Best alpha: 46.41588833612782\n"
     ]
    },
    {
     "name": "stderr",
     "output_type": "stream",
     "text": [
      "Processing samples:  27%|██▋       | 109/401 [08:48<41:21,  8.50s/it]"
     ]
    },
    {
     "name": "stdout",
     "output_type": "stream",
     "text": [
      "0.31870993163366834\n",
      "[WRITE] Saved result from sample_10_state_county_county_desired_25ppc_1000_size_seed_5678.pkl to /home/libe2152/optimizedsampling/0_results/usavars/population/cluster_sampling_r2_scores.csv\n",
      "Fitting regression...\n",
      "NUM SAMPLES: 1000\n",
      "Best alpha: 46.41588833612782\n"
     ]
    },
    {
     "name": "stderr",
     "output_type": "stream",
     "text": [
      "Processing samples:  27%|██▋       | 110/401 [08:56<41:15,  8.51s/it]"
     ]
    },
    {
     "name": "stdout",
     "output_type": "stream",
     "text": [
      "0.5424993698699057\n",
      "[WRITE] Saved result from sample_10_state_county_county_desired_25ppc_1000_size_seed_789.pkl to /home/libe2152/optimizedsampling/0_results/usavars/population/cluster_sampling_r2_scores.csv\n",
      "Fitting regression...\n",
      "NUM SAMPLES: 1000\n",
      "Best alpha: 3.593813663804626\n"
     ]
    },
    {
     "name": "stderr",
     "output_type": "stream",
     "text": [
      "Processing samples:  28%|██▊       | 111/401 [09:05<41:15,  8.54s/it]"
     ]
    },
    {
     "name": "stdout",
     "output_type": "stream",
     "text": [
      "0.4339675696626867\n",
      "[WRITE] Saved result from sample_10_state_county_county_desired_25ppc_1000_size_seed_9101.pkl to /home/libe2152/optimizedsampling/0_results/usavars/population/cluster_sampling_r2_scores.csv\n",
      "Fitting regression...\n",
      "NUM SAMPLES: 100\n",
      "Best alpha: 599.4842503189421\n"
     ]
    },
    {
     "name": "stderr",
     "output_type": "stream",
     "text": [
      "Processing samples:  28%|██▊       | 112/401 [09:06<29:34,  6.14s/it]"
     ]
    },
    {
     "name": "stdout",
     "output_type": "stream",
     "text": [
      "0.3040294295109751\n",
      "[WRITE] Saved result from sample_10_state_county_county_desired_25ppc_100_size_seed_1.pkl to /home/libe2152/optimizedsampling/0_results/usavars/population/cluster_sampling_r2_scores.csv\n",
      "Fitting regression...\n",
      "NUM SAMPLES: 100\n",
      "Best alpha: 46.41588833612782\n"
     ]
    },
    {
     "name": "stderr",
     "output_type": "stream",
     "text": [
      "Processing samples:  28%|██▊       | 113/401 [09:06<21:22,  4.45s/it]"
     ]
    },
    {
     "name": "stdout",
     "output_type": "stream",
     "text": [
      "0.059196424570024275\n",
      "[WRITE] Saved result from sample_10_state_county_county_desired_25ppc_100_size_seed_1213.pkl to /home/libe2152/optimizedsampling/0_results/usavars/population/cluster_sampling_r2_scores.csv\n",
      "Fitting regression...\n",
      "NUM SAMPLES: 100\n",
      "Best alpha: 46.41588833612782\n"
     ]
    },
    {
     "name": "stderr",
     "output_type": "stream",
     "text": [
      "Processing samples:  28%|██▊       | 114/401 [09:07<15:39,  3.27s/it]"
     ]
    },
    {
     "name": "stdout",
     "output_type": "stream",
     "text": [
      "0.3030876748149133\n",
      "[WRITE] Saved result from sample_10_state_county_county_desired_25ppc_100_size_seed_123.pkl to /home/libe2152/optimizedsampling/0_results/usavars/population/cluster_sampling_r2_scores.csv\n",
      "Fitting regression...\n",
      "NUM SAMPLES: 100\n",
      "Best alpha: 599.4842503189421\n"
     ]
    },
    {
     "name": "stderr",
     "output_type": "stream",
     "text": [
      "Processing samples:  29%|██▊       | 115/401 [09:07<11:38,  2.44s/it]"
     ]
    },
    {
     "name": "stdout",
     "output_type": "stream",
     "text": [
      "0.08931780715747761\n",
      "[WRITE] Saved result from sample_10_state_county_county_desired_25ppc_100_size_seed_1234.pkl to /home/libe2152/optimizedsampling/0_results/usavars/population/cluster_sampling_r2_scores.csv\n",
      "Fitting regression...\n",
      "NUM SAMPLES: 100\n",
      "Best alpha: 599.4842503189421\n"
     ]
    },
    {
     "name": "stderr",
     "output_type": "stream",
     "text": [
      "Processing samples:  29%|██▉       | 116/401 [09:08<08:51,  1.87s/it]"
     ]
    },
    {
     "name": "stdout",
     "output_type": "stream",
     "text": [
      "0.3804602338774631\n",
      "[WRITE] Saved result from sample_10_state_county_county_desired_25ppc_100_size_seed_1415.pkl to /home/libe2152/optimizedsampling/0_results/usavars/population/cluster_sampling_r2_scores.csv\n",
      "Fitting regression...\n",
      "NUM SAMPLES: 100\n",
      "Best alpha: 7742.636826811277\n"
     ]
    },
    {
     "name": "stderr",
     "output_type": "stream",
     "text": [
      "Processing samples:  29%|██▉       | 117/401 [09:08<06:57,  1.47s/it]"
     ]
    },
    {
     "name": "stdout",
     "output_type": "stream",
     "text": [
      "0.05406084729668914\n",
      "[WRITE] Saved result from sample_10_state_county_county_desired_25ppc_100_size_seed_42.pkl to /home/libe2152/optimizedsampling/0_results/usavars/population/cluster_sampling_r2_scores.csv\n",
      "Fitting regression...\n",
      "NUM SAMPLES: 100\n",
      "Best alpha: 599.4842503189421\n"
     ]
    },
    {
     "name": "stderr",
     "output_type": "stream",
     "text": [
      "Processing samples:  29%|██▉       | 118/401 [09:09<05:37,  1.19s/it]"
     ]
    },
    {
     "name": "stdout",
     "output_type": "stream",
     "text": [
      "0.2166792469344737\n",
      "[WRITE] Saved result from sample_10_state_county_county_desired_25ppc_100_size_seed_456.pkl to /home/libe2152/optimizedsampling/0_results/usavars/population/cluster_sampling_r2_scores.csv\n",
      "Fitting regression...\n",
      "NUM SAMPLES: 100\n",
      "Best alpha: 599.4842503189421\n"
     ]
    },
    {
     "name": "stderr",
     "output_type": "stream",
     "text": [
      "Processing samples:  30%|██▉       | 119/401 [09:09<04:38,  1.01it/s]"
     ]
    },
    {
     "name": "stdout",
     "output_type": "stream",
     "text": [
      "-0.9003951259886578\n",
      "[WRITE] Saved result from sample_10_state_county_county_desired_25ppc_100_size_seed_5678.pkl to /home/libe2152/optimizedsampling/0_results/usavars/population/cluster_sampling_r2_scores.csv\n",
      "Fitting regression...\n",
      "NUM SAMPLES: 100\n",
      "Best alpha: 46.41588833612782\n"
     ]
    },
    {
     "name": "stderr",
     "output_type": "stream",
     "text": [
      "Processing samples:  30%|██▉       | 120/401 [09:10<03:58,  1.18it/s]"
     ]
    },
    {
     "name": "stdout",
     "output_type": "stream",
     "text": [
      "0.011639254918172526\n",
      "[WRITE] Saved result from sample_10_state_county_county_desired_25ppc_100_size_seed_789.pkl to /home/libe2152/optimizedsampling/0_results/usavars/population/cluster_sampling_r2_scores.csv\n",
      "Fitting regression...\n",
      "NUM SAMPLES: 100\n",
      "Best alpha: 7742.636826811277\n"
     ]
    },
    {
     "name": "stderr",
     "output_type": "stream",
     "text": [
      "Processing samples:  30%|███       | 121/401 [09:10<03:29,  1.34it/s]"
     ]
    },
    {
     "name": "stdout",
     "output_type": "stream",
     "text": [
      "0.2794302042260005\n",
      "[WRITE] Saved result from sample_10_state_county_county_desired_25ppc_100_size_seed_9101.pkl to /home/libe2152/optimizedsampling/0_results/usavars/population/cluster_sampling_r2_scores.csv\n",
      "Fitting regression...\n",
      "NUM SAMPLES: 200\n",
      "Best alpha: 46.41588833612782\n"
     ]
    },
    {
     "name": "stderr",
     "output_type": "stream",
     "text": [
      "Processing samples:  30%|███       | 122/401 [09:12<04:53,  1.05s/it]"
     ]
    },
    {
     "name": "stdout",
     "output_type": "stream",
     "text": [
      "0.3391602922490381\n",
      "[WRITE] Saved result from sample_10_state_county_county_desired_25ppc_200_size_seed_1.pkl to /home/libe2152/optimizedsampling/0_results/usavars/population/cluster_sampling_r2_scores.csv\n",
      "Fitting regression...\n",
      "NUM SAMPLES: 200\n",
      "Best alpha: 599.4842503189421\n"
     ]
    },
    {
     "name": "stderr",
     "output_type": "stream",
     "text": [
      "Processing samples:  31%|███       | 123/401 [09:14<05:27,  1.18s/it]"
     ]
    },
    {
     "name": "stdout",
     "output_type": "stream",
     "text": [
      "0.3094098175896973\n",
      "[WRITE] Saved result from sample_10_state_county_county_desired_25ppc_200_size_seed_1213.pkl to /home/libe2152/optimizedsampling/0_results/usavars/population/cluster_sampling_r2_scores.csv\n",
      "Fitting regression...\n",
      "NUM SAMPLES: 200\n",
      "Best alpha: 599.4842503189421\n"
     ]
    },
    {
     "name": "stderr",
     "output_type": "stream",
     "text": [
      "Processing samples:  31%|███       | 124/401 [09:15<06:05,  1.32s/it]"
     ]
    },
    {
     "name": "stdout",
     "output_type": "stream",
     "text": [
      "0.34109644988665255\n",
      "[WRITE] Saved result from sample_10_state_county_county_desired_25ppc_200_size_seed_123.pkl to /home/libe2152/optimizedsampling/0_results/usavars/population/cluster_sampling_r2_scores.csv\n",
      "Fitting regression...\n",
      "NUM SAMPLES: 200\n",
      "Best alpha: 599.4842503189421\n"
     ]
    },
    {
     "name": "stderr",
     "output_type": "stream",
     "text": [
      "Processing samples:  31%|███       | 125/401 [09:17<06:45,  1.47s/it]"
     ]
    },
    {
     "name": "stdout",
     "output_type": "stream",
     "text": [
      "0.2304499801660831\n",
      "[WRITE] Saved result from sample_10_state_county_county_desired_25ppc_200_size_seed_1234.pkl to /home/libe2152/optimizedsampling/0_results/usavars/population/cluster_sampling_r2_scores.csv\n",
      "Fitting regression...\n",
      "NUM SAMPLES: 200\n",
      "Best alpha: 46.41588833612782\n"
     ]
    },
    {
     "name": "stderr",
     "output_type": "stream",
     "text": [
      "Processing samples:  31%|███▏      | 126/401 [09:19<07:24,  1.61s/it]"
     ]
    },
    {
     "name": "stdout",
     "output_type": "stream",
     "text": [
      "0.34423096527452257\n",
      "[WRITE] Saved result from sample_10_state_county_county_desired_25ppc_200_size_seed_1415.pkl to /home/libe2152/optimizedsampling/0_results/usavars/population/cluster_sampling_r2_scores.csv\n",
      "Fitting regression...\n",
      "NUM SAMPLES: 200\n",
      "Best alpha: 46.41588833612782\n"
     ]
    },
    {
     "name": "stderr",
     "output_type": "stream",
     "text": [
      "Processing samples:  32%|███▏      | 127/401 [09:21<07:22,  1.61s/it]"
     ]
    },
    {
     "name": "stdout",
     "output_type": "stream",
     "text": [
      "0.3222293069681418\n",
      "[WRITE] Saved result from sample_10_state_county_county_desired_25ppc_200_size_seed_42.pkl to /home/libe2152/optimizedsampling/0_results/usavars/population/cluster_sampling_r2_scores.csv\n",
      "Fitting regression...\n",
      "NUM SAMPLES: 200\n",
      "Best alpha: 46.41588833612782\n"
     ]
    },
    {
     "name": "stderr",
     "output_type": "stream",
     "text": [
      "Processing samples:  32%|███▏      | 128/401 [09:23<07:46,  1.71s/it]"
     ]
    },
    {
     "name": "stdout",
     "output_type": "stream",
     "text": [
      "0.46569952106521195\n",
      "[WRITE] Saved result from sample_10_state_county_county_desired_25ppc_200_size_seed_456.pkl to /home/libe2152/optimizedsampling/0_results/usavars/population/cluster_sampling_r2_scores.csv\n",
      "Fitting regression...\n",
      "NUM SAMPLES: 200\n",
      "Best alpha: 46.41588833612782\n"
     ]
    },
    {
     "name": "stderr",
     "output_type": "stream",
     "text": [
      "Processing samples:  32%|███▏      | 129/401 [09:24<07:37,  1.68s/it]"
     ]
    },
    {
     "name": "stdout",
     "output_type": "stream",
     "text": [
      "0.23472661461174904\n",
      "[WRITE] Saved result from sample_10_state_county_county_desired_25ppc_200_size_seed_5678.pkl to /home/libe2152/optimizedsampling/0_results/usavars/population/cluster_sampling_r2_scores.csv\n",
      "Fitting regression...\n",
      "NUM SAMPLES: 200\n",
      "Best alpha: 599.4842503189421\n"
     ]
    },
    {
     "name": "stderr",
     "output_type": "stream",
     "text": [
      "Processing samples:  32%|███▏      | 130/401 [09:26<07:28,  1.66s/it]"
     ]
    },
    {
     "name": "stdout",
     "output_type": "stream",
     "text": [
      "0.3721909374200537\n",
      "[WRITE] Saved result from sample_10_state_county_county_desired_25ppc_200_size_seed_789.pkl to /home/libe2152/optimizedsampling/0_results/usavars/population/cluster_sampling_r2_scores.csv\n",
      "Fitting regression...\n",
      "NUM SAMPLES: 200\n",
      "Best alpha: 599.4842503189421\n"
     ]
    },
    {
     "name": "stderr",
     "output_type": "stream",
     "text": [
      "Processing samples:  33%|███▎      | 131/401 [09:27<07:17,  1.62s/it]"
     ]
    },
    {
     "name": "stdout",
     "output_type": "stream",
     "text": [
      "0.3669222527442956\n",
      "[WRITE] Saved result from sample_10_state_county_county_desired_25ppc_200_size_seed_9101.pkl to /home/libe2152/optimizedsampling/0_results/usavars/population/cluster_sampling_r2_scores.csv\n",
      "Fitting regression...\n",
      "NUM SAMPLES: 300\n",
      "Best alpha: 46.41588833612782\n"
     ]
    },
    {
     "name": "stderr",
     "output_type": "stream",
     "text": [
      "Processing samples:  33%|███▎      | 132/401 [09:29<07:43,  1.72s/it]"
     ]
    },
    {
     "name": "stdout",
     "output_type": "stream",
     "text": [
      "0.39776451819387393\n",
      "[WRITE] Saved result from sample_10_state_county_county_desired_25ppc_300_size_seed_1.pkl to /home/libe2152/optimizedsampling/0_results/usavars/population/cluster_sampling_r2_scores.csv\n",
      "Fitting regression...\n",
      "NUM SAMPLES: 300\n",
      "Best alpha: 46.41588833612782\n"
     ]
    },
    {
     "name": "stderr",
     "output_type": "stream",
     "text": [
      "Processing samples:  33%|███▎      | 133/401 [09:31<08:10,  1.83s/it]"
     ]
    },
    {
     "name": "stdout",
     "output_type": "stream",
     "text": [
      "0.38439042814754565\n",
      "[WRITE] Saved result from sample_10_state_county_county_desired_25ppc_300_size_seed_1213.pkl to /home/libe2152/optimizedsampling/0_results/usavars/population/cluster_sampling_r2_scores.csv\n",
      "Fitting regression...\n",
      "NUM SAMPLES: 300\n",
      "Best alpha: 599.4842503189421\n"
     ]
    },
    {
     "name": "stderr",
     "output_type": "stream",
     "text": [
      "Processing samples:  33%|███▎      | 134/401 [09:33<08:25,  1.89s/it]"
     ]
    },
    {
     "name": "stdout",
     "output_type": "stream",
     "text": [
      "0.36668289451560876\n",
      "[WRITE] Saved result from sample_10_state_county_county_desired_25ppc_300_size_seed_123.pkl to /home/libe2152/optimizedsampling/0_results/usavars/population/cluster_sampling_r2_scores.csv\n",
      "Fitting regression...\n",
      "NUM SAMPLES: 300\n",
      "Best alpha: 599.4842503189421\n"
     ]
    },
    {
     "name": "stderr",
     "output_type": "stream",
     "text": [
      "Processing samples:  34%|███▎      | 135/401 [09:36<09:23,  2.12s/it]"
     ]
    },
    {
     "name": "stdout",
     "output_type": "stream",
     "text": [
      "0.3087278839051937\n",
      "[WRITE] Saved result from sample_10_state_county_county_desired_25ppc_300_size_seed_1234.pkl to /home/libe2152/optimizedsampling/0_results/usavars/population/cluster_sampling_r2_scores.csv\n",
      "Fitting regression...\n",
      "NUM SAMPLES: 300\n",
      "Best alpha: 3.593813663804626\n"
     ]
    },
    {
     "name": "stderr",
     "output_type": "stream",
     "text": [
      "Processing samples:  34%|███▍      | 136/401 [09:38<09:43,  2.20s/it]"
     ]
    },
    {
     "name": "stdout",
     "output_type": "stream",
     "text": [
      "0.268529613201148\n",
      "[WRITE] Saved result from sample_10_state_county_county_desired_25ppc_300_size_seed_1415.pkl to /home/libe2152/optimizedsampling/0_results/usavars/population/cluster_sampling_r2_scores.csv\n",
      "Fitting regression...\n",
      "NUM SAMPLES: 300\n",
      "Best alpha: 46.41588833612782\n"
     ]
    },
    {
     "name": "stderr",
     "output_type": "stream",
     "text": [
      "Processing samples:  34%|███▍      | 137/401 [09:40<09:26,  2.15s/it]"
     ]
    },
    {
     "name": "stdout",
     "output_type": "stream",
     "text": [
      "0.3003658056313139\n",
      "[WRITE] Saved result from sample_10_state_county_county_desired_25ppc_300_size_seed_42.pkl to /home/libe2152/optimizedsampling/0_results/usavars/population/cluster_sampling_r2_scores.csv\n",
      "Fitting regression...\n",
      "NUM SAMPLES: 300\n",
      "Best alpha: 3.593813663804626\n"
     ]
    },
    {
     "name": "stderr",
     "output_type": "stream",
     "text": [
      "Processing samples:  34%|███▍      | 138/401 [09:42<09:11,  2.10s/it]"
     ]
    },
    {
     "name": "stdout",
     "output_type": "stream",
     "text": [
      "0.4479613935975456\n",
      "[WRITE] Saved result from sample_10_state_county_county_desired_25ppc_300_size_seed_456.pkl to /home/libe2152/optimizedsampling/0_results/usavars/population/cluster_sampling_r2_scores.csv\n",
      "Fitting regression...\n",
      "NUM SAMPLES: 300\n",
      "Best alpha: 46.41588833612782\n"
     ]
    },
    {
     "name": "stderr",
     "output_type": "stream",
     "text": [
      "Processing samples:  35%|███▍      | 139/401 [09:45<09:11,  2.10s/it]"
     ]
    },
    {
     "name": "stdout",
     "output_type": "stream",
     "text": [
      "0.2921944181666164\n",
      "[WRITE] Saved result from sample_10_state_county_county_desired_25ppc_300_size_seed_5678.pkl to /home/libe2152/optimizedsampling/0_results/usavars/population/cluster_sampling_r2_scores.csv\n",
      "Fitting regression...\n",
      "NUM SAMPLES: 300\n",
      "Best alpha: 46.41588833612782\n"
     ]
    },
    {
     "name": "stderr",
     "output_type": "stream",
     "text": [
      "Processing samples:  35%|███▍      | 140/401 [09:47<09:02,  2.08s/it]"
     ]
    },
    {
     "name": "stdout",
     "output_type": "stream",
     "text": [
      "0.47040851465838174\n",
      "[WRITE] Saved result from sample_10_state_county_county_desired_25ppc_300_size_seed_789.pkl to /home/libe2152/optimizedsampling/0_results/usavars/population/cluster_sampling_r2_scores.csv\n",
      "Fitting regression...\n",
      "NUM SAMPLES: 300\n",
      "Best alpha: 46.41588833612782\n"
     ]
    },
    {
     "name": "stderr",
     "output_type": "stream",
     "text": [
      "Processing samples:  35%|███▌      | 141/401 [09:49<08:54,  2.06s/it]"
     ]
    },
    {
     "name": "stdout",
     "output_type": "stream",
     "text": [
      "0.431677484902394\n",
      "[WRITE] Saved result from sample_10_state_county_county_desired_25ppc_300_size_seed_9101.pkl to /home/libe2152/optimizedsampling/0_results/usavars/population/cluster_sampling_r2_scores.csv\n",
      "Fitting regression...\n",
      "NUM SAMPLES: 400\n",
      "Best alpha: 46.41588833612782\n"
     ]
    },
    {
     "name": "stderr",
     "output_type": "stream",
     "text": [
      "Processing samples:  35%|███▌      | 142/401 [09:52<10:15,  2.38s/it]"
     ]
    },
    {
     "name": "stdout",
     "output_type": "stream",
     "text": [
      "0.4505670768337403\n",
      "[WRITE] Saved result from sample_10_state_county_county_desired_25ppc_400_size_seed_1.pkl to /home/libe2152/optimizedsampling/0_results/usavars/population/cluster_sampling_r2_scores.csv\n",
      "Fitting regression...\n",
      "NUM SAMPLES: 400\n",
      "Best alpha: 46.41588833612782\n"
     ]
    },
    {
     "name": "stderr",
     "output_type": "stream",
     "text": [
      "Processing samples:  36%|███▌      | 143/401 [09:54<10:18,  2.40s/it]"
     ]
    },
    {
     "name": "stdout",
     "output_type": "stream",
     "text": [
      "0.3698899074609867\n",
      "[WRITE] Saved result from sample_10_state_county_county_desired_25ppc_400_size_seed_1213.pkl to /home/libe2152/optimizedsampling/0_results/usavars/population/cluster_sampling_r2_scores.csv\n",
      "Fitting regression...\n",
      "NUM SAMPLES: 400\n",
      "Best alpha: 46.41588833612782\n"
     ]
    },
    {
     "name": "stderr",
     "output_type": "stream",
     "text": [
      "Processing samples:  36%|███▌      | 144/401 [09:57<11:10,  2.61s/it]"
     ]
    },
    {
     "name": "stdout",
     "output_type": "stream",
     "text": [
      "0.2582939008832066\n",
      "[WRITE] Saved result from sample_10_state_county_county_desired_25ppc_400_size_seed_123.pkl to /home/libe2152/optimizedsampling/0_results/usavars/population/cluster_sampling_r2_scores.csv\n",
      "Fitting regression...\n",
      "NUM SAMPLES: 400\n",
      "Best alpha: 599.4842503189421\n"
     ]
    },
    {
     "name": "stderr",
     "output_type": "stream",
     "text": [
      "Processing samples:  36%|███▌      | 145/401 [10:00<11:10,  2.62s/it]"
     ]
    },
    {
     "name": "stdout",
     "output_type": "stream",
     "text": [
      "0.2989936988402059\n",
      "[WRITE] Saved result from sample_10_state_county_county_desired_25ppc_400_size_seed_1234.pkl to /home/libe2152/optimizedsampling/0_results/usavars/population/cluster_sampling_r2_scores.csv\n",
      "Fitting regression...\n",
      "NUM SAMPLES: 400\n",
      "Best alpha: 46.41588833612782\n"
     ]
    },
    {
     "name": "stderr",
     "output_type": "stream",
     "text": [
      "Processing samples:  36%|███▋      | 146/401 [10:02<10:59,  2.58s/it]"
     ]
    },
    {
     "name": "stdout",
     "output_type": "stream",
     "text": [
      "0.3361056838633699\n",
      "[WRITE] Saved result from sample_10_state_county_county_desired_25ppc_400_size_seed_1415.pkl to /home/libe2152/optimizedsampling/0_results/usavars/population/cluster_sampling_r2_scores.csv\n",
      "Fitting regression...\n",
      "NUM SAMPLES: 400\n",
      "Best alpha: 46.41588833612782\n"
     ]
    },
    {
     "name": "stderr",
     "output_type": "stream",
     "text": [
      "Processing samples:  37%|███▋      | 147/401 [10:05<10:41,  2.52s/it]"
     ]
    },
    {
     "name": "stdout",
     "output_type": "stream",
     "text": [
      "0.3761300308683029\n",
      "[WRITE] Saved result from sample_10_state_county_county_desired_25ppc_400_size_seed_42.pkl to /home/libe2152/optimizedsampling/0_results/usavars/population/cluster_sampling_r2_scores.csv\n",
      "Fitting regression...\n",
      "NUM SAMPLES: 400\n",
      "Best alpha: 3.593813663804626\n"
     ]
    },
    {
     "name": "stderr",
     "output_type": "stream",
     "text": [
      "Processing samples:  37%|███▋      | 148/401 [10:08<11:32,  2.74s/it]"
     ]
    },
    {
     "name": "stdout",
     "output_type": "stream",
     "text": [
      "0.4483094578153649\n",
      "[WRITE] Saved result from sample_10_state_county_county_desired_25ppc_400_size_seed_456.pkl to /home/libe2152/optimizedsampling/0_results/usavars/population/cluster_sampling_r2_scores.csv\n",
      "Fitting regression...\n",
      "NUM SAMPLES: 400\n",
      "Best alpha: 46.41588833612782\n"
     ]
    },
    {
     "name": "stderr",
     "output_type": "stream",
     "text": [
      "Processing samples:  37%|███▋      | 149/401 [10:11<11:22,  2.71s/it]"
     ]
    },
    {
     "name": "stdout",
     "output_type": "stream",
     "text": [
      "0.354399303859424\n",
      "[WRITE] Saved result from sample_10_state_county_county_desired_25ppc_400_size_seed_5678.pkl to /home/libe2152/optimizedsampling/0_results/usavars/population/cluster_sampling_r2_scores.csv\n",
      "Fitting regression...\n",
      "NUM SAMPLES: 400\n",
      "Best alpha: 46.41588833612782\n"
     ]
    },
    {
     "name": "stderr",
     "output_type": "stream",
     "text": [
      "Processing samples:  37%|███▋      | 150/401 [10:13<11:02,  2.64s/it]"
     ]
    },
    {
     "name": "stdout",
     "output_type": "stream",
     "text": [
      "0.47676015867149\n",
      "[WRITE] Saved result from sample_10_state_county_county_desired_25ppc_400_size_seed_789.pkl to /home/libe2152/optimizedsampling/0_results/usavars/population/cluster_sampling_r2_scores.csv\n",
      "Fitting regression...\n",
      "NUM SAMPLES: 400\n",
      "Best alpha: 46.41588833612782\n"
     ]
    },
    {
     "name": "stderr",
     "output_type": "stream",
     "text": [
      "Processing samples:  38%|███▊      | 151/401 [10:16<11:44,  2.82s/it]"
     ]
    },
    {
     "name": "stdout",
     "output_type": "stream",
     "text": [
      "0.4752713932191256\n",
      "[WRITE] Saved result from sample_10_state_county_county_desired_25ppc_400_size_seed_9101.pkl to /home/libe2152/optimizedsampling/0_results/usavars/population/cluster_sampling_r2_scores.csv\n",
      "Fitting regression...\n",
      "NUM SAMPLES: 500\n",
      "Best alpha: 46.41588833612782\n"
     ]
    },
    {
     "name": "stderr",
     "output_type": "stream",
     "text": [
      "Processing samples:  38%|███▊      | 152/401 [10:20<12:19,  2.97s/it]"
     ]
    },
    {
     "name": "stdout",
     "output_type": "stream",
     "text": [
      "0.4753747270604224\n",
      "[WRITE] Saved result from sample_10_state_county_county_desired_25ppc_500_size_seed_1.pkl to /home/libe2152/optimizedsampling/0_results/usavars/population/cluster_sampling_r2_scores.csv\n",
      "Fitting regression...\n",
      "NUM SAMPLES: 500\n",
      "Best alpha: 46.41588833612782\n"
     ]
    },
    {
     "name": "stderr",
     "output_type": "stream",
     "text": [
      "Processing samples:  38%|███▊      | 153/401 [10:24<13:29,  3.27s/it]"
     ]
    },
    {
     "name": "stdout",
     "output_type": "stream",
     "text": [
      "0.35401562831912514\n",
      "[WRITE] Saved result from sample_10_state_county_county_desired_25ppc_500_size_seed_1213.pkl to /home/libe2152/optimizedsampling/0_results/usavars/population/cluster_sampling_r2_scores.csv\n",
      "Fitting regression...\n",
      "NUM SAMPLES: 500\n",
      "Best alpha: 46.41588833612782\n"
     ]
    },
    {
     "name": "stderr",
     "output_type": "stream",
     "text": [
      "Processing samples:  38%|███▊      | 154/401 [10:27<13:12,  3.21s/it]"
     ]
    },
    {
     "name": "stdout",
     "output_type": "stream",
     "text": [
      "0.3656349880381322\n",
      "[WRITE] Saved result from sample_10_state_county_county_desired_25ppc_500_size_seed_123.pkl to /home/libe2152/optimizedsampling/0_results/usavars/population/cluster_sampling_r2_scores.csv\n",
      "Fitting regression...\n",
      "NUM SAMPLES: 500\n",
      "Best alpha: 599.4842503189421\n"
     ]
    },
    {
     "name": "stderr",
     "output_type": "stream",
     "text": [
      "Processing samples:  39%|███▊      | 155/401 [10:31<13:59,  3.41s/it]"
     ]
    },
    {
     "name": "stdout",
     "output_type": "stream",
     "text": [
      "0.282561222051552\n",
      "[WRITE] Saved result from sample_10_state_county_county_desired_25ppc_500_size_seed_1234.pkl to /home/libe2152/optimizedsampling/0_results/usavars/population/cluster_sampling_r2_scores.csv\n",
      "Fitting regression...\n",
      "NUM SAMPLES: 500\n",
      "Best alpha: 46.41588833612782\n"
     ]
    },
    {
     "name": "stderr",
     "output_type": "stream",
     "text": [
      "Processing samples:  39%|███▉      | 156/401 [10:34<14:05,  3.45s/it]"
     ]
    },
    {
     "name": "stdout",
     "output_type": "stream",
     "text": [
      "0.3951050966691949\n",
      "[WRITE] Saved result from sample_10_state_county_county_desired_25ppc_500_size_seed_1415.pkl to /home/libe2152/optimizedsampling/0_results/usavars/population/cluster_sampling_r2_scores.csv\n",
      "Fitting regression...\n",
      "NUM SAMPLES: 500\n",
      "Best alpha: 46.41588833612782\n"
     ]
    },
    {
     "name": "stderr",
     "output_type": "stream",
     "text": [
      "Processing samples:  39%|███▉      | 157/401 [10:38<13:58,  3.43s/it]"
     ]
    },
    {
     "name": "stdout",
     "output_type": "stream",
     "text": [
      "0.421514194483688\n",
      "[WRITE] Saved result from sample_10_state_county_county_desired_25ppc_500_size_seed_42.pkl to /home/libe2152/optimizedsampling/0_results/usavars/population/cluster_sampling_r2_scores.csv\n",
      "Fitting regression...\n",
      "NUM SAMPLES: 500\n",
      "Best alpha: 46.41588833612782\n"
     ]
    },
    {
     "name": "stderr",
     "output_type": "stream",
     "text": [
      "Processing samples:  39%|███▉      | 158/401 [10:41<13:55,  3.44s/it]"
     ]
    },
    {
     "name": "stdout",
     "output_type": "stream",
     "text": [
      "0.486127038335439\n",
      "[WRITE] Saved result from sample_10_state_county_county_desired_25ppc_500_size_seed_456.pkl to /home/libe2152/optimizedsampling/0_results/usavars/population/cluster_sampling_r2_scores.csv\n",
      "Fitting regression...\n",
      "NUM SAMPLES: 500\n",
      "Best alpha: 46.41588833612782\n"
     ]
    },
    {
     "name": "stderr",
     "output_type": "stream",
     "text": [
      "Processing samples:  40%|███▉      | 159/401 [10:44<13:18,  3.30s/it]"
     ]
    },
    {
     "name": "stdout",
     "output_type": "stream",
     "text": [
      "0.4021481387518012\n",
      "[WRITE] Saved result from sample_10_state_county_county_desired_25ppc_500_size_seed_5678.pkl to /home/libe2152/optimizedsampling/0_results/usavars/population/cluster_sampling_r2_scores.csv\n",
      "Fitting regression...\n",
      "NUM SAMPLES: 500\n",
      "Best alpha: 46.41588833612782\n"
     ]
    },
    {
     "name": "stderr",
     "output_type": "stream",
     "text": [
      "Processing samples:  40%|███▉      | 160/401 [10:47<13:25,  3.34s/it]"
     ]
    },
    {
     "name": "stdout",
     "output_type": "stream",
     "text": [
      "0.4340668522399047\n",
      "[WRITE] Saved result from sample_10_state_county_county_desired_25ppc_500_size_seed_789.pkl to /home/libe2152/optimizedsampling/0_results/usavars/population/cluster_sampling_r2_scores.csv\n",
      "Fitting regression...\n",
      "NUM SAMPLES: 500\n",
      "Best alpha: 46.41588833612782\n"
     ]
    },
    {
     "name": "stderr",
     "output_type": "stream",
     "text": [
      "Processing samples:  40%|████      | 161/401 [10:51<13:29,  3.37s/it]"
     ]
    },
    {
     "name": "stdout",
     "output_type": "stream",
     "text": [
      "0.47881244933086076\n",
      "[WRITE] Saved result from sample_10_state_county_county_desired_25ppc_500_size_seed_9101.pkl to /home/libe2152/optimizedsampling/0_results/usavars/population/cluster_sampling_r2_scores.csv\n",
      "Fitting regression...\n",
      "NUM SAMPLES: 600\n",
      "Best alpha: 46.41588833612782\n"
     ]
    },
    {
     "name": "stderr",
     "output_type": "stream",
     "text": [
      "Processing samples:  40%|████      | 162/401 [10:56<15:57,  4.01s/it]"
     ]
    },
    {
     "name": "stdout",
     "output_type": "stream",
     "text": [
      "0.47870858569841745\n",
      "[WRITE] Saved result from sample_10_state_county_county_desired_25ppc_600_size_seed_1.pkl to /home/libe2152/optimizedsampling/0_results/usavars/population/cluster_sampling_r2_scores.csv\n",
      "Fitting regression...\n",
      "NUM SAMPLES: 600\n",
      "Best alpha: 46.41588833612782\n"
     ]
    },
    {
     "name": "stderr",
     "output_type": "stream",
     "text": [
      "Processing samples:  41%|████      | 163/401 [11:01<16:25,  4.14s/it]"
     ]
    },
    {
     "name": "stdout",
     "output_type": "stream",
     "text": [
      "0.4048370175379308\n",
      "[WRITE] Saved result from sample_10_state_county_county_desired_25ppc_600_size_seed_1213.pkl to /home/libe2152/optimizedsampling/0_results/usavars/population/cluster_sampling_r2_scores.csv\n",
      "Fitting regression...\n",
      "NUM SAMPLES: 600\n",
      "Best alpha: 46.41588833612782\n"
     ]
    },
    {
     "name": "stderr",
     "output_type": "stream",
     "text": [
      "Processing samples:  41%|████      | 164/401 [11:07<19:08,  4.84s/it]"
     ]
    },
    {
     "name": "stdout",
     "output_type": "stream",
     "text": [
      "0.42936091077016625\n",
      "[WRITE] Saved result from sample_10_state_county_county_desired_25ppc_600_size_seed_123.pkl to /home/libe2152/optimizedsampling/0_results/usavars/population/cluster_sampling_r2_scores.csv\n",
      "Fitting regression...\n",
      "NUM SAMPLES: 600\n",
      "Best alpha: 599.4842503189421\n"
     ]
    },
    {
     "name": "stderr",
     "output_type": "stream",
     "text": [
      "Processing samples:  41%|████      | 165/401 [11:14<20:48,  5.29s/it]"
     ]
    },
    {
     "name": "stdout",
     "output_type": "stream",
     "text": [
      "0.27889277366912146\n",
      "[WRITE] Saved result from sample_10_state_county_county_desired_25ppc_600_size_seed_1234.pkl to /home/libe2152/optimizedsampling/0_results/usavars/population/cluster_sampling_r2_scores.csv\n",
      "Fitting regression...\n",
      "NUM SAMPLES: 600\n",
      "Best alpha: 46.41588833612782\n"
     ]
    },
    {
     "name": "stderr",
     "output_type": "stream",
     "text": [
      "Processing samples:  41%|████▏     | 166/401 [11:19<21:28,  5.48s/it]"
     ]
    },
    {
     "name": "stdout",
     "output_type": "stream",
     "text": [
      "0.3634468980542892\n",
      "[WRITE] Saved result from sample_10_state_county_county_desired_25ppc_600_size_seed_1415.pkl to /home/libe2152/optimizedsampling/0_results/usavars/population/cluster_sampling_r2_scores.csv\n",
      "Fitting regression...\n",
      "NUM SAMPLES: 600\n",
      "Best alpha: 46.41588833612782\n"
     ]
    },
    {
     "name": "stderr",
     "output_type": "stream",
     "text": [
      "Processing samples:  42%|████▏     | 167/401 [11:25<20:50,  5.34s/it]"
     ]
    },
    {
     "name": "stdout",
     "output_type": "stream",
     "text": [
      "0.443515684330694\n",
      "[WRITE] Saved result from sample_10_state_county_county_desired_25ppc_600_size_seed_42.pkl to /home/libe2152/optimizedsampling/0_results/usavars/population/cluster_sampling_r2_scores.csv\n",
      "Fitting regression...\n",
      "NUM SAMPLES: 600\n",
      "Best alpha: 3.593813663804626\n"
     ]
    },
    {
     "name": "stderr",
     "output_type": "stream",
     "text": [
      "Processing samples:  42%|████▏     | 168/401 [11:29<19:39,  5.06s/it]"
     ]
    },
    {
     "name": "stdout",
     "output_type": "stream",
     "text": [
      "0.477417991990128\n",
      "[WRITE] Saved result from sample_10_state_county_county_desired_25ppc_600_size_seed_456.pkl to /home/libe2152/optimizedsampling/0_results/usavars/population/cluster_sampling_r2_scores.csv\n",
      "Fitting regression...\n",
      "NUM SAMPLES: 600\n",
      "Best alpha: 46.41588833612782\n"
     ]
    },
    {
     "name": "stderr",
     "output_type": "stream",
     "text": [
      "Processing samples:  42%|████▏     | 169/401 [11:35<20:32,  5.31s/it]"
     ]
    },
    {
     "name": "stdout",
     "output_type": "stream",
     "text": [
      "0.29749716912414514\n",
      "[WRITE] Saved result from sample_10_state_county_county_desired_25ppc_600_size_seed_5678.pkl to /home/libe2152/optimizedsampling/0_results/usavars/population/cluster_sampling_r2_scores.csv\n",
      "Fitting regression...\n",
      "NUM SAMPLES: 600\n",
      "Best alpha: 46.41588833612782\n"
     ]
    },
    {
     "name": "stderr",
     "output_type": "stream",
     "text": [
      "Processing samples:  42%|████▏     | 170/401 [11:40<20:31,  5.33s/it]"
     ]
    },
    {
     "name": "stdout",
     "output_type": "stream",
     "text": [
      "0.5190693545205658\n",
      "[WRITE] Saved result from sample_10_state_county_county_desired_25ppc_600_size_seed_789.pkl to /home/libe2152/optimizedsampling/0_results/usavars/population/cluster_sampling_r2_scores.csv\n",
      "Fitting regression...\n",
      "NUM SAMPLES: 600\n",
      "Best alpha: 46.41588833612782\n"
     ]
    },
    {
     "name": "stderr",
     "output_type": "stream",
     "text": [
      "Processing samples:  43%|████▎     | 171/401 [11:44<19:04,  4.98s/it]"
     ]
    },
    {
     "name": "stdout",
     "output_type": "stream",
     "text": [
      "0.47870111413893635\n",
      "[WRITE] Saved result from sample_10_state_county_county_desired_25ppc_600_size_seed_9101.pkl to /home/libe2152/optimizedsampling/0_results/usavars/population/cluster_sampling_r2_scores.csv\n",
      "Fitting regression...\n",
      "NUM SAMPLES: 700\n",
      "Best alpha: 599.4842503189421\n"
     ]
    },
    {
     "name": "stderr",
     "output_type": "stream",
     "text": [
      "Processing samples:  43%|████▎     | 172/401 [11:50<19:52,  5.21s/it]"
     ]
    },
    {
     "name": "stdout",
     "output_type": "stream",
     "text": [
      "0.49068663531880397\n",
      "[WRITE] Saved result from sample_10_state_county_county_desired_25ppc_700_size_seed_1.pkl to /home/libe2152/optimizedsampling/0_results/usavars/population/cluster_sampling_r2_scores.csv\n",
      "Fitting regression...\n",
      "NUM SAMPLES: 700\n",
      "Best alpha: 46.41588833612782\n"
     ]
    },
    {
     "name": "stderr",
     "output_type": "stream",
     "text": [
      "Processing samples:  43%|████▎     | 173/401 [11:55<19:44,  5.19s/it]"
     ]
    },
    {
     "name": "stdout",
     "output_type": "stream",
     "text": [
      "0.37596796319593395\n",
      "[WRITE] Saved result from sample_10_state_county_county_desired_25ppc_700_size_seed_1213.pkl to /home/libe2152/optimizedsampling/0_results/usavars/population/cluster_sampling_r2_scores.csv\n",
      "Fitting regression...\n",
      "NUM SAMPLES: 700\n",
      "Best alpha: 46.41588833612782\n"
     ]
    },
    {
     "name": "stderr",
     "output_type": "stream",
     "text": [
      "Processing samples:  43%|████▎     | 174/401 [12:01<19:51,  5.25s/it]"
     ]
    },
    {
     "name": "stdout",
     "output_type": "stream",
     "text": [
      "0.425436676029464\n",
      "[WRITE] Saved result from sample_10_state_county_county_desired_25ppc_700_size_seed_123.pkl to /home/libe2152/optimizedsampling/0_results/usavars/population/cluster_sampling_r2_scores.csv\n",
      "Fitting regression...\n",
      "NUM SAMPLES: 700\n",
      "Best alpha: 599.4842503189421\n"
     ]
    },
    {
     "name": "stderr",
     "output_type": "stream",
     "text": [
      "Processing samples:  44%|████▎     | 175/401 [12:06<20:27,  5.43s/it]"
     ]
    },
    {
     "name": "stdout",
     "output_type": "stream",
     "text": [
      "0.28021087597106076\n",
      "[WRITE] Saved result from sample_10_state_county_county_desired_25ppc_700_size_seed_1234.pkl to /home/libe2152/optimizedsampling/0_results/usavars/population/cluster_sampling_r2_scores.csv\n",
      "Fitting regression...\n",
      "NUM SAMPLES: 700\n",
      "Best alpha: 46.41588833612782\n"
     ]
    },
    {
     "name": "stderr",
     "output_type": "stream",
     "text": [
      "Processing samples:  44%|████▍     | 176/401 [12:12<20:25,  5.45s/it]"
     ]
    },
    {
     "name": "stdout",
     "output_type": "stream",
     "text": [
      "0.3775876277251572\n",
      "[WRITE] Saved result from sample_10_state_county_county_desired_25ppc_700_size_seed_1415.pkl to /home/libe2152/optimizedsampling/0_results/usavars/population/cluster_sampling_r2_scores.csv\n",
      "Fitting regression...\n",
      "NUM SAMPLES: 700\n",
      "Best alpha: 46.41588833612782\n"
     ]
    },
    {
     "name": "stderr",
     "output_type": "stream",
     "text": [
      "Processing samples:  44%|████▍     | 177/401 [12:18<21:16,  5.70s/it]"
     ]
    },
    {
     "name": "stdout",
     "output_type": "stream",
     "text": [
      "0.4530537845212784\n",
      "[WRITE] Saved result from sample_10_state_county_county_desired_25ppc_700_size_seed_42.pkl to /home/libe2152/optimizedsampling/0_results/usavars/population/cluster_sampling_r2_scores.csv\n",
      "Fitting regression...\n",
      "NUM SAMPLES: 700\n",
      "Best alpha: 3.593813663804626\n"
     ]
    },
    {
     "name": "stderr",
     "output_type": "stream",
     "text": [
      "Processing samples:  44%|████▍     | 178/401 [12:23<20:34,  5.54s/it]"
     ]
    },
    {
     "name": "stdout",
     "output_type": "stream",
     "text": [
      "0.4796718072554472\n",
      "[WRITE] Saved result from sample_10_state_county_county_desired_25ppc_700_size_seed_456.pkl to /home/libe2152/optimizedsampling/0_results/usavars/population/cluster_sampling_r2_scores.csv\n",
      "Fitting regression...\n",
      "NUM SAMPLES: 700\n",
      "Best alpha: 46.41588833612782\n"
     ]
    },
    {
     "name": "stderr",
     "output_type": "stream",
     "text": [
      "Processing samples:  45%|████▍     | 179/401 [12:29<20:35,  5.57s/it]"
     ]
    },
    {
     "name": "stdout",
     "output_type": "stream",
     "text": [
      "0.3068487827953571\n",
      "[WRITE] Saved result from sample_10_state_county_county_desired_25ppc_700_size_seed_5678.pkl to /home/libe2152/optimizedsampling/0_results/usavars/population/cluster_sampling_r2_scores.csv\n",
      "Fitting regression...\n",
      "NUM SAMPLES: 700\n",
      "Best alpha: 599.4842503189421\n"
     ]
    },
    {
     "name": "stderr",
     "output_type": "stream",
     "text": [
      "Processing samples:  45%|████▍     | 180/401 [12:34<20:17,  5.51s/it]"
     ]
    },
    {
     "name": "stdout",
     "output_type": "stream",
     "text": [
      "0.47086391798770866\n",
      "[WRITE] Saved result from sample_10_state_county_county_desired_25ppc_700_size_seed_789.pkl to /home/libe2152/optimizedsampling/0_results/usavars/population/cluster_sampling_r2_scores.csv\n",
      "Fitting regression...\n",
      "NUM SAMPLES: 700\n",
      "Best alpha: 46.41588833612782\n"
     ]
    },
    {
     "name": "stderr",
     "output_type": "stream",
     "text": [
      "Processing samples:  45%|████▌     | 181/401 [12:40<20:41,  5.64s/it]"
     ]
    },
    {
     "name": "stdout",
     "output_type": "stream",
     "text": [
      "0.4805811622667724\n",
      "[WRITE] Saved result from sample_10_state_county_county_desired_25ppc_700_size_seed_9101.pkl to /home/libe2152/optimizedsampling/0_results/usavars/population/cluster_sampling_r2_scores.csv\n",
      "Fitting regression...\n",
      "NUM SAMPLES: 800\n",
      "Best alpha: 599.4842503189421\n"
     ]
    },
    {
     "name": "stderr",
     "output_type": "stream",
     "text": [
      "Processing samples:  45%|████▌     | 182/401 [12:47<22:12,  6.08s/it]"
     ]
    },
    {
     "name": "stdout",
     "output_type": "stream",
     "text": [
      "0.5002834224337058\n",
      "[WRITE] Saved result from sample_10_state_county_county_desired_25ppc_800_size_seed_1.pkl to /home/libe2152/optimizedsampling/0_results/usavars/population/cluster_sampling_r2_scores.csv\n",
      "Fitting regression...\n",
      "NUM SAMPLES: 800\n",
      "Best alpha: 46.41588833612782\n"
     ]
    },
    {
     "name": "stderr",
     "output_type": "stream",
     "text": [
      "Processing samples:  46%|████▌     | 183/401 [12:55<23:23,  6.44s/it]"
     ]
    },
    {
     "name": "stdout",
     "output_type": "stream",
     "text": [
      "0.40664893019992165\n",
      "[WRITE] Saved result from sample_10_state_county_county_desired_25ppc_800_size_seed_1213.pkl to /home/libe2152/optimizedsampling/0_results/usavars/population/cluster_sampling_r2_scores.csv\n",
      "Fitting regression...\n",
      "NUM SAMPLES: 800\n",
      "Best alpha: 3.593813663804626\n"
     ]
    },
    {
     "name": "stderr",
     "output_type": "stream",
     "text": [
      "Processing samples:  46%|████▌     | 184/401 [13:02<23:56,  6.62s/it]"
     ]
    },
    {
     "name": "stdout",
     "output_type": "stream",
     "text": [
      "0.4245298863761734\n",
      "[WRITE] Saved result from sample_10_state_county_county_desired_25ppc_800_size_seed_123.pkl to /home/libe2152/optimizedsampling/0_results/usavars/population/cluster_sampling_r2_scores.csv\n",
      "Fitting regression...\n",
      "NUM SAMPLES: 800\n",
      "Best alpha: 46.41588833612782\n"
     ]
    },
    {
     "name": "stderr",
     "output_type": "stream",
     "text": [
      "Processing samples:  46%|████▌     | 185/401 [13:09<24:36,  6.83s/it]"
     ]
    },
    {
     "name": "stdout",
     "output_type": "stream",
     "text": [
      "0.3898222480653254\n",
      "[WRITE] Saved result from sample_10_state_county_county_desired_25ppc_800_size_seed_1234.pkl to /home/libe2152/optimizedsampling/0_results/usavars/population/cluster_sampling_r2_scores.csv\n",
      "Fitting regression...\n",
      "NUM SAMPLES: 800\n",
      "Best alpha: 46.41588833612782\n"
     ]
    },
    {
     "name": "stderr",
     "output_type": "stream",
     "text": [
      "Processing samples:  46%|████▋     | 186/401 [13:16<24:43,  6.90s/it]"
     ]
    },
    {
     "name": "stdout",
     "output_type": "stream",
     "text": [
      "0.41020366502802685\n",
      "[WRITE] Saved result from sample_10_state_county_county_desired_25ppc_800_size_seed_1415.pkl to /home/libe2152/optimizedsampling/0_results/usavars/population/cluster_sampling_r2_scores.csv\n",
      "Fitting regression...\n",
      "NUM SAMPLES: 800\n",
      "Best alpha: 46.41588833612782\n"
     ]
    },
    {
     "name": "stderr",
     "output_type": "stream",
     "text": [
      "Processing samples:  47%|████▋     | 187/401 [13:23<24:45,  6.94s/it]"
     ]
    },
    {
     "name": "stdout",
     "output_type": "stream",
     "text": [
      "0.4517715676407723\n",
      "[WRITE] Saved result from sample_10_state_county_county_desired_25ppc_800_size_seed_42.pkl to /home/libe2152/optimizedsampling/0_results/usavars/population/cluster_sampling_r2_scores.csv\n",
      "Fitting regression...\n",
      "NUM SAMPLES: 800\n",
      "Best alpha: 3.593813663804626\n"
     ]
    },
    {
     "name": "stderr",
     "output_type": "stream",
     "text": [
      "Processing samples:  47%|████▋     | 188/401 [13:31<25:15,  7.12s/it]"
     ]
    },
    {
     "name": "stdout",
     "output_type": "stream",
     "text": [
      "0.5054381983675131\n",
      "[WRITE] Saved result from sample_10_state_county_county_desired_25ppc_800_size_seed_456.pkl to /home/libe2152/optimizedsampling/0_results/usavars/population/cluster_sampling_r2_scores.csv\n",
      "Fitting regression...\n",
      "NUM SAMPLES: 800\n",
      "Best alpha: 46.41588833612782\n"
     ]
    },
    {
     "name": "stderr",
     "output_type": "stream",
     "text": [
      "Processing samples:  47%|████▋     | 189/401 [13:37<24:41,  6.99s/it]"
     ]
    },
    {
     "name": "stdout",
     "output_type": "stream",
     "text": [
      "0.33367885407115383\n",
      "[WRITE] Saved result from sample_10_state_county_county_desired_25ppc_800_size_seed_5678.pkl to /home/libe2152/optimizedsampling/0_results/usavars/population/cluster_sampling_r2_scores.csv\n",
      "Fitting regression...\n",
      "NUM SAMPLES: 800\n",
      "Best alpha: 46.41588833612782\n"
     ]
    },
    {
     "name": "stderr",
     "output_type": "stream",
     "text": [
      "Processing samples:  47%|████▋     | 190/401 [13:45<24:48,  7.05s/it]"
     ]
    },
    {
     "name": "stdout",
     "output_type": "stream",
     "text": [
      "0.5125409590940098\n",
      "[WRITE] Saved result from sample_10_state_county_county_desired_25ppc_800_size_seed_789.pkl to /home/libe2152/optimizedsampling/0_results/usavars/population/cluster_sampling_r2_scores.csv\n",
      "Fitting regression...\n",
      "NUM SAMPLES: 800\n",
      "Best alpha: 46.41588833612782\n"
     ]
    },
    {
     "name": "stderr",
     "output_type": "stream",
     "text": [
      "Processing samples:  48%|████▊     | 191/401 [13:52<24:30,  7.00s/it]"
     ]
    },
    {
     "name": "stdout",
     "output_type": "stream",
     "text": [
      "0.4883482516609998\n",
      "[WRITE] Saved result from sample_10_state_county_county_desired_25ppc_800_size_seed_9101.pkl to /home/libe2152/optimizedsampling/0_results/usavars/population/cluster_sampling_r2_scores.csv\n",
      "Fitting regression...\n",
      "NUM SAMPLES: 900\n",
      "Best alpha: 46.41588833612782\n"
     ]
    },
    {
     "name": "stderr",
     "output_type": "stream",
     "text": [
      "Processing samples:  48%|████▊     | 192/401 [13:59<25:23,  7.29s/it]"
     ]
    },
    {
     "name": "stdout",
     "output_type": "stream",
     "text": [
      "0.5171644754401398\n",
      "[WRITE] Saved result from sample_10_state_county_county_desired_25ppc_900_size_seed_1.pkl to /home/libe2152/optimizedsampling/0_results/usavars/population/cluster_sampling_r2_scores.csv\n",
      "Fitting regression...\n",
      "NUM SAMPLES: 900\n",
      "Best alpha: 46.41588833612782\n"
     ]
    },
    {
     "name": "stderr",
     "output_type": "stream",
     "text": [
      "Processing samples:  48%|████▊     | 193/401 [14:07<25:58,  7.49s/it]"
     ]
    },
    {
     "name": "stdout",
     "output_type": "stream",
     "text": [
      "0.409747384100154\n",
      "[WRITE] Saved result from sample_10_state_county_county_desired_25ppc_900_size_seed_1213.pkl to /home/libe2152/optimizedsampling/0_results/usavars/population/cluster_sampling_r2_scores.csv\n",
      "Fitting regression...\n",
      "NUM SAMPLES: 900\n",
      "Best alpha: 46.41588833612782\n"
     ]
    },
    {
     "name": "stderr",
     "output_type": "stream",
     "text": [
      "Processing samples:  48%|████▊     | 194/401 [14:15<26:23,  7.65s/it]"
     ]
    },
    {
     "name": "stdout",
     "output_type": "stream",
     "text": [
      "0.5030323290358951\n",
      "[WRITE] Saved result from sample_10_state_county_county_desired_25ppc_900_size_seed_123.pkl to /home/libe2152/optimizedsampling/0_results/usavars/population/cluster_sampling_r2_scores.csv\n",
      "Fitting regression...\n",
      "NUM SAMPLES: 900\n",
      "Best alpha: 599.4842503189421\n"
     ]
    },
    {
     "name": "stderr",
     "output_type": "stream",
     "text": [
      "Processing samples:  49%|████▊     | 195/401 [14:23<26:16,  7.65s/it]"
     ]
    },
    {
     "name": "stdout",
     "output_type": "stream",
     "text": [
      "0.41447548681149027\n",
      "[WRITE] Saved result from sample_10_state_county_county_desired_25ppc_900_size_seed_1234.pkl to /home/libe2152/optimizedsampling/0_results/usavars/population/cluster_sampling_r2_scores.csv\n",
      "Fitting regression...\n",
      "NUM SAMPLES: 900\n",
      "Best alpha: 46.41588833612782\n"
     ]
    },
    {
     "name": "stderr",
     "output_type": "stream",
     "text": [
      "Processing samples:  49%|████▉     | 196/401 [14:31<26:30,  7.76s/it]"
     ]
    },
    {
     "name": "stdout",
     "output_type": "stream",
     "text": [
      "0.4325638023954377\n",
      "[WRITE] Saved result from sample_10_state_county_county_desired_25ppc_900_size_seed_1415.pkl to /home/libe2152/optimizedsampling/0_results/usavars/population/cluster_sampling_r2_scores.csv\n",
      "Fitting regression...\n",
      "NUM SAMPLES: 900\n",
      "Best alpha: 46.41588833612782\n"
     ]
    },
    {
     "name": "stderr",
     "output_type": "stream",
     "text": [
      "Processing samples:  49%|████▉     | 197/401 [14:39<26:30,  7.80s/it]"
     ]
    },
    {
     "name": "stdout",
     "output_type": "stream",
     "text": [
      "0.4670670113566203\n",
      "[WRITE] Saved result from sample_10_state_county_county_desired_25ppc_900_size_seed_42.pkl to /home/libe2152/optimizedsampling/0_results/usavars/population/cluster_sampling_r2_scores.csv\n",
      "Fitting regression...\n",
      "NUM SAMPLES: 900\n",
      "Best alpha: 3.593813663804626\n"
     ]
    },
    {
     "name": "stderr",
     "output_type": "stream",
     "text": [
      "Processing samples:  49%|████▉     | 198/401 [14:47<26:22,  7.80s/it]"
     ]
    },
    {
     "name": "stdout",
     "output_type": "stream",
     "text": [
      "0.4765996356513065\n",
      "[WRITE] Saved result from sample_10_state_county_county_desired_25ppc_900_size_seed_456.pkl to /home/libe2152/optimizedsampling/0_results/usavars/population/cluster_sampling_r2_scores.csv\n",
      "Fitting regression...\n",
      "NUM SAMPLES: 900\n",
      "Best alpha: 46.41588833612782\n"
     ]
    },
    {
     "name": "stderr",
     "output_type": "stream",
     "text": [
      "Processing samples:  50%|████▉     | 199/401 [14:55<26:39,  7.92s/it]"
     ]
    },
    {
     "name": "stdout",
     "output_type": "stream",
     "text": [
      "0.36713627495712664\n",
      "[WRITE] Saved result from sample_10_state_county_county_desired_25ppc_900_size_seed_5678.pkl to /home/libe2152/optimizedsampling/0_results/usavars/population/cluster_sampling_r2_scores.csv\n",
      "Fitting regression...\n",
      "NUM SAMPLES: 900\n",
      "Best alpha: 46.41588833612782\n"
     ]
    },
    {
     "name": "stderr",
     "output_type": "stream",
     "text": [
      "Processing samples:  50%|████▉     | 200/401 [15:03<26:37,  7.95s/it]"
     ]
    },
    {
     "name": "stdout",
     "output_type": "stream",
     "text": [
      "0.5242360178212229\n",
      "[WRITE] Saved result from sample_10_state_county_county_desired_25ppc_900_size_seed_789.pkl to /home/libe2152/optimizedsampling/0_results/usavars/population/cluster_sampling_r2_scores.csv\n",
      "Fitting regression...\n",
      "NUM SAMPLES: 900\n",
      "Best alpha: 46.41588833612782\n"
     ]
    },
    {
     "name": "stderr",
     "output_type": "stream",
     "text": [
      "Processing samples:  50%|█████     | 201/401 [15:11<26:24,  7.92s/it]"
     ]
    },
    {
     "name": "stdout",
     "output_type": "stream",
     "text": [
      "0.4649329757327606\n",
      "[WRITE] Saved result from sample_10_state_county_county_desired_25ppc_900_size_seed_9101.pkl to /home/libe2152/optimizedsampling/0_results/usavars/population/cluster_sampling_r2_scores.csv\n",
      "Fitting regression...\n",
      "NUM SAMPLES: 1000\n",
      "Best alpha: 46.41588833612782\n"
     ]
    },
    {
     "name": "stderr",
     "output_type": "stream",
     "text": [
      "Processing samples:  50%|█████     | 202/401 [15:19<26:29,  7.99s/it]"
     ]
    },
    {
     "name": "stdout",
     "output_type": "stream",
     "text": [
      "0.5231392899235388\n",
      "[WRITE] Saved result from sample_10_state_county_county_desired_2ppc_1000_size_seed_1.pkl to /home/libe2152/optimizedsampling/0_results/usavars/population/cluster_sampling_r2_scores.csv\n",
      "Fitting regression...\n",
      "NUM SAMPLES: 1000\n",
      "Best alpha: 3.593813663804626\n"
     ]
    },
    {
     "name": "stderr",
     "output_type": "stream",
     "text": [
      "Processing samples:  51%|█████     | 203/401 [15:28<27:03,  8.20s/it]"
     ]
    },
    {
     "name": "stdout",
     "output_type": "stream",
     "text": [
      "0.5187992117131761\n",
      "[WRITE] Saved result from sample_10_state_county_county_desired_2ppc_1000_size_seed_1213.pkl to /home/libe2152/optimizedsampling/0_results/usavars/population/cluster_sampling_r2_scores.csv\n",
      "Fitting regression...\n",
      "NUM SAMPLES: 1000\n",
      "Best alpha: 46.41588833612782\n"
     ]
    },
    {
     "name": "stderr",
     "output_type": "stream",
     "text": [
      "Processing samples:  51%|█████     | 204/401 [15:36<27:16,  8.31s/it]"
     ]
    },
    {
     "name": "stdout",
     "output_type": "stream",
     "text": [
      "0.5468719983157024\n",
      "[WRITE] Saved result from sample_10_state_county_county_desired_2ppc_1000_size_seed_123.pkl to /home/libe2152/optimizedsampling/0_results/usavars/population/cluster_sampling_r2_scores.csv\n",
      "Fitting regression...\n",
      "NUM SAMPLES: 1000\n",
      "Best alpha: 3.593813663804626\n"
     ]
    },
    {
     "name": "stderr",
     "output_type": "stream",
     "text": [
      "Processing samples:  51%|█████     | 205/401 [15:45<27:17,  8.36s/it]"
     ]
    },
    {
     "name": "stdout",
     "output_type": "stream",
     "text": [
      "0.46767609744272076\n",
      "[WRITE] Saved result from sample_10_state_county_county_desired_2ppc_1000_size_seed_1234.pkl to /home/libe2152/optimizedsampling/0_results/usavars/population/cluster_sampling_r2_scores.csv\n",
      "Fitting regression...\n",
      "NUM SAMPLES: 1000\n",
      "Best alpha: 46.41588833612782\n"
     ]
    },
    {
     "name": "stderr",
     "output_type": "stream",
     "text": [
      "Processing samples:  51%|█████▏    | 206/401 [15:53<27:23,  8.43s/it]"
     ]
    },
    {
     "name": "stdout",
     "output_type": "stream",
     "text": [
      "0.5458375347587667\n",
      "[WRITE] Saved result from sample_10_state_county_county_desired_2ppc_1000_size_seed_1415.pkl to /home/libe2152/optimizedsampling/0_results/usavars/population/cluster_sampling_r2_scores.csv\n",
      "Fitting regression...\n",
      "NUM SAMPLES: 1000\n",
      "Best alpha: 46.41588833612782\n"
     ]
    },
    {
     "name": "stderr",
     "output_type": "stream",
     "text": [
      "Processing samples:  52%|█████▏    | 207/401 [16:02<27:18,  8.45s/it]"
     ]
    },
    {
     "name": "stdout",
     "output_type": "stream",
     "text": [
      "0.4685026142431763\n",
      "[WRITE] Saved result from sample_10_state_county_county_desired_2ppc_1000_size_seed_42.pkl to /home/libe2152/optimizedsampling/0_results/usavars/population/cluster_sampling_r2_scores.csv\n",
      "Fitting regression...\n",
      "NUM SAMPLES: 1000\n",
      "Best alpha: 46.41588833612782\n"
     ]
    },
    {
     "name": "stderr",
     "output_type": "stream",
     "text": [
      "Processing samples:  52%|█████▏    | 208/401 [16:10<26:58,  8.39s/it]"
     ]
    },
    {
     "name": "stdout",
     "output_type": "stream",
     "text": [
      "0.5295851838511443\n",
      "[WRITE] Saved result from sample_10_state_county_county_desired_2ppc_1000_size_seed_456.pkl to /home/libe2152/optimizedsampling/0_results/usavars/population/cluster_sampling_r2_scores.csv\n",
      "Fitting regression...\n",
      "NUM SAMPLES: 1000\n",
      "Best alpha: 46.41588833612782\n"
     ]
    },
    {
     "name": "stderr",
     "output_type": "stream",
     "text": [
      "Processing samples:  52%|█████▏    | 209/401 [16:19<26:52,  8.40s/it]"
     ]
    },
    {
     "name": "stdout",
     "output_type": "stream",
     "text": [
      "0.33399261734243624\n",
      "[WRITE] Saved result from sample_10_state_county_county_desired_2ppc_1000_size_seed_5678.pkl to /home/libe2152/optimizedsampling/0_results/usavars/population/cluster_sampling_r2_scores.csv\n",
      "Fitting regression...\n",
      "NUM SAMPLES: 1000\n",
      "Best alpha: 46.41588833612782\n"
     ]
    },
    {
     "name": "stderr",
     "output_type": "stream",
     "text": [
      "Processing samples:  52%|█████▏    | 210/401 [16:27<26:39,  8.37s/it]"
     ]
    },
    {
     "name": "stdout",
     "output_type": "stream",
     "text": [
      "0.5145909905218896\n",
      "[WRITE] Saved result from sample_10_state_county_county_desired_2ppc_1000_size_seed_789.pkl to /home/libe2152/optimizedsampling/0_results/usavars/population/cluster_sampling_r2_scores.csv\n",
      "Fitting regression...\n",
      "NUM SAMPLES: 1000\n",
      "Best alpha: 46.41588833612782\n"
     ]
    },
    {
     "name": "stderr",
     "output_type": "stream",
     "text": [
      "Processing samples:  53%|█████▎    | 211/401 [16:35<26:38,  8.41s/it]"
     ]
    },
    {
     "name": "stdout",
     "output_type": "stream",
     "text": [
      "0.4840363677822488\n",
      "[WRITE] Saved result from sample_10_state_county_county_desired_2ppc_1000_size_seed_9101.pkl to /home/libe2152/optimizedsampling/0_results/usavars/population/cluster_sampling_r2_scores.csv\n",
      "Fitting regression...\n",
      "NUM SAMPLES: 100\n",
      "Best alpha: 599.4842503189421\n"
     ]
    },
    {
     "name": "stderr",
     "output_type": "stream",
     "text": [
      "Processing samples:  53%|█████▎    | 212/401 [16:36<19:01,  6.04s/it]"
     ]
    },
    {
     "name": "stdout",
     "output_type": "stream",
     "text": [
      "0.4281303243997725\n",
      "[WRITE] Saved result from sample_10_state_county_county_desired_2ppc_100_size_seed_1.pkl to /home/libe2152/optimizedsampling/0_results/usavars/population/cluster_sampling_r2_scores.csv\n",
      "Fitting regression...\n",
      "NUM SAMPLES: 100\n",
      "Best alpha: 46.41588833612782\n"
     ]
    },
    {
     "name": "stderr",
     "output_type": "stream",
     "text": [
      "Processing samples:  53%|█████▎    | 213/401 [16:36<13:45,  4.39s/it]"
     ]
    },
    {
     "name": "stdout",
     "output_type": "stream",
     "text": [
      "0.37816596095280985\n",
      "[WRITE] Saved result from sample_10_state_county_county_desired_2ppc_100_size_seed_1213.pkl to /home/libe2152/optimizedsampling/0_results/usavars/population/cluster_sampling_r2_scores.csv\n",
      "Fitting regression...\n",
      "NUM SAMPLES: 100\n",
      "Best alpha: 599.4842503189421\n"
     ]
    },
    {
     "name": "stderr",
     "output_type": "stream",
     "text": [
      "Processing samples:  53%|█████▎    | 214/401 [16:37<10:03,  3.23s/it]"
     ]
    },
    {
     "name": "stdout",
     "output_type": "stream",
     "text": [
      "0.403688421086554\n",
      "[WRITE] Saved result from sample_10_state_county_county_desired_2ppc_100_size_seed_123.pkl to /home/libe2152/optimizedsampling/0_results/usavars/population/cluster_sampling_r2_scores.csv\n",
      "Fitting regression...\n",
      "NUM SAMPLES: 100\n",
      "Best alpha: 46.41588833612782\n"
     ]
    },
    {
     "name": "stderr",
     "output_type": "stream",
     "text": [
      "Processing samples:  54%|█████▎    | 215/401 [16:37<07:28,  2.41s/it]"
     ]
    },
    {
     "name": "stdout",
     "output_type": "stream",
     "text": [
      "0.3348322499061679\n",
      "[WRITE] Saved result from sample_10_state_county_county_desired_2ppc_100_size_seed_1234.pkl to /home/libe2152/optimizedsampling/0_results/usavars/population/cluster_sampling_r2_scores.csv\n",
      "Fitting regression...\n",
      "NUM SAMPLES: 100\n",
      "Best alpha: 599.4842503189421\n"
     ]
    },
    {
     "name": "stderr",
     "output_type": "stream",
     "text": [
      "Processing samples:  54%|█████▍    | 216/401 [16:38<05:42,  1.85s/it]"
     ]
    },
    {
     "name": "stdout",
     "output_type": "stream",
     "text": [
      "0.13811982553902136\n",
      "[WRITE] Saved result from sample_10_state_county_county_desired_2ppc_100_size_seed_1415.pkl to /home/libe2152/optimizedsampling/0_results/usavars/population/cluster_sampling_r2_scores.csv\n",
      "Fitting regression...\n",
      "NUM SAMPLES: 100\n",
      "Best alpha: 46.41588833612782\n"
     ]
    },
    {
     "name": "stderr",
     "output_type": "stream",
     "text": [
      "Processing samples:  54%|█████▍    | 217/401 [16:39<04:29,  1.46s/it]"
     ]
    },
    {
     "name": "stdout",
     "output_type": "stream",
     "text": [
      "0.1961895631719669\n",
      "[WRITE] Saved result from sample_10_state_county_county_desired_2ppc_100_size_seed_42.pkl to /home/libe2152/optimizedsampling/0_results/usavars/population/cluster_sampling_r2_scores.csv\n",
      "Fitting regression...\n",
      "NUM SAMPLES: 100\n",
      "Best alpha: 46.41588833612782\n"
     ]
    },
    {
     "name": "stderr",
     "output_type": "stream",
     "text": [
      "Processing samples:  54%|█████▍    | 218/401 [16:39<03:37,  1.19s/it]"
     ]
    },
    {
     "name": "stdout",
     "output_type": "stream",
     "text": [
      "0.2501672410921154\n",
      "[WRITE] Saved result from sample_10_state_county_county_desired_2ppc_100_size_seed_456.pkl to /home/libe2152/optimizedsampling/0_results/usavars/population/cluster_sampling_r2_scores.csv\n",
      "Fitting regression...\n",
      "NUM SAMPLES: 100\n",
      "Best alpha: 599.4842503189421\n"
     ]
    },
    {
     "name": "stderr",
     "output_type": "stream",
     "text": [
      "Processing samples:  55%|█████▍    | 219/401 [16:40<03:03,  1.01s/it]"
     ]
    },
    {
     "name": "stdout",
     "output_type": "stream",
     "text": [
      "-0.03898521108520159\n",
      "[WRITE] Saved result from sample_10_state_county_county_desired_2ppc_100_size_seed_5678.pkl to /home/libe2152/optimizedsampling/0_results/usavars/population/cluster_sampling_r2_scores.csv\n",
      "Fitting regression...\n",
      "NUM SAMPLES: 100\n",
      "Best alpha: 3.593813663804626\n"
     ]
    },
    {
     "name": "stderr",
     "output_type": "stream",
     "text": [
      "Processing samples:  55%|█████▍    | 220/401 [16:40<02:36,  1.15it/s]"
     ]
    },
    {
     "name": "stdout",
     "output_type": "stream",
     "text": [
      "0.12696900989856297\n",
      "[WRITE] Saved result from sample_10_state_county_county_desired_2ppc_100_size_seed_789.pkl to /home/libe2152/optimizedsampling/0_results/usavars/population/cluster_sampling_r2_scores.csv\n",
      "Fitting regression...\n",
      "NUM SAMPLES: 100\n",
      "Best alpha: 46.41588833612782\n"
     ]
    },
    {
     "name": "stderr",
     "output_type": "stream",
     "text": [
      "Processing samples:  55%|█████▌    | 221/401 [16:41<02:19,  1.29it/s]"
     ]
    },
    {
     "name": "stdout",
     "output_type": "stream",
     "text": [
      "0.3545239779100172\n",
      "[WRITE] Saved result from sample_10_state_county_county_desired_2ppc_100_size_seed_9101.pkl to /home/libe2152/optimizedsampling/0_results/usavars/population/cluster_sampling_r2_scores.csv\n",
      "Fitting regression...\n",
      "NUM SAMPLES: 200\n",
      "Best alpha: 599.4842503189421\n"
     ]
    },
    {
     "name": "stderr",
     "output_type": "stream",
     "text": [
      "Processing samples:  55%|█████▌    | 222/401 [16:42<03:05,  1.04s/it]"
     ]
    },
    {
     "name": "stdout",
     "output_type": "stream",
     "text": [
      "0.43786909059575974\n",
      "[WRITE] Saved result from sample_10_state_county_county_desired_2ppc_200_size_seed_1.pkl to /home/libe2152/optimizedsampling/0_results/usavars/population/cluster_sampling_r2_scores.csv\n",
      "Fitting regression...\n",
      "NUM SAMPLES: 200\n",
      "Best alpha: 46.41588833612782\n"
     ]
    },
    {
     "name": "stderr",
     "output_type": "stream",
     "text": [
      "Processing samples:  56%|█████▌    | 223/401 [16:44<03:39,  1.23s/it]"
     ]
    },
    {
     "name": "stdout",
     "output_type": "stream",
     "text": [
      "0.4354825584321027\n",
      "[WRITE] Saved result from sample_10_state_county_county_desired_2ppc_200_size_seed_1213.pkl to /home/libe2152/optimizedsampling/0_results/usavars/population/cluster_sampling_r2_scores.csv\n",
      "Fitting regression...\n",
      "NUM SAMPLES: 200\n",
      "Best alpha: 599.4842503189421\n"
     ]
    },
    {
     "name": "stderr",
     "output_type": "stream",
     "text": [
      "Processing samples:  56%|█████▌    | 224/401 [16:46<04:08,  1.40s/it]"
     ]
    },
    {
     "name": "stdout",
     "output_type": "stream",
     "text": [
      "0.41577174583085186\n",
      "[WRITE] Saved result from sample_10_state_county_county_desired_2ppc_200_size_seed_123.pkl to /home/libe2152/optimizedsampling/0_results/usavars/population/cluster_sampling_r2_scores.csv\n",
      "Fitting regression...\n",
      "NUM SAMPLES: 200\n",
      "Best alpha: 599.4842503189421\n"
     ]
    },
    {
     "name": "stderr",
     "output_type": "stream",
     "text": [
      "Processing samples:  56%|█████▌    | 225/401 [16:48<04:35,  1.56s/it]"
     ]
    },
    {
     "name": "stdout",
     "output_type": "stream",
     "text": [
      "0.39736096680301203\n",
      "[WRITE] Saved result from sample_10_state_county_county_desired_2ppc_200_size_seed_1234.pkl to /home/libe2152/optimizedsampling/0_results/usavars/population/cluster_sampling_r2_scores.csv\n",
      "Fitting regression...\n",
      "NUM SAMPLES: 200\n",
      "Best alpha: 46.41588833612782\n"
     ]
    },
    {
     "name": "stderr",
     "output_type": "stream",
     "text": [
      "Processing samples:  56%|█████▋    | 226/401 [16:50<05:01,  1.72s/it]"
     ]
    },
    {
     "name": "stdout",
     "output_type": "stream",
     "text": [
      "0.32633113052693474\n",
      "[WRITE] Saved result from sample_10_state_county_county_desired_2ppc_200_size_seed_1415.pkl to /home/libe2152/optimizedsampling/0_results/usavars/population/cluster_sampling_r2_scores.csv\n",
      "Fitting regression...\n",
      "NUM SAMPLES: 200\n",
      "Best alpha: 599.4842503189421\n"
     ]
    },
    {
     "name": "stderr",
     "output_type": "stream",
     "text": [
      "Processing samples:  57%|█████▋    | 227/401 [16:52<05:14,  1.81s/it]"
     ]
    },
    {
     "name": "stdout",
     "output_type": "stream",
     "text": [
      "0.29364395362408235\n",
      "[WRITE] Saved result from sample_10_state_county_county_desired_2ppc_200_size_seed_42.pkl to /home/libe2152/optimizedsampling/0_results/usavars/population/cluster_sampling_r2_scores.csv\n",
      "Fitting regression...\n",
      "NUM SAMPLES: 200\n",
      "Best alpha: 46.41588833612782\n"
     ]
    },
    {
     "name": "stderr",
     "output_type": "stream",
     "text": [
      "Processing samples:  57%|█████▋    | 228/401 [16:54<05:29,  1.90s/it]"
     ]
    },
    {
     "name": "stdout",
     "output_type": "stream",
     "text": [
      "0.3901186443284713\n",
      "[WRITE] Saved result from sample_10_state_county_county_desired_2ppc_200_size_seed_456.pkl to /home/libe2152/optimizedsampling/0_results/usavars/population/cluster_sampling_r2_scores.csv\n",
      "Fitting regression...\n",
      "NUM SAMPLES: 200\n",
      "Best alpha: 46.41588833612782\n"
     ]
    },
    {
     "name": "stderr",
     "output_type": "stream",
     "text": [
      "Processing samples:  57%|█████▋    | 229/401 [16:56<05:14,  1.83s/it]"
     ]
    },
    {
     "name": "stdout",
     "output_type": "stream",
     "text": [
      "0.17376715118406205\n",
      "[WRITE] Saved result from sample_10_state_county_county_desired_2ppc_200_size_seed_5678.pkl to /home/libe2152/optimizedsampling/0_results/usavars/population/cluster_sampling_r2_scores.csv\n",
      "Fitting regression...\n",
      "NUM SAMPLES: 200\n",
      "Best alpha: 46.41588833612782\n"
     ]
    },
    {
     "name": "stderr",
     "output_type": "stream",
     "text": [
      "Processing samples:  57%|█████▋    | 230/401 [16:57<05:03,  1.78s/it]"
     ]
    },
    {
     "name": "stdout",
     "output_type": "stream",
     "text": [
      "0.36108492213148646\n",
      "[WRITE] Saved result from sample_10_state_county_county_desired_2ppc_200_size_seed_789.pkl to /home/libe2152/optimizedsampling/0_results/usavars/population/cluster_sampling_r2_scores.csv\n",
      "Fitting regression...\n",
      "NUM SAMPLES: 200\n",
      "Best alpha: 599.4842503189421\n"
     ]
    },
    {
     "name": "stderr",
     "output_type": "stream",
     "text": [
      "Processing samples:  58%|█████▊    | 231/401 [16:59<05:12,  1.84s/it]"
     ]
    },
    {
     "name": "stdout",
     "output_type": "stream",
     "text": [
      "0.4434891298962188\n",
      "[WRITE] Saved result from sample_10_state_county_county_desired_2ppc_200_size_seed_9101.pkl to /home/libe2152/optimizedsampling/0_results/usavars/population/cluster_sampling_r2_scores.csv\n",
      "Fitting regression...\n",
      "NUM SAMPLES: 300\n",
      "Best alpha: 599.4842503189421\n"
     ]
    },
    {
     "name": "stderr",
     "output_type": "stream",
     "text": [
      "Processing samples:  58%|█████▊    | 232/401 [17:02<05:41,  2.02s/it]"
     ]
    },
    {
     "name": "stdout",
     "output_type": "stream",
     "text": [
      "0.45239040168245437\n",
      "[WRITE] Saved result from sample_10_state_county_county_desired_2ppc_300_size_seed_1.pkl to /home/libe2152/optimizedsampling/0_results/usavars/population/cluster_sampling_r2_scores.csv\n",
      "Fitting regression...\n",
      "NUM SAMPLES: 300\n",
      "Best alpha: 599.4842503189421\n"
     ]
    },
    {
     "name": "stderr",
     "output_type": "stream",
     "text": [
      "Processing samples:  58%|█████▊    | 233/401 [17:04<05:26,  1.94s/it]"
     ]
    },
    {
     "name": "stdout",
     "output_type": "stream",
     "text": [
      "0.4426740279154313\n",
      "[WRITE] Saved result from sample_10_state_county_county_desired_2ppc_300_size_seed_1213.pkl to /home/libe2152/optimizedsampling/0_results/usavars/population/cluster_sampling_r2_scores.csv\n",
      "Fitting regression...\n",
      "NUM SAMPLES: 300\n",
      "Best alpha: 599.4842503189421\n"
     ]
    },
    {
     "name": "stderr",
     "output_type": "stream",
     "text": [
      "Processing samples:  58%|█████▊    | 234/401 [17:06<05:26,  1.96s/it]"
     ]
    },
    {
     "name": "stdout",
     "output_type": "stream",
     "text": [
      "0.43948355971771524\n",
      "[WRITE] Saved result from sample_10_state_county_county_desired_2ppc_300_size_seed_123.pkl to /home/libe2152/optimizedsampling/0_results/usavars/population/cluster_sampling_r2_scores.csv\n",
      "Fitting regression...\n",
      "NUM SAMPLES: 300\n",
      "Best alpha: 599.4842503189421\n"
     ]
    },
    {
     "name": "stderr",
     "output_type": "stream",
     "text": [
      "Processing samples:  59%|█████▊    | 235/401 [17:08<05:30,  1.99s/it]"
     ]
    },
    {
     "name": "stdout",
     "output_type": "stream",
     "text": [
      "0.3953432131668174\n",
      "[WRITE] Saved result from sample_10_state_county_county_desired_2ppc_300_size_seed_1234.pkl to /home/libe2152/optimizedsampling/0_results/usavars/population/cluster_sampling_r2_scores.csv\n",
      "Fitting regression...\n",
      "NUM SAMPLES: 300\n",
      "Best alpha: 46.41588833612782\n"
     ]
    },
    {
     "name": "stderr",
     "output_type": "stream",
     "text": [
      "Processing samples:  59%|█████▉    | 236/401 [17:10<05:46,  2.10s/it]"
     ]
    },
    {
     "name": "stdout",
     "output_type": "stream",
     "text": [
      "0.4340077732528492\n",
      "[WRITE] Saved result from sample_10_state_county_county_desired_2ppc_300_size_seed_1415.pkl to /home/libe2152/optimizedsampling/0_results/usavars/population/cluster_sampling_r2_scores.csv\n",
      "Fitting regression...\n",
      "NUM SAMPLES: 300\n",
      "Best alpha: 46.41588833612782\n"
     ]
    },
    {
     "name": "stderr",
     "output_type": "stream",
     "text": [
      "Processing samples:  59%|█████▉    | 237/401 [17:12<05:55,  2.17s/it]"
     ]
    },
    {
     "name": "stdout",
     "output_type": "stream",
     "text": [
      "0.23017545066338174\n",
      "[WRITE] Saved result from sample_10_state_county_county_desired_2ppc_300_size_seed_42.pkl to /home/libe2152/optimizedsampling/0_results/usavars/population/cluster_sampling_r2_scores.csv\n",
      "Fitting regression...\n",
      "NUM SAMPLES: 300\n",
      "Best alpha: 46.41588833612782\n"
     ]
    },
    {
     "name": "stderr",
     "output_type": "stream",
     "text": [
      "Processing samples:  59%|█████▉    | 238/401 [17:14<05:46,  2.12s/it]"
     ]
    },
    {
     "name": "stdout",
     "output_type": "stream",
     "text": [
      "0.4682271445729662\n",
      "[WRITE] Saved result from sample_10_state_county_county_desired_2ppc_300_size_seed_456.pkl to /home/libe2152/optimizedsampling/0_results/usavars/population/cluster_sampling_r2_scores.csv\n",
      "Fitting regression...\n",
      "NUM SAMPLES: 300\n",
      "Best alpha: 46.41588833612782\n"
     ]
    },
    {
     "name": "stderr",
     "output_type": "stream",
     "text": [
      "Processing samples:  60%|█████▉    | 239/401 [17:17<05:54,  2.19s/it]"
     ]
    },
    {
     "name": "stdout",
     "output_type": "stream",
     "text": [
      "0.1889030740342088\n",
      "[WRITE] Saved result from sample_10_state_county_county_desired_2ppc_300_size_seed_5678.pkl to /home/libe2152/optimizedsampling/0_results/usavars/population/cluster_sampling_r2_scores.csv\n",
      "Fitting regression...\n",
      "NUM SAMPLES: 300\n",
      "Best alpha: 3.593813663804626\n"
     ]
    },
    {
     "name": "stderr",
     "output_type": "stream",
     "text": [
      "Processing samples:  60%|█████▉    | 240/401 [17:19<05:44,  2.14s/it]"
     ]
    },
    {
     "name": "stdout",
     "output_type": "stream",
     "text": [
      "0.2590400868673568\n",
      "[WRITE] Saved result from sample_10_state_county_county_desired_2ppc_300_size_seed_789.pkl to /home/libe2152/optimizedsampling/0_results/usavars/population/cluster_sampling_r2_scores.csv\n",
      "Fitting regression...\n",
      "NUM SAMPLES: 300\n",
      "Best alpha: 46.41588833612782\n"
     ]
    },
    {
     "name": "stderr",
     "output_type": "stream",
     "text": [
      "Processing samples:  60%|██████    | 241/401 [17:21<05:35,  2.10s/it]"
     ]
    },
    {
     "name": "stdout",
     "output_type": "stream",
     "text": [
      "0.4332945053176709\n",
      "[WRITE] Saved result from sample_10_state_county_county_desired_2ppc_300_size_seed_9101.pkl to /home/libe2152/optimizedsampling/0_results/usavars/population/cluster_sampling_r2_scores.csv\n",
      "Fitting regression...\n",
      "NUM SAMPLES: 400\n",
      "Best alpha: 599.4842503189421\n"
     ]
    },
    {
     "name": "stderr",
     "output_type": "stream",
     "text": [
      "Processing samples:  60%|██████    | 242/401 [17:23<06:04,  2.29s/it]"
     ]
    },
    {
     "name": "stdout",
     "output_type": "stream",
     "text": [
      "0.46930070111137556\n",
      "[WRITE] Saved result from sample_10_state_county_county_desired_2ppc_400_size_seed_1.pkl to /home/libe2152/optimizedsampling/0_results/usavars/population/cluster_sampling_r2_scores.csv\n",
      "Fitting regression...\n",
      "NUM SAMPLES: 400\n",
      "Best alpha: 46.41588833612782\n"
     ]
    },
    {
     "name": "stderr",
     "output_type": "stream",
     "text": [
      "Processing samples:  61%|██████    | 243/401 [17:26<06:02,  2.30s/it]"
     ]
    },
    {
     "name": "stdout",
     "output_type": "stream",
     "text": [
      "0.5235199963002792\n",
      "[WRITE] Saved result from sample_10_state_county_county_desired_2ppc_400_size_seed_1213.pkl to /home/libe2152/optimizedsampling/0_results/usavars/population/cluster_sampling_r2_scores.csv\n",
      "Fitting regression...\n",
      "NUM SAMPLES: 400\n",
      "Best alpha: 599.4842503189421\n"
     ]
    },
    {
     "name": "stderr",
     "output_type": "stream",
     "text": [
      "Processing samples:  61%|██████    | 244/401 [17:29<06:23,  2.44s/it]"
     ]
    },
    {
     "name": "stdout",
     "output_type": "stream",
     "text": [
      "0.4681242326917282\n",
      "[WRITE] Saved result from sample_10_state_county_county_desired_2ppc_400_size_seed_123.pkl to /home/libe2152/optimizedsampling/0_results/usavars/population/cluster_sampling_r2_scores.csv\n",
      "Fitting regression...\n",
      "NUM SAMPLES: 400\n",
      "Best alpha: 599.4842503189421\n"
     ]
    },
    {
     "name": "stderr",
     "output_type": "stream",
     "text": [
      "Processing samples:  61%|██████    | 245/401 [17:32<06:47,  2.61s/it]"
     ]
    },
    {
     "name": "stdout",
     "output_type": "stream",
     "text": [
      "0.4278967943850752\n",
      "[WRITE] Saved result from sample_10_state_county_county_desired_2ppc_400_size_seed_1234.pkl to /home/libe2152/optimizedsampling/0_results/usavars/population/cluster_sampling_r2_scores.csv\n",
      "Fitting regression...\n",
      "NUM SAMPLES: 400\n",
      "Best alpha: 46.41588833612782\n"
     ]
    },
    {
     "name": "stderr",
     "output_type": "stream",
     "text": [
      "Processing samples:  61%|██████▏   | 246/401 [17:35<07:07,  2.76s/it]"
     ]
    },
    {
     "name": "stdout",
     "output_type": "stream",
     "text": [
      "0.4690365654419516\n",
      "[WRITE] Saved result from sample_10_state_county_county_desired_2ppc_400_size_seed_1415.pkl to /home/libe2152/optimizedsampling/0_results/usavars/population/cluster_sampling_r2_scores.csv\n",
      "Fitting regression...\n",
      "NUM SAMPLES: 400\n",
      "Best alpha: 46.41588833612782\n"
     ]
    },
    {
     "name": "stderr",
     "output_type": "stream",
     "text": [
      "Processing samples:  62%|██████▏   | 247/401 [17:38<07:18,  2.85s/it]"
     ]
    },
    {
     "name": "stdout",
     "output_type": "stream",
     "text": [
      "0.36029272003411617\n",
      "[WRITE] Saved result from sample_10_state_county_county_desired_2ppc_400_size_seed_42.pkl to /home/libe2152/optimizedsampling/0_results/usavars/population/cluster_sampling_r2_scores.csv\n",
      "Fitting regression...\n",
      "NUM SAMPLES: 400\n",
      "Best alpha: 46.41588833612782\n"
     ]
    },
    {
     "name": "stderr",
     "output_type": "stream",
     "text": [
      "Processing samples:  62%|██████▏   | 248/401 [17:41<07:29,  2.94s/it]"
     ]
    },
    {
     "name": "stdout",
     "output_type": "stream",
     "text": [
      "0.4764170531524794\n",
      "[WRITE] Saved result from sample_10_state_county_county_desired_2ppc_400_size_seed_456.pkl to /home/libe2152/optimizedsampling/0_results/usavars/population/cluster_sampling_r2_scores.csv\n",
      "Fitting regression...\n",
      "NUM SAMPLES: 400\n",
      "Best alpha: 46.41588833612782\n"
     ]
    },
    {
     "name": "stderr",
     "output_type": "stream",
     "text": [
      "Processing samples:  62%|██████▏   | 249/401 [17:44<07:18,  2.88s/it]"
     ]
    },
    {
     "name": "stdout",
     "output_type": "stream",
     "text": [
      "0.385753521547214\n",
      "[WRITE] Saved result from sample_10_state_county_county_desired_2ppc_400_size_seed_5678.pkl to /home/libe2152/optimizedsampling/0_results/usavars/population/cluster_sampling_r2_scores.csv\n",
      "Fitting regression...\n",
      "NUM SAMPLES: 400\n",
      "Best alpha: 46.41588833612782\n"
     ]
    },
    {
     "name": "stderr",
     "output_type": "stream",
     "text": [
      "Processing samples:  62%|██████▏   | 250/401 [17:46<07:12,  2.86s/it]"
     ]
    },
    {
     "name": "stdout",
     "output_type": "stream",
     "text": [
      "0.3673568515011102\n",
      "[WRITE] Saved result from sample_10_state_county_county_desired_2ppc_400_size_seed_789.pkl to /home/libe2152/optimizedsampling/0_results/usavars/population/cluster_sampling_r2_scores.csv\n",
      "Fitting regression...\n",
      "NUM SAMPLES: 400\n",
      "Best alpha: 46.41588833612782\n"
     ]
    },
    {
     "name": "stderr",
     "output_type": "stream",
     "text": [
      "Processing samples:  63%|██████▎   | 251/401 [17:49<07:00,  2.80s/it]"
     ]
    },
    {
     "name": "stdout",
     "output_type": "stream",
     "text": [
      "0.4918080228563907\n",
      "[WRITE] Saved result from sample_10_state_county_county_desired_2ppc_400_size_seed_9101.pkl to /home/libe2152/optimizedsampling/0_results/usavars/population/cluster_sampling_r2_scores.csv\n",
      "Fitting regression...\n",
      "NUM SAMPLES: 500\n",
      "Best alpha: 599.4842503189421\n"
     ]
    },
    {
     "name": "stderr",
     "output_type": "stream",
     "text": [
      "Processing samples:  63%|██████▎   | 252/401 [17:52<07:08,  2.87s/it]"
     ]
    },
    {
     "name": "stdout",
     "output_type": "stream",
     "text": [
      "0.4876936625954843\n",
      "[WRITE] Saved result from sample_10_state_county_county_desired_2ppc_500_size_seed_1.pkl to /home/libe2152/optimizedsampling/0_results/usavars/population/cluster_sampling_r2_scores.csv\n",
      "Fitting regression...\n",
      "NUM SAMPLES: 500\n",
      "Best alpha: 46.41588833612782\n"
     ]
    },
    {
     "name": "stderr",
     "output_type": "stream",
     "text": [
      "Processing samples:  63%|██████▎   | 253/401 [17:56<07:37,  3.09s/it]"
     ]
    },
    {
     "name": "stdout",
     "output_type": "stream",
     "text": [
      "0.5264352349244776\n",
      "[WRITE] Saved result from sample_10_state_county_county_desired_2ppc_500_size_seed_1213.pkl to /home/libe2152/optimizedsampling/0_results/usavars/population/cluster_sampling_r2_scores.csv\n",
      "Fitting regression...\n",
      "NUM SAMPLES: 500\n",
      "Best alpha: 46.41588833612782\n"
     ]
    },
    {
     "name": "stderr",
     "output_type": "stream",
     "text": [
      "Processing samples:  63%|██████▎   | 254/401 [17:59<07:37,  3.11s/it]"
     ]
    },
    {
     "name": "stdout",
     "output_type": "stream",
     "text": [
      "0.5262119997711642\n",
      "[WRITE] Saved result from sample_10_state_county_county_desired_2ppc_500_size_seed_123.pkl to /home/libe2152/optimizedsampling/0_results/usavars/population/cluster_sampling_r2_scores.csv\n",
      "Fitting regression...\n",
      "NUM SAMPLES: 500\n",
      "Best alpha: 599.4842503189421\n"
     ]
    },
    {
     "name": "stderr",
     "output_type": "stream",
     "text": [
      "Processing samples:  64%|██████▎   | 255/401 [18:02<07:50,  3.22s/it]"
     ]
    },
    {
     "name": "stdout",
     "output_type": "stream",
     "text": [
      "0.43232645158665606\n",
      "[WRITE] Saved result from sample_10_state_county_county_desired_2ppc_500_size_seed_1234.pkl to /home/libe2152/optimizedsampling/0_results/usavars/population/cluster_sampling_r2_scores.csv\n",
      "Fitting regression...\n",
      "NUM SAMPLES: 500\n",
      "Best alpha: 46.41588833612782\n"
     ]
    },
    {
     "name": "stderr",
     "output_type": "stream",
     "text": [
      "Processing samples:  64%|██████▍   | 256/401 [18:06<08:02,  3.33s/it]"
     ]
    },
    {
     "name": "stdout",
     "output_type": "stream",
     "text": [
      "0.49787945186302673\n",
      "[WRITE] Saved result from sample_10_state_county_county_desired_2ppc_500_size_seed_1415.pkl to /home/libe2152/optimizedsampling/0_results/usavars/population/cluster_sampling_r2_scores.csv\n",
      "Fitting regression...\n",
      "NUM SAMPLES: 500\n",
      "Best alpha: 46.41588833612782\n"
     ]
    },
    {
     "name": "stderr",
     "output_type": "stream",
     "text": [
      "Processing samples:  64%|██████▍   | 257/401 [18:10<08:42,  3.63s/it]"
     ]
    },
    {
     "name": "stdout",
     "output_type": "stream",
     "text": [
      "0.4683346015439478\n",
      "[WRITE] Saved result from sample_10_state_county_county_desired_2ppc_500_size_seed_42.pkl to /home/libe2152/optimizedsampling/0_results/usavars/population/cluster_sampling_r2_scores.csv\n",
      "Fitting regression...\n",
      "NUM SAMPLES: 500\n",
      "Best alpha: 46.41588833612782\n"
     ]
    },
    {
     "name": "stderr",
     "output_type": "stream",
     "text": [
      "Processing samples:  64%|██████▍   | 258/401 [18:14<08:35,  3.60s/it]"
     ]
    },
    {
     "name": "stdout",
     "output_type": "stream",
     "text": [
      "0.4541716064974569\n",
      "[WRITE] Saved result from sample_10_state_county_county_desired_2ppc_500_size_seed_456.pkl to /home/libe2152/optimizedsampling/0_results/usavars/population/cluster_sampling_r2_scores.csv\n",
      "Fitting regression...\n",
      "NUM SAMPLES: 500\n",
      "Best alpha: 46.41588833612782\n"
     ]
    },
    {
     "name": "stderr",
     "output_type": "stream",
     "text": [
      "Processing samples:  65%|██████▍   | 259/401 [18:17<08:10,  3.45s/it]"
     ]
    },
    {
     "name": "stdout",
     "output_type": "stream",
     "text": [
      "0.41198486605731466\n",
      "[WRITE] Saved result from sample_10_state_county_county_desired_2ppc_500_size_seed_5678.pkl to /home/libe2152/optimizedsampling/0_results/usavars/population/cluster_sampling_r2_scores.csv\n",
      "Fitting regression...\n",
      "NUM SAMPLES: 500\n",
      "Best alpha: 46.41588833612782\n"
     ]
    },
    {
     "name": "stderr",
     "output_type": "stream",
     "text": [
      "Processing samples:  65%|██████▍   | 260/401 [18:21<08:27,  3.60s/it]"
     ]
    },
    {
     "name": "stdout",
     "output_type": "stream",
     "text": [
      "0.45931424895012807\n",
      "[WRITE] Saved result from sample_10_state_county_county_desired_2ppc_500_size_seed_789.pkl to /home/libe2152/optimizedsampling/0_results/usavars/population/cluster_sampling_r2_scores.csv\n",
      "Fitting regression...\n",
      "NUM SAMPLES: 500\n",
      "Best alpha: 46.41588833612782\n"
     ]
    },
    {
     "name": "stderr",
     "output_type": "stream",
     "text": [
      "Processing samples:  65%|██████▌   | 261/401 [18:24<08:12,  3.52s/it]"
     ]
    },
    {
     "name": "stdout",
     "output_type": "stream",
     "text": [
      "0.4894565088190419\n",
      "[WRITE] Saved result from sample_10_state_county_county_desired_2ppc_500_size_seed_9101.pkl to /home/libe2152/optimizedsampling/0_results/usavars/population/cluster_sampling_r2_scores.csv\n",
      "Fitting regression...\n",
      "NUM SAMPLES: 600\n",
      "Best alpha: 599.4842503189421\n"
     ]
    },
    {
     "name": "stderr",
     "output_type": "stream",
     "text": [
      "Processing samples:  65%|██████▌   | 262/401 [18:30<09:43,  4.20s/it]"
     ]
    },
    {
     "name": "stdout",
     "output_type": "stream",
     "text": [
      "0.4917448362077169\n",
      "[WRITE] Saved result from sample_10_state_county_county_desired_2ppc_600_size_seed_1.pkl to /home/libe2152/optimizedsampling/0_results/usavars/population/cluster_sampling_r2_scores.csv\n",
      "Fitting regression...\n",
      "NUM SAMPLES: 600\n",
      "Best alpha: 46.41588833612782\n"
     ]
    },
    {
     "name": "stderr",
     "output_type": "stream",
     "text": [
      "Processing samples:  66%|██████▌   | 263/401 [18:36<10:58,  4.77s/it]"
     ]
    },
    {
     "name": "stdout",
     "output_type": "stream",
     "text": [
      "0.5278197404188345\n",
      "[WRITE] Saved result from sample_10_state_county_county_desired_2ppc_600_size_seed_1213.pkl to /home/libe2152/optimizedsampling/0_results/usavars/population/cluster_sampling_r2_scores.csv\n",
      "Fitting regression...\n",
      "NUM SAMPLES: 600\n",
      "Best alpha: 46.41588833612782\n"
     ]
    },
    {
     "name": "stderr",
     "output_type": "stream",
     "text": [
      "Processing samples:  66%|██████▌   | 264/401 [18:41<10:51,  4.76s/it]"
     ]
    },
    {
     "name": "stdout",
     "output_type": "stream",
     "text": [
      "0.5301396519488388\n",
      "[WRITE] Saved result from sample_10_state_county_county_desired_2ppc_600_size_seed_123.pkl to /home/libe2152/optimizedsampling/0_results/usavars/population/cluster_sampling_r2_scores.csv\n",
      "Fitting regression...\n",
      "NUM SAMPLES: 600\n",
      "Best alpha: 46.41588833612782\n"
     ]
    },
    {
     "name": "stderr",
     "output_type": "stream",
     "text": [
      "Processing samples:  66%|██████▌   | 265/401 [18:46<11:18,  4.99s/it]"
     ]
    },
    {
     "name": "stdout",
     "output_type": "stream",
     "text": [
      "0.4320492277332848\n",
      "[WRITE] Saved result from sample_10_state_county_county_desired_2ppc_600_size_seed_1234.pkl to /home/libe2152/optimizedsampling/0_results/usavars/population/cluster_sampling_r2_scores.csv\n",
      "Fitting regression...\n",
      "NUM SAMPLES: 600\n",
      "Best alpha: 46.41588833612782\n"
     ]
    },
    {
     "name": "stderr",
     "output_type": "stream",
     "text": [
      "Processing samples:  66%|██████▋   | 266/401 [18:52<11:41,  5.20s/it]"
     ]
    },
    {
     "name": "stdout",
     "output_type": "stream",
     "text": [
      "0.5230883245102037\n",
      "[WRITE] Saved result from sample_10_state_county_county_desired_2ppc_600_size_seed_1415.pkl to /home/libe2152/optimizedsampling/0_results/usavars/population/cluster_sampling_r2_scores.csv\n",
      "Fitting regression...\n",
      "NUM SAMPLES: 600\n",
      "Best alpha: 46.41588833612782\n"
     ]
    },
    {
     "name": "stderr",
     "output_type": "stream",
     "text": [
      "Processing samples:  67%|██████▋   | 267/401 [18:57<11:34,  5.19s/it]"
     ]
    },
    {
     "name": "stdout",
     "output_type": "stream",
     "text": [
      "0.4685654323159708\n",
      "[WRITE] Saved result from sample_10_state_county_county_desired_2ppc_600_size_seed_42.pkl to /home/libe2152/optimizedsampling/0_results/usavars/population/cluster_sampling_r2_scores.csv\n",
      "Fitting regression...\n",
      "NUM SAMPLES: 600\n",
      "Best alpha: 46.41588833612782\n"
     ]
    },
    {
     "name": "stderr",
     "output_type": "stream",
     "text": [
      "Processing samples:  67%|██████▋   | 268/401 [19:02<11:26,  5.16s/it]"
     ]
    },
    {
     "name": "stdout",
     "output_type": "stream",
     "text": [
      "0.476446511200492\n",
      "[WRITE] Saved result from sample_10_state_county_county_desired_2ppc_600_size_seed_456.pkl to /home/libe2152/optimizedsampling/0_results/usavars/population/cluster_sampling_r2_scores.csv\n",
      "Fitting regression...\n",
      "NUM SAMPLES: 600\n",
      "Best alpha: 46.41588833612782\n"
     ]
    },
    {
     "name": "stderr",
     "output_type": "stream",
     "text": [
      "Processing samples:  67%|██████▋   | 269/401 [19:07<10:59,  4.99s/it]"
     ]
    },
    {
     "name": "stdout",
     "output_type": "stream",
     "text": [
      "0.363982566174178\n",
      "[WRITE] Saved result from sample_10_state_county_county_desired_2ppc_600_size_seed_5678.pkl to /home/libe2152/optimizedsampling/0_results/usavars/population/cluster_sampling_r2_scores.csv\n",
      "Fitting regression...\n",
      "NUM SAMPLES: 600\n",
      "Best alpha: 46.41588833612782\n"
     ]
    },
    {
     "name": "stderr",
     "output_type": "stream",
     "text": [
      "Processing samples:  67%|██████▋   | 270/401 [19:12<11:04,  5.07s/it]"
     ]
    },
    {
     "name": "stdout",
     "output_type": "stream",
     "text": [
      "0.49614270782157277\n",
      "[WRITE] Saved result from sample_10_state_county_county_desired_2ppc_600_size_seed_789.pkl to /home/libe2152/optimizedsampling/0_results/usavars/population/cluster_sampling_r2_scores.csv\n",
      "Fitting regression...\n",
      "NUM SAMPLES: 600\n",
      "Best alpha: 46.41588833612782\n"
     ]
    },
    {
     "name": "stderr",
     "output_type": "stream",
     "text": [
      "Processing samples:  68%|██████▊   | 271/401 [19:18<11:26,  5.28s/it]"
     ]
    },
    {
     "name": "stdout",
     "output_type": "stream",
     "text": [
      "0.49412410311411836\n",
      "[WRITE] Saved result from sample_10_state_county_county_desired_2ppc_600_size_seed_9101.pkl to /home/libe2152/optimizedsampling/0_results/usavars/population/cluster_sampling_r2_scores.csv\n",
      "Fitting regression...\n",
      "NUM SAMPLES: 700\n",
      "Best alpha: 46.41588833612782\n"
     ]
    },
    {
     "name": "stderr",
     "output_type": "stream",
     "text": [
      "Processing samples:  68%|██████▊   | 272/401 [19:23<11:30,  5.35s/it]"
     ]
    },
    {
     "name": "stdout",
     "output_type": "stream",
     "text": [
      "0.5170130218912397\n",
      "[WRITE] Saved result from sample_10_state_county_county_desired_2ppc_700_size_seed_1.pkl to /home/libe2152/optimizedsampling/0_results/usavars/population/cluster_sampling_r2_scores.csv\n",
      "Fitting regression...\n",
      "NUM SAMPLES: 700\n",
      "Best alpha: 46.41588833612782\n"
     ]
    },
    {
     "name": "stderr",
     "output_type": "stream",
     "text": [
      "Processing samples:  68%|██████▊   | 273/401 [19:29<11:42,  5.49s/it]"
     ]
    },
    {
     "name": "stdout",
     "output_type": "stream",
     "text": [
      "0.528650117608681\n",
      "[WRITE] Saved result from sample_10_state_county_county_desired_2ppc_700_size_seed_1213.pkl to /home/libe2152/optimizedsampling/0_results/usavars/population/cluster_sampling_r2_scores.csv\n",
      "Fitting regression...\n",
      "NUM SAMPLES: 700\n",
      "Best alpha: 46.41588833612782\n"
     ]
    },
    {
     "name": "stderr",
     "output_type": "stream",
     "text": [
      "Processing samples:  68%|██████▊   | 274/401 [19:35<11:40,  5.51s/it]"
     ]
    },
    {
     "name": "stdout",
     "output_type": "stream",
     "text": [
      "0.5507369109703203\n",
      "[WRITE] Saved result from sample_10_state_county_county_desired_2ppc_700_size_seed_123.pkl to /home/libe2152/optimizedsampling/0_results/usavars/population/cluster_sampling_r2_scores.csv\n",
      "Fitting regression...\n",
      "NUM SAMPLES: 700\n",
      "Best alpha: 46.41588833612782\n"
     ]
    },
    {
     "name": "stderr",
     "output_type": "stream",
     "text": [
      "Processing samples:  69%|██████▊   | 275/401 [19:41<11:47,  5.62s/it]"
     ]
    },
    {
     "name": "stdout",
     "output_type": "stream",
     "text": [
      "0.42082212637667016\n",
      "[WRITE] Saved result from sample_10_state_county_county_desired_2ppc_700_size_seed_1234.pkl to /home/libe2152/optimizedsampling/0_results/usavars/population/cluster_sampling_r2_scores.csv\n",
      "Fitting regression...\n",
      "NUM SAMPLES: 700\n",
      "Best alpha: 46.41588833612782\n"
     ]
    },
    {
     "name": "stderr",
     "output_type": "stream",
     "text": [
      "Processing samples:  69%|██████▉   | 276/401 [19:46<11:43,  5.62s/it]"
     ]
    },
    {
     "name": "stdout",
     "output_type": "stream",
     "text": [
      "0.5285409891983917\n",
      "[WRITE] Saved result from sample_10_state_county_county_desired_2ppc_700_size_seed_1415.pkl to /home/libe2152/optimizedsampling/0_results/usavars/population/cluster_sampling_r2_scores.csv\n",
      "Fitting regression...\n",
      "NUM SAMPLES: 700\n",
      "Best alpha: 46.41588833612782\n"
     ]
    },
    {
     "name": "stderr",
     "output_type": "stream",
     "text": [
      "Processing samples:  69%|██████▉   | 277/401 [19:52<11:48,  5.71s/it]"
     ]
    },
    {
     "name": "stdout",
     "output_type": "stream",
     "text": [
      "0.4594973918641848\n",
      "[WRITE] Saved result from sample_10_state_county_county_desired_2ppc_700_size_seed_42.pkl to /home/libe2152/optimizedsampling/0_results/usavars/population/cluster_sampling_r2_scores.csv\n",
      "Fitting regression...\n",
      "NUM SAMPLES: 700\n",
      "Best alpha: 46.41588833612782\n"
     ]
    },
    {
     "name": "stderr",
     "output_type": "stream",
     "text": [
      "Processing samples:  69%|██████▉   | 278/401 [19:58<11:45,  5.74s/it]"
     ]
    },
    {
     "name": "stdout",
     "output_type": "stream",
     "text": [
      "0.4729206366580425\n",
      "[WRITE] Saved result from sample_10_state_county_county_desired_2ppc_700_size_seed_456.pkl to /home/libe2152/optimizedsampling/0_results/usavars/population/cluster_sampling_r2_scores.csv\n",
      "Fitting regression...\n",
      "NUM SAMPLES: 700\n",
      "Best alpha: 46.41588833612782\n"
     ]
    },
    {
     "name": "stderr",
     "output_type": "stream",
     "text": [
      "Processing samples:  70%|██████▉   | 279/401 [20:04<11:34,  5.70s/it]"
     ]
    },
    {
     "name": "stdout",
     "output_type": "stream",
     "text": [
      "0.3782213729191778\n",
      "[WRITE] Saved result from sample_10_state_county_county_desired_2ppc_700_size_seed_5678.pkl to /home/libe2152/optimizedsampling/0_results/usavars/population/cluster_sampling_r2_scores.csv\n",
      "Fitting regression...\n",
      "NUM SAMPLES: 700\n",
      "Best alpha: 46.41588833612782\n"
     ]
    },
    {
     "name": "stderr",
     "output_type": "stream",
     "text": [
      "Processing samples:  70%|██████▉   | 280/401 [20:10<12:05,  6.00s/it]"
     ]
    },
    {
     "name": "stdout",
     "output_type": "stream",
     "text": [
      "0.48234199874190886\n",
      "[WRITE] Saved result from sample_10_state_county_county_desired_2ppc_700_size_seed_789.pkl to /home/libe2152/optimizedsampling/0_results/usavars/population/cluster_sampling_r2_scores.csv\n",
      "Fitting regression...\n",
      "NUM SAMPLES: 700\n",
      "Best alpha: 46.41588833612782\n"
     ]
    },
    {
     "name": "stderr",
     "output_type": "stream",
     "text": [
      "Processing samples:  70%|███████   | 281/401 [20:16<11:35,  5.80s/it]"
     ]
    },
    {
     "name": "stdout",
     "output_type": "stream",
     "text": [
      "0.4922816041999747\n",
      "[WRITE] Saved result from sample_10_state_county_county_desired_2ppc_700_size_seed_9101.pkl to /home/libe2152/optimizedsampling/0_results/usavars/population/cluster_sampling_r2_scores.csv\n",
      "Fitting regression...\n",
      "NUM SAMPLES: 800\n",
      "Best alpha: 46.41588833612782\n"
     ]
    },
    {
     "name": "stderr",
     "output_type": "stream",
     "text": [
      "Processing samples:  70%|███████   | 282/401 [20:23<12:09,  6.13s/it]"
     ]
    },
    {
     "name": "stdout",
     "output_type": "stream",
     "text": [
      "0.5194263282772815\n",
      "[WRITE] Saved result from sample_10_state_county_county_desired_2ppc_800_size_seed_1.pkl to /home/libe2152/optimizedsampling/0_results/usavars/population/cluster_sampling_r2_scores.csv\n",
      "Fitting regression...\n",
      "NUM SAMPLES: 800\n",
      "Best alpha: 46.41588833612782\n"
     ]
    },
    {
     "name": "stderr",
     "output_type": "stream",
     "text": [
      "Processing samples:  71%|███████   | 283/401 [20:29<12:21,  6.28s/it]"
     ]
    },
    {
     "name": "stdout",
     "output_type": "stream",
     "text": [
      "0.5282582779630226\n",
      "[WRITE] Saved result from sample_10_state_county_county_desired_2ppc_800_size_seed_1213.pkl to /home/libe2152/optimizedsampling/0_results/usavars/population/cluster_sampling_r2_scores.csv\n",
      "Fitting regression...\n",
      "NUM SAMPLES: 800\n",
      "Best alpha: 46.41588833612782\n"
     ]
    },
    {
     "name": "stderr",
     "output_type": "stream",
     "text": [
      "Processing samples:  71%|███████   | 284/401 [20:36<12:29,  6.40s/it]"
     ]
    },
    {
     "name": "stdout",
     "output_type": "stream",
     "text": [
      "0.5466564798222986\n",
      "[WRITE] Saved result from sample_10_state_county_county_desired_2ppc_800_size_seed_123.pkl to /home/libe2152/optimizedsampling/0_results/usavars/population/cluster_sampling_r2_scores.csv\n",
      "Fitting regression...\n",
      "NUM SAMPLES: 800\n",
      "Best alpha: 46.41588833612782\n"
     ]
    },
    {
     "name": "stderr",
     "output_type": "stream",
     "text": [
      "Processing samples:  71%|███████   | 285/401 [20:43<12:44,  6.59s/it]"
     ]
    },
    {
     "name": "stdout",
     "output_type": "stream",
     "text": [
      "0.43767086199041605\n",
      "[WRITE] Saved result from sample_10_state_county_county_desired_2ppc_800_size_seed_1234.pkl to /home/libe2152/optimizedsampling/0_results/usavars/population/cluster_sampling_r2_scores.csv\n",
      "Fitting regression...\n",
      "NUM SAMPLES: 800\n",
      "Best alpha: 46.41588833612782\n"
     ]
    },
    {
     "name": "stderr",
     "output_type": "stream",
     "text": [
      "Processing samples:  71%|███████▏  | 286/401 [20:49<12:38,  6.59s/it]"
     ]
    },
    {
     "name": "stdout",
     "output_type": "stream",
     "text": [
      "0.5292934840823205\n",
      "[WRITE] Saved result from sample_10_state_county_county_desired_2ppc_800_size_seed_1415.pkl to /home/libe2152/optimizedsampling/0_results/usavars/population/cluster_sampling_r2_scores.csv\n",
      "Fitting regression...\n",
      "NUM SAMPLES: 800\n",
      "Best alpha: 46.41588833612782\n"
     ]
    },
    {
     "name": "stderr",
     "output_type": "stream",
     "text": [
      "Processing samples:  72%|███████▏  | 287/401 [20:57<12:57,  6.82s/it]"
     ]
    },
    {
     "name": "stdout",
     "output_type": "stream",
     "text": [
      "0.4588934973668073\n",
      "[WRITE] Saved result from sample_10_state_county_county_desired_2ppc_800_size_seed_42.pkl to /home/libe2152/optimizedsampling/0_results/usavars/population/cluster_sampling_r2_scores.csv\n",
      "Fitting regression...\n",
      "NUM SAMPLES: 800\n",
      "Best alpha: 46.41588833612782\n"
     ]
    },
    {
     "name": "stderr",
     "output_type": "stream",
     "text": [
      "Processing samples:  72%|███████▏  | 288/401 [21:04<13:09,  6.98s/it]"
     ]
    },
    {
     "name": "stdout",
     "output_type": "stream",
     "text": [
      "0.4968643953801404\n",
      "[WRITE] Saved result from sample_10_state_county_county_desired_2ppc_800_size_seed_456.pkl to /home/libe2152/optimizedsampling/0_results/usavars/population/cluster_sampling_r2_scores.csv\n",
      "Fitting regression...\n",
      "NUM SAMPLES: 800\n",
      "Best alpha: 46.41588833612782\n"
     ]
    },
    {
     "name": "stderr",
     "output_type": "stream",
     "text": [
      "Processing samples:  72%|███████▏  | 289/401 [21:11<12:52,  6.90s/it]"
     ]
    },
    {
     "name": "stdout",
     "output_type": "stream",
     "text": [
      "0.3574844694423682\n",
      "[WRITE] Saved result from sample_10_state_county_county_desired_2ppc_800_size_seed_5678.pkl to /home/libe2152/optimizedsampling/0_results/usavars/population/cluster_sampling_r2_scores.csv\n",
      "Fitting regression...\n",
      "NUM SAMPLES: 800\n",
      "Best alpha: 46.41588833612782\n"
     ]
    },
    {
     "name": "stderr",
     "output_type": "stream",
     "text": [
      "Processing samples:  72%|███████▏  | 290/401 [21:18<13:06,  7.08s/it]"
     ]
    },
    {
     "name": "stdout",
     "output_type": "stream",
     "text": [
      "0.48086582747847684\n",
      "[WRITE] Saved result from sample_10_state_county_county_desired_2ppc_800_size_seed_789.pkl to /home/libe2152/optimizedsampling/0_results/usavars/population/cluster_sampling_r2_scores.csv\n",
      "Fitting regression...\n",
      "NUM SAMPLES: 800\n",
      "Best alpha: 46.41588833612782\n"
     ]
    },
    {
     "name": "stderr",
     "output_type": "stream",
     "text": [
      "Processing samples:  73%|███████▎  | 291/401 [21:25<12:51,  7.01s/it]"
     ]
    },
    {
     "name": "stdout",
     "output_type": "stream",
     "text": [
      "0.48031402287497316\n",
      "[WRITE] Saved result from sample_10_state_county_county_desired_2ppc_800_size_seed_9101.pkl to /home/libe2152/optimizedsampling/0_results/usavars/population/cluster_sampling_r2_scores.csv\n",
      "Fitting regression...\n",
      "NUM SAMPLES: 900\n",
      "Best alpha: 46.41588833612782\n"
     ]
    },
    {
     "name": "stderr",
     "output_type": "stream",
     "text": [
      "Processing samples:  73%|███████▎  | 292/401 [21:33<13:13,  7.28s/it]"
     ]
    },
    {
     "name": "stdout",
     "output_type": "stream",
     "text": [
      "0.5246044023832881\n",
      "[WRITE] Saved result from sample_10_state_county_county_desired_2ppc_900_size_seed_1.pkl to /home/libe2152/optimizedsampling/0_results/usavars/population/cluster_sampling_r2_scores.csv\n",
      "Fitting regression...\n",
      "NUM SAMPLES: 900\n",
      "Best alpha: 46.41588833612782\n"
     ]
    },
    {
     "name": "stderr",
     "output_type": "stream",
     "text": [
      "Processing samples:  73%|███████▎  | 293/401 [21:41<13:18,  7.39s/it]"
     ]
    },
    {
     "name": "stdout",
     "output_type": "stream",
     "text": [
      "0.5408040993395875\n",
      "[WRITE] Saved result from sample_10_state_county_county_desired_2ppc_900_size_seed_1213.pkl to /home/libe2152/optimizedsampling/0_results/usavars/population/cluster_sampling_r2_scores.csv\n",
      "Fitting regression...\n",
      "NUM SAMPLES: 900\n",
      "Best alpha: 46.41588833612782\n"
     ]
    },
    {
     "name": "stderr",
     "output_type": "stream",
     "text": [
      "Processing samples:  73%|███████▎  | 294/401 [21:49<13:28,  7.55s/it]"
     ]
    },
    {
     "name": "stdout",
     "output_type": "stream",
     "text": [
      "0.5508995655108315\n",
      "[WRITE] Saved result from sample_10_state_county_county_desired_2ppc_900_size_seed_123.pkl to /home/libe2152/optimizedsampling/0_results/usavars/population/cluster_sampling_r2_scores.csv\n",
      "Fitting regression...\n",
      "NUM SAMPLES: 900\n",
      "Best alpha: 46.41588833612782\n"
     ]
    },
    {
     "name": "stderr",
     "output_type": "stream",
     "text": [
      "Processing samples:  74%|███████▎  | 295/401 [21:57<13:32,  7.67s/it]"
     ]
    },
    {
     "name": "stdout",
     "output_type": "stream",
     "text": [
      "0.4713320280420049\n",
      "[WRITE] Saved result from sample_10_state_county_county_desired_2ppc_900_size_seed_1234.pkl to /home/libe2152/optimizedsampling/0_results/usavars/population/cluster_sampling_r2_scores.csv\n",
      "Fitting regression...\n",
      "NUM SAMPLES: 900\n",
      "Best alpha: 46.41588833612782\n"
     ]
    },
    {
     "name": "stderr",
     "output_type": "stream",
     "text": [
      "Processing samples:  74%|███████▍  | 296/401 [22:04<13:25,  7.67s/it]"
     ]
    },
    {
     "name": "stdout",
     "output_type": "stream",
     "text": [
      "0.5269516330750618\n",
      "[WRITE] Saved result from sample_10_state_county_county_desired_2ppc_900_size_seed_1415.pkl to /home/libe2152/optimizedsampling/0_results/usavars/population/cluster_sampling_r2_scores.csv\n",
      "Fitting regression...\n",
      "NUM SAMPLES: 900\n",
      "Best alpha: 46.41588833612782\n"
     ]
    },
    {
     "name": "stderr",
     "output_type": "stream",
     "text": [
      "Processing samples:  74%|███████▍  | 297/401 [22:12<13:21,  7.71s/it]"
     ]
    },
    {
     "name": "stdout",
     "output_type": "stream",
     "text": [
      "0.4711004697682175\n",
      "[WRITE] Saved result from sample_10_state_county_county_desired_2ppc_900_size_seed_42.pkl to /home/libe2152/optimizedsampling/0_results/usavars/population/cluster_sampling_r2_scores.csv\n",
      "Fitting regression...\n",
      "NUM SAMPLES: 900\n",
      "Best alpha: 46.41588833612782\n"
     ]
    },
    {
     "name": "stderr",
     "output_type": "stream",
     "text": [
      "Processing samples:  74%|███████▍  | 298/401 [22:20<13:17,  7.74s/it]"
     ]
    },
    {
     "name": "stdout",
     "output_type": "stream",
     "text": [
      "0.49446579430386906\n",
      "[WRITE] Saved result from sample_10_state_county_county_desired_2ppc_900_size_seed_456.pkl to /home/libe2152/optimizedsampling/0_results/usavars/population/cluster_sampling_r2_scores.csv\n",
      "Fitting regression...\n",
      "NUM SAMPLES: 900\n",
      "Best alpha: 46.41588833612782\n"
     ]
    },
    {
     "name": "stderr",
     "output_type": "stream",
     "text": [
      "Processing samples:  75%|███████▍  | 299/401 [22:28<13:11,  7.76s/it]"
     ]
    },
    {
     "name": "stdout",
     "output_type": "stream",
     "text": [
      "0.29941992332358525\n",
      "[WRITE] Saved result from sample_10_state_county_county_desired_2ppc_900_size_seed_5678.pkl to /home/libe2152/optimizedsampling/0_results/usavars/population/cluster_sampling_r2_scores.csv\n",
      "Fitting regression...\n",
      "NUM SAMPLES: 900\n",
      "Best alpha: 46.41588833612782\n"
     ]
    },
    {
     "name": "stderr",
     "output_type": "stream",
     "text": [
      "Processing samples:  75%|███████▍  | 300/401 [22:36<13:06,  7.79s/it]"
     ]
    },
    {
     "name": "stdout",
     "output_type": "stream",
     "text": [
      "0.5066549804598095\n",
      "[WRITE] Saved result from sample_10_state_county_county_desired_2ppc_900_size_seed_789.pkl to /home/libe2152/optimizedsampling/0_results/usavars/population/cluster_sampling_r2_scores.csv\n",
      "Fitting regression...\n",
      "NUM SAMPLES: 900\n",
      "Best alpha: 46.41588833612782\n"
     ]
    },
    {
     "name": "stderr",
     "output_type": "stream",
     "text": [
      "Processing samples:  75%|███████▌  | 301/401 [22:43<13:00,  7.80s/it]"
     ]
    },
    {
     "name": "stdout",
     "output_type": "stream",
     "text": [
      "0.48526124919477764\n",
      "[WRITE] Saved result from sample_10_state_county_county_desired_2ppc_900_size_seed_9101.pkl to /home/libe2152/optimizedsampling/0_results/usavars/population/cluster_sampling_r2_scores.csv\n",
      "Fitting regression...\n",
      "NUM SAMPLES: 1000\n",
      "Best alpha: 46.41588833612782\n"
     ]
    },
    {
     "name": "stderr",
     "output_type": "stream",
     "text": [
      "Processing samples:  75%|███████▌  | 302/401 [22:52<13:10,  7.98s/it]"
     ]
    },
    {
     "name": "stdout",
     "output_type": "stream",
     "text": [
      "0.5196944791138199\n",
      "[WRITE] Saved result from sample_10_state_county_county_desired_5ppc_1000_size_seed_1.pkl to /home/libe2152/optimizedsampling/0_results/usavars/population/cluster_sampling_r2_scores.csv\n",
      "Fitting regression...\n",
      "NUM SAMPLES: 1000\n",
      "Best alpha: 46.41588833612782\n"
     ]
    },
    {
     "name": "stderr",
     "output_type": "stream",
     "text": [
      "Processing samples:  76%|███████▌  | 303/401 [23:00<13:15,  8.12s/it]"
     ]
    },
    {
     "name": "stdout",
     "output_type": "stream",
     "text": [
      "0.5288203097093631\n",
      "[WRITE] Saved result from sample_10_state_county_county_desired_5ppc_1000_size_seed_1213.pkl to /home/libe2152/optimizedsampling/0_results/usavars/population/cluster_sampling_r2_scores.csv\n",
      "Fitting regression...\n",
      "NUM SAMPLES: 1000\n",
      "Best alpha: 46.41588833612782\n"
     ]
    },
    {
     "name": "stderr",
     "output_type": "stream",
     "text": [
      "Processing samples:  76%|███████▌  | 304/401 [23:09<13:17,  8.22s/it]"
     ]
    },
    {
     "name": "stdout",
     "output_type": "stream",
     "text": [
      "0.519480382304319\n",
      "[WRITE] Saved result from sample_10_state_county_county_desired_5ppc_1000_size_seed_123.pkl to /home/libe2152/optimizedsampling/0_results/usavars/population/cluster_sampling_r2_scores.csv\n",
      "Fitting regression...\n",
      "NUM SAMPLES: 1000\n",
      "Best alpha: 46.41588833612782\n"
     ]
    },
    {
     "name": "stderr",
     "output_type": "stream",
     "text": [
      "Processing samples:  76%|███████▌  | 305/401 [23:17<13:13,  8.27s/it]"
     ]
    },
    {
     "name": "stdout",
     "output_type": "stream",
     "text": [
      "0.5040240334372914\n",
      "[WRITE] Saved result from sample_10_state_county_county_desired_5ppc_1000_size_seed_1234.pkl to /home/libe2152/optimizedsampling/0_results/usavars/population/cluster_sampling_r2_scores.csv\n",
      "Fitting regression...\n",
      "NUM SAMPLES: 1000\n",
      "Best alpha: 46.41588833612782\n"
     ]
    },
    {
     "name": "stderr",
     "output_type": "stream",
     "text": [
      "Processing samples:  76%|███████▋  | 306/401 [23:26<13:14,  8.36s/it]"
     ]
    },
    {
     "name": "stdout",
     "output_type": "stream",
     "text": [
      "0.5155941285353183\n",
      "[WRITE] Saved result from sample_10_state_county_county_desired_5ppc_1000_size_seed_1415.pkl to /home/libe2152/optimizedsampling/0_results/usavars/population/cluster_sampling_r2_scores.csv\n",
      "Fitting regression...\n",
      "NUM SAMPLES: 1000\n",
      "Best alpha: 46.41588833612782\n"
     ]
    },
    {
     "name": "stderr",
     "output_type": "stream",
     "text": [
      "Processing samples:  77%|███████▋  | 307/401 [23:34<13:04,  8.35s/it]"
     ]
    },
    {
     "name": "stdout",
     "output_type": "stream",
     "text": [
      "0.4968154533447623\n",
      "[WRITE] Saved result from sample_10_state_county_county_desired_5ppc_1000_size_seed_42.pkl to /home/libe2152/optimizedsampling/0_results/usavars/population/cluster_sampling_r2_scores.csv\n",
      "Fitting regression...\n",
      "NUM SAMPLES: 1000\n",
      "Best alpha: 3.593813663804626\n"
     ]
    },
    {
     "name": "stderr",
     "output_type": "stream",
     "text": [
      "Processing samples:  77%|███████▋  | 308/401 [23:42<12:51,  8.30s/it]"
     ]
    },
    {
     "name": "stdout",
     "output_type": "stream",
     "text": [
      "0.5058066465893454\n",
      "[WRITE] Saved result from sample_10_state_county_county_desired_5ppc_1000_size_seed_456.pkl to /home/libe2152/optimizedsampling/0_results/usavars/population/cluster_sampling_r2_scores.csv\n",
      "Fitting regression...\n",
      "NUM SAMPLES: 1000\n",
      "Best alpha: 46.41588833612782\n"
     ]
    },
    {
     "name": "stderr",
     "output_type": "stream",
     "text": [
      "Processing samples:  77%|███████▋  | 309/401 [23:51<12:49,  8.37s/it]"
     ]
    },
    {
     "name": "stdout",
     "output_type": "stream",
     "text": [
      "0.39238638080029964\n",
      "[WRITE] Saved result from sample_10_state_county_county_desired_5ppc_1000_size_seed_5678.pkl to /home/libe2152/optimizedsampling/0_results/usavars/population/cluster_sampling_r2_scores.csv\n",
      "Fitting regression...\n",
      "NUM SAMPLES: 1000\n",
      "Best alpha: 46.41588833612782\n"
     ]
    },
    {
     "name": "stderr",
     "output_type": "stream",
     "text": [
      "Processing samples:  77%|███████▋  | 310/401 [23:59<12:40,  8.35s/it]"
     ]
    },
    {
     "name": "stdout",
     "output_type": "stream",
     "text": [
      "0.5007540474353563\n",
      "[WRITE] Saved result from sample_10_state_county_county_desired_5ppc_1000_size_seed_789.pkl to /home/libe2152/optimizedsampling/0_results/usavars/population/cluster_sampling_r2_scores.csv\n",
      "Fitting regression...\n",
      "NUM SAMPLES: 1000\n",
      "Best alpha: 46.41588833612782\n"
     ]
    },
    {
     "name": "stderr",
     "output_type": "stream",
     "text": [
      "Processing samples:  78%|███████▊  | 311/401 [24:07<12:25,  8.28s/it]"
     ]
    },
    {
     "name": "stdout",
     "output_type": "stream",
     "text": [
      "0.5126228048562649\n",
      "[WRITE] Saved result from sample_10_state_county_county_desired_5ppc_1000_size_seed_9101.pkl to /home/libe2152/optimizedsampling/0_results/usavars/population/cluster_sampling_r2_scores.csv\n",
      "Fitting regression...\n",
      "NUM SAMPLES: 100\n",
      "Best alpha: 46.41588833612782\n"
     ]
    },
    {
     "name": "stderr",
     "output_type": "stream",
     "text": [
      "Processing samples:  78%|███████▊  | 312/401 [24:08<08:50,  5.96s/it]"
     ]
    },
    {
     "name": "stdout",
     "output_type": "stream",
     "text": [
      "0.3304127775156117\n",
      "[WRITE] Saved result from sample_10_state_county_county_desired_5ppc_100_size_seed_1.pkl to /home/libe2152/optimizedsampling/0_results/usavars/population/cluster_sampling_r2_scores.csv\n",
      "Fitting regression...\n",
      "NUM SAMPLES: 100\n",
      "Best alpha: 599.4842503189421\n"
     ]
    },
    {
     "name": "stderr",
     "output_type": "stream",
     "text": [
      "Processing samples:  78%|███████▊  | 313/401 [24:08<06:21,  4.33s/it]"
     ]
    },
    {
     "name": "stdout",
     "output_type": "stream",
     "text": [
      "0.38490099573629744\n",
      "[WRITE] Saved result from sample_10_state_county_county_desired_5ppc_100_size_seed_1213.pkl to /home/libe2152/optimizedsampling/0_results/usavars/population/cluster_sampling_r2_scores.csv\n",
      "Fitting regression...\n",
      "NUM SAMPLES: 100\n",
      "Best alpha: 599.4842503189421\n"
     ]
    },
    {
     "name": "stderr",
     "output_type": "stream",
     "text": [
      "Processing samples:  78%|███████▊  | 314/401 [24:09<04:38,  3.20s/it]"
     ]
    },
    {
     "name": "stdout",
     "output_type": "stream",
     "text": [
      "0.16164441146535669\n",
      "[WRITE] Saved result from sample_10_state_county_county_desired_5ppc_100_size_seed_123.pkl to /home/libe2152/optimizedsampling/0_results/usavars/population/cluster_sampling_r2_scores.csv\n",
      "Fitting regression...\n",
      "NUM SAMPLES: 100\n",
      "Best alpha: 46.41588833612782\n"
     ]
    },
    {
     "name": "stderr",
     "output_type": "stream",
     "text": [
      "Processing samples:  79%|███████▊  | 315/401 [24:09<03:27,  2.41s/it]"
     ]
    },
    {
     "name": "stdout",
     "output_type": "stream",
     "text": [
      "0.17316504565483692\n",
      "[WRITE] Saved result from sample_10_state_county_county_desired_5ppc_100_size_seed_1234.pkl to /home/libe2152/optimizedsampling/0_results/usavars/population/cluster_sampling_r2_scores.csv\n",
      "Fitting regression...\n",
      "NUM SAMPLES: 100\n",
      "Best alpha: 46.41588833612782\n"
     ]
    },
    {
     "name": "stderr",
     "output_type": "stream",
     "text": [
      "Processing samples:  79%|███████▉  | 316/401 [24:10<02:37,  1.85s/it]"
     ]
    },
    {
     "name": "stdout",
     "output_type": "stream",
     "text": [
      "0.24912889215996847\n",
      "[WRITE] Saved result from sample_10_state_county_county_desired_5ppc_100_size_seed_1415.pkl to /home/libe2152/optimizedsampling/0_results/usavars/population/cluster_sampling_r2_scores.csv\n",
      "Fitting regression...\n",
      "NUM SAMPLES: 100\n",
      "Best alpha: 599.4842503189421\n"
     ]
    },
    {
     "name": "stderr",
     "output_type": "stream",
     "text": [
      "Processing samples:  79%|███████▉  | 317/401 [24:10<02:01,  1.45s/it]"
     ]
    },
    {
     "name": "stdout",
     "output_type": "stream",
     "text": [
      "0.17803206053671927\n",
      "[WRITE] Saved result from sample_10_state_county_county_desired_5ppc_100_size_seed_42.pkl to /home/libe2152/optimizedsampling/0_results/usavars/population/cluster_sampling_r2_scores.csv\n",
      "Fitting regression...\n",
      "NUM SAMPLES: 100\n",
      "Best alpha: 46.41588833612782\n"
     ]
    },
    {
     "name": "stderr",
     "output_type": "stream",
     "text": [
      "Processing samples:  79%|███████▉  | 318/401 [24:11<01:37,  1.17s/it]"
     ]
    },
    {
     "name": "stdout",
     "output_type": "stream",
     "text": [
      "0.2875118615594153\n",
      "[WRITE] Saved result from sample_10_state_county_county_desired_5ppc_100_size_seed_456.pkl to /home/libe2152/optimizedsampling/0_results/usavars/population/cluster_sampling_r2_scores.csv\n",
      "Fitting regression...\n",
      "NUM SAMPLES: 100\n",
      "Best alpha: 599.4842503189421\n"
     ]
    },
    {
     "name": "stderr",
     "output_type": "stream",
     "text": [
      "Processing samples:  80%|███████▉  | 319/401 [24:11<01:20,  1.02it/s]"
     ]
    },
    {
     "name": "stdout",
     "output_type": "stream",
     "text": [
      "0.1152431581925839\n",
      "[WRITE] Saved result from sample_10_state_county_county_desired_5ppc_100_size_seed_5678.pkl to /home/libe2152/optimizedsampling/0_results/usavars/population/cluster_sampling_r2_scores.csv\n",
      "Fitting regression...\n",
      "NUM SAMPLES: 100\n",
      "Best alpha: 46.41588833612782\n"
     ]
    },
    {
     "name": "stderr",
     "output_type": "stream",
     "text": [
      "Processing samples:  80%|███████▉  | 320/401 [24:12<01:08,  1.19it/s]"
     ]
    },
    {
     "name": "stdout",
     "output_type": "stream",
     "text": [
      "-0.13949192380755782\n",
      "[WRITE] Saved result from sample_10_state_county_county_desired_5ppc_100_size_seed_789.pkl to /home/libe2152/optimizedsampling/0_results/usavars/population/cluster_sampling_r2_scores.csv\n",
      "Fitting regression...\n",
      "NUM SAMPLES: 100\n",
      "Best alpha: 599.4842503189421\n"
     ]
    },
    {
     "name": "stderr",
     "output_type": "stream",
     "text": [
      "Processing samples:  80%|████████  | 321/401 [24:13<01:00,  1.33it/s]"
     ]
    },
    {
     "name": "stdout",
     "output_type": "stream",
     "text": [
      "0.3998392438957544\n",
      "[WRITE] Saved result from sample_10_state_county_county_desired_5ppc_100_size_seed_9101.pkl to /home/libe2152/optimizedsampling/0_results/usavars/population/cluster_sampling_r2_scores.csv\n",
      "Fitting regression...\n",
      "NUM SAMPLES: 200\n",
      "Best alpha: 46.41588833612782\n"
     ]
    },
    {
     "name": "stderr",
     "output_type": "stream",
     "text": [
      "Processing samples:  80%|████████  | 322/401 [24:14<01:27,  1.10s/it]"
     ]
    },
    {
     "name": "stdout",
     "output_type": "stream",
     "text": [
      "0.4572122647824043\n",
      "[WRITE] Saved result from sample_10_state_county_county_desired_5ppc_200_size_seed_1.pkl to /home/libe2152/optimizedsampling/0_results/usavars/population/cluster_sampling_r2_scores.csv\n",
      "Fitting regression...\n",
      "NUM SAMPLES: 200\n",
      "Best alpha: 46.41588833612782\n"
     ]
    },
    {
     "name": "stderr",
     "output_type": "stream",
     "text": [
      "Processing samples:  81%|████████  | 323/401 [24:17<01:53,  1.45s/it]"
     ]
    },
    {
     "name": "stdout",
     "output_type": "stream",
     "text": [
      "0.4232075823603475\n",
      "[WRITE] Saved result from sample_10_state_county_county_desired_5ppc_200_size_seed_1213.pkl to /home/libe2152/optimizedsampling/0_results/usavars/population/cluster_sampling_r2_scores.csv\n",
      "Fitting regression...\n",
      "NUM SAMPLES: 200\n",
      "Best alpha: 599.4842503189421\n"
     ]
    },
    {
     "name": "stderr",
     "output_type": "stream",
     "text": [
      "Processing samples:  81%|████████  | 324/401 [24:19<02:05,  1.63s/it]"
     ]
    },
    {
     "name": "stdout",
     "output_type": "stream",
     "text": [
      "0.4384053176546362\n",
      "[WRITE] Saved result from sample_10_state_county_county_desired_5ppc_200_size_seed_123.pkl to /home/libe2152/optimizedsampling/0_results/usavars/population/cluster_sampling_r2_scores.csv\n",
      "Fitting regression...\n",
      "NUM SAMPLES: 200\n",
      "Best alpha: 599.4842503189421\n"
     ]
    },
    {
     "name": "stderr",
     "output_type": "stream",
     "text": [
      "Processing samples:  81%|████████  | 325/401 [24:20<02:03,  1.63s/it]"
     ]
    },
    {
     "name": "stdout",
     "output_type": "stream",
     "text": [
      "0.2723748049848458\n",
      "[WRITE] Saved result from sample_10_state_county_county_desired_5ppc_200_size_seed_1234.pkl to /home/libe2152/optimizedsampling/0_results/usavars/population/cluster_sampling_r2_scores.csv\n",
      "Fitting regression...\n",
      "NUM SAMPLES: 200\n",
      "Best alpha: 46.41588833612782\n"
     ]
    },
    {
     "name": "stderr",
     "output_type": "stream",
     "text": [
      "Processing samples:  81%|████████▏ | 326/401 [24:22<02:03,  1.65s/it]"
     ]
    },
    {
     "name": "stdout",
     "output_type": "stream",
     "text": [
      "0.3259173746573265\n",
      "[WRITE] Saved result from sample_10_state_county_county_desired_5ppc_200_size_seed_1415.pkl to /home/libe2152/optimizedsampling/0_results/usavars/population/cluster_sampling_r2_scores.csv\n",
      "Fitting regression...\n",
      "NUM SAMPLES: 200\n",
      "Best alpha: 599.4842503189421\n"
     ]
    },
    {
     "name": "stderr",
     "output_type": "stream",
     "text": [
      "Processing samples:  82%|████████▏ | 327/401 [24:24<02:00,  1.63s/it]"
     ]
    },
    {
     "name": "stdout",
     "output_type": "stream",
     "text": [
      "0.2584883296130073\n",
      "[WRITE] Saved result from sample_10_state_county_county_desired_5ppc_200_size_seed_42.pkl to /home/libe2152/optimizedsampling/0_results/usavars/population/cluster_sampling_r2_scores.csv\n",
      "Fitting regression...\n",
      "NUM SAMPLES: 200\n",
      "Best alpha: 46.41588833612782\n"
     ]
    },
    {
     "name": "stderr",
     "output_type": "stream",
     "text": [
      "Processing samples:  82%|████████▏ | 328/401 [24:25<01:59,  1.64s/it]"
     ]
    },
    {
     "name": "stdout",
     "output_type": "stream",
     "text": [
      "0.3391344683292268\n",
      "[WRITE] Saved result from sample_10_state_county_county_desired_5ppc_200_size_seed_456.pkl to /home/libe2152/optimizedsampling/0_results/usavars/population/cluster_sampling_r2_scores.csv\n",
      "Fitting regression...\n",
      "NUM SAMPLES: 200\n",
      "Best alpha: 599.4842503189421\n"
     ]
    },
    {
     "name": "stderr",
     "output_type": "stream",
     "text": [
      "Processing samples:  82%|████████▏ | 329/401 [24:27<02:00,  1.67s/it]"
     ]
    },
    {
     "name": "stdout",
     "output_type": "stream",
     "text": [
      "0.17412082710456145\n",
      "[WRITE] Saved result from sample_10_state_county_county_desired_5ppc_200_size_seed_5678.pkl to /home/libe2152/optimizedsampling/0_results/usavars/population/cluster_sampling_r2_scores.csv\n",
      "Fitting regression...\n",
      "NUM SAMPLES: 200\n",
      "Best alpha: 599.4842503189421\n"
     ]
    },
    {
     "name": "stderr",
     "output_type": "stream",
     "text": [
      "Processing samples:  82%|████████▏ | 330/401 [24:29<02:01,  1.71s/it]"
     ]
    },
    {
     "name": "stdout",
     "output_type": "stream",
     "text": [
      "0.4077764821027303\n",
      "[WRITE] Saved result from sample_10_state_county_county_desired_5ppc_200_size_seed_789.pkl to /home/libe2152/optimizedsampling/0_results/usavars/population/cluster_sampling_r2_scores.csv\n",
      "Fitting regression...\n",
      "NUM SAMPLES: 200\n",
      "Best alpha: 46.41588833612782\n"
     ]
    },
    {
     "name": "stderr",
     "output_type": "stream",
     "text": [
      "Processing samples:  83%|████████▎ | 331/401 [24:31<02:01,  1.74s/it]"
     ]
    },
    {
     "name": "stdout",
     "output_type": "stream",
     "text": [
      "0.4446706696103915\n",
      "[WRITE] Saved result from sample_10_state_county_county_desired_5ppc_200_size_seed_9101.pkl to /home/libe2152/optimizedsampling/0_results/usavars/population/cluster_sampling_r2_scores.csv\n",
      "Fitting regression...\n",
      "NUM SAMPLES: 300\n",
      "Best alpha: 599.4842503189421\n"
     ]
    },
    {
     "name": "stderr",
     "output_type": "stream",
     "text": [
      "Processing samples:  83%|████████▎ | 332/401 [24:33<02:12,  1.92s/it]"
     ]
    },
    {
     "name": "stdout",
     "output_type": "stream",
     "text": [
      "0.4638000200980319\n",
      "[WRITE] Saved result from sample_10_state_county_county_desired_5ppc_300_size_seed_1.pkl to /home/libe2152/optimizedsampling/0_results/usavars/population/cluster_sampling_r2_scores.csv\n",
      "Fitting regression...\n",
      "NUM SAMPLES: 300\n",
      "Best alpha: 46.41588833612782\n"
     ]
    },
    {
     "name": "stderr",
     "output_type": "stream",
     "text": [
      "Processing samples:  83%|████████▎ | 333/401 [24:36<02:22,  2.09s/it]"
     ]
    },
    {
     "name": "stdout",
     "output_type": "stream",
     "text": [
      "0.4260168082650775\n",
      "[WRITE] Saved result from sample_10_state_county_county_desired_5ppc_300_size_seed_1213.pkl to /home/libe2152/optimizedsampling/0_results/usavars/population/cluster_sampling_r2_scores.csv\n",
      "Fitting regression...\n",
      "NUM SAMPLES: 300\n",
      "Best alpha: 599.4842503189421\n"
     ]
    },
    {
     "name": "stderr",
     "output_type": "stream",
     "text": [
      "Processing samples:  83%|████████▎ | 334/401 [24:38<02:30,  2.25s/it]"
     ]
    },
    {
     "name": "stdout",
     "output_type": "stream",
     "text": [
      "0.4670106274779091\n",
      "[WRITE] Saved result from sample_10_state_county_county_desired_5ppc_300_size_seed_123.pkl to /home/libe2152/optimizedsampling/0_results/usavars/population/cluster_sampling_r2_scores.csv\n",
      "Fitting regression...\n",
      "NUM SAMPLES: 300\n",
      "Best alpha: 599.4842503189421\n"
     ]
    },
    {
     "name": "stderr",
     "output_type": "stream",
     "text": [
      "Processing samples:  84%|████████▎ | 335/401 [24:41<02:33,  2.33s/it]"
     ]
    },
    {
     "name": "stdout",
     "output_type": "stream",
     "text": [
      "0.34985806223355276\n",
      "[WRITE] Saved result from sample_10_state_county_county_desired_5ppc_300_size_seed_1234.pkl to /home/libe2152/optimizedsampling/0_results/usavars/population/cluster_sampling_r2_scores.csv\n",
      "Fitting regression...\n",
      "NUM SAMPLES: 300\n",
      "Best alpha: 46.41588833612782\n"
     ]
    },
    {
     "name": "stderr",
     "output_type": "stream",
     "text": [
      "Processing samples:  84%|████████▍ | 336/401 [24:43<02:25,  2.23s/it]"
     ]
    },
    {
     "name": "stdout",
     "output_type": "stream",
     "text": [
      "0.39019714368290226\n",
      "[WRITE] Saved result from sample_10_state_county_county_desired_5ppc_300_size_seed_1415.pkl to /home/libe2152/optimizedsampling/0_results/usavars/population/cluster_sampling_r2_scores.csv\n",
      "Fitting regression...\n",
      "NUM SAMPLES: 300\n",
      "Best alpha: 599.4842503189421\n"
     ]
    },
    {
     "name": "stderr",
     "output_type": "stream",
     "text": [
      "Processing samples:  84%|████████▍ | 337/401 [24:45<02:27,  2.30s/it]"
     ]
    },
    {
     "name": "stdout",
     "output_type": "stream",
     "text": [
      "0.3138396160661009\n",
      "[WRITE] Saved result from sample_10_state_county_county_desired_5ppc_300_size_seed_42.pkl to /home/libe2152/optimizedsampling/0_results/usavars/population/cluster_sampling_r2_scores.csv\n",
      "Fitting regression...\n",
      "NUM SAMPLES: 300\n",
      "Best alpha: 46.41588833612782\n"
     ]
    },
    {
     "name": "stderr",
     "output_type": "stream",
     "text": [
      "Processing samples:  84%|████████▍ | 338/401 [24:47<02:24,  2.29s/it]"
     ]
    },
    {
     "name": "stdout",
     "output_type": "stream",
     "text": [
      "0.48391929267904343\n",
      "[WRITE] Saved result from sample_10_state_county_county_desired_5ppc_300_size_seed_456.pkl to /home/libe2152/optimizedsampling/0_results/usavars/population/cluster_sampling_r2_scores.csv\n",
      "Fitting regression...\n",
      "NUM SAMPLES: 300\n",
      "Best alpha: 46.41588833612782\n"
     ]
    },
    {
     "name": "stderr",
     "output_type": "stream",
     "text": [
      "Processing samples:  85%|████████▍ | 339/401 [24:50<02:32,  2.45s/it]"
     ]
    },
    {
     "name": "stdout",
     "output_type": "stream",
     "text": [
      "0.1721535743249315\n",
      "[WRITE] Saved result from sample_10_state_county_county_desired_5ppc_300_size_seed_5678.pkl to /home/libe2152/optimizedsampling/0_results/usavars/population/cluster_sampling_r2_scores.csv\n",
      "Fitting regression...\n",
      "NUM SAMPLES: 300\n",
      "Best alpha: 46.41588833612782\n"
     ]
    },
    {
     "name": "stderr",
     "output_type": "stream",
     "text": [
      "Processing samples:  85%|████████▍ | 340/401 [24:52<02:23,  2.35s/it]"
     ]
    },
    {
     "name": "stdout",
     "output_type": "stream",
     "text": [
      "0.41568436854329716\n",
      "[WRITE] Saved result from sample_10_state_county_county_desired_5ppc_300_size_seed_789.pkl to /home/libe2152/optimizedsampling/0_results/usavars/population/cluster_sampling_r2_scores.csv\n",
      "Fitting regression...\n",
      "NUM SAMPLES: 300\n",
      "Best alpha: 46.41588833612782\n"
     ]
    },
    {
     "name": "stderr",
     "output_type": "stream",
     "text": [
      "Processing samples:  85%|████████▌ | 341/401 [24:55<02:17,  2.30s/it]"
     ]
    },
    {
     "name": "stdout",
     "output_type": "stream",
     "text": [
      "0.4276195145932511\n",
      "[WRITE] Saved result from sample_10_state_county_county_desired_5ppc_300_size_seed_9101.pkl to /home/libe2152/optimizedsampling/0_results/usavars/population/cluster_sampling_r2_scores.csv\n",
      "Fitting regression...\n",
      "NUM SAMPLES: 400\n",
      "Best alpha: 599.4842503189421\n"
     ]
    },
    {
     "name": "stderr",
     "output_type": "stream",
     "text": [
      "Processing samples:  85%|████████▌ | 342/401 [24:57<02:18,  2.35s/it]"
     ]
    },
    {
     "name": "stdout",
     "output_type": "stream",
     "text": [
      "0.4788445933092057\n",
      "[WRITE] Saved result from sample_10_state_county_county_desired_5ppc_400_size_seed_1.pkl to /home/libe2152/optimizedsampling/0_results/usavars/population/cluster_sampling_r2_scores.csv\n",
      "Fitting regression...\n",
      "NUM SAMPLES: 400\n",
      "Best alpha: 46.41588833612782\n"
     ]
    },
    {
     "name": "stderr",
     "output_type": "stream",
     "text": [
      "Processing samples:  86%|████████▌ | 343/401 [25:00<02:22,  2.46s/it]"
     ]
    },
    {
     "name": "stdout",
     "output_type": "stream",
     "text": [
      "0.4279368844101843\n",
      "[WRITE] Saved result from sample_10_state_county_county_desired_5ppc_400_size_seed_1213.pkl to /home/libe2152/optimizedsampling/0_results/usavars/population/cluster_sampling_r2_scores.csv\n",
      "Fitting regression...\n",
      "NUM SAMPLES: 400\n",
      "Best alpha: 46.41588833612782\n"
     ]
    },
    {
     "name": "stderr",
     "output_type": "stream",
     "text": [
      "Processing samples:  86%|████████▌ | 344/401 [25:02<02:16,  2.39s/it]"
     ]
    },
    {
     "name": "stdout",
     "output_type": "stream",
     "text": [
      "0.44229827330858806\n",
      "[WRITE] Saved result from sample_10_state_county_county_desired_5ppc_400_size_seed_123.pkl to /home/libe2152/optimizedsampling/0_results/usavars/population/cluster_sampling_r2_scores.csv\n",
      "Fitting regression...\n",
      "NUM SAMPLES: 400\n",
      "Best alpha: 46.41588833612782\n"
     ]
    },
    {
     "name": "stderr",
     "output_type": "stream",
     "text": [
      "Processing samples:  86%|████████▌ | 345/401 [25:05<02:18,  2.48s/it]"
     ]
    },
    {
     "name": "stdout",
     "output_type": "stream",
     "text": [
      "0.3629922392726087\n",
      "[WRITE] Saved result from sample_10_state_county_county_desired_5ppc_400_size_seed_1234.pkl to /home/libe2152/optimizedsampling/0_results/usavars/population/cluster_sampling_r2_scores.csv\n",
      "Fitting regression...\n",
      "NUM SAMPLES: 400\n",
      "Best alpha: 46.41588833612782\n"
     ]
    },
    {
     "name": "stderr",
     "output_type": "stream",
     "text": [
      "Processing samples:  86%|████████▋ | 346/401 [25:07<02:20,  2.55s/it]"
     ]
    },
    {
     "name": "stdout",
     "output_type": "stream",
     "text": [
      "0.45612355268207483\n",
      "[WRITE] Saved result from sample_10_state_county_county_desired_5ppc_400_size_seed_1415.pkl to /home/libe2152/optimizedsampling/0_results/usavars/population/cluster_sampling_r2_scores.csv\n",
      "Fitting regression...\n",
      "NUM SAMPLES: 400\n",
      "Best alpha: 599.4842503189421\n"
     ]
    },
    {
     "name": "stderr",
     "output_type": "stream",
     "text": [
      "Processing samples:  87%|████████▋ | 347/401 [25:10<02:26,  2.72s/it]"
     ]
    },
    {
     "name": "stdout",
     "output_type": "stream",
     "text": [
      "0.34246414234182665\n",
      "[WRITE] Saved result from sample_10_state_county_county_desired_5ppc_400_size_seed_42.pkl to /home/libe2152/optimizedsampling/0_results/usavars/population/cluster_sampling_r2_scores.csv\n",
      "Fitting regression...\n",
      "NUM SAMPLES: 400\n",
      "Best alpha: 46.41588833612782\n"
     ]
    },
    {
     "name": "stderr",
     "output_type": "stream",
     "text": [
      "Processing samples:  87%|████████▋ | 348/401 [25:13<02:20,  2.64s/it]"
     ]
    },
    {
     "name": "stdout",
     "output_type": "stream",
     "text": [
      "0.4594248706033718\n",
      "[WRITE] Saved result from sample_10_state_county_county_desired_5ppc_400_size_seed_456.pkl to /home/libe2152/optimizedsampling/0_results/usavars/population/cluster_sampling_r2_scores.csv\n",
      "Fitting regression...\n",
      "NUM SAMPLES: 400\n",
      "Best alpha: 46.41588833612782\n"
     ]
    },
    {
     "name": "stderr",
     "output_type": "stream",
     "text": [
      "Processing samples:  87%|████████▋ | 349/401 [25:16<02:18,  2.67s/it]"
     ]
    },
    {
     "name": "stdout",
     "output_type": "stream",
     "text": [
      "0.27448582963333\n",
      "[WRITE] Saved result from sample_10_state_county_county_desired_5ppc_400_size_seed_5678.pkl to /home/libe2152/optimizedsampling/0_results/usavars/population/cluster_sampling_r2_scores.csv\n",
      "Fitting regression...\n",
      "NUM SAMPLES: 400\n",
      "Best alpha: 46.41588833612782\n"
     ]
    },
    {
     "name": "stderr",
     "output_type": "stream",
     "text": [
      "Processing samples:  87%|████████▋ | 350/401 [25:18<02:18,  2.71s/it]"
     ]
    },
    {
     "name": "stdout",
     "output_type": "stream",
     "text": [
      "0.4489394846717344\n",
      "[WRITE] Saved result from sample_10_state_county_county_desired_5ppc_400_size_seed_789.pkl to /home/libe2152/optimizedsampling/0_results/usavars/population/cluster_sampling_r2_scores.csv\n",
      "Fitting regression...\n",
      "NUM SAMPLES: 400\n",
      "Best alpha: 46.41588833612782\n"
     ]
    },
    {
     "name": "stderr",
     "output_type": "stream",
     "text": [
      "Processing samples:  88%|████████▊ | 351/401 [25:21<02:10,  2.62s/it]"
     ]
    },
    {
     "name": "stdout",
     "output_type": "stream",
     "text": [
      "0.4979609381829001\n",
      "[WRITE] Saved result from sample_10_state_county_county_desired_5ppc_400_size_seed_9101.pkl to /home/libe2152/optimizedsampling/0_results/usavars/population/cluster_sampling_r2_scores.csv\n",
      "Fitting regression...\n",
      "NUM SAMPLES: 500\n",
      "Best alpha: 46.41588833612782\n"
     ]
    },
    {
     "name": "stderr",
     "output_type": "stream",
     "text": [
      "Processing samples:  88%|████████▊ | 352/401 [25:24<02:17,  2.80s/it]"
     ]
    },
    {
     "name": "stdout",
     "output_type": "stream",
     "text": [
      "0.4889016497451496\n",
      "[WRITE] Saved result from sample_10_state_county_county_desired_5ppc_500_size_seed_1.pkl to /home/libe2152/optimizedsampling/0_results/usavars/population/cluster_sampling_r2_scores.csv\n",
      "Fitting regression...\n",
      "NUM SAMPLES: 500\n",
      "Best alpha: 599.4842503189421\n"
     ]
    },
    {
     "name": "stderr",
     "output_type": "stream",
     "text": [
      "Processing samples:  88%|████████▊ | 353/401 [25:28<02:24,  3.02s/it]"
     ]
    },
    {
     "name": "stdout",
     "output_type": "stream",
     "text": [
      "0.47185019489803814\n",
      "[WRITE] Saved result from sample_10_state_county_county_desired_5ppc_500_size_seed_1213.pkl to /home/libe2152/optimizedsampling/0_results/usavars/population/cluster_sampling_r2_scores.csv\n",
      "Fitting regression...\n",
      "NUM SAMPLES: 500\n",
      "Best alpha: 46.41588833612782\n"
     ]
    },
    {
     "name": "stderr",
     "output_type": "stream",
     "text": [
      "Processing samples:  88%|████████▊ | 354/401 [25:31<02:26,  3.11s/it]"
     ]
    },
    {
     "name": "stdout",
     "output_type": "stream",
     "text": [
      "0.4770955059277556\n",
      "[WRITE] Saved result from sample_10_state_county_county_desired_5ppc_500_size_seed_123.pkl to /home/libe2152/optimizedsampling/0_results/usavars/population/cluster_sampling_r2_scores.csv\n",
      "Fitting regression...\n",
      "NUM SAMPLES: 500\n",
      "Best alpha: 599.4842503189421\n"
     ]
    },
    {
     "name": "stderr",
     "output_type": "stream",
     "text": [
      "Processing samples:  89%|████████▊ | 355/401 [25:35<02:35,  3.38s/it]"
     ]
    },
    {
     "name": "stdout",
     "output_type": "stream",
     "text": [
      "0.4260719274658604\n",
      "[WRITE] Saved result from sample_10_state_county_county_desired_5ppc_500_size_seed_1234.pkl to /home/libe2152/optimizedsampling/0_results/usavars/population/cluster_sampling_r2_scores.csv\n",
      "Fitting regression...\n",
      "NUM SAMPLES: 500\n",
      "Best alpha: 46.41588833612782\n"
     ]
    },
    {
     "name": "stderr",
     "output_type": "stream",
     "text": [
      "Processing samples:  89%|████████▉ | 356/401 [25:38<02:30,  3.33s/it]"
     ]
    },
    {
     "name": "stdout",
     "output_type": "stream",
     "text": [
      "0.45856072027558004\n",
      "[WRITE] Saved result from sample_10_state_county_county_desired_5ppc_500_size_seed_1415.pkl to /home/libe2152/optimizedsampling/0_results/usavars/population/cluster_sampling_r2_scores.csv\n",
      "Fitting regression...\n",
      "NUM SAMPLES: 500\n",
      "Best alpha: 46.41588833612782\n"
     ]
    },
    {
     "name": "stderr",
     "output_type": "stream",
     "text": [
      "Processing samples:  89%|████████▉ | 357/401 [25:42<02:29,  3.40s/it]"
     ]
    },
    {
     "name": "stdout",
     "output_type": "stream",
     "text": [
      "0.3436276145305127\n",
      "[WRITE] Saved result from sample_10_state_county_county_desired_5ppc_500_size_seed_42.pkl to /home/libe2152/optimizedsampling/0_results/usavars/population/cluster_sampling_r2_scores.csv\n",
      "Fitting regression...\n",
      "NUM SAMPLES: 500\n",
      "Best alpha: 46.41588833612782\n"
     ]
    },
    {
     "name": "stderr",
     "output_type": "stream",
     "text": [
      "Processing samples:  89%|████████▉ | 358/401 [25:45<02:24,  3.36s/it]"
     ]
    },
    {
     "name": "stdout",
     "output_type": "stream",
     "text": [
      "0.4996651584947399\n",
      "[WRITE] Saved result from sample_10_state_county_county_desired_5ppc_500_size_seed_456.pkl to /home/libe2152/optimizedsampling/0_results/usavars/population/cluster_sampling_r2_scores.csv\n",
      "Fitting regression...\n",
      "NUM SAMPLES: 500\n",
      "Best alpha: 46.41588833612782\n"
     ]
    },
    {
     "name": "stderr",
     "output_type": "stream",
     "text": [
      "Processing samples:  90%|████████▉ | 359/401 [25:49<02:24,  3.43s/it]"
     ]
    },
    {
     "name": "stdout",
     "output_type": "stream",
     "text": [
      "0.34790611929344073\n",
      "[WRITE] Saved result from sample_10_state_county_county_desired_5ppc_500_size_seed_5678.pkl to /home/libe2152/optimizedsampling/0_results/usavars/population/cluster_sampling_r2_scores.csv\n",
      "Fitting regression...\n",
      "NUM SAMPLES: 500\n",
      "Best alpha: 46.41588833612782\n"
     ]
    },
    {
     "name": "stderr",
     "output_type": "stream",
     "text": [
      "Processing samples:  90%|████████▉ | 360/401 [25:52<02:22,  3.47s/it]"
     ]
    },
    {
     "name": "stdout",
     "output_type": "stream",
     "text": [
      "0.44847930517586954\n",
      "[WRITE] Saved result from sample_10_state_county_county_desired_5ppc_500_size_seed_789.pkl to /home/libe2152/optimizedsampling/0_results/usavars/population/cluster_sampling_r2_scores.csv\n",
      "Fitting regression...\n",
      "NUM SAMPLES: 500\n",
      "Best alpha: 46.41588833612782\n"
     ]
    },
    {
     "name": "stderr",
     "output_type": "stream",
     "text": [
      "Processing samples:  90%|█████████ | 361/401 [25:55<02:13,  3.34s/it]"
     ]
    },
    {
     "name": "stdout",
     "output_type": "stream",
     "text": [
      "0.5083075853540545\n",
      "[WRITE] Saved result from sample_10_state_county_county_desired_5ppc_500_size_seed_9101.pkl to /home/libe2152/optimizedsampling/0_results/usavars/population/cluster_sampling_r2_scores.csv\n",
      "Fitting regression...\n",
      "NUM SAMPLES: 600\n",
      "Best alpha: 599.4842503189421\n"
     ]
    },
    {
     "name": "stderr",
     "output_type": "stream",
     "text": [
      "Processing samples:  90%|█████████ | 362/401 [26:00<02:30,  3.87s/it]"
     ]
    },
    {
     "name": "stdout",
     "output_type": "stream",
     "text": [
      "0.4858502571609662\n",
      "[WRITE] Saved result from sample_10_state_county_county_desired_5ppc_600_size_seed_1.pkl to /home/libe2152/optimizedsampling/0_results/usavars/population/cluster_sampling_r2_scores.csv\n",
      "Fitting regression...\n",
      "NUM SAMPLES: 600\n",
      "Best alpha: 599.4842503189421\n"
     ]
    },
    {
     "name": "stderr",
     "output_type": "stream",
     "text": [
      "Processing samples:  91%|█████████ | 363/401 [26:06<02:42,  4.28s/it]"
     ]
    },
    {
     "name": "stdout",
     "output_type": "stream",
     "text": [
      "0.48222994752123616\n",
      "[WRITE] Saved result from sample_10_state_county_county_desired_5ppc_600_size_seed_1213.pkl to /home/libe2152/optimizedsampling/0_results/usavars/population/cluster_sampling_r2_scores.csv\n",
      "Fitting regression...\n",
      "NUM SAMPLES: 600\n",
      "Best alpha: 46.41588833612782\n"
     ]
    },
    {
     "name": "stderr",
     "output_type": "stream",
     "text": [
      "Processing samples:  91%|█████████ | 364/401 [26:10<02:43,  4.42s/it]"
     ]
    },
    {
     "name": "stdout",
     "output_type": "stream",
     "text": [
      "0.4980275513919781\n",
      "[WRITE] Saved result from sample_10_state_county_county_desired_5ppc_600_size_seed_123.pkl to /home/libe2152/optimizedsampling/0_results/usavars/population/cluster_sampling_r2_scores.csv\n",
      "Fitting regression...\n",
      "NUM SAMPLES: 600\n",
      "Best alpha: 599.4842503189421\n"
     ]
    },
    {
     "name": "stderr",
     "output_type": "stream",
     "text": [
      "Processing samples:  91%|█████████ | 365/401 [26:16<02:56,  4.90s/it]"
     ]
    },
    {
     "name": "stdout",
     "output_type": "stream",
     "text": [
      "0.45109225607025216\n",
      "[WRITE] Saved result from sample_10_state_county_county_desired_5ppc_600_size_seed_1234.pkl to /home/libe2152/optimizedsampling/0_results/usavars/population/cluster_sampling_r2_scores.csv\n",
      "Fitting regression...\n",
      "NUM SAMPLES: 600\n",
      "Best alpha: 46.41588833612782\n"
     ]
    },
    {
     "name": "stderr",
     "output_type": "stream",
     "text": [
      "Processing samples:  91%|█████████▏| 366/401 [26:22<03:01,  5.18s/it]"
     ]
    },
    {
     "name": "stdout",
     "output_type": "stream",
     "text": [
      "0.4955708017221736\n",
      "[WRITE] Saved result from sample_10_state_county_county_desired_5ppc_600_size_seed_1415.pkl to /home/libe2152/optimizedsampling/0_results/usavars/population/cluster_sampling_r2_scores.csv\n",
      "Fitting regression...\n",
      "NUM SAMPLES: 600\n",
      "Best alpha: 599.4842503189421\n"
     ]
    },
    {
     "name": "stderr",
     "output_type": "stream",
     "text": [
      "Processing samples:  92%|█████████▏| 367/401 [26:27<02:51,  5.05s/it]"
     ]
    },
    {
     "name": "stdout",
     "output_type": "stream",
     "text": [
      "0.3731850068381083\n",
      "[WRITE] Saved result from sample_10_state_county_county_desired_5ppc_600_size_seed_42.pkl to /home/libe2152/optimizedsampling/0_results/usavars/population/cluster_sampling_r2_scores.csv\n",
      "Fitting regression...\n",
      "NUM SAMPLES: 600\n",
      "Best alpha: 46.41588833612782\n"
     ]
    },
    {
     "name": "stderr",
     "output_type": "stream",
     "text": [
      "Processing samples:  92%|█████████▏| 368/401 [26:33<02:59,  5.42s/it]"
     ]
    },
    {
     "name": "stdout",
     "output_type": "stream",
     "text": [
      "0.5105097962677478\n",
      "[WRITE] Saved result from sample_10_state_county_county_desired_5ppc_600_size_seed_456.pkl to /home/libe2152/optimizedsampling/0_results/usavars/population/cluster_sampling_r2_scores.csv\n",
      "Fitting regression...\n",
      "NUM SAMPLES: 600\n",
      "Best alpha: 46.41588833612782\n"
     ]
    },
    {
     "name": "stderr",
     "output_type": "stream",
     "text": [
      "Processing samples:  92%|█████████▏| 369/401 [26:38<02:48,  5.28s/it]"
     ]
    },
    {
     "name": "stdout",
     "output_type": "stream",
     "text": [
      "0.30298330427177855\n",
      "[WRITE] Saved result from sample_10_state_county_county_desired_5ppc_600_size_seed_5678.pkl to /home/libe2152/optimizedsampling/0_results/usavars/population/cluster_sampling_r2_scores.csv\n",
      "Fitting regression...\n",
      "NUM SAMPLES: 600\n",
      "Best alpha: 46.41588833612782\n"
     ]
    },
    {
     "name": "stderr",
     "output_type": "stream",
     "text": [
      "Processing samples:  92%|█████████▏| 370/401 [26:44<02:51,  5.53s/it]"
     ]
    },
    {
     "name": "stdout",
     "output_type": "stream",
     "text": [
      "0.4542961015012936\n",
      "[WRITE] Saved result from sample_10_state_county_county_desired_5ppc_600_size_seed_789.pkl to /home/libe2152/optimizedsampling/0_results/usavars/population/cluster_sampling_r2_scores.csv\n",
      "Fitting regression...\n",
      "NUM SAMPLES: 600\n",
      "Best alpha: 46.41588833612782\n"
     ]
    },
    {
     "name": "stderr",
     "output_type": "stream",
     "text": [
      "Processing samples:  93%|█████████▎| 371/401 [26:51<02:54,  5.81s/it]"
     ]
    },
    {
     "name": "stdout",
     "output_type": "stream",
     "text": [
      "0.4997742389438512\n",
      "[WRITE] Saved result from sample_10_state_county_county_desired_5ppc_600_size_seed_9101.pkl to /home/libe2152/optimizedsampling/0_results/usavars/population/cluster_sampling_r2_scores.csv\n",
      "Fitting regression...\n",
      "NUM SAMPLES: 700\n",
      "Best alpha: 599.4842503189421\n"
     ]
    },
    {
     "name": "stderr",
     "output_type": "stream",
     "text": [
      "Processing samples:  93%|█████████▎| 372/401 [26:57<02:52,  5.93s/it]"
     ]
    },
    {
     "name": "stdout",
     "output_type": "stream",
     "text": [
      "0.4892070266592069\n",
      "[WRITE] Saved result from sample_10_state_county_county_desired_5ppc_700_size_seed_1.pkl to /home/libe2152/optimizedsampling/0_results/usavars/population/cluster_sampling_r2_scores.csv\n",
      "Fitting regression...\n",
      "NUM SAMPLES: 700\n",
      "Best alpha: 46.41588833612782\n"
     ]
    },
    {
     "name": "stderr",
     "output_type": "stream",
     "text": [
      "Processing samples:  93%|█████████▎| 373/401 [27:03<02:44,  5.89s/it]"
     ]
    },
    {
     "name": "stdout",
     "output_type": "stream",
     "text": [
      "0.5067693676163082\n",
      "[WRITE] Saved result from sample_10_state_county_county_desired_5ppc_700_size_seed_1213.pkl to /home/libe2152/optimizedsampling/0_results/usavars/population/cluster_sampling_r2_scores.csv\n",
      "Fitting regression...\n",
      "NUM SAMPLES: 700\n",
      "Best alpha: 46.41588833612782\n"
     ]
    },
    {
     "name": "stderr",
     "output_type": "stream",
     "text": [
      "Processing samples:  93%|█████████▎| 374/401 [27:09<02:39,  5.90s/it]"
     ]
    },
    {
     "name": "stdout",
     "output_type": "stream",
     "text": [
      "0.502351581019097\n",
      "[WRITE] Saved result from sample_10_state_county_county_desired_5ppc_700_size_seed_123.pkl to /home/libe2152/optimizedsampling/0_results/usavars/population/cluster_sampling_r2_scores.csv\n",
      "Fitting regression...\n",
      "NUM SAMPLES: 700\n",
      "Best alpha: 599.4842503189421\n"
     ]
    },
    {
     "name": "stderr",
     "output_type": "stream",
     "text": [
      "Processing samples:  94%|█████████▎| 375/401 [27:19<03:09,  7.28s/it]"
     ]
    },
    {
     "name": "stdout",
     "output_type": "stream",
     "text": [
      "0.45231545188829303\n",
      "[WRITE] Saved result from sample_10_state_county_county_desired_5ppc_700_size_seed_1234.pkl to /home/libe2152/optimizedsampling/0_results/usavars/population/cluster_sampling_r2_scores.csv\n",
      "Fitting regression...\n",
      "NUM SAMPLES: 700\n",
      "Best alpha: 46.41588833612782\n"
     ]
    },
    {
     "name": "stderr",
     "output_type": "stream",
     "text": [
      "Processing samples:  94%|█████████▍| 376/401 [27:25<02:52,  6.88s/it]"
     ]
    },
    {
     "name": "stdout",
     "output_type": "stream",
     "text": [
      "0.49914328792559925\n",
      "[WRITE] Saved result from sample_10_state_county_county_desired_5ppc_700_size_seed_1415.pkl to /home/libe2152/optimizedsampling/0_results/usavars/population/cluster_sampling_r2_scores.csv\n",
      "Fitting regression...\n",
      "NUM SAMPLES: 700\n",
      "Best alpha: 46.41588833612782\n"
     ]
    },
    {
     "name": "stderr",
     "output_type": "stream",
     "text": [
      "Processing samples:  94%|█████████▍| 377/401 [27:31<02:40,  6.67s/it]"
     ]
    },
    {
     "name": "stdout",
     "output_type": "stream",
     "text": [
      "0.3634469168063913\n",
      "[WRITE] Saved result from sample_10_state_county_county_desired_5ppc_700_size_seed_42.pkl to /home/libe2152/optimizedsampling/0_results/usavars/population/cluster_sampling_r2_scores.csv\n",
      "Fitting regression...\n",
      "NUM SAMPLES: 700\n",
      "Best alpha: 46.41588833612782\n"
     ]
    },
    {
     "name": "stderr",
     "output_type": "stream",
     "text": [
      "Processing samples:  94%|█████████▍| 378/401 [27:37<02:24,  6.30s/it]"
     ]
    },
    {
     "name": "stdout",
     "output_type": "stream",
     "text": [
      "0.5303814397854153\n",
      "[WRITE] Saved result from sample_10_state_county_county_desired_5ppc_700_size_seed_456.pkl to /home/libe2152/optimizedsampling/0_results/usavars/population/cluster_sampling_r2_scores.csv\n",
      "Fitting regression...\n",
      "NUM SAMPLES: 700\n",
      "Best alpha: 46.41588833612782\n"
     ]
    },
    {
     "name": "stderr",
     "output_type": "stream",
     "text": [
      "Processing samples:  95%|█████████▍| 379/401 [27:43<02:20,  6.37s/it]"
     ]
    },
    {
     "name": "stdout",
     "output_type": "stream",
     "text": [
      "0.286749348481111\n",
      "[WRITE] Saved result from sample_10_state_county_county_desired_5ppc_700_size_seed_5678.pkl to /home/libe2152/optimizedsampling/0_results/usavars/population/cluster_sampling_r2_scores.csv\n",
      "Fitting regression...\n",
      "NUM SAMPLES: 700\n",
      "Best alpha: 46.41588833612782\n"
     ]
    },
    {
     "name": "stderr",
     "output_type": "stream",
     "text": [
      "Processing samples:  95%|█████████▍| 380/401 [27:52<02:31,  7.23s/it]"
     ]
    },
    {
     "name": "stdout",
     "output_type": "stream",
     "text": [
      "0.45976339095419994\n",
      "[WRITE] Saved result from sample_10_state_county_county_desired_5ppc_700_size_seed_789.pkl to /home/libe2152/optimizedsampling/0_results/usavars/population/cluster_sampling_r2_scores.csv\n",
      "Fitting regression...\n",
      "NUM SAMPLES: 700\n",
      "Best alpha: 46.41588833612782\n"
     ]
    },
    {
     "name": "stderr",
     "output_type": "stream",
     "text": [
      "Processing samples:  95%|█████████▌| 381/401 [28:02<02:37,  7.87s/it]"
     ]
    },
    {
     "name": "stdout",
     "output_type": "stream",
     "text": [
      "0.5095547096051994\n",
      "[WRITE] Saved result from sample_10_state_county_county_desired_5ppc_700_size_seed_9101.pkl to /home/libe2152/optimizedsampling/0_results/usavars/population/cluster_sampling_r2_scores.csv\n",
      "Fitting regression...\n",
      "NUM SAMPLES: 800\n",
      "Best alpha: 599.4842503189421\n"
     ]
    },
    {
     "name": "stderr",
     "output_type": "stream",
     "text": [
      "Processing samples:  95%|█████████▌| 382/401 [28:11<02:38,  8.33s/it]"
     ]
    },
    {
     "name": "stdout",
     "output_type": "stream",
     "text": [
      "0.4808589566627868\n",
      "[WRITE] Saved result from sample_10_state_county_county_desired_5ppc_800_size_seed_1.pkl to /home/libe2152/optimizedsampling/0_results/usavars/population/cluster_sampling_r2_scores.csv\n",
      "Fitting regression...\n",
      "NUM SAMPLES: 800\n",
      "Best alpha: 46.41588833612782\n"
     ]
    },
    {
     "name": "stderr",
     "output_type": "stream",
     "text": [
      "Processing samples:  96%|█████████▌| 383/401 [28:19<02:26,  8.14s/it]"
     ]
    },
    {
     "name": "stdout",
     "output_type": "stream",
     "text": [
      "0.5255305902266905\n",
      "[WRITE] Saved result from sample_10_state_county_county_desired_5ppc_800_size_seed_1213.pkl to /home/libe2152/optimizedsampling/0_results/usavars/population/cluster_sampling_r2_scores.csv\n",
      "Fitting regression...\n",
      "NUM SAMPLES: 800\n",
      "Best alpha: 46.41588833612782\n"
     ]
    },
    {
     "name": "stderr",
     "output_type": "stream",
     "text": [
      "Processing samples:  96%|█████████▌| 384/401 [28:26<02:14,  7.90s/it]"
     ]
    },
    {
     "name": "stdout",
     "output_type": "stream",
     "text": [
      "0.51035387369684\n",
      "[WRITE] Saved result from sample_10_state_county_county_desired_5ppc_800_size_seed_123.pkl to /home/libe2152/optimizedsampling/0_results/usavars/population/cluster_sampling_r2_scores.csv\n",
      "Fitting regression...\n",
      "NUM SAMPLES: 800\n",
      "Best alpha: 46.41588833612782\n"
     ]
    },
    {
     "name": "stderr",
     "output_type": "stream",
     "text": [
      "Processing samples:  96%|█████████▌| 385/401 [28:34<02:03,  7.69s/it]"
     ]
    },
    {
     "name": "stdout",
     "output_type": "stream",
     "text": [
      "0.503480368373513\n",
      "[WRITE] Saved result from sample_10_state_county_county_desired_5ppc_800_size_seed_1234.pkl to /home/libe2152/optimizedsampling/0_results/usavars/population/cluster_sampling_r2_scores.csv\n",
      "Fitting regression...\n",
      "NUM SAMPLES: 800\n",
      "Best alpha: 46.41588833612782\n"
     ]
    },
    {
     "name": "stderr",
     "output_type": "stream",
     "text": [
      "Processing samples:  96%|█████████▋| 386/401 [28:41<01:54,  7.66s/it]"
     ]
    },
    {
     "name": "stdout",
     "output_type": "stream",
     "text": [
      "0.4939439612369424\n",
      "[WRITE] Saved result from sample_10_state_county_county_desired_5ppc_800_size_seed_1415.pkl to /home/libe2152/optimizedsampling/0_results/usavars/population/cluster_sampling_r2_scores.csv\n",
      "Fitting regression...\n",
      "NUM SAMPLES: 800\n",
      "Best alpha: 46.41588833612782\n"
     ]
    },
    {
     "name": "stderr",
     "output_type": "stream",
     "text": [
      "Processing samples:  97%|█████████▋| 387/401 [28:49<01:47,  7.65s/it]"
     ]
    },
    {
     "name": "stdout",
     "output_type": "stream",
     "text": [
      "0.3866070948211111\n",
      "[WRITE] Saved result from sample_10_state_county_county_desired_5ppc_800_size_seed_42.pkl to /home/libe2152/optimizedsampling/0_results/usavars/population/cluster_sampling_r2_scores.csv\n",
      "Fitting regression...\n",
      "NUM SAMPLES: 800\n",
      "Best alpha: 3.593813663804626\n"
     ]
    },
    {
     "name": "stderr",
     "output_type": "stream",
     "text": [
      "Processing samples:  97%|█████████▋| 388/401 [28:56<01:38,  7.57s/it]"
     ]
    },
    {
     "name": "stdout",
     "output_type": "stream",
     "text": [
      "0.48799338732229924\n",
      "[WRITE] Saved result from sample_10_state_county_county_desired_5ppc_800_size_seed_456.pkl to /home/libe2152/optimizedsampling/0_results/usavars/population/cluster_sampling_r2_scores.csv\n",
      "Fitting regression...\n",
      "NUM SAMPLES: 800\n",
      "Best alpha: 46.41588833612782\n"
     ]
    },
    {
     "name": "stderr",
     "output_type": "stream",
     "text": [
      "Processing samples:  97%|█████████▋| 389/401 [29:04<01:30,  7.57s/it]"
     ]
    },
    {
     "name": "stdout",
     "output_type": "stream",
     "text": [
      "0.32015346205805495\n",
      "[WRITE] Saved result from sample_10_state_county_county_desired_5ppc_800_size_seed_5678.pkl to /home/libe2152/optimizedsampling/0_results/usavars/population/cluster_sampling_r2_scores.csv\n",
      "Fitting regression...\n",
      "NUM SAMPLES: 800\n",
      "Best alpha: 46.41588833612782\n"
     ]
    },
    {
     "name": "stderr",
     "output_type": "stream",
     "text": [
      "Processing samples:  97%|█████████▋| 390/401 [29:11<01:23,  7.62s/it]"
     ]
    },
    {
     "name": "stdout",
     "output_type": "stream",
     "text": [
      "0.4843593525121497\n",
      "[WRITE] Saved result from sample_10_state_county_county_desired_5ppc_800_size_seed_789.pkl to /home/libe2152/optimizedsampling/0_results/usavars/population/cluster_sampling_r2_scores.csv\n",
      "Fitting regression...\n",
      "NUM SAMPLES: 800\n",
      "Best alpha: 46.41588833612782\n"
     ]
    },
    {
     "name": "stderr",
     "output_type": "stream",
     "text": [
      "Processing samples:  98%|█████████▊| 391/401 [29:19<01:15,  7.58s/it]"
     ]
    },
    {
     "name": "stdout",
     "output_type": "stream",
     "text": [
      "0.510820700383535\n",
      "[WRITE] Saved result from sample_10_state_county_county_desired_5ppc_800_size_seed_9101.pkl to /home/libe2152/optimizedsampling/0_results/usavars/population/cluster_sampling_r2_scores.csv\n",
      "Fitting regression...\n",
      "NUM SAMPLES: 900\n",
      "Best alpha: 46.41588833612782\n"
     ]
    },
    {
     "name": "stderr",
     "output_type": "stream",
     "text": [
      "Processing samples:  98%|█████████▊| 392/401 [29:27<01:09,  7.70s/it]"
     ]
    },
    {
     "name": "stdout",
     "output_type": "stream",
     "text": [
      "0.5092052559972786\n",
      "[WRITE] Saved result from sample_10_state_county_county_desired_5ppc_900_size_seed_1.pkl to /home/libe2152/optimizedsampling/0_results/usavars/population/cluster_sampling_r2_scores.csv\n",
      "Fitting regression...\n",
      "NUM SAMPLES: 900\n",
      "Best alpha: 46.41588833612782\n"
     ]
    },
    {
     "name": "stderr",
     "output_type": "stream",
     "text": [
      "Processing samples:  98%|█████████▊| 393/401 [29:35<01:03,  7.92s/it]"
     ]
    },
    {
     "name": "stdout",
     "output_type": "stream",
     "text": [
      "0.5272585226188851\n",
      "[WRITE] Saved result from sample_10_state_county_county_desired_5ppc_900_size_seed_1213.pkl to /home/libe2152/optimizedsampling/0_results/usavars/population/cluster_sampling_r2_scores.csv\n",
      "Fitting regression...\n",
      "NUM SAMPLES: 900\n",
      "Best alpha: 3.593813663804626\n"
     ]
    },
    {
     "name": "stderr",
     "output_type": "stream",
     "text": [
      "Processing samples:  98%|█████████▊| 394/401 [29:43<00:55,  7.93s/it]"
     ]
    },
    {
     "name": "stdout",
     "output_type": "stream",
     "text": [
      "0.4300397849009222\n",
      "[WRITE] Saved result from sample_10_state_county_county_desired_5ppc_900_size_seed_123.pkl to /home/libe2152/optimizedsampling/0_results/usavars/population/cluster_sampling_r2_scores.csv\n",
      "Fitting regression...\n",
      "NUM SAMPLES: 900\n",
      "Best alpha: 46.41588833612782\n"
     ]
    },
    {
     "name": "stderr",
     "output_type": "stream",
     "text": [
      "Processing samples:  99%|█████████▊| 395/401 [29:51<00:47,  7.98s/it]"
     ]
    },
    {
     "name": "stdout",
     "output_type": "stream",
     "text": [
      "0.4928457274509457\n",
      "[WRITE] Saved result from sample_10_state_county_county_desired_5ppc_900_size_seed_1234.pkl to /home/libe2152/optimizedsampling/0_results/usavars/population/cluster_sampling_r2_scores.csv\n",
      "Fitting regression...\n",
      "NUM SAMPLES: 900\n",
      "Best alpha: 46.41588833612782\n"
     ]
    },
    {
     "name": "stderr",
     "output_type": "stream",
     "text": [
      "Processing samples:  99%|█████████▉| 396/401 [30:00<00:40,  8.08s/it]"
     ]
    },
    {
     "name": "stdout",
     "output_type": "stream",
     "text": [
      "0.5192947051263817\n",
      "[WRITE] Saved result from sample_10_state_county_county_desired_5ppc_900_size_seed_1415.pkl to /home/libe2152/optimizedsampling/0_results/usavars/population/cluster_sampling_r2_scores.csv\n",
      "Fitting regression...\n",
      "NUM SAMPLES: 900\n",
      "Best alpha: 46.41588833612782\n"
     ]
    },
    {
     "name": "stderr",
     "output_type": "stream",
     "text": [
      "Processing samples:  99%|█████████▉| 397/401 [30:08<00:32,  8.15s/it]"
     ]
    },
    {
     "name": "stdout",
     "output_type": "stream",
     "text": [
      "0.4054032914143946\n",
      "[WRITE] Saved result from sample_10_state_county_county_desired_5ppc_900_size_seed_42.pkl to /home/libe2152/optimizedsampling/0_results/usavars/population/cluster_sampling_r2_scores.csv\n",
      "Fitting regression...\n",
      "NUM SAMPLES: 900\n",
      "Best alpha: 46.41588833612782\n"
     ]
    },
    {
     "name": "stderr",
     "output_type": "stream",
     "text": [
      "Processing samples:  99%|█████████▉| 398/401 [30:16<00:24,  8.09s/it]"
     ]
    },
    {
     "name": "stdout",
     "output_type": "stream",
     "text": [
      "0.5349068486458971\n",
      "[WRITE] Saved result from sample_10_state_county_county_desired_5ppc_900_size_seed_456.pkl to /home/libe2152/optimizedsampling/0_results/usavars/population/cluster_sampling_r2_scores.csv\n",
      "Fitting regression...\n",
      "NUM SAMPLES: 900\n",
      "Best alpha: 46.41588833612782\n"
     ]
    },
    {
     "name": "stderr",
     "output_type": "stream",
     "text": [
      "Processing samples: 100%|█████████▉| 399/401 [30:28<00:18,  9.31s/it]"
     ]
    },
    {
     "name": "stdout",
     "output_type": "stream",
     "text": [
      "0.37101508713940745\n",
      "[WRITE] Saved result from sample_10_state_county_county_desired_5ppc_900_size_seed_5678.pkl to /home/libe2152/optimizedsampling/0_results/usavars/population/cluster_sampling_r2_scores.csv\n",
      "Fitting regression...\n",
      "NUM SAMPLES: 900\n",
      "Best alpha: 46.41588833612782\n"
     ]
    },
    {
     "name": "stderr",
     "output_type": "stream",
     "text": [
      "Processing samples: 100%|█████████▉| 400/401 [30:37<00:09,  9.16s/it]"
     ]
    },
    {
     "name": "stdout",
     "output_type": "stream",
     "text": [
      "0.4865392754402489\n",
      "[WRITE] Saved result from sample_10_state_county_county_desired_5ppc_900_size_seed_789.pkl to /home/libe2152/optimizedsampling/0_results/usavars/population/cluster_sampling_r2_scores.csv\n",
      "Fitting regression...\n",
      "NUM SAMPLES: 900\n",
      "Best alpha: 46.41588833612782\n"
     ]
    },
    {
     "name": "stderr",
     "output_type": "stream",
     "text": [
      "Processing samples: 100%|██████████| 401/401 [30:45<00:00,  4.60s/it]"
     ]
    },
    {
     "name": "stdout",
     "output_type": "stream",
     "text": [
      "0.5158058105049496\n",
      "[WRITE] Saved result from sample_10_state_county_county_desired_5ppc_900_size_seed_9101.pkl to /home/libe2152/optimizedsampling/0_results/usavars/population/cluster_sampling_r2_scores.csv\n",
      "Results written incrementally to /home/libe2152/optimizedsampling/0_results/usavars/population/cluster_sampling_r2_scores.csv\n",
      "Loading features from /home/libe2152/optimizedsampling/0_data/features/usavars/CONTUS_UAR_population_with_splits_torchgeo4096.pkl ...\n"
     ]
    },
    {
     "name": "stderr",
     "output_type": "stream",
     "text": [
      "\n"
     ]
    },
    {
     "name": "stdout",
     "output_type": "stream",
     "text": [
      "Processing samples from /home/libe2152/optimizedsampling/0_data/initial_samples/usavars/population/convenience_sampling/urban_based ...\n"
     ]
    },
    {
     "name": "stderr",
     "output_type": "stream",
     "text": [
      "Processing samples: 100%|██████████| 403/403 [00:00<00:00, 19532.29it/s]"
     ]
    },
    {
     "name": "stdout",
     "output_type": "stream",
     "text": [
      "[WARNING] Failed to load IDS_top10_urban_1000_points_probabilistic_1000_size_seed_1.pkl: list indices must be integers or slices, not str\n",
      "[WARNING] Failed to load IDS_top10_urban_1000_points_probabilistic_1000_size_seed_1213.pkl: list indices must be integers or slices, not str\n",
      "[WARNING] Failed to load IDS_top10_urban_1000_points_probabilistic_1000_size_seed_123.pkl: list indices must be integers or slices, not str\n",
      "[WARNING] Failed to load IDS_top10_urban_1000_points_probabilistic_1000_size_seed_1234.pkl: list indices must be integers or slices, not str\n",
      "[WARNING] Failed to load IDS_top10_urban_1000_points_probabilistic_1000_size_seed_1415.pkl: list indices must be integers or slices, not str\n",
      "[WARNING] Failed to load IDS_top10_urban_1000_points_probabilistic_1000_size_seed_42.pkl: list indices must be integers or slices, not str\n",
      "[WARNING] Failed to load IDS_top10_urban_1000_points_probabilistic_1000_size_seed_456.pkl: list indices must be integers or slices, not str\n",
      "[WARNING] Failed to load IDS_top10_urban_1000_points_probabilistic_1000_size_seed_5678.pkl: list indices must be integers or slices, not str\n",
      "[WARNING] Failed to load IDS_top10_urban_1000_points_probabilistic_1000_size_seed_789.pkl: list indices must be integers or slices, not str\n",
      "[WARNING] Failed to load IDS_top10_urban_1000_points_probabilistic_1000_size_seed_9101.pkl: list indices must be integers or slices, not str\n",
      "[WARNING] Failed to load IDS_top10_urban_1000_points_probabilistic_seed_1.pkl: list indices must be integers or slices, not str\n",
      "[WARNING] Failed to load IDS_top10_urban_1000_points_probabilistic_seed_1213.pkl: list indices must be integers or slices, not str\n",
      "[WARNING] Failed to load IDS_top10_urban_1000_points_probabilistic_seed_123.pkl: list indices must be integers or slices, not str\n",
      "[WARNING] Failed to load IDS_top10_urban_1000_points_probabilistic_seed_1234.pkl: list indices must be integers or slices, not str\n",
      "[WARNING] Failed to load IDS_top10_urban_1000_points_probabilistic_seed_1415.pkl: list indices must be integers or slices, not str\n",
      "[WARNING] Failed to load IDS_top10_urban_1000_points_probabilistic_seed_42.pkl: list indices must be integers or slices, not str\n",
      "[WARNING] Failed to load IDS_top10_urban_1000_points_probabilistic_seed_456.pkl: list indices must be integers or slices, not str\n",
      "[WARNING] Failed to load IDS_top10_urban_1000_points_probabilistic_seed_5678.pkl: list indices must be integers or slices, not str\n",
      "[WARNING] Failed to load IDS_top10_urban_1000_points_probabilistic_seed_789.pkl: list indices must be integers or slices, not str\n",
      "[WARNING] Failed to load IDS_top10_urban_1000_points_probabilistic_seed_9101.pkl: list indices must be integers or slices, not str\n",
      "[WARNING] Failed to load IDS_top10_urban_100_points_probabilistic_100_size_seed_1.pkl: list indices must be integers or slices, not str\n",
      "[WARNING] Failed to load IDS_top10_urban_100_points_probabilistic_100_size_seed_1213.pkl: list indices must be integers or slices, not str\n",
      "[WARNING] Failed to load IDS_top10_urban_100_points_probabilistic_100_size_seed_123.pkl: list indices must be integers or slices, not str\n",
      "[WARNING] Failed to load IDS_top10_urban_100_points_probabilistic_100_size_seed_1234.pkl: list indices must be integers or slices, not str\n",
      "[WARNING] Failed to load IDS_top10_urban_100_points_probabilistic_100_size_seed_1415.pkl: list indices must be integers or slices, not str\n",
      "[WARNING] Failed to load IDS_top10_urban_100_points_probabilistic_100_size_seed_42.pkl: list indices must be integers or slices, not str\n",
      "[WARNING] Failed to load IDS_top10_urban_100_points_probabilistic_100_size_seed_456.pkl: list indices must be integers or slices, not str\n",
      "[WARNING] Failed to load IDS_top10_urban_100_points_probabilistic_100_size_seed_5678.pkl: list indices must be integers or slices, not str\n",
      "[WARNING] Failed to load IDS_top10_urban_100_points_probabilistic_100_size_seed_789.pkl: list indices must be integers or slices, not str\n",
      "[WARNING] Failed to load IDS_top10_urban_100_points_probabilistic_100_size_seed_9101.pkl: list indices must be integers or slices, not str\n",
      "[WARNING] Failed to load IDS_top10_urban_100_points_probabilistic_seed_1.pkl: list indices must be integers or slices, not str\n",
      "[WARNING] Failed to load IDS_top10_urban_100_points_probabilistic_seed_1213.pkl: list indices must be integers or slices, not str\n",
      "[WARNING] Failed to load IDS_top10_urban_100_points_probabilistic_seed_123.pkl: list indices must be integers or slices, not str\n",
      "[WARNING] Failed to load IDS_top10_urban_100_points_probabilistic_seed_1234.pkl: list indices must be integers or slices, not str\n",
      "[WARNING] Failed to load IDS_top10_urban_100_points_probabilistic_seed_1415.pkl: list indices must be integers or slices, not str\n",
      "[WARNING] Failed to load IDS_top10_urban_100_points_probabilistic_seed_42.pkl: list indices must be integers or slices, not str\n",
      "[WARNING] Failed to load IDS_top10_urban_100_points_probabilistic_seed_456.pkl: list indices must be integers or slices, not str\n",
      "[WARNING] Failed to load IDS_top10_urban_100_points_probabilistic_seed_5678.pkl: list indices must be integers or slices, not str\n",
      "[WARNING] Failed to load IDS_top10_urban_100_points_probabilistic_seed_789.pkl: list indices must be integers or slices, not str\n",
      "[WARNING] Failed to load IDS_top10_urban_100_points_probabilistic_seed_9101.pkl: list indices must be integers or slices, not str\n",
      "[WARNING] Failed to load IDS_top10_urban_10_points_probabilistic_seed_1.pkl: list indices must be integers or slices, not str\n",
      "[WARNING] Failed to load IDS_top10_urban_10_points_probabilistic_seed_42.pkl: list indices must be integers or slices, not str\n",
      "[WARNING] Failed to load IDS_top10_urban_200_points_probabilistic_200_size_seed_1.pkl: list indices must be integers or slices, not str\n",
      "[WARNING] Failed to load IDS_top10_urban_200_points_probabilistic_200_size_seed_1213.pkl: list indices must be integers or slices, not str\n",
      "[WARNING] Failed to load IDS_top10_urban_200_points_probabilistic_200_size_seed_123.pkl: list indices must be integers or slices, not str\n",
      "[WARNING] Failed to load IDS_top10_urban_200_points_probabilistic_200_size_seed_1234.pkl: list indices must be integers or slices, not str\n",
      "[WARNING] Failed to load IDS_top10_urban_200_points_probabilistic_200_size_seed_1415.pkl: list indices must be integers or slices, not str\n",
      "[WARNING] Failed to load IDS_top10_urban_200_points_probabilistic_200_size_seed_42.pkl: list indices must be integers or slices, not str\n",
      "[WARNING] Failed to load IDS_top10_urban_200_points_probabilistic_200_size_seed_456.pkl: list indices must be integers or slices, not str\n",
      "[WARNING] Failed to load IDS_top10_urban_200_points_probabilistic_200_size_seed_5678.pkl: list indices must be integers or slices, not str\n",
      "[WARNING] Failed to load IDS_top10_urban_200_points_probabilistic_200_size_seed_789.pkl: list indices must be integers or slices, not str\n",
      "[WARNING] Failed to load IDS_top10_urban_200_points_probabilistic_200_size_seed_9101.pkl: list indices must be integers or slices, not str\n",
      "[WARNING] Failed to load IDS_top10_urban_200_points_probabilistic_seed_1.pkl: list indices must be integers or slices, not str\n",
      "[WARNING] Failed to load IDS_top10_urban_200_points_probabilistic_seed_1213.pkl: list indices must be integers or slices, not str\n",
      "[WARNING] Failed to load IDS_top10_urban_200_points_probabilistic_seed_123.pkl: list indices must be integers or slices, not str\n",
      "[WARNING] Failed to load IDS_top10_urban_200_points_probabilistic_seed_1234.pkl: list indices must be integers or slices, not str\n",
      "[WARNING] Failed to load IDS_top10_urban_200_points_probabilistic_seed_1415.pkl: list indices must be integers or slices, not str\n",
      "[WARNING] Failed to load IDS_top10_urban_200_points_probabilistic_seed_42.pkl: list indices must be integers or slices, not str\n",
      "[WARNING] Failed to load IDS_top10_urban_200_points_probabilistic_seed_456.pkl: list indices must be integers or slices, not str\n",
      "[WARNING] Failed to load IDS_top10_urban_200_points_probabilistic_seed_5678.pkl: list indices must be integers or slices, not str\n",
      "[WARNING] Failed to load IDS_top10_urban_200_points_probabilistic_seed_789.pkl: list indices must be integers or slices, not str\n",
      "[WARNING] Failed to load IDS_top10_urban_200_points_probabilistic_seed_9101.pkl: list indices must be integers or slices, not str\n",
      "[WARNING] Failed to load IDS_top10_urban_300_points_probabilistic_300_size_seed_1.pkl: list indices must be integers or slices, not str\n",
      "[WARNING] Failed to load IDS_top10_urban_300_points_probabilistic_300_size_seed_1213.pkl: list indices must be integers or slices, not str\n",
      "[WARNING] Failed to load IDS_top10_urban_300_points_probabilistic_300_size_seed_123.pkl: list indices must be integers or slices, not str\n",
      "[WARNING] Failed to load IDS_top10_urban_300_points_probabilistic_300_size_seed_1234.pkl: list indices must be integers or slices, not str\n",
      "[WARNING] Failed to load IDS_top10_urban_300_points_probabilistic_300_size_seed_1415.pkl: list indices must be integers or slices, not str\n",
      "[WARNING] Failed to load IDS_top10_urban_300_points_probabilistic_300_size_seed_42.pkl: list indices must be integers or slices, not str\n",
      "[WARNING] Failed to load IDS_top10_urban_300_points_probabilistic_300_size_seed_456.pkl: list indices must be integers or slices, not str\n",
      "[WARNING] Failed to load IDS_top10_urban_300_points_probabilistic_300_size_seed_5678.pkl: list indices must be integers or slices, not str\n",
      "[WARNING] Failed to load IDS_top10_urban_300_points_probabilistic_300_size_seed_789.pkl: list indices must be integers or slices, not str\n",
      "[WARNING] Failed to load IDS_top10_urban_300_points_probabilistic_300_size_seed_9101.pkl: list indices must be integers or slices, not str\n",
      "[WARNING] Failed to load IDS_top10_urban_300_points_probabilistic_seed_1.pkl: list indices must be integers or slices, not str\n",
      "[WARNING] Failed to load IDS_top10_urban_300_points_probabilistic_seed_1213.pkl: list indices must be integers or slices, not str\n",
      "[WARNING] Failed to load IDS_top10_urban_300_points_probabilistic_seed_123.pkl: list indices must be integers or slices, not str\n",
      "[WARNING] Failed to load IDS_top10_urban_300_points_probabilistic_seed_1234.pkl: list indices must be integers or slices, not str\n",
      "[WARNING] Failed to load IDS_top10_urban_300_points_probabilistic_seed_1415.pkl: list indices must be integers or slices, not str\n",
      "[WARNING] Failed to load IDS_top10_urban_300_points_probabilistic_seed_42.pkl: list indices must be integers or slices, not str\n",
      "[WARNING] Failed to load IDS_top10_urban_300_points_probabilistic_seed_456.pkl: list indices must be integers or slices, not str\n",
      "[WARNING] Failed to load IDS_top10_urban_300_points_probabilistic_seed_5678.pkl: list indices must be integers or slices, not str\n",
      "[WARNING] Failed to load IDS_top10_urban_300_points_probabilistic_seed_789.pkl: list indices must be integers or slices, not str\n",
      "[WARNING] Failed to load IDS_top10_urban_300_points_probabilistic_seed_9101.pkl: list indices must be integers or slices, not str\n",
      "[WARNING] Failed to load IDS_top10_urban_400_points_probabilistic_400_size_seed_1.pkl: list indices must be integers or slices, not str\n",
      "[WARNING] Failed to load IDS_top10_urban_400_points_probabilistic_400_size_seed_1213.pkl: list indices must be integers or slices, not str\n",
      "[WARNING] Failed to load IDS_top10_urban_400_points_probabilistic_400_size_seed_123.pkl: list indices must be integers or slices, not str\n",
      "[WARNING] Failed to load IDS_top10_urban_400_points_probabilistic_400_size_seed_1234.pkl: list indices must be integers or slices, not str\n",
      "[WARNING] Failed to load IDS_top10_urban_400_points_probabilistic_400_size_seed_1415.pkl: list indices must be integers or slices, not str\n",
      "[WARNING] Failed to load IDS_top10_urban_400_points_probabilistic_400_size_seed_42.pkl: list indices must be integers or slices, not str\n",
      "[WARNING] Failed to load IDS_top10_urban_400_points_probabilistic_400_size_seed_456.pkl: list indices must be integers or slices, not str\n",
      "[WARNING] Failed to load IDS_top10_urban_400_points_probabilistic_400_size_seed_5678.pkl: list indices must be integers or slices, not str\n",
      "[WARNING] Failed to load IDS_top10_urban_400_points_probabilistic_400_size_seed_789.pkl: list indices must be integers or slices, not str\n",
      "[WARNING] Failed to load IDS_top10_urban_400_points_probabilistic_400_size_seed_9101.pkl: list indices must be integers or slices, not str\n",
      "[WARNING] Failed to load IDS_top10_urban_400_points_probabilistic_seed_1.pkl: list indices must be integers or slices, not str\n",
      "[WARNING] Failed to load IDS_top10_urban_400_points_probabilistic_seed_1213.pkl: list indices must be integers or slices, not str\n",
      "[WARNING] Failed to load IDS_top10_urban_400_points_probabilistic_seed_123.pkl: list indices must be integers or slices, not str\n",
      "[WARNING] Failed to load IDS_top10_urban_400_points_probabilistic_seed_1234.pkl: list indices must be integers or slices, not str\n",
      "[WARNING] Failed to load IDS_top10_urban_400_points_probabilistic_seed_1415.pkl: list indices must be integers or slices, not str\n",
      "[WARNING] Failed to load IDS_top10_urban_400_points_probabilistic_seed_42.pkl: list indices must be integers or slices, not str\n",
      "[WARNING] Failed to load IDS_top10_urban_400_points_probabilistic_seed_456.pkl: list indices must be integers or slices, not str\n",
      "[WARNING] Failed to load IDS_top10_urban_400_points_probabilistic_seed_5678.pkl: list indices must be integers or slices, not str\n",
      "[WARNING] Failed to load IDS_top10_urban_400_points_probabilistic_seed_789.pkl: list indices must be integers or slices, not str\n",
      "[WARNING] Failed to load IDS_top10_urban_400_points_probabilistic_seed_9101.pkl: list indices must be integers or slices, not str\n",
      "[WARNING] Failed to load IDS_top10_urban_500_points_probabilistic_500_size_seed_1.pkl: list indices must be integers or slices, not str\n",
      "[WARNING] Failed to load IDS_top10_urban_500_points_probabilistic_500_size_seed_1213.pkl: list indices must be integers or slices, not str\n",
      "[WARNING] Failed to load IDS_top10_urban_500_points_probabilistic_500_size_seed_123.pkl: list indices must be integers or slices, not str\n",
      "[WARNING] Failed to load IDS_top10_urban_500_points_probabilistic_500_size_seed_1234.pkl: list indices must be integers or slices, not str\n",
      "[WARNING] Failed to load IDS_top10_urban_500_points_probabilistic_500_size_seed_1415.pkl: list indices must be integers or slices, not str\n",
      "[WARNING] Failed to load IDS_top10_urban_500_points_probabilistic_500_size_seed_42.pkl: list indices must be integers or slices, not str\n",
      "[WARNING] Failed to load IDS_top10_urban_500_points_probabilistic_500_size_seed_456.pkl: list indices must be integers or slices, not str\n",
      "[WARNING] Failed to load IDS_top10_urban_500_points_probabilistic_500_size_seed_5678.pkl: list indices must be integers or slices, not str\n",
      "[WARNING] Failed to load IDS_top10_urban_500_points_probabilistic_500_size_seed_789.pkl: list indices must be integers or slices, not str\n",
      "[WARNING] Failed to load IDS_top10_urban_500_points_probabilistic_500_size_seed_9101.pkl: list indices must be integers or slices, not str\n",
      "[WARNING] Failed to load IDS_top10_urban_500_points_probabilistic_seed_1.pkl: list indices must be integers or slices, not str\n",
      "[WARNING] Failed to load IDS_top10_urban_500_points_probabilistic_seed_1213.pkl: list indices must be integers or slices, not str\n",
      "[WARNING] Failed to load IDS_top10_urban_500_points_probabilistic_seed_123.pkl: list indices must be integers or slices, not str\n",
      "[WARNING] Failed to load IDS_top10_urban_500_points_probabilistic_seed_1234.pkl: list indices must be integers or slices, not str\n",
      "[WARNING] Failed to load IDS_top10_urban_500_points_probabilistic_seed_1415.pkl: list indices must be integers or slices, not str\n",
      "[WARNING] Failed to load IDS_top10_urban_500_points_probabilistic_seed_42.pkl: list indices must be integers or slices, not str\n",
      "[WARNING] Failed to load IDS_top10_urban_500_points_probabilistic_seed_456.pkl: list indices must be integers or slices, not str\n",
      "[WARNING] Failed to load IDS_top10_urban_500_points_probabilistic_seed_5678.pkl: list indices must be integers or slices, not str\n",
      "[WARNING] Failed to load IDS_top10_urban_500_points_probabilistic_seed_789.pkl: list indices must be integers or slices, not str\n",
      "[WARNING] Failed to load IDS_top10_urban_500_points_probabilistic_seed_9101.pkl: list indices must be integers or slices, not str\n",
      "[WARNING] Failed to load IDS_top10_urban_600_points_probabilistic_600_size_seed_1.pkl: list indices must be integers or slices, not str\n",
      "[WARNING] Failed to load IDS_top10_urban_600_points_probabilistic_600_size_seed_1213.pkl: list indices must be integers or slices, not str\n",
      "[WARNING] Failed to load IDS_top10_urban_600_points_probabilistic_600_size_seed_123.pkl: list indices must be integers or slices, not str\n",
      "[WARNING] Failed to load IDS_top10_urban_600_points_probabilistic_600_size_seed_1234.pkl: list indices must be integers or slices, not str\n",
      "[WARNING] Failed to load IDS_top10_urban_600_points_probabilistic_600_size_seed_1415.pkl: list indices must be integers or slices, not str\n",
      "[WARNING] Failed to load IDS_top10_urban_600_points_probabilistic_600_size_seed_42.pkl: list indices must be integers or slices, not str\n",
      "[WARNING] Failed to load IDS_top10_urban_600_points_probabilistic_600_size_seed_456.pkl: list indices must be integers or slices, not str\n",
      "[WARNING] Failed to load IDS_top10_urban_600_points_probabilistic_600_size_seed_5678.pkl: list indices must be integers or slices, not str\n",
      "[WARNING] Failed to load IDS_top10_urban_600_points_probabilistic_600_size_seed_789.pkl: list indices must be integers or slices, not str\n",
      "[WARNING] Failed to load IDS_top10_urban_600_points_probabilistic_600_size_seed_9101.pkl: list indices must be integers or slices, not str\n",
      "[WARNING] Failed to load IDS_top10_urban_600_points_probabilistic_seed_1.pkl: list indices must be integers or slices, not str\n",
      "[WARNING] Failed to load IDS_top10_urban_600_points_probabilistic_seed_1213.pkl: list indices must be integers or slices, not str\n",
      "[WARNING] Failed to load IDS_top10_urban_600_points_probabilistic_seed_123.pkl: list indices must be integers or slices, not str\n",
      "[WARNING] Failed to load IDS_top10_urban_600_points_probabilistic_seed_1234.pkl: list indices must be integers or slices, not str\n",
      "[WARNING] Failed to load IDS_top10_urban_600_points_probabilistic_seed_1415.pkl: list indices must be integers or slices, not str\n",
      "[WARNING] Failed to load IDS_top10_urban_600_points_probabilistic_seed_42.pkl: list indices must be integers or slices, not str\n",
      "[WARNING] Failed to load IDS_top10_urban_600_points_probabilistic_seed_456.pkl: list indices must be integers or slices, not str\n",
      "[WARNING] Failed to load IDS_top10_urban_600_points_probabilistic_seed_5678.pkl: list indices must be integers or slices, not str\n",
      "[WARNING] Failed to load IDS_top10_urban_600_points_probabilistic_seed_789.pkl: list indices must be integers or slices, not str\n",
      "[WARNING] Failed to load IDS_top10_urban_600_points_probabilistic_seed_9101.pkl: list indices must be integers or slices, not str\n",
      "[WARNING] Failed to load IDS_top10_urban_700_points_probabilistic_700_size_seed_1.pkl: list indices must be integers or slices, not str\n",
      "[WARNING] Failed to load IDS_top10_urban_700_points_probabilistic_700_size_seed_1213.pkl: list indices must be integers or slices, not str\n",
      "[WARNING] Failed to load IDS_top10_urban_700_points_probabilistic_700_size_seed_123.pkl: list indices must be integers or slices, not str\n",
      "[WARNING] Failed to load IDS_top10_urban_700_points_probabilistic_700_size_seed_1234.pkl: list indices must be integers or slices, not str\n",
      "[WARNING] Failed to load IDS_top10_urban_700_points_probabilistic_700_size_seed_1415.pkl: list indices must be integers or slices, not str\n",
      "[WARNING] Failed to load IDS_top10_urban_700_points_probabilistic_700_size_seed_42.pkl: list indices must be integers or slices, not str\n",
      "[WARNING] Failed to load IDS_top10_urban_700_points_probabilistic_700_size_seed_456.pkl: list indices must be integers or slices, not str\n",
      "[WARNING] Failed to load IDS_top10_urban_700_points_probabilistic_700_size_seed_5678.pkl: list indices must be integers or slices, not str\n",
      "[WARNING] Failed to load IDS_top10_urban_700_points_probabilistic_700_size_seed_789.pkl: list indices must be integers or slices, not str\n",
      "[WARNING] Failed to load IDS_top10_urban_700_points_probabilistic_700_size_seed_9101.pkl: list indices must be integers or slices, not str\n",
      "[WARNING] Failed to load IDS_top10_urban_700_points_probabilistic_seed_1.pkl: list indices must be integers or slices, not str\n",
      "[WARNING] Failed to load IDS_top10_urban_700_points_probabilistic_seed_1213.pkl: list indices must be integers or slices, not str\n",
      "[WARNING] Failed to load IDS_top10_urban_700_points_probabilistic_seed_123.pkl: list indices must be integers or slices, not str\n",
      "[WARNING] Failed to load IDS_top10_urban_700_points_probabilistic_seed_1234.pkl: list indices must be integers or slices, not str\n",
      "[WARNING] Failed to load IDS_top10_urban_700_points_probabilistic_seed_1415.pkl: list indices must be integers or slices, not str\n",
      "[WARNING] Failed to load IDS_top10_urban_700_points_probabilistic_seed_42.pkl: list indices must be integers or slices, not str\n",
      "[WARNING] Failed to load IDS_top10_urban_700_points_probabilistic_seed_456.pkl: list indices must be integers or slices, not str\n",
      "[WARNING] Failed to load IDS_top10_urban_700_points_probabilistic_seed_5678.pkl: list indices must be integers or slices, not str\n",
      "[WARNING] Failed to load IDS_top10_urban_700_points_probabilistic_seed_789.pkl: list indices must be integers or slices, not str\n",
      "[WARNING] Failed to load IDS_top10_urban_700_points_probabilistic_seed_9101.pkl: list indices must be integers or slices, not str\n",
      "[WARNING] Failed to load IDS_top10_urban_800_points_probabilistic_800_size_seed_1.pkl: list indices must be integers or slices, not str\n",
      "[WARNING] Failed to load IDS_top10_urban_800_points_probabilistic_800_size_seed_1213.pkl: list indices must be integers or slices, not str\n",
      "[WARNING] Failed to load IDS_top10_urban_800_points_probabilistic_800_size_seed_123.pkl: list indices must be integers or slices, not str\n",
      "[WARNING] Failed to load IDS_top10_urban_800_points_probabilistic_800_size_seed_1234.pkl: list indices must be integers or slices, not str\n",
      "[WARNING] Failed to load IDS_top10_urban_800_points_probabilistic_800_size_seed_1415.pkl: list indices must be integers or slices, not str\n",
      "[WARNING] Failed to load IDS_top10_urban_800_points_probabilistic_800_size_seed_42.pkl: list indices must be integers or slices, not str\n",
      "[WARNING] Failed to load IDS_top10_urban_800_points_probabilistic_800_size_seed_456.pkl: list indices must be integers or slices, not str\n",
      "[WARNING] Failed to load IDS_top10_urban_800_points_probabilistic_800_size_seed_5678.pkl: list indices must be integers or slices, not str\n",
      "[WARNING] Failed to load IDS_top10_urban_800_points_probabilistic_800_size_seed_789.pkl: list indices must be integers or slices, not str\n",
      "[WARNING] Failed to load IDS_top10_urban_800_points_probabilistic_800_size_seed_9101.pkl: list indices must be integers or slices, not str\n",
      "[WARNING] Failed to load IDS_top10_urban_800_points_probabilistic_seed_1.pkl: list indices must be integers or slices, not str\n",
      "[WARNING] Failed to load IDS_top10_urban_800_points_probabilistic_seed_1213.pkl: list indices must be integers or slices, not str\n",
      "[WARNING] Failed to load IDS_top10_urban_800_points_probabilistic_seed_123.pkl: list indices must be integers or slices, not str\n",
      "[WARNING] Failed to load IDS_top10_urban_800_points_probabilistic_seed_1234.pkl: list indices must be integers or slices, not str\n",
      "[WARNING] Failed to load IDS_top10_urban_800_points_probabilistic_seed_1415.pkl: list indices must be integers or slices, not str\n",
      "[WARNING] Failed to load IDS_top10_urban_800_points_probabilistic_seed_42.pkl: list indices must be integers or slices, not str\n",
      "[WARNING] Failed to load IDS_top10_urban_800_points_probabilistic_seed_456.pkl: list indices must be integers or slices, not str\n",
      "[WARNING] Failed to load IDS_top10_urban_800_points_probabilistic_seed_5678.pkl: list indices must be integers or slices, not str\n",
      "[WARNING] Failed to load IDS_top10_urban_800_points_probabilistic_seed_789.pkl: list indices must be integers or slices, not str\n",
      "[WARNING] Failed to load IDS_top10_urban_800_points_probabilistic_seed_9101.pkl: list indices must be integers or slices, not str\n",
      "[WARNING] Failed to load IDS_top10_urban_900_points_probabilistic_900_size_seed_1.pkl: list indices must be integers or slices, not str\n",
      "[WARNING] Failed to load IDS_top10_urban_900_points_probabilistic_900_size_seed_1213.pkl: list indices must be integers or slices, not str\n",
      "[WARNING] Failed to load IDS_top10_urban_900_points_probabilistic_900_size_seed_123.pkl: list indices must be integers or slices, not str\n",
      "[WARNING] Failed to load IDS_top10_urban_900_points_probabilistic_900_size_seed_1234.pkl: list indices must be integers or slices, not str\n",
      "[WARNING] Failed to load IDS_top10_urban_900_points_probabilistic_900_size_seed_1415.pkl: list indices must be integers or slices, not str\n",
      "[WARNING] Failed to load IDS_top10_urban_900_points_probabilistic_900_size_seed_42.pkl: list indices must be integers or slices, not str\n",
      "[WARNING] Failed to load IDS_top10_urban_900_points_probabilistic_900_size_seed_456.pkl: list indices must be integers or slices, not str\n",
      "[WARNING] Failed to load IDS_top10_urban_900_points_probabilistic_900_size_seed_5678.pkl: list indices must be integers or slices, not str\n",
      "[WARNING] Failed to load IDS_top10_urban_900_points_probabilistic_900_size_seed_789.pkl: list indices must be integers or slices, not str\n",
      "[WARNING] Failed to load IDS_top10_urban_900_points_probabilistic_900_size_seed_9101.pkl: list indices must be integers or slices, not str\n",
      "[WARNING] Failed to load IDS_top10_urban_900_points_probabilistic_seed_1.pkl: list indices must be integers or slices, not str\n",
      "[WARNING] Failed to load IDS_top10_urban_900_points_probabilistic_seed_1213.pkl: list indices must be integers or slices, not str\n",
      "[WARNING] Failed to load IDS_top10_urban_900_points_probabilistic_seed_123.pkl: list indices must be integers or slices, not str\n",
      "[WARNING] Failed to load IDS_top10_urban_900_points_probabilistic_seed_1234.pkl: list indices must be integers or slices, not str\n",
      "[WARNING] Failed to load IDS_top10_urban_900_points_probabilistic_seed_1415.pkl: list indices must be integers or slices, not str\n",
      "[WARNING] Failed to load IDS_top10_urban_900_points_probabilistic_seed_42.pkl: list indices must be integers or slices, not str\n",
      "[WARNING] Failed to load IDS_top10_urban_900_points_probabilistic_seed_456.pkl: list indices must be integers or slices, not str\n",
      "[WARNING] Failed to load IDS_top10_urban_900_points_probabilistic_seed_5678.pkl: list indices must be integers or slices, not str\n",
      "[WARNING] Failed to load IDS_top10_urban_900_points_probabilistic_seed_789.pkl: list indices must be integers or slices, not str\n",
      "[WARNING] Failed to load IDS_top10_urban_900_points_probabilistic_seed_9101.pkl: list indices must be integers or slices, not str\n",
      "[WARNING] Failed to load IDS_top20_urban_1000_points_probabilistic_1000_size_seed_1.pkl: list indices must be integers or slices, not str\n",
      "[WARNING] Failed to load IDS_top20_urban_1000_points_probabilistic_1000_size_seed_1213.pkl: list indices must be integers or slices, not str\n",
      "[WARNING] Failed to load IDS_top20_urban_1000_points_probabilistic_1000_size_seed_123.pkl: list indices must be integers or slices, not str\n",
      "[WARNING] Failed to load IDS_top20_urban_1000_points_probabilistic_1000_size_seed_1234.pkl: list indices must be integers or slices, not str\n",
      "[WARNING] Failed to load IDS_top20_urban_1000_points_probabilistic_1000_size_seed_1415.pkl: list indices must be integers or slices, not str\n",
      "[WARNING] Failed to load IDS_top20_urban_1000_points_probabilistic_1000_size_seed_42.pkl: list indices must be integers or slices, not str\n",
      "[WARNING] Failed to load IDS_top20_urban_1000_points_probabilistic_1000_size_seed_456.pkl: list indices must be integers or slices, not str\n",
      "[WARNING] Failed to load IDS_top20_urban_1000_points_probabilistic_1000_size_seed_5678.pkl: list indices must be integers or slices, not str\n",
      "[WARNING] Failed to load IDS_top20_urban_1000_points_probabilistic_1000_size_seed_789.pkl: list indices must be integers or slices, not str\n",
      "[WARNING] Failed to load IDS_top20_urban_1000_points_probabilistic_1000_size_seed_9101.pkl: list indices must be integers or slices, not str\n",
      "[WARNING] Failed to load IDS_top20_urban_100_points_probabilistic_100_size_seed_1.pkl: list indices must be integers or slices, not str\n",
      "[WARNING] Failed to load IDS_top20_urban_100_points_probabilistic_100_size_seed_1213.pkl: list indices must be integers or slices, not str\n",
      "[WARNING] Failed to load IDS_top20_urban_100_points_probabilistic_100_size_seed_123.pkl: list indices must be integers or slices, not str\n",
      "[WARNING] Failed to load IDS_top20_urban_100_points_probabilistic_100_size_seed_1234.pkl: list indices must be integers or slices, not str\n",
      "[WARNING] Failed to load IDS_top20_urban_100_points_probabilistic_100_size_seed_1415.pkl: list indices must be integers or slices, not str\n",
      "[WARNING] Failed to load IDS_top20_urban_100_points_probabilistic_100_size_seed_42.pkl: list indices must be integers or slices, not str\n",
      "[WARNING] Failed to load IDS_top20_urban_100_points_probabilistic_100_size_seed_456.pkl: list indices must be integers or slices, not str\n",
      "[WARNING] Failed to load IDS_top20_urban_100_points_probabilistic_100_size_seed_5678.pkl: list indices must be integers or slices, not str\n",
      "[WARNING] Failed to load IDS_top20_urban_100_points_probabilistic_100_size_seed_789.pkl: list indices must be integers or slices, not str\n",
      "[WARNING] Failed to load IDS_top20_urban_100_points_probabilistic_100_size_seed_9101.pkl: list indices must be integers or slices, not str\n",
      "[WARNING] Failed to load IDS_top20_urban_200_points_probabilistic_200_size_seed_1.pkl: list indices must be integers or slices, not str\n",
      "[WARNING] Failed to load IDS_top20_urban_200_points_probabilistic_200_size_seed_1213.pkl: list indices must be integers or slices, not str\n",
      "[WARNING] Failed to load IDS_top20_urban_200_points_probabilistic_200_size_seed_123.pkl: list indices must be integers or slices, not str\n",
      "[WARNING] Failed to load IDS_top20_urban_200_points_probabilistic_200_size_seed_1234.pkl: list indices must be integers or slices, not str\n",
      "[WARNING] Failed to load IDS_top20_urban_200_points_probabilistic_200_size_seed_1415.pkl: list indices must be integers or slices, not str\n",
      "[WARNING] Failed to load IDS_top20_urban_200_points_probabilistic_200_size_seed_42.pkl: list indices must be integers or slices, not str\n",
      "[WARNING] Failed to load IDS_top20_urban_200_points_probabilistic_200_size_seed_456.pkl: list indices must be integers or slices, not str\n",
      "[WARNING] Failed to load IDS_top20_urban_200_points_probabilistic_200_size_seed_5678.pkl: list indices must be integers or slices, not str\n",
      "[WARNING] Failed to load IDS_top20_urban_200_points_probabilistic_200_size_seed_789.pkl: list indices must be integers or slices, not str\n",
      "[WARNING] Failed to load IDS_top20_urban_200_points_probabilistic_200_size_seed_9101.pkl: list indices must be integers or slices, not str\n",
      "[WARNING] Failed to load IDS_top20_urban_300_points_probabilistic_300_size_seed_1.pkl: list indices must be integers or slices, not str\n",
      "[WARNING] Failed to load IDS_top20_urban_300_points_probabilistic_300_size_seed_1213.pkl: list indices must be integers or slices, not str\n",
      "[WARNING] Failed to load IDS_top20_urban_300_points_probabilistic_300_size_seed_123.pkl: list indices must be integers or slices, not str\n",
      "[WARNING] Failed to load IDS_top20_urban_300_points_probabilistic_300_size_seed_1234.pkl: list indices must be integers or slices, not str\n",
      "[WARNING] Failed to load IDS_top20_urban_300_points_probabilistic_300_size_seed_1415.pkl: list indices must be integers or slices, not str\n",
      "[WARNING] Failed to load IDS_top20_urban_300_points_probabilistic_300_size_seed_42.pkl: list indices must be integers or slices, not str\n",
      "[WARNING] Failed to load IDS_top20_urban_300_points_probabilistic_300_size_seed_456.pkl: list indices must be integers or slices, not str\n",
      "[WARNING] Failed to load IDS_top20_urban_300_points_probabilistic_300_size_seed_5678.pkl: list indices must be integers or slices, not str\n",
      "[WARNING] Failed to load IDS_top20_urban_300_points_probabilistic_300_size_seed_789.pkl: list indices must be integers or slices, not str\n",
      "[WARNING] Failed to load IDS_top20_urban_300_points_probabilistic_300_size_seed_9101.pkl: list indices must be integers or slices, not str\n",
      "[WARNING] Failed to load IDS_top20_urban_400_points_probabilistic_400_size_seed_1.pkl: list indices must be integers or slices, not str\n",
      "[WARNING] Failed to load IDS_top20_urban_400_points_probabilistic_400_size_seed_1213.pkl: list indices must be integers or slices, not str\n",
      "[WARNING] Failed to load IDS_top20_urban_400_points_probabilistic_400_size_seed_123.pkl: list indices must be integers or slices, not str\n",
      "[WARNING] Failed to load IDS_top20_urban_400_points_probabilistic_400_size_seed_1234.pkl: list indices must be integers or slices, not str\n",
      "[WARNING] Failed to load IDS_top20_urban_400_points_probabilistic_400_size_seed_1415.pkl: list indices must be integers or slices, not str\n",
      "[WARNING] Failed to load IDS_top20_urban_400_points_probabilistic_400_size_seed_42.pkl: list indices must be integers or slices, not str\n",
      "[WARNING] Failed to load IDS_top20_urban_400_points_probabilistic_400_size_seed_456.pkl: list indices must be integers or slices, not str\n",
      "[WARNING] Failed to load IDS_top20_urban_400_points_probabilistic_400_size_seed_5678.pkl: list indices must be integers or slices, not str\n",
      "[WARNING] Failed to load IDS_top20_urban_400_points_probabilistic_400_size_seed_789.pkl: list indices must be integers or slices, not str\n",
      "[WARNING] Failed to load IDS_top20_urban_400_points_probabilistic_400_size_seed_9101.pkl: list indices must be integers or slices, not str\n",
      "[WARNING] Failed to load IDS_top20_urban_500_points_probabilistic_500_size_seed_1.pkl: list indices must be integers or slices, not str\n",
      "[WARNING] Failed to load IDS_top20_urban_500_points_probabilistic_500_size_seed_1213.pkl: list indices must be integers or slices, not str\n",
      "[WARNING] Failed to load IDS_top20_urban_500_points_probabilistic_500_size_seed_123.pkl: list indices must be integers or slices, not str\n",
      "[WARNING] Failed to load IDS_top20_urban_500_points_probabilistic_500_size_seed_1234.pkl: list indices must be integers or slices, not str\n",
      "[WARNING] Failed to load IDS_top20_urban_500_points_probabilistic_500_size_seed_1415.pkl: list indices must be integers or slices, not str\n",
      "[WARNING] Failed to load IDS_top20_urban_500_points_probabilistic_500_size_seed_42.pkl: list indices must be integers or slices, not str\n",
      "[WARNING] Failed to load IDS_top20_urban_500_points_probabilistic_500_size_seed_456.pkl: list indices must be integers or slices, not str\n",
      "[WARNING] Failed to load IDS_top20_urban_500_points_probabilistic_500_size_seed_5678.pkl: list indices must be integers or slices, not str\n",
      "[WARNING] Failed to load IDS_top20_urban_500_points_probabilistic_500_size_seed_789.pkl: list indices must be integers or slices, not str\n",
      "[WARNING] Failed to load IDS_top20_urban_500_points_probabilistic_500_size_seed_9101.pkl: list indices must be integers or slices, not str\n",
      "[WARNING] Failed to load IDS_top20_urban_600_points_probabilistic_600_size_seed_1.pkl: list indices must be integers or slices, not str\n",
      "[WARNING] Failed to load IDS_top20_urban_600_points_probabilistic_600_size_seed_1213.pkl: list indices must be integers or slices, not str\n",
      "[WARNING] Failed to load IDS_top20_urban_600_points_probabilistic_600_size_seed_123.pkl: list indices must be integers or slices, not str\n",
      "[WARNING] Failed to load IDS_top20_urban_600_points_probabilistic_600_size_seed_1234.pkl: list indices must be integers or slices, not str\n",
      "[WARNING] Failed to load IDS_top20_urban_600_points_probabilistic_600_size_seed_1415.pkl: list indices must be integers or slices, not str\n",
      "[WARNING] Failed to load IDS_top20_urban_600_points_probabilistic_600_size_seed_42.pkl: list indices must be integers or slices, not str\n",
      "[WARNING] Failed to load IDS_top20_urban_600_points_probabilistic_600_size_seed_456.pkl: list indices must be integers or slices, not str\n",
      "[WARNING] Failed to load IDS_top20_urban_600_points_probabilistic_600_size_seed_5678.pkl: list indices must be integers or slices, not str\n",
      "[WARNING] Failed to load IDS_top20_urban_600_points_probabilistic_600_size_seed_789.pkl: list indices must be integers or slices, not str\n",
      "[WARNING] Failed to load IDS_top20_urban_600_points_probabilistic_600_size_seed_9101.pkl: list indices must be integers or slices, not str\n",
      "[WARNING] Failed to load IDS_top20_urban_700_points_probabilistic_700_size_seed_1.pkl: list indices must be integers or slices, not str\n",
      "[WARNING] Failed to load IDS_top20_urban_700_points_probabilistic_700_size_seed_1213.pkl: list indices must be integers or slices, not str\n",
      "[WARNING] Failed to load IDS_top20_urban_700_points_probabilistic_700_size_seed_123.pkl: list indices must be integers or slices, not str\n",
      "[WARNING] Failed to load IDS_top20_urban_700_points_probabilistic_700_size_seed_1234.pkl: list indices must be integers or slices, not str\n",
      "[WARNING] Failed to load IDS_top20_urban_700_points_probabilistic_700_size_seed_1415.pkl: list indices must be integers or slices, not str\n",
      "[WARNING] Failed to load IDS_top20_urban_700_points_probabilistic_700_size_seed_42.pkl: list indices must be integers or slices, not str\n",
      "[WARNING] Failed to load IDS_top20_urban_700_points_probabilistic_700_size_seed_456.pkl: list indices must be integers or slices, not str\n",
      "[WARNING] Failed to load IDS_top20_urban_700_points_probabilistic_700_size_seed_5678.pkl: list indices must be integers or slices, not str\n",
      "[WARNING] Failed to load IDS_top20_urban_700_points_probabilistic_700_size_seed_789.pkl: list indices must be integers or slices, not str\n",
      "[WARNING] Failed to load IDS_top20_urban_700_points_probabilistic_700_size_seed_9101.pkl: list indices must be integers or slices, not str\n",
      "[WARNING] Failed to load IDS_top20_urban_800_points_probabilistic_800_size_seed_1.pkl: list indices must be integers or slices, not str\n",
      "[WARNING] Failed to load IDS_top20_urban_800_points_probabilistic_800_size_seed_1213.pkl: list indices must be integers or slices, not str\n",
      "[WARNING] Failed to load IDS_top20_urban_800_points_probabilistic_800_size_seed_123.pkl: list indices must be integers or slices, not str\n",
      "[WARNING] Failed to load IDS_top20_urban_800_points_probabilistic_800_size_seed_1234.pkl: list indices must be integers or slices, not str\n",
      "[WARNING] Failed to load IDS_top20_urban_800_points_probabilistic_800_size_seed_1415.pkl: list indices must be integers or slices, not str\n",
      "[WARNING] Failed to load IDS_top20_urban_800_points_probabilistic_800_size_seed_42.pkl: list indices must be integers or slices, not str\n",
      "[WARNING] Failed to load IDS_top20_urban_800_points_probabilistic_800_size_seed_456.pkl: list indices must be integers or slices, not str\n",
      "[WARNING] Failed to load IDS_top20_urban_800_points_probabilistic_800_size_seed_5678.pkl: list indices must be integers or slices, not str\n",
      "[WARNING] Failed to load IDS_top20_urban_800_points_probabilistic_800_size_seed_789.pkl: list indices must be integers or slices, not str\n",
      "[WARNING] Failed to load IDS_top20_urban_800_points_probabilistic_800_size_seed_9101.pkl: list indices must be integers or slices, not str\n",
      "[WARNING] Failed to load IDS_top20_urban_900_points_probabilistic_900_size_seed_1.pkl: list indices must be integers or slices, not str\n",
      "[WARNING] Failed to load IDS_top20_urban_900_points_probabilistic_900_size_seed_1213.pkl: list indices must be integers or slices, not str\n",
      "[WARNING] Failed to load IDS_top20_urban_900_points_probabilistic_900_size_seed_123.pkl: list indices must be integers or slices, not str\n",
      "[WARNING] Failed to load IDS_top20_urban_900_points_probabilistic_900_size_seed_1234.pkl: list indices must be integers or slices, not str\n",
      "[WARNING] Failed to load IDS_top20_urban_900_points_probabilistic_900_size_seed_1415.pkl: list indices must be integers or slices, not str\n",
      "[WARNING] Failed to load IDS_top20_urban_900_points_probabilistic_900_size_seed_42.pkl: list indices must be integers or slices, not str\n",
      "[WARNING] Failed to load IDS_top20_urban_900_points_probabilistic_900_size_seed_456.pkl: list indices must be integers or slices, not str\n",
      "[WARNING] Failed to load IDS_top20_urban_900_points_probabilistic_900_size_seed_5678.pkl: list indices must be integers or slices, not str\n",
      "[WARNING] Failed to load IDS_top20_urban_900_points_probabilistic_900_size_seed_789.pkl: list indices must be integers or slices, not str\n",
      "[WARNING] Failed to load IDS_top20_urban_900_points_probabilistic_900_size_seed_9101.pkl: list indices must be integers or slices, not str\n",
      "[WARNING] Failed to load IDS_top50_urban_1000_points_probabilistic_1000_size_seed_1.pkl: list indices must be integers or slices, not str\n",
      "[WARNING] Failed to load IDS_top50_urban_1000_points_probabilistic_1000_size_seed_1213.pkl: list indices must be integers or slices, not str\n",
      "[WARNING] Failed to load IDS_top50_urban_1000_points_probabilistic_1000_size_seed_123.pkl: list indices must be integers or slices, not str\n",
      "[WARNING] Failed to load IDS_top50_urban_1000_points_probabilistic_1000_size_seed_1234.pkl: list indices must be integers or slices, not str\n",
      "[WARNING] Failed to load IDS_top50_urban_1000_points_probabilistic_1000_size_seed_1415.pkl: list indices must be integers or slices, not str\n",
      "[WARNING] Failed to load IDS_top50_urban_1000_points_probabilistic_1000_size_seed_42.pkl: list indices must be integers or slices, not str\n",
      "[WARNING] Failed to load IDS_top50_urban_1000_points_probabilistic_1000_size_seed_456.pkl: list indices must be integers or slices, not str\n",
      "[WARNING] Failed to load IDS_top50_urban_1000_points_probabilistic_1000_size_seed_5678.pkl: list indices must be integers or slices, not str\n",
      "[WARNING] Failed to load IDS_top50_urban_1000_points_probabilistic_1000_size_seed_789.pkl: list indices must be integers or slices, not str\n",
      "[WARNING] Failed to load IDS_top50_urban_1000_points_probabilistic_1000_size_seed_9101.pkl: list indices must be integers or slices, not str\n",
      "[WARNING] Failed to load IDS_top50_urban_100_points_probabilistic_100_size_seed_1.pkl: list indices must be integers or slices, not str\n",
      "[WARNING] Failed to load IDS_top50_urban_100_points_probabilistic_100_size_seed_1213.pkl: list indices must be integers or slices, not str\n",
      "[WARNING] Failed to load IDS_top50_urban_100_points_probabilistic_100_size_seed_123.pkl: list indices must be integers or slices, not str\n",
      "[WARNING] Failed to load IDS_top50_urban_100_points_probabilistic_100_size_seed_1234.pkl: list indices must be integers or slices, not str\n",
      "[WARNING] Failed to load IDS_top50_urban_100_points_probabilistic_100_size_seed_1415.pkl: list indices must be integers or slices, not str\n",
      "[WARNING] Failed to load IDS_top50_urban_100_points_probabilistic_100_size_seed_42.pkl: list indices must be integers or slices, not str\n",
      "[WARNING] Failed to load IDS_top50_urban_100_points_probabilistic_100_size_seed_456.pkl: list indices must be integers or slices, not str\n",
      "[WARNING] Failed to load IDS_top50_urban_100_points_probabilistic_100_size_seed_5678.pkl: list indices must be integers or slices, not str\n",
      "[WARNING] Failed to load IDS_top50_urban_100_points_probabilistic_100_size_seed_789.pkl: list indices must be integers or slices, not str\n",
      "[WARNING] Failed to load IDS_top50_urban_100_points_probabilistic_100_size_seed_9101.pkl: list indices must be integers or slices, not str\n",
      "[WARNING] Failed to load IDS_top50_urban_200_points_probabilistic_200_size_seed_1.pkl: list indices must be integers or slices, not str\n",
      "[WARNING] Failed to load IDS_top50_urban_200_points_probabilistic_200_size_seed_1213.pkl: list indices must be integers or slices, not str\n",
      "[WARNING] Failed to load IDS_top50_urban_200_points_probabilistic_200_size_seed_123.pkl: list indices must be integers or slices, not str\n",
      "[WARNING] Failed to load IDS_top50_urban_200_points_probabilistic_200_size_seed_1234.pkl: list indices must be integers or slices, not str\n",
      "[WARNING] Failed to load IDS_top50_urban_200_points_probabilistic_200_size_seed_1415.pkl: list indices must be integers or slices, not str\n",
      "[WARNING] Failed to load IDS_top50_urban_200_points_probabilistic_200_size_seed_42.pkl: list indices must be integers or slices, not str\n",
      "[WARNING] Failed to load IDS_top50_urban_200_points_probabilistic_200_size_seed_456.pkl: list indices must be integers or slices, not str\n",
      "[WARNING] Failed to load IDS_top50_urban_200_points_probabilistic_200_size_seed_5678.pkl: list indices must be integers or slices, not str\n",
      "[WARNING] Failed to load IDS_top50_urban_200_points_probabilistic_200_size_seed_789.pkl: list indices must be integers or slices, not str\n",
      "[WARNING] Failed to load IDS_top50_urban_200_points_probabilistic_200_size_seed_9101.pkl: list indices must be integers or slices, not str\n",
      "[WARNING] Failed to load IDS_top50_urban_300_points_probabilistic_300_size_seed_1.pkl: list indices must be integers or slices, not str\n",
      "[WARNING] Failed to load IDS_top50_urban_300_points_probabilistic_300_size_seed_1213.pkl: list indices must be integers or slices, not str\n",
      "[WARNING] Failed to load IDS_top50_urban_300_points_probabilistic_300_size_seed_123.pkl: list indices must be integers or slices, not str\n",
      "[WARNING] Failed to load IDS_top50_urban_300_points_probabilistic_300_size_seed_1234.pkl: list indices must be integers or slices, not str\n",
      "[WARNING] Failed to load IDS_top50_urban_300_points_probabilistic_300_size_seed_1415.pkl: list indices must be integers or slices, not str\n",
      "[WARNING] Failed to load IDS_top50_urban_300_points_probabilistic_300_size_seed_42.pkl: list indices must be integers or slices, not str\n",
      "[WARNING] Failed to load IDS_top50_urban_300_points_probabilistic_300_size_seed_456.pkl: list indices must be integers or slices, not str\n",
      "[WARNING] Failed to load IDS_top50_urban_300_points_probabilistic_300_size_seed_5678.pkl: list indices must be integers or slices, not str\n",
      "[WARNING] Failed to load IDS_top50_urban_300_points_probabilistic_300_size_seed_789.pkl: list indices must be integers or slices, not str\n",
      "[WARNING] Failed to load IDS_top50_urban_300_points_probabilistic_300_size_seed_9101.pkl: list indices must be integers or slices, not str\n",
      "[WARNING] Failed to load IDS_top50_urban_400_points_probabilistic_400_size_seed_1.pkl: list indices must be integers or slices, not str\n",
      "[WARNING] Failed to load IDS_top50_urban_400_points_probabilistic_400_size_seed_1213.pkl: list indices must be integers or slices, not str\n",
      "[WARNING] Failed to load IDS_top50_urban_400_points_probabilistic_400_size_seed_123.pkl: list indices must be integers or slices, not str\n",
      "[WARNING] Failed to load IDS_top50_urban_400_points_probabilistic_400_size_seed_1234.pkl: list indices must be integers or slices, not str\n",
      "[WARNING] Failed to load IDS_top50_urban_400_points_probabilistic_400_size_seed_1415.pkl: list indices must be integers or slices, not str\n",
      "[WARNING] Failed to load IDS_top50_urban_400_points_probabilistic_400_size_seed_42.pkl: list indices must be integers or slices, not str\n",
      "[WARNING] Failed to load IDS_top50_urban_400_points_probabilistic_400_size_seed_456.pkl: list indices must be integers or slices, not str\n",
      "[WARNING] Failed to load IDS_top50_urban_400_points_probabilistic_400_size_seed_5678.pkl: list indices must be integers or slices, not str\n",
      "[WARNING] Failed to load IDS_top50_urban_400_points_probabilistic_400_size_seed_789.pkl: list indices must be integers or slices, not str\n",
      "[WARNING] Failed to load IDS_top50_urban_400_points_probabilistic_400_size_seed_9101.pkl: list indices must be integers or slices, not str\n",
      "[WARNING] Failed to load IDS_top50_urban_500_points_probabilistic_500_size_seed_1.pkl: list indices must be integers or slices, not str\n",
      "[WARNING] Failed to load IDS_top50_urban_500_points_probabilistic_500_size_seed_1213.pkl: list indices must be integers or slices, not str\n",
      "[WARNING] Failed to load IDS_top50_urban_500_points_probabilistic_500_size_seed_123.pkl: list indices must be integers or slices, not str\n",
      "[WARNING] Failed to load IDS_top50_urban_500_points_probabilistic_500_size_seed_1234.pkl: list indices must be integers or slices, not str\n",
      "[WARNING] Failed to load IDS_top50_urban_500_points_probabilistic_500_size_seed_1415.pkl: list indices must be integers or slices, not str\n",
      "[WARNING] Failed to load IDS_top50_urban_500_points_probabilistic_500_size_seed_42.pkl: list indices must be integers or slices, not str\n",
      "[WARNING] Failed to load IDS_top50_urban_500_points_probabilistic_500_size_seed_456.pkl: list indices must be integers or slices, not str\n",
      "[WARNING] Failed to load IDS_top50_urban_500_points_probabilistic_500_size_seed_5678.pkl: list indices must be integers or slices, not str\n",
      "[WARNING] Failed to load IDS_top50_urban_500_points_probabilistic_500_size_seed_789.pkl: list indices must be integers or slices, not str\n",
      "[WARNING] Failed to load IDS_top50_urban_500_points_probabilistic_500_size_seed_9101.pkl: list indices must be integers or slices, not str\n",
      "[WARNING] Failed to load IDS_top50_urban_600_points_probabilistic_600_size_seed_1.pkl: list indices must be integers or slices, not str\n",
      "[WARNING] Failed to load IDS_top50_urban_600_points_probabilistic_600_size_seed_1213.pkl: list indices must be integers or slices, not str\n",
      "[WARNING] Failed to load IDS_top50_urban_600_points_probabilistic_600_size_seed_123.pkl: list indices must be integers or slices, not str\n",
      "[WARNING] Failed to load IDS_top50_urban_600_points_probabilistic_600_size_seed_1234.pkl: list indices must be integers or slices, not str\n",
      "[WARNING] Failed to load IDS_top50_urban_600_points_probabilistic_600_size_seed_1415.pkl: list indices must be integers or slices, not str\n",
      "[WARNING] Failed to load IDS_top50_urban_600_points_probabilistic_600_size_seed_42.pkl: list indices must be integers or slices, not str\n",
      "[WARNING] Failed to load IDS_top50_urban_600_points_probabilistic_600_size_seed_456.pkl: list indices must be integers or slices, not str\n",
      "[WARNING] Failed to load IDS_top50_urban_600_points_probabilistic_600_size_seed_5678.pkl: list indices must be integers or slices, not str\n",
      "[WARNING] Failed to load IDS_top50_urban_600_points_probabilistic_600_size_seed_789.pkl: list indices must be integers or slices, not str\n",
      "[WARNING] Failed to load IDS_top50_urban_600_points_probabilistic_600_size_seed_9101.pkl: list indices must be integers or slices, not str\n",
      "[WARNING] Failed to load IDS_top50_urban_700_points_probabilistic_700_size_seed_1.pkl: list indices must be integers or slices, not str\n",
      "[WARNING] Failed to load IDS_top50_urban_700_points_probabilistic_700_size_seed_1213.pkl: list indices must be integers or slices, not str\n",
      "[WARNING] Failed to load IDS_top50_urban_700_points_probabilistic_700_size_seed_123.pkl: list indices must be integers or slices, not str\n",
      "[WARNING] Failed to load IDS_top50_urban_700_points_probabilistic_700_size_seed_1234.pkl: list indices must be integers or slices, not str\n",
      "[WARNING] Failed to load IDS_top50_urban_700_points_probabilistic_700_size_seed_1415.pkl: list indices must be integers or slices, not str\n",
      "[WARNING] Failed to load IDS_top50_urban_700_points_probabilistic_700_size_seed_42.pkl: list indices must be integers or slices, not str\n",
      "[WARNING] Failed to load IDS_top50_urban_700_points_probabilistic_700_size_seed_456.pkl: list indices must be integers or slices, not str\n",
      "[WARNING] Failed to load IDS_top50_urban_700_points_probabilistic_700_size_seed_5678.pkl: list indices must be integers or slices, not str\n",
      "[WARNING] Failed to load IDS_top50_urban_700_points_probabilistic_700_size_seed_789.pkl: list indices must be integers or slices, not str\n",
      "[WARNING] Failed to load IDS_top50_urban_700_points_probabilistic_700_size_seed_9101.pkl: list indices must be integers or slices, not str\n",
      "[WARNING] Failed to load IDS_top50_urban_800_points_probabilistic_800_size_seed_1.pkl: list indices must be integers or slices, not str\n",
      "[WARNING] Failed to load IDS_top50_urban_800_points_probabilistic_800_size_seed_1213.pkl: list indices must be integers or slices, not str\n",
      "[WARNING] Failed to load IDS_top50_urban_800_points_probabilistic_800_size_seed_123.pkl: list indices must be integers or slices, not str\n",
      "[WARNING] Failed to load IDS_top50_urban_800_points_probabilistic_800_size_seed_1234.pkl: list indices must be integers or slices, not str\n",
      "[WARNING] Failed to load IDS_top50_urban_800_points_probabilistic_800_size_seed_1415.pkl: list indices must be integers or slices, not str\n",
      "[WARNING] Failed to load IDS_top50_urban_800_points_probabilistic_800_size_seed_42.pkl: list indices must be integers or slices, not str\n",
      "[WARNING] Failed to load IDS_top50_urban_800_points_probabilistic_800_size_seed_456.pkl: list indices must be integers or slices, not str\n",
      "[WARNING] Failed to load IDS_top50_urban_800_points_probabilistic_800_size_seed_5678.pkl: list indices must be integers or slices, not str\n",
      "[WARNING] Failed to load IDS_top50_urban_800_points_probabilistic_800_size_seed_789.pkl: list indices must be integers or slices, not str\n",
      "[WARNING] Failed to load IDS_top50_urban_800_points_probabilistic_800_size_seed_9101.pkl: list indices must be integers or slices, not str\n",
      "[WARNING] Failed to load IDS_top50_urban_900_points_probabilistic_900_size_seed_1.pkl: list indices must be integers or slices, not str\n",
      "[WARNING] Failed to load IDS_top50_urban_900_points_probabilistic_900_size_seed_1213.pkl: list indices must be integers or slices, not str\n",
      "[WARNING] Failed to load IDS_top50_urban_900_points_probabilistic_900_size_seed_123.pkl: list indices must be integers or slices, not str\n",
      "[WARNING] Failed to load IDS_top50_urban_900_points_probabilistic_900_size_seed_1234.pkl: list indices must be integers or slices, not str\n",
      "[WARNING] Failed to load IDS_top50_urban_900_points_probabilistic_900_size_seed_1415.pkl: list indices must be integers or slices, not str\n",
      "[WARNING] Failed to load IDS_top50_urban_900_points_probabilistic_900_size_seed_42.pkl: list indices must be integers or slices, not str\n",
      "[WARNING] Failed to load IDS_top50_urban_900_points_probabilistic_900_size_seed_456.pkl: list indices must be integers or slices, not str\n",
      "[WARNING] Failed to load IDS_top50_urban_900_points_probabilistic_900_size_seed_5678.pkl: list indices must be integers or slices, not str\n",
      "[WARNING] Failed to load IDS_top50_urban_900_points_probabilistic_900_size_seed_789.pkl: list indices must be integers or slices, not str\n",
      "[WARNING] Failed to load IDS_top50_urban_900_points_probabilistic_900_size_seed_9101.pkl: list indices must be integers or slices, not str\n",
      "Results written incrementally to /home/libe2152/optimizedsampling/0_results/usavars/population/convenience_sampling_r2_scores.csv\n",
      "Loading features from /home/libe2152/optimizedsampling/0_data/features/usavars/CONTUS_UAR_population_with_splits_torchgeo4096.pkl ...\n"
     ]
    },
    {
     "name": "stderr",
     "output_type": "stream",
     "text": [
      "\n"
     ]
    },
    {
     "name": "stdout",
     "output_type": "stream",
     "text": [
      "Processing samples from /home/libe2152/optimizedsampling/0_data/initial_samples/usavars/population/convenience_sampling/cluster_based ...\n"
     ]
    },
    {
     "name": "stderr",
     "output_type": "stream",
     "text": [
      "Processing samples: 100%|██████████| 520/520 [00:00<00:00, 19068.02it/s]"
     ]
    },
    {
     "name": "stdout",
     "output_type": "stream",
     "text": [
      "[WARNING] Failed to load IDS_top20_urban_cluster_COUNTY_NAME_10_ppc_10_clusters_100_size_probabilistic_seed_5678.pkl: list indices must be integers or slices, not str\n",
      "[WARNING] Failed to load IDS_top20_urban_cluster_COUNTY_NAME_10_ppc_11_clusters_100_size_probabilistic_seed_123.pkl: list indices must be integers or slices, not str\n",
      "[WARNING] Failed to load IDS_top20_urban_cluster_COUNTY_NAME_10_ppc_11_clusters_200_size_probabilistic_seed_456.pkl: list indices must be integers or slices, not str\n",
      "[WARNING] Failed to load IDS_top20_urban_cluster_COUNTY_NAME_10_ppc_13_clusters_200_size_probabilistic_seed_123.pkl: list indices must be integers or slices, not str\n",
      "[WARNING] Failed to load IDS_top20_urban_cluster_COUNTY_NAME_10_ppc_13_clusters_200_size_probabilistic_seed_42.pkl: list indices must be integers or slices, not str\n",
      "[WARNING] Failed to load IDS_top20_urban_cluster_COUNTY_NAME_10_ppc_14_clusters_200_size_probabilistic_seed_1234.pkl: list indices must be integers or slices, not str\n",
      "[WARNING] Failed to load IDS_top20_urban_cluster_COUNTY_NAME_10_ppc_14_clusters_200_size_probabilistic_seed_789.pkl: list indices must be integers or slices, not str\n",
      "[WARNING] Failed to load IDS_top20_urban_cluster_COUNTY_NAME_10_ppc_15_clusters_300_size_probabilistic_seed_456.pkl: list indices must be integers or slices, not str\n",
      "[WARNING] Failed to load IDS_top20_urban_cluster_COUNTY_NAME_10_ppc_17_clusters_200_size_probabilistic_seed_1.pkl: list indices must be integers or slices, not str\n",
      "[WARNING] Failed to load IDS_top20_urban_cluster_COUNTY_NAME_10_ppc_17_clusters_200_size_probabilistic_seed_1415.pkl: list indices must be integers or slices, not str\n",
      "[WARNING] Failed to load IDS_top20_urban_cluster_COUNTY_NAME_10_ppc_17_clusters_200_size_probabilistic_seed_9101.pkl: list indices must be integers or slices, not str\n",
      "[WARNING] Failed to load IDS_top20_urban_cluster_COUNTY_NAME_10_ppc_19_clusters_200_size_probabilistic_seed_5678.pkl: list indices must be integers or slices, not str\n",
      "[WARNING] Failed to load IDS_top20_urban_cluster_COUNTY_NAME_10_ppc_19_clusters_300_size_probabilistic_seed_123.pkl: list indices must be integers or slices, not str\n",
      "[WARNING] Failed to load IDS_top20_urban_cluster_COUNTY_NAME_10_ppc_21_clusters_200_size_probabilistic_seed_1213.pkl: list indices must be integers or slices, not str\n",
      "[WARNING] Failed to load IDS_top20_urban_cluster_COUNTY_NAME_10_ppc_22_clusters_300_size_probabilistic_seed_789.pkl: list indices must be integers or slices, not str\n",
      "[WARNING] Failed to load IDS_top20_urban_cluster_COUNTY_NAME_10_ppc_24_clusters_300_size_probabilistic_seed_1.pkl: list indices must be integers or slices, not str\n",
      "[WARNING] Failed to load IDS_top20_urban_cluster_COUNTY_NAME_10_ppc_24_clusters_300_size_probabilistic_seed_1415.pkl: list indices must be integers or slices, not str\n",
      "[WARNING] Failed to load IDS_top20_urban_cluster_COUNTY_NAME_10_ppc_25_clusters_300_size_probabilistic_seed_42.pkl: list indices must be integers or slices, not str\n",
      "[WARNING] Failed to load IDS_top20_urban_cluster_COUNTY_NAME_10_ppc_25_clusters_400_size_probabilistic_seed_456.pkl: list indices must be integers or slices, not str\n",
      "[WARNING] Failed to load IDS_top20_urban_cluster_COUNTY_NAME_10_ppc_26_clusters_300_size_probabilistic_seed_1234.pkl: list indices must be integers or slices, not str\n",
      "[WARNING] Failed to load IDS_top20_urban_cluster_COUNTY_NAME_10_ppc_27_clusters_400_size_probabilistic_seed_123.pkl: list indices must be integers or slices, not str\n",
      "[WARNING] Failed to load IDS_top20_urban_cluster_COUNTY_NAME_10_ppc_28_clusters_300_size_probabilistic_seed_1213.pkl: list indices must be integers or slices, not str\n",
      "[WARNING] Failed to load IDS_top20_urban_cluster_COUNTY_NAME_10_ppc_28_clusters_300_size_probabilistic_seed_5678.pkl: list indices must be integers or slices, not str\n",
      "[WARNING] Failed to load IDS_top20_urban_cluster_COUNTY_NAME_10_ppc_28_clusters_300_size_probabilistic_seed_9101.pkl: list indices must be integers or slices, not str\n",
      "[WARNING] Failed to load IDS_top20_urban_cluster_COUNTY_NAME_10_ppc_31_clusters_400_size_probabilistic_seed_1415.pkl: list indices must be integers or slices, not str\n",
      "[WARNING] Failed to load IDS_top20_urban_cluster_COUNTY_NAME_10_ppc_33_clusters_400_size_probabilistic_seed_1.pkl: list indices must be integers or slices, not str\n",
      "[WARNING] Failed to load IDS_top20_urban_cluster_COUNTY_NAME_10_ppc_33_clusters_400_size_probabilistic_seed_1213.pkl: list indices must be integers or slices, not str\n",
      "[WARNING] Failed to load IDS_top20_urban_cluster_COUNTY_NAME_10_ppc_33_clusters_400_size_probabilistic_seed_789.pkl: list indices must be integers or slices, not str\n",
      "[WARNING] Failed to load IDS_top20_urban_cluster_COUNTY_NAME_10_ppc_33_clusters_500_size_probabilistic_seed_456.pkl: list indices must be integers or slices, not str\n",
      "[WARNING] Failed to load IDS_top20_urban_cluster_COUNTY_NAME_10_ppc_34_clusters_400_size_probabilistic_seed_42.pkl: list indices must be integers or slices, not str\n",
      "[WARNING] Failed to load IDS_top20_urban_cluster_COUNTY_NAME_10_ppc_35_clusters_400_size_probabilistic_seed_1234.pkl: list indices must be integers or slices, not str\n",
      "[WARNING] Failed to load IDS_top20_urban_cluster_COUNTY_NAME_10_ppc_35_clusters_400_size_probabilistic_seed_9101.pkl: list indices must be integers or slices, not str\n",
      "[WARNING] Failed to load IDS_top20_urban_cluster_COUNTY_NAME_10_ppc_36_clusters_400_size_probabilistic_seed_5678.pkl: list indices must be integers or slices, not str\n",
      "[WARNING] Failed to load IDS_top20_urban_cluster_COUNTY_NAME_10_ppc_36_clusters_500_size_probabilistic_seed_42.pkl: list indices must be integers or slices, not str\n",
      "[WARNING] Failed to load IDS_top20_urban_cluster_COUNTY_NAME_10_ppc_37_clusters_500_size_probabilistic_seed_123.pkl: list indices must be integers or slices, not str\n",
      "[WARNING] Failed to load IDS_top20_urban_cluster_COUNTY_NAME_10_ppc_38_clusters_500_size_probabilistic_seed_1213.pkl: list indices must be integers or slices, not str\n",
      "[WARNING] Failed to load IDS_top20_urban_cluster_COUNTY_NAME_10_ppc_38_clusters_500_size_probabilistic_seed_789.pkl: list indices must be integers or slices, not str\n",
      "[WARNING] Failed to load IDS_top20_urban_cluster_COUNTY_NAME_10_ppc_39_clusters_600_size_probabilistic_seed_1213.pkl: list indices must be integers or slices, not str\n",
      "[WARNING] Failed to load IDS_top20_urban_cluster_COUNTY_NAME_10_ppc_41_clusters_500_size_probabilistic_seed_1.pkl: list indices must be integers or slices, not str\n",
      "[WARNING] Failed to load IDS_top20_urban_cluster_COUNTY_NAME_10_ppc_41_clusters_600_size_probabilistic_seed_456.pkl: list indices must be integers or slices, not str\n",
      "[WARNING] Failed to load IDS_top20_urban_cluster_COUNTY_NAME_10_ppc_42_clusters_500_size_probabilistic_seed_1415.pkl: list indices must be integers or slices, not str\n",
      "[WARNING] Failed to load IDS_top20_urban_cluster_COUNTY_NAME_10_ppc_42_clusters_600_size_probabilistic_seed_123.pkl: list indices must be integers or slices, not str\n",
      "[WARNING] Failed to load IDS_top20_urban_cluster_COUNTY_NAME_10_ppc_42_clusters_600_size_probabilistic_seed_42.pkl: list indices must be integers or slices, not str\n",
      "[WARNING] Failed to load IDS_top20_urban_cluster_COUNTY_NAME_10_ppc_42_clusters_600_size_probabilistic_seed_789.pkl: list indices must be integers or slices, not str\n",
      "[WARNING] Failed to load IDS_top20_urban_cluster_COUNTY_NAME_10_ppc_43_clusters_500_size_probabilistic_seed_1234.pkl: list indices must be integers or slices, not str\n",
      "[WARNING] Failed to load IDS_top20_urban_cluster_COUNTY_NAME_10_ppc_46_clusters_500_size_probabilistic_seed_9101.pkl: list indices must be integers or slices, not str\n",
      "[WARNING] Failed to load IDS_top20_urban_cluster_COUNTY_NAME_10_ppc_47_clusters_500_size_probabilistic_seed_5678.pkl: list indices must be integers or slices, not str\n",
      "[WARNING] Failed to load IDS_top20_urban_cluster_COUNTY_NAME_10_ppc_48_clusters_700_size_probabilistic_seed_1213.pkl: list indices must be integers or slices, not str\n",
      "[WARNING] Failed to load IDS_top20_urban_cluster_COUNTY_NAME_10_ppc_48_clusters_700_size_probabilistic_seed_123.pkl: list indices must be integers or slices, not str\n",
      "[WARNING] Failed to load IDS_top20_urban_cluster_COUNTY_NAME_10_ppc_48_clusters_700_size_probabilistic_seed_789.pkl: list indices must be integers or slices, not str\n",
      "[WARNING] Failed to load IDS_top20_urban_cluster_COUNTY_NAME_10_ppc_51_clusters_700_size_probabilistic_seed_42.pkl: list indices must be integers or slices, not str\n",
      "[WARNING] Failed to load IDS_top20_urban_cluster_COUNTY_NAME_10_ppc_51_clusters_700_size_probabilistic_seed_456.pkl: list indices must be integers or slices, not str\n",
      "[WARNING] Failed to load IDS_top20_urban_cluster_COUNTY_NAME_10_ppc_52_clusters_600_size_probabilistic_seed_1.pkl: list indices must be integers or slices, not str\n",
      "[WARNING] Failed to load IDS_top20_urban_cluster_COUNTY_NAME_10_ppc_52_clusters_600_size_probabilistic_seed_1234.pkl: list indices must be integers or slices, not str\n",
      "[WARNING] Failed to load IDS_top20_urban_cluster_COUNTY_NAME_10_ppc_52_clusters_800_size_probabilistic_seed_789.pkl: list indices must be integers or slices, not str\n",
      "[WARNING] Failed to load IDS_top20_urban_cluster_COUNTY_NAME_10_ppc_53_clusters_600_size_probabilistic_seed_5678.pkl: list indices must be integers or slices, not str\n",
      "[WARNING] Failed to load IDS_top20_urban_cluster_COUNTY_NAME_10_ppc_54_clusters_600_size_probabilistic_seed_1415.pkl: list indices must be integers or slices, not str\n",
      "[WARNING] Failed to load IDS_top20_urban_cluster_COUNTY_NAME_10_ppc_54_clusters_800_size_probabilistic_seed_123.pkl: list indices must be integers or slices, not str\n",
      "[WARNING] Failed to load IDS_top20_urban_cluster_COUNTY_NAME_10_ppc_55_clusters_600_size_probabilistic_seed_9101.pkl: list indices must be integers or slices, not str\n",
      "[WARNING] Failed to load IDS_top20_urban_cluster_COUNTY_NAME_10_ppc_55_clusters_800_size_probabilistic_seed_1213.pkl: list indices must be integers or slices, not str\n",
      "[WARNING] Failed to load IDS_top20_urban_cluster_COUNTY_NAME_10_ppc_56_clusters_800_size_probabilistic_seed_42.pkl: list indices must be integers or slices, not str\n",
      "[WARNING] Failed to load IDS_top20_urban_cluster_COUNTY_NAME_10_ppc_57_clusters_800_size_probabilistic_seed_456.pkl: list indices must be integers or slices, not str\n",
      "[WARNING] Failed to load IDS_top20_urban_cluster_COUNTY_NAME_10_ppc_59_clusters_700_size_probabilistic_seed_5678.pkl: list indices must be integers or slices, not str\n",
      "[WARNING] Failed to load IDS_top20_urban_cluster_COUNTY_NAME_10_ppc_60_clusters_700_size_probabilistic_seed_1415.pkl: list indices must be integers or slices, not str\n",
      "[WARNING] Failed to load IDS_top20_urban_cluster_COUNTY_NAME_10_ppc_60_clusters_700_size_probabilistic_seed_9101.pkl: list indices must be integers or slices, not str\n",
      "[WARNING] Failed to load IDS_top20_urban_cluster_COUNTY_NAME_10_ppc_60_clusters_900_size_probabilistic_seed_1213.pkl: list indices must be integers or slices, not str\n",
      "[WARNING] Failed to load IDS_top20_urban_cluster_COUNTY_NAME_10_ppc_61_clusters_700_size_probabilistic_seed_1234.pkl: list indices must be integers or slices, not str\n",
      "[WARNING] Failed to load IDS_top20_urban_cluster_COUNTY_NAME_10_ppc_61_clusters_900_size_probabilistic_seed_123.pkl: list indices must be integers or slices, not str\n",
      "[WARNING] Failed to load IDS_top20_urban_cluster_COUNTY_NAME_10_ppc_62_clusters_700_size_probabilistic_seed_1.pkl: list indices must be integers or slices, not str\n",
      "[WARNING] Failed to load IDS_top20_urban_cluster_COUNTY_NAME_10_ppc_62_clusters_900_size_probabilistic_seed_789.pkl: list indices must be integers or slices, not str\n",
      "[WARNING] Failed to load IDS_top20_urban_cluster_COUNTY_NAME_10_ppc_63_clusters_800_size_probabilistic_seed_5678.pkl: list indices must be integers or slices, not str\n",
      "[WARNING] Failed to load IDS_top20_urban_cluster_COUNTY_NAME_10_ppc_64_clusters_900_size_probabilistic_seed_42.pkl: list indices must be integers or slices, not str\n",
      "[WARNING] Failed to load IDS_top20_urban_cluster_COUNTY_NAME_10_ppc_65_clusters_1000_size_probabilistic_seed_1213.pkl: list indices must be integers or slices, not str\n",
      "[WARNING] Failed to load IDS_top20_urban_cluster_COUNTY_NAME_10_ppc_65_clusters_900_size_probabilistic_seed_456.pkl: list indices must be integers or slices, not str\n",
      "[WARNING] Failed to load IDS_top20_urban_cluster_COUNTY_NAME_10_ppc_66_clusters_800_size_probabilistic_seed_9101.pkl: list indices must be integers or slices, not str\n",
      "[WARNING] Failed to load IDS_top20_urban_cluster_COUNTY_NAME_10_ppc_67_clusters_1000_size_probabilistic_seed_789.pkl: list indices must be integers or slices, not str\n",
      "[WARNING] Failed to load IDS_top20_urban_cluster_COUNTY_NAME_10_ppc_68_clusters_800_size_probabilistic_seed_1.pkl: list indices must be integers or slices, not str\n",
      "[WARNING] Failed to load IDS_top20_urban_cluster_COUNTY_NAME_10_ppc_69_clusters_1000_size_probabilistic_seed_123.pkl: list indices must be integers or slices, not str\n",
      "[WARNING] Failed to load IDS_top20_urban_cluster_COUNTY_NAME_10_ppc_69_clusters_800_size_probabilistic_seed_1415.pkl: list indices must be integers or slices, not str\n",
      "[WARNING] Failed to load IDS_top20_urban_cluster_COUNTY_NAME_10_ppc_69_clusters_900_size_probabilistic_seed_5678.pkl: list indices must be integers or slices, not str\n",
      "[WARNING] Failed to load IDS_top20_urban_cluster_COUNTY_NAME_10_ppc_6_clusters_100_size_probabilistic_seed_456.pkl: list indices must be integers or slices, not str\n",
      "[WARNING] Failed to load IDS_top20_urban_cluster_COUNTY_NAME_10_ppc_70_clusters_1000_size_probabilistic_seed_42.pkl: list indices must be integers or slices, not str\n",
      "[WARNING] Failed to load IDS_top20_urban_cluster_COUNTY_NAME_10_ppc_71_clusters_800_size_probabilistic_seed_1234.pkl: list indices must be integers or slices, not str\n",
      "[WARNING] Failed to load IDS_top20_urban_cluster_COUNTY_NAME_10_ppc_75_clusters_1000_size_probabilistic_seed_456.pkl: list indices must be integers or slices, not str\n",
      "[WARNING] Failed to load IDS_top20_urban_cluster_COUNTY_NAME_10_ppc_76_clusters_1000_size_probabilistic_seed_5678.pkl: list indices must be integers or slices, not str\n",
      "[WARNING] Failed to load IDS_top20_urban_cluster_COUNTY_NAME_10_ppc_77_clusters_900_size_probabilistic_seed_1.pkl: list indices must be integers or slices, not str\n",
      "[WARNING] Failed to load IDS_top20_urban_cluster_COUNTY_NAME_10_ppc_77_clusters_900_size_probabilistic_seed_9101.pkl: list indices must be integers or slices, not str\n",
      "[WARNING] Failed to load IDS_top20_urban_cluster_COUNTY_NAME_10_ppc_79_clusters_900_size_probabilistic_seed_1234.pkl: list indices must be integers or slices, not str\n",
      "[WARNING] Failed to load IDS_top20_urban_cluster_COUNTY_NAME_10_ppc_7_clusters_100_size_probabilistic_seed_1234.pkl: list indices must be integers or slices, not str\n",
      "[WARNING] Failed to load IDS_top20_urban_cluster_COUNTY_NAME_10_ppc_80_clusters_900_size_probabilistic_seed_1415.pkl: list indices must be integers or slices, not str\n",
      "[WARNING] Failed to load IDS_top20_urban_cluster_COUNTY_NAME_10_ppc_81_clusters_1000_size_probabilistic_seed_9101.pkl: list indices must be integers or slices, not str\n",
      "[WARNING] Failed to load IDS_top20_urban_cluster_COUNTY_NAME_10_ppc_82_clusters_1000_size_probabilistic_seed_1.pkl: list indices must be integers or slices, not str\n",
      "[WARNING] Failed to load IDS_top20_urban_cluster_COUNTY_NAME_10_ppc_84_clusters_1000_size_probabilistic_seed_1234.pkl: list indices must be integers or slices, not str\n",
      "[WARNING] Failed to load IDS_top20_urban_cluster_COUNTY_NAME_10_ppc_86_clusters_1000_size_probabilistic_seed_1415.pkl: list indices must be integers or slices, not str\n",
      "[WARNING] Failed to load IDS_top20_urban_cluster_COUNTY_NAME_10_ppc_8_clusters_100_size_probabilistic_seed_1.pkl: list indices must be integers or slices, not str\n",
      "[WARNING] Failed to load IDS_top20_urban_cluster_COUNTY_NAME_10_ppc_8_clusters_100_size_probabilistic_seed_42.pkl: list indices must be integers or slices, not str\n",
      "[WARNING] Failed to load IDS_top20_urban_cluster_COUNTY_NAME_10_ppc_8_clusters_100_size_probabilistic_seed_789.pkl: list indices must be integers or slices, not str\n",
      "[WARNING] Failed to load IDS_top20_urban_cluster_COUNTY_NAME_10_ppc_8_clusters_100_size_probabilistic_seed_9101.pkl: list indices must be integers or slices, not str\n",
      "[WARNING] Failed to load IDS_top20_urban_cluster_COUNTY_NAME_10_ppc_9_clusters_100_size_probabilistic_seed_1213.pkl: list indices must be integers or slices, not str\n",
      "[WARNING] Failed to load IDS_top20_urban_cluster_COUNTY_NAME_10_ppc_9_clusters_100_size_probabilistic_seed_1415.pkl: list indices must be integers or slices, not str\n",
      "[WARNING] Failed to load IDS_top20_urban_cluster_COUNTY_NAME_5_ppc_10_clusters_100_size_probabilistic_seed_1415.pkl: list indices must be integers or slices, not str\n",
      "[WARNING] Failed to load IDS_top20_urban_cluster_COUNTY_NAME_5_ppc_10_clusters_100_size_probabilistic_seed_5678.pkl: list indices must be integers or slices, not str\n",
      "[WARNING] Failed to load IDS_top20_urban_cluster_COUNTY_NAME_5_ppc_11_clusters_100_size_probabilistic_seed_1213.pkl: list indices must be integers or slices, not str\n",
      "[WARNING] Failed to load IDS_top20_urban_cluster_COUNTY_NAME_5_ppc_11_clusters_100_size_probabilistic_seed_123.pkl: list indices must be integers or slices, not str\n",
      "[WARNING] Failed to load IDS_top20_urban_cluster_COUNTY_NAME_5_ppc_11_clusters_200_size_probabilistic_seed_456.pkl: list indices must be integers or slices, not str\n",
      "[WARNING] Failed to load IDS_top20_urban_cluster_COUNTY_NAME_5_ppc_12_clusters_100_size_probabilistic_seed_1.pkl: list indices must be integers or slices, not str\n",
      "[WARNING] Failed to load IDS_top20_urban_cluster_COUNTY_NAME_5_ppc_12_clusters_100_size_probabilistic_seed_9101.pkl: list indices must be integers or slices, not str\n",
      "[WARNING] Failed to load IDS_top20_urban_cluster_COUNTY_NAME_5_ppc_13_clusters_100_size_probabilistic_seed_5678.pkl: list indices must be integers or slices, not str\n",
      "[WARNING] Failed to load IDS_top20_urban_cluster_COUNTY_NAME_5_ppc_13_clusters_200_size_probabilistic_seed_123.pkl: list indices must be integers or slices, not str\n",
      "[WARNING] Failed to load IDS_top20_urban_cluster_COUNTY_NAME_5_ppc_13_clusters_200_size_probabilistic_seed_42.pkl: list indices must be integers or slices, not str\n",
      "[WARNING] Failed to load IDS_top20_urban_cluster_COUNTY_NAME_5_ppc_14_clusters_100_size_probabilistic_seed_1234.pkl: list indices must be integers or slices, not str\n",
      "[WARNING] Failed to load IDS_top20_urban_cluster_COUNTY_NAME_5_ppc_14_clusters_200_size_probabilistic_seed_1234.pkl: list indices must be integers or slices, not str\n",
      "[WARNING] Failed to load IDS_top20_urban_cluster_COUNTY_NAME_5_ppc_14_clusters_200_size_probabilistic_seed_789.pkl: list indices must be integers or slices, not str\n",
      "[WARNING] Failed to load IDS_top20_urban_cluster_COUNTY_NAME_5_ppc_15_clusters_200_size_probabilistic_seed_123.pkl: list indices must be integers or slices, not str\n",
      "[WARNING] Failed to load IDS_top20_urban_cluster_COUNTY_NAME_5_ppc_15_clusters_300_size_probabilistic_seed_456.pkl: list indices must be integers or slices, not str\n",
      "[WARNING] Failed to load IDS_top20_urban_cluster_COUNTY_NAME_5_ppc_16_clusters_200_size_probabilistic_seed_456.pkl: list indices must be integers or slices, not str\n",
      "[WARNING] Failed to load IDS_top20_urban_cluster_COUNTY_NAME_5_ppc_17_clusters_200_size_probabilistic_seed_1.pkl: list indices must be integers or slices, not str\n",
      "[WARNING] Failed to load IDS_top20_urban_cluster_COUNTY_NAME_5_ppc_17_clusters_200_size_probabilistic_seed_1415.pkl: list indices must be integers or slices, not str\n",
      "[WARNING] Failed to load IDS_top20_urban_cluster_COUNTY_NAME_5_ppc_17_clusters_200_size_probabilistic_seed_42.pkl: list indices must be integers or slices, not str\n",
      "[WARNING] Failed to load IDS_top20_urban_cluster_COUNTY_NAME_5_ppc_17_clusters_200_size_probabilistic_seed_9101.pkl: list indices must be integers or slices, not str\n",
      "[WARNING] Failed to load IDS_top20_urban_cluster_COUNTY_NAME_5_ppc_18_clusters_200_size_probabilistic_seed_1.pkl: list indices must be integers or slices, not str\n",
      "[WARNING] Failed to load IDS_top20_urban_cluster_COUNTY_NAME_5_ppc_19_clusters_200_size_probabilistic_seed_1213.pkl: list indices must be integers or slices, not str\n",
      "[WARNING] Failed to load IDS_top20_urban_cluster_COUNTY_NAME_5_ppc_19_clusters_200_size_probabilistic_seed_5678.pkl: list indices must be integers or slices, not str\n",
      "[WARNING] Failed to load IDS_top20_urban_cluster_COUNTY_NAME_5_ppc_19_clusters_300_size_probabilistic_seed_123.pkl: list indices must be integers or slices, not str\n",
      "[WARNING] Failed to load IDS_top20_urban_cluster_COUNTY_NAME_5_ppc_20_clusters_200_size_probabilistic_seed_1415.pkl: list indices must be integers or slices, not str\n",
      "[WARNING] Failed to load IDS_top20_urban_cluster_COUNTY_NAME_5_ppc_20_clusters_300_size_probabilistic_seed_789.pkl: list indices must be integers or slices, not str\n",
      "[WARNING] Failed to load IDS_top20_urban_cluster_COUNTY_NAME_5_ppc_21_clusters_200_size_probabilistic_seed_1213.pkl: list indices must be integers or slices, not str\n",
      "[WARNING] Failed to load IDS_top20_urban_cluster_COUNTY_NAME_5_ppc_21_clusters_200_size_probabilistic_seed_1234.pkl: list indices must be integers or slices, not str\n",
      "[WARNING] Failed to load IDS_top20_urban_cluster_COUNTY_NAME_5_ppc_21_clusters_300_size_probabilistic_seed_123.pkl: list indices must be integers or slices, not str\n",
      "[WARNING] Failed to load IDS_top20_urban_cluster_COUNTY_NAME_5_ppc_22_clusters_300_size_probabilistic_seed_789.pkl: list indices must be integers or slices, not str\n",
      "[WARNING] Failed to load IDS_top20_urban_cluster_COUNTY_NAME_5_ppc_23_clusters_200_size_probabilistic_seed_9101.pkl: list indices must be integers or slices, not str\n",
      "[WARNING] Failed to load IDS_top20_urban_cluster_COUNTY_NAME_5_ppc_24_clusters_200_size_probabilistic_seed_5678.pkl: list indices must be integers or slices, not str\n",
      "[WARNING] Failed to load IDS_top20_urban_cluster_COUNTY_NAME_5_ppc_24_clusters_300_size_probabilistic_seed_1.pkl: list indices must be integers or slices, not str\n",
      "[WARNING] Failed to load IDS_top20_urban_cluster_COUNTY_NAME_5_ppc_24_clusters_300_size_probabilistic_seed_1213.pkl: list indices must be integers or slices, not str\n",
      "[WARNING] Failed to load IDS_top20_urban_cluster_COUNTY_NAME_5_ppc_24_clusters_300_size_probabilistic_seed_1415.pkl: list indices must be integers or slices, not str\n",
      "[WARNING] Failed to load IDS_top20_urban_cluster_COUNTY_NAME_5_ppc_24_clusters_300_size_probabilistic_seed_42.pkl: list indices must be integers or slices, not str\n",
      "[WARNING] Failed to load IDS_top20_urban_cluster_COUNTY_NAME_5_ppc_25_clusters_300_size_probabilistic_seed_42.pkl: list indices must be integers or slices, not str\n",
      "[WARNING] Failed to load IDS_top20_urban_cluster_COUNTY_NAME_5_ppc_25_clusters_400_size_probabilistic_seed_456.pkl: list indices must be integers or slices, not str\n",
      "[WARNING] Failed to load IDS_top20_urban_cluster_COUNTY_NAME_5_ppc_26_clusters_300_size_probabilistic_seed_1234.pkl: list indices must be integers or slices, not str\n",
      "[WARNING] Failed to load IDS_top20_urban_cluster_COUNTY_NAME_5_ppc_27_clusters_300_size_probabilistic_seed_1234.pkl: list indices must be integers or slices, not str\n",
      "[WARNING] Failed to load IDS_top20_urban_cluster_COUNTY_NAME_5_ppc_27_clusters_300_size_probabilistic_seed_456.pkl: list indices must be integers or slices, not str\n",
      "[WARNING] Failed to load IDS_top20_urban_cluster_COUNTY_NAME_5_ppc_27_clusters_400_size_probabilistic_seed_123.pkl: list indices must be integers or slices, not str\n",
      "[WARNING] Failed to load IDS_top20_urban_cluster_COUNTY_NAME_5_ppc_28_clusters_300_size_probabilistic_seed_1.pkl: list indices must be integers or slices, not str\n",
      "[WARNING] Failed to load IDS_top20_urban_cluster_COUNTY_NAME_5_ppc_28_clusters_300_size_probabilistic_seed_1213.pkl: list indices must be integers or slices, not str\n",
      "[WARNING] Failed to load IDS_top20_urban_cluster_COUNTY_NAME_5_ppc_28_clusters_300_size_probabilistic_seed_5678.pkl: list indices must be integers or slices, not str\n",
      "[WARNING] Failed to load IDS_top20_urban_cluster_COUNTY_NAME_5_ppc_28_clusters_300_size_probabilistic_seed_9101.pkl: list indices must be integers or slices, not str\n",
      "[WARNING] Failed to load IDS_top20_urban_cluster_COUNTY_NAME_5_ppc_29_clusters_400_size_probabilistic_seed_789.pkl: list indices must be integers or slices, not str\n",
      "[WARNING] Failed to load IDS_top20_urban_cluster_COUNTY_NAME_5_ppc_2_clusters_100_size_probabilistic_seed_789.pkl: list indices must be integers or slices, not str\n",
      "[WARNING] Failed to load IDS_top20_urban_cluster_COUNTY_NAME_5_ppc_30_clusters_400_size_probabilistic_seed_1213.pkl: list indices must be integers or slices, not str\n",
      "[WARNING] Failed to load IDS_top20_urban_cluster_COUNTY_NAME_5_ppc_30_clusters_400_size_probabilistic_seed_42.pkl: list indices must be integers or slices, not str\n",
      "[WARNING] Failed to load IDS_top20_urban_cluster_COUNTY_NAME_5_ppc_31_clusters_400_size_probabilistic_seed_1415.pkl: list indices must be integers or slices, not str\n",
      "[WARNING] Failed to load IDS_top20_urban_cluster_COUNTY_NAME_5_ppc_32_clusters_300_size_probabilistic_seed_1415.pkl: list indices must be integers or slices, not str\n",
      "[WARNING] Failed to load IDS_top20_urban_cluster_COUNTY_NAME_5_ppc_32_clusters_300_size_probabilistic_seed_9101.pkl: list indices must be integers or slices, not str\n",
      "[WARNING] Failed to load IDS_top20_urban_cluster_COUNTY_NAME_5_ppc_32_clusters_400_size_probabilistic_seed_1.pkl: list indices must be integers or slices, not str\n",
      "[WARNING] Failed to load IDS_top20_urban_cluster_COUNTY_NAME_5_ppc_32_clusters_400_size_probabilistic_seed_123.pkl: list indices must be integers or slices, not str\n",
      "[WARNING] Failed to load IDS_top20_urban_cluster_COUNTY_NAME_5_ppc_33_clusters_300_size_probabilistic_seed_5678.pkl: list indices must be integers or slices, not str\n",
      "[WARNING] Failed to load IDS_top20_urban_cluster_COUNTY_NAME_5_ppc_33_clusters_400_size_probabilistic_seed_1.pkl: list indices must be integers or slices, not str\n",
      "[WARNING] Failed to load IDS_top20_urban_cluster_COUNTY_NAME_5_ppc_33_clusters_400_size_probabilistic_seed_1213.pkl: list indices must be integers or slices, not str\n",
      "[WARNING] Failed to load IDS_top20_urban_cluster_COUNTY_NAME_5_ppc_33_clusters_400_size_probabilistic_seed_789.pkl: list indices must be integers or slices, not str\n",
      "[WARNING] Failed to load IDS_top20_urban_cluster_COUNTY_NAME_5_ppc_33_clusters_500_size_probabilistic_seed_456.pkl: list indices must be integers or slices, not str\n",
      "[WARNING] Failed to load IDS_top20_urban_cluster_COUNTY_NAME_5_ppc_34_clusters_400_size_probabilistic_seed_42.pkl: list indices must be integers or slices, not str\n",
      "[WARNING] Failed to load IDS_top20_urban_cluster_COUNTY_NAME_5_ppc_35_clusters_400_size_probabilistic_seed_1234.pkl: list indices must be integers or slices, not str\n",
      "[WARNING] Failed to load IDS_top20_urban_cluster_COUNTY_NAME_5_ppc_35_clusters_400_size_probabilistic_seed_9101.pkl: list indices must be integers or slices, not str\n",
      "[WARNING] Failed to load IDS_top20_urban_cluster_COUNTY_NAME_5_ppc_36_clusters_400_size_probabilistic_seed_456.pkl: list indices must be integers or slices, not str\n",
      "[WARNING] Failed to load IDS_top20_urban_cluster_COUNTY_NAME_5_ppc_36_clusters_400_size_probabilistic_seed_5678.pkl: list indices must be integers or slices, not str\n",
      "[WARNING] Failed to load IDS_top20_urban_cluster_COUNTY_NAME_5_ppc_36_clusters_500_size_probabilistic_seed_42.pkl: list indices must be integers or slices, not str\n",
      "[WARNING] Failed to load IDS_top20_urban_cluster_COUNTY_NAME_5_ppc_37_clusters_500_size_probabilistic_seed_123.pkl: list indices must be integers or slices, not str\n",
      "[WARNING] Failed to load IDS_top20_urban_cluster_COUNTY_NAME_5_ppc_37_clusters_500_size_probabilistic_seed_789.pkl: list indices must be integers or slices, not str\n",
      "[WARNING] Failed to load IDS_top20_urban_cluster_COUNTY_NAME_5_ppc_38_clusters_400_size_probabilistic_seed_1234.pkl: list indices must be integers or slices, not str\n",
      "[WARNING] Failed to load IDS_top20_urban_cluster_COUNTY_NAME_5_ppc_38_clusters_400_size_probabilistic_seed_9101.pkl: list indices must be integers or slices, not str\n",
      "[WARNING] Failed to load IDS_top20_urban_cluster_COUNTY_NAME_5_ppc_38_clusters_500_size_probabilistic_seed_1.pkl: list indices must be integers or slices, not str\n",
      "[WARNING] Failed to load IDS_top20_urban_cluster_COUNTY_NAME_5_ppc_38_clusters_500_size_probabilistic_seed_1213.pkl: list indices must be integers or slices, not str\n",
      "[WARNING] Failed to load IDS_top20_urban_cluster_COUNTY_NAME_5_ppc_38_clusters_500_size_probabilistic_seed_123.pkl: list indices must be integers or slices, not str\n",
      "[WARNING] Failed to load IDS_top20_urban_cluster_COUNTY_NAME_5_ppc_38_clusters_500_size_probabilistic_seed_789.pkl: list indices must be integers or slices, not str\n",
      "[WARNING] Failed to load IDS_top20_urban_cluster_COUNTY_NAME_5_ppc_39_clusters_400_size_probabilistic_seed_1415.pkl: list indices must be integers or slices, not str\n",
      "[WARNING] Failed to load IDS_top20_urban_cluster_COUNTY_NAME_5_ppc_39_clusters_600_size_probabilistic_seed_1213.pkl: list indices must be integers or slices, not str\n",
      "[WARNING] Failed to load IDS_top20_urban_cluster_COUNTY_NAME_5_ppc_40_clusters_400_size_probabilistic_seed_5678.pkl: list indices must be integers or slices, not str\n",
      "[WARNING] Failed to load IDS_top20_urban_cluster_COUNTY_NAME_5_ppc_41_clusters_500_size_probabilistic_seed_1.pkl: list indices must be integers or slices, not str\n",
      "[WARNING] Failed to load IDS_top20_urban_cluster_COUNTY_NAME_5_ppc_41_clusters_500_size_probabilistic_seed_1213.pkl: list indices must be integers or slices, not str\n",
      "[WARNING] Failed to load IDS_top20_urban_cluster_COUNTY_NAME_5_ppc_41_clusters_500_size_probabilistic_seed_1234.pkl: list indices must be integers or slices, not str\n",
      "[WARNING] Failed to load IDS_top20_urban_cluster_COUNTY_NAME_5_ppc_41_clusters_500_size_probabilistic_seed_9101.pkl: list indices must be integers or slices, not str\n",
      "[WARNING] Failed to load IDS_top20_urban_cluster_COUNTY_NAME_5_ppc_41_clusters_600_size_probabilistic_seed_456.pkl: list indices must be integers or slices, not str\n",
      "[WARNING] Failed to load IDS_top20_urban_cluster_COUNTY_NAME_5_ppc_42_clusters_500_size_probabilistic_seed_1415.pkl: list indices must be integers or slices, not str\n",
      "[WARNING] Failed to load IDS_top20_urban_cluster_COUNTY_NAME_5_ppc_42_clusters_600_size_probabilistic_seed_123.pkl: list indices must be integers or slices, not str\n",
      "[WARNING] Failed to load IDS_top20_urban_cluster_COUNTY_NAME_5_ppc_42_clusters_600_size_probabilistic_seed_42.pkl: list indices must be integers or slices, not str\n",
      "[WARNING] Failed to load IDS_top20_urban_cluster_COUNTY_NAME_5_ppc_42_clusters_600_size_probabilistic_seed_789.pkl: list indices must be integers or slices, not str\n",
      "[WARNING] Failed to load IDS_top20_urban_cluster_COUNTY_NAME_5_ppc_43_clusters_500_size_probabilistic_seed_1234.pkl: list indices must be integers or slices, not str\n",
      "[WARNING] Failed to load IDS_top20_urban_cluster_COUNTY_NAME_5_ppc_44_clusters_500_size_probabilistic_seed_456.pkl: list indices must be integers or slices, not str\n",
      "[WARNING] Failed to load IDS_top20_urban_cluster_COUNTY_NAME_5_ppc_44_clusters_600_size_probabilistic_seed_42.pkl: list indices must be integers or slices, not str\n",
      "[WARNING] Failed to load IDS_top20_urban_cluster_COUNTY_NAME_5_ppc_46_clusters_500_size_probabilistic_seed_9101.pkl: list indices must be integers or slices, not str\n",
      "[WARNING] Failed to load IDS_top20_urban_cluster_COUNTY_NAME_5_ppc_46_clusters_600_size_probabilistic_seed_1.pkl: list indices must be integers or slices, not str\n",
      "[WARNING] Failed to load IDS_top20_urban_cluster_COUNTY_NAME_5_ppc_46_clusters_600_size_probabilistic_seed_123.pkl: list indices must be integers or slices, not str\n",
      "[WARNING] Failed to load IDS_top20_urban_cluster_COUNTY_NAME_5_ppc_47_clusters_500_size_probabilistic_seed_1415.pkl: list indices must be integers or slices, not str\n",
      "[WARNING] Failed to load IDS_top20_urban_cluster_COUNTY_NAME_5_ppc_47_clusters_500_size_probabilistic_seed_5678.pkl: list indices must be integers or slices, not str\n",
      "[WARNING] Failed to load IDS_top20_urban_cluster_COUNTY_NAME_5_ppc_48_clusters_600_size_probabilistic_seed_1234.pkl: list indices must be integers or slices, not str\n",
      "[WARNING] Failed to load IDS_top20_urban_cluster_COUNTY_NAME_5_ppc_48_clusters_600_size_probabilistic_seed_789.pkl: list indices must be integers or slices, not str\n",
      "[WARNING] Failed to load IDS_top20_urban_cluster_COUNTY_NAME_5_ppc_48_clusters_700_size_probabilistic_seed_1213.pkl: list indices must be integers or slices, not str\n",
      "[WARNING] Failed to load IDS_top20_urban_cluster_COUNTY_NAME_5_ppc_48_clusters_700_size_probabilistic_seed_123.pkl: list indices must be integers or slices, not str\n",
      "[WARNING] Failed to load IDS_top20_urban_cluster_COUNTY_NAME_5_ppc_48_clusters_700_size_probabilistic_seed_789.pkl: list indices must be integers or slices, not str\n",
      "[WARNING] Failed to load IDS_top20_urban_cluster_COUNTY_NAME_5_ppc_49_clusters_600_size_probabilistic_seed_9101.pkl: list indices must be integers or slices, not str\n",
      "[WARNING] Failed to load IDS_top20_urban_cluster_COUNTY_NAME_5_ppc_49_clusters_700_size_probabilistic_seed_42.pkl: list indices must be integers or slices, not str\n",
      "[WARNING] Failed to load IDS_top20_urban_cluster_COUNTY_NAME_5_ppc_50_clusters_600_size_probabilistic_seed_1213.pkl: list indices must be integers or slices, not str\n",
      "[WARNING] Failed to load IDS_top20_urban_cluster_COUNTY_NAME_5_ppc_51_clusters_500_size_probabilistic_seed_5678.pkl: list indices must be integers or slices, not str\n",
      "[WARNING] Failed to load IDS_top20_urban_cluster_COUNTY_NAME_5_ppc_51_clusters_700_size_probabilistic_seed_42.pkl: list indices must be integers or slices, not str\n",
      "[WARNING] Failed to load IDS_top20_urban_cluster_COUNTY_NAME_5_ppc_51_clusters_700_size_probabilistic_seed_456.pkl: list indices must be integers or slices, not str\n",
      "[WARNING] Failed to load IDS_top20_urban_cluster_COUNTY_NAME_5_ppc_52_clusters_600_size_probabilistic_seed_1.pkl: list indices must be integers or slices, not str\n",
      "[WARNING] Failed to load IDS_top20_urban_cluster_COUNTY_NAME_5_ppc_52_clusters_600_size_probabilistic_seed_1234.pkl: list indices must be integers or slices, not str\n",
      "[WARNING] Failed to load IDS_top20_urban_cluster_COUNTY_NAME_5_ppc_52_clusters_600_size_probabilistic_seed_1415.pkl: list indices must be integers or slices, not str\n",
      "[WARNING] Failed to load IDS_top20_urban_cluster_COUNTY_NAME_5_ppc_52_clusters_800_size_probabilistic_seed_789.pkl: list indices must be integers or slices, not str\n",
      "[WARNING] Failed to load IDS_top20_urban_cluster_COUNTY_NAME_5_ppc_53_clusters_600_size_probabilistic_seed_5678.pkl: list indices must be integers or slices, not str\n",
      "[WARNING] Failed to load IDS_top20_urban_cluster_COUNTY_NAME_5_ppc_53_clusters_700_size_probabilistic_seed_1.pkl: list indices must be integers or slices, not str\n",
      "[WARNING] Failed to load IDS_top20_urban_cluster_COUNTY_NAME_5_ppc_53_clusters_700_size_probabilistic_seed_789.pkl: list indices must be integers or slices, not str\n",
      "[WARNING] Failed to load IDS_top20_urban_cluster_COUNTY_NAME_5_ppc_54_clusters_600_size_probabilistic_seed_1415.pkl: list indices must be integers or slices, not str\n",
      "[WARNING] Failed to load IDS_top20_urban_cluster_COUNTY_NAME_5_ppc_54_clusters_600_size_probabilistic_seed_456.pkl: list indices must be integers or slices, not str\n",
      "[WARNING] Failed to load IDS_top20_urban_cluster_COUNTY_NAME_5_ppc_54_clusters_800_size_probabilistic_seed_123.pkl: list indices must be integers or slices, not str\n",
      "[WARNING] Failed to load IDS_top20_urban_cluster_COUNTY_NAME_5_ppc_55_clusters_600_size_probabilistic_seed_9101.pkl: list indices must be integers or slices, not str\n",
      "[WARNING] Failed to load IDS_top20_urban_cluster_COUNTY_NAME_5_ppc_55_clusters_700_size_probabilistic_seed_1234.pkl: list indices must be integers or slices, not str\n",
      "[WARNING] Failed to load IDS_top20_urban_cluster_COUNTY_NAME_5_ppc_55_clusters_800_size_probabilistic_seed_1213.pkl: list indices must be integers or slices, not str\n",
      "[WARNING] Failed to load IDS_top20_urban_cluster_COUNTY_NAME_5_ppc_55_clusters_800_size_probabilistic_seed_123.pkl: list indices must be integers or slices, not str\n",
      "[WARNING] Failed to load IDS_top20_urban_cluster_COUNTY_NAME_5_ppc_56_clusters_700_size_probabilistic_seed_9101.pkl: list indices must be integers or slices, not str\n",
      "[WARNING] Failed to load IDS_top20_urban_cluster_COUNTY_NAME_5_ppc_56_clusters_800_size_probabilistic_seed_42.pkl: list indices must be integers or slices, not str\n",
      "[WARNING] Failed to load IDS_top20_urban_cluster_COUNTY_NAME_5_ppc_57_clusters_800_size_probabilistic_seed_42.pkl: list indices must be integers or slices, not str\n",
      "[WARNING] Failed to load IDS_top20_urban_cluster_COUNTY_NAME_5_ppc_57_clusters_800_size_probabilistic_seed_456.pkl: list indices must be integers or slices, not str\n",
      "[WARNING] Failed to load IDS_top20_urban_cluster_COUNTY_NAME_5_ppc_57_clusters_800_size_probabilistic_seed_789.pkl: list indices must be integers or slices, not str\n",
      "[WARNING] Failed to load IDS_top20_urban_cluster_COUNTY_NAME_5_ppc_58_clusters_700_size_probabilistic_seed_1213.pkl: list indices must be integers or slices, not str\n",
      "[WARNING] Failed to load IDS_top20_urban_cluster_COUNTY_NAME_5_ppc_59_clusters_700_size_probabilistic_seed_456.pkl: list indices must be integers or slices, not str\n",
      "[WARNING] Failed to load IDS_top20_urban_cluster_COUNTY_NAME_5_ppc_59_clusters_700_size_probabilistic_seed_5678.pkl: list indices must be integers or slices, not str\n",
      "[WARNING] Failed to load IDS_top20_urban_cluster_COUNTY_NAME_5_ppc_5_clusters_100_size_probabilistic_seed_42.pkl: list indices must be integers or slices, not str\n",
      "[WARNING] Failed to load IDS_top20_urban_cluster_COUNTY_NAME_5_ppc_60_clusters_700_size_probabilistic_seed_1415.pkl: list indices must be integers or slices, not str\n",
      "[WARNING] Failed to load IDS_top20_urban_cluster_COUNTY_NAME_5_ppc_60_clusters_700_size_probabilistic_seed_9101.pkl: list indices must be integers or slices, not str\n",
      "[WARNING] Failed to load IDS_top20_urban_cluster_COUNTY_NAME_5_ppc_60_clusters_900_size_probabilistic_seed_1213.pkl: list indices must be integers or slices, not str\n",
      "[WARNING] Failed to load IDS_top20_urban_cluster_COUNTY_NAME_5_ppc_61_clusters_700_size_probabilistic_seed_1234.pkl: list indices must be integers or slices, not str\n",
      "[WARNING] Failed to load IDS_top20_urban_cluster_COUNTY_NAME_5_ppc_61_clusters_800_size_probabilistic_seed_1.pkl: list indices must be integers or slices, not str\n",
      "[WARNING] Failed to load IDS_top20_urban_cluster_COUNTY_NAME_5_ppc_61_clusters_900_size_probabilistic_seed_123.pkl: list indices must be integers or slices, not str\n",
      "[WARNING] Failed to load IDS_top20_urban_cluster_COUNTY_NAME_5_ppc_61_clusters_900_size_probabilistic_seed_789.pkl: list indices must be integers or slices, not str\n",
      "[WARNING] Failed to load IDS_top20_urban_cluster_COUNTY_NAME_5_ppc_62_clusters_600_size_probabilistic_seed_5678.pkl: list indices must be integers or slices, not str\n",
      "[WARNING] Failed to load IDS_top20_urban_cluster_COUNTY_NAME_5_ppc_62_clusters_700_size_probabilistic_seed_1.pkl: list indices must be integers or slices, not str\n",
      "[WARNING] Failed to load IDS_top20_urban_cluster_COUNTY_NAME_5_ppc_62_clusters_900_size_probabilistic_seed_789.pkl: list indices must be integers or slices, not str\n",
      "[WARNING] Failed to load IDS_top20_urban_cluster_COUNTY_NAME_5_ppc_63_clusters_800_size_probabilistic_seed_5678.pkl: list indices must be integers or slices, not str\n",
      "[WARNING] Failed to load IDS_top20_urban_cluster_COUNTY_NAME_5_ppc_64_clusters_800_size_probabilistic_seed_1234.pkl: list indices must be integers or slices, not str\n",
      "[WARNING] Failed to load IDS_top20_urban_cluster_COUNTY_NAME_5_ppc_64_clusters_900_size_probabilistic_seed_42.pkl: list indices must be integers or slices, not str\n",
      "[WARNING] Failed to load IDS_top20_urban_cluster_COUNTY_NAME_5_ppc_65_clusters_1000_size_probabilistic_seed_1213.pkl: list indices must be integers or slices, not str\n",
      "[WARNING] Failed to load IDS_top20_urban_cluster_COUNTY_NAME_5_ppc_65_clusters_900_size_probabilistic_seed_456.pkl: list indices must be integers or slices, not str\n",
      "[WARNING] Failed to load IDS_top20_urban_cluster_COUNTY_NAME_5_ppc_66_clusters_800_size_probabilistic_seed_456.pkl: list indices must be integers or slices, not str\n",
      "[WARNING] Failed to load IDS_top20_urban_cluster_COUNTY_NAME_5_ppc_66_clusters_800_size_probabilistic_seed_9101.pkl: list indices must be integers or slices, not str\n",
      "[WARNING] Failed to load IDS_top20_urban_cluster_COUNTY_NAME_5_ppc_67_clusters_1000_size_probabilistic_seed_789.pkl: list indices must be integers or slices, not str\n",
      "[WARNING] Failed to load IDS_top20_urban_cluster_COUNTY_NAME_5_ppc_67_clusters_800_size_probabilistic_seed_1213.pkl: list indices must be integers or slices, not str\n",
      "[WARNING] Failed to load IDS_top20_urban_cluster_COUNTY_NAME_5_ppc_67_clusters_800_size_probabilistic_seed_1415.pkl: list indices must be integers or slices, not str\n",
      "[WARNING] Failed to load IDS_top20_urban_cluster_COUNTY_NAME_5_ppc_67_clusters_900_size_probabilistic_seed_123.pkl: list indices must be integers or slices, not str\n",
      "[WARNING] Failed to load IDS_top20_urban_cluster_COUNTY_NAME_5_ppc_68_clusters_800_size_probabilistic_seed_1.pkl: list indices must be integers or slices, not str\n",
      "[WARNING] Failed to load IDS_top20_urban_cluster_COUNTY_NAME_5_ppc_68_clusters_900_size_probabilistic_seed_1.pkl: list indices must be integers or slices, not str\n",
      "[WARNING] Failed to load IDS_top20_urban_cluster_COUNTY_NAME_5_ppc_69_clusters_1000_size_probabilistic_seed_123.pkl: list indices must be integers or slices, not str\n",
      "[WARNING] Failed to load IDS_top20_urban_cluster_COUNTY_NAME_5_ppc_69_clusters_800_size_probabilistic_seed_1415.pkl: list indices must be integers or slices, not str\n",
      "[WARNING] Failed to load IDS_top20_urban_cluster_COUNTY_NAME_5_ppc_69_clusters_900_size_probabilistic_seed_1234.pkl: list indices must be integers or slices, not str\n",
      "[WARNING] Failed to load IDS_top20_urban_cluster_COUNTY_NAME_5_ppc_69_clusters_900_size_probabilistic_seed_5678.pkl: list indices must be integers or slices, not str\n",
      "[WARNING] Failed to load IDS_top20_urban_cluster_COUNTY_NAME_5_ppc_6_clusters_100_size_probabilistic_seed_456.pkl: list indices must be integers or slices, not str\n",
      "[WARNING] Failed to load IDS_top20_urban_cluster_COUNTY_NAME_5_ppc_70_clusters_1000_size_probabilistic_seed_42.pkl: list indices must be integers or slices, not str\n",
      "[WARNING] Failed to load IDS_top20_urban_cluster_COUNTY_NAME_5_ppc_71_clusters_1000_size_probabilistic_seed_42.pkl: list indices must be integers or slices, not str\n",
      "[WARNING] Failed to load IDS_top20_urban_cluster_COUNTY_NAME_5_ppc_71_clusters_800_size_probabilistic_seed_1234.pkl: list indices must be integers or slices, not str\n",
      "[WARNING] Failed to load IDS_top20_urban_cluster_COUNTY_NAME_5_ppc_71_clusters_900_size_probabilistic_seed_456.pkl: list indices must be integers or slices, not str\n",
      "[WARNING] Failed to load IDS_top20_urban_cluster_COUNTY_NAME_5_ppc_71_clusters_900_size_probabilistic_seed_9101.pkl: list indices must be integers or slices, not str\n",
      "[WARNING] Failed to load IDS_top20_urban_cluster_COUNTY_NAME_5_ppc_72_clusters_1000_size_probabilistic_seed_789.pkl: list indices must be integers or slices, not str\n",
      "[WARNING] Failed to load IDS_top20_urban_cluster_COUNTY_NAME_5_ppc_72_clusters_700_size_probabilistic_seed_5678.pkl: list indices must be integers or slices, not str\n",
      "[WARNING] Failed to load IDS_top20_urban_cluster_COUNTY_NAME_5_ppc_74_clusters_900_size_probabilistic_seed_1213.pkl: list indices must be integers or slices, not str\n",
      "[WARNING] Failed to load IDS_top20_urban_cluster_COUNTY_NAME_5_ppc_75_clusters_1000_size_probabilistic_seed_456.pkl: list indices must be integers or slices, not str\n",
      "[WARNING] Failed to load IDS_top20_urban_cluster_COUNTY_NAME_5_ppc_75_clusters_900_size_probabilistic_seed_1415.pkl: list indices must be integers or slices, not str\n",
      "[WARNING] Failed to load IDS_top20_urban_cluster_COUNTY_NAME_5_ppc_76_clusters_1000_size_probabilistic_seed_456.pkl: list indices must be integers or slices, not str\n",
      "[WARNING] Failed to load IDS_top20_urban_cluster_COUNTY_NAME_5_ppc_76_clusters_1000_size_probabilistic_seed_5678.pkl: list indices must be integers or slices, not str\n",
      "[WARNING] Failed to load IDS_top20_urban_cluster_COUNTY_NAME_5_ppc_77_clusters_1000_size_probabilistic_seed_123.pkl: list indices must be integers or slices, not str\n",
      "[WARNING] Failed to load IDS_top20_urban_cluster_COUNTY_NAME_5_ppc_77_clusters_900_size_probabilistic_seed_1.pkl: list indices must be integers or slices, not str\n",
      "[WARNING] Failed to load IDS_top20_urban_cluster_COUNTY_NAME_5_ppc_77_clusters_900_size_probabilistic_seed_9101.pkl: list indices must be integers or slices, not str\n",
      "[WARNING] Failed to load IDS_top20_urban_cluster_COUNTY_NAME_5_ppc_78_clusters_1000_size_probabilistic_seed_1.pkl: list indices must be integers or slices, not str\n",
      "[WARNING] Failed to load IDS_top20_urban_cluster_COUNTY_NAME_5_ppc_78_clusters_1000_size_probabilistic_seed_1415.pkl: list indices must be integers or slices, not str\n",
      "[WARNING] Failed to load IDS_top20_urban_cluster_COUNTY_NAME_5_ppc_78_clusters_1000_size_probabilistic_seed_9101.pkl: list indices must be integers or slices, not str\n",
      "[WARNING] Failed to load IDS_top20_urban_cluster_COUNTY_NAME_5_ppc_79_clusters_1000_size_probabilistic_seed_1234.pkl: list indices must be integers or slices, not str\n",
      "[WARNING] Failed to load IDS_top20_urban_cluster_COUNTY_NAME_5_ppc_79_clusters_800_size_probabilistic_seed_5678.pkl: list indices must be integers or slices, not str\n",
      "[WARNING] Failed to load IDS_top20_urban_cluster_COUNTY_NAME_5_ppc_79_clusters_900_size_probabilistic_seed_1234.pkl: list indices must be integers or slices, not str\n",
      "[WARNING] Failed to load IDS_top20_urban_cluster_COUNTY_NAME_5_ppc_7_clusters_100_size_probabilistic_seed_1234.pkl: list indices must be integers or slices, not str\n",
      "[WARNING] Failed to load IDS_top20_urban_cluster_COUNTY_NAME_5_ppc_80_clusters_900_size_probabilistic_seed_1415.pkl: list indices must be integers or slices, not str\n",
      "[WARNING] Failed to load IDS_top20_urban_cluster_COUNTY_NAME_5_ppc_81_clusters_1000_size_probabilistic_seed_1213.pkl: list indices must be integers or slices, not str\n",
      "[WARNING] Failed to load IDS_top20_urban_cluster_COUNTY_NAME_5_ppc_81_clusters_1000_size_probabilistic_seed_9101.pkl: list indices must be integers or slices, not str\n",
      "[WARNING] Failed to load IDS_top20_urban_cluster_COUNTY_NAME_5_ppc_82_clusters_1000_size_probabilistic_seed_1.pkl: list indices must be integers or slices, not str\n",
      "[WARNING] Failed to load IDS_top20_urban_cluster_COUNTY_NAME_5_ppc_84_clusters_1000_size_probabilistic_seed_1234.pkl: list indices must be integers or slices, not str\n",
      "[WARNING] Failed to load IDS_top20_urban_cluster_COUNTY_NAME_5_ppc_86_clusters_1000_size_probabilistic_seed_1415.pkl: list indices must be integers or slices, not str\n",
      "[WARNING] Failed to load IDS_top20_urban_cluster_COUNTY_NAME_5_ppc_86_clusters_900_size_probabilistic_seed_5678.pkl: list indices must be integers or slices, not str\n",
      "[WARNING] Failed to load IDS_top20_urban_cluster_COUNTY_NAME_5_ppc_89_clusters_1000_size_probabilistic_seed_5678.pkl: list indices must be integers or slices, not str\n",
      "[WARNING] Failed to load IDS_top20_urban_cluster_COUNTY_NAME_5_ppc_8_clusters_100_size_probabilistic_seed_1.pkl: list indices must be integers or slices, not str\n",
      "[WARNING] Failed to load IDS_top20_urban_cluster_COUNTY_NAME_5_ppc_8_clusters_100_size_probabilistic_seed_42.pkl: list indices must be integers or slices, not str\n",
      "[WARNING] Failed to load IDS_top20_urban_cluster_COUNTY_NAME_5_ppc_8_clusters_100_size_probabilistic_seed_789.pkl: list indices must be integers or slices, not str\n",
      "[WARNING] Failed to load IDS_top20_urban_cluster_COUNTY_NAME_5_ppc_8_clusters_100_size_probabilistic_seed_9101.pkl: list indices must be integers or slices, not str\n",
      "[WARNING] Failed to load IDS_top20_urban_cluster_COUNTY_NAME_5_ppc_9_clusters_100_size_probabilistic_seed_1213.pkl: list indices must be integers or slices, not str\n",
      "[WARNING] Failed to load IDS_top20_urban_cluster_COUNTY_NAME_5_ppc_9_clusters_100_size_probabilistic_seed_1415.pkl: list indices must be integers or slices, not str\n",
      "[WARNING] Failed to load IDS_top20_urban_cluster_COUNTY_NAME_5_ppc_9_clusters_100_size_probabilistic_seed_456.pkl: list indices must be integers or slices, not str\n",
      "[WARNING] Failed to load IDS_top20_urban_cluster_COUNTY_NAME_5_ppc_9_clusters_200_size_probabilistic_seed_789.pkl: list indices must be integers or slices, not str\n",
      "[WARNING] Failed to load IDS_top50_urban_cluster_COUNTY_NAME_10_ppc_10_clusters_100_size_probabilistic_seed_1213.pkl: list indices must be integers or slices, not str\n",
      "[WARNING] Failed to load IDS_top50_urban_cluster_COUNTY_NAME_10_ppc_10_clusters_100_size_probabilistic_seed_1234.pkl: list indices must be integers or slices, not str\n",
      "[WARNING] Failed to load IDS_top50_urban_cluster_COUNTY_NAME_10_ppc_10_clusters_200_size_probabilistic_seed_1.pkl: list indices must be integers or slices, not str\n",
      "[WARNING] Failed to load IDS_top50_urban_cluster_COUNTY_NAME_10_ppc_10_clusters_200_size_probabilistic_seed_1415.pkl: list indices must be integers or slices, not str\n",
      "[WARNING] Failed to load IDS_top50_urban_cluster_COUNTY_NAME_10_ppc_10_clusters_200_size_probabilistic_seed_9101.pkl: list indices must be integers or slices, not str\n",
      "[WARNING] Failed to load IDS_top50_urban_cluster_COUNTY_NAME_10_ppc_12_clusters_100_size_probabilistic_seed_123.pkl: list indices must be integers or slices, not str\n",
      "[WARNING] Failed to load IDS_top50_urban_cluster_COUNTY_NAME_10_ppc_12_clusters_100_size_probabilistic_seed_456.pkl: list indices must be integers or slices, not str\n",
      "[WARNING] Failed to load IDS_top50_urban_cluster_COUNTY_NAME_10_ppc_14_clusters_200_size_probabilistic_seed_42.pkl: list indices must be integers or slices, not str\n",
      "[WARNING] Failed to load IDS_top50_urban_cluster_COUNTY_NAME_10_ppc_17_clusters_200_size_probabilistic_seed_5678.pkl: list indices must be integers or slices, not str\n",
      "[WARNING] Failed to load IDS_top50_urban_cluster_COUNTY_NAME_10_ppc_17_clusters_200_size_probabilistic_seed_789.pkl: list indices must be integers or slices, not str\n",
      "[WARNING] Failed to load IDS_top50_urban_cluster_COUNTY_NAME_10_ppc_17_clusters_300_size_probabilistic_seed_1.pkl: list indices must be integers or slices, not str\n",
      "[WARNING] Failed to load IDS_top50_urban_cluster_COUNTY_NAME_10_ppc_17_clusters_300_size_probabilistic_seed_1415.pkl: list indices must be integers or slices, not str\n",
      "[WARNING] Failed to load IDS_top50_urban_cluster_COUNTY_NAME_10_ppc_18_clusters_200_size_probabilistic_seed_1213.pkl: list indices must be integers or slices, not str\n",
      "[WARNING] Failed to load IDS_top50_urban_cluster_COUNTY_NAME_10_ppc_18_clusters_200_size_probabilistic_seed_456.pkl: list indices must be integers or slices, not str\n",
      "[WARNING] Failed to load IDS_top50_urban_cluster_COUNTY_NAME_10_ppc_20_clusters_300_size_probabilistic_seed_789.pkl: list indices must be integers or slices, not str\n",
      "[WARNING] Failed to load IDS_top50_urban_cluster_COUNTY_NAME_10_ppc_21_clusters_200_size_probabilistic_seed_123.pkl: list indices must be integers or slices, not str\n",
      "[WARNING] Failed to load IDS_top50_urban_cluster_COUNTY_NAME_10_ppc_21_clusters_200_size_probabilistic_seed_1234.pkl: list indices must be integers or slices, not str\n",
      "[WARNING] Failed to load IDS_top50_urban_cluster_COUNTY_NAME_10_ppc_22_clusters_300_size_probabilistic_seed_42.pkl: list indices must be integers or slices, not str\n",
      "[WARNING] Failed to load IDS_top50_urban_cluster_COUNTY_NAME_10_ppc_22_clusters_300_size_probabilistic_seed_9101.pkl: list indices must be integers or slices, not str\n",
      "[WARNING] Failed to load IDS_top50_urban_cluster_COUNTY_NAME_10_ppc_25_clusters_400_size_probabilistic_seed_42.pkl: list indices must be integers or slices, not str\n",
      "[WARNING] Failed to load IDS_top50_urban_cluster_COUNTY_NAME_10_ppc_26_clusters_300_size_probabilistic_seed_1213.pkl: list indices must be integers or slices, not str\n",
      "[WARNING] Failed to load IDS_top50_urban_cluster_COUNTY_NAME_10_ppc_26_clusters_400_size_probabilistic_seed_9101.pkl: list indices must be integers or slices, not str\n",
      "[WARNING] Failed to load IDS_top50_urban_cluster_COUNTY_NAME_10_ppc_27_clusters_300_size_probabilistic_seed_123.pkl: list indices must be integers or slices, not str\n",
      "[WARNING] Failed to load IDS_top50_urban_cluster_COUNTY_NAME_10_ppc_27_clusters_300_size_probabilistic_seed_5678.pkl: list indices must be integers or slices, not str\n",
      "[WARNING] Failed to load IDS_top50_urban_cluster_COUNTY_NAME_10_ppc_27_clusters_400_size_probabilistic_seed_1.pkl: list indices must be integers or slices, not str\n",
      "[WARNING] Failed to load IDS_top50_urban_cluster_COUNTY_NAME_10_ppc_28_clusters_300_size_probabilistic_seed_456.pkl: list indices must be integers or slices, not str\n",
      "[WARNING] Failed to load IDS_top50_urban_cluster_COUNTY_NAME_10_ppc_29_clusters_400_size_probabilistic_seed_1415.pkl: list indices must be integers or slices, not str\n",
      "[WARNING] Failed to load IDS_top50_urban_cluster_COUNTY_NAME_10_ppc_31_clusters_400_size_probabilistic_seed_789.pkl: list indices must be integers or slices, not str\n",
      "[WARNING] Failed to load IDS_top50_urban_cluster_COUNTY_NAME_10_ppc_31_clusters_500_size_probabilistic_seed_1.pkl: list indices must be integers or slices, not str\n",
      "[WARNING] Failed to load IDS_top50_urban_cluster_COUNTY_NAME_10_ppc_32_clusters_300_size_probabilistic_seed_1234.pkl: list indices must be integers or slices, not str\n",
      "[WARNING] Failed to load IDS_top50_urban_cluster_COUNTY_NAME_10_ppc_32_clusters_400_size_probabilistic_seed_1213.pkl: list indices must be integers or slices, not str\n",
      "[WARNING] Failed to load IDS_top50_urban_cluster_COUNTY_NAME_10_ppc_36_clusters_400_size_probabilistic_seed_456.pkl: list indices must be integers or slices, not str\n",
      "[WARNING] Failed to load IDS_top50_urban_cluster_COUNTY_NAME_10_ppc_36_clusters_500_size_probabilistic_seed_1415.pkl: list indices must be integers or slices, not str\n",
      "[WARNING] Failed to load IDS_top50_urban_cluster_COUNTY_NAME_10_ppc_36_clusters_500_size_probabilistic_seed_42.pkl: list indices must be integers or slices, not str\n",
      "[WARNING] Failed to load IDS_top50_urban_cluster_COUNTY_NAME_10_ppc_36_clusters_600_size_probabilistic_seed_1.pkl: list indices must be integers or slices, not str\n",
      "[WARNING] Failed to load IDS_top50_urban_cluster_COUNTY_NAME_10_ppc_37_clusters_400_size_probabilistic_seed_123.pkl: list indices must be integers or slices, not str\n",
      "[WARNING] Failed to load IDS_top50_urban_cluster_COUNTY_NAME_10_ppc_38_clusters_400_size_probabilistic_seed_5678.pkl: list indices must be integers or slices, not str\n",
      "[WARNING] Failed to load IDS_top50_urban_cluster_COUNTY_NAME_10_ppc_38_clusters_500_size_probabilistic_seed_9101.pkl: list indices must be integers or slices, not str\n",
      "[WARNING] Failed to load IDS_top50_urban_cluster_COUNTY_NAME_10_ppc_39_clusters_400_size_probabilistic_seed_1234.pkl: list indices must be integers or slices, not str\n",
      "[WARNING] Failed to load IDS_top50_urban_cluster_COUNTY_NAME_10_ppc_39_clusters_500_size_probabilistic_seed_1213.pkl: list indices must be integers or slices, not str\n",
      "[WARNING] Failed to load IDS_top50_urban_cluster_COUNTY_NAME_10_ppc_3_clusters_100_size_probabilistic_seed_1415.pkl: list indices must be integers or slices, not str\n",
      "[WARNING] Failed to load IDS_top50_urban_cluster_COUNTY_NAME_10_ppc_3_clusters_100_size_probabilistic_seed_9101.pkl: list indices must be integers or slices, not str\n",
      "[WARNING] Failed to load IDS_top50_urban_cluster_COUNTY_NAME_10_ppc_40_clusters_500_size_probabilistic_seed_789.pkl: list indices must be integers or slices, not str\n",
      "[WARNING] Failed to load IDS_top50_urban_cluster_COUNTY_NAME_10_ppc_41_clusters_700_size_probabilistic_seed_1.pkl: list indices must be integers or slices, not str\n",
      "[WARNING] Failed to load IDS_top50_urban_cluster_COUNTY_NAME_10_ppc_43_clusters_600_size_probabilistic_seed_1415.pkl: list indices must be integers or slices, not str\n",
      "[WARNING] Failed to load IDS_top50_urban_cluster_COUNTY_NAME_10_ppc_45_clusters_600_size_probabilistic_seed_1213.pkl: list indices must be integers or slices, not str\n",
      "[WARNING] Failed to load IDS_top50_urban_cluster_COUNTY_NAME_10_ppc_46_clusters_500_size_probabilistic_seed_123.pkl: list indices must be integers or slices, not str\n",
      "[WARNING] Failed to load IDS_top50_urban_cluster_COUNTY_NAME_10_ppc_46_clusters_500_size_probabilistic_seed_456.pkl: list indices must be integers or slices, not str\n",
      "[WARNING] Failed to load IDS_top50_urban_cluster_COUNTY_NAME_10_ppc_46_clusters_700_size_probabilistic_seed_1415.pkl: list indices must be integers or slices, not str\n",
      "[WARNING] Failed to load IDS_top50_urban_cluster_COUNTY_NAME_10_ppc_47_clusters_600_size_probabilistic_seed_9101.pkl: list indices must be integers or slices, not str\n",
      "[WARNING] Failed to load IDS_top50_urban_cluster_COUNTY_NAME_10_ppc_48_clusters_500_size_probabilistic_seed_5678.pkl: list indices must be integers or slices, not str\n",
      "[WARNING] Failed to load IDS_top50_urban_cluster_COUNTY_NAME_10_ppc_48_clusters_600_size_probabilistic_seed_42.pkl: list indices must be integers or slices, not str\n",
      "[WARNING] Failed to load IDS_top50_urban_cluster_COUNTY_NAME_10_ppc_48_clusters_600_size_probabilistic_seed_789.pkl: list indices must be integers or slices, not str\n",
      "[WARNING] Failed to load IDS_top50_urban_cluster_COUNTY_NAME_10_ppc_48_clusters_800_size_probabilistic_seed_1.pkl: list indices must be integers or slices, not str\n",
      "[WARNING] Failed to load IDS_top50_urban_cluster_COUNTY_NAME_10_ppc_49_clusters_500_size_probabilistic_seed_1234.pkl: list indices must be integers or slices, not str\n",
      "[WARNING] Failed to load IDS_top50_urban_cluster_COUNTY_NAME_10_ppc_49_clusters_700_size_probabilistic_seed_1213.pkl: list indices must be integers or slices, not str\n",
      "[WARNING] Failed to load IDS_top50_urban_cluster_COUNTY_NAME_10_ppc_4_clusters_100_size_probabilistic_seed_1.pkl: list indices must be integers or slices, not str\n",
      "[WARNING] Failed to load IDS_top50_urban_cluster_COUNTY_NAME_10_ppc_52_clusters_800_size_probabilistic_seed_1415.pkl: list indices must be integers or slices, not str\n",
      "[WARNING] Failed to load IDS_top50_urban_cluster_COUNTY_NAME_10_ppc_54_clusters_700_size_probabilistic_seed_789.pkl: list indices must be integers or slices, not str\n",
      "[WARNING] Failed to load IDS_top50_urban_cluster_COUNTY_NAME_10_ppc_55_clusters_600_size_probabilistic_seed_123.pkl: list indices must be integers or slices, not str\n",
      "[WARNING] Failed to load IDS_top50_urban_cluster_COUNTY_NAME_10_ppc_55_clusters_600_size_probabilistic_seed_456.pkl: list indices must be integers or slices, not str\n",
      "[WARNING] Failed to load IDS_top50_urban_cluster_COUNTY_NAME_10_ppc_55_clusters_700_size_probabilistic_seed_42.pkl: list indices must be integers or slices, not str\n",
      "[WARNING] Failed to load IDS_top50_urban_cluster_COUNTY_NAME_10_ppc_56_clusters_700_size_probabilistic_seed_9101.pkl: list indices must be integers or slices, not str\n",
      "[WARNING] Failed to load IDS_top50_urban_cluster_COUNTY_NAME_10_ppc_56_clusters_900_size_probabilistic_seed_1.pkl: list indices must be integers or slices, not str\n",
      "[WARNING] Failed to load IDS_top50_urban_cluster_COUNTY_NAME_10_ppc_57_clusters_600_size_probabilistic_seed_1234.pkl: list indices must be integers or slices, not str\n",
      "[WARNING] Failed to load IDS_top50_urban_cluster_COUNTY_NAME_10_ppc_57_clusters_800_size_probabilistic_seed_1213.pkl: list indices must be integers or slices, not str\n",
      "[WARNING] Failed to load IDS_top50_urban_cluster_COUNTY_NAME_10_ppc_58_clusters_600_size_probabilistic_seed_5678.pkl: list indices must be integers or slices, not str\n",
      "[WARNING] Failed to load IDS_top50_urban_cluster_COUNTY_NAME_10_ppc_60_clusters_800_size_probabilistic_seed_789.pkl: list indices must be integers or slices, not str\n",
      "[WARNING] Failed to load IDS_top50_urban_cluster_COUNTY_NAME_10_ppc_62_clusters_800_size_probabilistic_seed_42.pkl: list indices must be integers or slices, not str\n",
      "[WARNING] Failed to load IDS_top50_urban_cluster_COUNTY_NAME_10_ppc_62_clusters_900_size_probabilistic_seed_1415.pkl: list indices must be integers or slices, not str\n",
      "[WARNING] Failed to load IDS_top50_urban_cluster_COUNTY_NAME_10_ppc_64_clusters_700_size_probabilistic_seed_123.pkl: list indices must be integers or slices, not str\n",
      "[WARNING] Failed to load IDS_top50_urban_cluster_COUNTY_NAME_10_ppc_64_clusters_700_size_probabilistic_seed_1234.pkl: list indices must be integers or slices, not str\n",
      "[WARNING] Failed to load IDS_top50_urban_cluster_COUNTY_NAME_10_ppc_64_clusters_700_size_probabilistic_seed_456.pkl: list indices must be integers or slices, not str\n",
      "[WARNING] Failed to load IDS_top50_urban_cluster_COUNTY_NAME_10_ppc_65_clusters_800_size_probabilistic_seed_9101.pkl: list indices must be integers or slices, not str\n",
      "[WARNING] Failed to load IDS_top50_urban_cluster_COUNTY_NAME_10_ppc_66_clusters_1000_size_probabilistic_seed_1.pkl: list indices must be integers or slices, not str\n",
      "[WARNING] Failed to load IDS_top50_urban_cluster_COUNTY_NAME_10_ppc_66_clusters_700_size_probabilistic_seed_5678.pkl: list indices must be integers or slices, not str\n",
      "[WARNING] Failed to load IDS_top50_urban_cluster_COUNTY_NAME_10_ppc_67_clusters_900_size_probabilistic_seed_1213.pkl: list indices must be integers or slices, not str\n",
      "[WARNING] Failed to load IDS_top50_urban_cluster_COUNTY_NAME_10_ppc_69_clusters_900_size_probabilistic_seed_42.pkl: list indices must be integers or slices, not str\n",
      "[WARNING] Failed to load IDS_top50_urban_cluster_COUNTY_NAME_10_ppc_70_clusters_1000_size_probabilistic_seed_1415.pkl: list indices must be integers or slices, not str\n",
      "[WARNING] Failed to load IDS_top50_urban_cluster_COUNTY_NAME_10_ppc_71_clusters_800_size_probabilistic_seed_1234.pkl: list indices must be integers or slices, not str\n",
      "[WARNING] Failed to load IDS_top50_urban_cluster_COUNTY_NAME_10_ppc_72_clusters_900_size_probabilistic_seed_789.pkl: list indices must be integers or slices, not str\n",
      "[WARNING] Failed to load IDS_top50_urban_cluster_COUNTY_NAME_10_ppc_73_clusters_800_size_probabilistic_seed_123.pkl: list indices must be integers or slices, not str\n",
      "[WARNING] Failed to load IDS_top50_urban_cluster_COUNTY_NAME_10_ppc_73_clusters_800_size_probabilistic_seed_5678.pkl: list indices must be integers or slices, not str\n",
      "[WARNING] Failed to load IDS_top50_urban_cluster_COUNTY_NAME_10_ppc_73_clusters_900_size_probabilistic_seed_9101.pkl: list indices must be integers or slices, not str\n",
      "[WARNING] Failed to load IDS_top50_urban_cluster_COUNTY_NAME_10_ppc_74_clusters_1000_size_probabilistic_seed_1213.pkl: list indices must be integers or slices, not str\n",
      "[WARNING] Failed to load IDS_top50_urban_cluster_COUNTY_NAME_10_ppc_77_clusters_1000_size_probabilistic_seed_789.pkl: list indices must be integers or slices, not str\n",
      "[WARNING] Failed to load IDS_top50_urban_cluster_COUNTY_NAME_10_ppc_77_clusters_800_size_probabilistic_seed_456.pkl: list indices must be integers or slices, not str\n",
      "[WARNING] Failed to load IDS_top50_urban_cluster_COUNTY_NAME_10_ppc_78_clusters_1000_size_probabilistic_seed_9101.pkl: list indices must be integers or slices, not str\n",
      "[WARNING] Failed to load IDS_top50_urban_cluster_COUNTY_NAME_10_ppc_78_clusters_900_size_probabilistic_seed_1234.pkl: list indices must be integers or slices, not str\n",
      "[WARNING] Failed to load IDS_top50_urban_cluster_COUNTY_NAME_10_ppc_78_clusters_900_size_probabilistic_seed_5678.pkl: list indices must be integers or slices, not str\n",
      "[WARNING] Failed to load IDS_top50_urban_cluster_COUNTY_NAME_10_ppc_7_clusters_100_size_probabilistic_seed_42.pkl: list indices must be integers or slices, not str\n",
      "[WARNING] Failed to load IDS_top50_urban_cluster_COUNTY_NAME_10_ppc_81_clusters_1000_size_probabilistic_seed_42.pkl: list indices must be integers or slices, not str\n",
      "[WARNING] Failed to load IDS_top50_urban_cluster_COUNTY_NAME_10_ppc_83_clusters_900_size_probabilistic_seed_456.pkl: list indices must be integers or slices, not str\n",
      "[WARNING] Failed to load IDS_top50_urban_cluster_COUNTY_NAME_10_ppc_84_clusters_900_size_probabilistic_seed_123.pkl: list indices must be integers or slices, not str\n",
      "[WARNING] Failed to load IDS_top50_urban_cluster_COUNTY_NAME_10_ppc_87_clusters_1000_size_probabilistic_seed_1234.pkl: list indices must be integers or slices, not str\n",
      "[WARNING] Failed to load IDS_top50_urban_cluster_COUNTY_NAME_10_ppc_88_clusters_1000_size_probabilistic_seed_5678.pkl: list indices must be integers or slices, not str\n",
      "[WARNING] Failed to load IDS_top50_urban_cluster_COUNTY_NAME_10_ppc_8_clusters_100_size_probabilistic_seed_5678.pkl: list indices must be integers or slices, not str\n",
      "[WARNING] Failed to load IDS_top50_urban_cluster_COUNTY_NAME_10_ppc_8_clusters_100_size_probabilistic_seed_789.pkl: list indices must be integers or slices, not str\n",
      "[WARNING] Failed to load IDS_top50_urban_cluster_COUNTY_NAME_10_ppc_93_clusters_1000_size_probabilistic_seed_456.pkl: list indices must be integers or slices, not str\n",
      "[WARNING] Failed to load IDS_top50_urban_cluster_COUNTY_NAME_10_ppc_94_clusters_1000_size_probabilistic_seed_123.pkl: list indices must be integers or slices, not str\n",
      "[WARNING] Failed to load IDS_top50_urban_cluster_COUNTY_NAME_5_ppc_10_clusters_100_size_probabilistic_seed_1213.pkl: list indices must be integers or slices, not str\n",
      "[WARNING] Failed to load IDS_top50_urban_cluster_COUNTY_NAME_5_ppc_10_clusters_100_size_probabilistic_seed_1234.pkl: list indices must be integers or slices, not str\n",
      "[WARNING] Failed to load IDS_top50_urban_cluster_COUNTY_NAME_5_ppc_10_clusters_100_size_probabilistic_seed_5678.pkl: list indices must be integers or slices, not str\n",
      "[WARNING] Failed to load IDS_top50_urban_cluster_COUNTY_NAME_5_ppc_10_clusters_200_size_probabilistic_seed_1.pkl: list indices must be integers or slices, not str\n",
      "[WARNING] Failed to load IDS_top50_urban_cluster_COUNTY_NAME_5_ppc_10_clusters_200_size_probabilistic_seed_1415.pkl: list indices must be integers or slices, not str\n",
      "[WARNING] Failed to load IDS_top50_urban_cluster_COUNTY_NAME_5_ppc_10_clusters_200_size_probabilistic_seed_789.pkl: list indices must be integers or slices, not str\n",
      "[WARNING] Failed to load IDS_top50_urban_cluster_COUNTY_NAME_5_ppc_10_clusters_200_size_probabilistic_seed_9101.pkl: list indices must be integers or slices, not str\n",
      "[WARNING] Failed to load IDS_top50_urban_cluster_COUNTY_NAME_5_ppc_12_clusters_100_size_probabilistic_seed_123.pkl: list indices must be integers or slices, not str\n",
      "[WARNING] Failed to load IDS_top50_urban_cluster_COUNTY_NAME_5_ppc_12_clusters_100_size_probabilistic_seed_456.pkl: list indices must be integers or slices, not str\n",
      "[WARNING] Failed to load IDS_top50_urban_cluster_COUNTY_NAME_5_ppc_12_clusters_200_size_probabilistic_seed_1213.pkl: list indices must be integers or slices, not str\n",
      "[WARNING] Failed to load IDS_top50_urban_cluster_COUNTY_NAME_5_ppc_12_clusters_200_size_probabilistic_seed_456.pkl: list indices must be integers or slices, not str\n",
      "[WARNING] Failed to load IDS_top50_urban_cluster_COUNTY_NAME_5_ppc_14_clusters_200_size_probabilistic_seed_123.pkl: list indices must be integers or slices, not str\n",
      "[WARNING] Failed to load IDS_top50_urban_cluster_COUNTY_NAME_5_ppc_14_clusters_200_size_probabilistic_seed_42.pkl: list indices must be integers or slices, not str\n",
      "[WARNING] Failed to load IDS_top50_urban_cluster_COUNTY_NAME_5_ppc_15_clusters_200_size_probabilistic_seed_42.pkl: list indices must be integers or slices, not str\n",
      "[WARNING] Failed to load IDS_top50_urban_cluster_COUNTY_NAME_5_ppc_17_clusters_200_size_probabilistic_seed_1.pkl: list indices must be integers or slices, not str\n",
      "[WARNING] Failed to load IDS_top50_urban_cluster_COUNTY_NAME_5_ppc_17_clusters_200_size_probabilistic_seed_5678.pkl: list indices must be integers or slices, not str\n",
      "[WARNING] Failed to load IDS_top50_urban_cluster_COUNTY_NAME_5_ppc_17_clusters_200_size_probabilistic_seed_789.pkl: list indices must be integers or slices, not str\n",
      "[WARNING] Failed to load IDS_top50_urban_cluster_COUNTY_NAME_5_ppc_17_clusters_200_size_probabilistic_seed_9101.pkl: list indices must be integers or slices, not str\n",
      "[WARNING] Failed to load IDS_top50_urban_cluster_COUNTY_NAME_5_ppc_17_clusters_300_size_probabilistic_seed_1.pkl: list indices must be integers or slices, not str\n",
      "[WARNING] Failed to load IDS_top50_urban_cluster_COUNTY_NAME_5_ppc_17_clusters_300_size_probabilistic_seed_1415.pkl: list indices must be integers or slices, not str\n",
      "[WARNING] Failed to load IDS_top50_urban_cluster_COUNTY_NAME_5_ppc_17_clusters_300_size_probabilistic_seed_456.pkl: list indices must be integers or slices, not str\n",
      "[WARNING] Failed to load IDS_top50_urban_cluster_COUNTY_NAME_5_ppc_18_clusters_200_size_probabilistic_seed_1213.pkl: list indices must be integers or slices, not str\n",
      "[WARNING] Failed to load IDS_top50_urban_cluster_COUNTY_NAME_5_ppc_18_clusters_200_size_probabilistic_seed_456.pkl: list indices must be integers or slices, not str\n",
      "[WARNING] Failed to load IDS_top50_urban_cluster_COUNTY_NAME_5_ppc_20_clusters_200_size_probabilistic_seed_1234.pkl: list indices must be integers or slices, not str\n",
      "[WARNING] Failed to load IDS_top50_urban_cluster_COUNTY_NAME_5_ppc_20_clusters_200_size_probabilistic_seed_5678.pkl: list indices must be integers or slices, not str\n",
      "[WARNING] Failed to load IDS_top50_urban_cluster_COUNTY_NAME_5_ppc_20_clusters_300_size_probabilistic_seed_789.pkl: list indices must be integers or slices, not str\n",
      "[WARNING] Failed to load IDS_top50_urban_cluster_COUNTY_NAME_5_ppc_21_clusters_200_size_probabilistic_seed_123.pkl: list indices must be integers or slices, not str\n",
      "[WARNING] Failed to load IDS_top50_urban_cluster_COUNTY_NAME_5_ppc_21_clusters_200_size_probabilistic_seed_1234.pkl: list indices must be integers or slices, not str\n",
      "[WARNING] Failed to load IDS_top50_urban_cluster_COUNTY_NAME_5_ppc_22_clusters_300_size_probabilistic_seed_42.pkl: list indices must be integers or slices, not str\n",
      "[WARNING] Failed to load IDS_top50_urban_cluster_COUNTY_NAME_5_ppc_22_clusters_300_size_probabilistic_seed_9101.pkl: list indices must be integers or slices, not str\n",
      "[WARNING] Failed to load IDS_top50_urban_cluster_COUNTY_NAME_5_ppc_23_clusters_300_size_probabilistic_seed_123.pkl: list indices must be integers or slices, not str\n",
      "[WARNING] Failed to load IDS_top50_urban_cluster_COUNTY_NAME_5_ppc_24_clusters_300_size_probabilistic_seed_9101.pkl: list indices must be integers or slices, not str\n",
      "[WARNING] Failed to load IDS_top50_urban_cluster_COUNTY_NAME_5_ppc_25_clusters_400_size_probabilistic_seed_42.pkl: list indices must be integers or slices, not str\n",
      "[WARNING] Failed to load IDS_top50_urban_cluster_COUNTY_NAME_5_ppc_26_clusters_300_size_probabilistic_seed_1.pkl: list indices must be integers or slices, not str\n",
      "[WARNING] Failed to load IDS_top50_urban_cluster_COUNTY_NAME_5_ppc_26_clusters_300_size_probabilistic_seed_1213.pkl: list indices must be integers or slices, not str\n",
      "[WARNING] Failed to load IDS_top50_urban_cluster_COUNTY_NAME_5_ppc_26_clusters_300_size_probabilistic_seed_1234.pkl: list indices must be integers or slices, not str\n",
      "[WARNING] Failed to load IDS_top50_urban_cluster_COUNTY_NAME_5_ppc_26_clusters_400_size_probabilistic_seed_9101.pkl: list indices must be integers or slices, not str\n",
      "[WARNING] Failed to load IDS_top50_urban_cluster_COUNTY_NAME_5_ppc_27_clusters_300_size_probabilistic_seed_123.pkl: list indices must be integers or slices, not str\n",
      "[WARNING] Failed to load IDS_top50_urban_cluster_COUNTY_NAME_5_ppc_27_clusters_300_size_probabilistic_seed_5678.pkl: list indices must be integers or slices, not str\n",
      "[WARNING] Failed to load IDS_top50_urban_cluster_COUNTY_NAME_5_ppc_27_clusters_400_size_probabilistic_seed_1.pkl: list indices must be integers or slices, not str\n",
      "[WARNING] Failed to load IDS_top50_urban_cluster_COUNTY_NAME_5_ppc_28_clusters_300_size_probabilistic_seed_456.pkl: list indices must be integers or slices, not str\n",
      "[WARNING] Failed to load IDS_top50_urban_cluster_COUNTY_NAME_5_ppc_29_clusters_400_size_probabilistic_seed_1415.pkl: list indices must be integers or slices, not str\n",
      "[WARNING] Failed to load IDS_top50_urban_cluster_COUNTY_NAME_5_ppc_31_clusters_400_size_probabilistic_seed_789.pkl: list indices must be integers or slices, not str\n",
      "[WARNING] Failed to load IDS_top50_urban_cluster_COUNTY_NAME_5_ppc_31_clusters_500_size_probabilistic_seed_1.pkl: list indices must be integers or slices, not str\n",
      "[WARNING] Failed to load IDS_top50_urban_cluster_COUNTY_NAME_5_ppc_32_clusters_300_size_probabilistic_seed_1234.pkl: list indices must be integers or slices, not str\n",
      "[WARNING] Failed to load IDS_top50_urban_cluster_COUNTY_NAME_5_ppc_32_clusters_400_size_probabilistic_seed_1213.pkl: list indices must be integers or slices, not str\n",
      "[WARNING] Failed to load IDS_top50_urban_cluster_COUNTY_NAME_5_ppc_33_clusters_300_size_probabilistic_seed_5678.pkl: list indices must be integers or slices, not str\n",
      "[WARNING] Failed to load IDS_top50_urban_cluster_COUNTY_NAME_5_ppc_36_clusters_400_size_probabilistic_seed_456.pkl: list indices must be integers or slices, not str\n",
      "[WARNING] Failed to load IDS_top50_urban_cluster_COUNTY_NAME_5_ppc_36_clusters_500_size_probabilistic_seed_1415.pkl: list indices must be integers or slices, not str\n",
      "[WARNING] Failed to load IDS_top50_urban_cluster_COUNTY_NAME_5_ppc_36_clusters_500_size_probabilistic_seed_42.pkl: list indices must be integers or slices, not str\n",
      "[WARNING] Failed to load IDS_top50_urban_cluster_COUNTY_NAME_5_ppc_36_clusters_600_size_probabilistic_seed_1.pkl: list indices must be integers or slices, not str\n",
      "[WARNING] Failed to load IDS_top50_urban_cluster_COUNTY_NAME_5_ppc_37_clusters_400_size_probabilistic_seed_123.pkl: list indices must be integers or slices, not str\n",
      "[WARNING] Failed to load IDS_top50_urban_cluster_COUNTY_NAME_5_ppc_38_clusters_400_size_probabilistic_seed_5678.pkl: list indices must be integers or slices, not str\n",
      "[WARNING] Failed to load IDS_top50_urban_cluster_COUNTY_NAME_5_ppc_38_clusters_500_size_probabilistic_seed_9101.pkl: list indices must be integers or slices, not str\n",
      "[WARNING] Failed to load IDS_top50_urban_cluster_COUNTY_NAME_5_ppc_39_clusters_400_size_probabilistic_seed_1234.pkl: list indices must be integers or slices, not str\n",
      "[WARNING] Failed to load IDS_top50_urban_cluster_COUNTY_NAME_5_ppc_39_clusters_500_size_probabilistic_seed_1213.pkl: list indices must be integers or slices, not str\n",
      "[WARNING] Failed to load IDS_top50_urban_cluster_COUNTY_NAME_5_ppc_3_clusters_100_size_probabilistic_seed_123.pkl: list indices must be integers or slices, not str\n",
      "[WARNING] Failed to load IDS_top50_urban_cluster_COUNTY_NAME_5_ppc_3_clusters_100_size_probabilistic_seed_1415.pkl: list indices must be integers or slices, not str\n",
      "[WARNING] Failed to load IDS_top50_urban_cluster_COUNTY_NAME_5_ppc_3_clusters_100_size_probabilistic_seed_456.pkl: list indices must be integers or slices, not str\n",
      "[WARNING] Failed to load IDS_top50_urban_cluster_COUNTY_NAME_5_ppc_3_clusters_100_size_probabilistic_seed_9101.pkl: list indices must be integers or slices, not str\n",
      "[WARNING] Failed to load IDS_top50_urban_cluster_COUNTY_NAME_5_ppc_40_clusters_500_size_probabilistic_seed_789.pkl: list indices must be integers or slices, not str\n",
      "[WARNING] Failed to load IDS_top50_urban_cluster_COUNTY_NAME_5_ppc_41_clusters_700_size_probabilistic_seed_1.pkl: list indices must be integers or slices, not str\n",
      "[WARNING] Failed to load IDS_top50_urban_cluster_COUNTY_NAME_5_ppc_43_clusters_600_size_probabilistic_seed_1415.pkl: list indices must be integers or slices, not str\n",
      "[WARNING] Failed to load IDS_top50_urban_cluster_COUNTY_NAME_5_ppc_45_clusters_600_size_probabilistic_seed_1213.pkl: list indices must be integers or slices, not str\n",
      "[WARNING] Failed to load IDS_top50_urban_cluster_COUNTY_NAME_5_ppc_46_clusters_500_size_probabilistic_seed_123.pkl: list indices must be integers or slices, not str\n",
      "[WARNING] Failed to load IDS_top50_urban_cluster_COUNTY_NAME_5_ppc_46_clusters_500_size_probabilistic_seed_456.pkl: list indices must be integers or slices, not str\n",
      "[WARNING] Failed to load IDS_top50_urban_cluster_COUNTY_NAME_5_ppc_46_clusters_700_size_probabilistic_seed_1415.pkl: list indices must be integers or slices, not str\n",
      "[WARNING] Failed to load IDS_top50_urban_cluster_COUNTY_NAME_5_ppc_47_clusters_600_size_probabilistic_seed_9101.pkl: list indices must be integers or slices, not str\n",
      "[WARNING] Failed to load IDS_top50_urban_cluster_COUNTY_NAME_5_ppc_48_clusters_500_size_probabilistic_seed_5678.pkl: list indices must be integers or slices, not str\n",
      "[WARNING] Failed to load IDS_top50_urban_cluster_COUNTY_NAME_5_ppc_48_clusters_600_size_probabilistic_seed_42.pkl: list indices must be integers or slices, not str\n",
      "[WARNING] Failed to load IDS_top50_urban_cluster_COUNTY_NAME_5_ppc_48_clusters_600_size_probabilistic_seed_789.pkl: list indices must be integers or slices, not str\n",
      "[WARNING] Failed to load IDS_top50_urban_cluster_COUNTY_NAME_5_ppc_48_clusters_800_size_probabilistic_seed_1.pkl: list indices must be integers or slices, not str\n",
      "[WARNING] Failed to load IDS_top50_urban_cluster_COUNTY_NAME_5_ppc_49_clusters_500_size_probabilistic_seed_1234.pkl: list indices must be integers or slices, not str\n",
      "[WARNING] Failed to load IDS_top50_urban_cluster_COUNTY_NAME_5_ppc_49_clusters_700_size_probabilistic_seed_1213.pkl: list indices must be integers or slices, not str\n",
      "[WARNING] Failed to load IDS_top50_urban_cluster_COUNTY_NAME_5_ppc_4_clusters_100_size_probabilistic_seed_1.pkl: list indices must be integers or slices, not str\n",
      "[WARNING] Failed to load IDS_top50_urban_cluster_COUNTY_NAME_5_ppc_52_clusters_800_size_probabilistic_seed_1415.pkl: list indices must be integers or slices, not str\n",
      "[WARNING] Failed to load IDS_top50_urban_cluster_COUNTY_NAME_5_ppc_54_clusters_700_size_probabilistic_seed_789.pkl: list indices must be integers or slices, not str\n",
      "[WARNING] Failed to load IDS_top50_urban_cluster_COUNTY_NAME_5_ppc_55_clusters_600_size_probabilistic_seed_123.pkl: list indices must be integers or slices, not str\n",
      "[WARNING] Failed to load IDS_top50_urban_cluster_COUNTY_NAME_5_ppc_55_clusters_600_size_probabilistic_seed_456.pkl: list indices must be integers or slices, not str\n",
      "[WARNING] Failed to load IDS_top50_urban_cluster_COUNTY_NAME_5_ppc_55_clusters_700_size_probabilistic_seed_42.pkl: list indices must be integers or slices, not str\n",
      "[WARNING] Failed to load IDS_top50_urban_cluster_COUNTY_NAME_5_ppc_56_clusters_700_size_probabilistic_seed_9101.pkl: list indices must be integers or slices, not str\n",
      "[WARNING] Failed to load IDS_top50_urban_cluster_COUNTY_NAME_5_ppc_56_clusters_900_size_probabilistic_seed_1.pkl: list indices must be integers or slices, not str\n",
      "[WARNING] Failed to load IDS_top50_urban_cluster_COUNTY_NAME_5_ppc_57_clusters_600_size_probabilistic_seed_1234.pkl: list indices must be integers or slices, not str\n",
      "[WARNING] Failed to load IDS_top50_urban_cluster_COUNTY_NAME_5_ppc_57_clusters_800_size_probabilistic_seed_1213.pkl: list indices must be integers or slices, not str\n",
      "[WARNING] Failed to load IDS_top50_urban_cluster_COUNTY_NAME_5_ppc_58_clusters_600_size_probabilistic_seed_5678.pkl: list indices must be integers or slices, not str\n",
      "[WARNING] Failed to load IDS_top50_urban_cluster_COUNTY_NAME_5_ppc_60_clusters_800_size_probabilistic_seed_789.pkl: list indices must be integers or slices, not str\n",
      "[WARNING] Failed to load IDS_top50_urban_cluster_COUNTY_NAME_5_ppc_62_clusters_800_size_probabilistic_seed_42.pkl: list indices must be integers or slices, not str\n",
      "[WARNING] Failed to load IDS_top50_urban_cluster_COUNTY_NAME_5_ppc_62_clusters_900_size_probabilistic_seed_1415.pkl: list indices must be integers or slices, not str\n",
      "[WARNING] Failed to load IDS_top50_urban_cluster_COUNTY_NAME_5_ppc_64_clusters_700_size_probabilistic_seed_123.pkl: list indices must be integers or slices, not str\n",
      "[WARNING] Failed to load IDS_top50_urban_cluster_COUNTY_NAME_5_ppc_64_clusters_700_size_probabilistic_seed_1234.pkl: list indices must be integers or slices, not str\n",
      "[WARNING] Failed to load IDS_top50_urban_cluster_COUNTY_NAME_5_ppc_64_clusters_700_size_probabilistic_seed_456.pkl: list indices must be integers or slices, not str\n",
      "[WARNING] Failed to load IDS_top50_urban_cluster_COUNTY_NAME_5_ppc_65_clusters_800_size_probabilistic_seed_9101.pkl: list indices must be integers or slices, not str\n",
      "[WARNING] Failed to load IDS_top50_urban_cluster_COUNTY_NAME_5_ppc_66_clusters_1000_size_probabilistic_seed_1.pkl: list indices must be integers or slices, not str\n",
      "[WARNING] Failed to load IDS_top50_urban_cluster_COUNTY_NAME_5_ppc_66_clusters_700_size_probabilistic_seed_5678.pkl: list indices must be integers or slices, not str\n",
      "[WARNING] Failed to load IDS_top50_urban_cluster_COUNTY_NAME_5_ppc_67_clusters_900_size_probabilistic_seed_1213.pkl: list indices must be integers or slices, not str\n",
      "[WARNING] Failed to load IDS_top50_urban_cluster_COUNTY_NAME_5_ppc_69_clusters_900_size_probabilistic_seed_42.pkl: list indices must be integers or slices, not str\n",
      "[WARNING] Failed to load IDS_top50_urban_cluster_COUNTY_NAME_5_ppc_6_clusters_100_size_probabilistic_seed_1213.pkl: list indices must be integers or slices, not str\n",
      "[WARNING] Failed to load IDS_top50_urban_cluster_COUNTY_NAME_5_ppc_70_clusters_1000_size_probabilistic_seed_1415.pkl: list indices must be integers or slices, not str\n",
      "[WARNING] Failed to load IDS_top50_urban_cluster_COUNTY_NAME_5_ppc_71_clusters_800_size_probabilistic_seed_1234.pkl: list indices must be integers or slices, not str\n",
      "[WARNING] Failed to load IDS_top50_urban_cluster_COUNTY_NAME_5_ppc_72_clusters_900_size_probabilistic_seed_789.pkl: list indices must be integers or slices, not str\n",
      "[WARNING] Failed to load IDS_top50_urban_cluster_COUNTY_NAME_5_ppc_73_clusters_800_size_probabilistic_seed_123.pkl: list indices must be integers or slices, not str\n",
      "[WARNING] Failed to load IDS_top50_urban_cluster_COUNTY_NAME_5_ppc_73_clusters_800_size_probabilistic_seed_5678.pkl: list indices must be integers or slices, not str\n",
      "[WARNING] Failed to load IDS_top50_urban_cluster_COUNTY_NAME_5_ppc_73_clusters_900_size_probabilistic_seed_9101.pkl: list indices must be integers or slices, not str\n",
      "[WARNING] Failed to load IDS_top50_urban_cluster_COUNTY_NAME_5_ppc_74_clusters_1000_size_probabilistic_seed_1213.pkl: list indices must be integers or slices, not str\n",
      "[WARNING] Failed to load IDS_top50_urban_cluster_COUNTY_NAME_5_ppc_77_clusters_1000_size_probabilistic_seed_789.pkl: list indices must be integers or slices, not str\n",
      "[WARNING] Failed to load IDS_top50_urban_cluster_COUNTY_NAME_5_ppc_77_clusters_800_size_probabilistic_seed_456.pkl: list indices must be integers or slices, not str\n",
      "[WARNING] Failed to load IDS_top50_urban_cluster_COUNTY_NAME_5_ppc_78_clusters_1000_size_probabilistic_seed_9101.pkl: list indices must be integers or slices, not str\n",
      "[WARNING] Failed to load IDS_top50_urban_cluster_COUNTY_NAME_5_ppc_78_clusters_900_size_probabilistic_seed_1234.pkl: list indices must be integers or slices, not str\n",
      "[WARNING] Failed to load IDS_top50_urban_cluster_COUNTY_NAME_5_ppc_78_clusters_900_size_probabilistic_seed_5678.pkl: list indices must be integers or slices, not str\n",
      "[WARNING] Failed to load IDS_top50_urban_cluster_COUNTY_NAME_5_ppc_7_clusters_100_size_probabilistic_seed_1.pkl: list indices must be integers or slices, not str\n",
      "[WARNING] Failed to load IDS_top50_urban_cluster_COUNTY_NAME_5_ppc_7_clusters_100_size_probabilistic_seed_1415.pkl: list indices must be integers or slices, not str\n",
      "[WARNING] Failed to load IDS_top50_urban_cluster_COUNTY_NAME_5_ppc_7_clusters_100_size_probabilistic_seed_42.pkl: list indices must be integers or slices, not str\n",
      "[WARNING] Failed to load IDS_top50_urban_cluster_COUNTY_NAME_5_ppc_7_clusters_100_size_probabilistic_seed_789.pkl: list indices must be integers or slices, not str\n",
      "[WARNING] Failed to load IDS_top50_urban_cluster_COUNTY_NAME_5_ppc_81_clusters_1000_size_probabilistic_seed_42.pkl: list indices must be integers or slices, not str\n",
      "[WARNING] Failed to load IDS_top50_urban_cluster_COUNTY_NAME_5_ppc_83_clusters_900_size_probabilistic_seed_456.pkl: list indices must be integers or slices, not str\n",
      "[WARNING] Failed to load IDS_top50_urban_cluster_COUNTY_NAME_5_ppc_84_clusters_900_size_probabilistic_seed_123.pkl: list indices must be integers or slices, not str\n",
      "[WARNING] Failed to load IDS_top50_urban_cluster_COUNTY_NAME_5_ppc_87_clusters_1000_size_probabilistic_seed_1234.pkl: list indices must be integers or slices, not str\n",
      "[WARNING] Failed to load IDS_top50_urban_cluster_COUNTY_NAME_5_ppc_88_clusters_1000_size_probabilistic_seed_5678.pkl: list indices must be integers or slices, not str\n",
      "[WARNING] Failed to load IDS_top50_urban_cluster_COUNTY_NAME_5_ppc_8_clusters_100_size_probabilistic_seed_1234.pkl: list indices must be integers or slices, not str\n",
      "[WARNING] Failed to load IDS_top50_urban_cluster_COUNTY_NAME_5_ppc_8_clusters_100_size_probabilistic_seed_5678.pkl: list indices must be integers or slices, not str\n",
      "[WARNING] Failed to load IDS_top50_urban_cluster_COUNTY_NAME_5_ppc_8_clusters_100_size_probabilistic_seed_789.pkl: list indices must be integers or slices, not str\n",
      "[WARNING] Failed to load IDS_top50_urban_cluster_COUNTY_NAME_5_ppc_93_clusters_1000_size_probabilistic_seed_456.pkl: list indices must be integers or slices, not str\n",
      "[WARNING] Failed to load IDS_top50_urban_cluster_COUNTY_NAME_5_ppc_94_clusters_1000_size_probabilistic_seed_123.pkl: list indices must be integers or slices, not str\n",
      "[WARNING] Failed to load IDS_top50_urban_cluster_COUNTY_NAME_5_ppc_9_clusters_100_size_probabilistic_seed_42.pkl: list indices must be integers or slices, not str\n",
      "[WARNING] Failed to load IDS_top50_urban_cluster_COUNTY_NAME_5_ppc_9_clusters_100_size_probabilistic_seed_9101.pkl: list indices must be integers or slices, not str\n",
      "Results written incrementally to /home/libe2152/optimizedsampling/0_results/usavars/population/convenience_sampling_r2_scores.csv\n",
      "Loading features from /home/libe2152/optimizedsampling/0_data/features/usavars/CONTUS_UAR_treecover_with_splits_torchgeo4096.pkl ...\n"
     ]
    },
    {
     "name": "stderr",
     "output_type": "stream",
     "text": [
      "\n"
     ]
    },
    {
     "name": "stdout",
     "output_type": "stream",
     "text": [
      "Processing samples from /home/libe2152/optimizedsampling/0_data/initial_samples/usavars/treecover/cluster_sampling/randomstrata ...\n"
     ]
    },
    {
     "name": "stderr",
     "output_type": "stream",
     "text": [
      "Processing samples:   0%|          | 0/401 [00:00<?, ?it/s]"
     ]
    },
    {
     "name": "stdout",
     "output_type": "stream",
     "text": [
      "Fitting regression...\n",
      "NUM SAMPLES: 1000\n",
      "Best alpha: 3.593813663804626\n"
     ]
    },
    {
     "name": "stderr",
     "output_type": "stream",
     "text": [
      "Processing samples:   0%|          | 2/401 [00:08<28:25,  4.27s/it]"
     ]
    },
    {
     "name": "stdout",
     "output_type": "stream",
     "text": [
      "0.7782611681682955\n",
      "[WRITE] Saved result from sample_10_state_county_county_desired_10ppc_1000_size_seed_1.pkl to /home/libe2152/optimizedsampling/0_results/usavars/treecover/cluster_sampling_r2_scores.csv\n",
      "Fitting regression...\n",
      "NUM SAMPLES: 1000\n",
      "Best alpha: 3.593813663804626\n"
     ]
    },
    {
     "name": "stderr",
     "output_type": "stream",
     "text": [
      "Processing samples:   1%|          | 3/401 [00:17<40:36,  6.12s/it]"
     ]
    },
    {
     "name": "stdout",
     "output_type": "stream",
     "text": [
      "0.8044581235079167\n",
      "[WRITE] Saved result from sample_10_state_county_county_desired_10ppc_1000_size_seed_1213.pkl to /home/libe2152/optimizedsampling/0_results/usavars/treecover/cluster_sampling_r2_scores.csv\n",
      "Fitting regression...\n",
      "NUM SAMPLES: 1000\n",
      "Best alpha: 3.593813663804626\n"
     ]
    },
    {
     "name": "stderr",
     "output_type": "stream",
     "text": [
      "Processing samples:   1%|          | 4/401 [00:26<47:09,  7.13s/it]"
     ]
    },
    {
     "name": "stdout",
     "output_type": "stream",
     "text": [
      "0.7919094585773869\n",
      "[WRITE] Saved result from sample_10_state_county_county_desired_10ppc_1000_size_seed_123.pkl to /home/libe2152/optimizedsampling/0_results/usavars/treecover/cluster_sampling_r2_scores.csv\n",
      "Fitting regression...\n",
      "NUM SAMPLES: 1000\n",
      "Best alpha: 3.593813663804626\n"
     ]
    },
    {
     "name": "stderr",
     "output_type": "stream",
     "text": [
      "Processing samples:   1%|          | 5/401 [00:34<50:44,  7.69s/it]"
     ]
    },
    {
     "name": "stdout",
     "output_type": "stream",
     "text": [
      "0.8129310288332294\n",
      "[WRITE] Saved result from sample_10_state_county_county_desired_10ppc_1000_size_seed_1234.pkl to /home/libe2152/optimizedsampling/0_results/usavars/treecover/cluster_sampling_r2_scores.csv\n",
      "Fitting regression...\n",
      "NUM SAMPLES: 1000\n",
      "Best alpha: 3.593813663804626\n"
     ]
    },
    {
     "name": "stderr",
     "output_type": "stream",
     "text": [
      "Processing samples:   1%|▏         | 6/401 [00:46<58:55,  8.95s/it]"
     ]
    },
    {
     "name": "stdout",
     "output_type": "stream",
     "text": [
      "0.7874989516626677\n",
      "[WRITE] Saved result from sample_10_state_county_county_desired_10ppc_1000_size_seed_1415.pkl to /home/libe2152/optimizedsampling/0_results/usavars/treecover/cluster_sampling_r2_scores.csv\n",
      "Fitting regression...\n",
      "NUM SAMPLES: 1000\n",
      "Best alpha: 3.593813663804626\n"
     ]
    },
    {
     "name": "stderr",
     "output_type": "stream",
     "text": [
      "Processing samples:   2%|▏         | 7/401 [01:04<1:18:30, 11.96s/it]"
     ]
    },
    {
     "name": "stdout",
     "output_type": "stream",
     "text": [
      "0.7802946729280249\n",
      "[WRITE] Saved result from sample_10_state_county_county_desired_10ppc_1000_size_seed_42.pkl to /home/libe2152/optimizedsampling/0_results/usavars/treecover/cluster_sampling_r2_scores.csv\n",
      "Fitting regression...\n",
      "NUM SAMPLES: 1000\n",
      "Best alpha: 3.593813663804626\n"
     ]
    },
    {
     "name": "stderr",
     "output_type": "stream",
     "text": [
      "Processing samples:   2%|▏         | 8/401 [01:13<1:11:59, 10.99s/it]"
     ]
    },
    {
     "name": "stdout",
     "output_type": "stream",
     "text": [
      "0.7927591227286898\n",
      "[WRITE] Saved result from sample_10_state_county_county_desired_10ppc_1000_size_seed_456.pkl to /home/libe2152/optimizedsampling/0_results/usavars/treecover/cluster_sampling_r2_scores.csv\n",
      "Fitting regression...\n",
      "NUM SAMPLES: 1000\n",
      "Best alpha: 3.593813663804626\n"
     ]
    },
    {
     "name": "stderr",
     "output_type": "stream",
     "text": [
      "Processing samples:   2%|▏         | 9/401 [01:22<1:07:03, 10.26s/it]"
     ]
    },
    {
     "name": "stdout",
     "output_type": "stream",
     "text": [
      "0.8095785242250053\n",
      "[WRITE] Saved result from sample_10_state_county_county_desired_10ppc_1000_size_seed_5678.pkl to /home/libe2152/optimizedsampling/0_results/usavars/treecover/cluster_sampling_r2_scores.csv\n",
      "Fitting regression...\n",
      "NUM SAMPLES: 1000\n",
      "Best alpha: 3.593813663804626\n"
     ]
    },
    {
     "name": "stderr",
     "output_type": "stream",
     "text": [
      "Processing samples:   2%|▏         | 10/401 [01:30<1:03:42,  9.78s/it]"
     ]
    },
    {
     "name": "stdout",
     "output_type": "stream",
     "text": [
      "0.8021799115416476\n",
      "[WRITE] Saved result from sample_10_state_county_county_desired_10ppc_1000_size_seed_789.pkl to /home/libe2152/optimizedsampling/0_results/usavars/treecover/cluster_sampling_r2_scores.csv\n",
      "Fitting regression...\n",
      "NUM SAMPLES: 1000\n",
      "Best alpha: 3.593813663804626\n"
     ]
    },
    {
     "name": "stderr",
     "output_type": "stream",
     "text": [
      "Processing samples:   3%|▎         | 11/401 [01:39<1:01:22,  9.44s/it]"
     ]
    },
    {
     "name": "stdout",
     "output_type": "stream",
     "text": [
      "0.8182110577306771\n",
      "[WRITE] Saved result from sample_10_state_county_county_desired_10ppc_1000_size_seed_9101.pkl to /home/libe2152/optimizedsampling/0_results/usavars/treecover/cluster_sampling_r2_scores.csv\n",
      "Fitting regression...\n",
      "NUM SAMPLES: 100\n",
      "Best alpha: 46.41588833612782\n"
     ]
    },
    {
     "name": "stderr",
     "output_type": "stream",
     "text": [
      "Processing samples:   3%|▎         | 12/401 [01:40<44:00,  6.79s/it]  "
     ]
    },
    {
     "name": "stdout",
     "output_type": "stream",
     "text": [
      "0.27789794258287326\n",
      "[WRITE] Saved result from sample_10_state_county_county_desired_10ppc_100_size_seed_1.pkl to /home/libe2152/optimizedsampling/0_results/usavars/treecover/cluster_sampling_r2_scores.csv\n",
      "Fitting regression...\n",
      "NUM SAMPLES: 100\n",
      "Best alpha: 46.41588833612782\n"
     ]
    },
    {
     "name": "stderr",
     "output_type": "stream",
     "text": [
      "Processing samples:   3%|▎         | 13/401 [01:40<31:54,  4.94s/it]"
     ]
    },
    {
     "name": "stdout",
     "output_type": "stream",
     "text": [
      "0.5848459931150667\n",
      "[WRITE] Saved result from sample_10_state_county_county_desired_10ppc_100_size_seed_1213.pkl to /home/libe2152/optimizedsampling/0_results/usavars/treecover/cluster_sampling_r2_scores.csv\n",
      "Fitting regression...\n",
      "NUM SAMPLES: 100\n",
      "Best alpha: 46.41588833612782\n"
     ]
    },
    {
     "name": "stderr",
     "output_type": "stream",
     "text": [
      "Processing samples:   3%|▎         | 14/401 [01:41<23:35,  3.66s/it]"
     ]
    },
    {
     "name": "stdout",
     "output_type": "stream",
     "text": [
      "0.47481100643283625\n",
      "[WRITE] Saved result from sample_10_state_county_county_desired_10ppc_100_size_seed_123.pkl to /home/libe2152/optimizedsampling/0_results/usavars/treecover/cluster_sampling_r2_scores.csv\n",
      "Fitting regression...\n",
      "NUM SAMPLES: 100\n",
      "Best alpha: 46.41588833612782\n"
     ]
    },
    {
     "name": "stderr",
     "output_type": "stream",
     "text": [
      "Processing samples:   4%|▎         | 15/401 [01:42<17:49,  2.77s/it]"
     ]
    },
    {
     "name": "stdout",
     "output_type": "stream",
     "text": [
      "0.7193308724288735\n",
      "[WRITE] Saved result from sample_10_state_county_county_desired_10ppc_100_size_seed_1234.pkl to /home/libe2152/optimizedsampling/0_results/usavars/treecover/cluster_sampling_r2_scores.csv\n",
      "Fitting regression...\n",
      "NUM SAMPLES: 100\n",
      "Best alpha: 3.593813663804626\n"
     ]
    },
    {
     "name": "stderr",
     "output_type": "stream",
     "text": [
      "Processing samples:   4%|▍         | 16/401 [01:42<13:44,  2.14s/it]"
     ]
    },
    {
     "name": "stdout",
     "output_type": "stream",
     "text": [
      "-0.44544700786374425\n",
      "[WRITE] Saved result from sample_10_state_county_county_desired_10ppc_100_size_seed_1415.pkl to /home/libe2152/optimizedsampling/0_results/usavars/treecover/cluster_sampling_r2_scores.csv\n",
      "Fitting regression...\n",
      "NUM SAMPLES: 100\n",
      "Best alpha: 3.593813663804626\n"
     ]
    },
    {
     "name": "stderr",
     "output_type": "stream",
     "text": [
      "Processing samples:   4%|▍         | 17/401 [01:43<10:50,  1.69s/it]"
     ]
    },
    {
     "name": "stdout",
     "output_type": "stream",
     "text": [
      "0.5135923441496426\n",
      "[WRITE] Saved result from sample_10_state_county_county_desired_10ppc_100_size_seed_42.pkl to /home/libe2152/optimizedsampling/0_results/usavars/treecover/cluster_sampling_r2_scores.csv\n",
      "Fitting regression...\n",
      "NUM SAMPLES: 100\n",
      "Best alpha: 46.41588833612782\n"
     ]
    },
    {
     "name": "stderr",
     "output_type": "stream",
     "text": [
      "Processing samples:   4%|▍         | 18/401 [01:44<08:51,  1.39s/it]"
     ]
    },
    {
     "name": "stdout",
     "output_type": "stream",
     "text": [
      "0.6906542057763898\n",
      "[WRITE] Saved result from sample_10_state_county_county_desired_10ppc_100_size_seed_456.pkl to /home/libe2152/optimizedsampling/0_results/usavars/treecover/cluster_sampling_r2_scores.csv\n",
      "Fitting regression...\n",
      "NUM SAMPLES: 100\n",
      "Best alpha: 46.41588833612782\n"
     ]
    },
    {
     "name": "stderr",
     "output_type": "stream",
     "text": [
      "Processing samples:   5%|▍         | 19/401 [01:44<07:29,  1.18s/it]"
     ]
    },
    {
     "name": "stdout",
     "output_type": "stream",
     "text": [
      "0.6724948308577715\n",
      "[WRITE] Saved result from sample_10_state_county_county_desired_10ppc_100_size_seed_5678.pkl to /home/libe2152/optimizedsampling/0_results/usavars/treecover/cluster_sampling_r2_scores.csv\n",
      "Fitting regression...\n",
      "NUM SAMPLES: 100\n",
      "Best alpha: 46.41588833612782\n"
     ]
    },
    {
     "name": "stderr",
     "output_type": "stream",
     "text": [
      "Processing samples:   5%|▍         | 20/401 [01:45<06:28,  1.02s/it]"
     ]
    },
    {
     "name": "stdout",
     "output_type": "stream",
     "text": [
      "0.5814628359374154\n",
      "[WRITE] Saved result from sample_10_state_county_county_desired_10ppc_100_size_seed_789.pkl to /home/libe2152/optimizedsampling/0_results/usavars/treecover/cluster_sampling_r2_scores.csv\n",
      "Fitting regression...\n",
      "NUM SAMPLES: 100\n",
      "Best alpha: 3.593813663804626\n"
     ]
    },
    {
     "name": "stderr",
     "output_type": "stream",
     "text": [
      "Processing samples:   5%|▌         | 21/401 [01:46<05:47,  1.09it/s]"
     ]
    },
    {
     "name": "stdout",
     "output_type": "stream",
     "text": [
      "0.2781090454366033\n",
      "[WRITE] Saved result from sample_10_state_county_county_desired_10ppc_100_size_seed_9101.pkl to /home/libe2152/optimizedsampling/0_results/usavars/treecover/cluster_sampling_r2_scores.csv\n",
      "Fitting regression...\n",
      "NUM SAMPLES: 200\n",
      "Best alpha: 46.41588833612782\n"
     ]
    },
    {
     "name": "stderr",
     "output_type": "stream",
     "text": [
      "Processing samples:   5%|▌         | 22/401 [01:47<07:08,  1.13s/it]"
     ]
    },
    {
     "name": "stdout",
     "output_type": "stream",
     "text": [
      "0.5652596531703565\n",
      "[WRITE] Saved result from sample_10_state_county_county_desired_10ppc_200_size_seed_1.pkl to /home/libe2152/optimizedsampling/0_results/usavars/treecover/cluster_sampling_r2_scores.csv\n",
      "Fitting regression...\n",
      "NUM SAMPLES: 200\n",
      "Best alpha: 46.41588833612782\n"
     ]
    },
    {
     "name": "stderr",
     "output_type": "stream",
     "text": [
      "Processing samples:   6%|▌         | 23/401 [01:49<08:23,  1.33s/it]"
     ]
    },
    {
     "name": "stdout",
     "output_type": "stream",
     "text": [
      "0.6605103454360753\n",
      "[WRITE] Saved result from sample_10_state_county_county_desired_10ppc_200_size_seed_1213.pkl to /home/libe2152/optimizedsampling/0_results/usavars/treecover/cluster_sampling_r2_scores.csv\n",
      "Fitting regression...\n",
      "NUM SAMPLES: 200\n",
      "Best alpha: 46.41588833612782\n"
     ]
    },
    {
     "name": "stderr",
     "output_type": "stream",
     "text": [
      "Processing samples:   6%|▌         | 24/401 [01:51<09:32,  1.52s/it]"
     ]
    },
    {
     "name": "stdout",
     "output_type": "stream",
     "text": [
      "0.4120307894246451\n",
      "[WRITE] Saved result from sample_10_state_county_county_desired_10ppc_200_size_seed_123.pkl to /home/libe2152/optimizedsampling/0_results/usavars/treecover/cluster_sampling_r2_scores.csv\n",
      "Fitting regression...\n",
      "NUM SAMPLES: 200\n",
      "Best alpha: 46.41588833612782\n"
     ]
    },
    {
     "name": "stderr",
     "output_type": "stream",
     "text": [
      "Processing samples:   6%|▌         | 25/401 [01:53<10:05,  1.61s/it]"
     ]
    },
    {
     "name": "stdout",
     "output_type": "stream",
     "text": [
      "0.6471418023518254\n",
      "[WRITE] Saved result from sample_10_state_county_county_desired_10ppc_200_size_seed_1234.pkl to /home/libe2152/optimizedsampling/0_results/usavars/treecover/cluster_sampling_r2_scores.csv\n",
      "Fitting regression...\n",
      "NUM SAMPLES: 200\n",
      "Best alpha: 0.2782559402207126\n"
     ]
    },
    {
     "name": "stderr",
     "output_type": "stream",
     "text": [
      "Processing samples:   6%|▋         | 26/401 [01:55<10:19,  1.65s/it]"
     ]
    },
    {
     "name": "stdout",
     "output_type": "stream",
     "text": [
      "0.3983989594705549\n",
      "[WRITE] Saved result from sample_10_state_county_county_desired_10ppc_200_size_seed_1415.pkl to /home/libe2152/optimizedsampling/0_results/usavars/treecover/cluster_sampling_r2_scores.csv\n",
      "Fitting regression...\n",
      "NUM SAMPLES: 200\n",
      "Best alpha: 46.41588833612782\n"
     ]
    },
    {
     "name": "stderr",
     "output_type": "stream",
     "text": [
      "Processing samples:   7%|▋         | 27/401 [01:56<10:12,  1.64s/it]"
     ]
    },
    {
     "name": "stdout",
     "output_type": "stream",
     "text": [
      "0.5696999909052527\n",
      "[WRITE] Saved result from sample_10_state_county_county_desired_10ppc_200_size_seed_42.pkl to /home/libe2152/optimizedsampling/0_results/usavars/treecover/cluster_sampling_r2_scores.csv\n",
      "Fitting regression...\n",
      "NUM SAMPLES: 200\n",
      "Best alpha: 46.41588833612782\n"
     ]
    },
    {
     "name": "stderr",
     "output_type": "stream",
     "text": [
      "Processing samples:   7%|▋         | 28/401 [01:58<10:03,  1.62s/it]"
     ]
    },
    {
     "name": "stdout",
     "output_type": "stream",
     "text": [
      "0.6834840118892516\n",
      "[WRITE] Saved result from sample_10_state_county_county_desired_10ppc_200_size_seed_456.pkl to /home/libe2152/optimizedsampling/0_results/usavars/treecover/cluster_sampling_r2_scores.csv\n",
      "Fitting regression...\n",
      "NUM SAMPLES: 200\n",
      "Best alpha: 46.41588833612782\n"
     ]
    },
    {
     "name": "stderr",
     "output_type": "stream",
     "text": [
      "Processing samples:   7%|▋         | 29/401 [02:00<10:19,  1.67s/it]"
     ]
    },
    {
     "name": "stdout",
     "output_type": "stream",
     "text": [
      "0.728920857307239\n",
      "[WRITE] Saved result from sample_10_state_county_county_desired_10ppc_200_size_seed_5678.pkl to /home/libe2152/optimizedsampling/0_results/usavars/treecover/cluster_sampling_r2_scores.csv\n",
      "Fitting regression...\n",
      "NUM SAMPLES: 200\n",
      "Best alpha: 46.41588833612782\n"
     ]
    },
    {
     "name": "stderr",
     "output_type": "stream",
     "text": [
      "Processing samples:   7%|▋         | 30/401 [02:01<10:15,  1.66s/it]"
     ]
    },
    {
     "name": "stdout",
     "output_type": "stream",
     "text": [
      "0.7433215758222977\n",
      "[WRITE] Saved result from sample_10_state_county_county_desired_10ppc_200_size_seed_789.pkl to /home/libe2152/optimizedsampling/0_results/usavars/treecover/cluster_sampling_r2_scores.csv\n",
      "Fitting regression...\n",
      "NUM SAMPLES: 200\n",
      "Best alpha: 3.593813663804626\n"
     ]
    },
    {
     "name": "stderr",
     "output_type": "stream",
     "text": [
      "Processing samples:   8%|▊         | 31/401 [02:03<10:07,  1.64s/it]"
     ]
    },
    {
     "name": "stdout",
     "output_type": "stream",
     "text": [
      "0.6851422242272137\n",
      "[WRITE] Saved result from sample_10_state_county_county_desired_10ppc_200_size_seed_9101.pkl to /home/libe2152/optimizedsampling/0_results/usavars/treecover/cluster_sampling_r2_scores.csv\n",
      "Fitting regression...\n",
      "NUM SAMPLES: 300\n",
      "Best alpha: 46.41588833612782\n"
     ]
    },
    {
     "name": "stderr",
     "output_type": "stream",
     "text": [
      "Processing samples:   8%|▊         | 32/401 [02:05<11:22,  1.85s/it]"
     ]
    },
    {
     "name": "stdout",
     "output_type": "stream",
     "text": [
      "0.5998986943688775\n",
      "[WRITE] Saved result from sample_10_state_county_county_desired_10ppc_300_size_seed_1.pkl to /home/libe2152/optimizedsampling/0_results/usavars/treecover/cluster_sampling_r2_scores.csv\n",
      "Fitting regression...\n",
      "NUM SAMPLES: 300\n",
      "Best alpha: 46.41588833612782\n"
     ]
    },
    {
     "name": "stderr",
     "output_type": "stream",
     "text": [
      "Processing samples:   8%|▊         | 33/401 [02:08<12:17,  2.00s/it]"
     ]
    },
    {
     "name": "stdout",
     "output_type": "stream",
     "text": [
      "0.6755689506519462\n",
      "[WRITE] Saved result from sample_10_state_county_county_desired_10ppc_300_size_seed_1213.pkl to /home/libe2152/optimizedsampling/0_results/usavars/treecover/cluster_sampling_r2_scores.csv\n",
      "Fitting regression...\n",
      "NUM SAMPLES: 300\n",
      "Best alpha: 46.41588833612782\n"
     ]
    },
    {
     "name": "stderr",
     "output_type": "stream",
     "text": [
      "Processing samples:   8%|▊         | 34/401 [02:10<13:00,  2.13s/it]"
     ]
    },
    {
     "name": "stdout",
     "output_type": "stream",
     "text": [
      "0.4731882012857336\n",
      "[WRITE] Saved result from sample_10_state_county_county_desired_10ppc_300_size_seed_123.pkl to /home/libe2152/optimizedsampling/0_results/usavars/treecover/cluster_sampling_r2_scores.csv\n",
      "Fitting regression...\n",
      "NUM SAMPLES: 300\n",
      "Best alpha: 3.593813663804626\n"
     ]
    },
    {
     "name": "stderr",
     "output_type": "stream",
     "text": [
      "Processing samples:   9%|▊         | 35/401 [02:12<12:49,  2.10s/it]"
     ]
    },
    {
     "name": "stdout",
     "output_type": "stream",
     "text": [
      "0.7648758270070215\n",
      "[WRITE] Saved result from sample_10_state_county_county_desired_10ppc_300_size_seed_1234.pkl to /home/libe2152/optimizedsampling/0_results/usavars/treecover/cluster_sampling_r2_scores.csv\n",
      "Fitting regression...\n",
      "NUM SAMPLES: 300\n",
      "Best alpha: 3.593813663804626\n"
     ]
    },
    {
     "name": "stderr",
     "output_type": "stream",
     "text": [
      "Processing samples:   9%|▉         | 36/401 [02:14<13:08,  2.16s/it]"
     ]
    },
    {
     "name": "stdout",
     "output_type": "stream",
     "text": [
      "0.716328156563276\n",
      "[WRITE] Saved result from sample_10_state_county_county_desired_10ppc_300_size_seed_1415.pkl to /home/libe2152/optimizedsampling/0_results/usavars/treecover/cluster_sampling_r2_scores.csv\n",
      "Fitting regression...\n",
      "NUM SAMPLES: 300\n",
      "Best alpha: 3.593813663804626\n"
     ]
    },
    {
     "name": "stderr",
     "output_type": "stream",
     "text": [
      "Processing samples:   9%|▉         | 37/401 [02:17<13:18,  2.19s/it]"
     ]
    },
    {
     "name": "stdout",
     "output_type": "stream",
     "text": [
      "0.5924196082230817\n",
      "[WRITE] Saved result from sample_10_state_county_county_desired_10ppc_300_size_seed_42.pkl to /home/libe2152/optimizedsampling/0_results/usavars/treecover/cluster_sampling_r2_scores.csv\n",
      "Fitting regression...\n",
      "NUM SAMPLES: 300\n",
      "Best alpha: 46.41588833612782\n"
     ]
    },
    {
     "name": "stderr",
     "output_type": "stream",
     "text": [
      "Processing samples:   9%|▉         | 38/401 [02:19<13:08,  2.17s/it]"
     ]
    },
    {
     "name": "stdout",
     "output_type": "stream",
     "text": [
      "0.6826089303732525\n",
      "[WRITE] Saved result from sample_10_state_county_county_desired_10ppc_300_size_seed_456.pkl to /home/libe2152/optimizedsampling/0_results/usavars/treecover/cluster_sampling_r2_scores.csv\n",
      "Fitting regression...\n",
      "NUM SAMPLES: 300\n",
      "Best alpha: 46.41588833612782\n"
     ]
    },
    {
     "name": "stderr",
     "output_type": "stream",
     "text": [
      "Processing samples:  10%|▉         | 39/401 [02:21<13:16,  2.20s/it]"
     ]
    },
    {
     "name": "stdout",
     "output_type": "stream",
     "text": [
      "0.7859280947027714\n",
      "[WRITE] Saved result from sample_10_state_county_county_desired_10ppc_300_size_seed_5678.pkl to /home/libe2152/optimizedsampling/0_results/usavars/treecover/cluster_sampling_r2_scores.csv\n",
      "Fitting regression...\n",
      "NUM SAMPLES: 300\n",
      "Best alpha: 46.41588833612782\n"
     ]
    },
    {
     "name": "stderr",
     "output_type": "stream",
     "text": [
      "Processing samples:  10%|▉         | 40/401 [02:23<13:03,  2.17s/it]"
     ]
    },
    {
     "name": "stdout",
     "output_type": "stream",
     "text": [
      "0.7636622275588374\n",
      "[WRITE] Saved result from sample_10_state_county_county_desired_10ppc_300_size_seed_789.pkl to /home/libe2152/optimizedsampling/0_results/usavars/treecover/cluster_sampling_r2_scores.csv\n",
      "Fitting regression...\n",
      "NUM SAMPLES: 300\n",
      "Best alpha: 3.593813663804626\n"
     ]
    },
    {
     "name": "stderr",
     "output_type": "stream",
     "text": [
      "Processing samples:  10%|█         | 41/401 [02:25<13:05,  2.18s/it]"
     ]
    },
    {
     "name": "stdout",
     "output_type": "stream",
     "text": [
      "0.7670542515828375\n",
      "[WRITE] Saved result from sample_10_state_county_county_desired_10ppc_300_size_seed_9101.pkl to /home/libe2152/optimizedsampling/0_results/usavars/treecover/cluster_sampling_r2_scores.csv\n",
      "Fitting regression...\n",
      "NUM SAMPLES: 400\n",
      "Best alpha: 46.41588833612782\n"
     ]
    },
    {
     "name": "stderr",
     "output_type": "stream",
     "text": [
      "Processing samples:  10%|█         | 42/401 [02:29<14:49,  2.48s/it]"
     ]
    },
    {
     "name": "stdout",
     "output_type": "stream",
     "text": [
      "0.6444751459068301\n",
      "[WRITE] Saved result from sample_10_state_county_county_desired_10ppc_400_size_seed_1.pkl to /home/libe2152/optimizedsampling/0_results/usavars/treecover/cluster_sampling_r2_scores.csv\n",
      "Fitting regression...\n",
      "NUM SAMPLES: 400\n",
      "Best alpha: 3.593813663804626\n"
     ]
    },
    {
     "name": "stderr",
     "output_type": "stream",
     "text": [
      "Processing samples:  11%|█         | 43/401 [02:32<16:12,  2.72s/it]"
     ]
    },
    {
     "name": "stdout",
     "output_type": "stream",
     "text": [
      "0.7562264585776745\n",
      "[WRITE] Saved result from sample_10_state_county_county_desired_10ppc_400_size_seed_1213.pkl to /home/libe2152/optimizedsampling/0_results/usavars/treecover/cluster_sampling_r2_scores.csv\n",
      "Fitting regression...\n",
      "NUM SAMPLES: 400\n",
      "Best alpha: 46.41588833612782\n"
     ]
    },
    {
     "name": "stderr",
     "output_type": "stream",
     "text": [
      "Processing samples:  11%|█         | 44/401 [02:35<16:58,  2.85s/it]"
     ]
    },
    {
     "name": "stdout",
     "output_type": "stream",
     "text": [
      "0.6483166222791896\n",
      "[WRITE] Saved result from sample_10_state_county_county_desired_10ppc_400_size_seed_123.pkl to /home/libe2152/optimizedsampling/0_results/usavars/treecover/cluster_sampling_r2_scores.csv\n",
      "Fitting regression...\n",
      "NUM SAMPLES: 400\n",
      "Best alpha: 3.593813663804626\n"
     ]
    },
    {
     "name": "stderr",
     "output_type": "stream",
     "text": [
      "Processing samples:  11%|█         | 45/401 [02:38<17:38,  2.97s/it]"
     ]
    },
    {
     "name": "stdout",
     "output_type": "stream",
     "text": [
      "0.7763368770446384\n",
      "[WRITE] Saved result from sample_10_state_county_county_desired_10ppc_400_size_seed_1234.pkl to /home/libe2152/optimizedsampling/0_results/usavars/treecover/cluster_sampling_r2_scores.csv\n",
      "Fitting regression...\n",
      "NUM SAMPLES: 400\n",
      "Best alpha: 3.593813663804626\n"
     ]
    },
    {
     "name": "stderr",
     "output_type": "stream",
     "text": [
      "Processing samples:  11%|█▏        | 46/401 [02:41<16:54,  2.86s/it]"
     ]
    },
    {
     "name": "stdout",
     "output_type": "stream",
     "text": [
      "0.7321651758560372\n",
      "[WRITE] Saved result from sample_10_state_county_county_desired_10ppc_400_size_seed_1415.pkl to /home/libe2152/optimizedsampling/0_results/usavars/treecover/cluster_sampling_r2_scores.csv\n",
      "Fitting regression...\n",
      "NUM SAMPLES: 400\n",
      "Best alpha: 46.41588833612782\n"
     ]
    },
    {
     "name": "stderr",
     "output_type": "stream",
     "text": [
      "Processing samples:  12%|█▏        | 47/401 [02:43<16:25,  2.79s/it]"
     ]
    },
    {
     "name": "stdout",
     "output_type": "stream",
     "text": [
      "0.5922758676238291\n",
      "[WRITE] Saved result from sample_10_state_county_county_desired_10ppc_400_size_seed_42.pkl to /home/libe2152/optimizedsampling/0_results/usavars/treecover/cluster_sampling_r2_scores.csv\n",
      "Fitting regression...\n",
      "NUM SAMPLES: 400\n",
      "Best alpha: 46.41588833612782\n"
     ]
    },
    {
     "name": "stderr",
     "output_type": "stream",
     "text": [
      "Processing samples:  12%|█▏        | 48/401 [02:47<17:37,  3.00s/it]"
     ]
    },
    {
     "name": "stdout",
     "output_type": "stream",
     "text": [
      "0.7314444025818874\n",
      "[WRITE] Saved result from sample_10_state_county_county_desired_10ppc_400_size_seed_456.pkl to /home/libe2152/optimizedsampling/0_results/usavars/treecover/cluster_sampling_r2_scores.csv\n",
      "Fitting regression...\n",
      "NUM SAMPLES: 400\n",
      "Best alpha: 3.593813663804626\n"
     ]
    },
    {
     "name": "stderr",
     "output_type": "stream",
     "text": [
      "Processing samples:  12%|█▏        | 49/401 [02:50<17:02,  2.91s/it]"
     ]
    },
    {
     "name": "stdout",
     "output_type": "stream",
     "text": [
      "0.7541910539267718\n",
      "[WRITE] Saved result from sample_10_state_county_county_desired_10ppc_400_size_seed_5678.pkl to /home/libe2152/optimizedsampling/0_results/usavars/treecover/cluster_sampling_r2_scores.csv\n",
      "Fitting regression...\n",
      "NUM SAMPLES: 400\n",
      "Best alpha: 3.593813663804626\n"
     ]
    },
    {
     "name": "stderr",
     "output_type": "stream",
     "text": [
      "Processing samples:  12%|█▏        | 50/401 [02:53<17:41,  3.03s/it]"
     ]
    },
    {
     "name": "stdout",
     "output_type": "stream",
     "text": [
      "0.7399201748378985\n",
      "[WRITE] Saved result from sample_10_state_county_county_desired_10ppc_400_size_seed_789.pkl to /home/libe2152/optimizedsampling/0_results/usavars/treecover/cluster_sampling_r2_scores.csv\n",
      "Fitting regression...\n",
      "NUM SAMPLES: 400\n",
      "Best alpha: 3.593813663804626\n"
     ]
    },
    {
     "name": "stderr",
     "output_type": "stream",
     "text": [
      "Processing samples:  13%|█▎        | 51/401 [02:56<17:48,  3.05s/it]"
     ]
    },
    {
     "name": "stdout",
     "output_type": "stream",
     "text": [
      "0.7766307168931134\n",
      "[WRITE] Saved result from sample_10_state_county_county_desired_10ppc_400_size_seed_9101.pkl to /home/libe2152/optimizedsampling/0_results/usavars/treecover/cluster_sampling_r2_scores.csv\n",
      "Fitting regression...\n",
      "NUM SAMPLES: 500\n",
      "Best alpha: 3.593813663804626\n"
     ]
    },
    {
     "name": "stderr",
     "output_type": "stream",
     "text": [
      "Processing samples:  13%|█▎        | 52/401 [03:00<19:01,  3.27s/it]"
     ]
    },
    {
     "name": "stdout",
     "output_type": "stream",
     "text": [
      "0.6934974547554316\n",
      "[WRITE] Saved result from sample_10_state_county_county_desired_10ppc_500_size_seed_1.pkl to /home/libe2152/optimizedsampling/0_results/usavars/treecover/cluster_sampling_r2_scores.csv\n",
      "Fitting regression...\n",
      "NUM SAMPLES: 500\n",
      "Best alpha: 3.593813663804626\n"
     ]
    },
    {
     "name": "stderr",
     "output_type": "stream",
     "text": [
      "Processing samples:  13%|█▎        | 53/401 [03:04<19:47,  3.41s/it]"
     ]
    },
    {
     "name": "stdout",
     "output_type": "stream",
     "text": [
      "0.753607636028546\n",
      "[WRITE] Saved result from sample_10_state_county_county_desired_10ppc_500_size_seed_1213.pkl to /home/libe2152/optimizedsampling/0_results/usavars/treecover/cluster_sampling_r2_scores.csv\n",
      "Fitting regression...\n",
      "NUM SAMPLES: 500\n",
      "Best alpha: 46.41588833612782\n"
     ]
    },
    {
     "name": "stderr",
     "output_type": "stream",
     "text": [
      "Processing samples:  13%|█▎        | 54/401 [03:07<19:52,  3.44s/it]"
     ]
    },
    {
     "name": "stdout",
     "output_type": "stream",
     "text": [
      "0.678833161766561\n",
      "[WRITE] Saved result from sample_10_state_county_county_desired_10ppc_500_size_seed_123.pkl to /home/libe2152/optimizedsampling/0_results/usavars/treecover/cluster_sampling_r2_scores.csv\n",
      "Fitting regression...\n",
      "NUM SAMPLES: 500\n",
      "Best alpha: 3.593813663804626\n"
     ]
    },
    {
     "name": "stderr",
     "output_type": "stream",
     "text": [
      "Processing samples:  14%|█▎        | 55/401 [03:13<24:09,  4.19s/it]"
     ]
    },
    {
     "name": "stdout",
     "output_type": "stream",
     "text": [
      "0.8122957372865863\n",
      "[WRITE] Saved result from sample_10_state_county_county_desired_10ppc_500_size_seed_1234.pkl to /home/libe2152/optimizedsampling/0_results/usavars/treecover/cluster_sampling_r2_scores.csv\n",
      "Fitting regression...\n",
      "NUM SAMPLES: 500\n",
      "Best alpha: 3.593813663804626\n"
     ]
    },
    {
     "name": "stderr",
     "output_type": "stream",
     "text": [
      "Processing samples:  14%|█▍        | 56/401 [03:19<27:44,  4.83s/it]"
     ]
    },
    {
     "name": "stdout",
     "output_type": "stream",
     "text": [
      "0.7213948003752388\n",
      "[WRITE] Saved result from sample_10_state_county_county_desired_10ppc_500_size_seed_1415.pkl to /home/libe2152/optimizedsampling/0_results/usavars/treecover/cluster_sampling_r2_scores.csv\n",
      "Fitting regression...\n",
      "NUM SAMPLES: 500\n",
      "Best alpha: 3.593813663804626\n"
     ]
    },
    {
     "name": "stderr",
     "output_type": "stream",
     "text": [
      "Processing samples:  14%|█▍        | 57/401 [03:23<26:12,  4.57s/it]"
     ]
    },
    {
     "name": "stdout",
     "output_type": "stream",
     "text": [
      "0.6528641279316315\n",
      "[WRITE] Saved result from sample_10_state_county_county_desired_10ppc_500_size_seed_42.pkl to /home/libe2152/optimizedsampling/0_results/usavars/treecover/cluster_sampling_r2_scores.csv\n",
      "Fitting regression...\n",
      "NUM SAMPLES: 500\n",
      "Best alpha: 3.593813663804626\n"
     ]
    },
    {
     "name": "stderr",
     "output_type": "stream",
     "text": [
      "Processing samples:  14%|█▍        | 58/401 [03:27<24:32,  4.29s/it]"
     ]
    },
    {
     "name": "stdout",
     "output_type": "stream",
     "text": [
      "0.7492159138545977\n",
      "[WRITE] Saved result from sample_10_state_county_county_desired_10ppc_500_size_seed_456.pkl to /home/libe2152/optimizedsampling/0_results/usavars/treecover/cluster_sampling_r2_scores.csv\n",
      "Fitting regression...\n",
      "NUM SAMPLES: 500\n",
      "Best alpha: 3.593813663804626\n"
     ]
    },
    {
     "name": "stderr",
     "output_type": "stream",
     "text": [
      "Processing samples:  15%|█▍        | 59/401 [03:31<23:51,  4.19s/it]"
     ]
    },
    {
     "name": "stdout",
     "output_type": "stream",
     "text": [
      "0.7692134455966273\n",
      "[WRITE] Saved result from sample_10_state_county_county_desired_10ppc_500_size_seed_5678.pkl to /home/libe2152/optimizedsampling/0_results/usavars/treecover/cluster_sampling_r2_scores.csv\n",
      "Fitting regression...\n",
      "NUM SAMPLES: 500\n",
      "Best alpha: 3.593813663804626\n"
     ]
    },
    {
     "name": "stderr",
     "output_type": "stream",
     "text": [
      "Processing samples:  15%|█▍        | 60/401 [03:35<23:47,  4.19s/it]"
     ]
    },
    {
     "name": "stdout",
     "output_type": "stream",
     "text": [
      "0.7894909075641797\n",
      "[WRITE] Saved result from sample_10_state_county_county_desired_10ppc_500_size_seed_789.pkl to /home/libe2152/optimizedsampling/0_results/usavars/treecover/cluster_sampling_r2_scores.csv\n",
      "Fitting regression...\n",
      "NUM SAMPLES: 500\n",
      "Best alpha: 3.593813663804626\n"
     ]
    },
    {
     "name": "stderr",
     "output_type": "stream",
     "text": [
      "Processing samples:  15%|█▌        | 61/401 [03:39<24:07,  4.26s/it]"
     ]
    },
    {
     "name": "stdout",
     "output_type": "stream",
     "text": [
      "0.7936674585654514\n",
      "[WRITE] Saved result from sample_10_state_county_county_desired_10ppc_500_size_seed_9101.pkl to /home/libe2152/optimizedsampling/0_results/usavars/treecover/cluster_sampling_r2_scores.csv\n",
      "Fitting regression...\n",
      "NUM SAMPLES: 600\n",
      "Best alpha: 46.41588833612782\n"
     ]
    },
    {
     "name": "stderr",
     "output_type": "stream",
     "text": [
      "Processing samples:  15%|█▌        | 62/401 [03:46<27:05,  4.80s/it]"
     ]
    },
    {
     "name": "stdout",
     "output_type": "stream",
     "text": [
      "0.7439181392900605\n",
      "[WRITE] Saved result from sample_10_state_county_county_desired_10ppc_600_size_seed_1.pkl to /home/libe2152/optimizedsampling/0_results/usavars/treecover/cluster_sampling_r2_scores.csv\n",
      "Fitting regression...\n",
      "NUM SAMPLES: 600\n",
      "Best alpha: 46.41588833612782\n"
     ]
    },
    {
     "name": "stderr",
     "output_type": "stream",
     "text": [
      "Processing samples:  16%|█▌        | 63/401 [03:51<28:42,  5.10s/it]"
     ]
    },
    {
     "name": "stdout",
     "output_type": "stream",
     "text": [
      "0.7337094633590988\n",
      "[WRITE] Saved result from sample_10_state_county_county_desired_10ppc_600_size_seed_1213.pkl to /home/libe2152/optimizedsampling/0_results/usavars/treecover/cluster_sampling_r2_scores.csv\n",
      "Fitting regression...\n",
      "NUM SAMPLES: 600\n",
      "Best alpha: 46.41588833612782\n"
     ]
    },
    {
     "name": "stderr",
     "output_type": "stream",
     "text": [
      "Processing samples:  16%|█▌        | 64/401 [03:59<32:58,  5.87s/it]"
     ]
    },
    {
     "name": "stdout",
     "output_type": "stream",
     "text": [
      "0.6920417859782988\n",
      "[WRITE] Saved result from sample_10_state_county_county_desired_10ppc_600_size_seed_123.pkl to /home/libe2152/optimizedsampling/0_results/usavars/treecover/cluster_sampling_r2_scores.csv\n",
      "Fitting regression...\n",
      "NUM SAMPLES: 600\n",
      "Best alpha: 3.593813663804626\n"
     ]
    },
    {
     "name": "stderr",
     "output_type": "stream",
     "text": [
      "Processing samples:  16%|█▌        | 65/401 [04:07<36:51,  6.58s/it]"
     ]
    },
    {
     "name": "stdout",
     "output_type": "stream",
     "text": [
      "0.8194125393669753\n",
      "[WRITE] Saved result from sample_10_state_county_county_desired_10ppc_600_size_seed_1234.pkl to /home/libe2152/optimizedsampling/0_results/usavars/treecover/cluster_sampling_r2_scores.csv\n",
      "Fitting regression...\n",
      "NUM SAMPLES: 600\n",
      "Best alpha: 3.593813663804626\n"
     ]
    },
    {
     "name": "stderr",
     "output_type": "stream",
     "text": [
      "Processing samples:  16%|█▋        | 66/401 [04:16<39:44,  7.12s/it]"
     ]
    },
    {
     "name": "stdout",
     "output_type": "stream",
     "text": [
      "0.7676674395973813\n",
      "[WRITE] Saved result from sample_10_state_county_county_desired_10ppc_600_size_seed_1415.pkl to /home/libe2152/optimizedsampling/0_results/usavars/treecover/cluster_sampling_r2_scores.csv\n",
      "Fitting regression...\n",
      "NUM SAMPLES: 600\n",
      "Best alpha: 3.593813663804626\n"
     ]
    },
    {
     "name": "stderr",
     "output_type": "stream",
     "text": [
      "Processing samples:  17%|█▋        | 67/401 [04:23<40:13,  7.23s/it]"
     ]
    },
    {
     "name": "stdout",
     "output_type": "stream",
     "text": [
      "0.7062552743282563\n",
      "[WRITE] Saved result from sample_10_state_county_county_desired_10ppc_600_size_seed_42.pkl to /home/libe2152/optimizedsampling/0_results/usavars/treecover/cluster_sampling_r2_scores.csv\n",
      "Fitting regression...\n",
      "NUM SAMPLES: 600\n",
      "Best alpha: 3.593813663804626\n"
     ]
    },
    {
     "name": "stderr",
     "output_type": "stream",
     "text": [
      "Processing samples:  17%|█▋        | 68/401 [04:28<36:54,  6.65s/it]"
     ]
    },
    {
     "name": "stdout",
     "output_type": "stream",
     "text": [
      "0.7796618692317809\n",
      "[WRITE] Saved result from sample_10_state_county_county_desired_10ppc_600_size_seed_456.pkl to /home/libe2152/optimizedsampling/0_results/usavars/treecover/cluster_sampling_r2_scores.csv\n",
      "Fitting regression...\n",
      "NUM SAMPLES: 600\n",
      "Best alpha: 3.593813663804626\n"
     ]
    },
    {
     "name": "stderr",
     "output_type": "stream",
     "text": [
      "Processing samples:  17%|█▋        | 69/401 [04:35<36:30,  6.60s/it]"
     ]
    },
    {
     "name": "stdout",
     "output_type": "stream",
     "text": [
      "0.7995047167954639\n",
      "[WRITE] Saved result from sample_10_state_county_county_desired_10ppc_600_size_seed_5678.pkl to /home/libe2152/optimizedsampling/0_results/usavars/treecover/cluster_sampling_r2_scores.csv\n",
      "Fitting regression...\n",
      "NUM SAMPLES: 600\n",
      "Best alpha: 3.593813663804626\n"
     ]
    },
    {
     "name": "stderr",
     "output_type": "stream",
     "text": [
      "Processing samples:  17%|█▋        | 70/401 [04:41<34:54,  6.33s/it]"
     ]
    },
    {
     "name": "stdout",
     "output_type": "stream",
     "text": [
      "0.7744141355218267\n",
      "[WRITE] Saved result from sample_10_state_county_county_desired_10ppc_600_size_seed_789.pkl to /home/libe2152/optimizedsampling/0_results/usavars/treecover/cluster_sampling_r2_scores.csv\n",
      "Fitting regression...\n",
      "NUM SAMPLES: 600\n",
      "Best alpha: 3.593813663804626\n"
     ]
    },
    {
     "name": "stderr",
     "output_type": "stream",
     "text": [
      "Processing samples:  18%|█▊        | 71/401 [04:45<32:16,  5.87s/it]"
     ]
    },
    {
     "name": "stdout",
     "output_type": "stream",
     "text": [
      "0.8051941978790863\n",
      "[WRITE] Saved result from sample_10_state_county_county_desired_10ppc_600_size_seed_9101.pkl to /home/libe2152/optimizedsampling/0_results/usavars/treecover/cluster_sampling_r2_scores.csv\n",
      "Fitting regression...\n",
      "NUM SAMPLES: 700\n",
      "Best alpha: 46.41588833612782\n"
     ]
    },
    {
     "name": "stderr",
     "output_type": "stream",
     "text": [
      "Processing samples:  18%|█▊        | 72/401 [04:51<31:49,  5.81s/it]"
     ]
    },
    {
     "name": "stdout",
     "output_type": "stream",
     "text": [
      "0.7217947176914156\n",
      "[WRITE] Saved result from sample_10_state_county_county_desired_10ppc_700_size_seed_1.pkl to /home/libe2152/optimizedsampling/0_results/usavars/treecover/cluster_sampling_r2_scores.csv\n",
      "Fitting regression...\n",
      "NUM SAMPLES: 700\n",
      "Best alpha: 3.593813663804626\n"
     ]
    },
    {
     "name": "stderr",
     "output_type": "stream",
     "text": [
      "Processing samples:  18%|█▊        | 73/401 [04:56<31:04,  5.68s/it]"
     ]
    },
    {
     "name": "stdout",
     "output_type": "stream",
     "text": [
      "0.7981967617626159\n",
      "[WRITE] Saved result from sample_10_state_county_county_desired_10ppc_700_size_seed_1213.pkl to /home/libe2152/optimizedsampling/0_results/usavars/treecover/cluster_sampling_r2_scores.csv\n",
      "Fitting regression...\n",
      "NUM SAMPLES: 700\n",
      "Best alpha: 46.41588833612782\n"
     ]
    },
    {
     "name": "stderr",
     "output_type": "stream",
     "text": [
      "Processing samples:  18%|█▊        | 74/401 [05:02<30:39,  5.62s/it]"
     ]
    },
    {
     "name": "stdout",
     "output_type": "stream",
     "text": [
      "0.703448797022749\n",
      "[WRITE] Saved result from sample_10_state_county_county_desired_10ppc_700_size_seed_123.pkl to /home/libe2152/optimizedsampling/0_results/usavars/treecover/cluster_sampling_r2_scores.csv\n",
      "Fitting regression...\n",
      "NUM SAMPLES: 700\n",
      "Best alpha: 3.593813663804626\n"
     ]
    },
    {
     "name": "stderr",
     "output_type": "stream",
     "text": [
      "Processing samples:  19%|█▊        | 75/401 [05:08<32:03,  5.90s/it]"
     ]
    },
    {
     "name": "stdout",
     "output_type": "stream",
     "text": [
      "0.8270706615407994\n",
      "[WRITE] Saved result from sample_10_state_county_county_desired_10ppc_700_size_seed_1234.pkl to /home/libe2152/optimizedsampling/0_results/usavars/treecover/cluster_sampling_r2_scores.csv\n",
      "Fitting regression...\n",
      "NUM SAMPLES: 700\n",
      "Best alpha: 3.593813663804626\n"
     ]
    },
    {
     "name": "stderr",
     "output_type": "stream",
     "text": [
      "Processing samples:  19%|█▉        | 76/401 [05:14<31:57,  5.90s/it]"
     ]
    },
    {
     "name": "stdout",
     "output_type": "stream",
     "text": [
      "0.7891909375155287\n",
      "[WRITE] Saved result from sample_10_state_county_county_desired_10ppc_700_size_seed_1415.pkl to /home/libe2152/optimizedsampling/0_results/usavars/treecover/cluster_sampling_r2_scores.csv\n",
      "Fitting regression...\n",
      "NUM SAMPLES: 700\n",
      "Best alpha: 3.593813663804626\n"
     ]
    },
    {
     "name": "stderr",
     "output_type": "stream",
     "text": [
      "Processing samples:  19%|█▉        | 77/401 [05:19<30:37,  5.67s/it]"
     ]
    },
    {
     "name": "stdout",
     "output_type": "stream",
     "text": [
      "0.715639638492658\n",
      "[WRITE] Saved result from sample_10_state_county_county_desired_10ppc_700_size_seed_42.pkl to /home/libe2152/optimizedsampling/0_results/usavars/treecover/cluster_sampling_r2_scores.csv\n",
      "Fitting regression...\n",
      "NUM SAMPLES: 700\n",
      "Best alpha: 3.593813663804626\n"
     ]
    },
    {
     "name": "stderr",
     "output_type": "stream",
     "text": [
      "Processing samples:  19%|█▉        | 78/401 [05:25<30:42,  5.70s/it]"
     ]
    },
    {
     "name": "stdout",
     "output_type": "stream",
     "text": [
      "0.792959667626963\n",
      "[WRITE] Saved result from sample_10_state_county_county_desired_10ppc_700_size_seed_456.pkl to /home/libe2152/optimizedsampling/0_results/usavars/treecover/cluster_sampling_r2_scores.csv\n",
      "Fitting regression...\n",
      "NUM SAMPLES: 700\n",
      "Best alpha: 3.593813663804626\n"
     ]
    },
    {
     "name": "stderr",
     "output_type": "stream",
     "text": [
      "Processing samples:  20%|█▉        | 79/401 [05:31<30:46,  5.73s/it]"
     ]
    },
    {
     "name": "stdout",
     "output_type": "stream",
     "text": [
      "0.7930145097742745\n",
      "[WRITE] Saved result from sample_10_state_county_county_desired_10ppc_700_size_seed_5678.pkl to /home/libe2152/optimizedsampling/0_results/usavars/treecover/cluster_sampling_r2_scores.csv\n",
      "Fitting regression...\n",
      "NUM SAMPLES: 700\n",
      "Best alpha: 3.593813663804626\n"
     ]
    },
    {
     "name": "stderr",
     "output_type": "stream",
     "text": [
      "Processing samples:  20%|█▉        | 80/401 [05:37<30:54,  5.78s/it]"
     ]
    },
    {
     "name": "stdout",
     "output_type": "stream",
     "text": [
      "0.774015968509955\n",
      "[WRITE] Saved result from sample_10_state_county_county_desired_10ppc_700_size_seed_789.pkl to /home/libe2152/optimizedsampling/0_results/usavars/treecover/cluster_sampling_r2_scores.csv\n",
      "Fitting regression...\n",
      "NUM SAMPLES: 700\n",
      "Best alpha: 3.593813663804626\n"
     ]
    },
    {
     "name": "stderr",
     "output_type": "stream",
     "text": [
      "Processing samples:  20%|██        | 81/401 [05:43<31:34,  5.92s/it]"
     ]
    },
    {
     "name": "stdout",
     "output_type": "stream",
     "text": [
      "0.8103597847856396\n",
      "[WRITE] Saved result from sample_10_state_county_county_desired_10ppc_700_size_seed_9101.pkl to /home/libe2152/optimizedsampling/0_results/usavars/treecover/cluster_sampling_r2_scores.csv\n",
      "Fitting regression...\n",
      "NUM SAMPLES: 800\n",
      "Best alpha: 3.593813663804626\n"
     ]
    },
    {
     "name": "stderr",
     "output_type": "stream",
     "text": [
      "Processing samples:  20%|██        | 82/401 [05:51<34:22,  6.47s/it]"
     ]
    },
    {
     "name": "stdout",
     "output_type": "stream",
     "text": [
      "0.7750920563137443\n",
      "[WRITE] Saved result from sample_10_state_county_county_desired_10ppc_800_size_seed_1.pkl to /home/libe2152/optimizedsampling/0_results/usavars/treecover/cluster_sampling_r2_scores.csv\n",
      "Fitting regression...\n",
      "NUM SAMPLES: 800\n",
      "Best alpha: 3.593813663804626\n"
     ]
    },
    {
     "name": "stderr",
     "output_type": "stream",
     "text": [
      "Processing samples:  21%|██        | 83/401 [05:59<36:24,  6.87s/it]"
     ]
    },
    {
     "name": "stdout",
     "output_type": "stream",
     "text": [
      "0.8093292921586864\n",
      "[WRITE] Saved result from sample_10_state_county_county_desired_10ppc_800_size_seed_1213.pkl to /home/libe2152/optimizedsampling/0_results/usavars/treecover/cluster_sampling_r2_scores.csv\n",
      "Fitting regression...\n",
      "NUM SAMPLES: 800\n",
      "Best alpha: 3.593813663804626\n"
     ]
    },
    {
     "name": "stderr",
     "output_type": "stream",
     "text": [
      "Processing samples:  21%|██        | 84/401 [06:06<36:46,  6.96s/it]"
     ]
    },
    {
     "name": "stdout",
     "output_type": "stream",
     "text": [
      "0.7478701517760347\n",
      "[WRITE] Saved result from sample_10_state_county_county_desired_10ppc_800_size_seed_123.pkl to /home/libe2152/optimizedsampling/0_results/usavars/treecover/cluster_sampling_r2_scores.csv\n",
      "Fitting regression...\n",
      "NUM SAMPLES: 800\n",
      "Best alpha: 0.2782559402207126\n"
     ]
    },
    {
     "name": "stderr",
     "output_type": "stream",
     "text": [
      "Processing samples:  21%|██        | 85/401 [06:13<37:23,  7.10s/it]"
     ]
    },
    {
     "name": "stdout",
     "output_type": "stream",
     "text": [
      "0.8102694145301318\n",
      "[WRITE] Saved result from sample_10_state_county_county_desired_10ppc_800_size_seed_1234.pkl to /home/libe2152/optimizedsampling/0_results/usavars/treecover/cluster_sampling_r2_scores.csv\n",
      "Fitting regression...\n",
      "NUM SAMPLES: 800\n",
      "Best alpha: 3.593813663804626\n"
     ]
    },
    {
     "name": "stderr",
     "output_type": "stream",
     "text": [
      "Processing samples:  21%|██▏       | 86/401 [06:21<38:20,  7.30s/it]"
     ]
    },
    {
     "name": "stdout",
     "output_type": "stream",
     "text": [
      "0.788031595868255\n",
      "[WRITE] Saved result from sample_10_state_county_county_desired_10ppc_800_size_seed_1415.pkl to /home/libe2152/optimizedsampling/0_results/usavars/treecover/cluster_sampling_r2_scores.csv\n",
      "Fitting regression...\n",
      "NUM SAMPLES: 800\n",
      "Best alpha: 3.593813663804626\n"
     ]
    },
    {
     "name": "stderr",
     "output_type": "stream",
     "text": [
      "Processing samples:  22%|██▏       | 87/401 [06:29<38:46,  7.41s/it]"
     ]
    },
    {
     "name": "stdout",
     "output_type": "stream",
     "text": [
      "0.7423392503644834\n",
      "[WRITE] Saved result from sample_10_state_county_county_desired_10ppc_800_size_seed_42.pkl to /home/libe2152/optimizedsampling/0_results/usavars/treecover/cluster_sampling_r2_scores.csv\n",
      "Fitting regression...\n",
      "NUM SAMPLES: 800\n",
      "Best alpha: 3.593813663804626\n"
     ]
    },
    {
     "name": "stderr",
     "output_type": "stream",
     "text": [
      "Processing samples:  22%|██▏       | 88/401 [06:37<39:55,  7.65s/it]"
     ]
    },
    {
     "name": "stdout",
     "output_type": "stream",
     "text": [
      "0.7756624311828253\n",
      "[WRITE] Saved result from sample_10_state_county_county_desired_10ppc_800_size_seed_456.pkl to /home/libe2152/optimizedsampling/0_results/usavars/treecover/cluster_sampling_r2_scores.csv\n",
      "Fitting regression...\n",
      "NUM SAMPLES: 800\n",
      "Best alpha: 3.593813663804626\n"
     ]
    },
    {
     "name": "stderr",
     "output_type": "stream",
     "text": [
      "Processing samples:  22%|██▏       | 89/401 [06:45<40:53,  7.86s/it]"
     ]
    },
    {
     "name": "stdout",
     "output_type": "stream",
     "text": [
      "0.800593875090186\n",
      "[WRITE] Saved result from sample_10_state_county_county_desired_10ppc_800_size_seed_5678.pkl to /home/libe2152/optimizedsampling/0_results/usavars/treecover/cluster_sampling_r2_scores.csv\n",
      "Fitting regression...\n",
      "NUM SAMPLES: 800\n",
      "Best alpha: 3.593813663804626\n"
     ]
    },
    {
     "name": "stderr",
     "output_type": "stream",
     "text": [
      "Processing samples:  22%|██▏       | 90/401 [06:53<40:54,  7.89s/it]"
     ]
    },
    {
     "name": "stdout",
     "output_type": "stream",
     "text": [
      "0.7886473805894313\n",
      "[WRITE] Saved result from sample_10_state_county_county_desired_10ppc_800_size_seed_789.pkl to /home/libe2152/optimizedsampling/0_results/usavars/treecover/cluster_sampling_r2_scores.csv\n",
      "Fitting regression...\n",
      "NUM SAMPLES: 800\n",
      "Best alpha: 3.593813663804626\n"
     ]
    },
    {
     "name": "stderr",
     "output_type": "stream",
     "text": [
      "Processing samples:  23%|██▎       | 91/401 [07:01<40:39,  7.87s/it]"
     ]
    },
    {
     "name": "stdout",
     "output_type": "stream",
     "text": [
      "0.8136421367438162\n",
      "[WRITE] Saved result from sample_10_state_county_county_desired_10ppc_800_size_seed_9101.pkl to /home/libe2152/optimizedsampling/0_results/usavars/treecover/cluster_sampling_r2_scores.csv\n",
      "Fitting regression...\n",
      "NUM SAMPLES: 900\n",
      "Best alpha: 3.593813663804626\n"
     ]
    },
    {
     "name": "stderr",
     "output_type": "stream",
     "text": [
      "Processing samples:  23%|██▎       | 92/401 [07:14<48:55,  9.50s/it]"
     ]
    },
    {
     "name": "stdout",
     "output_type": "stream",
     "text": [
      "0.7859406960381954\n",
      "[WRITE] Saved result from sample_10_state_county_county_desired_10ppc_900_size_seed_1.pkl to /home/libe2152/optimizedsampling/0_results/usavars/treecover/cluster_sampling_r2_scores.csv\n",
      "Fitting regression...\n",
      "NUM SAMPLES: 900\n",
      "Best alpha: 3.593813663804626\n"
     ]
    },
    {
     "name": "stderr",
     "output_type": "stream",
     "text": [
      "Processing samples:  23%|██▎       | 93/401 [07:23<47:04,  9.17s/it]"
     ]
    },
    {
     "name": "stdout",
     "output_type": "stream",
     "text": [
      "0.7993597682395648\n",
      "[WRITE] Saved result from sample_10_state_county_county_desired_10ppc_900_size_seed_1213.pkl to /home/libe2152/optimizedsampling/0_results/usavars/treecover/cluster_sampling_r2_scores.csv\n",
      "Fitting regression...\n",
      "NUM SAMPLES: 900\n",
      "Best alpha: 3.593813663804626\n"
     ]
    },
    {
     "name": "stderr",
     "output_type": "stream",
     "text": [
      "Processing samples:  23%|██▎       | 94/401 [07:32<46:09,  9.02s/it]"
     ]
    },
    {
     "name": "stdout",
     "output_type": "stream",
     "text": [
      "0.758316863412069\n",
      "[WRITE] Saved result from sample_10_state_county_county_desired_10ppc_900_size_seed_123.pkl to /home/libe2152/optimizedsampling/0_results/usavars/treecover/cluster_sampling_r2_scores.csv\n",
      "Fitting regression...\n",
      "NUM SAMPLES: 900\n",
      "Best alpha: 3.593813663804626\n"
     ]
    },
    {
     "name": "stderr",
     "output_type": "stream",
     "text": [
      "Processing samples:  24%|██▎       | 95/401 [07:40<45:05,  8.84s/it]"
     ]
    },
    {
     "name": "stdout",
     "output_type": "stream",
     "text": [
      "0.8071127630812448\n",
      "[WRITE] Saved result from sample_10_state_county_county_desired_10ppc_900_size_seed_1234.pkl to /home/libe2152/optimizedsampling/0_results/usavars/treecover/cluster_sampling_r2_scores.csv\n",
      "Fitting regression...\n",
      "NUM SAMPLES: 900\n",
      "Best alpha: 3.593813663804626\n"
     ]
    },
    {
     "name": "stderr",
     "output_type": "stream",
     "text": [
      "Processing samples:  24%|██▍       | 96/401 [07:49<44:33,  8.77s/it]"
     ]
    },
    {
     "name": "stdout",
     "output_type": "stream",
     "text": [
      "0.7973811283327009\n",
      "[WRITE] Saved result from sample_10_state_county_county_desired_10ppc_900_size_seed_1415.pkl to /home/libe2152/optimizedsampling/0_results/usavars/treecover/cluster_sampling_r2_scores.csv\n",
      "Fitting regression...\n",
      "NUM SAMPLES: 900\n",
      "Best alpha: 3.593813663804626\n"
     ]
    },
    {
     "name": "stderr",
     "output_type": "stream",
     "text": [
      "Processing samples:  24%|██▍       | 97/401 [08:01<50:12,  9.91s/it]"
     ]
    },
    {
     "name": "stdout",
     "output_type": "stream",
     "text": [
      "0.7263417691264034\n",
      "[WRITE] Saved result from sample_10_state_county_county_desired_10ppc_900_size_seed_42.pkl to /home/libe2152/optimizedsampling/0_results/usavars/treecover/cluster_sampling_r2_scores.csv\n",
      "Fitting regression...\n",
      "NUM SAMPLES: 900\n",
      "Best alpha: 3.593813663804626\n"
     ]
    },
    {
     "name": "stderr",
     "output_type": "stream",
     "text": [
      "Processing samples:  24%|██▍       | 98/401 [08:17<58:50, 11.65s/it]"
     ]
    },
    {
     "name": "stdout",
     "output_type": "stream",
     "text": [
      "0.7707186522111716\n",
      "[WRITE] Saved result from sample_10_state_county_county_desired_10ppc_900_size_seed_456.pkl to /home/libe2152/optimizedsampling/0_results/usavars/treecover/cluster_sampling_r2_scores.csv\n",
      "Fitting regression...\n",
      "NUM SAMPLES: 900\n",
      "Best alpha: 3.593813663804626\n"
     ]
    },
    {
     "name": "stderr",
     "output_type": "stream",
     "text": [
      "Processing samples:  25%|██▍       | 99/401 [08:26<54:15, 10.78s/it]"
     ]
    },
    {
     "name": "stdout",
     "output_type": "stream",
     "text": [
      "0.8050254554479486\n",
      "[WRITE] Saved result from sample_10_state_county_county_desired_10ppc_900_size_seed_5678.pkl to /home/libe2152/optimizedsampling/0_results/usavars/treecover/cluster_sampling_r2_scores.csv\n",
      "Fitting regression...\n",
      "NUM SAMPLES: 900\n",
      "Best alpha: 3.593813663804626\n"
     ]
    },
    {
     "name": "stderr",
     "output_type": "stream",
     "text": [
      "Processing samples:  25%|██▍       | 100/401 [08:34<50:27, 10.06s/it]"
     ]
    },
    {
     "name": "stdout",
     "output_type": "stream",
     "text": [
      "0.7957539093003738\n",
      "[WRITE] Saved result from sample_10_state_county_county_desired_10ppc_900_size_seed_789.pkl to /home/libe2152/optimizedsampling/0_results/usavars/treecover/cluster_sampling_r2_scores.csv\n",
      "Fitting regression...\n",
      "NUM SAMPLES: 900\n",
      "Best alpha: 3.593813663804626\n"
     ]
    },
    {
     "name": "stderr",
     "output_type": "stream",
     "text": [
      "Processing samples:  25%|██▌       | 101/401 [08:42<47:33,  9.51s/it]"
     ]
    },
    {
     "name": "stdout",
     "output_type": "stream",
     "text": [
      "0.8120278574970566\n",
      "[WRITE] Saved result from sample_10_state_county_county_desired_10ppc_900_size_seed_9101.pkl to /home/libe2152/optimizedsampling/0_results/usavars/treecover/cluster_sampling_r2_scores.csv\n",
      "Fitting regression...\n",
      "NUM SAMPLES: 1000\n",
      "Best alpha: 3.593813663804626\n"
     ]
    },
    {
     "name": "stderr",
     "output_type": "stream",
     "text": [
      "Processing samples:  25%|██▌       | 102/401 [08:51<45:44,  9.18s/it]"
     ]
    },
    {
     "name": "stdout",
     "output_type": "stream",
     "text": [
      "0.776717887149\n",
      "[WRITE] Saved result from sample_10_state_county_county_desired_25ppc_1000_size_seed_1.pkl to /home/libe2152/optimizedsampling/0_results/usavars/treecover/cluster_sampling_r2_scores.csv\n",
      "Fitting regression...\n",
      "NUM SAMPLES: 1000\n",
      "Best alpha: 3.593813663804626\n"
     ]
    },
    {
     "name": "stderr",
     "output_type": "stream",
     "text": [
      "Processing samples:  26%|██▌       | 103/401 [08:59<44:49,  9.03s/it]"
     ]
    },
    {
     "name": "stdout",
     "output_type": "stream",
     "text": [
      "0.7963264712552606\n",
      "[WRITE] Saved result from sample_10_state_county_county_desired_25ppc_1000_size_seed_1213.pkl to /home/libe2152/optimizedsampling/0_results/usavars/treecover/cluster_sampling_r2_scores.csv\n",
      "Fitting regression...\n",
      "NUM SAMPLES: 1000\n",
      "Best alpha: 3.593813663804626\n"
     ]
    },
    {
     "name": "stderr",
     "output_type": "stream",
     "text": [
      "Processing samples:  26%|██▌       | 104/401 [09:08<43:56,  8.88s/it]"
     ]
    },
    {
     "name": "stdout",
     "output_type": "stream",
     "text": [
      "0.7750994883789007\n",
      "[WRITE] Saved result from sample_10_state_county_county_desired_25ppc_1000_size_seed_123.pkl to /home/libe2152/optimizedsampling/0_results/usavars/treecover/cluster_sampling_r2_scores.csv\n",
      "Fitting regression...\n",
      "NUM SAMPLES: 1000\n",
      "Best alpha: 3.593813663804626\n"
     ]
    },
    {
     "name": "stderr",
     "output_type": "stream",
     "text": [
      "Processing samples:  26%|██▌       | 105/401 [09:17<43:47,  8.88s/it]"
     ]
    },
    {
     "name": "stdout",
     "output_type": "stream",
     "text": [
      "0.811965040320564\n",
      "[WRITE] Saved result from sample_10_state_county_county_desired_25ppc_1000_size_seed_1234.pkl to /home/libe2152/optimizedsampling/0_results/usavars/treecover/cluster_sampling_r2_scores.csv\n",
      "Fitting regression...\n",
      "NUM SAMPLES: 1000\n",
      "Best alpha: 3.593813663804626\n"
     ]
    },
    {
     "name": "stderr",
     "output_type": "stream",
     "text": [
      "Processing samples:  26%|██▋       | 106/401 [09:25<43:08,  8.78s/it]"
     ]
    },
    {
     "name": "stdout",
     "output_type": "stream",
     "text": [
      "0.7824026250166944\n",
      "[WRITE] Saved result from sample_10_state_county_county_desired_25ppc_1000_size_seed_1415.pkl to /home/libe2152/optimizedsampling/0_results/usavars/treecover/cluster_sampling_r2_scores.csv\n",
      "Fitting regression...\n",
      "NUM SAMPLES: 1000\n",
      "Best alpha: 3.593813663804626\n"
     ]
    },
    {
     "name": "stderr",
     "output_type": "stream",
     "text": [
      "Processing samples:  27%|██▋       | 107/401 [09:34<42:48,  8.74s/it]"
     ]
    },
    {
     "name": "stdout",
     "output_type": "stream",
     "text": [
      "0.7318288923119386\n",
      "[WRITE] Saved result from sample_10_state_county_county_desired_25ppc_1000_size_seed_42.pkl to /home/libe2152/optimizedsampling/0_results/usavars/treecover/cluster_sampling_r2_scores.csv\n",
      "Fitting regression...\n",
      "NUM SAMPLES: 1000\n",
      "Best alpha: 3.593813663804626\n"
     ]
    },
    {
     "name": "stderr",
     "output_type": "stream",
     "text": [
      "Processing samples:  27%|██▋       | 108/401 [09:43<43:01,  8.81s/it]"
     ]
    },
    {
     "name": "stdout",
     "output_type": "stream",
     "text": [
      "0.7939839706391122\n",
      "[WRITE] Saved result from sample_10_state_county_county_desired_25ppc_1000_size_seed_456.pkl to /home/libe2152/optimizedsampling/0_results/usavars/treecover/cluster_sampling_r2_scores.csv\n",
      "Fitting regression...\n",
      "NUM SAMPLES: 1000\n",
      "Best alpha: 3.593813663804626\n"
     ]
    },
    {
     "name": "stderr",
     "output_type": "stream",
     "text": [
      "Processing samples:  27%|██▋       | 109/401 [09:52<42:58,  8.83s/it]"
     ]
    },
    {
     "name": "stdout",
     "output_type": "stream",
     "text": [
      "0.7999736121021\n",
      "[WRITE] Saved result from sample_10_state_county_county_desired_25ppc_1000_size_seed_5678.pkl to /home/libe2152/optimizedsampling/0_results/usavars/treecover/cluster_sampling_r2_scores.csv\n",
      "Fitting regression...\n",
      "NUM SAMPLES: 1000\n",
      "Best alpha: 3.593813663804626\n"
     ]
    },
    {
     "name": "stderr",
     "output_type": "stream",
     "text": [
      "Processing samples:  27%|██▋       | 110/401 [10:00<42:26,  8.75s/it]"
     ]
    },
    {
     "name": "stdout",
     "output_type": "stream",
     "text": [
      "0.7949230437838852\n",
      "[WRITE] Saved result from sample_10_state_county_county_desired_25ppc_1000_size_seed_789.pkl to /home/libe2152/optimizedsampling/0_results/usavars/treecover/cluster_sampling_r2_scores.csv\n",
      "Fitting regression...\n",
      "NUM SAMPLES: 1000\n",
      "Best alpha: 3.593813663804626\n"
     ]
    },
    {
     "name": "stderr",
     "output_type": "stream",
     "text": [
      "Processing samples:  28%|██▊       | 111/401 [10:09<42:13,  8.74s/it]"
     ]
    },
    {
     "name": "stdout",
     "output_type": "stream",
     "text": [
      "0.8272065545021685\n",
      "[WRITE] Saved result from sample_10_state_county_county_desired_25ppc_1000_size_seed_9101.pkl to /home/libe2152/optimizedsampling/0_results/usavars/treecover/cluster_sampling_r2_scores.csv\n",
      "Fitting regression...\n",
      "NUM SAMPLES: 100\n",
      "Best alpha: 46.41588833612782\n"
     ]
    },
    {
     "name": "stderr",
     "output_type": "stream",
     "text": [
      "Processing samples:  28%|██▊       | 112/401 [10:10<30:25,  6.32s/it]"
     ]
    },
    {
     "name": "stdout",
     "output_type": "stream",
     "text": [
      "0.6411853940874179\n",
      "[WRITE] Saved result from sample_10_state_county_county_desired_25ppc_100_size_seed_1.pkl to /home/libe2152/optimizedsampling/0_results/usavars/treecover/cluster_sampling_r2_scores.csv\n",
      "Fitting regression...\n",
      "NUM SAMPLES: 100\n",
      "Best alpha: 46.41588833612782\n"
     ]
    },
    {
     "name": "stderr",
     "output_type": "stream",
     "text": [
      "Processing samples:  28%|██▊       | 113/401 [10:10<22:11,  4.62s/it]"
     ]
    },
    {
     "name": "stdout",
     "output_type": "stream",
     "text": [
      "0.5775485031466217\n",
      "[WRITE] Saved result from sample_10_state_county_county_desired_25ppc_100_size_seed_1213.pkl to /home/libe2152/optimizedsampling/0_results/usavars/treecover/cluster_sampling_r2_scores.csv\n",
      "Fitting regression...\n",
      "NUM SAMPLES: 100\n",
      "Best alpha: 46.41588833612782\n"
     ]
    },
    {
     "name": "stderr",
     "output_type": "stream",
     "text": [
      "Processing samples:  28%|██▊       | 114/401 [10:11<16:23,  3.43s/it]"
     ]
    },
    {
     "name": "stdout",
     "output_type": "stream",
     "text": [
      "0.48030552458725106\n",
      "[WRITE] Saved result from sample_10_state_county_county_desired_25ppc_100_size_seed_123.pkl to /home/libe2152/optimizedsampling/0_results/usavars/treecover/cluster_sampling_r2_scores.csv\n",
      "Fitting regression...\n",
      "NUM SAMPLES: 100\n",
      "Best alpha: 46.41588833612782\n"
     ]
    },
    {
     "name": "stderr",
     "output_type": "stream",
     "text": [
      "Processing samples:  29%|██▊       | 115/401 [10:12<12:20,  2.59s/it]"
     ]
    },
    {
     "name": "stdout",
     "output_type": "stream",
     "text": [
      "0.6432887436971932\n",
      "[WRITE] Saved result from sample_10_state_county_county_desired_25ppc_100_size_seed_1234.pkl to /home/libe2152/optimizedsampling/0_results/usavars/treecover/cluster_sampling_r2_scores.csv\n",
      "Fitting regression...\n",
      "NUM SAMPLES: 100\n",
      "Best alpha: 3.593813663804626\n"
     ]
    },
    {
     "name": "stderr",
     "output_type": "stream",
     "text": [
      "Processing samples:  29%|██▉       | 116/401 [10:12<09:31,  2.00s/it]"
     ]
    },
    {
     "name": "stdout",
     "output_type": "stream",
     "text": [
      "0.2279239503763144\n",
      "[WRITE] Saved result from sample_10_state_county_county_desired_25ppc_100_size_seed_1415.pkl to /home/libe2152/optimizedsampling/0_results/usavars/treecover/cluster_sampling_r2_scores.csv\n",
      "Fitting regression...\n",
      "NUM SAMPLES: 100\n",
      "Best alpha: 3.593813663804626\n"
     ]
    },
    {
     "name": "stderr",
     "output_type": "stream",
     "text": [
      "Processing samples:  29%|██▉       | 117/401 [10:13<07:32,  1.59s/it]"
     ]
    },
    {
     "name": "stdout",
     "output_type": "stream",
     "text": [
      "0.45615803859731063\n",
      "[WRITE] Saved result from sample_10_state_county_county_desired_25ppc_100_size_seed_42.pkl to /home/libe2152/optimizedsampling/0_results/usavars/treecover/cluster_sampling_r2_scores.csv\n",
      "Fitting regression...\n",
      "NUM SAMPLES: 100\n",
      "Best alpha: 46.41588833612782\n"
     ]
    },
    {
     "name": "stderr",
     "output_type": "stream",
     "text": [
      "Processing samples:  29%|██▉       | 118/401 [10:14<06:09,  1.31s/it]"
     ]
    },
    {
     "name": "stdout",
     "output_type": "stream",
     "text": [
      "0.6511640506670593\n",
      "[WRITE] Saved result from sample_10_state_county_county_desired_25ppc_100_size_seed_456.pkl to /home/libe2152/optimizedsampling/0_results/usavars/treecover/cluster_sampling_r2_scores.csv\n",
      "Fitting regression...\n",
      "NUM SAMPLES: 100\n",
      "Best alpha: 46.41588833612782\n"
     ]
    },
    {
     "name": "stderr",
     "output_type": "stream",
     "text": [
      "Processing samples:  30%|██▉       | 119/401 [10:14<05:12,  1.11s/it]"
     ]
    },
    {
     "name": "stdout",
     "output_type": "stream",
     "text": [
      "0.6300310007268963\n",
      "[WRITE] Saved result from sample_10_state_county_county_desired_25ppc_100_size_seed_5678.pkl to /home/libe2152/optimizedsampling/0_results/usavars/treecover/cluster_sampling_r2_scores.csv\n",
      "Fitting regression...\n",
      "NUM SAMPLES: 100\n",
      "Best alpha: 599.4842503189421\n"
     ]
    },
    {
     "name": "stderr",
     "output_type": "stream",
     "text": [
      "Processing samples:  30%|██▉       | 120/401 [10:15<04:31,  1.03it/s]"
     ]
    },
    {
     "name": "stdout",
     "output_type": "stream",
     "text": [
      "0.49137852533799287\n",
      "[WRITE] Saved result from sample_10_state_county_county_desired_25ppc_100_size_seed_789.pkl to /home/libe2152/optimizedsampling/0_results/usavars/treecover/cluster_sampling_r2_scores.csv\n",
      "Fitting regression...\n",
      "NUM SAMPLES: 100\n",
      "Best alpha: 7742.636826811277\n"
     ]
    },
    {
     "name": "stderr",
     "output_type": "stream",
     "text": [
      "Processing samples:  30%|███       | 121/401 [10:15<04:04,  1.15it/s]"
     ]
    },
    {
     "name": "stdout",
     "output_type": "stream",
     "text": [
      "0.4832174308426126\n",
      "[WRITE] Saved result from sample_10_state_county_county_desired_25ppc_100_size_seed_9101.pkl to /home/libe2152/optimizedsampling/0_results/usavars/treecover/cluster_sampling_r2_scores.csv\n",
      "Fitting regression...\n",
      "NUM SAMPLES: 200\n",
      "Best alpha: 46.41588833612782\n"
     ]
    },
    {
     "name": "stderr",
     "output_type": "stream",
     "text": [
      "Processing samples:  30%|███       | 122/401 [10:17<05:20,  1.15s/it]"
     ]
    },
    {
     "name": "stdout",
     "output_type": "stream",
     "text": [
      "0.5026235047811658\n",
      "[WRITE] Saved result from sample_10_state_county_county_desired_25ppc_200_size_seed_1.pkl to /home/libe2152/optimizedsampling/0_results/usavars/treecover/cluster_sampling_r2_scores.csv\n",
      "Fitting regression...\n",
      "NUM SAMPLES: 200\n",
      "Best alpha: 3.593813663804626\n"
     ]
    },
    {
     "name": "stderr",
     "output_type": "stream",
     "text": [
      "Processing samples:  31%|███       | 123/401 [10:19<06:25,  1.39s/it]"
     ]
    },
    {
     "name": "stdout",
     "output_type": "stream",
     "text": [
      "0.7291092200359642\n",
      "[WRITE] Saved result from sample_10_state_county_county_desired_25ppc_200_size_seed_1213.pkl to /home/libe2152/optimizedsampling/0_results/usavars/treecover/cluster_sampling_r2_scores.csv\n",
      "Fitting regression...\n",
      "NUM SAMPLES: 200\n",
      "Best alpha: 46.41588833612782\n"
     ]
    },
    {
     "name": "stderr",
     "output_type": "stream",
     "text": [
      "Processing samples:  31%|███       | 124/401 [10:21<07:37,  1.65s/it]"
     ]
    },
    {
     "name": "stdout",
     "output_type": "stream",
     "text": [
      "0.4905532337601676\n",
      "[WRITE] Saved result from sample_10_state_county_county_desired_25ppc_200_size_seed_123.pkl to /home/libe2152/optimizedsampling/0_results/usavars/treecover/cluster_sampling_r2_scores.csv\n",
      "Fitting regression...\n",
      "NUM SAMPLES: 200\n",
      "Best alpha: 46.41588833612782\n"
     ]
    },
    {
     "name": "stderr",
     "output_type": "stream",
     "text": [
      "Processing samples:  31%|███       | 125/401 [10:24<08:14,  1.79s/it]"
     ]
    },
    {
     "name": "stdout",
     "output_type": "stream",
     "text": [
      "0.691366913238362\n",
      "[WRITE] Saved result from sample_10_state_county_county_desired_25ppc_200_size_seed_1234.pkl to /home/libe2152/optimizedsampling/0_results/usavars/treecover/cluster_sampling_r2_scores.csv\n",
      "Fitting regression...\n",
      "NUM SAMPLES: 200\n",
      "Best alpha: 46.41588833612782\n"
     ]
    },
    {
     "name": "stderr",
     "output_type": "stream",
     "text": [
      "Processing samples:  31%|███▏      | 126/401 [10:26<08:48,  1.92s/it]"
     ]
    },
    {
     "name": "stdout",
     "output_type": "stream",
     "text": [
      "0.514770066047513\n",
      "[WRITE] Saved result from sample_10_state_county_county_desired_25ppc_200_size_seed_1415.pkl to /home/libe2152/optimizedsampling/0_results/usavars/treecover/cluster_sampling_r2_scores.csv\n",
      "Fitting regression...\n",
      "NUM SAMPLES: 200\n",
      "Best alpha: 3.593813663804626\n"
     ]
    },
    {
     "name": "stderr",
     "output_type": "stream",
     "text": [
      "Processing samples:  32%|███▏      | 127/401 [10:28<08:40,  1.90s/it]"
     ]
    },
    {
     "name": "stdout",
     "output_type": "stream",
     "text": [
      "0.5868410936904751\n",
      "[WRITE] Saved result from sample_10_state_county_county_desired_25ppc_200_size_seed_42.pkl to /home/libe2152/optimizedsampling/0_results/usavars/treecover/cluster_sampling_r2_scores.csv\n",
      "Fitting regression...\n",
      "NUM SAMPLES: 200\n",
      "Best alpha: 46.41588833612782\n"
     ]
    },
    {
     "name": "stderr",
     "output_type": "stream",
     "text": [
      "Processing samples:  32%|███▏      | 128/401 [10:29<08:00,  1.76s/it]"
     ]
    },
    {
     "name": "stdout",
     "output_type": "stream",
     "text": [
      "0.7188675676489951\n",
      "[WRITE] Saved result from sample_10_state_county_county_desired_25ppc_200_size_seed_456.pkl to /home/libe2152/optimizedsampling/0_results/usavars/treecover/cluster_sampling_r2_scores.csv\n",
      "Fitting regression...\n",
      "NUM SAMPLES: 200\n",
      "Best alpha: 46.41588833612782\n"
     ]
    },
    {
     "name": "stderr",
     "output_type": "stream",
     "text": [
      "Processing samples:  32%|███▏      | 129/401 [10:31<08:19,  1.84s/it]"
     ]
    },
    {
     "name": "stdout",
     "output_type": "stream",
     "text": [
      "0.696256201313787\n",
      "[WRITE] Saved result from sample_10_state_county_county_desired_25ppc_200_size_seed_5678.pkl to /home/libe2152/optimizedsampling/0_results/usavars/treecover/cluster_sampling_r2_scores.csv\n",
      "Fitting regression...\n",
      "NUM SAMPLES: 200\n",
      "Best alpha: 3.593813663804626\n"
     ]
    },
    {
     "name": "stderr",
     "output_type": "stream",
     "text": [
      "Processing samples:  32%|███▏      | 130/401 [10:33<08:18,  1.84s/it]"
     ]
    },
    {
     "name": "stdout",
     "output_type": "stream",
     "text": [
      "0.6412745876416455\n",
      "[WRITE] Saved result from sample_10_state_county_county_desired_25ppc_200_size_seed_789.pkl to /home/libe2152/optimizedsampling/0_results/usavars/treecover/cluster_sampling_r2_scores.csv\n",
      "Fitting regression...\n",
      "NUM SAMPLES: 200\n",
      "Best alpha: 3.593813663804626\n"
     ]
    },
    {
     "name": "stderr",
     "output_type": "stream",
     "text": [
      "Processing samples:  33%|███▎      | 131/401 [10:35<08:26,  1.88s/it]"
     ]
    },
    {
     "name": "stdout",
     "output_type": "stream",
     "text": [
      "0.6899851975091194\n",
      "[WRITE] Saved result from sample_10_state_county_county_desired_25ppc_200_size_seed_9101.pkl to /home/libe2152/optimizedsampling/0_results/usavars/treecover/cluster_sampling_r2_scores.csv\n",
      "Fitting regression...\n",
      "NUM SAMPLES: 300\n",
      "Best alpha: 3.593813663804626\n"
     ]
    },
    {
     "name": "stderr",
     "output_type": "stream",
     "text": [
      "Processing samples:  33%|███▎      | 132/401 [10:38<09:41,  2.16s/it]"
     ]
    },
    {
     "name": "stdout",
     "output_type": "stream",
     "text": [
      "0.6541059127302722\n",
      "[WRITE] Saved result from sample_10_state_county_county_desired_25ppc_300_size_seed_1.pkl to /home/libe2152/optimizedsampling/0_results/usavars/treecover/cluster_sampling_r2_scores.csv\n",
      "Fitting regression...\n",
      "NUM SAMPLES: 300\n",
      "Best alpha: 3.593813663804626\n"
     ]
    },
    {
     "name": "stderr",
     "output_type": "stream",
     "text": [
      "Processing samples:  33%|███▎      | 133/401 [10:40<09:39,  2.16s/it]"
     ]
    },
    {
     "name": "stdout",
     "output_type": "stream",
     "text": [
      "0.6732822066448327\n",
      "[WRITE] Saved result from sample_10_state_county_county_desired_25ppc_300_size_seed_1213.pkl to /home/libe2152/optimizedsampling/0_results/usavars/treecover/cluster_sampling_r2_scores.csv\n",
      "Fitting regression...\n",
      "NUM SAMPLES: 300\n",
      "Best alpha: 46.41588833612782\n"
     ]
    },
    {
     "name": "stderr",
     "output_type": "stream",
     "text": [
      "Processing samples:  33%|███▎      | 134/401 [10:42<09:44,  2.19s/it]"
     ]
    },
    {
     "name": "stdout",
     "output_type": "stream",
     "text": [
      "0.6140057344913981\n",
      "[WRITE] Saved result from sample_10_state_county_county_desired_25ppc_300_size_seed_123.pkl to /home/libe2152/optimizedsampling/0_results/usavars/treecover/cluster_sampling_r2_scores.csv\n",
      "Fitting regression...\n",
      "NUM SAMPLES: 300\n",
      "Best alpha: 3.593813663804626\n"
     ]
    },
    {
     "name": "stderr",
     "output_type": "stream",
     "text": [
      "Processing samples:  34%|███▎      | 135/401 [10:45<10:01,  2.26s/it]"
     ]
    },
    {
     "name": "stdout",
     "output_type": "stream",
     "text": [
      "0.73390764065526\n",
      "[WRITE] Saved result from sample_10_state_county_county_desired_25ppc_300_size_seed_1234.pkl to /home/libe2152/optimizedsampling/0_results/usavars/treecover/cluster_sampling_r2_scores.csv\n",
      "Fitting regression...\n",
      "NUM SAMPLES: 300\n",
      "Best alpha: 0.2782559402207126\n"
     ]
    },
    {
     "name": "stderr",
     "output_type": "stream",
     "text": [
      "Processing samples:  34%|███▍      | 136/401 [10:47<10:10,  2.31s/it]"
     ]
    },
    {
     "name": "stdout",
     "output_type": "stream",
     "text": [
      "0.6559795020556495\n",
      "[WRITE] Saved result from sample_10_state_county_county_desired_25ppc_300_size_seed_1415.pkl to /home/libe2152/optimizedsampling/0_results/usavars/treecover/cluster_sampling_r2_scores.csv\n",
      "Fitting regression...\n",
      "NUM SAMPLES: 300\n",
      "Best alpha: 3.593813663804626\n"
     ]
    },
    {
     "name": "stderr",
     "output_type": "stream",
     "text": [
      "Processing samples:  34%|███▍      | 137/401 [10:49<10:04,  2.29s/it]"
     ]
    },
    {
     "name": "stdout",
     "output_type": "stream",
     "text": [
      "0.6323686876608119\n",
      "[WRITE] Saved result from sample_10_state_county_county_desired_25ppc_300_size_seed_42.pkl to /home/libe2152/optimizedsampling/0_results/usavars/treecover/cluster_sampling_r2_scores.csv\n",
      "Fitting regression...\n",
      "NUM SAMPLES: 300\n",
      "Best alpha: 46.41588833612782\n"
     ]
    },
    {
     "name": "stderr",
     "output_type": "stream",
     "text": [
      "Processing samples:  34%|███▍      | 138/401 [10:52<10:15,  2.34s/it]"
     ]
    },
    {
     "name": "stdout",
     "output_type": "stream",
     "text": [
      "0.692341577675519\n",
      "[WRITE] Saved result from sample_10_state_county_county_desired_25ppc_300_size_seed_456.pkl to /home/libe2152/optimizedsampling/0_results/usavars/treecover/cluster_sampling_r2_scores.csv\n",
      "Fitting regression...\n",
      "NUM SAMPLES: 300\n",
      "Best alpha: 46.41588833612782\n"
     ]
    },
    {
     "name": "stderr",
     "output_type": "stream",
     "text": [
      "Processing samples:  35%|███▍      | 139/401 [10:54<10:46,  2.47s/it]"
     ]
    },
    {
     "name": "stdout",
     "output_type": "stream",
     "text": [
      "0.780303185807983\n",
      "[WRITE] Saved result from sample_10_state_county_county_desired_25ppc_300_size_seed_5678.pkl to /home/libe2152/optimizedsampling/0_results/usavars/treecover/cluster_sampling_r2_scores.csv\n",
      "Fitting regression...\n",
      "NUM SAMPLES: 300\n",
      "Best alpha: 3.593813663804626\n"
     ]
    },
    {
     "name": "stderr",
     "output_type": "stream",
     "text": [
      "Processing samples:  35%|███▍      | 140/401 [10:57<10:53,  2.50s/it]"
     ]
    },
    {
     "name": "stdout",
     "output_type": "stream",
     "text": [
      "0.7215058138265881\n",
      "[WRITE] Saved result from sample_10_state_county_county_desired_25ppc_300_size_seed_789.pkl to /home/libe2152/optimizedsampling/0_results/usavars/treecover/cluster_sampling_r2_scores.csv\n",
      "Fitting regression...\n",
      "NUM SAMPLES: 300\n",
      "Best alpha: 3.593813663804626\n"
     ]
    },
    {
     "name": "stderr",
     "output_type": "stream",
     "text": [
      "Processing samples:  35%|███▌      | 141/401 [11:00<11:09,  2.58s/it]"
     ]
    },
    {
     "name": "stdout",
     "output_type": "stream",
     "text": [
      "0.7174905174715923\n",
      "[WRITE] Saved result from sample_10_state_county_county_desired_25ppc_300_size_seed_9101.pkl to /home/libe2152/optimizedsampling/0_results/usavars/treecover/cluster_sampling_r2_scores.csv\n",
      "Fitting regression...\n",
      "NUM SAMPLES: 400\n",
      "Best alpha: 3.593813663804626\n"
     ]
    },
    {
     "name": "stderr",
     "output_type": "stream",
     "text": [
      "Processing samples:  35%|███▌      | 142/401 [11:03<11:29,  2.66s/it]"
     ]
    },
    {
     "name": "stdout",
     "output_type": "stream",
     "text": [
      "0.6953179948638658\n",
      "[WRITE] Saved result from sample_10_state_county_county_desired_25ppc_400_size_seed_1.pkl to /home/libe2152/optimizedsampling/0_results/usavars/treecover/cluster_sampling_r2_scores.csv\n",
      "Fitting regression...\n",
      "NUM SAMPLES: 400\n",
      "Best alpha: 3.593813663804626\n"
     ]
    },
    {
     "name": "stderr",
     "output_type": "stream",
     "text": [
      "Processing samples:  36%|███▌      | 143/401 [11:06<11:59,  2.79s/it]"
     ]
    },
    {
     "name": "stdout",
     "output_type": "stream",
     "text": [
      "0.6850596880434708\n",
      "[WRITE] Saved result from sample_10_state_county_county_desired_25ppc_400_size_seed_1213.pkl to /home/libe2152/optimizedsampling/0_results/usavars/treecover/cluster_sampling_r2_scores.csv\n",
      "Fitting regression...\n",
      "NUM SAMPLES: 400\n",
      "Best alpha: 3.593813663804626\n"
     ]
    },
    {
     "name": "stderr",
     "output_type": "stream",
     "text": [
      "Processing samples:  36%|███▌      | 144/401 [11:08<11:52,  2.77s/it]"
     ]
    },
    {
     "name": "stdout",
     "output_type": "stream",
     "text": [
      "0.5659256413339693\n",
      "[WRITE] Saved result from sample_10_state_county_county_desired_25ppc_400_size_seed_123.pkl to /home/libe2152/optimizedsampling/0_results/usavars/treecover/cluster_sampling_r2_scores.csv\n",
      "Fitting regression...\n",
      "NUM SAMPLES: 400\n",
      "Best alpha: 3.593813663804626\n"
     ]
    },
    {
     "name": "stderr",
     "output_type": "stream",
     "text": [
      "Processing samples:  36%|███▌      | 145/401 [11:11<11:28,  2.69s/it]"
     ]
    },
    {
     "name": "stdout",
     "output_type": "stream",
     "text": [
      "0.7278183948714853\n",
      "[WRITE] Saved result from sample_10_state_county_county_desired_25ppc_400_size_seed_1234.pkl to /home/libe2152/optimizedsampling/0_results/usavars/treecover/cluster_sampling_r2_scores.csv\n",
      "Fitting regression...\n",
      "NUM SAMPLES: 400\n",
      "Best alpha: 3.593813663804626\n"
     ]
    },
    {
     "name": "stderr",
     "output_type": "stream",
     "text": [
      "Processing samples:  36%|███▋      | 146/401 [11:13<11:05,  2.61s/it]"
     ]
    },
    {
     "name": "stdout",
     "output_type": "stream",
     "text": [
      "0.7128963872464782\n",
      "[WRITE] Saved result from sample_10_state_county_county_desired_25ppc_400_size_seed_1415.pkl to /home/libe2152/optimizedsampling/0_results/usavars/treecover/cluster_sampling_r2_scores.csv\n",
      "Fitting regression...\n",
      "NUM SAMPLES: 400\n",
      "Best alpha: 46.41588833612782\n"
     ]
    },
    {
     "name": "stderr",
     "output_type": "stream",
     "text": [
      "Processing samples:  37%|███▋      | 147/401 [11:16<10:58,  2.59s/it]"
     ]
    },
    {
     "name": "stdout",
     "output_type": "stream",
     "text": [
      "0.66340995853102\n",
      "[WRITE] Saved result from sample_10_state_county_county_desired_25ppc_400_size_seed_42.pkl to /home/libe2152/optimizedsampling/0_results/usavars/treecover/cluster_sampling_r2_scores.csv\n",
      "Fitting regression...\n",
      "NUM SAMPLES: 400\n",
      "Best alpha: 46.41588833612782\n"
     ]
    },
    {
     "name": "stderr",
     "output_type": "stream",
     "text": [
      "Processing samples:  37%|███▋      | 148/401 [11:19<11:24,  2.70s/it]"
     ]
    },
    {
     "name": "stdout",
     "output_type": "stream",
     "text": [
      "0.7025616200753285\n",
      "[WRITE] Saved result from sample_10_state_county_county_desired_25ppc_400_size_seed_456.pkl to /home/libe2152/optimizedsampling/0_results/usavars/treecover/cluster_sampling_r2_scores.csv\n",
      "Fitting regression...\n",
      "NUM SAMPLES: 400\n",
      "Best alpha: 3.593813663804626\n"
     ]
    },
    {
     "name": "stderr",
     "output_type": "stream",
     "text": [
      "Processing samples:  37%|███▋      | 149/401 [11:22<11:25,  2.72s/it]"
     ]
    },
    {
     "name": "stdout",
     "output_type": "stream",
     "text": [
      "0.7424187541610612\n",
      "[WRITE] Saved result from sample_10_state_county_county_desired_25ppc_400_size_seed_5678.pkl to /home/libe2152/optimizedsampling/0_results/usavars/treecover/cluster_sampling_r2_scores.csv\n",
      "Fitting regression...\n",
      "NUM SAMPLES: 400\n",
      "Best alpha: 3.593813663804626\n"
     ]
    },
    {
     "name": "stderr",
     "output_type": "stream",
     "text": [
      "Processing samples:  37%|███▋      | 150/401 [11:25<12:15,  2.93s/it]"
     ]
    },
    {
     "name": "stdout",
     "output_type": "stream",
     "text": [
      "0.7715213673269716\n",
      "[WRITE] Saved result from sample_10_state_county_county_desired_25ppc_400_size_seed_789.pkl to /home/libe2152/optimizedsampling/0_results/usavars/treecover/cluster_sampling_r2_scores.csv\n",
      "Fitting regression...\n",
      "NUM SAMPLES: 400\n",
      "Best alpha: 3.593813663804626\n"
     ]
    },
    {
     "name": "stderr",
     "output_type": "stream",
     "text": [
      "Processing samples:  38%|███▊      | 151/401 [11:28<12:12,  2.93s/it]"
     ]
    },
    {
     "name": "stdout",
     "output_type": "stream",
     "text": [
      "0.7473965735430826\n",
      "[WRITE] Saved result from sample_10_state_county_county_desired_25ppc_400_size_seed_9101.pkl to /home/libe2152/optimizedsampling/0_results/usavars/treecover/cluster_sampling_r2_scores.csv\n",
      "Fitting regression...\n",
      "NUM SAMPLES: 500\n",
      "Best alpha: 3.593813663804626\n"
     ]
    },
    {
     "name": "stderr",
     "output_type": "stream",
     "text": [
      "Processing samples:  38%|███▊      | 152/401 [11:32<13:08,  3.17s/it]"
     ]
    },
    {
     "name": "stdout",
     "output_type": "stream",
     "text": [
      "0.6953343124190323\n",
      "[WRITE] Saved result from sample_10_state_county_county_desired_25ppc_500_size_seed_1.pkl to /home/libe2152/optimizedsampling/0_results/usavars/treecover/cluster_sampling_r2_scores.csv\n",
      "Fitting regression...\n",
      "NUM SAMPLES: 500\n",
      "Best alpha: 3.593813663804626\n"
     ]
    },
    {
     "name": "stderr",
     "output_type": "stream",
     "text": [
      "Processing samples:  38%|███▊      | 153/401 [11:35<13:39,  3.31s/it]"
     ]
    },
    {
     "name": "stdout",
     "output_type": "stream",
     "text": [
      "0.7599567656645088\n",
      "[WRITE] Saved result from sample_10_state_county_county_desired_25ppc_500_size_seed_1213.pkl to /home/libe2152/optimizedsampling/0_results/usavars/treecover/cluster_sampling_r2_scores.csv\n",
      "Fitting regression...\n",
      "NUM SAMPLES: 500\n",
      "Best alpha: 3.593813663804626\n"
     ]
    },
    {
     "name": "stderr",
     "output_type": "stream",
     "text": [
      "Processing samples:  38%|███▊      | 154/401 [11:39<13:56,  3.39s/it]"
     ]
    },
    {
     "name": "stdout",
     "output_type": "stream",
     "text": [
      "0.6870136383249397\n",
      "[WRITE] Saved result from sample_10_state_county_county_desired_25ppc_500_size_seed_123.pkl to /home/libe2152/optimizedsampling/0_results/usavars/treecover/cluster_sampling_r2_scores.csv\n",
      "Fitting regression...\n",
      "NUM SAMPLES: 500\n",
      "Best alpha: 0.2782559402207126\n"
     ]
    },
    {
     "name": "stderr",
     "output_type": "stream",
     "text": [
      "Processing samples:  39%|███▊      | 155/401 [11:42<13:32,  3.30s/it]"
     ]
    },
    {
     "name": "stdout",
     "output_type": "stream",
     "text": [
      "0.7134501388283578\n",
      "[WRITE] Saved result from sample_10_state_county_county_desired_25ppc_500_size_seed_1234.pkl to /home/libe2152/optimizedsampling/0_results/usavars/treecover/cluster_sampling_r2_scores.csv\n",
      "Fitting regression...\n",
      "NUM SAMPLES: 500\n",
      "Best alpha: 3.593813663804626\n"
     ]
    },
    {
     "name": "stderr",
     "output_type": "stream",
     "text": [
      "Processing samples:  39%|███▉      | 156/401 [11:46<13:59,  3.43s/it]"
     ]
    },
    {
     "name": "stdout",
     "output_type": "stream",
     "text": [
      "0.7631433424248659\n",
      "[WRITE] Saved result from sample_10_state_county_county_desired_25ppc_500_size_seed_1415.pkl to /home/libe2152/optimizedsampling/0_results/usavars/treecover/cluster_sampling_r2_scores.csv\n",
      "Fitting regression...\n",
      "NUM SAMPLES: 500\n",
      "Best alpha: 3.593813663804626\n"
     ]
    },
    {
     "name": "stderr",
     "output_type": "stream",
     "text": [
      "Processing samples:  39%|███▉      | 157/401 [11:49<14:17,  3.52s/it]"
     ]
    },
    {
     "name": "stdout",
     "output_type": "stream",
     "text": [
      "0.7221742573684036\n",
      "[WRITE] Saved result from sample_10_state_county_county_desired_25ppc_500_size_seed_42.pkl to /home/libe2152/optimizedsampling/0_results/usavars/treecover/cluster_sampling_r2_scores.csv\n",
      "Fitting regression...\n",
      "NUM SAMPLES: 500\n",
      "Best alpha: 46.41588833612782\n"
     ]
    },
    {
     "name": "stderr",
     "output_type": "stream",
     "text": [
      "Processing samples:  39%|███▉      | 158/401 [11:53<14:20,  3.54s/it]"
     ]
    },
    {
     "name": "stdout",
     "output_type": "stream",
     "text": [
      "0.7225840770340564\n",
      "[WRITE] Saved result from sample_10_state_county_county_desired_25ppc_500_size_seed_456.pkl to /home/libe2152/optimizedsampling/0_results/usavars/treecover/cluster_sampling_r2_scores.csv\n",
      "Fitting regression...\n",
      "NUM SAMPLES: 500\n",
      "Best alpha: 3.593813663804626\n"
     ]
    },
    {
     "name": "stderr",
     "output_type": "stream",
     "text": [
      "Processing samples:  40%|███▉      | 159/401 [11:57<14:18,  3.55s/it]"
     ]
    },
    {
     "name": "stdout",
     "output_type": "stream",
     "text": [
      "0.7602664722915956\n",
      "[WRITE] Saved result from sample_10_state_county_county_desired_25ppc_500_size_seed_5678.pkl to /home/libe2152/optimizedsampling/0_results/usavars/treecover/cluster_sampling_r2_scores.csv\n",
      "Fitting regression...\n",
      "NUM SAMPLES: 500\n",
      "Best alpha: 3.593813663804626\n"
     ]
    },
    {
     "name": "stderr",
     "output_type": "stream",
     "text": [
      "Processing samples:  40%|███▉      | 160/401 [12:00<14:06,  3.51s/it]"
     ]
    },
    {
     "name": "stdout",
     "output_type": "stream",
     "text": [
      "0.7452462133047864\n",
      "[WRITE] Saved result from sample_10_state_county_county_desired_25ppc_500_size_seed_789.pkl to /home/libe2152/optimizedsampling/0_results/usavars/treecover/cluster_sampling_r2_scores.csv\n",
      "Fitting regression...\n",
      "NUM SAMPLES: 500\n",
      "Best alpha: 3.593813663804626\n"
     ]
    },
    {
     "name": "stderr",
     "output_type": "stream",
     "text": [
      "Processing samples:  40%|████      | 161/401 [12:04<14:44,  3.68s/it]"
     ]
    },
    {
     "name": "stdout",
     "output_type": "stream",
     "text": [
      "0.7688389590884229\n",
      "[WRITE] Saved result from sample_10_state_county_county_desired_25ppc_500_size_seed_9101.pkl to /home/libe2152/optimizedsampling/0_results/usavars/treecover/cluster_sampling_r2_scores.csv\n",
      "Fitting regression...\n",
      "NUM SAMPLES: 600\n",
      "Best alpha: 3.593813663804626\n"
     ]
    },
    {
     "name": "stderr",
     "output_type": "stream",
     "text": [
      "Processing samples:  40%|████      | 162/401 [12:09<15:35,  3.92s/it]"
     ]
    },
    {
     "name": "stdout",
     "output_type": "stream",
     "text": [
      "0.7404738716535308\n",
      "[WRITE] Saved result from sample_10_state_county_county_desired_25ppc_600_size_seed_1.pkl to /home/libe2152/optimizedsampling/0_results/usavars/treecover/cluster_sampling_r2_scores.csv\n",
      "Fitting regression...\n",
      "NUM SAMPLES: 600\n",
      "Best alpha: 3.593813663804626\n"
     ]
    },
    {
     "name": "stderr",
     "output_type": "stream",
     "text": [
      "Processing samples:  41%|████      | 163/401 [12:15<18:16,  4.61s/it]"
     ]
    },
    {
     "name": "stdout",
     "output_type": "stream",
     "text": [
      "0.7693218447790582\n",
      "[WRITE] Saved result from sample_10_state_county_county_desired_25ppc_600_size_seed_1213.pkl to /home/libe2152/optimizedsampling/0_results/usavars/treecover/cluster_sampling_r2_scores.csv\n",
      "Fitting regression...\n",
      "NUM SAMPLES: 600\n",
      "Best alpha: 3.593813663804626\n"
     ]
    },
    {
     "name": "stderr",
     "output_type": "stream",
     "text": [
      "Processing samples:  41%|████      | 164/401 [12:20<19:23,  4.91s/it]"
     ]
    },
    {
     "name": "stdout",
     "output_type": "stream",
     "text": [
      "0.7011339652217567\n",
      "[WRITE] Saved result from sample_10_state_county_county_desired_25ppc_600_size_seed_123.pkl to /home/libe2152/optimizedsampling/0_results/usavars/treecover/cluster_sampling_r2_scores.csv\n",
      "Fitting regression...\n",
      "NUM SAMPLES: 600\n",
      "Best alpha: 3.593813663804626\n"
     ]
    },
    {
     "name": "stderr",
     "output_type": "stream",
     "text": [
      "Processing samples:  41%|████      | 165/401 [12:26<20:05,  5.11s/it]"
     ]
    },
    {
     "name": "stdout",
     "output_type": "stream",
     "text": [
      "0.7848184957059704\n",
      "[WRITE] Saved result from sample_10_state_county_county_desired_25ppc_600_size_seed_1234.pkl to /home/libe2152/optimizedsampling/0_results/usavars/treecover/cluster_sampling_r2_scores.csv\n",
      "Fitting regression...\n",
      "NUM SAMPLES: 600\n",
      "Best alpha: 3.593813663804626\n"
     ]
    },
    {
     "name": "stderr",
     "output_type": "stream",
     "text": [
      "Processing samples:  41%|████▏     | 166/401 [12:33<21:36,  5.52s/it]"
     ]
    },
    {
     "name": "stdout",
     "output_type": "stream",
     "text": [
      "0.7629408140745808\n",
      "[WRITE] Saved result from sample_10_state_county_county_desired_25ppc_600_size_seed_1415.pkl to /home/libe2152/optimizedsampling/0_results/usavars/treecover/cluster_sampling_r2_scores.csv\n",
      "Fitting regression...\n",
      "NUM SAMPLES: 600\n",
      "Best alpha: 3.593813663804626\n"
     ]
    },
    {
     "name": "stderr",
     "output_type": "stream",
     "text": [
      "Processing samples:  42%|████▏     | 167/401 [12:39<22:30,  5.77s/it]"
     ]
    },
    {
     "name": "stdout",
     "output_type": "stream",
     "text": [
      "0.7437633161181076\n",
      "[WRITE] Saved result from sample_10_state_county_county_desired_25ppc_600_size_seed_42.pkl to /home/libe2152/optimizedsampling/0_results/usavars/treecover/cluster_sampling_r2_scores.csv\n",
      "Fitting regression...\n",
      "NUM SAMPLES: 600\n",
      "Best alpha: 3.593813663804626\n"
     ]
    },
    {
     "name": "stderr",
     "output_type": "stream",
     "text": [
      "Processing samples:  42%|████▏     | 168/401 [12:44<21:28,  5.53s/it]"
     ]
    },
    {
     "name": "stdout",
     "output_type": "stream",
     "text": [
      "0.7290828926003725\n",
      "[WRITE] Saved result from sample_10_state_county_county_desired_25ppc_600_size_seed_456.pkl to /home/libe2152/optimizedsampling/0_results/usavars/treecover/cluster_sampling_r2_scores.csv\n",
      "Fitting regression...\n",
      "NUM SAMPLES: 600\n",
      "Best alpha: 3.593813663804626\n"
     ]
    },
    {
     "name": "stderr",
     "output_type": "stream",
     "text": [
      "Processing samples:  42%|████▏     | 169/401 [12:50<22:11,  5.74s/it]"
     ]
    },
    {
     "name": "stdout",
     "output_type": "stream",
     "text": [
      "0.7713154212310953\n",
      "[WRITE] Saved result from sample_10_state_county_county_desired_25ppc_600_size_seed_5678.pkl to /home/libe2152/optimizedsampling/0_results/usavars/treecover/cluster_sampling_r2_scores.csv\n",
      "Fitting regression...\n",
      "NUM SAMPLES: 600\n",
      "Best alpha: 3.593813663804626\n"
     ]
    },
    {
     "name": "stderr",
     "output_type": "stream",
     "text": [
      "Processing samples:  42%|████▏     | 170/401 [12:56<21:48,  5.66s/it]"
     ]
    },
    {
     "name": "stdout",
     "output_type": "stream",
     "text": [
      "0.7732736979326504\n",
      "[WRITE] Saved result from sample_10_state_county_county_desired_25ppc_600_size_seed_789.pkl to /home/libe2152/optimizedsampling/0_results/usavars/treecover/cluster_sampling_r2_scores.csv\n",
      "Fitting regression...\n",
      "NUM SAMPLES: 600\n",
      "Best alpha: 3.593813663804626\n"
     ]
    },
    {
     "name": "stderr",
     "output_type": "stream",
     "text": [
      "Processing samples:  43%|████▎     | 171/401 [13:00<20:53,  5.45s/it]"
     ]
    },
    {
     "name": "stdout",
     "output_type": "stream",
     "text": [
      "0.7614265275311756\n",
      "[WRITE] Saved result from sample_10_state_county_county_desired_25ppc_600_size_seed_9101.pkl to /home/libe2152/optimizedsampling/0_results/usavars/treecover/cluster_sampling_r2_scores.csv\n",
      "Fitting regression...\n",
      "NUM SAMPLES: 700\n",
      "Best alpha: 3.593813663804626\n"
     ]
    },
    {
     "name": "stderr",
     "output_type": "stream",
     "text": [
      "Processing samples:  43%|████▎     | 172/401 [13:07<21:42,  5.69s/it]"
     ]
    },
    {
     "name": "stdout",
     "output_type": "stream",
     "text": [
      "0.7174101423467986\n",
      "[WRITE] Saved result from sample_10_state_county_county_desired_25ppc_700_size_seed_1.pkl to /home/libe2152/optimizedsampling/0_results/usavars/treecover/cluster_sampling_r2_scores.csv\n",
      "Fitting regression...\n",
      "NUM SAMPLES: 700\n",
      "Best alpha: 3.593813663804626\n"
     ]
    },
    {
     "name": "stderr",
     "output_type": "stream",
     "text": [
      "Processing samples:  43%|████▎     | 173/401 [13:13<21:42,  5.71s/it]"
     ]
    },
    {
     "name": "stdout",
     "output_type": "stream",
     "text": [
      "0.7834284380876848\n",
      "[WRITE] Saved result from sample_10_state_county_county_desired_25ppc_700_size_seed_1213.pkl to /home/libe2152/optimizedsampling/0_results/usavars/treecover/cluster_sampling_r2_scores.csv\n",
      "Fitting regression...\n",
      "NUM SAMPLES: 700\n",
      "Best alpha: 3.593813663804626\n"
     ]
    },
    {
     "name": "stderr",
     "output_type": "stream",
     "text": [
      "Processing samples:  43%|████▎     | 174/401 [13:18<21:44,  5.75s/it]"
     ]
    },
    {
     "name": "stdout",
     "output_type": "stream",
     "text": [
      "0.7291549724833861\n",
      "[WRITE] Saved result from sample_10_state_county_county_desired_25ppc_700_size_seed_123.pkl to /home/libe2152/optimizedsampling/0_results/usavars/treecover/cluster_sampling_r2_scores.csv\n",
      "Fitting regression...\n",
      "NUM SAMPLES: 700\n",
      "Best alpha: 3.593813663804626\n"
     ]
    },
    {
     "name": "stderr",
     "output_type": "stream",
     "text": [
      "Processing samples:  44%|████▎     | 175/401 [13:24<21:53,  5.81s/it]"
     ]
    },
    {
     "name": "stdout",
     "output_type": "stream",
     "text": [
      "0.7842561511038373\n",
      "[WRITE] Saved result from sample_10_state_county_county_desired_25ppc_700_size_seed_1234.pkl to /home/libe2152/optimizedsampling/0_results/usavars/treecover/cluster_sampling_r2_scores.csv\n",
      "Fitting regression...\n",
      "NUM SAMPLES: 700\n",
      "Best alpha: 3.593813663804626\n"
     ]
    },
    {
     "name": "stderr",
     "output_type": "stream",
     "text": [
      "Processing samples:  44%|████▍     | 176/401 [13:31<22:19,  5.95s/it]"
     ]
    },
    {
     "name": "stdout",
     "output_type": "stream",
     "text": [
      "0.769005454650082\n",
      "[WRITE] Saved result from sample_10_state_county_county_desired_25ppc_700_size_seed_1415.pkl to /home/libe2152/optimizedsampling/0_results/usavars/treecover/cluster_sampling_r2_scores.csv\n",
      "Fitting regression...\n",
      "NUM SAMPLES: 700\n",
      "Best alpha: 3.593813663804626\n"
     ]
    },
    {
     "name": "stderr",
     "output_type": "stream",
     "text": [
      "Processing samples:  44%|████▍     | 177/401 [13:36<21:44,  5.82s/it]"
     ]
    },
    {
     "name": "stdout",
     "output_type": "stream",
     "text": [
      "0.7265240224007241\n",
      "[WRITE] Saved result from sample_10_state_county_county_desired_25ppc_700_size_seed_42.pkl to /home/libe2152/optimizedsampling/0_results/usavars/treecover/cluster_sampling_r2_scores.csv\n",
      "Fitting regression...\n",
      "NUM SAMPLES: 700\n",
      "Best alpha: 3.593813663804626\n"
     ]
    },
    {
     "name": "stderr",
     "output_type": "stream",
     "text": [
      "Processing samples:  44%|████▍     | 178/401 [13:43<22:32,  6.07s/it]"
     ]
    },
    {
     "name": "stdout",
     "output_type": "stream",
     "text": [
      "0.7853930089780308\n",
      "[WRITE] Saved result from sample_10_state_county_county_desired_25ppc_700_size_seed_456.pkl to /home/libe2152/optimizedsampling/0_results/usavars/treecover/cluster_sampling_r2_scores.csv\n",
      "Fitting regression...\n",
      "NUM SAMPLES: 700\n",
      "Best alpha: 3.593813663804626\n"
     ]
    },
    {
     "name": "stderr",
     "output_type": "stream",
     "text": [
      "Processing samples:  45%|████▍     | 179/401 [13:49<22:15,  6.01s/it]"
     ]
    },
    {
     "name": "stdout",
     "output_type": "stream",
     "text": [
      "0.7753443813537395\n",
      "[WRITE] Saved result from sample_10_state_county_county_desired_25ppc_700_size_seed_5678.pkl to /home/libe2152/optimizedsampling/0_results/usavars/treecover/cluster_sampling_r2_scores.csv\n",
      "Fitting regression...\n",
      "NUM SAMPLES: 700\n",
      "Best alpha: 3.593813663804626\n"
     ]
    },
    {
     "name": "stderr",
     "output_type": "stream",
     "text": [
      "Processing samples:  45%|████▍     | 180/401 [13:54<21:27,  5.83s/it]"
     ]
    },
    {
     "name": "stdout",
     "output_type": "stream",
     "text": [
      "0.7895575931172192\n",
      "[WRITE] Saved result from sample_10_state_county_county_desired_25ppc_700_size_seed_789.pkl to /home/libe2152/optimizedsampling/0_results/usavars/treecover/cluster_sampling_r2_scores.csv\n",
      "Fitting regression...\n",
      "NUM SAMPLES: 700\n",
      "Best alpha: 3.593813663804626\n"
     ]
    },
    {
     "name": "stderr",
     "output_type": "stream",
     "text": [
      "Processing samples:  45%|████▌     | 181/401 [14:00<21:29,  5.86s/it]"
     ]
    },
    {
     "name": "stdout",
     "output_type": "stream",
     "text": [
      "0.7889985672030456\n",
      "[WRITE] Saved result from sample_10_state_county_county_desired_25ppc_700_size_seed_9101.pkl to /home/libe2152/optimizedsampling/0_results/usavars/treecover/cluster_sampling_r2_scores.csv\n",
      "Fitting regression...\n",
      "NUM SAMPLES: 800\n",
      "Best alpha: 3.593813663804626\n"
     ]
    },
    {
     "name": "stderr",
     "output_type": "stream",
     "text": [
      "Processing samples:  45%|████▌     | 182/401 [14:08<23:39,  6.48s/it]"
     ]
    },
    {
     "name": "stdout",
     "output_type": "stream",
     "text": [
      "0.7023012276780844\n",
      "[WRITE] Saved result from sample_10_state_county_county_desired_25ppc_800_size_seed_1.pkl to /home/libe2152/optimizedsampling/0_results/usavars/treecover/cluster_sampling_r2_scores.csv\n",
      "Fitting regression...\n",
      "NUM SAMPLES: 800\n",
      "Best alpha: 3.593813663804626\n"
     ]
    },
    {
     "name": "stderr",
     "output_type": "stream",
     "text": [
      "Processing samples:  46%|████▌     | 183/401 [14:16<25:02,  6.89s/it]"
     ]
    },
    {
     "name": "stdout",
     "output_type": "stream",
     "text": [
      "0.7964703187630429\n",
      "[WRITE] Saved result from sample_10_state_county_county_desired_25ppc_800_size_seed_1213.pkl to /home/libe2152/optimizedsampling/0_results/usavars/treecover/cluster_sampling_r2_scores.csv\n",
      "Fitting regression...\n",
      "NUM SAMPLES: 800\n",
      "Best alpha: 3.593813663804626\n"
     ]
    },
    {
     "name": "stderr",
     "output_type": "stream",
     "text": [
      "Processing samples:  46%|████▌     | 184/401 [14:24<25:54,  7.16s/it]"
     ]
    },
    {
     "name": "stdout",
     "output_type": "stream",
     "text": [
      "0.7475138021821269\n",
      "[WRITE] Saved result from sample_10_state_county_county_desired_25ppc_800_size_seed_123.pkl to /home/libe2152/optimizedsampling/0_results/usavars/treecover/cluster_sampling_r2_scores.csv\n",
      "Fitting regression...\n",
      "NUM SAMPLES: 800\n",
      "Best alpha: 3.593813663804626\n"
     ]
    },
    {
     "name": "stderr",
     "output_type": "stream",
     "text": [
      "Processing samples:  46%|████▌     | 185/401 [14:31<26:36,  7.39s/it]"
     ]
    },
    {
     "name": "stdout",
     "output_type": "stream",
     "text": [
      "0.8003377734788556\n",
      "[WRITE] Saved result from sample_10_state_county_county_desired_25ppc_800_size_seed_1234.pkl to /home/libe2152/optimizedsampling/0_results/usavars/treecover/cluster_sampling_r2_scores.csv\n",
      "Fitting regression...\n",
      "NUM SAMPLES: 800\n",
      "Best alpha: 3.593813663804626\n"
     ]
    },
    {
     "name": "stderr",
     "output_type": "stream",
     "text": [
      "Processing samples:  46%|████▋     | 186/401 [14:39<26:42,  7.45s/it]"
     ]
    },
    {
     "name": "stdout",
     "output_type": "stream",
     "text": [
      "0.7699304184185075\n",
      "[WRITE] Saved result from sample_10_state_county_county_desired_25ppc_800_size_seed_1415.pkl to /home/libe2152/optimizedsampling/0_results/usavars/treecover/cluster_sampling_r2_scores.csv\n",
      "Fitting regression...\n",
      "NUM SAMPLES: 800\n",
      "Best alpha: 3.593813663804626\n"
     ]
    },
    {
     "name": "stderr",
     "output_type": "stream",
     "text": [
      "Processing samples:  47%|████▋     | 187/401 [14:46<26:31,  7.44s/it]"
     ]
    },
    {
     "name": "stdout",
     "output_type": "stream",
     "text": [
      "0.7439907859378156\n",
      "[WRITE] Saved result from sample_10_state_county_county_desired_25ppc_800_size_seed_42.pkl to /home/libe2152/optimizedsampling/0_results/usavars/treecover/cluster_sampling_r2_scores.csv\n",
      "Fitting regression...\n",
      "NUM SAMPLES: 800\n",
      "Best alpha: 3.593813663804626\n"
     ]
    },
    {
     "name": "stderr",
     "output_type": "stream",
     "text": [
      "Processing samples:  47%|████▋     | 188/401 [14:54<26:32,  7.48s/it]"
     ]
    },
    {
     "name": "stdout",
     "output_type": "stream",
     "text": [
      "0.786182542868111\n",
      "[WRITE] Saved result from sample_10_state_county_county_desired_25ppc_800_size_seed_456.pkl to /home/libe2152/optimizedsampling/0_results/usavars/treecover/cluster_sampling_r2_scores.csv\n",
      "Fitting regression...\n",
      "NUM SAMPLES: 800\n",
      "Best alpha: 3.593813663804626\n"
     ]
    },
    {
     "name": "stderr",
     "output_type": "stream",
     "text": [
      "Processing samples:  47%|████▋     | 189/401 [15:02<26:50,  7.59s/it]"
     ]
    },
    {
     "name": "stdout",
     "output_type": "stream",
     "text": [
      "0.7807784618420008\n",
      "[WRITE] Saved result from sample_10_state_county_county_desired_25ppc_800_size_seed_5678.pkl to /home/libe2152/optimizedsampling/0_results/usavars/treecover/cluster_sampling_r2_scores.csv\n",
      "Fitting regression...\n",
      "NUM SAMPLES: 800\n",
      "Best alpha: 3.593813663804626\n"
     ]
    },
    {
     "name": "stderr",
     "output_type": "stream",
     "text": [
      "Processing samples:  47%|████▋     | 190/401 [15:09<26:26,  7.52s/it]"
     ]
    },
    {
     "name": "stdout",
     "output_type": "stream",
     "text": [
      "0.7987636292187019\n",
      "[WRITE] Saved result from sample_10_state_county_county_desired_25ppc_800_size_seed_789.pkl to /home/libe2152/optimizedsampling/0_results/usavars/treecover/cluster_sampling_r2_scores.csv\n",
      "Fitting regression...\n",
      "NUM SAMPLES: 800\n",
      "Best alpha: 3.593813663804626\n"
     ]
    },
    {
     "name": "stderr",
     "output_type": "stream",
     "text": [
      "Processing samples:  48%|████▊     | 191/401 [15:17<26:06,  7.46s/it]"
     ]
    },
    {
     "name": "stdout",
     "output_type": "stream",
     "text": [
      "0.8047995946669734\n",
      "[WRITE] Saved result from sample_10_state_county_county_desired_25ppc_800_size_seed_9101.pkl to /home/libe2152/optimizedsampling/0_results/usavars/treecover/cluster_sampling_r2_scores.csv\n",
      "Fitting regression...\n",
      "NUM SAMPLES: 900\n",
      "Best alpha: 3.593813663804626\n"
     ]
    },
    {
     "name": "stderr",
     "output_type": "stream",
     "text": [
      "Processing samples:  48%|████▊     | 192/401 [15:25<26:37,  7.65s/it]"
     ]
    },
    {
     "name": "stdout",
     "output_type": "stream",
     "text": [
      "0.7112448179147912\n",
      "[WRITE] Saved result from sample_10_state_county_county_desired_25ppc_900_size_seed_1.pkl to /home/libe2152/optimizedsampling/0_results/usavars/treecover/cluster_sampling_r2_scores.csv\n",
      "Fitting regression...\n",
      "NUM SAMPLES: 900\n",
      "Best alpha: 3.593813663804626\n"
     ]
    },
    {
     "name": "stderr",
     "output_type": "stream",
     "text": [
      "Processing samples:  48%|████▊     | 193/401 [15:33<26:53,  7.76s/it]"
     ]
    },
    {
     "name": "stdout",
     "output_type": "stream",
     "text": [
      "0.7788802178251442\n",
      "[WRITE] Saved result from sample_10_state_county_county_desired_25ppc_900_size_seed_1213.pkl to /home/libe2152/optimizedsampling/0_results/usavars/treecover/cluster_sampling_r2_scores.csv\n",
      "Fitting regression...\n",
      "NUM SAMPLES: 900\n",
      "Best alpha: 3.593813663804626\n"
     ]
    },
    {
     "name": "stderr",
     "output_type": "stream",
     "text": [
      "Processing samples:  48%|████▊     | 194/401 [15:41<27:14,  7.90s/it]"
     ]
    },
    {
     "name": "stdout",
     "output_type": "stream",
     "text": [
      "0.7720243764881574\n",
      "[WRITE] Saved result from sample_10_state_county_county_desired_25ppc_900_size_seed_123.pkl to /home/libe2152/optimizedsampling/0_results/usavars/treecover/cluster_sampling_r2_scores.csv\n",
      "Fitting regression...\n",
      "NUM SAMPLES: 900\n",
      "Best alpha: 3.593813663804626\n"
     ]
    },
    {
     "name": "stderr",
     "output_type": "stream",
     "text": [
      "Processing samples:  49%|████▊     | 195/401 [15:49<27:25,  7.99s/it]"
     ]
    },
    {
     "name": "stdout",
     "output_type": "stream",
     "text": [
      "0.8153592215642225\n",
      "[WRITE] Saved result from sample_10_state_county_county_desired_25ppc_900_size_seed_1234.pkl to /home/libe2152/optimizedsampling/0_results/usavars/treecover/cluster_sampling_r2_scores.csv\n",
      "Fitting regression...\n",
      "NUM SAMPLES: 900\n",
      "Best alpha: 0.2782559402207126\n"
     ]
    },
    {
     "name": "stderr",
     "output_type": "stream",
     "text": [
      "Processing samples:  49%|████▉     | 196/401 [15:57<27:39,  8.10s/it]"
     ]
    },
    {
     "name": "stdout",
     "output_type": "stream",
     "text": [
      "0.7588073153686873\n",
      "[WRITE] Saved result from sample_10_state_county_county_desired_25ppc_900_size_seed_1415.pkl to /home/libe2152/optimizedsampling/0_results/usavars/treecover/cluster_sampling_r2_scores.csv\n",
      "Fitting regression...\n",
      "NUM SAMPLES: 900\n",
      "Best alpha: 3.593813663804626\n"
     ]
    },
    {
     "name": "stderr",
     "output_type": "stream",
     "text": [
      "Processing samples:  49%|████▉     | 197/401 [16:06<27:59,  8.23s/it]"
     ]
    },
    {
     "name": "stdout",
     "output_type": "stream",
     "text": [
      "0.7390198731024292\n",
      "[WRITE] Saved result from sample_10_state_county_county_desired_25ppc_900_size_seed_42.pkl to /home/libe2152/optimizedsampling/0_results/usavars/treecover/cluster_sampling_r2_scores.csv\n",
      "Fitting regression...\n",
      "NUM SAMPLES: 900\n",
      "Best alpha: 3.593813663804626\n"
     ]
    },
    {
     "name": "stderr",
     "output_type": "stream",
     "text": [
      "Processing samples:  49%|████▉     | 198/401 [16:14<27:46,  8.21s/it]"
     ]
    },
    {
     "name": "stdout",
     "output_type": "stream",
     "text": [
      "0.7786601405366975\n",
      "[WRITE] Saved result from sample_10_state_county_county_desired_25ppc_900_size_seed_456.pkl to /home/libe2152/optimizedsampling/0_results/usavars/treecover/cluster_sampling_r2_scores.csv\n",
      "Fitting regression...\n",
      "NUM SAMPLES: 900\n",
      "Best alpha: 3.593813663804626\n"
     ]
    },
    {
     "name": "stderr",
     "output_type": "stream",
     "text": [
      "Processing samples:  50%|████▉     | 199/401 [16:23<27:50,  8.27s/it]"
     ]
    },
    {
     "name": "stdout",
     "output_type": "stream",
     "text": [
      "0.7846953166853241\n",
      "[WRITE] Saved result from sample_10_state_county_county_desired_25ppc_900_size_seed_5678.pkl to /home/libe2152/optimizedsampling/0_results/usavars/treecover/cluster_sampling_r2_scores.csv\n",
      "Fitting regression...\n",
      "NUM SAMPLES: 900\n",
      "Best alpha: 3.593813663804626\n"
     ]
    },
    {
     "name": "stderr",
     "output_type": "stream",
     "text": [
      "Processing samples:  50%|████▉     | 200/401 [16:31<27:38,  8.25s/it]"
     ]
    },
    {
     "name": "stdout",
     "output_type": "stream",
     "text": [
      "0.7917715292271488\n",
      "[WRITE] Saved result from sample_10_state_county_county_desired_25ppc_900_size_seed_789.pkl to /home/libe2152/optimizedsampling/0_results/usavars/treecover/cluster_sampling_r2_scores.csv\n",
      "Fitting regression...\n",
      "NUM SAMPLES: 900\n",
      "Best alpha: 3.593813663804626\n"
     ]
    },
    {
     "name": "stderr",
     "output_type": "stream",
     "text": [
      "Processing samples:  50%|█████     | 201/401 [16:39<27:31,  8.26s/it]"
     ]
    },
    {
     "name": "stdout",
     "output_type": "stream",
     "text": [
      "0.8239294045615023\n",
      "[WRITE] Saved result from sample_10_state_county_county_desired_25ppc_900_size_seed_9101.pkl to /home/libe2152/optimizedsampling/0_results/usavars/treecover/cluster_sampling_r2_scores.csv\n",
      "Fitting regression...\n",
      "NUM SAMPLES: 1000\n",
      "Best alpha: 3.593813663804626\n"
     ]
    },
    {
     "name": "stderr",
     "output_type": "stream",
     "text": [
      "Processing samples:  50%|█████     | 202/401 [16:48<27:53,  8.41s/it]"
     ]
    },
    {
     "name": "stdout",
     "output_type": "stream",
     "text": [
      "0.7779403967874932\n",
      "[WRITE] Saved result from sample_10_state_county_county_desired_2ppc_1000_size_seed_1.pkl to /home/libe2152/optimizedsampling/0_results/usavars/treecover/cluster_sampling_r2_scores.csv\n",
      "Fitting regression...\n",
      "NUM SAMPLES: 1000\n",
      "Best alpha: 3.593813663804626\n"
     ]
    },
    {
     "name": "stderr",
     "output_type": "stream",
     "text": [
      "Processing samples:  51%|█████     | 203/401 [16:56<27:45,  8.41s/it]"
     ]
    },
    {
     "name": "stdout",
     "output_type": "stream",
     "text": [
      "0.829623129274885\n",
      "[WRITE] Saved result from sample_10_state_county_county_desired_2ppc_1000_size_seed_1213.pkl to /home/libe2152/optimizedsampling/0_results/usavars/treecover/cluster_sampling_r2_scores.csv\n",
      "Fitting regression...\n",
      "NUM SAMPLES: 1000\n",
      "Best alpha: 3.593813663804626\n"
     ]
    },
    {
     "name": "stderr",
     "output_type": "stream",
     "text": [
      "Processing samples:  51%|█████     | 204/401 [17:05<28:05,  8.56s/it]"
     ]
    },
    {
     "name": "stdout",
     "output_type": "stream",
     "text": [
      "0.8084786369977367\n",
      "[WRITE] Saved result from sample_10_state_county_county_desired_2ppc_1000_size_seed_123.pkl to /home/libe2152/optimizedsampling/0_results/usavars/treecover/cluster_sampling_r2_scores.csv\n",
      "Fitting regression...\n",
      "NUM SAMPLES: 1000\n",
      "Best alpha: 3.593813663804626\n"
     ]
    },
    {
     "name": "stderr",
     "output_type": "stream",
     "text": [
      "Processing samples:  51%|█████     | 205/401 [17:14<28:19,  8.67s/it]"
     ]
    },
    {
     "name": "stdout",
     "output_type": "stream",
     "text": [
      "0.8245963005192415\n",
      "[WRITE] Saved result from sample_10_state_county_county_desired_2ppc_1000_size_seed_1234.pkl to /home/libe2152/optimizedsampling/0_results/usavars/treecover/cluster_sampling_r2_scores.csv\n",
      "Fitting regression...\n",
      "NUM SAMPLES: 1000\n",
      "Best alpha: 3.593813663804626\n"
     ]
    },
    {
     "name": "stderr",
     "output_type": "stream",
     "text": [
      "Processing samples:  51%|█████▏    | 206/401 [17:23<28:28,  8.76s/it]"
     ]
    },
    {
     "name": "stdout",
     "output_type": "stream",
     "text": [
      "0.820981082203751\n",
      "[WRITE] Saved result from sample_10_state_county_county_desired_2ppc_1000_size_seed_1415.pkl to /home/libe2152/optimizedsampling/0_results/usavars/treecover/cluster_sampling_r2_scores.csv\n",
      "Fitting regression...\n",
      "NUM SAMPLES: 1000\n",
      "Best alpha: 3.593813663804626\n"
     ]
    },
    {
     "name": "stderr",
     "output_type": "stream",
     "text": [
      "Processing samples:  52%|█████▏    | 207/401 [17:32<28:27,  8.80s/it]"
     ]
    },
    {
     "name": "stdout",
     "output_type": "stream",
     "text": [
      "0.763040116067278\n",
      "[WRITE] Saved result from sample_10_state_county_county_desired_2ppc_1000_size_seed_42.pkl to /home/libe2152/optimizedsampling/0_results/usavars/treecover/cluster_sampling_r2_scores.csv\n",
      "Fitting regression...\n",
      "NUM SAMPLES: 1000\n",
      "Best alpha: 3.593813663804626\n"
     ]
    },
    {
     "name": "stderr",
     "output_type": "stream",
     "text": [
      "Processing samples:  52%|█████▏    | 208/401 [17:41<28:25,  8.84s/it]"
     ]
    },
    {
     "name": "stdout",
     "output_type": "stream",
     "text": [
      "0.7654158532925966\n",
      "[WRITE] Saved result from sample_10_state_county_county_desired_2ppc_1000_size_seed_456.pkl to /home/libe2152/optimizedsampling/0_results/usavars/treecover/cluster_sampling_r2_scores.csv\n",
      "Fitting regression...\n",
      "NUM SAMPLES: 1000\n",
      "Best alpha: 3.593813663804626\n"
     ]
    },
    {
     "name": "stderr",
     "output_type": "stream",
     "text": [
      "Processing samples:  52%|█████▏    | 209/401 [17:50<28:12,  8.82s/it]"
     ]
    },
    {
     "name": "stdout",
     "output_type": "stream",
     "text": [
      "0.8111488350113124\n",
      "[WRITE] Saved result from sample_10_state_county_county_desired_2ppc_1000_size_seed_5678.pkl to /home/libe2152/optimizedsampling/0_results/usavars/treecover/cluster_sampling_r2_scores.csv\n",
      "Fitting regression...\n",
      "NUM SAMPLES: 1000\n",
      "Best alpha: 3.593813663804626\n"
     ]
    },
    {
     "name": "stderr",
     "output_type": "stream",
     "text": [
      "Processing samples:  52%|█████▏    | 210/401 [17:58<27:52,  8.76s/it]"
     ]
    },
    {
     "name": "stdout",
     "output_type": "stream",
     "text": [
      "0.8285283312716755\n",
      "[WRITE] Saved result from sample_10_state_county_county_desired_2ppc_1000_size_seed_789.pkl to /home/libe2152/optimizedsampling/0_results/usavars/treecover/cluster_sampling_r2_scores.csv\n",
      "Fitting regression...\n",
      "NUM SAMPLES: 1000\n",
      "Best alpha: 3.593813663804626\n"
     ]
    },
    {
     "name": "stderr",
     "output_type": "stream",
     "text": [
      "Processing samples:  53%|█████▎    | 211/401 [18:07<27:28,  8.68s/it]"
     ]
    },
    {
     "name": "stdout",
     "output_type": "stream",
     "text": [
      "0.8357427466664817\n",
      "[WRITE] Saved result from sample_10_state_county_county_desired_2ppc_1000_size_seed_9101.pkl to /home/libe2152/optimizedsampling/0_results/usavars/treecover/cluster_sampling_r2_scores.csv\n",
      "Fitting regression...\n",
      "NUM SAMPLES: 100\n",
      "Best alpha: 46.41588833612782\n"
     ]
    },
    {
     "name": "stderr",
     "output_type": "stream",
     "text": [
      "Processing samples:  53%|█████▎    | 212/401 [18:07<19:45,  6.27s/it]"
     ]
    },
    {
     "name": "stdout",
     "output_type": "stream",
     "text": [
      "0.667931893690333\n",
      "[WRITE] Saved result from sample_10_state_county_county_desired_2ppc_100_size_seed_1.pkl to /home/libe2152/optimizedsampling/0_results/usavars/treecover/cluster_sampling_r2_scores.csv\n",
      "Fitting regression...\n",
      "NUM SAMPLES: 100\n",
      "Best alpha: 46.41588833612782\n"
     ]
    },
    {
     "name": "stderr",
     "output_type": "stream",
     "text": [
      "Processing samples:  53%|█████▎    | 213/401 [18:08<14:21,  4.58s/it]"
     ]
    },
    {
     "name": "stdout",
     "output_type": "stream",
     "text": [
      "0.7106641838054931\n",
      "[WRITE] Saved result from sample_10_state_county_county_desired_2ppc_100_size_seed_1213.pkl to /home/libe2152/optimizedsampling/0_results/usavars/treecover/cluster_sampling_r2_scores.csv\n",
      "Fitting regression...\n",
      "NUM SAMPLES: 100\n",
      "Best alpha: 46.41588833612782\n"
     ]
    },
    {
     "name": "stderr",
     "output_type": "stream",
     "text": [
      "Processing samples:  53%|█████▎    | 214/401 [18:09<10:36,  3.40s/it]"
     ]
    },
    {
     "name": "stdout",
     "output_type": "stream",
     "text": [
      "0.559490247240236\n",
      "[WRITE] Saved result from sample_10_state_county_county_desired_2ppc_100_size_seed_123.pkl to /home/libe2152/optimizedsampling/0_results/usavars/treecover/cluster_sampling_r2_scores.csv\n",
      "Fitting regression...\n",
      "NUM SAMPLES: 100\n",
      "Best alpha: 46.41588833612782\n"
     ]
    },
    {
     "name": "stderr",
     "output_type": "stream",
     "text": [
      "Processing samples:  54%|█████▎    | 215/401 [18:09<07:58,  2.57s/it]"
     ]
    },
    {
     "name": "stdout",
     "output_type": "stream",
     "text": [
      "0.6306890856911207\n",
      "[WRITE] Saved result from sample_10_state_county_county_desired_2ppc_100_size_seed_1234.pkl to /home/libe2152/optimizedsampling/0_results/usavars/treecover/cluster_sampling_r2_scores.csv\n",
      "Fitting regression...\n",
      "NUM SAMPLES: 100\n",
      "Best alpha: 46.41588833612782\n"
     ]
    },
    {
     "name": "stderr",
     "output_type": "stream",
     "text": [
      "Processing samples:  54%|█████▍    | 216/401 [18:10<06:08,  1.99s/it]"
     ]
    },
    {
     "name": "stdout",
     "output_type": "stream",
     "text": [
      "0.6623295153435308\n",
      "[WRITE] Saved result from sample_10_state_county_county_desired_2ppc_100_size_seed_1415.pkl to /home/libe2152/optimizedsampling/0_results/usavars/treecover/cluster_sampling_r2_scores.csv\n",
      "Fitting regression...\n",
      "NUM SAMPLES: 100\n",
      "Best alpha: 46.41588833612782\n"
     ]
    },
    {
     "name": "stderr",
     "output_type": "stream",
     "text": [
      "Processing samples:  54%|█████▍    | 217/401 [18:11<04:51,  1.59s/it]"
     ]
    },
    {
     "name": "stdout",
     "output_type": "stream",
     "text": [
      "0.5007430550982886\n",
      "[WRITE] Saved result from sample_10_state_county_county_desired_2ppc_100_size_seed_42.pkl to /home/libe2152/optimizedsampling/0_results/usavars/treecover/cluster_sampling_r2_scores.csv\n",
      "Fitting regression...\n",
      "NUM SAMPLES: 100\n",
      "Best alpha: 599.4842503189421\n"
     ]
    },
    {
     "name": "stderr",
     "output_type": "stream",
     "text": [
      "Processing samples:  54%|█████▍    | 218/401 [18:11<03:57,  1.30s/it]"
     ]
    },
    {
     "name": "stdout",
     "output_type": "stream",
     "text": [
      "0.6465876558402579\n",
      "[WRITE] Saved result from sample_10_state_county_county_desired_2ppc_100_size_seed_456.pkl to /home/libe2152/optimizedsampling/0_results/usavars/treecover/cluster_sampling_r2_scores.csv\n",
      "Fitting regression...\n",
      "NUM SAMPLES: 100\n",
      "Best alpha: 46.41588833612782\n"
     ]
    },
    {
     "name": "stderr",
     "output_type": "stream",
     "text": [
      "Processing samples:  55%|█████▍    | 219/401 [18:12<03:20,  1.10s/it]"
     ]
    },
    {
     "name": "stdout",
     "output_type": "stream",
     "text": [
      "0.7457154808335829\n",
      "[WRITE] Saved result from sample_10_state_county_county_desired_2ppc_100_size_seed_5678.pkl to /home/libe2152/optimizedsampling/0_results/usavars/treecover/cluster_sampling_r2_scores.csv\n",
      "Fitting regression...\n",
      "NUM SAMPLES: 100\n",
      "Best alpha: 46.41588833612782\n"
     ]
    },
    {
     "name": "stderr",
     "output_type": "stream",
     "text": [
      "Processing samples:  55%|█████▍    | 220/401 [18:12<02:54,  1.04it/s]"
     ]
    },
    {
     "name": "stdout",
     "output_type": "stream",
     "text": [
      "0.7261304044037387\n",
      "[WRITE] Saved result from sample_10_state_county_county_desired_2ppc_100_size_seed_789.pkl to /home/libe2152/optimizedsampling/0_results/usavars/treecover/cluster_sampling_r2_scores.csv\n",
      "Fitting regression...\n",
      "NUM SAMPLES: 100\n",
      "Best alpha: 46.41588833612782\n"
     ]
    },
    {
     "name": "stderr",
     "output_type": "stream",
     "text": [
      "Processing samples:  55%|█████▌    | 221/401 [18:13<02:36,  1.15it/s]"
     ]
    },
    {
     "name": "stdout",
     "output_type": "stream",
     "text": [
      "0.7373821989423358\n",
      "[WRITE] Saved result from sample_10_state_county_county_desired_2ppc_100_size_seed_9101.pkl to /home/libe2152/optimizedsampling/0_results/usavars/treecover/cluster_sampling_r2_scores.csv\n",
      "Fitting regression...\n",
      "NUM SAMPLES: 200\n",
      "Best alpha: 46.41588833612782\n"
     ]
    },
    {
     "name": "stderr",
     "output_type": "stream",
     "text": [
      "Processing samples:  55%|█████▌    | 222/401 [18:15<03:26,  1.16s/it]"
     ]
    },
    {
     "name": "stdout",
     "output_type": "stream",
     "text": [
      "0.6930114120486439\n",
      "[WRITE] Saved result from sample_10_state_county_county_desired_2ppc_200_size_seed_1.pkl to /home/libe2152/optimizedsampling/0_results/usavars/treecover/cluster_sampling_r2_scores.csv\n",
      "Fitting regression...\n",
      "NUM SAMPLES: 200\n",
      "Best alpha: 46.41588833612782\n"
     ]
    },
    {
     "name": "stderr",
     "output_type": "stream",
     "text": [
      "Processing samples:  56%|█████▌    | 223/401 [18:17<04:14,  1.43s/it]"
     ]
    },
    {
     "name": "stdout",
     "output_type": "stream",
     "text": [
      "0.7121684619021973\n",
      "[WRITE] Saved result from sample_10_state_county_county_desired_2ppc_200_size_seed_1213.pkl to /home/libe2152/optimizedsampling/0_results/usavars/treecover/cluster_sampling_r2_scores.csv\n",
      "Fitting regression...\n",
      "NUM SAMPLES: 200\n",
      "Best alpha: 46.41588833612782\n"
     ]
    },
    {
     "name": "stderr",
     "output_type": "stream",
     "text": [
      "Processing samples:  56%|█████▌    | 224/401 [18:19<04:34,  1.55s/it]"
     ]
    },
    {
     "name": "stdout",
     "output_type": "stream",
     "text": [
      "0.6533215207488776\n",
      "[WRITE] Saved result from sample_10_state_county_county_desired_2ppc_200_size_seed_123.pkl to /home/libe2152/optimizedsampling/0_results/usavars/treecover/cluster_sampling_r2_scores.csv\n",
      "Fitting regression...\n",
      "NUM SAMPLES: 200\n",
      "Best alpha: 46.41588833612782\n"
     ]
    },
    {
     "name": "stderr",
     "output_type": "stream",
     "text": [
      "Processing samples:  56%|█████▌    | 225/401 [18:21<05:02,  1.72s/it]"
     ]
    },
    {
     "name": "stdout",
     "output_type": "stream",
     "text": [
      "0.7601162002012342\n",
      "[WRITE] Saved result from sample_10_state_county_county_desired_2ppc_200_size_seed_1234.pkl to /home/libe2152/optimizedsampling/0_results/usavars/treecover/cluster_sampling_r2_scores.csv\n",
      "Fitting regression...\n",
      "NUM SAMPLES: 200\n",
      "Best alpha: 46.41588833612782\n"
     ]
    },
    {
     "name": "stderr",
     "output_type": "stream",
     "text": [
      "Processing samples:  56%|█████▋    | 226/401 [18:23<05:03,  1.74s/it]"
     ]
    },
    {
     "name": "stdout",
     "output_type": "stream",
     "text": [
      "0.7579810563952222\n",
      "[WRITE] Saved result from sample_10_state_county_county_desired_2ppc_200_size_seed_1415.pkl to /home/libe2152/optimizedsampling/0_results/usavars/treecover/cluster_sampling_r2_scores.csv\n",
      "Fitting regression...\n",
      "NUM SAMPLES: 200\n",
      "Best alpha: 599.4842503189421\n"
     ]
    },
    {
     "name": "stderr",
     "output_type": "stream",
     "text": [
      "Processing samples:  57%|█████▋    | 227/401 [18:25<05:05,  1.75s/it]"
     ]
    },
    {
     "name": "stdout",
     "output_type": "stream",
     "text": [
      "0.5972017040689095\n",
      "[WRITE] Saved result from sample_10_state_county_county_desired_2ppc_200_size_seed_42.pkl to /home/libe2152/optimizedsampling/0_results/usavars/treecover/cluster_sampling_r2_scores.csv\n",
      "Fitting regression...\n",
      "NUM SAMPLES: 200\n",
      "Best alpha: 46.41588833612782\n"
     ]
    },
    {
     "name": "stderr",
     "output_type": "stream",
     "text": [
      "Processing samples:  57%|█████▋    | 228/401 [18:27<05:23,  1.87s/it]"
     ]
    },
    {
     "name": "stdout",
     "output_type": "stream",
     "text": [
      "0.7384187809828815\n",
      "[WRITE] Saved result from sample_10_state_county_county_desired_2ppc_200_size_seed_456.pkl to /home/libe2152/optimizedsampling/0_results/usavars/treecover/cluster_sampling_r2_scores.csv\n",
      "Fitting regression...\n",
      "NUM SAMPLES: 200\n",
      "Best alpha: 46.41588833612782\n"
     ]
    },
    {
     "name": "stderr",
     "output_type": "stream",
     "text": [
      "Processing samples:  57%|█████▋    | 229/401 [18:28<05:17,  1.85s/it]"
     ]
    },
    {
     "name": "stdout",
     "output_type": "stream",
     "text": [
      "0.7429532826078287\n",
      "[WRITE] Saved result from sample_10_state_county_county_desired_2ppc_200_size_seed_5678.pkl to /home/libe2152/optimizedsampling/0_results/usavars/treecover/cluster_sampling_r2_scores.csv\n",
      "Fitting regression...\n",
      "NUM SAMPLES: 200\n",
      "Best alpha: 3.593813663804626\n"
     ]
    },
    {
     "name": "stderr",
     "output_type": "stream",
     "text": [
      "Processing samples:  57%|█████▋    | 230/401 [18:30<05:15,  1.85s/it]"
     ]
    },
    {
     "name": "stdout",
     "output_type": "stream",
     "text": [
      "0.722749093903035\n",
      "[WRITE] Saved result from sample_10_state_county_county_desired_2ppc_200_size_seed_789.pkl to /home/libe2152/optimizedsampling/0_results/usavars/treecover/cluster_sampling_r2_scores.csv\n",
      "Fitting regression...\n",
      "NUM SAMPLES: 200\n",
      "Best alpha: 3.593813663804626\n"
     ]
    },
    {
     "name": "stderr",
     "output_type": "stream",
     "text": [
      "Processing samples:  58%|█████▊    | 231/401 [18:32<05:01,  1.77s/it]"
     ]
    },
    {
     "name": "stdout",
     "output_type": "stream",
     "text": [
      "0.7516450278309856\n",
      "[WRITE] Saved result from sample_10_state_county_county_desired_2ppc_200_size_seed_9101.pkl to /home/libe2152/optimizedsampling/0_results/usavars/treecover/cluster_sampling_r2_scores.csv\n",
      "Fitting regression...\n",
      "NUM SAMPLES: 300\n",
      "Best alpha: 46.41588833612782\n"
     ]
    },
    {
     "name": "stderr",
     "output_type": "stream",
     "text": [
      "Processing samples:  58%|█████▊    | 232/401 [18:34<05:23,  1.92s/it]"
     ]
    },
    {
     "name": "stdout",
     "output_type": "stream",
     "text": [
      "0.7314088759518069\n",
      "[WRITE] Saved result from sample_10_state_county_county_desired_2ppc_300_size_seed_1.pkl to /home/libe2152/optimizedsampling/0_results/usavars/treecover/cluster_sampling_r2_scores.csv\n",
      "Fitting regression...\n",
      "NUM SAMPLES: 300\n",
      "Best alpha: 46.41588833612782\n"
     ]
    },
    {
     "name": "stderr",
     "output_type": "stream",
     "text": [
      "Processing samples:  58%|█████▊    | 233/401 [18:36<05:19,  1.90s/it]"
     ]
    },
    {
     "name": "stdout",
     "output_type": "stream",
     "text": [
      "0.7515795460964521\n",
      "[WRITE] Saved result from sample_10_state_county_county_desired_2ppc_300_size_seed_1213.pkl to /home/libe2152/optimizedsampling/0_results/usavars/treecover/cluster_sampling_r2_scores.csv\n",
      "Fitting regression...\n",
      "NUM SAMPLES: 300\n",
      "Best alpha: 46.41588833612782\n"
     ]
    },
    {
     "name": "stderr",
     "output_type": "stream",
     "text": [
      "Processing samples:  58%|█████▊    | 234/401 [18:38<05:43,  2.06s/it]"
     ]
    },
    {
     "name": "stdout",
     "output_type": "stream",
     "text": [
      "0.7438401734132039\n",
      "[WRITE] Saved result from sample_10_state_county_county_desired_2ppc_300_size_seed_123.pkl to /home/libe2152/optimizedsampling/0_results/usavars/treecover/cluster_sampling_r2_scores.csv\n",
      "Fitting regression...\n",
      "NUM SAMPLES: 300\n",
      "Best alpha: 3.593813663804626\n"
     ]
    },
    {
     "name": "stderr",
     "output_type": "stream",
     "text": [
      "Processing samples:  59%|█████▊    | 235/401 [18:41<05:58,  2.16s/it]"
     ]
    },
    {
     "name": "stdout",
     "output_type": "stream",
     "text": [
      "0.6759415203855781\n",
      "[WRITE] Saved result from sample_10_state_county_county_desired_2ppc_300_size_seed_1234.pkl to /home/libe2152/optimizedsampling/0_results/usavars/treecover/cluster_sampling_r2_scores.csv\n",
      "Fitting regression...\n",
      "NUM SAMPLES: 300\n",
      "Best alpha: 3.593813663804626\n"
     ]
    },
    {
     "name": "stderr",
     "output_type": "stream",
     "text": [
      "Processing samples:  59%|█████▉    | 236/401 [18:44<06:41,  2.43s/it]"
     ]
    },
    {
     "name": "stdout",
     "output_type": "stream",
     "text": [
      "0.7589902753165082\n",
      "[WRITE] Saved result from sample_10_state_county_county_desired_2ppc_300_size_seed_1415.pkl to /home/libe2152/optimizedsampling/0_results/usavars/treecover/cluster_sampling_r2_scores.csv\n",
      "Fitting regression...\n",
      "NUM SAMPLES: 300\n",
      "Best alpha: 599.4842503189421\n"
     ]
    },
    {
     "name": "stderr",
     "output_type": "stream",
     "text": [
      "Processing samples:  59%|█████▉    | 237/401 [18:46<06:30,  2.38s/it]"
     ]
    },
    {
     "name": "stdout",
     "output_type": "stream",
     "text": [
      "0.6533113824299825\n",
      "[WRITE] Saved result from sample_10_state_county_county_desired_2ppc_300_size_seed_42.pkl to /home/libe2152/optimizedsampling/0_results/usavars/treecover/cluster_sampling_r2_scores.csv\n",
      "Fitting regression...\n",
      "NUM SAMPLES: 300\n",
      "Best alpha: 46.41588833612782\n"
     ]
    },
    {
     "name": "stderr",
     "output_type": "stream",
     "text": [
      "Processing samples:  59%|█████▉    | 238/401 [18:48<06:24,  2.36s/it]"
     ]
    },
    {
     "name": "stdout",
     "output_type": "stream",
     "text": [
      "0.7509290004657484\n",
      "[WRITE] Saved result from sample_10_state_county_county_desired_2ppc_300_size_seed_456.pkl to /home/libe2152/optimizedsampling/0_results/usavars/treecover/cluster_sampling_r2_scores.csv\n",
      "Fitting regression...\n",
      "NUM SAMPLES: 300\n",
      "Best alpha: 46.41588833612782\n"
     ]
    },
    {
     "name": "stderr",
     "output_type": "stream",
     "text": [
      "Processing samples:  60%|█████▉    | 239/401 [18:51<06:13,  2.31s/it]"
     ]
    },
    {
     "name": "stdout",
     "output_type": "stream",
     "text": [
      "0.7340008022727456\n",
      "[WRITE] Saved result from sample_10_state_county_county_desired_2ppc_300_size_seed_5678.pkl to /home/libe2152/optimizedsampling/0_results/usavars/treecover/cluster_sampling_r2_scores.csv\n",
      "Fitting regression...\n",
      "NUM SAMPLES: 300\n",
      "Best alpha: 3.593813663804626\n"
     ]
    },
    {
     "name": "stderr",
     "output_type": "stream",
     "text": [
      "Processing samples:  60%|█████▉    | 240/401 [18:53<06:22,  2.38s/it]"
     ]
    },
    {
     "name": "stdout",
     "output_type": "stream",
     "text": [
      "0.7610228726113887\n",
      "[WRITE] Saved result from sample_10_state_county_county_desired_2ppc_300_size_seed_789.pkl to /home/libe2152/optimizedsampling/0_results/usavars/treecover/cluster_sampling_r2_scores.csv\n",
      "Fitting regression...\n",
      "NUM SAMPLES: 300\n",
      "Best alpha: 3.593813663804626\n"
     ]
    },
    {
     "name": "stderr",
     "output_type": "stream",
     "text": [
      "Processing samples:  60%|██████    | 241/401 [18:56<06:23,  2.40s/it]"
     ]
    },
    {
     "name": "stdout",
     "output_type": "stream",
     "text": [
      "0.7807681561083396\n",
      "[WRITE] Saved result from sample_10_state_county_county_desired_2ppc_300_size_seed_9101.pkl to /home/libe2152/optimizedsampling/0_results/usavars/treecover/cluster_sampling_r2_scores.csv\n",
      "Fitting regression...\n",
      "NUM SAMPLES: 400\n",
      "Best alpha: 46.41588833612782\n"
     ]
    },
    {
     "name": "stderr",
     "output_type": "stream",
     "text": [
      "Processing samples:  60%|██████    | 242/401 [18:59<06:42,  2.53s/it]"
     ]
    },
    {
     "name": "stdout",
     "output_type": "stream",
     "text": [
      "0.7368922316970328\n",
      "[WRITE] Saved result from sample_10_state_county_county_desired_2ppc_400_size_seed_1.pkl to /home/libe2152/optimizedsampling/0_results/usavars/treecover/cluster_sampling_r2_scores.csv\n",
      "Fitting regression...\n",
      "NUM SAMPLES: 400\n",
      "Best alpha: 3.593813663804626\n"
     ]
    },
    {
     "name": "stderr",
     "output_type": "stream",
     "text": [
      "Processing samples:  61%|██████    | 243/401 [19:02<07:14,  2.75s/it]"
     ]
    },
    {
     "name": "stdout",
     "output_type": "stream",
     "text": [
      "0.7713071043313665\n",
      "[WRITE] Saved result from sample_10_state_county_county_desired_2ppc_400_size_seed_1213.pkl to /home/libe2152/optimizedsampling/0_results/usavars/treecover/cluster_sampling_r2_scores.csv\n",
      "Fitting regression...\n",
      "NUM SAMPLES: 400\n",
      "Best alpha: 3.593813663804626\n"
     ]
    },
    {
     "name": "stderr",
     "output_type": "stream",
     "text": [
      "Processing samples:  61%|██████    | 244/401 [19:05<07:23,  2.83s/it]"
     ]
    },
    {
     "name": "stdout",
     "output_type": "stream",
     "text": [
      "0.7534040040511636\n",
      "[WRITE] Saved result from sample_10_state_county_county_desired_2ppc_400_size_seed_123.pkl to /home/libe2152/optimizedsampling/0_results/usavars/treecover/cluster_sampling_r2_scores.csv\n",
      "Fitting regression...\n",
      "NUM SAMPLES: 400\n",
      "Best alpha: 3.593813663804626\n"
     ]
    },
    {
     "name": "stderr",
     "output_type": "stream",
     "text": [
      "Processing samples:  61%|██████    | 245/401 [19:08<07:52,  3.03s/it]"
     ]
    },
    {
     "name": "stdout",
     "output_type": "stream",
     "text": [
      "0.7486309458020635\n",
      "[WRITE] Saved result from sample_10_state_county_county_desired_2ppc_400_size_seed_1234.pkl to /home/libe2152/optimizedsampling/0_results/usavars/treecover/cluster_sampling_r2_scores.csv\n",
      "Fitting regression...\n",
      "NUM SAMPLES: 400\n",
      "Best alpha: 3.593813663804626\n"
     ]
    },
    {
     "name": "stderr",
     "output_type": "stream",
     "text": [
      "Processing samples:  61%|██████▏   | 246/401 [19:12<08:11,  3.17s/it]"
     ]
    },
    {
     "name": "stdout",
     "output_type": "stream",
     "text": [
      "0.7708921276555616\n",
      "[WRITE] Saved result from sample_10_state_county_county_desired_2ppc_400_size_seed_1415.pkl to /home/libe2152/optimizedsampling/0_results/usavars/treecover/cluster_sampling_r2_scores.csv\n",
      "Fitting regression...\n",
      "NUM SAMPLES: 400\n",
      "Best alpha: 46.41588833612782\n"
     ]
    },
    {
     "name": "stderr",
     "output_type": "stream",
     "text": [
      "Processing samples:  62%|██████▏   | 247/401 [19:15<07:51,  3.06s/it]"
     ]
    },
    {
     "name": "stdout",
     "output_type": "stream",
     "text": [
      "0.7786957842306694\n",
      "[WRITE] Saved result from sample_10_state_county_county_desired_2ppc_400_size_seed_42.pkl to /home/libe2152/optimizedsampling/0_results/usavars/treecover/cluster_sampling_r2_scores.csv\n",
      "Fitting regression...\n",
      "NUM SAMPLES: 400\n",
      "Best alpha: 46.41588833612782\n"
     ]
    },
    {
     "name": "stderr",
     "output_type": "stream",
     "text": [
      "Processing samples:  62%|██████▏   | 248/401 [19:17<07:28,  2.93s/it]"
     ]
    },
    {
     "name": "stdout",
     "output_type": "stream",
     "text": [
      "0.7647336784855246\n",
      "[WRITE] Saved result from sample_10_state_county_county_desired_2ppc_400_size_seed_456.pkl to /home/libe2152/optimizedsampling/0_results/usavars/treecover/cluster_sampling_r2_scores.csv\n",
      "Fitting regression...\n",
      "NUM SAMPLES: 400\n",
      "Best alpha: 3.593813663804626\n"
     ]
    },
    {
     "name": "stderr",
     "output_type": "stream",
     "text": [
      "Processing samples:  62%|██████▏   | 249/401 [19:20<07:14,  2.86s/it]"
     ]
    },
    {
     "name": "stdout",
     "output_type": "stream",
     "text": [
      "0.72139659357168\n",
      "[WRITE] Saved result from sample_10_state_county_county_desired_2ppc_400_size_seed_5678.pkl to /home/libe2152/optimizedsampling/0_results/usavars/treecover/cluster_sampling_r2_scores.csv\n",
      "Fitting regression...\n",
      "NUM SAMPLES: 400\n",
      "Best alpha: 3.593813663804626\n"
     ]
    },
    {
     "name": "stderr",
     "output_type": "stream",
     "text": [
      "Processing samples:  62%|██████▏   | 250/401 [19:23<07:42,  3.06s/it]"
     ]
    },
    {
     "name": "stdout",
     "output_type": "stream",
     "text": [
      "0.7969317829707394\n",
      "[WRITE] Saved result from sample_10_state_county_county_desired_2ppc_400_size_seed_789.pkl to /home/libe2152/optimizedsampling/0_results/usavars/treecover/cluster_sampling_r2_scores.csv\n",
      "Fitting regression...\n",
      "NUM SAMPLES: 400\n",
      "Best alpha: 3.593813663804626\n"
     ]
    },
    {
     "name": "stderr",
     "output_type": "stream",
     "text": [
      "Processing samples:  63%|██████▎   | 251/401 [19:26<07:21,  2.94s/it]"
     ]
    },
    {
     "name": "stdout",
     "output_type": "stream",
     "text": [
      "0.8033366109851706\n",
      "[WRITE] Saved result from sample_10_state_county_county_desired_2ppc_400_size_seed_9101.pkl to /home/libe2152/optimizedsampling/0_results/usavars/treecover/cluster_sampling_r2_scores.csv\n",
      "Fitting regression...\n",
      "NUM SAMPLES: 500\n",
      "Best alpha: 3.593813663804626\n"
     ]
    },
    {
     "name": "stderr",
     "output_type": "stream",
     "text": [
      "Processing samples:  63%|██████▎   | 252/401 [19:30<07:50,  3.16s/it]"
     ]
    },
    {
     "name": "stdout",
     "output_type": "stream",
     "text": [
      "0.770068609963543\n",
      "[WRITE] Saved result from sample_10_state_county_county_desired_2ppc_500_size_seed_1.pkl to /home/libe2152/optimizedsampling/0_results/usavars/treecover/cluster_sampling_r2_scores.csv\n",
      "Fitting regression...\n",
      "NUM SAMPLES: 500\n",
      "Best alpha: 3.593813663804626\n"
     ]
    },
    {
     "name": "stderr",
     "output_type": "stream",
     "text": [
      "Processing samples:  63%|██████▎   | 253/401 [19:33<08:00,  3.25s/it]"
     ]
    },
    {
     "name": "stdout",
     "output_type": "stream",
     "text": [
      "0.7635004014145031\n",
      "[WRITE] Saved result from sample_10_state_county_county_desired_2ppc_500_size_seed_1213.pkl to /home/libe2152/optimizedsampling/0_results/usavars/treecover/cluster_sampling_r2_scores.csv\n",
      "Fitting regression...\n",
      "NUM SAMPLES: 500\n",
      "Best alpha: 3.593813663804626\n"
     ]
    },
    {
     "name": "stderr",
     "output_type": "stream",
     "text": [
      "Processing samples:  63%|██████▎   | 254/401 [19:36<07:57,  3.25s/it]"
     ]
    },
    {
     "name": "stdout",
     "output_type": "stream",
     "text": [
      "0.768543809250703\n",
      "[WRITE] Saved result from sample_10_state_county_county_desired_2ppc_500_size_seed_123.pkl to /home/libe2152/optimizedsampling/0_results/usavars/treecover/cluster_sampling_r2_scores.csv\n",
      "Fitting regression...\n",
      "NUM SAMPLES: 500\n",
      "Best alpha: 3.593813663804626\n"
     ]
    },
    {
     "name": "stderr",
     "output_type": "stream",
     "text": [
      "Processing samples:  64%|██████▎   | 255/401 [19:40<08:06,  3.33s/it]"
     ]
    },
    {
     "name": "stdout",
     "output_type": "stream",
     "text": [
      "0.7890626848828908\n",
      "[WRITE] Saved result from sample_10_state_county_county_desired_2ppc_500_size_seed_1234.pkl to /home/libe2152/optimizedsampling/0_results/usavars/treecover/cluster_sampling_r2_scores.csv\n",
      "Fitting regression...\n",
      "NUM SAMPLES: 500\n",
      "Best alpha: 3.593813663804626\n"
     ]
    },
    {
     "name": "stderr",
     "output_type": "stream",
     "text": [
      "Processing samples:  64%|██████▍   | 256/401 [19:43<08:08,  3.37s/it]"
     ]
    },
    {
     "name": "stdout",
     "output_type": "stream",
     "text": [
      "0.7755122481039267\n",
      "[WRITE] Saved result from sample_10_state_county_county_desired_2ppc_500_size_seed_1415.pkl to /home/libe2152/optimizedsampling/0_results/usavars/treecover/cluster_sampling_r2_scores.csv\n",
      "Fitting regression...\n",
      "NUM SAMPLES: 500\n",
      "Best alpha: 3.593813663804626\n"
     ]
    },
    {
     "name": "stderr",
     "output_type": "stream",
     "text": [
      "Processing samples:  64%|██████▍   | 257/401 [19:47<08:23,  3.50s/it]"
     ]
    },
    {
     "name": "stdout",
     "output_type": "stream",
     "text": [
      "0.7442354042811864\n",
      "[WRITE] Saved result from sample_10_state_county_county_desired_2ppc_500_size_seed_42.pkl to /home/libe2152/optimizedsampling/0_results/usavars/treecover/cluster_sampling_r2_scores.csv\n",
      "Fitting regression...\n",
      "NUM SAMPLES: 500\n",
      "Best alpha: 3.593813663804626\n"
     ]
    },
    {
     "name": "stderr",
     "output_type": "stream",
     "text": [
      "Processing samples:  64%|██████▍   | 258/401 [19:51<08:31,  3.57s/it]"
     ]
    },
    {
     "name": "stdout",
     "output_type": "stream",
     "text": [
      "0.7276669157283702\n",
      "[WRITE] Saved result from sample_10_state_county_county_desired_2ppc_500_size_seed_456.pkl to /home/libe2152/optimizedsampling/0_results/usavars/treecover/cluster_sampling_r2_scores.csv\n",
      "Fitting regression...\n",
      "NUM SAMPLES: 500\n",
      "Best alpha: 3.593813663804626\n"
     ]
    },
    {
     "name": "stderr",
     "output_type": "stream",
     "text": [
      "Processing samples:  65%|██████▍   | 259/401 [19:54<08:23,  3.55s/it]"
     ]
    },
    {
     "name": "stdout",
     "output_type": "stream",
     "text": [
      "0.7403551258049488\n",
      "[WRITE] Saved result from sample_10_state_county_county_desired_2ppc_500_size_seed_5678.pkl to /home/libe2152/optimizedsampling/0_results/usavars/treecover/cluster_sampling_r2_scores.csv\n",
      "Fitting regression...\n",
      "NUM SAMPLES: 500\n",
      "Best alpha: 3.593813663804626\n"
     ]
    },
    {
     "name": "stderr",
     "output_type": "stream",
     "text": [
      "Processing samples:  65%|██████▍   | 260/401 [19:58<08:20,  3.55s/it]"
     ]
    },
    {
     "name": "stdout",
     "output_type": "stream",
     "text": [
      "0.8017694593749147\n",
      "[WRITE] Saved result from sample_10_state_county_county_desired_2ppc_500_size_seed_789.pkl to /home/libe2152/optimizedsampling/0_results/usavars/treecover/cluster_sampling_r2_scores.csv\n",
      "Fitting regression...\n",
      "NUM SAMPLES: 500\n",
      "Best alpha: 3.593813663804626\n"
     ]
    },
    {
     "name": "stderr",
     "output_type": "stream",
     "text": [
      "Processing samples:  65%|██████▌   | 261/401 [20:01<08:12,  3.52s/it]"
     ]
    },
    {
     "name": "stdout",
     "output_type": "stream",
     "text": [
      "0.8047895060610509\n",
      "[WRITE] Saved result from sample_10_state_county_county_desired_2ppc_500_size_seed_9101.pkl to /home/libe2152/optimizedsampling/0_results/usavars/treecover/cluster_sampling_r2_scores.csv\n",
      "Fitting regression...\n",
      "NUM SAMPLES: 600\n",
      "Best alpha: 3.593813663804626\n"
     ]
    },
    {
     "name": "stderr",
     "output_type": "stream",
     "text": [
      "Processing samples:  65%|██████▌   | 262/401 [20:07<09:42,  4.19s/it]"
     ]
    },
    {
     "name": "stdout",
     "output_type": "stream",
     "text": [
      "0.7832883240164626\n",
      "[WRITE] Saved result from sample_10_state_county_county_desired_2ppc_600_size_seed_1.pkl to /home/libe2152/optimizedsampling/0_results/usavars/treecover/cluster_sampling_r2_scores.csv\n",
      "Fitting regression...\n",
      "NUM SAMPLES: 600\n",
      "Best alpha: 3.593813663804626\n"
     ]
    },
    {
     "name": "stderr",
     "output_type": "stream",
     "text": [
      "Processing samples:  66%|██████▌   | 263/401 [20:14<11:11,  4.87s/it]"
     ]
    },
    {
     "name": "stdout",
     "output_type": "stream",
     "text": [
      "0.8003796167036733\n",
      "[WRITE] Saved result from sample_10_state_county_county_desired_2ppc_600_size_seed_1213.pkl to /home/libe2152/optimizedsampling/0_results/usavars/treecover/cluster_sampling_r2_scores.csv\n",
      "Fitting regression...\n",
      "NUM SAMPLES: 600\n",
      "Best alpha: 3.593813663804626\n"
     ]
    },
    {
     "name": "stderr",
     "output_type": "stream",
     "text": [
      "Processing samples:  66%|██████▌   | 264/401 [20:20<12:04,  5.29s/it]"
     ]
    },
    {
     "name": "stdout",
     "output_type": "stream",
     "text": [
      "0.7542216855830924\n",
      "[WRITE] Saved result from sample_10_state_county_county_desired_2ppc_600_size_seed_123.pkl to /home/libe2152/optimizedsampling/0_results/usavars/treecover/cluster_sampling_r2_scores.csv\n",
      "Fitting regression...\n",
      "NUM SAMPLES: 600\n",
      "Best alpha: 3.593813663804626\n"
     ]
    },
    {
     "name": "stderr",
     "output_type": "stream",
     "text": [
      "Processing samples:  66%|██████▌   | 265/401 [20:26<12:28,  5.51s/it]"
     ]
    },
    {
     "name": "stdout",
     "output_type": "stream",
     "text": [
      "0.7886956699973875\n",
      "[WRITE] Saved result from sample_10_state_county_county_desired_2ppc_600_size_seed_1234.pkl to /home/libe2152/optimizedsampling/0_results/usavars/treecover/cluster_sampling_r2_scores.csv\n",
      "Fitting regression...\n",
      "NUM SAMPLES: 600\n",
      "Best alpha: 3.593813663804626\n"
     ]
    },
    {
     "name": "stderr",
     "output_type": "stream",
     "text": [
      "Processing samples:  66%|██████▋   | 266/401 [20:31<11:48,  5.25s/it]"
     ]
    },
    {
     "name": "stdout",
     "output_type": "stream",
     "text": [
      "0.7824114655603652\n",
      "[WRITE] Saved result from sample_10_state_county_county_desired_2ppc_600_size_seed_1415.pkl to /home/libe2152/optimizedsampling/0_results/usavars/treecover/cluster_sampling_r2_scores.csv\n",
      "Fitting regression...\n",
      "NUM SAMPLES: 600\n",
      "Best alpha: 3.593813663804626\n"
     ]
    },
    {
     "name": "stderr",
     "output_type": "stream",
     "text": [
      "Processing samples:  67%|██████▋   | 267/401 [20:37<12:20,  5.52s/it]"
     ]
    },
    {
     "name": "stdout",
     "output_type": "stream",
     "text": [
      "0.7481103202634295\n",
      "[WRITE] Saved result from sample_10_state_county_county_desired_2ppc_600_size_seed_42.pkl to /home/libe2152/optimizedsampling/0_results/usavars/treecover/cluster_sampling_r2_scores.csv\n",
      "Fitting regression...\n",
      "NUM SAMPLES: 600\n",
      "Best alpha: 3.593813663804626\n"
     ]
    },
    {
     "name": "stderr",
     "output_type": "stream",
     "text": [
      "Processing samples:  67%|██████▋   | 268/401 [20:42<12:19,  5.56s/it]"
     ]
    },
    {
     "name": "stdout",
     "output_type": "stream",
     "text": [
      "0.7344063485300711\n",
      "[WRITE] Saved result from sample_10_state_county_county_desired_2ppc_600_size_seed_456.pkl to /home/libe2152/optimizedsampling/0_results/usavars/treecover/cluster_sampling_r2_scores.csv\n",
      "Fitting regression...\n",
      "NUM SAMPLES: 600\n",
      "Best alpha: 3.593813663804626\n"
     ]
    },
    {
     "name": "stderr",
     "output_type": "stream",
     "text": [
      "Processing samples:  67%|██████▋   | 269/401 [20:48<12:19,  5.60s/it]"
     ]
    },
    {
     "name": "stdout",
     "output_type": "stream",
     "text": [
      "0.7433601707294051\n",
      "[WRITE] Saved result from sample_10_state_county_county_desired_2ppc_600_size_seed_5678.pkl to /home/libe2152/optimizedsampling/0_results/usavars/treecover/cluster_sampling_r2_scores.csv\n",
      "Fitting regression...\n",
      "NUM SAMPLES: 600\n",
      "Best alpha: 3.593813663804626\n"
     ]
    },
    {
     "name": "stderr",
     "output_type": "stream",
     "text": [
      "Processing samples:  67%|██████▋   | 270/401 [20:54<12:22,  5.67s/it]"
     ]
    },
    {
     "name": "stdout",
     "output_type": "stream",
     "text": [
      "0.8133314662672536\n",
      "[WRITE] Saved result from sample_10_state_county_county_desired_2ppc_600_size_seed_789.pkl to /home/libe2152/optimizedsampling/0_results/usavars/treecover/cluster_sampling_r2_scores.csv\n",
      "Fitting regression...\n",
      "NUM SAMPLES: 600\n",
      "Best alpha: 3.593813663804626\n"
     ]
    },
    {
     "name": "stderr",
     "output_type": "stream",
     "text": [
      "Processing samples:  68%|██████▊   | 271/401 [20:59<11:50,  5.46s/it]"
     ]
    },
    {
     "name": "stdout",
     "output_type": "stream",
     "text": [
      "0.8180701541831227\n",
      "[WRITE] Saved result from sample_10_state_county_county_desired_2ppc_600_size_seed_9101.pkl to /home/libe2152/optimizedsampling/0_results/usavars/treecover/cluster_sampling_r2_scores.csv\n",
      "Fitting regression...\n",
      "NUM SAMPLES: 700\n",
      "Best alpha: 3.593813663804626\n"
     ]
    },
    {
     "name": "stderr",
     "output_type": "stream",
     "text": [
      "Processing samples:  68%|██████▊   | 272/401 [21:05<12:03,  5.61s/it]"
     ]
    },
    {
     "name": "stdout",
     "output_type": "stream",
     "text": [
      "0.7683733728796963\n",
      "[WRITE] Saved result from sample_10_state_county_county_desired_2ppc_700_size_seed_1.pkl to /home/libe2152/optimizedsampling/0_results/usavars/treecover/cluster_sampling_r2_scores.csv\n",
      "Fitting regression...\n",
      "NUM SAMPLES: 700\n",
      "Best alpha: 3.593813663804626\n"
     ]
    },
    {
     "name": "stderr",
     "output_type": "stream",
     "text": [
      "Processing samples:  68%|██████▊   | 273/401 [21:11<12:25,  5.82s/it]"
     ]
    },
    {
     "name": "stdout",
     "output_type": "stream",
     "text": [
      "0.8087823294174259\n",
      "[WRITE] Saved result from sample_10_state_county_county_desired_2ppc_700_size_seed_1213.pkl to /home/libe2152/optimizedsampling/0_results/usavars/treecover/cluster_sampling_r2_scores.csv\n",
      "Fitting regression...\n",
      "NUM SAMPLES: 700\n",
      "Best alpha: 3.593813663804626\n"
     ]
    },
    {
     "name": "stderr",
     "output_type": "stream",
     "text": [
      "Processing samples:  68%|██████▊   | 274/401 [21:17<12:23,  5.86s/it]"
     ]
    },
    {
     "name": "stdout",
     "output_type": "stream",
     "text": [
      "0.7945046033743087\n",
      "[WRITE] Saved result from sample_10_state_county_county_desired_2ppc_700_size_seed_123.pkl to /home/libe2152/optimizedsampling/0_results/usavars/treecover/cluster_sampling_r2_scores.csv\n",
      "Fitting regression...\n",
      "NUM SAMPLES: 700\n",
      "Best alpha: 3.593813663804626\n"
     ]
    },
    {
     "name": "stderr",
     "output_type": "stream",
     "text": [
      "Processing samples:  69%|██████▊   | 275/401 [21:23<12:21,  5.88s/it]"
     ]
    },
    {
     "name": "stdout",
     "output_type": "stream",
     "text": [
      "0.7949999383454635\n",
      "[WRITE] Saved result from sample_10_state_county_county_desired_2ppc_700_size_seed_1234.pkl to /home/libe2152/optimizedsampling/0_results/usavars/treecover/cluster_sampling_r2_scores.csv\n",
      "Fitting regression...\n",
      "NUM SAMPLES: 700\n",
      "Best alpha: 3.593813663804626\n"
     ]
    },
    {
     "name": "stderr",
     "output_type": "stream",
     "text": [
      "Processing samples:  69%|██████▉   | 276/401 [21:29<12:21,  5.94s/it]"
     ]
    },
    {
     "name": "stdout",
     "output_type": "stream",
     "text": [
      "0.7927116886034524\n",
      "[WRITE] Saved result from sample_10_state_county_county_desired_2ppc_700_size_seed_1415.pkl to /home/libe2152/optimizedsampling/0_results/usavars/treecover/cluster_sampling_r2_scores.csv\n",
      "Fitting regression...\n",
      "NUM SAMPLES: 700\n",
      "Best alpha: 3.593813663804626\n"
     ]
    },
    {
     "name": "stderr",
     "output_type": "stream",
     "text": [
      "Processing samples:  69%|██████▉   | 277/401 [21:35<12:08,  5.88s/it]"
     ]
    },
    {
     "name": "stdout",
     "output_type": "stream",
     "text": [
      "0.7436712870558018\n",
      "[WRITE] Saved result from sample_10_state_county_county_desired_2ppc_700_size_seed_42.pkl to /home/libe2152/optimizedsampling/0_results/usavars/treecover/cluster_sampling_r2_scores.csv\n",
      "Fitting regression...\n",
      "NUM SAMPLES: 700\n",
      "Best alpha: 3.593813663804626\n"
     ]
    },
    {
     "name": "stderr",
     "output_type": "stream",
     "text": [
      "Processing samples:  69%|██████▉   | 278/401 [21:41<12:23,  6.04s/it]"
     ]
    },
    {
     "name": "stdout",
     "output_type": "stream",
     "text": [
      "0.7387754924992309\n",
      "[WRITE] Saved result from sample_10_state_county_county_desired_2ppc_700_size_seed_456.pkl to /home/libe2152/optimizedsampling/0_results/usavars/treecover/cluster_sampling_r2_scores.csv\n",
      "Fitting regression...\n",
      "NUM SAMPLES: 700\n",
      "Best alpha: 3.593813663804626\n"
     ]
    },
    {
     "name": "stderr",
     "output_type": "stream",
     "text": [
      "Processing samples:  70%|██████▉   | 279/401 [21:47<12:06,  5.95s/it]"
     ]
    },
    {
     "name": "stdout",
     "output_type": "stream",
     "text": [
      "0.7614007842214501\n",
      "[WRITE] Saved result from sample_10_state_county_county_desired_2ppc_700_size_seed_5678.pkl to /home/libe2152/optimizedsampling/0_results/usavars/treecover/cluster_sampling_r2_scores.csv\n",
      "Fitting regression...\n",
      "NUM SAMPLES: 700\n",
      "Best alpha: 3.593813663804626\n"
     ]
    },
    {
     "name": "stderr",
     "output_type": "stream",
     "text": [
      "Processing samples:  70%|██████▉   | 280/401 [21:53<12:16,  6.09s/it]"
     ]
    },
    {
     "name": "stdout",
     "output_type": "stream",
     "text": [
      "0.821777546410192\n",
      "[WRITE] Saved result from sample_10_state_county_county_desired_2ppc_700_size_seed_789.pkl to /home/libe2152/optimizedsampling/0_results/usavars/treecover/cluster_sampling_r2_scores.csv\n",
      "Fitting regression...\n",
      "NUM SAMPLES: 700\n",
      "Best alpha: 3.593813663804626\n"
     ]
    },
    {
     "name": "stderr",
     "output_type": "stream",
     "text": [
      "Processing samples:  70%|███████   | 281/401 [22:00<12:14,  6.12s/it]"
     ]
    },
    {
     "name": "stdout",
     "output_type": "stream",
     "text": [
      "0.8208306047902126\n",
      "[WRITE] Saved result from sample_10_state_county_county_desired_2ppc_700_size_seed_9101.pkl to /home/libe2152/optimizedsampling/0_results/usavars/treecover/cluster_sampling_r2_scores.csv\n",
      "Fitting regression...\n",
      "NUM SAMPLES: 800\n",
      "Best alpha: 3.593813663804626\n"
     ]
    },
    {
     "name": "stderr",
     "output_type": "stream",
     "text": [
      "Processing samples:  70%|███████   | 282/401 [22:07<12:58,  6.55s/it]"
     ]
    },
    {
     "name": "stdout",
     "output_type": "stream",
     "text": [
      "0.7753533134737143\n",
      "[WRITE] Saved result from sample_10_state_county_county_desired_2ppc_800_size_seed_1.pkl to /home/libe2152/optimizedsampling/0_results/usavars/treecover/cluster_sampling_r2_scores.csv\n",
      "Fitting regression...\n",
      "NUM SAMPLES: 800\n",
      "Best alpha: 3.593813663804626\n"
     ]
    },
    {
     "name": "stderr",
     "output_type": "stream",
     "text": [
      "Processing samples:  71%|███████   | 283/401 [22:15<13:32,  6.88s/it]"
     ]
    },
    {
     "name": "stdout",
     "output_type": "stream",
     "text": [
      "0.8125749642664419\n",
      "[WRITE] Saved result from sample_10_state_county_county_desired_2ppc_800_size_seed_1213.pkl to /home/libe2152/optimizedsampling/0_results/usavars/treecover/cluster_sampling_r2_scores.csv\n",
      "Fitting regression...\n",
      "NUM SAMPLES: 800\n",
      "Best alpha: 3.593813663804626\n"
     ]
    },
    {
     "name": "stderr",
     "output_type": "stream",
     "text": [
      "Processing samples:  71%|███████   | 284/401 [22:22<13:51,  7.10s/it]"
     ]
    },
    {
     "name": "stdout",
     "output_type": "stream",
     "text": [
      "0.7948586030816153\n",
      "[WRITE] Saved result from sample_10_state_county_county_desired_2ppc_800_size_seed_123.pkl to /home/libe2152/optimizedsampling/0_results/usavars/treecover/cluster_sampling_r2_scores.csv\n",
      "Fitting regression...\n",
      "NUM SAMPLES: 800\n",
      "Best alpha: 3.593813663804626\n"
     ]
    },
    {
     "name": "stderr",
     "output_type": "stream",
     "text": [
      "Processing samples:  71%|███████   | 285/401 [22:30<14:06,  7.30s/it]"
     ]
    },
    {
     "name": "stdout",
     "output_type": "stream",
     "text": [
      "0.803988237680134\n",
      "[WRITE] Saved result from sample_10_state_county_county_desired_2ppc_800_size_seed_1234.pkl to /home/libe2152/optimizedsampling/0_results/usavars/treecover/cluster_sampling_r2_scores.csv\n",
      "Fitting regression...\n",
      "NUM SAMPLES: 800\n",
      "Best alpha: 3.593813663804626\n"
     ]
    },
    {
     "name": "stderr",
     "output_type": "stream",
     "text": [
      "Processing samples:  71%|███████▏  | 286/401 [22:38<14:13,  7.42s/it]"
     ]
    },
    {
     "name": "stdout",
     "output_type": "stream",
     "text": [
      "0.8166474793980805\n",
      "[WRITE] Saved result from sample_10_state_county_county_desired_2ppc_800_size_seed_1415.pkl to /home/libe2152/optimizedsampling/0_results/usavars/treecover/cluster_sampling_r2_scores.csv\n",
      "Fitting regression...\n",
      "NUM SAMPLES: 800\n",
      "Best alpha: 3.593813663804626\n"
     ]
    },
    {
     "name": "stderr",
     "output_type": "stream",
     "text": [
      "Processing samples:  72%|███████▏  | 287/401 [22:46<14:11,  7.47s/it]"
     ]
    },
    {
     "name": "stdout",
     "output_type": "stream",
     "text": [
      "0.7685803722948867\n",
      "[WRITE] Saved result from sample_10_state_county_county_desired_2ppc_800_size_seed_42.pkl to /home/libe2152/optimizedsampling/0_results/usavars/treecover/cluster_sampling_r2_scores.csv\n",
      "Fitting regression...\n",
      "NUM SAMPLES: 800\n",
      "Best alpha: 3.593813663804626\n"
     ]
    },
    {
     "name": "stderr",
     "output_type": "stream",
     "text": [
      "Processing samples:  72%|███████▏  | 288/401 [22:53<14:13,  7.55s/it]"
     ]
    },
    {
     "name": "stdout",
     "output_type": "stream",
     "text": [
      "0.7477215372933265\n",
      "[WRITE] Saved result from sample_10_state_county_county_desired_2ppc_800_size_seed_456.pkl to /home/libe2152/optimizedsampling/0_results/usavars/treecover/cluster_sampling_r2_scores.csv\n",
      "Fitting regression...\n",
      "NUM SAMPLES: 800\n",
      "Best alpha: 3.593813663804626\n"
     ]
    },
    {
     "name": "stderr",
     "output_type": "stream",
     "text": [
      "Processing samples:  72%|███████▏  | 289/401 [23:01<14:09,  7.59s/it]"
     ]
    },
    {
     "name": "stdout",
     "output_type": "stream",
     "text": [
      "0.7863917964833436\n",
      "[WRITE] Saved result from sample_10_state_county_county_desired_2ppc_800_size_seed_5678.pkl to /home/libe2152/optimizedsampling/0_results/usavars/treecover/cluster_sampling_r2_scores.csv\n",
      "Fitting regression...\n",
      "NUM SAMPLES: 800\n",
      "Best alpha: 3.593813663804626\n"
     ]
    },
    {
     "name": "stderr",
     "output_type": "stream",
     "text": [
      "Processing samples:  72%|███████▏  | 290/401 [23:08<13:57,  7.55s/it]"
     ]
    },
    {
     "name": "stdout",
     "output_type": "stream",
     "text": [
      "0.8189307265398094\n",
      "[WRITE] Saved result from sample_10_state_county_county_desired_2ppc_800_size_seed_789.pkl to /home/libe2152/optimizedsampling/0_results/usavars/treecover/cluster_sampling_r2_scores.csv\n",
      "Fitting regression...\n",
      "NUM SAMPLES: 800\n",
      "Best alpha: 3.593813663804626\n"
     ]
    },
    {
     "name": "stderr",
     "output_type": "stream",
     "text": [
      "Processing samples:  73%|███████▎  | 291/401 [23:16<13:59,  7.63s/it]"
     ]
    },
    {
     "name": "stdout",
     "output_type": "stream",
     "text": [
      "0.8245868069503957\n",
      "[WRITE] Saved result from sample_10_state_county_county_desired_2ppc_800_size_seed_9101.pkl to /home/libe2152/optimizedsampling/0_results/usavars/treecover/cluster_sampling_r2_scores.csv\n",
      "Fitting regression...\n",
      "NUM SAMPLES: 900\n",
      "Best alpha: 3.593813663804626\n"
     ]
    },
    {
     "name": "stderr",
     "output_type": "stream",
     "text": [
      "Processing samples:  73%|███████▎  | 292/401 [23:25<14:21,  7.90s/it]"
     ]
    },
    {
     "name": "stdout",
     "output_type": "stream",
     "text": [
      "0.7875050540194732\n",
      "[WRITE] Saved result from sample_10_state_county_county_desired_2ppc_900_size_seed_1.pkl to /home/libe2152/optimizedsampling/0_results/usavars/treecover/cluster_sampling_r2_scores.csv\n",
      "Fitting regression...\n",
      "NUM SAMPLES: 900\n",
      "Best alpha: 3.593813663804626\n"
     ]
    },
    {
     "name": "stderr",
     "output_type": "stream",
     "text": [
      "Processing samples:  73%|███████▎  | 293/401 [23:33<14:29,  8.05s/it]"
     ]
    },
    {
     "name": "stdout",
     "output_type": "stream",
     "text": [
      "0.8269081045254338\n",
      "[WRITE] Saved result from sample_10_state_county_county_desired_2ppc_900_size_seed_1213.pkl to /home/libe2152/optimizedsampling/0_results/usavars/treecover/cluster_sampling_r2_scores.csv\n",
      "Fitting regression...\n",
      "NUM SAMPLES: 900\n",
      "Best alpha: 3.593813663804626\n"
     ]
    },
    {
     "name": "stderr",
     "output_type": "stream",
     "text": [
      "Processing samples:  73%|███████▎  | 294/401 [23:41<14:26,  8.10s/it]"
     ]
    },
    {
     "name": "stdout",
     "output_type": "stream",
     "text": [
      "0.8068977216399534\n",
      "[WRITE] Saved result from sample_10_state_county_county_desired_2ppc_900_size_seed_123.pkl to /home/libe2152/optimizedsampling/0_results/usavars/treecover/cluster_sampling_r2_scores.csv\n",
      "Fitting regression...\n",
      "NUM SAMPLES: 900\n",
      "Best alpha: 3.593813663804626\n"
     ]
    },
    {
     "name": "stderr",
     "output_type": "stream",
     "text": [
      "Processing samples:  74%|███████▎  | 295/401 [23:50<14:26,  8.17s/it]"
     ]
    },
    {
     "name": "stdout",
     "output_type": "stream",
     "text": [
      "0.8141311621575578\n",
      "[WRITE] Saved result from sample_10_state_county_county_desired_2ppc_900_size_seed_1234.pkl to /home/libe2152/optimizedsampling/0_results/usavars/treecover/cluster_sampling_r2_scores.csv\n",
      "Fitting regression...\n",
      "NUM SAMPLES: 900\n",
      "Best alpha: 3.593813663804626\n"
     ]
    },
    {
     "name": "stderr",
     "output_type": "stream",
     "text": [
      "Processing samples:  74%|███████▍  | 296/401 [23:58<14:18,  8.18s/it]"
     ]
    },
    {
     "name": "stdout",
     "output_type": "stream",
     "text": [
      "0.8169056201762266\n",
      "[WRITE] Saved result from sample_10_state_county_county_desired_2ppc_900_size_seed_1415.pkl to /home/libe2152/optimizedsampling/0_results/usavars/treecover/cluster_sampling_r2_scores.csv\n",
      "Fitting regression...\n",
      "NUM SAMPLES: 900\n",
      "Best alpha: 3.593813663804626\n"
     ]
    },
    {
     "name": "stderr",
     "output_type": "stream",
     "text": [
      "Processing samples:  74%|███████▍  | 297/401 [24:06<14:19,  8.27s/it]"
     ]
    },
    {
     "name": "stdout",
     "output_type": "stream",
     "text": [
      "0.7567793730426888\n",
      "[WRITE] Saved result from sample_10_state_county_county_desired_2ppc_900_size_seed_42.pkl to /home/libe2152/optimizedsampling/0_results/usavars/treecover/cluster_sampling_r2_scores.csv\n",
      "Fitting regression...\n",
      "NUM SAMPLES: 900\n",
      "Best alpha: 3.593813663804626\n"
     ]
    },
    {
     "name": "stderr",
     "output_type": "stream",
     "text": [
      "Processing samples:  74%|███████▍  | 298/401 [24:14<13:55,  8.12s/it]"
     ]
    },
    {
     "name": "stdout",
     "output_type": "stream",
     "text": [
      "0.7591436301052356\n",
      "[WRITE] Saved result from sample_10_state_county_county_desired_2ppc_900_size_seed_456.pkl to /home/libe2152/optimizedsampling/0_results/usavars/treecover/cluster_sampling_r2_scores.csv\n",
      "Fitting regression...\n",
      "NUM SAMPLES: 900\n",
      "Best alpha: 3.593813663804626\n"
     ]
    },
    {
     "name": "stderr",
     "output_type": "stream",
     "text": [
      "Processing samples:  75%|███████▍  | 299/401 [24:22<13:47,  8.11s/it]"
     ]
    },
    {
     "name": "stdout",
     "output_type": "stream",
     "text": [
      "0.7989880565023599\n",
      "[WRITE] Saved result from sample_10_state_county_county_desired_2ppc_900_size_seed_5678.pkl to /home/libe2152/optimizedsampling/0_results/usavars/treecover/cluster_sampling_r2_scores.csv\n",
      "Fitting regression...\n",
      "NUM SAMPLES: 900\n",
      "Best alpha: 3.593813663804626\n"
     ]
    },
    {
     "name": "stderr",
     "output_type": "stream",
     "text": [
      "Processing samples:  75%|███████▍  | 300/401 [24:30<13:42,  8.14s/it]"
     ]
    },
    {
     "name": "stdout",
     "output_type": "stream",
     "text": [
      "0.8273445637465162\n",
      "[WRITE] Saved result from sample_10_state_county_county_desired_2ppc_900_size_seed_789.pkl to /home/libe2152/optimizedsampling/0_results/usavars/treecover/cluster_sampling_r2_scores.csv\n",
      "Fitting regression...\n",
      "NUM SAMPLES: 900\n",
      "Best alpha: 3.593813663804626\n"
     ]
    },
    {
     "name": "stderr",
     "output_type": "stream",
     "text": [
      "Processing samples:  75%|███████▌  | 301/401 [24:39<13:41,  8.21s/it]"
     ]
    },
    {
     "name": "stdout",
     "output_type": "stream",
     "text": [
      "0.8333032567351695\n",
      "[WRITE] Saved result from sample_10_state_county_county_desired_2ppc_900_size_seed_9101.pkl to /home/libe2152/optimizedsampling/0_results/usavars/treecover/cluster_sampling_r2_scores.csv\n",
      "Fitting regression...\n",
      "NUM SAMPLES: 1000\n",
      "Best alpha: 3.593813663804626\n"
     ]
    },
    {
     "name": "stderr",
     "output_type": "stream",
     "text": [
      "Processing samples:  75%|███████▌  | 302/401 [24:48<13:50,  8.39s/it]"
     ]
    },
    {
     "name": "stdout",
     "output_type": "stream",
     "text": [
      "0.7748568913296782\n",
      "[WRITE] Saved result from sample_10_state_county_county_desired_5ppc_1000_size_seed_1.pkl to /home/libe2152/optimizedsampling/0_results/usavars/treecover/cluster_sampling_r2_scores.csv\n",
      "Fitting regression...\n",
      "NUM SAMPLES: 1000\n",
      "Best alpha: 3.593813663804626\n"
     ]
    },
    {
     "name": "stderr",
     "output_type": "stream",
     "text": [
      "Processing samples:  76%|███████▌  | 303/401 [24:56<13:45,  8.43s/it]"
     ]
    },
    {
     "name": "stdout",
     "output_type": "stream",
     "text": [
      "0.8221484037863405\n",
      "[WRITE] Saved result from sample_10_state_county_county_desired_5ppc_1000_size_seed_1213.pkl to /home/libe2152/optimizedsampling/0_results/usavars/treecover/cluster_sampling_r2_scores.csv\n",
      "Fitting regression...\n",
      "NUM SAMPLES: 1000\n",
      "Best alpha: 3.593813663804626\n"
     ]
    },
    {
     "name": "stderr",
     "output_type": "stream",
     "text": [
      "Processing samples:  76%|███████▌  | 304/401 [25:05<13:46,  8.52s/it]"
     ]
    },
    {
     "name": "stdout",
     "output_type": "stream",
     "text": [
      "0.8132479410256868\n",
      "[WRITE] Saved result from sample_10_state_county_county_desired_5ppc_1000_size_seed_123.pkl to /home/libe2152/optimizedsampling/0_results/usavars/treecover/cluster_sampling_r2_scores.csv\n",
      "Fitting regression...\n",
      "NUM SAMPLES: 1000\n",
      "Best alpha: 3.593813663804626\n"
     ]
    },
    {
     "name": "stderr",
     "output_type": "stream",
     "text": [
      "Processing samples:  76%|███████▌  | 305/401 [25:14<13:45,  8.59s/it]"
     ]
    },
    {
     "name": "stdout",
     "output_type": "stream",
     "text": [
      "0.8393989605191328\n",
      "[WRITE] Saved result from sample_10_state_county_county_desired_5ppc_1000_size_seed_1234.pkl to /home/libe2152/optimizedsampling/0_results/usavars/treecover/cluster_sampling_r2_scores.csv\n",
      "Fitting regression...\n",
      "NUM SAMPLES: 1000\n",
      "Best alpha: 3.593813663804626\n"
     ]
    },
    {
     "name": "stderr",
     "output_type": "stream",
     "text": [
      "Processing samples:  76%|███████▋  | 306/401 [25:22<13:41,  8.64s/it]"
     ]
    },
    {
     "name": "stdout",
     "output_type": "stream",
     "text": [
      "0.8168544553771916\n",
      "[WRITE] Saved result from sample_10_state_county_county_desired_5ppc_1000_size_seed_1415.pkl to /home/libe2152/optimizedsampling/0_results/usavars/treecover/cluster_sampling_r2_scores.csv\n",
      "Fitting regression...\n",
      "NUM SAMPLES: 1000\n",
      "Best alpha: 3.593813663804626\n"
     ]
    },
    {
     "name": "stderr",
     "output_type": "stream",
     "text": [
      "Processing samples:  77%|███████▋  | 307/401 [25:31<13:35,  8.68s/it]"
     ]
    },
    {
     "name": "stdout",
     "output_type": "stream",
     "text": [
      "0.7917394805414002\n",
      "[WRITE] Saved result from sample_10_state_county_county_desired_5ppc_1000_size_seed_42.pkl to /home/libe2152/optimizedsampling/0_results/usavars/treecover/cluster_sampling_r2_scores.csv\n",
      "Fitting regression...\n",
      "NUM SAMPLES: 1000\n",
      "Best alpha: 3.593813663804626\n"
     ]
    },
    {
     "name": "stderr",
     "output_type": "stream",
     "text": [
      "Processing samples:  77%|███████▋  | 308/401 [25:40<13:17,  8.57s/it]"
     ]
    },
    {
     "name": "stdout",
     "output_type": "stream",
     "text": [
      "0.7891588767393841\n",
      "[WRITE] Saved result from sample_10_state_county_county_desired_5ppc_1000_size_seed_456.pkl to /home/libe2152/optimizedsampling/0_results/usavars/treecover/cluster_sampling_r2_scores.csv\n",
      "Fitting regression...\n",
      "NUM SAMPLES: 1000\n",
      "Best alpha: 3.593813663804626\n"
     ]
    },
    {
     "name": "stderr",
     "output_type": "stream",
     "text": [
      "Processing samples:  77%|███████▋  | 309/401 [25:48<13:13,  8.62s/it]"
     ]
    },
    {
     "name": "stdout",
     "output_type": "stream",
     "text": [
      "0.8178463953862433\n",
      "[WRITE] Saved result from sample_10_state_county_county_desired_5ppc_1000_size_seed_5678.pkl to /home/libe2152/optimizedsampling/0_results/usavars/treecover/cluster_sampling_r2_scores.csv\n",
      "Fitting regression...\n",
      "NUM SAMPLES: 1000\n",
      "Best alpha: 3.593813663804626\n"
     ]
    },
    {
     "name": "stderr",
     "output_type": "stream",
     "text": [
      "Processing samples:  77%|███████▋  | 310/401 [25:57<13:08,  8.66s/it]"
     ]
    },
    {
     "name": "stdout",
     "output_type": "stream",
     "text": [
      "0.8222821626316965\n",
      "[WRITE] Saved result from sample_10_state_county_county_desired_5ppc_1000_size_seed_789.pkl to /home/libe2152/optimizedsampling/0_results/usavars/treecover/cluster_sampling_r2_scores.csv\n",
      "Fitting regression...\n",
      "NUM SAMPLES: 1000\n",
      "Best alpha: 3.593813663804626\n"
     ]
    },
    {
     "name": "stderr",
     "output_type": "stream",
     "text": [
      "Processing samples:  78%|███████▊  | 311/401 [26:06<13:01,  8.69s/it]"
     ]
    },
    {
     "name": "stdout",
     "output_type": "stream",
     "text": [
      "0.8248381789315793\n",
      "[WRITE] Saved result from sample_10_state_county_county_desired_5ppc_1000_size_seed_9101.pkl to /home/libe2152/optimizedsampling/0_results/usavars/treecover/cluster_sampling_r2_scores.csv\n",
      "Fitting regression...\n",
      "NUM SAMPLES: 100\n",
      "Best alpha: 3.593813663804626\n"
     ]
    },
    {
     "name": "stderr",
     "output_type": "stream",
     "text": [
      "Processing samples:  78%|███████▊  | 312/401 [26:06<09:18,  6.27s/it]"
     ]
    },
    {
     "name": "stdout",
     "output_type": "stream",
     "text": [
      "0.6239051902508868\n",
      "[WRITE] Saved result from sample_10_state_county_county_desired_5ppc_100_size_seed_1.pkl to /home/libe2152/optimizedsampling/0_results/usavars/treecover/cluster_sampling_r2_scores.csv\n",
      "Fitting regression...\n",
      "NUM SAMPLES: 100\n",
      "Best alpha: 599.4842503189421\n"
     ]
    },
    {
     "name": "stderr",
     "output_type": "stream",
     "text": [
      "Processing samples:  78%|███████▊  | 313/401 [26:07<06:43,  4.58s/it]"
     ]
    },
    {
     "name": "stdout",
     "output_type": "stream",
     "text": [
      "0.5947770678891031\n",
      "[WRITE] Saved result from sample_10_state_county_county_desired_5ppc_100_size_seed_1213.pkl to /home/libe2152/optimizedsampling/0_results/usavars/treecover/cluster_sampling_r2_scores.csv\n",
      "Fitting regression...\n",
      "NUM SAMPLES: 100\n",
      "Best alpha: 100000.0\n"
     ]
    },
    {
     "name": "stderr",
     "output_type": "stream",
     "text": [
      "Processing samples:  78%|███████▊  | 314/401 [26:08<04:56,  3.41s/it]"
     ]
    },
    {
     "name": "stdout",
     "output_type": "stream",
     "text": [
      "0.26381199433164526\n",
      "[WRITE] Saved result from sample_10_state_county_county_desired_5ppc_100_size_seed_123.pkl to /home/libe2152/optimizedsampling/0_results/usavars/treecover/cluster_sampling_r2_scores.csv\n",
      "Fitting regression...\n",
      "NUM SAMPLES: 100\n",
      "Best alpha: 46.41588833612782\n"
     ]
    },
    {
     "name": "stderr",
     "output_type": "stream",
     "text": [
      "Processing samples:  79%|███████▊  | 315/401 [26:08<03:41,  2.58s/it]"
     ]
    },
    {
     "name": "stdout",
     "output_type": "stream",
     "text": [
      "0.6936810789054509\n",
      "[WRITE] Saved result from sample_10_state_county_county_desired_5ppc_100_size_seed_1234.pkl to /home/libe2152/optimizedsampling/0_results/usavars/treecover/cluster_sampling_r2_scores.csv\n",
      "Fitting regression...\n",
      "NUM SAMPLES: 100\n",
      "Best alpha: 46.41588833612782\n"
     ]
    },
    {
     "name": "stderr",
     "output_type": "stream",
     "text": [
      "Processing samples:  79%|███████▉  | 316/401 [26:09<02:49,  2.00s/it]"
     ]
    },
    {
     "name": "stdout",
     "output_type": "stream",
     "text": [
      "0.529123317476325\n",
      "[WRITE] Saved result from sample_10_state_county_county_desired_5ppc_100_size_seed_1415.pkl to /home/libe2152/optimizedsampling/0_results/usavars/treecover/cluster_sampling_r2_scores.csv\n",
      "Fitting regression...\n",
      "NUM SAMPLES: 100\n",
      "Best alpha: 46.41588833612782\n"
     ]
    },
    {
     "name": "stderr",
     "output_type": "stream",
     "text": [
      "Processing samples:  79%|███████▉  | 317/401 [26:10<02:13,  1.59s/it]"
     ]
    },
    {
     "name": "stdout",
     "output_type": "stream",
     "text": [
      "0.49234372419752215\n",
      "[WRITE] Saved result from sample_10_state_county_county_desired_5ppc_100_size_seed_42.pkl to /home/libe2152/optimizedsampling/0_results/usavars/treecover/cluster_sampling_r2_scores.csv\n",
      "Fitting regression...\n",
      "NUM SAMPLES: 100\n",
      "Best alpha: 46.41588833612782\n"
     ]
    },
    {
     "name": "stderr",
     "output_type": "stream",
     "text": [
      "Processing samples:  79%|███████▉  | 318/401 [26:10<01:49,  1.32s/it]"
     ]
    },
    {
     "name": "stdout",
     "output_type": "stream",
     "text": [
      "0.6821394491210353\n",
      "[WRITE] Saved result from sample_10_state_county_county_desired_5ppc_100_size_seed_456.pkl to /home/libe2152/optimizedsampling/0_results/usavars/treecover/cluster_sampling_r2_scores.csv\n",
      "Fitting regression...\n",
      "NUM SAMPLES: 100\n",
      "Best alpha: 46.41588833612782\n"
     ]
    },
    {
     "name": "stderr",
     "output_type": "stream",
     "text": [
      "Processing samples:  80%|███████▉  | 319/401 [26:11<01:32,  1.13s/it]"
     ]
    },
    {
     "name": "stdout",
     "output_type": "stream",
     "text": [
      "0.7275709910412774\n",
      "[WRITE] Saved result from sample_10_state_county_county_desired_5ppc_100_size_seed_5678.pkl to /home/libe2152/optimizedsampling/0_results/usavars/treecover/cluster_sampling_r2_scores.csv\n",
      "Fitting regression...\n",
      "NUM SAMPLES: 100\n",
      "Best alpha: 3.593813663804626\n"
     ]
    },
    {
     "name": "stderr",
     "output_type": "stream",
     "text": [
      "Processing samples:  80%|███████▉  | 320/401 [26:12<01:20,  1.00it/s]"
     ]
    },
    {
     "name": "stdout",
     "output_type": "stream",
     "text": [
      "0.5296168748693872\n",
      "[WRITE] Saved result from sample_10_state_county_county_desired_5ppc_100_size_seed_789.pkl to /home/libe2152/optimizedsampling/0_results/usavars/treecover/cluster_sampling_r2_scores.csv\n",
      "Fitting regression...\n",
      "NUM SAMPLES: 100\n",
      "Best alpha: 3.593813663804626\n"
     ]
    },
    {
     "name": "stderr",
     "output_type": "stream",
     "text": [
      "Processing samples:  80%|████████  | 321/401 [26:12<01:11,  1.12it/s]"
     ]
    },
    {
     "name": "stdout",
     "output_type": "stream",
     "text": [
      "0.6478858086438696\n",
      "[WRITE] Saved result from sample_10_state_county_county_desired_5ppc_100_size_seed_9101.pkl to /home/libe2152/optimizedsampling/0_results/usavars/treecover/cluster_sampling_r2_scores.csv\n",
      "Fitting regression...\n",
      "NUM SAMPLES: 200\n",
      "Best alpha: 46.41588833612782\n"
     ]
    },
    {
     "name": "stderr",
     "output_type": "stream",
     "text": [
      "Processing samples:  80%|████████  | 322/401 [26:14<01:32,  1.18s/it]"
     ]
    },
    {
     "name": "stdout",
     "output_type": "stream",
     "text": [
      "0.7018404729300942\n",
      "[WRITE] Saved result from sample_10_state_county_county_desired_5ppc_200_size_seed_1.pkl to /home/libe2152/optimizedsampling/0_results/usavars/treecover/cluster_sampling_r2_scores.csv\n",
      "Fitting regression...\n",
      "NUM SAMPLES: 200\n",
      "Best alpha: 46.41588833612782\n"
     ]
    },
    {
     "name": "stderr",
     "output_type": "stream",
     "text": [
      "Processing samples:  81%|████████  | 323/401 [26:16<01:51,  1.42s/it]"
     ]
    },
    {
     "name": "stdout",
     "output_type": "stream",
     "text": [
      "0.6839143360138691\n",
      "[WRITE] Saved result from sample_10_state_county_county_desired_5ppc_200_size_seed_1213.pkl to /home/libe2152/optimizedsampling/0_results/usavars/treecover/cluster_sampling_r2_scores.csv\n",
      "Fitting regression...\n",
      "NUM SAMPLES: 200\n",
      "Best alpha: 599.4842503189421\n"
     ]
    },
    {
     "name": "stderr",
     "output_type": "stream",
     "text": [
      "Processing samples:  81%|████████  | 324/401 [26:18<02:08,  1.67s/it]"
     ]
    },
    {
     "name": "stdout",
     "output_type": "stream",
     "text": [
      "0.493654720412088\n",
      "[WRITE] Saved result from sample_10_state_county_county_desired_5ppc_200_size_seed_123.pkl to /home/libe2152/optimizedsampling/0_results/usavars/treecover/cluster_sampling_r2_scores.csv\n",
      "Fitting regression...\n",
      "NUM SAMPLES: 200\n",
      "Best alpha: 3.593813663804626\n"
     ]
    },
    {
     "name": "stderr",
     "output_type": "stream",
     "text": [
      "Processing samples:  81%|████████  | 325/401 [26:21<02:20,  1.84s/it]"
     ]
    },
    {
     "name": "stdout",
     "output_type": "stream",
     "text": [
      "0.7647841022672619\n",
      "[WRITE] Saved result from sample_10_state_county_county_desired_5ppc_200_size_seed_1234.pkl to /home/libe2152/optimizedsampling/0_results/usavars/treecover/cluster_sampling_r2_scores.csv\n",
      "Fitting regression...\n",
      "NUM SAMPLES: 200\n",
      "Best alpha: 3.593813663804626\n"
     ]
    },
    {
     "name": "stderr",
     "output_type": "stream",
     "text": [
      "Processing samples:  81%|████████▏ | 326/401 [26:22<02:13,  1.78s/it]"
     ]
    },
    {
     "name": "stdout",
     "output_type": "stream",
     "text": [
      "0.6294230315432086\n",
      "[WRITE] Saved result from sample_10_state_county_county_desired_5ppc_200_size_seed_1415.pkl to /home/libe2152/optimizedsampling/0_results/usavars/treecover/cluster_sampling_r2_scores.csv\n",
      "Fitting regression...\n",
      "NUM SAMPLES: 200\n",
      "Best alpha: 46.41588833612782\n"
     ]
    },
    {
     "name": "stderr",
     "output_type": "stream",
     "text": [
      "Processing samples:  82%|████████▏ | 327/401 [26:24<02:14,  1.82s/it]"
     ]
    },
    {
     "name": "stdout",
     "output_type": "stream",
     "text": [
      "0.6281666500945984\n",
      "[WRITE] Saved result from sample_10_state_county_county_desired_5ppc_200_size_seed_42.pkl to /home/libe2152/optimizedsampling/0_results/usavars/treecover/cluster_sampling_r2_scores.csv\n",
      "Fitting regression...\n",
      "NUM SAMPLES: 200\n",
      "Best alpha: 46.41588833612782\n"
     ]
    },
    {
     "name": "stderr",
     "output_type": "stream",
     "text": [
      "Processing samples:  82%|████████▏ | 328/401 [26:26<02:14,  1.84s/it]"
     ]
    },
    {
     "name": "stdout",
     "output_type": "stream",
     "text": [
      "0.7520928436548426\n",
      "[WRITE] Saved result from sample_10_state_county_county_desired_5ppc_200_size_seed_456.pkl to /home/libe2152/optimizedsampling/0_results/usavars/treecover/cluster_sampling_r2_scores.csv\n",
      "Fitting regression...\n",
      "NUM SAMPLES: 200\n",
      "Best alpha: 46.41588833612782\n"
     ]
    },
    {
     "name": "stderr",
     "output_type": "stream",
     "text": [
      "Processing samples:  82%|████████▏ | 329/401 [26:28<02:15,  1.88s/it]"
     ]
    },
    {
     "name": "stdout",
     "output_type": "stream",
     "text": [
      "0.7715247896962221\n",
      "[WRITE] Saved result from sample_10_state_county_county_desired_5ppc_200_size_seed_5678.pkl to /home/libe2152/optimizedsampling/0_results/usavars/treecover/cluster_sampling_r2_scores.csv\n",
      "Fitting regression...\n",
      "NUM SAMPLES: 200\n",
      "Best alpha: 46.41588833612782\n"
     ]
    },
    {
     "name": "stderr",
     "output_type": "stream",
     "text": [
      "Processing samples:  82%|████████▏ | 330/401 [26:30<02:20,  1.99s/it]"
     ]
    },
    {
     "name": "stdout",
     "output_type": "stream",
     "text": [
      "0.7132542951256928\n",
      "[WRITE] Saved result from sample_10_state_county_county_desired_5ppc_200_size_seed_789.pkl to /home/libe2152/optimizedsampling/0_results/usavars/treecover/cluster_sampling_r2_scores.csv\n",
      "Fitting regression...\n",
      "NUM SAMPLES: 200\n",
      "Best alpha: 46.41588833612782\n"
     ]
    },
    {
     "name": "stderr",
     "output_type": "stream",
     "text": [
      "Processing samples:  83%|████████▎ | 331/401 [26:32<02:14,  1.93s/it]"
     ]
    },
    {
     "name": "stdout",
     "output_type": "stream",
     "text": [
      "0.78542825701884\n",
      "[WRITE] Saved result from sample_10_state_county_county_desired_5ppc_200_size_seed_9101.pkl to /home/libe2152/optimizedsampling/0_results/usavars/treecover/cluster_sampling_r2_scores.csv\n",
      "Fitting regression...\n",
      "NUM SAMPLES: 300\n",
      "Best alpha: 46.41588833612782\n"
     ]
    },
    {
     "name": "stderr",
     "output_type": "stream",
     "text": [
      "Processing samples:  83%|████████▎ | 332/401 [26:34<02:19,  2.02s/it]"
     ]
    },
    {
     "name": "stdout",
     "output_type": "stream",
     "text": [
      "0.7087594013941745\n",
      "[WRITE] Saved result from sample_10_state_county_county_desired_5ppc_300_size_seed_1.pkl to /home/libe2152/optimizedsampling/0_results/usavars/treecover/cluster_sampling_r2_scores.csv\n",
      "Fitting regression...\n",
      "NUM SAMPLES: 300\n",
      "Best alpha: 46.41588833612782\n"
     ]
    },
    {
     "name": "stderr",
     "output_type": "stream",
     "text": [
      "Processing samples:  83%|████████▎ | 333/401 [26:37<02:28,  2.19s/it]"
     ]
    },
    {
     "name": "stdout",
     "output_type": "stream",
     "text": [
      "0.7425209957272354\n",
      "[WRITE] Saved result from sample_10_state_county_county_desired_5ppc_300_size_seed_1213.pkl to /home/libe2152/optimizedsampling/0_results/usavars/treecover/cluster_sampling_r2_scores.csv\n",
      "Fitting regression...\n",
      "NUM SAMPLES: 300\n",
      "Best alpha: 46.41588833612782\n"
     ]
    },
    {
     "name": "stderr",
     "output_type": "stream",
     "text": [
      "Processing samples:  83%|████████▎ | 334/401 [26:39<02:28,  2.22s/it]"
     ]
    },
    {
     "name": "stdout",
     "output_type": "stream",
     "text": [
      "0.6928494725405467\n",
      "[WRITE] Saved result from sample_10_state_county_county_desired_5ppc_300_size_seed_123.pkl to /home/libe2152/optimizedsampling/0_results/usavars/treecover/cluster_sampling_r2_scores.csv\n",
      "Fitting regression...\n",
      "NUM SAMPLES: 300\n",
      "Best alpha: 3.593813663804626\n"
     ]
    },
    {
     "name": "stderr",
     "output_type": "stream",
     "text": [
      "Processing samples:  84%|████████▎ | 335/401 [26:42<02:30,  2.29s/it]"
     ]
    },
    {
     "name": "stdout",
     "output_type": "stream",
     "text": [
      "0.7829889213008487\n",
      "[WRITE] Saved result from sample_10_state_county_county_desired_5ppc_300_size_seed_1234.pkl to /home/libe2152/optimizedsampling/0_results/usavars/treecover/cluster_sampling_r2_scores.csv\n",
      "Fitting regression...\n",
      "NUM SAMPLES: 300\n",
      "Best alpha: 3.593813663804626\n"
     ]
    },
    {
     "name": "stderr",
     "output_type": "stream",
     "text": [
      "Processing samples:  84%|████████▍ | 336/401 [26:44<02:29,  2.30s/it]"
     ]
    },
    {
     "name": "stdout",
     "output_type": "stream",
     "text": [
      "0.643122992405833\n",
      "[WRITE] Saved result from sample_10_state_county_county_desired_5ppc_300_size_seed_1415.pkl to /home/libe2152/optimizedsampling/0_results/usavars/treecover/cluster_sampling_r2_scores.csv\n",
      "Fitting regression...\n",
      "NUM SAMPLES: 300\n",
      "Best alpha: 46.41588833612782\n"
     ]
    },
    {
     "name": "stderr",
     "output_type": "stream",
     "text": [
      "Processing samples:  84%|████████▍ | 337/401 [26:47<02:33,  2.40s/it]"
     ]
    },
    {
     "name": "stdout",
     "output_type": "stream",
     "text": [
      "0.6895935580626242\n",
      "[WRITE] Saved result from sample_10_state_county_county_desired_5ppc_300_size_seed_42.pkl to /home/libe2152/optimizedsampling/0_results/usavars/treecover/cluster_sampling_r2_scores.csv\n",
      "Fitting regression...\n",
      "NUM SAMPLES: 300\n",
      "Best alpha: 46.41588833612782\n"
     ]
    },
    {
     "name": "stderr",
     "output_type": "stream",
     "text": [
      "Processing samples:  84%|████████▍ | 338/401 [26:49<02:27,  2.34s/it]"
     ]
    },
    {
     "name": "stdout",
     "output_type": "stream",
     "text": [
      "0.7607115665500321\n",
      "[WRITE] Saved result from sample_10_state_county_county_desired_5ppc_300_size_seed_456.pkl to /home/libe2152/optimizedsampling/0_results/usavars/treecover/cluster_sampling_r2_scores.csv\n",
      "Fitting regression...\n",
      "NUM SAMPLES: 300\n",
      "Best alpha: 46.41588833612782\n"
     ]
    },
    {
     "name": "stderr",
     "output_type": "stream",
     "text": [
      "Processing samples:  85%|████████▍ | 339/401 [26:51<02:19,  2.25s/it]"
     ]
    },
    {
     "name": "stdout",
     "output_type": "stream",
     "text": [
      "0.7871472189866552\n",
      "[WRITE] Saved result from sample_10_state_county_county_desired_5ppc_300_size_seed_5678.pkl to /home/libe2152/optimizedsampling/0_results/usavars/treecover/cluster_sampling_r2_scores.csv\n",
      "Fitting regression...\n",
      "NUM SAMPLES: 300\n",
      "Best alpha: 3.593813663804626\n"
     ]
    },
    {
     "name": "stderr",
     "output_type": "stream",
     "text": [
      "Processing samples:  85%|████████▍ | 340/401 [26:53<02:14,  2.21s/it]"
     ]
    },
    {
     "name": "stdout",
     "output_type": "stream",
     "text": [
      "0.7532278763926733\n",
      "[WRITE] Saved result from sample_10_state_county_county_desired_5ppc_300_size_seed_789.pkl to /home/libe2152/optimizedsampling/0_results/usavars/treecover/cluster_sampling_r2_scores.csv\n",
      "Fitting regression...\n",
      "NUM SAMPLES: 300\n",
      "Best alpha: 46.41588833612782\n"
     ]
    },
    {
     "name": "stderr",
     "output_type": "stream",
     "text": [
      "Processing samples:  85%|████████▌ | 341/401 [26:55<02:18,  2.31s/it]"
     ]
    },
    {
     "name": "stdout",
     "output_type": "stream",
     "text": [
      "0.7962710462770544\n",
      "[WRITE] Saved result from sample_10_state_county_county_desired_5ppc_300_size_seed_9101.pkl to /home/libe2152/optimizedsampling/0_results/usavars/treecover/cluster_sampling_r2_scores.csv\n",
      "Fitting regression...\n",
      "NUM SAMPLES: 400\n",
      "Best alpha: 46.41588833612782\n"
     ]
    },
    {
     "name": "stderr",
     "output_type": "stream",
     "text": [
      "Processing samples:  85%|████████▌ | 342/401 [26:58<02:26,  2.47s/it]"
     ]
    },
    {
     "name": "stdout",
     "output_type": "stream",
     "text": [
      "0.778376467106584\n",
      "[WRITE] Saved result from sample_10_state_county_county_desired_5ppc_400_size_seed_1.pkl to /home/libe2152/optimizedsampling/0_results/usavars/treecover/cluster_sampling_r2_scores.csv\n",
      "Fitting regression...\n",
      "NUM SAMPLES: 400\n",
      "Best alpha: 46.41588833612782\n"
     ]
    },
    {
     "name": "stderr",
     "output_type": "stream",
     "text": [
      "Processing samples:  86%|████████▌ | 343/401 [27:01<02:32,  2.63s/it]"
     ]
    },
    {
     "name": "stdout",
     "output_type": "stream",
     "text": [
      "0.7774267621562153\n",
      "[WRITE] Saved result from sample_10_state_county_county_desired_5ppc_400_size_seed_1213.pkl to /home/libe2152/optimizedsampling/0_results/usavars/treecover/cluster_sampling_r2_scores.csv\n",
      "Fitting regression...\n",
      "NUM SAMPLES: 400\n",
      "Best alpha: 3.593813663804626\n"
     ]
    },
    {
     "name": "stderr",
     "output_type": "stream",
     "text": [
      "Processing samples:  86%|████████▌ | 344/401 [27:04<02:37,  2.77s/it]"
     ]
    },
    {
     "name": "stdout",
     "output_type": "stream",
     "text": [
      "0.7220681831956182\n",
      "[WRITE] Saved result from sample_10_state_county_county_desired_5ppc_400_size_seed_123.pkl to /home/libe2152/optimizedsampling/0_results/usavars/treecover/cluster_sampling_r2_scores.csv\n",
      "Fitting regression...\n",
      "NUM SAMPLES: 400\n",
      "Best alpha: 3.593813663804626\n"
     ]
    },
    {
     "name": "stderr",
     "output_type": "stream",
     "text": [
      "Processing samples:  86%|████████▌ | 345/401 [27:07<02:38,  2.83s/it]"
     ]
    },
    {
     "name": "stdout",
     "output_type": "stream",
     "text": [
      "0.7962847604253486\n",
      "[WRITE] Saved result from sample_10_state_county_county_desired_5ppc_400_size_seed_1234.pkl to /home/libe2152/optimizedsampling/0_results/usavars/treecover/cluster_sampling_r2_scores.csv\n",
      "Fitting regression...\n",
      "NUM SAMPLES: 400\n",
      "Best alpha: 3.593813663804626\n"
     ]
    },
    {
     "name": "stderr",
     "output_type": "stream",
     "text": [
      "Processing samples:  86%|████████▋ | 346/401 [27:11<02:40,  2.92s/it]"
     ]
    },
    {
     "name": "stdout",
     "output_type": "stream",
     "text": [
      "0.7430009593959486\n",
      "[WRITE] Saved result from sample_10_state_county_county_desired_5ppc_400_size_seed_1415.pkl to /home/libe2152/optimizedsampling/0_results/usavars/treecover/cluster_sampling_r2_scores.csv\n",
      "Fitting regression...\n",
      "NUM SAMPLES: 400\n",
      "Best alpha: 46.41588833612782\n"
     ]
    },
    {
     "name": "stderr",
     "output_type": "stream",
     "text": [
      "Processing samples:  87%|████████▋ | 347/401 [27:14<02:42,  3.00s/it]"
     ]
    },
    {
     "name": "stdout",
     "output_type": "stream",
     "text": [
      "0.7221710503248424\n",
      "[WRITE] Saved result from sample_10_state_county_county_desired_5ppc_400_size_seed_42.pkl to /home/libe2152/optimizedsampling/0_results/usavars/treecover/cluster_sampling_r2_scores.csv\n",
      "Fitting regression...\n",
      "NUM SAMPLES: 400\n",
      "Best alpha: 46.41588833612782\n"
     ]
    },
    {
     "name": "stderr",
     "output_type": "stream",
     "text": [
      "Processing samples:  87%|████████▋ | 348/401 [27:17<02:41,  3.05s/it]"
     ]
    },
    {
     "name": "stdout",
     "output_type": "stream",
     "text": [
      "0.7637198160654095\n",
      "[WRITE] Saved result from sample_10_state_county_county_desired_5ppc_400_size_seed_456.pkl to /home/libe2152/optimizedsampling/0_results/usavars/treecover/cluster_sampling_r2_scores.csv\n",
      "Fitting regression...\n",
      "NUM SAMPLES: 400\n",
      "Best alpha: 3.593813663804626\n"
     ]
    },
    {
     "name": "stderr",
     "output_type": "stream",
     "text": [
      "Processing samples:  87%|████████▋ | 349/401 [27:20<02:35,  2.98s/it]"
     ]
    },
    {
     "name": "stdout",
     "output_type": "stream",
     "text": [
      "0.7655852005384808\n",
      "[WRITE] Saved result from sample_10_state_county_county_desired_5ppc_400_size_seed_5678.pkl to /home/libe2152/optimizedsampling/0_results/usavars/treecover/cluster_sampling_r2_scores.csv\n",
      "Fitting regression...\n",
      "NUM SAMPLES: 400\n",
      "Best alpha: 3.593813663804626\n"
     ]
    },
    {
     "name": "stderr",
     "output_type": "stream",
     "text": [
      "Processing samples:  87%|████████▋ | 350/401 [27:22<02:23,  2.81s/it]"
     ]
    },
    {
     "name": "stdout",
     "output_type": "stream",
     "text": [
      "0.759386027050297\n",
      "[WRITE] Saved result from sample_10_state_county_county_desired_5ppc_400_size_seed_789.pkl to /home/libe2152/optimizedsampling/0_results/usavars/treecover/cluster_sampling_r2_scores.csv\n",
      "Fitting regression...\n",
      "NUM SAMPLES: 400\n",
      "Best alpha: 3.593813663804626\n"
     ]
    },
    {
     "name": "stderr",
     "output_type": "stream",
     "text": [
      "Processing samples:  88%|████████▊ | 351/401 [27:25<02:21,  2.84s/it]"
     ]
    },
    {
     "name": "stdout",
     "output_type": "stream",
     "text": [
      "0.78755988458433\n",
      "[WRITE] Saved result from sample_10_state_county_county_desired_5ppc_400_size_seed_9101.pkl to /home/libe2152/optimizedsampling/0_results/usavars/treecover/cluster_sampling_r2_scores.csv\n",
      "Fitting regression...\n",
      "NUM SAMPLES: 500\n",
      "Best alpha: 46.41588833612782\n"
     ]
    },
    {
     "name": "stderr",
     "output_type": "stream",
     "text": [
      "Processing samples:  88%|████████▊ | 352/401 [27:29<02:30,  3.07s/it]"
     ]
    },
    {
     "name": "stdout",
     "output_type": "stream",
     "text": [
      "0.773856756553253\n",
      "[WRITE] Saved result from sample_10_state_county_county_desired_5ppc_500_size_seed_1.pkl to /home/libe2152/optimizedsampling/0_results/usavars/treecover/cluster_sampling_r2_scores.csv\n",
      "Fitting regression...\n",
      "NUM SAMPLES: 500\n",
      "Best alpha: 46.41588833612782\n"
     ]
    },
    {
     "name": "stderr",
     "output_type": "stream",
     "text": [
      "Processing samples:  88%|████████▊ | 353/401 [27:32<02:30,  3.14s/it]"
     ]
    },
    {
     "name": "stdout",
     "output_type": "stream",
     "text": [
      "0.7749406431154484\n",
      "[WRITE] Saved result from sample_10_state_county_county_desired_5ppc_500_size_seed_1213.pkl to /home/libe2152/optimizedsampling/0_results/usavars/treecover/cluster_sampling_r2_scores.csv\n",
      "Fitting regression...\n",
      "NUM SAMPLES: 500\n",
      "Best alpha: 3.593813663804626\n"
     ]
    },
    {
     "name": "stderr",
     "output_type": "stream",
     "text": [
      "Processing samples:  88%|████████▊ | 354/401 [27:35<02:27,  3.13s/it]"
     ]
    },
    {
     "name": "stdout",
     "output_type": "stream",
     "text": [
      "0.7417910720283846\n",
      "[WRITE] Saved result from sample_10_state_county_county_desired_5ppc_500_size_seed_123.pkl to /home/libe2152/optimizedsampling/0_results/usavars/treecover/cluster_sampling_r2_scores.csv\n",
      "Fitting regression...\n",
      "NUM SAMPLES: 500\n",
      "Best alpha: 3.593813663804626\n"
     ]
    },
    {
     "name": "stderr",
     "output_type": "stream",
     "text": [
      "Processing samples:  89%|████████▊ | 355/401 [27:39<02:33,  3.33s/it]"
     ]
    },
    {
     "name": "stdout",
     "output_type": "stream",
     "text": [
      "0.7974662084194909\n",
      "[WRITE] Saved result from sample_10_state_county_county_desired_5ppc_500_size_seed_1234.pkl to /home/libe2152/optimizedsampling/0_results/usavars/treecover/cluster_sampling_r2_scores.csv\n",
      "Fitting regression...\n",
      "NUM SAMPLES: 500\n",
      "Best alpha: 3.593813663804626\n"
     ]
    },
    {
     "name": "stderr",
     "output_type": "stream",
     "text": [
      "Processing samples:  89%|████████▉ | 356/401 [27:43<02:39,  3.55s/it]"
     ]
    },
    {
     "name": "stdout",
     "output_type": "stream",
     "text": [
      "0.7777118524993347\n",
      "[WRITE] Saved result from sample_10_state_county_county_desired_5ppc_500_size_seed_1415.pkl to /home/libe2152/optimizedsampling/0_results/usavars/treecover/cluster_sampling_r2_scores.csv\n",
      "Fitting regression...\n",
      "NUM SAMPLES: 500\n",
      "Best alpha: 3.593813663804626\n"
     ]
    },
    {
     "name": "stderr",
     "output_type": "stream",
     "text": [
      "Processing samples:  89%|████████▉ | 357/401 [27:46<02:32,  3.47s/it]"
     ]
    },
    {
     "name": "stdout",
     "output_type": "stream",
     "text": [
      "0.7609673534068463\n",
      "[WRITE] Saved result from sample_10_state_county_county_desired_5ppc_500_size_seed_42.pkl to /home/libe2152/optimizedsampling/0_results/usavars/treecover/cluster_sampling_r2_scores.csv\n",
      "Fitting regression...\n",
      "NUM SAMPLES: 500\n",
      "Best alpha: 46.41588833612782\n"
     ]
    },
    {
     "name": "stderr",
     "output_type": "stream",
     "text": [
      "Processing samples:  89%|████████▉ | 358/401 [27:50<02:30,  3.50s/it]"
     ]
    },
    {
     "name": "stdout",
     "output_type": "stream",
     "text": [
      "0.7850897152171836\n",
      "[WRITE] Saved result from sample_10_state_county_county_desired_5ppc_500_size_seed_456.pkl to /home/libe2152/optimizedsampling/0_results/usavars/treecover/cluster_sampling_r2_scores.csv\n",
      "Fitting regression...\n",
      "NUM SAMPLES: 500\n",
      "Best alpha: 3.593813663804626\n"
     ]
    },
    {
     "name": "stderr",
     "output_type": "stream",
     "text": [
      "Processing samples:  90%|████████▉ | 359/401 [27:54<02:30,  3.57s/it]"
     ]
    },
    {
     "name": "stdout",
     "output_type": "stream",
     "text": [
      "0.7819885664887587\n",
      "[WRITE] Saved result from sample_10_state_county_county_desired_5ppc_500_size_seed_5678.pkl to /home/libe2152/optimizedsampling/0_results/usavars/treecover/cluster_sampling_r2_scores.csv\n",
      "Fitting regression...\n",
      "NUM SAMPLES: 500\n",
      "Best alpha: 3.593813663804626\n"
     ]
    },
    {
     "name": "stderr",
     "output_type": "stream",
     "text": [
      "Processing samples:  90%|████████▉ | 360/401 [27:57<02:26,  3.57s/it]"
     ]
    },
    {
     "name": "stdout",
     "output_type": "stream",
     "text": [
      "0.7841171385356539\n",
      "[WRITE] Saved result from sample_10_state_county_county_desired_5ppc_500_size_seed_789.pkl to /home/libe2152/optimizedsampling/0_results/usavars/treecover/cluster_sampling_r2_scores.csv\n",
      "Fitting regression...\n",
      "NUM SAMPLES: 500\n",
      "Best alpha: 3.593813663804626\n"
     ]
    },
    {
     "name": "stderr",
     "output_type": "stream",
     "text": [
      "Processing samples:  90%|█████████ | 361/401 [28:01<02:23,  3.60s/it]"
     ]
    },
    {
     "name": "stdout",
     "output_type": "stream",
     "text": [
      "0.8014139218396399\n",
      "[WRITE] Saved result from sample_10_state_county_county_desired_5ppc_500_size_seed_9101.pkl to /home/libe2152/optimizedsampling/0_results/usavars/treecover/cluster_sampling_r2_scores.csv\n",
      "Fitting regression...\n",
      "NUM SAMPLES: 600\n",
      "Best alpha: 3.593813663804626\n"
     ]
    },
    {
     "name": "stderr",
     "output_type": "stream",
     "text": [
      "Processing samples:  90%|█████████ | 362/401 [28:05<02:28,  3.81s/it]"
     ]
    },
    {
     "name": "stdout",
     "output_type": "stream",
     "text": [
      "0.7611432262719003\n",
      "[WRITE] Saved result from sample_10_state_county_county_desired_5ppc_600_size_seed_1.pkl to /home/libe2152/optimizedsampling/0_results/usavars/treecover/cluster_sampling_r2_scores.csv\n",
      "Fitting regression...\n",
      "NUM SAMPLES: 600\n",
      "Best alpha: 46.41588833612782\n"
     ]
    },
    {
     "name": "stderr",
     "output_type": "stream",
     "text": [
      "Processing samples:  91%|█████████ | 363/401 [28:11<02:50,  4.47s/it]"
     ]
    },
    {
     "name": "stdout",
     "output_type": "stream",
     "text": [
      "0.7809141054093313\n",
      "[WRITE] Saved result from sample_10_state_county_county_desired_5ppc_600_size_seed_1213.pkl to /home/libe2152/optimizedsampling/0_results/usavars/treecover/cluster_sampling_r2_scores.csv\n",
      "Fitting regression...\n",
      "NUM SAMPLES: 600\n",
      "Best alpha: 3.593813663804626\n"
     ]
    },
    {
     "name": "stderr",
     "output_type": "stream",
     "text": [
      "Processing samples:  91%|█████████ | 364/401 [28:17<03:02,  4.93s/it]"
     ]
    },
    {
     "name": "stdout",
     "output_type": "stream",
     "text": [
      "0.7926278075853568\n",
      "[WRITE] Saved result from sample_10_state_county_county_desired_5ppc_600_size_seed_123.pkl to /home/libe2152/optimizedsampling/0_results/usavars/treecover/cluster_sampling_r2_scores.csv\n",
      "Fitting regression...\n",
      "NUM SAMPLES: 600\n",
      "Best alpha: 3.593813663804626\n"
     ]
    },
    {
     "name": "stderr",
     "output_type": "stream",
     "text": [
      "Processing samples:  91%|█████████ | 365/401 [28:23<03:03,  5.10s/it]"
     ]
    },
    {
     "name": "stdout",
     "output_type": "stream",
     "text": [
      "0.8035827973752205\n",
      "[WRITE] Saved result from sample_10_state_county_county_desired_5ppc_600_size_seed_1234.pkl to /home/libe2152/optimizedsampling/0_results/usavars/treecover/cluster_sampling_r2_scores.csv\n",
      "Fitting regression...\n",
      "NUM SAMPLES: 600\n",
      "Best alpha: 3.593813663804626\n"
     ]
    },
    {
     "name": "stderr",
     "output_type": "stream",
     "text": [
      "Processing samples:  91%|█████████▏| 366/401 [28:29<03:12,  5.51s/it]"
     ]
    },
    {
     "name": "stdout",
     "output_type": "stream",
     "text": [
      "0.7856922007190847\n",
      "[WRITE] Saved result from sample_10_state_county_county_desired_5ppc_600_size_seed_1415.pkl to /home/libe2152/optimizedsampling/0_results/usavars/treecover/cluster_sampling_r2_scores.csv\n",
      "Fitting regression...\n",
      "NUM SAMPLES: 600\n",
      "Best alpha: 3.593813663804626\n"
     ]
    },
    {
     "name": "stderr",
     "output_type": "stream",
     "text": [
      "Processing samples:  92%|█████████▏| 367/401 [28:35<03:08,  5.54s/it]"
     ]
    },
    {
     "name": "stdout",
     "output_type": "stream",
     "text": [
      "0.7826488702906929\n",
      "[WRITE] Saved result from sample_10_state_county_county_desired_5ppc_600_size_seed_42.pkl to /home/libe2152/optimizedsampling/0_results/usavars/treecover/cluster_sampling_r2_scores.csv\n",
      "Fitting regression...\n",
      "NUM SAMPLES: 600\n",
      "Best alpha: 3.593813663804626\n"
     ]
    },
    {
     "name": "stderr",
     "output_type": "stream",
     "text": [
      "Processing samples:  92%|█████████▏| 368/401 [28:41<03:10,  5.76s/it]"
     ]
    },
    {
     "name": "stdout",
     "output_type": "stream",
     "text": [
      "0.7758672893056765\n",
      "[WRITE] Saved result from sample_10_state_county_county_desired_5ppc_600_size_seed_456.pkl to /home/libe2152/optimizedsampling/0_results/usavars/treecover/cluster_sampling_r2_scores.csv\n",
      "Fitting regression...\n",
      "NUM SAMPLES: 600\n",
      "Best alpha: 3.593813663804626\n"
     ]
    },
    {
     "name": "stderr",
     "output_type": "stream",
     "text": [
      "Processing samples:  92%|█████████▏| 369/401 [28:46<03:00,  5.65s/it]"
     ]
    },
    {
     "name": "stdout",
     "output_type": "stream",
     "text": [
      "0.8058265135838958\n",
      "[WRITE] Saved result from sample_10_state_county_county_desired_5ppc_600_size_seed_5678.pkl to /home/libe2152/optimizedsampling/0_results/usavars/treecover/cluster_sampling_r2_scores.csv\n",
      "Fitting regression...\n",
      "NUM SAMPLES: 600\n",
      "Best alpha: 3.593813663804626\n"
     ]
    },
    {
     "name": "stderr",
     "output_type": "stream",
     "text": [
      "Processing samples:  92%|█████████▏| 370/401 [28:52<02:52,  5.55s/it]"
     ]
    },
    {
     "name": "stdout",
     "output_type": "stream",
     "text": [
      "0.7837719234714343\n",
      "[WRITE] Saved result from sample_10_state_county_county_desired_5ppc_600_size_seed_789.pkl to /home/libe2152/optimizedsampling/0_results/usavars/treecover/cluster_sampling_r2_scores.csv\n",
      "Fitting regression...\n",
      "NUM SAMPLES: 600\n",
      "Best alpha: 3.593813663804626\n"
     ]
    },
    {
     "name": "stderr",
     "output_type": "stream",
     "text": [
      "Processing samples:  93%|█████████▎| 371/401 [28:57<02:45,  5.52s/it]"
     ]
    },
    {
     "name": "stdout",
     "output_type": "stream",
     "text": [
      "0.8079141775528946\n",
      "[WRITE] Saved result from sample_10_state_county_county_desired_5ppc_600_size_seed_9101.pkl to /home/libe2152/optimizedsampling/0_results/usavars/treecover/cluster_sampling_r2_scores.csv\n",
      "Fitting regression...\n",
      "NUM SAMPLES: 700\n",
      "Best alpha: 3.593813663804626\n"
     ]
    },
    {
     "name": "stderr",
     "output_type": "stream",
     "text": [
      "Processing samples:  93%|█████████▎| 372/401 [29:03<02:46,  5.73s/it]"
     ]
    },
    {
     "name": "stdout",
     "output_type": "stream",
     "text": [
      "0.7639716383105581\n",
      "[WRITE] Saved result from sample_10_state_county_county_desired_5ppc_700_size_seed_1.pkl to /home/libe2152/optimizedsampling/0_results/usavars/treecover/cluster_sampling_r2_scores.csv\n",
      "Fitting regression...\n",
      "NUM SAMPLES: 700\n",
      "Best alpha: 3.593813663804626\n"
     ]
    },
    {
     "name": "stderr",
     "output_type": "stream",
     "text": [
      "Processing samples:  93%|█████████▎| 373/401 [29:10<02:45,  5.90s/it]"
     ]
    },
    {
     "name": "stdout",
     "output_type": "stream",
     "text": [
      "0.8041462303509707\n",
      "[WRITE] Saved result from sample_10_state_county_county_desired_5ppc_700_size_seed_1213.pkl to /home/libe2152/optimizedsampling/0_results/usavars/treecover/cluster_sampling_r2_scores.csv\n",
      "Fitting regression...\n",
      "NUM SAMPLES: 700\n",
      "Best alpha: 3.593813663804626\n"
     ]
    },
    {
     "name": "stderr",
     "output_type": "stream",
     "text": [
      "Processing samples:  93%|█████████▎| 374/401 [29:15<02:39,  5.89s/it]"
     ]
    },
    {
     "name": "stdout",
     "output_type": "stream",
     "text": [
      "0.801301690134783\n",
      "[WRITE] Saved result from sample_10_state_county_county_desired_5ppc_700_size_seed_123.pkl to /home/libe2152/optimizedsampling/0_results/usavars/treecover/cluster_sampling_r2_scores.csv\n",
      "Fitting regression...\n",
      "NUM SAMPLES: 700\n",
      "Best alpha: 3.593813663804626\n"
     ]
    },
    {
     "name": "stderr",
     "output_type": "stream",
     "text": [
      "Processing samples:  94%|█████████▎| 375/401 [29:22<02:37,  6.07s/it]"
     ]
    },
    {
     "name": "stdout",
     "output_type": "stream",
     "text": [
      "0.8081230715148516\n",
      "[WRITE] Saved result from sample_10_state_county_county_desired_5ppc_700_size_seed_1234.pkl to /home/libe2152/optimizedsampling/0_results/usavars/treecover/cluster_sampling_r2_scores.csv\n",
      "Fitting regression...\n",
      "NUM SAMPLES: 700\n",
      "Best alpha: 3.593813663804626\n"
     ]
    },
    {
     "name": "stderr",
     "output_type": "stream",
     "text": [
      "Processing samples:  94%|█████████▍| 376/401 [29:28<02:29,  5.98s/it]"
     ]
    },
    {
     "name": "stdout",
     "output_type": "stream",
     "text": [
      "0.7939817988756476\n",
      "[WRITE] Saved result from sample_10_state_county_county_desired_5ppc_700_size_seed_1415.pkl to /home/libe2152/optimizedsampling/0_results/usavars/treecover/cluster_sampling_r2_scores.csv\n",
      "Fitting regression...\n",
      "NUM SAMPLES: 700\n",
      "Best alpha: 3.593813663804626\n"
     ]
    },
    {
     "name": "stderr",
     "output_type": "stream",
     "text": [
      "Processing samples:  94%|█████████▍| 377/401 [29:34<02:25,  6.05s/it]"
     ]
    },
    {
     "name": "stdout",
     "output_type": "stream",
     "text": [
      "0.7776988131426263\n",
      "[WRITE] Saved result from sample_10_state_county_county_desired_5ppc_700_size_seed_42.pkl to /home/libe2152/optimizedsampling/0_results/usavars/treecover/cluster_sampling_r2_scores.csv\n",
      "Fitting regression...\n",
      "NUM SAMPLES: 700\n",
      "Best alpha: 3.593813663804626\n"
     ]
    },
    {
     "name": "stderr",
     "output_type": "stream",
     "text": [
      "Processing samples:  94%|█████████▍| 378/401 [29:40<02:20,  6.10s/it]"
     ]
    },
    {
     "name": "stdout",
     "output_type": "stream",
     "text": [
      "0.7801508309528078\n",
      "[WRITE] Saved result from sample_10_state_county_county_desired_5ppc_700_size_seed_456.pkl to /home/libe2152/optimizedsampling/0_results/usavars/treecover/cluster_sampling_r2_scores.csv\n",
      "Fitting regression...\n",
      "NUM SAMPLES: 700\n",
      "Best alpha: 3.593813663804626\n"
     ]
    },
    {
     "name": "stderr",
     "output_type": "stream",
     "text": [
      "Processing samples:  95%|█████████▍| 379/401 [29:46<02:14,  6.09s/it]"
     ]
    },
    {
     "name": "stdout",
     "output_type": "stream",
     "text": [
      "0.8099215656671376\n",
      "[WRITE] Saved result from sample_10_state_county_county_desired_5ppc_700_size_seed_5678.pkl to /home/libe2152/optimizedsampling/0_results/usavars/treecover/cluster_sampling_r2_scores.csv\n",
      "Fitting regression...\n",
      "NUM SAMPLES: 700\n",
      "Best alpha: 3.593813663804626\n"
     ]
    },
    {
     "name": "stderr",
     "output_type": "stream",
     "text": [
      "Processing samples:  95%|█████████▍| 380/401 [29:52<02:07,  6.07s/it]"
     ]
    },
    {
     "name": "stdout",
     "output_type": "stream",
     "text": [
      "0.808480727900224\n",
      "[WRITE] Saved result from sample_10_state_county_county_desired_5ppc_700_size_seed_789.pkl to /home/libe2152/optimizedsampling/0_results/usavars/treecover/cluster_sampling_r2_scores.csv\n",
      "Fitting regression...\n",
      "NUM SAMPLES: 700\n",
      "Best alpha: 3.593813663804626\n"
     ]
    },
    {
     "name": "stderr",
     "output_type": "stream",
     "text": [
      "Processing samples:  95%|█████████▌| 381/401 [29:58<01:59,  5.98s/it]"
     ]
    },
    {
     "name": "stdout",
     "output_type": "stream",
     "text": [
      "0.8178963564661805\n",
      "[WRITE] Saved result from sample_10_state_county_county_desired_5ppc_700_size_seed_9101.pkl to /home/libe2152/optimizedsampling/0_results/usavars/treecover/cluster_sampling_r2_scores.csv\n",
      "Fitting regression...\n",
      "NUM SAMPLES: 800\n",
      "Best alpha: 3.593813663804626\n"
     ]
    },
    {
     "name": "stderr",
     "output_type": "stream",
     "text": [
      "Processing samples:  95%|█████████▌| 382/401 [30:06<02:02,  6.46s/it]"
     ]
    },
    {
     "name": "stdout",
     "output_type": "stream",
     "text": [
      "0.7680300843112147\n",
      "[WRITE] Saved result from sample_10_state_county_county_desired_5ppc_800_size_seed_1.pkl to /home/libe2152/optimizedsampling/0_results/usavars/treecover/cluster_sampling_r2_scores.csv\n",
      "Fitting regression...\n",
      "NUM SAMPLES: 800\n",
      "Best alpha: 3.593813663804626\n"
     ]
    },
    {
     "name": "stderr",
     "output_type": "stream",
     "text": [
      "Processing samples:  96%|█████████▌| 383/401 [30:14<02:04,  6.90s/it]"
     ]
    },
    {
     "name": "stdout",
     "output_type": "stream",
     "text": [
      "0.8088740938513053\n",
      "[WRITE] Saved result from sample_10_state_county_county_desired_5ppc_800_size_seed_1213.pkl to /home/libe2152/optimizedsampling/0_results/usavars/treecover/cluster_sampling_r2_scores.csv\n",
      "Fitting regression...\n",
      "NUM SAMPLES: 800\n",
      "Best alpha: 3.593813663804626\n"
     ]
    },
    {
     "name": "stderr",
     "output_type": "stream",
     "text": [
      "Processing samples:  96%|█████████▌| 384/401 [30:21<02:01,  7.13s/it]"
     ]
    },
    {
     "name": "stdout",
     "output_type": "stream",
     "text": [
      "0.8090807324550919\n",
      "[WRITE] Saved result from sample_10_state_county_county_desired_5ppc_800_size_seed_123.pkl to /home/libe2152/optimizedsampling/0_results/usavars/treecover/cluster_sampling_r2_scores.csv\n",
      "Fitting regression...\n",
      "NUM SAMPLES: 800\n",
      "Best alpha: 3.593813663804626\n"
     ]
    },
    {
     "name": "stderr",
     "output_type": "stream",
     "text": [
      "Processing samples:  96%|█████████▌| 385/401 [30:29<01:56,  7.26s/it]"
     ]
    },
    {
     "name": "stdout",
     "output_type": "stream",
     "text": [
      "0.814102898456412\n",
      "[WRITE] Saved result from sample_10_state_county_county_desired_5ppc_800_size_seed_1234.pkl to /home/libe2152/optimizedsampling/0_results/usavars/treecover/cluster_sampling_r2_scores.csv\n",
      "Fitting regression...\n",
      "NUM SAMPLES: 800\n",
      "Best alpha: 3.593813663804626\n"
     ]
    },
    {
     "name": "stderr",
     "output_type": "stream",
     "text": [
      "Processing samples:  96%|█████████▋| 386/401 [30:36<01:48,  7.22s/it]"
     ]
    },
    {
     "name": "stdout",
     "output_type": "stream",
     "text": [
      "0.8025099575089518\n",
      "[WRITE] Saved result from sample_10_state_county_county_desired_5ppc_800_size_seed_1415.pkl to /home/libe2152/optimizedsampling/0_results/usavars/treecover/cluster_sampling_r2_scores.csv\n",
      "Fitting regression...\n",
      "NUM SAMPLES: 800\n",
      "Best alpha: 3.593813663804626\n"
     ]
    },
    {
     "name": "stderr",
     "output_type": "stream",
     "text": [
      "Processing samples:  97%|█████████▋| 387/401 [30:44<01:43,  7.39s/it]"
     ]
    },
    {
     "name": "stdout",
     "output_type": "stream",
     "text": [
      "0.784456388711201\n",
      "[WRITE] Saved result from sample_10_state_county_county_desired_5ppc_800_size_seed_42.pkl to /home/libe2152/optimizedsampling/0_results/usavars/treecover/cluster_sampling_r2_scores.csv\n",
      "Fitting regression...\n",
      "NUM SAMPLES: 800\n",
      "Best alpha: 3.593813663804626\n"
     ]
    },
    {
     "name": "stderr",
     "output_type": "stream",
     "text": [
      "Processing samples:  97%|█████████▋| 388/401 [30:52<01:37,  7.53s/it]"
     ]
    },
    {
     "name": "stdout",
     "output_type": "stream",
     "text": [
      "0.7764631306620617\n",
      "[WRITE] Saved result from sample_10_state_county_county_desired_5ppc_800_size_seed_456.pkl to /home/libe2152/optimizedsampling/0_results/usavars/treecover/cluster_sampling_r2_scores.csv\n",
      "Fitting regression...\n",
      "NUM SAMPLES: 800\n",
      "Best alpha: 3.593813663804626\n"
     ]
    },
    {
     "name": "stderr",
     "output_type": "stream",
     "text": [
      "Processing samples:  97%|█████████▋| 389/401 [30:59<01:30,  7.55s/it]"
     ]
    },
    {
     "name": "stdout",
     "output_type": "stream",
     "text": [
      "0.8063357264585711\n",
      "[WRITE] Saved result from sample_10_state_county_county_desired_5ppc_800_size_seed_5678.pkl to /home/libe2152/optimizedsampling/0_results/usavars/treecover/cluster_sampling_r2_scores.csv\n",
      "Fitting regression...\n",
      "NUM SAMPLES: 800\n",
      "Best alpha: 3.593813663804626\n"
     ]
    },
    {
     "name": "stderr",
     "output_type": "stream",
     "text": [
      "Processing samples:  97%|█████████▋| 390/401 [31:07<01:23,  7.58s/it]"
     ]
    },
    {
     "name": "stdout",
     "output_type": "stream",
     "text": [
      "0.8075945508071817\n",
      "[WRITE] Saved result from sample_10_state_county_county_desired_5ppc_800_size_seed_789.pkl to /home/libe2152/optimizedsampling/0_results/usavars/treecover/cluster_sampling_r2_scores.csv\n",
      "Fitting regression...\n",
      "NUM SAMPLES: 800\n",
      "Best alpha: 3.593813663804626\n"
     ]
    },
    {
     "name": "stderr",
     "output_type": "stream",
     "text": [
      "Processing samples:  98%|█████████▊| 391/401 [31:15<01:16,  7.67s/it]"
     ]
    },
    {
     "name": "stdout",
     "output_type": "stream",
     "text": [
      "0.8113759871527493\n",
      "[WRITE] Saved result from sample_10_state_county_county_desired_5ppc_800_size_seed_9101.pkl to /home/libe2152/optimizedsampling/0_results/usavars/treecover/cluster_sampling_r2_scores.csv\n",
      "Fitting regression...\n",
      "NUM SAMPLES: 900\n",
      "Best alpha: 3.593813663804626\n"
     ]
    },
    {
     "name": "stderr",
     "output_type": "stream",
     "text": [
      "Processing samples:  98%|█████████▊| 392/401 [31:23<01:10,  7.86s/it]"
     ]
    },
    {
     "name": "stdout",
     "output_type": "stream",
     "text": [
      "0.783694531006922\n",
      "[WRITE] Saved result from sample_10_state_county_county_desired_5ppc_900_size_seed_1.pkl to /home/libe2152/optimizedsampling/0_results/usavars/treecover/cluster_sampling_r2_scores.csv\n",
      "Fitting regression...\n",
      "NUM SAMPLES: 900\n",
      "Best alpha: 3.593813663804626\n"
     ]
    },
    {
     "name": "stderr",
     "output_type": "stream",
     "text": [
      "Processing samples:  98%|█████████▊| 393/401 [31:31<01:03,  7.94s/it]"
     ]
    },
    {
     "name": "stdout",
     "output_type": "stream",
     "text": [
      "0.8099628225930353\n",
      "[WRITE] Saved result from sample_10_state_county_county_desired_5ppc_900_size_seed_1213.pkl to /home/libe2152/optimizedsampling/0_results/usavars/treecover/cluster_sampling_r2_scores.csv\n",
      "Fitting regression...\n",
      "NUM SAMPLES: 900\n",
      "Best alpha: 3.593813663804626\n"
     ]
    },
    {
     "name": "stderr",
     "output_type": "stream",
     "text": [
      "Processing samples:  98%|█████████▊| 394/401 [31:39<00:55,  7.99s/it]"
     ]
    },
    {
     "name": "stdout",
     "output_type": "stream",
     "text": [
      "0.8071041370948089\n",
      "[WRITE] Saved result from sample_10_state_county_county_desired_5ppc_900_size_seed_123.pkl to /home/libe2152/optimizedsampling/0_results/usavars/treecover/cluster_sampling_r2_scores.csv\n",
      "Fitting regression...\n",
      "NUM SAMPLES: 900\n",
      "Best alpha: 3.593813663804626\n"
     ]
    },
    {
     "name": "stderr",
     "output_type": "stream",
     "text": [
      "Processing samples:  99%|█████████▊| 395/401 [31:47<00:48,  8.06s/it]"
     ]
    },
    {
     "name": "stdout",
     "output_type": "stream",
     "text": [
      "0.837183435812358\n",
      "[WRITE] Saved result from sample_10_state_county_county_desired_5ppc_900_size_seed_1234.pkl to /home/libe2152/optimizedsampling/0_results/usavars/treecover/cluster_sampling_r2_scores.csv\n",
      "Fitting regression...\n",
      "NUM SAMPLES: 900\n",
      "Best alpha: 3.593813663804626\n"
     ]
    },
    {
     "name": "stderr",
     "output_type": "stream",
     "text": [
      "Processing samples:  99%|█████████▉| 396/401 [31:56<00:40,  8.10s/it]"
     ]
    },
    {
     "name": "stdout",
     "output_type": "stream",
     "text": [
      "0.8052538000718918\n",
      "[WRITE] Saved result from sample_10_state_county_county_desired_5ppc_900_size_seed_1415.pkl to /home/libe2152/optimizedsampling/0_results/usavars/treecover/cluster_sampling_r2_scores.csv\n",
      "Fitting regression...\n",
      "NUM SAMPLES: 900\n",
      "Best alpha: 3.593813663804626\n"
     ]
    },
    {
     "name": "stderr",
     "output_type": "stream",
     "text": [
      "Processing samples:  99%|█████████▉| 397/401 [32:04<00:32,  8.09s/it]"
     ]
    },
    {
     "name": "stdout",
     "output_type": "stream",
     "text": [
      "0.784878176631836\n",
      "[WRITE] Saved result from sample_10_state_county_county_desired_5ppc_900_size_seed_42.pkl to /home/libe2152/optimizedsampling/0_results/usavars/treecover/cluster_sampling_r2_scores.csv\n",
      "Fitting regression...\n",
      "NUM SAMPLES: 900\n",
      "Best alpha: 3.593813663804626\n"
     ]
    },
    {
     "name": "stderr",
     "output_type": "stream",
     "text": [
      "Processing samples:  99%|█████████▉| 398/401 [32:12<00:24,  8.07s/it]"
     ]
    },
    {
     "name": "stdout",
     "output_type": "stream",
     "text": [
      "0.7766347555437085\n",
      "[WRITE] Saved result from sample_10_state_county_county_desired_5ppc_900_size_seed_456.pkl to /home/libe2152/optimizedsampling/0_results/usavars/treecover/cluster_sampling_r2_scores.csv\n",
      "Fitting regression...\n",
      "NUM SAMPLES: 900\n",
      "Best alpha: 3.593813663804626\n"
     ]
    },
    {
     "name": "stderr",
     "output_type": "stream",
     "text": [
      "Processing samples: 100%|█████████▉| 399/401 [32:20<00:16,  8.18s/it]"
     ]
    },
    {
     "name": "stdout",
     "output_type": "stream",
     "text": [
      "0.8091109701353247\n",
      "[WRITE] Saved result from sample_10_state_county_county_desired_5ppc_900_size_seed_5678.pkl to /home/libe2152/optimizedsampling/0_results/usavars/treecover/cluster_sampling_r2_scores.csv\n",
      "Fitting regression...\n",
      "NUM SAMPLES: 900\n",
      "Best alpha: 3.593813663804626\n"
     ]
    },
    {
     "name": "stderr",
     "output_type": "stream",
     "text": [
      "Processing samples: 100%|█████████▉| 400/401 [32:29<00:08,  8.27s/it]"
     ]
    },
    {
     "name": "stdout",
     "output_type": "stream",
     "text": [
      "0.813401678366177\n",
      "[WRITE] Saved result from sample_10_state_county_county_desired_5ppc_900_size_seed_789.pkl to /home/libe2152/optimizedsampling/0_results/usavars/treecover/cluster_sampling_r2_scores.csv\n",
      "Fitting regression...\n",
      "NUM SAMPLES: 900\n",
      "Best alpha: 3.593813663804626\n"
     ]
    },
    {
     "name": "stderr",
     "output_type": "stream",
     "text": [
      "Processing samples: 100%|██████████| 401/401 [32:37<00:00,  4.88s/it]"
     ]
    },
    {
     "name": "stdout",
     "output_type": "stream",
     "text": [
      "0.8177286079082824\n",
      "[WRITE] Saved result from sample_10_state_county_county_desired_5ppc_900_size_seed_9101.pkl to /home/libe2152/optimizedsampling/0_results/usavars/treecover/cluster_sampling_r2_scores.csv\n",
      "Results written incrementally to /home/libe2152/optimizedsampling/0_results/usavars/treecover/cluster_sampling_r2_scores.csv\n",
      "Loading features from /home/libe2152/optimizedsampling/0_data/features/usavars/CONTUS_UAR_treecover_with_splits_torchgeo4096.pkl ...\n"
     ]
    },
    {
     "name": "stderr",
     "output_type": "stream",
     "text": [
      "\n"
     ]
    },
    {
     "name": "stdout",
     "output_type": "stream",
     "text": [
      "Processing samples from /home/libe2152/optimizedsampling/0_data/initial_samples/usavars/treecover/convenience_sampling/urban_based ...\n"
     ]
    },
    {
     "name": "stderr",
     "output_type": "stream",
     "text": [
      "Processing samples: 100%|██████████| 401/401 [00:00<00:00, 18729.37it/s]"
     ]
    },
    {
     "name": "stdout",
     "output_type": "stream",
     "text": [
      "[WARNING] Failed to load IDS_top10_urban_1000_points_probabilistic_1000_size_seed_1.pkl: list indices must be integers or slices, not str\n",
      "[WARNING] Failed to load IDS_top10_urban_1000_points_probabilistic_1000_size_seed_1213.pkl: list indices must be integers or slices, not str\n",
      "[WARNING] Failed to load IDS_top10_urban_1000_points_probabilistic_1000_size_seed_123.pkl: list indices must be integers or slices, not str\n",
      "[WARNING] Failed to load IDS_top10_urban_1000_points_probabilistic_1000_size_seed_1234.pkl: list indices must be integers or slices, not str\n",
      "[WARNING] Failed to load IDS_top10_urban_1000_points_probabilistic_1000_size_seed_1415.pkl: list indices must be integers or slices, not str\n",
      "[WARNING] Failed to load IDS_top10_urban_1000_points_probabilistic_1000_size_seed_42.pkl: list indices must be integers or slices, not str\n",
      "[WARNING] Failed to load IDS_top10_urban_1000_points_probabilistic_1000_size_seed_456.pkl: list indices must be integers or slices, not str\n",
      "[WARNING] Failed to load IDS_top10_urban_1000_points_probabilistic_1000_size_seed_5678.pkl: list indices must be integers or slices, not str\n",
      "[WARNING] Failed to load IDS_top10_urban_1000_points_probabilistic_1000_size_seed_789.pkl: list indices must be integers or slices, not str\n",
      "[WARNING] Failed to load IDS_top10_urban_1000_points_probabilistic_1000_size_seed_9101.pkl: list indices must be integers or slices, not str\n",
      "[WARNING] Failed to load IDS_top10_urban_1000_points_probabilistic_seed_1.pkl: list indices must be integers or slices, not str\n",
      "[WARNING] Failed to load IDS_top10_urban_1000_points_probabilistic_seed_1213.pkl: list indices must be integers or slices, not str\n",
      "[WARNING] Failed to load IDS_top10_urban_1000_points_probabilistic_seed_123.pkl: list indices must be integers or slices, not str\n",
      "[WARNING] Failed to load IDS_top10_urban_1000_points_probabilistic_seed_1234.pkl: list indices must be integers or slices, not str\n",
      "[WARNING] Failed to load IDS_top10_urban_1000_points_probabilistic_seed_1415.pkl: list indices must be integers or slices, not str\n",
      "[WARNING] Failed to load IDS_top10_urban_1000_points_probabilistic_seed_42.pkl: list indices must be integers or slices, not str\n",
      "[WARNING] Failed to load IDS_top10_urban_1000_points_probabilistic_seed_456.pkl: list indices must be integers or slices, not str\n",
      "[WARNING] Failed to load IDS_top10_urban_1000_points_probabilistic_seed_5678.pkl: list indices must be integers or slices, not str\n",
      "[WARNING] Failed to load IDS_top10_urban_1000_points_probabilistic_seed_789.pkl: list indices must be integers or slices, not str\n",
      "[WARNING] Failed to load IDS_top10_urban_1000_points_probabilistic_seed_9101.pkl: list indices must be integers or slices, not str\n",
      "[WARNING] Failed to load IDS_top10_urban_100_points_probabilistic_100_size_seed_1.pkl: list indices must be integers or slices, not str\n",
      "[WARNING] Failed to load IDS_top10_urban_100_points_probabilistic_100_size_seed_1213.pkl: list indices must be integers or slices, not str\n",
      "[WARNING] Failed to load IDS_top10_urban_100_points_probabilistic_100_size_seed_123.pkl: list indices must be integers or slices, not str\n",
      "[WARNING] Failed to load IDS_top10_urban_100_points_probabilistic_100_size_seed_1234.pkl: list indices must be integers or slices, not str\n",
      "[WARNING] Failed to load IDS_top10_urban_100_points_probabilistic_100_size_seed_1415.pkl: list indices must be integers or slices, not str\n",
      "[WARNING] Failed to load IDS_top10_urban_100_points_probabilistic_100_size_seed_42.pkl: list indices must be integers or slices, not str\n",
      "[WARNING] Failed to load IDS_top10_urban_100_points_probabilistic_100_size_seed_456.pkl: list indices must be integers or slices, not str\n",
      "[WARNING] Failed to load IDS_top10_urban_100_points_probabilistic_100_size_seed_5678.pkl: list indices must be integers or slices, not str\n",
      "[WARNING] Failed to load IDS_top10_urban_100_points_probabilistic_100_size_seed_789.pkl: list indices must be integers or slices, not str\n",
      "[WARNING] Failed to load IDS_top10_urban_100_points_probabilistic_100_size_seed_9101.pkl: list indices must be integers or slices, not str\n",
      "[WARNING] Failed to load IDS_top10_urban_100_points_probabilistic_seed_1.pkl: list indices must be integers or slices, not str\n",
      "[WARNING] Failed to load IDS_top10_urban_100_points_probabilistic_seed_1213.pkl: list indices must be integers or slices, not str\n",
      "[WARNING] Failed to load IDS_top10_urban_100_points_probabilistic_seed_123.pkl: list indices must be integers or slices, not str\n",
      "[WARNING] Failed to load IDS_top10_urban_100_points_probabilistic_seed_1234.pkl: list indices must be integers or slices, not str\n",
      "[WARNING] Failed to load IDS_top10_urban_100_points_probabilistic_seed_1415.pkl: list indices must be integers or slices, not str\n",
      "[WARNING] Failed to load IDS_top10_urban_100_points_probabilistic_seed_42.pkl: list indices must be integers or slices, not str\n",
      "[WARNING] Failed to load IDS_top10_urban_100_points_probabilistic_seed_456.pkl: list indices must be integers or slices, not str\n",
      "[WARNING] Failed to load IDS_top10_urban_100_points_probabilistic_seed_5678.pkl: list indices must be integers or slices, not str\n",
      "[WARNING] Failed to load IDS_top10_urban_100_points_probabilistic_seed_789.pkl: list indices must be integers or slices, not str\n",
      "[WARNING] Failed to load IDS_top10_urban_100_points_probabilistic_seed_9101.pkl: list indices must be integers or slices, not str\n",
      "[WARNING] Failed to load IDS_top10_urban_200_points_probabilistic_200_size_seed_1.pkl: list indices must be integers or slices, not str\n",
      "[WARNING] Failed to load IDS_top10_urban_200_points_probabilistic_200_size_seed_1213.pkl: list indices must be integers or slices, not str\n",
      "[WARNING] Failed to load IDS_top10_urban_200_points_probabilistic_200_size_seed_123.pkl: list indices must be integers or slices, not str\n",
      "[WARNING] Failed to load IDS_top10_urban_200_points_probabilistic_200_size_seed_1234.pkl: list indices must be integers or slices, not str\n",
      "[WARNING] Failed to load IDS_top10_urban_200_points_probabilistic_200_size_seed_1415.pkl: list indices must be integers or slices, not str\n",
      "[WARNING] Failed to load IDS_top10_urban_200_points_probabilistic_200_size_seed_42.pkl: list indices must be integers or slices, not str\n",
      "[WARNING] Failed to load IDS_top10_urban_200_points_probabilistic_200_size_seed_456.pkl: list indices must be integers or slices, not str\n",
      "[WARNING] Failed to load IDS_top10_urban_200_points_probabilistic_200_size_seed_5678.pkl: list indices must be integers or slices, not str\n",
      "[WARNING] Failed to load IDS_top10_urban_200_points_probabilistic_200_size_seed_789.pkl: list indices must be integers or slices, not str\n",
      "[WARNING] Failed to load IDS_top10_urban_200_points_probabilistic_200_size_seed_9101.pkl: list indices must be integers or slices, not str\n",
      "[WARNING] Failed to load IDS_top10_urban_200_points_probabilistic_seed_1.pkl: list indices must be integers or slices, not str\n",
      "[WARNING] Failed to load IDS_top10_urban_200_points_probabilistic_seed_1213.pkl: list indices must be integers or slices, not str\n",
      "[WARNING] Failed to load IDS_top10_urban_200_points_probabilistic_seed_123.pkl: list indices must be integers or slices, not str\n",
      "[WARNING] Failed to load IDS_top10_urban_200_points_probabilistic_seed_1234.pkl: list indices must be integers or slices, not str\n",
      "[WARNING] Failed to load IDS_top10_urban_200_points_probabilistic_seed_1415.pkl: list indices must be integers or slices, not str\n",
      "[WARNING] Failed to load IDS_top10_urban_200_points_probabilistic_seed_42.pkl: list indices must be integers or slices, not str\n",
      "[WARNING] Failed to load IDS_top10_urban_200_points_probabilistic_seed_456.pkl: list indices must be integers or slices, not str\n",
      "[WARNING] Failed to load IDS_top10_urban_200_points_probabilistic_seed_5678.pkl: list indices must be integers or slices, not str\n",
      "[WARNING] Failed to load IDS_top10_urban_200_points_probabilistic_seed_789.pkl: list indices must be integers or slices, not str\n",
      "[WARNING] Failed to load IDS_top10_urban_200_points_probabilistic_seed_9101.pkl: list indices must be integers or slices, not str\n",
      "[WARNING] Failed to load IDS_top10_urban_300_points_probabilistic_300_size_seed_1.pkl: list indices must be integers or slices, not str\n",
      "[WARNING] Failed to load IDS_top10_urban_300_points_probabilistic_300_size_seed_1213.pkl: list indices must be integers or slices, not str\n",
      "[WARNING] Failed to load IDS_top10_urban_300_points_probabilistic_300_size_seed_123.pkl: list indices must be integers or slices, not str\n",
      "[WARNING] Failed to load IDS_top10_urban_300_points_probabilistic_300_size_seed_1234.pkl: list indices must be integers or slices, not str\n",
      "[WARNING] Failed to load IDS_top10_urban_300_points_probabilistic_300_size_seed_1415.pkl: list indices must be integers or slices, not str\n",
      "[WARNING] Failed to load IDS_top10_urban_300_points_probabilistic_300_size_seed_42.pkl: list indices must be integers or slices, not str\n",
      "[WARNING] Failed to load IDS_top10_urban_300_points_probabilistic_300_size_seed_456.pkl: list indices must be integers or slices, not str\n",
      "[WARNING] Failed to load IDS_top10_urban_300_points_probabilistic_300_size_seed_5678.pkl: list indices must be integers or slices, not str\n",
      "[WARNING] Failed to load IDS_top10_urban_300_points_probabilistic_300_size_seed_789.pkl: list indices must be integers or slices, not str\n",
      "[WARNING] Failed to load IDS_top10_urban_300_points_probabilistic_300_size_seed_9101.pkl: list indices must be integers or slices, not str\n",
      "[WARNING] Failed to load IDS_top10_urban_300_points_probabilistic_seed_1.pkl: list indices must be integers or slices, not str\n",
      "[WARNING] Failed to load IDS_top10_urban_300_points_probabilistic_seed_1213.pkl: list indices must be integers or slices, not str\n",
      "[WARNING] Failed to load IDS_top10_urban_300_points_probabilistic_seed_123.pkl: list indices must be integers or slices, not str\n",
      "[WARNING] Failed to load IDS_top10_urban_300_points_probabilistic_seed_1234.pkl: list indices must be integers or slices, not str\n",
      "[WARNING] Failed to load IDS_top10_urban_300_points_probabilistic_seed_1415.pkl: list indices must be integers or slices, not str\n",
      "[WARNING] Failed to load IDS_top10_urban_300_points_probabilistic_seed_42.pkl: list indices must be integers or slices, not str\n",
      "[WARNING] Failed to load IDS_top10_urban_300_points_probabilistic_seed_456.pkl: list indices must be integers or slices, not str\n",
      "[WARNING] Failed to load IDS_top10_urban_300_points_probabilistic_seed_5678.pkl: list indices must be integers or slices, not str\n",
      "[WARNING] Failed to load IDS_top10_urban_300_points_probabilistic_seed_789.pkl: list indices must be integers or slices, not str\n",
      "[WARNING] Failed to load IDS_top10_urban_300_points_probabilistic_seed_9101.pkl: list indices must be integers or slices, not str\n",
      "[WARNING] Failed to load IDS_top10_urban_400_points_probabilistic_400_size_seed_1.pkl: list indices must be integers or slices, not str\n",
      "[WARNING] Failed to load IDS_top10_urban_400_points_probabilistic_400_size_seed_1213.pkl: list indices must be integers or slices, not str\n",
      "[WARNING] Failed to load IDS_top10_urban_400_points_probabilistic_400_size_seed_123.pkl: list indices must be integers or slices, not str\n",
      "[WARNING] Failed to load IDS_top10_urban_400_points_probabilistic_400_size_seed_1234.pkl: list indices must be integers or slices, not str\n",
      "[WARNING] Failed to load IDS_top10_urban_400_points_probabilistic_400_size_seed_1415.pkl: list indices must be integers or slices, not str\n",
      "[WARNING] Failed to load IDS_top10_urban_400_points_probabilistic_400_size_seed_42.pkl: list indices must be integers or slices, not str\n",
      "[WARNING] Failed to load IDS_top10_urban_400_points_probabilistic_400_size_seed_456.pkl: list indices must be integers or slices, not str\n",
      "[WARNING] Failed to load IDS_top10_urban_400_points_probabilistic_400_size_seed_5678.pkl: list indices must be integers or slices, not str\n",
      "[WARNING] Failed to load IDS_top10_urban_400_points_probabilistic_400_size_seed_789.pkl: list indices must be integers or slices, not str\n",
      "[WARNING] Failed to load IDS_top10_urban_400_points_probabilistic_400_size_seed_9101.pkl: list indices must be integers or slices, not str\n",
      "[WARNING] Failed to load IDS_top10_urban_400_points_probabilistic_seed_1.pkl: list indices must be integers or slices, not str\n",
      "[WARNING] Failed to load IDS_top10_urban_400_points_probabilistic_seed_1213.pkl: list indices must be integers or slices, not str\n",
      "[WARNING] Failed to load IDS_top10_urban_400_points_probabilistic_seed_123.pkl: list indices must be integers or slices, not str\n",
      "[WARNING] Failed to load IDS_top10_urban_400_points_probabilistic_seed_1234.pkl: list indices must be integers or slices, not str\n",
      "[WARNING] Failed to load IDS_top10_urban_400_points_probabilistic_seed_1415.pkl: list indices must be integers or slices, not str\n",
      "[WARNING] Failed to load IDS_top10_urban_400_points_probabilistic_seed_42.pkl: list indices must be integers or slices, not str\n",
      "[WARNING] Failed to load IDS_top10_urban_400_points_probabilistic_seed_456.pkl: list indices must be integers or slices, not str\n",
      "[WARNING] Failed to load IDS_top10_urban_400_points_probabilistic_seed_5678.pkl: list indices must be integers or slices, not str\n",
      "[WARNING] Failed to load IDS_top10_urban_400_points_probabilistic_seed_789.pkl: list indices must be integers or slices, not str\n",
      "[WARNING] Failed to load IDS_top10_urban_400_points_probabilistic_seed_9101.pkl: list indices must be integers or slices, not str\n",
      "[WARNING] Failed to load IDS_top10_urban_500_points_probabilistic_500_size_seed_1.pkl: list indices must be integers or slices, not str\n",
      "[WARNING] Failed to load IDS_top10_urban_500_points_probabilistic_500_size_seed_1213.pkl: list indices must be integers or slices, not str\n",
      "[WARNING] Failed to load IDS_top10_urban_500_points_probabilistic_500_size_seed_123.pkl: list indices must be integers or slices, not str\n",
      "[WARNING] Failed to load IDS_top10_urban_500_points_probabilistic_500_size_seed_1234.pkl: list indices must be integers or slices, not str\n",
      "[WARNING] Failed to load IDS_top10_urban_500_points_probabilistic_500_size_seed_1415.pkl: list indices must be integers or slices, not str\n",
      "[WARNING] Failed to load IDS_top10_urban_500_points_probabilistic_500_size_seed_42.pkl: list indices must be integers or slices, not str\n",
      "[WARNING] Failed to load IDS_top10_urban_500_points_probabilistic_500_size_seed_456.pkl: list indices must be integers or slices, not str\n",
      "[WARNING] Failed to load IDS_top10_urban_500_points_probabilistic_500_size_seed_5678.pkl: list indices must be integers or slices, not str\n",
      "[WARNING] Failed to load IDS_top10_urban_500_points_probabilistic_500_size_seed_789.pkl: list indices must be integers or slices, not str\n",
      "[WARNING] Failed to load IDS_top10_urban_500_points_probabilistic_500_size_seed_9101.pkl: list indices must be integers or slices, not str\n",
      "[WARNING] Failed to load IDS_top10_urban_500_points_probabilistic_seed_1.pkl: list indices must be integers or slices, not str\n",
      "[WARNING] Failed to load IDS_top10_urban_500_points_probabilistic_seed_1213.pkl: list indices must be integers or slices, not str\n",
      "[WARNING] Failed to load IDS_top10_urban_500_points_probabilistic_seed_123.pkl: list indices must be integers or slices, not str\n",
      "[WARNING] Failed to load IDS_top10_urban_500_points_probabilistic_seed_1234.pkl: list indices must be integers or slices, not str\n",
      "[WARNING] Failed to load IDS_top10_urban_500_points_probabilistic_seed_1415.pkl: list indices must be integers or slices, not str\n",
      "[WARNING] Failed to load IDS_top10_urban_500_points_probabilistic_seed_42.pkl: list indices must be integers or slices, not str\n",
      "[WARNING] Failed to load IDS_top10_urban_500_points_probabilistic_seed_456.pkl: list indices must be integers or slices, not str\n",
      "[WARNING] Failed to load IDS_top10_urban_500_points_probabilistic_seed_5678.pkl: list indices must be integers or slices, not str\n",
      "[WARNING] Failed to load IDS_top10_urban_500_points_probabilistic_seed_789.pkl: list indices must be integers or slices, not str\n",
      "[WARNING] Failed to load IDS_top10_urban_500_points_probabilistic_seed_9101.pkl: list indices must be integers or slices, not str\n",
      "[WARNING] Failed to load IDS_top10_urban_600_points_probabilistic_600_size_seed_1.pkl: list indices must be integers or slices, not str\n",
      "[WARNING] Failed to load IDS_top10_urban_600_points_probabilistic_600_size_seed_1213.pkl: list indices must be integers or slices, not str\n",
      "[WARNING] Failed to load IDS_top10_urban_600_points_probabilistic_600_size_seed_123.pkl: list indices must be integers or slices, not str\n",
      "[WARNING] Failed to load IDS_top10_urban_600_points_probabilistic_600_size_seed_1234.pkl: list indices must be integers or slices, not str\n",
      "[WARNING] Failed to load IDS_top10_urban_600_points_probabilistic_600_size_seed_1415.pkl: list indices must be integers or slices, not str\n",
      "[WARNING] Failed to load IDS_top10_urban_600_points_probabilistic_600_size_seed_42.pkl: list indices must be integers or slices, not str\n",
      "[WARNING] Failed to load IDS_top10_urban_600_points_probabilistic_600_size_seed_456.pkl: list indices must be integers or slices, not str\n",
      "[WARNING] Failed to load IDS_top10_urban_600_points_probabilistic_600_size_seed_5678.pkl: list indices must be integers or slices, not str\n",
      "[WARNING] Failed to load IDS_top10_urban_600_points_probabilistic_600_size_seed_789.pkl: list indices must be integers or slices, not str\n",
      "[WARNING] Failed to load IDS_top10_urban_600_points_probabilistic_600_size_seed_9101.pkl: list indices must be integers or slices, not str\n",
      "[WARNING] Failed to load IDS_top10_urban_600_points_probabilistic_seed_1.pkl: list indices must be integers or slices, not str\n",
      "[WARNING] Failed to load IDS_top10_urban_600_points_probabilistic_seed_1213.pkl: list indices must be integers or slices, not str\n",
      "[WARNING] Failed to load IDS_top10_urban_600_points_probabilistic_seed_123.pkl: list indices must be integers or slices, not str\n",
      "[WARNING] Failed to load IDS_top10_urban_600_points_probabilistic_seed_1234.pkl: list indices must be integers or slices, not str\n",
      "[WARNING] Failed to load IDS_top10_urban_600_points_probabilistic_seed_1415.pkl: list indices must be integers or slices, not str\n",
      "[WARNING] Failed to load IDS_top10_urban_600_points_probabilistic_seed_42.pkl: list indices must be integers or slices, not str\n",
      "[WARNING] Failed to load IDS_top10_urban_600_points_probabilistic_seed_456.pkl: list indices must be integers or slices, not str\n",
      "[WARNING] Failed to load IDS_top10_urban_600_points_probabilistic_seed_5678.pkl: list indices must be integers or slices, not str\n",
      "[WARNING] Failed to load IDS_top10_urban_600_points_probabilistic_seed_789.pkl: list indices must be integers or slices, not str\n",
      "[WARNING] Failed to load IDS_top10_urban_600_points_probabilistic_seed_9101.pkl: list indices must be integers or slices, not str\n",
      "[WARNING] Failed to load IDS_top10_urban_700_points_probabilistic_700_size_seed_1.pkl: list indices must be integers or slices, not str\n",
      "[WARNING] Failed to load IDS_top10_urban_700_points_probabilistic_700_size_seed_1213.pkl: list indices must be integers or slices, not str\n",
      "[WARNING] Failed to load IDS_top10_urban_700_points_probabilistic_700_size_seed_123.pkl: list indices must be integers or slices, not str\n",
      "[WARNING] Failed to load IDS_top10_urban_700_points_probabilistic_700_size_seed_1234.pkl: list indices must be integers or slices, not str\n",
      "[WARNING] Failed to load IDS_top10_urban_700_points_probabilistic_700_size_seed_1415.pkl: list indices must be integers or slices, not str\n",
      "[WARNING] Failed to load IDS_top10_urban_700_points_probabilistic_700_size_seed_42.pkl: list indices must be integers or slices, not str\n",
      "[WARNING] Failed to load IDS_top10_urban_700_points_probabilistic_700_size_seed_456.pkl: list indices must be integers or slices, not str\n",
      "[WARNING] Failed to load IDS_top10_urban_700_points_probabilistic_700_size_seed_5678.pkl: list indices must be integers or slices, not str\n",
      "[WARNING] Failed to load IDS_top10_urban_700_points_probabilistic_700_size_seed_789.pkl: list indices must be integers or slices, not str\n",
      "[WARNING] Failed to load IDS_top10_urban_700_points_probabilistic_700_size_seed_9101.pkl: list indices must be integers or slices, not str\n",
      "[WARNING] Failed to load IDS_top10_urban_700_points_probabilistic_seed_1.pkl: list indices must be integers or slices, not str\n",
      "[WARNING] Failed to load IDS_top10_urban_700_points_probabilistic_seed_1213.pkl: list indices must be integers or slices, not str\n",
      "[WARNING] Failed to load IDS_top10_urban_700_points_probabilistic_seed_123.pkl: list indices must be integers or slices, not str\n",
      "[WARNING] Failed to load IDS_top10_urban_700_points_probabilistic_seed_1234.pkl: list indices must be integers or slices, not str\n",
      "[WARNING] Failed to load IDS_top10_urban_700_points_probabilistic_seed_1415.pkl: list indices must be integers or slices, not str\n",
      "[WARNING] Failed to load IDS_top10_urban_700_points_probabilistic_seed_42.pkl: list indices must be integers or slices, not str\n",
      "[WARNING] Failed to load IDS_top10_urban_700_points_probabilistic_seed_456.pkl: list indices must be integers or slices, not str\n",
      "[WARNING] Failed to load IDS_top10_urban_700_points_probabilistic_seed_5678.pkl: list indices must be integers or slices, not str\n",
      "[WARNING] Failed to load IDS_top10_urban_700_points_probabilistic_seed_789.pkl: list indices must be integers or slices, not str\n",
      "[WARNING] Failed to load IDS_top10_urban_700_points_probabilistic_seed_9101.pkl: list indices must be integers or slices, not str\n",
      "[WARNING] Failed to load IDS_top10_urban_800_points_probabilistic_800_size_seed_1.pkl: list indices must be integers or slices, not str\n",
      "[WARNING] Failed to load IDS_top10_urban_800_points_probabilistic_800_size_seed_1213.pkl: list indices must be integers or slices, not str\n",
      "[WARNING] Failed to load IDS_top10_urban_800_points_probabilistic_800_size_seed_123.pkl: list indices must be integers or slices, not str\n",
      "[WARNING] Failed to load IDS_top10_urban_800_points_probabilistic_800_size_seed_1234.pkl: list indices must be integers or slices, not str\n",
      "[WARNING] Failed to load IDS_top10_urban_800_points_probabilistic_800_size_seed_1415.pkl: list indices must be integers or slices, not str\n",
      "[WARNING] Failed to load IDS_top10_urban_800_points_probabilistic_800_size_seed_42.pkl: list indices must be integers or slices, not str\n",
      "[WARNING] Failed to load IDS_top10_urban_800_points_probabilistic_800_size_seed_456.pkl: list indices must be integers or slices, not str\n",
      "[WARNING] Failed to load IDS_top10_urban_800_points_probabilistic_800_size_seed_5678.pkl: list indices must be integers or slices, not str\n",
      "[WARNING] Failed to load IDS_top10_urban_800_points_probabilistic_800_size_seed_789.pkl: list indices must be integers or slices, not str\n",
      "[WARNING] Failed to load IDS_top10_urban_800_points_probabilistic_800_size_seed_9101.pkl: list indices must be integers or slices, not str\n",
      "[WARNING] Failed to load IDS_top10_urban_800_points_probabilistic_seed_1.pkl: list indices must be integers or slices, not str\n",
      "[WARNING] Failed to load IDS_top10_urban_800_points_probabilistic_seed_1213.pkl: list indices must be integers or slices, not str\n",
      "[WARNING] Failed to load IDS_top10_urban_800_points_probabilistic_seed_123.pkl: list indices must be integers or slices, not str\n",
      "[WARNING] Failed to load IDS_top10_urban_800_points_probabilistic_seed_1234.pkl: list indices must be integers or slices, not str\n",
      "[WARNING] Failed to load IDS_top10_urban_800_points_probabilistic_seed_1415.pkl: list indices must be integers or slices, not str\n",
      "[WARNING] Failed to load IDS_top10_urban_800_points_probabilistic_seed_42.pkl: list indices must be integers or slices, not str\n",
      "[WARNING] Failed to load IDS_top10_urban_800_points_probabilistic_seed_456.pkl: list indices must be integers or slices, not str\n",
      "[WARNING] Failed to load IDS_top10_urban_800_points_probabilistic_seed_5678.pkl: list indices must be integers or slices, not str\n",
      "[WARNING] Failed to load IDS_top10_urban_800_points_probabilistic_seed_789.pkl: list indices must be integers or slices, not str\n",
      "[WARNING] Failed to load IDS_top10_urban_800_points_probabilistic_seed_9101.pkl: list indices must be integers or slices, not str\n",
      "[WARNING] Failed to load IDS_top10_urban_900_points_probabilistic_900_size_seed_1.pkl: list indices must be integers or slices, not str\n",
      "[WARNING] Failed to load IDS_top10_urban_900_points_probabilistic_900_size_seed_1213.pkl: list indices must be integers or slices, not str\n",
      "[WARNING] Failed to load IDS_top10_urban_900_points_probabilistic_900_size_seed_123.pkl: list indices must be integers or slices, not str\n",
      "[WARNING] Failed to load IDS_top10_urban_900_points_probabilistic_900_size_seed_1234.pkl: list indices must be integers or slices, not str\n",
      "[WARNING] Failed to load IDS_top10_urban_900_points_probabilistic_900_size_seed_1415.pkl: list indices must be integers or slices, not str\n",
      "[WARNING] Failed to load IDS_top10_urban_900_points_probabilistic_900_size_seed_42.pkl: list indices must be integers or slices, not str\n",
      "[WARNING] Failed to load IDS_top10_urban_900_points_probabilistic_900_size_seed_456.pkl: list indices must be integers or slices, not str\n",
      "[WARNING] Failed to load IDS_top10_urban_900_points_probabilistic_900_size_seed_5678.pkl: list indices must be integers or slices, not str\n",
      "[WARNING] Failed to load IDS_top10_urban_900_points_probabilistic_900_size_seed_789.pkl: list indices must be integers or slices, not str\n",
      "[WARNING] Failed to load IDS_top10_urban_900_points_probabilistic_900_size_seed_9101.pkl: list indices must be integers or slices, not str\n",
      "[WARNING] Failed to load IDS_top10_urban_900_points_probabilistic_seed_1.pkl: list indices must be integers or slices, not str\n",
      "[WARNING] Failed to load IDS_top10_urban_900_points_probabilistic_seed_1213.pkl: list indices must be integers or slices, not str\n",
      "[WARNING] Failed to load IDS_top10_urban_900_points_probabilistic_seed_123.pkl: list indices must be integers or slices, not str\n",
      "[WARNING] Failed to load IDS_top10_urban_900_points_probabilistic_seed_1234.pkl: list indices must be integers or slices, not str\n",
      "[WARNING] Failed to load IDS_top10_urban_900_points_probabilistic_seed_1415.pkl: list indices must be integers or slices, not str\n",
      "[WARNING] Failed to load IDS_top10_urban_900_points_probabilistic_seed_42.pkl: list indices must be integers or slices, not str\n",
      "[WARNING] Failed to load IDS_top10_urban_900_points_probabilistic_seed_456.pkl: list indices must be integers or slices, not str\n",
      "[WARNING] Failed to load IDS_top10_urban_900_points_probabilistic_seed_5678.pkl: list indices must be integers or slices, not str\n",
      "[WARNING] Failed to load IDS_top10_urban_900_points_probabilistic_seed_789.pkl: list indices must be integers or slices, not str\n",
      "[WARNING] Failed to load IDS_top10_urban_900_points_probabilistic_seed_9101.pkl: list indices must be integers or slices, not str\n",
      "[WARNING] Failed to load IDS_top20_urban_1000_points_probabilistic_1000_size_seed_1.pkl: list indices must be integers or slices, not str\n",
      "[WARNING] Failed to load IDS_top20_urban_1000_points_probabilistic_1000_size_seed_1213.pkl: list indices must be integers or slices, not str\n",
      "[WARNING] Failed to load IDS_top20_urban_1000_points_probabilistic_1000_size_seed_123.pkl: list indices must be integers or slices, not str\n",
      "[WARNING] Failed to load IDS_top20_urban_1000_points_probabilistic_1000_size_seed_1234.pkl: list indices must be integers or slices, not str\n",
      "[WARNING] Failed to load IDS_top20_urban_1000_points_probabilistic_1000_size_seed_1415.pkl: list indices must be integers or slices, not str\n",
      "[WARNING] Failed to load IDS_top20_urban_1000_points_probabilistic_1000_size_seed_42.pkl: list indices must be integers or slices, not str\n",
      "[WARNING] Failed to load IDS_top20_urban_1000_points_probabilistic_1000_size_seed_456.pkl: list indices must be integers or slices, not str\n",
      "[WARNING] Failed to load IDS_top20_urban_1000_points_probabilistic_1000_size_seed_5678.pkl: list indices must be integers or slices, not str\n",
      "[WARNING] Failed to load IDS_top20_urban_1000_points_probabilistic_1000_size_seed_789.pkl: list indices must be integers or slices, not str\n",
      "[WARNING] Failed to load IDS_top20_urban_1000_points_probabilistic_1000_size_seed_9101.pkl: list indices must be integers or slices, not str\n",
      "[WARNING] Failed to load IDS_top20_urban_100_points_probabilistic_100_size_seed_1.pkl: list indices must be integers or slices, not str\n",
      "[WARNING] Failed to load IDS_top20_urban_100_points_probabilistic_100_size_seed_1213.pkl: list indices must be integers or slices, not str\n",
      "[WARNING] Failed to load IDS_top20_urban_100_points_probabilistic_100_size_seed_123.pkl: list indices must be integers or slices, not str\n",
      "[WARNING] Failed to load IDS_top20_urban_100_points_probabilistic_100_size_seed_1234.pkl: list indices must be integers or slices, not str\n",
      "[WARNING] Failed to load IDS_top20_urban_100_points_probabilistic_100_size_seed_1415.pkl: list indices must be integers or slices, not str\n",
      "[WARNING] Failed to load IDS_top20_urban_100_points_probabilistic_100_size_seed_42.pkl: list indices must be integers or slices, not str\n",
      "[WARNING] Failed to load IDS_top20_urban_100_points_probabilistic_100_size_seed_456.pkl: list indices must be integers or slices, not str\n",
      "[WARNING] Failed to load IDS_top20_urban_100_points_probabilistic_100_size_seed_5678.pkl: list indices must be integers or slices, not str\n",
      "[WARNING] Failed to load IDS_top20_urban_100_points_probabilistic_100_size_seed_789.pkl: list indices must be integers or slices, not str\n",
      "[WARNING] Failed to load IDS_top20_urban_100_points_probabilistic_100_size_seed_9101.pkl: list indices must be integers or slices, not str\n",
      "[WARNING] Failed to load IDS_top20_urban_200_points_probabilistic_200_size_seed_1.pkl: list indices must be integers or slices, not str\n",
      "[WARNING] Failed to load IDS_top20_urban_200_points_probabilistic_200_size_seed_1213.pkl: list indices must be integers or slices, not str\n",
      "[WARNING] Failed to load IDS_top20_urban_200_points_probabilistic_200_size_seed_123.pkl: list indices must be integers or slices, not str\n",
      "[WARNING] Failed to load IDS_top20_urban_200_points_probabilistic_200_size_seed_1234.pkl: list indices must be integers or slices, not str\n",
      "[WARNING] Failed to load IDS_top20_urban_200_points_probabilistic_200_size_seed_1415.pkl: list indices must be integers or slices, not str\n",
      "[WARNING] Failed to load IDS_top20_urban_200_points_probabilistic_200_size_seed_42.pkl: list indices must be integers or slices, not str\n",
      "[WARNING] Failed to load IDS_top20_urban_200_points_probabilistic_200_size_seed_456.pkl: list indices must be integers or slices, not str\n",
      "[WARNING] Failed to load IDS_top20_urban_200_points_probabilistic_200_size_seed_5678.pkl: list indices must be integers or slices, not str\n",
      "[WARNING] Failed to load IDS_top20_urban_200_points_probabilistic_200_size_seed_789.pkl: list indices must be integers or slices, not str\n",
      "[WARNING] Failed to load IDS_top20_urban_200_points_probabilistic_200_size_seed_9101.pkl: list indices must be integers or slices, not str\n",
      "[WARNING] Failed to load IDS_top20_urban_300_points_probabilistic_300_size_seed_1.pkl: list indices must be integers or slices, not str\n",
      "[WARNING] Failed to load IDS_top20_urban_300_points_probabilistic_300_size_seed_1213.pkl: list indices must be integers or slices, not str\n",
      "[WARNING] Failed to load IDS_top20_urban_300_points_probabilistic_300_size_seed_123.pkl: list indices must be integers or slices, not str\n",
      "[WARNING] Failed to load IDS_top20_urban_300_points_probabilistic_300_size_seed_1234.pkl: list indices must be integers or slices, not str\n",
      "[WARNING] Failed to load IDS_top20_urban_300_points_probabilistic_300_size_seed_1415.pkl: list indices must be integers or slices, not str\n",
      "[WARNING] Failed to load IDS_top20_urban_300_points_probabilistic_300_size_seed_42.pkl: list indices must be integers or slices, not str\n",
      "[WARNING] Failed to load IDS_top20_urban_300_points_probabilistic_300_size_seed_456.pkl: list indices must be integers or slices, not str\n",
      "[WARNING] Failed to load IDS_top20_urban_300_points_probabilistic_300_size_seed_5678.pkl: list indices must be integers or slices, not str\n",
      "[WARNING] Failed to load IDS_top20_urban_300_points_probabilistic_300_size_seed_789.pkl: list indices must be integers or slices, not str\n",
      "[WARNING] Failed to load IDS_top20_urban_300_points_probabilistic_300_size_seed_9101.pkl: list indices must be integers or slices, not str\n",
      "[WARNING] Failed to load IDS_top20_urban_400_points_probabilistic_400_size_seed_1.pkl: list indices must be integers or slices, not str\n",
      "[WARNING] Failed to load IDS_top20_urban_400_points_probabilistic_400_size_seed_1213.pkl: list indices must be integers or slices, not str\n",
      "[WARNING] Failed to load IDS_top20_urban_400_points_probabilistic_400_size_seed_123.pkl: list indices must be integers or slices, not str\n",
      "[WARNING] Failed to load IDS_top20_urban_400_points_probabilistic_400_size_seed_1234.pkl: list indices must be integers or slices, not str\n",
      "[WARNING] Failed to load IDS_top20_urban_400_points_probabilistic_400_size_seed_1415.pkl: list indices must be integers or slices, not str\n",
      "[WARNING] Failed to load IDS_top20_urban_400_points_probabilistic_400_size_seed_42.pkl: list indices must be integers or slices, not str\n",
      "[WARNING] Failed to load IDS_top20_urban_400_points_probabilistic_400_size_seed_456.pkl: list indices must be integers or slices, not str\n",
      "[WARNING] Failed to load IDS_top20_urban_400_points_probabilistic_400_size_seed_5678.pkl: list indices must be integers or slices, not str\n",
      "[WARNING] Failed to load IDS_top20_urban_400_points_probabilistic_400_size_seed_789.pkl: list indices must be integers or slices, not str\n",
      "[WARNING] Failed to load IDS_top20_urban_400_points_probabilistic_400_size_seed_9101.pkl: list indices must be integers or slices, not str\n",
      "[WARNING] Failed to load IDS_top20_urban_500_points_probabilistic_500_size_seed_1.pkl: list indices must be integers or slices, not str\n",
      "[WARNING] Failed to load IDS_top20_urban_500_points_probabilistic_500_size_seed_1213.pkl: list indices must be integers or slices, not str\n",
      "[WARNING] Failed to load IDS_top20_urban_500_points_probabilistic_500_size_seed_123.pkl: list indices must be integers or slices, not str\n",
      "[WARNING] Failed to load IDS_top20_urban_500_points_probabilistic_500_size_seed_1234.pkl: list indices must be integers or slices, not str\n",
      "[WARNING] Failed to load IDS_top20_urban_500_points_probabilistic_500_size_seed_1415.pkl: list indices must be integers or slices, not str\n",
      "[WARNING] Failed to load IDS_top20_urban_500_points_probabilistic_500_size_seed_42.pkl: list indices must be integers or slices, not str\n",
      "[WARNING] Failed to load IDS_top20_urban_500_points_probabilistic_500_size_seed_456.pkl: list indices must be integers or slices, not str\n",
      "[WARNING] Failed to load IDS_top20_urban_500_points_probabilistic_500_size_seed_5678.pkl: list indices must be integers or slices, not str\n",
      "[WARNING] Failed to load IDS_top20_urban_500_points_probabilistic_500_size_seed_789.pkl: list indices must be integers or slices, not str\n",
      "[WARNING] Failed to load IDS_top20_urban_500_points_probabilistic_500_size_seed_9101.pkl: list indices must be integers or slices, not str\n",
      "[WARNING] Failed to load IDS_top20_urban_600_points_probabilistic_600_size_seed_1.pkl: list indices must be integers or slices, not str\n",
      "[WARNING] Failed to load IDS_top20_urban_600_points_probabilistic_600_size_seed_1213.pkl: list indices must be integers or slices, not str\n",
      "[WARNING] Failed to load IDS_top20_urban_600_points_probabilistic_600_size_seed_123.pkl: list indices must be integers or slices, not str\n",
      "[WARNING] Failed to load IDS_top20_urban_600_points_probabilistic_600_size_seed_1234.pkl: list indices must be integers or slices, not str\n",
      "[WARNING] Failed to load IDS_top20_urban_600_points_probabilistic_600_size_seed_1415.pkl: list indices must be integers or slices, not str\n",
      "[WARNING] Failed to load IDS_top20_urban_600_points_probabilistic_600_size_seed_42.pkl: list indices must be integers or slices, not str\n",
      "[WARNING] Failed to load IDS_top20_urban_600_points_probabilistic_600_size_seed_456.pkl: list indices must be integers or slices, not str\n",
      "[WARNING] Failed to load IDS_top20_urban_600_points_probabilistic_600_size_seed_5678.pkl: list indices must be integers or slices, not str\n",
      "[WARNING] Failed to load IDS_top20_urban_600_points_probabilistic_600_size_seed_789.pkl: list indices must be integers or slices, not str\n",
      "[WARNING] Failed to load IDS_top20_urban_600_points_probabilistic_600_size_seed_9101.pkl: list indices must be integers or slices, not str\n",
      "[WARNING] Failed to load IDS_top20_urban_700_points_probabilistic_700_size_seed_1.pkl: list indices must be integers or slices, not str\n",
      "[WARNING] Failed to load IDS_top20_urban_700_points_probabilistic_700_size_seed_1213.pkl: list indices must be integers or slices, not str\n",
      "[WARNING] Failed to load IDS_top20_urban_700_points_probabilistic_700_size_seed_123.pkl: list indices must be integers or slices, not str\n",
      "[WARNING] Failed to load IDS_top20_urban_700_points_probabilistic_700_size_seed_1234.pkl: list indices must be integers or slices, not str\n",
      "[WARNING] Failed to load IDS_top20_urban_700_points_probabilistic_700_size_seed_1415.pkl: list indices must be integers or slices, not str\n",
      "[WARNING] Failed to load IDS_top20_urban_700_points_probabilistic_700_size_seed_42.pkl: list indices must be integers or slices, not str\n",
      "[WARNING] Failed to load IDS_top20_urban_700_points_probabilistic_700_size_seed_456.pkl: list indices must be integers or slices, not str\n",
      "[WARNING] Failed to load IDS_top20_urban_700_points_probabilistic_700_size_seed_5678.pkl: list indices must be integers or slices, not str\n",
      "[WARNING] Failed to load IDS_top20_urban_700_points_probabilistic_700_size_seed_789.pkl: list indices must be integers or slices, not str\n",
      "[WARNING] Failed to load IDS_top20_urban_700_points_probabilistic_700_size_seed_9101.pkl: list indices must be integers or slices, not str\n",
      "[WARNING] Failed to load IDS_top20_urban_800_points_probabilistic_800_size_seed_1.pkl: list indices must be integers or slices, not str\n",
      "[WARNING] Failed to load IDS_top20_urban_800_points_probabilistic_800_size_seed_1213.pkl: list indices must be integers or slices, not str\n",
      "[WARNING] Failed to load IDS_top20_urban_800_points_probabilistic_800_size_seed_123.pkl: list indices must be integers or slices, not str\n",
      "[WARNING] Failed to load IDS_top20_urban_800_points_probabilistic_800_size_seed_1234.pkl: list indices must be integers or slices, not str\n",
      "[WARNING] Failed to load IDS_top20_urban_800_points_probabilistic_800_size_seed_1415.pkl: list indices must be integers or slices, not str\n",
      "[WARNING] Failed to load IDS_top20_urban_800_points_probabilistic_800_size_seed_42.pkl: list indices must be integers or slices, not str\n",
      "[WARNING] Failed to load IDS_top20_urban_800_points_probabilistic_800_size_seed_456.pkl: list indices must be integers or slices, not str\n",
      "[WARNING] Failed to load IDS_top20_urban_800_points_probabilistic_800_size_seed_5678.pkl: list indices must be integers or slices, not str\n",
      "[WARNING] Failed to load IDS_top20_urban_800_points_probabilistic_800_size_seed_789.pkl: list indices must be integers or slices, not str\n",
      "[WARNING] Failed to load IDS_top20_urban_800_points_probabilistic_800_size_seed_9101.pkl: list indices must be integers or slices, not str\n",
      "[WARNING] Failed to load IDS_top20_urban_900_points_probabilistic_900_size_seed_1.pkl: list indices must be integers or slices, not str\n",
      "[WARNING] Failed to load IDS_top20_urban_900_points_probabilistic_900_size_seed_1213.pkl: list indices must be integers or slices, not str\n",
      "[WARNING] Failed to load IDS_top20_urban_900_points_probabilistic_900_size_seed_123.pkl: list indices must be integers or slices, not str\n",
      "[WARNING] Failed to load IDS_top20_urban_900_points_probabilistic_900_size_seed_1234.pkl: list indices must be integers or slices, not str\n",
      "[WARNING] Failed to load IDS_top20_urban_900_points_probabilistic_900_size_seed_1415.pkl: list indices must be integers or slices, not str\n",
      "[WARNING] Failed to load IDS_top20_urban_900_points_probabilistic_900_size_seed_42.pkl: list indices must be integers or slices, not str\n",
      "[WARNING] Failed to load IDS_top20_urban_900_points_probabilistic_900_size_seed_456.pkl: list indices must be integers or slices, not str\n",
      "[WARNING] Failed to load IDS_top20_urban_900_points_probabilistic_900_size_seed_5678.pkl: list indices must be integers or slices, not str\n",
      "[WARNING] Failed to load IDS_top20_urban_900_points_probabilistic_900_size_seed_789.pkl: list indices must be integers or slices, not str\n",
      "[WARNING] Failed to load IDS_top20_urban_900_points_probabilistic_900_size_seed_9101.pkl: list indices must be integers or slices, not str\n",
      "[WARNING] Failed to load IDS_top50_urban_1000_points_probabilistic_1000_size_seed_1.pkl: list indices must be integers or slices, not str\n",
      "[WARNING] Failed to load IDS_top50_urban_1000_points_probabilistic_1000_size_seed_1213.pkl: list indices must be integers or slices, not str\n",
      "[WARNING] Failed to load IDS_top50_urban_1000_points_probabilistic_1000_size_seed_123.pkl: list indices must be integers or slices, not str\n",
      "[WARNING] Failed to load IDS_top50_urban_1000_points_probabilistic_1000_size_seed_1234.pkl: list indices must be integers or slices, not str\n",
      "[WARNING] Failed to load IDS_top50_urban_1000_points_probabilistic_1000_size_seed_1415.pkl: list indices must be integers or slices, not str\n",
      "[WARNING] Failed to load IDS_top50_urban_1000_points_probabilistic_1000_size_seed_42.pkl: list indices must be integers or slices, not str\n",
      "[WARNING] Failed to load IDS_top50_urban_1000_points_probabilistic_1000_size_seed_456.pkl: list indices must be integers or slices, not str\n",
      "[WARNING] Failed to load IDS_top50_urban_1000_points_probabilistic_1000_size_seed_5678.pkl: list indices must be integers or slices, not str\n",
      "[WARNING] Failed to load IDS_top50_urban_1000_points_probabilistic_1000_size_seed_789.pkl: list indices must be integers or slices, not str\n",
      "[WARNING] Failed to load IDS_top50_urban_1000_points_probabilistic_1000_size_seed_9101.pkl: list indices must be integers or slices, not str\n",
      "[WARNING] Failed to load IDS_top50_urban_100_points_probabilistic_100_size_seed_1.pkl: list indices must be integers or slices, not str\n",
      "[WARNING] Failed to load IDS_top50_urban_100_points_probabilistic_100_size_seed_1213.pkl: list indices must be integers or slices, not str\n",
      "[WARNING] Failed to load IDS_top50_urban_100_points_probabilistic_100_size_seed_123.pkl: list indices must be integers or slices, not str\n",
      "[WARNING] Failed to load IDS_top50_urban_100_points_probabilistic_100_size_seed_1234.pkl: list indices must be integers or slices, not str\n",
      "[WARNING] Failed to load IDS_top50_urban_100_points_probabilistic_100_size_seed_1415.pkl: list indices must be integers or slices, not str\n",
      "[WARNING] Failed to load IDS_top50_urban_100_points_probabilistic_100_size_seed_42.pkl: list indices must be integers or slices, not str\n",
      "[WARNING] Failed to load IDS_top50_urban_100_points_probabilistic_100_size_seed_456.pkl: list indices must be integers or slices, not str\n",
      "[WARNING] Failed to load IDS_top50_urban_100_points_probabilistic_100_size_seed_5678.pkl: list indices must be integers or slices, not str\n",
      "[WARNING] Failed to load IDS_top50_urban_100_points_probabilistic_100_size_seed_789.pkl: list indices must be integers or slices, not str\n",
      "[WARNING] Failed to load IDS_top50_urban_100_points_probabilistic_100_size_seed_9101.pkl: list indices must be integers or slices, not str\n",
      "[WARNING] Failed to load IDS_top50_urban_200_points_probabilistic_200_size_seed_1.pkl: list indices must be integers or slices, not str\n",
      "[WARNING] Failed to load IDS_top50_urban_200_points_probabilistic_200_size_seed_1213.pkl: list indices must be integers or slices, not str\n",
      "[WARNING] Failed to load IDS_top50_urban_200_points_probabilistic_200_size_seed_123.pkl: list indices must be integers or slices, not str\n",
      "[WARNING] Failed to load IDS_top50_urban_200_points_probabilistic_200_size_seed_1234.pkl: list indices must be integers or slices, not str\n",
      "[WARNING] Failed to load IDS_top50_urban_200_points_probabilistic_200_size_seed_1415.pkl: list indices must be integers or slices, not str\n",
      "[WARNING] Failed to load IDS_top50_urban_200_points_probabilistic_200_size_seed_42.pkl: list indices must be integers or slices, not str\n",
      "[WARNING] Failed to load IDS_top50_urban_200_points_probabilistic_200_size_seed_456.pkl: list indices must be integers or slices, not str\n",
      "[WARNING] Failed to load IDS_top50_urban_200_points_probabilistic_200_size_seed_5678.pkl: list indices must be integers or slices, not str\n",
      "[WARNING] Failed to load IDS_top50_urban_200_points_probabilistic_200_size_seed_789.pkl: list indices must be integers or slices, not str\n",
      "[WARNING] Failed to load IDS_top50_urban_200_points_probabilistic_200_size_seed_9101.pkl: list indices must be integers or slices, not str\n",
      "[WARNING] Failed to load IDS_top50_urban_300_points_probabilistic_300_size_seed_1.pkl: list indices must be integers or slices, not str\n",
      "[WARNING] Failed to load IDS_top50_urban_300_points_probabilistic_300_size_seed_1213.pkl: list indices must be integers or slices, not str\n",
      "[WARNING] Failed to load IDS_top50_urban_300_points_probabilistic_300_size_seed_123.pkl: list indices must be integers or slices, not str\n",
      "[WARNING] Failed to load IDS_top50_urban_300_points_probabilistic_300_size_seed_1234.pkl: list indices must be integers or slices, not str\n",
      "[WARNING] Failed to load IDS_top50_urban_300_points_probabilistic_300_size_seed_1415.pkl: list indices must be integers or slices, not str\n",
      "[WARNING] Failed to load IDS_top50_urban_300_points_probabilistic_300_size_seed_42.pkl: list indices must be integers or slices, not str\n",
      "[WARNING] Failed to load IDS_top50_urban_300_points_probabilistic_300_size_seed_456.pkl: list indices must be integers or slices, not str\n",
      "[WARNING] Failed to load IDS_top50_urban_300_points_probabilistic_300_size_seed_5678.pkl: list indices must be integers or slices, not str\n",
      "[WARNING] Failed to load IDS_top50_urban_300_points_probabilistic_300_size_seed_789.pkl: list indices must be integers or slices, not str\n",
      "[WARNING] Failed to load IDS_top50_urban_300_points_probabilistic_300_size_seed_9101.pkl: list indices must be integers or slices, not str\n",
      "[WARNING] Failed to load IDS_top50_urban_400_points_probabilistic_400_size_seed_1.pkl: list indices must be integers or slices, not str\n",
      "[WARNING] Failed to load IDS_top50_urban_400_points_probabilistic_400_size_seed_1213.pkl: list indices must be integers or slices, not str\n",
      "[WARNING] Failed to load IDS_top50_urban_400_points_probabilistic_400_size_seed_123.pkl: list indices must be integers or slices, not str\n",
      "[WARNING] Failed to load IDS_top50_urban_400_points_probabilistic_400_size_seed_1234.pkl: list indices must be integers or slices, not str\n",
      "[WARNING] Failed to load IDS_top50_urban_400_points_probabilistic_400_size_seed_1415.pkl: list indices must be integers or slices, not str\n",
      "[WARNING] Failed to load IDS_top50_urban_400_points_probabilistic_400_size_seed_42.pkl: list indices must be integers or slices, not str\n",
      "[WARNING] Failed to load IDS_top50_urban_400_points_probabilistic_400_size_seed_456.pkl: list indices must be integers or slices, not str\n",
      "[WARNING] Failed to load IDS_top50_urban_400_points_probabilistic_400_size_seed_5678.pkl: list indices must be integers or slices, not str\n",
      "[WARNING] Failed to load IDS_top50_urban_400_points_probabilistic_400_size_seed_789.pkl: list indices must be integers or slices, not str\n",
      "[WARNING] Failed to load IDS_top50_urban_400_points_probabilistic_400_size_seed_9101.pkl: list indices must be integers or slices, not str\n",
      "[WARNING] Failed to load IDS_top50_urban_500_points_probabilistic_500_size_seed_1.pkl: list indices must be integers or slices, not str\n",
      "[WARNING] Failed to load IDS_top50_urban_500_points_probabilistic_500_size_seed_1213.pkl: list indices must be integers or slices, not str\n",
      "[WARNING] Failed to load IDS_top50_urban_500_points_probabilistic_500_size_seed_123.pkl: list indices must be integers or slices, not str\n",
      "[WARNING] Failed to load IDS_top50_urban_500_points_probabilistic_500_size_seed_1234.pkl: list indices must be integers or slices, not str\n",
      "[WARNING] Failed to load IDS_top50_urban_500_points_probabilistic_500_size_seed_1415.pkl: list indices must be integers or slices, not str\n",
      "[WARNING] Failed to load IDS_top50_urban_500_points_probabilistic_500_size_seed_42.pkl: list indices must be integers or slices, not str\n",
      "[WARNING] Failed to load IDS_top50_urban_500_points_probabilistic_500_size_seed_456.pkl: list indices must be integers or slices, not str\n",
      "[WARNING] Failed to load IDS_top50_urban_500_points_probabilistic_500_size_seed_5678.pkl: list indices must be integers or slices, not str\n",
      "[WARNING] Failed to load IDS_top50_urban_500_points_probabilistic_500_size_seed_789.pkl: list indices must be integers or slices, not str\n",
      "[WARNING] Failed to load IDS_top50_urban_500_points_probabilistic_500_size_seed_9101.pkl: list indices must be integers or slices, not str\n",
      "[WARNING] Failed to load IDS_top50_urban_600_points_probabilistic_600_size_seed_1.pkl: list indices must be integers or slices, not str\n",
      "[WARNING] Failed to load IDS_top50_urban_600_points_probabilistic_600_size_seed_1213.pkl: list indices must be integers or slices, not str\n",
      "[WARNING] Failed to load IDS_top50_urban_600_points_probabilistic_600_size_seed_123.pkl: list indices must be integers or slices, not str\n",
      "[WARNING] Failed to load IDS_top50_urban_600_points_probabilistic_600_size_seed_1234.pkl: list indices must be integers or slices, not str\n",
      "[WARNING] Failed to load IDS_top50_urban_600_points_probabilistic_600_size_seed_1415.pkl: list indices must be integers or slices, not str\n",
      "[WARNING] Failed to load IDS_top50_urban_600_points_probabilistic_600_size_seed_42.pkl: list indices must be integers or slices, not str\n",
      "[WARNING] Failed to load IDS_top50_urban_600_points_probabilistic_600_size_seed_456.pkl: list indices must be integers or slices, not str\n",
      "[WARNING] Failed to load IDS_top50_urban_600_points_probabilistic_600_size_seed_5678.pkl: list indices must be integers or slices, not str\n",
      "[WARNING] Failed to load IDS_top50_urban_600_points_probabilistic_600_size_seed_789.pkl: list indices must be integers or slices, not str\n",
      "[WARNING] Failed to load IDS_top50_urban_600_points_probabilistic_600_size_seed_9101.pkl: list indices must be integers or slices, not str\n",
      "[WARNING] Failed to load IDS_top50_urban_700_points_probabilistic_700_size_seed_1.pkl: list indices must be integers or slices, not str\n",
      "[WARNING] Failed to load IDS_top50_urban_700_points_probabilistic_700_size_seed_1213.pkl: list indices must be integers or slices, not str\n",
      "[WARNING] Failed to load IDS_top50_urban_700_points_probabilistic_700_size_seed_123.pkl: list indices must be integers or slices, not str\n",
      "[WARNING] Failed to load IDS_top50_urban_700_points_probabilistic_700_size_seed_1234.pkl: list indices must be integers or slices, not str\n",
      "[WARNING] Failed to load IDS_top50_urban_700_points_probabilistic_700_size_seed_1415.pkl: list indices must be integers or slices, not str\n",
      "[WARNING] Failed to load IDS_top50_urban_700_points_probabilistic_700_size_seed_42.pkl: list indices must be integers or slices, not str\n",
      "[WARNING] Failed to load IDS_top50_urban_700_points_probabilistic_700_size_seed_456.pkl: list indices must be integers or slices, not str\n",
      "[WARNING] Failed to load IDS_top50_urban_700_points_probabilistic_700_size_seed_5678.pkl: list indices must be integers or slices, not str\n",
      "[WARNING] Failed to load IDS_top50_urban_700_points_probabilistic_700_size_seed_789.pkl: list indices must be integers or slices, not str\n",
      "[WARNING] Failed to load IDS_top50_urban_700_points_probabilistic_700_size_seed_9101.pkl: list indices must be integers or slices, not str\n",
      "[WARNING] Failed to load IDS_top50_urban_800_points_probabilistic_800_size_seed_1.pkl: list indices must be integers or slices, not str\n",
      "[WARNING] Failed to load IDS_top50_urban_800_points_probabilistic_800_size_seed_1213.pkl: list indices must be integers or slices, not str\n",
      "[WARNING] Failed to load IDS_top50_urban_800_points_probabilistic_800_size_seed_123.pkl: list indices must be integers or slices, not str\n",
      "[WARNING] Failed to load IDS_top50_urban_800_points_probabilistic_800_size_seed_1234.pkl: list indices must be integers or slices, not str\n",
      "[WARNING] Failed to load IDS_top50_urban_800_points_probabilistic_800_size_seed_1415.pkl: list indices must be integers or slices, not str\n",
      "[WARNING] Failed to load IDS_top50_urban_800_points_probabilistic_800_size_seed_42.pkl: list indices must be integers or slices, not str\n",
      "[WARNING] Failed to load IDS_top50_urban_800_points_probabilistic_800_size_seed_456.pkl: list indices must be integers or slices, not str\n",
      "[WARNING] Failed to load IDS_top50_urban_800_points_probabilistic_800_size_seed_5678.pkl: list indices must be integers or slices, not str\n",
      "[WARNING] Failed to load IDS_top50_urban_800_points_probabilistic_800_size_seed_789.pkl: list indices must be integers or slices, not str\n",
      "[WARNING] Failed to load IDS_top50_urban_800_points_probabilistic_800_size_seed_9101.pkl: list indices must be integers or slices, not str\n",
      "[WARNING] Failed to load IDS_top50_urban_900_points_probabilistic_900_size_seed_1.pkl: list indices must be integers or slices, not str\n",
      "[WARNING] Failed to load IDS_top50_urban_900_points_probabilistic_900_size_seed_1213.pkl: list indices must be integers or slices, not str\n",
      "[WARNING] Failed to load IDS_top50_urban_900_points_probabilistic_900_size_seed_123.pkl: list indices must be integers or slices, not str\n",
      "[WARNING] Failed to load IDS_top50_urban_900_points_probabilistic_900_size_seed_1234.pkl: list indices must be integers or slices, not str\n",
      "[WARNING] Failed to load IDS_top50_urban_900_points_probabilistic_900_size_seed_1415.pkl: list indices must be integers or slices, not str\n",
      "[WARNING] Failed to load IDS_top50_urban_900_points_probabilistic_900_size_seed_42.pkl: list indices must be integers or slices, not str\n",
      "[WARNING] Failed to load IDS_top50_urban_900_points_probabilistic_900_size_seed_456.pkl: list indices must be integers or slices, not str\n",
      "[WARNING] Failed to load IDS_top50_urban_900_points_probabilistic_900_size_seed_5678.pkl: list indices must be integers or slices, not str\n",
      "[WARNING] Failed to load IDS_top50_urban_900_points_probabilistic_900_size_seed_789.pkl: list indices must be integers or slices, not str\n",
      "[WARNING] Failed to load IDS_top50_urban_900_points_probabilistic_900_size_seed_9101.pkl: list indices must be integers or slices, not str\n",
      "Results written incrementally to /home/libe2152/optimizedsampling/0_results/usavars/treecover/convenience_sampling_r2_scores.csv\n",
      "Loading features from /home/libe2152/optimizedsampling/0_data/features/usavars/CONTUS_UAR_treecover_with_splits_torchgeo4096.pkl ...\n"
     ]
    },
    {
     "name": "stderr",
     "output_type": "stream",
     "text": [
      "\n"
     ]
    },
    {
     "name": "stdout",
     "output_type": "stream",
     "text": [
      "Processing samples from /home/libe2152/optimizedsampling/0_data/initial_samples/usavars/treecover/convenience_sampling/cluster_based ...\n"
     ]
    },
    {
     "name": "stderr",
     "output_type": "stream",
     "text": [
      "Processing samples: 100%|██████████| 167/167 [00:00<00:00, 17577.57it/s]"
     ]
    },
    {
     "name": "stdout",
     "output_type": "stream",
     "text": [
      "[WARNING] Failed to load IDS_top20_urban_cluster_COUNTY_NAME_10_ppc_100_clusters_1000_size_probabilistic_seed_1.pkl: list indices must be integers or slices, not str\n",
      "[WARNING] Failed to load IDS_top20_urban_cluster_COUNTY_NAME_10_ppc_100_clusters_1000_size_probabilistic_seed_1213.pkl: list indices must be integers or slices, not str\n",
      "[WARNING] Failed to load IDS_top20_urban_cluster_COUNTY_NAME_10_ppc_100_clusters_1000_size_probabilistic_seed_123.pkl: list indices must be integers or slices, not str\n",
      "[WARNING] Failed to load IDS_top20_urban_cluster_COUNTY_NAME_10_ppc_100_clusters_1000_size_probabilistic_seed_1234.pkl: list indices must be integers or slices, not str\n",
      "[WARNING] Failed to load IDS_top20_urban_cluster_COUNTY_NAME_10_ppc_100_clusters_1000_size_probabilistic_seed_1415.pkl: list indices must be integers or slices, not str\n",
      "[WARNING] Failed to load IDS_top20_urban_cluster_COUNTY_NAME_10_ppc_100_clusters_1000_size_probabilistic_seed_42.pkl: list indices must be integers or slices, not str\n",
      "[WARNING] Failed to load IDS_top20_urban_cluster_COUNTY_NAME_10_ppc_100_clusters_1000_size_probabilistic_seed_456.pkl: list indices must be integers or slices, not str\n",
      "[WARNING] Failed to load IDS_top20_urban_cluster_COUNTY_NAME_10_ppc_100_clusters_1000_size_probabilistic_seed_5678.pkl: list indices must be integers or slices, not str\n",
      "[WARNING] Failed to load IDS_top20_urban_cluster_COUNTY_NAME_10_ppc_100_clusters_1000_size_probabilistic_seed_789.pkl: list indices must be integers or slices, not str\n",
      "[WARNING] Failed to load IDS_top20_urban_cluster_COUNTY_NAME_10_ppc_100_clusters_1000_size_probabilistic_seed_9101.pkl: list indices must be integers or slices, not str\n",
      "[WARNING] Failed to load IDS_top20_urban_cluster_COUNTY_NAME_10_ppc_40_clusters_400_size_probabilistic_seed_1213.pkl: list indices must be integers or slices, not str\n",
      "[WARNING] Failed to load IDS_top20_urban_cluster_COUNTY_NAME_10_ppc_40_clusters_400_size_probabilistic_seed_1234.pkl: list indices must be integers or slices, not str\n",
      "[WARNING] Failed to load IDS_top20_urban_cluster_COUNTY_NAME_10_ppc_40_clusters_400_size_probabilistic_seed_1415.pkl: list indices must be integers or slices, not str\n",
      "[WARNING] Failed to load IDS_top20_urban_cluster_COUNTY_NAME_10_ppc_40_clusters_400_size_probabilistic_seed_5678.pkl: list indices must be integers or slices, not str\n",
      "[WARNING] Failed to load IDS_top20_urban_cluster_COUNTY_NAME_10_ppc_40_clusters_400_size_probabilistic_seed_789.pkl: list indices must be integers or slices, not str\n",
      "[WARNING] Failed to load IDS_top20_urban_cluster_COUNTY_NAME_10_ppc_40_clusters_400_size_probabilistic_seed_9101.pkl: list indices must be integers or slices, not str\n",
      "[WARNING] Failed to load IDS_top20_urban_cluster_COUNTY_NAME_10_ppc_50_clusters_500_size_probabilistic_seed_1.pkl: list indices must be integers or slices, not str\n",
      "[WARNING] Failed to load IDS_top20_urban_cluster_COUNTY_NAME_10_ppc_50_clusters_500_size_probabilistic_seed_1213.pkl: list indices must be integers or slices, not str\n",
      "[WARNING] Failed to load IDS_top20_urban_cluster_COUNTY_NAME_10_ppc_50_clusters_500_size_probabilistic_seed_123.pkl: list indices must be integers or slices, not str\n",
      "[WARNING] Failed to load IDS_top20_urban_cluster_COUNTY_NAME_10_ppc_50_clusters_500_size_probabilistic_seed_1234.pkl: list indices must be integers or slices, not str\n",
      "[WARNING] Failed to load IDS_top20_urban_cluster_COUNTY_NAME_10_ppc_50_clusters_500_size_probabilistic_seed_1415.pkl: list indices must be integers or slices, not str\n",
      "[WARNING] Failed to load IDS_top20_urban_cluster_COUNTY_NAME_10_ppc_50_clusters_500_size_probabilistic_seed_42.pkl: list indices must be integers or slices, not str\n",
      "[WARNING] Failed to load IDS_top20_urban_cluster_COUNTY_NAME_10_ppc_50_clusters_500_size_probabilistic_seed_456.pkl: list indices must be integers or slices, not str\n",
      "[WARNING] Failed to load IDS_top20_urban_cluster_COUNTY_NAME_10_ppc_50_clusters_500_size_probabilistic_seed_5678.pkl: list indices must be integers or slices, not str\n",
      "[WARNING] Failed to load IDS_top20_urban_cluster_COUNTY_NAME_10_ppc_50_clusters_500_size_probabilistic_seed_789.pkl: list indices must be integers or slices, not str\n",
      "[WARNING] Failed to load IDS_top20_urban_cluster_COUNTY_NAME_10_ppc_50_clusters_500_size_probabilistic_seed_9101.pkl: list indices must be integers or slices, not str\n",
      "[WARNING] Failed to load IDS_top20_urban_cluster_COUNTY_NAME_10_ppc_60_clusters_600_size_probabilistic_seed_1.pkl: list indices must be integers or slices, not str\n",
      "[WARNING] Failed to load IDS_top20_urban_cluster_COUNTY_NAME_10_ppc_60_clusters_600_size_probabilistic_seed_1213.pkl: list indices must be integers or slices, not str\n",
      "[WARNING] Failed to load IDS_top20_urban_cluster_COUNTY_NAME_10_ppc_60_clusters_600_size_probabilistic_seed_123.pkl: list indices must be integers or slices, not str\n",
      "[WARNING] Failed to load IDS_top20_urban_cluster_COUNTY_NAME_10_ppc_60_clusters_600_size_probabilistic_seed_1234.pkl: list indices must be integers or slices, not str\n",
      "[WARNING] Failed to load IDS_top20_urban_cluster_COUNTY_NAME_10_ppc_60_clusters_600_size_probabilistic_seed_1415.pkl: list indices must be integers or slices, not str\n",
      "[WARNING] Failed to load IDS_top20_urban_cluster_COUNTY_NAME_10_ppc_60_clusters_600_size_probabilistic_seed_42.pkl: list indices must be integers or slices, not str\n",
      "[WARNING] Failed to load IDS_top20_urban_cluster_COUNTY_NAME_10_ppc_60_clusters_600_size_probabilistic_seed_456.pkl: list indices must be integers or slices, not str\n",
      "[WARNING] Failed to load IDS_top20_urban_cluster_COUNTY_NAME_10_ppc_60_clusters_600_size_probabilistic_seed_5678.pkl: list indices must be integers or slices, not str\n",
      "[WARNING] Failed to load IDS_top20_urban_cluster_COUNTY_NAME_10_ppc_60_clusters_600_size_probabilistic_seed_789.pkl: list indices must be integers or slices, not str\n",
      "[WARNING] Failed to load IDS_top20_urban_cluster_COUNTY_NAME_10_ppc_60_clusters_600_size_probabilistic_seed_9101.pkl: list indices must be integers or slices, not str\n",
      "[WARNING] Failed to load IDS_top20_urban_cluster_COUNTY_NAME_10_ppc_70_clusters_700_size_probabilistic_seed_1.pkl: list indices must be integers or slices, not str\n",
      "[WARNING] Failed to load IDS_top20_urban_cluster_COUNTY_NAME_10_ppc_70_clusters_700_size_probabilistic_seed_1213.pkl: list indices must be integers or slices, not str\n",
      "[WARNING] Failed to load IDS_top20_urban_cluster_COUNTY_NAME_10_ppc_70_clusters_700_size_probabilistic_seed_123.pkl: list indices must be integers or slices, not str\n",
      "[WARNING] Failed to load IDS_top20_urban_cluster_COUNTY_NAME_10_ppc_70_clusters_700_size_probabilistic_seed_1234.pkl: list indices must be integers or slices, not str\n",
      "[WARNING] Failed to load IDS_top20_urban_cluster_COUNTY_NAME_10_ppc_70_clusters_700_size_probabilistic_seed_1415.pkl: list indices must be integers or slices, not str\n",
      "[WARNING] Failed to load IDS_top20_urban_cluster_COUNTY_NAME_10_ppc_70_clusters_700_size_probabilistic_seed_42.pkl: list indices must be integers or slices, not str\n",
      "[WARNING] Failed to load IDS_top20_urban_cluster_COUNTY_NAME_10_ppc_70_clusters_700_size_probabilistic_seed_456.pkl: list indices must be integers or slices, not str\n",
      "[WARNING] Failed to load IDS_top20_urban_cluster_COUNTY_NAME_10_ppc_70_clusters_700_size_probabilistic_seed_5678.pkl: list indices must be integers or slices, not str\n",
      "[WARNING] Failed to load IDS_top20_urban_cluster_COUNTY_NAME_10_ppc_70_clusters_700_size_probabilistic_seed_789.pkl: list indices must be integers or slices, not str\n",
      "[WARNING] Failed to load IDS_top20_urban_cluster_COUNTY_NAME_10_ppc_70_clusters_700_size_probabilistic_seed_9101.pkl: list indices must be integers or slices, not str\n",
      "[WARNING] Failed to load IDS_top20_urban_cluster_COUNTY_NAME_10_ppc_80_clusters_800_size_probabilistic_seed_1.pkl: list indices must be integers or slices, not str\n",
      "[WARNING] Failed to load IDS_top20_urban_cluster_COUNTY_NAME_10_ppc_80_clusters_800_size_probabilistic_seed_1213.pkl: list indices must be integers or slices, not str\n",
      "[WARNING] Failed to load IDS_top20_urban_cluster_COUNTY_NAME_10_ppc_80_clusters_800_size_probabilistic_seed_123.pkl: list indices must be integers or slices, not str\n",
      "[WARNING] Failed to load IDS_top20_urban_cluster_COUNTY_NAME_10_ppc_80_clusters_800_size_probabilistic_seed_1234.pkl: list indices must be integers or slices, not str\n",
      "[WARNING] Failed to load IDS_top20_urban_cluster_COUNTY_NAME_10_ppc_80_clusters_800_size_probabilistic_seed_1415.pkl: list indices must be integers or slices, not str\n",
      "[WARNING] Failed to load IDS_top20_urban_cluster_COUNTY_NAME_10_ppc_80_clusters_800_size_probabilistic_seed_42.pkl: list indices must be integers or slices, not str\n",
      "[WARNING] Failed to load IDS_top20_urban_cluster_COUNTY_NAME_10_ppc_80_clusters_800_size_probabilistic_seed_456.pkl: list indices must be integers or slices, not str\n",
      "[WARNING] Failed to load IDS_top20_urban_cluster_COUNTY_NAME_10_ppc_80_clusters_800_size_probabilistic_seed_5678.pkl: list indices must be integers or slices, not str\n",
      "[WARNING] Failed to load IDS_top20_urban_cluster_COUNTY_NAME_10_ppc_80_clusters_800_size_probabilistic_seed_789.pkl: list indices must be integers or slices, not str\n",
      "[WARNING] Failed to load IDS_top20_urban_cluster_COUNTY_NAME_10_ppc_80_clusters_800_size_probabilistic_seed_9101.pkl: list indices must be integers or slices, not str\n",
      "[WARNING] Failed to load IDS_top20_urban_cluster_COUNTY_NAME_10_ppc_90_clusters_900_size_probabilistic_seed_1.pkl: list indices must be integers or slices, not str\n",
      "[WARNING] Failed to load IDS_top20_urban_cluster_COUNTY_NAME_10_ppc_90_clusters_900_size_probabilistic_seed_1213.pkl: list indices must be integers or slices, not str\n",
      "[WARNING] Failed to load IDS_top20_urban_cluster_COUNTY_NAME_10_ppc_90_clusters_900_size_probabilistic_seed_123.pkl: list indices must be integers or slices, not str\n",
      "[WARNING] Failed to load IDS_top20_urban_cluster_COUNTY_NAME_10_ppc_90_clusters_900_size_probabilistic_seed_1234.pkl: list indices must be integers or slices, not str\n",
      "[WARNING] Failed to load IDS_top20_urban_cluster_COUNTY_NAME_10_ppc_90_clusters_900_size_probabilistic_seed_1415.pkl: list indices must be integers or slices, not str\n",
      "[WARNING] Failed to load IDS_top20_urban_cluster_COUNTY_NAME_10_ppc_90_clusters_900_size_probabilistic_seed_42.pkl: list indices must be integers or slices, not str\n",
      "[WARNING] Failed to load IDS_top20_urban_cluster_COUNTY_NAME_10_ppc_90_clusters_900_size_probabilistic_seed_456.pkl: list indices must be integers or slices, not str\n",
      "[WARNING] Failed to load IDS_top20_urban_cluster_COUNTY_NAME_10_ppc_90_clusters_900_size_probabilistic_seed_5678.pkl: list indices must be integers or slices, not str\n",
      "[WARNING] Failed to load IDS_top20_urban_cluster_COUNTY_NAME_10_ppc_90_clusters_900_size_probabilistic_seed_789.pkl: list indices must be integers or slices, not str\n",
      "[WARNING] Failed to load IDS_top20_urban_cluster_COUNTY_NAME_10_ppc_90_clusters_900_size_probabilistic_seed_9101.pkl: list indices must be integers or slices, not str\n",
      "[WARNING] Failed to load IDS_top50_urban_cluster_COUNTY_NAME_10_ppc_100_clusters_1000_size_probabilistic_seed_1.pkl: list indices must be integers or slices, not str\n",
      "[WARNING] Failed to load IDS_top50_urban_cluster_COUNTY_NAME_10_ppc_100_clusters_1000_size_probabilistic_seed_1213.pkl: list indices must be integers or slices, not str\n",
      "[WARNING] Failed to load IDS_top50_urban_cluster_COUNTY_NAME_10_ppc_100_clusters_1000_size_probabilistic_seed_123.pkl: list indices must be integers or slices, not str\n",
      "[WARNING] Failed to load IDS_top50_urban_cluster_COUNTY_NAME_10_ppc_100_clusters_1000_size_probabilistic_seed_1234.pkl: list indices must be integers or slices, not str\n",
      "[WARNING] Failed to load IDS_top50_urban_cluster_COUNTY_NAME_10_ppc_100_clusters_1000_size_probabilistic_seed_1415.pkl: list indices must be integers or slices, not str\n",
      "[WARNING] Failed to load IDS_top50_urban_cluster_COUNTY_NAME_10_ppc_100_clusters_1000_size_probabilistic_seed_42.pkl: list indices must be integers or slices, not str\n",
      "[WARNING] Failed to load IDS_top50_urban_cluster_COUNTY_NAME_10_ppc_100_clusters_1000_size_probabilistic_seed_456.pkl: list indices must be integers or slices, not str\n",
      "[WARNING] Failed to load IDS_top50_urban_cluster_COUNTY_NAME_10_ppc_100_clusters_1000_size_probabilistic_seed_5678.pkl: list indices must be integers or slices, not str\n",
      "[WARNING] Failed to load IDS_top50_urban_cluster_COUNTY_NAME_10_ppc_100_clusters_1000_size_probabilistic_seed_789.pkl: list indices must be integers or slices, not str\n",
      "[WARNING] Failed to load IDS_top50_urban_cluster_COUNTY_NAME_10_ppc_100_clusters_1000_size_probabilistic_seed_9101.pkl: list indices must be integers or slices, not str\n",
      "[WARNING] Failed to load IDS_top50_urban_cluster_COUNTY_NAME_10_ppc_10_clusters_100_size_probabilistic_seed_1.pkl: list indices must be integers or slices, not str\n",
      "[WARNING] Failed to load IDS_top50_urban_cluster_COUNTY_NAME_10_ppc_10_clusters_100_size_probabilistic_seed_1213.pkl: list indices must be integers or slices, not str\n",
      "[WARNING] Failed to load IDS_top50_urban_cluster_COUNTY_NAME_10_ppc_10_clusters_100_size_probabilistic_seed_123.pkl: list indices must be integers or slices, not str\n",
      "[WARNING] Failed to load IDS_top50_urban_cluster_COUNTY_NAME_10_ppc_10_clusters_100_size_probabilistic_seed_1234.pkl: list indices must be integers or slices, not str\n",
      "[WARNING] Failed to load IDS_top50_urban_cluster_COUNTY_NAME_10_ppc_10_clusters_100_size_probabilistic_seed_1415.pkl: list indices must be integers or slices, not str\n",
      "[WARNING] Failed to load IDS_top50_urban_cluster_COUNTY_NAME_10_ppc_10_clusters_100_size_probabilistic_seed_42.pkl: list indices must be integers or slices, not str\n",
      "[WARNING] Failed to load IDS_top50_urban_cluster_COUNTY_NAME_10_ppc_10_clusters_100_size_probabilistic_seed_456.pkl: list indices must be integers or slices, not str\n",
      "[WARNING] Failed to load IDS_top50_urban_cluster_COUNTY_NAME_10_ppc_10_clusters_100_size_probabilistic_seed_5678.pkl: list indices must be integers or slices, not str\n",
      "[WARNING] Failed to load IDS_top50_urban_cluster_COUNTY_NAME_10_ppc_10_clusters_100_size_probabilistic_seed_789.pkl: list indices must be integers or slices, not str\n",
      "[WARNING] Failed to load IDS_top50_urban_cluster_COUNTY_NAME_10_ppc_10_clusters_100_size_probabilistic_seed_9101.pkl: list indices must be integers or slices, not str\n",
      "[WARNING] Failed to load IDS_top50_urban_cluster_COUNTY_NAME_10_ppc_20_clusters_200_size_probabilistic_seed_1.pkl: list indices must be integers or slices, not str\n",
      "[WARNING] Failed to load IDS_top50_urban_cluster_COUNTY_NAME_10_ppc_20_clusters_200_size_probabilistic_seed_1213.pkl: list indices must be integers or slices, not str\n",
      "[WARNING] Failed to load IDS_top50_urban_cluster_COUNTY_NAME_10_ppc_20_clusters_200_size_probabilistic_seed_123.pkl: list indices must be integers or slices, not str\n",
      "[WARNING] Failed to load IDS_top50_urban_cluster_COUNTY_NAME_10_ppc_20_clusters_200_size_probabilistic_seed_1234.pkl: list indices must be integers or slices, not str\n",
      "[WARNING] Failed to load IDS_top50_urban_cluster_COUNTY_NAME_10_ppc_20_clusters_200_size_probabilistic_seed_1415.pkl: list indices must be integers or slices, not str\n",
      "[WARNING] Failed to load IDS_top50_urban_cluster_COUNTY_NAME_10_ppc_20_clusters_200_size_probabilistic_seed_42.pkl: list indices must be integers or slices, not str\n",
      "[WARNING] Failed to load IDS_top50_urban_cluster_COUNTY_NAME_10_ppc_20_clusters_200_size_probabilistic_seed_456.pkl: list indices must be integers or slices, not str\n",
      "[WARNING] Failed to load IDS_top50_urban_cluster_COUNTY_NAME_10_ppc_20_clusters_200_size_probabilistic_seed_5678.pkl: list indices must be integers or slices, not str\n",
      "[WARNING] Failed to load IDS_top50_urban_cluster_COUNTY_NAME_10_ppc_20_clusters_200_size_probabilistic_seed_789.pkl: list indices must be integers or slices, not str\n",
      "[WARNING] Failed to load IDS_top50_urban_cluster_COUNTY_NAME_10_ppc_20_clusters_200_size_probabilistic_seed_9101.pkl: list indices must be integers or slices, not str\n",
      "[WARNING] Failed to load IDS_top50_urban_cluster_COUNTY_NAME_10_ppc_30_clusters_300_size_probabilistic_seed_1.pkl: list indices must be integers or slices, not str\n",
      "[WARNING] Failed to load IDS_top50_urban_cluster_COUNTY_NAME_10_ppc_30_clusters_300_size_probabilistic_seed_1213.pkl: list indices must be integers or slices, not str\n",
      "[WARNING] Failed to load IDS_top50_urban_cluster_COUNTY_NAME_10_ppc_30_clusters_300_size_probabilistic_seed_123.pkl: list indices must be integers or slices, not str\n",
      "[WARNING] Failed to load IDS_top50_urban_cluster_COUNTY_NAME_10_ppc_30_clusters_300_size_probabilistic_seed_1234.pkl: list indices must be integers or slices, not str\n",
      "[WARNING] Failed to load IDS_top50_urban_cluster_COUNTY_NAME_10_ppc_30_clusters_300_size_probabilistic_seed_1415.pkl: list indices must be integers or slices, not str\n",
      "[WARNING] Failed to load IDS_top50_urban_cluster_COUNTY_NAME_10_ppc_30_clusters_300_size_probabilistic_seed_42.pkl: list indices must be integers or slices, not str\n",
      "[WARNING] Failed to load IDS_top50_urban_cluster_COUNTY_NAME_10_ppc_30_clusters_300_size_probabilistic_seed_456.pkl: list indices must be integers or slices, not str\n",
      "[WARNING] Failed to load IDS_top50_urban_cluster_COUNTY_NAME_10_ppc_30_clusters_300_size_probabilistic_seed_5678.pkl: list indices must be integers or slices, not str\n",
      "[WARNING] Failed to load IDS_top50_urban_cluster_COUNTY_NAME_10_ppc_30_clusters_300_size_probabilistic_seed_789.pkl: list indices must be integers or slices, not str\n",
      "[WARNING] Failed to load IDS_top50_urban_cluster_COUNTY_NAME_10_ppc_30_clusters_300_size_probabilistic_seed_9101.pkl: list indices must be integers or slices, not str\n",
      "[WARNING] Failed to load IDS_top50_urban_cluster_COUNTY_NAME_10_ppc_40_clusters_400_size_probabilistic_seed_1.pkl: list indices must be integers or slices, not str\n",
      "[WARNING] Failed to load IDS_top50_urban_cluster_COUNTY_NAME_10_ppc_40_clusters_400_size_probabilistic_seed_1213.pkl: list indices must be integers or slices, not str\n",
      "[WARNING] Failed to load IDS_top50_urban_cluster_COUNTY_NAME_10_ppc_40_clusters_400_size_probabilistic_seed_123.pkl: list indices must be integers or slices, not str\n",
      "[WARNING] Failed to load IDS_top50_urban_cluster_COUNTY_NAME_10_ppc_40_clusters_400_size_probabilistic_seed_1234.pkl: list indices must be integers or slices, not str\n",
      "[WARNING] Failed to load IDS_top50_urban_cluster_COUNTY_NAME_10_ppc_40_clusters_400_size_probabilistic_seed_1415.pkl: list indices must be integers or slices, not str\n",
      "[WARNING] Failed to load IDS_top50_urban_cluster_COUNTY_NAME_10_ppc_40_clusters_400_size_probabilistic_seed_42.pkl: list indices must be integers or slices, not str\n",
      "[WARNING] Failed to load IDS_top50_urban_cluster_COUNTY_NAME_10_ppc_40_clusters_400_size_probabilistic_seed_456.pkl: list indices must be integers or slices, not str\n",
      "[WARNING] Failed to load IDS_top50_urban_cluster_COUNTY_NAME_10_ppc_40_clusters_400_size_probabilistic_seed_5678.pkl: list indices must be integers or slices, not str\n",
      "[WARNING] Failed to load IDS_top50_urban_cluster_COUNTY_NAME_10_ppc_40_clusters_400_size_probabilistic_seed_789.pkl: list indices must be integers or slices, not str\n",
      "[WARNING] Failed to load IDS_top50_urban_cluster_COUNTY_NAME_10_ppc_40_clusters_400_size_probabilistic_seed_9101.pkl: list indices must be integers or slices, not str\n",
      "[WARNING] Failed to load IDS_top50_urban_cluster_COUNTY_NAME_10_ppc_50_clusters_500_size_probabilistic_seed_1.pkl: list indices must be integers or slices, not str\n",
      "[WARNING] Failed to load IDS_top50_urban_cluster_COUNTY_NAME_10_ppc_50_clusters_500_size_probabilistic_seed_1213.pkl: list indices must be integers or slices, not str\n",
      "[WARNING] Failed to load IDS_top50_urban_cluster_COUNTY_NAME_10_ppc_50_clusters_500_size_probabilistic_seed_123.pkl: list indices must be integers or slices, not str\n",
      "[WARNING] Failed to load IDS_top50_urban_cluster_COUNTY_NAME_10_ppc_50_clusters_500_size_probabilistic_seed_1234.pkl: list indices must be integers or slices, not str\n",
      "[WARNING] Failed to load IDS_top50_urban_cluster_COUNTY_NAME_10_ppc_50_clusters_500_size_probabilistic_seed_1415.pkl: list indices must be integers or slices, not str\n",
      "[WARNING] Failed to load IDS_top50_urban_cluster_COUNTY_NAME_10_ppc_50_clusters_500_size_probabilistic_seed_42.pkl: list indices must be integers or slices, not str\n",
      "[WARNING] Failed to load IDS_top50_urban_cluster_COUNTY_NAME_10_ppc_50_clusters_500_size_probabilistic_seed_456.pkl: list indices must be integers or slices, not str\n",
      "[WARNING] Failed to load IDS_top50_urban_cluster_COUNTY_NAME_10_ppc_50_clusters_500_size_probabilistic_seed_5678.pkl: list indices must be integers or slices, not str\n",
      "[WARNING] Failed to load IDS_top50_urban_cluster_COUNTY_NAME_10_ppc_50_clusters_500_size_probabilistic_seed_789.pkl: list indices must be integers or slices, not str\n",
      "[WARNING] Failed to load IDS_top50_urban_cluster_COUNTY_NAME_10_ppc_50_clusters_500_size_probabilistic_seed_9101.pkl: list indices must be integers or slices, not str\n",
      "[WARNING] Failed to load IDS_top50_urban_cluster_COUNTY_NAME_10_ppc_60_clusters_600_size_probabilistic_seed_1.pkl: list indices must be integers or slices, not str\n",
      "[WARNING] Failed to load IDS_top50_urban_cluster_COUNTY_NAME_10_ppc_60_clusters_600_size_probabilistic_seed_1213.pkl: list indices must be integers or slices, not str\n",
      "[WARNING] Failed to load IDS_top50_urban_cluster_COUNTY_NAME_10_ppc_60_clusters_600_size_probabilistic_seed_123.pkl: list indices must be integers or slices, not str\n",
      "[WARNING] Failed to load IDS_top50_urban_cluster_COUNTY_NAME_10_ppc_60_clusters_600_size_probabilistic_seed_1234.pkl: list indices must be integers or slices, not str\n",
      "[WARNING] Failed to load IDS_top50_urban_cluster_COUNTY_NAME_10_ppc_60_clusters_600_size_probabilistic_seed_1415.pkl: list indices must be integers or slices, not str\n",
      "[WARNING] Failed to load IDS_top50_urban_cluster_COUNTY_NAME_10_ppc_60_clusters_600_size_probabilistic_seed_42.pkl: list indices must be integers or slices, not str\n",
      "[WARNING] Failed to load IDS_top50_urban_cluster_COUNTY_NAME_10_ppc_60_clusters_600_size_probabilistic_seed_456.pkl: list indices must be integers or slices, not str\n",
      "[WARNING] Failed to load IDS_top50_urban_cluster_COUNTY_NAME_10_ppc_60_clusters_600_size_probabilistic_seed_5678.pkl: list indices must be integers or slices, not str\n",
      "[WARNING] Failed to load IDS_top50_urban_cluster_COUNTY_NAME_10_ppc_60_clusters_600_size_probabilistic_seed_789.pkl: list indices must be integers or slices, not str\n",
      "[WARNING] Failed to load IDS_top50_urban_cluster_COUNTY_NAME_10_ppc_60_clusters_600_size_probabilistic_seed_9101.pkl: list indices must be integers or slices, not str\n",
      "[WARNING] Failed to load IDS_top50_urban_cluster_COUNTY_NAME_10_ppc_70_clusters_700_size_probabilistic_seed_1.pkl: list indices must be integers or slices, not str\n",
      "[WARNING] Failed to load IDS_top50_urban_cluster_COUNTY_NAME_10_ppc_70_clusters_700_size_probabilistic_seed_1213.pkl: list indices must be integers or slices, not str\n",
      "[WARNING] Failed to load IDS_top50_urban_cluster_COUNTY_NAME_10_ppc_70_clusters_700_size_probabilistic_seed_123.pkl: list indices must be integers or slices, not str\n",
      "[WARNING] Failed to load IDS_top50_urban_cluster_COUNTY_NAME_10_ppc_70_clusters_700_size_probabilistic_seed_1234.pkl: list indices must be integers or slices, not str\n",
      "[WARNING] Failed to load IDS_top50_urban_cluster_COUNTY_NAME_10_ppc_70_clusters_700_size_probabilistic_seed_1415.pkl: list indices must be integers or slices, not str\n",
      "[WARNING] Failed to load IDS_top50_urban_cluster_COUNTY_NAME_10_ppc_70_clusters_700_size_probabilistic_seed_42.pkl: list indices must be integers or slices, not str\n",
      "[WARNING] Failed to load IDS_top50_urban_cluster_COUNTY_NAME_10_ppc_70_clusters_700_size_probabilistic_seed_456.pkl: list indices must be integers or slices, not str\n",
      "[WARNING] Failed to load IDS_top50_urban_cluster_COUNTY_NAME_10_ppc_70_clusters_700_size_probabilistic_seed_5678.pkl: list indices must be integers or slices, not str\n",
      "[WARNING] Failed to load IDS_top50_urban_cluster_COUNTY_NAME_10_ppc_70_clusters_700_size_probabilistic_seed_789.pkl: list indices must be integers or slices, not str\n",
      "[WARNING] Failed to load IDS_top50_urban_cluster_COUNTY_NAME_10_ppc_70_clusters_700_size_probabilistic_seed_9101.pkl: list indices must be integers or slices, not str\n",
      "[WARNING] Failed to load IDS_top50_urban_cluster_COUNTY_NAME_10_ppc_80_clusters_800_size_probabilistic_seed_1.pkl: list indices must be integers or slices, not str\n",
      "[WARNING] Failed to load IDS_top50_urban_cluster_COUNTY_NAME_10_ppc_80_clusters_800_size_probabilistic_seed_1213.pkl: list indices must be integers or slices, not str\n",
      "[WARNING] Failed to load IDS_top50_urban_cluster_COUNTY_NAME_10_ppc_80_clusters_800_size_probabilistic_seed_123.pkl: list indices must be integers or slices, not str\n",
      "[WARNING] Failed to load IDS_top50_urban_cluster_COUNTY_NAME_10_ppc_80_clusters_800_size_probabilistic_seed_1234.pkl: list indices must be integers or slices, not str\n",
      "[WARNING] Failed to load IDS_top50_urban_cluster_COUNTY_NAME_10_ppc_80_clusters_800_size_probabilistic_seed_1415.pkl: list indices must be integers or slices, not str\n",
      "[WARNING] Failed to load IDS_top50_urban_cluster_COUNTY_NAME_10_ppc_80_clusters_800_size_probabilistic_seed_42.pkl: list indices must be integers or slices, not str\n",
      "[WARNING] Failed to load IDS_top50_urban_cluster_COUNTY_NAME_10_ppc_80_clusters_800_size_probabilistic_seed_456.pkl: list indices must be integers or slices, not str\n",
      "[WARNING] Failed to load IDS_top50_urban_cluster_COUNTY_NAME_10_ppc_80_clusters_800_size_probabilistic_seed_5678.pkl: list indices must be integers or slices, not str\n",
      "[WARNING] Failed to load IDS_top50_urban_cluster_COUNTY_NAME_10_ppc_80_clusters_800_size_probabilistic_seed_789.pkl: list indices must be integers or slices, not str\n",
      "[WARNING] Failed to load IDS_top50_urban_cluster_COUNTY_NAME_10_ppc_80_clusters_800_size_probabilistic_seed_9101.pkl: list indices must be integers or slices, not str\n",
      "[WARNING] Failed to load IDS_top50_urban_cluster_COUNTY_NAME_10_ppc_90_clusters_900_size_probabilistic_seed_1.pkl: list indices must be integers or slices, not str\n",
      "[WARNING] Failed to load IDS_top50_urban_cluster_COUNTY_NAME_10_ppc_90_clusters_900_size_probabilistic_seed_1213.pkl: list indices must be integers or slices, not str\n",
      "[WARNING] Failed to load IDS_top50_urban_cluster_COUNTY_NAME_10_ppc_90_clusters_900_size_probabilistic_seed_123.pkl: list indices must be integers or slices, not str\n",
      "[WARNING] Failed to load IDS_top50_urban_cluster_COUNTY_NAME_10_ppc_90_clusters_900_size_probabilistic_seed_1234.pkl: list indices must be integers or slices, not str\n",
      "[WARNING] Failed to load IDS_top50_urban_cluster_COUNTY_NAME_10_ppc_90_clusters_900_size_probabilistic_seed_1415.pkl: list indices must be integers or slices, not str\n",
      "[WARNING] Failed to load IDS_top50_urban_cluster_COUNTY_NAME_10_ppc_90_clusters_900_size_probabilistic_seed_42.pkl: list indices must be integers or slices, not str\n",
      "[WARNING] Failed to load IDS_top50_urban_cluster_COUNTY_NAME_10_ppc_90_clusters_900_size_probabilistic_seed_456.pkl: list indices must be integers or slices, not str\n",
      "[WARNING] Failed to load IDS_top50_urban_cluster_COUNTY_NAME_10_ppc_90_clusters_900_size_probabilistic_seed_5678.pkl: list indices must be integers or slices, not str\n",
      "[WARNING] Failed to load IDS_top50_urban_cluster_COUNTY_NAME_10_ppc_90_clusters_900_size_probabilistic_seed_789.pkl: list indices must be integers or slices, not str\n",
      "[WARNING] Failed to load IDS_top50_urban_cluster_COUNTY_NAME_10_ppc_90_clusters_900_size_probabilistic_seed_9101.pkl: list indices must be integers or slices, not str\n",
      "Results written incrementally to /home/libe2152/optimizedsampling/0_results/usavars/treecover/convenience_sampling_r2_scores.csv\n"
     ]
    },
    {
     "name": "stderr",
     "output_type": "stream",
     "text": [
      "\n"
     ]
    }
   ],
   "source": [
    "for label in ['population', 'treecover']:\n",
    "\n",
    "    features_path = f\"/home/libe2152/optimizedsampling/0_data/features/usavars/CONTUS_UAR_{label}_with_splits_torchgeo4096.pkl\"\n",
    "    cluster_sampling_dir= f\"/home/libe2152/optimizedsampling/0_data/initial_samples/usavars/{label}/cluster_sampling/randomstrata\"\n",
    "    convenience_sampling_urban_dir = f\"/home/libe2152/optimizedsampling/0_data/initial_samples/usavars/{label}/convenience_sampling/urban_based\"\n",
    "    convenience_sampling_region_dir = f\"/home/libe2152/optimizedsampling/0_data/initial_samples/usavars/{label}/convenience_sampling/cluster_based\"\n",
    "    random_sampling_dir = f\"/home/libe2152/optimizedsampling/0_data/initial_samples/usavars/{label}/random_sampling\"\n",
    "\n",
    "    results_dir = f\"/home/libe2152/optimizedsampling/0_results/usavars/{label}\"\n",
    "\n",
    "    # # Run cluster sampling R2 scores\n",
    "    cluster_sampling_r2_scores(\n",
    "        features_path=features_path,\n",
    "        sampling_dir=cluster_sampling_dir,\n",
    "        results_dir=results_dir,\n",
    "        ridge_regression_fn=ridge_regression,\n",
    "        verbose=True,\n",
    "    )\n",
    "\n",
    "    # Run convenience sampling R2 scores\n",
    "    convenience_sampling_r2_scores(\n",
    "        features_path=features_path,\n",
    "        sampling_dir=convenience_sampling_urban_dir,\n",
    "        results_dir=results_dir,\n",
    "        ridge_regression_fn=ridge_regression,\n",
    "        verbose=True,\n",
    "    )\n",
    "\n",
    "    convenience_sampling_r2_scores(\n",
    "        features_path=features_path,\n",
    "        sampling_dir=convenience_sampling_region_dir,\n",
    "        results_dir=results_dir,\n",
    "        ridge_regression_fn=ridge_regression,\n",
    "        verbose=True,\n",
    "    )\n",
    "\n",
    "    # # Run random sampling R2 scores\n",
    "    # random_sampling_r2_scores(\n",
    "    #     features_path=features_path,\n",
    "    #     sampling_dir=random_sampling_dir,\n",
    "    #     results_dir=results_dir,\n",
    "    #     ridge_regression_fn=ridge_regression,\n",
    "    #     verbose=True,\n",
    "    # )"
   ]
  }
 ],
 "metadata": {
  "kernelspec": {
   "display_name": "mosaiks",
   "language": "python",
   "name": "python3"
  },
  "language_info": {
   "codemirror_mode": {
    "name": "ipython",
    "version": 3
   },
   "file_extension": ".py",
   "mimetype": "text/x-python",
   "name": "python",
   "nbconvert_exporter": "python",
   "pygments_lexer": "ipython3",
   "version": "3.11.11"
  }
 },
 "nbformat": 4,
 "nbformat_minor": 5
}
