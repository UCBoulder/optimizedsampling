{
 "cells": [
  {
   "cell_type": "code",
   "execution_count": 1,
   "id": "d6c3f0ba",
   "metadata": {},
   "outputs": [],
   "source": [
    "from regressions import ridge_regression\n",
    "from initial_set_regressions import cluster_sampling_r2_scores, convenience_sampling_r2_scores, random_sampling_r2_scores"
   ]
  },
  {
   "cell_type": "markdown",
   "id": "54479c88",
   "metadata": {},
   "source": [
    "# USAVars Initial Set Regressions"
   ]
  },
  {
   "cell_type": "code",
   "execution_count": null,
   "id": "6fb1407d",
   "metadata": {},
   "outputs": [],
   "source": [
    "for label in ['population', 'treecover']:\n",
    "\n",
    "    features_path = f\"/home/libe2152/optimizedsampling/0_data/features/usavars/CONTUS_UAR_{label}_with_splits_torchgeo4096.pkl\"\n",
    "    cluster_sampling_dir= f\"/home/libe2152/optimizedsampling/0_data/initial_samples/usavars/{label}/cluster_sampling\"\n",
    "    convenience_sampling_dir = f\"/home/libe2152/optimizedsampling/0_data/initial_samples/usavars/{label}/convenience_sampling\"\n",
    "    random_sampling_dir = f\"/home/libe2152/optimizedsampling/0_data/initial_samples/usavars/{label}/random_sampling\"\n",
    "\n",
    "    results_dir = f\"/home/libe2152/optimizedsampling/0_results/usavars/{label}\"\n",
    "\n",
    "    # Run cluster sampling R2 scores\n",
    "    cluster_sampling_r2_scores(\n",
    "        features_path=features_path,\n",
    "        sampling_dir=cluster_sampling_dir,\n",
    "        results_dir=results_dir,\n",
    "        ridge_regression_fn=ridge_regression,\n",
    "        verbose=True,\n",
    "    )\n",
    "\n",
    "    # Run convenience sampling R2 scores\n",
    "    convenience_sampling_r2_scores(\n",
    "        features_path=features_path,\n",
    "        sampling_dir=convenience_sampling_dir,\n",
    "        results_dir=results_dir,\n",
    "        ridge_regression_fn=ridge_regression,\n",
    "        verbose=True,\n",
    "    )\n",
    "\n",
    "    # Run random sampling R2 scores\n",
    "    random_sampling_r2_scores(\n",
    "        features_path=features_path,\n",
    "        sampling_dir=random_sampling_dir,\n",
    "        results_dir=results_dir,\n",
    "        ridge_regression_fn=ridge_regression,\n",
    "        verbose=True,\n",
    "    )"
   ]
  }
 ],
 "metadata": {
  "kernelspec": {
   "display_name": "mosaiks",
   "language": "python",
   "name": "python3"
  },
  "language_info": {
   "codemirror_mode": {
    "name": "ipython",
    "version": 3
   },
   "file_extension": ".py",
   "mimetype": "text/x-python",
   "name": "python",
   "nbconvert_exporter": "python",
   "pygments_lexer": "ipython3",
   "version": "3.11.11"
  }
 },
 "nbformat": 4,
 "nbformat_minor": 5
}
