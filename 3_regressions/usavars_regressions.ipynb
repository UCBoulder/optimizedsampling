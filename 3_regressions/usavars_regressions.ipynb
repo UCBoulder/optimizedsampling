{
 "cells": [
  {
   "cell_type": "code",
   "execution_count": 1,
   "id": "d6c3f0ba",
   "metadata": {},
   "outputs": [],
   "source": [
    "from regressions import ridge_regression\n",
    "from initial_set_regressions import cluster_sampling_r2_scores, convenience_sampling_r2_scores, random_sampling_r2_scores"
   ]
  },
  {
   "cell_type": "markdown",
   "id": "54479c88",
   "metadata": {},
   "source": [
    "# USAVars Initial Set Regressions"
   ]
  },
  {
   "cell_type": "code",
   "execution_count": 2,
   "id": "99403ce2",
   "metadata": {},
   "outputs": [],
   "source": [
    "CLUSTER_SAMPLING_DIR = {\n",
    "    'population': \"/home/libe2152/optimizedsampling/0_data/initial_samples/usavars/population/cluster_sampling/fixedstrata_Idaho_16-Louisiana_22-Mississippi_28-New Mexico_35-Pennsylvania_42\",\n",
    "    \"treecover\": \"/home/libe2152/optimizedsampling/0_data/initial_samples/usavars/treecover/cluster_sampling/fixedstrata_Alabama_01-Colorado_08-Montana_30-New York_36-Ohio_39\"\n",
    "}"
   ]
  },
  {
   "cell_type": "code",
   "execution_count": null,
   "id": "6fb1407d",
   "metadata": {},
   "outputs": [
    {
     "name": "stdout",
     "output_type": "stream",
     "text": [
      "Loading features from /home/libe2152/optimizedsampling/0_data/features/usavars/CONTUS_UAR_population_with_splits_torchgeo4096.pkl ...\n",
      "Processing samples from /home/libe2152/optimizedsampling/0_data/initial_samples/usavars/population/cluster_sampling/fixedstrata_Idaho_16-Louisiana_22-Mississippi_28-New Mexico_35-Pennsylvania_42 ...\n"
     ]
    },
    {
     "name": "stderr",
     "output_type": "stream",
     "text": [
      "Processing samples:   0%|          | 0/201 [00:00<?, ?it/s]"
     ]
    },
    {
     "name": "stdout",
     "output_type": "stream",
     "text": [
      "Fitting regression...\n"
     ]
    },
    {
     "name": "stderr",
     "output_type": "stream",
     "text": [
      "Processing samples:   1%|          | 2/201 [00:05<09:03,  2.73s/it]"
     ]
    },
    {
     "name": "stdout",
     "output_type": "stream",
     "text": [
      "[WRITE] Saved result from sample_state_combined_county_id_10ppc_1000_size_seed_1.pkl to /home/libe2152/optimizedsampling/0_results/usavars/population/cluster_sampling_r2_scores.csv\n",
      "Fitting regression...\n"
     ]
    },
    {
     "name": "stderr",
     "output_type": "stream",
     "text": [
      "Processing samples:   1%|▏         | 3/201 [00:07<08:42,  2.64s/it]"
     ]
    },
    {
     "name": "stdout",
     "output_type": "stream",
     "text": [
      "[WRITE] Saved result from sample_state_combined_county_id_10ppc_1000_size_seed_1213.pkl to /home/libe2152/optimizedsampling/0_results/usavars/population/cluster_sampling_r2_scores.csv\n",
      "Fitting regression...\n"
     ]
    },
    {
     "name": "stderr",
     "output_type": "stream",
     "text": [
      "Processing samples:   2%|▏         | 4/201 [00:14<13:17,  4.05s/it]"
     ]
    },
    {
     "name": "stdout",
     "output_type": "stream",
     "text": [
      "[WRITE] Saved result from sample_state_combined_county_id_10ppc_1000_size_seed_123.pkl to /home/libe2152/optimizedsampling/0_results/usavars/population/cluster_sampling_r2_scores.csv\n",
      "Fitting regression...\n"
     ]
    },
    {
     "name": "stderr",
     "output_type": "stream",
     "text": [
      "Processing samples:   2%|▏         | 5/201 [00:23<19:13,  5.89s/it]"
     ]
    },
    {
     "name": "stdout",
     "output_type": "stream",
     "text": [
      "[WRITE] Saved result from sample_state_combined_county_id_10ppc_1000_size_seed_1234.pkl to /home/libe2152/optimizedsampling/0_results/usavars/population/cluster_sampling_r2_scores.csv\n",
      "Fitting regression...\n"
     ]
    },
    {
     "name": "stderr",
     "output_type": "stream",
     "text": [
      "Processing samples:   3%|▎         | 6/201 [00:32<21:53,  6.73s/it]"
     ]
    },
    {
     "name": "stdout",
     "output_type": "stream",
     "text": [
      "[WRITE] Saved result from sample_state_combined_county_id_10ppc_1000_size_seed_1415.pkl to /home/libe2152/optimizedsampling/0_results/usavars/population/cluster_sampling_r2_scores.csv\n",
      "Fitting regression...\n"
     ]
    },
    {
     "name": "stderr",
     "output_type": "stream",
     "text": [
      "Processing samples:   3%|▎         | 7/201 [00:36<18:49,  5.82s/it]"
     ]
    },
    {
     "name": "stdout",
     "output_type": "stream",
     "text": [
      "[WRITE] Saved result from sample_state_combined_county_id_10ppc_1000_size_seed_42.pkl to /home/libe2152/optimizedsampling/0_results/usavars/population/cluster_sampling_r2_scores.csv\n",
      "Fitting regression...\n"
     ]
    },
    {
     "name": "stderr",
     "output_type": "stream",
     "text": [
      "Processing samples:   4%|▍         | 8/201 [00:45<22:28,  6.99s/it]"
     ]
    },
    {
     "name": "stdout",
     "output_type": "stream",
     "text": [
      "[WRITE] Saved result from sample_state_combined_county_id_10ppc_1000_size_seed_456.pkl to /home/libe2152/optimizedsampling/0_results/usavars/population/cluster_sampling_r2_scores.csv\n",
      "Fitting regression...\n"
     ]
    },
    {
     "name": "stderr",
     "output_type": "stream",
     "text": [
      "Processing samples:   4%|▍         | 9/201 [00:55<25:11,  7.87s/it]"
     ]
    },
    {
     "name": "stdout",
     "output_type": "stream",
     "text": [
      "[WRITE] Saved result from sample_state_combined_county_id_10ppc_1000_size_seed_5678.pkl to /home/libe2152/optimizedsampling/0_results/usavars/population/cluster_sampling_r2_scores.csv\n",
      "Fitting regression...\n"
     ]
    },
    {
     "name": "stderr",
     "output_type": "stream",
     "text": [
      "Processing samples:   5%|▍         | 10/201 [00:59<21:11,  6.66s/it]"
     ]
    },
    {
     "name": "stdout",
     "output_type": "stream",
     "text": [
      "[WRITE] Saved result from sample_state_combined_county_id_10ppc_1000_size_seed_789.pkl to /home/libe2152/optimizedsampling/0_results/usavars/population/cluster_sampling_r2_scores.csv\n",
      "Fitting regression...\n"
     ]
    },
    {
     "name": "stderr",
     "output_type": "stream",
     "text": [
      "Processing samples:   5%|▌         | 11/201 [01:07<22:21,  7.06s/it]"
     ]
    },
    {
     "name": "stdout",
     "output_type": "stream",
     "text": [
      "[WRITE] Saved result from sample_state_combined_county_id_10ppc_1000_size_seed_9101.pkl to /home/libe2152/optimizedsampling/0_results/usavars/population/cluster_sampling_r2_scores.csv\n",
      "[SKIP] Not enough samples (85) in sample_state_combined_county_id_10ppc_100_size_seed_1.pkl\n",
      "[SKIP] Not enough samples (80) in sample_state_combined_county_id_10ppc_100_size_seed_1213.pkl\n",
      "[SKIP] Not enough samples (80) in sample_state_combined_county_id_10ppc_100_size_seed_123.pkl\n",
      "[SKIP] Not enough samples (75) in sample_state_combined_county_id_10ppc_100_size_seed_1234.pkl\n",
      "[SKIP] Not enough samples (80) in sample_state_combined_county_id_10ppc_100_size_seed_1415.pkl\n",
      "[SKIP] Not enough samples (80) in sample_state_combined_county_id_10ppc_100_size_seed_42.pkl\n",
      "[SKIP] Not enough samples (80) in sample_state_combined_county_id_10ppc_100_size_seed_456.pkl\n",
      "[SKIP] Not enough samples (85) in sample_state_combined_county_id_10ppc_100_size_seed_5678.pkl\n",
      "[SKIP] Not enough samples (80) in sample_state_combined_county_id_10ppc_100_size_seed_789.pkl\n",
      "[SKIP] Not enough samples (80) in sample_state_combined_county_id_10ppc_100_size_seed_9101.pkl\n",
      "Fitting regression...\n"
     ]
    },
    {
     "name": "stderr",
     "output_type": "stream",
     "text": [
      "Processing samples:  11%|█         | 22/201 [01:09<04:02,  1.36s/it]"
     ]
    },
    {
     "name": "stdout",
     "output_type": "stream",
     "text": [
      "[WRITE] Saved result from sample_state_combined_county_id_10ppc_200_size_seed_1.pkl to /home/libe2152/optimizedsampling/0_results/usavars/population/cluster_sampling_r2_scores.csv\n",
      "Fitting regression...\n"
     ]
    },
    {
     "name": "stderr",
     "output_type": "stream",
     "text": [
      "Processing samples:  11%|█▏        | 23/201 [01:10<04:09,  1.40s/it]"
     ]
    },
    {
     "name": "stdout",
     "output_type": "stream",
     "text": [
      "[WRITE] Saved result from sample_state_combined_county_id_10ppc_200_size_seed_1213.pkl to /home/libe2152/optimizedsampling/0_results/usavars/population/cluster_sampling_r2_scores.csv\n",
      "Fitting regression...\n"
     ]
    },
    {
     "name": "stderr",
     "output_type": "stream",
     "text": [
      "Processing samples:  12%|█▏        | 24/201 [01:12<04:14,  1.44s/it]"
     ]
    },
    {
     "name": "stdout",
     "output_type": "stream",
     "text": [
      "[WRITE] Saved result from sample_state_combined_county_id_10ppc_200_size_seed_123.pkl to /home/libe2152/optimizedsampling/0_results/usavars/population/cluster_sampling_r2_scores.csv\n",
      "Fitting regression...\n"
     ]
    },
    {
     "name": "stderr",
     "output_type": "stream",
     "text": [
      "Processing samples:  12%|█▏        | 25/201 [01:14<04:13,  1.44s/it]"
     ]
    },
    {
     "name": "stdout",
     "output_type": "stream",
     "text": [
      "[WRITE] Saved result from sample_state_combined_county_id_10ppc_200_size_seed_1234.pkl to /home/libe2152/optimizedsampling/0_results/usavars/population/cluster_sampling_r2_scores.csv\n",
      "Fitting regression...\n"
     ]
    },
    {
     "name": "stderr",
     "output_type": "stream",
     "text": [
      "Processing samples:  13%|█▎        | 26/201 [01:15<04:21,  1.49s/it]"
     ]
    },
    {
     "name": "stdout",
     "output_type": "stream",
     "text": [
      "[WRITE] Saved result from sample_state_combined_county_id_10ppc_200_size_seed_1415.pkl to /home/libe2152/optimizedsampling/0_results/usavars/population/cluster_sampling_r2_scores.csv\n",
      "Fitting regression...\n"
     ]
    },
    {
     "name": "stderr",
     "output_type": "stream",
     "text": [
      "Processing samples:  13%|█▎        | 27/201 [01:17<04:30,  1.55s/it]"
     ]
    },
    {
     "name": "stdout",
     "output_type": "stream",
     "text": [
      "[WRITE] Saved result from sample_state_combined_county_id_10ppc_200_size_seed_42.pkl to /home/libe2152/optimizedsampling/0_results/usavars/population/cluster_sampling_r2_scores.csv\n",
      "Fitting regression...\n"
     ]
    },
    {
     "name": "stderr",
     "output_type": "stream",
     "text": [
      "Processing samples:  14%|█▍        | 28/201 [01:19<04:39,  1.62s/it]"
     ]
    },
    {
     "name": "stdout",
     "output_type": "stream",
     "text": [
      "[WRITE] Saved result from sample_state_combined_county_id_10ppc_200_size_seed_456.pkl to /home/libe2152/optimizedsampling/0_results/usavars/population/cluster_sampling_r2_scores.csv\n",
      "Fitting regression...\n"
     ]
    },
    {
     "name": "stderr",
     "output_type": "stream",
     "text": [
      "Processing samples:  14%|█▍        | 29/201 [01:20<04:32,  1.59s/it]"
     ]
    },
    {
     "name": "stdout",
     "output_type": "stream",
     "text": [
      "[WRITE] Saved result from sample_state_combined_county_id_10ppc_200_size_seed_5678.pkl to /home/libe2152/optimizedsampling/0_results/usavars/population/cluster_sampling_r2_scores.csv\n",
      "Fitting regression...\n"
     ]
    },
    {
     "name": "stderr",
     "output_type": "stream",
     "text": [
      "Processing samples:  15%|█▍        | 30/201 [01:22<04:30,  1.58s/it]"
     ]
    },
    {
     "name": "stdout",
     "output_type": "stream",
     "text": [
      "[WRITE] Saved result from sample_state_combined_county_id_10ppc_200_size_seed_789.pkl to /home/libe2152/optimizedsampling/0_results/usavars/population/cluster_sampling_r2_scores.csv\n",
      "Fitting regression...\n"
     ]
    },
    {
     "name": "stderr",
     "output_type": "stream",
     "text": [
      "Processing samples:  15%|█▌        | 31/201 [01:23<04:09,  1.47s/it]"
     ]
    },
    {
     "name": "stdout",
     "output_type": "stream",
     "text": [
      "[WRITE] Saved result from sample_state_combined_county_id_10ppc_200_size_seed_9101.pkl to /home/libe2152/optimizedsampling/0_results/usavars/population/cluster_sampling_r2_scores.csv\n",
      "Fitting regression...\n"
     ]
    },
    {
     "name": "stderr",
     "output_type": "stream",
     "text": [
      "Processing samples:  16%|█▌        | 32/201 [01:25<03:59,  1.42s/it]"
     ]
    },
    {
     "name": "stdout",
     "output_type": "stream",
     "text": [
      "[WRITE] Saved result from sample_state_combined_county_id_10ppc_300_size_seed_1.pkl to /home/libe2152/optimizedsampling/0_results/usavars/population/cluster_sampling_r2_scores.csv\n",
      "Fitting regression...\n"
     ]
    },
    {
     "name": "stderr",
     "output_type": "stream",
     "text": [
      "Processing samples:  16%|█▋        | 33/201 [01:25<03:36,  1.29s/it]"
     ]
    },
    {
     "name": "stdout",
     "output_type": "stream",
     "text": [
      "[WRITE] Saved result from sample_state_combined_county_id_10ppc_300_size_seed_1213.pkl to /home/libe2152/optimizedsampling/0_results/usavars/population/cluster_sampling_r2_scores.csv\n",
      "Fitting regression...\n"
     ]
    },
    {
     "name": "stderr",
     "output_type": "stream",
     "text": [
      "Processing samples:  17%|█▋        | 34/201 [01:27<03:24,  1.22s/it]"
     ]
    },
    {
     "name": "stdout",
     "output_type": "stream",
     "text": [
      "[WRITE] Saved result from sample_state_combined_county_id_10ppc_300_size_seed_123.pkl to /home/libe2152/optimizedsampling/0_results/usavars/population/cluster_sampling_r2_scores.csv\n",
      "Fitting regression...\n"
     ]
    },
    {
     "name": "stderr",
     "output_type": "stream",
     "text": [
      "Processing samples:  17%|█▋        | 35/201 [01:28<03:21,  1.21s/it]"
     ]
    },
    {
     "name": "stdout",
     "output_type": "stream",
     "text": [
      "[WRITE] Saved result from sample_state_combined_county_id_10ppc_300_size_seed_1234.pkl to /home/libe2152/optimizedsampling/0_results/usavars/population/cluster_sampling_r2_scores.csv\n",
      "Fitting regression...\n"
     ]
    },
    {
     "name": "stderr",
     "output_type": "stream",
     "text": [
      "Processing samples:  18%|█▊        | 36/201 [01:29<03:41,  1.34s/it]"
     ]
    },
    {
     "name": "stdout",
     "output_type": "stream",
     "text": [
      "[WRITE] Saved result from sample_state_combined_county_id_10ppc_300_size_seed_1415.pkl to /home/libe2152/optimizedsampling/0_results/usavars/population/cluster_sampling_r2_scores.csv\n",
      "Fitting regression...\n"
     ]
    },
    {
     "name": "stderr",
     "output_type": "stream",
     "text": [
      "Processing samples:  18%|█▊        | 37/201 [01:31<03:45,  1.37s/it]"
     ]
    },
    {
     "name": "stdout",
     "output_type": "stream",
     "text": [
      "[WRITE] Saved result from sample_state_combined_county_id_10ppc_300_size_seed_42.pkl to /home/libe2152/optimizedsampling/0_results/usavars/population/cluster_sampling_r2_scores.csv\n",
      "Fitting regression...\n"
     ]
    },
    {
     "name": "stderr",
     "output_type": "stream",
     "text": [
      "Processing samples:  19%|█▉        | 38/201 [01:33<04:05,  1.50s/it]"
     ]
    },
    {
     "name": "stdout",
     "output_type": "stream",
     "text": [
      "[WRITE] Saved result from sample_state_combined_county_id_10ppc_300_size_seed_456.pkl to /home/libe2152/optimizedsampling/0_results/usavars/population/cluster_sampling_r2_scores.csv\n",
      "Fitting regression...\n"
     ]
    },
    {
     "name": "stderr",
     "output_type": "stream",
     "text": [
      "Processing samples:  19%|█▉        | 39/201 [01:34<04:08,  1.53s/it]"
     ]
    },
    {
     "name": "stdout",
     "output_type": "stream",
     "text": [
      "[WRITE] Saved result from sample_state_combined_county_id_10ppc_300_size_seed_5678.pkl to /home/libe2152/optimizedsampling/0_results/usavars/population/cluster_sampling_r2_scores.csv\n",
      "Fitting regression...\n"
     ]
    },
    {
     "name": "stderr",
     "output_type": "stream",
     "text": [
      "Processing samples:  20%|█▉        | 40/201 [01:36<04:11,  1.56s/it]"
     ]
    },
    {
     "name": "stdout",
     "output_type": "stream",
     "text": [
      "[WRITE] Saved result from sample_state_combined_county_id_10ppc_300_size_seed_789.pkl to /home/libe2152/optimizedsampling/0_results/usavars/population/cluster_sampling_r2_scores.csv\n",
      "Fitting regression...\n"
     ]
    },
    {
     "name": "stderr",
     "output_type": "stream",
     "text": [
      "Processing samples:  20%|██        | 41/201 [01:38<04:21,  1.64s/it]"
     ]
    },
    {
     "name": "stdout",
     "output_type": "stream",
     "text": [
      "[WRITE] Saved result from sample_state_combined_county_id_10ppc_300_size_seed_9101.pkl to /home/libe2152/optimizedsampling/0_results/usavars/population/cluster_sampling_r2_scores.csv\n",
      "Fitting regression...\n"
     ]
    },
    {
     "name": "stderr",
     "output_type": "stream",
     "text": [
      "Processing samples:  21%|██        | 42/201 [01:40<04:29,  1.70s/it]"
     ]
    },
    {
     "name": "stdout",
     "output_type": "stream",
     "text": [
      "[WRITE] Saved result from sample_state_combined_county_id_10ppc_400_size_seed_1.pkl to /home/libe2152/optimizedsampling/0_results/usavars/population/cluster_sampling_r2_scores.csv\n",
      "Fitting regression...\n"
     ]
    },
    {
     "name": "stderr",
     "output_type": "stream",
     "text": [
      "Processing samples:  21%|██▏       | 43/201 [01:42<05:02,  1.91s/it]"
     ]
    },
    {
     "name": "stdout",
     "output_type": "stream",
     "text": [
      "[WRITE] Saved result from sample_state_combined_county_id_10ppc_400_size_seed_1213.pkl to /home/libe2152/optimizedsampling/0_results/usavars/population/cluster_sampling_r2_scores.csv\n",
      "Fitting regression...\n"
     ]
    },
    {
     "name": "stderr",
     "output_type": "stream",
     "text": [
      "Processing samples:  22%|██▏       | 44/201 [01:44<05:26,  2.08s/it]"
     ]
    },
    {
     "name": "stdout",
     "output_type": "stream",
     "text": [
      "[WRITE] Saved result from sample_state_combined_county_id_10ppc_400_size_seed_123.pkl to /home/libe2152/optimizedsampling/0_results/usavars/population/cluster_sampling_r2_scores.csv\n",
      "Fitting regression...\n"
     ]
    },
    {
     "name": "stderr",
     "output_type": "stream",
     "text": [
      "Processing samples:  22%|██▏       | 45/201 [01:47<05:47,  2.23s/it]"
     ]
    },
    {
     "name": "stdout",
     "output_type": "stream",
     "text": [
      "[WRITE] Saved result from sample_state_combined_county_id_10ppc_400_size_seed_1234.pkl to /home/libe2152/optimizedsampling/0_results/usavars/population/cluster_sampling_r2_scores.csv\n",
      "Fitting regression...\n"
     ]
    },
    {
     "name": "stderr",
     "output_type": "stream",
     "text": [
      "Processing samples:  23%|██▎       | 46/201 [01:48<05:00,  1.94s/it]"
     ]
    },
    {
     "name": "stdout",
     "output_type": "stream",
     "text": [
      "[WRITE] Saved result from sample_state_combined_county_id_10ppc_400_size_seed_1415.pkl to /home/libe2152/optimizedsampling/0_results/usavars/population/cluster_sampling_r2_scores.csv\n",
      "Fitting regression...\n"
     ]
    },
    {
     "name": "stderr",
     "output_type": "stream",
     "text": [
      "Processing samples:  23%|██▎       | 47/201 [01:50<04:32,  1.77s/it]"
     ]
    },
    {
     "name": "stdout",
     "output_type": "stream",
     "text": [
      "[WRITE] Saved result from sample_state_combined_county_id_10ppc_400_size_seed_42.pkl to /home/libe2152/optimizedsampling/0_results/usavars/population/cluster_sampling_r2_scores.csv\n",
      "Fitting regression...\n"
     ]
    },
    {
     "name": "stderr",
     "output_type": "stream",
     "text": [
      "Processing samples:  24%|██▍       | 48/201 [01:52<05:08,  2.01s/it]"
     ]
    },
    {
     "name": "stdout",
     "output_type": "stream",
     "text": [
      "[WRITE] Saved result from sample_state_combined_county_id_10ppc_400_size_seed_456.pkl to /home/libe2152/optimizedsampling/0_results/usavars/population/cluster_sampling_r2_scores.csv\n",
      "Fitting regression...\n"
     ]
    },
    {
     "name": "stderr",
     "output_type": "stream",
     "text": [
      "Processing samples:  24%|██▍       | 49/201 [01:54<05:13,  2.06s/it]"
     ]
    },
    {
     "name": "stdout",
     "output_type": "stream",
     "text": [
      "[WRITE] Saved result from sample_state_combined_county_id_10ppc_400_size_seed_5678.pkl to /home/libe2152/optimizedsampling/0_results/usavars/population/cluster_sampling_r2_scores.csv\n",
      "Fitting regression...\n"
     ]
    },
    {
     "name": "stderr",
     "output_type": "stream",
     "text": [
      "Processing samples:  25%|██▍       | 50/201 [01:57<05:16,  2.10s/it]"
     ]
    },
    {
     "name": "stdout",
     "output_type": "stream",
     "text": [
      "[WRITE] Saved result from sample_state_combined_county_id_10ppc_400_size_seed_789.pkl to /home/libe2152/optimizedsampling/0_results/usavars/population/cluster_sampling_r2_scores.csv\n",
      "Fitting regression...\n"
     ]
    },
    {
     "name": "stderr",
     "output_type": "stream",
     "text": [
      "Processing samples:  25%|██▌       | 51/201 [01:59<05:23,  2.16s/it]"
     ]
    },
    {
     "name": "stdout",
     "output_type": "stream",
     "text": [
      "[WRITE] Saved result from sample_state_combined_county_id_10ppc_400_size_seed_9101.pkl to /home/libe2152/optimizedsampling/0_results/usavars/population/cluster_sampling_r2_scores.csv\n",
      "Fitting regression...\n"
     ]
    },
    {
     "name": "stderr",
     "output_type": "stream",
     "text": [
      "Processing samples:  26%|██▌       | 52/201 [02:04<07:19,  2.95s/it]"
     ]
    },
    {
     "name": "stdout",
     "output_type": "stream",
     "text": [
      "[WRITE] Saved result from sample_state_combined_county_id_10ppc_500_size_seed_1.pkl to /home/libe2152/optimizedsampling/0_results/usavars/population/cluster_sampling_r2_scores.csv\n",
      "Fitting regression...\n"
     ]
    },
    {
     "name": "stderr",
     "output_type": "stream",
     "text": [
      "Processing samples:  26%|██▋       | 53/201 [02:06<06:53,  2.79s/it]"
     ]
    },
    {
     "name": "stdout",
     "output_type": "stream",
     "text": [
      "[WRITE] Saved result from sample_state_combined_county_id_10ppc_500_size_seed_1213.pkl to /home/libe2152/optimizedsampling/0_results/usavars/population/cluster_sampling_r2_scores.csv\n",
      "Fitting regression...\n"
     ]
    },
    {
     "name": "stderr",
     "output_type": "stream",
     "text": [
      "Processing samples:  27%|██▋       | 54/201 [02:11<08:24,  3.43s/it]"
     ]
    },
    {
     "name": "stdout",
     "output_type": "stream",
     "text": [
      "[WRITE] Saved result from sample_state_combined_county_id_10ppc_500_size_seed_123.pkl to /home/libe2152/optimizedsampling/0_results/usavars/population/cluster_sampling_r2_scores.csv\n",
      "Fitting regression...\n"
     ]
    },
    {
     "name": "stderr",
     "output_type": "stream",
     "text": [
      "Processing samples:  27%|██▋       | 55/201 [02:13<07:10,  2.95s/it]"
     ]
    },
    {
     "name": "stdout",
     "output_type": "stream",
     "text": [
      "[WRITE] Saved result from sample_state_combined_county_id_10ppc_500_size_seed_1234.pkl to /home/libe2152/optimizedsampling/0_results/usavars/population/cluster_sampling_r2_scores.csv\n",
      "Fitting regression...\n"
     ]
    },
    {
     "name": "stderr",
     "output_type": "stream",
     "text": [
      "Processing samples:  28%|██▊       | 56/201 [02:14<06:12,  2.57s/it]"
     ]
    },
    {
     "name": "stdout",
     "output_type": "stream",
     "text": [
      "[WRITE] Saved result from sample_state_combined_county_id_10ppc_500_size_seed_1415.pkl to /home/libe2152/optimizedsampling/0_results/usavars/population/cluster_sampling_r2_scores.csv\n",
      "Fitting regression...\n"
     ]
    },
    {
     "name": "stderr",
     "output_type": "stream",
     "text": [
      "Processing samples:  28%|██▊       | 57/201 [02:16<05:14,  2.18s/it]"
     ]
    },
    {
     "name": "stdout",
     "output_type": "stream",
     "text": [
      "[WRITE] Saved result from sample_state_combined_county_id_10ppc_500_size_seed_42.pkl to /home/libe2152/optimizedsampling/0_results/usavars/population/cluster_sampling_r2_scores.csv\n",
      "Fitting regression...\n"
     ]
    },
    {
     "name": "stderr",
     "output_type": "stream",
     "text": [
      "Processing samples:  29%|██▉       | 58/201 [02:17<04:47,  2.01s/it]"
     ]
    },
    {
     "name": "stdout",
     "output_type": "stream",
     "text": [
      "[WRITE] Saved result from sample_state_combined_county_id_10ppc_500_size_seed_456.pkl to /home/libe2152/optimizedsampling/0_results/usavars/population/cluster_sampling_r2_scores.csv\n",
      "Fitting regression...\n"
     ]
    },
    {
     "name": "stderr",
     "output_type": "stream",
     "text": [
      "Processing samples:  29%|██▉       | 59/201 [02:20<04:51,  2.05s/it]"
     ]
    },
    {
     "name": "stdout",
     "output_type": "stream",
     "text": [
      "[WRITE] Saved result from sample_state_combined_county_id_10ppc_500_size_seed_5678.pkl to /home/libe2152/optimizedsampling/0_results/usavars/population/cluster_sampling_r2_scores.csv\n",
      "Fitting regression...\n"
     ]
    },
    {
     "name": "stderr",
     "output_type": "stream",
     "text": [
      "Processing samples:  30%|██▉       | 60/201 [02:22<04:53,  2.08s/it]"
     ]
    },
    {
     "name": "stdout",
     "output_type": "stream",
     "text": [
      "[WRITE] Saved result from sample_state_combined_county_id_10ppc_500_size_seed_789.pkl to /home/libe2152/optimizedsampling/0_results/usavars/population/cluster_sampling_r2_scores.csv\n",
      "Fitting regression...\n"
     ]
    },
    {
     "name": "stderr",
     "output_type": "stream",
     "text": [
      "Processing samples:  30%|███       | 61/201 [02:24<04:52,  2.09s/it]"
     ]
    },
    {
     "name": "stdout",
     "output_type": "stream",
     "text": [
      "[WRITE] Saved result from sample_state_combined_county_id_10ppc_500_size_seed_9101.pkl to /home/libe2152/optimizedsampling/0_results/usavars/population/cluster_sampling_r2_scores.csv\n",
      "Fitting regression...\n"
     ]
    },
    {
     "name": "stderr",
     "output_type": "stream",
     "text": [
      "Processing samples:  31%|███       | 62/201 [02:26<05:02,  2.17s/it]"
     ]
    },
    {
     "name": "stdout",
     "output_type": "stream",
     "text": [
      "[WRITE] Saved result from sample_state_combined_county_id_10ppc_600_size_seed_1.pkl to /home/libe2152/optimizedsampling/0_results/usavars/population/cluster_sampling_r2_scores.csv\n",
      "Fitting regression...\n"
     ]
    },
    {
     "name": "stderr",
     "output_type": "stream",
     "text": [
      "Processing samples:  31%|███▏      | 63/201 [02:32<07:33,  3.29s/it]"
     ]
    },
    {
     "name": "stdout",
     "output_type": "stream",
     "text": [
      "[WRITE] Saved result from sample_state_combined_county_id_10ppc_600_size_seed_1213.pkl to /home/libe2152/optimizedsampling/0_results/usavars/population/cluster_sampling_r2_scores.csv\n",
      "Fitting regression...\n"
     ]
    },
    {
     "name": "stderr",
     "output_type": "stream",
     "text": [
      "Processing samples:  32%|███▏      | 64/201 [02:37<08:28,  3.71s/it]"
     ]
    },
    {
     "name": "stdout",
     "output_type": "stream",
     "text": [
      "[WRITE] Saved result from sample_state_combined_county_id_10ppc_600_size_seed_123.pkl to /home/libe2152/optimizedsampling/0_results/usavars/population/cluster_sampling_r2_scores.csv\n",
      "Fitting regression...\n"
     ]
    },
    {
     "name": "stderr",
     "output_type": "stream",
     "text": [
      "Processing samples:  32%|███▏      | 65/201 [02:39<07:36,  3.36s/it]"
     ]
    },
    {
     "name": "stdout",
     "output_type": "stream",
     "text": [
      "[WRITE] Saved result from sample_state_combined_county_id_10ppc_600_size_seed_1234.pkl to /home/libe2152/optimizedsampling/0_results/usavars/population/cluster_sampling_r2_scores.csv\n",
      "Fitting regression...\n"
     ]
    },
    {
     "name": "stderr",
     "output_type": "stream",
     "text": [
      "Processing samples:  33%|███▎      | 66/201 [02:42<06:47,  3.02s/it]"
     ]
    },
    {
     "name": "stdout",
     "output_type": "stream",
     "text": [
      "[WRITE] Saved result from sample_state_combined_county_id_10ppc_600_size_seed_1415.pkl to /home/libe2152/optimizedsampling/0_results/usavars/population/cluster_sampling_r2_scores.csv\n",
      "Fitting regression...\n"
     ]
    },
    {
     "name": "stderr",
     "output_type": "stream",
     "text": [
      "Processing samples:  33%|███▎      | 67/201 [02:45<06:46,  3.03s/it]"
     ]
    },
    {
     "name": "stdout",
     "output_type": "stream",
     "text": [
      "[WRITE] Saved result from sample_state_combined_county_id_10ppc_600_size_seed_42.pkl to /home/libe2152/optimizedsampling/0_results/usavars/population/cluster_sampling_r2_scores.csv\n",
      "Fitting regression...\n"
     ]
    },
    {
     "name": "stderr",
     "output_type": "stream",
     "text": [
      "Processing samples:  34%|███▍      | 68/201 [02:47<06:18,  2.85s/it]"
     ]
    },
    {
     "name": "stdout",
     "output_type": "stream",
     "text": [
      "[WRITE] Saved result from sample_state_combined_county_id_10ppc_600_size_seed_456.pkl to /home/libe2152/optimizedsampling/0_results/usavars/population/cluster_sampling_r2_scores.csv\n",
      "Fitting regression...\n"
     ]
    },
    {
     "name": "stderr",
     "output_type": "stream",
     "text": [
      "Processing samples:  34%|███▍      | 69/201 [02:52<07:54,  3.59s/it]"
     ]
    },
    {
     "name": "stdout",
     "output_type": "stream",
     "text": [
      "[WRITE] Saved result from sample_state_combined_county_id_10ppc_600_size_seed_5678.pkl to /home/libe2152/optimizedsampling/0_results/usavars/population/cluster_sampling_r2_scores.csv\n",
      "Fitting regression...\n"
     ]
    },
    {
     "name": "stderr",
     "output_type": "stream",
     "text": [
      "Processing samples:  35%|███▍      | 70/201 [02:55<07:32,  3.45s/it]"
     ]
    },
    {
     "name": "stdout",
     "output_type": "stream",
     "text": [
      "[WRITE] Saved result from sample_state_combined_county_id_10ppc_600_size_seed_789.pkl to /home/libe2152/optimizedsampling/0_results/usavars/population/cluster_sampling_r2_scores.csv\n",
      "Fitting regression...\n"
     ]
    },
    {
     "name": "stderr",
     "output_type": "stream",
     "text": [
      "Processing samples:  35%|███▌      | 71/201 [02:58<07:02,  3.25s/it]"
     ]
    },
    {
     "name": "stdout",
     "output_type": "stream",
     "text": [
      "[WRITE] Saved result from sample_state_combined_county_id_10ppc_600_size_seed_9101.pkl to /home/libe2152/optimizedsampling/0_results/usavars/population/cluster_sampling_r2_scores.csv\n",
      "Fitting regression...\n"
     ]
    },
    {
     "name": "stderr",
     "output_type": "stream",
     "text": [
      "Processing samples:  36%|███▌      | 72/201 [03:04<08:22,  3.90s/it]"
     ]
    },
    {
     "name": "stdout",
     "output_type": "stream",
     "text": [
      "[WRITE] Saved result from sample_state_combined_county_id_10ppc_700_size_seed_1.pkl to /home/libe2152/optimizedsampling/0_results/usavars/population/cluster_sampling_r2_scores.csv\n",
      "Fitting regression...\n"
     ]
    },
    {
     "name": "stderr",
     "output_type": "stream",
     "text": [
      "Processing samples:  36%|███▋      | 73/201 [03:06<07:21,  3.45s/it]"
     ]
    },
    {
     "name": "stdout",
     "output_type": "stream",
     "text": [
      "[WRITE] Saved result from sample_state_combined_county_id_10ppc_700_size_seed_1213.pkl to /home/libe2152/optimizedsampling/0_results/usavars/population/cluster_sampling_r2_scores.csv\n",
      "Fitting regression...\n"
     ]
    },
    {
     "name": "stderr",
     "output_type": "stream",
     "text": [
      "Processing samples:  37%|███▋      | 74/201 [03:09<06:48,  3.22s/it]"
     ]
    },
    {
     "name": "stdout",
     "output_type": "stream",
     "text": [
      "[WRITE] Saved result from sample_state_combined_county_id_10ppc_700_size_seed_123.pkl to /home/libe2152/optimizedsampling/0_results/usavars/population/cluster_sampling_r2_scores.csv\n",
      "Fitting regression...\n"
     ]
    },
    {
     "name": "stderr",
     "output_type": "stream",
     "text": [
      "Processing samples:  37%|███▋      | 75/201 [03:16<09:18,  4.43s/it]"
     ]
    },
    {
     "name": "stdout",
     "output_type": "stream",
     "text": [
      "[WRITE] Saved result from sample_state_combined_county_id_10ppc_700_size_seed_1234.pkl to /home/libe2152/optimizedsampling/0_results/usavars/population/cluster_sampling_r2_scores.csv\n",
      "Fitting regression...\n"
     ]
    },
    {
     "name": "stderr",
     "output_type": "stream",
     "text": [
      "Processing samples:  38%|███▊      | 76/201 [03:19<08:21,  4.01s/it]"
     ]
    },
    {
     "name": "stdout",
     "output_type": "stream",
     "text": [
      "[WRITE] Saved result from sample_state_combined_county_id_10ppc_700_size_seed_1415.pkl to /home/libe2152/optimizedsampling/0_results/usavars/population/cluster_sampling_r2_scores.csv\n",
      "Fitting regression...\n"
     ]
    },
    {
     "name": "stderr",
     "output_type": "stream",
     "text": [
      "Processing samples:  38%|███▊      | 77/201 [03:22<07:50,  3.79s/it]"
     ]
    },
    {
     "name": "stdout",
     "output_type": "stream",
     "text": [
      "[WRITE] Saved result from sample_state_combined_county_id_10ppc_700_size_seed_42.pkl to /home/libe2152/optimizedsampling/0_results/usavars/population/cluster_sampling_r2_scores.csv\n",
      "Fitting regression...\n"
     ]
    },
    {
     "name": "stderr",
     "output_type": "stream",
     "text": [
      "Processing samples:  39%|███▉      | 78/201 [03:29<09:21,  4.57s/it]"
     ]
    },
    {
     "name": "stdout",
     "output_type": "stream",
     "text": [
      "[WRITE] Saved result from sample_state_combined_county_id_10ppc_700_size_seed_456.pkl to /home/libe2152/optimizedsampling/0_results/usavars/population/cluster_sampling_r2_scores.csv\n",
      "Fitting regression...\n"
     ]
    },
    {
     "name": "stderr",
     "output_type": "stream",
     "text": [
      "Processing samples:  39%|███▉      | 79/201 [03:31<07:50,  3.86s/it]"
     ]
    },
    {
     "name": "stdout",
     "output_type": "stream",
     "text": [
      "[WRITE] Saved result from sample_state_combined_county_id_10ppc_700_size_seed_5678.pkl to /home/libe2152/optimizedsampling/0_results/usavars/population/cluster_sampling_r2_scores.csv\n",
      "Fitting regression...\n"
     ]
    },
    {
     "name": "stderr",
     "output_type": "stream",
     "text": [
      "Processing samples:  40%|███▉      | 80/201 [03:33<06:45,  3.35s/it]"
     ]
    },
    {
     "name": "stdout",
     "output_type": "stream",
     "text": [
      "[WRITE] Saved result from sample_state_combined_county_id_10ppc_700_size_seed_789.pkl to /home/libe2152/optimizedsampling/0_results/usavars/population/cluster_sampling_r2_scores.csv\n",
      "Fitting regression...\n"
     ]
    },
    {
     "name": "stderr",
     "output_type": "stream",
     "text": [
      "Processing samples:  40%|████      | 81/201 [03:36<06:40,  3.34s/it]"
     ]
    },
    {
     "name": "stdout",
     "output_type": "stream",
     "text": [
      "[WRITE] Saved result from sample_state_combined_county_id_10ppc_700_size_seed_9101.pkl to /home/libe2152/optimizedsampling/0_results/usavars/population/cluster_sampling_r2_scores.csv\n",
      "Fitting regression...\n"
     ]
    },
    {
     "name": "stderr",
     "output_type": "stream",
     "text": [
      "Processing samples:  41%|████      | 82/201 [03:44<09:26,  4.76s/it]"
     ]
    },
    {
     "name": "stdout",
     "output_type": "stream",
     "text": [
      "[WRITE] Saved result from sample_state_combined_county_id_10ppc_800_size_seed_1.pkl to /home/libe2152/optimizedsampling/0_results/usavars/population/cluster_sampling_r2_scores.csv\n",
      "Fitting regression...\n"
     ]
    },
    {
     "name": "stderr",
     "output_type": "stream",
     "text": [
      "Processing samples:  41%|████▏     | 83/201 [03:52<10:59,  5.59s/it]"
     ]
    },
    {
     "name": "stdout",
     "output_type": "stream",
     "text": [
      "[WRITE] Saved result from sample_state_combined_county_id_10ppc_800_size_seed_1213.pkl to /home/libe2152/optimizedsampling/0_results/usavars/population/cluster_sampling_r2_scores.csv\n",
      "Fitting regression...\n"
     ]
    },
    {
     "name": "stderr",
     "output_type": "stream",
     "text": [
      "Processing samples:  42%|████▏     | 84/201 [03:56<09:55,  5.09s/it]"
     ]
    },
    {
     "name": "stdout",
     "output_type": "stream",
     "text": [
      "[WRITE] Saved result from sample_state_combined_county_id_10ppc_800_size_seed_123.pkl to /home/libe2152/optimizedsampling/0_results/usavars/population/cluster_sampling_r2_scores.csv\n",
      "Fitting regression...\n"
     ]
    },
    {
     "name": "stderr",
     "output_type": "stream",
     "text": [
      "Processing samples:  42%|████▏     | 85/201 [03:58<07:58,  4.13s/it]"
     ]
    },
    {
     "name": "stdout",
     "output_type": "stream",
     "text": [
      "[WRITE] Saved result from sample_state_combined_county_id_10ppc_800_size_seed_1234.pkl to /home/libe2152/optimizedsampling/0_results/usavars/population/cluster_sampling_r2_scores.csv\n",
      "Fitting regression...\n"
     ]
    },
    {
     "name": "stderr",
     "output_type": "stream",
     "text": [
      "Processing samples:  43%|████▎     | 86/201 [04:03<08:36,  4.49s/it]"
     ]
    },
    {
     "name": "stdout",
     "output_type": "stream",
     "text": [
      "[WRITE] Saved result from sample_state_combined_county_id_10ppc_800_size_seed_1415.pkl to /home/libe2152/optimizedsampling/0_results/usavars/population/cluster_sampling_r2_scores.csv\n",
      "Fitting regression...\n"
     ]
    },
    {
     "name": "stderr",
     "output_type": "stream",
     "text": [
      "Processing samples:  43%|████▎     | 87/201 [04:11<10:16,  5.40s/it]"
     ]
    },
    {
     "name": "stdout",
     "output_type": "stream",
     "text": [
      "[WRITE] Saved result from sample_state_combined_county_id_10ppc_800_size_seed_42.pkl to /home/libe2152/optimizedsampling/0_results/usavars/population/cluster_sampling_r2_scores.csv\n",
      "Fitting regression...\n"
     ]
    },
    {
     "name": "stderr",
     "output_type": "stream",
     "text": [
      "Processing samples:  44%|████▍     | 88/201 [04:18<11:19,  6.01s/it]"
     ]
    },
    {
     "name": "stdout",
     "output_type": "stream",
     "text": [
      "[WRITE] Saved result from sample_state_combined_county_id_10ppc_800_size_seed_456.pkl to /home/libe2152/optimizedsampling/0_results/usavars/population/cluster_sampling_r2_scores.csv\n",
      "Fitting regression...\n"
     ]
    },
    {
     "name": "stderr",
     "output_type": "stream",
     "text": [
      "Processing samples:  44%|████▍     | 89/201 [04:21<09:24,  5.04s/it]"
     ]
    },
    {
     "name": "stdout",
     "output_type": "stream",
     "text": [
      "[WRITE] Saved result from sample_state_combined_county_id_10ppc_800_size_seed_5678.pkl to /home/libe2152/optimizedsampling/0_results/usavars/population/cluster_sampling_r2_scores.csv\n",
      "Fitting regression...\n"
     ]
    },
    {
     "name": "stderr",
     "output_type": "stream",
     "text": [
      "Processing samples:  45%|████▍     | 90/201 [04:23<07:38,  4.13s/it]"
     ]
    },
    {
     "name": "stdout",
     "output_type": "stream",
     "text": [
      "[WRITE] Saved result from sample_state_combined_county_id_10ppc_800_size_seed_789.pkl to /home/libe2152/optimizedsampling/0_results/usavars/population/cluster_sampling_r2_scores.csv\n",
      "Fitting regression...\n"
     ]
    },
    {
     "name": "stderr",
     "output_type": "stream",
     "text": [
      "Processing samples:  45%|████▌     | 91/201 [04:27<07:48,  4.26s/it]"
     ]
    },
    {
     "name": "stdout",
     "output_type": "stream",
     "text": [
      "[WRITE] Saved result from sample_state_combined_county_id_10ppc_800_size_seed_9101.pkl to /home/libe2152/optimizedsampling/0_results/usavars/population/cluster_sampling_r2_scores.csv\n",
      "Fitting regression...\n"
     ]
    },
    {
     "name": "stderr",
     "output_type": "stream",
     "text": [
      "Processing samples:  46%|████▌     | 92/201 [04:35<09:19,  5.14s/it]"
     ]
    },
    {
     "name": "stdout",
     "output_type": "stream",
     "text": [
      "[WRITE] Saved result from sample_state_combined_county_id_10ppc_900_size_seed_1.pkl to /home/libe2152/optimizedsampling/0_results/usavars/population/cluster_sampling_r2_scores.csv\n",
      "Fitting regression...\n"
     ]
    },
    {
     "name": "stderr",
     "output_type": "stream",
     "text": [
      "Processing samples:  46%|████▋     | 93/201 [04:42<10:13,  5.68s/it]"
     ]
    },
    {
     "name": "stdout",
     "output_type": "stream",
     "text": [
      "[WRITE] Saved result from sample_state_combined_county_id_10ppc_900_size_seed_1213.pkl to /home/libe2152/optimizedsampling/0_results/usavars/population/cluster_sampling_r2_scores.csv\n",
      "Fitting regression...\n"
     ]
    },
    {
     "name": "stderr",
     "output_type": "stream",
     "text": [
      "Processing samples:  47%|████▋     | 94/201 [04:44<08:11,  4.59s/it]"
     ]
    },
    {
     "name": "stdout",
     "output_type": "stream",
     "text": [
      "[WRITE] Saved result from sample_state_combined_county_id_10ppc_900_size_seed_123.pkl to /home/libe2152/optimizedsampling/0_results/usavars/population/cluster_sampling_r2_scores.csv\n",
      "Fitting regression...\n"
     ]
    },
    {
     "name": "stderr",
     "output_type": "stream",
     "text": [
      "Processing samples:  47%|████▋     | 95/201 [04:49<08:30,  4.81s/it]"
     ]
    },
    {
     "name": "stdout",
     "output_type": "stream",
     "text": [
      "[WRITE] Saved result from sample_state_combined_county_id_10ppc_900_size_seed_1234.pkl to /home/libe2152/optimizedsampling/0_results/usavars/population/cluster_sampling_r2_scores.csv\n",
      "Fitting regression...\n"
     ]
    },
    {
     "name": "stderr",
     "output_type": "stream",
     "text": [
      "Processing samples:  48%|████▊     | 96/201 [04:57<10:02,  5.73s/it]"
     ]
    },
    {
     "name": "stdout",
     "output_type": "stream",
     "text": [
      "[WRITE] Saved result from sample_state_combined_county_id_10ppc_900_size_seed_1415.pkl to /home/libe2152/optimizedsampling/0_results/usavars/population/cluster_sampling_r2_scores.csv\n",
      "Fitting regression...\n"
     ]
    },
    {
     "name": "stderr",
     "output_type": "stream",
     "text": [
      "Processing samples:  48%|████▊     | 97/201 [05:00<08:42,  5.03s/it]"
     ]
    },
    {
     "name": "stdout",
     "output_type": "stream",
     "text": [
      "[WRITE] Saved result from sample_state_combined_county_id_10ppc_900_size_seed_42.pkl to /home/libe2152/optimizedsampling/0_results/usavars/population/cluster_sampling_r2_scores.csv\n",
      "Fitting regression...\n"
     ]
    },
    {
     "name": "stderr",
     "output_type": "stream",
     "text": [
      "Processing samples:  49%|████▉     | 98/201 [05:06<09:09,  5.34s/it]"
     ]
    },
    {
     "name": "stdout",
     "output_type": "stream",
     "text": [
      "[WRITE] Saved result from sample_state_combined_county_id_10ppc_900_size_seed_456.pkl to /home/libe2152/optimizedsampling/0_results/usavars/population/cluster_sampling_r2_scores.csv\n",
      "Fitting regression...\n"
     ]
    },
    {
     "name": "stderr",
     "output_type": "stream",
     "text": [
      "Processing samples:  49%|████▉     | 99/201 [05:09<07:46,  4.57s/it]"
     ]
    },
    {
     "name": "stdout",
     "output_type": "stream",
     "text": [
      "[WRITE] Saved result from sample_state_combined_county_id_10ppc_900_size_seed_5678.pkl to /home/libe2152/optimizedsampling/0_results/usavars/population/cluster_sampling_r2_scores.csv\n",
      "Fitting regression...\n"
     ]
    },
    {
     "name": "stderr",
     "output_type": "stream",
     "text": [
      "Processing samples:  50%|████▉     | 100/201 [05:16<09:01,  5.36s/it]"
     ]
    },
    {
     "name": "stdout",
     "output_type": "stream",
     "text": [
      "[WRITE] Saved result from sample_state_combined_county_id_10ppc_900_size_seed_789.pkl to /home/libe2152/optimizedsampling/0_results/usavars/population/cluster_sampling_r2_scores.csv\n",
      "Fitting regression...\n"
     ]
    },
    {
     "name": "stderr",
     "output_type": "stream",
     "text": [
      "Processing samples:  50%|█████     | 101/201 [05:25<10:34,  6.34s/it]"
     ]
    },
    {
     "name": "stdout",
     "output_type": "stream",
     "text": [
      "[WRITE] Saved result from sample_state_combined_county_id_10ppc_900_size_seed_9101.pkl to /home/libe2152/optimizedsampling/0_results/usavars/population/cluster_sampling_r2_scores.csv\n",
      "Fitting regression...\n"
     ]
    },
    {
     "name": "stderr",
     "output_type": "stream",
     "text": [
      "Processing samples:  51%|█████     | 102/201 [05:30<09:38,  5.85s/it]"
     ]
    },
    {
     "name": "stdout",
     "output_type": "stream",
     "text": [
      "[WRITE] Saved result from sample_state_combined_county_id_5ppc_1000_size_seed_1.pkl to /home/libe2152/optimizedsampling/0_results/usavars/population/cluster_sampling_r2_scores.csv\n",
      "Fitting regression...\n"
     ]
    },
    {
     "name": "stderr",
     "output_type": "stream",
     "text": [
      "Processing samples:  51%|█████     | 103/201 [05:34<09:05,  5.57s/it]"
     ]
    },
    {
     "name": "stdout",
     "output_type": "stream",
     "text": [
      "[WRITE] Saved result from sample_state_combined_county_id_5ppc_1000_size_seed_1213.pkl to /home/libe2152/optimizedsampling/0_results/usavars/population/cluster_sampling_r2_scores.csv\n",
      "Fitting regression...\n"
     ]
    },
    {
     "name": "stderr",
     "output_type": "stream",
     "text": [
      "Processing samples:  52%|█████▏    | 104/201 [05:37<07:39,  4.74s/it]"
     ]
    },
    {
     "name": "stdout",
     "output_type": "stream",
     "text": [
      "[WRITE] Saved result from sample_state_combined_county_id_5ppc_1000_size_seed_123.pkl to /home/libe2152/optimizedsampling/0_results/usavars/population/cluster_sampling_r2_scores.csv\n",
      "Fitting regression...\n"
     ]
    },
    {
     "name": "stderr",
     "output_type": "stream",
     "text": [
      "Processing samples:  52%|█████▏    | 105/201 [05:46<09:27,  5.91s/it]"
     ]
    },
    {
     "name": "stdout",
     "output_type": "stream",
     "text": [
      "[WRITE] Saved result from sample_state_combined_county_id_5ppc_1000_size_seed_1234.pkl to /home/libe2152/optimizedsampling/0_results/usavars/population/cluster_sampling_r2_scores.csv\n",
      "Fitting regression...\n"
     ]
    },
    {
     "name": "stderr",
     "output_type": "stream",
     "text": [
      "Processing samples:  53%|█████▎    | 106/201 [05:50<08:27,  5.35s/it]"
     ]
    },
    {
     "name": "stdout",
     "output_type": "stream",
     "text": [
      "[WRITE] Saved result from sample_state_combined_county_id_5ppc_1000_size_seed_1415.pkl to /home/libe2152/optimizedsampling/0_results/usavars/population/cluster_sampling_r2_scores.csv\n",
      "Fitting regression...\n"
     ]
    },
    {
     "name": "stderr",
     "output_type": "stream",
     "text": [
      "Processing samples:  53%|█████▎    | 107/201 [05:58<09:36,  6.14s/it]"
     ]
    },
    {
     "name": "stdout",
     "output_type": "stream",
     "text": [
      "[WRITE] Saved result from sample_state_combined_county_id_5ppc_1000_size_seed_42.pkl to /home/libe2152/optimizedsampling/0_results/usavars/population/cluster_sampling_r2_scores.csv\n",
      "Fitting regression...\n"
     ]
    },
    {
     "name": "stderr",
     "output_type": "stream",
     "text": [
      "Processing samples:  54%|█████▎    | 108/201 [06:03<09:12,  5.94s/it]"
     ]
    },
    {
     "name": "stdout",
     "output_type": "stream",
     "text": [
      "[WRITE] Saved result from sample_state_combined_county_id_5ppc_1000_size_seed_456.pkl to /home/libe2152/optimizedsampling/0_results/usavars/population/cluster_sampling_r2_scores.csv\n",
      "Fitting regression...\n"
     ]
    },
    {
     "name": "stderr",
     "output_type": "stream",
     "text": [
      "Processing samples:  54%|█████▍    | 109/201 [06:11<10:02,  6.55s/it]"
     ]
    },
    {
     "name": "stdout",
     "output_type": "stream",
     "text": [
      "[WRITE] Saved result from sample_state_combined_county_id_5ppc_1000_size_seed_5678.pkl to /home/libe2152/optimizedsampling/0_results/usavars/population/cluster_sampling_r2_scores.csv\n",
      "Fitting regression...\n"
     ]
    },
    {
     "name": "stderr",
     "output_type": "stream",
     "text": [
      "Processing samples:  55%|█████▍    | 110/201 [06:19<10:36,  7.00s/it]"
     ]
    },
    {
     "name": "stdout",
     "output_type": "stream",
     "text": [
      "[WRITE] Saved result from sample_state_combined_county_id_5ppc_1000_size_seed_789.pkl to /home/libe2152/optimizedsampling/0_results/usavars/population/cluster_sampling_r2_scores.csv\n",
      "Fitting regression...\n"
     ]
    },
    {
     "name": "stderr",
     "output_type": "stream",
     "text": [
      "Processing samples:  55%|█████▌    | 111/201 [06:27<10:41,  7.13s/it]"
     ]
    },
    {
     "name": "stdout",
     "output_type": "stream",
     "text": [
      "[WRITE] Saved result from sample_state_combined_county_id_5ppc_1000_size_seed_9101.pkl to /home/libe2152/optimizedsampling/0_results/usavars/population/cluster_sampling_r2_scores.csv\n",
      "[SKIP] Not enough samples (85) in sample_state_combined_county_id_5ppc_100_size_seed_1.pkl\n",
      "[SKIP] Not enough samples (85) in sample_state_combined_county_id_5ppc_100_size_seed_1213.pkl\n",
      "[SKIP] Not enough samples (85) in sample_state_combined_county_id_5ppc_100_size_seed_123.pkl\n",
      "[SKIP] Not enough samples (85) in sample_state_combined_county_id_5ppc_100_size_seed_1234.pkl\n",
      "[SKIP] Not enough samples (85) in sample_state_combined_county_id_5ppc_100_size_seed_1415.pkl\n",
      "[SKIP] Not enough samples (85) in sample_state_combined_county_id_5ppc_100_size_seed_42.pkl\n",
      "[SKIP] Not enough samples (85) in sample_state_combined_county_id_5ppc_100_size_seed_456.pkl\n",
      "[SKIP] Not enough samples (85) in sample_state_combined_county_id_5ppc_100_size_seed_5678.pkl\n",
      "[SKIP] Not enough samples (85) in sample_state_combined_county_id_5ppc_100_size_seed_789.pkl\n",
      "[SKIP] Not enough samples (85) in sample_state_combined_county_id_5ppc_100_size_seed_9101.pkl\n",
      "Fitting regression...\n"
     ]
    },
    {
     "name": "stderr",
     "output_type": "stream",
     "text": [
      "Processing samples:  61%|██████    | 122/201 [06:28<01:45,  1.34s/it]"
     ]
    },
    {
     "name": "stdout",
     "output_type": "stream",
     "text": [
      "[WRITE] Saved result from sample_state_combined_county_id_5ppc_200_size_seed_1.pkl to /home/libe2152/optimizedsampling/0_results/usavars/population/cluster_sampling_r2_scores.csv\n",
      "Fitting regression...\n"
     ]
    },
    {
     "name": "stderr",
     "output_type": "stream",
     "text": [
      "Processing samples:  61%|██████    | 123/201 [06:29<01:42,  1.31s/it]"
     ]
    },
    {
     "name": "stdout",
     "output_type": "stream",
     "text": [
      "[WRITE] Saved result from sample_state_combined_county_id_5ppc_200_size_seed_1213.pkl to /home/libe2152/optimizedsampling/0_results/usavars/population/cluster_sampling_r2_scores.csv\n",
      "Fitting regression...\n"
     ]
    },
    {
     "name": "stderr",
     "output_type": "stream",
     "text": [
      "Processing samples:  62%|██████▏   | 124/201 [06:31<01:41,  1.32s/it]"
     ]
    },
    {
     "name": "stdout",
     "output_type": "stream",
     "text": [
      "[WRITE] Saved result from sample_state_combined_county_id_5ppc_200_size_seed_123.pkl to /home/libe2152/optimizedsampling/0_results/usavars/population/cluster_sampling_r2_scores.csv\n",
      "Fitting regression...\n"
     ]
    },
    {
     "name": "stderr",
     "output_type": "stream",
     "text": [
      "Processing samples:  62%|██████▏   | 125/201 [06:32<01:43,  1.37s/it]"
     ]
    },
    {
     "name": "stdout",
     "output_type": "stream",
     "text": [
      "[WRITE] Saved result from sample_state_combined_county_id_5ppc_200_size_seed_1234.pkl to /home/libe2152/optimizedsampling/0_results/usavars/population/cluster_sampling_r2_scores.csv\n",
      "Fitting regression...\n"
     ]
    },
    {
     "name": "stderr",
     "output_type": "stream",
     "text": [
      "Processing samples:  63%|██████▎   | 126/201 [06:34<01:42,  1.37s/it]"
     ]
    },
    {
     "name": "stdout",
     "output_type": "stream",
     "text": [
      "[WRITE] Saved result from sample_state_combined_county_id_5ppc_200_size_seed_1415.pkl to /home/libe2152/optimizedsampling/0_results/usavars/population/cluster_sampling_r2_scores.csv\n",
      "Fitting regression...\n"
     ]
    },
    {
     "name": "stderr",
     "output_type": "stream",
     "text": [
      "Processing samples:  63%|██████▎   | 127/201 [06:35<01:41,  1.37s/it]"
     ]
    },
    {
     "name": "stdout",
     "output_type": "stream",
     "text": [
      "[WRITE] Saved result from sample_state_combined_county_id_5ppc_200_size_seed_42.pkl to /home/libe2152/optimizedsampling/0_results/usavars/population/cluster_sampling_r2_scores.csv\n",
      "Fitting regression...\n"
     ]
    },
    {
     "name": "stderr",
     "output_type": "stream",
     "text": [
      "Processing samples:  64%|██████▎   | 128/201 [06:37<01:49,  1.49s/it]"
     ]
    },
    {
     "name": "stdout",
     "output_type": "stream",
     "text": [
      "[WRITE] Saved result from sample_state_combined_county_id_5ppc_200_size_seed_456.pkl to /home/libe2152/optimizedsampling/0_results/usavars/population/cluster_sampling_r2_scores.csv\n",
      "Fitting regression...\n"
     ]
    },
    {
     "name": "stderr",
     "output_type": "stream",
     "text": [
      "Processing samples:  64%|██████▍   | 129/201 [06:39<01:51,  1.55s/it]"
     ]
    },
    {
     "name": "stdout",
     "output_type": "stream",
     "text": [
      "[WRITE] Saved result from sample_state_combined_county_id_5ppc_200_size_seed_5678.pkl to /home/libe2152/optimizedsampling/0_results/usavars/population/cluster_sampling_r2_scores.csv\n",
      "Fitting regression...\n"
     ]
    },
    {
     "name": "stderr",
     "output_type": "stream",
     "text": [
      "Processing samples:  65%|██████▍   | 130/201 [06:40<01:48,  1.53s/it]"
     ]
    },
    {
     "name": "stdout",
     "output_type": "stream",
     "text": [
      "[WRITE] Saved result from sample_state_combined_county_id_5ppc_200_size_seed_789.pkl to /home/libe2152/optimizedsampling/0_results/usavars/population/cluster_sampling_r2_scores.csv\n",
      "Fitting regression...\n"
     ]
    },
    {
     "name": "stderr",
     "output_type": "stream",
     "text": [
      "Processing samples:  65%|██████▌   | 131/201 [06:42<01:53,  1.62s/it]"
     ]
    },
    {
     "name": "stdout",
     "output_type": "stream",
     "text": [
      "[WRITE] Saved result from sample_state_combined_county_id_5ppc_200_size_seed_9101.pkl to /home/libe2152/optimizedsampling/0_results/usavars/population/cluster_sampling_r2_scores.csv\n",
      "Fitting regression...\n"
     ]
    },
    {
     "name": "stderr",
     "output_type": "stream",
     "text": [
      "Processing samples:  66%|██████▌   | 132/201 [06:44<01:53,  1.65s/it]"
     ]
    },
    {
     "name": "stdout",
     "output_type": "stream",
     "text": [
      "[WRITE] Saved result from sample_state_combined_county_id_5ppc_300_size_seed_1.pkl to /home/libe2152/optimizedsampling/0_results/usavars/population/cluster_sampling_r2_scores.csv\n",
      "Fitting regression...\n"
     ]
    },
    {
     "name": "stderr",
     "output_type": "stream",
     "text": [
      "Processing samples:  66%|██████▌   | 133/201 [06:45<01:53,  1.68s/it]"
     ]
    },
    {
     "name": "stdout",
     "output_type": "stream",
     "text": [
      "[WRITE] Saved result from sample_state_combined_county_id_5ppc_300_size_seed_1213.pkl to /home/libe2152/optimizedsampling/0_results/usavars/population/cluster_sampling_r2_scores.csv\n",
      "Fitting regression...\n"
     ]
    },
    {
     "name": "stderr",
     "output_type": "stream",
     "text": [
      "Processing samples:  67%|██████▋   | 134/201 [06:47<01:55,  1.72s/it]"
     ]
    },
    {
     "name": "stdout",
     "output_type": "stream",
     "text": [
      "[WRITE] Saved result from sample_state_combined_county_id_5ppc_300_size_seed_123.pkl to /home/libe2152/optimizedsampling/0_results/usavars/population/cluster_sampling_r2_scores.csv\n",
      "Fitting regression...\n"
     ]
    },
    {
     "name": "stderr",
     "output_type": "stream",
     "text": [
      "Processing samples:  67%|██████▋   | 135/201 [06:49<01:49,  1.66s/it]"
     ]
    },
    {
     "name": "stdout",
     "output_type": "stream",
     "text": [
      "[WRITE] Saved result from sample_state_combined_county_id_5ppc_300_size_seed_1234.pkl to /home/libe2152/optimizedsampling/0_results/usavars/population/cluster_sampling_r2_scores.csv\n",
      "Fitting regression...\n"
     ]
    },
    {
     "name": "stderr",
     "output_type": "stream",
     "text": [
      "Processing samples:  68%|██████▊   | 136/201 [06:50<01:46,  1.63s/it]"
     ]
    },
    {
     "name": "stdout",
     "output_type": "stream",
     "text": [
      "[WRITE] Saved result from sample_state_combined_county_id_5ppc_300_size_seed_1415.pkl to /home/libe2152/optimizedsampling/0_results/usavars/population/cluster_sampling_r2_scores.csv\n",
      "Fitting regression...\n"
     ]
    },
    {
     "name": "stderr",
     "output_type": "stream",
     "text": [
      "Processing samples:  68%|██████▊   | 137/201 [06:52<01:39,  1.55s/it]"
     ]
    },
    {
     "name": "stdout",
     "output_type": "stream",
     "text": [
      "[WRITE] Saved result from sample_state_combined_county_id_5ppc_300_size_seed_42.pkl to /home/libe2152/optimizedsampling/0_results/usavars/population/cluster_sampling_r2_scores.csv\n",
      "Fitting regression...\n"
     ]
    },
    {
     "name": "stderr",
     "output_type": "stream",
     "text": [
      "Processing samples:  69%|██████▊   | 138/201 [06:53<01:31,  1.45s/it]"
     ]
    },
    {
     "name": "stdout",
     "output_type": "stream",
     "text": [
      "[WRITE] Saved result from sample_state_combined_county_id_5ppc_300_size_seed_456.pkl to /home/libe2152/optimizedsampling/0_results/usavars/population/cluster_sampling_r2_scores.csv\n",
      "Fitting regression...\n"
     ]
    },
    {
     "name": "stderr",
     "output_type": "stream",
     "text": [
      "Processing samples:  69%|██████▉   | 139/201 [06:54<01:28,  1.42s/it]"
     ]
    },
    {
     "name": "stdout",
     "output_type": "stream",
     "text": [
      "[WRITE] Saved result from sample_state_combined_county_id_5ppc_300_size_seed_5678.pkl to /home/libe2152/optimizedsampling/0_results/usavars/population/cluster_sampling_r2_scores.csv\n",
      "Fitting regression...\n"
     ]
    },
    {
     "name": "stderr",
     "output_type": "stream",
     "text": [
      "Processing samples:  70%|██████▉   | 140/201 [06:56<01:42,  1.67s/it]"
     ]
    },
    {
     "name": "stdout",
     "output_type": "stream",
     "text": [
      "[WRITE] Saved result from sample_state_combined_county_id_5ppc_300_size_seed_789.pkl to /home/libe2152/optimizedsampling/0_results/usavars/population/cluster_sampling_r2_scores.csv\n",
      "Fitting regression...\n"
     ]
    },
    {
     "name": "stderr",
     "output_type": "stream",
     "text": [
      "Processing samples:  70%|███████   | 141/201 [06:58<01:45,  1.76s/it]"
     ]
    },
    {
     "name": "stdout",
     "output_type": "stream",
     "text": [
      "[WRITE] Saved result from sample_state_combined_county_id_5ppc_300_size_seed_9101.pkl to /home/libe2152/optimizedsampling/0_results/usavars/population/cluster_sampling_r2_scores.csv\n",
      "Fitting regression...\n"
     ]
    },
    {
     "name": "stderr",
     "output_type": "stream",
     "text": [
      "Processing samples:  71%|███████   | 142/201 [07:01<01:53,  1.93s/it]"
     ]
    },
    {
     "name": "stdout",
     "output_type": "stream",
     "text": [
      "[WRITE] Saved result from sample_state_combined_county_id_5ppc_400_size_seed_1.pkl to /home/libe2152/optimizedsampling/0_results/usavars/population/cluster_sampling_r2_scores.csv\n",
      "Fitting regression...\n"
     ]
    },
    {
     "name": "stderr",
     "output_type": "stream",
     "text": [
      "Processing samples:  71%|███████   | 143/201 [07:05<02:31,  2.61s/it]"
     ]
    },
    {
     "name": "stdout",
     "output_type": "stream",
     "text": [
      "[WRITE] Saved result from sample_state_combined_county_id_5ppc_400_size_seed_1213.pkl to /home/libe2152/optimizedsampling/0_results/usavars/population/cluster_sampling_r2_scores.csv\n",
      "Fitting regression...\n"
     ]
    },
    {
     "name": "stderr",
     "output_type": "stream",
     "text": [
      "Processing samples:  72%|███████▏  | 144/201 [07:08<02:28,  2.60s/it]"
     ]
    },
    {
     "name": "stdout",
     "output_type": "stream",
     "text": [
      "[WRITE] Saved result from sample_state_combined_county_id_5ppc_400_size_seed_123.pkl to /home/libe2152/optimizedsampling/0_results/usavars/population/cluster_sampling_r2_scores.csv\n",
      "Fitting regression...\n"
     ]
    },
    {
     "name": "stderr",
     "output_type": "stream",
     "text": [
      "Processing samples:  72%|███████▏  | 145/201 [07:10<02:21,  2.52s/it]"
     ]
    },
    {
     "name": "stdout",
     "output_type": "stream",
     "text": [
      "[WRITE] Saved result from sample_state_combined_county_id_5ppc_400_size_seed_1234.pkl to /home/libe2152/optimizedsampling/0_results/usavars/population/cluster_sampling_r2_scores.csv\n",
      "Fitting regression...\n"
     ]
    },
    {
     "name": "stderr",
     "output_type": "stream",
     "text": [
      "Processing samples:  73%|███████▎  | 146/201 [07:12<02:10,  2.37s/it]"
     ]
    },
    {
     "name": "stdout",
     "output_type": "stream",
     "text": [
      "[WRITE] Saved result from sample_state_combined_county_id_5ppc_400_size_seed_1415.pkl to /home/libe2152/optimizedsampling/0_results/usavars/population/cluster_sampling_r2_scores.csv\n",
      "Fitting regression...\n"
     ]
    },
    {
     "name": "stderr",
     "output_type": "stream",
     "text": [
      "Processing samples:  73%|███████▎  | 147/201 [07:14<01:56,  2.16s/it]"
     ]
    },
    {
     "name": "stdout",
     "output_type": "stream",
     "text": [
      "[WRITE] Saved result from sample_state_combined_county_id_5ppc_400_size_seed_42.pkl to /home/libe2152/optimizedsampling/0_results/usavars/population/cluster_sampling_r2_scores.csv\n",
      "Fitting regression...\n"
     ]
    },
    {
     "name": "stderr",
     "output_type": "stream",
     "text": [
      "Processing samples:  74%|███████▎  | 148/201 [07:15<01:49,  2.07s/it]"
     ]
    },
    {
     "name": "stdout",
     "output_type": "stream",
     "text": [
      "[WRITE] Saved result from sample_state_combined_county_id_5ppc_400_size_seed_456.pkl to /home/libe2152/optimizedsampling/0_results/usavars/population/cluster_sampling_r2_scores.csv\n",
      "Fitting regression...\n"
     ]
    },
    {
     "name": "stderr",
     "output_type": "stream",
     "text": [
      "Processing samples:  74%|███████▍  | 149/201 [07:18<01:53,  2.19s/it]"
     ]
    },
    {
     "name": "stdout",
     "output_type": "stream",
     "text": [
      "[WRITE] Saved result from sample_state_combined_county_id_5ppc_400_size_seed_5678.pkl to /home/libe2152/optimizedsampling/0_results/usavars/population/cluster_sampling_r2_scores.csv\n",
      "Fitting regression...\n"
     ]
    },
    {
     "name": "stderr",
     "output_type": "stream",
     "text": [
      "Processing samples:  75%|███████▍  | 150/201 [07:19<01:35,  1.88s/it]"
     ]
    },
    {
     "name": "stdout",
     "output_type": "stream",
     "text": [
      "[WRITE] Saved result from sample_state_combined_county_id_5ppc_400_size_seed_789.pkl to /home/libe2152/optimizedsampling/0_results/usavars/population/cluster_sampling_r2_scores.csv\n",
      "Fitting regression...\n"
     ]
    },
    {
     "name": "stderr",
     "output_type": "stream",
     "text": [
      "Processing samples:  75%|███████▌  | 151/201 [07:20<01:23,  1.67s/it]"
     ]
    },
    {
     "name": "stdout",
     "output_type": "stream",
     "text": [
      "[WRITE] Saved result from sample_state_combined_county_id_5ppc_400_size_seed_9101.pkl to /home/libe2152/optimizedsampling/0_results/usavars/population/cluster_sampling_r2_scores.csv\n",
      "Fitting regression...\n"
     ]
    },
    {
     "name": "stderr",
     "output_type": "stream",
     "text": [
      "Processing samples:  76%|███████▌  | 152/201 [07:22<01:27,  1.78s/it]"
     ]
    },
    {
     "name": "stdout",
     "output_type": "stream",
     "text": [
      "[WRITE] Saved result from sample_state_combined_county_id_5ppc_500_size_seed_1.pkl to /home/libe2152/optimizedsampling/0_results/usavars/population/cluster_sampling_r2_scores.csv\n",
      "Fitting regression...\n"
     ]
    },
    {
     "name": "stderr",
     "output_type": "stream",
     "text": [
      "Processing samples:  76%|███████▌  | 153/201 [07:24<01:29,  1.87s/it]"
     ]
    },
    {
     "name": "stdout",
     "output_type": "stream",
     "text": [
      "[WRITE] Saved result from sample_state_combined_county_id_5ppc_500_size_seed_1213.pkl to /home/libe2152/optimizedsampling/0_results/usavars/population/cluster_sampling_r2_scores.csv\n",
      "Fitting regression...\n"
     ]
    },
    {
     "name": "stderr",
     "output_type": "stream",
     "text": [
      "Processing samples:  77%|███████▋  | 154/201 [07:26<01:30,  1.91s/it]"
     ]
    },
    {
     "name": "stdout",
     "output_type": "stream",
     "text": [
      "[WRITE] Saved result from sample_state_combined_county_id_5ppc_500_size_seed_123.pkl to /home/libe2152/optimizedsampling/0_results/usavars/population/cluster_sampling_r2_scores.csv\n",
      "Fitting regression...\n"
     ]
    },
    {
     "name": "stderr",
     "output_type": "stream",
     "text": [
      "Processing samples:  77%|███████▋  | 155/201 [07:31<01:59,  2.61s/it]"
     ]
    },
    {
     "name": "stdout",
     "output_type": "stream",
     "text": [
      "[WRITE] Saved result from sample_state_combined_county_id_5ppc_500_size_seed_1234.pkl to /home/libe2152/optimizedsampling/0_results/usavars/population/cluster_sampling_r2_scores.csv\n",
      "Fitting regression...\n"
     ]
    },
    {
     "name": "stderr",
     "output_type": "stream",
     "text": [
      "Processing samples:  78%|███████▊  | 156/201 [07:35<02:20,  3.13s/it]"
     ]
    },
    {
     "name": "stdout",
     "output_type": "stream",
     "text": [
      "[WRITE] Saved result from sample_state_combined_county_id_5ppc_500_size_seed_1415.pkl to /home/libe2152/optimizedsampling/0_results/usavars/population/cluster_sampling_r2_scores.csv\n",
      "Fitting regression...\n"
     ]
    },
    {
     "name": "stderr",
     "output_type": "stream",
     "text": [
      "Processing samples:  78%|███████▊  | 157/201 [07:39<02:31,  3.43s/it]"
     ]
    },
    {
     "name": "stdout",
     "output_type": "stream",
     "text": [
      "[WRITE] Saved result from sample_state_combined_county_id_5ppc_500_size_seed_42.pkl to /home/libe2152/optimizedsampling/0_results/usavars/population/cluster_sampling_r2_scores.csv\n",
      "Fitting regression...\n"
     ]
    },
    {
     "name": "stderr",
     "output_type": "stream",
     "text": [
      "Processing samples:  79%|███████▊  | 158/201 [07:41<02:13,  3.10s/it]"
     ]
    },
    {
     "name": "stdout",
     "output_type": "stream",
     "text": [
      "[WRITE] Saved result from sample_state_combined_county_id_5ppc_500_size_seed_456.pkl to /home/libe2152/optimizedsampling/0_results/usavars/population/cluster_sampling_r2_scores.csv\n",
      "Fitting regression...\n"
     ]
    },
    {
     "name": "stderr",
     "output_type": "stream",
     "text": [
      "Processing samples:  79%|███████▉  | 159/201 [07:43<01:49,  2.60s/it]"
     ]
    },
    {
     "name": "stdout",
     "output_type": "stream",
     "text": [
      "[WRITE] Saved result from sample_state_combined_county_id_5ppc_500_size_seed_5678.pkl to /home/libe2152/optimizedsampling/0_results/usavars/population/cluster_sampling_r2_scores.csv\n",
      "Fitting regression...\n"
     ]
    },
    {
     "name": "stderr",
     "output_type": "stream",
     "text": [
      "Processing samples:  80%|███████▉  | 160/201 [07:44<01:33,  2.29s/it]"
     ]
    },
    {
     "name": "stdout",
     "output_type": "stream",
     "text": [
      "[WRITE] Saved result from sample_state_combined_county_id_5ppc_500_size_seed_789.pkl to /home/libe2152/optimizedsampling/0_results/usavars/population/cluster_sampling_r2_scores.csv\n",
      "Fitting regression...\n"
     ]
    },
    {
     "name": "stderr",
     "output_type": "stream",
     "text": [
      "Processing samples:  80%|████████  | 161/201 [07:46<01:25,  2.14s/it]"
     ]
    },
    {
     "name": "stdout",
     "output_type": "stream",
     "text": [
      "[WRITE] Saved result from sample_state_combined_county_id_5ppc_500_size_seed_9101.pkl to /home/libe2152/optimizedsampling/0_results/usavars/population/cluster_sampling_r2_scores.csv\n",
      "Fitting regression...\n"
     ]
    },
    {
     "name": "stderr",
     "output_type": "stream",
     "text": [
      "Processing samples:  81%|████████  | 162/201 [07:51<01:57,  3.00s/it]"
     ]
    },
    {
     "name": "stdout",
     "output_type": "stream",
     "text": [
      "[WRITE] Saved result from sample_state_combined_county_id_5ppc_600_size_seed_1.pkl to /home/libe2152/optimizedsampling/0_results/usavars/population/cluster_sampling_r2_scores.csv\n",
      "Fitting regression...\n"
     ]
    },
    {
     "name": "stderr",
     "output_type": "stream",
     "text": [
      "Processing samples:  81%|████████  | 163/201 [07:57<02:31,  4.00s/it]"
     ]
    },
    {
     "name": "stdout",
     "output_type": "stream",
     "text": [
      "[WRITE] Saved result from sample_state_combined_county_id_5ppc_600_size_seed_1213.pkl to /home/libe2152/optimizedsampling/0_results/usavars/population/cluster_sampling_r2_scores.csv\n",
      "Fitting regression...\n"
     ]
    },
    {
     "name": "stderr",
     "output_type": "stream",
     "text": [
      "Processing samples:  82%|████████▏ | 164/201 [08:04<02:53,  4.69s/it]"
     ]
    },
    {
     "name": "stdout",
     "output_type": "stream",
     "text": [
      "[WRITE] Saved result from sample_state_combined_county_id_5ppc_600_size_seed_123.pkl to /home/libe2152/optimizedsampling/0_results/usavars/population/cluster_sampling_r2_scores.csv\n",
      "Fitting regression...\n"
     ]
    },
    {
     "name": "stderr",
     "output_type": "stream",
     "text": [
      "Processing samples:  82%|████████▏ | 165/201 [08:06<02:25,  4.03s/it]"
     ]
    },
    {
     "name": "stdout",
     "output_type": "stream",
     "text": [
      "[WRITE] Saved result from sample_state_combined_county_id_5ppc_600_size_seed_1234.pkl to /home/libe2152/optimizedsampling/0_results/usavars/population/cluster_sampling_r2_scores.csv\n",
      "Fitting regression...\n"
     ]
    },
    {
     "name": "stderr",
     "output_type": "stream",
     "text": [
      "Processing samples:  83%|████████▎ | 166/201 [08:08<02:01,  3.48s/it]"
     ]
    },
    {
     "name": "stdout",
     "output_type": "stream",
     "text": [
      "[WRITE] Saved result from sample_state_combined_county_id_5ppc_600_size_seed_1415.pkl to /home/libe2152/optimizedsampling/0_results/usavars/population/cluster_sampling_r2_scores.csv\n",
      "Fitting regression...\n"
     ]
    },
    {
     "name": "stderr",
     "output_type": "stream",
     "text": [
      "Processing samples:  83%|████████▎ | 167/201 [08:10<01:41,  2.98s/it]"
     ]
    },
    {
     "name": "stdout",
     "output_type": "stream",
     "text": [
      "[WRITE] Saved result from sample_state_combined_county_id_5ppc_600_size_seed_42.pkl to /home/libe2152/optimizedsampling/0_results/usavars/population/cluster_sampling_r2_scores.csv\n",
      "Fitting regression...\n"
     ]
    },
    {
     "name": "stderr",
     "output_type": "stream",
     "text": [
      "Processing samples:  84%|████████▎ | 168/201 [08:15<02:00,  3.64s/it]"
     ]
    },
    {
     "name": "stdout",
     "output_type": "stream",
     "text": [
      "[WRITE] Saved result from sample_state_combined_county_id_5ppc_600_size_seed_456.pkl to /home/libe2152/optimizedsampling/0_results/usavars/population/cluster_sampling_r2_scores.csv\n",
      "Fitting regression...\n"
     ]
    },
    {
     "name": "stderr",
     "output_type": "stream",
     "text": [
      "Processing samples:  84%|████████▍ | 169/201 [08:21<02:18,  4.32s/it]"
     ]
    },
    {
     "name": "stdout",
     "output_type": "stream",
     "text": [
      "[WRITE] Saved result from sample_state_combined_county_id_5ppc_600_size_seed_5678.pkl to /home/libe2152/optimizedsampling/0_results/usavars/population/cluster_sampling_r2_scores.csv\n",
      "Fitting regression...\n"
     ]
    },
    {
     "name": "stderr",
     "output_type": "stream",
     "text": [
      "Processing samples:  85%|████████▍ | 170/201 [08:26<02:18,  4.47s/it]"
     ]
    },
    {
     "name": "stdout",
     "output_type": "stream",
     "text": [
      "[WRITE] Saved result from sample_state_combined_county_id_5ppc_600_size_seed_789.pkl to /home/libe2152/optimizedsampling/0_results/usavars/population/cluster_sampling_r2_scores.csv\n",
      "Fitting regression...\n"
     ]
    },
    {
     "name": "stderr",
     "output_type": "stream",
     "text": [
      "Processing samples:  85%|████████▌ | 171/201 [08:29<02:00,  4.00s/it]"
     ]
    },
    {
     "name": "stdout",
     "output_type": "stream",
     "text": [
      "[WRITE] Saved result from sample_state_combined_county_id_5ppc_600_size_seed_9101.pkl to /home/libe2152/optimizedsampling/0_results/usavars/population/cluster_sampling_r2_scores.csv\n",
      "Fitting regression...\n"
     ]
    },
    {
     "name": "stderr",
     "output_type": "stream",
     "text": [
      "Processing samples:  86%|████████▌ | 172/201 [08:34<02:03,  4.27s/it]"
     ]
    },
    {
     "name": "stdout",
     "output_type": "stream",
     "text": [
      "[WRITE] Saved result from sample_state_combined_county_id_5ppc_700_size_seed_1.pkl to /home/libe2152/optimizedsampling/0_results/usavars/population/cluster_sampling_r2_scores.csv\n",
      "Fitting regression...\n"
     ]
    },
    {
     "name": "stderr",
     "output_type": "stream",
     "text": [
      "Processing samples:  86%|████████▌ | 173/201 [08:38<01:57,  4.18s/it]"
     ]
    },
    {
     "name": "stdout",
     "output_type": "stream",
     "text": [
      "[WRITE] Saved result from sample_state_combined_county_id_5ppc_700_size_seed_1213.pkl to /home/libe2152/optimizedsampling/0_results/usavars/population/cluster_sampling_r2_scores.csv\n",
      "Fitting regression...\n"
     ]
    },
    {
     "name": "stderr",
     "output_type": "stream",
     "text": [
      "Processing samples:  87%|████████▋ | 174/201 [08:41<01:46,  3.93s/it]"
     ]
    },
    {
     "name": "stdout",
     "output_type": "stream",
     "text": [
      "[WRITE] Saved result from sample_state_combined_county_id_5ppc_700_size_seed_123.pkl to /home/libe2152/optimizedsampling/0_results/usavars/population/cluster_sampling_r2_scores.csv\n",
      "Fitting regression...\n"
     ]
    },
    {
     "name": "stderr",
     "output_type": "stream",
     "text": [
      "Processing samples:  87%|████████▋ | 175/201 [08:45<01:40,  3.85s/it]"
     ]
    },
    {
     "name": "stdout",
     "output_type": "stream",
     "text": [
      "[WRITE] Saved result from sample_state_combined_county_id_5ppc_700_size_seed_1234.pkl to /home/libe2152/optimizedsampling/0_results/usavars/population/cluster_sampling_r2_scores.csv\n",
      "Fitting regression...\n"
     ]
    },
    {
     "name": "stderr",
     "output_type": "stream",
     "text": [
      "Processing samples:  88%|████████▊ | 176/201 [08:47<01:23,  3.35s/it]"
     ]
    },
    {
     "name": "stdout",
     "output_type": "stream",
     "text": [
      "[WRITE] Saved result from sample_state_combined_county_id_5ppc_700_size_seed_1415.pkl to /home/libe2152/optimizedsampling/0_results/usavars/population/cluster_sampling_r2_scores.csv\n",
      "Fitting regression...\n"
     ]
    },
    {
     "name": "stderr",
     "output_type": "stream",
     "text": [
      "Processing samples:  88%|████████▊ | 177/201 [08:50<01:13,  3.06s/it]"
     ]
    },
    {
     "name": "stdout",
     "output_type": "stream",
     "text": [
      "[WRITE] Saved result from sample_state_combined_county_id_5ppc_700_size_seed_42.pkl to /home/libe2152/optimizedsampling/0_results/usavars/population/cluster_sampling_r2_scores.csv\n",
      "Fitting regression...\n"
     ]
    },
    {
     "name": "stderr",
     "output_type": "stream",
     "text": [
      "Processing samples:  89%|████████▊ | 178/201 [08:51<01:01,  2.67s/it]"
     ]
    },
    {
     "name": "stdout",
     "output_type": "stream",
     "text": [
      "[WRITE] Saved result from sample_state_combined_county_id_5ppc_700_size_seed_456.pkl to /home/libe2152/optimizedsampling/0_results/usavars/population/cluster_sampling_r2_scores.csv\n",
      "Fitting regression...\n"
     ]
    },
    {
     "name": "stderr",
     "output_type": "stream",
     "text": [
      "Processing samples:  89%|████████▉ | 179/201 [08:53<00:53,  2.42s/it]"
     ]
    },
    {
     "name": "stdout",
     "output_type": "stream",
     "text": [
      "[WRITE] Saved result from sample_state_combined_county_id_5ppc_700_size_seed_5678.pkl to /home/libe2152/optimizedsampling/0_results/usavars/population/cluster_sampling_r2_scores.csv\n",
      "Fitting regression...\n"
     ]
    },
    {
     "name": "stderr",
     "output_type": "stream",
     "text": [
      "Processing samples:  90%|████████▉ | 180/201 [08:56<00:51,  2.43s/it]"
     ]
    },
    {
     "name": "stdout",
     "output_type": "stream",
     "text": [
      "[WRITE] Saved result from sample_state_combined_county_id_5ppc_700_size_seed_789.pkl to /home/libe2152/optimizedsampling/0_results/usavars/population/cluster_sampling_r2_scores.csv\n",
      "Fitting regression...\n"
     ]
    },
    {
     "name": "stderr",
     "output_type": "stream",
     "text": [
      "Processing samples:  90%|█████████ | 181/201 [08:58<00:49,  2.47s/it]"
     ]
    },
    {
     "name": "stdout",
     "output_type": "stream",
     "text": [
      "[WRITE] Saved result from sample_state_combined_county_id_5ppc_700_size_seed_9101.pkl to /home/libe2152/optimizedsampling/0_results/usavars/population/cluster_sampling_r2_scores.csv\n",
      "Fitting regression...\n"
     ]
    },
    {
     "name": "stderr",
     "output_type": "stream",
     "text": [
      "Processing samples:  91%|█████████ | 182/201 [09:02<00:52,  2.77s/it]"
     ]
    },
    {
     "name": "stdout",
     "output_type": "stream",
     "text": [
      "[WRITE] Saved result from sample_state_combined_county_id_5ppc_800_size_seed_1.pkl to /home/libe2152/optimizedsampling/0_results/usavars/population/cluster_sampling_r2_scores.csv\n",
      "Fitting regression...\n"
     ]
    },
    {
     "name": "stderr",
     "output_type": "stream",
     "text": [
      "Processing samples:  91%|█████████ | 183/201 [09:05<00:51,  2.85s/it]"
     ]
    },
    {
     "name": "stdout",
     "output_type": "stream",
     "text": [
      "[WRITE] Saved result from sample_state_combined_county_id_5ppc_800_size_seed_1213.pkl to /home/libe2152/optimizedsampling/0_results/usavars/population/cluster_sampling_r2_scores.csv\n",
      "Fitting regression...\n"
     ]
    },
    {
     "name": "stderr",
     "output_type": "stream",
     "text": [
      "Processing samples:  92%|█████████▏| 184/201 [09:07<00:48,  2.83s/it]"
     ]
    },
    {
     "name": "stdout",
     "output_type": "stream",
     "text": [
      "[WRITE] Saved result from sample_state_combined_county_id_5ppc_800_size_seed_123.pkl to /home/libe2152/optimizedsampling/0_results/usavars/population/cluster_sampling_r2_scores.csv\n",
      "Fitting regression...\n"
     ]
    },
    {
     "name": "stderr",
     "output_type": "stream",
     "text": [
      "Processing samples:  92%|█████████▏| 185/201 [09:09<00:41,  2.57s/it]"
     ]
    },
    {
     "name": "stdout",
     "output_type": "stream",
     "text": [
      "[WRITE] Saved result from sample_state_combined_county_id_5ppc_800_size_seed_1234.pkl to /home/libe2152/optimizedsampling/0_results/usavars/population/cluster_sampling_r2_scores.csv\n",
      "Fitting regression...\n"
     ]
    },
    {
     "name": "stderr",
     "output_type": "stream",
     "text": [
      "Processing samples:  93%|█████████▎| 186/201 [09:12<00:37,  2.48s/it]"
     ]
    },
    {
     "name": "stdout",
     "output_type": "stream",
     "text": [
      "[WRITE] Saved result from sample_state_combined_county_id_5ppc_800_size_seed_1415.pkl to /home/libe2152/optimizedsampling/0_results/usavars/population/cluster_sampling_r2_scores.csv\n",
      "Fitting regression...\n"
     ]
    },
    {
     "name": "stderr",
     "output_type": "stream",
     "text": [
      "Processing samples:  93%|█████████▎| 187/201 [09:14<00:32,  2.34s/it]"
     ]
    },
    {
     "name": "stdout",
     "output_type": "stream",
     "text": [
      "[WRITE] Saved result from sample_state_combined_county_id_5ppc_800_size_seed_42.pkl to /home/libe2152/optimizedsampling/0_results/usavars/population/cluster_sampling_r2_scores.csv\n",
      "Fitting regression...\n"
     ]
    },
    {
     "name": "stderr",
     "output_type": "stream",
     "text": [
      "Processing samples:  94%|█████████▎| 188/201 [09:16<00:29,  2.27s/it]"
     ]
    },
    {
     "name": "stdout",
     "output_type": "stream",
     "text": [
      "[WRITE] Saved result from sample_state_combined_county_id_5ppc_800_size_seed_456.pkl to /home/libe2152/optimizedsampling/0_results/usavars/population/cluster_sampling_r2_scores.csv\n",
      "Fitting regression...\n"
     ]
    },
    {
     "name": "stderr",
     "output_type": "stream",
     "text": [
      "Processing samples:  94%|█████████▍| 189/201 [09:18<00:25,  2.09s/it]"
     ]
    },
    {
     "name": "stdout",
     "output_type": "stream",
     "text": [
      "[WRITE] Saved result from sample_state_combined_county_id_5ppc_800_size_seed_5678.pkl to /home/libe2152/optimizedsampling/0_results/usavars/population/cluster_sampling_r2_scores.csv\n",
      "Fitting regression...\n"
     ]
    },
    {
     "name": "stderr",
     "output_type": "stream",
     "text": [
      "Processing samples:  95%|█████████▍| 190/201 [09:20<00:25,  2.31s/it]"
     ]
    },
    {
     "name": "stdout",
     "output_type": "stream",
     "text": [
      "[WRITE] Saved result from sample_state_combined_county_id_5ppc_800_size_seed_789.pkl to /home/libe2152/optimizedsampling/0_results/usavars/population/cluster_sampling_r2_scores.csv\n",
      "Fitting regression...\n"
     ]
    },
    {
     "name": "stderr",
     "output_type": "stream",
     "text": [
      "Processing samples:  95%|█████████▌| 191/201 [09:22<00:22,  2.25s/it]"
     ]
    },
    {
     "name": "stdout",
     "output_type": "stream",
     "text": [
      "[WRITE] Saved result from sample_state_combined_county_id_5ppc_800_size_seed_9101.pkl to /home/libe2152/optimizedsampling/0_results/usavars/population/cluster_sampling_r2_scores.csv\n",
      "Fitting regression...\n"
     ]
    },
    {
     "name": "stderr",
     "output_type": "stream",
     "text": [
      "Processing samples:  96%|█████████▌| 192/201 [09:25<00:21,  2.33s/it]"
     ]
    },
    {
     "name": "stdout",
     "output_type": "stream",
     "text": [
      "[WRITE] Saved result from sample_state_combined_county_id_5ppc_900_size_seed_1.pkl to /home/libe2152/optimizedsampling/0_results/usavars/population/cluster_sampling_r2_scores.csv\n",
      "Fitting regression...\n"
     ]
    },
    {
     "name": "stderr",
     "output_type": "stream",
     "text": [
      "Processing samples:  96%|█████████▌| 193/201 [09:27<00:17,  2.19s/it]"
     ]
    },
    {
     "name": "stdout",
     "output_type": "stream",
     "text": [
      "[WRITE] Saved result from sample_state_combined_county_id_5ppc_900_size_seed_1213.pkl to /home/libe2152/optimizedsampling/0_results/usavars/population/cluster_sampling_r2_scores.csv\n",
      "Fitting regression...\n"
     ]
    },
    {
     "name": "stderr",
     "output_type": "stream",
     "text": [
      "Processing samples:  97%|█████████▋| 194/201 [09:29<00:14,  2.11s/it]"
     ]
    },
    {
     "name": "stdout",
     "output_type": "stream",
     "text": [
      "[WRITE] Saved result from sample_state_combined_county_id_5ppc_900_size_seed_123.pkl to /home/libe2152/optimizedsampling/0_results/usavars/population/cluster_sampling_r2_scores.csv\n",
      "Fitting regression...\n"
     ]
    },
    {
     "name": "stderr",
     "output_type": "stream",
     "text": [
      "Processing samples:  97%|█████████▋| 195/201 [09:31<00:12,  2.06s/it]"
     ]
    },
    {
     "name": "stdout",
     "output_type": "stream",
     "text": [
      "[WRITE] Saved result from sample_state_combined_county_id_5ppc_900_size_seed_1234.pkl to /home/libe2152/optimizedsampling/0_results/usavars/population/cluster_sampling_r2_scores.csv\n",
      "Fitting regression...\n"
     ]
    },
    {
     "name": "stderr",
     "output_type": "stream",
     "text": [
      "Processing samples:  98%|█████████▊| 196/201 [09:33<00:11,  2.24s/it]"
     ]
    },
    {
     "name": "stdout",
     "output_type": "stream",
     "text": [
      "[WRITE] Saved result from sample_state_combined_county_id_5ppc_900_size_seed_1415.pkl to /home/libe2152/optimizedsampling/0_results/usavars/population/cluster_sampling_r2_scores.csv\n",
      "Fitting regression...\n"
     ]
    },
    {
     "name": "stderr",
     "output_type": "stream",
     "text": [
      "Processing samples:  98%|█████████▊| 197/201 [09:36<00:09,  2.32s/it]"
     ]
    },
    {
     "name": "stdout",
     "output_type": "stream",
     "text": [
      "[WRITE] Saved result from sample_state_combined_county_id_5ppc_900_size_seed_42.pkl to /home/libe2152/optimizedsampling/0_results/usavars/population/cluster_sampling_r2_scores.csv\n",
      "Fitting regression...\n"
     ]
    },
    {
     "name": "stderr",
     "output_type": "stream",
     "text": [
      "Processing samples:  99%|█████████▊| 198/201 [09:38<00:07,  2.39s/it]"
     ]
    },
    {
     "name": "stdout",
     "output_type": "stream",
     "text": [
      "[WRITE] Saved result from sample_state_combined_county_id_5ppc_900_size_seed_456.pkl to /home/libe2152/optimizedsampling/0_results/usavars/population/cluster_sampling_r2_scores.csv\n",
      "Fitting regression...\n"
     ]
    },
    {
     "name": "stderr",
     "output_type": "stream",
     "text": [
      "Processing samples:  99%|█████████▉| 199/201 [09:41<00:04,  2.47s/it]"
     ]
    },
    {
     "name": "stdout",
     "output_type": "stream",
     "text": [
      "[WRITE] Saved result from sample_state_combined_county_id_5ppc_900_size_seed_5678.pkl to /home/libe2152/optimizedsampling/0_results/usavars/population/cluster_sampling_r2_scores.csv\n",
      "Fitting regression...\n"
     ]
    },
    {
     "name": "stderr",
     "output_type": "stream",
     "text": [
      "Processing samples: 100%|█████████▉| 200/201 [09:43<00:02,  2.34s/it]"
     ]
    },
    {
     "name": "stdout",
     "output_type": "stream",
     "text": [
      "[WRITE] Saved result from sample_state_combined_county_id_5ppc_900_size_seed_789.pkl to /home/libe2152/optimizedsampling/0_results/usavars/population/cluster_sampling_r2_scores.csv\n",
      "Fitting regression...\n"
     ]
    },
    {
     "name": "stderr",
     "output_type": "stream",
     "text": [
      "Processing samples: 100%|██████████| 201/201 [09:45<00:00,  2.91s/it]"
     ]
    },
    {
     "name": "stdout",
     "output_type": "stream",
     "text": [
      "[WRITE] Saved result from sample_state_combined_county_id_5ppc_900_size_seed_9101.pkl to /home/libe2152/optimizedsampling/0_results/usavars/population/cluster_sampling_r2_scores.csv\n",
      "Results written incrementally to /home/libe2152/optimizedsampling/0_results/usavars/population/cluster_sampling_r2_scores.csv\n",
      "Loading features from /home/libe2152/optimizedsampling/0_data/features/usavars/CONTUS_UAR_population_with_splits_torchgeo4096.pkl ...\n"
     ]
    },
    {
     "name": "stderr",
     "output_type": "stream",
     "text": [
      "\n"
     ]
    },
    {
     "name": "stdout",
     "output_type": "stream",
     "text": [
      "Processing samples from /home/libe2152/optimizedsampling/0_data/initial_samples/usavars/population/convenience_sampling/urban_based ...\n"
     ]
    },
    {
     "name": "stderr",
     "output_type": "stream",
     "text": [
      "Processing samples: 100%|██████████| 403/403 [00:00<00:00, 7785.26it/s]"
     ]
    },
    {
     "name": "stdout",
     "output_type": "stream",
     "text": [
      "[WARNING] Failed to load IDS_top10_urban_1000_points_probabilistic_1000_size_seed_1.pkl: list indices must be integers or slices, not str\n",
      "[WARNING] Failed to load IDS_top10_urban_1000_points_probabilistic_1000_size_seed_1213.pkl: list indices must be integers or slices, not str\n",
      "[WARNING] Failed to load IDS_top10_urban_1000_points_probabilistic_1000_size_seed_123.pkl: list indices must be integers or slices, not str\n",
      "[WARNING] Failed to load IDS_top10_urban_1000_points_probabilistic_1000_size_seed_1234.pkl: list indices must be integers or slices, not str\n",
      "[WARNING] Failed to load IDS_top10_urban_1000_points_probabilistic_1000_size_seed_1415.pkl: list indices must be integers or slices, not str\n",
      "[WARNING] Failed to load IDS_top10_urban_1000_points_probabilistic_1000_size_seed_42.pkl: list indices must be integers or slices, not str\n",
      "[WARNING] Failed to load IDS_top10_urban_1000_points_probabilistic_1000_size_seed_456.pkl: list indices must be integers or slices, not str\n",
      "[WARNING] Failed to load IDS_top10_urban_1000_points_probabilistic_1000_size_seed_5678.pkl: list indices must be integers or slices, not str\n",
      "[WARNING] Failed to load IDS_top10_urban_1000_points_probabilistic_1000_size_seed_789.pkl: list indices must be integers or slices, not str\n",
      "[WARNING] Failed to load IDS_top10_urban_1000_points_probabilistic_1000_size_seed_9101.pkl: list indices must be integers or slices, not str\n",
      "[WARNING] Failed to load IDS_top10_urban_1000_points_probabilistic_seed_1.pkl: list indices must be integers or slices, not str\n",
      "[WARNING] Failed to load IDS_top10_urban_1000_points_probabilistic_seed_1213.pkl: list indices must be integers or slices, not str\n",
      "[WARNING] Failed to load IDS_top10_urban_1000_points_probabilistic_seed_123.pkl: list indices must be integers or slices, not str\n",
      "[WARNING] Failed to load IDS_top10_urban_1000_points_probabilistic_seed_1234.pkl: list indices must be integers or slices, not str\n",
      "[WARNING] Failed to load IDS_top10_urban_1000_points_probabilistic_seed_1415.pkl: list indices must be integers or slices, not str\n",
      "[WARNING] Failed to load IDS_top10_urban_1000_points_probabilistic_seed_42.pkl: list indices must be integers or slices, not str\n",
      "[WARNING] Failed to load IDS_top10_urban_1000_points_probabilistic_seed_456.pkl: list indices must be integers or slices, not str\n",
      "[WARNING] Failed to load IDS_top10_urban_1000_points_probabilistic_seed_5678.pkl: list indices must be integers or slices, not str\n",
      "[WARNING] Failed to load IDS_top10_urban_1000_points_probabilistic_seed_789.pkl: list indices must be integers or slices, not str\n",
      "[WARNING] Failed to load IDS_top10_urban_1000_points_probabilistic_seed_9101.pkl: list indices must be integers or slices, not str\n",
      "[WARNING] Failed to load IDS_top10_urban_100_points_probabilistic_100_size_seed_1.pkl: list indices must be integers or slices, not str\n",
      "[WARNING] Failed to load IDS_top10_urban_100_points_probabilistic_100_size_seed_1213.pkl: list indices must be integers or slices, not str\n",
      "[WARNING] Failed to load IDS_top10_urban_100_points_probabilistic_100_size_seed_123.pkl: list indices must be integers or slices, not str\n",
      "[WARNING] Failed to load IDS_top10_urban_100_points_probabilistic_100_size_seed_1234.pkl: list indices must be integers or slices, not str\n",
      "[WARNING] Failed to load IDS_top10_urban_100_points_probabilistic_100_size_seed_1415.pkl: list indices must be integers or slices, not str\n",
      "[WARNING] Failed to load IDS_top10_urban_100_points_probabilistic_100_size_seed_42.pkl: list indices must be integers or slices, not str\n",
      "[WARNING] Failed to load IDS_top10_urban_100_points_probabilistic_100_size_seed_456.pkl: list indices must be integers or slices, not str\n",
      "[WARNING] Failed to load IDS_top10_urban_100_points_probabilistic_100_size_seed_5678.pkl: list indices must be integers or slices, not str\n",
      "[WARNING] Failed to load IDS_top10_urban_100_points_probabilistic_100_size_seed_789.pkl: list indices must be integers or slices, not str\n",
      "[WARNING] Failed to load IDS_top10_urban_100_points_probabilistic_100_size_seed_9101.pkl: list indices must be integers or slices, not str\n",
      "[WARNING] Failed to load IDS_top10_urban_100_points_probabilistic_seed_1.pkl: list indices must be integers or slices, not str\n",
      "[WARNING] Failed to load IDS_top10_urban_100_points_probabilistic_seed_1213.pkl: list indices must be integers or slices, not str\n",
      "[WARNING] Failed to load IDS_top10_urban_100_points_probabilistic_seed_123.pkl: list indices must be integers or slices, not str\n",
      "[WARNING] Failed to load IDS_top10_urban_100_points_probabilistic_seed_1234.pkl: list indices must be integers or slices, not str\n",
      "[WARNING] Failed to load IDS_top10_urban_100_points_probabilistic_seed_1415.pkl: list indices must be integers or slices, not str\n",
      "[WARNING] Failed to load IDS_top10_urban_100_points_probabilistic_seed_42.pkl: list indices must be integers or slices, not str\n",
      "[WARNING] Failed to load IDS_top10_urban_100_points_probabilistic_seed_456.pkl: list indices must be integers or slices, not str\n",
      "[WARNING] Failed to load IDS_top10_urban_100_points_probabilistic_seed_5678.pkl: list indices must be integers or slices, not str\n",
      "[WARNING] Failed to load IDS_top10_urban_100_points_probabilistic_seed_789.pkl: list indices must be integers or slices, not str\n",
      "[WARNING] Failed to load IDS_top10_urban_100_points_probabilistic_seed_9101.pkl: list indices must be integers or slices, not str\n",
      "[WARNING] Failed to load IDS_top10_urban_10_points_probabilistic_seed_1.pkl: list indices must be integers or slices, not str\n",
      "[WARNING] Failed to load IDS_top10_urban_10_points_probabilistic_seed_42.pkl: list indices must be integers or slices, not str\n",
      "[WARNING] Failed to load IDS_top10_urban_200_points_probabilistic_200_size_seed_1.pkl: list indices must be integers or slices, not str\n",
      "[WARNING] Failed to load IDS_top10_urban_200_points_probabilistic_200_size_seed_1213.pkl: list indices must be integers or slices, not str\n",
      "[WARNING] Failed to load IDS_top10_urban_200_points_probabilistic_200_size_seed_123.pkl: list indices must be integers or slices, not str\n",
      "[WARNING] Failed to load IDS_top10_urban_200_points_probabilistic_200_size_seed_1234.pkl: list indices must be integers or slices, not str\n",
      "[WARNING] Failed to load IDS_top10_urban_200_points_probabilistic_200_size_seed_1415.pkl: list indices must be integers or slices, not str\n",
      "[WARNING] Failed to load IDS_top10_urban_200_points_probabilistic_200_size_seed_42.pkl: list indices must be integers or slices, not str\n",
      "[WARNING] Failed to load IDS_top10_urban_200_points_probabilistic_200_size_seed_456.pkl: list indices must be integers or slices, not str\n",
      "[WARNING] Failed to load IDS_top10_urban_200_points_probabilistic_200_size_seed_5678.pkl: list indices must be integers or slices, not str\n",
      "[WARNING] Failed to load IDS_top10_urban_200_points_probabilistic_200_size_seed_789.pkl: list indices must be integers or slices, not str\n",
      "[WARNING] Failed to load IDS_top10_urban_200_points_probabilistic_200_size_seed_9101.pkl: list indices must be integers or slices, not str\n",
      "[WARNING] Failed to load IDS_top10_urban_200_points_probabilistic_seed_1.pkl: list indices must be integers or slices, not str\n",
      "[WARNING] Failed to load IDS_top10_urban_200_points_probabilistic_seed_1213.pkl: list indices must be integers or slices, not str\n",
      "[WARNING] Failed to load IDS_top10_urban_200_points_probabilistic_seed_123.pkl: list indices must be integers or slices, not str\n",
      "[WARNING] Failed to load IDS_top10_urban_200_points_probabilistic_seed_1234.pkl: list indices must be integers or slices, not str\n",
      "[WARNING] Failed to load IDS_top10_urban_200_points_probabilistic_seed_1415.pkl: list indices must be integers or slices, not str\n",
      "[WARNING] Failed to load IDS_top10_urban_200_points_probabilistic_seed_42.pkl: list indices must be integers or slices, not str\n",
      "[WARNING] Failed to load IDS_top10_urban_200_points_probabilistic_seed_456.pkl: list indices must be integers or slices, not str\n",
      "[WARNING] Failed to load IDS_top10_urban_200_points_probabilistic_seed_5678.pkl: list indices must be integers or slices, not str\n",
      "[WARNING] Failed to load IDS_top10_urban_200_points_probabilistic_seed_789.pkl: list indices must be integers or slices, not str\n",
      "[WARNING] Failed to load IDS_top10_urban_200_points_probabilistic_seed_9101.pkl: list indices must be integers or slices, not str\n",
      "[WARNING] Failed to load IDS_top10_urban_300_points_probabilistic_300_size_seed_1.pkl: list indices must be integers or slices, not str\n",
      "[WARNING] Failed to load IDS_top10_urban_300_points_probabilistic_300_size_seed_1213.pkl: list indices must be integers or slices, not str\n",
      "[WARNING] Failed to load IDS_top10_urban_300_points_probabilistic_300_size_seed_123.pkl: list indices must be integers or slices, not str\n",
      "[WARNING] Failed to load IDS_top10_urban_300_points_probabilistic_300_size_seed_1234.pkl: list indices must be integers or slices, not str\n",
      "[WARNING] Failed to load IDS_top10_urban_300_points_probabilistic_300_size_seed_1415.pkl: list indices must be integers or slices, not str\n",
      "[WARNING] Failed to load IDS_top10_urban_300_points_probabilistic_300_size_seed_42.pkl: list indices must be integers or slices, not str\n",
      "[WARNING] Failed to load IDS_top10_urban_300_points_probabilistic_300_size_seed_456.pkl: list indices must be integers or slices, not str\n",
      "[WARNING] Failed to load IDS_top10_urban_300_points_probabilistic_300_size_seed_5678.pkl: list indices must be integers or slices, not str\n",
      "[WARNING] Failed to load IDS_top10_urban_300_points_probabilistic_300_size_seed_789.pkl: list indices must be integers or slices, not str\n",
      "[WARNING] Failed to load IDS_top10_urban_300_points_probabilistic_300_size_seed_9101.pkl: list indices must be integers or slices, not str\n",
      "[WARNING] Failed to load IDS_top10_urban_300_points_probabilistic_seed_1.pkl: list indices must be integers or slices, not str\n",
      "[WARNING] Failed to load IDS_top10_urban_300_points_probabilistic_seed_1213.pkl: list indices must be integers or slices, not str\n",
      "[WARNING] Failed to load IDS_top10_urban_300_points_probabilistic_seed_123.pkl: list indices must be integers or slices, not str\n",
      "[WARNING] Failed to load IDS_top10_urban_300_points_probabilistic_seed_1234.pkl: list indices must be integers or slices, not str\n",
      "[WARNING] Failed to load IDS_top10_urban_300_points_probabilistic_seed_1415.pkl: list indices must be integers or slices, not str\n",
      "[WARNING] Failed to load IDS_top10_urban_300_points_probabilistic_seed_42.pkl: list indices must be integers or slices, not str\n",
      "[WARNING] Failed to load IDS_top10_urban_300_points_probabilistic_seed_456.pkl: list indices must be integers or slices, not str\n",
      "[WARNING] Failed to load IDS_top10_urban_300_points_probabilistic_seed_5678.pkl: list indices must be integers or slices, not str\n",
      "[WARNING] Failed to load IDS_top10_urban_300_points_probabilistic_seed_789.pkl: list indices must be integers or slices, not str\n",
      "[WARNING] Failed to load IDS_top10_urban_300_points_probabilistic_seed_9101.pkl: list indices must be integers or slices, not str\n",
      "[WARNING] Failed to load IDS_top10_urban_400_points_probabilistic_400_size_seed_1.pkl: list indices must be integers or slices, not str\n",
      "[WARNING] Failed to load IDS_top10_urban_400_points_probabilistic_400_size_seed_1213.pkl: list indices must be integers or slices, not str\n",
      "[WARNING] Failed to load IDS_top10_urban_400_points_probabilistic_400_size_seed_123.pkl: list indices must be integers or slices, not str\n",
      "[WARNING] Failed to load IDS_top10_urban_400_points_probabilistic_400_size_seed_1234.pkl: list indices must be integers or slices, not str\n",
      "[WARNING] Failed to load IDS_top10_urban_400_points_probabilistic_400_size_seed_1415.pkl: list indices must be integers or slices, not str\n",
      "[WARNING] Failed to load IDS_top10_urban_400_points_probabilistic_400_size_seed_42.pkl: list indices must be integers or slices, not str\n",
      "[WARNING] Failed to load IDS_top10_urban_400_points_probabilistic_400_size_seed_456.pkl: list indices must be integers or slices, not str\n",
      "[WARNING] Failed to load IDS_top10_urban_400_points_probabilistic_400_size_seed_5678.pkl: list indices must be integers or slices, not str\n",
      "[WARNING] Failed to load IDS_top10_urban_400_points_probabilistic_400_size_seed_789.pkl: list indices must be integers or slices, not str\n",
      "[WARNING] Failed to load IDS_top10_urban_400_points_probabilistic_400_size_seed_9101.pkl: list indices must be integers or slices, not str\n",
      "[WARNING] Failed to load IDS_top10_urban_400_points_probabilistic_seed_1.pkl: list indices must be integers or slices, not str\n",
      "[WARNING] Failed to load IDS_top10_urban_400_points_probabilistic_seed_1213.pkl: list indices must be integers or slices, not str\n",
      "[WARNING] Failed to load IDS_top10_urban_400_points_probabilistic_seed_123.pkl: list indices must be integers or slices, not str\n",
      "[WARNING] Failed to load IDS_top10_urban_400_points_probabilistic_seed_1234.pkl: list indices must be integers or slices, not str\n",
      "[WARNING] Failed to load IDS_top10_urban_400_points_probabilistic_seed_1415.pkl: list indices must be integers or slices, not str\n",
      "[WARNING] Failed to load IDS_top10_urban_400_points_probabilistic_seed_42.pkl: list indices must be integers or slices, not str\n",
      "[WARNING] Failed to load IDS_top10_urban_400_points_probabilistic_seed_456.pkl: list indices must be integers or slices, not str\n",
      "[WARNING] Failed to load IDS_top10_urban_400_points_probabilistic_seed_5678.pkl: list indices must be integers or slices, not str\n",
      "[WARNING] Failed to load IDS_top10_urban_400_points_probabilistic_seed_789.pkl: list indices must be integers or slices, not str\n",
      "[WARNING] Failed to load IDS_top10_urban_400_points_probabilistic_seed_9101.pkl: list indices must be integers or slices, not str\n",
      "[WARNING] Failed to load IDS_top10_urban_500_points_probabilistic_500_size_seed_1.pkl: list indices must be integers or slices, not str\n",
      "[WARNING] Failed to load IDS_top10_urban_500_points_probabilistic_500_size_seed_1213.pkl: list indices must be integers or slices, not str\n",
      "[WARNING] Failed to load IDS_top10_urban_500_points_probabilistic_500_size_seed_123.pkl: list indices must be integers or slices, not str\n",
      "[WARNING] Failed to load IDS_top10_urban_500_points_probabilistic_500_size_seed_1234.pkl: list indices must be integers or slices, not str\n",
      "[WARNING] Failed to load IDS_top10_urban_500_points_probabilistic_500_size_seed_1415.pkl: list indices must be integers or slices, not str\n",
      "[WARNING] Failed to load IDS_top10_urban_500_points_probabilistic_500_size_seed_42.pkl: list indices must be integers or slices, not str\n",
      "[WARNING] Failed to load IDS_top10_urban_500_points_probabilistic_500_size_seed_456.pkl: list indices must be integers or slices, not str\n",
      "[WARNING] Failed to load IDS_top10_urban_500_points_probabilistic_500_size_seed_5678.pkl: list indices must be integers or slices, not str\n",
      "[WARNING] Failed to load IDS_top10_urban_500_points_probabilistic_500_size_seed_789.pkl: list indices must be integers or slices, not str\n",
      "[WARNING] Failed to load IDS_top10_urban_500_points_probabilistic_500_size_seed_9101.pkl: list indices must be integers or slices, not str\n",
      "[WARNING] Failed to load IDS_top10_urban_500_points_probabilistic_seed_1.pkl: list indices must be integers or slices, not str\n",
      "[WARNING] Failed to load IDS_top10_urban_500_points_probabilistic_seed_1213.pkl: list indices must be integers or slices, not str\n",
      "[WARNING] Failed to load IDS_top10_urban_500_points_probabilistic_seed_123.pkl: list indices must be integers or slices, not str\n",
      "[WARNING] Failed to load IDS_top10_urban_500_points_probabilistic_seed_1234.pkl: list indices must be integers or slices, not str\n",
      "[WARNING] Failed to load IDS_top10_urban_500_points_probabilistic_seed_1415.pkl: list indices must be integers or slices, not str\n",
      "[WARNING] Failed to load IDS_top10_urban_500_points_probabilistic_seed_42.pkl: list indices must be integers or slices, not str\n",
      "[WARNING] Failed to load IDS_top10_urban_500_points_probabilistic_seed_456.pkl: list indices must be integers or slices, not str\n",
      "[WARNING] Failed to load IDS_top10_urban_500_points_probabilistic_seed_5678.pkl: list indices must be integers or slices, not str\n",
      "[WARNING] Failed to load IDS_top10_urban_500_points_probabilistic_seed_789.pkl: list indices must be integers or slices, not str\n",
      "[WARNING] Failed to load IDS_top10_urban_500_points_probabilistic_seed_9101.pkl: list indices must be integers or slices, not str\n",
      "[WARNING] Failed to load IDS_top10_urban_600_points_probabilistic_600_size_seed_1.pkl: list indices must be integers or slices, not str\n",
      "[WARNING] Failed to load IDS_top10_urban_600_points_probabilistic_600_size_seed_1213.pkl: list indices must be integers or slices, not str\n",
      "[WARNING] Failed to load IDS_top10_urban_600_points_probabilistic_600_size_seed_123.pkl: list indices must be integers or slices, not str\n",
      "[WARNING] Failed to load IDS_top10_urban_600_points_probabilistic_600_size_seed_1234.pkl: list indices must be integers or slices, not str\n",
      "[WARNING] Failed to load IDS_top10_urban_600_points_probabilistic_600_size_seed_1415.pkl: list indices must be integers or slices, not str\n",
      "[WARNING] Failed to load IDS_top10_urban_600_points_probabilistic_600_size_seed_42.pkl: list indices must be integers or slices, not str\n",
      "[WARNING] Failed to load IDS_top10_urban_600_points_probabilistic_600_size_seed_456.pkl: list indices must be integers or slices, not str\n",
      "[WARNING] Failed to load IDS_top10_urban_600_points_probabilistic_600_size_seed_5678.pkl: list indices must be integers or slices, not str\n",
      "[WARNING] Failed to load IDS_top10_urban_600_points_probabilistic_600_size_seed_789.pkl: list indices must be integers or slices, not str\n",
      "[WARNING] Failed to load IDS_top10_urban_600_points_probabilistic_600_size_seed_9101.pkl: list indices must be integers or slices, not str\n",
      "[WARNING] Failed to load IDS_top10_urban_600_points_probabilistic_seed_1.pkl: list indices must be integers or slices, not str\n",
      "[WARNING] Failed to load IDS_top10_urban_600_points_probabilistic_seed_1213.pkl: list indices must be integers or slices, not str\n",
      "[WARNING] Failed to load IDS_top10_urban_600_points_probabilistic_seed_123.pkl: list indices must be integers or slices, not str\n",
      "[WARNING] Failed to load IDS_top10_urban_600_points_probabilistic_seed_1234.pkl: list indices must be integers or slices, not str\n",
      "[WARNING] Failed to load IDS_top10_urban_600_points_probabilistic_seed_1415.pkl: list indices must be integers or slices, not str\n",
      "[WARNING] Failed to load IDS_top10_urban_600_points_probabilistic_seed_42.pkl: list indices must be integers or slices, not str\n",
      "[WARNING] Failed to load IDS_top10_urban_600_points_probabilistic_seed_456.pkl: list indices must be integers or slices, not str\n",
      "[WARNING] Failed to load IDS_top10_urban_600_points_probabilistic_seed_5678.pkl: list indices must be integers or slices, not str\n",
      "[WARNING] Failed to load IDS_top10_urban_600_points_probabilistic_seed_789.pkl: list indices must be integers or slices, not str\n",
      "[WARNING] Failed to load IDS_top10_urban_600_points_probabilistic_seed_9101.pkl: list indices must be integers or slices, not str\n",
      "[WARNING] Failed to load IDS_top10_urban_700_points_probabilistic_700_size_seed_1.pkl: list indices must be integers or slices, not str\n",
      "[WARNING] Failed to load IDS_top10_urban_700_points_probabilistic_700_size_seed_1213.pkl: list indices must be integers or slices, not str\n",
      "[WARNING] Failed to load IDS_top10_urban_700_points_probabilistic_700_size_seed_123.pkl: list indices must be integers or slices, not str\n",
      "[WARNING] Failed to load IDS_top10_urban_700_points_probabilistic_700_size_seed_1234.pkl: list indices must be integers or slices, not str\n",
      "[WARNING] Failed to load IDS_top10_urban_700_points_probabilistic_700_size_seed_1415.pkl: list indices must be integers or slices, not str\n",
      "[WARNING] Failed to load IDS_top10_urban_700_points_probabilistic_700_size_seed_42.pkl: list indices must be integers or slices, not str\n",
      "[WARNING] Failed to load IDS_top10_urban_700_points_probabilistic_700_size_seed_456.pkl: list indices must be integers or slices, not str\n",
      "[WARNING] Failed to load IDS_top10_urban_700_points_probabilistic_700_size_seed_5678.pkl: list indices must be integers or slices, not str\n",
      "[WARNING] Failed to load IDS_top10_urban_700_points_probabilistic_700_size_seed_789.pkl: list indices must be integers or slices, not str\n",
      "[WARNING] Failed to load IDS_top10_urban_700_points_probabilistic_700_size_seed_9101.pkl: list indices must be integers or slices, not str\n",
      "[WARNING] Failed to load IDS_top10_urban_700_points_probabilistic_seed_1.pkl: list indices must be integers or slices, not str\n",
      "[WARNING] Failed to load IDS_top10_urban_700_points_probabilistic_seed_1213.pkl: list indices must be integers or slices, not str\n",
      "[WARNING] Failed to load IDS_top10_urban_700_points_probabilistic_seed_123.pkl: list indices must be integers or slices, not str\n",
      "[WARNING] Failed to load IDS_top10_urban_700_points_probabilistic_seed_1234.pkl: list indices must be integers or slices, not str\n",
      "[WARNING] Failed to load IDS_top10_urban_700_points_probabilistic_seed_1415.pkl: list indices must be integers or slices, not str\n",
      "[WARNING] Failed to load IDS_top10_urban_700_points_probabilistic_seed_42.pkl: list indices must be integers or slices, not str\n",
      "[WARNING] Failed to load IDS_top10_urban_700_points_probabilistic_seed_456.pkl: list indices must be integers or slices, not str\n",
      "[WARNING] Failed to load IDS_top10_urban_700_points_probabilistic_seed_5678.pkl: list indices must be integers or slices, not str\n",
      "[WARNING] Failed to load IDS_top10_urban_700_points_probabilistic_seed_789.pkl: list indices must be integers or slices, not str\n",
      "[WARNING] Failed to load IDS_top10_urban_700_points_probabilistic_seed_9101.pkl: list indices must be integers or slices, not str\n",
      "[WARNING] Failed to load IDS_top10_urban_800_points_probabilistic_800_size_seed_1.pkl: list indices must be integers or slices, not str\n",
      "[WARNING] Failed to load IDS_top10_urban_800_points_probabilistic_800_size_seed_1213.pkl: list indices must be integers or slices, not str\n",
      "[WARNING] Failed to load IDS_top10_urban_800_points_probabilistic_800_size_seed_123.pkl: list indices must be integers or slices, not str\n",
      "[WARNING] Failed to load IDS_top10_urban_800_points_probabilistic_800_size_seed_1234.pkl: list indices must be integers or slices, not str\n",
      "[WARNING] Failed to load IDS_top10_urban_800_points_probabilistic_800_size_seed_1415.pkl: list indices must be integers or slices, not str\n",
      "[WARNING] Failed to load IDS_top10_urban_800_points_probabilistic_800_size_seed_42.pkl: list indices must be integers or slices, not str\n",
      "[WARNING] Failed to load IDS_top10_urban_800_points_probabilistic_800_size_seed_456.pkl: list indices must be integers or slices, not str\n",
      "[WARNING] Failed to load IDS_top10_urban_800_points_probabilistic_800_size_seed_5678.pkl: list indices must be integers or slices, not str\n",
      "[WARNING] Failed to load IDS_top10_urban_800_points_probabilistic_800_size_seed_789.pkl: list indices must be integers or slices, not str\n",
      "[WARNING] Failed to load IDS_top10_urban_800_points_probabilistic_800_size_seed_9101.pkl: list indices must be integers or slices, not str\n",
      "[WARNING] Failed to load IDS_top10_urban_800_points_probabilistic_seed_1.pkl: list indices must be integers or slices, not str\n",
      "[WARNING] Failed to load IDS_top10_urban_800_points_probabilistic_seed_1213.pkl: list indices must be integers or slices, not str\n",
      "[WARNING] Failed to load IDS_top10_urban_800_points_probabilistic_seed_123.pkl: list indices must be integers or slices, not str\n",
      "[WARNING] Failed to load IDS_top10_urban_800_points_probabilistic_seed_1234.pkl: list indices must be integers or slices, not str\n",
      "[WARNING] Failed to load IDS_top10_urban_800_points_probabilistic_seed_1415.pkl: list indices must be integers or slices, not str\n",
      "[WARNING] Failed to load IDS_top10_urban_800_points_probabilistic_seed_42.pkl: list indices must be integers or slices, not str\n",
      "[WARNING] Failed to load IDS_top10_urban_800_points_probabilistic_seed_456.pkl: list indices must be integers or slices, not str\n",
      "[WARNING] Failed to load IDS_top10_urban_800_points_probabilistic_seed_5678.pkl: list indices must be integers or slices, not str\n",
      "[WARNING] Failed to load IDS_top10_urban_800_points_probabilistic_seed_789.pkl: list indices must be integers or slices, not str\n",
      "[WARNING] Failed to load IDS_top10_urban_800_points_probabilistic_seed_9101.pkl: list indices must be integers or slices, not str\n",
      "[WARNING] Failed to load IDS_top10_urban_900_points_probabilistic_900_size_seed_1.pkl: list indices must be integers or slices, not str\n",
      "[WARNING] Failed to load IDS_top10_urban_900_points_probabilistic_900_size_seed_1213.pkl: list indices must be integers or slices, not str\n",
      "[WARNING] Failed to load IDS_top10_urban_900_points_probabilistic_900_size_seed_123.pkl: list indices must be integers or slices, not str\n",
      "[WARNING] Failed to load IDS_top10_urban_900_points_probabilistic_900_size_seed_1234.pkl: list indices must be integers or slices, not str\n",
      "[WARNING] Failed to load IDS_top10_urban_900_points_probabilistic_900_size_seed_1415.pkl: list indices must be integers or slices, not str\n",
      "[WARNING] Failed to load IDS_top10_urban_900_points_probabilistic_900_size_seed_42.pkl: list indices must be integers or slices, not str\n",
      "[WARNING] Failed to load IDS_top10_urban_900_points_probabilistic_900_size_seed_456.pkl: list indices must be integers or slices, not str\n",
      "[WARNING] Failed to load IDS_top10_urban_900_points_probabilistic_900_size_seed_5678.pkl: list indices must be integers or slices, not str\n",
      "[WARNING] Failed to load IDS_top10_urban_900_points_probabilistic_900_size_seed_789.pkl: list indices must be integers or slices, not str\n",
      "[WARNING] Failed to load IDS_top10_urban_900_points_probabilistic_900_size_seed_9101.pkl: list indices must be integers or slices, not str\n",
      "[WARNING] Failed to load IDS_top10_urban_900_points_probabilistic_seed_1.pkl: list indices must be integers or slices, not str\n",
      "[WARNING] Failed to load IDS_top10_urban_900_points_probabilistic_seed_1213.pkl: list indices must be integers or slices, not str\n",
      "[WARNING] Failed to load IDS_top10_urban_900_points_probabilistic_seed_123.pkl: list indices must be integers or slices, not str\n",
      "[WARNING] Failed to load IDS_top10_urban_900_points_probabilistic_seed_1234.pkl: list indices must be integers or slices, not str\n",
      "[WARNING] Failed to load IDS_top10_urban_900_points_probabilistic_seed_1415.pkl: list indices must be integers or slices, not str\n",
      "[WARNING] Failed to load IDS_top10_urban_900_points_probabilistic_seed_42.pkl: list indices must be integers or slices, not str\n",
      "[WARNING] Failed to load IDS_top10_urban_900_points_probabilistic_seed_456.pkl: list indices must be integers or slices, not str\n",
      "[WARNING] Failed to load IDS_top10_urban_900_points_probabilistic_seed_5678.pkl: list indices must be integers or slices, not str\n",
      "[WARNING] Failed to load IDS_top10_urban_900_points_probabilistic_seed_789.pkl: list indices must be integers or slices, not str\n",
      "[WARNING] Failed to load IDS_top10_urban_900_points_probabilistic_seed_9101.pkl: list indices must be integers or slices, not str\n",
      "[WARNING] Failed to load IDS_top20_urban_1000_points_probabilistic_1000_size_seed_1.pkl: list indices must be integers or slices, not str\n",
      "[WARNING] Failed to load IDS_top20_urban_1000_points_probabilistic_1000_size_seed_1213.pkl: list indices must be integers or slices, not str\n",
      "[WARNING] Failed to load IDS_top20_urban_1000_points_probabilistic_1000_size_seed_123.pkl: list indices must be integers or slices, not str\n",
      "[WARNING] Failed to load IDS_top20_urban_1000_points_probabilistic_1000_size_seed_1234.pkl: list indices must be integers or slices, not str\n",
      "[WARNING] Failed to load IDS_top20_urban_1000_points_probabilistic_1000_size_seed_1415.pkl: list indices must be integers or slices, not str\n",
      "[WARNING] Failed to load IDS_top20_urban_1000_points_probabilistic_1000_size_seed_42.pkl: list indices must be integers or slices, not str\n",
      "[WARNING] Failed to load IDS_top20_urban_1000_points_probabilistic_1000_size_seed_456.pkl: list indices must be integers or slices, not str\n",
      "[WARNING] Failed to load IDS_top20_urban_1000_points_probabilistic_1000_size_seed_5678.pkl: list indices must be integers or slices, not str\n",
      "[WARNING] Failed to load IDS_top20_urban_1000_points_probabilistic_1000_size_seed_789.pkl: list indices must be integers or slices, not str\n",
      "[WARNING] Failed to load IDS_top20_urban_1000_points_probabilistic_1000_size_seed_9101.pkl: list indices must be integers or slices, not str\n",
      "[WARNING] Failed to load IDS_top20_urban_100_points_probabilistic_100_size_seed_1.pkl: list indices must be integers or slices, not str\n",
      "[WARNING] Failed to load IDS_top20_urban_100_points_probabilistic_100_size_seed_1213.pkl: list indices must be integers or slices, not str\n",
      "[WARNING] Failed to load IDS_top20_urban_100_points_probabilistic_100_size_seed_123.pkl: list indices must be integers or slices, not str\n",
      "[WARNING] Failed to load IDS_top20_urban_100_points_probabilistic_100_size_seed_1234.pkl: list indices must be integers or slices, not str\n",
      "[WARNING] Failed to load IDS_top20_urban_100_points_probabilistic_100_size_seed_1415.pkl: list indices must be integers or slices, not str\n",
      "[WARNING] Failed to load IDS_top20_urban_100_points_probabilistic_100_size_seed_42.pkl: list indices must be integers or slices, not str\n",
      "[WARNING] Failed to load IDS_top20_urban_100_points_probabilistic_100_size_seed_456.pkl: list indices must be integers or slices, not str\n",
      "[WARNING] Failed to load IDS_top20_urban_100_points_probabilistic_100_size_seed_5678.pkl: list indices must be integers or slices, not str\n",
      "[WARNING] Failed to load IDS_top20_urban_100_points_probabilistic_100_size_seed_789.pkl: list indices must be integers or slices, not str\n",
      "[WARNING] Failed to load IDS_top20_urban_100_points_probabilistic_100_size_seed_9101.pkl: list indices must be integers or slices, not str\n",
      "[WARNING] Failed to load IDS_top20_urban_200_points_probabilistic_200_size_seed_1.pkl: list indices must be integers or slices, not str\n",
      "[WARNING] Failed to load IDS_top20_urban_200_points_probabilistic_200_size_seed_1213.pkl: list indices must be integers or slices, not str\n",
      "[WARNING] Failed to load IDS_top20_urban_200_points_probabilistic_200_size_seed_123.pkl: list indices must be integers or slices, not str\n",
      "[WARNING] Failed to load IDS_top20_urban_200_points_probabilistic_200_size_seed_1234.pkl: list indices must be integers or slices, not str\n",
      "[WARNING] Failed to load IDS_top20_urban_200_points_probabilistic_200_size_seed_1415.pkl: list indices must be integers or slices, not str\n",
      "[WARNING] Failed to load IDS_top20_urban_200_points_probabilistic_200_size_seed_42.pkl: list indices must be integers or slices, not str\n",
      "[WARNING] Failed to load IDS_top20_urban_200_points_probabilistic_200_size_seed_456.pkl: list indices must be integers or slices, not str\n",
      "[WARNING] Failed to load IDS_top20_urban_200_points_probabilistic_200_size_seed_5678.pkl: list indices must be integers or slices, not str\n",
      "[WARNING] Failed to load IDS_top20_urban_200_points_probabilistic_200_size_seed_789.pkl: list indices must be integers or slices, not str\n",
      "[WARNING] Failed to load IDS_top20_urban_200_points_probabilistic_200_size_seed_9101.pkl: list indices must be integers or slices, not str\n",
      "[WARNING] Failed to load IDS_top20_urban_300_points_probabilistic_300_size_seed_1.pkl: list indices must be integers or slices, not str\n",
      "[WARNING] Failed to load IDS_top20_urban_300_points_probabilistic_300_size_seed_1213.pkl: list indices must be integers or slices, not str\n",
      "[WARNING] Failed to load IDS_top20_urban_300_points_probabilistic_300_size_seed_123.pkl: list indices must be integers or slices, not str\n",
      "[WARNING] Failed to load IDS_top20_urban_300_points_probabilistic_300_size_seed_1234.pkl: list indices must be integers or slices, not str\n",
      "[WARNING] Failed to load IDS_top20_urban_300_points_probabilistic_300_size_seed_1415.pkl: list indices must be integers or slices, not str\n",
      "[WARNING] Failed to load IDS_top20_urban_300_points_probabilistic_300_size_seed_42.pkl: list indices must be integers or slices, not str\n",
      "[WARNING] Failed to load IDS_top20_urban_300_points_probabilistic_300_size_seed_456.pkl: list indices must be integers or slices, not str\n",
      "[WARNING] Failed to load IDS_top20_urban_300_points_probabilistic_300_size_seed_5678.pkl: list indices must be integers or slices, not str\n",
      "[WARNING] Failed to load IDS_top20_urban_300_points_probabilistic_300_size_seed_789.pkl: list indices must be integers or slices, not str\n",
      "[WARNING] Failed to load IDS_top20_urban_300_points_probabilistic_300_size_seed_9101.pkl: list indices must be integers or slices, not str\n",
      "[WARNING] Failed to load IDS_top20_urban_400_points_probabilistic_400_size_seed_1.pkl: list indices must be integers or slices, not str\n",
      "[WARNING] Failed to load IDS_top20_urban_400_points_probabilistic_400_size_seed_1213.pkl: list indices must be integers or slices, not str\n",
      "[WARNING] Failed to load IDS_top20_urban_400_points_probabilistic_400_size_seed_123.pkl: list indices must be integers or slices, not str\n",
      "[WARNING] Failed to load IDS_top20_urban_400_points_probabilistic_400_size_seed_1234.pkl: list indices must be integers or slices, not str\n",
      "[WARNING] Failed to load IDS_top20_urban_400_points_probabilistic_400_size_seed_1415.pkl: list indices must be integers or slices, not str\n",
      "[WARNING] Failed to load IDS_top20_urban_400_points_probabilistic_400_size_seed_42.pkl: list indices must be integers or slices, not str\n",
      "[WARNING] Failed to load IDS_top20_urban_400_points_probabilistic_400_size_seed_456.pkl: list indices must be integers or slices, not str\n",
      "[WARNING] Failed to load IDS_top20_urban_400_points_probabilistic_400_size_seed_5678.pkl: list indices must be integers or slices, not str\n",
      "[WARNING] Failed to load IDS_top20_urban_400_points_probabilistic_400_size_seed_789.pkl: list indices must be integers or slices, not str\n",
      "[WARNING] Failed to load IDS_top20_urban_400_points_probabilistic_400_size_seed_9101.pkl: list indices must be integers or slices, not str\n",
      "[WARNING] Failed to load IDS_top20_urban_500_points_probabilistic_500_size_seed_1.pkl: list indices must be integers or slices, not str\n",
      "[WARNING] Failed to load IDS_top20_urban_500_points_probabilistic_500_size_seed_1213.pkl: list indices must be integers or slices, not str\n",
      "[WARNING] Failed to load IDS_top20_urban_500_points_probabilistic_500_size_seed_123.pkl: list indices must be integers or slices, not str\n",
      "[WARNING] Failed to load IDS_top20_urban_500_points_probabilistic_500_size_seed_1234.pkl: list indices must be integers or slices, not str\n",
      "[WARNING] Failed to load IDS_top20_urban_500_points_probabilistic_500_size_seed_1415.pkl: list indices must be integers or slices, not str\n",
      "[WARNING] Failed to load IDS_top20_urban_500_points_probabilistic_500_size_seed_42.pkl: list indices must be integers or slices, not str\n",
      "[WARNING] Failed to load IDS_top20_urban_500_points_probabilistic_500_size_seed_456.pkl: list indices must be integers or slices, not str\n",
      "[WARNING] Failed to load IDS_top20_urban_500_points_probabilistic_500_size_seed_5678.pkl: list indices must be integers or slices, not str\n",
      "[WARNING] Failed to load IDS_top20_urban_500_points_probabilistic_500_size_seed_789.pkl: list indices must be integers or slices, not str\n",
      "[WARNING] Failed to load IDS_top20_urban_500_points_probabilistic_500_size_seed_9101.pkl: list indices must be integers or slices, not str\n",
      "[WARNING] Failed to load IDS_top20_urban_600_points_probabilistic_600_size_seed_1.pkl: list indices must be integers or slices, not str\n",
      "[WARNING] Failed to load IDS_top20_urban_600_points_probabilistic_600_size_seed_1213.pkl: list indices must be integers or slices, not str\n",
      "[WARNING] Failed to load IDS_top20_urban_600_points_probabilistic_600_size_seed_123.pkl: list indices must be integers or slices, not str\n",
      "[WARNING] Failed to load IDS_top20_urban_600_points_probabilistic_600_size_seed_1234.pkl: list indices must be integers or slices, not str\n",
      "[WARNING] Failed to load IDS_top20_urban_600_points_probabilistic_600_size_seed_1415.pkl: list indices must be integers or slices, not str\n",
      "[WARNING] Failed to load IDS_top20_urban_600_points_probabilistic_600_size_seed_42.pkl: list indices must be integers or slices, not str\n",
      "[WARNING] Failed to load IDS_top20_urban_600_points_probabilistic_600_size_seed_456.pkl: list indices must be integers or slices, not str\n",
      "[WARNING] Failed to load IDS_top20_urban_600_points_probabilistic_600_size_seed_5678.pkl: list indices must be integers or slices, not str\n",
      "[WARNING] Failed to load IDS_top20_urban_600_points_probabilistic_600_size_seed_789.pkl: list indices must be integers or slices, not str\n",
      "[WARNING] Failed to load IDS_top20_urban_600_points_probabilistic_600_size_seed_9101.pkl: list indices must be integers or slices, not str\n",
      "[WARNING] Failed to load IDS_top20_urban_700_points_probabilistic_700_size_seed_1.pkl: list indices must be integers or slices, not str\n",
      "[WARNING] Failed to load IDS_top20_urban_700_points_probabilistic_700_size_seed_1213.pkl: list indices must be integers or slices, not str\n",
      "[WARNING] Failed to load IDS_top20_urban_700_points_probabilistic_700_size_seed_123.pkl: list indices must be integers or slices, not str\n",
      "[WARNING] Failed to load IDS_top20_urban_700_points_probabilistic_700_size_seed_1234.pkl: list indices must be integers or slices, not str\n",
      "[WARNING] Failed to load IDS_top20_urban_700_points_probabilistic_700_size_seed_1415.pkl: list indices must be integers or slices, not str\n",
      "[WARNING] Failed to load IDS_top20_urban_700_points_probabilistic_700_size_seed_42.pkl: list indices must be integers or slices, not str\n",
      "[WARNING] Failed to load IDS_top20_urban_700_points_probabilistic_700_size_seed_456.pkl: list indices must be integers or slices, not str\n",
      "[WARNING] Failed to load IDS_top20_urban_700_points_probabilistic_700_size_seed_5678.pkl: list indices must be integers or slices, not str\n",
      "[WARNING] Failed to load IDS_top20_urban_700_points_probabilistic_700_size_seed_789.pkl: list indices must be integers or slices, not str\n",
      "[WARNING] Failed to load IDS_top20_urban_700_points_probabilistic_700_size_seed_9101.pkl: list indices must be integers or slices, not str\n",
      "[WARNING] Failed to load IDS_top20_urban_800_points_probabilistic_800_size_seed_1.pkl: list indices must be integers or slices, not str\n",
      "[WARNING] Failed to load IDS_top20_urban_800_points_probabilistic_800_size_seed_1213.pkl: list indices must be integers or slices, not str\n",
      "[WARNING] Failed to load IDS_top20_urban_800_points_probabilistic_800_size_seed_123.pkl: list indices must be integers or slices, not str\n",
      "[WARNING] Failed to load IDS_top20_urban_800_points_probabilistic_800_size_seed_1234.pkl: list indices must be integers or slices, not str\n",
      "[WARNING] Failed to load IDS_top20_urban_800_points_probabilistic_800_size_seed_1415.pkl: list indices must be integers or slices, not str\n",
      "[WARNING] Failed to load IDS_top20_urban_800_points_probabilistic_800_size_seed_42.pkl: list indices must be integers or slices, not str\n",
      "[WARNING] Failed to load IDS_top20_urban_800_points_probabilistic_800_size_seed_456.pkl: list indices must be integers or slices, not str\n",
      "[WARNING] Failed to load IDS_top20_urban_800_points_probabilistic_800_size_seed_5678.pkl: list indices must be integers or slices, not str\n",
      "[WARNING] Failed to load IDS_top20_urban_800_points_probabilistic_800_size_seed_789.pkl: list indices must be integers or slices, not str\n",
      "[WARNING] Failed to load IDS_top20_urban_800_points_probabilistic_800_size_seed_9101.pkl: list indices must be integers or slices, not str\n",
      "[WARNING] Failed to load IDS_top20_urban_900_points_probabilistic_900_size_seed_1.pkl: list indices must be integers or slices, not str\n",
      "[WARNING] Failed to load IDS_top20_urban_900_points_probabilistic_900_size_seed_1213.pkl: list indices must be integers or slices, not str\n",
      "[WARNING] Failed to load IDS_top20_urban_900_points_probabilistic_900_size_seed_123.pkl: list indices must be integers or slices, not str\n",
      "[WARNING] Failed to load IDS_top20_urban_900_points_probabilistic_900_size_seed_1234.pkl: list indices must be integers or slices, not str\n",
      "[WARNING] Failed to load IDS_top20_urban_900_points_probabilistic_900_size_seed_1415.pkl: list indices must be integers or slices, not str\n",
      "[WARNING] Failed to load IDS_top20_urban_900_points_probabilistic_900_size_seed_42.pkl: list indices must be integers or slices, not str\n",
      "[WARNING] Failed to load IDS_top20_urban_900_points_probabilistic_900_size_seed_456.pkl: list indices must be integers or slices, not str\n",
      "[WARNING] Failed to load IDS_top20_urban_900_points_probabilistic_900_size_seed_5678.pkl: list indices must be integers or slices, not str\n",
      "[WARNING] Failed to load IDS_top20_urban_900_points_probabilistic_900_size_seed_789.pkl: list indices must be integers or slices, not str\n",
      "[WARNING] Failed to load IDS_top20_urban_900_points_probabilistic_900_size_seed_9101.pkl: list indices must be integers or slices, not str\n",
      "[WARNING] Failed to load IDS_top50_urban_1000_points_probabilistic_1000_size_seed_1.pkl: list indices must be integers or slices, not str\n",
      "[WARNING] Failed to load IDS_top50_urban_1000_points_probabilistic_1000_size_seed_1213.pkl: list indices must be integers or slices, not str\n",
      "[WARNING] Failed to load IDS_top50_urban_1000_points_probabilistic_1000_size_seed_123.pkl: list indices must be integers or slices, not str\n",
      "[WARNING] Failed to load IDS_top50_urban_1000_points_probabilistic_1000_size_seed_1234.pkl: list indices must be integers or slices, not str\n",
      "[WARNING] Failed to load IDS_top50_urban_1000_points_probabilistic_1000_size_seed_1415.pkl: list indices must be integers or slices, not str\n",
      "[WARNING] Failed to load IDS_top50_urban_1000_points_probabilistic_1000_size_seed_42.pkl: list indices must be integers or slices, not str\n",
      "[WARNING] Failed to load IDS_top50_urban_1000_points_probabilistic_1000_size_seed_456.pkl: list indices must be integers or slices, not str\n",
      "[WARNING] Failed to load IDS_top50_urban_1000_points_probabilistic_1000_size_seed_5678.pkl: list indices must be integers or slices, not str\n",
      "[WARNING] Failed to load IDS_top50_urban_1000_points_probabilistic_1000_size_seed_789.pkl: list indices must be integers or slices, not str\n",
      "[WARNING] Failed to load IDS_top50_urban_1000_points_probabilistic_1000_size_seed_9101.pkl: list indices must be integers or slices, not str\n",
      "[WARNING] Failed to load IDS_top50_urban_100_points_probabilistic_100_size_seed_1.pkl: list indices must be integers or slices, not str\n",
      "[WARNING] Failed to load IDS_top50_urban_100_points_probabilistic_100_size_seed_1213.pkl: list indices must be integers or slices, not str\n",
      "[WARNING] Failed to load IDS_top50_urban_100_points_probabilistic_100_size_seed_123.pkl: list indices must be integers or slices, not str\n",
      "[WARNING] Failed to load IDS_top50_urban_100_points_probabilistic_100_size_seed_1234.pkl: list indices must be integers or slices, not str\n",
      "[WARNING] Failed to load IDS_top50_urban_100_points_probabilistic_100_size_seed_1415.pkl: list indices must be integers or slices, not str\n",
      "[WARNING] Failed to load IDS_top50_urban_100_points_probabilistic_100_size_seed_42.pkl: list indices must be integers or slices, not str\n",
      "[WARNING] Failed to load IDS_top50_urban_100_points_probabilistic_100_size_seed_456.pkl: list indices must be integers or slices, not str\n",
      "[WARNING] Failed to load IDS_top50_urban_100_points_probabilistic_100_size_seed_5678.pkl: list indices must be integers or slices, not str\n",
      "[WARNING] Failed to load IDS_top50_urban_100_points_probabilistic_100_size_seed_789.pkl: list indices must be integers or slices, not str\n",
      "[WARNING] Failed to load IDS_top50_urban_100_points_probabilistic_100_size_seed_9101.pkl: list indices must be integers or slices, not str\n",
      "[WARNING] Failed to load IDS_top50_urban_200_points_probabilistic_200_size_seed_1.pkl: list indices must be integers or slices, not str\n",
      "[WARNING] Failed to load IDS_top50_urban_200_points_probabilistic_200_size_seed_1213.pkl: list indices must be integers or slices, not str\n",
      "[WARNING] Failed to load IDS_top50_urban_200_points_probabilistic_200_size_seed_123.pkl: list indices must be integers or slices, not str\n",
      "[WARNING] Failed to load IDS_top50_urban_200_points_probabilistic_200_size_seed_1234.pkl: list indices must be integers or slices, not str\n",
      "[WARNING] Failed to load IDS_top50_urban_200_points_probabilistic_200_size_seed_1415.pkl: list indices must be integers or slices, not str\n",
      "[WARNING] Failed to load IDS_top50_urban_200_points_probabilistic_200_size_seed_42.pkl: list indices must be integers or slices, not str\n",
      "[WARNING] Failed to load IDS_top50_urban_200_points_probabilistic_200_size_seed_456.pkl: list indices must be integers or slices, not str\n",
      "[WARNING] Failed to load IDS_top50_urban_200_points_probabilistic_200_size_seed_5678.pkl: list indices must be integers or slices, not str\n",
      "[WARNING] Failed to load IDS_top50_urban_200_points_probabilistic_200_size_seed_789.pkl: list indices must be integers or slices, not str\n",
      "[WARNING] Failed to load IDS_top50_urban_200_points_probabilistic_200_size_seed_9101.pkl: list indices must be integers or slices, not str\n",
      "[WARNING] Failed to load IDS_top50_urban_300_points_probabilistic_300_size_seed_1.pkl: list indices must be integers or slices, not str\n",
      "[WARNING] Failed to load IDS_top50_urban_300_points_probabilistic_300_size_seed_1213.pkl: list indices must be integers or slices, not str\n",
      "[WARNING] Failed to load IDS_top50_urban_300_points_probabilistic_300_size_seed_123.pkl: list indices must be integers or slices, not str\n",
      "[WARNING] Failed to load IDS_top50_urban_300_points_probabilistic_300_size_seed_1234.pkl: list indices must be integers or slices, not str\n",
      "[WARNING] Failed to load IDS_top50_urban_300_points_probabilistic_300_size_seed_1415.pkl: list indices must be integers or slices, not str\n",
      "[WARNING] Failed to load IDS_top50_urban_300_points_probabilistic_300_size_seed_42.pkl: list indices must be integers or slices, not str\n",
      "[WARNING] Failed to load IDS_top50_urban_300_points_probabilistic_300_size_seed_456.pkl: list indices must be integers or slices, not str\n",
      "[WARNING] Failed to load IDS_top50_urban_300_points_probabilistic_300_size_seed_5678.pkl: list indices must be integers or slices, not str\n",
      "[WARNING] Failed to load IDS_top50_urban_300_points_probabilistic_300_size_seed_789.pkl: list indices must be integers or slices, not str\n",
      "[WARNING] Failed to load IDS_top50_urban_300_points_probabilistic_300_size_seed_9101.pkl: list indices must be integers or slices, not str\n",
      "[WARNING] Failed to load IDS_top50_urban_400_points_probabilistic_400_size_seed_1.pkl: list indices must be integers or slices, not str\n",
      "[WARNING] Failed to load IDS_top50_urban_400_points_probabilistic_400_size_seed_1213.pkl: list indices must be integers or slices, not str\n",
      "[WARNING] Failed to load IDS_top50_urban_400_points_probabilistic_400_size_seed_123.pkl: list indices must be integers or slices, not str\n",
      "[WARNING] Failed to load IDS_top50_urban_400_points_probabilistic_400_size_seed_1234.pkl: list indices must be integers or slices, not str\n",
      "[WARNING] Failed to load IDS_top50_urban_400_points_probabilistic_400_size_seed_1415.pkl: list indices must be integers or slices, not str\n",
      "[WARNING] Failed to load IDS_top50_urban_400_points_probabilistic_400_size_seed_42.pkl: list indices must be integers or slices, not str\n",
      "[WARNING] Failed to load IDS_top50_urban_400_points_probabilistic_400_size_seed_456.pkl: list indices must be integers or slices, not str\n",
      "[WARNING] Failed to load IDS_top50_urban_400_points_probabilistic_400_size_seed_5678.pkl: list indices must be integers or slices, not str\n",
      "[WARNING] Failed to load IDS_top50_urban_400_points_probabilistic_400_size_seed_789.pkl: list indices must be integers or slices, not str\n",
      "[WARNING] Failed to load IDS_top50_urban_400_points_probabilistic_400_size_seed_9101.pkl: list indices must be integers or slices, not str\n",
      "[WARNING] Failed to load IDS_top50_urban_500_points_probabilistic_500_size_seed_1.pkl: list indices must be integers or slices, not str\n",
      "[WARNING] Failed to load IDS_top50_urban_500_points_probabilistic_500_size_seed_1213.pkl: list indices must be integers or slices, not str\n",
      "[WARNING] Failed to load IDS_top50_urban_500_points_probabilistic_500_size_seed_123.pkl: list indices must be integers or slices, not str\n",
      "[WARNING] Failed to load IDS_top50_urban_500_points_probabilistic_500_size_seed_1234.pkl: list indices must be integers or slices, not str\n",
      "[WARNING] Failed to load IDS_top50_urban_500_points_probabilistic_500_size_seed_1415.pkl: list indices must be integers or slices, not str\n",
      "[WARNING] Failed to load IDS_top50_urban_500_points_probabilistic_500_size_seed_42.pkl: list indices must be integers or slices, not str\n",
      "[WARNING] Failed to load IDS_top50_urban_500_points_probabilistic_500_size_seed_456.pkl: list indices must be integers or slices, not str\n",
      "[WARNING] Failed to load IDS_top50_urban_500_points_probabilistic_500_size_seed_5678.pkl: list indices must be integers or slices, not str\n",
      "[WARNING] Failed to load IDS_top50_urban_500_points_probabilistic_500_size_seed_789.pkl: list indices must be integers or slices, not str\n",
      "[WARNING] Failed to load IDS_top50_urban_500_points_probabilistic_500_size_seed_9101.pkl: list indices must be integers or slices, not str\n",
      "[WARNING] Failed to load IDS_top50_urban_600_points_probabilistic_600_size_seed_1.pkl: list indices must be integers or slices, not str\n",
      "[WARNING] Failed to load IDS_top50_urban_600_points_probabilistic_600_size_seed_1213.pkl: list indices must be integers or slices, not str\n",
      "[WARNING] Failed to load IDS_top50_urban_600_points_probabilistic_600_size_seed_123.pkl: list indices must be integers or slices, not str\n",
      "[WARNING] Failed to load IDS_top50_urban_600_points_probabilistic_600_size_seed_1234.pkl: list indices must be integers or slices, not str\n",
      "[WARNING] Failed to load IDS_top50_urban_600_points_probabilistic_600_size_seed_1415.pkl: list indices must be integers or slices, not str\n",
      "[WARNING] Failed to load IDS_top50_urban_600_points_probabilistic_600_size_seed_42.pkl: list indices must be integers or slices, not str\n",
      "[WARNING] Failed to load IDS_top50_urban_600_points_probabilistic_600_size_seed_456.pkl: list indices must be integers or slices, not str\n",
      "[WARNING] Failed to load IDS_top50_urban_600_points_probabilistic_600_size_seed_5678.pkl: list indices must be integers or slices, not str\n",
      "[WARNING] Failed to load IDS_top50_urban_600_points_probabilistic_600_size_seed_789.pkl: list indices must be integers or slices, not str\n",
      "[WARNING] Failed to load IDS_top50_urban_600_points_probabilistic_600_size_seed_9101.pkl: list indices must be integers or slices, not str\n",
      "[WARNING] Failed to load IDS_top50_urban_700_points_probabilistic_700_size_seed_1.pkl: list indices must be integers or slices, not str\n",
      "[WARNING] Failed to load IDS_top50_urban_700_points_probabilistic_700_size_seed_1213.pkl: list indices must be integers or slices, not str\n",
      "[WARNING] Failed to load IDS_top50_urban_700_points_probabilistic_700_size_seed_123.pkl: list indices must be integers or slices, not str\n",
      "[WARNING] Failed to load IDS_top50_urban_700_points_probabilistic_700_size_seed_1234.pkl: list indices must be integers or slices, not str\n",
      "[WARNING] Failed to load IDS_top50_urban_700_points_probabilistic_700_size_seed_1415.pkl: list indices must be integers or slices, not str\n",
      "[WARNING] Failed to load IDS_top50_urban_700_points_probabilistic_700_size_seed_42.pkl: list indices must be integers or slices, not str\n",
      "[WARNING] Failed to load IDS_top50_urban_700_points_probabilistic_700_size_seed_456.pkl: list indices must be integers or slices, not str\n",
      "[WARNING] Failed to load IDS_top50_urban_700_points_probabilistic_700_size_seed_5678.pkl: list indices must be integers or slices, not str\n",
      "[WARNING] Failed to load IDS_top50_urban_700_points_probabilistic_700_size_seed_789.pkl: list indices must be integers or slices, not str\n",
      "[WARNING] Failed to load IDS_top50_urban_700_points_probabilistic_700_size_seed_9101.pkl: list indices must be integers or slices, not str\n",
      "[WARNING] Failed to load IDS_top50_urban_800_points_probabilistic_800_size_seed_1.pkl: list indices must be integers or slices, not str\n",
      "[WARNING] Failed to load IDS_top50_urban_800_points_probabilistic_800_size_seed_1213.pkl: list indices must be integers or slices, not str\n",
      "[WARNING] Failed to load IDS_top50_urban_800_points_probabilistic_800_size_seed_123.pkl: list indices must be integers or slices, not str\n",
      "[WARNING] Failed to load IDS_top50_urban_800_points_probabilistic_800_size_seed_1234.pkl: list indices must be integers or slices, not str\n",
      "[WARNING] Failed to load IDS_top50_urban_800_points_probabilistic_800_size_seed_1415.pkl: list indices must be integers or slices, not str\n",
      "[WARNING] Failed to load IDS_top50_urban_800_points_probabilistic_800_size_seed_42.pkl: list indices must be integers or slices, not str\n",
      "[WARNING] Failed to load IDS_top50_urban_800_points_probabilistic_800_size_seed_456.pkl: list indices must be integers or slices, not str\n",
      "[WARNING] Failed to load IDS_top50_urban_800_points_probabilistic_800_size_seed_5678.pkl: list indices must be integers or slices, not str\n",
      "[WARNING] Failed to load IDS_top50_urban_800_points_probabilistic_800_size_seed_789.pkl: list indices must be integers or slices, not str\n",
      "[WARNING] Failed to load IDS_top50_urban_800_points_probabilistic_800_size_seed_9101.pkl: list indices must be integers or slices, not str\n",
      "[WARNING] Failed to load IDS_top50_urban_900_points_probabilistic_900_size_seed_1.pkl: list indices must be integers or slices, not str\n",
      "[WARNING] Failed to load IDS_top50_urban_900_points_probabilistic_900_size_seed_1213.pkl: list indices must be integers or slices, not str\n",
      "[WARNING] Failed to load IDS_top50_urban_900_points_probabilistic_900_size_seed_123.pkl: list indices must be integers or slices, not str\n",
      "[WARNING] Failed to load IDS_top50_urban_900_points_probabilistic_900_size_seed_1234.pkl: list indices must be integers or slices, not str\n",
      "[WARNING] Failed to load IDS_top50_urban_900_points_probabilistic_900_size_seed_1415.pkl: list indices must be integers or slices, not str\n",
      "[WARNING] Failed to load IDS_top50_urban_900_points_probabilistic_900_size_seed_42.pkl: list indices must be integers or slices, not str\n",
      "[WARNING] Failed to load IDS_top50_urban_900_points_probabilistic_900_size_seed_456.pkl: list indices must be integers or slices, not str\n",
      "[WARNING] Failed to load IDS_top50_urban_900_points_probabilistic_900_size_seed_5678.pkl: list indices must be integers or slices, not str\n",
      "[WARNING] Failed to load IDS_top50_urban_900_points_probabilistic_900_size_seed_789.pkl: list indices must be integers or slices, not str\n",
      "[WARNING] Failed to load IDS_top50_urban_900_points_probabilistic_900_size_seed_9101.pkl: list indices must be integers or slices, not str\n",
      "Results written incrementally to /home/libe2152/optimizedsampling/0_results/usavars/population/convenience_sampling_r2_scores.csv\n"
     ]
    },
    {
     "name": "stderr",
     "output_type": "stream",
     "text": [
      "\n"
     ]
    },
    {
     "name": "stdout",
     "output_type": "stream",
     "text": [
      "Loading features from /home/libe2152/optimizedsampling/0_data/features/usavars/CONTUS_UAR_population_with_splits_torchgeo4096.pkl ...\n",
      "Processing samples from /home/libe2152/optimizedsampling/0_data/initial_samples/usavars/population/convenience_sampling/region_based ...\n"
     ]
    },
    {
     "name": "stderr",
     "output_type": "stream",
     "text": [
      "Processing samples: 100%|██████████| 103/103 [00:00<00:00, 11229.88it/s]"
     ]
    },
    {
     "name": "stdout",
     "output_type": "stream",
     "text": [
      "[WARNING] Failed to load IDS_region_06_1000_points_seed_1.pkl: list indices must be integers or slices, not str\n",
      "[WARNING] Failed to load IDS_region_06_1000_points_seed_1213.pkl: list indices must be integers or slices, not str\n",
      "[WARNING] Failed to load IDS_region_06_1000_points_seed_123.pkl: list indices must be integers or slices, not str\n",
      "[WARNING] Failed to load IDS_region_06_1000_points_seed_1234.pkl: list indices must be integers or slices, not str\n",
      "[WARNING] Failed to load IDS_region_06_1000_points_seed_1415.pkl: list indices must be integers or slices, not str\n",
      "[WARNING] Failed to load IDS_region_06_1000_points_seed_42.pkl: list indices must be integers or slices, not str\n",
      "[WARNING] Failed to load IDS_region_06_1000_points_seed_456.pkl: list indices must be integers or slices, not str\n",
      "[WARNING] Failed to load IDS_region_06_1000_points_seed_5678.pkl: list indices must be integers or slices, not str\n",
      "[WARNING] Failed to load IDS_region_06_1000_points_seed_789.pkl: list indices must be integers or slices, not str\n",
      "[WARNING] Failed to load IDS_region_06_1000_points_seed_9101.pkl: list indices must be integers or slices, not str\n",
      "[WARNING] Failed to load IDS_region_06_100_points_seed_1.pkl: list indices must be integers or slices, not str\n",
      "[WARNING] Failed to load IDS_region_06_100_points_seed_1213.pkl: list indices must be integers or slices, not str\n",
      "[WARNING] Failed to load IDS_region_06_100_points_seed_123.pkl: list indices must be integers or slices, not str\n",
      "[WARNING] Failed to load IDS_region_06_100_points_seed_1234.pkl: list indices must be integers or slices, not str\n",
      "[WARNING] Failed to load IDS_region_06_100_points_seed_1415.pkl: list indices must be integers or slices, not str\n",
      "[WARNING] Failed to load IDS_region_06_100_points_seed_42.pkl: list indices must be integers or slices, not str\n",
      "[WARNING] Failed to load IDS_region_06_100_points_seed_456.pkl: list indices must be integers or slices, not str\n",
      "[WARNING] Failed to load IDS_region_06_100_points_seed_5678.pkl: list indices must be integers or slices, not str\n",
      "[WARNING] Failed to load IDS_region_06_100_points_seed_789.pkl: list indices must be integers or slices, not str\n",
      "[WARNING] Failed to load IDS_region_06_100_points_seed_9101.pkl: list indices must be integers or slices, not str\n",
      "[WARNING] Failed to load IDS_region_06_10_points_seed_1.pkl: list indices must be integers or slices, not str\n",
      "[WARNING] Failed to load IDS_region_06_10_points_seed_42.pkl: list indices must be integers or slices, not str\n",
      "[WARNING] Failed to load IDS_region_06_200_points_seed_1.pkl: list indices must be integers or slices, not str\n",
      "[WARNING] Failed to load IDS_region_06_200_points_seed_1213.pkl: list indices must be integers or slices, not str\n",
      "[WARNING] Failed to load IDS_region_06_200_points_seed_123.pkl: list indices must be integers or slices, not str\n",
      "[WARNING] Failed to load IDS_region_06_200_points_seed_1234.pkl: list indices must be integers or slices, not str\n",
      "[WARNING] Failed to load IDS_region_06_200_points_seed_1415.pkl: list indices must be integers or slices, not str\n",
      "[WARNING] Failed to load IDS_region_06_200_points_seed_42.pkl: list indices must be integers or slices, not str\n",
      "[WARNING] Failed to load IDS_region_06_200_points_seed_456.pkl: list indices must be integers or slices, not str\n",
      "[WARNING] Failed to load IDS_region_06_200_points_seed_5678.pkl: list indices must be integers or slices, not str\n",
      "[WARNING] Failed to load IDS_region_06_200_points_seed_789.pkl: list indices must be integers or slices, not str\n",
      "[WARNING] Failed to load IDS_region_06_200_points_seed_9101.pkl: list indices must be integers or slices, not str\n",
      "[WARNING] Failed to load IDS_region_06_300_points_seed_1.pkl: list indices must be integers or slices, not str\n",
      "[WARNING] Failed to load IDS_region_06_300_points_seed_1213.pkl: list indices must be integers or slices, not str\n",
      "[WARNING] Failed to load IDS_region_06_300_points_seed_123.pkl: list indices must be integers or slices, not str\n",
      "[WARNING] Failed to load IDS_region_06_300_points_seed_1234.pkl: list indices must be integers or slices, not str\n",
      "[WARNING] Failed to load IDS_region_06_300_points_seed_1415.pkl: list indices must be integers or slices, not str\n",
      "[WARNING] Failed to load IDS_region_06_300_points_seed_42.pkl: list indices must be integers or slices, not str\n",
      "[WARNING] Failed to load IDS_region_06_300_points_seed_456.pkl: list indices must be integers or slices, not str\n",
      "[WARNING] Failed to load IDS_region_06_300_points_seed_5678.pkl: list indices must be integers or slices, not str\n",
      "[WARNING] Failed to load IDS_region_06_300_points_seed_789.pkl: list indices must be integers or slices, not str\n",
      "[WARNING] Failed to load IDS_region_06_300_points_seed_9101.pkl: list indices must be integers or slices, not str\n",
      "[WARNING] Failed to load IDS_region_06_400_points_seed_1.pkl: list indices must be integers or slices, not str\n",
      "[WARNING] Failed to load IDS_region_06_400_points_seed_1213.pkl: list indices must be integers or slices, not str\n",
      "[WARNING] Failed to load IDS_region_06_400_points_seed_123.pkl: list indices must be integers or slices, not str\n",
      "[WARNING] Failed to load IDS_region_06_400_points_seed_1234.pkl: list indices must be integers or slices, not str\n",
      "[WARNING] Failed to load IDS_region_06_400_points_seed_1415.pkl: list indices must be integers or slices, not str\n",
      "[WARNING] Failed to load IDS_region_06_400_points_seed_42.pkl: list indices must be integers or slices, not str\n",
      "[WARNING] Failed to load IDS_region_06_400_points_seed_456.pkl: list indices must be integers or slices, not str\n",
      "[WARNING] Failed to load IDS_region_06_400_points_seed_5678.pkl: list indices must be integers or slices, not str\n",
      "[WARNING] Failed to load IDS_region_06_400_points_seed_789.pkl: list indices must be integers or slices, not str\n",
      "[WARNING] Failed to load IDS_region_06_400_points_seed_9101.pkl: list indices must be integers or slices, not str\n",
      "[WARNING] Failed to load IDS_region_06_500_points_seed_1.pkl: list indices must be integers or slices, not str\n",
      "[WARNING] Failed to load IDS_region_06_500_points_seed_1213.pkl: list indices must be integers or slices, not str\n",
      "[WARNING] Failed to load IDS_region_06_500_points_seed_123.pkl: list indices must be integers or slices, not str\n",
      "[WARNING] Failed to load IDS_region_06_500_points_seed_1234.pkl: list indices must be integers or slices, not str\n",
      "[WARNING] Failed to load IDS_region_06_500_points_seed_1415.pkl: list indices must be integers or slices, not str\n",
      "[WARNING] Failed to load IDS_region_06_500_points_seed_42.pkl: list indices must be integers or slices, not str\n",
      "[WARNING] Failed to load IDS_region_06_500_points_seed_456.pkl: list indices must be integers or slices, not str\n",
      "[WARNING] Failed to load IDS_region_06_500_points_seed_5678.pkl: list indices must be integers or slices, not str\n",
      "[WARNING] Failed to load IDS_region_06_500_points_seed_789.pkl: list indices must be integers or slices, not str\n",
      "[WARNING] Failed to load IDS_region_06_500_points_seed_9101.pkl: list indices must be integers or slices, not str\n",
      "[WARNING] Failed to load IDS_region_06_600_points_seed_1.pkl: list indices must be integers or slices, not str\n",
      "[WARNING] Failed to load IDS_region_06_600_points_seed_1213.pkl: list indices must be integers or slices, not str\n",
      "[WARNING] Failed to load IDS_region_06_600_points_seed_123.pkl: list indices must be integers or slices, not str\n",
      "[WARNING] Failed to load IDS_region_06_600_points_seed_1234.pkl: list indices must be integers or slices, not str\n",
      "[WARNING] Failed to load IDS_region_06_600_points_seed_1415.pkl: list indices must be integers or slices, not str\n",
      "[WARNING] Failed to load IDS_region_06_600_points_seed_42.pkl: list indices must be integers or slices, not str\n",
      "[WARNING] Failed to load IDS_region_06_600_points_seed_456.pkl: list indices must be integers or slices, not str\n",
      "[WARNING] Failed to load IDS_region_06_600_points_seed_5678.pkl: list indices must be integers or slices, not str\n",
      "[WARNING] Failed to load IDS_region_06_600_points_seed_789.pkl: list indices must be integers or slices, not str\n",
      "[WARNING] Failed to load IDS_region_06_600_points_seed_9101.pkl: list indices must be integers or slices, not str\n",
      "[WARNING] Failed to load IDS_region_06_700_points_seed_1.pkl: list indices must be integers or slices, not str\n",
      "[WARNING] Failed to load IDS_region_06_700_points_seed_1213.pkl: list indices must be integers or slices, not str\n",
      "[WARNING] Failed to load IDS_region_06_700_points_seed_123.pkl: list indices must be integers or slices, not str\n",
      "[WARNING] Failed to load IDS_region_06_700_points_seed_1234.pkl: list indices must be integers or slices, not str\n",
      "[WARNING] Failed to load IDS_region_06_700_points_seed_1415.pkl: list indices must be integers or slices, not str\n",
      "[WARNING] Failed to load IDS_region_06_700_points_seed_42.pkl: list indices must be integers or slices, not str\n",
      "[WARNING] Failed to load IDS_region_06_700_points_seed_456.pkl: list indices must be integers or slices, not str\n",
      "[WARNING] Failed to load IDS_region_06_700_points_seed_5678.pkl: list indices must be integers or slices, not str\n",
      "[WARNING] Failed to load IDS_region_06_700_points_seed_789.pkl: list indices must be integers or slices, not str\n",
      "[WARNING] Failed to load IDS_region_06_700_points_seed_9101.pkl: list indices must be integers or slices, not str\n",
      "[WARNING] Failed to load IDS_region_06_800_points_seed_1.pkl: list indices must be integers or slices, not str\n",
      "[WARNING] Failed to load IDS_region_06_800_points_seed_1213.pkl: list indices must be integers or slices, not str\n",
      "[WARNING] Failed to load IDS_region_06_800_points_seed_123.pkl: list indices must be integers or slices, not str\n",
      "[WARNING] Failed to load IDS_region_06_800_points_seed_1234.pkl: list indices must be integers or slices, not str\n",
      "[WARNING] Failed to load IDS_region_06_800_points_seed_1415.pkl: list indices must be integers or slices, not str\n",
      "[WARNING] Failed to load IDS_region_06_800_points_seed_42.pkl: list indices must be integers or slices, not str\n",
      "[WARNING] Failed to load IDS_region_06_800_points_seed_456.pkl: list indices must be integers or slices, not str\n",
      "[WARNING] Failed to load IDS_region_06_800_points_seed_5678.pkl: list indices must be integers or slices, not str\n",
      "[WARNING] Failed to load IDS_region_06_800_points_seed_789.pkl: list indices must be integers or slices, not str\n",
      "[WARNING] Failed to load IDS_region_06_800_points_seed_9101.pkl: list indices must be integers or slices, not str\n",
      "[WARNING] Failed to load IDS_region_06_900_points_seed_1.pkl: list indices must be integers or slices, not str\n",
      "[WARNING] Failed to load IDS_region_06_900_points_seed_1213.pkl: list indices must be integers or slices, not str\n",
      "[WARNING] Failed to load IDS_region_06_900_points_seed_123.pkl: list indices must be integers or slices, not str\n",
      "[WARNING] Failed to load IDS_region_06_900_points_seed_1234.pkl: list indices must be integers or slices, not str\n",
      "[WARNING] Failed to load IDS_region_06_900_points_seed_1415.pkl: list indices must be integers or slices, not str\n",
      "[WARNING] Failed to load IDS_region_06_900_points_seed_42.pkl: list indices must be integers or slices, not str\n",
      "[WARNING] Failed to load IDS_region_06_900_points_seed_456.pkl: list indices must be integers or slices, not str\n",
      "[WARNING] Failed to load IDS_region_06_900_points_seed_5678.pkl: list indices must be integers or slices, not str\n",
      "[WARNING] Failed to load IDS_region_06_900_points_seed_789.pkl: list indices must be integers or slices, not str\n",
      "[WARNING] Failed to load IDS_region_06_900_points_seed_9101.pkl: list indices must be integers or slices, not str\n",
      "Results written incrementally to /home/libe2152/optimizedsampling/0_results/usavars/population/convenience_sampling_r2_scores.csv\n"
     ]
    },
    {
     "name": "stderr",
     "output_type": "stream",
     "text": [
      "\n"
     ]
    },
    {
     "name": "stdout",
     "output_type": "stream",
     "text": [
      "Loading features from /home/libe2152/optimizedsampling/0_data/features/usavars/CONTUS_UAR_treecover_with_splits_torchgeo4096.pkl ...\n",
      "Processing samples from /home/libe2152/optimizedsampling/0_data/initial_samples/usavars/treecover/cluster_sampling/fixedstrata_Alabama_01-Colorado_08-Montana_30-New York_36-Ohio_39 ...\n"
     ]
    },
    {
     "name": "stderr",
     "output_type": "stream",
     "text": [
      "Processing samples:   0%|          | 0/201 [00:00<?, ?it/s]"
     ]
    },
    {
     "name": "stdout",
     "output_type": "stream",
     "text": [
      "Fitting regression...\n"
     ]
    },
    {
     "name": "stderr",
     "output_type": "stream",
     "text": [
      "Processing samples:   1%|          | 2/201 [00:02<03:31,  1.06s/it]"
     ]
    },
    {
     "name": "stdout",
     "output_type": "stream",
     "text": [
      "[WRITE] Saved result from sample_state_combined_county_id_10ppc_1000_size_seed_1.pkl to /home/libe2152/optimizedsampling/0_results/usavars/treecover/cluster_sampling_r2_scores.csv\n",
      "Fitting regression...\n"
     ]
    },
    {
     "name": "stderr",
     "output_type": "stream",
     "text": [
      "Processing samples:   1%|▏         | 3/201 [00:04<05:05,  1.54s/it]"
     ]
    },
    {
     "name": "stdout",
     "output_type": "stream",
     "text": [
      "[WRITE] Saved result from sample_state_combined_county_id_10ppc_1000_size_seed_1213.pkl to /home/libe2152/optimizedsampling/0_results/usavars/treecover/cluster_sampling_r2_scores.csv\n",
      "Fitting regression...\n"
     ]
    },
    {
     "name": "stderr",
     "output_type": "stream",
     "text": [
      "Processing samples:   2%|▏         | 4/201 [00:06<05:43,  1.74s/it]"
     ]
    },
    {
     "name": "stdout",
     "output_type": "stream",
     "text": [
      "[WRITE] Saved result from sample_state_combined_county_id_10ppc_1000_size_seed_123.pkl to /home/libe2152/optimizedsampling/0_results/usavars/treecover/cluster_sampling_r2_scores.csv\n",
      "Fitting regression...\n"
     ]
    },
    {
     "name": "stderr",
     "output_type": "stream",
     "text": [
      "Processing samples:   2%|▏         | 5/201 [00:08<06:29,  1.99s/it]"
     ]
    },
    {
     "name": "stdout",
     "output_type": "stream",
     "text": [
      "[WRITE] Saved result from sample_state_combined_county_id_10ppc_1000_size_seed_1234.pkl to /home/libe2152/optimizedsampling/0_results/usavars/treecover/cluster_sampling_r2_scores.csv\n",
      "Fitting regression...\n"
     ]
    },
    {
     "name": "stderr",
     "output_type": "stream",
     "text": [
      "Processing samples:   3%|▎         | 6/201 [00:11<07:29,  2.31s/it]"
     ]
    },
    {
     "name": "stdout",
     "output_type": "stream",
     "text": [
      "[WRITE] Saved result from sample_state_combined_county_id_10ppc_1000_size_seed_1415.pkl to /home/libe2152/optimizedsampling/0_results/usavars/treecover/cluster_sampling_r2_scores.csv\n",
      "Fitting regression...\n"
     ]
    },
    {
     "name": "stderr",
     "output_type": "stream",
     "text": [
      "Processing samples:   3%|▎         | 7/201 [00:15<08:54,  2.75s/it]"
     ]
    },
    {
     "name": "stdout",
     "output_type": "stream",
     "text": [
      "[WRITE] Saved result from sample_state_combined_county_id_10ppc_1000_size_seed_42.pkl to /home/libe2152/optimizedsampling/0_results/usavars/treecover/cluster_sampling_r2_scores.csv\n",
      "Fitting regression...\n"
     ]
    },
    {
     "name": "stderr",
     "output_type": "stream",
     "text": [
      "Processing samples:   4%|▍         | 8/201 [00:19<10:13,  3.18s/it]"
     ]
    },
    {
     "name": "stdout",
     "output_type": "stream",
     "text": [
      "[WRITE] Saved result from sample_state_combined_county_id_10ppc_1000_size_seed_456.pkl to /home/libe2152/optimizedsampling/0_results/usavars/treecover/cluster_sampling_r2_scores.csv\n",
      "Fitting regression...\n"
     ]
    },
    {
     "name": "stderr",
     "output_type": "stream",
     "text": [
      "Processing samples:   4%|▍         | 9/201 [00:28<15:57,  4.99s/it]"
     ]
    },
    {
     "name": "stdout",
     "output_type": "stream",
     "text": [
      "[WRITE] Saved result from sample_state_combined_county_id_10ppc_1000_size_seed_5678.pkl to /home/libe2152/optimizedsampling/0_results/usavars/treecover/cluster_sampling_r2_scores.csv\n",
      "Fitting regression...\n"
     ]
    },
    {
     "name": "stderr",
     "output_type": "stream",
     "text": [
      "Processing samples:   5%|▍         | 10/201 [00:38<21:00,  6.60s/it]"
     ]
    },
    {
     "name": "stdout",
     "output_type": "stream",
     "text": [
      "[WRITE] Saved result from sample_state_combined_county_id_10ppc_1000_size_seed_789.pkl to /home/libe2152/optimizedsampling/0_results/usavars/treecover/cluster_sampling_r2_scores.csv\n",
      "Fitting regression...\n"
     ]
    },
    {
     "name": "stderr",
     "output_type": "stream",
     "text": [
      "Processing samples:   5%|▌         | 11/201 [00:47<23:19,  7.37s/it]"
     ]
    },
    {
     "name": "stdout",
     "output_type": "stream",
     "text": [
      "[WRITE] Saved result from sample_state_combined_county_id_10ppc_1000_size_seed_9101.pkl to /home/libe2152/optimizedsampling/0_results/usavars/treecover/cluster_sampling_r2_scores.csv\n",
      "[SKIP] Not enough samples (90) in sample_state_combined_county_id_10ppc_100_size_seed_1.pkl\n",
      "[SKIP] Not enough samples (90) in sample_state_combined_county_id_10ppc_100_size_seed_1213.pkl\n",
      "[SKIP] Not enough samples (90) in sample_state_combined_county_id_10ppc_100_size_seed_123.pkl\n",
      "[SKIP] Not enough samples (85) in sample_state_combined_county_id_10ppc_100_size_seed_1234.pkl\n",
      "[SKIP] Not enough samples (90) in sample_state_combined_county_id_10ppc_100_size_seed_1415.pkl\n",
      "[SKIP] Not enough samples (90) in sample_state_combined_county_id_10ppc_100_size_seed_42.pkl\n",
      "[SKIP] Not enough samples (90) in sample_state_combined_county_id_10ppc_100_size_seed_456.pkl\n",
      "[SKIP] Not enough samples (88) in sample_state_combined_county_id_10ppc_100_size_seed_5678.pkl\n",
      "[SKIP] Not enough samples (90) in sample_state_combined_county_id_10ppc_100_size_seed_789.pkl\n",
      "[SKIP] Not enough samples (90) in sample_state_combined_county_id_10ppc_100_size_seed_9101.pkl\n",
      "Fitting regression...\n"
     ]
    },
    {
     "name": "stderr",
     "output_type": "stream",
     "text": [
      "Processing samples:  11%|█         | 22/201 [00:49<04:07,  1.38s/it]"
     ]
    },
    {
     "name": "stdout",
     "output_type": "stream",
     "text": [
      "[WRITE] Saved result from sample_state_combined_county_id_10ppc_200_size_seed_1.pkl to /home/libe2152/optimizedsampling/0_results/usavars/treecover/cluster_sampling_r2_scores.csv\n",
      "Fitting regression...\n"
     ]
    },
    {
     "name": "stderr",
     "output_type": "stream",
     "text": [
      "Processing samples:  11%|█▏        | 23/201 [00:51<04:17,  1.45s/it]"
     ]
    },
    {
     "name": "stdout",
     "output_type": "stream",
     "text": [
      "[WRITE] Saved result from sample_state_combined_county_id_10ppc_200_size_seed_1213.pkl to /home/libe2152/optimizedsampling/0_results/usavars/treecover/cluster_sampling_r2_scores.csv\n",
      "Fitting regression...\n"
     ]
    },
    {
     "name": "stderr",
     "output_type": "stream",
     "text": [
      "Processing samples:  12%|█▏        | 24/201 [00:53<04:23,  1.49s/it]"
     ]
    },
    {
     "name": "stdout",
     "output_type": "stream",
     "text": [
      "[WRITE] Saved result from sample_state_combined_county_id_10ppc_200_size_seed_123.pkl to /home/libe2152/optimizedsampling/0_results/usavars/treecover/cluster_sampling_r2_scores.csv\n",
      "Fitting regression...\n"
     ]
    },
    {
     "name": "stderr",
     "output_type": "stream",
     "text": [
      "Processing samples:  12%|█▏        | 25/201 [00:55<04:43,  1.61s/it]"
     ]
    },
    {
     "name": "stdout",
     "output_type": "stream",
     "text": [
      "[WRITE] Saved result from sample_state_combined_county_id_10ppc_200_size_seed_1234.pkl to /home/libe2152/optimizedsampling/0_results/usavars/treecover/cluster_sampling_r2_scores.csv\n",
      "Fitting regression...\n"
     ]
    },
    {
     "name": "stderr",
     "output_type": "stream",
     "text": [
      "Processing samples:  13%|█▎        | 26/201 [00:57<04:51,  1.66s/it]"
     ]
    },
    {
     "name": "stdout",
     "output_type": "stream",
     "text": [
      "[WRITE] Saved result from sample_state_combined_county_id_10ppc_200_size_seed_1415.pkl to /home/libe2152/optimizedsampling/0_results/usavars/treecover/cluster_sampling_r2_scores.csv\n",
      "Fitting regression...\n"
     ]
    },
    {
     "name": "stderr",
     "output_type": "stream",
     "text": [
      "Processing samples:  13%|█▎        | 27/201 [00:59<05:07,  1.77s/it]"
     ]
    },
    {
     "name": "stdout",
     "output_type": "stream",
     "text": [
      "[WRITE] Saved result from sample_state_combined_county_id_10ppc_200_size_seed_42.pkl to /home/libe2152/optimizedsampling/0_results/usavars/treecover/cluster_sampling_r2_scores.csv\n",
      "Fitting regression...\n"
     ]
    },
    {
     "name": "stderr",
     "output_type": "stream",
     "text": [
      "Processing samples:  14%|█▍        | 28/201 [01:01<05:25,  1.88s/it]"
     ]
    },
    {
     "name": "stdout",
     "output_type": "stream",
     "text": [
      "[WRITE] Saved result from sample_state_combined_county_id_10ppc_200_size_seed_456.pkl to /home/libe2152/optimizedsampling/0_results/usavars/treecover/cluster_sampling_r2_scores.csv\n",
      "Fitting regression...\n"
     ]
    },
    {
     "name": "stderr",
     "output_type": "stream",
     "text": [
      "Processing samples:  14%|█▍        | 29/201 [01:04<05:57,  2.08s/it]"
     ]
    },
    {
     "name": "stdout",
     "output_type": "stream",
     "text": [
      "[WRITE] Saved result from sample_state_combined_county_id_10ppc_200_size_seed_5678.pkl to /home/libe2152/optimizedsampling/0_results/usavars/treecover/cluster_sampling_r2_scores.csv\n",
      "Fitting regression...\n"
     ]
    },
    {
     "name": "stderr",
     "output_type": "stream",
     "text": [
      "Processing samples:  15%|█▍        | 30/201 [01:07<06:10,  2.17s/it]"
     ]
    },
    {
     "name": "stdout",
     "output_type": "stream",
     "text": [
      "[WRITE] Saved result from sample_state_combined_county_id_10ppc_200_size_seed_789.pkl to /home/libe2152/optimizedsampling/0_results/usavars/treecover/cluster_sampling_r2_scores.csv\n",
      "Fitting regression...\n"
     ]
    },
    {
     "name": "stderr",
     "output_type": "stream",
     "text": [
      "Processing samples:  15%|█▌        | 31/201 [01:09<06:02,  2.13s/it]"
     ]
    },
    {
     "name": "stdout",
     "output_type": "stream",
     "text": [
      "[WRITE] Saved result from sample_state_combined_county_id_10ppc_200_size_seed_9101.pkl to /home/libe2152/optimizedsampling/0_results/usavars/treecover/cluster_sampling_r2_scores.csv\n",
      "Fitting regression...\n"
     ]
    },
    {
     "name": "stderr",
     "output_type": "stream",
     "text": [
      "Processing samples:  16%|█▌        | 32/201 [01:10<05:43,  2.03s/it]"
     ]
    },
    {
     "name": "stdout",
     "output_type": "stream",
     "text": [
      "[WRITE] Saved result from sample_state_combined_county_id_10ppc_300_size_seed_1.pkl to /home/libe2152/optimizedsampling/0_results/usavars/treecover/cluster_sampling_r2_scores.csv\n",
      "Fitting regression...\n"
     ]
    },
    {
     "name": "stderr",
     "output_type": "stream",
     "text": [
      "Processing samples:  16%|█▋        | 33/201 [01:12<05:08,  1.83s/it]"
     ]
    },
    {
     "name": "stdout",
     "output_type": "stream",
     "text": [
      "[WRITE] Saved result from sample_state_combined_county_id_10ppc_300_size_seed_1213.pkl to /home/libe2152/optimizedsampling/0_results/usavars/treecover/cluster_sampling_r2_scores.csv\n",
      "Fitting regression...\n"
     ]
    },
    {
     "name": "stderr",
     "output_type": "stream",
     "text": [
      "Processing samples:  17%|█▋        | 34/201 [01:13<04:44,  1.70s/it]"
     ]
    },
    {
     "name": "stdout",
     "output_type": "stream",
     "text": [
      "[WRITE] Saved result from sample_state_combined_county_id_10ppc_300_size_seed_123.pkl to /home/libe2152/optimizedsampling/0_results/usavars/treecover/cluster_sampling_r2_scores.csv\n",
      "Fitting regression...\n"
     ]
    },
    {
     "name": "stderr",
     "output_type": "stream",
     "text": [
      "Processing samples:  17%|█▋        | 35/201 [01:15<04:51,  1.76s/it]"
     ]
    },
    {
     "name": "stdout",
     "output_type": "stream",
     "text": [
      "[WRITE] Saved result from sample_state_combined_county_id_10ppc_300_size_seed_1234.pkl to /home/libe2152/optimizedsampling/0_results/usavars/treecover/cluster_sampling_r2_scores.csv\n",
      "Fitting regression...\n"
     ]
    },
    {
     "name": "stderr",
     "output_type": "stream",
     "text": [
      "Processing samples:  18%|█▊        | 36/201 [01:17<05:15,  1.91s/it]"
     ]
    },
    {
     "name": "stdout",
     "output_type": "stream",
     "text": [
      "[WRITE] Saved result from sample_state_combined_county_id_10ppc_300_size_seed_1415.pkl to /home/libe2152/optimizedsampling/0_results/usavars/treecover/cluster_sampling_r2_scores.csv\n",
      "Fitting regression...\n"
     ]
    },
    {
     "name": "stderr",
     "output_type": "stream",
     "text": [
      "Processing samples:  18%|█▊        | 37/201 [01:20<05:30,  2.02s/it]"
     ]
    },
    {
     "name": "stdout",
     "output_type": "stream",
     "text": [
      "[WRITE] Saved result from sample_state_combined_county_id_10ppc_300_size_seed_42.pkl to /home/libe2152/optimizedsampling/0_results/usavars/treecover/cluster_sampling_r2_scores.csv\n",
      "Fitting regression...\n"
     ]
    },
    {
     "name": "stderr",
     "output_type": "stream",
     "text": [
      "Processing samples:  19%|█▉        | 38/201 [01:23<06:13,  2.29s/it]"
     ]
    },
    {
     "name": "stdout",
     "output_type": "stream",
     "text": [
      "[WRITE] Saved result from sample_state_combined_county_id_10ppc_300_size_seed_456.pkl to /home/libe2152/optimizedsampling/0_results/usavars/treecover/cluster_sampling_r2_scores.csv\n",
      "Fitting regression...\n"
     ]
    },
    {
     "name": "stderr",
     "output_type": "stream",
     "text": [
      "Processing samples:  19%|█▉        | 39/201 [01:26<06:57,  2.58s/it]"
     ]
    },
    {
     "name": "stdout",
     "output_type": "stream",
     "text": [
      "[WRITE] Saved result from sample_state_combined_county_id_10ppc_300_size_seed_5678.pkl to /home/libe2152/optimizedsampling/0_results/usavars/treecover/cluster_sampling_r2_scores.csv\n",
      "Fitting regression...\n"
     ]
    },
    {
     "name": "stderr",
     "output_type": "stream",
     "text": [
      "Processing samples:  20%|█▉        | 40/201 [01:28<06:31,  2.43s/it]"
     ]
    },
    {
     "name": "stdout",
     "output_type": "stream",
     "text": [
      "[WRITE] Saved result from sample_state_combined_county_id_10ppc_300_size_seed_789.pkl to /home/libe2152/optimizedsampling/0_results/usavars/treecover/cluster_sampling_r2_scores.csv\n",
      "Fitting regression...\n"
     ]
    },
    {
     "name": "stderr",
     "output_type": "stream",
     "text": [
      "Processing samples:  20%|██        | 41/201 [01:30<06:16,  2.36s/it]"
     ]
    },
    {
     "name": "stdout",
     "output_type": "stream",
     "text": [
      "[WRITE] Saved result from sample_state_combined_county_id_10ppc_300_size_seed_9101.pkl to /home/libe2152/optimizedsampling/0_results/usavars/treecover/cluster_sampling_r2_scores.csv\n",
      "Fitting regression...\n"
     ]
    },
    {
     "name": "stderr",
     "output_type": "stream",
     "text": [
      "Processing samples:  21%|██        | 42/201 [01:32<05:58,  2.26s/it]"
     ]
    },
    {
     "name": "stdout",
     "output_type": "stream",
     "text": [
      "[WRITE] Saved result from sample_state_combined_county_id_10ppc_400_size_seed_1.pkl to /home/libe2152/optimizedsampling/0_results/usavars/treecover/cluster_sampling_r2_scores.csv\n",
      "Fitting regression...\n"
     ]
    },
    {
     "name": "stderr",
     "output_type": "stream",
     "text": [
      "Processing samples:  21%|██▏       | 43/201 [01:34<05:31,  2.10s/it]"
     ]
    },
    {
     "name": "stdout",
     "output_type": "stream",
     "text": [
      "[WRITE] Saved result from sample_state_combined_county_id_10ppc_400_size_seed_1213.pkl to /home/libe2152/optimizedsampling/0_results/usavars/treecover/cluster_sampling_r2_scores.csv\n",
      "Fitting regression...\n"
     ]
    },
    {
     "name": "stderr",
     "output_type": "stream",
     "text": [
      "Processing samples:  22%|██▏       | 44/201 [01:35<05:00,  1.91s/it]"
     ]
    },
    {
     "name": "stdout",
     "output_type": "stream",
     "text": [
      "[WRITE] Saved result from sample_state_combined_county_id_10ppc_400_size_seed_123.pkl to /home/libe2152/optimizedsampling/0_results/usavars/treecover/cluster_sampling_r2_scores.csv\n",
      "Fitting regression...\n"
     ]
    },
    {
     "name": "stderr",
     "output_type": "stream",
     "text": [
      "Processing samples:  22%|██▏       | 45/201 [01:37<04:32,  1.74s/it]"
     ]
    },
    {
     "name": "stdout",
     "output_type": "stream",
     "text": [
      "[WRITE] Saved result from sample_state_combined_county_id_10ppc_400_size_seed_1234.pkl to /home/libe2152/optimizedsampling/0_results/usavars/treecover/cluster_sampling_r2_scores.csv\n",
      "Fitting regression...\n"
     ]
    },
    {
     "name": "stderr",
     "output_type": "stream",
     "text": [
      "Processing samples:  23%|██▎       | 46/201 [01:39<04:50,  1.88s/it]"
     ]
    },
    {
     "name": "stdout",
     "output_type": "stream",
     "text": [
      "[WRITE] Saved result from sample_state_combined_county_id_10ppc_400_size_seed_1415.pkl to /home/libe2152/optimizedsampling/0_results/usavars/treecover/cluster_sampling_r2_scores.csv\n",
      "Fitting regression...\n"
     ]
    },
    {
     "name": "stderr",
     "output_type": "stream",
     "text": [
      "Processing samples:  23%|██▎       | 47/201 [01:41<04:59,  1.94s/it]"
     ]
    },
    {
     "name": "stdout",
     "output_type": "stream",
     "text": [
      "[WRITE] Saved result from sample_state_combined_county_id_10ppc_400_size_seed_42.pkl to /home/libe2152/optimizedsampling/0_results/usavars/treecover/cluster_sampling_r2_scores.csv\n",
      "Fitting regression...\n"
     ]
    },
    {
     "name": "stderr",
     "output_type": "stream",
     "text": [
      "Processing samples:  24%|██▍       | 48/201 [01:44<06:02,  2.37s/it]"
     ]
    },
    {
     "name": "stdout",
     "output_type": "stream",
     "text": [
      "[WRITE] Saved result from sample_state_combined_county_id_10ppc_400_size_seed_456.pkl to /home/libe2152/optimizedsampling/0_results/usavars/treecover/cluster_sampling_r2_scores.csv\n",
      "Fitting regression...\n"
     ]
    },
    {
     "name": "stderr",
     "output_type": "stream",
     "text": [
      "Processing samples:  24%|██▍       | 49/201 [01:47<05:57,  2.35s/it]"
     ]
    },
    {
     "name": "stdout",
     "output_type": "stream",
     "text": [
      "[WRITE] Saved result from sample_state_combined_county_id_10ppc_400_size_seed_5678.pkl to /home/libe2152/optimizedsampling/0_results/usavars/treecover/cluster_sampling_r2_scores.csv\n",
      "Fitting regression...\n"
     ]
    },
    {
     "name": "stderr",
     "output_type": "stream",
     "text": [
      "Processing samples:  25%|██▍       | 50/201 [01:49<06:03,  2.41s/it]"
     ]
    },
    {
     "name": "stdout",
     "output_type": "stream",
     "text": [
      "[WRITE] Saved result from sample_state_combined_county_id_10ppc_400_size_seed_789.pkl to /home/libe2152/optimizedsampling/0_results/usavars/treecover/cluster_sampling_r2_scores.csv\n",
      "Fitting regression...\n"
     ]
    },
    {
     "name": "stderr",
     "output_type": "stream",
     "text": [
      "Processing samples:  25%|██▌       | 51/201 [01:53<06:56,  2.78s/it]"
     ]
    },
    {
     "name": "stdout",
     "output_type": "stream",
     "text": [
      "[WRITE] Saved result from sample_state_combined_county_id_10ppc_400_size_seed_9101.pkl to /home/libe2152/optimizedsampling/0_results/usavars/treecover/cluster_sampling_r2_scores.csv\n",
      "Fitting regression...\n"
     ]
    },
    {
     "name": "stderr",
     "output_type": "stream",
     "text": [
      "Processing samples:  26%|██▌       | 52/201 [01:56<07:07,  2.87s/it]"
     ]
    },
    {
     "name": "stdout",
     "output_type": "stream",
     "text": [
      "[WRITE] Saved result from sample_state_combined_county_id_10ppc_500_size_seed_1.pkl to /home/libe2152/optimizedsampling/0_results/usavars/treecover/cluster_sampling_r2_scores.csv\n",
      "Fitting regression...\n"
     ]
    },
    {
     "name": "stderr",
     "output_type": "stream",
     "text": [
      "Processing samples:  26%|██▋       | 53/201 [01:58<06:12,  2.52s/it]"
     ]
    },
    {
     "name": "stdout",
     "output_type": "stream",
     "text": [
      "[WRITE] Saved result from sample_state_combined_county_id_10ppc_500_size_seed_1213.pkl to /home/libe2152/optimizedsampling/0_results/usavars/treecover/cluster_sampling_r2_scores.csv\n",
      "Fitting regression...\n"
     ]
    },
    {
     "name": "stderr",
     "output_type": "stream",
     "text": [
      "Processing samples:  27%|██▋       | 54/201 [01:59<05:33,  2.27s/it]"
     ]
    },
    {
     "name": "stdout",
     "output_type": "stream",
     "text": [
      "[WRITE] Saved result from sample_state_combined_county_id_10ppc_500_size_seed_123.pkl to /home/libe2152/optimizedsampling/0_results/usavars/treecover/cluster_sampling_r2_scores.csv\n",
      "Fitting regression...\n"
     ]
    },
    {
     "name": "stderr",
     "output_type": "stream",
     "text": [
      "Processing samples:  27%|██▋       | 55/201 [02:02<05:53,  2.42s/it]"
     ]
    },
    {
     "name": "stdout",
     "output_type": "stream",
     "text": [
      "[WRITE] Saved result from sample_state_combined_county_id_10ppc_500_size_seed_1234.pkl to /home/libe2152/optimizedsampling/0_results/usavars/treecover/cluster_sampling_r2_scores.csv\n",
      "Fitting regression...\n"
     ]
    },
    {
     "name": "stderr",
     "output_type": "stream",
     "text": [
      "Processing samples:  28%|██▊       | 56/201 [02:06<06:39,  2.75s/it]"
     ]
    },
    {
     "name": "stdout",
     "output_type": "stream",
     "text": [
      "[WRITE] Saved result from sample_state_combined_county_id_10ppc_500_size_seed_1415.pkl to /home/libe2152/optimizedsampling/0_results/usavars/treecover/cluster_sampling_r2_scores.csv\n",
      "Fitting regression...\n"
     ]
    },
    {
     "name": "stderr",
     "output_type": "stream",
     "text": [
      "Processing samples:  28%|██▊       | 57/201 [02:08<06:29,  2.71s/it]"
     ]
    },
    {
     "name": "stdout",
     "output_type": "stream",
     "text": [
      "[WRITE] Saved result from sample_state_combined_county_id_10ppc_500_size_seed_42.pkl to /home/libe2152/optimizedsampling/0_results/usavars/treecover/cluster_sampling_r2_scores.csv\n",
      "Fitting regression...\n"
     ]
    },
    {
     "name": "stderr",
     "output_type": "stream",
     "text": [
      "Processing samples:  29%|██▉       | 58/201 [02:12<07:32,  3.16s/it]"
     ]
    },
    {
     "name": "stdout",
     "output_type": "stream",
     "text": [
      "[WRITE] Saved result from sample_state_combined_county_id_10ppc_500_size_seed_456.pkl to /home/libe2152/optimizedsampling/0_results/usavars/treecover/cluster_sampling_r2_scores.csv\n",
      "Fitting regression...\n"
     ]
    },
    {
     "name": "stderr",
     "output_type": "stream",
     "text": [
      "Processing samples:  29%|██▉       | 59/201 [02:17<08:26,  3.57s/it]"
     ]
    },
    {
     "name": "stdout",
     "output_type": "stream",
     "text": [
      "[WRITE] Saved result from sample_state_combined_county_id_10ppc_500_size_seed_5678.pkl to /home/libe2152/optimizedsampling/0_results/usavars/treecover/cluster_sampling_r2_scores.csv\n",
      "Fitting regression...\n"
     ]
    },
    {
     "name": "stderr",
     "output_type": "stream",
     "text": [
      "Processing samples:  30%|██▉       | 60/201 [02:19<07:33,  3.22s/it]"
     ]
    },
    {
     "name": "stdout",
     "output_type": "stream",
     "text": [
      "[WRITE] Saved result from sample_state_combined_county_id_10ppc_500_size_seed_789.pkl to /home/libe2152/optimizedsampling/0_results/usavars/treecover/cluster_sampling_r2_scores.csv\n",
      "Fitting regression...\n"
     ]
    },
    {
     "name": "stderr",
     "output_type": "stream",
     "text": [
      "Processing samples:  30%|███       | 61/201 [02:21<06:25,  2.75s/it]"
     ]
    },
    {
     "name": "stdout",
     "output_type": "stream",
     "text": [
      "[WRITE] Saved result from sample_state_combined_county_id_10ppc_500_size_seed_9101.pkl to /home/libe2152/optimizedsampling/0_results/usavars/treecover/cluster_sampling_r2_scores.csv\n",
      "Fitting regression...\n"
     ]
    },
    {
     "name": "stderr",
     "output_type": "stream",
     "text": [
      "Processing samples:  31%|███       | 62/201 [02:23<05:59,  2.59s/it]"
     ]
    },
    {
     "name": "stdout",
     "output_type": "stream",
     "text": [
      "[WRITE] Saved result from sample_state_combined_county_id_10ppc_600_size_seed_1.pkl to /home/libe2152/optimizedsampling/0_results/usavars/treecover/cluster_sampling_r2_scores.csv\n",
      "Fitting regression...\n"
     ]
    },
    {
     "name": "stderr",
     "output_type": "stream",
     "text": [
      "Processing samples:  31%|███▏      | 63/201 [02:26<06:16,  2.73s/it]"
     ]
    },
    {
     "name": "stdout",
     "output_type": "stream",
     "text": [
      "[WRITE] Saved result from sample_state_combined_county_id_10ppc_600_size_seed_1213.pkl to /home/libe2152/optimizedsampling/0_results/usavars/treecover/cluster_sampling_r2_scores.csv\n",
      "Fitting regression...\n"
     ]
    },
    {
     "name": "stderr",
     "output_type": "stream",
     "text": [
      "Processing samples:  32%|███▏      | 64/201 [02:29<06:05,  2.67s/it]"
     ]
    },
    {
     "name": "stdout",
     "output_type": "stream",
     "text": [
      "[WRITE] Saved result from sample_state_combined_county_id_10ppc_600_size_seed_123.pkl to /home/libe2152/optimizedsampling/0_results/usavars/treecover/cluster_sampling_r2_scores.csv\n",
      "Fitting regression...\n"
     ]
    },
    {
     "name": "stderr",
     "output_type": "stream",
     "text": [
      "Processing samples:  32%|███▏      | 65/201 [02:34<07:32,  3.33s/it]"
     ]
    },
    {
     "name": "stdout",
     "output_type": "stream",
     "text": [
      "[WRITE] Saved result from sample_state_combined_county_id_10ppc_600_size_seed_1234.pkl to /home/libe2152/optimizedsampling/0_results/usavars/treecover/cluster_sampling_r2_scores.csv\n",
      "Fitting regression...\n"
     ]
    },
    {
     "name": "stderr",
     "output_type": "stream",
     "text": [
      "Processing samples:  33%|███▎      | 66/201 [02:36<06:51,  3.05s/it]"
     ]
    },
    {
     "name": "stdout",
     "output_type": "stream",
     "text": [
      "[WRITE] Saved result from sample_state_combined_county_id_10ppc_600_size_seed_1415.pkl to /home/libe2152/optimizedsampling/0_results/usavars/treecover/cluster_sampling_r2_scores.csv\n",
      "Fitting regression...\n"
     ]
    },
    {
     "name": "stderr",
     "output_type": "stream",
     "text": [
      "Processing samples:  33%|███▎      | 67/201 [02:39<06:44,  3.02s/it]"
     ]
    },
    {
     "name": "stdout",
     "output_type": "stream",
     "text": [
      "[WRITE] Saved result from sample_state_combined_county_id_10ppc_600_size_seed_42.pkl to /home/libe2152/optimizedsampling/0_results/usavars/treecover/cluster_sampling_r2_scores.csv\n",
      "Fitting regression...\n"
     ]
    },
    {
     "name": "stderr",
     "output_type": "stream",
     "text": [
      "Processing samples:  34%|███▍      | 68/201 [02:42<06:30,  2.94s/it]"
     ]
    },
    {
     "name": "stdout",
     "output_type": "stream",
     "text": [
      "[WRITE] Saved result from sample_state_combined_county_id_10ppc_600_size_seed_456.pkl to /home/libe2152/optimizedsampling/0_results/usavars/treecover/cluster_sampling_r2_scores.csv\n",
      "Fitting regression...\n"
     ]
    },
    {
     "name": "stderr",
     "output_type": "stream",
     "text": [
      "Processing samples:  34%|███▍      | 69/201 [02:44<06:07,  2.79s/it]"
     ]
    },
    {
     "name": "stdout",
     "output_type": "stream",
     "text": [
      "[WRITE] Saved result from sample_state_combined_county_id_10ppc_600_size_seed_5678.pkl to /home/libe2152/optimizedsampling/0_results/usavars/treecover/cluster_sampling_r2_scores.csv\n",
      "Fitting regression...\n"
     ]
    },
    {
     "name": "stderr",
     "output_type": "stream",
     "text": [
      "Processing samples:  35%|███▍      | 70/201 [02:46<05:37,  2.57s/it]"
     ]
    },
    {
     "name": "stdout",
     "output_type": "stream",
     "text": [
      "[WRITE] Saved result from sample_state_combined_county_id_10ppc_600_size_seed_789.pkl to /home/libe2152/optimizedsampling/0_results/usavars/treecover/cluster_sampling_r2_scores.csv\n",
      "Fitting regression...\n"
     ]
    },
    {
     "name": "stderr",
     "output_type": "stream",
     "text": [
      "Processing samples:  35%|███▌      | 71/201 [02:49<05:32,  2.56s/it]"
     ]
    },
    {
     "name": "stdout",
     "output_type": "stream",
     "text": [
      "[WRITE] Saved result from sample_state_combined_county_id_10ppc_600_size_seed_9101.pkl to /home/libe2152/optimizedsampling/0_results/usavars/treecover/cluster_sampling_r2_scores.csv\n",
      "Fitting regression...\n"
     ]
    },
    {
     "name": "stderr",
     "output_type": "stream",
     "text": [
      "Processing samples:  36%|███▌      | 72/201 [02:56<08:29,  3.95s/it]"
     ]
    },
    {
     "name": "stdout",
     "output_type": "stream",
     "text": [
      "[WRITE] Saved result from sample_state_combined_county_id_10ppc_700_size_seed_1.pkl to /home/libe2152/optimizedsampling/0_results/usavars/treecover/cluster_sampling_r2_scores.csv\n",
      "Fitting regression...\n"
     ]
    },
    {
     "name": "stderr",
     "output_type": "stream",
     "text": [
      "Processing samples:  36%|███▋      | 73/201 [03:03<10:40,  5.00s/it]"
     ]
    },
    {
     "name": "stdout",
     "output_type": "stream",
     "text": [
      "[WRITE] Saved result from sample_state_combined_county_id_10ppc_700_size_seed_1213.pkl to /home/libe2152/optimizedsampling/0_results/usavars/treecover/cluster_sampling_r2_scores.csv\n",
      "Fitting regression...\n"
     ]
    },
    {
     "name": "stderr",
     "output_type": "stream",
     "text": [
      "Processing samples:  37%|███▋      | 74/201 [03:07<09:43,  4.60s/it]"
     ]
    },
    {
     "name": "stdout",
     "output_type": "stream",
     "text": [
      "[WRITE] Saved result from sample_state_combined_county_id_10ppc_700_size_seed_123.pkl to /home/libe2152/optimizedsampling/0_results/usavars/treecover/cluster_sampling_r2_scores.csv\n",
      "Fitting regression...\n"
     ]
    },
    {
     "name": "stderr",
     "output_type": "stream",
     "text": [
      "Processing samples:  37%|███▋      | 75/201 [03:10<08:31,  4.06s/it]"
     ]
    },
    {
     "name": "stdout",
     "output_type": "stream",
     "text": [
      "[WRITE] Saved result from sample_state_combined_county_id_10ppc_700_size_seed_1234.pkl to /home/libe2152/optimizedsampling/0_results/usavars/treecover/cluster_sampling_r2_scores.csv\n",
      "Fitting regression...\n"
     ]
    },
    {
     "name": "stderr",
     "output_type": "stream",
     "text": [
      "Processing samples:  38%|███▊      | 76/201 [03:17<10:11,  4.89s/it]"
     ]
    },
    {
     "name": "stdout",
     "output_type": "stream",
     "text": [
      "[WRITE] Saved result from sample_state_combined_county_id_10ppc_700_size_seed_1415.pkl to /home/libe2152/optimizedsampling/0_results/usavars/treecover/cluster_sampling_r2_scores.csv\n",
      "Fitting regression...\n"
     ]
    },
    {
     "name": "stderr",
     "output_type": "stream",
     "text": [
      "Processing samples:  38%|███▊      | 77/201 [03:25<12:13,  5.92s/it]"
     ]
    },
    {
     "name": "stdout",
     "output_type": "stream",
     "text": [
      "[WRITE] Saved result from sample_state_combined_county_id_10ppc_700_size_seed_42.pkl to /home/libe2152/optimizedsampling/0_results/usavars/treecover/cluster_sampling_r2_scores.csv\n",
      "Fitting regression...\n"
     ]
    },
    {
     "name": "stderr",
     "output_type": "stream",
     "text": [
      "Processing samples:  39%|███▉      | 78/201 [03:32<12:52,  6.28s/it]"
     ]
    },
    {
     "name": "stdout",
     "output_type": "stream",
     "text": [
      "[WRITE] Saved result from sample_state_combined_county_id_10ppc_700_size_seed_456.pkl to /home/libe2152/optimizedsampling/0_results/usavars/treecover/cluster_sampling_r2_scores.csv\n",
      "Fitting regression...\n"
     ]
    },
    {
     "name": "stderr",
     "output_type": "stream",
     "text": [
      "Processing samples:  39%|███▉      | 79/201 [03:35<10:43,  5.28s/it]"
     ]
    },
    {
     "name": "stdout",
     "output_type": "stream",
     "text": [
      "[WRITE] Saved result from sample_state_combined_county_id_10ppc_700_size_seed_5678.pkl to /home/libe2152/optimizedsampling/0_results/usavars/treecover/cluster_sampling_r2_scores.csv\n",
      "Fitting regression...\n"
     ]
    },
    {
     "name": "stderr",
     "output_type": "stream",
     "text": [
      "Processing samples:  40%|███▉      | 80/201 [03:37<08:51,  4.39s/it]"
     ]
    },
    {
     "name": "stdout",
     "output_type": "stream",
     "text": [
      "[WRITE] Saved result from sample_state_combined_county_id_10ppc_700_size_seed_789.pkl to /home/libe2152/optimizedsampling/0_results/usavars/treecover/cluster_sampling_r2_scores.csv\n",
      "Fitting regression...\n"
     ]
    },
    {
     "name": "stderr",
     "output_type": "stream",
     "text": [
      "Processing samples:  40%|████      | 81/201 [03:45<10:32,  5.27s/it]"
     ]
    },
    {
     "name": "stdout",
     "output_type": "stream",
     "text": [
      "[WRITE] Saved result from sample_state_combined_county_id_10ppc_700_size_seed_9101.pkl to /home/libe2152/optimizedsampling/0_results/usavars/treecover/cluster_sampling_r2_scores.csv\n",
      "Fitting regression...\n"
     ]
    },
    {
     "name": "stderr",
     "output_type": "stream",
     "text": [
      "Processing samples:  41%|████      | 82/201 [03:52<11:53,  6.00s/it]"
     ]
    },
    {
     "name": "stdout",
     "output_type": "stream",
     "text": [
      "[WRITE] Saved result from sample_state_combined_county_id_10ppc_800_size_seed_1.pkl to /home/libe2152/optimizedsampling/0_results/usavars/treecover/cluster_sampling_r2_scores.csv\n",
      "Fitting regression...\n"
     ]
    },
    {
     "name": "stderr",
     "output_type": "stream",
     "text": [
      "Processing samples:  41%|████▏     | 83/201 [03:59<11:56,  6.07s/it]"
     ]
    },
    {
     "name": "stdout",
     "output_type": "stream",
     "text": [
      "[WRITE] Saved result from sample_state_combined_county_id_10ppc_800_size_seed_1213.pkl to /home/libe2152/optimizedsampling/0_results/usavars/treecover/cluster_sampling_r2_scores.csv\n",
      "Fitting regression...\n"
     ]
    },
    {
     "name": "stderr",
     "output_type": "stream",
     "text": [
      "Processing samples:  42%|████▏     | 84/201 [04:02<10:06,  5.19s/it]"
     ]
    },
    {
     "name": "stdout",
     "output_type": "stream",
     "text": [
      "[WRITE] Saved result from sample_state_combined_county_id_10ppc_800_size_seed_123.pkl to /home/libe2152/optimizedsampling/0_results/usavars/treecover/cluster_sampling_r2_scores.csv\n",
      "Fitting regression...\n"
     ]
    },
    {
     "name": "stderr",
     "output_type": "stream",
     "text": [
      "Processing samples:  42%|████▏     | 85/201 [04:09<11:19,  5.86s/it]"
     ]
    },
    {
     "name": "stdout",
     "output_type": "stream",
     "text": [
      "[WRITE] Saved result from sample_state_combined_county_id_10ppc_800_size_seed_1234.pkl to /home/libe2152/optimizedsampling/0_results/usavars/treecover/cluster_sampling_r2_scores.csv\n",
      "Fitting regression...\n"
     ]
    },
    {
     "name": "stderr",
     "output_type": "stream",
     "text": [
      "Processing samples:  43%|████▎     | 86/201 [04:18<12:39,  6.61s/it]"
     ]
    },
    {
     "name": "stdout",
     "output_type": "stream",
     "text": [
      "[WRITE] Saved result from sample_state_combined_county_id_10ppc_800_size_seed_1415.pkl to /home/libe2152/optimizedsampling/0_results/usavars/treecover/cluster_sampling_r2_scores.csv\n",
      "Fitting regression...\n"
     ]
    },
    {
     "name": "stderr",
     "output_type": "stream",
     "text": [
      "Processing samples:  43%|████▎     | 87/201 [04:25<13:14,  6.97s/it]"
     ]
    },
    {
     "name": "stdout",
     "output_type": "stream",
     "text": [
      "[WRITE] Saved result from sample_state_combined_county_id_10ppc_800_size_seed_42.pkl to /home/libe2152/optimizedsampling/0_results/usavars/treecover/cluster_sampling_r2_scores.csv\n",
      "Fitting regression...\n"
     ]
    },
    {
     "name": "stderr",
     "output_type": "stream",
     "text": [
      "Processing samples:  44%|████▍     | 88/201 [04:30<11:37,  6.17s/it]"
     ]
    },
    {
     "name": "stdout",
     "output_type": "stream",
     "text": [
      "[WRITE] Saved result from sample_state_combined_county_id_10ppc_800_size_seed_456.pkl to /home/libe2152/optimizedsampling/0_results/usavars/treecover/cluster_sampling_r2_scores.csv\n",
      "Fitting regression...\n"
     ]
    },
    {
     "name": "stderr",
     "output_type": "stream",
     "text": [
      "Processing samples:  44%|████▍     | 89/201 [04:34<10:30,  5.63s/it]"
     ]
    },
    {
     "name": "stdout",
     "output_type": "stream",
     "text": [
      "[WRITE] Saved result from sample_state_combined_county_id_10ppc_800_size_seed_5678.pkl to /home/libe2152/optimizedsampling/0_results/usavars/treecover/cluster_sampling_r2_scores.csv\n",
      "Fitting regression...\n"
     ]
    },
    {
     "name": "stderr",
     "output_type": "stream",
     "text": [
      "Processing samples:  45%|████▍     | 90/201 [04:38<09:24,  5.09s/it]"
     ]
    },
    {
     "name": "stdout",
     "output_type": "stream",
     "text": [
      "[WRITE] Saved result from sample_state_combined_county_id_10ppc_800_size_seed_789.pkl to /home/libe2152/optimizedsampling/0_results/usavars/treecover/cluster_sampling_r2_scores.csv\n",
      "Fitting regression...\n"
     ]
    },
    {
     "name": "stderr",
     "output_type": "stream",
     "text": [
      "Processing samples:  45%|████▌     | 91/201 [04:46<11:02,  6.02s/it]"
     ]
    },
    {
     "name": "stdout",
     "output_type": "stream",
     "text": [
      "[WRITE] Saved result from sample_state_combined_county_id_10ppc_800_size_seed_9101.pkl to /home/libe2152/optimizedsampling/0_results/usavars/treecover/cluster_sampling_r2_scores.csv\n",
      "Fitting regression...\n"
     ]
    },
    {
     "name": "stderr",
     "output_type": "stream",
     "text": [
      "Processing samples:  46%|████▌     | 92/201 [04:52<11:10,  6.15s/it]"
     ]
    },
    {
     "name": "stdout",
     "output_type": "stream",
     "text": [
      "[WRITE] Saved result from sample_state_combined_county_id_10ppc_900_size_seed_1.pkl to /home/libe2152/optimizedsampling/0_results/usavars/treecover/cluster_sampling_r2_scores.csv\n",
      "Fitting regression...\n"
     ]
    },
    {
     "name": "stderr",
     "output_type": "stream",
     "text": [
      "Processing samples:  46%|████▋     | 93/201 [04:56<09:55,  5.51s/it]"
     ]
    },
    {
     "name": "stdout",
     "output_type": "stream",
     "text": [
      "[WRITE] Saved result from sample_state_combined_county_id_10ppc_900_size_seed_1213.pkl to /home/libe2152/optimizedsampling/0_results/usavars/treecover/cluster_sampling_r2_scores.csv\n",
      "Fitting regression...\n"
     ]
    },
    {
     "name": "stderr",
     "output_type": "stream",
     "text": [
      "Processing samples:  47%|████▋     | 94/201 [05:05<11:34,  6.50s/it]"
     ]
    },
    {
     "name": "stdout",
     "output_type": "stream",
     "text": [
      "[WRITE] Saved result from sample_state_combined_county_id_10ppc_900_size_seed_123.pkl to /home/libe2152/optimizedsampling/0_results/usavars/treecover/cluster_sampling_r2_scores.csv\n",
      "Fitting regression...\n"
     ]
    },
    {
     "name": "stderr",
     "output_type": "stream",
     "text": [
      "Processing samples:  47%|████▋     | 95/201 [05:14<12:51,  7.27s/it]"
     ]
    },
    {
     "name": "stdout",
     "output_type": "stream",
     "text": [
      "[WRITE] Saved result from sample_state_combined_county_id_10ppc_900_size_seed_1234.pkl to /home/libe2152/optimizedsampling/0_results/usavars/treecover/cluster_sampling_r2_scores.csv\n",
      "Fitting regression...\n"
     ]
    },
    {
     "name": "stderr",
     "output_type": "stream",
     "text": [
      "Processing samples:  48%|████▊     | 96/201 [05:18<10:57,  6.26s/it]"
     ]
    },
    {
     "name": "stdout",
     "output_type": "stream",
     "text": [
      "[WRITE] Saved result from sample_state_combined_county_id_10ppc_900_size_seed_1415.pkl to /home/libe2152/optimizedsampling/0_results/usavars/treecover/cluster_sampling_r2_scores.csv\n",
      "Fitting regression...\n"
     ]
    },
    {
     "name": "stderr",
     "output_type": "stream",
     "text": [
      "Processing samples:  48%|████▊     | 97/201 [05:21<08:49,  5.09s/it]"
     ]
    },
    {
     "name": "stdout",
     "output_type": "stream",
     "text": [
      "[WRITE] Saved result from sample_state_combined_county_id_10ppc_900_size_seed_42.pkl to /home/libe2152/optimizedsampling/0_results/usavars/treecover/cluster_sampling_r2_scores.csv\n",
      "Fitting regression...\n"
     ]
    },
    {
     "name": "stderr",
     "output_type": "stream",
     "text": [
      "Processing samples:  49%|████▉     | 98/201 [05:30<10:52,  6.34s/it]"
     ]
    },
    {
     "name": "stdout",
     "output_type": "stream",
     "text": [
      "[WRITE] Saved result from sample_state_combined_county_id_10ppc_900_size_seed_456.pkl to /home/libe2152/optimizedsampling/0_results/usavars/treecover/cluster_sampling_r2_scores.csv\n",
      "Fitting regression...\n"
     ]
    },
    {
     "name": "stderr",
     "output_type": "stream",
     "text": [
      "Processing samples:  49%|████▉     | 99/201 [05:38<11:47,  6.94s/it]"
     ]
    },
    {
     "name": "stdout",
     "output_type": "stream",
     "text": [
      "[WRITE] Saved result from sample_state_combined_county_id_10ppc_900_size_seed_5678.pkl to /home/libe2152/optimizedsampling/0_results/usavars/treecover/cluster_sampling_r2_scores.csv\n",
      "Fitting regression...\n"
     ]
    },
    {
     "name": "stderr",
     "output_type": "stream",
     "text": [
      "Processing samples:  50%|████▉     | 100/201 [05:44<10:59,  6.53s/it]"
     ]
    },
    {
     "name": "stdout",
     "output_type": "stream",
     "text": [
      "[WRITE] Saved result from sample_state_combined_county_id_10ppc_900_size_seed_789.pkl to /home/libe2152/optimizedsampling/0_results/usavars/treecover/cluster_sampling_r2_scores.csv\n",
      "Fitting regression...\n"
     ]
    },
    {
     "name": "stderr",
     "output_type": "stream",
     "text": [
      "Processing samples:  50%|█████     | 101/201 [05:47<09:09,  5.50s/it]"
     ]
    },
    {
     "name": "stdout",
     "output_type": "stream",
     "text": [
      "[WRITE] Saved result from sample_state_combined_county_id_10ppc_900_size_seed_9101.pkl to /home/libe2152/optimizedsampling/0_results/usavars/treecover/cluster_sampling_r2_scores.csv\n",
      "Fitting regression...\n"
     ]
    },
    {
     "name": "stderr",
     "output_type": "stream",
     "text": [
      "Processing samples:  51%|█████     | 102/201 [05:53<09:10,  5.56s/it]"
     ]
    },
    {
     "name": "stdout",
     "output_type": "stream",
     "text": [
      "[WRITE] Saved result from sample_state_combined_county_id_5ppc_1000_size_seed_1.pkl to /home/libe2152/optimizedsampling/0_results/usavars/treecover/cluster_sampling_r2_scores.csv\n",
      "Fitting regression...\n"
     ]
    },
    {
     "name": "stderr",
     "output_type": "stream",
     "text": [
      "Processing samples:  51%|█████     | 103/201 [06:02<10:47,  6.61s/it]"
     ]
    },
    {
     "name": "stdout",
     "output_type": "stream",
     "text": [
      "[WRITE] Saved result from sample_state_combined_county_id_5ppc_1000_size_seed_1213.pkl to /home/libe2152/optimizedsampling/0_results/usavars/treecover/cluster_sampling_r2_scores.csv\n",
      "Fitting regression...\n"
     ]
    },
    {
     "name": "stderr",
     "output_type": "stream",
     "text": [
      "Processing samples:  52%|█████▏    | 104/201 [06:09<11:11,  6.93s/it]"
     ]
    },
    {
     "name": "stdout",
     "output_type": "stream",
     "text": [
      "[WRITE] Saved result from sample_state_combined_county_id_5ppc_1000_size_seed_123.pkl to /home/libe2152/optimizedsampling/0_results/usavars/treecover/cluster_sampling_r2_scores.csv\n",
      "Fitting regression...\n"
     ]
    },
    {
     "name": "stderr",
     "output_type": "stream",
     "text": [
      "Processing samples:  52%|█████▏    | 105/201 [06:13<09:36,  6.01s/it]"
     ]
    },
    {
     "name": "stdout",
     "output_type": "stream",
     "text": [
      "[WRITE] Saved result from sample_state_combined_county_id_5ppc_1000_size_seed_1234.pkl to /home/libe2152/optimizedsampling/0_results/usavars/treecover/cluster_sampling_r2_scores.csv\n",
      "Fitting regression...\n"
     ]
    },
    {
     "name": "stderr",
     "output_type": "stream",
     "text": [
      "Processing samples:  53%|█████▎    | 106/201 [06:21<10:10,  6.43s/it]"
     ]
    },
    {
     "name": "stdout",
     "output_type": "stream",
     "text": [
      "[WRITE] Saved result from sample_state_combined_county_id_5ppc_1000_size_seed_1415.pkl to /home/libe2152/optimizedsampling/0_results/usavars/treecover/cluster_sampling_r2_scores.csv\n",
      "Fitting regression...\n"
     ]
    },
    {
     "name": "stderr",
     "output_type": "stream",
     "text": [
      "Processing samples:  53%|█████▎    | 107/201 [06:27<09:56,  6.34s/it]"
     ]
    },
    {
     "name": "stdout",
     "output_type": "stream",
     "text": [
      "[WRITE] Saved result from sample_state_combined_county_id_5ppc_1000_size_seed_42.pkl to /home/libe2152/optimizedsampling/0_results/usavars/treecover/cluster_sampling_r2_scores.csv\n",
      "Fitting regression...\n"
     ]
    },
    {
     "name": "stderr",
     "output_type": "stream",
     "text": [
      "Processing samples:  54%|█████▎    | 108/201 [06:30<08:36,  5.55s/it]"
     ]
    },
    {
     "name": "stdout",
     "output_type": "stream",
     "text": [
      "[WRITE] Saved result from sample_state_combined_county_id_5ppc_1000_size_seed_456.pkl to /home/libe2152/optimizedsampling/0_results/usavars/treecover/cluster_sampling_r2_scores.csv\n",
      "Fitting regression...\n"
     ]
    },
    {
     "name": "stderr",
     "output_type": "stream",
     "text": [
      "Processing samples:  54%|█████▍    | 109/201 [06:35<07:56,  5.18s/it]"
     ]
    },
    {
     "name": "stdout",
     "output_type": "stream",
     "text": [
      "[WRITE] Saved result from sample_state_combined_county_id_5ppc_1000_size_seed_5678.pkl to /home/libe2152/optimizedsampling/0_results/usavars/treecover/cluster_sampling_r2_scores.csv\n",
      "Fitting regression...\n"
     ]
    },
    {
     "name": "stderr",
     "output_type": "stream",
     "text": [
      "Processing samples:  55%|█████▍    | 110/201 [06:37<06:33,  4.32s/it]"
     ]
    },
    {
     "name": "stdout",
     "output_type": "stream",
     "text": [
      "[WRITE] Saved result from sample_state_combined_county_id_5ppc_1000_size_seed_789.pkl to /home/libe2152/optimizedsampling/0_results/usavars/treecover/cluster_sampling_r2_scores.csv\n",
      "Fitting regression...\n"
     ]
    },
    {
     "name": "stderr",
     "output_type": "stream",
     "text": [
      "Processing samples:  55%|█████▌    | 111/201 [06:40<05:50,  3.89s/it]"
     ]
    },
    {
     "name": "stdout",
     "output_type": "stream",
     "text": [
      "[WRITE] Saved result from sample_state_combined_county_id_5ppc_1000_size_seed_9101.pkl to /home/libe2152/optimizedsampling/0_results/usavars/treecover/cluster_sampling_r2_scores.csv\n",
      "[SKIP] Not enough samples (90) in sample_state_combined_county_id_5ppc_100_size_seed_1.pkl\n",
      "[SKIP] Not enough samples (90) in sample_state_combined_county_id_5ppc_100_size_seed_1213.pkl\n",
      "[SKIP] Not enough samples (90) in sample_state_combined_county_id_5ppc_100_size_seed_123.pkl\n",
      "[SKIP] Not enough samples (90) in sample_state_combined_county_id_5ppc_100_size_seed_1234.pkl\n",
      "[SKIP] Not enough samples (90) in sample_state_combined_county_id_5ppc_100_size_seed_1415.pkl\n",
      "[SKIP] Not enough samples (90) in sample_state_combined_county_id_5ppc_100_size_seed_42.pkl\n",
      "[SKIP] Not enough samples (90) in sample_state_combined_county_id_5ppc_100_size_seed_456.pkl\n",
      "[SKIP] Not enough samples (90) in sample_state_combined_county_id_5ppc_100_size_seed_5678.pkl\n",
      "[SKIP] Not enough samples (90) in sample_state_combined_county_id_5ppc_100_size_seed_789.pkl\n",
      "[SKIP] Not enough samples (90) in sample_state_combined_county_id_5ppc_100_size_seed_9101.pkl\n",
      "Fitting regression...\n"
     ]
    },
    {
     "name": "stderr",
     "output_type": "stream",
     "text": [
      "Processing samples:  61%|██████    | 122/201 [06:42<01:05,  1.21it/s]"
     ]
    },
    {
     "name": "stdout",
     "output_type": "stream",
     "text": [
      "[WRITE] Saved result from sample_state_combined_county_id_5ppc_200_size_seed_1.pkl to /home/libe2152/optimizedsampling/0_results/usavars/treecover/cluster_sampling_r2_scores.csv\n",
      "Fitting regression...\n"
     ]
    },
    {
     "name": "stderr",
     "output_type": "stream",
     "text": [
      "Processing samples:  61%|██████    | 123/201 [06:44<01:12,  1.07it/s]"
     ]
    },
    {
     "name": "stdout",
     "output_type": "stream",
     "text": [
      "[WRITE] Saved result from sample_state_combined_county_id_5ppc_200_size_seed_1213.pkl to /home/libe2152/optimizedsampling/0_results/usavars/treecover/cluster_sampling_r2_scores.csv\n",
      "Fitting regression...\n"
     ]
    },
    {
     "name": "stderr",
     "output_type": "stream",
     "text": [
      "Processing samples:  62%|██████▏   | 124/201 [06:46<01:19,  1.03s/it]"
     ]
    },
    {
     "name": "stdout",
     "output_type": "stream",
     "text": [
      "[WRITE] Saved result from sample_state_combined_county_id_5ppc_200_size_seed_123.pkl to /home/libe2152/optimizedsampling/0_results/usavars/treecover/cluster_sampling_r2_scores.csv\n",
      "Fitting regression...\n"
     ]
    },
    {
     "name": "stderr",
     "output_type": "stream",
     "text": [
      "Processing samples:  62%|██████▏   | 125/201 [06:47<01:24,  1.11s/it]"
     ]
    },
    {
     "name": "stdout",
     "output_type": "stream",
     "text": [
      "[WRITE] Saved result from sample_state_combined_county_id_5ppc_200_size_seed_1234.pkl to /home/libe2152/optimizedsampling/0_results/usavars/treecover/cluster_sampling_r2_scores.csv\n",
      "Fitting regression...\n"
     ]
    },
    {
     "name": "stderr",
     "output_type": "stream",
     "text": [
      "Processing samples:  63%|██████▎   | 126/201 [06:49<01:29,  1.20s/it]"
     ]
    },
    {
     "name": "stdout",
     "output_type": "stream",
     "text": [
      "[WRITE] Saved result from sample_state_combined_county_id_5ppc_200_size_seed_1415.pkl to /home/libe2152/optimizedsampling/0_results/usavars/treecover/cluster_sampling_r2_scores.csv\n",
      "Fitting regression...\n"
     ]
    },
    {
     "name": "stderr",
     "output_type": "stream",
     "text": [
      "Processing samples:  63%|██████▎   | 127/201 [06:50<01:36,  1.31s/it]"
     ]
    },
    {
     "name": "stdout",
     "output_type": "stream",
     "text": [
      "[WRITE] Saved result from sample_state_combined_county_id_5ppc_200_size_seed_42.pkl to /home/libe2152/optimizedsampling/0_results/usavars/treecover/cluster_sampling_r2_scores.csv\n",
      "Fitting regression...\n"
     ]
    },
    {
     "name": "stderr",
     "output_type": "stream",
     "text": [
      "Processing samples:  64%|██████▎   | 128/201 [06:52<01:45,  1.44s/it]"
     ]
    },
    {
     "name": "stdout",
     "output_type": "stream",
     "text": [
      "[WRITE] Saved result from sample_state_combined_county_id_5ppc_200_size_seed_456.pkl to /home/libe2152/optimizedsampling/0_results/usavars/treecover/cluster_sampling_r2_scores.csv\n",
      "Fitting regression...\n"
     ]
    },
    {
     "name": "stderr",
     "output_type": "stream",
     "text": [
      "Processing samples:  64%|██████▍   | 129/201 [06:54<01:46,  1.48s/it]"
     ]
    },
    {
     "name": "stdout",
     "output_type": "stream",
     "text": [
      "[WRITE] Saved result from sample_state_combined_county_id_5ppc_200_size_seed_5678.pkl to /home/libe2152/optimizedsampling/0_results/usavars/treecover/cluster_sampling_r2_scores.csv\n",
      "Fitting regression...\n"
     ]
    },
    {
     "name": "stderr",
     "output_type": "stream",
     "text": [
      "Processing samples:  65%|██████▍   | 130/201 [06:56<01:53,  1.60s/it]"
     ]
    },
    {
     "name": "stdout",
     "output_type": "stream",
     "text": [
      "[WRITE] Saved result from sample_state_combined_county_id_5ppc_200_size_seed_789.pkl to /home/libe2152/optimizedsampling/0_results/usavars/treecover/cluster_sampling_r2_scores.csv\n",
      "Fitting regression...\n"
     ]
    },
    {
     "name": "stderr",
     "output_type": "stream",
     "text": [
      "Processing samples:  65%|██████▌   | 131/201 [06:58<01:55,  1.65s/it]"
     ]
    },
    {
     "name": "stdout",
     "output_type": "stream",
     "text": [
      "[WRITE] Saved result from sample_state_combined_county_id_5ppc_200_size_seed_9101.pkl to /home/libe2152/optimizedsampling/0_results/usavars/treecover/cluster_sampling_r2_scores.csv\n",
      "Fitting regression...\n"
     ]
    },
    {
     "name": "stderr",
     "output_type": "stream",
     "text": [
      "Processing samples:  66%|██████▌   | 132/201 [06:59<01:48,  1.58s/it]"
     ]
    },
    {
     "name": "stdout",
     "output_type": "stream",
     "text": [
      "[WRITE] Saved result from sample_state_combined_county_id_5ppc_300_size_seed_1.pkl to /home/libe2152/optimizedsampling/0_results/usavars/treecover/cluster_sampling_r2_scores.csv\n",
      "Fitting regression...\n"
     ]
    },
    {
     "name": "stderr",
     "output_type": "stream",
     "text": [
      "Processing samples:  66%|██████▌   | 133/201 [07:01<01:46,  1.56s/it]"
     ]
    },
    {
     "name": "stdout",
     "output_type": "stream",
     "text": [
      "[WRITE] Saved result from sample_state_combined_county_id_5ppc_300_size_seed_1213.pkl to /home/libe2152/optimizedsampling/0_results/usavars/treecover/cluster_sampling_r2_scores.csv\n",
      "Fitting regression...\n"
     ]
    },
    {
     "name": "stderr",
     "output_type": "stream",
     "text": [
      "Processing samples:  67%|██████▋   | 134/201 [07:03<01:50,  1.65s/it]"
     ]
    },
    {
     "name": "stdout",
     "output_type": "stream",
     "text": [
      "[WRITE] Saved result from sample_state_combined_county_id_5ppc_300_size_seed_123.pkl to /home/libe2152/optimizedsampling/0_results/usavars/treecover/cluster_sampling_r2_scores.csv\n",
      "Fitting regression...\n"
     ]
    },
    {
     "name": "stderr",
     "output_type": "stream",
     "text": [
      "Processing samples:  67%|██████▋   | 135/201 [07:04<01:54,  1.73s/it]"
     ]
    },
    {
     "name": "stdout",
     "output_type": "stream",
     "text": [
      "[WRITE] Saved result from sample_state_combined_county_id_5ppc_300_size_seed_1234.pkl to /home/libe2152/optimizedsampling/0_results/usavars/treecover/cluster_sampling_r2_scores.csv\n",
      "Fitting regression...\n"
     ]
    },
    {
     "name": "stderr",
     "output_type": "stream",
     "text": [
      "Processing samples:  68%|██████▊   | 136/201 [07:06<01:57,  1.80s/it]"
     ]
    },
    {
     "name": "stdout",
     "output_type": "stream",
     "text": [
      "[WRITE] Saved result from sample_state_combined_county_id_5ppc_300_size_seed_1415.pkl to /home/libe2152/optimizedsampling/0_results/usavars/treecover/cluster_sampling_r2_scores.csv\n",
      "Fitting regression...\n"
     ]
    },
    {
     "name": "stderr",
     "output_type": "stream",
     "text": [
      "Processing samples:  68%|██████▊   | 137/201 [07:08<01:58,  1.84s/it]"
     ]
    },
    {
     "name": "stdout",
     "output_type": "stream",
     "text": [
      "[WRITE] Saved result from sample_state_combined_county_id_5ppc_300_size_seed_42.pkl to /home/libe2152/optimizedsampling/0_results/usavars/treecover/cluster_sampling_r2_scores.csv\n",
      "Fitting regression...\n"
     ]
    },
    {
     "name": "stderr",
     "output_type": "stream",
     "text": [
      "Processing samples:  69%|██████▊   | 138/201 [07:10<01:52,  1.78s/it]"
     ]
    },
    {
     "name": "stdout",
     "output_type": "stream",
     "text": [
      "[WRITE] Saved result from sample_state_combined_county_id_5ppc_300_size_seed_456.pkl to /home/libe2152/optimizedsampling/0_results/usavars/treecover/cluster_sampling_r2_scores.csv\n",
      "Fitting regression...\n"
     ]
    },
    {
     "name": "stderr",
     "output_type": "stream",
     "text": [
      "Processing samples:  69%|██████▉   | 139/201 [07:12<01:48,  1.75s/it]"
     ]
    },
    {
     "name": "stdout",
     "output_type": "stream",
     "text": [
      "[WRITE] Saved result from sample_state_combined_county_id_5ppc_300_size_seed_5678.pkl to /home/libe2152/optimizedsampling/0_results/usavars/treecover/cluster_sampling_r2_scores.csv\n",
      "Fitting regression...\n"
     ]
    },
    {
     "name": "stderr",
     "output_type": "stream",
     "text": [
      "Processing samples:  70%|██████▉   | 140/201 [07:13<01:47,  1.76s/it]"
     ]
    },
    {
     "name": "stdout",
     "output_type": "stream",
     "text": [
      "[WRITE] Saved result from sample_state_combined_county_id_5ppc_300_size_seed_789.pkl to /home/libe2152/optimizedsampling/0_results/usavars/treecover/cluster_sampling_r2_scores.csv\n",
      "Fitting regression...\n"
     ]
    },
    {
     "name": "stderr",
     "output_type": "stream",
     "text": [
      "Processing samples:  70%|███████   | 141/201 [07:16<01:52,  1.87s/it]"
     ]
    },
    {
     "name": "stdout",
     "output_type": "stream",
     "text": [
      "[WRITE] Saved result from sample_state_combined_county_id_5ppc_300_size_seed_9101.pkl to /home/libe2152/optimizedsampling/0_results/usavars/treecover/cluster_sampling_r2_scores.csv\n",
      "Fitting regression...\n"
     ]
    },
    {
     "name": "stderr",
     "output_type": "stream",
     "text": [
      "Processing samples:  71%|███████   | 142/201 [07:18<01:53,  1.92s/it]"
     ]
    },
    {
     "name": "stdout",
     "output_type": "stream",
     "text": [
      "[WRITE] Saved result from sample_state_combined_county_id_5ppc_400_size_seed_1.pkl to /home/libe2152/optimizedsampling/0_results/usavars/treecover/cluster_sampling_r2_scores.csv\n",
      "Fitting regression...\n"
     ]
    },
    {
     "name": "stderr",
     "output_type": "stream",
     "text": [
      "Processing samples:  71%|███████   | 143/201 [07:20<01:52,  1.95s/it]"
     ]
    },
    {
     "name": "stdout",
     "output_type": "stream",
     "text": [
      "[WRITE] Saved result from sample_state_combined_county_id_5ppc_400_size_seed_1213.pkl to /home/libe2152/optimizedsampling/0_results/usavars/treecover/cluster_sampling_r2_scores.csv\n",
      "Fitting regression...\n"
     ]
    },
    {
     "name": "stderr",
     "output_type": "stream",
     "text": [
      "Processing samples:  72%|███████▏  | 144/201 [07:21<01:40,  1.76s/it]"
     ]
    },
    {
     "name": "stdout",
     "output_type": "stream",
     "text": [
      "[WRITE] Saved result from sample_state_combined_county_id_5ppc_400_size_seed_123.pkl to /home/libe2152/optimizedsampling/0_results/usavars/treecover/cluster_sampling_r2_scores.csv\n",
      "Fitting regression...\n"
     ]
    },
    {
     "name": "stderr",
     "output_type": "stream",
     "text": [
      "Processing samples:  72%|███████▏  | 145/201 [07:23<01:38,  1.76s/it]"
     ]
    },
    {
     "name": "stdout",
     "output_type": "stream",
     "text": [
      "[WRITE] Saved result from sample_state_combined_county_id_5ppc_400_size_seed_1234.pkl to /home/libe2152/optimizedsampling/0_results/usavars/treecover/cluster_sampling_r2_scores.csv\n",
      "Fitting regression...\n"
     ]
    },
    {
     "name": "stderr",
     "output_type": "stream",
     "text": [
      "Processing samples:  73%|███████▎  | 146/201 [07:25<01:37,  1.78s/it]"
     ]
    },
    {
     "name": "stdout",
     "output_type": "stream",
     "text": [
      "[WRITE] Saved result from sample_state_combined_county_id_5ppc_400_size_seed_1415.pkl to /home/libe2152/optimizedsampling/0_results/usavars/treecover/cluster_sampling_r2_scores.csv\n",
      "Fitting regression...\n"
     ]
    },
    {
     "name": "stderr",
     "output_type": "stream",
     "text": [
      "Processing samples:  73%|███████▎  | 147/201 [07:27<01:49,  2.02s/it]"
     ]
    },
    {
     "name": "stdout",
     "output_type": "stream",
     "text": [
      "[WRITE] Saved result from sample_state_combined_county_id_5ppc_400_size_seed_42.pkl to /home/libe2152/optimizedsampling/0_results/usavars/treecover/cluster_sampling_r2_scores.csv\n",
      "Fitting regression...\n"
     ]
    },
    {
     "name": "stderr",
     "output_type": "stream",
     "text": [
      "Processing samples:  74%|███████▎  | 148/201 [07:31<02:08,  2.43s/it]"
     ]
    },
    {
     "name": "stdout",
     "output_type": "stream",
     "text": [
      "[WRITE] Saved result from sample_state_combined_county_id_5ppc_400_size_seed_456.pkl to /home/libe2152/optimizedsampling/0_results/usavars/treecover/cluster_sampling_r2_scores.csv\n",
      "Fitting regression...\n"
     ]
    },
    {
     "name": "stderr",
     "output_type": "stream",
     "text": [
      "Processing samples:  74%|███████▍  | 149/201 [07:33<02:05,  2.41s/it]"
     ]
    },
    {
     "name": "stdout",
     "output_type": "stream",
     "text": [
      "[WRITE] Saved result from sample_state_combined_county_id_5ppc_400_size_seed_5678.pkl to /home/libe2152/optimizedsampling/0_results/usavars/treecover/cluster_sampling_r2_scores.csv\n",
      "Fitting regression...\n"
     ]
    },
    {
     "name": "stderr",
     "output_type": "stream",
     "text": [
      "Processing samples:  75%|███████▍  | 150/201 [07:36<02:19,  2.73s/it]"
     ]
    },
    {
     "name": "stdout",
     "output_type": "stream",
     "text": [
      "[WRITE] Saved result from sample_state_combined_county_id_5ppc_400_size_seed_789.pkl to /home/libe2152/optimizedsampling/0_results/usavars/treecover/cluster_sampling_r2_scores.csv\n",
      "Fitting regression...\n"
     ]
    },
    {
     "name": "stderr",
     "output_type": "stream",
     "text": [
      "Processing samples:  75%|███████▌  | 151/201 [07:40<02:37,  3.14s/it]"
     ]
    },
    {
     "name": "stdout",
     "output_type": "stream",
     "text": [
      "[WRITE] Saved result from sample_state_combined_county_id_5ppc_400_size_seed_9101.pkl to /home/libe2152/optimizedsampling/0_results/usavars/treecover/cluster_sampling_r2_scores.csv\n",
      "Fitting regression...\n"
     ]
    },
    {
     "name": "stderr",
     "output_type": "stream",
     "text": [
      "Processing samples:  76%|███████▌  | 152/201 [07:43<02:19,  2.85s/it]"
     ]
    },
    {
     "name": "stdout",
     "output_type": "stream",
     "text": [
      "[WRITE] Saved result from sample_state_combined_county_id_5ppc_500_size_seed_1.pkl to /home/libe2152/optimizedsampling/0_results/usavars/treecover/cluster_sampling_r2_scores.csv\n",
      "Fitting regression...\n"
     ]
    },
    {
     "name": "stderr",
     "output_type": "stream",
     "text": [
      "Processing samples:  76%|███████▌  | 153/201 [07:44<02:02,  2.54s/it]"
     ]
    },
    {
     "name": "stdout",
     "output_type": "stream",
     "text": [
      "[WRITE] Saved result from sample_state_combined_county_id_5ppc_500_size_seed_1213.pkl to /home/libe2152/optimizedsampling/0_results/usavars/treecover/cluster_sampling_r2_scores.csv\n",
      "Fitting regression...\n"
     ]
    },
    {
     "name": "stderr",
     "output_type": "stream",
     "text": [
      "Processing samples:  77%|███████▋  | 154/201 [07:46<01:42,  2.19s/it]"
     ]
    },
    {
     "name": "stdout",
     "output_type": "stream",
     "text": [
      "[WRITE] Saved result from sample_state_combined_county_id_5ppc_500_size_seed_123.pkl to /home/libe2152/optimizedsampling/0_results/usavars/treecover/cluster_sampling_r2_scores.csv\n",
      "Fitting regression...\n"
     ]
    },
    {
     "name": "stderr",
     "output_type": "stream",
     "text": [
      "Processing samples:  77%|███████▋  | 155/201 [07:47<01:33,  2.03s/it]"
     ]
    },
    {
     "name": "stdout",
     "output_type": "stream",
     "text": [
      "[WRITE] Saved result from sample_state_combined_county_id_5ppc_500_size_seed_1234.pkl to /home/libe2152/optimizedsampling/0_results/usavars/treecover/cluster_sampling_r2_scores.csv\n",
      "Fitting regression...\n"
     ]
    },
    {
     "name": "stderr",
     "output_type": "stream",
     "text": [
      "Processing samples:  78%|███████▊  | 156/201 [07:52<02:05,  2.80s/it]"
     ]
    },
    {
     "name": "stdout",
     "output_type": "stream",
     "text": [
      "[WRITE] Saved result from sample_state_combined_county_id_5ppc_500_size_seed_1415.pkl to /home/libe2152/optimizedsampling/0_results/usavars/treecover/cluster_sampling_r2_scores.csv\n",
      "Fitting regression...\n"
     ]
    },
    {
     "name": "stderr",
     "output_type": "stream",
     "text": [
      "Processing samples:  78%|███████▊  | 157/201 [07:55<02:00,  2.74s/it]"
     ]
    },
    {
     "name": "stdout",
     "output_type": "stream",
     "text": [
      "[WRITE] Saved result from sample_state_combined_county_id_5ppc_500_size_seed_42.pkl to /home/libe2152/optimizedsampling/0_results/usavars/treecover/cluster_sampling_r2_scores.csv\n",
      "Fitting regression...\n"
     ]
    },
    {
     "name": "stderr",
     "output_type": "stream",
     "text": [
      "Processing samples:  79%|███████▊  | 158/201 [08:00<02:24,  3.37s/it]"
     ]
    },
    {
     "name": "stdout",
     "output_type": "stream",
     "text": [
      "[WRITE] Saved result from sample_state_combined_county_id_5ppc_500_size_seed_456.pkl to /home/libe2152/optimizedsampling/0_results/usavars/treecover/cluster_sampling_r2_scores.csv\n",
      "Fitting regression...\n"
     ]
    },
    {
     "name": "stderr",
     "output_type": "stream",
     "text": [
      "Processing samples:  79%|███████▉  | 159/201 [08:02<02:07,  3.04s/it]"
     ]
    },
    {
     "name": "stdout",
     "output_type": "stream",
     "text": [
      "[WRITE] Saved result from sample_state_combined_county_id_5ppc_500_size_seed_5678.pkl to /home/libe2152/optimizedsampling/0_results/usavars/treecover/cluster_sampling_r2_scores.csv\n",
      "Fitting regression...\n"
     ]
    },
    {
     "name": "stderr",
     "output_type": "stream",
     "text": [
      "Processing samples:  80%|███████▉  | 160/201 [08:04<01:58,  2.88s/it]"
     ]
    },
    {
     "name": "stdout",
     "output_type": "stream",
     "text": [
      "[WRITE] Saved result from sample_state_combined_county_id_5ppc_500_size_seed_789.pkl to /home/libe2152/optimizedsampling/0_results/usavars/treecover/cluster_sampling_r2_scores.csv\n",
      "Fitting regression...\n"
     ]
    },
    {
     "name": "stderr",
     "output_type": "stream",
     "text": [
      "Processing samples:  80%|████████  | 161/201 [08:08<02:05,  3.14s/it]"
     ]
    },
    {
     "name": "stdout",
     "output_type": "stream",
     "text": [
      "[WRITE] Saved result from sample_state_combined_county_id_5ppc_500_size_seed_9101.pkl to /home/libe2152/optimizedsampling/0_results/usavars/treecover/cluster_sampling_r2_scores.csv\n",
      "Fitting regression...\n"
     ]
    },
    {
     "name": "stderr",
     "output_type": "stream",
     "text": [
      "Processing samples:  81%|████████  | 162/201 [08:10<01:48,  2.78s/it]"
     ]
    },
    {
     "name": "stdout",
     "output_type": "stream",
     "text": [
      "[WRITE] Saved result from sample_state_combined_county_id_5ppc_600_size_seed_1.pkl to /home/libe2152/optimizedsampling/0_results/usavars/treecover/cluster_sampling_r2_scores.csv\n",
      "Fitting regression...\n"
     ]
    },
    {
     "name": "stderr",
     "output_type": "stream",
     "text": [
      "Processing samples:  81%|████████  | 163/201 [08:12<01:40,  2.64s/it]"
     ]
    },
    {
     "name": "stdout",
     "output_type": "stream",
     "text": [
      "[WRITE] Saved result from sample_state_combined_county_id_5ppc_600_size_seed_1213.pkl to /home/libe2152/optimizedsampling/0_results/usavars/treecover/cluster_sampling_r2_scores.csv\n",
      "Fitting regression...\n"
     ]
    },
    {
     "name": "stderr",
     "output_type": "stream",
     "text": [
      "Processing samples:  82%|████████▏ | 164/201 [08:19<02:23,  3.87s/it]"
     ]
    },
    {
     "name": "stdout",
     "output_type": "stream",
     "text": [
      "[WRITE] Saved result from sample_state_combined_county_id_5ppc_600_size_seed_123.pkl to /home/libe2152/optimizedsampling/0_results/usavars/treecover/cluster_sampling_r2_scores.csv\n",
      "Fitting regression...\n"
     ]
    },
    {
     "name": "stderr",
     "output_type": "stream",
     "text": [
      "Processing samples:  82%|████████▏ | 165/201 [08:23<02:16,  3.78s/it]"
     ]
    },
    {
     "name": "stdout",
     "output_type": "stream",
     "text": [
      "[WRITE] Saved result from sample_state_combined_county_id_5ppc_600_size_seed_1234.pkl to /home/libe2152/optimizedsampling/0_results/usavars/treecover/cluster_sampling_r2_scores.csv\n",
      "Fitting regression...\n"
     ]
    },
    {
     "name": "stderr",
     "output_type": "stream",
     "text": [
      "Processing samples:  83%|████████▎ | 166/201 [08:26<02:10,  3.73s/it]"
     ]
    },
    {
     "name": "stdout",
     "output_type": "stream",
     "text": [
      "[WRITE] Saved result from sample_state_combined_county_id_5ppc_600_size_seed_1415.pkl to /home/libe2152/optimizedsampling/0_results/usavars/treecover/cluster_sampling_r2_scores.csv\n",
      "Fitting regression...\n"
     ]
    },
    {
     "name": "stderr",
     "output_type": "stream",
     "text": [
      "Processing samples:  83%|████████▎ | 167/201 [08:30<02:03,  3.63s/it]"
     ]
    },
    {
     "name": "stdout",
     "output_type": "stream",
     "text": [
      "[WRITE] Saved result from sample_state_combined_county_id_5ppc_600_size_seed_42.pkl to /home/libe2152/optimizedsampling/0_results/usavars/treecover/cluster_sampling_r2_scores.csv\n",
      "Fitting regression...\n"
     ]
    },
    {
     "name": "stderr",
     "output_type": "stream",
     "text": [
      "Processing samples:  84%|████████▎ | 168/201 [08:34<02:04,  3.78s/it]"
     ]
    },
    {
     "name": "stdout",
     "output_type": "stream",
     "text": [
      "[WRITE] Saved result from sample_state_combined_county_id_5ppc_600_size_seed_456.pkl to /home/libe2152/optimizedsampling/0_results/usavars/treecover/cluster_sampling_r2_scores.csv\n",
      "Fitting regression...\n"
     ]
    },
    {
     "name": "stderr",
     "output_type": "stream",
     "text": [
      "Processing samples:  84%|████████▍ | 169/201 [08:36<01:43,  3.22s/it]"
     ]
    },
    {
     "name": "stdout",
     "output_type": "stream",
     "text": [
      "[WRITE] Saved result from sample_state_combined_county_id_5ppc_600_size_seed_5678.pkl to /home/libe2152/optimizedsampling/0_results/usavars/treecover/cluster_sampling_r2_scores.csv\n",
      "Fitting regression...\n"
     ]
    },
    {
     "name": "stderr",
     "output_type": "stream",
     "text": [
      "Processing samples:  85%|████████▍ | 170/201 [08:37<01:25,  2.77s/it]"
     ]
    },
    {
     "name": "stdout",
     "output_type": "stream",
     "text": [
      "[WRITE] Saved result from sample_state_combined_county_id_5ppc_600_size_seed_789.pkl to /home/libe2152/optimizedsampling/0_results/usavars/treecover/cluster_sampling_r2_scores.csv\n",
      "Fitting regression...\n"
     ]
    },
    {
     "name": "stderr",
     "output_type": "stream",
     "text": [
      "Processing samples:  85%|████████▌ | 171/201 [08:39<01:10,  2.36s/it]"
     ]
    },
    {
     "name": "stdout",
     "output_type": "stream",
     "text": [
      "[WRITE] Saved result from sample_state_combined_county_id_5ppc_600_size_seed_9101.pkl to /home/libe2152/optimizedsampling/0_results/usavars/treecover/cluster_sampling_r2_scores.csv\n",
      "Fitting regression...\n"
     ]
    },
    {
     "name": "stderr",
     "output_type": "stream",
     "text": [
      "Processing samples:  86%|████████▌ | 172/201 [08:41<01:08,  2.38s/it]"
     ]
    },
    {
     "name": "stdout",
     "output_type": "stream",
     "text": [
      "[WRITE] Saved result from sample_state_combined_county_id_5ppc_700_size_seed_1.pkl to /home/libe2152/optimizedsampling/0_results/usavars/treecover/cluster_sampling_r2_scores.csv\n",
      "Fitting regression...\n"
     ]
    },
    {
     "name": "stderr",
     "output_type": "stream",
     "text": [
      "Processing samples:  86%|████████▌ | 173/201 [08:44<01:06,  2.38s/it]"
     ]
    },
    {
     "name": "stdout",
     "output_type": "stream",
     "text": [
      "[WRITE] Saved result from sample_state_combined_county_id_5ppc_700_size_seed_1213.pkl to /home/libe2152/optimizedsampling/0_results/usavars/treecover/cluster_sampling_r2_scores.csv\n",
      "Fitting regression...\n"
     ]
    },
    {
     "name": "stderr",
     "output_type": "stream",
     "text": [
      "Processing samples:  87%|████████▋ | 174/201 [08:46<01:02,  2.32s/it]"
     ]
    },
    {
     "name": "stdout",
     "output_type": "stream",
     "text": [
      "[WRITE] Saved result from sample_state_combined_county_id_5ppc_700_size_seed_123.pkl to /home/libe2152/optimizedsampling/0_results/usavars/treecover/cluster_sampling_r2_scores.csv\n",
      "Fitting regression...\n"
     ]
    },
    {
     "name": "stderr",
     "output_type": "stream",
     "text": [
      "Processing samples:  87%|████████▋ | 175/201 [08:49<01:04,  2.47s/it]"
     ]
    },
    {
     "name": "stdout",
     "output_type": "stream",
     "text": [
      "[WRITE] Saved result from sample_state_combined_county_id_5ppc_700_size_seed_1234.pkl to /home/libe2152/optimizedsampling/0_results/usavars/treecover/cluster_sampling_r2_scores.csv\n",
      "Fitting regression...\n"
     ]
    },
    {
     "name": "stderr",
     "output_type": "stream",
     "text": [
      "Processing samples:  88%|████████▊ | 176/201 [08:51<00:59,  2.39s/it]"
     ]
    },
    {
     "name": "stdout",
     "output_type": "stream",
     "text": [
      "[WRITE] Saved result from sample_state_combined_county_id_5ppc_700_size_seed_1415.pkl to /home/libe2152/optimizedsampling/0_results/usavars/treecover/cluster_sampling_r2_scores.csv\n",
      "Fitting regression...\n"
     ]
    },
    {
     "name": "stderr",
     "output_type": "stream",
     "text": [
      "Processing samples:  88%|████████▊ | 177/201 [08:53<00:59,  2.47s/it]"
     ]
    },
    {
     "name": "stdout",
     "output_type": "stream",
     "text": [
      "[WRITE] Saved result from sample_state_combined_county_id_5ppc_700_size_seed_42.pkl to /home/libe2152/optimizedsampling/0_results/usavars/treecover/cluster_sampling_r2_scores.csv\n",
      "Fitting regression...\n"
     ]
    },
    {
     "name": "stderr",
     "output_type": "stream",
     "text": [
      "Processing samples:  89%|████████▊ | 178/201 [08:57<01:01,  2.67s/it]"
     ]
    },
    {
     "name": "stdout",
     "output_type": "stream",
     "text": [
      "[WRITE] Saved result from sample_state_combined_county_id_5ppc_700_size_seed_456.pkl to /home/libe2152/optimizedsampling/0_results/usavars/treecover/cluster_sampling_r2_scores.csv\n",
      "Fitting regression...\n"
     ]
    },
    {
     "name": "stderr",
     "output_type": "stream",
     "text": [
      "Processing samples:  89%|████████▉ | 179/201 [08:59<00:57,  2.63s/it]"
     ]
    },
    {
     "name": "stdout",
     "output_type": "stream",
     "text": [
      "[WRITE] Saved result from sample_state_combined_county_id_5ppc_700_size_seed_5678.pkl to /home/libe2152/optimizedsampling/0_results/usavars/treecover/cluster_sampling_r2_scores.csv\n",
      "Fitting regression...\n"
     ]
    },
    {
     "name": "stderr",
     "output_type": "stream",
     "text": [
      "Processing samples:  90%|████████▉ | 180/201 [09:02<00:56,  2.67s/it]"
     ]
    },
    {
     "name": "stdout",
     "output_type": "stream",
     "text": [
      "[WRITE] Saved result from sample_state_combined_county_id_5ppc_700_size_seed_789.pkl to /home/libe2152/optimizedsampling/0_results/usavars/treecover/cluster_sampling_r2_scores.csv\n",
      "Fitting regression...\n"
     ]
    },
    {
     "name": "stderr",
     "output_type": "stream",
     "text": [
      "Processing samples:  90%|█████████ | 181/201 [09:05<00:53,  2.67s/it]"
     ]
    },
    {
     "name": "stdout",
     "output_type": "stream",
     "text": [
      "[WRITE] Saved result from sample_state_combined_county_id_5ppc_700_size_seed_9101.pkl to /home/libe2152/optimizedsampling/0_results/usavars/treecover/cluster_sampling_r2_scores.csv\n",
      "Fitting regression...\n"
     ]
    },
    {
     "name": "stderr",
     "output_type": "stream",
     "text": [
      "Processing samples:  91%|█████████ | 182/201 [09:09<01:00,  3.20s/it]"
     ]
    },
    {
     "name": "stdout",
     "output_type": "stream",
     "text": [
      "[WRITE] Saved result from sample_state_combined_county_id_5ppc_800_size_seed_1.pkl to /home/libe2152/optimizedsampling/0_results/usavars/treecover/cluster_sampling_r2_scores.csv\n",
      "Fitting regression...\n"
     ]
    },
    {
     "name": "stderr",
     "output_type": "stream",
     "text": [
      "Processing samples:  91%|█████████ | 183/201 [09:13<01:00,  3.34s/it]"
     ]
    },
    {
     "name": "stdout",
     "output_type": "stream",
     "text": [
      "[WRITE] Saved result from sample_state_combined_county_id_5ppc_800_size_seed_1213.pkl to /home/libe2152/optimizedsampling/0_results/usavars/treecover/cluster_sampling_r2_scores.csv\n",
      "Fitting regression...\n"
     ]
    },
    {
     "name": "stderr",
     "output_type": "stream",
     "text": [
      "Processing samples:  92%|█████████▏| 184/201 [09:17<01:00,  3.54s/it]"
     ]
    },
    {
     "name": "stdout",
     "output_type": "stream",
     "text": [
      "[WRITE] Saved result from sample_state_combined_county_id_5ppc_800_size_seed_123.pkl to /home/libe2152/optimizedsampling/0_results/usavars/treecover/cluster_sampling_r2_scores.csv\n",
      "Fitting regression...\n"
     ]
    },
    {
     "name": "stderr",
     "output_type": "stream",
     "text": [
      "Processing samples:  92%|█████████▏| 185/201 [09:20<00:53,  3.36s/it]"
     ]
    },
    {
     "name": "stdout",
     "output_type": "stream",
     "text": [
      "[WRITE] Saved result from sample_state_combined_county_id_5ppc_800_size_seed_1234.pkl to /home/libe2152/optimizedsampling/0_results/usavars/treecover/cluster_sampling_r2_scores.csv\n",
      "Fitting regression...\n"
     ]
    },
    {
     "name": "stderr",
     "output_type": "stream",
     "text": [
      "Processing samples:  93%|█████████▎| 186/201 [09:22<00:46,  3.09s/it]"
     ]
    },
    {
     "name": "stdout",
     "output_type": "stream",
     "text": [
      "[WRITE] Saved result from sample_state_combined_county_id_5ppc_800_size_seed_1415.pkl to /home/libe2152/optimizedsampling/0_results/usavars/treecover/cluster_sampling_r2_scores.csv\n",
      "Fitting regression...\n"
     ]
    },
    {
     "name": "stderr",
     "output_type": "stream",
     "text": [
      "Processing samples:  93%|█████████▎| 187/201 [09:24<00:38,  2.73s/it]"
     ]
    },
    {
     "name": "stdout",
     "output_type": "stream",
     "text": [
      "[WRITE] Saved result from sample_state_combined_county_id_5ppc_800_size_seed_42.pkl to /home/libe2152/optimizedsampling/0_results/usavars/treecover/cluster_sampling_r2_scores.csv\n",
      "Fitting regression...\n"
     ]
    },
    {
     "name": "stderr",
     "output_type": "stream",
     "text": [
      "Processing samples:  94%|█████████▎| 188/201 [09:26<00:31,  2.44s/it]"
     ]
    },
    {
     "name": "stdout",
     "output_type": "stream",
     "text": [
      "[WRITE] Saved result from sample_state_combined_county_id_5ppc_800_size_seed_456.pkl to /home/libe2152/optimizedsampling/0_results/usavars/treecover/cluster_sampling_r2_scores.csv\n",
      "Fitting regression...\n"
     ]
    },
    {
     "name": "stderr",
     "output_type": "stream",
     "text": [
      "Processing samples:  94%|█████████▍| 189/201 [09:27<00:26,  2.20s/it]"
     ]
    },
    {
     "name": "stdout",
     "output_type": "stream",
     "text": [
      "[WRITE] Saved result from sample_state_combined_county_id_5ppc_800_size_seed_5678.pkl to /home/libe2152/optimizedsampling/0_results/usavars/treecover/cluster_sampling_r2_scores.csv\n",
      "Fitting regression...\n"
     ]
    },
    {
     "name": "stderr",
     "output_type": "stream",
     "text": [
      "Processing samples:  95%|█████████▍| 190/201 [09:29<00:23,  2.10s/it]"
     ]
    },
    {
     "name": "stdout",
     "output_type": "stream",
     "text": [
      "[WRITE] Saved result from sample_state_combined_county_id_5ppc_800_size_seed_789.pkl to /home/libe2152/optimizedsampling/0_results/usavars/treecover/cluster_sampling_r2_scores.csv\n",
      "Fitting regression...\n"
     ]
    },
    {
     "name": "stderr",
     "output_type": "stream",
     "text": [
      "Processing samples:  95%|█████████▌| 191/201 [09:31<00:20,  2.02s/it]"
     ]
    },
    {
     "name": "stdout",
     "output_type": "stream",
     "text": [
      "[WRITE] Saved result from sample_state_combined_county_id_5ppc_800_size_seed_9101.pkl to /home/libe2152/optimizedsampling/0_results/usavars/treecover/cluster_sampling_r2_scores.csv\n",
      "Fitting regression...\n"
     ]
    },
    {
     "name": "stderr",
     "output_type": "stream",
     "text": [
      "Processing samples:  96%|█████████▌| 192/201 [09:33<00:19,  2.12s/it]"
     ]
    },
    {
     "name": "stdout",
     "output_type": "stream",
     "text": [
      "[WRITE] Saved result from sample_state_combined_county_id_5ppc_900_size_seed_1.pkl to /home/libe2152/optimizedsampling/0_results/usavars/treecover/cluster_sampling_r2_scores.csv\n",
      "Fitting regression...\n"
     ]
    },
    {
     "name": "stderr",
     "output_type": "stream",
     "text": [
      "Processing samples:  96%|█████████▌| 193/201 [09:36<00:17,  2.13s/it]"
     ]
    },
    {
     "name": "stdout",
     "output_type": "stream",
     "text": [
      "[WRITE] Saved result from sample_state_combined_county_id_5ppc_900_size_seed_1213.pkl to /home/libe2152/optimizedsampling/0_results/usavars/treecover/cluster_sampling_r2_scores.csv\n",
      "Fitting regression...\n"
     ]
    },
    {
     "name": "stderr",
     "output_type": "stream",
     "text": [
      "Processing samples:  97%|█████████▋| 194/201 [09:38<00:15,  2.18s/it]"
     ]
    },
    {
     "name": "stdout",
     "output_type": "stream",
     "text": [
      "[WRITE] Saved result from sample_state_combined_county_id_5ppc_900_size_seed_123.pkl to /home/libe2152/optimizedsampling/0_results/usavars/treecover/cluster_sampling_r2_scores.csv\n",
      "Fitting regression...\n"
     ]
    },
    {
     "name": "stderr",
     "output_type": "stream",
     "text": [
      "Processing samples:  97%|█████████▋| 195/201 [09:40<00:12,  2.11s/it]"
     ]
    },
    {
     "name": "stdout",
     "output_type": "stream",
     "text": [
      "[WRITE] Saved result from sample_state_combined_county_id_5ppc_900_size_seed_1234.pkl to /home/libe2152/optimizedsampling/0_results/usavars/treecover/cluster_sampling_r2_scores.csv\n",
      "Fitting regression...\n"
     ]
    },
    {
     "name": "stderr",
     "output_type": "stream",
     "text": [
      "Processing samples:  98%|█████████▊| 196/201 [09:42<00:10,  2.18s/it]"
     ]
    },
    {
     "name": "stdout",
     "output_type": "stream",
     "text": [
      "[WRITE] Saved result from sample_state_combined_county_id_5ppc_900_size_seed_1415.pkl to /home/libe2152/optimizedsampling/0_results/usavars/treecover/cluster_sampling_r2_scores.csv\n",
      "Fitting regression...\n"
     ]
    },
    {
     "name": "stderr",
     "output_type": "stream",
     "text": [
      "Processing samples:  98%|█████████▊| 197/201 [09:44<00:08,  2.20s/it]"
     ]
    },
    {
     "name": "stdout",
     "output_type": "stream",
     "text": [
      "[WRITE] Saved result from sample_state_combined_county_id_5ppc_900_size_seed_42.pkl to /home/libe2152/optimizedsampling/0_results/usavars/treecover/cluster_sampling_r2_scores.csv\n",
      "Fitting regression...\n"
     ]
    },
    {
     "name": "stderr",
     "output_type": "stream",
     "text": [
      "Processing samples:  99%|█████████▊| 198/201 [09:51<00:10,  3.41s/it]"
     ]
    },
    {
     "name": "stdout",
     "output_type": "stream",
     "text": [
      "[WRITE] Saved result from sample_state_combined_county_id_5ppc_900_size_seed_456.pkl to /home/libe2152/optimizedsampling/0_results/usavars/treecover/cluster_sampling_r2_scores.csv\n",
      "Fitting regression...\n"
     ]
    },
    {
     "name": "stderr",
     "output_type": "stream",
     "text": [
      "Processing samples:  99%|█████████▉| 199/201 [09:55<00:07,  3.78s/it]"
     ]
    },
    {
     "name": "stdout",
     "output_type": "stream",
     "text": [
      "[WRITE] Saved result from sample_state_combined_county_id_5ppc_900_size_seed_5678.pkl to /home/libe2152/optimizedsampling/0_results/usavars/treecover/cluster_sampling_r2_scores.csv\n",
      "Fitting regression...\n"
     ]
    },
    {
     "name": "stderr",
     "output_type": "stream",
     "text": [
      "Processing samples: 100%|█████████▉| 200/201 [10:01<00:04,  4.39s/it]"
     ]
    },
    {
     "name": "stdout",
     "output_type": "stream",
     "text": [
      "[WRITE] Saved result from sample_state_combined_county_id_5ppc_900_size_seed_789.pkl to /home/libe2152/optimizedsampling/0_results/usavars/treecover/cluster_sampling_r2_scores.csv\n",
      "Fitting regression...\n"
     ]
    },
    {
     "name": "stderr",
     "output_type": "stream",
     "text": [
      "Processing samples: 100%|██████████| 201/201 [10:05<00:00,  3.01s/it]"
     ]
    },
    {
     "name": "stdout",
     "output_type": "stream",
     "text": [
      "[WRITE] Saved result from sample_state_combined_county_id_5ppc_900_size_seed_9101.pkl to /home/libe2152/optimizedsampling/0_results/usavars/treecover/cluster_sampling_r2_scores.csv\n",
      "Results written incrementally to /home/libe2152/optimizedsampling/0_results/usavars/treecover/cluster_sampling_r2_scores.csv\n"
     ]
    },
    {
     "name": "stderr",
     "output_type": "stream",
     "text": [
      "\n"
     ]
    },
    {
     "name": "stdout",
     "output_type": "stream",
     "text": [
      "Loading features from /home/libe2152/optimizedsampling/0_data/features/usavars/CONTUS_UAR_treecover_with_splits_torchgeo4096.pkl ...\n",
      "Processing samples from /home/libe2152/optimizedsampling/0_data/initial_samples/usavars/treecover/convenience_sampling/urban_based ...\n"
     ]
    },
    {
     "name": "stderr",
     "output_type": "stream",
     "text": [
      "Processing samples: 100%|██████████| 401/401 [00:00<00:00, 2176.19it/s]"
     ]
    },
    {
     "name": "stdout",
     "output_type": "stream",
     "text": [
      "[WARNING] Failed to load IDS_top10_urban_1000_points_probabilistic_1000_size_seed_1.pkl: list indices must be integers or slices, not str\n",
      "[WARNING] Failed to load IDS_top10_urban_1000_points_probabilistic_1000_size_seed_1213.pkl: list indices must be integers or slices, not str\n",
      "[WARNING] Failed to load IDS_top10_urban_1000_points_probabilistic_1000_size_seed_123.pkl: list indices must be integers or slices, not str\n",
      "[WARNING] Failed to load IDS_top10_urban_1000_points_probabilistic_1000_size_seed_1234.pkl: list indices must be integers or slices, not str\n",
      "[WARNING] Failed to load IDS_top10_urban_1000_points_probabilistic_1000_size_seed_1415.pkl: list indices must be integers or slices, not str\n",
      "[WARNING] Failed to load IDS_top10_urban_1000_points_probabilistic_1000_size_seed_42.pkl: list indices must be integers or slices, not str\n",
      "[WARNING] Failed to load IDS_top10_urban_1000_points_probabilistic_1000_size_seed_456.pkl: list indices must be integers or slices, not str\n",
      "[WARNING] Failed to load IDS_top10_urban_1000_points_probabilistic_1000_size_seed_5678.pkl: list indices must be integers or slices, not str\n",
      "[WARNING] Failed to load IDS_top10_urban_1000_points_probabilistic_1000_size_seed_789.pkl: list indices must be integers or slices, not str\n",
      "[WARNING] Failed to load IDS_top10_urban_1000_points_probabilistic_1000_size_seed_9101.pkl: list indices must be integers or slices, not str\n",
      "[WARNING] Failed to load IDS_top10_urban_1000_points_probabilistic_seed_1.pkl: list indices must be integers or slices, not str\n",
      "[WARNING] Failed to load IDS_top10_urban_1000_points_probabilistic_seed_1213.pkl: list indices must be integers or slices, not str\n",
      "[WARNING] Failed to load IDS_top10_urban_1000_points_probabilistic_seed_123.pkl: list indices must be integers or slices, not str\n",
      "[WARNING] Failed to load IDS_top10_urban_1000_points_probabilistic_seed_1234.pkl: list indices must be integers or slices, not str\n",
      "[WARNING] Failed to load IDS_top10_urban_1000_points_probabilistic_seed_1415.pkl: list indices must be integers or slices, not str\n",
      "[WARNING] Failed to load IDS_top10_urban_1000_points_probabilistic_seed_42.pkl: list indices must be integers or slices, not str\n",
      "[WARNING] Failed to load IDS_top10_urban_1000_points_probabilistic_seed_456.pkl: list indices must be integers or slices, not str\n",
      "[WARNING] Failed to load IDS_top10_urban_1000_points_probabilistic_seed_5678.pkl: list indices must be integers or slices, not str\n",
      "[WARNING] Failed to load IDS_top10_urban_1000_points_probabilistic_seed_789.pkl: list indices must be integers or slices, not str\n",
      "[WARNING] Failed to load IDS_top10_urban_1000_points_probabilistic_seed_9101.pkl: list indices must be integers or slices, not str\n",
      "[WARNING] Failed to load IDS_top10_urban_100_points_probabilistic_100_size_seed_1.pkl: list indices must be integers or slices, not str\n",
      "[WARNING] Failed to load IDS_top10_urban_100_points_probabilistic_100_size_seed_1213.pkl: list indices must be integers or slices, not str\n",
      "[WARNING] Failed to load IDS_top10_urban_100_points_probabilistic_100_size_seed_123.pkl: list indices must be integers or slices, not str\n",
      "[WARNING] Failed to load IDS_top10_urban_100_points_probabilistic_100_size_seed_1234.pkl: list indices must be integers or slices, not str\n",
      "[WARNING] Failed to load IDS_top10_urban_100_points_probabilistic_100_size_seed_1415.pkl: list indices must be integers or slices, not str\n",
      "[WARNING] Failed to load IDS_top10_urban_100_points_probabilistic_100_size_seed_42.pkl: list indices must be integers or slices, not str\n",
      "[WARNING] Failed to load IDS_top10_urban_100_points_probabilistic_100_size_seed_456.pkl: list indices must be integers or slices, not str\n",
      "[WARNING] Failed to load IDS_top10_urban_100_points_probabilistic_100_size_seed_5678.pkl: list indices must be integers or slices, not str\n",
      "[WARNING] Failed to load IDS_top10_urban_100_points_probabilistic_100_size_seed_789.pkl: list indices must be integers or slices, not str\n",
      "[WARNING] Failed to load IDS_top10_urban_100_points_probabilistic_100_size_seed_9101.pkl: list indices must be integers or slices, not str\n",
      "[WARNING] Failed to load IDS_top10_urban_100_points_probabilistic_seed_1.pkl: list indices must be integers or slices, not str\n",
      "[WARNING] Failed to load IDS_top10_urban_100_points_probabilistic_seed_1213.pkl: list indices must be integers or slices, not str\n",
      "[WARNING] Failed to load IDS_top10_urban_100_points_probabilistic_seed_123.pkl: list indices must be integers or slices, not str\n",
      "[WARNING] Failed to load IDS_top10_urban_100_points_probabilistic_seed_1234.pkl: list indices must be integers or slices, not str\n",
      "[WARNING] Failed to load IDS_top10_urban_100_points_probabilistic_seed_1415.pkl: list indices must be integers or slices, not str\n",
      "[WARNING] Failed to load IDS_top10_urban_100_points_probabilistic_seed_42.pkl: list indices must be integers or slices, not str\n",
      "[WARNING] Failed to load IDS_top10_urban_100_points_probabilistic_seed_456.pkl: list indices must be integers or slices, not str\n",
      "[WARNING] Failed to load IDS_top10_urban_100_points_probabilistic_seed_5678.pkl: list indices must be integers or slices, not str\n",
      "[WARNING] Failed to load IDS_top10_urban_100_points_probabilistic_seed_789.pkl: list indices must be integers or slices, not str\n",
      "[WARNING] Failed to load IDS_top10_urban_100_points_probabilistic_seed_9101.pkl: list indices must be integers or slices, not str\n",
      "[WARNING] Failed to load IDS_top10_urban_200_points_probabilistic_200_size_seed_1.pkl: list indices must be integers or slices, not str\n",
      "[WARNING] Failed to load IDS_top10_urban_200_points_probabilistic_200_size_seed_1213.pkl: list indices must be integers or slices, not str\n",
      "[WARNING] Failed to load IDS_top10_urban_200_points_probabilistic_200_size_seed_123.pkl: list indices must be integers or slices, not str\n",
      "[WARNING] Failed to load IDS_top10_urban_200_points_probabilistic_200_size_seed_1234.pkl: list indices must be integers or slices, not str\n",
      "[WARNING] Failed to load IDS_top10_urban_200_points_probabilistic_200_size_seed_1415.pkl: list indices must be integers or slices, not str\n",
      "[WARNING] Failed to load IDS_top10_urban_200_points_probabilistic_200_size_seed_42.pkl: list indices must be integers or slices, not str\n",
      "[WARNING] Failed to load IDS_top10_urban_200_points_probabilistic_200_size_seed_456.pkl: list indices must be integers or slices, not str\n",
      "[WARNING] Failed to load IDS_top10_urban_200_points_probabilistic_200_size_seed_5678.pkl: list indices must be integers or slices, not str\n",
      "[WARNING] Failed to load IDS_top10_urban_200_points_probabilistic_200_size_seed_789.pkl: list indices must be integers or slices, not str\n",
      "[WARNING] Failed to load IDS_top10_urban_200_points_probabilistic_200_size_seed_9101.pkl: list indices must be integers or slices, not str\n",
      "[WARNING] Failed to load IDS_top10_urban_200_points_probabilistic_seed_1.pkl: list indices must be integers or slices, not str\n",
      "[WARNING] Failed to load IDS_top10_urban_200_points_probabilistic_seed_1213.pkl: list indices must be integers or slices, not str\n",
      "[WARNING] Failed to load IDS_top10_urban_200_points_probabilistic_seed_123.pkl: list indices must be integers or slices, not str\n",
      "[WARNING] Failed to load IDS_top10_urban_200_points_probabilistic_seed_1234.pkl: list indices must be integers or slices, not str\n",
      "[WARNING] Failed to load IDS_top10_urban_200_points_probabilistic_seed_1415.pkl: list indices must be integers or slices, not str\n",
      "[WARNING] Failed to load IDS_top10_urban_200_points_probabilistic_seed_42.pkl: list indices must be integers or slices, not str\n",
      "[WARNING] Failed to load IDS_top10_urban_200_points_probabilistic_seed_456.pkl: list indices must be integers or slices, not str\n",
      "[WARNING] Failed to load IDS_top10_urban_200_points_probabilistic_seed_5678.pkl: list indices must be integers or slices, not str\n",
      "[WARNING] Failed to load IDS_top10_urban_200_points_probabilistic_seed_789.pkl: list indices must be integers or slices, not str\n",
      "[WARNING] Failed to load IDS_top10_urban_200_points_probabilistic_seed_9101.pkl: list indices must be integers or slices, not str\n",
      "[WARNING] Failed to load IDS_top10_urban_300_points_probabilistic_300_size_seed_1.pkl: list indices must be integers or slices, not str\n",
      "[WARNING] Failed to load IDS_top10_urban_300_points_probabilistic_300_size_seed_1213.pkl: list indices must be integers or slices, not str\n",
      "[WARNING] Failed to load IDS_top10_urban_300_points_probabilistic_300_size_seed_123.pkl: list indices must be integers or slices, not str\n",
      "[WARNING] Failed to load IDS_top10_urban_300_points_probabilistic_300_size_seed_1234.pkl: list indices must be integers or slices, not str\n",
      "[WARNING] Failed to load IDS_top10_urban_300_points_probabilistic_300_size_seed_1415.pkl: list indices must be integers or slices, not str\n",
      "[WARNING] Failed to load IDS_top10_urban_300_points_probabilistic_300_size_seed_42.pkl: list indices must be integers or slices, not str\n",
      "[WARNING] Failed to load IDS_top10_urban_300_points_probabilistic_300_size_seed_456.pkl: list indices must be integers or slices, not str\n",
      "[WARNING] Failed to load IDS_top10_urban_300_points_probabilistic_300_size_seed_5678.pkl: list indices must be integers or slices, not str\n",
      "[WARNING] Failed to load IDS_top10_urban_300_points_probabilistic_300_size_seed_789.pkl: list indices must be integers or slices, not str\n",
      "[WARNING] Failed to load IDS_top10_urban_300_points_probabilistic_300_size_seed_9101.pkl: list indices must be integers or slices, not str\n",
      "[WARNING] Failed to load IDS_top10_urban_300_points_probabilistic_seed_1.pkl: list indices must be integers or slices, not str\n",
      "[WARNING] Failed to load IDS_top10_urban_300_points_probabilistic_seed_1213.pkl: list indices must be integers or slices, not str\n",
      "[WARNING] Failed to load IDS_top10_urban_300_points_probabilistic_seed_123.pkl: list indices must be integers or slices, not str\n",
      "[WARNING] Failed to load IDS_top10_urban_300_points_probabilistic_seed_1234.pkl: list indices must be integers or slices, not str\n",
      "[WARNING] Failed to load IDS_top10_urban_300_points_probabilistic_seed_1415.pkl: list indices must be integers or slices, not str\n",
      "[WARNING] Failed to load IDS_top10_urban_300_points_probabilistic_seed_42.pkl: list indices must be integers or slices, not str\n",
      "[WARNING] Failed to load IDS_top10_urban_300_points_probabilistic_seed_456.pkl: list indices must be integers or slices, not str\n",
      "[WARNING] Failed to load IDS_top10_urban_300_points_probabilistic_seed_5678.pkl: list indices must be integers or slices, not str\n",
      "[WARNING] Failed to load IDS_top10_urban_300_points_probabilistic_seed_789.pkl: list indices must be integers or slices, not str\n",
      "[WARNING] Failed to load IDS_top10_urban_300_points_probabilistic_seed_9101.pkl: list indices must be integers or slices, not str\n",
      "[WARNING] Failed to load IDS_top10_urban_400_points_probabilistic_400_size_seed_1.pkl: list indices must be integers or slices, not str\n",
      "[WARNING] Failed to load IDS_top10_urban_400_points_probabilistic_400_size_seed_1213.pkl: list indices must be integers or slices, not str\n",
      "[WARNING] Failed to load IDS_top10_urban_400_points_probabilistic_400_size_seed_123.pkl: list indices must be integers or slices, not str\n",
      "[WARNING] Failed to load IDS_top10_urban_400_points_probabilistic_400_size_seed_1234.pkl: list indices must be integers or slices, not str\n",
      "[WARNING] Failed to load IDS_top10_urban_400_points_probabilistic_400_size_seed_1415.pkl: list indices must be integers or slices, not str\n",
      "[WARNING] Failed to load IDS_top10_urban_400_points_probabilistic_400_size_seed_42.pkl: list indices must be integers or slices, not str\n",
      "[WARNING] Failed to load IDS_top10_urban_400_points_probabilistic_400_size_seed_456.pkl: list indices must be integers or slices, not str\n",
      "[WARNING] Failed to load IDS_top10_urban_400_points_probabilistic_400_size_seed_5678.pkl: list indices must be integers or slices, not str\n",
      "[WARNING] Failed to load IDS_top10_urban_400_points_probabilistic_400_size_seed_789.pkl: list indices must be integers or slices, not str\n",
      "[WARNING] Failed to load IDS_top10_urban_400_points_probabilistic_400_size_seed_9101.pkl: list indices must be integers or slices, not str\n",
      "[WARNING] Failed to load IDS_top10_urban_400_points_probabilistic_seed_1.pkl: list indices must be integers or slices, not str\n",
      "[WARNING] Failed to load IDS_top10_urban_400_points_probabilistic_seed_1213.pkl: list indices must be integers or slices, not str\n",
      "[WARNING] Failed to load IDS_top10_urban_400_points_probabilistic_seed_123.pkl: list indices must be integers or slices, not str\n",
      "[WARNING] Failed to load IDS_top10_urban_400_points_probabilistic_seed_1234.pkl: list indices must be integers or slices, not str\n",
      "[WARNING] Failed to load IDS_top10_urban_400_points_probabilistic_seed_1415.pkl: list indices must be integers or slices, not str\n",
      "[WARNING] Failed to load IDS_top10_urban_400_points_probabilistic_seed_42.pkl: list indices must be integers or slices, not str\n",
      "[WARNING] Failed to load IDS_top10_urban_400_points_probabilistic_seed_456.pkl: list indices must be integers or slices, not str\n",
      "[WARNING] Failed to load IDS_top10_urban_400_points_probabilistic_seed_5678.pkl: list indices must be integers or slices, not str\n",
      "[WARNING] Failed to load IDS_top10_urban_400_points_probabilistic_seed_789.pkl: list indices must be integers or slices, not str\n",
      "[WARNING] Failed to load IDS_top10_urban_400_points_probabilistic_seed_9101.pkl: list indices must be integers or slices, not str\n",
      "[WARNING] Failed to load IDS_top10_urban_500_points_probabilistic_500_size_seed_1.pkl: list indices must be integers or slices, not str\n",
      "[WARNING] Failed to load IDS_top10_urban_500_points_probabilistic_500_size_seed_1213.pkl: list indices must be integers or slices, not str\n",
      "[WARNING] Failed to load IDS_top10_urban_500_points_probabilistic_500_size_seed_123.pkl: list indices must be integers or slices, not str\n",
      "[WARNING] Failed to load IDS_top10_urban_500_points_probabilistic_500_size_seed_1234.pkl: list indices must be integers or slices, not str\n",
      "[WARNING] Failed to load IDS_top10_urban_500_points_probabilistic_500_size_seed_1415.pkl: list indices must be integers or slices, not str\n",
      "[WARNING] Failed to load IDS_top10_urban_500_points_probabilistic_500_size_seed_42.pkl: list indices must be integers or slices, not str\n",
      "[WARNING] Failed to load IDS_top10_urban_500_points_probabilistic_500_size_seed_456.pkl: list indices must be integers or slices, not str\n",
      "[WARNING] Failed to load IDS_top10_urban_500_points_probabilistic_500_size_seed_5678.pkl: list indices must be integers or slices, not str\n",
      "[WARNING] Failed to load IDS_top10_urban_500_points_probabilistic_500_size_seed_789.pkl: list indices must be integers or slices, not str\n",
      "[WARNING] Failed to load IDS_top10_urban_500_points_probabilistic_500_size_seed_9101.pkl: list indices must be integers or slices, not str\n",
      "[WARNING] Failed to load IDS_top10_urban_500_points_probabilistic_seed_1.pkl: list indices must be integers or slices, not str\n",
      "[WARNING] Failed to load IDS_top10_urban_500_points_probabilistic_seed_1213.pkl: list indices must be integers or slices, not str\n",
      "[WARNING] Failed to load IDS_top10_urban_500_points_probabilistic_seed_123.pkl: list indices must be integers or slices, not str\n",
      "[WARNING] Failed to load IDS_top10_urban_500_points_probabilistic_seed_1234.pkl: list indices must be integers or slices, not str\n",
      "[WARNING] Failed to load IDS_top10_urban_500_points_probabilistic_seed_1415.pkl: list indices must be integers or slices, not str\n",
      "[WARNING] Failed to load IDS_top10_urban_500_points_probabilistic_seed_42.pkl: list indices must be integers or slices, not str\n",
      "[WARNING] Failed to load IDS_top10_urban_500_points_probabilistic_seed_456.pkl: list indices must be integers or slices, not str\n",
      "[WARNING] Failed to load IDS_top10_urban_500_points_probabilistic_seed_5678.pkl: list indices must be integers or slices, not str\n",
      "[WARNING] Failed to load IDS_top10_urban_500_points_probabilistic_seed_789.pkl: list indices must be integers or slices, not str\n",
      "[WARNING] Failed to load IDS_top10_urban_500_points_probabilistic_seed_9101.pkl: list indices must be integers or slices, not str\n",
      "[WARNING] Failed to load IDS_top10_urban_600_points_probabilistic_600_size_seed_1.pkl: list indices must be integers or slices, not str\n",
      "[WARNING] Failed to load IDS_top10_urban_600_points_probabilistic_600_size_seed_1213.pkl: list indices must be integers or slices, not str\n",
      "[WARNING] Failed to load IDS_top10_urban_600_points_probabilistic_600_size_seed_123.pkl: list indices must be integers or slices, not str\n",
      "[WARNING] Failed to load IDS_top10_urban_600_points_probabilistic_600_size_seed_1234.pkl: list indices must be integers or slices, not str\n",
      "[WARNING] Failed to load IDS_top10_urban_600_points_probabilistic_600_size_seed_1415.pkl: list indices must be integers or slices, not str\n",
      "[WARNING] Failed to load IDS_top10_urban_600_points_probabilistic_600_size_seed_42.pkl: list indices must be integers or slices, not str\n",
      "[WARNING] Failed to load IDS_top10_urban_600_points_probabilistic_600_size_seed_456.pkl: list indices must be integers or slices, not str\n",
      "[WARNING] Failed to load IDS_top10_urban_600_points_probabilistic_600_size_seed_5678.pkl: list indices must be integers or slices, not str\n",
      "[WARNING] Failed to load IDS_top10_urban_600_points_probabilistic_600_size_seed_789.pkl: list indices must be integers or slices, not str\n",
      "[WARNING] Failed to load IDS_top10_urban_600_points_probabilistic_600_size_seed_9101.pkl: list indices must be integers or slices, not str\n",
      "[WARNING] Failed to load IDS_top10_urban_600_points_probabilistic_seed_1.pkl: list indices must be integers or slices, not str\n",
      "[WARNING] Failed to load IDS_top10_urban_600_points_probabilistic_seed_1213.pkl: list indices must be integers or slices, not str\n",
      "[WARNING] Failed to load IDS_top10_urban_600_points_probabilistic_seed_123.pkl: list indices must be integers or slices, not str\n",
      "[WARNING] Failed to load IDS_top10_urban_600_points_probabilistic_seed_1234.pkl: list indices must be integers or slices, not str\n",
      "[WARNING] Failed to load IDS_top10_urban_600_points_probabilistic_seed_1415.pkl: list indices must be integers or slices, not str\n",
      "[WARNING] Failed to load IDS_top10_urban_600_points_probabilistic_seed_42.pkl: list indices must be integers or slices, not str\n",
      "[WARNING] Failed to load IDS_top10_urban_600_points_probabilistic_seed_456.pkl: list indices must be integers or slices, not str\n",
      "[WARNING] Failed to load IDS_top10_urban_600_points_probabilistic_seed_5678.pkl: list indices must be integers or slices, not str\n",
      "[WARNING] Failed to load IDS_top10_urban_600_points_probabilistic_seed_789.pkl: list indices must be integers or slices, not str\n",
      "[WARNING] Failed to load IDS_top10_urban_600_points_probabilistic_seed_9101.pkl: list indices must be integers or slices, not str\n",
      "[WARNING] Failed to load IDS_top10_urban_700_points_probabilistic_700_size_seed_1.pkl: list indices must be integers or slices, not str\n",
      "[WARNING] Failed to load IDS_top10_urban_700_points_probabilistic_700_size_seed_1213.pkl: list indices must be integers or slices, not str\n",
      "[WARNING] Failed to load IDS_top10_urban_700_points_probabilistic_700_size_seed_123.pkl: list indices must be integers or slices, not str\n",
      "[WARNING] Failed to load IDS_top10_urban_700_points_probabilistic_700_size_seed_1234.pkl: list indices must be integers or slices, not str\n",
      "[WARNING] Failed to load IDS_top10_urban_700_points_probabilistic_700_size_seed_1415.pkl: list indices must be integers or slices, not str\n",
      "[WARNING] Failed to load IDS_top10_urban_700_points_probabilistic_700_size_seed_42.pkl: list indices must be integers or slices, not str\n",
      "[WARNING] Failed to load IDS_top10_urban_700_points_probabilistic_700_size_seed_456.pkl: list indices must be integers or slices, not str\n",
      "[WARNING] Failed to load IDS_top10_urban_700_points_probabilistic_700_size_seed_5678.pkl: list indices must be integers or slices, not str\n",
      "[WARNING] Failed to load IDS_top10_urban_700_points_probabilistic_700_size_seed_789.pkl: list indices must be integers or slices, not str\n",
      "[WARNING] Failed to load IDS_top10_urban_700_points_probabilistic_700_size_seed_9101.pkl: list indices must be integers or slices, not str\n",
      "[WARNING] Failed to load IDS_top10_urban_700_points_probabilistic_seed_1.pkl: list indices must be integers or slices, not str\n",
      "[WARNING] Failed to load IDS_top10_urban_700_points_probabilistic_seed_1213.pkl: list indices must be integers or slices, not str\n",
      "[WARNING] Failed to load IDS_top10_urban_700_points_probabilistic_seed_123.pkl: list indices must be integers or slices, not str\n",
      "[WARNING] Failed to load IDS_top10_urban_700_points_probabilistic_seed_1234.pkl: list indices must be integers or slices, not str\n",
      "[WARNING] Failed to load IDS_top10_urban_700_points_probabilistic_seed_1415.pkl: list indices must be integers or slices, not str\n",
      "[WARNING] Failed to load IDS_top10_urban_700_points_probabilistic_seed_42.pkl: list indices must be integers or slices, not str\n",
      "[WARNING] Failed to load IDS_top10_urban_700_points_probabilistic_seed_456.pkl: list indices must be integers or slices, not str\n",
      "[WARNING] Failed to load IDS_top10_urban_700_points_probabilistic_seed_5678.pkl: list indices must be integers or slices, not str\n",
      "[WARNING] Failed to load IDS_top10_urban_700_points_probabilistic_seed_789.pkl: list indices must be integers or slices, not str\n",
      "[WARNING] Failed to load IDS_top10_urban_700_points_probabilistic_seed_9101.pkl: list indices must be integers or slices, not str\n",
      "[WARNING] Failed to load IDS_top10_urban_800_points_probabilistic_800_size_seed_1.pkl: list indices must be integers or slices, not str\n",
      "[WARNING] Failed to load IDS_top10_urban_800_points_probabilistic_800_size_seed_1213.pkl: list indices must be integers or slices, not str\n",
      "[WARNING] Failed to load IDS_top10_urban_800_points_probabilistic_800_size_seed_123.pkl: list indices must be integers or slices, not str\n",
      "[WARNING] Failed to load IDS_top10_urban_800_points_probabilistic_800_size_seed_1234.pkl: list indices must be integers or slices, not str\n",
      "[WARNING] Failed to load IDS_top10_urban_800_points_probabilistic_800_size_seed_1415.pkl: list indices must be integers or slices, not str\n",
      "[WARNING] Failed to load IDS_top10_urban_800_points_probabilistic_800_size_seed_42.pkl: list indices must be integers or slices, not str\n",
      "[WARNING] Failed to load IDS_top10_urban_800_points_probabilistic_800_size_seed_456.pkl: list indices must be integers or slices, not str\n",
      "[WARNING] Failed to load IDS_top10_urban_800_points_probabilistic_800_size_seed_5678.pkl: list indices must be integers or slices, not str\n",
      "[WARNING] Failed to load IDS_top10_urban_800_points_probabilistic_800_size_seed_789.pkl: list indices must be integers or slices, not str\n",
      "[WARNING] Failed to load IDS_top10_urban_800_points_probabilistic_800_size_seed_9101.pkl: list indices must be integers or slices, not str\n",
      "[WARNING] Failed to load IDS_top10_urban_800_points_probabilistic_seed_1.pkl: list indices must be integers or slices, not str\n",
      "[WARNING] Failed to load IDS_top10_urban_800_points_probabilistic_seed_1213.pkl: list indices must be integers or slices, not str\n",
      "[WARNING] Failed to load IDS_top10_urban_800_points_probabilistic_seed_123.pkl: list indices must be integers or slices, not str\n",
      "[WARNING] Failed to load IDS_top10_urban_800_points_probabilistic_seed_1234.pkl: list indices must be integers or slices, not str\n",
      "[WARNING] Failed to load IDS_top10_urban_800_points_probabilistic_seed_1415.pkl: list indices must be integers or slices, not str\n",
      "[WARNING] Failed to load IDS_top10_urban_800_points_probabilistic_seed_42.pkl: list indices must be integers or slices, not str\n",
      "[WARNING] Failed to load IDS_top10_urban_800_points_probabilistic_seed_456.pkl: list indices must be integers or slices, not str\n",
      "[WARNING] Failed to load IDS_top10_urban_800_points_probabilistic_seed_5678.pkl: list indices must be integers or slices, not str\n",
      "[WARNING] Failed to load IDS_top10_urban_800_points_probabilistic_seed_789.pkl: list indices must be integers or slices, not str\n",
      "[WARNING] Failed to load IDS_top10_urban_800_points_probabilistic_seed_9101.pkl: list indices must be integers or slices, not str\n",
      "[WARNING] Failed to load IDS_top10_urban_900_points_probabilistic_900_size_seed_1.pkl: list indices must be integers or slices, not str\n",
      "[WARNING] Failed to load IDS_top10_urban_900_points_probabilistic_900_size_seed_1213.pkl: list indices must be integers or slices, not str\n",
      "[WARNING] Failed to load IDS_top10_urban_900_points_probabilistic_900_size_seed_123.pkl: list indices must be integers or slices, not str\n",
      "[WARNING] Failed to load IDS_top10_urban_900_points_probabilistic_900_size_seed_1234.pkl: list indices must be integers or slices, not str\n",
      "[WARNING] Failed to load IDS_top10_urban_900_points_probabilistic_900_size_seed_1415.pkl: list indices must be integers or slices, not str\n",
      "[WARNING] Failed to load IDS_top10_urban_900_points_probabilistic_900_size_seed_42.pkl: list indices must be integers or slices, not str\n",
      "[WARNING] Failed to load IDS_top10_urban_900_points_probabilistic_900_size_seed_456.pkl: list indices must be integers or slices, not str\n",
      "[WARNING] Failed to load IDS_top10_urban_900_points_probabilistic_900_size_seed_5678.pkl: list indices must be integers or slices, not str\n",
      "[WARNING] Failed to load IDS_top10_urban_900_points_probabilistic_900_size_seed_789.pkl: list indices must be integers or slices, not str\n",
      "[WARNING] Failed to load IDS_top10_urban_900_points_probabilistic_900_size_seed_9101.pkl: list indices must be integers or slices, not str\n",
      "[WARNING] Failed to load IDS_top10_urban_900_points_probabilistic_seed_1.pkl: list indices must be integers or slices, not str\n",
      "[WARNING] Failed to load IDS_top10_urban_900_points_probabilistic_seed_1213.pkl: list indices must be integers or slices, not str\n",
      "[WARNING] Failed to load IDS_top10_urban_900_points_probabilistic_seed_123.pkl: list indices must be integers or slices, not str\n",
      "[WARNING] Failed to load IDS_top10_urban_900_points_probabilistic_seed_1234.pkl: list indices must be integers or slices, not str\n",
      "[WARNING] Failed to load IDS_top10_urban_900_points_probabilistic_seed_1415.pkl: list indices must be integers or slices, not str\n",
      "[WARNING] Failed to load IDS_top10_urban_900_points_probabilistic_seed_42.pkl: list indices must be integers or slices, not str\n",
      "[WARNING] Failed to load IDS_top10_urban_900_points_probabilistic_seed_456.pkl: list indices must be integers or slices, not str\n",
      "[WARNING] Failed to load IDS_top10_urban_900_points_probabilistic_seed_5678.pkl: list indices must be integers or slices, not str\n",
      "[WARNING] Failed to load IDS_top10_urban_900_points_probabilistic_seed_789.pkl: list indices must be integers or slices, not str\n",
      "[WARNING] Failed to load IDS_top10_urban_900_points_probabilistic_seed_9101.pkl: list indices must be integers or slices, not str\n",
      "[WARNING] Failed to load IDS_top20_urban_1000_points_probabilistic_1000_size_seed_1.pkl: list indices must be integers or slices, not str\n",
      "[WARNING] Failed to load IDS_top20_urban_1000_points_probabilistic_1000_size_seed_1213.pkl: list indices must be integers or slices, not str\n",
      "[WARNING] Failed to load IDS_top20_urban_1000_points_probabilistic_1000_size_seed_123.pkl: list indices must be integers or slices, not str\n",
      "[WARNING] Failed to load IDS_top20_urban_1000_points_probabilistic_1000_size_seed_1234.pkl: list indices must be integers or slices, not str\n",
      "[WARNING] Failed to load IDS_top20_urban_1000_points_probabilistic_1000_size_seed_1415.pkl: list indices must be integers or slices, not str\n",
      "[WARNING] Failed to load IDS_top20_urban_1000_points_probabilistic_1000_size_seed_42.pkl: list indices must be integers or slices, not str\n",
      "[WARNING] Failed to load IDS_top20_urban_1000_points_probabilistic_1000_size_seed_456.pkl: list indices must be integers or slices, not str\n",
      "[WARNING] Failed to load IDS_top20_urban_1000_points_probabilistic_1000_size_seed_5678.pkl: list indices must be integers or slices, not str\n",
      "[WARNING] Failed to load IDS_top20_urban_1000_points_probabilistic_1000_size_seed_789.pkl: list indices must be integers or slices, not str\n",
      "[WARNING] Failed to load IDS_top20_urban_1000_points_probabilistic_1000_size_seed_9101.pkl: list indices must be integers or slices, not str\n",
      "[WARNING] Failed to load IDS_top20_urban_100_points_probabilistic_100_size_seed_1.pkl: list indices must be integers or slices, not str\n",
      "[WARNING] Failed to load IDS_top20_urban_100_points_probabilistic_100_size_seed_1213.pkl: list indices must be integers or slices, not str\n",
      "[WARNING] Failed to load IDS_top20_urban_100_points_probabilistic_100_size_seed_123.pkl: list indices must be integers or slices, not str\n",
      "[WARNING] Failed to load IDS_top20_urban_100_points_probabilistic_100_size_seed_1234.pkl: list indices must be integers or slices, not str\n",
      "[WARNING] Failed to load IDS_top20_urban_100_points_probabilistic_100_size_seed_1415.pkl: list indices must be integers or slices, not str\n",
      "[WARNING] Failed to load IDS_top20_urban_100_points_probabilistic_100_size_seed_42.pkl: list indices must be integers or slices, not str\n",
      "[WARNING] Failed to load IDS_top20_urban_100_points_probabilistic_100_size_seed_456.pkl: list indices must be integers or slices, not str\n",
      "[WARNING] Failed to load IDS_top20_urban_100_points_probabilistic_100_size_seed_5678.pkl: list indices must be integers or slices, not str\n",
      "[WARNING] Failed to load IDS_top20_urban_100_points_probabilistic_100_size_seed_789.pkl: list indices must be integers or slices, not str\n",
      "[WARNING] Failed to load IDS_top20_urban_100_points_probabilistic_100_size_seed_9101.pkl: list indices must be integers or slices, not str\n",
      "[WARNING] Failed to load IDS_top20_urban_200_points_probabilistic_200_size_seed_1.pkl: list indices must be integers or slices, not str\n",
      "[WARNING] Failed to load IDS_top20_urban_200_points_probabilistic_200_size_seed_1213.pkl: list indices must be integers or slices, not str\n",
      "[WARNING] Failed to load IDS_top20_urban_200_points_probabilistic_200_size_seed_123.pkl: list indices must be integers or slices, not str\n",
      "[WARNING] Failed to load IDS_top20_urban_200_points_probabilistic_200_size_seed_1234.pkl: list indices must be integers or slices, not str\n",
      "[WARNING] Failed to load IDS_top20_urban_200_points_probabilistic_200_size_seed_1415.pkl: list indices must be integers or slices, not str\n",
      "[WARNING] Failed to load IDS_top20_urban_200_points_probabilistic_200_size_seed_42.pkl: list indices must be integers or slices, not str\n",
      "[WARNING] Failed to load IDS_top20_urban_200_points_probabilistic_200_size_seed_456.pkl: list indices must be integers or slices, not str\n",
      "[WARNING] Failed to load IDS_top20_urban_200_points_probabilistic_200_size_seed_5678.pkl: list indices must be integers or slices, not str\n",
      "[WARNING] Failed to load IDS_top20_urban_200_points_probabilistic_200_size_seed_789.pkl: list indices must be integers or slices, not str\n",
      "[WARNING] Failed to load IDS_top20_urban_200_points_probabilistic_200_size_seed_9101.pkl: list indices must be integers or slices, not str\n",
      "[WARNING] Failed to load IDS_top20_urban_300_points_probabilistic_300_size_seed_1.pkl: list indices must be integers or slices, not str\n",
      "[WARNING] Failed to load IDS_top20_urban_300_points_probabilistic_300_size_seed_1213.pkl: list indices must be integers or slices, not str\n",
      "[WARNING] Failed to load IDS_top20_urban_300_points_probabilistic_300_size_seed_123.pkl: list indices must be integers or slices, not str\n",
      "[WARNING] Failed to load IDS_top20_urban_300_points_probabilistic_300_size_seed_1234.pkl: list indices must be integers or slices, not str\n",
      "[WARNING] Failed to load IDS_top20_urban_300_points_probabilistic_300_size_seed_1415.pkl: list indices must be integers or slices, not str\n",
      "[WARNING] Failed to load IDS_top20_urban_300_points_probabilistic_300_size_seed_42.pkl: list indices must be integers or slices, not str\n",
      "[WARNING] Failed to load IDS_top20_urban_300_points_probabilistic_300_size_seed_456.pkl: list indices must be integers or slices, not str\n",
      "[WARNING] Failed to load IDS_top20_urban_300_points_probabilistic_300_size_seed_5678.pkl: list indices must be integers or slices, not str\n",
      "[WARNING] Failed to load IDS_top20_urban_300_points_probabilistic_300_size_seed_789.pkl: list indices must be integers or slices, not str\n",
      "[WARNING] Failed to load IDS_top20_urban_300_points_probabilistic_300_size_seed_9101.pkl: list indices must be integers or slices, not str\n",
      "[WARNING] Failed to load IDS_top20_urban_400_points_probabilistic_400_size_seed_1.pkl: list indices must be integers or slices, not str\n",
      "[WARNING] Failed to load IDS_top20_urban_400_points_probabilistic_400_size_seed_1213.pkl: list indices must be integers or slices, not str\n",
      "[WARNING] Failed to load IDS_top20_urban_400_points_probabilistic_400_size_seed_123.pkl: list indices must be integers or slices, not str\n",
      "[WARNING] Failed to load IDS_top20_urban_400_points_probabilistic_400_size_seed_1234.pkl: list indices must be integers or slices, not str\n",
      "[WARNING] Failed to load IDS_top20_urban_400_points_probabilistic_400_size_seed_1415.pkl: list indices must be integers or slices, not str\n",
      "[WARNING] Failed to load IDS_top20_urban_400_points_probabilistic_400_size_seed_42.pkl: list indices must be integers or slices, not str\n",
      "[WARNING] Failed to load IDS_top20_urban_400_points_probabilistic_400_size_seed_456.pkl: list indices must be integers or slices, not str\n",
      "[WARNING] Failed to load IDS_top20_urban_400_points_probabilistic_400_size_seed_5678.pkl: list indices must be integers or slices, not str\n",
      "[WARNING] Failed to load IDS_top20_urban_400_points_probabilistic_400_size_seed_789.pkl: list indices must be integers or slices, not str\n",
      "[WARNING] Failed to load IDS_top20_urban_400_points_probabilistic_400_size_seed_9101.pkl: list indices must be integers or slices, not str\n",
      "[WARNING] Failed to load IDS_top20_urban_500_points_probabilistic_500_size_seed_1.pkl: list indices must be integers or slices, not str\n",
      "[WARNING] Failed to load IDS_top20_urban_500_points_probabilistic_500_size_seed_1213.pkl: list indices must be integers or slices, not str\n",
      "[WARNING] Failed to load IDS_top20_urban_500_points_probabilistic_500_size_seed_123.pkl: list indices must be integers or slices, not str\n",
      "[WARNING] Failed to load IDS_top20_urban_500_points_probabilistic_500_size_seed_1234.pkl: list indices must be integers or slices, not str\n",
      "[WARNING] Failed to load IDS_top20_urban_500_points_probabilistic_500_size_seed_1415.pkl: list indices must be integers or slices, not str\n",
      "[WARNING] Failed to load IDS_top20_urban_500_points_probabilistic_500_size_seed_42.pkl: list indices must be integers or slices, not str\n",
      "[WARNING] Failed to load IDS_top20_urban_500_points_probabilistic_500_size_seed_456.pkl: list indices must be integers or slices, not str\n",
      "[WARNING] Failed to load IDS_top20_urban_500_points_probabilistic_500_size_seed_5678.pkl: list indices must be integers or slices, not str\n",
      "[WARNING] Failed to load IDS_top20_urban_500_points_probabilistic_500_size_seed_789.pkl: list indices must be integers or slices, not str\n",
      "[WARNING] Failed to load IDS_top20_urban_500_points_probabilistic_500_size_seed_9101.pkl: list indices must be integers or slices, not str\n",
      "[WARNING] Failed to load IDS_top20_urban_600_points_probabilistic_600_size_seed_1.pkl: list indices must be integers or slices, not str\n",
      "[WARNING] Failed to load IDS_top20_urban_600_points_probabilistic_600_size_seed_1213.pkl: list indices must be integers or slices, not str\n",
      "[WARNING] Failed to load IDS_top20_urban_600_points_probabilistic_600_size_seed_123.pkl: list indices must be integers or slices, not str\n",
      "[WARNING] Failed to load IDS_top20_urban_600_points_probabilistic_600_size_seed_1234.pkl: list indices must be integers or slices, not str\n",
      "[WARNING] Failed to load IDS_top20_urban_600_points_probabilistic_600_size_seed_1415.pkl: list indices must be integers or slices, not str\n",
      "[WARNING] Failed to load IDS_top20_urban_600_points_probabilistic_600_size_seed_42.pkl: list indices must be integers or slices, not str\n",
      "[WARNING] Failed to load IDS_top20_urban_600_points_probabilistic_600_size_seed_456.pkl: list indices must be integers or slices, not str\n",
      "[WARNING] Failed to load IDS_top20_urban_600_points_probabilistic_600_size_seed_5678.pkl: list indices must be integers or slices, not str\n",
      "[WARNING] Failed to load IDS_top20_urban_600_points_probabilistic_600_size_seed_789.pkl: list indices must be integers or slices, not str\n",
      "[WARNING] Failed to load IDS_top20_urban_600_points_probabilistic_600_size_seed_9101.pkl: list indices must be integers or slices, not str\n",
      "[WARNING] Failed to load IDS_top20_urban_700_points_probabilistic_700_size_seed_1.pkl: list indices must be integers or slices, not str\n",
      "[WARNING] Failed to load IDS_top20_urban_700_points_probabilistic_700_size_seed_1213.pkl: list indices must be integers or slices, not str\n",
      "[WARNING] Failed to load IDS_top20_urban_700_points_probabilistic_700_size_seed_123.pkl: list indices must be integers or slices, not str\n",
      "[WARNING] Failed to load IDS_top20_urban_700_points_probabilistic_700_size_seed_1234.pkl: list indices must be integers or slices, not str\n",
      "[WARNING] Failed to load IDS_top20_urban_700_points_probabilistic_700_size_seed_1415.pkl: list indices must be integers or slices, not str\n",
      "[WARNING] Failed to load IDS_top20_urban_700_points_probabilistic_700_size_seed_42.pkl: list indices must be integers or slices, not str\n",
      "[WARNING] Failed to load IDS_top20_urban_700_points_probabilistic_700_size_seed_456.pkl: list indices must be integers or slices, not str\n",
      "[WARNING] Failed to load IDS_top20_urban_700_points_probabilistic_700_size_seed_5678.pkl: list indices must be integers or slices, not str\n",
      "[WARNING] Failed to load IDS_top20_urban_700_points_probabilistic_700_size_seed_789.pkl: list indices must be integers or slices, not str\n",
      "[WARNING] Failed to load IDS_top20_urban_700_points_probabilistic_700_size_seed_9101.pkl: list indices must be integers or slices, not str\n",
      "[WARNING] Failed to load IDS_top20_urban_800_points_probabilistic_800_size_seed_1.pkl: list indices must be integers or slices, not str\n",
      "[WARNING] Failed to load IDS_top20_urban_800_points_probabilistic_800_size_seed_1213.pkl: list indices must be integers or slices, not str\n",
      "[WARNING] Failed to load IDS_top20_urban_800_points_probabilistic_800_size_seed_123.pkl: list indices must be integers or slices, not str\n",
      "[WARNING] Failed to load IDS_top20_urban_800_points_probabilistic_800_size_seed_1234.pkl: list indices must be integers or slices, not str\n",
      "[WARNING] Failed to load IDS_top20_urban_800_points_probabilistic_800_size_seed_1415.pkl: list indices must be integers or slices, not str\n",
      "[WARNING] Failed to load IDS_top20_urban_800_points_probabilistic_800_size_seed_42.pkl: list indices must be integers or slices, not str\n",
      "[WARNING] Failed to load IDS_top20_urban_800_points_probabilistic_800_size_seed_456.pkl: list indices must be integers or slices, not str\n",
      "[WARNING] Failed to load IDS_top20_urban_800_points_probabilistic_800_size_seed_5678.pkl: list indices must be integers or slices, not str\n",
      "[WARNING] Failed to load IDS_top20_urban_800_points_probabilistic_800_size_seed_789.pkl: list indices must be integers or slices, not str\n",
      "[WARNING] Failed to load IDS_top20_urban_800_points_probabilistic_800_size_seed_9101.pkl: list indices must be integers or slices, not str\n",
      "[WARNING] Failed to load IDS_top20_urban_900_points_probabilistic_900_size_seed_1.pkl: list indices must be integers or slices, not str\n",
      "[WARNING] Failed to load IDS_top20_urban_900_points_probabilistic_900_size_seed_1213.pkl: list indices must be integers or slices, not str\n",
      "[WARNING] Failed to load IDS_top20_urban_900_points_probabilistic_900_size_seed_123.pkl: list indices must be integers or slices, not str\n",
      "[WARNING] Failed to load IDS_top20_urban_900_points_probabilistic_900_size_seed_1234.pkl: list indices must be integers or slices, not str\n",
      "[WARNING] Failed to load IDS_top20_urban_900_points_probabilistic_900_size_seed_1415.pkl: list indices must be integers or slices, not str\n",
      "[WARNING] Failed to load IDS_top20_urban_900_points_probabilistic_900_size_seed_42.pkl: list indices must be integers or slices, not str\n",
      "[WARNING] Failed to load IDS_top20_urban_900_points_probabilistic_900_size_seed_456.pkl: list indices must be integers or slices, not str\n",
      "[WARNING] Failed to load IDS_top20_urban_900_points_probabilistic_900_size_seed_5678.pkl: list indices must be integers or slices, not str\n",
      "[WARNING] Failed to load IDS_top20_urban_900_points_probabilistic_900_size_seed_789.pkl: list indices must be integers or slices, not str\n",
      "[WARNING] Failed to load IDS_top20_urban_900_points_probabilistic_900_size_seed_9101.pkl: list indices must be integers or slices, not str\n",
      "[WARNING] Failed to load IDS_top50_urban_1000_points_probabilistic_1000_size_seed_1.pkl: list indices must be integers or slices, not str\n",
      "[WARNING] Failed to load IDS_top50_urban_1000_points_probabilistic_1000_size_seed_1213.pkl: list indices must be integers or slices, not str\n",
      "[WARNING] Failed to load IDS_top50_urban_1000_points_probabilistic_1000_size_seed_123.pkl: list indices must be integers or slices, not str\n",
      "[WARNING] Failed to load IDS_top50_urban_1000_points_probabilistic_1000_size_seed_1234.pkl: list indices must be integers or slices, not str\n",
      "[WARNING] Failed to load IDS_top50_urban_1000_points_probabilistic_1000_size_seed_1415.pkl: list indices must be integers or slices, not str\n",
      "[WARNING] Failed to load IDS_top50_urban_1000_points_probabilistic_1000_size_seed_42.pkl: list indices must be integers or slices, not str\n",
      "[WARNING] Failed to load IDS_top50_urban_1000_points_probabilistic_1000_size_seed_456.pkl: list indices must be integers or slices, not str\n",
      "[WARNING] Failed to load IDS_top50_urban_1000_points_probabilistic_1000_size_seed_5678.pkl: list indices must be integers or slices, not str\n",
      "[WARNING] Failed to load IDS_top50_urban_1000_points_probabilistic_1000_size_seed_789.pkl: list indices must be integers or slices, not str\n",
      "[WARNING] Failed to load IDS_top50_urban_1000_points_probabilistic_1000_size_seed_9101.pkl: list indices must be integers or slices, not str\n",
      "[WARNING] Failed to load IDS_top50_urban_100_points_probabilistic_100_size_seed_1.pkl: list indices must be integers or slices, not str\n",
      "[WARNING] Failed to load IDS_top50_urban_100_points_probabilistic_100_size_seed_1213.pkl: list indices must be integers or slices, not str\n",
      "[WARNING] Failed to load IDS_top50_urban_100_points_probabilistic_100_size_seed_123.pkl: list indices must be integers or slices, not str\n",
      "[WARNING] Failed to load IDS_top50_urban_100_points_probabilistic_100_size_seed_1234.pkl: list indices must be integers or slices, not str\n",
      "[WARNING] Failed to load IDS_top50_urban_100_points_probabilistic_100_size_seed_1415.pkl: list indices must be integers or slices, not str\n",
      "[WARNING] Failed to load IDS_top50_urban_100_points_probabilistic_100_size_seed_42.pkl: list indices must be integers or slices, not str\n",
      "[WARNING] Failed to load IDS_top50_urban_100_points_probabilistic_100_size_seed_456.pkl: list indices must be integers or slices, not str\n",
      "[WARNING] Failed to load IDS_top50_urban_100_points_probabilistic_100_size_seed_5678.pkl: list indices must be integers or slices, not str\n",
      "[WARNING] Failed to load IDS_top50_urban_100_points_probabilistic_100_size_seed_789.pkl: list indices must be integers or slices, not str\n",
      "[WARNING] Failed to load IDS_top50_urban_100_points_probabilistic_100_size_seed_9101.pkl: list indices must be integers or slices, not str\n",
      "[WARNING] Failed to load IDS_top50_urban_200_points_probabilistic_200_size_seed_1.pkl: list indices must be integers or slices, not str\n",
      "[WARNING] Failed to load IDS_top50_urban_200_points_probabilistic_200_size_seed_1213.pkl: list indices must be integers or slices, not str\n",
      "[WARNING] Failed to load IDS_top50_urban_200_points_probabilistic_200_size_seed_123.pkl: list indices must be integers or slices, not str\n",
      "[WARNING] Failed to load IDS_top50_urban_200_points_probabilistic_200_size_seed_1234.pkl: list indices must be integers or slices, not str\n",
      "[WARNING] Failed to load IDS_top50_urban_200_points_probabilistic_200_size_seed_1415.pkl: list indices must be integers or slices, not str\n",
      "[WARNING] Failed to load IDS_top50_urban_200_points_probabilistic_200_size_seed_42.pkl: list indices must be integers or slices, not str\n",
      "[WARNING] Failed to load IDS_top50_urban_200_points_probabilistic_200_size_seed_456.pkl: list indices must be integers or slices, not str\n",
      "[WARNING] Failed to load IDS_top50_urban_200_points_probabilistic_200_size_seed_5678.pkl: list indices must be integers or slices, not str\n",
      "[WARNING] Failed to load IDS_top50_urban_200_points_probabilistic_200_size_seed_789.pkl: list indices must be integers or slices, not str\n",
      "[WARNING] Failed to load IDS_top50_urban_200_points_probabilistic_200_size_seed_9101.pkl: list indices must be integers or slices, not str\n",
      "[WARNING] Failed to load IDS_top50_urban_300_points_probabilistic_300_size_seed_1.pkl: list indices must be integers or slices, not str\n",
      "[WARNING] Failed to load IDS_top50_urban_300_points_probabilistic_300_size_seed_1213.pkl: list indices must be integers or slices, not str\n",
      "[WARNING] Failed to load IDS_top50_urban_300_points_probabilistic_300_size_seed_123.pkl: list indices must be integers or slices, not str\n",
      "[WARNING] Failed to load IDS_top50_urban_300_points_probabilistic_300_size_seed_1234.pkl: list indices must be integers or slices, not str\n",
      "[WARNING] Failed to load IDS_top50_urban_300_points_probabilistic_300_size_seed_1415.pkl: list indices must be integers or slices, not str\n",
      "[WARNING] Failed to load IDS_top50_urban_300_points_probabilistic_300_size_seed_42.pkl: list indices must be integers or slices, not str\n",
      "[WARNING] Failed to load IDS_top50_urban_300_points_probabilistic_300_size_seed_456.pkl: list indices must be integers or slices, not str\n",
      "[WARNING] Failed to load IDS_top50_urban_300_points_probabilistic_300_size_seed_5678.pkl: list indices must be integers or slices, not str\n",
      "[WARNING] Failed to load IDS_top50_urban_300_points_probabilistic_300_size_seed_789.pkl: list indices must be integers or slices, not str\n",
      "[WARNING] Failed to load IDS_top50_urban_300_points_probabilistic_300_size_seed_9101.pkl: list indices must be integers or slices, not str\n",
      "[WARNING] Failed to load IDS_top50_urban_400_points_probabilistic_400_size_seed_1.pkl: list indices must be integers or slices, not str\n",
      "[WARNING] Failed to load IDS_top50_urban_400_points_probabilistic_400_size_seed_1213.pkl: list indices must be integers or slices, not str\n",
      "[WARNING] Failed to load IDS_top50_urban_400_points_probabilistic_400_size_seed_123.pkl: list indices must be integers or slices, not str\n",
      "[WARNING] Failed to load IDS_top50_urban_400_points_probabilistic_400_size_seed_1234.pkl: list indices must be integers or slices, not str\n",
      "[WARNING] Failed to load IDS_top50_urban_400_points_probabilistic_400_size_seed_1415.pkl: list indices must be integers or slices, not str\n",
      "[WARNING] Failed to load IDS_top50_urban_400_points_probabilistic_400_size_seed_42.pkl: list indices must be integers or slices, not str\n",
      "[WARNING] Failed to load IDS_top50_urban_400_points_probabilistic_400_size_seed_456.pkl: list indices must be integers or slices, not str\n",
      "[WARNING] Failed to load IDS_top50_urban_400_points_probabilistic_400_size_seed_5678.pkl: list indices must be integers or slices, not str\n",
      "[WARNING] Failed to load IDS_top50_urban_400_points_probabilistic_400_size_seed_789.pkl: list indices must be integers or slices, not str\n",
      "[WARNING] Failed to load IDS_top50_urban_400_points_probabilistic_400_size_seed_9101.pkl: list indices must be integers or slices, not str\n",
      "[WARNING] Failed to load IDS_top50_urban_500_points_probabilistic_500_size_seed_1.pkl: list indices must be integers or slices, not str\n",
      "[WARNING] Failed to load IDS_top50_urban_500_points_probabilistic_500_size_seed_1213.pkl: list indices must be integers or slices, not str\n",
      "[WARNING] Failed to load IDS_top50_urban_500_points_probabilistic_500_size_seed_123.pkl: list indices must be integers or slices, not str\n",
      "[WARNING] Failed to load IDS_top50_urban_500_points_probabilistic_500_size_seed_1234.pkl: list indices must be integers or slices, not str\n",
      "[WARNING] Failed to load IDS_top50_urban_500_points_probabilistic_500_size_seed_1415.pkl: list indices must be integers or slices, not str\n",
      "[WARNING] Failed to load IDS_top50_urban_500_points_probabilistic_500_size_seed_42.pkl: list indices must be integers or slices, not str\n",
      "[WARNING] Failed to load IDS_top50_urban_500_points_probabilistic_500_size_seed_456.pkl: list indices must be integers or slices, not str\n",
      "[WARNING] Failed to load IDS_top50_urban_500_points_probabilistic_500_size_seed_5678.pkl: list indices must be integers or slices, not str\n",
      "[WARNING] Failed to load IDS_top50_urban_500_points_probabilistic_500_size_seed_789.pkl: list indices must be integers or slices, not str\n",
      "[WARNING] Failed to load IDS_top50_urban_500_points_probabilistic_500_size_seed_9101.pkl: list indices must be integers or slices, not str\n",
      "[WARNING] Failed to load IDS_top50_urban_600_points_probabilistic_600_size_seed_1.pkl: list indices must be integers or slices, not str\n",
      "[WARNING] Failed to load IDS_top50_urban_600_points_probabilistic_600_size_seed_1213.pkl: list indices must be integers or slices, not str\n",
      "[WARNING] Failed to load IDS_top50_urban_600_points_probabilistic_600_size_seed_123.pkl: list indices must be integers or slices, not str\n",
      "[WARNING] Failed to load IDS_top50_urban_600_points_probabilistic_600_size_seed_1234.pkl: list indices must be integers or slices, not str\n",
      "[WARNING] Failed to load IDS_top50_urban_600_points_probabilistic_600_size_seed_1415.pkl: list indices must be integers or slices, not str\n",
      "[WARNING] Failed to load IDS_top50_urban_600_points_probabilistic_600_size_seed_42.pkl: list indices must be integers or slices, not str\n",
      "[WARNING] Failed to load IDS_top50_urban_600_points_probabilistic_600_size_seed_456.pkl: list indices must be integers or slices, not str\n",
      "[WARNING] Failed to load IDS_top50_urban_600_points_probabilistic_600_size_seed_5678.pkl: list indices must be integers or slices, not str\n",
      "[WARNING] Failed to load IDS_top50_urban_600_points_probabilistic_600_size_seed_789.pkl: list indices must be integers or slices, not str\n",
      "[WARNING] Failed to load IDS_top50_urban_600_points_probabilistic_600_size_seed_9101.pkl: list indices must be integers or slices, not str\n",
      "[WARNING] Failed to load IDS_top50_urban_700_points_probabilistic_700_size_seed_1.pkl: list indices must be integers or slices, not str\n",
      "[WARNING] Failed to load IDS_top50_urban_700_points_probabilistic_700_size_seed_1213.pkl: list indices must be integers or slices, not str\n",
      "[WARNING] Failed to load IDS_top50_urban_700_points_probabilistic_700_size_seed_123.pkl: list indices must be integers or slices, not str\n",
      "[WARNING] Failed to load IDS_top50_urban_700_points_probabilistic_700_size_seed_1234.pkl: list indices must be integers or slices, not str\n",
      "[WARNING] Failed to load IDS_top50_urban_700_points_probabilistic_700_size_seed_1415.pkl: list indices must be integers or slices, not str\n",
      "[WARNING] Failed to load IDS_top50_urban_700_points_probabilistic_700_size_seed_42.pkl: list indices must be integers or slices, not str\n",
      "[WARNING] Failed to load IDS_top50_urban_700_points_probabilistic_700_size_seed_456.pkl: list indices must be integers or slices, not str\n",
      "[WARNING] Failed to load IDS_top50_urban_700_points_probabilistic_700_size_seed_5678.pkl: list indices must be integers or slices, not str\n",
      "[WARNING] Failed to load IDS_top50_urban_700_points_probabilistic_700_size_seed_789.pkl: list indices must be integers or slices, not str\n",
      "[WARNING] Failed to load IDS_top50_urban_700_points_probabilistic_700_size_seed_9101.pkl: list indices must be integers or slices, not str\n",
      "[WARNING] Failed to load IDS_top50_urban_800_points_probabilistic_800_size_seed_1.pkl: list indices must be integers or slices, not str\n",
      "[WARNING] Failed to load IDS_top50_urban_800_points_probabilistic_800_size_seed_1213.pkl: list indices must be integers or slices, not str\n",
      "[WARNING] Failed to load IDS_top50_urban_800_points_probabilistic_800_size_seed_123.pkl: list indices must be integers or slices, not str\n",
      "[WARNING] Failed to load IDS_top50_urban_800_points_probabilistic_800_size_seed_1234.pkl: list indices must be integers or slices, not str\n",
      "[WARNING] Failed to load IDS_top50_urban_800_points_probabilistic_800_size_seed_1415.pkl: list indices must be integers or slices, not str\n",
      "[WARNING] Failed to load IDS_top50_urban_800_points_probabilistic_800_size_seed_42.pkl: list indices must be integers or slices, not str\n",
      "[WARNING] Failed to load IDS_top50_urban_800_points_probabilistic_800_size_seed_456.pkl: list indices must be integers or slices, not str\n",
      "[WARNING] Failed to load IDS_top50_urban_800_points_probabilistic_800_size_seed_5678.pkl: list indices must be integers or slices, not str\n",
      "[WARNING] Failed to load IDS_top50_urban_800_points_probabilistic_800_size_seed_789.pkl: list indices must be integers or slices, not str\n",
      "[WARNING] Failed to load IDS_top50_urban_800_points_probabilistic_800_size_seed_9101.pkl: list indices must be integers or slices, not str\n",
      "[WARNING] Failed to load IDS_top50_urban_900_points_probabilistic_900_size_seed_1.pkl: list indices must be integers or slices, not str\n",
      "[WARNING] Failed to load IDS_top50_urban_900_points_probabilistic_900_size_seed_1213.pkl: list indices must be integers or slices, not str\n",
      "[WARNING] Failed to load IDS_top50_urban_900_points_probabilistic_900_size_seed_123.pkl: list indices must be integers or slices, not str\n",
      "[WARNING] Failed to load IDS_top50_urban_900_points_probabilistic_900_size_seed_1234.pkl: list indices must be integers or slices, not str\n",
      "[WARNING] Failed to load IDS_top50_urban_900_points_probabilistic_900_size_seed_1415.pkl: list indices must be integers or slices, not str\n",
      "[WARNING] Failed to load IDS_top50_urban_900_points_probabilistic_900_size_seed_42.pkl: list indices must be integers or slices, not str\n",
      "[WARNING] Failed to load IDS_top50_urban_900_points_probabilistic_900_size_seed_456.pkl: list indices must be integers or slices, not str\n",
      "[WARNING] Failed to load IDS_top50_urban_900_points_probabilistic_900_size_seed_5678.pkl: list indices must be integers or slices, not str\n",
      "[WARNING] Failed to load IDS_top50_urban_900_points_probabilistic_900_size_seed_789.pkl: list indices must be integers or slices, not str\n",
      "[WARNING] Failed to load IDS_top50_urban_900_points_probabilistic_900_size_seed_9101.pkl: list indices must be integers or slices, not str\n"
     ]
    },
    {
     "name": "stderr",
     "output_type": "stream",
     "text": [
      "\n"
     ]
    },
    {
     "name": "stdout",
     "output_type": "stream",
     "text": [
      "Results written incrementally to /home/libe2152/optimizedsampling/0_results/usavars/treecover/convenience_sampling_r2_scores.csv\n",
      "Loading features from /home/libe2152/optimizedsampling/0_data/features/usavars/CONTUS_UAR_treecover_with_splits_torchgeo4096.pkl ...\n",
      "Processing samples from /home/libe2152/optimizedsampling/0_data/initial_samples/usavars/treecover/convenience_sampling/region_based ...\n"
     ]
    },
    {
     "name": "stderr",
     "output_type": "stream",
     "text": [
      "Processing samples: 100%|██████████| 101/101 [00:00<00:00, 13215.15it/s]"
     ]
    },
    {
     "name": "stdout",
     "output_type": "stream",
     "text": [
      "[WARNING] Failed to load IDS_region_06_1000_points_seed_1.pkl: list indices must be integers or slices, not str\n",
      "[WARNING] Failed to load IDS_region_06_1000_points_seed_1213.pkl: list indices must be integers or slices, not str\n",
      "[WARNING] Failed to load IDS_region_06_1000_points_seed_123.pkl: list indices must be integers or slices, not str\n",
      "[WARNING] Failed to load IDS_region_06_1000_points_seed_1234.pkl: list indices must be integers or slices, not str\n",
      "[WARNING] Failed to load IDS_region_06_1000_points_seed_1415.pkl: list indices must be integers or slices, not str\n",
      "[WARNING] Failed to load IDS_region_06_1000_points_seed_42.pkl: list indices must be integers or slices, not str\n",
      "[WARNING] Failed to load IDS_region_06_1000_points_seed_456.pkl: list indices must be integers or slices, not str\n",
      "[WARNING] Failed to load IDS_region_06_1000_points_seed_5678.pkl: list indices must be integers or slices, not str\n",
      "[WARNING] Failed to load IDS_region_06_1000_points_seed_789.pkl: list indices must be integers or slices, not str\n",
      "[WARNING] Failed to load IDS_region_06_1000_points_seed_9101.pkl: list indices must be integers or slices, not str\n",
      "[WARNING] Failed to load IDS_region_06_100_points_seed_1.pkl: list indices must be integers or slices, not str\n",
      "[WARNING] Failed to load IDS_region_06_100_points_seed_1213.pkl: list indices must be integers or slices, not str\n",
      "[WARNING] Failed to load IDS_region_06_100_points_seed_123.pkl: list indices must be integers or slices, not str\n",
      "[WARNING] Failed to load IDS_region_06_100_points_seed_1234.pkl: list indices must be integers or slices, not str\n",
      "[WARNING] Failed to load IDS_region_06_100_points_seed_1415.pkl: list indices must be integers or slices, not str\n",
      "[WARNING] Failed to load IDS_region_06_100_points_seed_42.pkl: list indices must be integers or slices, not str\n",
      "[WARNING] Failed to load IDS_region_06_100_points_seed_456.pkl: list indices must be integers or slices, not str\n",
      "[WARNING] Failed to load IDS_region_06_100_points_seed_5678.pkl: list indices must be integers or slices, not str\n",
      "[WARNING] Failed to load IDS_region_06_100_points_seed_789.pkl: list indices must be integers or slices, not str\n",
      "[WARNING] Failed to load IDS_region_06_100_points_seed_9101.pkl: list indices must be integers or slices, not str\n",
      "[WARNING] Failed to load IDS_region_06_200_points_seed_1.pkl: list indices must be integers or slices, not str\n",
      "[WARNING] Failed to load IDS_region_06_200_points_seed_1213.pkl: list indices must be integers or slices, not str\n",
      "[WARNING] Failed to load IDS_region_06_200_points_seed_123.pkl: list indices must be integers or slices, not str\n",
      "[WARNING] Failed to load IDS_region_06_200_points_seed_1234.pkl: list indices must be integers or slices, not str\n",
      "[WARNING] Failed to load IDS_region_06_200_points_seed_1415.pkl: list indices must be integers or slices, not str\n",
      "[WARNING] Failed to load IDS_region_06_200_points_seed_42.pkl: list indices must be integers or slices, not str\n",
      "[WARNING] Failed to load IDS_region_06_200_points_seed_456.pkl: list indices must be integers or slices, not str\n",
      "[WARNING] Failed to load IDS_region_06_200_points_seed_5678.pkl: list indices must be integers or slices, not str\n",
      "[WARNING] Failed to load IDS_region_06_200_points_seed_789.pkl: list indices must be integers or slices, not str\n",
      "[WARNING] Failed to load IDS_region_06_200_points_seed_9101.pkl: list indices must be integers or slices, not str\n",
      "[WARNING] Failed to load IDS_region_06_300_points_seed_1.pkl: list indices must be integers or slices, not str\n",
      "[WARNING] Failed to load IDS_region_06_300_points_seed_1213.pkl: list indices must be integers or slices, not str\n",
      "[WARNING] Failed to load IDS_region_06_300_points_seed_123.pkl: list indices must be integers or slices, not str\n",
      "[WARNING] Failed to load IDS_region_06_300_points_seed_1234.pkl: list indices must be integers or slices, not str\n",
      "[WARNING] Failed to load IDS_region_06_300_points_seed_1415.pkl: list indices must be integers or slices, not str\n",
      "[WARNING] Failed to load IDS_region_06_300_points_seed_42.pkl: list indices must be integers or slices, not str\n",
      "[WARNING] Failed to load IDS_region_06_300_points_seed_456.pkl: list indices must be integers or slices, not str\n",
      "[WARNING] Failed to load IDS_region_06_300_points_seed_5678.pkl: list indices must be integers or slices, not str\n",
      "[WARNING] Failed to load IDS_region_06_300_points_seed_789.pkl: list indices must be integers or slices, not str\n",
      "[WARNING] Failed to load IDS_region_06_300_points_seed_9101.pkl: list indices must be integers or slices, not str\n",
      "[WARNING] Failed to load IDS_region_06_400_points_seed_1.pkl: list indices must be integers or slices, not str\n",
      "[WARNING] Failed to load IDS_region_06_400_points_seed_1213.pkl: list indices must be integers or slices, not str\n",
      "[WARNING] Failed to load IDS_region_06_400_points_seed_123.pkl: list indices must be integers or slices, not str\n",
      "[WARNING] Failed to load IDS_region_06_400_points_seed_1234.pkl: list indices must be integers or slices, not str\n",
      "[WARNING] Failed to load IDS_region_06_400_points_seed_1415.pkl: list indices must be integers or slices, not str\n",
      "[WARNING] Failed to load IDS_region_06_400_points_seed_42.pkl: list indices must be integers or slices, not str\n",
      "[WARNING] Failed to load IDS_region_06_400_points_seed_456.pkl: list indices must be integers or slices, not str\n",
      "[WARNING] Failed to load IDS_region_06_400_points_seed_5678.pkl: list indices must be integers or slices, not str\n",
      "[WARNING] Failed to load IDS_region_06_400_points_seed_789.pkl: list indices must be integers or slices, not str\n",
      "[WARNING] Failed to load IDS_region_06_400_points_seed_9101.pkl: list indices must be integers or slices, not str\n",
      "[WARNING] Failed to load IDS_region_06_500_points_seed_1.pkl: list indices must be integers or slices, not str\n",
      "[WARNING] Failed to load IDS_region_06_500_points_seed_1213.pkl: list indices must be integers or slices, not str\n",
      "[WARNING] Failed to load IDS_region_06_500_points_seed_123.pkl: list indices must be integers or slices, not str\n",
      "[WARNING] Failed to load IDS_region_06_500_points_seed_1234.pkl: list indices must be integers or slices, not str\n",
      "[WARNING] Failed to load IDS_region_06_500_points_seed_1415.pkl: list indices must be integers or slices, not str\n",
      "[WARNING] Failed to load IDS_region_06_500_points_seed_42.pkl: list indices must be integers or slices, not str\n",
      "[WARNING] Failed to load IDS_region_06_500_points_seed_456.pkl: list indices must be integers or slices, not str\n",
      "[WARNING] Failed to load IDS_region_06_500_points_seed_5678.pkl: list indices must be integers or slices, not str\n",
      "[WARNING] Failed to load IDS_region_06_500_points_seed_789.pkl: list indices must be integers or slices, not str\n",
      "[WARNING] Failed to load IDS_region_06_500_points_seed_9101.pkl: list indices must be integers or slices, not str\n",
      "[WARNING] Failed to load IDS_region_06_600_points_seed_1.pkl: list indices must be integers or slices, not str\n",
      "[WARNING] Failed to load IDS_region_06_600_points_seed_1213.pkl: list indices must be integers or slices, not str\n",
      "[WARNING] Failed to load IDS_region_06_600_points_seed_123.pkl: list indices must be integers or slices, not str\n",
      "[WARNING] Failed to load IDS_region_06_600_points_seed_1234.pkl: list indices must be integers or slices, not str\n",
      "[WARNING] Failed to load IDS_region_06_600_points_seed_1415.pkl: list indices must be integers or slices, not str\n",
      "[WARNING] Failed to load IDS_region_06_600_points_seed_42.pkl: list indices must be integers or slices, not str\n",
      "[WARNING] Failed to load IDS_region_06_600_points_seed_456.pkl: list indices must be integers or slices, not str\n",
      "[WARNING] Failed to load IDS_region_06_600_points_seed_5678.pkl: list indices must be integers or slices, not str\n",
      "[WARNING] Failed to load IDS_region_06_600_points_seed_789.pkl: list indices must be integers or slices, not str\n",
      "[WARNING] Failed to load IDS_region_06_600_points_seed_9101.pkl: list indices must be integers or slices, not str\n",
      "[WARNING] Failed to load IDS_region_06_700_points_seed_1.pkl: list indices must be integers or slices, not str\n",
      "[WARNING] Failed to load IDS_region_06_700_points_seed_1213.pkl: list indices must be integers or slices, not str\n",
      "[WARNING] Failed to load IDS_region_06_700_points_seed_123.pkl: list indices must be integers or slices, not str\n",
      "[WARNING] Failed to load IDS_region_06_700_points_seed_1234.pkl: list indices must be integers or slices, not str\n",
      "[WARNING] Failed to load IDS_region_06_700_points_seed_1415.pkl: list indices must be integers or slices, not str\n",
      "[WARNING] Failed to load IDS_region_06_700_points_seed_42.pkl: list indices must be integers or slices, not str\n",
      "[WARNING] Failed to load IDS_region_06_700_points_seed_456.pkl: list indices must be integers or slices, not str\n",
      "[WARNING] Failed to load IDS_region_06_700_points_seed_5678.pkl: list indices must be integers or slices, not str\n",
      "[WARNING] Failed to load IDS_region_06_700_points_seed_789.pkl: list indices must be integers or slices, not str\n",
      "[WARNING] Failed to load IDS_region_06_700_points_seed_9101.pkl: list indices must be integers or slices, not str\n",
      "[WARNING] Failed to load IDS_region_06_800_points_seed_1.pkl: list indices must be integers or slices, not str\n",
      "[WARNING] Failed to load IDS_region_06_800_points_seed_1213.pkl: list indices must be integers or slices, not str\n",
      "[WARNING] Failed to load IDS_region_06_800_points_seed_123.pkl: list indices must be integers or slices, not str\n",
      "[WARNING] Failed to load IDS_region_06_800_points_seed_1234.pkl: list indices must be integers or slices, not str\n",
      "[WARNING] Failed to load IDS_region_06_800_points_seed_1415.pkl: list indices must be integers or slices, not str\n",
      "[WARNING] Failed to load IDS_region_06_800_points_seed_42.pkl: list indices must be integers or slices, not str\n",
      "[WARNING] Failed to load IDS_region_06_800_points_seed_456.pkl: list indices must be integers or slices, not str\n",
      "[WARNING] Failed to load IDS_region_06_800_points_seed_5678.pkl: list indices must be integers or slices, not str\n",
      "[WARNING] Failed to load IDS_region_06_800_points_seed_789.pkl: list indices must be integers or slices, not str\n",
      "[WARNING] Failed to load IDS_region_06_800_points_seed_9101.pkl: list indices must be integers or slices, not str\n",
      "[WARNING] Failed to load IDS_region_06_900_points_seed_1.pkl: list indices must be integers or slices, not str\n",
      "[WARNING] Failed to load IDS_region_06_900_points_seed_1213.pkl: list indices must be integers or slices, not str\n",
      "[WARNING] Failed to load IDS_region_06_900_points_seed_123.pkl: list indices must be integers or slices, not str\n",
      "[WARNING] Failed to load IDS_region_06_900_points_seed_1234.pkl: list indices must be integers or slices, not str\n",
      "[WARNING] Failed to load IDS_region_06_900_points_seed_1415.pkl: list indices must be integers or slices, not str\n",
      "[WARNING] Failed to load IDS_region_06_900_points_seed_42.pkl: list indices must be integers or slices, not str\n",
      "[WARNING] Failed to load IDS_region_06_900_points_seed_456.pkl: list indices must be integers or slices, not str\n",
      "[WARNING] Failed to load IDS_region_06_900_points_seed_5678.pkl: list indices must be integers or slices, not str\n",
      "[WARNING] Failed to load IDS_region_06_900_points_seed_789.pkl: list indices must be integers or slices, not str\n",
      "[WARNING] Failed to load IDS_region_06_900_points_seed_9101.pkl: list indices must be integers or slices, not str\n",
      "Results written incrementally to /home/libe2152/optimizedsampling/0_results/usavars/treecover/convenience_sampling_r2_scores.csv\n"
     ]
    },
    {
     "name": "stderr",
     "output_type": "stream",
     "text": [
      "\n"
     ]
    }
   ],
   "source": [
    "for label in ['population', 'treecover']:\n",
    "\n",
    "    features_path = f\"/home/libe2152/optimizedsampling/0_data/features/usavars/CONTUS_UAR_{label}_with_splits_torchgeo4096.pkl\"\n",
    "    cluster_sampling_dir= CLUSTER_SAMPLING_DIR[label]\n",
    "    convenience_sampling_urban_dir = f\"/home/libe2152/optimizedsampling/0_data/initial_samples/usavars/{label}/convenience_sampling/urban_based\"\n",
    "    convenience_sampling_region_dir = f\"/home/libe2152/optimizedsampling/0_data/initial_samples/usavars/{label}/convenience_sampling/region_based\"\n",
    "    random_sampling_dir = f\"/home/libe2152/optimizedsampling/0_data/initial_samples/usavars/{label}/random_sampling\"\n",
    "\n",
    "    results_dir = f\"/home/libe2152/optimizedsampling/0_results/usavars/{label}\"\n",
    "\n",
    "    # # Run cluster sampling R2 scores\n",
    "    # cluster_sampling_r2_scores(\n",
    "    #     features_path=features_path,\n",
    "    #     sampling_dir=cluster_sampling_dir,\n",
    "    #     results_dir=results_dir,\n",
    "    #     ridge_regression_fn=ridge_regression,\n",
    "    #     verbose=True,\n",
    "    #     min_samples=100\n",
    "    # )\n",
    "\n",
    "    # Run convenience sampling R2 scores\n",
    "    convenience_sampling_r2_scores(\n",
    "        features_path=features_path,\n",
    "        sampling_dir=convenience_sampling_urban_dir,\n",
    "        results_dir=results_dir,\n",
    "        ridge_regression_fn=ridge_regression,\n",
    "        verbose=True,\n",
    "        min_samples=100\n",
    "    )\n",
    "\n",
    "    # convenience_sampling_r2_scores(\n",
    "    #     features_path=features_path,\n",
    "    #     sampling_dir=convenience_sampling_region_dir,\n",
    "    #     results_dir=results_dir,\n",
    "    #     ridge_regression_fn=ridge_regression,\n",
    "    #     verbose=True,\n",
    "    #     min_samples=100\n",
    "    # )\n",
    "\n",
    "    # # Run random sampling R2 scores\n",
    "    # random_sampling_r2_scores(\n",
    "    #     features_path=features_path,\n",
    "    #     sampling_dir=random_sampling_dir,\n",
    "    #     results_dir=results_dir,\n",
    "    #     ridge_regression_fn=ridge_regression,\n",
    "    #     verbose=True,\n",
    "    # )"
   ]
  },
  {
   "cell_type": "code",
   "execution_count": null,
   "id": "1a23219a",
   "metadata": {},
   "outputs": [],
   "source": []
  }
 ],
 "metadata": {
  "kernelspec": {
   "display_name": "mosaiks",
   "language": "python",
   "name": "python3"
  },
  "language_info": {
   "codemirror_mode": {
    "name": "ipython",
    "version": 3
   },
   "file_extension": ".py",
   "mimetype": "text/x-python",
   "name": "python",
   "nbconvert_exporter": "python",
   "pygments_lexer": "ipython3",
   "version": "3.11.11"
  }
 },
 "nbformat": 4,
 "nbformat_minor": 5
}
