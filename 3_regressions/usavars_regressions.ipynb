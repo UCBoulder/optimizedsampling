{
 "cells": [
  {
   "cell_type": "code",
   "execution_count": 1,
   "id": "d6c3f0ba",
   "metadata": {},
   "outputs": [],
   "source": [
    "from regressions import ridge_regression\n",
    "from initial_set_regressions import cluster_sampling_r2_scores, convenience_sampling_r2_scores, random_sampling_r2_scores"
   ]
  },
  {
   "cell_type": "markdown",
   "id": "54479c88",
   "metadata": {},
   "source": [
    "# USAVars Initial Set Regressions"
   ]
  },
  {
   "cell_type": "code",
   "execution_count": null,
   "id": "6fb1407d",
   "metadata": {},
   "outputs": [
    {
     "name": "stdout",
     "output_type": "stream",
     "text": [
      "Loading features from /home/libe2152/optimizedsampling/0_data/features/usavars/CONTUS_UAR_population_with_splits_torchgeo4096.pkl ...\n",
      "Processing samples from /home/libe2152/optimizedsampling/0_data/initial_samples/usavars/population/convenience_sampling/region_based ...\n"
     ]
    },
    {
     "name": "stderr",
     "output_type": "stream",
     "text": [
      "Processing samples:   0%|          | 0/103 [00:00<?, ?it/s]"
     ]
    },
    {
     "name": "stdout",
     "output_type": "stream",
     "text": [
      "Fitting regression...\n",
      "NUM SAMPLES: 1000\n",
      "Best alpha: 46.41588833612782\n"
     ]
    },
    {
     "name": "stderr",
     "output_type": "stream",
     "text": [
      "Processing samples:   1%|          | 1/103 [00:09<16:11,  9.52s/it]"
     ]
    },
    {
     "name": "stdout",
     "output_type": "stream",
     "text": [
      "-0.19911829431118933\n",
      "[WRITE] Saved result from IDS_region_06_1000_points_seed_1.pkl to /home/libe2152/optimizedsampling/0_results/usavars/population/convenience_sampling_r2_scores.csv\n",
      "Fitting regression...\n",
      "NUM SAMPLES: 1000\n",
      "Best alpha: 3.593813663804626\n"
     ]
    },
    {
     "name": "stderr",
     "output_type": "stream",
     "text": [
      "Processing samples:   2%|▏         | 2/103 [00:22<19:51, 11.79s/it]"
     ]
    },
    {
     "name": "stdout",
     "output_type": "stream",
     "text": [
      "-2.7418034012010133\n",
      "Warning: Severe overfitting. Add more samples.\n",
      "[WRITE] Saved result from IDS_region_06_1000_points_seed_1213.pkl to /home/libe2152/optimizedsampling/0_results/usavars/population/convenience_sampling_r2_scores.csv\n",
      "Fitting regression...\n",
      "NUM SAMPLES: 1000\n",
      "Best alpha: 46.41588833612782\n"
     ]
    },
    {
     "name": "stderr",
     "output_type": "stream",
     "text": [
      "Processing samples:   3%|▎         | 3/103 [00:37<21:44, 13.04s/it]"
     ]
    },
    {
     "name": "stdout",
     "output_type": "stream",
     "text": [
      "-1.0126050557712833\n",
      "Warning: Severe overfitting. Add more samples.\n",
      "[WRITE] Saved result from IDS_region_06_1000_points_seed_123.pkl to /home/libe2152/optimizedsampling/0_results/usavars/population/convenience_sampling_r2_scores.csv\n",
      "Fitting regression...\n",
      "NUM SAMPLES: 1000\n",
      "Best alpha: 46.41588833612782\n"
     ]
    },
    {
     "name": "stderr",
     "output_type": "stream",
     "text": [
      "Processing samples:   4%|▍         | 4/103 [00:46<19:13, 11.65s/it]"
     ]
    },
    {
     "name": "stdout",
     "output_type": "stream",
     "text": [
      "-0.3846211072448862\n",
      "[WRITE] Saved result from IDS_region_06_1000_points_seed_1234.pkl to /home/libe2152/optimizedsampling/0_results/usavars/population/convenience_sampling_r2_scores.csv\n",
      "Fitting regression...\n",
      "NUM SAMPLES: 1000\n",
      "Best alpha: 3.593813663804626\n"
     ]
    },
    {
     "name": "stderr",
     "output_type": "stream",
     "text": [
      "Processing samples:   5%|▍         | 5/103 [00:55<17:06, 10.47s/it]"
     ]
    },
    {
     "name": "stdout",
     "output_type": "stream",
     "text": [
      "-0.8187969809280595\n",
      "[WRITE] Saved result from IDS_region_06_1000_points_seed_1415.pkl to /home/libe2152/optimizedsampling/0_results/usavars/population/convenience_sampling_r2_scores.csv\n",
      "Fitting regression...\n",
      "NUM SAMPLES: 1000\n",
      "Best alpha: 46.41588833612782\n"
     ]
    },
    {
     "name": "stderr",
     "output_type": "stream",
     "text": [
      "Processing samples:   6%|▌         | 6/103 [01:16<22:52, 14.14s/it]"
     ]
    },
    {
     "name": "stdout",
     "output_type": "stream",
     "text": [
      "-0.14907980417146405\n",
      "[WRITE] Saved result from IDS_region_06_1000_points_seed_42.pkl to /home/libe2152/optimizedsampling/0_results/usavars/population/convenience_sampling_r2_scores.csv\n",
      "Fitting regression...\n",
      "NUM SAMPLES: 1000\n",
      "Best alpha: 46.41588833612782\n"
     ]
    },
    {
     "name": "stderr",
     "output_type": "stream",
     "text": [
      "Processing samples:   7%|▋         | 7/103 [01:25<19:55, 12.45s/it]"
     ]
    },
    {
     "name": "stdout",
     "output_type": "stream",
     "text": [
      "-0.6745389150658676\n",
      "[WRITE] Saved result from IDS_region_06_1000_points_seed_456.pkl to /home/libe2152/optimizedsampling/0_results/usavars/population/convenience_sampling_r2_scores.csv\n",
      "Fitting regression...\n",
      "NUM SAMPLES: 1000\n",
      "Best alpha: 46.41588833612782\n"
     ]
    },
    {
     "name": "stderr",
     "output_type": "stream",
     "text": [
      "Processing samples:   8%|▊         | 8/103 [01:35<18:12, 11.50s/it]"
     ]
    },
    {
     "name": "stdout",
     "output_type": "stream",
     "text": [
      "-0.12791788004174132\n",
      "[WRITE] Saved result from IDS_region_06_1000_points_seed_5678.pkl to /home/libe2152/optimizedsampling/0_results/usavars/population/convenience_sampling_r2_scores.csv\n",
      "Fitting regression...\n",
      "NUM SAMPLES: 1000\n",
      "Best alpha: 46.41588833612782\n"
     ]
    },
    {
     "name": "stderr",
     "output_type": "stream",
     "text": [
      "Processing samples:   9%|▊         | 9/103 [01:49<19:14, 12.29s/it]"
     ]
    },
    {
     "name": "stdout",
     "output_type": "stream",
     "text": [
      "-0.19942215346857384\n",
      "[WRITE] Saved result from IDS_region_06_1000_points_seed_789.pkl to /home/libe2152/optimizedsampling/0_results/usavars/population/convenience_sampling_r2_scores.csv\n",
      "Fitting regression...\n",
      "NUM SAMPLES: 1000\n",
      "Best alpha: 46.41588833612782\n"
     ]
    },
    {
     "name": "stderr",
     "output_type": "stream",
     "text": [
      "Processing samples:  10%|▉         | 10/103 [02:04<20:32, 13.26s/it]"
     ]
    },
    {
     "name": "stdout",
     "output_type": "stream",
     "text": [
      "-0.1088767423060566\n",
      "[WRITE] Saved result from IDS_region_06_1000_points_seed_9101.pkl to /home/libe2152/optimizedsampling/0_results/usavars/population/convenience_sampling_r2_scores.csv\n",
      "Fitting regression...\n",
      "NUM SAMPLES: 100\n",
      "Best alpha: 599.4842503189421\n"
     ]
    },
    {
     "name": "stderr",
     "output_type": "stream",
     "text": [
      "Processing samples:  11%|█         | 11/103 [02:05<14:23,  9.39s/it]"
     ]
    },
    {
     "name": "stdout",
     "output_type": "stream",
     "text": [
      "-0.020592785418981574\n",
      "[WRITE] Saved result from IDS_region_06_100_points_seed_1.pkl to /home/libe2152/optimizedsampling/0_results/usavars/population/convenience_sampling_r2_scores.csv\n",
      "Fitting regression...\n",
      "NUM SAMPLES: 100\n",
      "Best alpha: 599.4842503189421\n"
     ]
    },
    {
     "name": "stderr",
     "output_type": "stream",
     "text": [
      "Processing samples:  12%|█▏        | 12/103 [02:05<10:10,  6.71s/it]"
     ]
    },
    {
     "name": "stdout",
     "output_type": "stream",
     "text": [
      "-1.8456501162734638\n",
      "Warning: Severe overfitting. Add more samples.\n",
      "[WRITE] Saved result from IDS_region_06_100_points_seed_1213.pkl to /home/libe2152/optimizedsampling/0_results/usavars/population/convenience_sampling_r2_scores.csv\n",
      "Fitting regression...\n",
      "NUM SAMPLES: 100\n",
      "Best alpha: 46.41588833612782\n"
     ]
    },
    {
     "name": "stderr",
     "output_type": "stream",
     "text": [
      "Processing samples:  13%|█▎        | 13/103 [02:06<07:31,  5.02s/it]"
     ]
    },
    {
     "name": "stdout",
     "output_type": "stream",
     "text": [
      "-1.482739900968455\n",
      "Warning: Severe overfitting. Add more samples.\n",
      "[WRITE] Saved result from IDS_region_06_100_points_seed_123.pkl to /home/libe2152/optimizedsampling/0_results/usavars/population/convenience_sampling_r2_scores.csv\n",
      "Fitting regression...\n",
      "NUM SAMPLES: 100\n",
      "Best alpha: 7742.636826811277\n"
     ]
    },
    {
     "name": "stderr",
     "output_type": "stream",
     "text": [
      "Processing samples:  14%|█▎        | 14/103 [02:07<05:29,  3.70s/it]"
     ]
    },
    {
     "name": "stdout",
     "output_type": "stream",
     "text": [
      "0.2698940964109654\n",
      "[WRITE] Saved result from IDS_region_06_100_points_seed_1234.pkl to /home/libe2152/optimizedsampling/0_results/usavars/population/convenience_sampling_r2_scores.csv\n",
      "Fitting regression...\n",
      "NUM SAMPLES: 100\n",
      "Best alpha: 7742.636826811277\n"
     ]
    },
    {
     "name": "stderr",
     "output_type": "stream",
     "text": [
      "Processing samples:  15%|█▍        | 15/103 [02:08<04:04,  2.78s/it]"
     ]
    },
    {
     "name": "stdout",
     "output_type": "stream",
     "text": [
      "0.01912498608479518\n",
      "[WRITE] Saved result from IDS_region_06_100_points_seed_1415.pkl to /home/libe2152/optimizedsampling/0_results/usavars/population/convenience_sampling_r2_scores.csv\n",
      "Fitting regression...\n",
      "NUM SAMPLES: 100\n",
      "Best alpha: 7742.636826811277\n"
     ]
    },
    {
     "name": "stderr",
     "output_type": "stream",
     "text": [
      "Processing samples:  16%|█▌        | 16/103 [02:08<03:06,  2.14s/it]"
     ]
    },
    {
     "name": "stdout",
     "output_type": "stream",
     "text": [
      "0.15389839637461555\n",
      "[WRITE] Saved result from IDS_region_06_100_points_seed_42.pkl to /home/libe2152/optimizedsampling/0_results/usavars/population/convenience_sampling_r2_scores.csv\n",
      "Fitting regression...\n",
      "NUM SAMPLES: 100\n",
      "Best alpha: 46.41588833612782\n"
     ]
    },
    {
     "name": "stderr",
     "output_type": "stream",
     "text": [
      "Processing samples:  17%|█▋        | 17/103 [02:09<02:24,  1.68s/it]"
     ]
    },
    {
     "name": "stdout",
     "output_type": "stream",
     "text": [
      "-0.6253275945441747\n",
      "[WRITE] Saved result from IDS_region_06_100_points_seed_456.pkl to /home/libe2152/optimizedsampling/0_results/usavars/population/convenience_sampling_r2_scores.csv\n",
      "Fitting regression...\n",
      "NUM SAMPLES: 100\n",
      "Best alpha: 46.41588833612782\n"
     ]
    },
    {
     "name": "stderr",
     "output_type": "stream",
     "text": [
      "Processing samples:  17%|█▋        | 18/103 [02:10<01:56,  1.38s/it]"
     ]
    },
    {
     "name": "stdout",
     "output_type": "stream",
     "text": [
      "-0.7188899631767987\n",
      "[WRITE] Saved result from IDS_region_06_100_points_seed_5678.pkl to /home/libe2152/optimizedsampling/0_results/usavars/population/convenience_sampling_r2_scores.csv\n",
      "Fitting regression...\n",
      "NUM SAMPLES: 100\n",
      "Best alpha: 46.41588833612782\n"
     ]
    },
    {
     "name": "stderr",
     "output_type": "stream",
     "text": [
      "Processing samples:  18%|█▊        | 19/103 [02:10<01:35,  1.14s/it]"
     ]
    },
    {
     "name": "stdout",
     "output_type": "stream",
     "text": [
      "-0.6058244748223931\n",
      "[WRITE] Saved result from IDS_region_06_100_points_seed_789.pkl to /home/libe2152/optimizedsampling/0_results/usavars/population/convenience_sampling_r2_scores.csv\n",
      "Fitting regression...\n",
      "NUM SAMPLES: 100\n",
      "Best alpha: 599.4842503189421\n"
     ]
    },
    {
     "name": "stderr",
     "output_type": "stream",
     "text": [
      "Processing samples:  19%|█▉        | 20/103 [02:11<01:20,  1.02it/s]"
     ]
    },
    {
     "name": "stdout",
     "output_type": "stream",
     "text": [
      "-0.468796872003018\n",
      "[WRITE] Saved result from IDS_region_06_100_points_seed_9101.pkl to /home/libe2152/optimizedsampling/0_results/usavars/population/convenience_sampling_r2_scores.csv\n",
      "Fitting regression...\n",
      "NUM SAMPLES: 10\n",
      "Best alpha: 7742.636826811277\n"
     ]
    },
    {
     "name": "stderr",
     "output_type": "stream",
     "text": [
      "Processing samples:  20%|██        | 21/103 [02:11<01:07,  1.22it/s]"
     ]
    },
    {
     "name": "stdout",
     "output_type": "stream",
     "text": [
      "0.10506509320401802\n",
      "[WRITE] Saved result from IDS_region_06_10_points_seed_1.pkl to /home/libe2152/optimizedsampling/0_results/usavars/population/convenience_sampling_r2_scores.csv\n",
      "Fitting regression...\n",
      "NUM SAMPLES: 10\n",
      "Best alpha: 7742.636826811277\n"
     ]
    },
    {
     "name": "stderr",
     "output_type": "stream",
     "text": [
      "Processing samples:  21%|██▏       | 22/103 [02:12<00:57,  1.42it/s]"
     ]
    },
    {
     "name": "stdout",
     "output_type": "stream",
     "text": [
      "-0.3071474474202551\n",
      "[WRITE] Saved result from IDS_region_06_10_points_seed_42.pkl to /home/libe2152/optimizedsampling/0_results/usavars/population/convenience_sampling_r2_scores.csv\n",
      "Fitting regression...\n",
      "NUM SAMPLES: 200\n",
      "Best alpha: 599.4842503189421\n"
     ]
    },
    {
     "name": "stderr",
     "output_type": "stream",
     "text": [
      "Processing samples:  22%|██▏       | 23/103 [02:14<01:29,  1.12s/it]"
     ]
    },
    {
     "name": "stdout",
     "output_type": "stream",
     "text": [
      "0.17744242058500215\n",
      "[WRITE] Saved result from IDS_region_06_200_points_seed_1.pkl to /home/libe2152/optimizedsampling/0_results/usavars/population/convenience_sampling_r2_scores.csv\n",
      "Fitting regression...\n",
      "NUM SAMPLES: 200\n",
      "Best alpha: 599.4842503189421\n"
     ]
    },
    {
     "name": "stderr",
     "output_type": "stream",
     "text": [
      "Processing samples:  23%|██▎       | 24/103 [02:16<01:46,  1.35s/it]"
     ]
    },
    {
     "name": "stdout",
     "output_type": "stream",
     "text": [
      "0.14983936449917956\n",
      "[WRITE] Saved result from IDS_region_06_200_points_seed_1213.pkl to /home/libe2152/optimizedsampling/0_results/usavars/population/convenience_sampling_r2_scores.csv\n",
      "Fitting regression...\n",
      "NUM SAMPLES: 200\n",
      "Best alpha: 46.41588833612782\n"
     ]
    },
    {
     "name": "stderr",
     "output_type": "stream",
     "text": [
      "Processing samples:  24%|██▍       | 25/103 [02:18<02:12,  1.70s/it]"
     ]
    },
    {
     "name": "stdout",
     "output_type": "stream",
     "text": [
      "-0.24163096290883956\n",
      "[WRITE] Saved result from IDS_region_06_200_points_seed_123.pkl to /home/libe2152/optimizedsampling/0_results/usavars/population/convenience_sampling_r2_scores.csv\n",
      "Fitting regression...\n",
      "NUM SAMPLES: 200\n",
      "Best alpha: 46.41588833612782\n"
     ]
    },
    {
     "name": "stderr",
     "output_type": "stream",
     "text": [
      "Processing samples:  25%|██▌       | 26/103 [02:20<02:21,  1.84s/it]"
     ]
    },
    {
     "name": "stdout",
     "output_type": "stream",
     "text": [
      "-0.3040427321725889\n",
      "[WRITE] Saved result from IDS_region_06_200_points_seed_1234.pkl to /home/libe2152/optimizedsampling/0_results/usavars/population/convenience_sampling_r2_scores.csv\n",
      "Fitting regression...\n",
      "NUM SAMPLES: 200\n",
      "Best alpha: 599.4842503189421\n"
     ]
    },
    {
     "name": "stderr",
     "output_type": "stream",
     "text": [
      "Processing samples:  26%|██▌       | 27/103 [02:24<02:56,  2.32s/it]"
     ]
    },
    {
     "name": "stdout",
     "output_type": "stream",
     "text": [
      "0.15321409554148113\n",
      "[WRITE] Saved result from IDS_region_06_200_points_seed_1415.pkl to /home/libe2152/optimizedsampling/0_results/usavars/population/convenience_sampling_r2_scores.csv\n",
      "Fitting regression...\n",
      "NUM SAMPLES: 200\n",
      "Best alpha: 599.4842503189421\n"
     ]
    },
    {
     "name": "stderr",
     "output_type": "stream",
     "text": [
      "Processing samples:  27%|██▋       | 28/103 [02:27<03:14,  2.59s/it]"
     ]
    },
    {
     "name": "stdout",
     "output_type": "stream",
     "text": [
      "-0.2553836328443375\n",
      "[WRITE] Saved result from IDS_region_06_200_points_seed_42.pkl to /home/libe2152/optimizedsampling/0_results/usavars/population/convenience_sampling_r2_scores.csv\n",
      "Fitting regression...\n",
      "NUM SAMPLES: 200\n",
      "Best alpha: 599.4842503189421\n"
     ]
    },
    {
     "name": "stderr",
     "output_type": "stream",
     "text": [
      "Processing samples:  28%|██▊       | 29/103 [02:30<03:14,  2.62s/it]"
     ]
    },
    {
     "name": "stdout",
     "output_type": "stream",
     "text": [
      "0.2801671413013693\n",
      "[WRITE] Saved result from IDS_region_06_200_points_seed_456.pkl to /home/libe2152/optimizedsampling/0_results/usavars/population/convenience_sampling_r2_scores.csv\n",
      "Fitting regression...\n",
      "NUM SAMPLES: 200\n",
      "Best alpha: 46.41588833612782\n"
     ]
    },
    {
     "name": "stderr",
     "output_type": "stream",
     "text": [
      "Processing samples:  29%|██▉       | 30/103 [02:32<02:57,  2.43s/it]"
     ]
    },
    {
     "name": "stdout",
     "output_type": "stream",
     "text": [
      "-5.059741880154489\n",
      "Warning: Severe overfitting. Add more samples.\n",
      "[WRITE] Saved result from IDS_region_06_200_points_seed_5678.pkl to /home/libe2152/optimizedsampling/0_results/usavars/population/convenience_sampling_r2_scores.csv\n",
      "Fitting regression...\n",
      "NUM SAMPLES: 200\n",
      "Best alpha: 46.41588833612782\n"
     ]
    },
    {
     "name": "stderr",
     "output_type": "stream",
     "text": [
      "Processing samples:  30%|███       | 31/103 [02:34<02:48,  2.34s/it]"
     ]
    },
    {
     "name": "stdout",
     "output_type": "stream",
     "text": [
      "-0.783767907902513\n",
      "[WRITE] Saved result from IDS_region_06_200_points_seed_789.pkl to /home/libe2152/optimizedsampling/0_results/usavars/population/convenience_sampling_r2_scores.csv\n",
      "Fitting regression...\n",
      "NUM SAMPLES: 200\n",
      "Best alpha: 599.4842503189421\n"
     ]
    },
    {
     "name": "stderr",
     "output_type": "stream",
     "text": [
      "Processing samples:  31%|███       | 32/103 [02:35<02:33,  2.16s/it]"
     ]
    },
    {
     "name": "stdout",
     "output_type": "stream",
     "text": [
      "-0.2699730326493617\n",
      "[WRITE] Saved result from IDS_region_06_200_points_seed_9101.pkl to /home/libe2152/optimizedsampling/0_results/usavars/population/convenience_sampling_r2_scores.csv\n",
      "Fitting regression...\n",
      "NUM SAMPLES: 300\n",
      "Best alpha: 46.41588833612782\n"
     ]
    },
    {
     "name": "stderr",
     "output_type": "stream",
     "text": [
      "Processing samples:  32%|███▏      | 33/103 [02:38<02:42,  2.32s/it]"
     ]
    },
    {
     "name": "stdout",
     "output_type": "stream",
     "text": [
      "-1.1479265702363621\n",
      "Warning: Severe overfitting. Add more samples.\n",
      "[WRITE] Saved result from IDS_region_06_300_points_seed_1.pkl to /home/libe2152/optimizedsampling/0_results/usavars/population/convenience_sampling_r2_scores.csv\n",
      "Fitting regression...\n",
      "NUM SAMPLES: 300\n",
      "Best alpha: 599.4842503189421\n"
     ]
    },
    {
     "name": "stderr",
     "output_type": "stream",
     "text": [
      "Processing samples:  33%|███▎      | 34/103 [02:40<02:37,  2.28s/it]"
     ]
    },
    {
     "name": "stdout",
     "output_type": "stream",
     "text": [
      "0.1293879044961651\n",
      "[WRITE] Saved result from IDS_region_06_300_points_seed_1213.pkl to /home/libe2152/optimizedsampling/0_results/usavars/population/convenience_sampling_r2_scores.csv\n",
      "Fitting regression...\n",
      "NUM SAMPLES: 300\n",
      "Best alpha: 46.41588833612782\n"
     ]
    },
    {
     "name": "stderr",
     "output_type": "stream",
     "text": [
      "Processing samples:  34%|███▍      | 35/103 [02:42<02:29,  2.20s/it]"
     ]
    },
    {
     "name": "stdout",
     "output_type": "stream",
     "text": [
      "-0.5981194872600206\n",
      "[WRITE] Saved result from IDS_region_06_300_points_seed_123.pkl to /home/libe2152/optimizedsampling/0_results/usavars/population/convenience_sampling_r2_scores.csv\n",
      "Fitting regression...\n",
      "NUM SAMPLES: 300\n",
      "Best alpha: 46.41588833612782\n"
     ]
    },
    {
     "name": "stderr",
     "output_type": "stream",
     "text": [
      "Processing samples:  35%|███▍      | 36/103 [02:45<02:35,  2.33s/it]"
     ]
    },
    {
     "name": "stdout",
     "output_type": "stream",
     "text": [
      "-1.7895536064724844\n",
      "Warning: Severe overfitting. Add more samples.\n",
      "[WRITE] Saved result from IDS_region_06_300_points_seed_1234.pkl to /home/libe2152/optimizedsampling/0_results/usavars/population/convenience_sampling_r2_scores.csv\n",
      "Fitting regression...\n",
      "NUM SAMPLES: 300\n",
      "Best alpha: 599.4842503189421\n"
     ]
    },
    {
     "name": "stderr",
     "output_type": "stream",
     "text": [
      "Processing samples:  36%|███▌      | 37/103 [02:47<02:36,  2.38s/it]"
     ]
    },
    {
     "name": "stdout",
     "output_type": "stream",
     "text": [
      "0.33210048345308474\n",
      "[WRITE] Saved result from IDS_region_06_300_points_seed_1415.pkl to /home/libe2152/optimizedsampling/0_results/usavars/population/convenience_sampling_r2_scores.csv\n",
      "Fitting regression...\n",
      "NUM SAMPLES: 300\n",
      "Best alpha: 46.41588833612782\n"
     ]
    },
    {
     "name": "stderr",
     "output_type": "stream",
     "text": [
      "Processing samples:  37%|███▋      | 38/103 [02:50<02:32,  2.34s/it]"
     ]
    },
    {
     "name": "stdout",
     "output_type": "stream",
     "text": [
      "0.32996457137183177\n",
      "[WRITE] Saved result from IDS_region_06_300_points_seed_42.pkl to /home/libe2152/optimizedsampling/0_results/usavars/population/convenience_sampling_r2_scores.csv\n",
      "Fitting regression...\n",
      "NUM SAMPLES: 300\n",
      "Best alpha: 599.4842503189421\n"
     ]
    },
    {
     "name": "stderr",
     "output_type": "stream",
     "text": [
      "Processing samples:  38%|███▊      | 39/103 [02:53<02:37,  2.47s/it]"
     ]
    },
    {
     "name": "stdout",
     "output_type": "stream",
     "text": [
      "0.270282373022834\n",
      "[WRITE] Saved result from IDS_region_06_300_points_seed_456.pkl to /home/libe2152/optimizedsampling/0_results/usavars/population/convenience_sampling_r2_scores.csv\n",
      "Fitting regression...\n",
      "NUM SAMPLES: 300\n",
      "Best alpha: 46.41588833612782\n"
     ]
    },
    {
     "name": "stderr",
     "output_type": "stream",
     "text": [
      "Processing samples:  39%|███▉      | 40/103 [02:55<02:33,  2.43s/it]"
     ]
    },
    {
     "name": "stdout",
     "output_type": "stream",
     "text": [
      "-2.397396786913584\n",
      "Warning: Severe overfitting. Add more samples.\n",
      "[WRITE] Saved result from IDS_region_06_300_points_seed_5678.pkl to /home/libe2152/optimizedsampling/0_results/usavars/population/convenience_sampling_r2_scores.csv\n",
      "Fitting regression...\n",
      "NUM SAMPLES: 300\n",
      "Best alpha: 46.41588833612782\n"
     ]
    },
    {
     "name": "stderr",
     "output_type": "stream",
     "text": [
      "Processing samples:  40%|███▉      | 41/103 [02:58<02:40,  2.59s/it]"
     ]
    },
    {
     "name": "stdout",
     "output_type": "stream",
     "text": [
      "0.08284732697238972\n",
      "[WRITE] Saved result from IDS_region_06_300_points_seed_789.pkl to /home/libe2152/optimizedsampling/0_results/usavars/population/convenience_sampling_r2_scores.csv\n",
      "Fitting regression...\n",
      "NUM SAMPLES: 300\n",
      "Best alpha: 599.4842503189421\n"
     ]
    },
    {
     "name": "stderr",
     "output_type": "stream",
     "text": [
      "Processing samples:  41%|████      | 42/103 [03:03<03:17,  3.24s/it]"
     ]
    },
    {
     "name": "stdout",
     "output_type": "stream",
     "text": [
      "0.2934135948576655\n",
      "[WRITE] Saved result from IDS_region_06_300_points_seed_9101.pkl to /home/libe2152/optimizedsampling/0_results/usavars/population/convenience_sampling_r2_scores.csv\n",
      "Fitting regression...\n",
      "NUM SAMPLES: 400\n",
      "Best alpha: 599.4842503189421\n"
     ]
    },
    {
     "name": "stderr",
     "output_type": "stream",
     "text": [
      "Processing samples:  42%|████▏     | 43/103 [03:09<04:11,  4.19s/it]"
     ]
    },
    {
     "name": "stdout",
     "output_type": "stream",
     "text": [
      "-0.05341693374191636\n",
      "[WRITE] Saved result from IDS_region_06_400_points_seed_1.pkl to /home/libe2152/optimizedsampling/0_results/usavars/population/convenience_sampling_r2_scores.csv\n",
      "Fitting regression...\n",
      "NUM SAMPLES: 400\n",
      "Best alpha: 599.4842503189421\n"
     ]
    },
    {
     "name": "stderr",
     "output_type": "stream",
     "text": [
      "Processing samples:  43%|████▎     | 44/103 [03:13<03:56,  4.01s/it]"
     ]
    },
    {
     "name": "stdout",
     "output_type": "stream",
     "text": [
      "0.29622918597543624\n",
      "[WRITE] Saved result from IDS_region_06_400_points_seed_1213.pkl to /home/libe2152/optimizedsampling/0_results/usavars/population/convenience_sampling_r2_scores.csv\n",
      "Fitting regression...\n",
      "NUM SAMPLES: 400\n",
      "Best alpha: 46.41588833612782\n"
     ]
    },
    {
     "name": "stderr",
     "output_type": "stream",
     "text": [
      "Processing samples:  44%|████▎     | 45/103 [03:15<03:32,  3.67s/it]"
     ]
    },
    {
     "name": "stdout",
     "output_type": "stream",
     "text": [
      "-0.8318668553762276\n",
      "[WRITE] Saved result from IDS_region_06_400_points_seed_123.pkl to /home/libe2152/optimizedsampling/0_results/usavars/population/convenience_sampling_r2_scores.csv\n",
      "Fitting regression...\n",
      "NUM SAMPLES: 400\n",
      "Best alpha: 46.41588833612782\n"
     ]
    },
    {
     "name": "stderr",
     "output_type": "stream",
     "text": [
      "Processing samples:  45%|████▍     | 46/103 [03:19<03:20,  3.53s/it]"
     ]
    },
    {
     "name": "stdout",
     "output_type": "stream",
     "text": [
      "-0.8066643291092497\n",
      "[WRITE] Saved result from IDS_region_06_400_points_seed_1234.pkl to /home/libe2152/optimizedsampling/0_results/usavars/population/convenience_sampling_r2_scores.csv\n",
      "Fitting regression...\n",
      "NUM SAMPLES: 400\n",
      "Best alpha: 46.41588833612782\n"
     ]
    },
    {
     "name": "stderr",
     "output_type": "stream",
     "text": [
      "Processing samples:  46%|████▌     | 47/103 [03:21<02:59,  3.21s/it]"
     ]
    },
    {
     "name": "stdout",
     "output_type": "stream",
     "text": [
      "-0.4782174927245104\n",
      "[WRITE] Saved result from IDS_region_06_400_points_seed_1415.pkl to /home/libe2152/optimizedsampling/0_results/usavars/population/convenience_sampling_r2_scores.csv\n",
      "Fitting regression...\n",
      "NUM SAMPLES: 400\n",
      "Best alpha: 599.4842503189421\n"
     ]
    },
    {
     "name": "stderr",
     "output_type": "stream",
     "text": [
      "Processing samples:  47%|████▋     | 48/103 [03:25<03:11,  3.48s/it]"
     ]
    },
    {
     "name": "stdout",
     "output_type": "stream",
     "text": [
      "0.2666354824470041\n",
      "[WRITE] Saved result from IDS_region_06_400_points_seed_42.pkl to /home/libe2152/optimizedsampling/0_results/usavars/population/convenience_sampling_r2_scores.csv\n",
      "Fitting regression...\n",
      "NUM SAMPLES: 400\n",
      "Best alpha: 599.4842503189421\n"
     ]
    },
    {
     "name": "stderr",
     "output_type": "stream",
     "text": [
      "Processing samples:  48%|████▊     | 49/103 [03:28<03:01,  3.37s/it]"
     ]
    },
    {
     "name": "stdout",
     "output_type": "stream",
     "text": [
      "0.2819654904863971\n",
      "[WRITE] Saved result from IDS_region_06_400_points_seed_456.pkl to /home/libe2152/optimizedsampling/0_results/usavars/population/convenience_sampling_r2_scores.csv\n",
      "Fitting regression...\n",
      "NUM SAMPLES: 400\n",
      "Best alpha: 46.41588833612782\n"
     ]
    },
    {
     "name": "stderr",
     "output_type": "stream",
     "text": [
      "Processing samples:  49%|████▊     | 50/103 [03:32<02:56,  3.34s/it]"
     ]
    },
    {
     "name": "stdout",
     "output_type": "stream",
     "text": [
      "-1.5654774582776283\n",
      "Warning: Severe overfitting. Add more samples.\n",
      "[WRITE] Saved result from IDS_region_06_400_points_seed_5678.pkl to /home/libe2152/optimizedsampling/0_results/usavars/population/convenience_sampling_r2_scores.csv\n",
      "Fitting regression...\n",
      "NUM SAMPLES: 400\n",
      "Best alpha: 46.41588833612782\n"
     ]
    },
    {
     "name": "stderr",
     "output_type": "stream",
     "text": [
      "Processing samples:  50%|████▉     | 51/103 [03:35<02:56,  3.39s/it]"
     ]
    },
    {
     "name": "stdout",
     "output_type": "stream",
     "text": [
      "0.1700146177614389\n",
      "[WRITE] Saved result from IDS_region_06_400_points_seed_789.pkl to /home/libe2152/optimizedsampling/0_results/usavars/population/convenience_sampling_r2_scores.csv\n",
      "Fitting regression...\n",
      "NUM SAMPLES: 400\n",
      "Best alpha: 599.4842503189421\n"
     ]
    },
    {
     "name": "stderr",
     "output_type": "stream",
     "text": [
      "Processing samples:  50%|█████     | 52/103 [03:43<03:56,  4.63s/it]"
     ]
    },
    {
     "name": "stdout",
     "output_type": "stream",
     "text": [
      "0.2966509692774334\n",
      "[WRITE] Saved result from IDS_region_06_400_points_seed_9101.pkl to /home/libe2152/optimizedsampling/0_results/usavars/population/convenience_sampling_r2_scores.csv\n",
      "Fitting regression...\n",
      "NUM SAMPLES: 500\n",
      "Best alpha: 599.4842503189421\n"
     ]
    },
    {
     "name": "stderr",
     "output_type": "stream",
     "text": [
      "Processing samples:  51%|█████▏    | 53/103 [03:48<03:57,  4.75s/it]"
     ]
    },
    {
     "name": "stdout",
     "output_type": "stream",
     "text": [
      "-0.004276938613450243\n",
      "[WRITE] Saved result from IDS_region_06_500_points_seed_1.pkl to /home/libe2152/optimizedsampling/0_results/usavars/population/convenience_sampling_r2_scores.csv\n",
      "Fitting regression...\n",
      "NUM SAMPLES: 500\n",
      "Best alpha: 46.41588833612782\n"
     ]
    },
    {
     "name": "stderr",
     "output_type": "stream",
     "text": [
      "Processing samples:  52%|█████▏    | 54/103 [03:52<03:45,  4.60s/it]"
     ]
    },
    {
     "name": "stdout",
     "output_type": "stream",
     "text": [
      "-0.1973581125268038\n",
      "[WRITE] Saved result from IDS_region_06_500_points_seed_1213.pkl to /home/libe2152/optimizedsampling/0_results/usavars/population/convenience_sampling_r2_scores.csv\n",
      "Fitting regression...\n",
      "NUM SAMPLES: 500\n",
      "Best alpha: 46.41588833612782\n"
     ]
    },
    {
     "name": "stderr",
     "output_type": "stream",
     "text": [
      "Processing samples:  53%|█████▎    | 55/103 [03:56<03:29,  4.36s/it]"
     ]
    },
    {
     "name": "stdout",
     "output_type": "stream",
     "text": [
      "-0.969541223420965\n",
      "[WRITE] Saved result from IDS_region_06_500_points_seed_123.pkl to /home/libe2152/optimizedsampling/0_results/usavars/population/convenience_sampling_r2_scores.csv\n",
      "Fitting regression...\n",
      "NUM SAMPLES: 500\n",
      "Best alpha: 46.41588833612782\n"
     ]
    },
    {
     "name": "stderr",
     "output_type": "stream",
     "text": [
      "Processing samples:  54%|█████▍    | 56/103 [03:59<03:15,  4.16s/it]"
     ]
    },
    {
     "name": "stdout",
     "output_type": "stream",
     "text": [
      "-1.3100208809529246\n",
      "Warning: Severe overfitting. Add more samples.\n",
      "[WRITE] Saved result from IDS_region_06_500_points_seed_1234.pkl to /home/libe2152/optimizedsampling/0_results/usavars/population/convenience_sampling_r2_scores.csv\n",
      "Fitting regression...\n",
      "NUM SAMPLES: 500\n",
      "Best alpha: 46.41588833612782\n"
     ]
    },
    {
     "name": "stderr",
     "output_type": "stream",
     "text": [
      "Processing samples:  55%|█████▌    | 57/103 [04:04<03:13,  4.22s/it]"
     ]
    },
    {
     "name": "stdout",
     "output_type": "stream",
     "text": [
      "-1.141136909610288\n",
      "Warning: Severe overfitting. Add more samples.\n",
      "[WRITE] Saved result from IDS_region_06_500_points_seed_1415.pkl to /home/libe2152/optimizedsampling/0_results/usavars/population/convenience_sampling_r2_scores.csv\n",
      "Fitting regression...\n",
      "NUM SAMPLES: 500\n",
      "Best alpha: 46.41588833612782\n"
     ]
    },
    {
     "name": "stderr",
     "output_type": "stream",
     "text": [
      "Processing samples:  56%|█████▋    | 58/103 [04:08<03:14,  4.31s/it]"
     ]
    },
    {
     "name": "stdout",
     "output_type": "stream",
     "text": [
      "0.09093436112184272\n",
      "[WRITE] Saved result from IDS_region_06_500_points_seed_42.pkl to /home/libe2152/optimizedsampling/0_results/usavars/population/convenience_sampling_r2_scores.csv\n",
      "Fitting regression...\n",
      "NUM SAMPLES: 500\n",
      "Best alpha: 46.41588833612782\n"
     ]
    },
    {
     "name": "stderr",
     "output_type": "stream",
     "text": [
      "Processing samples:  57%|█████▋    | 59/103 [04:12<03:02,  4.15s/it]"
     ]
    },
    {
     "name": "stdout",
     "output_type": "stream",
     "text": [
      "-0.03029597543684459\n",
      "[WRITE] Saved result from IDS_region_06_500_points_seed_456.pkl to /home/libe2152/optimizedsampling/0_results/usavars/population/convenience_sampling_r2_scores.csv\n",
      "Fitting regression...\n",
      "NUM SAMPLES: 500\n",
      "Best alpha: 46.41588833612782\n"
     ]
    },
    {
     "name": "stderr",
     "output_type": "stream",
     "text": [
      "Processing samples:  58%|█████▊    | 60/103 [04:16<02:56,  4.12s/it]"
     ]
    },
    {
     "name": "stdout",
     "output_type": "stream",
     "text": [
      "-0.10209299621195855\n",
      "[WRITE] Saved result from IDS_region_06_500_points_seed_5678.pkl to /home/libe2152/optimizedsampling/0_results/usavars/population/convenience_sampling_r2_scores.csv\n",
      "Fitting regression...\n",
      "NUM SAMPLES: 500\n",
      "Best alpha: 599.4842503189421\n"
     ]
    },
    {
     "name": "stderr",
     "output_type": "stream",
     "text": [
      "Processing samples:  59%|█████▉    | 61/103 [04:23<03:33,  5.09s/it]"
     ]
    },
    {
     "name": "stdout",
     "output_type": "stream",
     "text": [
      "0.12036354545072825\n",
      "[WRITE] Saved result from IDS_region_06_500_points_seed_789.pkl to /home/libe2152/optimizedsampling/0_results/usavars/population/convenience_sampling_r2_scores.csv\n",
      "Fitting regression...\n",
      "NUM SAMPLES: 500\n",
      "Best alpha: 599.4842503189421\n"
     ]
    },
    {
     "name": "stderr",
     "output_type": "stream",
     "text": [
      "Processing samples:  60%|██████    | 62/103 [04:30<03:41,  5.40s/it]"
     ]
    },
    {
     "name": "stdout",
     "output_type": "stream",
     "text": [
      "0.19908377586472636\n",
      "[WRITE] Saved result from IDS_region_06_500_points_seed_9101.pkl to /home/libe2152/optimizedsampling/0_results/usavars/population/convenience_sampling_r2_scores.csv\n",
      "Fitting regression...\n",
      "NUM SAMPLES: 600\n",
      "Best alpha: 599.4842503189421\n"
     ]
    },
    {
     "name": "stderr",
     "output_type": "stream",
     "text": [
      "Processing samples:  61%|██████    | 63/103 [04:37<03:55,  5.90s/it]"
     ]
    },
    {
     "name": "stdout",
     "output_type": "stream",
     "text": [
      "0.15550413631764237\n",
      "[WRITE] Saved result from IDS_region_06_600_points_seed_1.pkl to /home/libe2152/optimizedsampling/0_results/usavars/population/convenience_sampling_r2_scores.csv\n",
      "Fitting regression...\n",
      "NUM SAMPLES: 600\n",
      "Best alpha: 46.41588833612782\n"
     ]
    },
    {
     "name": "stderr",
     "output_type": "stream",
     "text": [
      "Processing samples:  62%|██████▏   | 64/103 [04:43<03:50,  5.91s/it]"
     ]
    },
    {
     "name": "stdout",
     "output_type": "stream",
     "text": [
      "0.1521280881182333\n",
      "[WRITE] Saved result from IDS_region_06_600_points_seed_1213.pkl to /home/libe2152/optimizedsampling/0_results/usavars/population/convenience_sampling_r2_scores.csv\n",
      "Fitting regression...\n",
      "NUM SAMPLES: 600\n",
      "Best alpha: 46.41588833612782\n"
     ]
    },
    {
     "name": "stderr",
     "output_type": "stream",
     "text": [
      "Processing samples:  63%|██████▎   | 65/103 [04:50<03:57,  6.26s/it]"
     ]
    },
    {
     "name": "stdout",
     "output_type": "stream",
     "text": [
      "-0.5668153157260429\n",
      "[WRITE] Saved result from IDS_region_06_600_points_seed_123.pkl to /home/libe2152/optimizedsampling/0_results/usavars/population/convenience_sampling_r2_scores.csv\n",
      "Fitting regression...\n",
      "NUM SAMPLES: 600\n",
      "Best alpha: 46.41588833612782\n"
     ]
    },
    {
     "name": "stderr",
     "output_type": "stream",
     "text": [
      "Processing samples:  64%|██████▍   | 66/103 [04:55<03:43,  6.04s/it]"
     ]
    },
    {
     "name": "stdout",
     "output_type": "stream",
     "text": [
      "-0.8147281261159764\n",
      "[WRITE] Saved result from IDS_region_06_600_points_seed_1234.pkl to /home/libe2152/optimizedsampling/0_results/usavars/population/convenience_sampling_r2_scores.csv\n",
      "Fitting regression...\n",
      "NUM SAMPLES: 600\n",
      "Best alpha: 46.41588833612782\n"
     ]
    },
    {
     "name": "stderr",
     "output_type": "stream",
     "text": [
      "Processing samples:  65%|██████▌   | 67/103 [05:05<04:21,  7.26s/it]"
     ]
    },
    {
     "name": "stdout",
     "output_type": "stream",
     "text": [
      "-1.2253511868553253\n",
      "Warning: Severe overfitting. Add more samples.\n",
      "[WRITE] Saved result from IDS_region_06_600_points_seed_1415.pkl to /home/libe2152/optimizedsampling/0_results/usavars/population/convenience_sampling_r2_scores.csv\n",
      "Fitting regression...\n",
      "NUM SAMPLES: 600\n",
      "Best alpha: 46.41588833612782\n"
     ]
    },
    {
     "name": "stderr",
     "output_type": "stream",
     "text": [
      "Processing samples:  66%|██████▌   | 68/103 [05:11<03:58,  6.80s/it]"
     ]
    },
    {
     "name": "stdout",
     "output_type": "stream",
     "text": [
      "-0.3279805841480643\n",
      "[WRITE] Saved result from IDS_region_06_600_points_seed_42.pkl to /home/libe2152/optimizedsampling/0_results/usavars/population/convenience_sampling_r2_scores.csv\n",
      "Fitting regression...\n",
      "NUM SAMPLES: 600\n",
      "Best alpha: 599.4842503189421\n"
     ]
    },
    {
     "name": "stderr",
     "output_type": "stream",
     "text": [
      "Processing samples:  67%|██████▋   | 69/103 [05:18<03:52,  6.84s/it]"
     ]
    },
    {
     "name": "stdout",
     "output_type": "stream",
     "text": [
      "0.33432587621476073\n",
      "[WRITE] Saved result from IDS_region_06_600_points_seed_456.pkl to /home/libe2152/optimizedsampling/0_results/usavars/population/convenience_sampling_r2_scores.csv\n",
      "Fitting regression...\n",
      "NUM SAMPLES: 600\n",
      "Best alpha: 46.41588833612782\n"
     ]
    },
    {
     "name": "stderr",
     "output_type": "stream",
     "text": [
      "Processing samples:  68%|██████▊   | 70/103 [05:24<03:33,  6.47s/it]"
     ]
    },
    {
     "name": "stdout",
     "output_type": "stream",
     "text": [
      "-0.35468458378430245\n",
      "[WRITE] Saved result from IDS_region_06_600_points_seed_5678.pkl to /home/libe2152/optimizedsampling/0_results/usavars/population/convenience_sampling_r2_scores.csv\n",
      "Fitting regression...\n",
      "NUM SAMPLES: 600\n",
      "Best alpha: 3.593813663804626\n"
     ]
    },
    {
     "name": "stderr",
     "output_type": "stream",
     "text": [
      "Processing samples:  69%|██████▉   | 71/103 [05:30<03:23,  6.37s/it]"
     ]
    },
    {
     "name": "stdout",
     "output_type": "stream",
     "text": [
      "0.018505290375842587\n",
      "[WRITE] Saved result from IDS_region_06_600_points_seed_789.pkl to /home/libe2152/optimizedsampling/0_results/usavars/population/convenience_sampling_r2_scores.csv\n",
      "Fitting regression...\n",
      "NUM SAMPLES: 600\n",
      "Best alpha: 599.4842503189421\n"
     ]
    },
    {
     "name": "stderr",
     "output_type": "stream",
     "text": [
      "Processing samples:  70%|██████▉   | 72/103 [05:34<03:00,  5.82s/it]"
     ]
    },
    {
     "name": "stdout",
     "output_type": "stream",
     "text": [
      "0.24975630107876035\n",
      "[WRITE] Saved result from IDS_region_06_600_points_seed_9101.pkl to /home/libe2152/optimizedsampling/0_results/usavars/population/convenience_sampling_r2_scores.csv\n",
      "Fitting regression...\n",
      "NUM SAMPLES: 700\n",
      "Best alpha: 46.41588833612782\n"
     ]
    },
    {
     "name": "stderr",
     "output_type": "stream",
     "text": [
      "Processing samples:  71%|███████   | 73/103 [05:42<03:14,  6.49s/it]"
     ]
    },
    {
     "name": "stdout",
     "output_type": "stream",
     "text": [
      "-0.7414490406431318\n",
      "[WRITE] Saved result from IDS_region_06_700_points_seed_1.pkl to /home/libe2152/optimizedsampling/0_results/usavars/population/convenience_sampling_r2_scores.csv\n",
      "Fitting regression...\n",
      "NUM SAMPLES: 700\n",
      "Best alpha: 46.41588833612782\n"
     ]
    },
    {
     "name": "stderr",
     "output_type": "stream",
     "text": [
      "Processing samples:  72%|███████▏  | 74/103 [05:52<03:34,  7.38s/it]"
     ]
    },
    {
     "name": "stdout",
     "output_type": "stream",
     "text": [
      "0.042868739231019415\n",
      "[WRITE] Saved result from IDS_region_06_700_points_seed_1213.pkl to /home/libe2152/optimizedsampling/0_results/usavars/population/convenience_sampling_r2_scores.csv\n",
      "Fitting regression...\n",
      "NUM SAMPLES: 700\n",
      "Best alpha: 46.41588833612782\n"
     ]
    },
    {
     "name": "stderr",
     "output_type": "stream",
     "text": [
      "Processing samples:  73%|███████▎  | 75/103 [05:58<03:21,  7.19s/it]"
     ]
    },
    {
     "name": "stdout",
     "output_type": "stream",
     "text": [
      "-1.789500581466862\n",
      "Warning: Severe overfitting. Add more samples.\n",
      "[WRITE] Saved result from IDS_region_06_700_points_seed_123.pkl to /home/libe2152/optimizedsampling/0_results/usavars/population/convenience_sampling_r2_scores.csv\n",
      "Fitting regression...\n",
      "NUM SAMPLES: 700\n",
      "Best alpha: 46.41588833612782\n"
     ]
    },
    {
     "name": "stderr",
     "output_type": "stream",
     "text": [
      "Processing samples:  74%|███████▍  | 76/103 [06:04<03:03,  6.78s/it]"
     ]
    },
    {
     "name": "stdout",
     "output_type": "stream",
     "text": [
      "-0.45217512201319066\n",
      "[WRITE] Saved result from IDS_region_06_700_points_seed_1234.pkl to /home/libe2152/optimizedsampling/0_results/usavars/population/convenience_sampling_r2_scores.csv\n",
      "Fitting regression...\n",
      "NUM SAMPLES: 700\n",
      "Best alpha: 3.593813663804626\n"
     ]
    },
    {
     "name": "stderr",
     "output_type": "stream",
     "text": [
      "Processing samples:  75%|███████▍  | 77/103 [06:11<02:57,  6.82s/it]"
     ]
    },
    {
     "name": "stdout",
     "output_type": "stream",
     "text": [
      "-2.9913678298026007\n",
      "Warning: Severe overfitting. Add more samples.\n",
      "[WRITE] Saved result from IDS_region_06_700_points_seed_1415.pkl to /home/libe2152/optimizedsampling/0_results/usavars/population/convenience_sampling_r2_scores.csv\n",
      "Fitting regression...\n",
      "NUM SAMPLES: 700\n",
      "Best alpha: 599.4842503189421\n"
     ]
    },
    {
     "name": "stderr",
     "output_type": "stream",
     "text": [
      "Processing samples:  76%|███████▌  | 78/103 [06:19<02:56,  7.07s/it]"
     ]
    },
    {
     "name": "stdout",
     "output_type": "stream",
     "text": [
      "0.3565470116977971\n",
      "[WRITE] Saved result from IDS_region_06_700_points_seed_42.pkl to /home/libe2152/optimizedsampling/0_results/usavars/population/convenience_sampling_r2_scores.csv\n",
      "Fitting regression...\n",
      "NUM SAMPLES: 700\n",
      "Best alpha: 599.4842503189421\n"
     ]
    },
    {
     "name": "stderr",
     "output_type": "stream",
     "text": [
      "Processing samples:  77%|███████▋  | 79/103 [06:28<03:02,  7.60s/it]"
     ]
    },
    {
     "name": "stdout",
     "output_type": "stream",
     "text": [
      "0.3343356931550937\n",
      "[WRITE] Saved result from IDS_region_06_700_points_seed_456.pkl to /home/libe2152/optimizedsampling/0_results/usavars/population/convenience_sampling_r2_scores.csv\n",
      "Fitting regression...\n",
      "NUM SAMPLES: 700\n",
      "Best alpha: 46.41588833612782\n"
     ]
    },
    {
     "name": "stderr",
     "output_type": "stream",
     "text": [
      "Processing samples:  78%|███████▊  | 80/103 [06:34<02:46,  7.26s/it]"
     ]
    },
    {
     "name": "stdout",
     "output_type": "stream",
     "text": [
      "-0.3751556789753354\n",
      "[WRITE] Saved result from IDS_region_06_700_points_seed_5678.pkl to /home/libe2152/optimizedsampling/0_results/usavars/population/convenience_sampling_r2_scores.csv\n",
      "Fitting regression...\n",
      "NUM SAMPLES: 700\n",
      "Best alpha: 46.41588833612782\n"
     ]
    },
    {
     "name": "stderr",
     "output_type": "stream",
     "text": [
      "Processing samples:  79%|███████▊  | 81/103 [06:41<02:34,  7.00s/it]"
     ]
    },
    {
     "name": "stdout",
     "output_type": "stream",
     "text": [
      "0.21023730183343847\n",
      "[WRITE] Saved result from IDS_region_06_700_points_seed_789.pkl to /home/libe2152/optimizedsampling/0_results/usavars/population/convenience_sampling_r2_scores.csv\n",
      "Fitting regression...\n",
      "NUM SAMPLES: 700\n",
      "Best alpha: 599.4842503189421\n"
     ]
    },
    {
     "name": "stderr",
     "output_type": "stream",
     "text": [
      "Processing samples:  80%|███████▉  | 82/103 [06:46<02:19,  6.64s/it]"
     ]
    },
    {
     "name": "stdout",
     "output_type": "stream",
     "text": [
      "0.2798832547802147\n",
      "[WRITE] Saved result from IDS_region_06_700_points_seed_9101.pkl to /home/libe2152/optimizedsampling/0_results/usavars/population/convenience_sampling_r2_scores.csv\n",
      "Fitting regression...\n",
      "NUM SAMPLES: 800\n",
      "Best alpha: 46.41588833612782\n"
     ]
    },
    {
     "name": "stderr",
     "output_type": "stream",
     "text": [
      "Processing samples:  81%|████████  | 83/103 [06:55<02:24,  7.24s/it]"
     ]
    },
    {
     "name": "stdout",
     "output_type": "stream",
     "text": [
      "-0.7589615051576797\n",
      "[WRITE] Saved result from IDS_region_06_800_points_seed_1.pkl to /home/libe2152/optimizedsampling/0_results/usavars/population/convenience_sampling_r2_scores.csv\n",
      "Fitting regression...\n",
      "NUM SAMPLES: 800\n",
      "Best alpha: 46.41588833612782\n"
     ]
    },
    {
     "name": "stderr",
     "output_type": "stream",
     "text": [
      "Processing samples:  82%|████████▏ | 84/103 [07:11<03:08,  9.90s/it]"
     ]
    },
    {
     "name": "stdout",
     "output_type": "stream",
     "text": [
      "-0.15560245500175585\n",
      "[WRITE] Saved result from IDS_region_06_800_points_seed_1213.pkl to /home/libe2152/optimizedsampling/0_results/usavars/population/convenience_sampling_r2_scores.csv\n",
      "Fitting regression...\n",
      "NUM SAMPLES: 800\n",
      "Best alpha: 46.41588833612782\n"
     ]
    },
    {
     "name": "stderr",
     "output_type": "stream",
     "text": [
      "Processing samples:  83%|████████▎ | 85/103 [07:20<02:50,  9.46s/it]"
     ]
    },
    {
     "name": "stdout",
     "output_type": "stream",
     "text": [
      "-1.7622442597944477\n",
      "Warning: Severe overfitting. Add more samples.\n",
      "[WRITE] Saved result from IDS_region_06_800_points_seed_123.pkl to /home/libe2152/optimizedsampling/0_results/usavars/population/convenience_sampling_r2_scores.csv\n",
      "Fitting regression...\n",
      "NUM SAMPLES: 800\n",
      "Best alpha: 46.41588833612782\n"
     ]
    },
    {
     "name": "stderr",
     "output_type": "stream",
     "text": [
      "Processing samples:  83%|████████▎ | 86/103 [07:27<02:32,  8.97s/it]"
     ]
    },
    {
     "name": "stdout",
     "output_type": "stream",
     "text": [
      "-0.6221474385840986\n",
      "[WRITE] Saved result from IDS_region_06_800_points_seed_1234.pkl to /home/libe2152/optimizedsampling/0_results/usavars/population/convenience_sampling_r2_scores.csv\n",
      "Fitting regression...\n",
      "NUM SAMPLES: 800\n",
      "Best alpha: 46.41588833612782\n"
     ]
    },
    {
     "name": "stderr",
     "output_type": "stream",
     "text": [
      "Processing samples:  84%|████████▍ | 87/103 [07:36<02:21,  8.83s/it]"
     ]
    },
    {
     "name": "stdout",
     "output_type": "stream",
     "text": [
      "-0.6540300146529539\n",
      "[WRITE] Saved result from IDS_region_06_800_points_seed_1415.pkl to /home/libe2152/optimizedsampling/0_results/usavars/population/convenience_sampling_r2_scores.csv\n",
      "Fitting regression...\n",
      "NUM SAMPLES: 800\n",
      "Best alpha: 46.41588833612782\n"
     ]
    },
    {
     "name": "stderr",
     "output_type": "stream",
     "text": [
      "Processing samples:  85%|████████▌ | 88/103 [07:49<02:31, 10.11s/it]"
     ]
    },
    {
     "name": "stdout",
     "output_type": "stream",
     "text": [
      "-0.1903524659799518\n",
      "[WRITE] Saved result from IDS_region_06_800_points_seed_42.pkl to /home/libe2152/optimizedsampling/0_results/usavars/population/convenience_sampling_r2_scores.csv\n",
      "Fitting regression...\n",
      "NUM SAMPLES: 800\n",
      "Best alpha: 599.4842503189421\n"
     ]
    },
    {
     "name": "stderr",
     "output_type": "stream",
     "text": [
      "Processing samples:  86%|████████▋ | 89/103 [07:56<02:09,  9.28s/it]"
     ]
    },
    {
     "name": "stdout",
     "output_type": "stream",
     "text": [
      "0.3356147702382889\n",
      "[WRITE] Saved result from IDS_region_06_800_points_seed_456.pkl to /home/libe2152/optimizedsampling/0_results/usavars/population/convenience_sampling_r2_scores.csv\n",
      "Fitting regression...\n",
      "NUM SAMPLES: 800\n",
      "Best alpha: 3.593813663804626\n"
     ]
    },
    {
     "name": "stderr",
     "output_type": "stream",
     "text": [
      "Processing samples:  87%|████████▋ | 90/103 [08:04<01:56,  8.94s/it]"
     ]
    },
    {
     "name": "stdout",
     "output_type": "stream",
     "text": [
      "-0.7376728282800309\n",
      "[WRITE] Saved result from IDS_region_06_800_points_seed_5678.pkl to /home/libe2152/optimizedsampling/0_results/usavars/population/convenience_sampling_r2_scores.csv\n",
      "Fitting regression...\n",
      "NUM SAMPLES: 800\n",
      "Best alpha: 46.41588833612782\n"
     ]
    },
    {
     "name": "stderr",
     "output_type": "stream",
     "text": [
      "Processing samples:  88%|████████▊ | 91/103 [08:13<01:45,  8.76s/it]"
     ]
    },
    {
     "name": "stdout",
     "output_type": "stream",
     "text": [
      "0.12416646002302312\n",
      "[WRITE] Saved result from IDS_region_06_800_points_seed_789.pkl to /home/libe2152/optimizedsampling/0_results/usavars/population/convenience_sampling_r2_scores.csv\n",
      "Fitting regression...\n",
      "NUM SAMPLES: 800\n",
      "Best alpha: 46.41588833612782\n"
     ]
    },
    {
     "name": "stderr",
     "output_type": "stream",
     "text": [
      "Processing samples:  89%|████████▉ | 92/103 [08:21<01:32,  8.45s/it]"
     ]
    },
    {
     "name": "stdout",
     "output_type": "stream",
     "text": [
      "0.12336352331682843\n",
      "[WRITE] Saved result from IDS_region_06_800_points_seed_9101.pkl to /home/libe2152/optimizedsampling/0_results/usavars/population/convenience_sampling_r2_scores.csv\n",
      "Fitting regression...\n",
      "NUM SAMPLES: 900\n",
      "Best alpha: 46.41588833612782\n"
     ]
    },
    {
     "name": "stderr",
     "output_type": "stream",
     "text": [
      "Processing samples:  90%|█████████ | 93/103 [08:30<01:26,  8.66s/it]"
     ]
    },
    {
     "name": "stdout",
     "output_type": "stream",
     "text": [
      "-0.38424714273563665\n",
      "[WRITE] Saved result from IDS_region_06_900_points_seed_1.pkl to /home/libe2152/optimizedsampling/0_results/usavars/population/convenience_sampling_r2_scores.csv\n",
      "Fitting regression...\n",
      "NUM SAMPLES: 900\n",
      "Best alpha: 46.41588833612782\n"
     ]
    },
    {
     "name": "stderr",
     "output_type": "stream",
     "text": [
      "Processing samples:  91%|█████████▏| 94/103 [09:02<02:22, 15.81s/it]"
     ]
    },
    {
     "name": "stdout",
     "output_type": "stream",
     "text": [
      "-0.2714323553212603\n",
      "[WRITE] Saved result from IDS_region_06_900_points_seed_1213.pkl to /home/libe2152/optimizedsampling/0_results/usavars/population/convenience_sampling_r2_scores.csv\n",
      "Fitting regression...\n",
      "NUM SAMPLES: 900\n",
      "Best alpha: 46.41588833612782\n"
     ]
    },
    {
     "name": "stderr",
     "output_type": "stream",
     "text": [
      "Processing samples:  92%|█████████▏| 95/103 [09:14<01:56, 14.51s/it]"
     ]
    },
    {
     "name": "stdout",
     "output_type": "stream",
     "text": [
      "-1.5610964452282254\n",
      "Warning: Severe overfitting. Add more samples.\n",
      "[WRITE] Saved result from IDS_region_06_900_points_seed_123.pkl to /home/libe2152/optimizedsampling/0_results/usavars/population/convenience_sampling_r2_scores.csv\n",
      "Fitting regression...\n",
      "NUM SAMPLES: 900\n",
      "Best alpha: 46.41588833612782\n"
     ]
    },
    {
     "name": "stderr",
     "output_type": "stream",
     "text": [
      "Processing samples:  93%|█████████▎| 96/103 [09:23<01:29, 12.82s/it]"
     ]
    },
    {
     "name": "stdout",
     "output_type": "stream",
     "text": [
      "-0.32999039421184717\n",
      "[WRITE] Saved result from IDS_region_06_900_points_seed_1234.pkl to /home/libe2152/optimizedsampling/0_results/usavars/population/convenience_sampling_r2_scores.csv\n",
      "Fitting regression...\n",
      "NUM SAMPLES: 900\n",
      "Best alpha: 3.593813663804626\n"
     ]
    },
    {
     "name": "stderr",
     "output_type": "stream",
     "text": [
      "Processing samples:  94%|█████████▍| 97/103 [09:31<01:08, 11.50s/it]"
     ]
    },
    {
     "name": "stdout",
     "output_type": "stream",
     "text": [
      "-1.3060993528215326\n",
      "Warning: Severe overfitting. Add more samples.\n",
      "[WRITE] Saved result from IDS_region_06_900_points_seed_1415.pkl to /home/libe2152/optimizedsampling/0_results/usavars/population/convenience_sampling_r2_scores.csv\n",
      "Fitting regression...\n",
      "NUM SAMPLES: 900\n",
      "Best alpha: 46.41588833612782\n"
     ]
    },
    {
     "name": "stderr",
     "output_type": "stream",
     "text": [
      "Processing samples:  95%|█████████▌| 98/103 [09:45<01:01, 12.28s/it]"
     ]
    },
    {
     "name": "stdout",
     "output_type": "stream",
     "text": [
      "-0.11192418310729901\n",
      "[WRITE] Saved result from IDS_region_06_900_points_seed_42.pkl to /home/libe2152/optimizedsampling/0_results/usavars/population/convenience_sampling_r2_scores.csv\n",
      "Fitting regression...\n",
      "NUM SAMPLES: 900\n",
      "Best alpha: 46.41588833612782\n"
     ]
    },
    {
     "name": "stderr",
     "output_type": "stream",
     "text": [
      "Processing samples:  96%|█████████▌| 99/103 [09:54<00:44, 11.24s/it]"
     ]
    },
    {
     "name": "stdout",
     "output_type": "stream",
     "text": [
      "-0.7541644935933645\n",
      "[WRITE] Saved result from IDS_region_06_900_points_seed_456.pkl to /home/libe2152/optimizedsampling/0_results/usavars/population/convenience_sampling_r2_scores.csv\n",
      "Fitting regression...\n",
      "NUM SAMPLES: 900\n",
      "Best alpha: 46.41588833612782\n"
     ]
    },
    {
     "name": "stderr",
     "output_type": "stream",
     "text": [
      "Processing samples:  97%|█████████▋| 100/103 [10:03<00:31, 10.56s/it]"
     ]
    },
    {
     "name": "stdout",
     "output_type": "stream",
     "text": [
      "-0.11163175881609577\n",
      "[WRITE] Saved result from IDS_region_06_900_points_seed_5678.pkl to /home/libe2152/optimizedsampling/0_results/usavars/population/convenience_sampling_r2_scores.csv\n",
      "Fitting regression...\n",
      "NUM SAMPLES: 900\n",
      "Best alpha: 46.41588833612782\n"
     ]
    },
    {
     "name": "stderr",
     "output_type": "stream",
     "text": [
      "Processing samples:  98%|█████████▊| 101/103 [10:11<00:19,  9.88s/it]"
     ]
    },
    {
     "name": "stdout",
     "output_type": "stream",
     "text": [
      "-0.31241920704019566\n",
      "[WRITE] Saved result from IDS_region_06_900_points_seed_789.pkl to /home/libe2152/optimizedsampling/0_results/usavars/population/convenience_sampling_r2_scores.csv\n",
      "Fitting regression...\n",
      "NUM SAMPLES: 900\n",
      "Best alpha: 46.41588833612782\n"
     ]
    },
    {
     "name": "stderr",
     "output_type": "stream",
     "text": [
      "Processing samples: 100%|██████████| 103/103 [10:20<00:00,  6.03s/it]"
     ]
    },
    {
     "name": "stdout",
     "output_type": "stream",
     "text": [
      "-0.041568916891903784\n",
      "[WRITE] Saved result from IDS_region_06_900_points_seed_9101.pkl to /home/libe2152/optimizedsampling/0_results/usavars/population/convenience_sampling_r2_scores.csv\n",
      "Results written incrementally to /home/libe2152/optimizedsampling/0_results/usavars/population/convenience_sampling_r2_scores.csv\n",
      "Loading features from /home/libe2152/optimizedsampling/0_data/features/usavars/CONTUS_UAR_treecover_with_splits_torchgeo4096.pkl ...\n"
     ]
    },
    {
     "name": "stderr",
     "output_type": "stream",
     "text": [
      "\n"
     ]
    },
    {
     "name": "stdout",
     "output_type": "stream",
     "text": [
      "Processing samples from /home/libe2152/optimizedsampling/0_data/initial_samples/usavars/treecover/convenience_sampling/region_based ...\n"
     ]
    },
    {
     "name": "stderr",
     "output_type": "stream",
     "text": [
      "Processing samples:   0%|          | 0/101 [00:00<?, ?it/s]"
     ]
    },
    {
     "name": "stdout",
     "output_type": "stream",
     "text": [
      "Fitting regression...\n",
      "NUM SAMPLES: 1000\n",
      "Best alpha: 3.593813663804626\n"
     ]
    },
    {
     "name": "stderr",
     "output_type": "stream",
     "text": [
      "Processing samples:   1%|          | 1/101 [00:09<16:10,  9.70s/it]"
     ]
    },
    {
     "name": "stdout",
     "output_type": "stream",
     "text": [
      "0.5426993262009785\n",
      "[WRITE] Saved result from IDS_region_06_1000_points_seed_1.pkl to /home/libe2152/optimizedsampling/0_results/usavars/treecover/convenience_sampling_r2_scores.csv\n",
      "Fitting regression...\n",
      "NUM SAMPLES: 1000\n",
      "Best alpha: 3.593813663804626\n"
     ]
    },
    {
     "name": "stderr",
     "output_type": "stream",
     "text": [
      "Processing samples:   2%|▏         | 2/101 [00:49<45:26, 27.54s/it]"
     ]
    },
    {
     "name": "stdout",
     "output_type": "stream",
     "text": [
      "0.11024460512891998\n",
      "[WRITE] Saved result from IDS_region_06_1000_points_seed_1213.pkl to /home/libe2152/optimizedsampling/0_results/usavars/treecover/convenience_sampling_r2_scores.csv\n",
      "Fitting regression...\n",
      "NUM SAMPLES: 1000\n",
      "Best alpha: 3.593813663804626\n"
     ]
    },
    {
     "name": "stderr",
     "output_type": "stream",
     "text": [
      "Processing samples:   3%|▎         | 3/101 [00:59<31:51, 19.50s/it]"
     ]
    },
    {
     "name": "stdout",
     "output_type": "stream",
     "text": [
      "0.6674792076309569\n",
      "[WRITE] Saved result from IDS_region_06_1000_points_seed_123.pkl to /home/libe2152/optimizedsampling/0_results/usavars/treecover/convenience_sampling_r2_scores.csv\n",
      "Fitting regression...\n",
      "NUM SAMPLES: 1000\n",
      "Best alpha: 3.593813663804626\n"
     ]
    },
    {
     "name": "stderr",
     "output_type": "stream",
     "text": [
      "Processing samples:   4%|▍         | 4/101 [01:09<25:06, 15.53s/it]"
     ]
    },
    {
     "name": "stdout",
     "output_type": "stream",
     "text": [
      "0.271598934258651\n",
      "[WRITE] Saved result from IDS_region_06_1000_points_seed_1234.pkl to /home/libe2152/optimizedsampling/0_results/usavars/treecover/convenience_sampling_r2_scores.csv\n",
      "Fitting regression...\n",
      "NUM SAMPLES: 1000\n",
      "Best alpha: 3.593813663804626\n"
     ]
    },
    {
     "name": "stderr",
     "output_type": "stream",
     "text": [
      "Processing samples:   5%|▍         | 5/101 [01:22<23:21, 14.60s/it]"
     ]
    },
    {
     "name": "stdout",
     "output_type": "stream",
     "text": [
      "0.527866251035381\n",
      "[WRITE] Saved result from IDS_region_06_1000_points_seed_1415.pkl to /home/libe2152/optimizedsampling/0_results/usavars/treecover/convenience_sampling_r2_scores.csv\n",
      "Fitting regression...\n",
      "NUM SAMPLES: 1000\n",
      "Best alpha: 46.41588833612782\n"
     ]
    },
    {
     "name": "stderr",
     "output_type": "stream",
     "text": [
      "Processing samples:   6%|▌         | 6/101 [01:32<20:54, 13.21s/it]"
     ]
    },
    {
     "name": "stdout",
     "output_type": "stream",
     "text": [
      "0.5707480937513325\n",
      "[WRITE] Saved result from IDS_region_06_1000_points_seed_42.pkl to /home/libe2152/optimizedsampling/0_results/usavars/treecover/convenience_sampling_r2_scores.csv\n",
      "Fitting regression...\n",
      "NUM SAMPLES: 1000\n",
      "Best alpha: 3.593813663804626\n"
     ]
    },
    {
     "name": "stderr",
     "output_type": "stream",
     "text": [
      "Processing samples:   7%|▋         | 7/101 [01:42<18:51, 12.03s/it]"
     ]
    },
    {
     "name": "stdout",
     "output_type": "stream",
     "text": [
      "0.5753168484210922\n",
      "[WRITE] Saved result from IDS_region_06_1000_points_seed_456.pkl to /home/libe2152/optimizedsampling/0_results/usavars/treecover/convenience_sampling_r2_scores.csv\n",
      "Fitting regression...\n",
      "NUM SAMPLES: 1000\n",
      "Best alpha: 46.41588833612782\n"
     ]
    },
    {
     "name": "stderr",
     "output_type": "stream",
     "text": [
      "Processing samples:   8%|▊         | 8/101 [01:52<17:34, 11.34s/it]"
     ]
    },
    {
     "name": "stdout",
     "output_type": "stream",
     "text": [
      "0.5384727845386772\n",
      "[WRITE] Saved result from IDS_region_06_1000_points_seed_5678.pkl to /home/libe2152/optimizedsampling/0_results/usavars/treecover/convenience_sampling_r2_scores.csv\n",
      "Fitting regression...\n",
      "NUM SAMPLES: 1000\n",
      "Best alpha: 3.593813663804626\n"
     ]
    },
    {
     "name": "stderr",
     "output_type": "stream",
     "text": [
      "Processing samples:   9%|▉         | 9/101 [02:01<16:32, 10.79s/it]"
     ]
    },
    {
     "name": "stdout",
     "output_type": "stream",
     "text": [
      "0.2929338656783861\n",
      "[WRITE] Saved result from IDS_region_06_1000_points_seed_789.pkl to /home/libe2152/optimizedsampling/0_results/usavars/treecover/convenience_sampling_r2_scores.csv\n",
      "Fitting regression...\n",
      "NUM SAMPLES: 1000\n",
      "Best alpha: 3.593813663804626\n"
     ]
    },
    {
     "name": "stderr",
     "output_type": "stream",
     "text": [
      "Processing samples:  10%|▉         | 10/101 [02:11<15:48, 10.42s/it]"
     ]
    },
    {
     "name": "stdout",
     "output_type": "stream",
     "text": [
      "0.08827828314132702\n",
      "[WRITE] Saved result from IDS_region_06_1000_points_seed_9101.pkl to /home/libe2152/optimizedsampling/0_results/usavars/treecover/convenience_sampling_r2_scores.csv\n",
      "Fitting regression...\n",
      "NUM SAMPLES: 100\n",
      "Best alpha: 46.41588833612782\n"
     ]
    },
    {
     "name": "stderr",
     "output_type": "stream",
     "text": [
      "Processing samples:  11%|█         | 11/101 [02:11<11:12,  7.47s/it]"
     ]
    },
    {
     "name": "stdout",
     "output_type": "stream",
     "text": [
      "0.4783761000279716\n",
      "[WRITE] Saved result from IDS_region_06_100_points_seed_1.pkl to /home/libe2152/optimizedsampling/0_results/usavars/treecover/convenience_sampling_r2_scores.csv\n",
      "Fitting regression...\n",
      "NUM SAMPLES: 100\n",
      "Best alpha: 46.41588833612782\n"
     ]
    },
    {
     "name": "stderr",
     "output_type": "stream",
     "text": [
      "Processing samples:  12%|█▏        | 12/101 [02:12<08:04,  5.44s/it]"
     ]
    },
    {
     "name": "stdout",
     "output_type": "stream",
     "text": [
      "0.2132733530445463\n",
      "[WRITE] Saved result from IDS_region_06_100_points_seed_1213.pkl to /home/libe2152/optimizedsampling/0_results/usavars/treecover/convenience_sampling_r2_scores.csv\n",
      "Fitting regression...\n",
      "NUM SAMPLES: 100\n",
      "Best alpha: 46.41588833612782\n"
     ]
    },
    {
     "name": "stderr",
     "output_type": "stream",
     "text": [
      "Processing samples:  13%|█▎        | 13/101 [02:14<06:14,  4.26s/it]"
     ]
    },
    {
     "name": "stdout",
     "output_type": "stream",
     "text": [
      "0.6097087108715897\n",
      "[WRITE] Saved result from IDS_region_06_100_points_seed_123.pkl to /home/libe2152/optimizedsampling/0_results/usavars/treecover/convenience_sampling_r2_scores.csv\n",
      "Fitting regression...\n",
      "NUM SAMPLES: 100\n",
      "Best alpha: 599.4842503189421\n"
     ]
    },
    {
     "name": "stderr",
     "output_type": "stream",
     "text": [
      "Processing samples:  14%|█▍        | 14/101 [02:15<04:58,  3.43s/it]"
     ]
    },
    {
     "name": "stdout",
     "output_type": "stream",
     "text": [
      "0.3128540026114478\n",
      "[WRITE] Saved result from IDS_region_06_100_points_seed_1234.pkl to /home/libe2152/optimizedsampling/0_results/usavars/treecover/convenience_sampling_r2_scores.csv\n",
      "Fitting regression...\n",
      "NUM SAMPLES: 100\n",
      "Best alpha: 599.4842503189421\n"
     ]
    },
    {
     "name": "stderr",
     "output_type": "stream",
     "text": [
      "Processing samples:  15%|█▍        | 15/101 [02:17<03:56,  2.75s/it]"
     ]
    },
    {
     "name": "stdout",
     "output_type": "stream",
     "text": [
      "0.33080962502642575\n",
      "[WRITE] Saved result from IDS_region_06_100_points_seed_1415.pkl to /home/libe2152/optimizedsampling/0_results/usavars/treecover/convenience_sampling_r2_scores.csv\n",
      "Fitting regression...\n",
      "NUM SAMPLES: 100\n",
      "Best alpha: 599.4842503189421\n"
     ]
    },
    {
     "name": "stderr",
     "output_type": "stream",
     "text": [
      "Processing samples:  16%|█▌        | 16/101 [02:17<03:08,  2.21s/it]"
     ]
    },
    {
     "name": "stdout",
     "output_type": "stream",
     "text": [
      "0.355825004749987\n",
      "[WRITE] Saved result from IDS_region_06_100_points_seed_42.pkl to /home/libe2152/optimizedsampling/0_results/usavars/treecover/convenience_sampling_r2_scores.csv\n",
      "Fitting regression...\n",
      "NUM SAMPLES: 100\n",
      "Best alpha: 46.41588833612782\n"
     ]
    },
    {
     "name": "stderr",
     "output_type": "stream",
     "text": [
      "Processing samples:  17%|█▋        | 17/101 [02:18<02:34,  1.84s/it]"
     ]
    },
    {
     "name": "stdout",
     "output_type": "stream",
     "text": [
      "-0.1786724118063716\n",
      "[WRITE] Saved result from IDS_region_06_100_points_seed_456.pkl to /home/libe2152/optimizedsampling/0_results/usavars/treecover/convenience_sampling_r2_scores.csv\n",
      "Fitting regression...\n",
      "NUM SAMPLES: 100\n",
      "Best alpha: 599.4842503189421\n"
     ]
    },
    {
     "name": "stderr",
     "output_type": "stream",
     "text": [
      "Processing samples:  18%|█▊        | 18/101 [02:19<02:11,  1.59s/it]"
     ]
    },
    {
     "name": "stdout",
     "output_type": "stream",
     "text": [
      "0.4108843583915337\n",
      "[WRITE] Saved result from IDS_region_06_100_points_seed_5678.pkl to /home/libe2152/optimizedsampling/0_results/usavars/treecover/convenience_sampling_r2_scores.csv\n",
      "Fitting regression...\n",
      "NUM SAMPLES: 100\n",
      "Best alpha: 599.4842503189421\n"
     ]
    },
    {
     "name": "stderr",
     "output_type": "stream",
     "text": [
      "Processing samples:  19%|█▉        | 19/101 [02:20<01:54,  1.40s/it]"
     ]
    },
    {
     "name": "stdout",
     "output_type": "stream",
     "text": [
      "0.41901364257605755\n",
      "[WRITE] Saved result from IDS_region_06_100_points_seed_789.pkl to /home/libe2152/optimizedsampling/0_results/usavars/treecover/convenience_sampling_r2_scores.csv\n",
      "Fitting regression...\n",
      "NUM SAMPLES: 100\n",
      "Best alpha: 46.41588833612782\n"
     ]
    },
    {
     "name": "stderr",
     "output_type": "stream",
     "text": [
      "Processing samples:  20%|█▉        | 20/101 [02:21<01:44,  1.29s/it]"
     ]
    },
    {
     "name": "stdout",
     "output_type": "stream",
     "text": [
      "0.6252515184006924\n",
      "[WRITE] Saved result from IDS_region_06_100_points_seed_9101.pkl to /home/libe2152/optimizedsampling/0_results/usavars/treecover/convenience_sampling_r2_scores.csv\n",
      "Fitting regression...\n",
      "NUM SAMPLES: 200\n",
      "Best alpha: 46.41588833612782\n"
     ]
    },
    {
     "name": "stderr",
     "output_type": "stream",
     "text": [
      "Processing samples:  21%|██        | 21/101 [02:26<02:57,  2.22s/it]"
     ]
    },
    {
     "name": "stdout",
     "output_type": "stream",
     "text": [
      "0.5016808299033115\n",
      "[WRITE] Saved result from IDS_region_06_200_points_seed_1.pkl to /home/libe2152/optimizedsampling/0_results/usavars/treecover/convenience_sampling_r2_scores.csv\n",
      "Fitting regression...\n",
      "NUM SAMPLES: 200\n",
      "Best alpha: 46.41588833612782\n"
     ]
    },
    {
     "name": "stderr",
     "output_type": "stream",
     "text": [
      "Processing samples:  22%|██▏       | 22/101 [02:30<03:40,  2.79s/it]"
     ]
    },
    {
     "name": "stdout",
     "output_type": "stream",
     "text": [
      "0.38377575638610095\n",
      "[WRITE] Saved result from IDS_region_06_200_points_seed_1213.pkl to /home/libe2152/optimizedsampling/0_results/usavars/treecover/convenience_sampling_r2_scores.csv\n",
      "Fitting regression...\n",
      "NUM SAMPLES: 200\n",
      "Best alpha: 46.41588833612782\n"
     ]
    },
    {
     "name": "stderr",
     "output_type": "stream",
     "text": [
      "Processing samples:  23%|██▎       | 23/101 [02:34<04:06,  3.16s/it]"
     ]
    },
    {
     "name": "stdout",
     "output_type": "stream",
     "text": [
      "0.44625768663540444\n",
      "[WRITE] Saved result from IDS_region_06_200_points_seed_123.pkl to /home/libe2152/optimizedsampling/0_results/usavars/treecover/convenience_sampling_r2_scores.csv\n",
      "Fitting regression...\n",
      "NUM SAMPLES: 200\n",
      "Best alpha: 46.41588833612782\n"
     ]
    },
    {
     "name": "stderr",
     "output_type": "stream",
     "text": [
      "Processing samples:  24%|██▍       | 24/101 [02:38<04:34,  3.56s/it]"
     ]
    },
    {
     "name": "stdout",
     "output_type": "stream",
     "text": [
      "0.04018872845411636\n",
      "[WRITE] Saved result from IDS_region_06_200_points_seed_1234.pkl to /home/libe2152/optimizedsampling/0_results/usavars/treecover/convenience_sampling_r2_scores.csv\n",
      "Fitting regression...\n",
      "NUM SAMPLES: 200\n",
      "Best alpha: 46.41588833612782\n"
     ]
    },
    {
     "name": "stderr",
     "output_type": "stream",
     "text": [
      "Processing samples:  25%|██▍       | 25/101 [02:42<04:32,  3.59s/it]"
     ]
    },
    {
     "name": "stdout",
     "output_type": "stream",
     "text": [
      "0.23199913911662273\n",
      "[WRITE] Saved result from IDS_region_06_200_points_seed_1415.pkl to /home/libe2152/optimizedsampling/0_results/usavars/treecover/convenience_sampling_r2_scores.csv\n",
      "Fitting regression...\n",
      "NUM SAMPLES: 200\n",
      "Best alpha: 46.41588833612782\n"
     ]
    },
    {
     "name": "stderr",
     "output_type": "stream",
     "text": [
      "Processing samples:  26%|██▌       | 26/101 [02:46<04:27,  3.57s/it]"
     ]
    },
    {
     "name": "stdout",
     "output_type": "stream",
     "text": [
      "0.547200754804168\n",
      "[WRITE] Saved result from IDS_region_06_200_points_seed_42.pkl to /home/libe2152/optimizedsampling/0_results/usavars/treecover/convenience_sampling_r2_scores.csv\n",
      "Fitting regression...\n",
      "NUM SAMPLES: 200\n",
      "Best alpha: 46.41588833612782\n"
     ]
    },
    {
     "name": "stderr",
     "output_type": "stream",
     "text": [
      "Processing samples:  27%|██▋       | 27/101 [02:49<04:17,  3.48s/it]"
     ]
    },
    {
     "name": "stdout",
     "output_type": "stream",
     "text": [
      "0.142988778285554\n",
      "[WRITE] Saved result from IDS_region_06_200_points_seed_456.pkl to /home/libe2152/optimizedsampling/0_results/usavars/treecover/convenience_sampling_r2_scores.csv\n",
      "Fitting regression...\n",
      "NUM SAMPLES: 200\n",
      "Best alpha: 46.41588833612782\n"
     ]
    },
    {
     "name": "stderr",
     "output_type": "stream",
     "text": [
      "Processing samples:  28%|██▊       | 28/101 [02:53<04:24,  3.62s/it]"
     ]
    },
    {
     "name": "stdout",
     "output_type": "stream",
     "text": [
      "0.5991236102610028\n",
      "[WRITE] Saved result from IDS_region_06_200_points_seed_5678.pkl to /home/libe2152/optimizedsampling/0_results/usavars/treecover/convenience_sampling_r2_scores.csv\n",
      "Fitting regression...\n",
      "NUM SAMPLES: 200\n",
      "Best alpha: 46.41588833612782\n"
     ]
    },
    {
     "name": "stderr",
     "output_type": "stream",
     "text": [
      "Processing samples:  29%|██▊       | 29/101 [02:55<03:45,  3.13s/it]"
     ]
    },
    {
     "name": "stdout",
     "output_type": "stream",
     "text": [
      "0.15045652374089358\n",
      "[WRITE] Saved result from IDS_region_06_200_points_seed_789.pkl to /home/libe2152/optimizedsampling/0_results/usavars/treecover/convenience_sampling_r2_scores.csv\n",
      "Fitting regression...\n",
      "NUM SAMPLES: 200\n",
      "Best alpha: 46.41588833612782\n"
     ]
    },
    {
     "name": "stderr",
     "output_type": "stream",
     "text": [
      "Processing samples:  30%|██▉       | 30/101 [02:57<03:29,  2.95s/it]"
     ]
    },
    {
     "name": "stdout",
     "output_type": "stream",
     "text": [
      "0.6358554558776041\n",
      "[WRITE] Saved result from IDS_region_06_200_points_seed_9101.pkl to /home/libe2152/optimizedsampling/0_results/usavars/treecover/convenience_sampling_r2_scores.csv\n",
      "Fitting regression...\n",
      "NUM SAMPLES: 300\n",
      "Best alpha: 46.41588833612782\n"
     ]
    },
    {
     "name": "stderr",
     "output_type": "stream",
     "text": [
      "Processing samples:  31%|███       | 31/101 [03:01<03:32,  3.04s/it]"
     ]
    },
    {
     "name": "stdout",
     "output_type": "stream",
     "text": [
      "0.40620512068842984\n",
      "[WRITE] Saved result from IDS_region_06_300_points_seed_1.pkl to /home/libe2152/optimizedsampling/0_results/usavars/treecover/convenience_sampling_r2_scores.csv\n",
      "Fitting regression...\n",
      "NUM SAMPLES: 300\n",
      "Best alpha: 46.41588833612782\n"
     ]
    },
    {
     "name": "stderr",
     "output_type": "stream",
     "text": [
      "Processing samples:  32%|███▏      | 32/101 [03:04<03:29,  3.04s/it]"
     ]
    },
    {
     "name": "stdout",
     "output_type": "stream",
     "text": [
      "0.4515227860900878\n",
      "[WRITE] Saved result from IDS_region_06_300_points_seed_1213.pkl to /home/libe2152/optimizedsampling/0_results/usavars/treecover/convenience_sampling_r2_scores.csv\n",
      "Fitting regression...\n",
      "NUM SAMPLES: 300\n",
      "Best alpha: 46.41588833612782\n"
     ]
    },
    {
     "name": "stderr",
     "output_type": "stream",
     "text": [
      "Processing samples:  33%|███▎      | 33/101 [03:07<03:22,  2.98s/it]"
     ]
    },
    {
     "name": "stdout",
     "output_type": "stream",
     "text": [
      "0.6495934493668416\n",
      "[WRITE] Saved result from IDS_region_06_300_points_seed_123.pkl to /home/libe2152/optimizedsampling/0_results/usavars/treecover/convenience_sampling_r2_scores.csv\n",
      "Fitting regression...\n",
      "NUM SAMPLES: 300\n",
      "Best alpha: 46.41588833612782\n"
     ]
    },
    {
     "name": "stderr",
     "output_type": "stream",
     "text": [
      "Processing samples:  34%|███▎      | 34/101 [03:09<03:04,  2.76s/it]"
     ]
    },
    {
     "name": "stdout",
     "output_type": "stream",
     "text": [
      "0.3716502237893474\n",
      "[WRITE] Saved result from IDS_region_06_300_points_seed_1234.pkl to /home/libe2152/optimizedsampling/0_results/usavars/treecover/convenience_sampling_r2_scores.csv\n",
      "Fitting regression...\n",
      "NUM SAMPLES: 300\n",
      "Best alpha: 46.41588833612782\n"
     ]
    },
    {
     "name": "stderr",
     "output_type": "stream",
     "text": [
      "Processing samples:  35%|███▍      | 35/101 [03:11<02:49,  2.57s/it]"
     ]
    },
    {
     "name": "stdout",
     "output_type": "stream",
     "text": [
      "0.5749403250152589\n",
      "[WRITE] Saved result from IDS_region_06_300_points_seed_1415.pkl to /home/libe2152/optimizedsampling/0_results/usavars/treecover/convenience_sampling_r2_scores.csv\n",
      "Fitting regression...\n",
      "NUM SAMPLES: 300\n",
      "Best alpha: 46.41588833612782\n"
     ]
    },
    {
     "name": "stderr",
     "output_type": "stream",
     "text": [
      "Processing samples:  36%|███▌      | 36/101 [03:15<03:08,  2.90s/it]"
     ]
    },
    {
     "name": "stdout",
     "output_type": "stream",
     "text": [
      "0.6099083724123826\n",
      "[WRITE] Saved result from IDS_region_06_300_points_seed_42.pkl to /home/libe2152/optimizedsampling/0_results/usavars/treecover/convenience_sampling_r2_scores.csv\n",
      "Fitting regression...\n",
      "NUM SAMPLES: 300\n",
      "Best alpha: 46.41588833612782\n"
     ]
    },
    {
     "name": "stderr",
     "output_type": "stream",
     "text": [
      "Processing samples:  37%|███▋      | 37/101 [03:17<03:00,  2.81s/it]"
     ]
    },
    {
     "name": "stdout",
     "output_type": "stream",
     "text": [
      "0.3928113515952274\n",
      "[WRITE] Saved result from IDS_region_06_300_points_seed_456.pkl to /home/libe2152/optimizedsampling/0_results/usavars/treecover/convenience_sampling_r2_scores.csv\n",
      "Fitting regression...\n",
      "NUM SAMPLES: 300\n",
      "Best alpha: 46.41588833612782\n"
     ]
    },
    {
     "name": "stderr",
     "output_type": "stream",
     "text": [
      "Processing samples:  38%|███▊      | 38/101 [03:20<02:52,  2.75s/it]"
     ]
    },
    {
     "name": "stdout",
     "output_type": "stream",
     "text": [
      "0.567959164998484\n",
      "[WRITE] Saved result from IDS_region_06_300_points_seed_5678.pkl to /home/libe2152/optimizedsampling/0_results/usavars/treecover/convenience_sampling_r2_scores.csv\n",
      "Fitting regression...\n",
      "NUM SAMPLES: 300\n",
      "Best alpha: 599.4842503189421\n"
     ]
    },
    {
     "name": "stderr",
     "output_type": "stream",
     "text": [
      "Processing samples:  39%|███▊      | 39/101 [03:25<03:27,  3.35s/it]"
     ]
    },
    {
     "name": "stdout",
     "output_type": "stream",
     "text": [
      "0.3693268823420707\n",
      "[WRITE] Saved result from IDS_region_06_300_points_seed_789.pkl to /home/libe2152/optimizedsampling/0_results/usavars/treecover/convenience_sampling_r2_scores.csv\n",
      "Fitting regression...\n",
      "NUM SAMPLES: 300\n",
      "Best alpha: 46.41588833612782\n"
     ]
    },
    {
     "name": "stderr",
     "output_type": "stream",
     "text": [
      "Processing samples:  40%|███▉      | 40/101 [03:30<04:00,  3.95s/it]"
     ]
    },
    {
     "name": "stdout",
     "output_type": "stream",
     "text": [
      "0.6218610541129258\n",
      "[WRITE] Saved result from IDS_region_06_300_points_seed_9101.pkl to /home/libe2152/optimizedsampling/0_results/usavars/treecover/convenience_sampling_r2_scores.csv\n",
      "Fitting regression...\n",
      "NUM SAMPLES: 400\n",
      "Best alpha: 46.41588833612782\n"
     ]
    },
    {
     "name": "stderr",
     "output_type": "stream",
     "text": [
      "Processing samples:  41%|████      | 41/101 [03:33<03:44,  3.74s/it]"
     ]
    },
    {
     "name": "stdout",
     "output_type": "stream",
     "text": [
      "0.5284948677283899\n",
      "[WRITE] Saved result from IDS_region_06_400_points_seed_1.pkl to /home/libe2152/optimizedsampling/0_results/usavars/treecover/convenience_sampling_r2_scores.csv\n",
      "Fitting regression...\n",
      "NUM SAMPLES: 400\n",
      "Best alpha: 46.41588833612782\n"
     ]
    },
    {
     "name": "stderr",
     "output_type": "stream",
     "text": [
      "Processing samples:  42%|████▏     | 42/101 [03:36<03:29,  3.55s/it]"
     ]
    },
    {
     "name": "stdout",
     "output_type": "stream",
     "text": [
      "0.5786060541666994\n",
      "[WRITE] Saved result from IDS_region_06_400_points_seed_1213.pkl to /home/libe2152/optimizedsampling/0_results/usavars/treecover/convenience_sampling_r2_scores.csv\n",
      "Fitting regression...\n",
      "NUM SAMPLES: 400\n",
      "Best alpha: 46.41588833612782\n"
     ]
    },
    {
     "name": "stderr",
     "output_type": "stream",
     "text": [
      "Processing samples:  43%|████▎     | 43/101 [03:40<03:29,  3.60s/it]"
     ]
    },
    {
     "name": "stdout",
     "output_type": "stream",
     "text": [
      "0.6578511350877971\n",
      "[WRITE] Saved result from IDS_region_06_400_points_seed_123.pkl to /home/libe2152/optimizedsampling/0_results/usavars/treecover/convenience_sampling_r2_scores.csv\n",
      "Fitting regression...\n",
      "NUM SAMPLES: 400\n",
      "Best alpha: 46.41588833612782\n"
     ]
    },
    {
     "name": "stderr",
     "output_type": "stream",
     "text": [
      "Processing samples:  44%|████▎     | 44/101 [03:43<03:15,  3.43s/it]"
     ]
    },
    {
     "name": "stdout",
     "output_type": "stream",
     "text": [
      "0.5210246108120947\n",
      "[WRITE] Saved result from IDS_region_06_400_points_seed_1234.pkl to /home/libe2152/optimizedsampling/0_results/usavars/treecover/convenience_sampling_r2_scores.csv\n",
      "Fitting regression...\n",
      "NUM SAMPLES: 400\n",
      "Best alpha: 46.41588833612782\n"
     ]
    },
    {
     "name": "stderr",
     "output_type": "stream",
     "text": [
      "Processing samples:  45%|████▍     | 45/101 [03:46<03:03,  3.27s/it]"
     ]
    },
    {
     "name": "stdout",
     "output_type": "stream",
     "text": [
      "0.5715500969575398\n",
      "[WRITE] Saved result from IDS_region_06_400_points_seed_1415.pkl to /home/libe2152/optimizedsampling/0_results/usavars/treecover/convenience_sampling_r2_scores.csv\n",
      "Fitting regression...\n",
      "NUM SAMPLES: 400\n",
      "Best alpha: 46.41588833612782\n"
     ]
    },
    {
     "name": "stderr",
     "output_type": "stream",
     "text": [
      "Processing samples:  46%|████▌     | 46/101 [03:49<02:59,  3.26s/it]"
     ]
    },
    {
     "name": "stdout",
     "output_type": "stream",
     "text": [
      "0.5814921729179658\n",
      "[WRITE] Saved result from IDS_region_06_400_points_seed_42.pkl to /home/libe2152/optimizedsampling/0_results/usavars/treecover/convenience_sampling_r2_scores.csv\n",
      "Fitting regression...\n",
      "NUM SAMPLES: 400\n",
      "Best alpha: 46.41588833612782\n"
     ]
    },
    {
     "name": "stderr",
     "output_type": "stream",
     "text": [
      "Processing samples:  47%|████▋     | 47/101 [03:53<03:08,  3.50s/it]"
     ]
    },
    {
     "name": "stdout",
     "output_type": "stream",
     "text": [
      "0.38876824355280504\n",
      "[WRITE] Saved result from IDS_region_06_400_points_seed_456.pkl to /home/libe2152/optimizedsampling/0_results/usavars/treecover/convenience_sampling_r2_scores.csv\n",
      "Fitting regression...\n",
      "NUM SAMPLES: 400\n",
      "Best alpha: 46.41588833612782\n"
     ]
    },
    {
     "name": "stderr",
     "output_type": "stream",
     "text": [
      "Processing samples:  48%|████▊     | 48/101 [03:57<03:04,  3.48s/it]"
     ]
    },
    {
     "name": "stdout",
     "output_type": "stream",
     "text": [
      "0.5832019905997745\n",
      "[WRITE] Saved result from IDS_region_06_400_points_seed_5678.pkl to /home/libe2152/optimizedsampling/0_results/usavars/treecover/convenience_sampling_r2_scores.csv\n",
      "Fitting regression...\n",
      "NUM SAMPLES: 400\n",
      "Best alpha: 46.41588833612782\n"
     ]
    },
    {
     "name": "stderr",
     "output_type": "stream",
     "text": [
      "Processing samples:  49%|████▊     | 49/101 [03:59<02:50,  3.28s/it]"
     ]
    },
    {
     "name": "stdout",
     "output_type": "stream",
     "text": [
      "0.4287771389110565\n",
      "[WRITE] Saved result from IDS_region_06_400_points_seed_789.pkl to /home/libe2152/optimizedsampling/0_results/usavars/treecover/convenience_sampling_r2_scores.csv\n",
      "Fitting regression...\n",
      "NUM SAMPLES: 400\n",
      "Best alpha: 599.4842503189421\n"
     ]
    },
    {
     "name": "stderr",
     "output_type": "stream",
     "text": [
      "Processing samples:  50%|████▉     | 50/101 [04:03<02:53,  3.40s/it]"
     ]
    },
    {
     "name": "stdout",
     "output_type": "stream",
     "text": [
      "0.5767249916775321\n",
      "[WRITE] Saved result from IDS_region_06_400_points_seed_9101.pkl to /home/libe2152/optimizedsampling/0_results/usavars/treecover/convenience_sampling_r2_scores.csv\n",
      "Fitting regression...\n",
      "NUM SAMPLES: 500\n",
      "Best alpha: 599.4842503189421\n"
     ]
    },
    {
     "name": "stderr",
     "output_type": "stream",
     "text": [
      "Processing samples:  50%|█████     | 51/101 [04:08<03:07,  3.74s/it]"
     ]
    },
    {
     "name": "stdout",
     "output_type": "stream",
     "text": [
      "0.504516501167673\n",
      "[WRITE] Saved result from IDS_region_06_500_points_seed_1.pkl to /home/libe2152/optimizedsampling/0_results/usavars/treecover/convenience_sampling_r2_scores.csv\n",
      "Fitting regression...\n",
      "NUM SAMPLES: 500\n",
      "Best alpha: 46.41588833612782\n"
     ]
    },
    {
     "name": "stderr",
     "output_type": "stream",
     "text": [
      "Processing samples:  51%|█████▏    | 52/101 [04:12<03:06,  3.81s/it]"
     ]
    },
    {
     "name": "stdout",
     "output_type": "stream",
     "text": [
      "0.4216174127790284\n",
      "[WRITE] Saved result from IDS_region_06_500_points_seed_1213.pkl to /home/libe2152/optimizedsampling/0_results/usavars/treecover/convenience_sampling_r2_scores.csv\n",
      "Fitting regression...\n",
      "NUM SAMPLES: 500\n",
      "Best alpha: 46.41588833612782\n"
     ]
    },
    {
     "name": "stderr",
     "output_type": "stream",
     "text": [
      "Processing samples:  52%|█████▏    | 53/101 [04:16<03:07,  3.91s/it]"
     ]
    },
    {
     "name": "stdout",
     "output_type": "stream",
     "text": [
      "0.6364482575814907\n",
      "[WRITE] Saved result from IDS_region_06_500_points_seed_123.pkl to /home/libe2152/optimizedsampling/0_results/usavars/treecover/convenience_sampling_r2_scores.csv\n",
      "Fitting regression...\n",
      "NUM SAMPLES: 500\n",
      "Best alpha: 46.41588833612782\n"
     ]
    },
    {
     "name": "stderr",
     "output_type": "stream",
     "text": [
      "Processing samples:  53%|█████▎    | 54/101 [04:24<04:10,  5.34s/it]"
     ]
    },
    {
     "name": "stdout",
     "output_type": "stream",
     "text": [
      "0.5237052486289009\n",
      "[WRITE] Saved result from IDS_region_06_500_points_seed_1234.pkl to /home/libe2152/optimizedsampling/0_results/usavars/treecover/convenience_sampling_r2_scores.csv\n",
      "Fitting regression...\n",
      "NUM SAMPLES: 500\n",
      "Best alpha: 46.41588833612782\n"
     ]
    },
    {
     "name": "stderr",
     "output_type": "stream",
     "text": [
      "Processing samples:  54%|█████▍    | 55/101 [04:38<05:58,  7.80s/it]"
     ]
    },
    {
     "name": "stdout",
     "output_type": "stream",
     "text": [
      "0.5872805538126245\n",
      "[WRITE] Saved result from IDS_region_06_500_points_seed_1415.pkl to /home/libe2152/optimizedsampling/0_results/usavars/treecover/convenience_sampling_r2_scores.csv\n",
      "Fitting regression...\n",
      "NUM SAMPLES: 500\n",
      "Best alpha: 46.41588833612782\n"
     ]
    },
    {
     "name": "stderr",
     "output_type": "stream",
     "text": [
      "Processing samples:  55%|█████▌    | 56/101 [04:46<06:00,  8.02s/it]"
     ]
    },
    {
     "name": "stdout",
     "output_type": "stream",
     "text": [
      "0.5783760946359671\n",
      "[WRITE] Saved result from IDS_region_06_500_points_seed_42.pkl to /home/libe2152/optimizedsampling/0_results/usavars/treecover/convenience_sampling_r2_scores.csv\n",
      "Fitting regression...\n",
      "NUM SAMPLES: 500\n",
      "Best alpha: 3.593813663804626\n"
     ]
    },
    {
     "name": "stderr",
     "output_type": "stream",
     "text": [
      "Processing samples:  56%|█████▋    | 57/101 [04:56<06:17,  8.57s/it]"
     ]
    },
    {
     "name": "stdout",
     "output_type": "stream",
     "text": [
      "0.18620092376336395\n",
      "[WRITE] Saved result from IDS_region_06_500_points_seed_456.pkl to /home/libe2152/optimizedsampling/0_results/usavars/treecover/convenience_sampling_r2_scores.csv\n",
      "Fitting regression...\n",
      "NUM SAMPLES: 500\n",
      "Best alpha: 46.41588833612782\n"
     ]
    },
    {
     "name": "stderr",
     "output_type": "stream",
     "text": [
      "Processing samples:  57%|█████▋    | 58/101 [05:09<06:58,  9.72s/it]"
     ]
    },
    {
     "name": "stdout",
     "output_type": "stream",
     "text": [
      "0.561549600679093\n",
      "[WRITE] Saved result from IDS_region_06_500_points_seed_5678.pkl to /home/libe2152/optimizedsampling/0_results/usavars/treecover/convenience_sampling_r2_scores.csv\n",
      "Fitting regression...\n",
      "NUM SAMPLES: 500\n",
      "Best alpha: 46.41588833612782\n"
     ]
    },
    {
     "name": "stderr",
     "output_type": "stream",
     "text": [
      "Processing samples:  58%|█████▊    | 59/101 [05:16<06:19,  9.04s/it]"
     ]
    },
    {
     "name": "stdout",
     "output_type": "stream",
     "text": [
      "0.45962192025697557\n",
      "[WRITE] Saved result from IDS_region_06_500_points_seed_789.pkl to /home/libe2152/optimizedsampling/0_results/usavars/treecover/convenience_sampling_r2_scores.csv\n",
      "Fitting regression...\n",
      "NUM SAMPLES: 500\n",
      "Best alpha: 46.41588833612782\n"
     ]
    },
    {
     "name": "stderr",
     "output_type": "stream",
     "text": [
      "Processing samples:  59%|█████▉    | 60/101 [05:24<05:53,  8.63s/it]"
     ]
    },
    {
     "name": "stdout",
     "output_type": "stream",
     "text": [
      "0.6523007223871234\n",
      "[WRITE] Saved result from IDS_region_06_500_points_seed_9101.pkl to /home/libe2152/optimizedsampling/0_results/usavars/treecover/convenience_sampling_r2_scores.csv\n",
      "Fitting regression...\n",
      "NUM SAMPLES: 600\n",
      "Best alpha: 46.41588833612782\n"
     ]
    },
    {
     "name": "stderr",
     "output_type": "stream",
     "text": [
      "Processing samples:  60%|██████    | 61/101 [05:32<05:38,  8.45s/it]"
     ]
    },
    {
     "name": "stdout",
     "output_type": "stream",
     "text": [
      "0.32972020770866417\n",
      "[WRITE] Saved result from IDS_region_06_600_points_seed_1.pkl to /home/libe2152/optimizedsampling/0_results/usavars/treecover/convenience_sampling_r2_scores.csv\n",
      "Fitting regression...\n",
      "NUM SAMPLES: 600\n",
      "Best alpha: 46.41588833612782\n"
     ]
    },
    {
     "name": "stderr",
     "output_type": "stream",
     "text": [
      "Processing samples:  61%|██████▏   | 62/101 [05:38<05:01,  7.73s/it]"
     ]
    },
    {
     "name": "stdout",
     "output_type": "stream",
     "text": [
      "0.39255492869679454\n",
      "[WRITE] Saved result from IDS_region_06_600_points_seed_1213.pkl to /home/libe2152/optimizedsampling/0_results/usavars/treecover/convenience_sampling_r2_scores.csv\n",
      "Fitting regression...\n",
      "NUM SAMPLES: 600\n",
      "Best alpha: 46.41588833612782\n"
     ]
    },
    {
     "name": "stderr",
     "output_type": "stream",
     "text": [
      "Processing samples:  62%|██████▏   | 63/101 [05:44<04:31,  7.15s/it]"
     ]
    },
    {
     "name": "stdout",
     "output_type": "stream",
     "text": [
      "0.5506248639968325\n",
      "[WRITE] Saved result from IDS_region_06_600_points_seed_123.pkl to /home/libe2152/optimizedsampling/0_results/usavars/treecover/convenience_sampling_r2_scores.csv\n",
      "Fitting regression...\n",
      "NUM SAMPLES: 600\n",
      "Best alpha: 46.41588833612782\n"
     ]
    },
    {
     "name": "stderr",
     "output_type": "stream",
     "text": [
      "Processing samples:  63%|██████▎   | 64/101 [05:51<04:30,  7.32s/it]"
     ]
    },
    {
     "name": "stdout",
     "output_type": "stream",
     "text": [
      "0.5084410966413248\n",
      "[WRITE] Saved result from IDS_region_06_600_points_seed_1234.pkl to /home/libe2152/optimizedsampling/0_results/usavars/treecover/convenience_sampling_r2_scores.csv\n",
      "Fitting regression...\n",
      "NUM SAMPLES: 600\n",
      "Best alpha: 46.41588833612782\n"
     ]
    },
    {
     "name": "stderr",
     "output_type": "stream",
     "text": [
      "Processing samples:  64%|██████▍   | 65/101 [05:56<03:58,  6.62s/it]"
     ]
    },
    {
     "name": "stdout",
     "output_type": "stream",
     "text": [
      "0.5784485559739958\n",
      "[WRITE] Saved result from IDS_region_06_600_points_seed_1415.pkl to /home/libe2152/optimizedsampling/0_results/usavars/treecover/convenience_sampling_r2_scores.csv\n",
      "Fitting regression...\n",
      "NUM SAMPLES: 600\n",
      "Best alpha: 46.41588833612782\n"
     ]
    },
    {
     "name": "stderr",
     "output_type": "stream",
     "text": [
      "Processing samples:  65%|██████▌   | 66/101 [06:04<04:03,  6.96s/it]"
     ]
    },
    {
     "name": "stdout",
     "output_type": "stream",
     "text": [
      "0.6502299077062541\n",
      "[WRITE] Saved result from IDS_region_06_600_points_seed_42.pkl to /home/libe2152/optimizedsampling/0_results/usavars/treecover/convenience_sampling_r2_scores.csv\n",
      "Fitting regression...\n",
      "NUM SAMPLES: 600\n",
      "Best alpha: 46.41588833612782\n"
     ]
    },
    {
     "name": "stderr",
     "output_type": "stream",
     "text": [
      "Processing samples:  66%|██████▋   | 67/101 [06:09<03:35,  6.34s/it]"
     ]
    },
    {
     "name": "stdout",
     "output_type": "stream",
     "text": [
      "0.44821691498335603\n",
      "[WRITE] Saved result from IDS_region_06_600_points_seed_456.pkl to /home/libe2152/optimizedsampling/0_results/usavars/treecover/convenience_sampling_r2_scores.csv\n",
      "Fitting regression...\n",
      "NUM SAMPLES: 600\n",
      "Best alpha: 46.41588833612782\n"
     ]
    },
    {
     "name": "stderr",
     "output_type": "stream",
     "text": [
      "Processing samples:  67%|██████▋   | 68/101 [06:15<03:29,  6.35s/it]"
     ]
    },
    {
     "name": "stdout",
     "output_type": "stream",
     "text": [
      "0.5638302573415571\n",
      "[WRITE] Saved result from IDS_region_06_600_points_seed_5678.pkl to /home/libe2152/optimizedsampling/0_results/usavars/treecover/convenience_sampling_r2_scores.csv\n",
      "Fitting regression...\n",
      "NUM SAMPLES: 600\n",
      "Best alpha: 46.41588833612782\n"
     ]
    },
    {
     "name": "stderr",
     "output_type": "stream",
     "text": [
      "Processing samples:  68%|██████▊   | 69/101 [06:21<03:17,  6.19s/it]"
     ]
    },
    {
     "name": "stdout",
     "output_type": "stream",
     "text": [
      "0.5053570560377365\n",
      "[WRITE] Saved result from IDS_region_06_600_points_seed_789.pkl to /home/libe2152/optimizedsampling/0_results/usavars/treecover/convenience_sampling_r2_scores.csv\n",
      "Fitting regression...\n",
      "NUM SAMPLES: 600\n",
      "Best alpha: 3.593813663804626\n"
     ]
    },
    {
     "name": "stderr",
     "output_type": "stream",
     "text": [
      "Processing samples:  69%|██████▉   | 70/101 [06:28<03:16,  6.35s/it]"
     ]
    },
    {
     "name": "stdout",
     "output_type": "stream",
     "text": [
      "0.3183813052226725\n",
      "[WRITE] Saved result from IDS_region_06_600_points_seed_9101.pkl to /home/libe2152/optimizedsampling/0_results/usavars/treecover/convenience_sampling_r2_scores.csv\n",
      "Fitting regression...\n",
      "NUM SAMPLES: 700\n",
      "Best alpha: 46.41588833612782\n"
     ]
    },
    {
     "name": "stderr",
     "output_type": "stream",
     "text": [
      "Processing samples:  70%|███████   | 71/101 [06:34<03:10,  6.36s/it]"
     ]
    },
    {
     "name": "stdout",
     "output_type": "stream",
     "text": [
      "0.2789548448575294\n",
      "[WRITE] Saved result from IDS_region_06_700_points_seed_1.pkl to /home/libe2152/optimizedsampling/0_results/usavars/treecover/convenience_sampling_r2_scores.csv\n",
      "Fitting regression...\n",
      "NUM SAMPLES: 700\n",
      "Best alpha: 46.41588833612782\n"
     ]
    },
    {
     "name": "stderr",
     "output_type": "stream",
     "text": [
      "Processing samples:  71%|███████▏  | 72/101 [06:41<03:07,  6.46s/it]"
     ]
    },
    {
     "name": "stdout",
     "output_type": "stream",
     "text": [
      "0.49968095797763246\n",
      "[WRITE] Saved result from IDS_region_06_700_points_seed_1213.pkl to /home/libe2152/optimizedsampling/0_results/usavars/treecover/convenience_sampling_r2_scores.csv\n",
      "Fitting regression...\n",
      "NUM SAMPLES: 700\n",
      "Best alpha: 46.41588833612782\n"
     ]
    },
    {
     "name": "stderr",
     "output_type": "stream",
     "text": [
      "Processing samples:  72%|███████▏  | 73/101 [06:48<03:04,  6.58s/it]"
     ]
    },
    {
     "name": "stdout",
     "output_type": "stream",
     "text": [
      "0.6142329866077263\n",
      "[WRITE] Saved result from IDS_region_06_700_points_seed_123.pkl to /home/libe2152/optimizedsampling/0_results/usavars/treecover/convenience_sampling_r2_scores.csv\n",
      "Fitting regression...\n",
      "NUM SAMPLES: 700\n",
      "Best alpha: 3.593813663804626\n"
     ]
    },
    {
     "name": "stderr",
     "output_type": "stream",
     "text": [
      "Processing samples:  73%|███████▎  | 74/101 [06:55<02:59,  6.65s/it]"
     ]
    },
    {
     "name": "stdout",
     "output_type": "stream",
     "text": [
      "0.2590749086850649\n",
      "[WRITE] Saved result from IDS_region_06_700_points_seed_1234.pkl to /home/libe2152/optimizedsampling/0_results/usavars/treecover/convenience_sampling_r2_scores.csv\n",
      "Fitting regression...\n",
      "NUM SAMPLES: 700\n",
      "Best alpha: 46.41588833612782\n"
     ]
    },
    {
     "name": "stderr",
     "output_type": "stream",
     "text": [
      "Processing samples:  74%|███████▍  | 75/101 [07:01<02:46,  6.40s/it]"
     ]
    },
    {
     "name": "stdout",
     "output_type": "stream",
     "text": [
      "0.5904678308690625\n",
      "[WRITE] Saved result from IDS_region_06_700_points_seed_1415.pkl to /home/libe2152/optimizedsampling/0_results/usavars/treecover/convenience_sampling_r2_scores.csv\n",
      "Fitting regression...\n",
      "NUM SAMPLES: 700\n",
      "Best alpha: 46.41588833612782\n"
     ]
    },
    {
     "name": "stderr",
     "output_type": "stream",
     "text": [
      "Processing samples:  75%|███████▌  | 76/101 [07:09<02:55,  7.02s/it]"
     ]
    },
    {
     "name": "stdout",
     "output_type": "stream",
     "text": [
      "0.6507226146961693\n",
      "[WRITE] Saved result from IDS_region_06_700_points_seed_42.pkl to /home/libe2152/optimizedsampling/0_results/usavars/treecover/convenience_sampling_r2_scores.csv\n",
      "Fitting regression...\n",
      "NUM SAMPLES: 700\n",
      "Best alpha: 3.593813663804626\n"
     ]
    },
    {
     "name": "stderr",
     "output_type": "stream",
     "text": [
      "Processing samples:  76%|███████▌  | 77/101 [07:19<03:07,  7.82s/it]"
     ]
    },
    {
     "name": "stdout",
     "output_type": "stream",
     "text": [
      "0.366025796912675\n",
      "[WRITE] Saved result from IDS_region_06_700_points_seed_456.pkl to /home/libe2152/optimizedsampling/0_results/usavars/treecover/convenience_sampling_r2_scores.csv\n",
      "Fitting regression...\n",
      "NUM SAMPLES: 700\n",
      "Best alpha: 46.41588833612782\n"
     ]
    },
    {
     "name": "stderr",
     "output_type": "stream",
     "text": [
      "Processing samples:  77%|███████▋  | 78/101 [07:26<02:57,  7.73s/it]"
     ]
    },
    {
     "name": "stdout",
     "output_type": "stream",
     "text": [
      "0.5643273091830359\n",
      "[WRITE] Saved result from IDS_region_06_700_points_seed_5678.pkl to /home/libe2152/optimizedsampling/0_results/usavars/treecover/convenience_sampling_r2_scores.csv\n",
      "Fitting regression...\n",
      "NUM SAMPLES: 700\n",
      "Best alpha: 3.593813663804626\n"
     ]
    },
    {
     "name": "stderr",
     "output_type": "stream",
     "text": [
      "Processing samples:  78%|███████▊  | 79/101 [07:33<02:44,  7.46s/it]"
     ]
    },
    {
     "name": "stdout",
     "output_type": "stream",
     "text": [
      "-0.2797484638077221\n",
      "[WRITE] Saved result from IDS_region_06_700_points_seed_789.pkl to /home/libe2152/optimizedsampling/0_results/usavars/treecover/convenience_sampling_r2_scores.csv\n",
      "Fitting regression...\n",
      "NUM SAMPLES: 700\n",
      "Best alpha: 3.593813663804626\n"
     ]
    },
    {
     "name": "stderr",
     "output_type": "stream",
     "text": [
      "Processing samples:  79%|███████▉  | 80/101 [07:40<02:30,  7.16s/it]"
     ]
    },
    {
     "name": "stdout",
     "output_type": "stream",
     "text": [
      "0.3312752575510791\n",
      "[WRITE] Saved result from IDS_region_06_700_points_seed_9101.pkl to /home/libe2152/optimizedsampling/0_results/usavars/treecover/convenience_sampling_r2_scores.csv\n",
      "Fitting regression...\n",
      "NUM SAMPLES: 800\n",
      "Best alpha: 3.593813663804626\n"
     ]
    },
    {
     "name": "stderr",
     "output_type": "stream",
     "text": [
      "Processing samples:  80%|████████  | 81/101 [07:48<02:31,  7.58s/it]"
     ]
    },
    {
     "name": "stdout",
     "output_type": "stream",
     "text": [
      "0.5324274698448315\n",
      "[WRITE] Saved result from IDS_region_06_800_points_seed_1.pkl to /home/libe2152/optimizedsampling/0_results/usavars/treecover/convenience_sampling_r2_scores.csv\n",
      "Fitting regression...\n",
      "NUM SAMPLES: 800\n",
      "Best alpha: 3.593813663804626\n"
     ]
    },
    {
     "name": "stderr",
     "output_type": "stream",
     "text": [
      "Processing samples:  81%|████████  | 82/101 [07:56<02:25,  7.65s/it]"
     ]
    },
    {
     "name": "stdout",
     "output_type": "stream",
     "text": [
      "0.5280871753184904\n",
      "[WRITE] Saved result from IDS_region_06_800_points_seed_1213.pkl to /home/libe2152/optimizedsampling/0_results/usavars/treecover/convenience_sampling_r2_scores.csv\n",
      "Fitting regression...\n",
      "NUM SAMPLES: 800\n",
      "Best alpha: 3.593813663804626\n"
     ]
    },
    {
     "name": "stderr",
     "output_type": "stream",
     "text": [
      "Processing samples:  82%|████████▏ | 83/101 [08:04<02:21,  7.88s/it]"
     ]
    },
    {
     "name": "stdout",
     "output_type": "stream",
     "text": [
      "0.6751995775524646\n",
      "[WRITE] Saved result from IDS_region_06_800_points_seed_123.pkl to /home/libe2152/optimizedsampling/0_results/usavars/treecover/convenience_sampling_r2_scores.csv\n",
      "Fitting regression...\n",
      "NUM SAMPLES: 800\n",
      "Best alpha: 3.593813663804626\n"
     ]
    },
    {
     "name": "stderr",
     "output_type": "stream",
     "text": [
      "Processing samples:  83%|████████▎ | 84/101 [08:13<02:16,  8.03s/it]"
     ]
    },
    {
     "name": "stdout",
     "output_type": "stream",
     "text": [
      "0.3482731765812086\n",
      "[WRITE] Saved result from IDS_region_06_800_points_seed_1234.pkl to /home/libe2152/optimizedsampling/0_results/usavars/treecover/convenience_sampling_r2_scores.csv\n",
      "Fitting regression...\n",
      "NUM SAMPLES: 800\n",
      "Best alpha: 46.41588833612782\n"
     ]
    },
    {
     "name": "stderr",
     "output_type": "stream",
     "text": [
      "Processing samples:  84%|████████▍ | 85/101 [08:21<02:07,  7.98s/it]"
     ]
    },
    {
     "name": "stdout",
     "output_type": "stream",
     "text": [
      "0.5771987240428932\n",
      "[WRITE] Saved result from IDS_region_06_800_points_seed_1415.pkl to /home/libe2152/optimizedsampling/0_results/usavars/treecover/convenience_sampling_r2_scores.csv\n",
      "Fitting regression...\n",
      "NUM SAMPLES: 800\n",
      "Best alpha: 46.41588833612782\n"
     ]
    },
    {
     "name": "stderr",
     "output_type": "stream",
     "text": [
      "Processing samples:  85%|████████▌ | 86/101 [08:29<02:02,  8.15s/it]"
     ]
    },
    {
     "name": "stdout",
     "output_type": "stream",
     "text": [
      "0.6342486949477909\n",
      "[WRITE] Saved result from IDS_region_06_800_points_seed_42.pkl to /home/libe2152/optimizedsampling/0_results/usavars/treecover/convenience_sampling_r2_scores.csv\n",
      "Fitting regression...\n",
      "NUM SAMPLES: 800\n",
      "Best alpha: 46.41588833612782\n"
     ]
    },
    {
     "name": "stderr",
     "output_type": "stream",
     "text": [
      "Processing samples:  86%|████████▌ | 87/101 [08:38<01:56,  8.33s/it]"
     ]
    },
    {
     "name": "stdout",
     "output_type": "stream",
     "text": [
      "0.47064337266532885\n",
      "[WRITE] Saved result from IDS_region_06_800_points_seed_456.pkl to /home/libe2152/optimizedsampling/0_results/usavars/treecover/convenience_sampling_r2_scores.csv\n",
      "Fitting regression...\n",
      "NUM SAMPLES: 800\n",
      "Best alpha: 46.41588833612782\n"
     ]
    },
    {
     "name": "stderr",
     "output_type": "stream",
     "text": [
      "Processing samples:  87%|████████▋ | 88/101 [08:46<01:47,  8.27s/it]"
     ]
    },
    {
     "name": "stdout",
     "output_type": "stream",
     "text": [
      "0.56327126770482\n",
      "[WRITE] Saved result from IDS_region_06_800_points_seed_5678.pkl to /home/libe2152/optimizedsampling/0_results/usavars/treecover/convenience_sampling_r2_scores.csv\n",
      "Fitting regression...\n",
      "NUM SAMPLES: 800\n",
      "Best alpha: 46.41588833612782\n"
     ]
    },
    {
     "name": "stderr",
     "output_type": "stream",
     "text": [
      "Processing samples:  88%|████████▊ | 89/101 [08:54<01:38,  8.24s/it]"
     ]
    },
    {
     "name": "stdout",
     "output_type": "stream",
     "text": [
      "0.4352450625230079\n",
      "[WRITE] Saved result from IDS_region_06_800_points_seed_789.pkl to /home/libe2152/optimizedsampling/0_results/usavars/treecover/convenience_sampling_r2_scores.csv\n",
      "Fitting regression...\n",
      "NUM SAMPLES: 800\n",
      "Best alpha: 46.41588833612782\n"
     ]
    },
    {
     "name": "stderr",
     "output_type": "stream",
     "text": [
      "Processing samples:  89%|████████▉ | 90/101 [09:03<01:32,  8.42s/it]"
     ]
    },
    {
     "name": "stdout",
     "output_type": "stream",
     "text": [
      "0.5956773504630095\n",
      "[WRITE] Saved result from IDS_region_06_800_points_seed_9101.pkl to /home/libe2152/optimizedsampling/0_results/usavars/treecover/convenience_sampling_r2_scores.csv\n",
      "Fitting regression...\n",
      "NUM SAMPLES: 900\n",
      "Best alpha: 3.593813663804626\n"
     ]
    },
    {
     "name": "stderr",
     "output_type": "stream",
     "text": [
      "Processing samples:  90%|█████████ | 91/101 [09:11<01:24,  8.42s/it]"
     ]
    },
    {
     "name": "stdout",
     "output_type": "stream",
     "text": [
      "0.5240570310106851\n",
      "[WRITE] Saved result from IDS_region_06_900_points_seed_1.pkl to /home/libe2152/optimizedsampling/0_results/usavars/treecover/convenience_sampling_r2_scores.csv\n",
      "Fitting regression...\n",
      "NUM SAMPLES: 900\n",
      "Best alpha: 3.593813663804626\n"
     ]
    },
    {
     "name": "stderr",
     "output_type": "stream",
     "text": [
      "Processing samples:  91%|█████████ | 92/101 [09:21<01:18,  8.77s/it]"
     ]
    },
    {
     "name": "stdout",
     "output_type": "stream",
     "text": [
      "0.2832181724398223\n",
      "[WRITE] Saved result from IDS_region_06_900_points_seed_1213.pkl to /home/libe2152/optimizedsampling/0_results/usavars/treecover/convenience_sampling_r2_scores.csv\n",
      "Fitting regression...\n",
      "NUM SAMPLES: 900\n",
      "Best alpha: 3.593813663804626\n"
     ]
    },
    {
     "name": "stderr",
     "output_type": "stream",
     "text": [
      "Processing samples:  92%|█████████▏| 93/101 [09:30<01:11,  8.90s/it]"
     ]
    },
    {
     "name": "stdout",
     "output_type": "stream",
     "text": [
      "0.6827969831838989\n",
      "[WRITE] Saved result from IDS_region_06_900_points_seed_123.pkl to /home/libe2152/optimizedsampling/0_results/usavars/treecover/convenience_sampling_r2_scores.csv\n",
      "Fitting regression...\n",
      "NUM SAMPLES: 900\n",
      "Best alpha: 3.593813663804626\n"
     ]
    },
    {
     "name": "stderr",
     "output_type": "stream",
     "text": [
      "Processing samples:  93%|█████████▎| 94/101 [09:38<01:00,  8.68s/it]"
     ]
    },
    {
     "name": "stdout",
     "output_type": "stream",
     "text": [
      "0.3358715193013284\n",
      "[WRITE] Saved result from IDS_region_06_900_points_seed_1234.pkl to /home/libe2152/optimizedsampling/0_results/usavars/treecover/convenience_sampling_r2_scores.csv\n",
      "Fitting regression...\n",
      "NUM SAMPLES: 900\n",
      "Best alpha: 46.41588833612782\n"
     ]
    },
    {
     "name": "stderr",
     "output_type": "stream",
     "text": [
      "Processing samples:  94%|█████████▍| 95/101 [09:47<00:52,  8.75s/it]"
     ]
    },
    {
     "name": "stdout",
     "output_type": "stream",
     "text": [
      "0.6170213272450896\n",
      "[WRITE] Saved result from IDS_region_06_900_points_seed_1415.pkl to /home/libe2152/optimizedsampling/0_results/usavars/treecover/convenience_sampling_r2_scores.csv\n",
      "Fitting regression...\n",
      "NUM SAMPLES: 900\n",
      "Best alpha: 46.41588833612782\n"
     ]
    },
    {
     "name": "stderr",
     "output_type": "stream",
     "text": [
      "Processing samples:  95%|█████████▌| 96/101 [09:57<00:44,  8.91s/it]"
     ]
    },
    {
     "name": "stdout",
     "output_type": "stream",
     "text": [
      "0.6214116048395089\n",
      "[WRITE] Saved result from IDS_region_06_900_points_seed_42.pkl to /home/libe2152/optimizedsampling/0_results/usavars/treecover/convenience_sampling_r2_scores.csv\n",
      "Fitting regression...\n",
      "NUM SAMPLES: 900\n",
      "Best alpha: 3.593813663804626\n"
     ]
    },
    {
     "name": "stderr",
     "output_type": "stream",
     "text": [
      "Processing samples:  96%|█████████▌| 97/101 [10:06<00:35,  8.96s/it]"
     ]
    },
    {
     "name": "stdout",
     "output_type": "stream",
     "text": [
      "0.5108838901721604\n",
      "[WRITE] Saved result from IDS_region_06_900_points_seed_456.pkl to /home/libe2152/optimizedsampling/0_results/usavars/treecover/convenience_sampling_r2_scores.csv\n",
      "Fitting regression...\n",
      "NUM SAMPLES: 900\n",
      "Best alpha: 46.41588833612782\n"
     ]
    },
    {
     "name": "stderr",
     "output_type": "stream",
     "text": [
      "Processing samples:  97%|█████████▋| 98/101 [10:14<00:26,  8.79s/it]"
     ]
    },
    {
     "name": "stdout",
     "output_type": "stream",
     "text": [
      "0.5714675495954473\n",
      "[WRITE] Saved result from IDS_region_06_900_points_seed_5678.pkl to /home/libe2152/optimizedsampling/0_results/usavars/treecover/convenience_sampling_r2_scores.csv\n",
      "Fitting regression...\n",
      "NUM SAMPLES: 900\n",
      "Best alpha: 3.593813663804626\n"
     ]
    },
    {
     "name": "stderr",
     "output_type": "stream",
     "text": [
      "Processing samples:  98%|█████████▊| 99/101 [10:23<00:17,  8.96s/it]"
     ]
    },
    {
     "name": "stdout",
     "output_type": "stream",
     "text": [
      "0.1444531745131582\n",
      "[WRITE] Saved result from IDS_region_06_900_points_seed_789.pkl to /home/libe2152/optimizedsampling/0_results/usavars/treecover/convenience_sampling_r2_scores.csv\n",
      "Fitting regression...\n",
      "NUM SAMPLES: 900\n",
      "Best alpha: 46.41588833612782\n"
     ]
    },
    {
     "name": "stderr",
     "output_type": "stream",
     "text": [
      "Processing samples: 100%|██████████| 101/101 [10:33<00:00,  6.27s/it]"
     ]
    },
    {
     "name": "stdout",
     "output_type": "stream",
     "text": [
      "0.5896574498693767\n",
      "[WRITE] Saved result from IDS_region_06_900_points_seed_9101.pkl to /home/libe2152/optimizedsampling/0_results/usavars/treecover/convenience_sampling_r2_scores.csv\n",
      "Results written incrementally to /home/libe2152/optimizedsampling/0_results/usavars/treecover/convenience_sampling_r2_scores.csv\n"
     ]
    },
    {
     "name": "stderr",
     "output_type": "stream",
     "text": [
      "\n"
     ]
    }
   ],
   "source": [
    "for label in ['population', 'treecover']:\n",
    "\n",
    "    features_path = f\"/home/libe2152/optimizedsampling/0_data/features/usavars/CONTUS_UAR_{label}_with_splits_torchgeo4096.pkl\"\n",
    "    cluster_sampling_dir= f\"/home/libe2152/optimizedsampling/0_data/initial_samples/usavars/{label}/cluster_sampling\"\n",
    "    convenience_sampling_urban_dir = f\"/home/libe2152/optimizedsampling/0_data/initial_samples/usavars/{label}/convenience_sampling/urban_based\"\n",
    "    convenience_sampling_region_dir = f\"/home/libe2152/optimizedsampling/0_data/initial_samples/usavars/{label}/convenience_sampling/cluster_based\"\n",
    "    random_sampling_dir = f\"/home/libe2152/optimizedsampling/0_data/initial_samples/usavars/{label}/random_sampling\"\n",
    "\n",
    "    results_dir = f\"/home/libe2152/optimizedsampling/0_results/usavars/{label}\"\n",
    "\n",
    "    # # Run cluster sampling R2 scores\n",
    "    cluster_sampling_r2_scores(\n",
    "        features_path=features_path,\n",
    "        sampling_dir=cluster_sampling_dir,\n",
    "        results_dir=results_dir,\n",
    "        ridge_regression_fn=ridge_regression,\n",
    "        verbose=True,\n",
    "    )\n",
    "\n",
    "    # Run convenience sampling R2 scores\n",
    "    convenience_sampling_r2_scores(\n",
    "        features_path=features_path,\n",
    "        sampling_dir=convenience_sampling_urban_dir,\n",
    "        results_dir=results_dir,\n",
    "        ridge_regression_fn=ridge_regression,\n",
    "        verbose=True,\n",
    "    )\n",
    "\n",
    "    convenience_sampling_r2_scores(\n",
    "        features_path=features_path,\n",
    "        sampling_dir=convenience_sampling_region_dir,\n",
    "        results_dir=results_dir,\n",
    "        ridge_regression_fn=ridge_regression,\n",
    "        verbose=True,\n",
    "    )\n",
    "\n",
    "    # # Run random sampling R2 scores\n",
    "    # random_sampling_r2_scores(\n",
    "    #     features_path=features_path,\n",
    "    #     sampling_dir=random_sampling_dir,\n",
    "    #     results_dir=results_dir,\n",
    "    #     ridge_regression_fn=ridge_regression,\n",
    "    #     verbose=True,\n",
    "    # )"
   ]
  }
 ],
 "metadata": {
  "kernelspec": {
   "display_name": "mosaiks",
   "language": "python",
   "name": "python3"
  },
  "language_info": {
   "codemirror_mode": {
    "name": "ipython",
    "version": 3
   },
   "file_extension": ".py",
   "mimetype": "text/x-python",
   "name": "python",
   "nbconvert_exporter": "python",
   "pygments_lexer": "ipython3",
   "version": "3.11.11"
  }
 },
 "nbformat": 4,
 "nbformat_minor": 5
}
