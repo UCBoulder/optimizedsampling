{
 "cells": [
  {
   "cell_type": "code",
   "execution_count": null,
   "id": "a1c9fd8a",
   "metadata": {},
   "outputs": [],
   "source": [
    "from regressions import ridge_regression\n",
    "from initial_set_regressions import cluster_sampling_r2_scores, convenience_sampling_r2_scores, random_sampling_r2_scores"
   ]
  },
  {
   "cell_type": "markdown",
   "id": "7294efcf",
   "metadata": {},
   "source": [
    "# India SECC Initial Set Regressions"
   ]
  },
  {
   "cell_type": "code",
   "execution_count": null,
   "id": "a4da2180",
   "metadata": {},
   "outputs": [],
   "source": [
    "features_path = f\"/home/libe2152/optimizedsampling/0_data/features/india_secc/India_SECC_with_splits_4000.pkl\"\n",
    "cluster_sampling_dir= f\"/home/libe2152/optimizedsampling/0_data/initial_samples/india_secc/cluster_sampling\"\n",
    "convenience_sampling_urban_dir = f\"/home/libe2152/optimizedsampling/0_data/initial_samples/india_secc/convenience_sampling/urban_based\"\n",
    "convenience_sampling_region_dir = f\"/home/libe2152/optimizedsampling/0_data/initial_samples/india_secc/convenience_sampling/region_based\"\n",
    "random_sampling_dir = f\"/home/libe2152/optimizedsampling/0_data/initial_samples/india_secc/random_sampling\"\n",
    "\n",
    "results_dir = f\"/home/libe2152/optimizedsampling/0_results/india_secc\"\n",
    "\n",
    "# # Run cluster sampling R2 scores\n",
    "# cluster_sampling_r2_scores(\n",
    "#     features_path=features_path,\n",
    "#     sampling_dir=cluster_sampling_dir,\n",
    "#     results_dir=results_dir,\n",
    "#     ridge_regression_fn=ridge_regression,\n",
    "#     verbose=True,\n",
    "# )\n",
    "\n",
    "# # Run convenience sampling R2 scores\n",
    "# convenience_sampling_r2_scores(\n",
    "#     features_path=features_path,\n",
    "#     sampling_dir=convenience_sampling_urban_dir,\n",
    "#     results_dir=results_dir,\n",
    "#     ridge_regression_fn=ridge_regression,\n",
    "#     verbose=True,\n",
    "# )\n",
    "\n",
    "# convenience_sampling_r2_scores(\n",
    "#     features_path=features_path,\n",
    "#     sampling_dir=convenience_sampling_region_dir,\n",
    "#     results_dir=results_dir,\n",
    "#     ridge_regression_fn=ridge_regression,\n",
    "#     verbose=True,\n",
    "# )\n",
    "\n",
    "# Run random sampling R2 scores\n",
    "random_sampling_r2_scores(\n",
    "    features_path=features_path,\n",
    "    sampling_dir=random_sampling_dir,\n",
    "    results_dir=results_dir,\n",
    "    ridge_regression_fn=ridge_regression,\n",
    "    verbose=True,\n",
    ")"
   ]
  }
 ],
 "metadata": {
  "kernelspec": {
   "display_name": "mosaiks",
   "language": "python",
   "name": "python3"
  },
  "language_info": {
   "codemirror_mode": {
    "name": "ipython",
    "version": 3
   },
   "file_extension": ".py",
   "mimetype": "text/x-python",
   "name": "python",
   "nbconvert_exporter": "python",
   "pygments_lexer": "ipython3",
   "version": "3.11.11"
  }
 },
 "nbformat": 4,
 "nbformat_minor": 5
}
