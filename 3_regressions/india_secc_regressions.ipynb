{
 "cells": [
  {
   "cell_type": "code",
   "execution_count": 1,
   "id": "a1c9fd8a",
   "metadata": {},
   "outputs": [],
   "source": [
    "from regressions import ridge_regression\n",
    "from initial_set_regressions import cluster_sampling_r2_scores, convenience_sampling_r2_scores, random_sampling_r2_scores"
   ]
  },
  {
   "cell_type": "markdown",
   "id": "7294efcf",
   "metadata": {},
   "source": [
    "# India SECC Initial Set Regressions"
   ]
  },
  {
   "cell_type": "code",
   "execution_count": null,
   "id": "a4da2180",
   "metadata": {},
   "outputs": [
    {
     "name": "stdout",
     "output_type": "stream",
     "text": [
      "Loading features from /home/libe2152/optimizedsampling/0_data/features/india_secc/India_SECC_with_splits_4000.pkl ...\n",
      "Processing samples from /home/libe2152/optimizedsampling/0_data/initial_samples/india_secc/cluster_sampling/randomstrata ...\n"
     ]
    },
    {
     "name": "stderr",
     "output_type": "stream",
     "text": [
      "Processing samples:   0%|          | 0/301 [00:00<?, ?it/s]"
     ]
    },
    {
     "name": "stdout",
     "output_type": "stream",
     "text": [
      "Fitting regression...\n",
      "NUM SAMPLES: 1000\n",
      "Best alpha: 46.41588833612782\n"
     ]
    },
    {
     "name": "stderr",
     "output_type": "stream",
     "text": [
      "Processing samples:   1%|          | 2/301 [00:18<45:01,  9.04s/it]"
     ]
    },
    {
     "name": "stdout",
     "output_type": "stream",
     "text": [
      "-0.23538779525798637\n",
      "[WRITE] Saved result from sample_10_state_district_desired_20ppc_1000_size_seed_1.pkl to /home/libe2152/optimizedsampling/0_results/india_secc/cluster_sampling_r2_scores.csv\n",
      "Fitting regression...\n",
      "NUM SAMPLES: 1000\n",
      "Best alpha: 3.593813663804626\n"
     ]
    },
    {
     "name": "stderr",
     "output_type": "stream",
     "text": [
      "Processing samples:   1%|          | 3/301 [00:31<53:57, 10.87s/it]"
     ]
    },
    {
     "name": "stdout",
     "output_type": "stream",
     "text": [
      "-0.289215815068786\n",
      "[WRITE] Saved result from sample_10_state_district_desired_20ppc_1000_size_seed_1213.pkl to /home/libe2152/optimizedsampling/0_results/india_secc/cluster_sampling_r2_scores.csv\n",
      "Fitting regression...\n",
      "NUM SAMPLES: 1000\n",
      "Best alpha: 46.41588833612782\n"
     ]
    },
    {
     "name": "stderr",
     "output_type": "stream",
     "text": [
      "Processing samples:   1%|▏         | 4/301 [00:41<52:59, 10.70s/it]"
     ]
    },
    {
     "name": "stdout",
     "output_type": "stream",
     "text": [
      "0.08691286525422326\n",
      "[WRITE] Saved result from sample_10_state_district_desired_20ppc_1000_size_seed_123.pkl to /home/libe2152/optimizedsampling/0_results/india_secc/cluster_sampling_r2_scores.csv\n",
      "Fitting regression...\n",
      "NUM SAMPLES: 1000\n",
      "Best alpha: 46.41588833612782\n"
     ]
    },
    {
     "name": "stderr",
     "output_type": "stream",
     "text": [
      "Processing samples:   2%|▏         | 5/301 [00:50<49:26, 10.02s/it]"
     ]
    },
    {
     "name": "stdout",
     "output_type": "stream",
     "text": [
      "0.0944065496958213\n",
      "[WRITE] Saved result from sample_10_state_district_desired_20ppc_1000_size_seed_1234.pkl to /home/libe2152/optimizedsampling/0_results/india_secc/cluster_sampling_r2_scores.csv\n",
      "Fitting regression...\n",
      "NUM SAMPLES: 1000\n",
      "Best alpha: 46.41588833612782\n"
     ]
    },
    {
     "name": "stderr",
     "output_type": "stream",
     "text": [
      "Processing samples:   2%|▏         | 6/301 [01:21<1:23:13, 16.93s/it]"
     ]
    },
    {
     "name": "stdout",
     "output_type": "stream",
     "text": [
      "0.07010971734582916\n",
      "[WRITE] Saved result from sample_10_state_district_desired_20ppc_1000_size_seed_1415.pkl to /home/libe2152/optimizedsampling/0_results/india_secc/cluster_sampling_r2_scores.csv\n",
      "Fitting regression...\n",
      "NUM SAMPLES: 1000\n",
      "Best alpha: 3.593813663804626\n"
     ]
    },
    {
     "name": "stderr",
     "output_type": "stream",
     "text": [
      "Processing samples:   2%|▏         | 7/301 [01:40<1:26:13, 17.60s/it]"
     ]
    },
    {
     "name": "stdout",
     "output_type": "stream",
     "text": [
      "-0.41826499378543547\n",
      "[WRITE] Saved result from sample_10_state_district_desired_20ppc_1000_size_seed_42.pkl to /home/libe2152/optimizedsampling/0_results/india_secc/cluster_sampling_r2_scores.csv\n",
      "Fitting regression...\n",
      "NUM SAMPLES: 1000\n",
      "Best alpha: 599.4842503189421\n"
     ]
    },
    {
     "name": "stderr",
     "output_type": "stream",
     "text": [
      "Processing samples:   3%|▎         | 8/301 [02:19<1:58:53, 24.35s/it]"
     ]
    },
    {
     "name": "stdout",
     "output_type": "stream",
     "text": [
      "-0.04541906461851042\n",
      "[WRITE] Saved result from sample_10_state_district_desired_20ppc_1000_size_seed_456.pkl to /home/libe2152/optimizedsampling/0_results/india_secc/cluster_sampling_r2_scores.csv\n",
      "Fitting regression...\n",
      "NUM SAMPLES: 1000\n",
      "Best alpha: 46.41588833612782\n"
     ]
    },
    {
     "name": "stderr",
     "output_type": "stream",
     "text": [
      "Processing samples:   3%|▎         | 9/301 [02:52<2:11:38, 27.05s/it]"
     ]
    },
    {
     "name": "stdout",
     "output_type": "stream",
     "text": [
      "0.14412897230732846\n",
      "[WRITE] Saved result from sample_10_state_district_desired_20ppc_1000_size_seed_5678.pkl to /home/libe2152/optimizedsampling/0_results/india_secc/cluster_sampling_r2_scores.csv\n",
      "Fitting regression...\n",
      "NUM SAMPLES: 1000\n",
      "Best alpha: 46.41588833612782\n"
     ]
    },
    {
     "name": "stderr",
     "output_type": "stream",
     "text": [
      "Processing samples:   3%|▎         | 10/301 [03:13<2:02:02, 25.16s/it]"
     ]
    },
    {
     "name": "stdout",
     "output_type": "stream",
     "text": [
      "-0.01567171134792167\n",
      "[WRITE] Saved result from sample_10_state_district_desired_20ppc_1000_size_seed_789.pkl to /home/libe2152/optimizedsampling/0_results/india_secc/cluster_sampling_r2_scores.csv\n",
      "Fitting regression...\n",
      "NUM SAMPLES: 1000\n",
      "Best alpha: 46.41588833612782\n"
     ]
    },
    {
     "name": "stderr",
     "output_type": "stream",
     "text": [
      "Processing samples:   4%|▎         | 11/301 [03:23<1:39:11, 20.52s/it]"
     ]
    },
    {
     "name": "stdout",
     "output_type": "stream",
     "text": [
      "0.11919370454186362\n",
      "[WRITE] Saved result from sample_10_state_district_desired_20ppc_1000_size_seed_9101.pkl to /home/libe2152/optimizedsampling/0_results/india_secc/cluster_sampling_r2_scores.csv\n",
      "Fitting regression...\n",
      "NUM SAMPLES: 2000\n",
      "Best alpha: 3.593813663804626\n"
     ]
    },
    {
     "name": "stderr",
     "output_type": "stream",
     "text": [
      "Processing samples:   4%|▍         | 12/301 [03:45<1:41:38, 21.10s/it]"
     ]
    },
    {
     "name": "stdout",
     "output_type": "stream",
     "text": [
      "-0.16299972505764293\n",
      "[WRITE] Saved result from sample_10_state_district_desired_20ppc_2000_size_seed_1.pkl to /home/libe2152/optimizedsampling/0_results/india_secc/cluster_sampling_r2_scores.csv\n",
      "Fitting regression...\n",
      "NUM SAMPLES: 2000\n",
      "Best alpha: 3.593813663804626\n"
     ]
    },
    {
     "name": "stderr",
     "output_type": "stream",
     "text": [
      "Processing samples:   4%|▍         | 13/301 [04:30<2:15:32, 28.24s/it]"
     ]
    },
    {
     "name": "stdout",
     "output_type": "stream",
     "text": [
      "0.08045304679386034\n",
      "[WRITE] Saved result from sample_10_state_district_desired_20ppc_2000_size_seed_1213.pkl to /home/libe2152/optimizedsampling/0_results/india_secc/cluster_sampling_r2_scores.csv\n",
      "Fitting regression...\n",
      "NUM SAMPLES: 2000\n",
      "Best alpha: 3.593813663804626\n"
     ]
    },
    {
     "name": "stderr",
     "output_type": "stream",
     "text": [
      "Processing samples:   5%|▍         | 14/301 [06:47<4:51:28, 60.94s/it]"
     ]
    },
    {
     "name": "stdout",
     "output_type": "stream",
     "text": [
      "0.1887395110865424\n",
      "[WRITE] Saved result from sample_10_state_district_desired_20ppc_2000_size_seed_123.pkl to /home/libe2152/optimizedsampling/0_results/india_secc/cluster_sampling_r2_scores.csv\n",
      "Fitting regression...\n",
      "NUM SAMPLES: 2000\n",
      "Best alpha: 46.41588833612782\n"
     ]
    },
    {
     "name": "stderr",
     "output_type": "stream",
     "text": [
      "Processing samples:   5%|▍         | 15/301 [07:21<4:12:30, 52.97s/it]"
     ]
    },
    {
     "name": "stdout",
     "output_type": "stream",
     "text": [
      "0.22710427051489301\n",
      "[WRITE] Saved result from sample_10_state_district_desired_20ppc_2000_size_seed_1234.pkl to /home/libe2152/optimizedsampling/0_results/india_secc/cluster_sampling_r2_scores.csv\n",
      "Fitting regression...\n",
      "NUM SAMPLES: 2000\n",
      "Best alpha: 3.593813663804626\n"
     ]
    },
    {
     "name": "stderr",
     "output_type": "stream",
     "text": [
      "Processing samples:   5%|▌         | 16/301 [07:52<3:39:21, 46.18s/it]"
     ]
    },
    {
     "name": "stdout",
     "output_type": "stream",
     "text": [
      "0.19019252380267238\n",
      "[WRITE] Saved result from sample_10_state_district_desired_20ppc_2000_size_seed_1415.pkl to /home/libe2152/optimizedsampling/0_results/india_secc/cluster_sampling_r2_scores.csv\n",
      "Fitting regression...\n",
      "NUM SAMPLES: 2000\n",
      "Best alpha: 3.593813663804626\n"
     ]
    },
    {
     "name": "stderr",
     "output_type": "stream",
     "text": [
      "Processing samples:   6%|▌         | 17/301 [08:14<3:05:12, 39.13s/it]"
     ]
    },
    {
     "name": "stdout",
     "output_type": "stream",
     "text": [
      "-0.14211302734564168\n",
      "[WRITE] Saved result from sample_10_state_district_desired_20ppc_2000_size_seed_42.pkl to /home/libe2152/optimizedsampling/0_results/india_secc/cluster_sampling_r2_scores.csv\n",
      "Fitting regression...\n",
      "NUM SAMPLES: 2000\n",
      "Best alpha: 599.4842503189421\n"
     ]
    },
    {
     "name": "stderr",
     "output_type": "stream",
     "text": [
      "Processing samples:   6%|▌         | 18/301 [09:01<3:15:35, 41.47s/it]"
     ]
    },
    {
     "name": "stdout",
     "output_type": "stream",
     "text": [
      "0.12709016006313223\n",
      "[WRITE] Saved result from sample_10_state_district_desired_20ppc_2000_size_seed_456.pkl to /home/libe2152/optimizedsampling/0_results/india_secc/cluster_sampling_r2_scores.csv\n",
      "Fitting regression...\n",
      "NUM SAMPLES: 2000\n",
      "Best alpha: 3.593813663804626\n"
     ]
    },
    {
     "name": "stderr",
     "output_type": "stream",
     "text": [
      "Processing samples:   6%|▋         | 19/301 [12:19<6:55:20, 88.37s/it]"
     ]
    },
    {
     "name": "stdout",
     "output_type": "stream",
     "text": [
      "0.23421041610401205\n",
      "[WRITE] Saved result from sample_10_state_district_desired_20ppc_2000_size_seed_5678.pkl to /home/libe2152/optimizedsampling/0_results/india_secc/cluster_sampling_r2_scores.csv\n",
      "Fitting regression...\n",
      "NUM SAMPLES: 2000\n",
      "Best alpha: 46.41588833612782\n"
     ]
    },
    {
     "name": "stderr",
     "output_type": "stream",
     "text": [
      "Processing samples:   7%|▋         | 20/301 [12:50<5:33:23, 71.19s/it]"
     ]
    },
    {
     "name": "stdout",
     "output_type": "stream",
     "text": [
      "0.17602573477815142\n",
      "[WRITE] Saved result from sample_10_state_district_desired_20ppc_2000_size_seed_789.pkl to /home/libe2152/optimizedsampling/0_results/india_secc/cluster_sampling_r2_scores.csv\n",
      "Fitting regression...\n",
      "NUM SAMPLES: 2000\n",
      "Best alpha: 3.593813663804626\n"
     ]
    },
    {
     "name": "stderr",
     "output_type": "stream",
     "text": [
      "Processing samples:   7%|▋         | 21/301 [13:20<4:34:56, 58.92s/it]"
     ]
    },
    {
     "name": "stdout",
     "output_type": "stream",
     "text": [
      "0.16261203012689263\n",
      "[WRITE] Saved result from sample_10_state_district_desired_20ppc_2000_size_seed_9101.pkl to /home/libe2152/optimizedsampling/0_results/india_secc/cluster_sampling_r2_scores.csv\n",
      "Fitting regression...\n",
      "NUM SAMPLES: 3000\n",
      "Best alpha: 46.41588833612782\n"
     ]
    },
    {
     "name": "stderr",
     "output_type": "stream",
     "text": [
      "Processing samples:   7%|▋         | 22/301 [16:30<7:36:41, 98.21s/it]"
     ]
    },
    {
     "name": "stdout",
     "output_type": "stream",
     "text": [
      "0.03357307362950446\n",
      "[WRITE] Saved result from sample_10_state_district_desired_20ppc_3000_size_seed_1.pkl to /home/libe2152/optimizedsampling/0_results/india_secc/cluster_sampling_r2_scores.csv\n",
      "Fitting regression...\n",
      "NUM SAMPLES: 3000\n",
      "Best alpha: 3.593813663804626\n"
     ]
    },
    {
     "name": "stderr",
     "output_type": "stream",
     "text": [
      "Processing samples:   8%|▊         | 23/301 [19:33<9:32:27, 123.55s/it]"
     ]
    },
    {
     "name": "stdout",
     "output_type": "stream",
     "text": [
      "0.20878336880315462\n",
      "[WRITE] Saved result from sample_10_state_district_desired_20ppc_3000_size_seed_1213.pkl to /home/libe2152/optimizedsampling/0_results/india_secc/cluster_sampling_r2_scores.csv\n",
      "Fitting regression...\n",
      "NUM SAMPLES: 3000\n",
      "Best alpha: 3.593813663804626\n"
     ]
    },
    {
     "name": "stderr",
     "output_type": "stream",
     "text": [
      "Processing samples:   8%|▊         | 24/301 [24:30<13:31:14, 175.72s/it]"
     ]
    },
    {
     "name": "stdout",
     "output_type": "stream",
     "text": [
      "0.21839670541667555\n",
      "[WRITE] Saved result from sample_10_state_district_desired_20ppc_3000_size_seed_123.pkl to /home/libe2152/optimizedsampling/0_results/india_secc/cluster_sampling_r2_scores.csv\n",
      "Fitting regression...\n",
      "NUM SAMPLES: 3000\n",
      "Best alpha: 46.41588833612782\n"
     ]
    },
    {
     "name": "stderr",
     "output_type": "stream",
     "text": [
      "Processing samples:   8%|▊         | 25/301 [28:33<15:01:09, 195.91s/it]"
     ]
    },
    {
     "name": "stdout",
     "output_type": "stream",
     "text": [
      "0.27173560083648685\n",
      "[WRITE] Saved result from sample_10_state_district_desired_20ppc_3000_size_seed_1234.pkl to /home/libe2152/optimizedsampling/0_results/india_secc/cluster_sampling_r2_scores.csv\n",
      "Fitting regression...\n",
      "NUM SAMPLES: 3000\n",
      "Best alpha: 3.593813663804626\n"
     ]
    },
    {
     "name": "stderr",
     "output_type": "stream",
     "text": [
      "Processing samples:   9%|▊         | 26/301 [33:05<16:42:15, 218.67s/it]"
     ]
    },
    {
     "name": "stdout",
     "output_type": "stream",
     "text": [
      "0.23235645641835345\n",
      "[WRITE] Saved result from sample_10_state_district_desired_20ppc_3000_size_seed_1415.pkl to /home/libe2152/optimizedsampling/0_results/india_secc/cluster_sampling_r2_scores.csv\n",
      "Fitting regression...\n",
      "NUM SAMPLES: 3000\n",
      "Best alpha: 3.593813663804626\n"
     ]
    },
    {
     "name": "stderr",
     "output_type": "stream",
     "text": [
      "Processing samples:   9%|▉         | 27/301 [37:19<17:26:35, 229.18s/it]"
     ]
    },
    {
     "name": "stdout",
     "output_type": "stream",
     "text": [
      "-0.038182014597679226\n",
      "[WRITE] Saved result from sample_10_state_district_desired_20ppc_3000_size_seed_42.pkl to /home/libe2152/optimizedsampling/0_results/india_secc/cluster_sampling_r2_scores.csv\n",
      "Fitting regression...\n",
      "NUM SAMPLES: 3000\n",
      "Best alpha: 599.4842503189421\n"
     ]
    },
    {
     "name": "stderr",
     "output_type": "stream",
     "text": [
      "Processing samples:   9%|▉         | 28/301 [42:02<18:35:53, 245.25s/it]"
     ]
    },
    {
     "name": "stdout",
     "output_type": "stream",
     "text": [
      "0.10687165521053554\n",
      "[WRITE] Saved result from sample_10_state_district_desired_20ppc_3000_size_seed_456.pkl to /home/libe2152/optimizedsampling/0_results/india_secc/cluster_sampling_r2_scores.csv\n",
      "Fitting regression...\n",
      "NUM SAMPLES: 3000\n",
      "Best alpha: 3.593813663804626\n"
     ]
    },
    {
     "name": "stderr",
     "output_type": "stream",
     "text": [
      "Processing samples:  10%|▉         | 29/301 [46:53<19:34:43, 259.13s/it]"
     ]
    },
    {
     "name": "stdout",
     "output_type": "stream",
     "text": [
      "0.28166371456537154\n",
      "[WRITE] Saved result from sample_10_state_district_desired_20ppc_3000_size_seed_5678.pkl to /home/libe2152/optimizedsampling/0_results/india_secc/cluster_sampling_r2_scores.csv\n",
      "Fitting regression...\n",
      "NUM SAMPLES: 3000\n",
      "Best alpha: 3.593813663804626\n"
     ]
    },
    {
     "name": "stderr",
     "output_type": "stream",
     "text": [
      "Processing samples:  10%|▉         | 30/301 [52:12<20:51:09, 277.01s/it]"
     ]
    },
    {
     "name": "stdout",
     "output_type": "stream",
     "text": [
      "0.2169979267490918\n",
      "[WRITE] Saved result from sample_10_state_district_desired_20ppc_3000_size_seed_789.pkl to /home/libe2152/optimizedsampling/0_results/india_secc/cluster_sampling_r2_scores.csv\n",
      "Fitting regression...\n",
      "NUM SAMPLES: 3000\n",
      "Best alpha: 599.4842503189421\n"
     ]
    },
    {
     "name": "stderr",
     "output_type": "stream",
     "text": [
      "Processing samples:  10%|█         | 31/301 [55:38<19:10:45, 255.73s/it]"
     ]
    },
    {
     "name": "stdout",
     "output_type": "stream",
     "text": [
      "0.23642441854881335\n",
      "[WRITE] Saved result from sample_10_state_district_desired_20ppc_3000_size_seed_9101.pkl to /home/libe2152/optimizedsampling/0_results/india_secc/cluster_sampling_r2_scores.csv\n",
      "Fitting regression...\n",
      "NUM SAMPLES: 4000\n",
      "Best alpha: 46.41588833612782\n"
     ]
    },
    {
     "name": "stderr",
     "output_type": "stream",
     "text": [
      "Processing samples:  11%|█         | 32/301 [1:01:32<21:18:49, 285.24s/it]"
     ]
    },
    {
     "name": "stdout",
     "output_type": "stream",
     "text": [
      "0.0500934621619229\n",
      "[WRITE] Saved result from sample_10_state_district_desired_20ppc_4000_size_seed_1.pkl to /home/libe2152/optimizedsampling/0_results/india_secc/cluster_sampling_r2_scores.csv\n",
      "Fitting regression...\n",
      "NUM SAMPLES: 4000\n",
      "Best alpha: 46.41588833612782\n"
     ]
    },
    {
     "name": "stderr",
     "output_type": "stream",
     "text": [
      "Processing samples:  11%|█         | 33/301 [1:07:08<22:22:32, 300.57s/it]"
     ]
    },
    {
     "name": "stdout",
     "output_type": "stream",
     "text": [
      "0.2966571248791905\n",
      "[WRITE] Saved result from sample_10_state_district_desired_20ppc_4000_size_seed_1213.pkl to /home/libe2152/optimizedsampling/0_results/india_secc/cluster_sampling_r2_scores.csv\n",
      "Fitting regression...\n",
      "NUM SAMPLES: 4000\n",
      "Best alpha: 3.593813663804626\n"
     ]
    },
    {
     "name": "stderr",
     "output_type": "stream",
     "text": [
      "Processing samples:  11%|█▏        | 34/301 [1:13:55<24:39:38, 332.50s/it]"
     ]
    },
    {
     "name": "stdout",
     "output_type": "stream",
     "text": [
      "0.07161571826899404\n",
      "[WRITE] Saved result from sample_10_state_district_desired_20ppc_4000_size_seed_123.pkl to /home/libe2152/optimizedsampling/0_results/india_secc/cluster_sampling_r2_scores.csv\n",
      "Fitting regression...\n",
      "NUM SAMPLES: 4000\n",
      "Best alpha: 3.593813663804626\n"
     ]
    },
    {
     "name": "stderr",
     "output_type": "stream",
     "text": [
      "Processing samples:  12%|█▏        | 35/301 [1:20:12<25:33:20, 345.87s/it]"
     ]
    },
    {
     "name": "stdout",
     "output_type": "stream",
     "text": [
      "0.2926711017813993\n",
      "[WRITE] Saved result from sample_10_state_district_desired_20ppc_4000_size_seed_1234.pkl to /home/libe2152/optimizedsampling/0_results/india_secc/cluster_sampling_r2_scores.csv\n",
      "Fitting regression...\n",
      "NUM SAMPLES: 4000\n",
      "Best alpha: 3.593813663804626\n"
     ]
    },
    {
     "name": "stderr",
     "output_type": "stream",
     "text": [
      "Processing samples:  12%|█▏        | 36/301 [1:26:07<25:39:47, 348.63s/it]"
     ]
    },
    {
     "name": "stdout",
     "output_type": "stream",
     "text": [
      "0.2194081316266796\n",
      "[WRITE] Saved result from sample_10_state_district_desired_20ppc_4000_size_seed_1415.pkl to /home/libe2152/optimizedsampling/0_results/india_secc/cluster_sampling_r2_scores.csv\n",
      "Fitting regression...\n",
      "NUM SAMPLES: 4000\n",
      "Best alpha: 3.593813663804626\n"
     ]
    },
    {
     "name": "stderr",
     "output_type": "stream",
     "text": [
      "Processing samples:  12%|█▏        | 37/301 [1:32:49<26:44:12, 364.59s/it]"
     ]
    },
    {
     "name": "stdout",
     "output_type": "stream",
     "text": [
      "0.12752848248225757\n",
      "[WRITE] Saved result from sample_10_state_district_desired_20ppc_4000_size_seed_42.pkl to /home/libe2152/optimizedsampling/0_results/india_secc/cluster_sampling_r2_scores.csv\n",
      "Fitting regression...\n",
      "NUM SAMPLES: 4000\n",
      "Best alpha: 3.593813663804626\n"
     ]
    },
    {
     "name": "stderr",
     "output_type": "stream",
     "text": [
      "Processing samples:  13%|█▎        | 38/301 [1:38:46<26:27:11, 362.10s/it]"
     ]
    },
    {
     "name": "stdout",
     "output_type": "stream",
     "text": [
      "0.16529402271704297\n",
      "[WRITE] Saved result from sample_10_state_district_desired_20ppc_4000_size_seed_456.pkl to /home/libe2152/optimizedsampling/0_results/india_secc/cluster_sampling_r2_scores.csv\n",
      "Fitting regression...\n",
      "NUM SAMPLES: 4000\n",
      "Best alpha: 0.2782559402207126\n"
     ]
    },
    {
     "name": "stderr",
     "output_type": "stream",
     "text": [
      "Processing samples:  13%|█▎        | 39/301 [1:44:50<26:23:49, 362.71s/it]"
     ]
    },
    {
     "name": "stdout",
     "output_type": "stream",
     "text": [
      "0.2619656507918463\n",
      "[WRITE] Saved result from sample_10_state_district_desired_20ppc_4000_size_seed_5678.pkl to /home/libe2152/optimizedsampling/0_results/india_secc/cluster_sampling_r2_scores.csv\n",
      "Fitting regression...\n",
      "NUM SAMPLES: 4000\n",
      "Best alpha: 3.593813663804626\n"
     ]
    },
    {
     "name": "stderr",
     "output_type": "stream",
     "text": [
      "Processing samples:  13%|█▎        | 40/301 [1:50:03<25:13:36, 347.96s/it]"
     ]
    },
    {
     "name": "stdout",
     "output_type": "stream",
     "text": [
      "0.2647977002198757\n",
      "[WRITE] Saved result from sample_10_state_district_desired_20ppc_4000_size_seed_789.pkl to /home/libe2152/optimizedsampling/0_results/india_secc/cluster_sampling_r2_scores.csv\n",
      "Fitting regression...\n",
      "NUM SAMPLES: 4000\n",
      "Best alpha: 46.41588833612782\n"
     ]
    },
    {
     "name": "stderr",
     "output_type": "stream",
     "text": [
      "Processing samples:  14%|█▎        | 41/301 [1:56:48<26:21:43, 365.01s/it]"
     ]
    },
    {
     "name": "stdout",
     "output_type": "stream",
     "text": [
      "0.29188469880374035\n",
      "[WRITE] Saved result from sample_10_state_district_desired_20ppc_4000_size_seed_9101.pkl to /home/libe2152/optimizedsampling/0_results/india_secc/cluster_sampling_r2_scores.csv\n",
      "Fitting regression...\n",
      "NUM SAMPLES: 5000\n",
      "Best alpha: 46.41588833612782\n"
     ]
    },
    {
     "name": "stderr",
     "output_type": "stream",
     "text": [
      "Processing samples:  14%|█▍        | 42/301 [2:04:09<27:54:39, 387.95s/it]"
     ]
    },
    {
     "name": "stdout",
     "output_type": "stream",
     "text": [
      "0.03158877617026146\n",
      "[WRITE] Saved result from sample_10_state_district_desired_20ppc_5000_size_seed_1.pkl to /home/libe2152/optimizedsampling/0_results/india_secc/cluster_sampling_r2_scores.csv\n",
      "Fitting regression...\n",
      "NUM SAMPLES: 5000\n",
      "Best alpha: 3.593813663804626\n"
     ]
    },
    {
     "name": "stderr",
     "output_type": "stream",
     "text": [
      "Processing samples:  14%|█▍        | 43/301 [2:11:36<29:03:56, 405.57s/it]"
     ]
    },
    {
     "name": "stdout",
     "output_type": "stream",
     "text": [
      "0.318329479836167\n",
      "[WRITE] Saved result from sample_10_state_district_desired_20ppc_5000_size_seed_1213.pkl to /home/libe2152/optimizedsampling/0_results/india_secc/cluster_sampling_r2_scores.csv\n",
      "Fitting regression...\n",
      "NUM SAMPLES: 5000\n",
      "Best alpha: 0.2782559402207126\n"
     ]
    },
    {
     "name": "stderr",
     "output_type": "stream",
     "text": [
      "Processing samples:  15%|█▍        | 44/301 [2:19:24<30:17:09, 424.24s/it]"
     ]
    },
    {
     "name": "stdout",
     "output_type": "stream",
     "text": [
      "0.15866004864305983\n",
      "[WRITE] Saved result from sample_10_state_district_desired_20ppc_5000_size_seed_123.pkl to /home/libe2152/optimizedsampling/0_results/india_secc/cluster_sampling_r2_scores.csv\n",
      "Fitting regression...\n",
      "NUM SAMPLES: 5000\n",
      "Best alpha: 3.593813663804626\n"
     ]
    },
    {
     "name": "stderr",
     "output_type": "stream",
     "text": [
      "Processing samples:  15%|█▍        | 45/301 [2:26:53<30:41:14, 431.54s/it]"
     ]
    },
    {
     "name": "stdout",
     "output_type": "stream",
     "text": [
      "0.3197444217854013\n",
      "[WRITE] Saved result from sample_10_state_district_desired_20ppc_5000_size_seed_1234.pkl to /home/libe2152/optimizedsampling/0_results/india_secc/cluster_sampling_r2_scores.csv\n",
      "Fitting regression...\n",
      "NUM SAMPLES: 5000\n",
      "Best alpha: 3.593813663804626\n"
     ]
    },
    {
     "name": "stderr",
     "output_type": "stream",
     "text": [
      "Processing samples:  15%|█▌        | 46/301 [2:34:53<31:35:56, 446.10s/it]"
     ]
    },
    {
     "name": "stdout",
     "output_type": "stream",
     "text": [
      "0.25556840968337524\n",
      "[WRITE] Saved result from sample_10_state_district_desired_20ppc_5000_size_seed_1415.pkl to /home/libe2152/optimizedsampling/0_results/india_secc/cluster_sampling_r2_scores.csv\n",
      "Fitting regression...\n",
      "NUM SAMPLES: 5000\n",
      "Best alpha: 3.593813663804626\n"
     ]
    },
    {
     "name": "stderr",
     "output_type": "stream",
     "text": [
      "Processing samples:  16%|█▌        | 47/301 [2:42:02<31:07:46, 441.21s/it]"
     ]
    },
    {
     "name": "stdout",
     "output_type": "stream",
     "text": [
      "0.1566004897403218\n",
      "[WRITE] Saved result from sample_10_state_district_desired_20ppc_5000_size_seed_42.pkl to /home/libe2152/optimizedsampling/0_results/india_secc/cluster_sampling_r2_scores.csv\n",
      "Fitting regression...\n",
      "NUM SAMPLES: 5000\n",
      "Best alpha: 3.593813663804626\n"
     ]
    },
    {
     "name": "stderr",
     "output_type": "stream",
     "text": [
      "Processing samples:  16%|█▌        | 48/301 [2:50:06<31:53:41, 453.84s/it]"
     ]
    },
    {
     "name": "stdout",
     "output_type": "stream",
     "text": [
      "0.1615823483529849\n",
      "[WRITE] Saved result from sample_10_state_district_desired_20ppc_5000_size_seed_456.pkl to /home/libe2152/optimizedsampling/0_results/india_secc/cluster_sampling_r2_scores.csv\n",
      "Fitting regression...\n",
      "NUM SAMPLES: 5000\n",
      "Best alpha: 0.2782559402207126\n"
     ]
    },
    {
     "name": "stderr",
     "output_type": "stream",
     "text": [
      "Processing samples:  16%|█▋        | 49/301 [2:57:18<31:19:33, 447.51s/it]"
     ]
    },
    {
     "name": "stdout",
     "output_type": "stream",
     "text": [
      "0.2745026111270298\n",
      "[WRITE] Saved result from sample_10_state_district_desired_20ppc_5000_size_seed_5678.pkl to /home/libe2152/optimizedsampling/0_results/india_secc/cluster_sampling_r2_scores.csv\n",
      "Fitting regression...\n",
      "NUM SAMPLES: 5000\n",
      "Best alpha: 3.593813663804626\n"
     ]
    },
    {
     "name": "stderr",
     "output_type": "stream",
     "text": [
      "Processing samples:  17%|█▋        | 50/301 [3:04:27<30:47:52, 441.72s/it]"
     ]
    },
    {
     "name": "stdout",
     "output_type": "stream",
     "text": [
      "0.2569105090536379\n",
      "[WRITE] Saved result from sample_10_state_district_desired_20ppc_5000_size_seed_789.pkl to /home/libe2152/optimizedsampling/0_results/india_secc/cluster_sampling_r2_scores.csv\n",
      "Fitting regression...\n",
      "NUM SAMPLES: 5000\n"
     ]
    }
   ],
   "source": [
    "features_path = f\"/home/libe2152/optimizedsampling/0_data/features/india_secc/India_SECC_with_splits_4000.pkl\"\n",
    "cluster_sampling_dir= f\"/home/libe2152/optimizedsampling/0_data/initial_samples/india_secc/cluster_sampling/randomstrata\"\n",
    "convenience_sampling_urban_dir = f\"/home/libe2152/optimizedsampling/0_data/initial_samples/india_secc/convenience_sampling/urban_based\"\n",
    "convenience_sampling_region_dir = f\"/home/libe2152/optimizedsampling/0_data/initial_samples/india_secc/convenience_sampling/cluster_based\"\n",
    "random_sampling_dir = f\"/home/libe2152/optimizedsampling/0_data/initial_samples/india_secc/random_sampling\"\n",
    "\n",
    "results_dir = f\"/home/libe2152/optimizedsampling/0_results/india_secc\"\n",
    "\n",
    "# # Run cluster sampling R2 scores\n",
    "cluster_sampling_r2_scores(\n",
    "    features_path=features_path,\n",
    "    sampling_dir=cluster_sampling_dir,\n",
    "    results_dir=results_dir,\n",
    "    ridge_regression_fn=ridge_regression,\n",
    "    verbose=True,\n",
    ")\n",
    "\n",
    "# # Run convenience sampling R2 scores\n",
    "# convenience_sampling_r2_scores(\n",
    "#     features_path=features_path,\n",
    "#     sampling_dir=convenience_sampling_urban_dir,\n",
    "#     results_dir=results_dir,\n",
    "#     ridge_regression_fn=ridge_regression,\n",
    "#     verbose=True,\n",
    "# )\n",
    "\n",
    "# convenience_sampling_r2_scores(\n",
    "#     features_path=features_path,\n",
    "#     sampling_dir=convenience_sampling_region_dir,\n",
    "#     results_dir=results_dir,\n",
    "#     ridge_regression_fn=ridge_regression,\n",
    "#     verbose=True,\n",
    "# )\n",
    "\n",
    "# Run random sampling R2 scores\n",
    "# random_sampling_r2_scores(\n",
    "#     features_path=features_path,\n",
    "#     sampling_dir=random_sampling_dir,\n",
    "#     results_dir=results_dir,\n",
    "#     ridge_regression_fn=ridge_regression,\n",
    "#     verbose=True,\n",
    "# )"
   ]
  }
 ],
 "metadata": {
  "kernelspec": {
   "display_name": "mosaiks",
   "language": "python",
   "name": "python3"
  },
  "language_info": {
   "codemirror_mode": {
    "name": "ipython",
    "version": 3
   },
   "file_extension": ".py",
   "mimetype": "text/x-python",
   "name": "python",
   "nbconvert_exporter": "python",
   "pygments_lexer": "ipython3",
   "version": "3.11.11"
  }
 },
 "nbformat": 4,
 "nbformat_minor": 5
}
