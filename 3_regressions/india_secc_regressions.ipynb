{
 "cells": [
  {
   "cell_type": "code",
   "execution_count": 1,
   "id": "a1c9fd8a",
   "metadata": {},
   "outputs": [],
   "source": [
    "from regressions import ridge_regression\n",
    "from initial_set_regressions import cluster_sampling_r2_scores, convenience_sampling_r2_scores, random_sampling_r2_scores"
   ]
  },
  {
   "cell_type": "markdown",
   "id": "7294efcf",
   "metadata": {},
   "source": [
    "# India SECC Initial Set Regressions"
   ]
  },
  {
   "cell_type": "code",
   "execution_count": 2,
   "id": "a4da2180",
   "metadata": {},
   "outputs": [
    {
     "name": "stdout",
     "output_type": "stream",
     "text": [
      "Loading features from /home/libe2152/optimizedsampling/0_data/features/india_secc/India_SECC_with_splits_4000.pkl ...\n",
      "Processing samples from /home/libe2152/optimizedsampling/0_data/initial_samples/india_secc/cluster_sampling ...\n"
     ]
    },
    {
     "name": "stderr",
     "output_type": "stream",
     "text": [
      "Processing samples:   0%|          | 0/377 [00:00<?, ?it/s]"
     ]
    },
    {
     "name": "stdout",
     "output_type": "stream",
     "text": [
      "Fitting regression...\n",
      "NUM SAMPLES: 76\n",
      "Best alpha: 599.4842503189421\n"
     ]
    },
    {
     "name": "stderr",
     "output_type": "stream",
     "text": [
      "Processing samples:   0%|          | 1/377 [00:00<03:43,  1.68it/s]"
     ]
    },
    {
     "name": "stdout",
     "output_type": "stream",
     "text": [
      "-4.714638179288853\n",
      "Warning: Severe overfitting. Add more samples.\n",
      "[WRITE] Saved result from IDs_state_strata_district_clusters_10_points_per_cluster_100_size_seed_1.pkl\n",
      "Fitting regression...\n",
      "NUM SAMPLES: 79\n",
      "Best alpha: 599.4842503189421\n"
     ]
    },
    {
     "name": "stderr",
     "output_type": "stream",
     "text": [
      "Processing samples:   1%|          | 2/377 [00:01<03:54,  1.60it/s]"
     ]
    },
    {
     "name": "stdout",
     "output_type": "stream",
     "text": [
      "-0.1364610172947187\n",
      "[WRITE] Saved result from IDs_state_strata_district_clusters_10_points_per_cluster_100_size_seed_1213.pkl\n",
      "Fitting regression...\n",
      "NUM SAMPLES: 78\n",
      "Best alpha: 100000.0\n"
     ]
    },
    {
     "name": "stderr",
     "output_type": "stream",
     "text": [
      "Processing samples:   1%|          | 3/377 [00:01<03:53,  1.60it/s]"
     ]
    },
    {
     "name": "stdout",
     "output_type": "stream",
     "text": [
      "-0.35168568943413936\n",
      "[WRITE] Saved result from IDs_state_strata_district_clusters_10_points_per_cluster_100_size_seed_123.pkl\n",
      "Fitting regression...\n",
      "NUM SAMPLES: 86\n",
      "Best alpha: 599.4842503189421\n"
     ]
    },
    {
     "name": "stderr",
     "output_type": "stream",
     "text": [
      "Processing samples:   1%|          | 4/377 [00:02<04:06,  1.51it/s]"
     ]
    },
    {
     "name": "stdout",
     "output_type": "stream",
     "text": [
      "-3.051437043962106\n",
      "Warning: Severe overfitting. Add more samples.\n",
      "[WRITE] Saved result from IDs_state_strata_district_clusters_10_points_per_cluster_100_size_seed_1234.pkl\n",
      "Fitting regression...\n",
      "NUM SAMPLES: 81\n",
      "Best alpha: 599.4842503189421\n"
     ]
    },
    {
     "name": "stderr",
     "output_type": "stream",
     "text": [
      "Processing samples:   1%|▏         | 5/377 [00:03<04:01,  1.54it/s]"
     ]
    },
    {
     "name": "stdout",
     "output_type": "stream",
     "text": [
      "-1.5055091297674914\n",
      "Warning: Severe overfitting. Add more samples.\n",
      "[WRITE] Saved result from IDs_state_strata_district_clusters_10_points_per_cluster_100_size_seed_1415.pkl\n",
      "Fitting regression...\n",
      "NUM SAMPLES: 78\n",
      "Best alpha: 599.4842503189421\n"
     ]
    },
    {
     "name": "stderr",
     "output_type": "stream",
     "text": [
      "Processing samples:   2%|▏         | 6/377 [00:03<03:58,  1.56it/s]"
     ]
    },
    {
     "name": "stdout",
     "output_type": "stream",
     "text": [
      "-0.42437227265650046\n",
      "[WRITE] Saved result from IDs_state_strata_district_clusters_10_points_per_cluster_100_size_seed_42.pkl\n",
      "Fitting regression...\n",
      "NUM SAMPLES: 81\n",
      "Best alpha: 7742.636826811277\n"
     ]
    },
    {
     "name": "stderr",
     "output_type": "stream",
     "text": [
      "Processing samples:   2%|▏         | 7/377 [00:04<03:54,  1.58it/s]"
     ]
    },
    {
     "name": "stdout",
     "output_type": "stream",
     "text": [
      "-0.730144047174087\n",
      "[WRITE] Saved result from IDs_state_strata_district_clusters_10_points_per_cluster_100_size_seed_456.pkl\n",
      "Fitting regression...\n",
      "NUM SAMPLES: 80\n",
      "Best alpha: 7742.636826811277\n"
     ]
    },
    {
     "name": "stderr",
     "output_type": "stream",
     "text": [
      "Processing samples:   2%|▏         | 8/377 [00:05<03:58,  1.54it/s]"
     ]
    },
    {
     "name": "stdout",
     "output_type": "stream",
     "text": [
      "-0.7222582569357563\n",
      "[WRITE] Saved result from IDs_state_strata_district_clusters_10_points_per_cluster_100_size_seed_5678.pkl\n",
      "Fitting regression...\n",
      "NUM SAMPLES: 88\n",
      "Best alpha: 599.4842503189421\n"
     ]
    },
    {
     "name": "stderr",
     "output_type": "stream",
     "text": [
      "Processing samples:   2%|▏         | 9/377 [00:05<04:00,  1.53it/s]"
     ]
    },
    {
     "name": "stdout",
     "output_type": "stream",
     "text": [
      "-0.5777700966576464\n",
      "[WRITE] Saved result from IDs_state_strata_district_clusters_10_points_per_cluster_100_size_seed_789.pkl\n",
      "Fitting regression...\n",
      "NUM SAMPLES: 83\n",
      "Best alpha: 7742.636826811277\n"
     ]
    },
    {
     "name": "stderr",
     "output_type": "stream",
     "text": [
      "Processing samples:   3%|▎         | 10/377 [00:06<04:06,  1.49it/s]"
     ]
    },
    {
     "name": "stdout",
     "output_type": "stream",
     "text": [
      "-0.18698104861528253\n",
      "[WRITE] Saved result from IDs_state_strata_district_clusters_10_points_per_cluster_100_size_seed_9101.pkl\n",
      "Fitting regression...\n",
      "NUM SAMPLES: 151\n",
      "Best alpha: 599.4842503189421\n"
     ]
    },
    {
     "name": "stderr",
     "output_type": "stream",
     "text": [
      "Processing samples:   3%|▎         | 11/377 [00:08<06:28,  1.06s/it]"
     ]
    },
    {
     "name": "stdout",
     "output_type": "stream",
     "text": [
      "-0.09253538560505947\n",
      "[WRITE] Saved result from IDs_state_strata_district_clusters_10_points_per_cluster_200_size_seed_1.pkl\n",
      "Fitting regression...\n",
      "NUM SAMPLES: 162\n",
      "Best alpha: 46.41588833612782\n"
     ]
    },
    {
     "name": "stderr",
     "output_type": "stream",
     "text": [
      "Processing samples:   3%|▎         | 12/377 [00:10<08:42,  1.43s/it]"
     ]
    },
    {
     "name": "stdout",
     "output_type": "stream",
     "text": [
      "-0.12400334535772384\n",
      "[WRITE] Saved result from IDs_state_strata_district_clusters_10_points_per_cluster_200_size_seed_1213.pkl\n",
      "Fitting regression...\n",
      "NUM SAMPLES: 163\n",
      "Best alpha: 100000.0\n"
     ]
    },
    {
     "name": "stderr",
     "output_type": "stream",
     "text": [
      "Processing samples:   3%|▎         | 13/377 [00:12<10:03,  1.66s/it]"
     ]
    },
    {
     "name": "stdout",
     "output_type": "stream",
     "text": [
      "0.03277070880217181\n",
      "[WRITE] Saved result from IDs_state_strata_district_clusters_10_points_per_cluster_200_size_seed_123.pkl\n",
      "Fitting regression...\n",
      "NUM SAMPLES: 172\n",
      "Best alpha: 599.4842503189421\n"
     ]
    },
    {
     "name": "stderr",
     "output_type": "stream",
     "text": [
      "Processing samples:   4%|▎         | 14/377 [00:15<11:02,  1.83s/it]"
     ]
    },
    {
     "name": "stdout",
     "output_type": "stream",
     "text": [
      "-0.29559904382164714\n",
      "[WRITE] Saved result from IDs_state_strata_district_clusters_10_points_per_cluster_200_size_seed_1234.pkl\n",
      "Fitting regression...\n",
      "NUM SAMPLES: 157\n",
      "Best alpha: 599.4842503189421\n"
     ]
    },
    {
     "name": "stderr",
     "output_type": "stream",
     "text": [
      "Processing samples:   4%|▍         | 15/377 [00:16<10:45,  1.78s/it]"
     ]
    },
    {
     "name": "stdout",
     "output_type": "stream",
     "text": [
      "-0.42611737559970964\n",
      "[WRITE] Saved result from IDs_state_strata_district_clusters_10_points_per_cluster_200_size_seed_1415.pkl\n",
      "Fitting regression...\n",
      "NUM SAMPLES: 156\n",
      "Best alpha: 599.4842503189421\n"
     ]
    },
    {
     "name": "stderr",
     "output_type": "stream",
     "text": [
      "Processing samples:   4%|▍         | 16/377 [00:18<10:55,  1.82s/it]"
     ]
    },
    {
     "name": "stdout",
     "output_type": "stream",
     "text": [
      "-0.10097771216202678\n",
      "[WRITE] Saved result from IDs_state_strata_district_clusters_10_points_per_cluster_200_size_seed_42.pkl\n",
      "Fitting regression...\n",
      "NUM SAMPLES: 166\n",
      "Best alpha: 46.41588833612782\n"
     ]
    },
    {
     "name": "stderr",
     "output_type": "stream",
     "text": [
      "Processing samples:   5%|▍         | 17/377 [00:20<10:56,  1.82s/it]"
     ]
    },
    {
     "name": "stdout",
     "output_type": "stream",
     "text": [
      "-0.2694916540738499\n",
      "[WRITE] Saved result from IDs_state_strata_district_clusters_10_points_per_cluster_200_size_seed_456.pkl\n",
      "Fitting regression...\n",
      "NUM SAMPLES: 160\n",
      "Best alpha: 599.4842503189421\n"
     ]
    },
    {
     "name": "stderr",
     "output_type": "stream",
     "text": [
      "Processing samples:   5%|▍         | 18/377 [00:22<11:36,  1.94s/it]"
     ]
    },
    {
     "name": "stdout",
     "output_type": "stream",
     "text": [
      "-5.985223615259311\n",
      "Warning: Severe overfitting. Add more samples.\n",
      "[WRITE] Saved result from IDs_state_strata_district_clusters_10_points_per_cluster_200_size_seed_5678.pkl\n",
      "Fitting regression...\n",
      "NUM SAMPLES: 174\n",
      "Best alpha: 599.4842503189421\n"
     ]
    },
    {
     "name": "stderr",
     "output_type": "stream",
     "text": [
      "Processing samples:   5%|▌         | 19/377 [00:24<11:45,  1.97s/it]"
     ]
    },
    {
     "name": "stdout",
     "output_type": "stream",
     "text": [
      "-0.013395806545203337\n",
      "[WRITE] Saved result from IDs_state_strata_district_clusters_10_points_per_cluster_200_size_seed_789.pkl\n",
      "Fitting regression...\n",
      "NUM SAMPLES: 163\n",
      "Best alpha: 7742.636826811277\n"
     ]
    },
    {
     "name": "stderr",
     "output_type": "stream",
     "text": [
      "Processing samples:   5%|▌         | 20/377 [00:27<12:44,  2.14s/it]"
     ]
    },
    {
     "name": "stdout",
     "output_type": "stream",
     "text": [
      "-0.06755182926500325\n",
      "[WRITE] Saved result from IDs_state_strata_district_clusters_10_points_per_cluster_200_size_seed_9101.pkl\n",
      "Fitting regression...\n",
      "NUM SAMPLES: 234\n",
      "Best alpha: 599.4842503189421\n"
     ]
    },
    {
     "name": "stderr",
     "output_type": "stream",
     "text": [
      "Processing samples:   6%|▌         | 21/377 [00:29<13:14,  2.23s/it]"
     ]
    },
    {
     "name": "stdout",
     "output_type": "stream",
     "text": [
      "-0.02733022383220063\n",
      "[WRITE] Saved result from IDs_state_strata_district_clusters_10_points_per_cluster_300_size_seed_1.pkl\n",
      "Fitting regression...\n",
      "NUM SAMPLES: 239\n",
      "Best alpha: 46.41588833612782\n"
     ]
    },
    {
     "name": "stderr",
     "output_type": "stream",
     "text": [
      "Processing samples:   6%|▌         | 22/377 [00:32<13:58,  2.36s/it]"
     ]
    },
    {
     "name": "stdout",
     "output_type": "stream",
     "text": [
      "-0.06305550163605456\n",
      "[WRITE] Saved result from IDs_state_strata_district_clusters_10_points_per_cluster_300_size_seed_1213.pkl\n",
      "Fitting regression...\n",
      "NUM SAMPLES: 241\n",
      "Best alpha: 599.4842503189421\n"
     ]
    },
    {
     "name": "stderr",
     "output_type": "stream",
     "text": [
      "Processing samples:   6%|▌         | 23/377 [00:35<15:50,  2.69s/it]"
     ]
    },
    {
     "name": "stdout",
     "output_type": "stream",
     "text": [
      "0.07688968074608482\n",
      "[WRITE] Saved result from IDs_state_strata_district_clusters_10_points_per_cluster_300_size_seed_123.pkl\n",
      "Fitting regression...\n",
      "NUM SAMPLES: 254\n",
      "Best alpha: 46.41588833612782\n"
     ]
    },
    {
     "name": "stderr",
     "output_type": "stream",
     "text": [
      "Processing samples:   6%|▋         | 24/377 [00:38<15:44,  2.68s/it]"
     ]
    },
    {
     "name": "stdout",
     "output_type": "stream",
     "text": [
      "-0.02900230139424731\n",
      "[WRITE] Saved result from IDs_state_strata_district_clusters_10_points_per_cluster_300_size_seed_1234.pkl\n",
      "Fitting regression...\n",
      "NUM SAMPLES: 232\n",
      "Best alpha: 46.41588833612782\n"
     ]
    },
    {
     "name": "stderr",
     "output_type": "stream",
     "text": [
      "Processing samples:   7%|▋         | 25/377 [00:40<14:58,  2.55s/it]"
     ]
    },
    {
     "name": "stdout",
     "output_type": "stream",
     "text": [
      "-4.837674886234617\n",
      "Warning: Severe overfitting. Add more samples.\n",
      "[WRITE] Saved result from IDs_state_strata_district_clusters_10_points_per_cluster_300_size_seed_1415.pkl\n",
      "Fitting regression...\n",
      "NUM SAMPLES: 235\n",
      "Best alpha: 7742.636826811277\n"
     ]
    },
    {
     "name": "stderr",
     "output_type": "stream",
     "text": [
      "Processing samples:   7%|▋         | 26/377 [00:43<15:09,  2.59s/it]"
     ]
    },
    {
     "name": "stdout",
     "output_type": "stream",
     "text": [
      "0.04859400194017649\n",
      "[WRITE] Saved result from IDs_state_strata_district_clusters_10_points_per_cluster_300_size_seed_42.pkl\n",
      "Fitting regression...\n",
      "NUM SAMPLES: 241\n",
      "Best alpha: 46.41588833612782\n"
     ]
    },
    {
     "name": "stderr",
     "output_type": "stream",
     "text": [
      "Processing samples:   7%|▋         | 27/377 [00:46<16:14,  2.78s/it]"
     ]
    },
    {
     "name": "stdout",
     "output_type": "stream",
     "text": [
      "-0.22132490599170596\n",
      "[WRITE] Saved result from IDs_state_strata_district_clusters_10_points_per_cluster_300_size_seed_456.pkl\n",
      "Fitting regression...\n",
      "NUM SAMPLES: 242\n",
      "Best alpha: 46.41588833612782\n"
     ]
    },
    {
     "name": "stderr",
     "output_type": "stream",
     "text": [
      "Processing samples:   7%|▋         | 28/377 [00:49<16:16,  2.80s/it]"
     ]
    },
    {
     "name": "stdout",
     "output_type": "stream",
     "text": [
      "-1.511132567347591\n",
      "Warning: Severe overfitting. Add more samples.\n",
      "[WRITE] Saved result from IDs_state_strata_district_clusters_10_points_per_cluster_300_size_seed_5678.pkl\n",
      "Fitting regression...\n",
      "NUM SAMPLES: 251\n",
      "Best alpha: 599.4842503189421\n"
     ]
    },
    {
     "name": "stderr",
     "output_type": "stream",
     "text": [
      "Processing samples:   8%|▊         | 29/377 [00:52<16:25,  2.83s/it]"
     ]
    },
    {
     "name": "stdout",
     "output_type": "stream",
     "text": [
      "0.1059475131920965\n",
      "[WRITE] Saved result from IDs_state_strata_district_clusters_10_points_per_cluster_300_size_seed_789.pkl\n",
      "Fitting regression...\n",
      "NUM SAMPLES: 234\n",
      "Best alpha: 599.4842503189421\n"
     ]
    },
    {
     "name": "stderr",
     "output_type": "stream",
     "text": [
      "Processing samples:   8%|▊         | 30/377 [00:55<16:10,  2.80s/it]"
     ]
    },
    {
     "name": "stdout",
     "output_type": "stream",
     "text": [
      "0.022010769820967058\n",
      "[WRITE] Saved result from IDs_state_strata_district_clusters_10_points_per_cluster_300_size_seed_9101.pkl\n",
      "Fitting regression...\n",
      "NUM SAMPLES: 315\n",
      "Best alpha: 599.4842503189421\n"
     ]
    },
    {
     "name": "stderr",
     "output_type": "stream",
     "text": [
      "Processing samples:   8%|▊         | 31/377 [00:58<16:35,  2.88s/it]"
     ]
    },
    {
     "name": "stdout",
     "output_type": "stream",
     "text": [
      "0.031176241649661485\n",
      "[WRITE] Saved result from IDs_state_strata_district_clusters_10_points_per_cluster_400_size_seed_1.pkl\n",
      "Fitting regression...\n",
      "NUM SAMPLES: 327\n",
      "Best alpha: 46.41588833612782\n"
     ]
    },
    {
     "name": "stderr",
     "output_type": "stream",
     "text": [
      "Processing samples:   8%|▊         | 32/377 [01:01<17:08,  2.98s/it]"
     ]
    },
    {
     "name": "stdout",
     "output_type": "stream",
     "text": [
      "-0.01364963893418425\n",
      "[WRITE] Saved result from IDs_state_strata_district_clusters_10_points_per_cluster_400_size_seed_1213.pkl\n",
      "Fitting regression...\n",
      "NUM SAMPLES: 326\n",
      "Best alpha: 599.4842503189421\n"
     ]
    },
    {
     "name": "stderr",
     "output_type": "stream",
     "text": [
      "Processing samples:   9%|▉         | 33/377 [01:04<17:50,  3.11s/it]"
     ]
    },
    {
     "name": "stdout",
     "output_type": "stream",
     "text": [
      "0.15248199418023034\n",
      "[WRITE] Saved result from IDs_state_strata_district_clusters_10_points_per_cluster_400_size_seed_123.pkl\n",
      "Fitting regression...\n",
      "NUM SAMPLES: 338\n",
      "Best alpha: 599.4842503189421\n"
     ]
    },
    {
     "name": "stderr",
     "output_type": "stream",
     "text": [
      "Processing samples:   9%|▉         | 34/377 [01:08<18:37,  3.26s/it]"
     ]
    },
    {
     "name": "stdout",
     "output_type": "stream",
     "text": [
      "0.050809843921225006\n",
      "[WRITE] Saved result from IDs_state_strata_district_clusters_10_points_per_cluster_400_size_seed_1234.pkl\n",
      "Fitting regression...\n",
      "NUM SAMPLES: 315\n",
      "Best alpha: 46.41588833612782\n"
     ]
    },
    {
     "name": "stderr",
     "output_type": "stream",
     "text": [
      "Processing samples:   9%|▉         | 35/377 [01:12<19:12,  3.37s/it]"
     ]
    },
    {
     "name": "stdout",
     "output_type": "stream",
     "text": [
      "-3.9171269388680416\n",
      "Warning: Severe overfitting. Add more samples.\n",
      "[WRITE] Saved result from IDs_state_strata_district_clusters_10_points_per_cluster_400_size_seed_1415.pkl\n",
      "Fitting regression...\n",
      "NUM SAMPLES: 317\n",
      "Best alpha: 7742.636826811277\n"
     ]
    },
    {
     "name": "stderr",
     "output_type": "stream",
     "text": [
      "Processing samples:  10%|▉         | 36/377 [01:15<18:40,  3.28s/it]"
     ]
    },
    {
     "name": "stdout",
     "output_type": "stream",
     "text": [
      "0.119058545546182\n",
      "[WRITE] Saved result from IDs_state_strata_district_clusters_10_points_per_cluster_400_size_seed_42.pkl\n",
      "Fitting regression...\n",
      "NUM SAMPLES: 318\n",
      "Best alpha: 46.41588833612782\n"
     ]
    },
    {
     "name": "stderr",
     "output_type": "stream",
     "text": [
      "Processing samples:  10%|▉         | 37/377 [01:18<18:27,  3.26s/it]"
     ]
    },
    {
     "name": "stdout",
     "output_type": "stream",
     "text": [
      "-0.0982924347728289\n",
      "[WRITE] Saved result from IDs_state_strata_district_clusters_10_points_per_cluster_400_size_seed_456.pkl\n",
      "Fitting regression...\n",
      "NUM SAMPLES: 316\n",
      "Best alpha: 46.41588833612782\n"
     ]
    },
    {
     "name": "stderr",
     "output_type": "stream",
     "text": [
      "Processing samples:  10%|█         | 38/377 [01:22<19:27,  3.44s/it]"
     ]
    },
    {
     "name": "stdout",
     "output_type": "stream",
     "text": [
      "-0.4319208197393314\n",
      "[WRITE] Saved result from IDs_state_strata_district_clusters_10_points_per_cluster_400_size_seed_5678.pkl\n",
      "Fitting regression...\n",
      "NUM SAMPLES: 322\n",
      "Best alpha: 46.41588833612782\n"
     ]
    },
    {
     "name": "stderr",
     "output_type": "stream",
     "text": [
      "Processing samples:  10%|█         | 39/377 [01:25<19:39,  3.49s/it]"
     ]
    },
    {
     "name": "stdout",
     "output_type": "stream",
     "text": [
      "-0.0740625219982074\n",
      "[WRITE] Saved result from IDs_state_strata_district_clusters_10_points_per_cluster_400_size_seed_789.pkl\n",
      "Fitting regression...\n",
      "NUM SAMPLES: 311\n",
      "Best alpha: 7742.636826811277\n"
     ]
    },
    {
     "name": "stderr",
     "output_type": "stream",
     "text": [
      "Processing samples:  11%|█         | 40/377 [01:29<19:06,  3.40s/it]"
     ]
    },
    {
     "name": "stdout",
     "output_type": "stream",
     "text": [
      "0.09478724992890997\n",
      "[WRITE] Saved result from IDs_state_strata_district_clusters_10_points_per_cluster_400_size_seed_9101.pkl\n",
      "Fitting regression...\n",
      "NUM SAMPLES: 393\n",
      "Best alpha: 46.41588833612782\n"
     ]
    },
    {
     "name": "stderr",
     "output_type": "stream",
     "text": [
      "Processing samples:  11%|█         | 41/377 [01:32<19:47,  3.54s/it]"
     ]
    },
    {
     "name": "stdout",
     "output_type": "stream",
     "text": [
      "-0.6351198443012618\n",
      "[WRITE] Saved result from IDs_state_strata_district_clusters_10_points_per_cluster_500_size_seed_1.pkl\n",
      "Fitting regression...\n",
      "NUM SAMPLES: 403\n",
      "Best alpha: 46.41588833612782\n"
     ]
    },
    {
     "name": "stderr",
     "output_type": "stream",
     "text": [
      "Processing samples:  11%|█         | 42/377 [01:37<21:14,  3.80s/it]"
     ]
    },
    {
     "name": "stdout",
     "output_type": "stream",
     "text": [
      "-0.023325752755645635\n",
      "[WRITE] Saved result from IDs_state_strata_district_clusters_10_points_per_cluster_500_size_seed_1213.pkl\n",
      "Fitting regression...\n",
      "NUM SAMPLES: 409\n",
      "Best alpha: 46.41588833612782\n"
     ]
    },
    {
     "name": "stderr",
     "output_type": "stream",
     "text": [
      "Processing samples:  11%|█▏        | 43/377 [01:42<22:40,  4.07s/it]"
     ]
    },
    {
     "name": "stdout",
     "output_type": "stream",
     "text": [
      "0.18204061252467374\n",
      "[WRITE] Saved result from IDs_state_strata_district_clusters_10_points_per_cluster_500_size_seed_123.pkl\n",
      "Fitting regression...\n",
      "NUM SAMPLES: 415\n",
      "Best alpha: 46.41588833612782\n"
     ]
    },
    {
     "name": "stderr",
     "output_type": "stream",
     "text": [
      "Processing samples:  12%|█▏        | 44/377 [01:46<23:48,  4.29s/it]"
     ]
    },
    {
     "name": "stdout",
     "output_type": "stream",
     "text": [
      "-0.1313730636151369\n",
      "[WRITE] Saved result from IDs_state_strata_district_clusters_10_points_per_cluster_500_size_seed_1234.pkl\n",
      "Fitting regression...\n",
      "NUM SAMPLES: 392\n",
      "Best alpha: 46.41588833612782\n"
     ]
    },
    {
     "name": "stderr",
     "output_type": "stream",
     "text": [
      "Processing samples:  12%|█▏        | 45/377 [01:51<23:50,  4.31s/it]"
     ]
    },
    {
     "name": "stdout",
     "output_type": "stream",
     "text": [
      "-2.5968110129319695\n",
      "Warning: Severe overfitting. Add more samples.\n",
      "[WRITE] Saved result from IDs_state_strata_district_clusters_10_points_per_cluster_500_size_seed_1415.pkl\n",
      "Fitting regression...\n",
      "NUM SAMPLES: 396\n",
      "Best alpha: 599.4842503189421\n"
     ]
    },
    {
     "name": "stderr",
     "output_type": "stream",
     "text": [
      "Processing samples:  12%|█▏        | 46/377 [01:55<23:39,  4.29s/it]"
     ]
    },
    {
     "name": "stdout",
     "output_type": "stream",
     "text": [
      "0.13453972849243923\n",
      "[WRITE] Saved result from IDs_state_strata_district_clusters_10_points_per_cluster_500_size_seed_42.pkl\n",
      "Fitting regression...\n",
      "NUM SAMPLES: 401\n",
      "Best alpha: 599.4842503189421\n"
     ]
    },
    {
     "name": "stderr",
     "output_type": "stream",
     "text": [
      "Processing samples:  12%|█▏        | 47/377 [02:00<24:52,  4.52s/it]"
     ]
    },
    {
     "name": "stdout",
     "output_type": "stream",
     "text": [
      "0.09043778832288529\n",
      "[WRITE] Saved result from IDs_state_strata_district_clusters_10_points_per_cluster_500_size_seed_456.pkl\n",
      "Fitting regression...\n",
      "NUM SAMPLES: 398\n",
      "Best alpha: 599.4842503189421\n"
     ]
    },
    {
     "name": "stderr",
     "output_type": "stream",
     "text": [
      "Processing samples:  13%|█▎        | 48/377 [02:04<23:53,  4.36s/it]"
     ]
    },
    {
     "name": "stdout",
     "output_type": "stream",
     "text": [
      "0.08089008516945795\n",
      "[WRITE] Saved result from IDs_state_strata_district_clusters_10_points_per_cluster_500_size_seed_5678.pkl\n",
      "Fitting regression...\n",
      "NUM SAMPLES: 402\n",
      "Best alpha: 46.41588833612782\n"
     ]
    },
    {
     "name": "stderr",
     "output_type": "stream",
     "text": [
      "Processing samples:  13%|█▎        | 49/377 [02:08<23:24,  4.28s/it]"
     ]
    },
    {
     "name": "stdout",
     "output_type": "stream",
     "text": [
      "0.07959901889744392\n",
      "[WRITE] Saved result from IDs_state_strata_district_clusters_10_points_per_cluster_500_size_seed_789.pkl\n",
      "Fitting regression...\n",
      "NUM SAMPLES: 386\n",
      "Best alpha: 7742.636826811277\n"
     ]
    },
    {
     "name": "stderr",
     "output_type": "stream",
     "text": [
      "Processing samples:  13%|█▎        | 50/377 [02:13<24:02,  4.41s/it]"
     ]
    },
    {
     "name": "stdout",
     "output_type": "stream",
     "text": [
      "0.10308024217348899\n",
      "[WRITE] Saved result from IDs_state_strata_district_clusters_10_points_per_cluster_500_size_seed_9101.pkl\n",
      "Fitting regression...\n",
      "NUM SAMPLES: 482\n",
      "Best alpha: 46.41588833612782\n"
     ]
    },
    {
     "name": "stderr",
     "output_type": "stream",
     "text": [
      "Processing samples:  14%|█▎        | 51/377 [02:19<27:19,  5.03s/it]"
     ]
    },
    {
     "name": "stdout",
     "output_type": "stream",
     "text": [
      "-0.9886234319713934\n",
      "[WRITE] Saved result from IDs_state_strata_district_clusters_10_points_per_cluster_600_size_seed_1.pkl\n",
      "Fitting regression...\n",
      "NUM SAMPLES: 487\n",
      "Best alpha: 46.41588833612782\n"
     ]
    },
    {
     "name": "stderr",
     "output_type": "stream",
     "text": [
      "Processing samples:  14%|█▍        | 52/377 [02:25<28:45,  5.31s/it]"
     ]
    },
    {
     "name": "stdout",
     "output_type": "stream",
     "text": [
      "0.00472283430509679\n",
      "[WRITE] Saved result from IDs_state_strata_district_clusters_10_points_per_cluster_600_size_seed_1213.pkl\n",
      "Fitting regression...\n",
      "NUM SAMPLES: 487\n",
      "Best alpha: 46.41588833612782\n"
     ]
    },
    {
     "name": "stderr",
     "output_type": "stream",
     "text": [
      "Processing samples:  14%|█▍        | 53/377 [02:32<30:29,  5.65s/it]"
     ]
    },
    {
     "name": "stdout",
     "output_type": "stream",
     "text": [
      "0.19034046259696558\n",
      "[WRITE] Saved result from IDs_state_strata_district_clusters_10_points_per_cluster_600_size_seed_123.pkl\n",
      "Fitting regression...\n",
      "NUM SAMPLES: 490\n",
      "Best alpha: 46.41588833612782\n"
     ]
    },
    {
     "name": "stderr",
     "output_type": "stream",
     "text": [
      "Processing samples:  14%|█▍        | 54/377 [02:37<29:37,  5.50s/it]"
     ]
    },
    {
     "name": "stdout",
     "output_type": "stream",
     "text": [
      "0.07752853054747655\n",
      "[WRITE] Saved result from IDs_state_strata_district_clusters_10_points_per_cluster_600_size_seed_1234.pkl\n",
      "Fitting regression...\n",
      "NUM SAMPLES: 466\n",
      "Best alpha: 46.41588833612782\n"
     ]
    },
    {
     "name": "stderr",
     "output_type": "stream",
     "text": [
      "Processing samples:  15%|█▍        | 55/377 [02:42<29:04,  5.42s/it]"
     ]
    },
    {
     "name": "stdout",
     "output_type": "stream",
     "text": [
      "0.16797371330151878\n",
      "[WRITE] Saved result from IDs_state_strata_district_clusters_10_points_per_cluster_600_size_seed_1415.pkl\n",
      "Fitting regression...\n",
      "NUM SAMPLES: 487\n",
      "Best alpha: 3.593813663804626\n"
     ]
    },
    {
     "name": "stderr",
     "output_type": "stream",
     "text": [
      "Processing samples:  15%|█▍        | 56/377 [02:48<29:44,  5.56s/it]"
     ]
    },
    {
     "name": "stdout",
     "output_type": "stream",
     "text": [
      "-0.033235990812207516\n",
      "[WRITE] Saved result from IDs_state_strata_district_clusters_10_points_per_cluster_600_size_seed_42.pkl\n",
      "Fitting regression...\n",
      "NUM SAMPLES: 485\n",
      "Best alpha: 46.41588833612782\n"
     ]
    },
    {
     "name": "stderr",
     "output_type": "stream",
     "text": [
      "Processing samples:  15%|█▌        | 57/377 [02:54<30:40,  5.75s/it]"
     ]
    },
    {
     "name": "stdout",
     "output_type": "stream",
     "text": [
      "0.11490027712126472\n",
      "[WRITE] Saved result from IDs_state_strata_district_clusters_10_points_per_cluster_600_size_seed_456.pkl\n",
      "Fitting regression...\n",
      "NUM SAMPLES: 467\n",
      "Best alpha: 46.41588833612782\n"
     ]
    },
    {
     "name": "stderr",
     "output_type": "stream",
     "text": [
      "Processing samples:  15%|█▌        | 58/377 [02:59<29:56,  5.63s/it]"
     ]
    },
    {
     "name": "stdout",
     "output_type": "stream",
     "text": [
      "0.034552584299540445\n",
      "[WRITE] Saved result from IDs_state_strata_district_clusters_10_points_per_cluster_600_size_seed_5678.pkl\n",
      "Fitting regression...\n",
      "NUM SAMPLES: 487\n",
      "Best alpha: 46.41588833612782\n"
     ]
    },
    {
     "name": "stderr",
     "output_type": "stream",
     "text": [
      "Processing samples:  16%|█▌        | 59/377 [03:05<29:10,  5.50s/it]"
     ]
    },
    {
     "name": "stdout",
     "output_type": "stream",
     "text": [
      "0.1581223536134463\n",
      "[WRITE] Saved result from IDs_state_strata_district_clusters_10_points_per_cluster_600_size_seed_789.pkl\n",
      "Fitting regression...\n",
      "NUM SAMPLES: 474\n",
      "Best alpha: 599.4842503189421\n"
     ]
    },
    {
     "name": "stderr",
     "output_type": "stream",
     "text": [
      "Processing samples:  16%|█▌        | 60/377 [03:10<29:05,  5.51s/it]"
     ]
    },
    {
     "name": "stdout",
     "output_type": "stream",
     "text": [
      "0.06168661908958917\n",
      "[WRITE] Saved result from IDs_state_strata_district_clusters_10_points_per_cluster_600_size_seed_9101.pkl\n",
      "Fitting regression...\n",
      "NUM SAMPLES: 563\n",
      "Best alpha: 599.4842503189421\n"
     ]
    },
    {
     "name": "stderr",
     "output_type": "stream",
     "text": [
      "Processing samples:  16%|█▌        | 61/377 [03:17<30:53,  5.86s/it]"
     ]
    },
    {
     "name": "stdout",
     "output_type": "stream",
     "text": [
      "0.1931227943541577\n",
      "[WRITE] Saved result from IDs_state_strata_district_clusters_10_points_per_cluster_700_size_seed_1.pkl\n",
      "Fitting regression...\n",
      "NUM SAMPLES: 559\n",
      "Best alpha: 46.41588833612782\n"
     ]
    },
    {
     "name": "stderr",
     "output_type": "stream",
     "text": [
      "Processing samples:  16%|█▋        | 62/377 [03:24<32:32,  6.20s/it]"
     ]
    },
    {
     "name": "stdout",
     "output_type": "stream",
     "text": [
      "0.06485142390005172\n",
      "[WRITE] Saved result from IDs_state_strata_district_clusters_10_points_per_cluster_700_size_seed_1213.pkl\n",
      "Fitting regression...\n",
      "NUM SAMPLES: 568\n",
      "Best alpha: 46.41588833612782\n"
     ]
    },
    {
     "name": "stderr",
     "output_type": "stream",
     "text": [
      "Processing samples:  17%|█▋        | 63/377 [03:30<32:36,  6.23s/it]"
     ]
    },
    {
     "name": "stdout",
     "output_type": "stream",
     "text": [
      "0.12717801876242807\n",
      "[WRITE] Saved result from IDs_state_strata_district_clusters_10_points_per_cluster_700_size_seed_123.pkl\n",
      "Fitting regression...\n",
      "NUM SAMPLES: 554\n",
      "Best alpha: 46.41588833612782\n"
     ]
    },
    {
     "name": "stderr",
     "output_type": "stream",
     "text": [
      "Processing samples:  17%|█▋        | 64/377 [03:36<32:31,  6.23s/it]"
     ]
    },
    {
     "name": "stdout",
     "output_type": "stream",
     "text": [
      "0.14189369734459667\n",
      "[WRITE] Saved result from IDs_state_strata_district_clusters_10_points_per_cluster_700_size_seed_1234.pkl\n",
      "Fitting regression...\n",
      "NUM SAMPLES: 538\n",
      "Best alpha: 46.41588833612782\n"
     ]
    },
    {
     "name": "stderr",
     "output_type": "stream",
     "text": [
      "Processing samples:  17%|█▋        | 65/377 [03:43<33:32,  6.45s/it]"
     ]
    },
    {
     "name": "stdout",
     "output_type": "stream",
     "text": [
      "0.20336889548915604\n",
      "[WRITE] Saved result from IDs_state_strata_district_clusters_10_points_per_cluster_700_size_seed_1415.pkl\n",
      "Fitting regression...\n",
      "NUM SAMPLES: 565\n",
      "Best alpha: 46.41588833612782\n"
     ]
    },
    {
     "name": "stderr",
     "output_type": "stream",
     "text": [
      "Processing samples:  18%|█▊        | 66/377 [03:51<34:49,  6.72s/it]"
     ]
    },
    {
     "name": "stdout",
     "output_type": "stream",
     "text": [
      "0.1429527501069422\n",
      "[WRITE] Saved result from IDs_state_strata_district_clusters_10_points_per_cluster_700_size_seed_42.pkl\n",
      "Fitting regression...\n",
      "NUM SAMPLES: 562\n",
      "Best alpha: 7742.636826811277\n"
     ]
    },
    {
     "name": "stderr",
     "output_type": "stream",
     "text": [
      "Processing samples:  18%|█▊        | 67/377 [03:57<33:52,  6.56s/it]"
     ]
    },
    {
     "name": "stdout",
     "output_type": "stream",
     "text": [
      "0.11018885620535013\n",
      "[WRITE] Saved result from IDs_state_strata_district_clusters_10_points_per_cluster_700_size_seed_456.pkl\n",
      "Fitting regression...\n",
      "NUM SAMPLES: 544\n",
      "Best alpha: 46.41588833612782\n"
     ]
    },
    {
     "name": "stderr",
     "output_type": "stream",
     "text": [
      "Processing samples:  18%|█▊        | 68/377 [04:04<34:02,  6.61s/it]"
     ]
    },
    {
     "name": "stdout",
     "output_type": "stream",
     "text": [
      "-0.02692847353450034\n",
      "[WRITE] Saved result from IDs_state_strata_district_clusters_10_points_per_cluster_700_size_seed_5678.pkl\n",
      "Fitting regression...\n",
      "NUM SAMPLES: 572\n",
      "Best alpha: 46.41588833612782\n"
     ]
    },
    {
     "name": "stderr",
     "output_type": "stream",
     "text": [
      "Processing samples:  18%|█▊        | 69/377 [04:11<34:58,  6.81s/it]"
     ]
    },
    {
     "name": "stdout",
     "output_type": "stream",
     "text": [
      "0.17087556249093794\n",
      "[WRITE] Saved result from IDs_state_strata_district_clusters_10_points_per_cluster_700_size_seed_789.pkl\n",
      "Fitting regression...\n",
      "NUM SAMPLES: 557\n",
      "Best alpha: 46.41588833612782\n"
     ]
    },
    {
     "name": "stderr",
     "output_type": "stream",
     "text": [
      "Processing samples:  19%|█▊        | 70/377 [04:18<35:06,  6.86s/it]"
     ]
    },
    {
     "name": "stdout",
     "output_type": "stream",
     "text": [
      "-0.5314082060559855\n",
      "[WRITE] Saved result from IDs_state_strata_district_clusters_10_points_per_cluster_700_size_seed_9101.pkl\n",
      "Fitting regression...\n",
      "NUM SAMPLES: 637\n",
      "Best alpha: 599.4842503189421\n"
     ]
    },
    {
     "name": "stderr",
     "output_type": "stream",
     "text": [
      "Processing samples:  19%|█▉        | 71/377 [04:27<38:03,  7.46s/it]"
     ]
    },
    {
     "name": "stdout",
     "output_type": "stream",
     "text": [
      "0.20888876137137935\n",
      "[WRITE] Saved result from IDs_state_strata_district_clusters_10_points_per_cluster_800_size_seed_1.pkl\n",
      "Fitting regression...\n",
      "NUM SAMPLES: 637\n",
      "Best alpha: 46.41588833612782\n"
     ]
    },
    {
     "name": "stderr",
     "output_type": "stream",
     "text": [
      "Processing samples:  19%|█▉        | 72/377 [04:36<40:04,  7.88s/it]"
     ]
    },
    {
     "name": "stdout",
     "output_type": "stream",
     "text": [
      "0.0762562551920607\n",
      "[WRITE] Saved result from IDs_state_strata_district_clusters_10_points_per_cluster_800_size_seed_1213.pkl\n",
      "Fitting regression...\n",
      "NUM SAMPLES: 647\n",
      "Best alpha: 46.41588833612782\n"
     ]
    },
    {
     "name": "stderr",
     "output_type": "stream",
     "text": [
      "Processing samples:  19%|█▉        | 73/377 [04:45<42:20,  8.36s/it]"
     ]
    },
    {
     "name": "stdout",
     "output_type": "stream",
     "text": [
      "0.1472620969506142\n",
      "[WRITE] Saved result from IDs_state_strata_district_clusters_10_points_per_cluster_800_size_seed_123.pkl\n",
      "Fitting regression...\n",
      "NUM SAMPLES: 643\n",
      "Best alpha: 46.41588833612782\n"
     ]
    },
    {
     "name": "stderr",
     "output_type": "stream",
     "text": [
      "Processing samples:  20%|█▉        | 74/377 [04:54<42:31,  8.42s/it]"
     ]
    },
    {
     "name": "stdout",
     "output_type": "stream",
     "text": [
      "0.046399196506186846\n",
      "[WRITE] Saved result from IDs_state_strata_district_clusters_10_points_per_cluster_800_size_seed_1234.pkl\n",
      "Fitting regression...\n",
      "NUM SAMPLES: 614\n",
      "Best alpha: 46.41588833612782\n"
     ]
    },
    {
     "name": "stderr",
     "output_type": "stream",
     "text": [
      "Processing samples:  20%|█▉        | 75/377 [05:02<42:08,  8.37s/it]"
     ]
    },
    {
     "name": "stdout",
     "output_type": "stream",
     "text": [
      "0.2524034796497493\n",
      "[WRITE] Saved result from IDs_state_strata_district_clusters_10_points_per_cluster_800_size_seed_1415.pkl\n",
      "Fitting regression...\n",
      "NUM SAMPLES: 646\n",
      "Best alpha: 46.41588833612782\n"
     ]
    },
    {
     "name": "stderr",
     "output_type": "stream",
     "text": [
      "Processing samples:  20%|██        | 76/377 [05:11<43:22,  8.65s/it]"
     ]
    },
    {
     "name": "stdout",
     "output_type": "stream",
     "text": [
      "0.1994876718020523\n",
      "[WRITE] Saved result from IDs_state_strata_district_clusters_10_points_per_cluster_800_size_seed_42.pkl\n",
      "Fitting regression...\n",
      "NUM SAMPLES: 647\n",
      "Best alpha: 46.41588833612782\n"
     ]
    },
    {
     "name": "stderr",
     "output_type": "stream",
     "text": [
      "Processing samples:  20%|██        | 77/377 [05:21<44:20,  8.87s/it]"
     ]
    },
    {
     "name": "stdout",
     "output_type": "stream",
     "text": [
      "-0.35059949624206266\n",
      "[WRITE] Saved result from IDs_state_strata_district_clusters_10_points_per_cluster_800_size_seed_456.pkl\n",
      "Fitting regression...\n",
      "NUM SAMPLES: 623\n",
      "Best alpha: 46.41588833612782\n"
     ]
    },
    {
     "name": "stderr",
     "output_type": "stream",
     "text": [
      "Processing samples:  21%|██        | 78/377 [05:29<43:25,  8.72s/it]"
     ]
    },
    {
     "name": "stdout",
     "output_type": "stream",
     "text": [
      "0.05728119724644931\n",
      "[WRITE] Saved result from IDs_state_strata_district_clusters_10_points_per_cluster_800_size_seed_5678.pkl\n",
      "Fitting regression...\n",
      "NUM SAMPLES: 643\n",
      "Best alpha: 46.41588833612782\n"
     ]
    },
    {
     "name": "stderr",
     "output_type": "stream",
     "text": [
      "Processing samples:  21%|██        | 79/377 [05:38<43:36,  8.78s/it]"
     ]
    },
    {
     "name": "stdout",
     "output_type": "stream",
     "text": [
      "0.20096438351094736\n",
      "[WRITE] Saved result from IDs_state_strata_district_clusters_10_points_per_cluster_800_size_seed_789.pkl\n",
      "Fitting regression...\n",
      "NUM SAMPLES: 627\n",
      "Best alpha: 599.4842503189421\n"
     ]
    },
    {
     "name": "stderr",
     "output_type": "stream",
     "text": [
      "Processing samples:  21%|██        | 80/377 [05:45<41:14,  8.33s/it]"
     ]
    },
    {
     "name": "stdout",
     "output_type": "stream",
     "text": [
      "0.1674870895924887\n",
      "[WRITE] Saved result from IDs_state_strata_district_clusters_10_points_per_cluster_800_size_seed_9101.pkl\n",
      "Fitting regression...\n",
      "NUM SAMPLES: 716\n",
      "Best alpha: 46.41588833612782\n"
     ]
    },
    {
     "name": "stderr",
     "output_type": "stream",
     "text": [
      "Processing samples:  21%|██▏       | 81/377 [05:55<43:12,  8.76s/it]"
     ]
    },
    {
     "name": "stdout",
     "output_type": "stream",
     "text": [
      "0.2661065527874783\n",
      "[WRITE] Saved result from IDs_state_strata_district_clusters_10_points_per_cluster_900_size_seed_1.pkl\n",
      "Fitting regression...\n",
      "NUM SAMPLES: 721\n",
      "Best alpha: 46.41588833612782\n"
     ]
    },
    {
     "name": "stderr",
     "output_type": "stream",
     "text": [
      "Processing samples:  22%|██▏       | 82/377 [06:08<50:04, 10.18s/it]"
     ]
    },
    {
     "name": "stdout",
     "output_type": "stream",
     "text": [
      "0.10673569145819817\n",
      "[WRITE] Saved result from IDs_state_strata_district_clusters_10_points_per_cluster_900_size_seed_1213.pkl\n",
      "Fitting regression...\n",
      "NUM SAMPLES: 722\n",
      "Best alpha: 46.41588833612782\n"
     ]
    },
    {
     "name": "stderr",
     "output_type": "stream",
     "text": [
      "Processing samples:  22%|██▏       | 83/377 [06:23<55:44, 11.38s/it]"
     ]
    },
    {
     "name": "stdout",
     "output_type": "stream",
     "text": [
      "0.12855070658731826\n",
      "[WRITE] Saved result from IDs_state_strata_district_clusters_10_points_per_cluster_900_size_seed_123.pkl\n",
      "Fitting regression...\n",
      "NUM SAMPLES: 726\n",
      "Best alpha: 46.41588833612782\n"
     ]
    },
    {
     "name": "stderr",
     "output_type": "stream",
     "text": [
      "Processing samples:  22%|██▏       | 84/377 [06:36<58:48, 12.04s/it]"
     ]
    },
    {
     "name": "stdout",
     "output_type": "stream",
     "text": [
      "0.11036245071747297\n",
      "[WRITE] Saved result from IDs_state_strata_district_clusters_10_points_per_cluster_900_size_seed_1234.pkl\n",
      "Fitting regression...\n",
      "NUM SAMPLES: 696\n",
      "Best alpha: 46.41588833612782\n"
     ]
    },
    {
     "name": "stderr",
     "output_type": "stream",
     "text": [
      "Processing samples:  23%|██▎       | 85/377 [06:45<54:24, 11.18s/it]"
     ]
    },
    {
     "name": "stdout",
     "output_type": "stream",
     "text": [
      "0.1704187842147875\n",
      "[WRITE] Saved result from IDs_state_strata_district_clusters_10_points_per_cluster_900_size_seed_1415.pkl\n",
      "Fitting regression...\n",
      "NUM SAMPLES: 726\n",
      "Best alpha: 46.41588833612782\n"
     ]
    },
    {
     "name": "stderr",
     "output_type": "stream",
     "text": [
      "Processing samples:  23%|██▎       | 86/377 [06:59<58:02, 11.97s/it]"
     ]
    },
    {
     "name": "stdout",
     "output_type": "stream",
     "text": [
      "0.1661821714962125\n",
      "[WRITE] Saved result from IDs_state_strata_district_clusters_10_points_per_cluster_900_size_seed_42.pkl\n",
      "Fitting regression...\n",
      "NUM SAMPLES: 729\n",
      "Best alpha: 46.41588833612782\n"
     ]
    },
    {
     "name": "stderr",
     "output_type": "stream",
     "text": [
      "Processing samples:  23%|██▎       | 87/377 [07:10<56:40, 11.72s/it]"
     ]
    },
    {
     "name": "stdout",
     "output_type": "stream",
     "text": [
      "-0.43351269432899464\n",
      "[WRITE] Saved result from IDs_state_strata_district_clusters_10_points_per_cluster_900_size_seed_456.pkl\n",
      "Fitting regression...\n",
      "NUM SAMPLES: 703\n",
      "Best alpha: 46.41588833612782\n"
     ]
    },
    {
     "name": "stderr",
     "output_type": "stream",
     "text": [
      "Processing samples:  23%|██▎       | 88/377 [07:20<53:33, 11.12s/it]"
     ]
    },
    {
     "name": "stdout",
     "output_type": "stream",
     "text": [
      "-0.6027889350933957\n",
      "[WRITE] Saved result from IDs_state_strata_district_clusters_10_points_per_cluster_900_size_seed_5678.pkl\n",
      "Fitting regression...\n",
      "NUM SAMPLES: 713\n",
      "Best alpha: 46.41588833612782\n"
     ]
    },
    {
     "name": "stderr",
     "output_type": "stream",
     "text": [
      "Processing samples:  24%|██▎       | 89/377 [07:29<50:06, 10.44s/it]"
     ]
    },
    {
     "name": "stdout",
     "output_type": "stream",
     "text": [
      "0.2471657111433564\n",
      "[WRITE] Saved result from IDs_state_strata_district_clusters_10_points_per_cluster_900_size_seed_789.pkl\n",
      "Fitting regression...\n",
      "NUM SAMPLES: 704\n",
      "Best alpha: 46.41588833612782\n"
     ]
    },
    {
     "name": "stderr",
     "output_type": "stream",
     "text": [
      "Processing samples:  24%|██▍       | 90/377 [07:38<48:13, 10.08s/it]"
     ]
    },
    {
     "name": "stdout",
     "output_type": "stream",
     "text": [
      "-0.044223564271039795\n",
      "[WRITE] Saved result from IDs_state_strata_district_clusters_10_points_per_cluster_900_size_seed_9101.pkl\n",
      "Fitting regression...\n",
      "NUM SAMPLES: 784\n"
     ]
    },
    {
     "name": "stderr",
     "output_type": "stream",
     "text": [
      "Processing samples:  24%|██▍       | 90/377 [07:51<25:02,  5.24s/it]\n"
     ]
    },
    {
     "ename": "KeyboardInterrupt",
     "evalue": "",
     "output_type": "error",
     "traceback": [
      "\u001b[31m---------------------------------------------------------------------------\u001b[39m",
      "\u001b[31mKeyboardInterrupt\u001b[39m                         Traceback (most recent call last)",
      "\u001b[36mCell\u001b[39m\u001b[36m \u001b[39m\u001b[32mIn[2]\u001b[39m\u001b[32m, line 9\u001b[39m\n\u001b[32m      6\u001b[39m results_dir = \u001b[33mf\u001b[39m\u001b[33m\"\u001b[39m\u001b[33m/home/libe2152/optimizedsampling/0_results/india_secc\u001b[39m\u001b[33m\"\u001b[39m\n\u001b[32m      8\u001b[39m \u001b[38;5;66;03m# Run cluster sampling R2 scores\u001b[39;00m\n\u001b[32m----> \u001b[39m\u001b[32m9\u001b[39m cluster_sampling_r2_scores(\n\u001b[32m     10\u001b[39m     features_path=features_path,\n\u001b[32m     11\u001b[39m     sampling_dir=cluster_sampling_dir,\n\u001b[32m     12\u001b[39m     results_dir=results_dir,\n\u001b[32m     13\u001b[39m     ridge_regression_fn=ridge_regression,\n\u001b[32m     14\u001b[39m     verbose=\u001b[38;5;28;01mTrue\u001b[39;00m,\n\u001b[32m     15\u001b[39m )\n\u001b[32m     17\u001b[39m \u001b[38;5;66;03m# Run convenience sampling R2 scores\u001b[39;00m\n\u001b[32m     18\u001b[39m convenience_sampling_r2_scores(\n\u001b[32m     19\u001b[39m     features_path=features_path,\n\u001b[32m     20\u001b[39m     sampling_dir=convenience_sampling_dir,\n\u001b[32m   (...)\u001b[39m\u001b[32m     23\u001b[39m     verbose=\u001b[38;5;28;01mTrue\u001b[39;00m,\n\u001b[32m     24\u001b[39m )\n",
      "\u001b[36mFile \u001b[39m\u001b[32m~/optimizedsampling/3_regressions/initial_set_regressions.py:145\u001b[39m, in \u001b[36mcluster_sampling_r2_scores\u001b[39m\u001b[34m(*args, **kwargs)\u001b[39m\n\u001b[32m    144\u001b[39m \u001b[38;5;28;01mdef\u001b[39;00m\u001b[38;5;250m \u001b[39m\u001b[34mcluster_sampling_r2_scores\u001b[39m(*args, **kwargs):\n\u001b[32m--> \u001b[39m\u001b[32m145\u001b[39m     \u001b[38;5;28;01mreturn\u001b[39;00m sampling_r2_scores(\n\u001b[32m    146\u001b[39m         *args,\n\u001b[32m    147\u001b[39m         metadata_parser=parse_cluster_metadata,\n\u001b[32m    148\u001b[39m         results_filename_suffix=\u001b[33m\"\u001b[39m\u001b[33mcluster_sampling_r2_scores\u001b[39m\u001b[33m\"\u001b[39m,\n\u001b[32m    149\u001b[39m         **kwargs,\n\u001b[32m    150\u001b[39m     )\n",
      "\u001b[36mFile \u001b[39m\u001b[32m~/optimizedsampling/3_regressions/initial_set_regressions.py:71\u001b[39m, in \u001b[36msampling_r2_scores\u001b[39m\u001b[34m(features_path, sampling_dir, results_dir, ridge_regression_fn, metadata_parser, results_filename_suffix, min_samples, verbose, **kwargs)\u001b[39m\n\u001b[32m     68\u001b[39m y_subset = y_train_full[sampled_indices]\n\u001b[32m     70\u001b[39m \u001b[38;5;28;01mtry\u001b[39;00m:\n\u001b[32m---> \u001b[39m\u001b[32m71\u001b[39m     r2 = ridge_regression_fn(X_subset, y_subset, X_test, y_test)\n\u001b[32m     72\u001b[39m \u001b[38;5;28;01mexcept\u001b[39;00m \u001b[38;5;167;01mException\u001b[39;00m \u001b[38;5;28;01mas\u001b[39;00m e:\n\u001b[32m     73\u001b[39m     \u001b[38;5;28;01mif\u001b[39;00m verbose:\n",
      "\u001b[36mFile \u001b[39m\u001b[32m~/optimizedsampling/3_regressions/regressions.py:42\u001b[39m, in \u001b[36mridge_regression\u001b[39m\u001b[34m(X_train, y_train, X_test, y_test, n_folds, alphas)\u001b[39m\n\u001b[32m     40\u001b[39m \u001b[38;5;66;03m#Fit the pipeline\u001b[39;00m\n\u001b[32m     41\u001b[39m \u001b[38;5;28mprint\u001b[39m(\u001b[33mf\u001b[39m\u001b[33m\"\u001b[39m\u001b[33mNUM SAMPLES: \u001b[39m\u001b[38;5;132;01m{\u001b[39;00mX_train.shape[\u001b[32m0\u001b[39m]\u001b[38;5;132;01m}\u001b[39;00m\u001b[33m\"\u001b[39m)\n\u001b[32m---> \u001b[39m\u001b[32m42\u001b[39m pipeline.fit(X_train, y_train)\n\u001b[32m     44\u001b[39m \u001b[38;5;66;03m# Optimal alpha\u001b[39;00m\n\u001b[32m     45\u001b[39m best_alpha = pipeline.named_steps[\u001b[33m'\u001b[39m\u001b[33mridgecv\u001b[39m\u001b[33m'\u001b[39m].alpha_\n",
      "\u001b[36mFile \u001b[39m\u001b[32m/share/anaconda3/envs/mosaiks/lib/python3.11/site-packages/sklearn/base.py:1389\u001b[39m, in \u001b[36m_fit_context.<locals>.decorator.<locals>.wrapper\u001b[39m\u001b[34m(estimator, *args, **kwargs)\u001b[39m\n\u001b[32m   1382\u001b[39m     estimator._validate_params()\n\u001b[32m   1384\u001b[39m \u001b[38;5;28;01mwith\u001b[39;00m config_context(\n\u001b[32m   1385\u001b[39m     skip_parameter_validation=(\n\u001b[32m   1386\u001b[39m         prefer_skip_nested_validation \u001b[38;5;129;01mor\u001b[39;00m global_skip_validation\n\u001b[32m   1387\u001b[39m     )\n\u001b[32m   1388\u001b[39m ):\n\u001b[32m-> \u001b[39m\u001b[32m1389\u001b[39m     \u001b[38;5;28;01mreturn\u001b[39;00m fit_method(estimator, *args, **kwargs)\n",
      "\u001b[36mFile \u001b[39m\u001b[32m/share/anaconda3/envs/mosaiks/lib/python3.11/site-packages/sklearn/pipeline.py:662\u001b[39m, in \u001b[36mPipeline.fit\u001b[39m\u001b[34m(self, X, y, **params)\u001b[39m\n\u001b[32m    656\u001b[39m     \u001b[38;5;28;01mif\u001b[39;00m \u001b[38;5;28mself\u001b[39m._final_estimator != \u001b[33m\"\u001b[39m\u001b[33mpassthrough\u001b[39m\u001b[33m\"\u001b[39m:\n\u001b[32m    657\u001b[39m         last_step_params = \u001b[38;5;28mself\u001b[39m._get_metadata_for_step(\n\u001b[32m    658\u001b[39m             step_idx=\u001b[38;5;28mlen\u001b[39m(\u001b[38;5;28mself\u001b[39m) - \u001b[32m1\u001b[39m,\n\u001b[32m    659\u001b[39m             step_params=routed_params[\u001b[38;5;28mself\u001b[39m.steps[-\u001b[32m1\u001b[39m][\u001b[32m0\u001b[39m]],\n\u001b[32m    660\u001b[39m             all_params=params,\n\u001b[32m    661\u001b[39m         )\n\u001b[32m--> \u001b[39m\u001b[32m662\u001b[39m         \u001b[38;5;28mself\u001b[39m._final_estimator.fit(Xt, y, **last_step_params[\u001b[33m\"\u001b[39m\u001b[33mfit\u001b[39m\u001b[33m\"\u001b[39m])\n\u001b[32m    664\u001b[39m \u001b[38;5;28;01mreturn\u001b[39;00m \u001b[38;5;28mself\u001b[39m\n",
      "\u001b[36mFile \u001b[39m\u001b[32m/share/anaconda3/envs/mosaiks/lib/python3.11/site-packages/sklearn/base.py:1389\u001b[39m, in \u001b[36m_fit_context.<locals>.decorator.<locals>.wrapper\u001b[39m\u001b[34m(estimator, *args, **kwargs)\u001b[39m\n\u001b[32m   1382\u001b[39m     estimator._validate_params()\n\u001b[32m   1384\u001b[39m \u001b[38;5;28;01mwith\u001b[39;00m config_context(\n\u001b[32m   1385\u001b[39m     skip_parameter_validation=(\n\u001b[32m   1386\u001b[39m         prefer_skip_nested_validation \u001b[38;5;129;01mor\u001b[39;00m global_skip_validation\n\u001b[32m   1387\u001b[39m     )\n\u001b[32m   1388\u001b[39m ):\n\u001b[32m-> \u001b[39m\u001b[32m1389\u001b[39m     \u001b[38;5;28;01mreturn\u001b[39;00m fit_method(estimator, *args, **kwargs)\n",
      "\u001b[36mFile \u001b[39m\u001b[32m/share/anaconda3/envs/mosaiks/lib/python3.11/site-packages/sklearn/linear_model/_ridge.py:2736\u001b[39m, in \u001b[36mRidgeCV.fit\u001b[39m\u001b[34m(self, X, y, sample_weight, **params)\u001b[39m\n\u001b[32m   2696\u001b[39m \u001b[38;5;129m@_fit_context\u001b[39m(prefer_skip_nested_validation=\u001b[38;5;28;01mTrue\u001b[39;00m)\n\u001b[32m   2697\u001b[39m \u001b[38;5;28;01mdef\u001b[39;00m\u001b[38;5;250m \u001b[39m\u001b[34mfit\u001b[39m(\u001b[38;5;28mself\u001b[39m, X, y, sample_weight=\u001b[38;5;28;01mNone\u001b[39;00m, **params):\n\u001b[32m   2698\u001b[39m \u001b[38;5;250m    \u001b[39m\u001b[33;03m\"\"\"Fit Ridge regression model with cv.\u001b[39;00m\n\u001b[32m   2699\u001b[39m \n\u001b[32m   2700\u001b[39m \u001b[33;03m    Parameters\u001b[39;00m\n\u001b[32m   (...)\u001b[39m\u001b[32m   2734\u001b[39m \u001b[33;03m    the validation score.\u001b[39;00m\n\u001b[32m   2735\u001b[39m \u001b[33;03m    \"\"\"\u001b[39;00m\n\u001b[32m-> \u001b[39m\u001b[32m2736\u001b[39m     \u001b[38;5;28msuper\u001b[39m().fit(X, y, sample_weight=sample_weight, **params)\n\u001b[32m   2737\u001b[39m     \u001b[38;5;28;01mreturn\u001b[39;00m \u001b[38;5;28mself\u001b[39m\n",
      "\u001b[36mFile \u001b[39m\u001b[32m/share/anaconda3/envs/mosaiks/lib/python3.11/site-packages/sklearn/linear_model/_ridge.py:2484\u001b[39m, in \u001b[36m_BaseRidgeCV.fit\u001b[39m\u001b[34m(self, X, y, sample_weight, **params)\u001b[39m\n\u001b[32m   2475\u001b[39m     estimator.set_fit_request(sample_weight=\u001b[38;5;28;01mTrue\u001b[39;00m)\n\u001b[32m   2477\u001b[39m grid_search = GridSearchCV(\n\u001b[32m   2478\u001b[39m     estimator,\n\u001b[32m   2479\u001b[39m     parameters,\n\u001b[32m   2480\u001b[39m     cv=cv,\n\u001b[32m   2481\u001b[39m     scoring=scorer,\n\u001b[32m   2482\u001b[39m )\n\u001b[32m-> \u001b[39m\u001b[32m2484\u001b[39m grid_search.fit(X, y, **params)\n\u001b[32m   2485\u001b[39m estimator = grid_search.best_estimator_\n\u001b[32m   2486\u001b[39m \u001b[38;5;28mself\u001b[39m.alpha_ = grid_search.best_estimator_.alpha\n",
      "\u001b[36mFile \u001b[39m\u001b[32m/share/anaconda3/envs/mosaiks/lib/python3.11/site-packages/sklearn/base.py:1389\u001b[39m, in \u001b[36m_fit_context.<locals>.decorator.<locals>.wrapper\u001b[39m\u001b[34m(estimator, *args, **kwargs)\u001b[39m\n\u001b[32m   1382\u001b[39m     estimator._validate_params()\n\u001b[32m   1384\u001b[39m \u001b[38;5;28;01mwith\u001b[39;00m config_context(\n\u001b[32m   1385\u001b[39m     skip_parameter_validation=(\n\u001b[32m   1386\u001b[39m         prefer_skip_nested_validation \u001b[38;5;129;01mor\u001b[39;00m global_skip_validation\n\u001b[32m   1387\u001b[39m     )\n\u001b[32m   1388\u001b[39m ):\n\u001b[32m-> \u001b[39m\u001b[32m1389\u001b[39m     \u001b[38;5;28;01mreturn\u001b[39;00m fit_method(estimator, *args, **kwargs)\n",
      "\u001b[36mFile \u001b[39m\u001b[32m/share/anaconda3/envs/mosaiks/lib/python3.11/site-packages/sklearn/model_selection/_search.py:1024\u001b[39m, in \u001b[36mBaseSearchCV.fit\u001b[39m\u001b[34m(self, X, y, **params)\u001b[39m\n\u001b[32m   1018\u001b[39m     results = \u001b[38;5;28mself\u001b[39m._format_results(\n\u001b[32m   1019\u001b[39m         all_candidate_params, n_splits, all_out, all_more_results\n\u001b[32m   1020\u001b[39m     )\n\u001b[32m   1022\u001b[39m     \u001b[38;5;28;01mreturn\u001b[39;00m results\n\u001b[32m-> \u001b[39m\u001b[32m1024\u001b[39m \u001b[38;5;28mself\u001b[39m._run_search(evaluate_candidates)\n\u001b[32m   1026\u001b[39m \u001b[38;5;66;03m# multimetric is determined here because in the case of a callable\u001b[39;00m\n\u001b[32m   1027\u001b[39m \u001b[38;5;66;03m# self.scoring the return type is only known after calling\u001b[39;00m\n\u001b[32m   1028\u001b[39m first_test_score = all_out[\u001b[32m0\u001b[39m][\u001b[33m\"\u001b[39m\u001b[33mtest_scores\u001b[39m\u001b[33m\"\u001b[39m]\n",
      "\u001b[36mFile \u001b[39m\u001b[32m/share/anaconda3/envs/mosaiks/lib/python3.11/site-packages/sklearn/model_selection/_search.py:1571\u001b[39m, in \u001b[36mGridSearchCV._run_search\u001b[39m\u001b[34m(self, evaluate_candidates)\u001b[39m\n\u001b[32m   1569\u001b[39m \u001b[38;5;28;01mdef\u001b[39;00m\u001b[38;5;250m \u001b[39m\u001b[34m_run_search\u001b[39m(\u001b[38;5;28mself\u001b[39m, evaluate_candidates):\n\u001b[32m   1570\u001b[39m \u001b[38;5;250m    \u001b[39m\u001b[33;03m\"\"\"Search all candidates in param_grid\"\"\"\u001b[39;00m\n\u001b[32m-> \u001b[39m\u001b[32m1571\u001b[39m     evaluate_candidates(ParameterGrid(\u001b[38;5;28mself\u001b[39m.param_grid))\n",
      "\u001b[36mFile \u001b[39m\u001b[32m/share/anaconda3/envs/mosaiks/lib/python3.11/site-packages/sklearn/model_selection/_search.py:970\u001b[39m, in \u001b[36mBaseSearchCV.fit.<locals>.evaluate_candidates\u001b[39m\u001b[34m(candidate_params, cv, more_results)\u001b[39m\n\u001b[32m    962\u001b[39m \u001b[38;5;28;01mif\u001b[39;00m \u001b[38;5;28mself\u001b[39m.verbose > \u001b[32m0\u001b[39m:\n\u001b[32m    963\u001b[39m     \u001b[38;5;28mprint\u001b[39m(\n\u001b[32m    964\u001b[39m         \u001b[33m\"\u001b[39m\u001b[33mFitting \u001b[39m\u001b[38;5;132;01m{0}\u001b[39;00m\u001b[33m folds for each of \u001b[39m\u001b[38;5;132;01m{1}\u001b[39;00m\u001b[33m candidates,\u001b[39m\u001b[33m\"\u001b[39m\n\u001b[32m    965\u001b[39m         \u001b[33m\"\u001b[39m\u001b[33m totalling \u001b[39m\u001b[38;5;132;01m{2}\u001b[39;00m\u001b[33m fits\u001b[39m\u001b[33m\"\u001b[39m.format(\n\u001b[32m    966\u001b[39m             n_splits, n_candidates, n_candidates * n_splits\n\u001b[32m    967\u001b[39m         )\n\u001b[32m    968\u001b[39m     )\n\u001b[32m--> \u001b[39m\u001b[32m970\u001b[39m out = parallel(\n\u001b[32m    971\u001b[39m     delayed(_fit_and_score)(\n\u001b[32m    972\u001b[39m         clone(base_estimator),\n\u001b[32m    973\u001b[39m         X,\n\u001b[32m    974\u001b[39m         y,\n\u001b[32m    975\u001b[39m         train=train,\n\u001b[32m    976\u001b[39m         test=test,\n\u001b[32m    977\u001b[39m         parameters=parameters,\n\u001b[32m    978\u001b[39m         split_progress=(split_idx, n_splits),\n\u001b[32m    979\u001b[39m         candidate_progress=(cand_idx, n_candidates),\n\u001b[32m    980\u001b[39m         **fit_and_score_kwargs,\n\u001b[32m    981\u001b[39m     )\n\u001b[32m    982\u001b[39m     \u001b[38;5;28;01mfor\u001b[39;00m (cand_idx, parameters), (split_idx, (train, test)) \u001b[38;5;129;01min\u001b[39;00m product(\n\u001b[32m    983\u001b[39m         \u001b[38;5;28menumerate\u001b[39m(candidate_params),\n\u001b[32m    984\u001b[39m         \u001b[38;5;28menumerate\u001b[39m(cv.split(X, y, **routed_params.splitter.split)),\n\u001b[32m    985\u001b[39m     )\n\u001b[32m    986\u001b[39m )\n\u001b[32m    988\u001b[39m \u001b[38;5;28;01mif\u001b[39;00m \u001b[38;5;28mlen\u001b[39m(out) < \u001b[32m1\u001b[39m:\n\u001b[32m    989\u001b[39m     \u001b[38;5;28;01mraise\u001b[39;00m \u001b[38;5;167;01mValueError\u001b[39;00m(\n\u001b[32m    990\u001b[39m         \u001b[33m\"\u001b[39m\u001b[33mNo fits were performed. \u001b[39m\u001b[33m\"\u001b[39m\n\u001b[32m    991\u001b[39m         \u001b[33m\"\u001b[39m\u001b[33mWas the CV iterator empty? \u001b[39m\u001b[33m\"\u001b[39m\n\u001b[32m    992\u001b[39m         \u001b[33m\"\u001b[39m\u001b[33mWere there no candidates?\u001b[39m\u001b[33m\"\u001b[39m\n\u001b[32m    993\u001b[39m     )\n",
      "\u001b[36mFile \u001b[39m\u001b[32m/share/anaconda3/envs/mosaiks/lib/python3.11/site-packages/sklearn/utils/parallel.py:77\u001b[39m, in \u001b[36mParallel.__call__\u001b[39m\u001b[34m(self, iterable)\u001b[39m\n\u001b[32m     72\u001b[39m config = get_config()\n\u001b[32m     73\u001b[39m iterable_with_config = (\n\u001b[32m     74\u001b[39m     (_with_config(delayed_func, config), args, kwargs)\n\u001b[32m     75\u001b[39m     \u001b[38;5;28;01mfor\u001b[39;00m delayed_func, args, kwargs \u001b[38;5;129;01min\u001b[39;00m iterable\n\u001b[32m     76\u001b[39m )\n\u001b[32m---> \u001b[39m\u001b[32m77\u001b[39m \u001b[38;5;28;01mreturn\u001b[39;00m \u001b[38;5;28msuper\u001b[39m().\u001b[34m__call__\u001b[39m(iterable_with_config)\n",
      "\u001b[36mFile \u001b[39m\u001b[32m/share/anaconda3/envs/mosaiks/lib/python3.11/site-packages/joblib/parallel.py:1985\u001b[39m, in \u001b[36mParallel.__call__\u001b[39m\u001b[34m(self, iterable)\u001b[39m\n\u001b[32m   1983\u001b[39m     output = \u001b[38;5;28mself\u001b[39m._get_sequential_output(iterable)\n\u001b[32m   1984\u001b[39m     \u001b[38;5;28mnext\u001b[39m(output)\n\u001b[32m-> \u001b[39m\u001b[32m1985\u001b[39m     \u001b[38;5;28;01mreturn\u001b[39;00m output \u001b[38;5;28;01mif\u001b[39;00m \u001b[38;5;28mself\u001b[39m.return_generator \u001b[38;5;28;01melse\u001b[39;00m \u001b[38;5;28mlist\u001b[39m(output)\n\u001b[32m   1987\u001b[39m \u001b[38;5;66;03m# Let's create an ID that uniquely identifies the current call. If the\u001b[39;00m\n\u001b[32m   1988\u001b[39m \u001b[38;5;66;03m# call is interrupted early and that the same instance is immediately\u001b[39;00m\n\u001b[32m   1989\u001b[39m \u001b[38;5;66;03m# reused, this id will be used to prevent workers that were\u001b[39;00m\n\u001b[32m   1990\u001b[39m \u001b[38;5;66;03m# concurrently finalizing a task from the previous call to run the\u001b[39;00m\n\u001b[32m   1991\u001b[39m \u001b[38;5;66;03m# callback.\u001b[39;00m\n\u001b[32m   1992\u001b[39m \u001b[38;5;28;01mwith\u001b[39;00m \u001b[38;5;28mself\u001b[39m._lock:\n",
      "\u001b[36mFile \u001b[39m\u001b[32m/share/anaconda3/envs/mosaiks/lib/python3.11/site-packages/joblib/parallel.py:1913\u001b[39m, in \u001b[36mParallel._get_sequential_output\u001b[39m\u001b[34m(self, iterable)\u001b[39m\n\u001b[32m   1911\u001b[39m \u001b[38;5;28mself\u001b[39m.n_dispatched_batches += \u001b[32m1\u001b[39m\n\u001b[32m   1912\u001b[39m \u001b[38;5;28mself\u001b[39m.n_dispatched_tasks += \u001b[32m1\u001b[39m\n\u001b[32m-> \u001b[39m\u001b[32m1913\u001b[39m res = func(*args, **kwargs)\n\u001b[32m   1914\u001b[39m \u001b[38;5;28mself\u001b[39m.n_completed_tasks += \u001b[32m1\u001b[39m\n\u001b[32m   1915\u001b[39m \u001b[38;5;28mself\u001b[39m.print_progress()\n",
      "\u001b[36mFile \u001b[39m\u001b[32m/share/anaconda3/envs/mosaiks/lib/python3.11/site-packages/sklearn/utils/parallel.py:139\u001b[39m, in \u001b[36m_FuncWrapper.__call__\u001b[39m\u001b[34m(self, *args, **kwargs)\u001b[39m\n\u001b[32m    137\u001b[39m     config = {}\n\u001b[32m    138\u001b[39m \u001b[38;5;28;01mwith\u001b[39;00m config_context(**config):\n\u001b[32m--> \u001b[39m\u001b[32m139\u001b[39m     \u001b[38;5;28;01mreturn\u001b[39;00m \u001b[38;5;28mself\u001b[39m.function(*args, **kwargs)\n",
      "\u001b[36mFile \u001b[39m\u001b[32m/share/anaconda3/envs/mosaiks/lib/python3.11/site-packages/sklearn/model_selection/_validation.py:866\u001b[39m, in \u001b[36m_fit_and_score\u001b[39m\u001b[34m(estimator, X, y, scorer, train, test, verbose, parameters, fit_params, score_params, return_train_score, return_parameters, return_n_test_samples, return_times, return_estimator, split_progress, candidate_progress, error_score)\u001b[39m\n\u001b[32m    864\u001b[39m         estimator.fit(X_train, **fit_params)\n\u001b[32m    865\u001b[39m     \u001b[38;5;28;01melse\u001b[39;00m:\n\u001b[32m--> \u001b[39m\u001b[32m866\u001b[39m         estimator.fit(X_train, y_train, **fit_params)\n\u001b[32m    868\u001b[39m \u001b[38;5;28;01mexcept\u001b[39;00m \u001b[38;5;167;01mException\u001b[39;00m:\n\u001b[32m    869\u001b[39m     \u001b[38;5;66;03m# Note fit time as time until error\u001b[39;00m\n\u001b[32m    870\u001b[39m     fit_time = time.time() - start_time\n",
      "\u001b[36mFile \u001b[39m\u001b[32m/share/anaconda3/envs/mosaiks/lib/python3.11/site-packages/sklearn/base.py:1389\u001b[39m, in \u001b[36m_fit_context.<locals>.decorator.<locals>.wrapper\u001b[39m\u001b[34m(estimator, *args, **kwargs)\u001b[39m\n\u001b[32m   1382\u001b[39m     estimator._validate_params()\n\u001b[32m   1384\u001b[39m \u001b[38;5;28;01mwith\u001b[39;00m config_context(\n\u001b[32m   1385\u001b[39m     skip_parameter_validation=(\n\u001b[32m   1386\u001b[39m         prefer_skip_nested_validation \u001b[38;5;129;01mor\u001b[39;00m global_skip_validation\n\u001b[32m   1387\u001b[39m     )\n\u001b[32m   1388\u001b[39m ):\n\u001b[32m-> \u001b[39m\u001b[32m1389\u001b[39m     \u001b[38;5;28;01mreturn\u001b[39;00m fit_method(estimator, *args, **kwargs)\n",
      "\u001b[36mFile \u001b[39m\u001b[32m/share/anaconda3/envs/mosaiks/lib/python3.11/site-packages/sklearn/linear_model/_ridge.py:1249\u001b[39m, in \u001b[36mRidge.fit\u001b[39m\u001b[34m(self, X, y, sample_weight)\u001b[39m\n\u001b[32m   1238\u001b[39m xp, _ = get_namespace(X, y, sample_weight)\n\u001b[32m   1239\u001b[39m X, y = validate_data(\n\u001b[32m   1240\u001b[39m     \u001b[38;5;28mself\u001b[39m,\n\u001b[32m   1241\u001b[39m     X,\n\u001b[32m   (...)\u001b[39m\u001b[32m   1247\u001b[39m     y_numeric=\u001b[38;5;28;01mTrue\u001b[39;00m,\n\u001b[32m   1248\u001b[39m )\n\u001b[32m-> \u001b[39m\u001b[32m1249\u001b[39m \u001b[38;5;28;01mreturn\u001b[39;00m \u001b[38;5;28msuper\u001b[39m().fit(X, y, sample_weight=sample_weight)\n",
      "\u001b[36mFile \u001b[39m\u001b[32m/share/anaconda3/envs/mosaiks/lib/python3.11/site-packages/sklearn/linear_model/_ridge.py:991\u001b[39m, in \u001b[36m_BaseRidge.fit\u001b[39m\u001b[34m(self, X, y, sample_weight)\u001b[39m\n\u001b[32m    987\u001b[39m     \u001b[38;5;28;01melse\u001b[39;00m:\n\u001b[32m    988\u001b[39m         \u001b[38;5;66;03m# for dense matrices or when intercept is set to 0\u001b[39;00m\n\u001b[32m    989\u001b[39m         params = {}\n\u001b[32m--> \u001b[39m\u001b[32m991\u001b[39m     \u001b[38;5;28mself\u001b[39m.coef_, \u001b[38;5;28mself\u001b[39m.n_iter_, \u001b[38;5;28mself\u001b[39m.solver_ = _ridge_regression(\n\u001b[32m    992\u001b[39m         X,\n\u001b[32m    993\u001b[39m         y,\n\u001b[32m    994\u001b[39m         alpha=\u001b[38;5;28mself\u001b[39m.alpha,\n\u001b[32m    995\u001b[39m         sample_weight=sample_weight,\n\u001b[32m    996\u001b[39m         max_iter=\u001b[38;5;28mself\u001b[39m.max_iter,\n\u001b[32m    997\u001b[39m         tol=\u001b[38;5;28mself\u001b[39m.tol,\n\u001b[32m    998\u001b[39m         solver=solver,\n\u001b[32m    999\u001b[39m         positive=\u001b[38;5;28mself\u001b[39m.positive,\n\u001b[32m   1000\u001b[39m         random_state=\u001b[38;5;28mself\u001b[39m.random_state,\n\u001b[32m   1001\u001b[39m         return_n_iter=\u001b[38;5;28;01mTrue\u001b[39;00m,\n\u001b[32m   1002\u001b[39m         return_intercept=\u001b[38;5;28;01mFalse\u001b[39;00m,\n\u001b[32m   1003\u001b[39m         return_solver=\u001b[38;5;28;01mTrue\u001b[39;00m,\n\u001b[32m   1004\u001b[39m         check_input=\u001b[38;5;28;01mFalse\u001b[39;00m,\n\u001b[32m   1005\u001b[39m         fit_intercept=\u001b[38;5;28mself\u001b[39m.fit_intercept,\n\u001b[32m   1006\u001b[39m         **params,\n\u001b[32m   1007\u001b[39m     )\n\u001b[32m   1008\u001b[39m     \u001b[38;5;28mself\u001b[39m._set_intercept(X_offset, y_offset, X_scale)\n\u001b[32m   1010\u001b[39m \u001b[38;5;28;01mreturn\u001b[39;00m \u001b[38;5;28mself\u001b[39m\n",
      "\u001b[36mFile \u001b[39m\u001b[32m/share/anaconda3/envs/mosaiks/lib/python3.11/site-packages/sklearn/linear_model/_ridge.py:740\u001b[39m, in \u001b[36m_ridge_regression\u001b[39m\u001b[34m(X, y, alpha, sample_weight, solver, max_iter, tol, verbose, positive, random_state, return_n_iter, return_intercept, return_solver, X_scale, X_offset, check_input, fit_intercept)\u001b[39m\n\u001b[32m    738\u001b[39m \u001b[38;5;28;01melif\u001b[39;00m solver == \u001b[33m\"\u001b[39m\u001b[33mcholesky\u001b[39m\u001b[33m\"\u001b[39m:\n\u001b[32m    739\u001b[39m     \u001b[38;5;28;01mif\u001b[39;00m n_features > n_samples:\n\u001b[32m--> \u001b[39m\u001b[32m740\u001b[39m         K = safe_sparse_dot(X, X.T, dense_output=\u001b[38;5;28;01mTrue\u001b[39;00m)\n\u001b[32m    741\u001b[39m         \u001b[38;5;28;01mtry\u001b[39;00m:\n\u001b[32m    742\u001b[39m             dual_coef = _solve_cholesky_kernel(K, y, alpha)\n",
      "\u001b[36mFile \u001b[39m\u001b[32m/share/anaconda3/envs/mosaiks/lib/python3.11/site-packages/sklearn/utils/extmath.py:206\u001b[39m, in \u001b[36msafe_sparse_dot\u001b[39m\u001b[34m(a, b, dense_output)\u001b[39m\n\u001b[32m    202\u001b[39m \u001b[38;5;28;01melse\u001b[39;00m:\n\u001b[32m    203\u001b[39m     ret = a @ b\n\u001b[32m    205\u001b[39m \u001b[38;5;28;01mif\u001b[39;00m (\n\u001b[32m--> \u001b[39m\u001b[32m206\u001b[39m     sparse.issparse(a)\n\u001b[32m    207\u001b[39m     \u001b[38;5;129;01mand\u001b[39;00m sparse.issparse(b)\n\u001b[32m    208\u001b[39m     \u001b[38;5;129;01mand\u001b[39;00m dense_output\n\u001b[32m    209\u001b[39m     \u001b[38;5;129;01mand\u001b[39;00m \u001b[38;5;28mhasattr\u001b[39m(ret, \u001b[33m\"\u001b[39m\u001b[33mtoarray\u001b[39m\u001b[33m\"\u001b[39m)\n\u001b[32m    210\u001b[39m ):\n\u001b[32m    211\u001b[39m     \u001b[38;5;28;01mreturn\u001b[39;00m ret.toarray()\n\u001b[32m    212\u001b[39m \u001b[38;5;28;01mreturn\u001b[39;00m ret\n",
      "\u001b[36mFile \u001b[39m\u001b[32m/share/anaconda3/envs/mosaiks/lib/python3.11/site-packages/scipy/sparse/_base.py:1388\u001b[39m, in \u001b[36missparse\u001b[39m\u001b[34m(x)\u001b[39m\n\u001b[32m   1382\u001b[39m \u001b[38;5;250m    \u001b[39m\u001b[33;03m\"\"\"A namespace class to separate sparray from spmatrix\"\"\"\u001b[39;00m\n\u001b[32m   1385\u001b[39m sparray.\u001b[34m__doc__\u001b[39m = _spbase.\u001b[34m__doc__\u001b[39m\n\u001b[32m-> \u001b[39m\u001b[32m1388\u001b[39m \u001b[38;5;28;01mdef\u001b[39;00m\u001b[38;5;250m \u001b[39m\u001b[34missparse\u001b[39m(x):\n\u001b[32m   1389\u001b[39m \u001b[38;5;250m    \u001b[39m\u001b[33;03m\"\"\"Is `x` of a sparse array or sparse matrix type?\u001b[39;00m\n\u001b[32m   1390\u001b[39m \n\u001b[32m   1391\u001b[39m \u001b[33;03m    Parameters\u001b[39;00m\n\u001b[32m   (...)\u001b[39m\u001b[32m   1417\u001b[39m \u001b[33;03m    False\u001b[39;00m\n\u001b[32m   1418\u001b[39m \u001b[33;03m    \"\"\"\u001b[39;00m\n\u001b[32m   1419\u001b[39m     \u001b[38;5;28;01mreturn\u001b[39;00m \u001b[38;5;28misinstance\u001b[39m(x, _spbase)\n",
      "\u001b[31mKeyboardInterrupt\u001b[39m: "
     ]
    }
   ],
   "source": [
    "features_path = f\"/home/libe2152/optimizedsampling/0_data/features/india_secc/India_SECC_with_splits_4000.pkl\"\n",
    "cluster_sampling_dir= f\"/home/libe2152/optimizedsampling/0_data/initial_samples/india_secc/cluster_sampling\"\n",
    "convenience_sampling_dir = f\"/home/libe2152/optimizedsampling/0_data/initial_samples/india_secc/convenience_sampling\"\n",
    "random_sampling_dir = f\"/home/libe2152/optimizedsampling/0_data/initial_samples/india_secc/random_sampling\"\n",
    "\n",
    "results_dir = f\"/home/libe2152/optimizedsampling/0_results/india_secc\"\n",
    "\n",
    "# Run cluster sampling R2 scores\n",
    "cluster_sampling_r2_scores(\n",
    "    features_path=features_path,\n",
    "    sampling_dir=cluster_sampling_dir,\n",
    "    results_dir=results_dir,\n",
    "    ridge_regression_fn=ridge_regression,\n",
    "    verbose=True,\n",
    ")\n",
    "\n",
    "# Run convenience sampling R2 scores\n",
    "convenience_sampling_r2_scores(\n",
    "    features_path=features_path,\n",
    "    sampling_dir=convenience_sampling_dir,\n",
    "    results_dir=results_dir,\n",
    "    ridge_regression_fn=ridge_regression,\n",
    "    verbose=True,\n",
    ")\n",
    "\n",
    "# Run random sampling R2 scores\n",
    "random_sampling_r2_scores(\n",
    "    features_path=features_path,\n",
    "    sampling_dir=random_sampling_dir,\n",
    "    results_dir=results_dir,\n",
    "    ridge_regression_fn=ridge_regression,\n",
    "    verbose=True,\n",
    ")"
   ]
  }
 ],
 "metadata": {
  "kernelspec": {
   "display_name": "mosaiks",
   "language": "python",
   "name": "python3"
  },
  "language_info": {
   "codemirror_mode": {
    "name": "ipython",
    "version": 3
   },
   "file_extension": ".py",
   "mimetype": "text/x-python",
   "name": "python",
   "nbconvert_exporter": "python",
   "pygments_lexer": "ipython3",
   "version": "3.11.11"
  }
 },
 "nbformat": 4,
 "nbformat_minor": 5
}
