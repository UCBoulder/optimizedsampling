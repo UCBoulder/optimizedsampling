{
 "cells": [
  {
   "cell_type": "code",
   "execution_count": 1,
   "id": "a1c9fd8a",
   "metadata": {
    "execution": {
     "iopub.execute_input": "2025-07-16T15:47:18.939366Z",
     "iopub.status.busy": "2025-07-16T15:47:18.939124Z",
     "iopub.status.idle": "2025-07-16T15:47:20.998390Z",
     "shell.execute_reply": "2025-07-16T15:47:20.997545Z"
    }
   },
   "outputs": [],
   "source": [
    "from regressions import ridge_regression\n",
    "from initial_set_regressions import cluster_sampling_r2_scores, convenience_sampling_r2_scores, random_sampling_r2_scores"
   ]
  },
  {
   "cell_type": "markdown",
   "id": "7294efcf",
   "metadata": {},
   "source": [
    "# India SECC Initial Set Regressions"
   ]
  },
  {
   "cell_type": "code",
   "execution_count": 2,
   "id": "a4da2180",
   "metadata": {
    "execution": {
     "iopub.execute_input": "2025-07-16T15:47:21.001764Z",
     "iopub.status.busy": "2025-07-16T15:47:21.001167Z",
     "iopub.status.idle": "2025-07-16T15:56:51.266885Z",
     "shell.execute_reply": "2025-07-16T15:56:51.266313Z"
    }
   },
   "outputs": [
    {
     "name": "stdout",
     "output_type": "stream",
     "text": [
      "Loading features from /home/libe2152/optimizedsampling/0_data/features/india_secc/India_SECC_with_splits_4000.pkl ...\n"
     ]
    },
    {
     "name": "stdout",
     "output_type": "stream",
     "text": [
      "Processing samples from /home/libe2152/optimizedsampling/0_data/initial_samples/india_secc/random_sampling ...\n"
     ]
    },
    {
     "name": "stderr",
     "output_type": "stream",
     "text": [
      "\r",
      "Processing samples:   0%|                                                                                                                                   | 0/101 [00:00<?, ?it/s]"
     ]
    },
    {
     "name": "stdout",
     "output_type": "stream",
     "text": [
      "Fitting regression...\n",
      "NUM SAMPLES: 1000\n"
     ]
    },
    {
     "name": "stdout",
     "output_type": "stream",
     "text": [
      "Best alpha: 46.41588833612782\n"
     ]
    },
    {
     "name": "stderr",
     "output_type": "stream",
     "text": [
      "\r",
      "Processing samples:   2%|██▍                                                                                                                        | 2/101 [00:22<18:39, 11.30s/it]"
     ]
    },
    {
     "name": "stdout",
     "output_type": "stream",
     "text": [
      "0.22639064281208154\n",
      "[WRITE] Saved result from random_sample_1000_points_seed_1.pkl to /home/libe2152/optimizedsampling/0_results/india_secc/random_sampling_r2_scores.csv\n",
      "Fitting regression...\n",
      "NUM SAMPLES: 1000\n"
     ]
    },
    {
     "name": "stdout",
     "output_type": "stream",
     "text": [
      "Best alpha: 46.41588833612782\n"
     ]
    },
    {
     "name": "stderr",
     "output_type": "stream",
     "text": [
      "\r",
      "Processing samples:   3%|███▋                                                                                                                       | 3/101 [00:33<17:52, 10.95s/it]"
     ]
    },
    {
     "name": "stdout",
     "output_type": "stream",
     "text": [
      "0.2726612919822412\n",
      "[WRITE] Saved result from random_sample_1000_points_seed_1213.pkl to /home/libe2152/optimizedsampling/0_results/india_secc/random_sampling_r2_scores.csv\n",
      "Fitting regression...\n",
      "NUM SAMPLES: 1000\n"
     ]
    },
    {
     "name": "stdout",
     "output_type": "stream",
     "text": [
      "Best alpha: 46.41588833612782\n"
     ]
    },
    {
     "name": "stderr",
     "output_type": "stream",
     "text": [
      "\r",
      "Processing samples:   4%|████▊                                                                                                                      | 4/101 [00:42<16:43, 10.35s/it]"
     ]
    },
    {
     "name": "stdout",
     "output_type": "stream",
     "text": [
      "0.2800374536990764\n",
      "[WRITE] Saved result from random_sample_1000_points_seed_123.pkl to /home/libe2152/optimizedsampling/0_results/india_secc/random_sampling_r2_scores.csv\n",
      "Fitting regression...\n",
      "NUM SAMPLES: 1000\n"
     ]
    },
    {
     "name": "stdout",
     "output_type": "stream",
     "text": [
      "Best alpha: 46.41588833612782\n"
     ]
    },
    {
     "name": "stderr",
     "output_type": "stream",
     "text": [
      "\r",
      "Processing samples:   5%|██████                                                                                                                     | 5/101 [00:51<15:55,  9.96s/it]"
     ]
    },
    {
     "name": "stdout",
     "output_type": "stream",
     "text": [
      "0.24465594060197549\n",
      "[WRITE] Saved result from random_sample_1000_points_seed_1234.pkl to /home/libe2152/optimizedsampling/0_results/india_secc/random_sampling_r2_scores.csv\n",
      "Fitting regression...\n",
      "NUM SAMPLES: 1000\n"
     ]
    },
    {
     "name": "stdout",
     "output_type": "stream",
     "text": [
      "Best alpha: 46.41588833612782\n"
     ]
    },
    {
     "name": "stderr",
     "output_type": "stream",
     "text": [
      "\r",
      "Processing samples:   6%|███████▎                                                                                                                   | 6/101 [01:01<15:32,  9.81s/it]"
     ]
    },
    {
     "name": "stdout",
     "output_type": "stream",
     "text": [
      "0.19117519021102214\n",
      "[WRITE] Saved result from random_sample_1000_points_seed_1415.pkl to /home/libe2152/optimizedsampling/0_results/india_secc/random_sampling_r2_scores.csv\n",
      "Fitting regression...\n",
      "NUM SAMPLES: 1000\n"
     ]
    },
    {
     "name": "stdout",
     "output_type": "stream",
     "text": [
      "Best alpha: 3.593813663804626\n"
     ]
    },
    {
     "name": "stderr",
     "output_type": "stream",
     "text": [
      "\r",
      "Processing samples:   7%|████████▌                                                                                                                  | 7/101 [01:10<14:57,  9.54s/it]"
     ]
    },
    {
     "name": "stdout",
     "output_type": "stream",
     "text": [
      "0.28867529210763654\n",
      "[WRITE] Saved result from random_sample_1000_points_seed_42.pkl to /home/libe2152/optimizedsampling/0_results/india_secc/random_sampling_r2_scores.csv\n",
      "Fitting regression...\n",
      "NUM SAMPLES: 1000\n"
     ]
    },
    {
     "name": "stdout",
     "output_type": "stream",
     "text": [
      "Best alpha: 46.41588833612782\n"
     ]
    },
    {
     "name": "stderr",
     "output_type": "stream",
     "text": [
      "\r",
      "Processing samples:   8%|█████████▋                                                                                                                 | 8/101 [01:19<14:55,  9.63s/it]"
     ]
    },
    {
     "name": "stdout",
     "output_type": "stream",
     "text": [
      "0.23862215444044055\n",
      "[WRITE] Saved result from random_sample_1000_points_seed_456.pkl to /home/libe2152/optimizedsampling/0_results/india_secc/random_sampling_r2_scores.csv\n",
      "Fitting regression...\n",
      "NUM SAMPLES: 1000\n"
     ]
    },
    {
     "name": "stdout",
     "output_type": "stream",
     "text": [
      "Best alpha: 599.4842503189421\n"
     ]
    },
    {
     "name": "stderr",
     "output_type": "stream",
     "text": [
      "\r",
      "Processing samples:   9%|██████████▉                                                                                                                | 9/101 [01:29<14:39,  9.56s/it]"
     ]
    },
    {
     "name": "stdout",
     "output_type": "stream",
     "text": [
      "0.23345217664063334\n",
      "[WRITE] Saved result from random_sample_1000_points_seed_5678.pkl to /home/libe2152/optimizedsampling/0_results/india_secc/random_sampling_r2_scores.csv\n",
      "Fitting regression...\n",
      "NUM SAMPLES: 1000\n"
     ]
    },
    {
     "name": "stdout",
     "output_type": "stream",
     "text": [
      "Best alpha: 46.41588833612782\n"
     ]
    },
    {
     "name": "stderr",
     "output_type": "stream",
     "text": [
      "\r",
      "Processing samples:  10%|████████████                                                                                                              | 10/101 [01:39<14:39,  9.67s/it]"
     ]
    },
    {
     "name": "stdout",
     "output_type": "stream",
     "text": [
      "0.2409465504099776\n",
      "[WRITE] Saved result from random_sample_1000_points_seed_789.pkl to /home/libe2152/optimizedsampling/0_results/india_secc/random_sampling_r2_scores.csv\n",
      "Fitting regression...\n",
      "NUM SAMPLES: 1000\n"
     ]
    },
    {
     "name": "stdout",
     "output_type": "stream",
     "text": [
      "Best alpha: 46.41588833612782\n"
     ]
    },
    {
     "name": "stderr",
     "output_type": "stream",
     "text": [
      "\r",
      "Processing samples:  11%|█████████████▎                                                                                                            | 11/101 [01:54<16:57, 11.31s/it]"
     ]
    },
    {
     "name": "stdout",
     "output_type": "stream",
     "text": [
      "0.23562409154249664\n",
      "[WRITE] Saved result from random_sample_1000_points_seed_9101.pkl to /home/libe2152/optimizedsampling/0_results/india_secc/random_sampling_r2_scores.csv\n",
      "Fitting regression...\n",
      "NUM SAMPLES: 100\n"
     ]
    },
    {
     "name": "stdout",
     "output_type": "stream",
     "text": [
      "Best alpha: 599.4842503189421\n"
     ]
    },
    {
     "name": "stderr",
     "output_type": "stream",
     "text": [
      "\r",
      "Processing samples:  12%|██████████████▍                                                                                                           | 12/101 [01:54<11:56,  8.05s/it]"
     ]
    },
    {
     "name": "stdout",
     "output_type": "stream",
     "text": [
      "-0.0157732931741561\n",
      "[WRITE] Saved result from random_sample_100_points_seed_1.pkl to /home/libe2152/optimizedsampling/0_results/india_secc/random_sampling_r2_scores.csv\n",
      "Fitting regression...\n",
      "NUM SAMPLES: 100\n"
     ]
    },
    {
     "name": "stdout",
     "output_type": "stream",
     "text": [
      "Best alpha: 7742.636826811277\n"
     ]
    },
    {
     "name": "stderr",
     "output_type": "stream",
     "text": [
      "\r",
      "Processing samples:  13%|███████████████▋                                                                                                          | 13/101 [01:55<08:29,  5.79s/it]"
     ]
    },
    {
     "name": "stdout",
     "output_type": "stream",
     "text": [
      "0.12420863720646969\n",
      "[WRITE] Saved result from random_sample_100_points_seed_1213.pkl to /home/libe2152/optimizedsampling/0_results/india_secc/random_sampling_r2_scores.csv\n",
      "Fitting regression...\n",
      "NUM SAMPLES: 100\n"
     ]
    },
    {
     "name": "stdout",
     "output_type": "stream",
     "text": [
      "Best alpha: 7742.636826811277\n"
     ]
    },
    {
     "name": "stderr",
     "output_type": "stream",
     "text": [
      "\r",
      "Processing samples:  14%|████████████████▉                                                                                                         | 14/101 [01:56<06:06,  4.22s/it]"
     ]
    },
    {
     "name": "stdout",
     "output_type": "stream",
     "text": [
      "0.011800241235173758\n",
      "[WRITE] Saved result from random_sample_100_points_seed_123.pkl to /home/libe2152/optimizedsampling/0_results/india_secc/random_sampling_r2_scores.csv\n",
      "Fitting regression...\n",
      "NUM SAMPLES: 100\n"
     ]
    },
    {
     "name": "stdout",
     "output_type": "stream",
     "text": [
      "Best alpha: 100000.0\n"
     ]
    },
    {
     "name": "stderr",
     "output_type": "stream",
     "text": [
      "\r",
      "Processing samples:  15%|██████████████████                                                                                                        | 15/101 [01:56<04:36,  3.21s/it]"
     ]
    },
    {
     "name": "stdout",
     "output_type": "stream",
     "text": [
      "0.04667556723463884\n",
      "[WRITE] Saved result from random_sample_100_points_seed_1234.pkl to /home/libe2152/optimizedsampling/0_results/india_secc/random_sampling_r2_scores.csv\n",
      "Fitting regression...\n",
      "NUM SAMPLES: 100\n"
     ]
    },
    {
     "name": "stdout",
     "output_type": "stream",
     "text": [
      "Best alpha: 7742.636826811277\n"
     ]
    },
    {
     "name": "stderr",
     "output_type": "stream",
     "text": [
      "\r",
      "Processing samples:  16%|███████████████████▎                                                                                                      | 16/101 [01:57<03:25,  2.41s/it]"
     ]
    },
    {
     "name": "stdout",
     "output_type": "stream",
     "text": [
      "-0.992758771568478\n",
      "[WRITE] Saved result from random_sample_100_points_seed_1415.pkl to /home/libe2152/optimizedsampling/0_results/india_secc/random_sampling_r2_scores.csv\n",
      "Fitting regression...\n",
      "NUM SAMPLES: 100\n"
     ]
    },
    {
     "name": "stdout",
     "output_type": "stream",
     "text": [
      "Best alpha: 599.4842503189421\n"
     ]
    },
    {
     "name": "stderr",
     "output_type": "stream",
     "text": [
      "\r",
      "Processing samples:  17%|████████████████████▌                                                                                                     | 17/101 [01:58<02:37,  1.87s/it]"
     ]
    },
    {
     "name": "stdout",
     "output_type": "stream",
     "text": [
      "0.028362797803546225\n",
      "[WRITE] Saved result from random_sample_100_points_seed_42.pkl to /home/libe2152/optimizedsampling/0_results/india_secc/random_sampling_r2_scores.csv\n",
      "Fitting regression...\n",
      "NUM SAMPLES: 100\n"
     ]
    },
    {
     "name": "stdout",
     "output_type": "stream",
     "text": [
      "Best alpha: 7742.636826811277\n"
     ]
    },
    {
     "name": "stderr",
     "output_type": "stream",
     "text": [
      "\r",
      "Processing samples:  18%|█████████████████████▋                                                                                                    | 18/101 [01:58<02:04,  1.49s/it]"
     ]
    },
    {
     "name": "stdout",
     "output_type": "stream",
     "text": [
      "0.020539775111258485\n",
      "[WRITE] Saved result from random_sample_100_points_seed_456.pkl to /home/libe2152/optimizedsampling/0_results/india_secc/random_sampling_r2_scores.csv\n",
      "Fitting regression...\n",
      "NUM SAMPLES: 100\n"
     ]
    },
    {
     "name": "stdout",
     "output_type": "stream",
     "text": [
      "Best alpha: 100000.0\n"
     ]
    },
    {
     "name": "stderr",
     "output_type": "stream",
     "text": [
      "\r",
      "Processing samples:  19%|██████████████████████▉                                                                                                   | 19/101 [01:59<01:38,  1.21s/it]"
     ]
    },
    {
     "name": "stdout",
     "output_type": "stream",
     "text": [
      "0.07051857288093732\n",
      "[WRITE] Saved result from random_sample_100_points_seed_5678.pkl to /home/libe2152/optimizedsampling/0_results/india_secc/random_sampling_r2_scores.csv\n",
      "Fitting regression...\n",
      "NUM SAMPLES: 100\n"
     ]
    },
    {
     "name": "stdout",
     "output_type": "stream",
     "text": [
      "Best alpha: 7742.636826811277\n"
     ]
    },
    {
     "name": "stderr",
     "output_type": "stream",
     "text": [
      "\r",
      "Processing samples:  20%|████████████████████████▏                                                                                                 | 20/101 [01:59<01:22,  1.02s/it]"
     ]
    },
    {
     "name": "stdout",
     "output_type": "stream",
     "text": [
      "0.08325328822375078\n",
      "[WRITE] Saved result from random_sample_100_points_seed_789.pkl to /home/libe2152/optimizedsampling/0_results/india_secc/random_sampling_r2_scores.csv\n",
      "Fitting regression...\n",
      "NUM SAMPLES: 100\n"
     ]
    },
    {
     "name": "stdout",
     "output_type": "stream",
     "text": [
      "Best alpha: 7742.636826811277\n"
     ]
    },
    {
     "name": "stderr",
     "output_type": "stream",
     "text": [
      "\r",
      "Processing samples:  21%|█████████████████████████▎                                                                                                | 21/101 [02:00<01:11,  1.12it/s]"
     ]
    },
    {
     "name": "stdout",
     "output_type": "stream",
     "text": [
      "0.07944132278584326\n",
      "[WRITE] Saved result from random_sample_100_points_seed_9101.pkl to /home/libe2152/optimizedsampling/0_results/india_secc/random_sampling_r2_scores.csv\n",
      "Fitting regression...\n",
      "NUM SAMPLES: 200\n"
     ]
    },
    {
     "name": "stdout",
     "output_type": "stream",
     "text": [
      "Best alpha: 599.4842503189421\n"
     ]
    },
    {
     "name": "stderr",
     "output_type": "stream",
     "text": [
      "\r",
      "Processing samples:  22%|██████████████████████████▌                                                                                               | 22/101 [02:02<01:39,  1.26s/it]"
     ]
    },
    {
     "name": "stdout",
     "output_type": "stream",
     "text": [
      "0.06977545295804566\n",
      "[WRITE] Saved result from random_sample_200_points_seed_1.pkl to /home/libe2152/optimizedsampling/0_results/india_secc/random_sampling_r2_scores.csv\n",
      "Fitting regression...\n",
      "NUM SAMPLES: 200\n"
     ]
    },
    {
     "name": "stdout",
     "output_type": "stream",
     "text": [
      "Best alpha: 7742.636826811277\n"
     ]
    },
    {
     "name": "stderr",
     "output_type": "stream",
     "text": [
      "\r",
      "Processing samples:  23%|███████████████████████████▊                                                                                              | 23/101 [02:04<02:01,  1.55s/it]"
     ]
    },
    {
     "name": "stdout",
     "output_type": "stream",
     "text": [
      "0.16144958050514457\n",
      "[WRITE] Saved result from random_sample_200_points_seed_1213.pkl to /home/libe2152/optimizedsampling/0_results/india_secc/random_sampling_r2_scores.csv\n",
      "Fitting regression...\n",
      "NUM SAMPLES: 200\n"
     ]
    },
    {
     "name": "stdout",
     "output_type": "stream",
     "text": [
      "Best alpha: 7742.636826811277\n"
     ]
    },
    {
     "name": "stderr",
     "output_type": "stream",
     "text": [
      "\r",
      "Processing samples:  24%|████████████████████████████▉                                                                                             | 24/101 [02:07<02:20,  1.82s/it]"
     ]
    },
    {
     "name": "stdout",
     "output_type": "stream",
     "text": [
      "0.13516188974663934\n",
      "[WRITE] Saved result from random_sample_200_points_seed_123.pkl to /home/libe2152/optimizedsampling/0_results/india_secc/random_sampling_r2_scores.csv\n",
      "Fitting regression...\n",
      "NUM SAMPLES: 200\n"
     ]
    },
    {
     "name": "stdout",
     "output_type": "stream",
     "text": [
      "Best alpha: 7742.636826811277\n"
     ]
    },
    {
     "name": "stderr",
     "output_type": "stream",
     "text": [
      "\r",
      "Processing samples:  25%|██████████████████████████████▏                                                                                           | 25/101 [02:09<02:40,  2.11s/it]"
     ]
    },
    {
     "name": "stdout",
     "output_type": "stream",
     "text": [
      "0.05051044589611409\n",
      "[WRITE] Saved result from random_sample_200_points_seed_1234.pkl to /home/libe2152/optimizedsampling/0_results/india_secc/random_sampling_r2_scores.csv\n",
      "Fitting regression...\n",
      "NUM SAMPLES: 200\n"
     ]
    },
    {
     "name": "stdout",
     "output_type": "stream",
     "text": [
      "Best alpha: 599.4842503189421\n"
     ]
    },
    {
     "name": "stderr",
     "output_type": "stream",
     "text": [
      "\r",
      "Processing samples:  26%|███████████████████████████████▍                                                                                          | 26/101 [02:12<02:38,  2.11s/it]"
     ]
    },
    {
     "name": "stdout",
     "output_type": "stream",
     "text": [
      "0.05449524882354384\n",
      "[WRITE] Saved result from random_sample_200_points_seed_1415.pkl to /home/libe2152/optimizedsampling/0_results/india_secc/random_sampling_r2_scores.csv\n",
      "Fitting regression...\n",
      "NUM SAMPLES: 200\n"
     ]
    },
    {
     "name": "stdout",
     "output_type": "stream",
     "text": [
      "Best alpha: 46.41588833612782\n"
     ]
    },
    {
     "name": "stderr",
     "output_type": "stream",
     "text": [
      "\r",
      "Processing samples:  27%|████████████████████████████████▌                                                                                         | 27/101 [02:13<02:29,  2.03s/it]"
     ]
    },
    {
     "name": "stdout",
     "output_type": "stream",
     "text": [
      "-0.15555403037882765\n",
      "[WRITE] Saved result from random_sample_200_points_seed_42.pkl to /home/libe2152/optimizedsampling/0_results/india_secc/random_sampling_r2_scores.csv\n",
      "Fitting regression...\n",
      "NUM SAMPLES: 200\n"
     ]
    },
    {
     "name": "stdout",
     "output_type": "stream",
     "text": [
      "Best alpha: 100000.0\n"
     ]
    },
    {
     "name": "stderr",
     "output_type": "stream",
     "text": [
      "\r",
      "Processing samples:  28%|█████████████████████████████████▊                                                                                        | 28/101 [02:16<02:38,  2.18s/it]"
     ]
    },
    {
     "name": "stdout",
     "output_type": "stream",
     "text": [
      "0.10568837156285638\n",
      "[WRITE] Saved result from random_sample_200_points_seed_456.pkl to /home/libe2152/optimizedsampling/0_results/india_secc/random_sampling_r2_scores.csv\n",
      "Fitting regression...\n",
      "NUM SAMPLES: 200\n"
     ]
    },
    {
     "name": "stdout",
     "output_type": "stream",
     "text": [
      "Best alpha: 599.4842503189421\n"
     ]
    },
    {
     "name": "stderr",
     "output_type": "stream",
     "text": [
      "\r",
      "Processing samples:  29%|███████████████████████████████████                                                                                       | 29/101 [02:18<02:30,  2.09s/it]"
     ]
    },
    {
     "name": "stdout",
     "output_type": "stream",
     "text": [
      "0.12942367268663413\n",
      "[WRITE] Saved result from random_sample_200_points_seed_5678.pkl to /home/libe2152/optimizedsampling/0_results/india_secc/random_sampling_r2_scores.csv\n",
      "Fitting regression...\n",
      "NUM SAMPLES: 200\n"
     ]
    },
    {
     "name": "stdout",
     "output_type": "stream",
     "text": [
      "Best alpha: 7742.636826811277\n"
     ]
    },
    {
     "name": "stderr",
     "output_type": "stream",
     "text": [
      "\r",
      "Processing samples:  30%|████████████████████████████████████▏                                                                                     | 30/101 [02:20<02:28,  2.09s/it]"
     ]
    },
    {
     "name": "stdout",
     "output_type": "stream",
     "text": [
      "0.1164628841505454\n",
      "[WRITE] Saved result from random_sample_200_points_seed_789.pkl to /home/libe2152/optimizedsampling/0_results/india_secc/random_sampling_r2_scores.csv\n",
      "Fitting regression...\n",
      "NUM SAMPLES: 200\n"
     ]
    },
    {
     "name": "stdout",
     "output_type": "stream",
     "text": [
      "Best alpha: 7742.636826811277\n"
     ]
    },
    {
     "name": "stderr",
     "output_type": "stream",
     "text": [
      "\r",
      "Processing samples:  31%|█████████████████████████████████████▍                                                                                    | 31/101 [02:22<02:33,  2.20s/it]"
     ]
    },
    {
     "name": "stdout",
     "output_type": "stream",
     "text": [
      "0.15179777550168683\n",
      "[WRITE] Saved result from random_sample_200_points_seed_9101.pkl to /home/libe2152/optimizedsampling/0_results/india_secc/random_sampling_r2_scores.csv\n",
      "Fitting regression...\n",
      "NUM SAMPLES: 300\n"
     ]
    },
    {
     "name": "stdout",
     "output_type": "stream",
     "text": [
      "Best alpha: 3.593813663804626\n"
     ]
    },
    {
     "name": "stderr",
     "output_type": "stream",
     "text": [
      "\r",
      "Processing samples:  32%|██████████████████████████████████████▋                                                                                   | 32/101 [02:24<02:29,  2.17s/it]"
     ]
    },
    {
     "name": "stdout",
     "output_type": "stream",
     "text": [
      "-2.1962060551618787\n",
      "Warning: Severe overfitting. Add more samples.\n",
      "[WRITE] Saved result from random_sample_300_points_seed_1.pkl to /home/libe2152/optimizedsampling/0_results/india_secc/random_sampling_r2_scores.csv\n",
      "Fitting regression...\n",
      "NUM SAMPLES: 300\n"
     ]
    },
    {
     "name": "stdout",
     "output_type": "stream",
     "text": [
      "Best alpha: 46.41588833612782\n"
     ]
    },
    {
     "name": "stderr",
     "output_type": "stream",
     "text": [
      "\r",
      "Processing samples:  33%|███████████████████████████████████████▊                                                                                  | 33/101 [02:27<02:31,  2.23s/it]"
     ]
    },
    {
     "name": "stdout",
     "output_type": "stream",
     "text": [
      "-0.01183451304542249\n",
      "[WRITE] Saved result from random_sample_300_points_seed_1213.pkl to /home/libe2152/optimizedsampling/0_results/india_secc/random_sampling_r2_scores.csv\n",
      "Fitting regression...\n",
      "NUM SAMPLES: 300\n"
     ]
    },
    {
     "name": "stdout",
     "output_type": "stream",
     "text": [
      "Best alpha: 7742.636826811277\n"
     ]
    },
    {
     "name": "stderr",
     "output_type": "stream",
     "text": [
      "\r",
      "Processing samples:  34%|█████████████████████████████████████████                                                                                 | 34/101 [02:30<02:48,  2.52s/it]"
     ]
    },
    {
     "name": "stdout",
     "output_type": "stream",
     "text": [
      "0.15410385112650593\n",
      "[WRITE] Saved result from random_sample_300_points_seed_123.pkl to /home/libe2152/optimizedsampling/0_results/india_secc/random_sampling_r2_scores.csv\n",
      "Fitting regression...\n",
      "NUM SAMPLES: 300\n"
     ]
    },
    {
     "name": "stdout",
     "output_type": "stream",
     "text": [
      "Best alpha: 599.4842503189421\n"
     ]
    },
    {
     "name": "stderr",
     "output_type": "stream",
     "text": [
      "\r",
      "Processing samples:  35%|██████████████████████████████████████████▎                                                                               | 35/101 [02:33<02:52,  2.62s/it]"
     ]
    },
    {
     "name": "stdout",
     "output_type": "stream",
     "text": [
      "-0.17679013407244448\n",
      "[WRITE] Saved result from random_sample_300_points_seed_1234.pkl to /home/libe2152/optimizedsampling/0_results/india_secc/random_sampling_r2_scores.csv\n",
      "Fitting regression...\n",
      "NUM SAMPLES: 300\n"
     ]
    },
    {
     "name": "stdout",
     "output_type": "stream",
     "text": [
      "Best alpha: 599.4842503189421\n"
     ]
    },
    {
     "name": "stderr",
     "output_type": "stream",
     "text": [
      "\r",
      "Processing samples:  36%|███████████████████████████████████████████▍                                                                              | 36/101 [02:36<02:59,  2.76s/it]"
     ]
    },
    {
     "name": "stdout",
     "output_type": "stream",
     "text": [
      "0.0884029194379371\n",
      "[WRITE] Saved result from random_sample_300_points_seed_1415.pkl to /home/libe2152/optimizedsampling/0_results/india_secc/random_sampling_r2_scores.csv\n",
      "Fitting regression...\n",
      "NUM SAMPLES: 300\n"
     ]
    },
    {
     "name": "stdout",
     "output_type": "stream",
     "text": [
      "Best alpha: 599.4842503189421\n"
     ]
    },
    {
     "name": "stderr",
     "output_type": "stream",
     "text": [
      "\r",
      "Processing samples:  37%|████████████████████████████████████████████▋                                                                             | 37/101 [02:39<02:57,  2.77s/it]"
     ]
    },
    {
     "name": "stdout",
     "output_type": "stream",
     "text": [
      "0.09152921277311765\n",
      "[WRITE] Saved result from random_sample_300_points_seed_42.pkl to /home/libe2152/optimizedsampling/0_results/india_secc/random_sampling_r2_scores.csv\n",
      "Fitting regression...\n",
      "NUM SAMPLES: 300\n"
     ]
    },
    {
     "name": "stdout",
     "output_type": "stream",
     "text": [
      "Best alpha: 599.4842503189421\n"
     ]
    },
    {
     "name": "stderr",
     "output_type": "stream",
     "text": [
      "\r",
      "Processing samples:  38%|█████████████████████████████████████████████▉                                                                            | 38/101 [02:41<02:50,  2.70s/it]"
     ]
    },
    {
     "name": "stdout",
     "output_type": "stream",
     "text": [
      "0.1864859650573817\n",
      "[WRITE] Saved result from random_sample_300_points_seed_456.pkl to /home/libe2152/optimizedsampling/0_results/india_secc/random_sampling_r2_scores.csv\n",
      "Fitting regression...\n",
      "NUM SAMPLES: 300\n"
     ]
    },
    {
     "name": "stdout",
     "output_type": "stream",
     "text": [
      "Best alpha: 599.4842503189421\n"
     ]
    },
    {
     "name": "stderr",
     "output_type": "stream",
     "text": [
      "\r",
      "Processing samples:  39%|███████████████████████████████████████████████                                                                           | 39/101 [02:44<02:47,  2.71s/it]"
     ]
    },
    {
     "name": "stdout",
     "output_type": "stream",
     "text": [
      "0.1662194406350651\n",
      "[WRITE] Saved result from random_sample_300_points_seed_5678.pkl to /home/libe2152/optimizedsampling/0_results/india_secc/random_sampling_r2_scores.csv\n",
      "Fitting regression...\n",
      "NUM SAMPLES: 300\n"
     ]
    },
    {
     "name": "stdout",
     "output_type": "stream",
     "text": [
      "Best alpha: 599.4842503189421\n"
     ]
    },
    {
     "name": "stderr",
     "output_type": "stream",
     "text": [
      "\r",
      "Processing samples:  40%|████████████████████████████████████████████████▎                                                                         | 40/101 [02:47<02:55,  2.87s/it]"
     ]
    },
    {
     "name": "stdout",
     "output_type": "stream",
     "text": [
      "0.16343389447521472\n",
      "[WRITE] Saved result from random_sample_300_points_seed_789.pkl to /home/libe2152/optimizedsampling/0_results/india_secc/random_sampling_r2_scores.csv\n",
      "Fitting regression...\n",
      "NUM SAMPLES: 300\n"
     ]
    },
    {
     "name": "stdout",
     "output_type": "stream",
     "text": [
      "Best alpha: 7742.636826811277\n"
     ]
    },
    {
     "name": "stderr",
     "output_type": "stream",
     "text": [
      "\r",
      "Processing samples:  41%|█████████████████████████████████████████████████▌                                                                        | 41/101 [02:50<02:48,  2.81s/it]"
     ]
    },
    {
     "name": "stdout",
     "output_type": "stream",
     "text": [
      "0.15060822141306818\n",
      "[WRITE] Saved result from random_sample_300_points_seed_9101.pkl to /home/libe2152/optimizedsampling/0_results/india_secc/random_sampling_r2_scores.csv\n",
      "Fitting regression...\n",
      "NUM SAMPLES: 400\n"
     ]
    },
    {
     "name": "stdout",
     "output_type": "stream",
     "text": [
      "Best alpha: 46.41588833612782\n"
     ]
    },
    {
     "name": "stderr",
     "output_type": "stream",
     "text": [
      "\r",
      "Processing samples:  42%|██████████████████████████████████████████████████▋                                                                       | 42/101 [02:53<02:46,  2.83s/it]"
     ]
    },
    {
     "name": "stdout",
     "output_type": "stream",
     "text": [
      "-0.22185210670907374\n",
      "[WRITE] Saved result from random_sample_400_points_seed_1.pkl to /home/libe2152/optimizedsampling/0_results/india_secc/random_sampling_r2_scores.csv\n",
      "Fitting regression...\n",
      "NUM SAMPLES: 400\n"
     ]
    },
    {
     "name": "stdout",
     "output_type": "stream",
     "text": [
      "Best alpha: 46.41588833612782\n"
     ]
    },
    {
     "name": "stderr",
     "output_type": "stream",
     "text": [
      "\r",
      "Processing samples:  43%|███████████████████████████████████████████████████▉                                                                      | 43/101 [02:56<02:49,  2.92s/it]"
     ]
    },
    {
     "name": "stdout",
     "output_type": "stream",
     "text": [
      "0.019072916485267433\n",
      "[WRITE] Saved result from random_sample_400_points_seed_1213.pkl to /home/libe2152/optimizedsampling/0_results/india_secc/random_sampling_r2_scores.csv\n",
      "Fitting regression...\n",
      "NUM SAMPLES: 400\n"
     ]
    },
    {
     "name": "stdout",
     "output_type": "stream",
     "text": [
      "Best alpha: 7742.636826811277\n"
     ]
    },
    {
     "name": "stderr",
     "output_type": "stream",
     "text": [
      "\r",
      "Processing samples:  44%|█████████████████████████████████████████████████████▏                                                                    | 44/101 [02:58<02:36,  2.74s/it]"
     ]
    },
    {
     "name": "stdout",
     "output_type": "stream",
     "text": [
      "0.14773346843023527\n",
      "[WRITE] Saved result from random_sample_400_points_seed_123.pkl to /home/libe2152/optimizedsampling/0_results/india_secc/random_sampling_r2_scores.csv\n",
      "Fitting regression...\n",
      "NUM SAMPLES: 400\n"
     ]
    },
    {
     "name": "stdout",
     "output_type": "stream",
     "text": [
      "Best alpha: 599.4842503189421\n"
     ]
    },
    {
     "name": "stderr",
     "output_type": "stream",
     "text": [
      "\r",
      "Processing samples:  45%|██████████████████████████████████████████████████████▎                                                                   | 45/101 [03:02<02:52,  3.09s/it]"
     ]
    },
    {
     "name": "stdout",
     "output_type": "stream",
     "text": [
      "0.1287123486687164\n",
      "[WRITE] Saved result from random_sample_400_points_seed_1234.pkl to /home/libe2152/optimizedsampling/0_results/india_secc/random_sampling_r2_scores.csv\n",
      "Fitting regression...\n",
      "NUM SAMPLES: 400\n"
     ]
    },
    {
     "name": "stdout",
     "output_type": "stream",
     "text": [
      "Best alpha: 599.4842503189421\n"
     ]
    },
    {
     "name": "stderr",
     "output_type": "stream",
     "text": [
      "\r",
      "Processing samples:  46%|███████████████████████████████████████████████████████▌                                                                  | 46/101 [03:06<02:56,  3.21s/it]"
     ]
    },
    {
     "name": "stdout",
     "output_type": "stream",
     "text": [
      "0.1059558518567435\n",
      "[WRITE] Saved result from random_sample_400_points_seed_1415.pkl to /home/libe2152/optimizedsampling/0_results/india_secc/random_sampling_r2_scores.csv\n",
      "Fitting regression...\n",
      "NUM SAMPLES: 400\n"
     ]
    },
    {
     "name": "stdout",
     "output_type": "stream",
     "text": [
      "Best alpha: 599.4842503189421\n"
     ]
    },
    {
     "name": "stderr",
     "output_type": "stream",
     "text": [
      "\r",
      "Processing samples:  47%|████████████████████████████████████████████████████████▊                                                                 | 47/101 [03:09<02:52,  3.19s/it]"
     ]
    },
    {
     "name": "stdout",
     "output_type": "stream",
     "text": [
      "0.14842977693564308\n",
      "[WRITE] Saved result from random_sample_400_points_seed_42.pkl to /home/libe2152/optimizedsampling/0_results/india_secc/random_sampling_r2_scores.csv\n",
      "Fitting regression...\n",
      "NUM SAMPLES: 400\n"
     ]
    },
    {
     "name": "stdout",
     "output_type": "stream",
     "text": [
      "Best alpha: 46.41588833612782\n"
     ]
    },
    {
     "name": "stderr",
     "output_type": "stream",
     "text": [
      "\r",
      "Processing samples:  48%|█████████████████████████████████████████████████████████▉                                                                | 48/101 [03:12<02:47,  3.17s/it]"
     ]
    },
    {
     "name": "stdout",
     "output_type": "stream",
     "text": [
      "0.212255591404932\n",
      "[WRITE] Saved result from random_sample_400_points_seed_456.pkl to /home/libe2152/optimizedsampling/0_results/india_secc/random_sampling_r2_scores.csv\n",
      "Fitting regression...\n",
      "NUM SAMPLES: 400\n"
     ]
    },
    {
     "name": "stdout",
     "output_type": "stream",
     "text": [
      "Best alpha: 7742.636826811277\n"
     ]
    },
    {
     "name": "stderr",
     "output_type": "stream",
     "text": [
      "\r",
      "Processing samples:  49%|███████████████████████████████████████████████████████████▏                                                              | 49/101 [03:15<02:35,  3.00s/it]"
     ]
    },
    {
     "name": "stdout",
     "output_type": "stream",
     "text": [
      "0.16668758850028054\n",
      "[WRITE] Saved result from random_sample_400_points_seed_5678.pkl to /home/libe2152/optimizedsampling/0_results/india_secc/random_sampling_r2_scores.csv\n",
      "Fitting regression...\n",
      "NUM SAMPLES: 400\n"
     ]
    },
    {
     "name": "stdout",
     "output_type": "stream",
     "text": [
      "Best alpha: 599.4842503189421\n"
     ]
    },
    {
     "name": "stderr",
     "output_type": "stream",
     "text": [
      "\r",
      "Processing samples:  50%|████████████████████████████████████████████████████████████▍                                                             | 50/101 [03:18<02:45,  3.25s/it]"
     ]
    },
    {
     "name": "stdout",
     "output_type": "stream",
     "text": [
      "0.12794284614204543\n",
      "[WRITE] Saved result from random_sample_400_points_seed_789.pkl to /home/libe2152/optimizedsampling/0_results/india_secc/random_sampling_r2_scores.csv\n",
      "Fitting regression...\n",
      "NUM SAMPLES: 400\n"
     ]
    },
    {
     "name": "stdout",
     "output_type": "stream",
     "text": [
      "Best alpha: 599.4842503189421\n"
     ]
    },
    {
     "name": "stderr",
     "output_type": "stream",
     "text": [
      "\r",
      "Processing samples:  50%|█████████████████████████████████████████████████████████████▌                                                            | 51/101 [03:21<02:34,  3.08s/it]"
     ]
    },
    {
     "name": "stdout",
     "output_type": "stream",
     "text": [
      "0.21578154344908573\n",
      "[WRITE] Saved result from random_sample_400_points_seed_9101.pkl to /home/libe2152/optimizedsampling/0_results/india_secc/random_sampling_r2_scores.csv\n",
      "Fitting regression...\n",
      "NUM SAMPLES: 500\n"
     ]
    },
    {
     "name": "stdout",
     "output_type": "stream",
     "text": [
      "Best alpha: 599.4842503189421\n"
     ]
    },
    {
     "name": "stderr",
     "output_type": "stream",
     "text": [
      "\r",
      "Processing samples:  51%|██████████████████████████████████████████████████████████████▊                                                           | 52/101 [03:25<02:41,  3.29s/it]"
     ]
    },
    {
     "name": "stdout",
     "output_type": "stream",
     "text": [
      "0.15653736657918138\n",
      "[WRITE] Saved result from random_sample_500_points_seed_1.pkl to /home/libe2152/optimizedsampling/0_results/india_secc/random_sampling_r2_scores.csv\n",
      "Fitting regression...\n",
      "NUM SAMPLES: 500\n"
     ]
    },
    {
     "name": "stdout",
     "output_type": "stream",
     "text": [
      "Best alpha: 46.41588833612782\n"
     ]
    },
    {
     "name": "stderr",
     "output_type": "stream",
     "text": [
      "\r",
      "Processing samples:  52%|████████████████████████████████████████████████████████████████                                                          | 53/101 [03:28<02:38,  3.30s/it]"
     ]
    },
    {
     "name": "stdout",
     "output_type": "stream",
     "text": [
      "0.15070141328445907\n",
      "[WRITE] Saved result from random_sample_500_points_seed_1213.pkl to /home/libe2152/optimizedsampling/0_results/india_secc/random_sampling_r2_scores.csv\n",
      "Fitting regression...\n",
      "NUM SAMPLES: 500\n"
     ]
    },
    {
     "name": "stdout",
     "output_type": "stream",
     "text": [
      "Best alpha: 599.4842503189421\n"
     ]
    },
    {
     "name": "stderr",
     "output_type": "stream",
     "text": [
      "\r",
      "Processing samples:  53%|█████████████████████████████████████████████████████████████████▏                                                        | 54/101 [03:32<02:42,  3.45s/it]"
     ]
    },
    {
     "name": "stdout",
     "output_type": "stream",
     "text": [
      "0.16293731800679967\n",
      "[WRITE] Saved result from random_sample_500_points_seed_123.pkl to /home/libe2152/optimizedsampling/0_results/india_secc/random_sampling_r2_scores.csv\n",
      "Fitting regression...\n",
      "NUM SAMPLES: 500\n"
     ]
    },
    {
     "name": "stdout",
     "output_type": "stream",
     "text": [
      "Best alpha: 599.4842503189421\n"
     ]
    },
    {
     "name": "stderr",
     "output_type": "stream",
     "text": [
      "\r",
      "Processing samples:  54%|██████████████████████████████████████████████████████████████████▍                                                       | 55/101 [03:35<02:35,  3.38s/it]"
     ]
    },
    {
     "name": "stdout",
     "output_type": "stream",
     "text": [
      "0.16633999434654034\n",
      "[WRITE] Saved result from random_sample_500_points_seed_1234.pkl to /home/libe2152/optimizedsampling/0_results/india_secc/random_sampling_r2_scores.csv\n",
      "Fitting regression...\n",
      "NUM SAMPLES: 500\n"
     ]
    },
    {
     "name": "stdout",
     "output_type": "stream",
     "text": [
      "Best alpha: 599.4842503189421\n"
     ]
    },
    {
     "name": "stderr",
     "output_type": "stream",
     "text": [
      "\r",
      "Processing samples:  55%|███████████████████████████████████████████████████████████████████▋                                                      | 56/101 [03:40<02:45,  3.68s/it]"
     ]
    },
    {
     "name": "stdout",
     "output_type": "stream",
     "text": [
      "0.16523705487952567\n",
      "[WRITE] Saved result from random_sample_500_points_seed_1415.pkl to /home/libe2152/optimizedsampling/0_results/india_secc/random_sampling_r2_scores.csv\n",
      "Fitting regression...\n",
      "NUM SAMPLES: 500\n"
     ]
    },
    {
     "name": "stdout",
     "output_type": "stream",
     "text": [
      "Best alpha: 46.41588833612782\n"
     ]
    },
    {
     "name": "stderr",
     "output_type": "stream",
     "text": [
      "\r",
      "Processing samples:  56%|████████████████████████████████████████████████████████████████████▊                                                     | 57/101 [03:44<02:45,  3.77s/it]"
     ]
    },
    {
     "name": "stdout",
     "output_type": "stream",
     "text": [
      "0.1900221176055905\n",
      "[WRITE] Saved result from random_sample_500_points_seed_42.pkl to /home/libe2152/optimizedsampling/0_results/india_secc/random_sampling_r2_scores.csv\n",
      "Fitting regression...\n",
      "NUM SAMPLES: 500\n"
     ]
    },
    {
     "name": "stdout",
     "output_type": "stream",
     "text": [
      "Best alpha: 46.41588833612782\n"
     ]
    },
    {
     "name": "stderr",
     "output_type": "stream",
     "text": [
      "\r",
      "Processing samples:  57%|██████████████████████████████████████████████████████████████████████                                                    | 58/101 [03:47<02:36,  3.65s/it]"
     ]
    },
    {
     "name": "stdout",
     "output_type": "stream",
     "text": [
      "0.2171216321528906\n",
      "[WRITE] Saved result from random_sample_500_points_seed_456.pkl to /home/libe2152/optimizedsampling/0_results/india_secc/random_sampling_r2_scores.csv\n",
      "Fitting regression...\n",
      "NUM SAMPLES: 500\n"
     ]
    },
    {
     "name": "stdout",
     "output_type": "stream",
     "text": [
      "Best alpha: 46.41588833612782\n"
     ]
    },
    {
     "name": "stderr",
     "output_type": "stream",
     "text": [
      "\r",
      "Processing samples:  58%|███████████████████████████████████████████████████████████████████████▎                                                  | 59/101 [03:51<02:35,  3.71s/it]"
     ]
    },
    {
     "name": "stdout",
     "output_type": "stream",
     "text": [
      "0.22049073962167764\n",
      "[WRITE] Saved result from random_sample_500_points_seed_5678.pkl to /home/libe2152/optimizedsampling/0_results/india_secc/random_sampling_r2_scores.csv\n",
      "Fitting regression...\n",
      "NUM SAMPLES: 500\n"
     ]
    },
    {
     "name": "stdout",
     "output_type": "stream",
     "text": [
      "Best alpha: 599.4842503189421\n"
     ]
    },
    {
     "name": "stderr",
     "output_type": "stream",
     "text": [
      "\r",
      "Processing samples:  59%|████████████████████████████████████████████████████████████████████████▍                                                 | 60/101 [03:54<02:30,  3.68s/it]"
     ]
    },
    {
     "name": "stdout",
     "output_type": "stream",
     "text": [
      "0.16127946964774775\n",
      "[WRITE] Saved result from random_sample_500_points_seed_789.pkl to /home/libe2152/optimizedsampling/0_results/india_secc/random_sampling_r2_scores.csv\n",
      "Fitting regression...\n",
      "NUM SAMPLES: 500\n"
     ]
    },
    {
     "name": "stdout",
     "output_type": "stream",
     "text": [
      "Best alpha: 599.4842503189421\n"
     ]
    },
    {
     "name": "stderr",
     "output_type": "stream",
     "text": [
      "\r",
      "Processing samples:  60%|█████████████████████████████████████████████████████████████████████████▋                                                | 61/101 [03:58<02:28,  3.70s/it]"
     ]
    },
    {
     "name": "stdout",
     "output_type": "stream",
     "text": [
      "0.21927705374380912\n",
      "[WRITE] Saved result from random_sample_500_points_seed_9101.pkl to /home/libe2152/optimizedsampling/0_results/india_secc/random_sampling_r2_scores.csv\n",
      "Fitting regression...\n",
      "NUM SAMPLES: 600\n"
     ]
    },
    {
     "name": "stdout",
     "output_type": "stream",
     "text": [
      "Best alpha: 46.41588833612782\n"
     ]
    },
    {
     "name": "stderr",
     "output_type": "stream",
     "text": [
      "\r",
      "Processing samples:  61%|██████████████████████████████████████████████████████████████████████████▉                                               | 62/101 [04:03<02:40,  4.11s/it]"
     ]
    },
    {
     "name": "stdout",
     "output_type": "stream",
     "text": [
      "0.1806660114763512\n",
      "[WRITE] Saved result from random_sample_600_points_seed_1.pkl to /home/libe2152/optimizedsampling/0_results/india_secc/random_sampling_r2_scores.csv\n",
      "Fitting regression...\n",
      "NUM SAMPLES: 600\n"
     ]
    },
    {
     "name": "stdout",
     "output_type": "stream",
     "text": [
      "Best alpha: 46.41588833612782\n"
     ]
    },
    {
     "name": "stderr",
     "output_type": "stream",
     "text": [
      "\r",
      "Processing samples:  62%|████████████████████████████████████████████████████████████████████████████                                              | 63/101 [04:09<02:51,  4.52s/it]"
     ]
    },
    {
     "name": "stdout",
     "output_type": "stream",
     "text": [
      "0.23902041995366785\n",
      "[WRITE] Saved result from random_sample_600_points_seed_1213.pkl to /home/libe2152/optimizedsampling/0_results/india_secc/random_sampling_r2_scores.csv\n",
      "Fitting regression...\n",
      "NUM SAMPLES: 600\n"
     ]
    },
    {
     "name": "stdout",
     "output_type": "stream",
     "text": [
      "Best alpha: 599.4842503189421\n"
     ]
    },
    {
     "name": "stderr",
     "output_type": "stream",
     "text": [
      "\r",
      "Processing samples:  63%|█████████████████████████████████████████████████████████████████████████████▎                                            | 64/101 [04:14<02:54,  4.73s/it]"
     ]
    },
    {
     "name": "stdout",
     "output_type": "stream",
     "text": [
      "0.17738675915908064\n",
      "[WRITE] Saved result from random_sample_600_points_seed_123.pkl to /home/libe2152/optimizedsampling/0_results/india_secc/random_sampling_r2_scores.csv\n",
      "Fitting regression...\n",
      "NUM SAMPLES: 600\n"
     ]
    },
    {
     "name": "stdout",
     "output_type": "stream",
     "text": [
      "Best alpha: 46.41588833612782\n"
     ]
    },
    {
     "name": "stderr",
     "output_type": "stream",
     "text": [
      "\r",
      "Processing samples:  64%|██████████████████████████████████████████████████████████████████████████████▌                                           | 65/101 [04:20<03:05,  5.14s/it]"
     ]
    },
    {
     "name": "stdout",
     "output_type": "stream",
     "text": [
      "0.2112232878445689\n",
      "[WRITE] Saved result from random_sample_600_points_seed_1234.pkl to /home/libe2152/optimizedsampling/0_results/india_secc/random_sampling_r2_scores.csv\n",
      "Fitting regression...\n",
      "NUM SAMPLES: 600\n"
     ]
    },
    {
     "name": "stdout",
     "output_type": "stream",
     "text": [
      "Best alpha: 46.41588833612782\n"
     ]
    },
    {
     "name": "stderr",
     "output_type": "stream",
     "text": [
      "\r",
      "Processing samples:  65%|███████████████████████████████████████████████████████████████████████████████▋                                          | 66/101 [04:26<03:13,  5.54s/it]"
     ]
    },
    {
     "name": "stdout",
     "output_type": "stream",
     "text": [
      "0.15830811016878488\n",
      "[WRITE] Saved result from random_sample_600_points_seed_1415.pkl to /home/libe2152/optimizedsampling/0_results/india_secc/random_sampling_r2_scores.csv\n",
      "Fitting regression...\n",
      "NUM SAMPLES: 600\n"
     ]
    },
    {
     "name": "stdout",
     "output_type": "stream",
     "text": [
      "Best alpha: 46.41588833612782\n"
     ]
    },
    {
     "name": "stderr",
     "output_type": "stream",
     "text": [
      "\r",
      "Processing samples:  66%|████████████████████████████████████████████████████████████████████████████████▉                                         | 67/101 [04:33<03:14,  5.72s/it]"
     ]
    },
    {
     "name": "stdout",
     "output_type": "stream",
     "text": [
      "0.23839705521204568\n",
      "[WRITE] Saved result from random_sample_600_points_seed_42.pkl to /home/libe2152/optimizedsampling/0_results/india_secc/random_sampling_r2_scores.csv\n",
      "Fitting regression...\n",
      "NUM SAMPLES: 600\n"
     ]
    },
    {
     "name": "stdout",
     "output_type": "stream",
     "text": [
      "Best alpha: 46.41588833612782\n"
     ]
    },
    {
     "name": "stderr",
     "output_type": "stream",
     "text": [
      "\r",
      "Processing samples:  67%|██████████████████████████████████████████████████████████████████████████████████▏                                       | 68/101 [04:38<03:03,  5.58s/it]"
     ]
    },
    {
     "name": "stdout",
     "output_type": "stream",
     "text": [
      "-0.03706163861649814\n",
      "[WRITE] Saved result from random_sample_600_points_seed_456.pkl to /home/libe2152/optimizedsampling/0_results/india_secc/random_sampling_r2_scores.csv\n",
      "Fitting regression...\n",
      "NUM SAMPLES: 600\n"
     ]
    },
    {
     "name": "stdout",
     "output_type": "stream",
     "text": [
      "Best alpha: 46.41588833612782\n"
     ]
    },
    {
     "name": "stderr",
     "output_type": "stream",
     "text": [
      "\r",
      "Processing samples:  68%|███████████████████████████████████████████████████████████████████████████████████▎                                      | 69/101 [04:43<02:58,  5.57s/it]"
     ]
    },
    {
     "name": "stdout",
     "output_type": "stream",
     "text": [
      "0.21163521376081673\n",
      "[WRITE] Saved result from random_sample_600_points_seed_5678.pkl to /home/libe2152/optimizedsampling/0_results/india_secc/random_sampling_r2_scores.csv\n",
      "Fitting regression...\n",
      "NUM SAMPLES: 600\n"
     ]
    },
    {
     "name": "stdout",
     "output_type": "stream",
     "text": [
      "Best alpha: 46.41588833612782\n"
     ]
    },
    {
     "name": "stderr",
     "output_type": "stream",
     "text": [
      "\r",
      "Processing samples:  69%|████████████████████████████████████████████████████████████████████████████████████▌                                     | 70/101 [04:52<03:20,  6.47s/it]"
     ]
    },
    {
     "name": "stdout",
     "output_type": "stream",
     "text": [
      "0.17339694383650728\n",
      "[WRITE] Saved result from random_sample_600_points_seed_789.pkl to /home/libe2152/optimizedsampling/0_results/india_secc/random_sampling_r2_scores.csv\n",
      "Fitting regression...\n",
      "NUM SAMPLES: 600\n"
     ]
    },
    {
     "name": "stdout",
     "output_type": "stream",
     "text": [
      "Best alpha: 599.4842503189421\n"
     ]
    },
    {
     "name": "stderr",
     "output_type": "stream",
     "text": [
      "\r",
      "Processing samples:  70%|█████████████████████████████████████████████████████████████████████████████████████▊                                    | 71/101 [05:00<03:25,  6.83s/it]"
     ]
    },
    {
     "name": "stdout",
     "output_type": "stream",
     "text": [
      "0.22753913886643928\n",
      "[WRITE] Saved result from random_sample_600_points_seed_9101.pkl to /home/libe2152/optimizedsampling/0_results/india_secc/random_sampling_r2_scores.csv\n",
      "Fitting regression...\n",
      "NUM SAMPLES: 700\n"
     ]
    },
    {
     "name": "stdout",
     "output_type": "stream",
     "text": [
      "Best alpha: 3.593813663804626\n"
     ]
    },
    {
     "name": "stderr",
     "output_type": "stream",
     "text": [
      "\r",
      "Processing samples:  71%|██████████████████████████████████████████████████████████████████████████████████████▉                                   | 72/101 [05:06<03:11,  6.60s/it]"
     ]
    },
    {
     "name": "stdout",
     "output_type": "stream",
     "text": [
      "0.06592911270697499\n",
      "[WRITE] Saved result from random_sample_700_points_seed_1.pkl to /home/libe2152/optimizedsampling/0_results/india_secc/random_sampling_r2_scores.csv\n",
      "Fitting regression...\n",
      "NUM SAMPLES: 700\n"
     ]
    },
    {
     "name": "stdout",
     "output_type": "stream",
     "text": [
      "Best alpha: 46.41588833612782\n"
     ]
    },
    {
     "name": "stderr",
     "output_type": "stream",
     "text": [
      "\r",
      "Processing samples:  72%|████████████████████████████████████████████████████████████████████████████████████████▏                                 | 73/101 [05:12<03:03,  6.56s/it]"
     ]
    },
    {
     "name": "stdout",
     "output_type": "stream",
     "text": [
      "0.25843790143601086\n",
      "[WRITE] Saved result from random_sample_700_points_seed_1213.pkl to /home/libe2152/optimizedsampling/0_results/india_secc/random_sampling_r2_scores.csv\n",
      "Fitting regression...\n",
      "NUM SAMPLES: 700\n"
     ]
    },
    {
     "name": "stdout",
     "output_type": "stream",
     "text": [
      "Best alpha: 599.4842503189421\n"
     ]
    },
    {
     "name": "stderr",
     "output_type": "stream",
     "text": [
      "\r",
      "Processing samples:  73%|█████████████████████████████████████████████████████████████████████████████████████████▍                                | 74/101 [05:19<03:01,  6.73s/it]"
     ]
    },
    {
     "name": "stdout",
     "output_type": "stream",
     "text": [
      "0.22947176620742493\n",
      "[WRITE] Saved result from random_sample_700_points_seed_123.pkl to /home/libe2152/optimizedsampling/0_results/india_secc/random_sampling_r2_scores.csv\n",
      "Fitting regression...\n",
      "NUM SAMPLES: 700\n"
     ]
    },
    {
     "name": "stdout",
     "output_type": "stream",
     "text": [
      "Best alpha: 46.41588833612782\n"
     ]
    },
    {
     "name": "stderr",
     "output_type": "stream",
     "text": [
      "\r",
      "Processing samples:  74%|██████████████████████████████████████████████████████████████████████████████████████████▌                               | 75/101 [05:26<02:51,  6.59s/it]"
     ]
    },
    {
     "name": "stdout",
     "output_type": "stream",
     "text": [
      "0.21550477676997581\n",
      "[WRITE] Saved result from random_sample_700_points_seed_1234.pkl to /home/libe2152/optimizedsampling/0_results/india_secc/random_sampling_r2_scores.csv\n",
      "Fitting regression...\n",
      "NUM SAMPLES: 700\n"
     ]
    },
    {
     "name": "stdout",
     "output_type": "stream",
     "text": [
      "Best alpha: 46.41588833612782\n"
     ]
    },
    {
     "name": "stderr",
     "output_type": "stream",
     "text": [
      "\r",
      "Processing samples:  75%|███████████████████████████████████████████████████████████████████████████████████████████▊                              | 76/101 [05:32<02:41,  6.45s/it]"
     ]
    },
    {
     "name": "stdout",
     "output_type": "stream",
     "text": [
      "0.13283482385800083\n",
      "[WRITE] Saved result from random_sample_700_points_seed_1415.pkl to /home/libe2152/optimizedsampling/0_results/india_secc/random_sampling_r2_scores.csv\n",
      "Fitting regression...\n",
      "NUM SAMPLES: 700\n"
     ]
    },
    {
     "name": "stdout",
     "output_type": "stream",
     "text": [
      "Best alpha: 46.41588833612782\n"
     ]
    },
    {
     "name": "stderr",
     "output_type": "stream",
     "text": [
      "\r",
      "Processing samples:  76%|█████████████████████████████████████████████████████████████████████████████████████████████                             | 77/101 [05:38<02:36,  6.53s/it]"
     ]
    },
    {
     "name": "stdout",
     "output_type": "stream",
     "text": [
      "0.25188871472499075\n",
      "[WRITE] Saved result from random_sample_700_points_seed_42.pkl to /home/libe2152/optimizedsampling/0_results/india_secc/random_sampling_r2_scores.csv\n",
      "Fitting regression...\n",
      "NUM SAMPLES: 700\n"
     ]
    },
    {
     "name": "stdout",
     "output_type": "stream",
     "text": [
      "Best alpha: 599.4842503189421\n"
     ]
    },
    {
     "name": "stderr",
     "output_type": "stream",
     "text": [
      "\r",
      "Processing samples:  77%|██████████████████████████████████████████████████████████████████████████████████████████████▏                           | 78/101 [05:46<02:34,  6.71s/it]"
     ]
    },
    {
     "name": "stdout",
     "output_type": "stream",
     "text": [
      "0.21499759537697027\n",
      "[WRITE] Saved result from random_sample_700_points_seed_456.pkl to /home/libe2152/optimizedsampling/0_results/india_secc/random_sampling_r2_scores.csv\n",
      "Fitting regression...\n",
      "NUM SAMPLES: 700\n"
     ]
    },
    {
     "name": "stdout",
     "output_type": "stream",
     "text": [
      "Best alpha: 46.41588833612782\n"
     ]
    },
    {
     "name": "stderr",
     "output_type": "stream",
     "text": [
      "\r",
      "Processing samples:  78%|███████████████████████████████████████████████████████████████████████████████████████████████▍                          | 79/101 [05:53<02:30,  6.83s/it]"
     ]
    },
    {
     "name": "stdout",
     "output_type": "stream",
     "text": [
      "0.2339403202564827\n",
      "[WRITE] Saved result from random_sample_700_points_seed_5678.pkl to /home/libe2152/optimizedsampling/0_results/india_secc/random_sampling_r2_scores.csv\n",
      "Fitting regression...\n",
      "NUM SAMPLES: 700\n"
     ]
    },
    {
     "name": "stdout",
     "output_type": "stream",
     "text": [
      "Best alpha: 599.4842503189421\n"
     ]
    },
    {
     "name": "stderr",
     "output_type": "stream",
     "text": [
      "\r",
      "Processing samples:  79%|████████████████████████████████████████████████████████████████████████████████████████████████▋                         | 80/101 [05:58<02:17,  6.54s/it]"
     ]
    },
    {
     "name": "stdout",
     "output_type": "stream",
     "text": [
      "0.21510856419748636\n",
      "[WRITE] Saved result from random_sample_700_points_seed_789.pkl to /home/libe2152/optimizedsampling/0_results/india_secc/random_sampling_r2_scores.csv\n",
      "Fitting regression...\n",
      "NUM SAMPLES: 700\n"
     ]
    },
    {
     "name": "stdout",
     "output_type": "stream",
     "text": [
      "Best alpha: 46.41588833612782\n"
     ]
    },
    {
     "name": "stderr",
     "output_type": "stream",
     "text": [
      "\r",
      "Processing samples:  80%|█████████████████████████████████████████████████████████████████████████████████████████████████▊                        | 81/101 [06:05<02:13,  6.65s/it]"
     ]
    },
    {
     "name": "stdout",
     "output_type": "stream",
     "text": [
      "0.2516209140409428\n",
      "[WRITE] Saved result from random_sample_700_points_seed_9101.pkl to /home/libe2152/optimizedsampling/0_results/india_secc/random_sampling_r2_scores.csv\n",
      "Fitting regression...\n",
      "NUM SAMPLES: 800\n"
     ]
    },
    {
     "name": "stdout",
     "output_type": "stream",
     "text": [
      "Best alpha: 3.593813663804626\n"
     ]
    },
    {
     "name": "stderr",
     "output_type": "stream",
     "text": [
      "\r",
      "Processing samples:  81%|███████████████████████████████████████████████████████████████████████████████████████████████████                       | 82/101 [06:17<02:35,  8.16s/it]"
     ]
    },
    {
     "name": "stdout",
     "output_type": "stream",
     "text": [
      "-0.06138739842492558\n",
      "[WRITE] Saved result from random_sample_800_points_seed_1.pkl to /home/libe2152/optimizedsampling/0_results/india_secc/random_sampling_r2_scores.csv\n",
      "Fitting regression...\n",
      "NUM SAMPLES: 800\n"
     ]
    },
    {
     "name": "stdout",
     "output_type": "stream",
     "text": [
      "Best alpha: 46.41588833612782\n"
     ]
    },
    {
     "name": "stderr",
     "output_type": "stream",
     "text": [
      "\r",
      "Processing samples:  82%|████████████████████████████████████████████████████████████████████████████████████████████████████▎                     | 83/101 [06:26<02:30,  8.37s/it]"
     ]
    },
    {
     "name": "stdout",
     "output_type": "stream",
     "text": [
      "0.2713484761641042\n",
      "[WRITE] Saved result from random_sample_800_points_seed_1213.pkl to /home/libe2152/optimizedsampling/0_results/india_secc/random_sampling_r2_scores.csv\n",
      "Fitting regression...\n",
      "NUM SAMPLES: 800\n"
     ]
    },
    {
     "name": "stdout",
     "output_type": "stream",
     "text": [
      "Best alpha: 46.41588833612782\n"
     ]
    },
    {
     "name": "stderr",
     "output_type": "stream",
     "text": [
      "\r",
      "Processing samples:  83%|█████████████████████████████████████████████████████████████████████████████████████████████████████▍                    | 84/101 [06:35<02:27,  8.70s/it]"
     ]
    },
    {
     "name": "stdout",
     "output_type": "stream",
     "text": [
      "0.26142061854389353\n",
      "[WRITE] Saved result from random_sample_800_points_seed_123.pkl to /home/libe2152/optimizedsampling/0_results/india_secc/random_sampling_r2_scores.csv\n",
      "Fitting regression...\n",
      "NUM SAMPLES: 800\n"
     ]
    },
    {
     "name": "stdout",
     "output_type": "stream",
     "text": [
      "Best alpha: 46.41588833612782\n"
     ]
    },
    {
     "name": "stderr",
     "output_type": "stream",
     "text": [
      "\r",
      "Processing samples:  84%|██████████████████████████████████████████████████████████████████████████████████████████████████████▋                   | 85/101 [06:47<02:35,  9.69s/it]"
     ]
    },
    {
     "name": "stdout",
     "output_type": "stream",
     "text": [
      "0.22617495139307364\n",
      "[WRITE] Saved result from random_sample_800_points_seed_1234.pkl to /home/libe2152/optimizedsampling/0_results/india_secc/random_sampling_r2_scores.csv\n",
      "Fitting regression...\n",
      "NUM SAMPLES: 800\n"
     ]
    },
    {
     "name": "stdout",
     "output_type": "stream",
     "text": [
      "Best alpha: 46.41588833612782\n"
     ]
    },
    {
     "name": "stderr",
     "output_type": "stream",
     "text": [
      "\r",
      "Processing samples:  85%|███████████████████████████████████████████████████████████████████████████████████████████████████████▉                  | 86/101 [06:55<02:16,  9.13s/it]"
     ]
    },
    {
     "name": "stdout",
     "output_type": "stream",
     "text": [
      "0.10613469865842717\n",
      "[WRITE] Saved result from random_sample_800_points_seed_1415.pkl to /home/libe2152/optimizedsampling/0_results/india_secc/random_sampling_r2_scores.csv\n",
      "Fitting regression...\n",
      "NUM SAMPLES: 800\n"
     ]
    },
    {
     "name": "stdout",
     "output_type": "stream",
     "text": [
      "Best alpha: 46.41588833612782\n"
     ]
    },
    {
     "name": "stderr",
     "output_type": "stream",
     "text": [
      "\r",
      "Processing samples:  86%|█████████████████████████████████████████████████████████████████████████████████████████████████████████                 | 87/101 [07:04<02:04,  8.91s/it]"
     ]
    },
    {
     "name": "stdout",
     "output_type": "stream",
     "text": [
      "0.25513671917713\n",
      "[WRITE] Saved result from random_sample_800_points_seed_42.pkl to /home/libe2152/optimizedsampling/0_results/india_secc/random_sampling_r2_scores.csv\n",
      "Fitting regression...\n",
      "NUM SAMPLES: 800\n"
     ]
    },
    {
     "name": "stdout",
     "output_type": "stream",
     "text": [
      "Best alpha: 46.41588833612782\n"
     ]
    },
    {
     "name": "stderr",
     "output_type": "stream",
     "text": [
      "\r",
      "Processing samples:  87%|██████████████████████████████████████████████████████████████████████████████████████████████████████████▎               | 88/101 [07:12<01:55,  8.85s/it]"
     ]
    },
    {
     "name": "stdout",
     "output_type": "stream",
     "text": [
      "0.19637446951093662\n",
      "[WRITE] Saved result from random_sample_800_points_seed_456.pkl to /home/libe2152/optimizedsampling/0_results/india_secc/random_sampling_r2_scores.csv\n",
      "Fitting regression...\n",
      "NUM SAMPLES: 800\n"
     ]
    },
    {
     "name": "stdout",
     "output_type": "stream",
     "text": [
      "Best alpha: 46.41588833612782\n"
     ]
    },
    {
     "name": "stderr",
     "output_type": "stream",
     "text": [
      "\r",
      "Processing samples:  88%|███████████████████████████████████████████████████████████████████████████████████████████████████████████▌              | 89/101 [07:20<01:42,  8.53s/it]"
     ]
    },
    {
     "name": "stdout",
     "output_type": "stream",
     "text": [
      "0.24978801872884893\n",
      "[WRITE] Saved result from random_sample_800_points_seed_5678.pkl to /home/libe2152/optimizedsampling/0_results/india_secc/random_sampling_r2_scores.csv\n",
      "Fitting regression...\n",
      "NUM SAMPLES: 800\n"
     ]
    },
    {
     "name": "stdout",
     "output_type": "stream",
     "text": [
      "Best alpha: 599.4842503189421\n"
     ]
    },
    {
     "name": "stderr",
     "output_type": "stream",
     "text": [
      "\r",
      "Processing samples:  89%|████████████████████████████████████████████████████████████████████████████████████████████████████████████▋             | 90/101 [07:29<01:33,  8.50s/it]"
     ]
    },
    {
     "name": "stdout",
     "output_type": "stream",
     "text": [
      "0.22069589378074694\n",
      "[WRITE] Saved result from random_sample_800_points_seed_789.pkl to /home/libe2152/optimizedsampling/0_results/india_secc/random_sampling_r2_scores.csv\n",
      "Fitting regression...\n",
      "NUM SAMPLES: 800\n"
     ]
    },
    {
     "name": "stdout",
     "output_type": "stream",
     "text": [
      "Best alpha: 46.41588833612782\n"
     ]
    },
    {
     "name": "stderr",
     "output_type": "stream",
     "text": [
      "\r",
      "Processing samples:  90%|█████████████████████████████████████████████████████████████████████████████████████████████████████████████▉            | 91/101 [07:37<01:24,  8.44s/it]"
     ]
    },
    {
     "name": "stdout",
     "output_type": "stream",
     "text": [
      "0.25955334856148893\n",
      "[WRITE] Saved result from random_sample_800_points_seed_9101.pkl to /home/libe2152/optimizedsampling/0_results/india_secc/random_sampling_r2_scores.csv\n",
      "Fitting regression...\n",
      "NUM SAMPLES: 900\n"
     ]
    },
    {
     "name": "stdout",
     "output_type": "stream",
     "text": [
      "Best alpha: 3.593813663804626\n"
     ]
    },
    {
     "name": "stderr",
     "output_type": "stream",
     "text": [
      "\r",
      "Processing samples:  91%|███████████████████████████████████████████████████████████████████████████████████████████████████████████████▏          | 92/101 [07:46<01:16,  8.52s/it]"
     ]
    },
    {
     "name": "stdout",
     "output_type": "stream",
     "text": [
      "-0.04194860655092025\n",
      "[WRITE] Saved result from random_sample_900_points_seed_1.pkl to /home/libe2152/optimizedsampling/0_results/india_secc/random_sampling_r2_scores.csv\n",
      "Fitting regression...\n",
      "NUM SAMPLES: 900\n"
     ]
    },
    {
     "name": "stdout",
     "output_type": "stream",
     "text": [
      "Best alpha: 46.41588833612782\n"
     ]
    },
    {
     "name": "stderr",
     "output_type": "stream",
     "text": [
      "\r",
      "Processing samples:  92%|████████████████████████████████████████████████████████████████████████████████████████████████████████████████▎         | 93/101 [07:58<01:18,  9.77s/it]"
     ]
    },
    {
     "name": "stdout",
     "output_type": "stream",
     "text": [
      "0.26029684628255223\n",
      "[WRITE] Saved result from random_sample_900_points_seed_1213.pkl to /home/libe2152/optimizedsampling/0_results/india_secc/random_sampling_r2_scores.csv\n",
      "Fitting regression...\n",
      "NUM SAMPLES: 900\n"
     ]
    },
    {
     "name": "stdout",
     "output_type": "stream",
     "text": [
      "Best alpha: 46.41588833612782\n"
     ]
    },
    {
     "name": "stderr",
     "output_type": "stream",
     "text": [
      "\r",
      "Processing samples:  93%|█████████████████████████████████████████████████████████████████████████████████████████████████████████████████▌        | 94/101 [08:07<01:06,  9.53s/it]"
     ]
    },
    {
     "name": "stdout",
     "output_type": "stream",
     "text": [
      "0.26523066937475914\n",
      "[WRITE] Saved result from random_sample_900_points_seed_123.pkl to /home/libe2152/optimizedsampling/0_results/india_secc/random_sampling_r2_scores.csv\n",
      "Fitting regression...\n",
      "NUM SAMPLES: 900\n"
     ]
    },
    {
     "name": "stdout",
     "output_type": "stream",
     "text": [
      "Best alpha: 46.41588833612782\n"
     ]
    },
    {
     "name": "stderr",
     "output_type": "stream",
     "text": [
      "\r",
      "Processing samples:  94%|██████████████████████████████████████████████████████████████████████████████████████████████████████████████████▊       | 95/101 [08:16<00:56,  9.45s/it]"
     ]
    },
    {
     "name": "stdout",
     "output_type": "stream",
     "text": [
      "0.23030994703519814\n",
      "[WRITE] Saved result from random_sample_900_points_seed_1234.pkl to /home/libe2152/optimizedsampling/0_results/india_secc/random_sampling_r2_scores.csv\n",
      "Fitting regression...\n",
      "NUM SAMPLES: 900\n"
     ]
    },
    {
     "name": "stdout",
     "output_type": "stream",
     "text": [
      "Best alpha: 46.41588833612782\n"
     ]
    },
    {
     "name": "stderr",
     "output_type": "stream",
     "text": [
      "\r",
      "Processing samples:  95%|███████████████████████████████████████████████████████████████████████████████████████████████████████████████████▉      | 96/101 [08:30<00:53, 10.70s/it]"
     ]
    },
    {
     "name": "stdout",
     "output_type": "stream",
     "text": [
      "0.1274621734002631\n",
      "[WRITE] Saved result from random_sample_900_points_seed_1415.pkl to /home/libe2152/optimizedsampling/0_results/india_secc/random_sampling_r2_scores.csv\n",
      "Fitting regression...\n",
      "NUM SAMPLES: 900\n"
     ]
    },
    {
     "name": "stdout",
     "output_type": "stream",
     "text": [
      "Best alpha: 3.593813663804626\n"
     ]
    },
    {
     "name": "stderr",
     "output_type": "stream",
     "text": [
      "\r",
      "Processing samples:  96%|█████████████████████████████████████████████████████████████████████████████████████████████████████████████████████▏    | 97/101 [08:39<00:40, 10.21s/it]"
     ]
    },
    {
     "name": "stdout",
     "output_type": "stream",
     "text": [
      "0.2772460567781252\n",
      "[WRITE] Saved result from random_sample_900_points_seed_42.pkl to /home/libe2152/optimizedsampling/0_results/india_secc/random_sampling_r2_scores.csv\n",
      "Fitting regression...\n",
      "NUM SAMPLES: 900\n"
     ]
    },
    {
     "name": "stdout",
     "output_type": "stream",
     "text": [
      "Best alpha: 599.4842503189421\n"
     ]
    },
    {
     "name": "stderr",
     "output_type": "stream",
     "text": [
      "\r",
      "Processing samples:  97%|██████████████████████████████████████████████████████████████████████████████████████████████████████████████████████▍   | 98/101 [08:48<00:29,  9.78s/it]"
     ]
    },
    {
     "name": "stdout",
     "output_type": "stream",
     "text": [
      "0.22785383380658475\n",
      "[WRITE] Saved result from random_sample_900_points_seed_456.pkl to /home/libe2152/optimizedsampling/0_results/india_secc/random_sampling_r2_scores.csv\n",
      "Fitting regression...\n",
      "NUM SAMPLES: 900\n"
     ]
    },
    {
     "name": "stdout",
     "output_type": "stream",
     "text": [
      "Best alpha: 46.41588833612782\n"
     ]
    },
    {
     "name": "stderr",
     "output_type": "stream",
     "text": [
      "\r",
      "Processing samples:  98%|███████████████████████████████████████████████████████████████████████████████████████████████████████████████████████▌  | 99/101 [09:02<00:22, 11.16s/it]"
     ]
    },
    {
     "name": "stdout",
     "output_type": "stream",
     "text": [
      "0.2669599559216411\n",
      "[WRITE] Saved result from random_sample_900_points_seed_5678.pkl to /home/libe2152/optimizedsampling/0_results/india_secc/random_sampling_r2_scores.csv\n",
      "Fitting regression...\n",
      "NUM SAMPLES: 900\n"
     ]
    },
    {
     "name": "stdout",
     "output_type": "stream",
     "text": [
      "Best alpha: 599.4842503189421\n"
     ]
    },
    {
     "name": "stderr",
     "output_type": "stream",
     "text": [
      "\r",
      "Processing samples:  99%|███████████████████████████████████████████████████████████████████████████████████████████████████████████████████████▊ | 100/101 [09:11<00:10, 10.54s/it]"
     ]
    },
    {
     "name": "stdout",
     "output_type": "stream",
     "text": [
      "0.22609397391875585\n",
      "[WRITE] Saved result from random_sample_900_points_seed_789.pkl to /home/libe2152/optimizedsampling/0_results/india_secc/random_sampling_r2_scores.csv\n",
      "Fitting regression...\n",
      "NUM SAMPLES: 900\n"
     ]
    },
    {
     "name": "stdout",
     "output_type": "stream",
     "text": [
      "Best alpha: 46.41588833612782\n"
     ]
    },
    {
     "name": "stderr",
     "output_type": "stream",
     "text": [
      "\r",
      "Processing samples: 100%|█████████████████████████████████████████████████████████████████████████████████████████████████████████████████████████| 101/101 [09:26<00:00, 11.68s/it]"
     ]
    },
    {
     "name": "stderr",
     "output_type": "stream",
     "text": [
      "\r",
      "Processing samples: 100%|█████████████████████████████████████████████████████████████████████████████████████████████████████████████████████████| 101/101 [09:26<00:00,  5.61s/it]"
     ]
    },
    {
     "name": "stdout",
     "output_type": "stream",
     "text": [
      "0.23294351345426134\n",
      "[WRITE] Saved result from random_sample_900_points_seed_9101.pkl to /home/libe2152/optimizedsampling/0_results/india_secc/random_sampling_r2_scores.csv\n",
      "Results written incrementally to /home/libe2152/optimizedsampling/0_results/india_secc/random_sampling_r2_scores.csv\n"
     ]
    },
    {
     "name": "stderr",
     "output_type": "stream",
     "text": [
      "\n"
     ]
    }
   ],
   "source": [
    "features_path = f\"/home/libe2152/optimizedsampling/0_data/features/india_secc/India_SECC_with_splits_4000.pkl\"\n",
    "cluster_sampling_dir= f\"/home/libe2152/optimizedsampling/0_data/initial_samples/india_secc/cluster_sampling\"\n",
    "convenience_sampling_urban_dir = f\"/home/libe2152/optimizedsampling/0_data/initial_samples/india_secc/convenience_sampling/urban_based\"\n",
    "convenience_sampling_region_dir = f\"/home/libe2152/optimizedsampling/0_data/initial_samples/india_secc/convenience_sampling/region_based\"\n",
    "random_sampling_dir = f\"/home/libe2152/optimizedsampling/0_data/initial_samples/india_secc/random_sampling\"\n",
    "\n",
    "results_dir = f\"/home/libe2152/optimizedsampling/0_results/india_secc\"\n",
    "\n",
    "# # Run cluster sampling R2 scores\n",
    "# cluster_sampling_r2_scores(\n",
    "#     features_path=features_path,\n",
    "#     sampling_dir=cluster_sampling_dir,\n",
    "#     results_dir=results_dir,\n",
    "#     ridge_regression_fn=ridge_regression,\n",
    "#     verbose=True,\n",
    "# )\n",
    "\n",
    "# # Run convenience sampling R2 scores\n",
    "# convenience_sampling_r2_scores(\n",
    "#     features_path=features_path,\n",
    "#     sampling_dir=convenience_sampling_urban_dir,\n",
    "#     results_dir=results_dir,\n",
    "#     ridge_regression_fn=ridge_regression,\n",
    "#     verbose=True,\n",
    "# )\n",
    "\n",
    "# convenience_sampling_r2_scores(\n",
    "#     features_path=features_path,\n",
    "#     sampling_dir=convenience_sampling_region_dir,\n",
    "#     results_dir=results_dir,\n",
    "#     ridge_regression_fn=ridge_regression,\n",
    "#     verbose=True,\n",
    "# )\n",
    "\n",
    "# Run random sampling R2 scores\n",
    "random_sampling_r2_scores(\n",
    "    features_path=features_path,\n",
    "    sampling_dir=random_sampling_dir,\n",
    "    results_dir=results_dir,\n",
    "    ridge_regression_fn=ridge_regression,\n",
    "    verbose=True,\n",
    ")"
   ]
  }
 ],
 "metadata": {
  "kernelspec": {
   "display_name": "mosaiks",
   "language": "python",
   "name": "python3"
  },
  "language_info": {
   "codemirror_mode": {
    "name": "ipython",
    "version": 3
   },
   "file_extension": ".py",
   "mimetype": "text/x-python",
   "name": "python",
   "nbconvert_exporter": "python",
   "pygments_lexer": "ipython3",
   "version": "3.11.11"
  }
 },
 "nbformat": 4,
 "nbformat_minor": 5
}
