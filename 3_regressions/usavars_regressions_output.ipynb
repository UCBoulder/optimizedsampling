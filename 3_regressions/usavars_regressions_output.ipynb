{
 "cells": [
  {
   "cell_type": "code",
   "execution_count": 1,
   "id": "d6c3f0ba",
   "metadata": {
    "execution": {
     "iopub.execute_input": "2025-07-16T05:33:46.181590Z",
     "iopub.status.busy": "2025-07-16T05:33:46.181293Z",
     "iopub.status.idle": "2025-07-16T05:33:47.380190Z",
     "shell.execute_reply": "2025-07-16T05:33:47.379581Z"
    }
   },
   "outputs": [],
   "source": [
    "from regressions import ridge_regression\n",
    "from initial_set_regressions import cluster_sampling_r2_scores, convenience_sampling_r2_scores, random_sampling_r2_scores"
   ]
  },
  {
   "cell_type": "markdown",
   "id": "54479c88",
   "metadata": {},
   "source": [
    "# USAVars Initial Set Regressions"
   ]
  },
  {
   "cell_type": "code",
   "execution_count": 2,
   "id": "6fb1407d",
   "metadata": {
    "execution": {
     "iopub.execute_input": "2025-07-16T05:33:47.384536Z",
     "iopub.status.busy": "2025-07-16T05:33:47.384242Z",
     "iopub.status.idle": "2025-07-16T07:39:57.725236Z",
     "shell.execute_reply": "2025-07-16T07:39:57.724662Z"
    }
   },
   "outputs": [
    {
     "name": "stdout",
     "output_type": "stream",
     "text": [
      "Loading features from /home/libe2152/optimizedsampling/0_data/features/usavars/CONTUS_UAR_population_with_splits_torchgeo4096.pkl ...\n"
     ]
    },
    {
     "name": "stdout",
     "output_type": "stream",
     "text": [
      "Processing samples from /home/libe2152/optimizedsampling/0_data/initial_samples/usavars/population/convenience_sampling/urban_based ...\n"
     ]
    },
    {
     "name": "stderr",
     "output_type": "stream",
     "text": [
      "\r",
      "Processing samples:   0%|                                                                        | 0/103 [00:00<?, ?it/s]"
     ]
    },
    {
     "name": "stdout",
     "output_type": "stream",
     "text": [
      "Fitting regression...\n",
      "NUM SAMPLES: 1000\n"
     ]
    },
    {
     "name": "stdout",
     "output_type": "stream",
     "text": [
      "Best alpha: 46.41588833612782\n"
     ]
    },
    {
     "name": "stderr",
     "output_type": "stream",
     "text": [
      "\r",
      "Processing samples:   1%|▌                                                               | 1/103 [00:08<13:55,  8.19s/it]"
     ]
    },
    {
     "name": "stdout",
     "output_type": "stream",
     "text": [
      "0.2924537504115451\n",
      "[WRITE] Saved result from IDS_top10_urban_1000_points_probabilistic_seed_1.pkl to /home/libe2152/optimizedsampling/0_results/usavars/population/convenience_sampling_r2_scores.csv\n",
      "Fitting regression...\n",
      "NUM SAMPLES: 1000\n"
     ]
    },
    {
     "name": "stdout",
     "output_type": "stream",
     "text": [
      "Best alpha: 46.41588833612782\n"
     ]
    },
    {
     "name": "stderr",
     "output_type": "stream",
     "text": [
      "\r",
      "Processing samples:   2%|█▏                                                              | 2/103 [00:16<14:17,  8.49s/it]"
     ]
    },
    {
     "name": "stdout",
     "output_type": "stream",
     "text": [
      "0.27019139842875806\n",
      "[WRITE] Saved result from IDS_top10_urban_1000_points_probabilistic_seed_1213.pkl to /home/libe2152/optimizedsampling/0_results/usavars/population/convenience_sampling_r2_scores.csv\n",
      "Fitting regression...\n",
      "NUM SAMPLES: 1000\n"
     ]
    },
    {
     "name": "stdout",
     "output_type": "stream",
     "text": [
      "Best alpha: 46.41588833612782\n"
     ]
    },
    {
     "name": "stderr",
     "output_type": "stream",
     "text": [
      "\r",
      "Processing samples:   3%|█▊                                                              | 3/103 [00:25<14:23,  8.64s/it]"
     ]
    },
    {
     "name": "stdout",
     "output_type": "stream",
     "text": [
      "0.20036567944596906\n",
      "[WRITE] Saved result from IDS_top10_urban_1000_points_probabilistic_seed_123.pkl to /home/libe2152/optimizedsampling/0_results/usavars/population/convenience_sampling_r2_scores.csv\n",
      "Fitting regression...\n",
      "NUM SAMPLES: 1000\n"
     ]
    },
    {
     "name": "stdout",
     "output_type": "stream",
     "text": [
      "Best alpha: 46.41588833612782\n"
     ]
    },
    {
     "name": "stderr",
     "output_type": "stream",
     "text": [
      "\r",
      "Processing samples:   4%|██▍                                                             | 4/103 [01:02<32:34, 19.74s/it]"
     ]
    },
    {
     "name": "stdout",
     "output_type": "stream",
     "text": [
      "0.27264023197150844\n",
      "[WRITE] Saved result from IDS_top10_urban_1000_points_probabilistic_seed_1234.pkl to /home/libe2152/optimizedsampling/0_results/usavars/population/convenience_sampling_r2_scores.csv\n",
      "Fitting regression...\n",
      "NUM SAMPLES: 1000\n"
     ]
    },
    {
     "name": "stdout",
     "output_type": "stream",
     "text": [
      "Best alpha: 46.41588833612782\n"
     ]
    },
    {
     "name": "stderr",
     "output_type": "stream",
     "text": [
      "\r",
      "Processing samples:   5%|███                                                             | 5/103 [01:12<26:14, 16.07s/it]"
     ]
    },
    {
     "name": "stdout",
     "output_type": "stream",
     "text": [
      "0.22620838356285966\n",
      "[WRITE] Saved result from IDS_top10_urban_1000_points_probabilistic_seed_1415.pkl to /home/libe2152/optimizedsampling/0_results/usavars/population/convenience_sampling_r2_scores.csv\n",
      "Fitting regression...\n",
      "NUM SAMPLES: 1000\n"
     ]
    },
    {
     "name": "stdout",
     "output_type": "stream",
     "text": [
      "Best alpha: 46.41588833612782\n"
     ]
    },
    {
     "name": "stderr",
     "output_type": "stream",
     "text": [
      "\r",
      "Processing samples:   6%|███▋                                                            | 6/103 [01:20<21:44, 13.45s/it]"
     ]
    },
    {
     "name": "stdout",
     "output_type": "stream",
     "text": [
      "0.21973479047561328\n",
      "[WRITE] Saved result from IDS_top10_urban_1000_points_probabilistic_seed_42.pkl to /home/libe2152/optimizedsampling/0_results/usavars/population/convenience_sampling_r2_scores.csv\n",
      "Fitting regression...\n",
      "NUM SAMPLES: 1000\n"
     ]
    },
    {
     "name": "stdout",
     "output_type": "stream",
     "text": [
      "Best alpha: 46.41588833612782\n"
     ]
    },
    {
     "name": "stderr",
     "output_type": "stream",
     "text": [
      "\r",
      "Processing samples:   7%|████▎                                                           | 7/103 [01:34<21:56, 13.71s/it]"
     ]
    },
    {
     "name": "stdout",
     "output_type": "stream",
     "text": [
      "0.1928442408784874\n",
      "[WRITE] Saved result from IDS_top10_urban_1000_points_probabilistic_seed_456.pkl to /home/libe2152/optimizedsampling/0_results/usavars/population/convenience_sampling_r2_scores.csv\n",
      "Fitting regression...\n",
      "NUM SAMPLES: 1000\n"
     ]
    },
    {
     "name": "stdout",
     "output_type": "stream",
     "text": [
      "Best alpha: 46.41588833612782\n"
     ]
    },
    {
     "name": "stderr",
     "output_type": "stream",
     "text": [
      "\r",
      "Processing samples:   8%|████▉                                                           | 8/103 [01:43<19:03, 12.04s/it]"
     ]
    },
    {
     "name": "stdout",
     "output_type": "stream",
     "text": [
      "0.2376819445638555\n",
      "[WRITE] Saved result from IDS_top10_urban_1000_points_probabilistic_seed_5678.pkl to /home/libe2152/optimizedsampling/0_results/usavars/population/convenience_sampling_r2_scores.csv\n",
      "Fitting regression...\n",
      "NUM SAMPLES: 1000\n"
     ]
    },
    {
     "name": "stdout",
     "output_type": "stream",
     "text": [
      "Best alpha: 46.41588833612782\n"
     ]
    },
    {
     "name": "stderr",
     "output_type": "stream",
     "text": [
      "\r",
      "Processing samples:   9%|█████▌                                                          | 9/103 [01:51<16:59, 10.85s/it]"
     ]
    },
    {
     "name": "stdout",
     "output_type": "stream",
     "text": [
      "0.26399578992342876\n",
      "[WRITE] Saved result from IDS_top10_urban_1000_points_probabilistic_seed_789.pkl to /home/libe2152/optimizedsampling/0_results/usavars/population/convenience_sampling_r2_scores.csv\n",
      "Fitting regression...\n",
      "NUM SAMPLES: 1000\n"
     ]
    },
    {
     "name": "stdout",
     "output_type": "stream",
     "text": [
      "Best alpha: 46.41588833612782\n"
     ]
    },
    {
     "name": "stderr",
     "output_type": "stream",
     "text": [
      "\r",
      "Processing samples:  10%|██████                                                         | 10/103 [02:00<15:49, 10.21s/it]"
     ]
    },
    {
     "name": "stdout",
     "output_type": "stream",
     "text": [
      "0.2545840422484624\n",
      "[WRITE] Saved result from IDS_top10_urban_1000_points_probabilistic_seed_9101.pkl to /home/libe2152/optimizedsampling/0_results/usavars/population/convenience_sampling_r2_scores.csv\n",
      "Fitting regression...\n",
      "NUM SAMPLES: 100\n"
     ]
    },
    {
     "name": "stdout",
     "output_type": "stream",
     "text": [
      "Best alpha: 599.4842503189421\n"
     ]
    },
    {
     "name": "stderr",
     "output_type": "stream",
     "text": [
      "\r",
      "Processing samples:  11%|██████▋                                                        | 11/103 [02:00<11:09,  7.27s/it]"
     ]
    },
    {
     "name": "stdout",
     "output_type": "stream",
     "text": [
      "-0.3604215705660714\n",
      "[WRITE] Saved result from IDS_top10_urban_100_points_probabilistic_seed_1.pkl to /home/libe2152/optimizedsampling/0_results/usavars/population/convenience_sampling_r2_scores.csv\n",
      "Fitting regression...\n",
      "NUM SAMPLES: 100\n"
     ]
    },
    {
     "name": "stdout",
     "output_type": "stream",
     "text": [
      "Best alpha: 46.41588833612782\n"
     ]
    },
    {
     "name": "stderr",
     "output_type": "stream",
     "text": [
      "\r",
      "Processing samples:  12%|███████▎                                                       | 12/103 [02:01<07:58,  5.26s/it]"
     ]
    },
    {
     "name": "stdout",
     "output_type": "stream",
     "text": [
      "-0.11087111273272776\n",
      "[WRITE] Saved result from IDS_top10_urban_100_points_probabilistic_seed_1213.pkl to /home/libe2152/optimizedsampling/0_results/usavars/population/convenience_sampling_r2_scores.csv\n",
      "Fitting regression...\n",
      "NUM SAMPLES: 100\n"
     ]
    },
    {
     "name": "stdout",
     "output_type": "stream",
     "text": [
      "Best alpha: 599.4842503189421\n"
     ]
    },
    {
     "name": "stderr",
     "output_type": "stream",
     "text": [
      "\r",
      "Processing samples:  13%|███████▉                                                       | 13/103 [02:02<05:47,  3.87s/it]"
     ]
    },
    {
     "name": "stdout",
     "output_type": "stream",
     "text": [
      "-0.29139452171069613\n",
      "[WRITE] Saved result from IDS_top10_urban_100_points_probabilistic_seed_123.pkl to /home/libe2152/optimizedsampling/0_results/usavars/population/convenience_sampling_r2_scores.csv\n",
      "Fitting regression...\n",
      "NUM SAMPLES: 100\n"
     ]
    },
    {
     "name": "stdout",
     "output_type": "stream",
     "text": [
      "Best alpha: 599.4842503189421\n"
     ]
    },
    {
     "name": "stderr",
     "output_type": "stream",
     "text": [
      "\r",
      "Processing samples:  14%|████████▌                                                      | 14/103 [02:02<04:20,  2.93s/it]"
     ]
    },
    {
     "name": "stdout",
     "output_type": "stream",
     "text": [
      "-0.1290621192854149\n",
      "[WRITE] Saved result from IDS_top10_urban_100_points_probabilistic_seed_1234.pkl to /home/libe2152/optimizedsampling/0_results/usavars/population/convenience_sampling_r2_scores.csv\n",
      "Fitting regression...\n",
      "NUM SAMPLES: 100\n"
     ]
    },
    {
     "name": "stdout",
     "output_type": "stream",
     "text": [
      "Best alpha: 46.41588833612782\n"
     ]
    },
    {
     "name": "stderr",
     "output_type": "stream",
     "text": [
      "\r",
      "Processing samples:  15%|█████████▏                                                     | 15/103 [02:03<03:18,  2.26s/it]"
     ]
    },
    {
     "name": "stdout",
     "output_type": "stream",
     "text": [
      "-0.4011621385976032\n",
      "[WRITE] Saved result from IDS_top10_urban_100_points_probabilistic_seed_1415.pkl to /home/libe2152/optimizedsampling/0_results/usavars/population/convenience_sampling_r2_scores.csv\n",
      "Fitting regression...\n",
      "NUM SAMPLES: 100\n"
     ]
    },
    {
     "name": "stdout",
     "output_type": "stream",
     "text": [
      "Best alpha: 599.4842503189421\n"
     ]
    },
    {
     "name": "stderr",
     "output_type": "stream",
     "text": [
      "\r",
      "Processing samples:  16%|█████████▊                                                     | 16/103 [02:04<02:42,  1.86s/it]"
     ]
    },
    {
     "name": "stdout",
     "output_type": "stream",
     "text": [
      "-0.41040961101722284\n",
      "[WRITE] Saved result from IDS_top10_urban_100_points_probabilistic_seed_42.pkl to /home/libe2152/optimizedsampling/0_results/usavars/population/convenience_sampling_r2_scores.csv\n",
      "Fitting regression...\n",
      "NUM SAMPLES: 100\n"
     ]
    },
    {
     "name": "stdout",
     "output_type": "stream",
     "text": [
      "Best alpha: 7742.636826811277\n"
     ]
    },
    {
     "name": "stderr",
     "output_type": "stream",
     "text": [
      "\r",
      "Processing samples:  17%|██████████▍                                                    | 17/103 [02:05<02:15,  1.58s/it]"
     ]
    },
    {
     "name": "stdout",
     "output_type": "stream",
     "text": [
      "-0.378848764632715\n",
      "[WRITE] Saved result from IDS_top10_urban_100_points_probabilistic_seed_456.pkl to /home/libe2152/optimizedsampling/0_results/usavars/population/convenience_sampling_r2_scores.csv\n",
      "Fitting regression...\n",
      "NUM SAMPLES: 100\n"
     ]
    },
    {
     "name": "stdout",
     "output_type": "stream",
     "text": [
      "Best alpha: 46.41588833612782\n"
     ]
    },
    {
     "name": "stderr",
     "output_type": "stream",
     "text": [
      "\r",
      "Processing samples:  17%|███████████                                                    | 18/103 [02:06<01:58,  1.40s/it]"
     ]
    },
    {
     "name": "stdout",
     "output_type": "stream",
     "text": [
      "0.1848868532800828\n",
      "[WRITE] Saved result from IDS_top10_urban_100_points_probabilistic_seed_5678.pkl to /home/libe2152/optimizedsampling/0_results/usavars/population/convenience_sampling_r2_scores.csv\n",
      "Fitting regression...\n",
      "NUM SAMPLES: 100\n"
     ]
    },
    {
     "name": "stdout",
     "output_type": "stream",
     "text": [
      "Best alpha: 7742.636826811277\n"
     ]
    },
    {
     "name": "stderr",
     "output_type": "stream",
     "text": [
      "\r",
      "Processing samples:  18%|███████████▌                                                   | 19/103 [02:07<01:47,  1.28s/it]"
     ]
    },
    {
     "name": "stdout",
     "output_type": "stream",
     "text": [
      "-0.2502212476568091\n",
      "[WRITE] Saved result from IDS_top10_urban_100_points_probabilistic_seed_789.pkl to /home/libe2152/optimizedsampling/0_results/usavars/population/convenience_sampling_r2_scores.csv\n",
      "Fitting regression...\n",
      "NUM SAMPLES: 100\n"
     ]
    },
    {
     "name": "stdout",
     "output_type": "stream",
     "text": [
      "Best alpha: 7742.636826811277\n"
     ]
    },
    {
     "name": "stderr",
     "output_type": "stream",
     "text": [
      "\r",
      "Processing samples:  19%|████████████▏                                                  | 20/103 [02:08<01:33,  1.12s/it]"
     ]
    },
    {
     "name": "stdout",
     "output_type": "stream",
     "text": [
      "-0.1342031775611594\n",
      "[WRITE] Saved result from IDS_top10_urban_100_points_probabilistic_seed_9101.pkl to /home/libe2152/optimizedsampling/0_results/usavars/population/convenience_sampling_r2_scores.csv\n",
      "Fitting regression...\n",
      "NUM SAMPLES: 10\n",
      "Best alpha: 9.999999999999999e-06\n"
     ]
    },
    {
     "name": "stderr",
     "output_type": "stream",
     "text": [
      "\r",
      "Processing samples:  20%|████████████▊                                                  | 21/103 [02:08<01:21,  1.00it/s]"
     ]
    },
    {
     "name": "stdout",
     "output_type": "stream",
     "text": [
      "-4.995852067005452\n",
      "Warning: Severe overfitting. Add more samples.\n",
      "[WRITE] Saved result from IDS_top10_urban_10_points_probabilistic_seed_1.pkl to /home/libe2152/optimizedsampling/0_results/usavars/population/convenience_sampling_r2_scores.csv\n",
      "Fitting regression...\n",
      "NUM SAMPLES: 10\n"
     ]
    },
    {
     "name": "stdout",
     "output_type": "stream",
     "text": [
      "Best alpha: 7742.636826811277\n"
     ]
    },
    {
     "name": "stderr",
     "output_type": "stream",
     "text": [
      "\r",
      "Processing samples:  21%|█████████████▍                                                 | 22/103 [02:09<01:10,  1.14it/s]"
     ]
    },
    {
     "name": "stdout",
     "output_type": "stream",
     "text": [
      "-2.148528687445345\n",
      "Warning: Severe overfitting. Add more samples.\n",
      "[WRITE] Saved result from IDS_top10_urban_10_points_probabilistic_seed_42.pkl to /home/libe2152/optimizedsampling/0_results/usavars/population/convenience_sampling_r2_scores.csv\n",
      "Fitting regression...\n",
      "NUM SAMPLES: 200\n"
     ]
    },
    {
     "name": "stdout",
     "output_type": "stream",
     "text": [
      "Best alpha: 599.4842503189421\n"
     ]
    },
    {
     "name": "stderr",
     "output_type": "stream",
     "text": [
      "\r",
      "Processing samples:  22%|██████████████                                                 | 23/103 [02:11<01:50,  1.38s/it]"
     ]
    },
    {
     "name": "stdout",
     "output_type": "stream",
     "text": [
      "0.019925754958298514\n",
      "[WRITE] Saved result from IDS_top10_urban_200_points_probabilistic_seed_1.pkl to /home/libe2152/optimizedsampling/0_results/usavars/population/convenience_sampling_r2_scores.csv\n",
      "Fitting regression...\n",
      "NUM SAMPLES: 200\n"
     ]
    },
    {
     "name": "stdout",
     "output_type": "stream",
     "text": [
      "Best alpha: 46.41588833612782\n"
     ]
    },
    {
     "name": "stderr",
     "output_type": "stream",
     "text": [
      "\r",
      "Processing samples:  23%|██████████████▋                                                | 24/103 [02:14<02:25,  1.84s/it]"
     ]
    },
    {
     "name": "stdout",
     "output_type": "stream",
     "text": [
      "-0.10180280998255764\n",
      "[WRITE] Saved result from IDS_top10_urban_200_points_probabilistic_seed_1213.pkl to /home/libe2152/optimizedsampling/0_results/usavars/population/convenience_sampling_r2_scores.csv\n",
      "Fitting regression...\n",
      "NUM SAMPLES: 200\n"
     ]
    },
    {
     "name": "stdout",
     "output_type": "stream",
     "text": [
      "Best alpha: 46.41588833612782\n"
     ]
    },
    {
     "name": "stderr",
     "output_type": "stream",
     "text": [
      "\r",
      "Processing samples:  24%|███████████████▎                                               | 25/103 [02:18<03:02,  2.34s/it]"
     ]
    },
    {
     "name": "stdout",
     "output_type": "stream",
     "text": [
      "-0.3594510016081245\n",
      "[WRITE] Saved result from IDS_top10_urban_200_points_probabilistic_seed_123.pkl to /home/libe2152/optimizedsampling/0_results/usavars/population/convenience_sampling_r2_scores.csv\n",
      "Fitting regression...\n",
      "NUM SAMPLES: 200\n"
     ]
    },
    {
     "name": "stdout",
     "output_type": "stream",
     "text": [
      "Best alpha: 599.4842503189421\n"
     ]
    },
    {
     "name": "stderr",
     "output_type": "stream",
     "text": [
      "\r",
      "Processing samples:  25%|███████████████▉                                               | 26/103 [02:22<03:36,  2.81s/it]"
     ]
    },
    {
     "name": "stdout",
     "output_type": "stream",
     "text": [
      "0.17736936993755414\n",
      "[WRITE] Saved result from IDS_top10_urban_200_points_probabilistic_seed_1234.pkl to /home/libe2152/optimizedsampling/0_results/usavars/population/convenience_sampling_r2_scores.csv\n",
      "Fitting regression...\n",
      "NUM SAMPLES: 200\n"
     ]
    },
    {
     "name": "stdout",
     "output_type": "stream",
     "text": [
      "Best alpha: 46.41588833612782\n"
     ]
    },
    {
     "name": "stderr",
     "output_type": "stream",
     "text": [
      "\r",
      "Processing samples:  26%|████████████████▌                                              | 27/103 [02:25<03:37,  2.86s/it]"
     ]
    },
    {
     "name": "stdout",
     "output_type": "stream",
     "text": [
      "-0.43225237231602476\n",
      "[WRITE] Saved result from IDS_top10_urban_200_points_probabilistic_seed_1415.pkl to /home/libe2152/optimizedsampling/0_results/usavars/population/convenience_sampling_r2_scores.csv\n",
      "Fitting regression...\n",
      "NUM SAMPLES: 200\n"
     ]
    },
    {
     "name": "stdout",
     "output_type": "stream",
     "text": [
      "Best alpha: 599.4842503189421\n"
     ]
    },
    {
     "name": "stderr",
     "output_type": "stream",
     "text": [
      "\r",
      "Processing samples:  27%|█████████████████▏                                             | 28/103 [02:27<03:30,  2.80s/it]"
     ]
    },
    {
     "name": "stdout",
     "output_type": "stream",
     "text": [
      "-0.23648506465956576\n",
      "[WRITE] Saved result from IDS_top10_urban_200_points_probabilistic_seed_42.pkl to /home/libe2152/optimizedsampling/0_results/usavars/population/convenience_sampling_r2_scores.csv\n",
      "Fitting regression...\n",
      "NUM SAMPLES: 200\n"
     ]
    },
    {
     "name": "stdout",
     "output_type": "stream",
     "text": [
      "Best alpha: 46.41588833612782\n"
     ]
    },
    {
     "name": "stderr",
     "output_type": "stream",
     "text": [
      "\r",
      "Processing samples:  28%|█████████████████▋                                             | 29/103 [02:31<03:36,  2.93s/it]"
     ]
    },
    {
     "name": "stdout",
     "output_type": "stream",
     "text": [
      "0.1010485774571177\n",
      "[WRITE] Saved result from IDS_top10_urban_200_points_probabilistic_seed_456.pkl to /home/libe2152/optimizedsampling/0_results/usavars/population/convenience_sampling_r2_scores.csv\n",
      "Fitting regression...\n",
      "NUM SAMPLES: 200\n"
     ]
    },
    {
     "name": "stdout",
     "output_type": "stream",
     "text": [
      "Best alpha: 599.4842503189421\n"
     ]
    },
    {
     "name": "stderr",
     "output_type": "stream",
     "text": [
      "\r",
      "Processing samples:  29%|██████████████████▎                                            | 30/103 [02:34<03:35,  2.96s/it]"
     ]
    },
    {
     "name": "stdout",
     "output_type": "stream",
     "text": [
      "-0.023042199267365726\n",
      "[WRITE] Saved result from IDS_top10_urban_200_points_probabilistic_seed_5678.pkl to /home/libe2152/optimizedsampling/0_results/usavars/population/convenience_sampling_r2_scores.csv\n",
      "Fitting regression...\n",
      "NUM SAMPLES: 200\n"
     ]
    },
    {
     "name": "stdout",
     "output_type": "stream",
     "text": [
      "Best alpha: 599.4842503189421\n"
     ]
    },
    {
     "name": "stderr",
     "output_type": "stream",
     "text": [
      "\r",
      "Processing samples:  30%|██████████████████▉                                            | 31/103 [02:37<03:34,  2.97s/it]"
     ]
    },
    {
     "name": "stdout",
     "output_type": "stream",
     "text": [
      "0.09146870161105136\n",
      "[WRITE] Saved result from IDS_top10_urban_200_points_probabilistic_seed_789.pkl to /home/libe2152/optimizedsampling/0_results/usavars/population/convenience_sampling_r2_scores.csv\n",
      "Fitting regression...\n",
      "NUM SAMPLES: 200\n"
     ]
    },
    {
     "name": "stdout",
     "output_type": "stream",
     "text": [
      "Best alpha: 599.4842503189421\n"
     ]
    },
    {
     "name": "stderr",
     "output_type": "stream",
     "text": [
      "\r",
      "Processing samples:  31%|███████████████████▌                                           | 32/103 [02:39<03:20,  2.82s/it]"
     ]
    },
    {
     "name": "stdout",
     "output_type": "stream",
     "text": [
      "0.030311327855111148\n",
      "[WRITE] Saved result from IDS_top10_urban_200_points_probabilistic_seed_9101.pkl to /home/libe2152/optimizedsampling/0_results/usavars/population/convenience_sampling_r2_scores.csv\n",
      "Fitting regression...\n",
      "NUM SAMPLES: 300\n"
     ]
    },
    {
     "name": "stdout",
     "output_type": "stream",
     "text": [
      "Best alpha: 46.41588833612782\n"
     ]
    },
    {
     "name": "stderr",
     "output_type": "stream",
     "text": [
      "\r",
      "Processing samples:  32%|████████████████████▏                                          | 33/103 [02:43<03:34,  3.07s/it]"
     ]
    },
    {
     "name": "stdout",
     "output_type": "stream",
     "text": [
      "0.09291781031786162\n",
      "[WRITE] Saved result from IDS_top10_urban_300_points_probabilistic_seed_1.pkl to /home/libe2152/optimizedsampling/0_results/usavars/population/convenience_sampling_r2_scores.csv\n",
      "Fitting regression...\n",
      "NUM SAMPLES: 300\n"
     ]
    },
    {
     "name": "stdout",
     "output_type": "stream",
     "text": [
      "Best alpha: 46.41588833612782\n"
     ]
    },
    {
     "name": "stderr",
     "output_type": "stream",
     "text": [
      "\r",
      "Processing samples:  33%|████████████████████▊                                          | 34/103 [02:46<03:30,  3.05s/it]"
     ]
    },
    {
     "name": "stdout",
     "output_type": "stream",
     "text": [
      "0.08708114910020703\n",
      "[WRITE] Saved result from IDS_top10_urban_300_points_probabilistic_seed_1213.pkl to /home/libe2152/optimizedsampling/0_results/usavars/population/convenience_sampling_r2_scores.csv\n",
      "Fitting regression...\n",
      "NUM SAMPLES: 300\n"
     ]
    },
    {
     "name": "stdout",
     "output_type": "stream",
     "text": [
      "Best alpha: 46.41588833612782\n"
     ]
    },
    {
     "name": "stderr",
     "output_type": "stream",
     "text": [
      "\r",
      "Processing samples:  34%|█████████████████████▍                                         | 35/103 [02:49<03:37,  3.20s/it]"
     ]
    },
    {
     "name": "stdout",
     "output_type": "stream",
     "text": [
      "0.010592099913616981\n",
      "[WRITE] Saved result from IDS_top10_urban_300_points_probabilistic_seed_123.pkl to /home/libe2152/optimizedsampling/0_results/usavars/population/convenience_sampling_r2_scores.csv\n",
      "Fitting regression...\n",
      "NUM SAMPLES: 300\n"
     ]
    },
    {
     "name": "stdout",
     "output_type": "stream",
     "text": [
      "Best alpha: 46.41588833612782\n"
     ]
    },
    {
     "name": "stderr",
     "output_type": "stream",
     "text": [
      "\r",
      "Processing samples:  35%|██████████████████████                                         | 36/103 [02:54<04:00,  3.59s/it]"
     ]
    },
    {
     "name": "stdout",
     "output_type": "stream",
     "text": [
      "0.24590180640775827\n",
      "[WRITE] Saved result from IDS_top10_urban_300_points_probabilistic_seed_1234.pkl to /home/libe2152/optimizedsampling/0_results/usavars/population/convenience_sampling_r2_scores.csv\n",
      "Fitting regression...\n",
      "NUM SAMPLES: 300\n"
     ]
    },
    {
     "name": "stdout",
     "output_type": "stream",
     "text": [
      "Best alpha: 599.4842503189421\n"
     ]
    },
    {
     "name": "stderr",
     "output_type": "stream",
     "text": [
      "\r",
      "Processing samples:  36%|██████████████████████▋                                        | 37/103 [02:59<04:32,  4.12s/it]"
     ]
    },
    {
     "name": "stdout",
     "output_type": "stream",
     "text": [
      "-0.12448197333547695\n",
      "[WRITE] Saved result from IDS_top10_urban_300_points_probabilistic_seed_1415.pkl to /home/libe2152/optimizedsampling/0_results/usavars/population/convenience_sampling_r2_scores.csv\n",
      "Fitting regression...\n",
      "NUM SAMPLES: 300\n"
     ]
    },
    {
     "name": "stdout",
     "output_type": "stream",
     "text": [
      "Best alpha: 599.4842503189421\n"
     ]
    },
    {
     "name": "stderr",
     "output_type": "stream",
     "text": [
      "\r",
      "Processing samples:  37%|███████████████████████▏                                       | 38/103 [03:05<04:53,  4.52s/it]"
     ]
    },
    {
     "name": "stdout",
     "output_type": "stream",
     "text": [
      "-0.07071904923371553\n",
      "[WRITE] Saved result from IDS_top10_urban_300_points_probabilistic_seed_42.pkl to /home/libe2152/optimizedsampling/0_results/usavars/population/convenience_sampling_r2_scores.csv\n",
      "Fitting regression...\n",
      "NUM SAMPLES: 300\n"
     ]
    },
    {
     "name": "stdout",
     "output_type": "stream",
     "text": [
      "Best alpha: 46.41588833612782\n"
     ]
    },
    {
     "name": "stderr",
     "output_type": "stream",
     "text": [
      "\r",
      "Processing samples:  38%|███████████████████████▊                                       | 39/103 [03:09<04:51,  4.56s/it]"
     ]
    },
    {
     "name": "stdout",
     "output_type": "stream",
     "text": [
      "0.13649121825263055\n",
      "[WRITE] Saved result from IDS_top10_urban_300_points_probabilistic_seed_456.pkl to /home/libe2152/optimizedsampling/0_results/usavars/population/convenience_sampling_r2_scores.csv\n",
      "Fitting regression...\n",
      "NUM SAMPLES: 300\n"
     ]
    },
    {
     "name": "stdout",
     "output_type": "stream",
     "text": [
      "Best alpha: 46.41588833612782\n"
     ]
    },
    {
     "name": "stderr",
     "output_type": "stream",
     "text": [
      "\r",
      "Processing samples:  39%|████████████████████████▍                                      | 40/103 [03:14<04:52,  4.64s/it]"
     ]
    },
    {
     "name": "stdout",
     "output_type": "stream",
     "text": [
      "0.11014617707756025\n",
      "[WRITE] Saved result from IDS_top10_urban_300_points_probabilistic_seed_5678.pkl to /home/libe2152/optimizedsampling/0_results/usavars/population/convenience_sampling_r2_scores.csv\n",
      "Fitting regression...\n",
      "NUM SAMPLES: 300\n"
     ]
    },
    {
     "name": "stdout",
     "output_type": "stream",
     "text": [
      "Best alpha: 46.41588833612782\n"
     ]
    },
    {
     "name": "stderr",
     "output_type": "stream",
     "text": [
      "\r",
      "Processing samples:  40%|█████████████████████████                                      | 41/103 [03:18<04:28,  4.33s/it]"
     ]
    },
    {
     "name": "stdout",
     "output_type": "stream",
     "text": [
      "0.14938236895196044\n",
      "[WRITE] Saved result from IDS_top10_urban_300_points_probabilistic_seed_789.pkl to /home/libe2152/optimizedsampling/0_results/usavars/population/convenience_sampling_r2_scores.csv\n",
      "Fitting regression...\n",
      "NUM SAMPLES: 300\n"
     ]
    },
    {
     "name": "stdout",
     "output_type": "stream",
     "text": [
      "Best alpha: 46.41588833612782\n"
     ]
    },
    {
     "name": "stderr",
     "output_type": "stream",
     "text": [
      "\r",
      "Processing samples:  41%|█████████████████████████▋                                     | 42/103 [03:22<04:14,  4.17s/it]"
     ]
    },
    {
     "name": "stdout",
     "output_type": "stream",
     "text": [
      "0.07077748854651889\n",
      "[WRITE] Saved result from IDS_top10_urban_300_points_probabilistic_seed_9101.pkl to /home/libe2152/optimizedsampling/0_results/usavars/population/convenience_sampling_r2_scores.csv\n",
      "Fitting regression...\n",
      "NUM SAMPLES: 400\n"
     ]
    },
    {
     "name": "stdout",
     "output_type": "stream",
     "text": [
      "Best alpha: 46.41588833612782\n"
     ]
    },
    {
     "name": "stderr",
     "output_type": "stream",
     "text": [
      "\r",
      "Processing samples:  42%|██████████████████████████▎                                    | 43/103 [03:29<05:00,  5.00s/it]"
     ]
    },
    {
     "name": "stdout",
     "output_type": "stream",
     "text": [
      "0.19978632045558709\n",
      "[WRITE] Saved result from IDS_top10_urban_400_points_probabilistic_seed_1.pkl to /home/libe2152/optimizedsampling/0_results/usavars/population/convenience_sampling_r2_scores.csv\n",
      "Fitting regression...\n",
      "NUM SAMPLES: 400\n"
     ]
    },
    {
     "name": "stdout",
     "output_type": "stream",
     "text": [
      "Best alpha: 46.41588833612782\n"
     ]
    },
    {
     "name": "stderr",
     "output_type": "stream",
     "text": [
      "\r",
      "Processing samples:  43%|██████████████████████████▉                                    | 44/103 [03:35<05:16,  5.36s/it]"
     ]
    },
    {
     "name": "stdout",
     "output_type": "stream",
     "text": [
      "0.12148777563239144\n",
      "[WRITE] Saved result from IDS_top10_urban_400_points_probabilistic_seed_1213.pkl to /home/libe2152/optimizedsampling/0_results/usavars/population/convenience_sampling_r2_scores.csv\n",
      "Fitting regression...\n",
      "NUM SAMPLES: 400\n"
     ]
    },
    {
     "name": "stdout",
     "output_type": "stream",
     "text": [
      "Best alpha: 46.41588833612782\n"
     ]
    },
    {
     "name": "stderr",
     "output_type": "stream",
     "text": [
      "\r",
      "Processing samples:  44%|███████████████████████████▌                                   | 45/103 [03:41<05:35,  5.79s/it]"
     ]
    },
    {
     "name": "stdout",
     "output_type": "stream",
     "text": [
      "-0.06738259516172396\n",
      "[WRITE] Saved result from IDS_top10_urban_400_points_probabilistic_seed_123.pkl to /home/libe2152/optimizedsampling/0_results/usavars/population/convenience_sampling_r2_scores.csv\n",
      "Fitting regression...\n",
      "NUM SAMPLES: 400\n"
     ]
    },
    {
     "name": "stdout",
     "output_type": "stream",
     "text": [
      "Best alpha: 46.41588833612782\n"
     ]
    },
    {
     "name": "stderr",
     "output_type": "stream",
     "text": [
      "\r",
      "Processing samples:  45%|████████████████████████████▏                                  | 46/103 [03:48<05:34,  5.87s/it]"
     ]
    },
    {
     "name": "stdout",
     "output_type": "stream",
     "text": [
      "0.2883245374849479\n",
      "[WRITE] Saved result from IDS_top10_urban_400_points_probabilistic_seed_1234.pkl to /home/libe2152/optimizedsampling/0_results/usavars/population/convenience_sampling_r2_scores.csv\n",
      "Fitting regression...\n",
      "NUM SAMPLES: 400\n"
     ]
    },
    {
     "name": "stdout",
     "output_type": "stream",
     "text": [
      "Best alpha: 46.41588833612782\n"
     ]
    },
    {
     "name": "stderr",
     "output_type": "stream",
     "text": [
      "\r",
      "Processing samples:  46%|████████████████████████████▋                                  | 47/103 [03:54<05:39,  6.06s/it]"
     ]
    },
    {
     "name": "stdout",
     "output_type": "stream",
     "text": [
      "0.031096214743471573\n",
      "[WRITE] Saved result from IDS_top10_urban_400_points_probabilistic_seed_1415.pkl to /home/libe2152/optimizedsampling/0_results/usavars/population/convenience_sampling_r2_scores.csv\n",
      "Fitting regression...\n",
      "NUM SAMPLES: 400\n"
     ]
    },
    {
     "name": "stdout",
     "output_type": "stream",
     "text": [
      "Best alpha: 599.4842503189421\n"
     ]
    },
    {
     "name": "stderr",
     "output_type": "stream",
     "text": [
      "\r",
      "Processing samples:  47%|█████████████████████████████▎                                 | 48/103 [04:02<06:04,  6.62s/it]"
     ]
    },
    {
     "name": "stdout",
     "output_type": "stream",
     "text": [
      "-0.010094000725882957\n",
      "[WRITE] Saved result from IDS_top10_urban_400_points_probabilistic_seed_42.pkl to /home/libe2152/optimizedsampling/0_results/usavars/population/convenience_sampling_r2_scores.csv\n",
      "Fitting regression...\n",
      "NUM SAMPLES: 400\n"
     ]
    },
    {
     "name": "stdout",
     "output_type": "stream",
     "text": [
      "Best alpha: 46.41588833612782\n"
     ]
    },
    {
     "name": "stderr",
     "output_type": "stream",
     "text": [
      "\r",
      "Processing samples:  48%|█████████████████████████████▉                                 | 49/103 [04:10<06:17,  6.99s/it]"
     ]
    },
    {
     "name": "stdout",
     "output_type": "stream",
     "text": [
      "0.1783871410229788\n",
      "[WRITE] Saved result from IDS_top10_urban_400_points_probabilistic_seed_456.pkl to /home/libe2152/optimizedsampling/0_results/usavars/population/convenience_sampling_r2_scores.csv\n",
      "Fitting regression...\n",
      "NUM SAMPLES: 400\n"
     ]
    },
    {
     "name": "stdout",
     "output_type": "stream",
     "text": [
      "Best alpha: 46.41588833612782\n"
     ]
    },
    {
     "name": "stderr",
     "output_type": "stream",
     "text": [
      "\r",
      "Processing samples:  49%|██████████████████████████████▌                                | 50/103 [04:18<06:33,  7.42s/it]"
     ]
    },
    {
     "name": "stdout",
     "output_type": "stream",
     "text": [
      "0.12591285732656032\n",
      "[WRITE] Saved result from IDS_top10_urban_400_points_probabilistic_seed_5678.pkl to /home/libe2152/optimizedsampling/0_results/usavars/population/convenience_sampling_r2_scores.csv\n",
      "Fitting regression...\n",
      "NUM SAMPLES: 400\n"
     ]
    },
    {
     "name": "stdout",
     "output_type": "stream",
     "text": [
      "Best alpha: 46.41588833612782\n"
     ]
    },
    {
     "name": "stderr",
     "output_type": "stream",
     "text": [
      "\r",
      "Processing samples:  50%|███████████████████████████████▏                               | 51/103 [04:26<06:37,  7.65s/it]"
     ]
    },
    {
     "name": "stdout",
     "output_type": "stream",
     "text": [
      "0.22941062935208845\n",
      "[WRITE] Saved result from IDS_top10_urban_400_points_probabilistic_seed_789.pkl to /home/libe2152/optimizedsampling/0_results/usavars/population/convenience_sampling_r2_scores.csv\n",
      "Fitting regression...\n",
      "NUM SAMPLES: 400\n"
     ]
    },
    {
     "name": "stdout",
     "output_type": "stream",
     "text": [
      "Best alpha: 46.41588833612782\n"
     ]
    },
    {
     "name": "stderr",
     "output_type": "stream",
     "text": [
      "\r",
      "Processing samples:  50%|███████████████████████████████▊                               | 52/103 [04:36<06:57,  8.19s/it]"
     ]
    },
    {
     "name": "stdout",
     "output_type": "stream",
     "text": [
      "0.12493485428118256\n",
      "[WRITE] Saved result from IDS_top10_urban_400_points_probabilistic_seed_9101.pkl to /home/libe2152/optimizedsampling/0_results/usavars/population/convenience_sampling_r2_scores.csv\n",
      "Fitting regression...\n",
      "NUM SAMPLES: 500\n"
     ]
    },
    {
     "name": "stdout",
     "output_type": "stream",
     "text": [
      "Best alpha: 46.41588833612782\n"
     ]
    },
    {
     "name": "stderr",
     "output_type": "stream",
     "text": [
      "\r",
      "Processing samples:  51%|████████████████████████████████▍                              | 53/103 [04:44<06:55,  8.31s/it]"
     ]
    },
    {
     "name": "stdout",
     "output_type": "stream",
     "text": [
      "0.23589955990803546\n",
      "[WRITE] Saved result from IDS_top10_urban_500_points_probabilistic_seed_1.pkl to /home/libe2152/optimizedsampling/0_results/usavars/population/convenience_sampling_r2_scores.csv\n",
      "Fitting regression...\n",
      "NUM SAMPLES: 500\n"
     ]
    },
    {
     "name": "stdout",
     "output_type": "stream",
     "text": [
      "Best alpha: 46.41588833612782\n"
     ]
    },
    {
     "name": "stderr",
     "output_type": "stream",
     "text": [
      "\r",
      "Processing samples:  52%|█████████████████████████████████                              | 54/103 [04:59<08:16, 10.13s/it]"
     ]
    },
    {
     "name": "stdout",
     "output_type": "stream",
     "text": [
      "0.14178657241024695\n",
      "[WRITE] Saved result from IDS_top10_urban_500_points_probabilistic_seed_1213.pkl to /home/libe2152/optimizedsampling/0_results/usavars/population/convenience_sampling_r2_scores.csv\n",
      "Fitting regression...\n",
      "NUM SAMPLES: 500\n"
     ]
    },
    {
     "name": "stdout",
     "output_type": "stream",
     "text": [
      "Best alpha: 46.41588833612782\n"
     ]
    },
    {
     "name": "stderr",
     "output_type": "stream",
     "text": [
      "\r",
      "Processing samples:  53%|█████████████████████████████████▋                             | 55/103 [05:09<08:10, 10.22s/it]"
     ]
    },
    {
     "name": "stdout",
     "output_type": "stream",
     "text": [
      "0.07177451912722665\n",
      "[WRITE] Saved result from IDS_top10_urban_500_points_probabilistic_seed_123.pkl to /home/libe2152/optimizedsampling/0_results/usavars/population/convenience_sampling_r2_scores.csv\n",
      "Fitting regression...\n",
      "NUM SAMPLES: 500\n"
     ]
    },
    {
     "name": "stdout",
     "output_type": "stream",
     "text": [
      "Best alpha: 46.41588833612782\n"
     ]
    },
    {
     "name": "stderr",
     "output_type": "stream",
     "text": [
      "\r",
      "Processing samples:  54%|██████████████████████████████████▎                            | 56/103 [05:19<07:46,  9.93s/it]"
     ]
    },
    {
     "name": "stdout",
     "output_type": "stream",
     "text": [
      "0.27887080528580566\n",
      "[WRITE] Saved result from IDS_top10_urban_500_points_probabilistic_seed_1234.pkl to /home/libe2152/optimizedsampling/0_results/usavars/population/convenience_sampling_r2_scores.csv\n",
      "Fitting regression...\n",
      "NUM SAMPLES: 500\n"
     ]
    },
    {
     "name": "stdout",
     "output_type": "stream",
     "text": [
      "Best alpha: 46.41588833612782\n"
     ]
    },
    {
     "name": "stderr",
     "output_type": "stream",
     "text": [
      "\r",
      "Processing samples:  55%|██████████████████████████████████▊                            | 57/103 [05:29<07:47, 10.15s/it]"
     ]
    },
    {
     "name": "stdout",
     "output_type": "stream",
     "text": [
      "0.11915534291981744\n",
      "[WRITE] Saved result from IDS_top10_urban_500_points_probabilistic_seed_1415.pkl to /home/libe2152/optimizedsampling/0_results/usavars/population/convenience_sampling_r2_scores.csv\n",
      "Fitting regression...\n",
      "NUM SAMPLES: 500\n"
     ]
    },
    {
     "name": "stdout",
     "output_type": "stream",
     "text": [
      "Best alpha: 46.41588833612782\n"
     ]
    },
    {
     "name": "stderr",
     "output_type": "stream",
     "text": [
      "\r",
      "Processing samples:  56%|███████████████████████████████████▍                           | 58/103 [05:42<08:16, 11.04s/it]"
     ]
    },
    {
     "name": "stdout",
     "output_type": "stream",
     "text": [
      "0.15541791568479557\n",
      "[WRITE] Saved result from IDS_top10_urban_500_points_probabilistic_seed_42.pkl to /home/libe2152/optimizedsampling/0_results/usavars/population/convenience_sampling_r2_scores.csv\n",
      "Fitting regression...\n",
      "NUM SAMPLES: 500\n"
     ]
    },
    {
     "name": "stdout",
     "output_type": "stream",
     "text": [
      "Best alpha: 46.41588833612782\n"
     ]
    },
    {
     "name": "stderr",
     "output_type": "stream",
     "text": [
      "\r",
      "Processing samples:  57%|████████████████████████████████████                           | 59/103 [05:52<07:42, 10.51s/it]"
     ]
    },
    {
     "name": "stdout",
     "output_type": "stream",
     "text": [
      "0.08489186642542246\n",
      "[WRITE] Saved result from IDS_top10_urban_500_points_probabilistic_seed_456.pkl to /home/libe2152/optimizedsampling/0_results/usavars/population/convenience_sampling_r2_scores.csv\n",
      "Fitting regression...\n",
      "NUM SAMPLES: 500\n"
     ]
    },
    {
     "name": "stdout",
     "output_type": "stream",
     "text": [
      "Best alpha: 46.41588833612782\n"
     ]
    },
    {
     "name": "stderr",
     "output_type": "stream",
     "text": [
      "\r",
      "Processing samples:  58%|████████████████████████████████████▋                          | 60/103 [06:01<07:14, 10.10s/it]"
     ]
    },
    {
     "name": "stdout",
     "output_type": "stream",
     "text": [
      "0.11214747364992128\n",
      "[WRITE] Saved result from IDS_top10_urban_500_points_probabilistic_seed_5678.pkl to /home/libe2152/optimizedsampling/0_results/usavars/population/convenience_sampling_r2_scores.csv\n",
      "Fitting regression...\n",
      "NUM SAMPLES: 500\n"
     ]
    },
    {
     "name": "stdout",
     "output_type": "stream",
     "text": [
      "Best alpha: 46.41588833612782\n"
     ]
    },
    {
     "name": "stderr",
     "output_type": "stream",
     "text": [
      "\r",
      "Processing samples:  59%|█████████████████████████████████████▎                         | 61/103 [06:10<06:54,  9.88s/it]"
     ]
    },
    {
     "name": "stdout",
     "output_type": "stream",
     "text": [
      "0.2691843617162172\n",
      "[WRITE] Saved result from IDS_top10_urban_500_points_probabilistic_seed_789.pkl to /home/libe2152/optimizedsampling/0_results/usavars/population/convenience_sampling_r2_scores.csv\n",
      "Fitting regression...\n",
      "NUM SAMPLES: 500\n"
     ]
    },
    {
     "name": "stdout",
     "output_type": "stream",
     "text": [
      "Best alpha: 46.41588833612782\n"
     ]
    },
    {
     "name": "stderr",
     "output_type": "stream",
     "text": [
      "\r",
      "Processing samples:  60%|█████████████████████████████████████▉                         | 62/103 [06:19<06:35,  9.65s/it]"
     ]
    },
    {
     "name": "stdout",
     "output_type": "stream",
     "text": [
      "0.14404682851976114\n",
      "[WRITE] Saved result from IDS_top10_urban_500_points_probabilistic_seed_9101.pkl to /home/libe2152/optimizedsampling/0_results/usavars/population/convenience_sampling_r2_scores.csv\n",
      "Fitting regression...\n",
      "NUM SAMPLES: 600\n"
     ]
    },
    {
     "name": "stdout",
     "output_type": "stream",
     "text": [
      "Best alpha: 46.41588833612782\n"
     ]
    },
    {
     "name": "stderr",
     "output_type": "stream",
     "text": [
      "\r",
      "Processing samples:  61%|██████████████████████████████████████▌                        | 63/103 [06:33<07:20, 11.02s/it]"
     ]
    },
    {
     "name": "stdout",
     "output_type": "stream",
     "text": [
      "0.20632880653213748\n",
      "[WRITE] Saved result from IDS_top10_urban_600_points_probabilistic_seed_1.pkl to /home/libe2152/optimizedsampling/0_results/usavars/population/convenience_sampling_r2_scores.csv\n",
      "Fitting regression...\n",
      "NUM SAMPLES: 600\n"
     ]
    },
    {
     "name": "stdout",
     "output_type": "stream",
     "text": [
      "Best alpha: 46.41588833612782\n"
     ]
    },
    {
     "name": "stderr",
     "output_type": "stream",
     "text": [
      "\r",
      "Processing samples:  62%|███████████████████████████████████████▏                       | 64/103 [06:47<07:35, 11.68s/it]"
     ]
    },
    {
     "name": "stdout",
     "output_type": "stream",
     "text": [
      "0.12036221872712083\n",
      "[WRITE] Saved result from IDS_top10_urban_600_points_probabilistic_seed_1213.pkl to /home/libe2152/optimizedsampling/0_results/usavars/population/convenience_sampling_r2_scores.csv\n",
      "Fitting regression...\n",
      "NUM SAMPLES: 600\n"
     ]
    },
    {
     "name": "stdout",
     "output_type": "stream",
     "text": [
      "Best alpha: 46.41588833612782\n"
     ]
    },
    {
     "name": "stderr",
     "output_type": "stream",
     "text": [
      "\r",
      "Processing samples:  63%|███████████████████████████████████████▊                       | 65/103 [07:02<08:00, 12.64s/it]"
     ]
    },
    {
     "name": "stdout",
     "output_type": "stream",
     "text": [
      "0.14905170912526255\n",
      "[WRITE] Saved result from IDS_top10_urban_600_points_probabilistic_seed_123.pkl to /home/libe2152/optimizedsampling/0_results/usavars/population/convenience_sampling_r2_scores.csv\n",
      "Fitting regression...\n",
      "NUM SAMPLES: 600\n"
     ]
    },
    {
     "name": "stdout",
     "output_type": "stream",
     "text": [
      "Best alpha: 46.41588833612782\n"
     ]
    },
    {
     "name": "stderr",
     "output_type": "stream",
     "text": [
      "\r",
      "Processing samples:  64%|████████████████████████████████████████▎                      | 66/103 [07:14<07:50, 12.73s/it]"
     ]
    },
    {
     "name": "stdout",
     "output_type": "stream",
     "text": [
      "0.2876761573249955\n",
      "[WRITE] Saved result from IDS_top10_urban_600_points_probabilistic_seed_1234.pkl to /home/libe2152/optimizedsampling/0_results/usavars/population/convenience_sampling_r2_scores.csv\n",
      "Fitting regression...\n",
      "NUM SAMPLES: 600\n"
     ]
    },
    {
     "name": "stdout",
     "output_type": "stream",
     "text": [
      "Best alpha: 46.41588833612782\n"
     ]
    },
    {
     "name": "stderr",
     "output_type": "stream",
     "text": [
      "\r",
      "Processing samples:  65%|████████████████████████████████████████▉                      | 67/103 [07:28<07:50, 13.08s/it]"
     ]
    },
    {
     "name": "stdout",
     "output_type": "stream",
     "text": [
      "0.22204862277065318\n",
      "[WRITE] Saved result from IDS_top10_urban_600_points_probabilistic_seed_1415.pkl to /home/libe2152/optimizedsampling/0_results/usavars/population/convenience_sampling_r2_scores.csv\n",
      "Fitting regression...\n",
      "NUM SAMPLES: 600\n"
     ]
    },
    {
     "name": "stdout",
     "output_type": "stream",
     "text": [
      "Best alpha: 46.41588833612782\n"
     ]
    },
    {
     "name": "stderr",
     "output_type": "stream",
     "text": [
      "\r",
      "Processing samples:  66%|█████████████████████████████████████████▌                     | 68/103 [07:41<07:35, 13.01s/it]"
     ]
    },
    {
     "name": "stdout",
     "output_type": "stream",
     "text": [
      "0.14845028977483032\n",
      "[WRITE] Saved result from IDS_top10_urban_600_points_probabilistic_seed_42.pkl to /home/libe2152/optimizedsampling/0_results/usavars/population/convenience_sampling_r2_scores.csv\n",
      "Fitting regression...\n",
      "NUM SAMPLES: 600\n"
     ]
    },
    {
     "name": "stdout",
     "output_type": "stream",
     "text": [
      "Best alpha: 46.41588833612782\n"
     ]
    },
    {
     "name": "stderr",
     "output_type": "stream",
     "text": [
      "\r",
      "Processing samples:  67%|██████████████████████████████████████████▏                    | 69/103 [07:56<07:37, 13.46s/it]"
     ]
    },
    {
     "name": "stdout",
     "output_type": "stream",
     "text": [
      "0.1712232425566811\n",
      "[WRITE] Saved result from IDS_top10_urban_600_points_probabilistic_seed_456.pkl to /home/libe2152/optimizedsampling/0_results/usavars/population/convenience_sampling_r2_scores.csv\n",
      "Fitting regression...\n",
      "NUM SAMPLES: 600\n"
     ]
    },
    {
     "name": "stdout",
     "output_type": "stream",
     "text": [
      "Best alpha: 46.41588833612782\n"
     ]
    },
    {
     "name": "stderr",
     "output_type": "stream",
     "text": [
      "\r",
      "Processing samples:  68%|██████████████████████████████████████████▊                    | 70/103 [08:07<07:01, 12.77s/it]"
     ]
    },
    {
     "name": "stdout",
     "output_type": "stream",
     "text": [
      "0.1336565019572683\n",
      "[WRITE] Saved result from IDS_top10_urban_600_points_probabilistic_seed_5678.pkl to /home/libe2152/optimizedsampling/0_results/usavars/population/convenience_sampling_r2_scores.csv\n",
      "Fitting regression...\n",
      "NUM SAMPLES: 600\n"
     ]
    },
    {
     "name": "stdout",
     "output_type": "stream",
     "text": [
      "Best alpha: 46.41588833612782\n"
     ]
    },
    {
     "name": "stderr",
     "output_type": "stream",
     "text": [
      "\r",
      "Processing samples:  69%|███████████████████████████████████████████▍                   | 71/103 [08:21<06:57, 13.04s/it]"
     ]
    },
    {
     "name": "stdout",
     "output_type": "stream",
     "text": [
      "0.24421488704097805\n",
      "[WRITE] Saved result from IDS_top10_urban_600_points_probabilistic_seed_789.pkl to /home/libe2152/optimizedsampling/0_results/usavars/population/convenience_sampling_r2_scores.csv\n",
      "Fitting regression...\n",
      "NUM SAMPLES: 600\n"
     ]
    },
    {
     "name": "stdout",
     "output_type": "stream",
     "text": [
      "Best alpha: 46.41588833612782\n"
     ]
    },
    {
     "name": "stderr",
     "output_type": "stream",
     "text": [
      "\r",
      "Processing samples:  70%|████████████████████████████████████████████                   | 72/103 [08:30<06:13, 12.06s/it]"
     ]
    },
    {
     "name": "stdout",
     "output_type": "stream",
     "text": [
      "0.16153642402335544\n",
      "[WRITE] Saved result from IDS_top10_urban_600_points_probabilistic_seed_9101.pkl to /home/libe2152/optimizedsampling/0_results/usavars/population/convenience_sampling_r2_scores.csv\n",
      "Fitting regression...\n",
      "NUM SAMPLES: 700\n"
     ]
    },
    {
     "name": "stdout",
     "output_type": "stream",
     "text": [
      "Best alpha: 46.41588833612782\n"
     ]
    },
    {
     "name": "stderr",
     "output_type": "stream",
     "text": [
      "\r",
      "Processing samples:  71%|████████████████████████████████████████████▋                  | 73/103 [08:48<06:49, 13.64s/it]"
     ]
    },
    {
     "name": "stdout",
     "output_type": "stream",
     "text": [
      "0.24932393095961092\n",
      "[WRITE] Saved result from IDS_top10_urban_700_points_probabilistic_seed_1.pkl to /home/libe2152/optimizedsampling/0_results/usavars/population/convenience_sampling_r2_scores.csv\n",
      "Fitting regression...\n",
      "NUM SAMPLES: 700\n"
     ]
    },
    {
     "name": "stdout",
     "output_type": "stream",
     "text": [
      "Best alpha: 46.41588833612782\n"
     ]
    },
    {
     "name": "stderr",
     "output_type": "stream",
     "text": [
      "\r",
      "Processing samples:  72%|█████████████████████████████████████████████▎                 | 74/103 [09:02<06:45, 13.99s/it]"
     ]
    },
    {
     "name": "stdout",
     "output_type": "stream",
     "text": [
      "0.17182587176160624\n",
      "[WRITE] Saved result from IDS_top10_urban_700_points_probabilistic_seed_1213.pkl to /home/libe2152/optimizedsampling/0_results/usavars/population/convenience_sampling_r2_scores.csv\n",
      "Fitting regression...\n",
      "NUM SAMPLES: 700\n"
     ]
    },
    {
     "name": "stdout",
     "output_type": "stream",
     "text": [
      "Best alpha: 46.41588833612782\n"
     ]
    },
    {
     "name": "stderr",
     "output_type": "stream",
     "text": [
      "\r",
      "Processing samples:  73%|█████████████████████████████████████████████▊                 | 75/103 [09:20<07:02, 15.08s/it]"
     ]
    },
    {
     "name": "stdout",
     "output_type": "stream",
     "text": [
      "0.14900420015453242\n",
      "[WRITE] Saved result from IDS_top10_urban_700_points_probabilistic_seed_123.pkl to /home/libe2152/optimizedsampling/0_results/usavars/population/convenience_sampling_r2_scores.csv\n",
      "Fitting regression...\n",
      "NUM SAMPLES: 700\n"
     ]
    },
    {
     "name": "stdout",
     "output_type": "stream",
     "text": [
      "Best alpha: 46.41588833612782\n"
     ]
    },
    {
     "name": "stderr",
     "output_type": "stream",
     "text": [
      "\r",
      "Processing samples:  74%|██████████████████████████████████████████████▍                | 76/103 [09:37<06:59, 15.55s/it]"
     ]
    },
    {
     "name": "stdout",
     "output_type": "stream",
     "text": [
      "0.31984271250881724\n",
      "[WRITE] Saved result from IDS_top10_urban_700_points_probabilistic_seed_1234.pkl to /home/libe2152/optimizedsampling/0_results/usavars/population/convenience_sampling_r2_scores.csv\n",
      "Fitting regression...\n",
      "NUM SAMPLES: 700\n"
     ]
    },
    {
     "name": "stdout",
     "output_type": "stream",
     "text": [
      "Best alpha: 46.41588833612782\n"
     ]
    },
    {
     "name": "stderr",
     "output_type": "stream",
     "text": [
      "\r",
      "Processing samples:  75%|███████████████████████████████████████████████                | 77/103 [09:55<07:03, 16.27s/it]"
     ]
    },
    {
     "name": "stdout",
     "output_type": "stream",
     "text": [
      "0.2144308601332937\n",
      "[WRITE] Saved result from IDS_top10_urban_700_points_probabilistic_seed_1415.pkl to /home/libe2152/optimizedsampling/0_results/usavars/population/convenience_sampling_r2_scores.csv\n",
      "Fitting regression...\n",
      "NUM SAMPLES: 700\n"
     ]
    },
    {
     "name": "stdout",
     "output_type": "stream",
     "text": [
      "Best alpha: 46.41588833612782\n"
     ]
    },
    {
     "name": "stderr",
     "output_type": "stream",
     "text": [
      "\r",
      "Processing samples:  76%|███████████████████████████████████████████████▋               | 78/103 [10:18<07:41, 18.44s/it]"
     ]
    },
    {
     "name": "stdout",
     "output_type": "stream",
     "text": [
      "0.1813147934796454\n",
      "[WRITE] Saved result from IDS_top10_urban_700_points_probabilistic_seed_42.pkl to /home/libe2152/optimizedsampling/0_results/usavars/population/convenience_sampling_r2_scores.csv\n",
      "Fitting regression...\n",
      "NUM SAMPLES: 700\n"
     ]
    },
    {
     "name": "stdout",
     "output_type": "stream",
     "text": [
      "Best alpha: 46.41588833612782\n"
     ]
    },
    {
     "name": "stderr",
     "output_type": "stream",
     "text": [
      "\r",
      "Processing samples:  77%|████████████████████████████████████████████████▎              | 79/103 [10:33<06:56, 17.37s/it]"
     ]
    },
    {
     "name": "stdout",
     "output_type": "stream",
     "text": [
      "0.15565503595352426\n",
      "[WRITE] Saved result from IDS_top10_urban_700_points_probabilistic_seed_456.pkl to /home/libe2152/optimizedsampling/0_results/usavars/population/convenience_sampling_r2_scores.csv\n",
      "Fitting regression...\n",
      "NUM SAMPLES: 700\n"
     ]
    },
    {
     "name": "stdout",
     "output_type": "stream",
     "text": [
      "Best alpha: 46.41588833612782\n"
     ]
    },
    {
     "name": "stderr",
     "output_type": "stream",
     "text": [
      "\r",
      "Processing samples:  78%|████████████████████████████████████████████████▉              | 80/103 [10:55<07:10, 18.71s/it]"
     ]
    },
    {
     "name": "stdout",
     "output_type": "stream",
     "text": [
      "0.1578181803467642\n",
      "[WRITE] Saved result from IDS_top10_urban_700_points_probabilistic_seed_5678.pkl to /home/libe2152/optimizedsampling/0_results/usavars/population/convenience_sampling_r2_scores.csv\n",
      "Fitting regression...\n",
      "NUM SAMPLES: 700\n"
     ]
    },
    {
     "name": "stdout",
     "output_type": "stream",
     "text": [
      "Best alpha: 46.41588833612782\n"
     ]
    },
    {
     "name": "stderr",
     "output_type": "stream",
     "text": [
      "\r",
      "Processing samples:  79%|█████████████████████████████████████████████████▌             | 81/103 [11:18<07:23, 20.15s/it]"
     ]
    },
    {
     "name": "stdout",
     "output_type": "stream",
     "text": [
      "0.24389026124012936\n",
      "[WRITE] Saved result from IDS_top10_urban_700_points_probabilistic_seed_789.pkl to /home/libe2152/optimizedsampling/0_results/usavars/population/convenience_sampling_r2_scores.csv\n",
      "Fitting regression...\n",
      "NUM SAMPLES: 700\n"
     ]
    },
    {
     "name": "stdout",
     "output_type": "stream",
     "text": [
      "Best alpha: 46.41588833612782\n"
     ]
    },
    {
     "name": "stderr",
     "output_type": "stream",
     "text": [
      "\r",
      "Processing samples:  80%|██████████████████████████████████████████████████▏            | 82/103 [11:48<08:03, 23.04s/it]"
     ]
    },
    {
     "name": "stdout",
     "output_type": "stream",
     "text": [
      "0.1783387117234595\n",
      "[WRITE] Saved result from IDS_top10_urban_700_points_probabilistic_seed_9101.pkl to /home/libe2152/optimizedsampling/0_results/usavars/population/convenience_sampling_r2_scores.csv\n",
      "Fitting regression...\n",
      "NUM SAMPLES: 800\n"
     ]
    },
    {
     "name": "stdout",
     "output_type": "stream",
     "text": [
      "Best alpha: 46.41588833612782\n"
     ]
    },
    {
     "name": "stderr",
     "output_type": "stream",
     "text": [
      "\r",
      "Processing samples:  81%|██████████████████████████████████████████████████▊            | 83/103 [12:23<08:53, 26.68s/it]"
     ]
    },
    {
     "name": "stdout",
     "output_type": "stream",
     "text": [
      "0.2555890061183409\n",
      "[WRITE] Saved result from IDS_top10_urban_800_points_probabilistic_seed_1.pkl to /home/libe2152/optimizedsampling/0_results/usavars/population/convenience_sampling_r2_scores.csv\n",
      "Fitting regression...\n",
      "NUM SAMPLES: 800\n"
     ]
    },
    {
     "name": "stdout",
     "output_type": "stream",
     "text": [
      "Best alpha: 46.41588833612782\n"
     ]
    },
    {
     "name": "stderr",
     "output_type": "stream",
     "text": [
      "\r",
      "Processing samples:  82%|███████████████████████████████████████████████████▍           | 84/103 [13:28<12:06, 38.22s/it]"
     ]
    },
    {
     "name": "stdout",
     "output_type": "stream",
     "text": [
      "0.2122474593904694\n",
      "[WRITE] Saved result from IDS_top10_urban_800_points_probabilistic_seed_1213.pkl to /home/libe2152/optimizedsampling/0_results/usavars/population/convenience_sampling_r2_scores.csv\n",
      "Fitting regression...\n",
      "NUM SAMPLES: 800\n"
     ]
    },
    {
     "name": "stdout",
     "output_type": "stream",
     "text": [
      "Best alpha: 46.41588833612782\n"
     ]
    },
    {
     "name": "stderr",
     "output_type": "stream",
     "text": [
      "\r",
      "Processing samples:  83%|███████████████████████████████████████████████████▉           | 85/103 [14:13<12:00, 40.05s/it]"
     ]
    },
    {
     "name": "stdout",
     "output_type": "stream",
     "text": [
      "0.18207654416421226\n",
      "[WRITE] Saved result from IDS_top10_urban_800_points_probabilistic_seed_123.pkl to /home/libe2152/optimizedsampling/0_results/usavars/population/convenience_sampling_r2_scores.csv\n",
      "Fitting regression...\n",
      "NUM SAMPLES: 800\n"
     ]
    },
    {
     "name": "stdout",
     "output_type": "stream",
     "text": [
      "Best alpha: 46.41588833612782\n"
     ]
    },
    {
     "name": "stderr",
     "output_type": "stream",
     "text": [
      "\r",
      "Processing samples:  83%|████████████████████████████████████████████████████▌          | 86/103 [15:03<12:10, 42.99s/it]"
     ]
    },
    {
     "name": "stdout",
     "output_type": "stream",
     "text": [
      "0.26114950114395086\n",
      "[WRITE] Saved result from IDS_top10_urban_800_points_probabilistic_seed_1234.pkl to /home/libe2152/optimizedsampling/0_results/usavars/population/convenience_sampling_r2_scores.csv\n",
      "Fitting regression...\n",
      "NUM SAMPLES: 800\n"
     ]
    },
    {
     "name": "stdout",
     "output_type": "stream",
     "text": [
      "Best alpha: 46.41588833612782\n"
     ]
    },
    {
     "name": "stderr",
     "output_type": "stream",
     "text": [
      "\r",
      "Processing samples:  84%|█████████████████████████████████████████████████████▏         | 87/103 [15:46<11:29, 43.09s/it]"
     ]
    },
    {
     "name": "stdout",
     "output_type": "stream",
     "text": [
      "0.2488407896746111\n",
      "[WRITE] Saved result from IDS_top10_urban_800_points_probabilistic_seed_1415.pkl to /home/libe2152/optimizedsampling/0_results/usavars/population/convenience_sampling_r2_scores.csv\n",
      "Fitting regression...\n",
      "NUM SAMPLES: 800\n"
     ]
    },
    {
     "name": "stdout",
     "output_type": "stream",
     "text": [
      "Best alpha: 46.41588833612782\n"
     ]
    },
    {
     "name": "stderr",
     "output_type": "stream",
     "text": [
      "\r",
      "Processing samples:  85%|█████████████████████████████████████████████████████▊         | 88/103 [16:25<10:28, 41.90s/it]"
     ]
    },
    {
     "name": "stdout",
     "output_type": "stream",
     "text": [
      "0.21807679144484382\n",
      "[WRITE] Saved result from IDS_top10_urban_800_points_probabilistic_seed_42.pkl to /home/libe2152/optimizedsampling/0_results/usavars/population/convenience_sampling_r2_scores.csv\n",
      "Fitting regression...\n",
      "NUM SAMPLES: 800\n"
     ]
    },
    {
     "name": "stdout",
     "output_type": "stream",
     "text": [
      "Best alpha: 46.41588833612782\n"
     ]
    },
    {
     "name": "stderr",
     "output_type": "stream",
     "text": [
      "\r",
      "Processing samples:  86%|██████████████████████████████████████████████████████▍        | 89/103 [17:03<09:30, 40.76s/it]"
     ]
    },
    {
     "name": "stdout",
     "output_type": "stream",
     "text": [
      "0.1457409511265938\n",
      "[WRITE] Saved result from IDS_top10_urban_800_points_probabilistic_seed_456.pkl to /home/libe2152/optimizedsampling/0_results/usavars/population/convenience_sampling_r2_scores.csv\n",
      "Fitting regression...\n",
      "NUM SAMPLES: 800\n"
     ]
    },
    {
     "name": "stdout",
     "output_type": "stream",
     "text": [
      "Best alpha: 46.41588833612782\n"
     ]
    },
    {
     "name": "stderr",
     "output_type": "stream",
     "text": [
      "\r",
      "Processing samples:  87%|███████████████████████████████████████████████████████        | 90/103 [17:43<08:47, 40.59s/it]"
     ]
    },
    {
     "name": "stdout",
     "output_type": "stream",
     "text": [
      "0.12582649399662849\n",
      "[WRITE] Saved result from IDS_top10_urban_800_points_probabilistic_seed_5678.pkl to /home/libe2152/optimizedsampling/0_results/usavars/population/convenience_sampling_r2_scores.csv\n",
      "Fitting regression...\n",
      "NUM SAMPLES: 800\n"
     ]
    },
    {
     "name": "stdout",
     "output_type": "stream",
     "text": [
      "Best alpha: 46.41588833612782\n"
     ]
    },
    {
     "name": "stderr",
     "output_type": "stream",
     "text": [
      "\r",
      "Processing samples:  88%|███████████████████████████████████████████████████████▋       | 91/103 [18:21<07:55, 39.58s/it]"
     ]
    },
    {
     "name": "stdout",
     "output_type": "stream",
     "text": [
      "0.25278323180856566\n",
      "[WRITE] Saved result from IDS_top10_urban_800_points_probabilistic_seed_789.pkl to /home/libe2152/optimizedsampling/0_results/usavars/population/convenience_sampling_r2_scores.csv\n",
      "Fitting regression...\n",
      "NUM SAMPLES: 800\n"
     ]
    },
    {
     "name": "stdout",
     "output_type": "stream",
     "text": [
      "Best alpha: 46.41588833612782\n"
     ]
    },
    {
     "name": "stderr",
     "output_type": "stream",
     "text": [
      "\r",
      "Processing samples:  89%|████████████████████████████████████████████████████████▎      | 92/103 [18:55<06:58, 38.01s/it]"
     ]
    },
    {
     "name": "stdout",
     "output_type": "stream",
     "text": [
      "0.17082260010564587\n",
      "[WRITE] Saved result from IDS_top10_urban_800_points_probabilistic_seed_9101.pkl to /home/libe2152/optimizedsampling/0_results/usavars/population/convenience_sampling_r2_scores.csv\n",
      "Fitting regression...\n",
      "NUM SAMPLES: 900\n"
     ]
    },
    {
     "name": "stdout",
     "output_type": "stream",
     "text": [
      "Best alpha: 46.41588833612782\n"
     ]
    },
    {
     "name": "stderr",
     "output_type": "stream",
     "text": [
      "\r",
      "Processing samples:  90%|████████████████████████████████████████████████████████▉      | 93/103 [19:29<06:09, 36.90s/it]"
     ]
    },
    {
     "name": "stdout",
     "output_type": "stream",
     "text": [
      "0.29126826729065636\n",
      "[WRITE] Saved result from IDS_top10_urban_900_points_probabilistic_seed_1.pkl to /home/libe2152/optimizedsampling/0_results/usavars/population/convenience_sampling_r2_scores.csv\n",
      "Fitting regression...\n",
      "NUM SAMPLES: 900\n"
     ]
    },
    {
     "name": "stdout",
     "output_type": "stream",
     "text": [
      "Best alpha: 46.41588833612782\n"
     ]
    },
    {
     "name": "stderr",
     "output_type": "stream",
     "text": [
      "\r",
      "Processing samples:  91%|█████████████████████████████████████████████████████████▍     | 94/103 [20:02<05:20, 35.57s/it]"
     ]
    },
    {
     "name": "stdout",
     "output_type": "stream",
     "text": [
      "0.28017752536290785\n",
      "[WRITE] Saved result from IDS_top10_urban_900_points_probabilistic_seed_1213.pkl to /home/libe2152/optimizedsampling/0_results/usavars/population/convenience_sampling_r2_scores.csv\n",
      "Fitting regression...\n",
      "NUM SAMPLES: 900\n"
     ]
    },
    {
     "name": "stdout",
     "output_type": "stream",
     "text": [
      "Best alpha: 46.41588833612782\n"
     ]
    },
    {
     "name": "stderr",
     "output_type": "stream",
     "text": [
      "\r",
      "Processing samples:  92%|██████████████████████████████████████████████████████████     | 95/103 [20:39<04:48, 36.10s/it]"
     ]
    },
    {
     "name": "stdout",
     "output_type": "stream",
     "text": [
      "0.18806502122131474\n",
      "[WRITE] Saved result from IDS_top10_urban_900_points_probabilistic_seed_123.pkl to /home/libe2152/optimizedsampling/0_results/usavars/population/convenience_sampling_r2_scores.csv\n",
      "Fitting regression...\n",
      "NUM SAMPLES: 900\n"
     ]
    },
    {
     "name": "stdout",
     "output_type": "stream",
     "text": [
      "Best alpha: 46.41588833612782\n"
     ]
    },
    {
     "name": "stderr",
     "output_type": "stream",
     "text": [
      "\r",
      "Processing samples:  93%|██████████████████████████████████████████████████████████▋    | 96/103 [21:18<04:18, 36.96s/it]"
     ]
    },
    {
     "name": "stdout",
     "output_type": "stream",
     "text": [
      "0.25701316661937135\n",
      "[WRITE] Saved result from IDS_top10_urban_900_points_probabilistic_seed_1234.pkl to /home/libe2152/optimizedsampling/0_results/usavars/population/convenience_sampling_r2_scores.csv\n",
      "Fitting regression...\n",
      "NUM SAMPLES: 900\n"
     ]
    },
    {
     "name": "stdout",
     "output_type": "stream",
     "text": [
      "Best alpha: 46.41588833612782\n"
     ]
    },
    {
     "name": "stderr",
     "output_type": "stream",
     "text": [
      "\r",
      "Processing samples:  94%|███████████████████████████████████████████████████████████▎   | 97/103 [21:56<03:42, 37.11s/it]"
     ]
    },
    {
     "name": "stdout",
     "output_type": "stream",
     "text": [
      "0.21152173569752852\n",
      "[WRITE] Saved result from IDS_top10_urban_900_points_probabilistic_seed_1415.pkl to /home/libe2152/optimizedsampling/0_results/usavars/population/convenience_sampling_r2_scores.csv\n",
      "Fitting regression...\n",
      "NUM SAMPLES: 900\n"
     ]
    },
    {
     "name": "stdout",
     "output_type": "stream",
     "text": [
      "Best alpha: 46.41588833612782\n"
     ]
    },
    {
     "name": "stderr",
     "output_type": "stream",
     "text": [
      "\r",
      "Processing samples:  95%|███████████████████████████████████████████████████████████▉   | 98/103 [22:42<03:19, 39.89s/it]"
     ]
    },
    {
     "name": "stdout",
     "output_type": "stream",
     "text": [
      "0.22106432182779745\n",
      "[WRITE] Saved result from IDS_top10_urban_900_points_probabilistic_seed_42.pkl to /home/libe2152/optimizedsampling/0_results/usavars/population/convenience_sampling_r2_scores.csv\n",
      "Fitting regression...\n",
      "NUM SAMPLES: 900\n"
     ]
    },
    {
     "name": "stdout",
     "output_type": "stream",
     "text": [
      "Best alpha: 46.41588833612782\n"
     ]
    },
    {
     "name": "stderr",
     "output_type": "stream",
     "text": [
      "\r",
      "Processing samples:  96%|████████████████████████████████████████████████████████████▌  | 99/103 [23:24<02:41, 40.48s/it]"
     ]
    },
    {
     "name": "stdout",
     "output_type": "stream",
     "text": [
      "0.17802126711396993\n",
      "[WRITE] Saved result from IDS_top10_urban_900_points_probabilistic_seed_456.pkl to /home/libe2152/optimizedsampling/0_results/usavars/population/convenience_sampling_r2_scores.csv\n",
      "Fitting regression...\n",
      "NUM SAMPLES: 900\n"
     ]
    },
    {
     "name": "stdout",
     "output_type": "stream",
     "text": [
      "Best alpha: 46.41588833612782\n"
     ]
    },
    {
     "name": "stderr",
     "output_type": "stream",
     "text": [
      "\r",
      "Processing samples:  97%|████████████████████████████████████████████████████████████▏ | 100/103 [24:03<02:00, 40.08s/it]"
     ]
    },
    {
     "name": "stdout",
     "output_type": "stream",
     "text": [
      "0.21546423173939466\n",
      "[WRITE] Saved result from IDS_top10_urban_900_points_probabilistic_seed_5678.pkl to /home/libe2152/optimizedsampling/0_results/usavars/population/convenience_sampling_r2_scores.csv\n",
      "Fitting regression...\n",
      "NUM SAMPLES: 900\n"
     ]
    },
    {
     "name": "stdout",
     "output_type": "stream",
     "text": [
      "Best alpha: 46.41588833612782\n"
     ]
    },
    {
     "name": "stderr",
     "output_type": "stream",
     "text": [
      "\r",
      "Processing samples:  98%|████████████████████████████████████████████████████████████▊ | 101/103 [24:45<01:21, 40.59s/it]"
     ]
    },
    {
     "name": "stdout",
     "output_type": "stream",
     "text": [
      "0.24143748940060628\n",
      "[WRITE] Saved result from IDS_top10_urban_900_points_probabilistic_seed_789.pkl to /home/libe2152/optimizedsampling/0_results/usavars/population/convenience_sampling_r2_scores.csv\n",
      "Fitting regression...\n",
      "NUM SAMPLES: 900\n"
     ]
    },
    {
     "name": "stdout",
     "output_type": "stream",
     "text": [
      "Best alpha: 46.41588833612782\n"
     ]
    },
    {
     "name": "stderr",
     "output_type": "stream",
     "text": [
      "\r",
      "Processing samples:  99%|█████████████████████████████████████████████████████████████▍| 102/103 [25:30<00:41, 41.89s/it]"
     ]
    },
    {
     "name": "stderr",
     "output_type": "stream",
     "text": [
      "\r",
      "Processing samples: 100%|██████████████████████████████████████████████████████████████| 103/103 [25:30<00:00, 14.86s/it]"
     ]
    },
    {
     "name": "stdout",
     "output_type": "stream",
     "text": [
      "0.19683878874407146\n",
      "[WRITE] Saved result from IDS_top10_urban_900_points_probabilistic_seed_9101.pkl to /home/libe2152/optimizedsampling/0_results/usavars/population/convenience_sampling_r2_scores.csv\n",
      "Results written incrementally to /home/libe2152/optimizedsampling/0_results/usavars/population/convenience_sampling_r2_scores.csv\n"
     ]
    },
    {
     "name": "stderr",
     "output_type": "stream",
     "text": [
      "\n"
     ]
    },
    {
     "name": "stdout",
     "output_type": "stream",
     "text": [
      "Loading features from /home/libe2152/optimizedsampling/0_data/features/usavars/CONTUS_UAR_population_with_splits_torchgeo4096.pkl ...\n"
     ]
    },
    {
     "name": "stdout",
     "output_type": "stream",
     "text": [
      "Processing samples from /home/libe2152/optimizedsampling/0_data/initial_samples/usavars/population/convenience_sampling/region_based ...\n"
     ]
    },
    {
     "name": "stderr",
     "output_type": "stream",
     "text": [
      "\r",
      "Processing samples:   0%|                                                                        | 0/103 [00:00<?, ?it/s]"
     ]
    },
    {
     "name": "stdout",
     "output_type": "stream",
     "text": [
      "Fitting regression...\n",
      "NUM SAMPLES: 1000\n"
     ]
    },
    {
     "name": "stdout",
     "output_type": "stream",
     "text": [
      "Best alpha: 46.41588833612782\n"
     ]
    },
    {
     "name": "stderr",
     "output_type": "stream",
     "text": [
      "\r",
      "Processing samples:   1%|▌                                                             | 1/103 [00:47<1:20:45, 47.50s/it]"
     ]
    },
    {
     "name": "stdout",
     "output_type": "stream",
     "text": [
      "-0.19911829431118933\n",
      "[WRITE] Saved result from IDS_region_06_1000_points_seed_1.pkl to /home/libe2152/optimizedsampling/0_results/usavars/population/convenience_sampling_r2_scores.csv\n",
      "Fitting regression...\n",
      "NUM SAMPLES: 1000\n"
     ]
    },
    {
     "name": "stdout",
     "output_type": "stream",
     "text": [
      "Best alpha: 3.593813663804626\n"
     ]
    },
    {
     "name": "stderr",
     "output_type": "stream",
     "text": [
      "\r",
      "Processing samples:   2%|█▏                                                            | 2/103 [01:36<1:21:13, 48.25s/it]"
     ]
    },
    {
     "name": "stdout",
     "output_type": "stream",
     "text": [
      "-2.7418034012010133\n",
      "Warning: Severe overfitting. Add more samples.\n",
      "[WRITE] Saved result from IDS_region_06_1000_points_seed_1213.pkl to /home/libe2152/optimizedsampling/0_results/usavars/population/convenience_sampling_r2_scores.csv\n",
      "Fitting regression...\n",
      "NUM SAMPLES: 1000\n"
     ]
    },
    {
     "name": "stdout",
     "output_type": "stream",
     "text": [
      "Best alpha: 46.41588833612782\n"
     ]
    },
    {
     "name": "stderr",
     "output_type": "stream",
     "text": [
      "\r",
      "Processing samples:   3%|█▊                                                            | 3/103 [02:44<1:35:29, 57.30s/it]"
     ]
    },
    {
     "name": "stdout",
     "output_type": "stream",
     "text": [
      "-1.0126050557712833\n",
      "Warning: Severe overfitting. Add more samples.\n",
      "[WRITE] Saved result from IDS_region_06_1000_points_seed_123.pkl to /home/libe2152/optimizedsampling/0_results/usavars/population/convenience_sampling_r2_scores.csv\n",
      "Fitting regression...\n",
      "NUM SAMPLES: 1000\n"
     ]
    },
    {
     "name": "stdout",
     "output_type": "stream",
     "text": [
      "Best alpha: 46.41588833612782\n"
     ]
    },
    {
     "name": "stderr",
     "output_type": "stream",
     "text": [
      "\r",
      "Processing samples:   4%|██▍                                                           | 4/103 [03:33<1:29:11, 54.06s/it]"
     ]
    },
    {
     "name": "stdout",
     "output_type": "stream",
     "text": [
      "-0.3846211072448862\n",
      "[WRITE] Saved result from IDS_region_06_1000_points_seed_1234.pkl to /home/libe2152/optimizedsampling/0_results/usavars/population/convenience_sampling_r2_scores.csv\n",
      "Fitting regression...\n",
      "NUM SAMPLES: 1000\n"
     ]
    },
    {
     "name": "stdout",
     "output_type": "stream",
     "text": [
      "Best alpha: 3.593813663804626\n"
     ]
    },
    {
     "name": "stderr",
     "output_type": "stream",
     "text": [
      "\r",
      "Processing samples:   5%|███                                                           | 5/103 [04:21<1:24:50, 51.94s/it]"
     ]
    },
    {
     "name": "stdout",
     "output_type": "stream",
     "text": [
      "-0.8187969809280595\n",
      "[WRITE] Saved result from IDS_region_06_1000_points_seed_1415.pkl to /home/libe2152/optimizedsampling/0_results/usavars/population/convenience_sampling_r2_scores.csv\n",
      "Fitting regression...\n",
      "NUM SAMPLES: 1000\n"
     ]
    },
    {
     "name": "stdout",
     "output_type": "stream",
     "text": [
      "Best alpha: 46.41588833612782\n"
     ]
    },
    {
     "name": "stderr",
     "output_type": "stream",
     "text": [
      "\r",
      "Processing samples:   6%|███▌                                                          | 6/103 [05:16<1:25:40, 52.99s/it]"
     ]
    },
    {
     "name": "stdout",
     "output_type": "stream",
     "text": [
      "-0.14907980417146405\n",
      "[WRITE] Saved result from IDS_region_06_1000_points_seed_42.pkl to /home/libe2152/optimizedsampling/0_results/usavars/population/convenience_sampling_r2_scores.csv\n",
      "Fitting regression...\n",
      "NUM SAMPLES: 1000\n"
     ]
    },
    {
     "name": "stdout",
     "output_type": "stream",
     "text": [
      "Best alpha: 46.41588833612782\n"
     ]
    },
    {
     "name": "stderr",
     "output_type": "stream",
     "text": [
      "\r",
      "Processing samples:   7%|████▏                                                         | 7/103 [06:14<1:27:16, 54.55s/it]"
     ]
    },
    {
     "name": "stdout",
     "output_type": "stream",
     "text": [
      "-0.6745389150658676\n",
      "[WRITE] Saved result from IDS_region_06_1000_points_seed_456.pkl to /home/libe2152/optimizedsampling/0_results/usavars/population/convenience_sampling_r2_scores.csv\n",
      "Fitting regression...\n",
      "NUM SAMPLES: 1000\n"
     ]
    },
    {
     "name": "stdout",
     "output_type": "stream",
     "text": [
      "Best alpha: 46.41588833612782\n"
     ]
    },
    {
     "name": "stderr",
     "output_type": "stream",
     "text": [
      "\r",
      "Processing samples:   8%|████▊                                                         | 8/103 [07:03<1:23:24, 52.67s/it]"
     ]
    },
    {
     "name": "stdout",
     "output_type": "stream",
     "text": [
      "-0.12791788004174132\n",
      "[WRITE] Saved result from IDS_region_06_1000_points_seed_5678.pkl to /home/libe2152/optimizedsampling/0_results/usavars/population/convenience_sampling_r2_scores.csv\n",
      "Fitting regression...\n",
      "NUM SAMPLES: 1000\n"
     ]
    },
    {
     "name": "stdout",
     "output_type": "stream",
     "text": [
      "Best alpha: 46.41588833612782\n"
     ]
    },
    {
     "name": "stderr",
     "output_type": "stream",
     "text": [
      "\r",
      "Processing samples:   9%|█████▍                                                        | 9/103 [08:04<1:26:49, 55.42s/it]"
     ]
    },
    {
     "name": "stdout",
     "output_type": "stream",
     "text": [
      "-0.19942215346857384\n",
      "[WRITE] Saved result from IDS_region_06_1000_points_seed_789.pkl to /home/libe2152/optimizedsampling/0_results/usavars/population/convenience_sampling_r2_scores.csv\n",
      "Fitting regression...\n",
      "NUM SAMPLES: 1000\n"
     ]
    },
    {
     "name": "stdout",
     "output_type": "stream",
     "text": [
      "Best alpha: 46.41588833612782\n"
     ]
    },
    {
     "name": "stderr",
     "output_type": "stream",
     "text": [
      "\r",
      "Processing samples:  10%|█████▉                                                       | 10/103 [08:58<1:24:58, 54.82s/it]"
     ]
    },
    {
     "name": "stdout",
     "output_type": "stream",
     "text": [
      "-0.1088767423060566\n",
      "[WRITE] Saved result from IDS_region_06_1000_points_seed_9101.pkl to /home/libe2152/optimizedsampling/0_results/usavars/population/convenience_sampling_r2_scores.csv\n",
      "Fitting regression...\n",
      "NUM SAMPLES: 100\n"
     ]
    },
    {
     "name": "stdout",
     "output_type": "stream",
     "text": [
      "Best alpha: 599.4842503189421\n"
     ]
    },
    {
     "name": "stderr",
     "output_type": "stream",
     "text": [
      "\r",
      "Processing samples:  11%|██████▋                                                        | 11/103 [08:58<58:47, 38.34s/it]"
     ]
    },
    {
     "name": "stdout",
     "output_type": "stream",
     "text": [
      "-0.020592785418981574\n",
      "[WRITE] Saved result from IDS_region_06_100_points_seed_1.pkl to /home/libe2152/optimizedsampling/0_results/usavars/population/convenience_sampling_r2_scores.csv\n",
      "Fitting regression...\n",
      "NUM SAMPLES: 100\n"
     ]
    },
    {
     "name": "stdout",
     "output_type": "stream",
     "text": [
      "Best alpha: 599.4842503189421\n"
     ]
    },
    {
     "name": "stderr",
     "output_type": "stream",
     "text": [
      "\r",
      "Processing samples:  12%|███████▎                                                       | 12/103 [09:00<40:57, 27.01s/it]"
     ]
    },
    {
     "name": "stdout",
     "output_type": "stream",
     "text": [
      "-1.8456501162734638\n",
      "Warning: Severe overfitting. Add more samples.\n",
      "[WRITE] Saved result from IDS_region_06_100_points_seed_1213.pkl to /home/libe2152/optimizedsampling/0_results/usavars/population/convenience_sampling_r2_scores.csv\n",
      "Fitting regression...\n",
      "NUM SAMPLES: 100\n"
     ]
    },
    {
     "name": "stdout",
     "output_type": "stream",
     "text": [
      "Best alpha: 46.41588833612782\n"
     ]
    },
    {
     "name": "stderr",
     "output_type": "stream",
     "text": [
      "\r",
      "Processing samples:  13%|███████▉                                                       | 13/103 [09:01<28:57, 19.30s/it]"
     ]
    },
    {
     "name": "stdout",
     "output_type": "stream",
     "text": [
      "-1.482739900968455\n",
      "Warning: Severe overfitting. Add more samples.\n",
      "[WRITE] Saved result from IDS_region_06_100_points_seed_123.pkl to /home/libe2152/optimizedsampling/0_results/usavars/population/convenience_sampling_r2_scores.csv\n",
      "Fitting regression...\n",
      "NUM SAMPLES: 100\n"
     ]
    },
    {
     "name": "stdout",
     "output_type": "stream",
     "text": [
      "Best alpha: 7742.636826811277\n"
     ]
    },
    {
     "name": "stderr",
     "output_type": "stream",
     "text": [
      "\r",
      "Processing samples:  14%|████████▌                                                      | 14/103 [09:02<20:22, 13.74s/it]"
     ]
    },
    {
     "name": "stdout",
     "output_type": "stream",
     "text": [
      "0.2698940964109654\n",
      "[WRITE] Saved result from IDS_region_06_100_points_seed_1234.pkl to /home/libe2152/optimizedsampling/0_results/usavars/population/convenience_sampling_r2_scores.csv\n",
      "Fitting regression...\n",
      "NUM SAMPLES: 100\n"
     ]
    },
    {
     "name": "stdout",
     "output_type": "stream",
     "text": [
      "Best alpha: 7742.636826811277\n"
     ]
    },
    {
     "name": "stderr",
     "output_type": "stream",
     "text": [
      "\r",
      "Processing samples:  15%|█████████▏                                                     | 15/103 [09:03<14:28,  9.87s/it]"
     ]
    },
    {
     "name": "stdout",
     "output_type": "stream",
     "text": [
      "0.01912498608479518\n",
      "[WRITE] Saved result from IDS_region_06_100_points_seed_1415.pkl to /home/libe2152/optimizedsampling/0_results/usavars/population/convenience_sampling_r2_scores.csv\n",
      "Fitting regression...\n",
      "NUM SAMPLES: 100\n"
     ]
    },
    {
     "name": "stdout",
     "output_type": "stream",
     "text": [
      "Best alpha: 7742.636826811277\n"
     ]
    },
    {
     "name": "stderr",
     "output_type": "stream",
     "text": [
      "\r",
      "Processing samples:  16%|█████████▊                                                     | 16/103 [09:04<10:25,  7.19s/it]"
     ]
    },
    {
     "name": "stdout",
     "output_type": "stream",
     "text": [
      "0.15389839637461555\n",
      "[WRITE] Saved result from IDS_region_06_100_points_seed_42.pkl to /home/libe2152/optimizedsampling/0_results/usavars/population/convenience_sampling_r2_scores.csv\n",
      "Fitting regression...\n",
      "NUM SAMPLES: 100\n"
     ]
    },
    {
     "name": "stdout",
     "output_type": "stream",
     "text": [
      "Best alpha: 46.41588833612782\n"
     ]
    },
    {
     "name": "stderr",
     "output_type": "stream",
     "text": [
      "\r",
      "Processing samples:  17%|██████████▍                                                    | 17/103 [09:05<07:41,  5.37s/it]"
     ]
    },
    {
     "name": "stdout",
     "output_type": "stream",
     "text": [
      "-0.6253275945441747\n",
      "[WRITE] Saved result from IDS_region_06_100_points_seed_456.pkl to /home/libe2152/optimizedsampling/0_results/usavars/population/convenience_sampling_r2_scores.csv\n",
      "Fitting regression...\n",
      "NUM SAMPLES: 100\n"
     ]
    },
    {
     "name": "stdout",
     "output_type": "stream",
     "text": [
      "Best alpha: 46.41588833612782\n"
     ]
    },
    {
     "name": "stderr",
     "output_type": "stream",
     "text": [
      "\r",
      "Processing samples:  17%|███████████                                                    | 18/103 [09:06<05:42,  4.02s/it]"
     ]
    },
    {
     "name": "stdout",
     "output_type": "stream",
     "text": [
      "-0.7188899631767987\n",
      "[WRITE] Saved result from IDS_region_06_100_points_seed_5678.pkl to /home/libe2152/optimizedsampling/0_results/usavars/population/convenience_sampling_r2_scores.csv\n",
      "Fitting regression...\n",
      "NUM SAMPLES: 100\n"
     ]
    },
    {
     "name": "stdout",
     "output_type": "stream",
     "text": [
      "Best alpha: 46.41588833612782\n"
     ]
    },
    {
     "name": "stderr",
     "output_type": "stream",
     "text": [
      "\r",
      "Processing samples:  18%|███████████▌                                                   | 19/103 [09:07<04:28,  3.20s/it]"
     ]
    },
    {
     "name": "stdout",
     "output_type": "stream",
     "text": [
      "-0.6058244748223931\n",
      "[WRITE] Saved result from IDS_region_06_100_points_seed_789.pkl to /home/libe2152/optimizedsampling/0_results/usavars/population/convenience_sampling_r2_scores.csv\n",
      "Fitting regression...\n",
      "NUM SAMPLES: 100\n"
     ]
    },
    {
     "name": "stdout",
     "output_type": "stream",
     "text": [
      "Best alpha: 599.4842503189421\n"
     ]
    },
    {
     "name": "stderr",
     "output_type": "stream",
     "text": [
      "\r",
      "Processing samples:  19%|████████████▏                                                  | 20/103 [09:08<03:37,  2.62s/it]"
     ]
    },
    {
     "name": "stdout",
     "output_type": "stream",
     "text": [
      "-0.468796872003018\n",
      "[WRITE] Saved result from IDS_region_06_100_points_seed_9101.pkl to /home/libe2152/optimizedsampling/0_results/usavars/population/convenience_sampling_r2_scores.csv\n",
      "Fitting regression...\n",
      "NUM SAMPLES: 10\n",
      "Best alpha: 7742.636826811277\n"
     ]
    },
    {
     "name": "stderr",
     "output_type": "stream",
     "text": [
      "\r",
      "Processing samples:  20%|████████████▊                                                  | 21/103 [09:09<02:44,  2.01s/it]"
     ]
    },
    {
     "name": "stdout",
     "output_type": "stream",
     "text": [
      "0.10506509320401802\n",
      "[WRITE] Saved result from IDS_region_06_10_points_seed_1.pkl to /home/libe2152/optimizedsampling/0_results/usavars/population/convenience_sampling_r2_scores.csv\n",
      "Fitting regression...\n",
      "NUM SAMPLES: 10\n"
     ]
    },
    {
     "name": "stdout",
     "output_type": "stream",
     "text": [
      "Best alpha: 7742.636826811277\n"
     ]
    },
    {
     "name": "stderr",
     "output_type": "stream",
     "text": [
      "\r",
      "Processing samples:  21%|█████████████▍                                                 | 22/103 [09:10<02:12,  1.63s/it]"
     ]
    },
    {
     "name": "stdout",
     "output_type": "stream",
     "text": [
      "-0.3071474474202551\n",
      "[WRITE] Saved result from IDS_region_06_10_points_seed_42.pkl to /home/libe2152/optimizedsampling/0_results/usavars/population/convenience_sampling_r2_scores.csv\n",
      "Fitting regression...\n",
      "NUM SAMPLES: 200\n"
     ]
    },
    {
     "name": "stdout",
     "output_type": "stream",
     "text": [
      "Best alpha: 599.4842503189421\n"
     ]
    },
    {
     "name": "stderr",
     "output_type": "stream",
     "text": [
      "\r",
      "Processing samples:  22%|██████████████                                                 | 23/103 [09:13<02:38,  1.98s/it]"
     ]
    },
    {
     "name": "stdout",
     "output_type": "stream",
     "text": [
      "0.17744242058500215\n",
      "[WRITE] Saved result from IDS_region_06_200_points_seed_1.pkl to /home/libe2152/optimizedsampling/0_results/usavars/population/convenience_sampling_r2_scores.csv\n",
      "Fitting regression...\n",
      "NUM SAMPLES: 200\n"
     ]
    },
    {
     "name": "stdout",
     "output_type": "stream",
     "text": [
      "Best alpha: 599.4842503189421\n"
     ]
    },
    {
     "name": "stderr",
     "output_type": "stream",
     "text": [
      "\r",
      "Processing samples:  23%|██████████████▋                                                | 24/103 [09:15<02:55,  2.22s/it]"
     ]
    },
    {
     "name": "stdout",
     "output_type": "stream",
     "text": [
      "0.14983936449917956\n",
      "[WRITE] Saved result from IDS_region_06_200_points_seed_1213.pkl to /home/libe2152/optimizedsampling/0_results/usavars/population/convenience_sampling_r2_scores.csv\n",
      "Fitting regression...\n",
      "NUM SAMPLES: 200\n"
     ]
    },
    {
     "name": "stdout",
     "output_type": "stream",
     "text": [
      "Best alpha: 46.41588833612782\n"
     ]
    },
    {
     "name": "stderr",
     "output_type": "stream",
     "text": [
      "\r",
      "Processing samples:  24%|███████████████▎                                               | 25/103 [09:19<03:27,  2.65s/it]"
     ]
    },
    {
     "name": "stdout",
     "output_type": "stream",
     "text": [
      "-0.24163096290883956\n",
      "[WRITE] Saved result from IDS_region_06_200_points_seed_123.pkl to /home/libe2152/optimizedsampling/0_results/usavars/population/convenience_sampling_r2_scores.csv\n",
      "Fitting regression...\n",
      "NUM SAMPLES: 200\n"
     ]
    },
    {
     "name": "stdout",
     "output_type": "stream",
     "text": [
      "Best alpha: 46.41588833612782\n"
     ]
    },
    {
     "name": "stderr",
     "output_type": "stream",
     "text": [
      "\r",
      "Processing samples:  25%|███████████████▉                                               | 26/103 [09:23<03:47,  2.95s/it]"
     ]
    },
    {
     "name": "stdout",
     "output_type": "stream",
     "text": [
      "-0.3040427321725889\n",
      "[WRITE] Saved result from IDS_region_06_200_points_seed_1234.pkl to /home/libe2152/optimizedsampling/0_results/usavars/population/convenience_sampling_r2_scores.csv\n",
      "Fitting regression...\n",
      "NUM SAMPLES: 200\n"
     ]
    },
    {
     "name": "stdout",
     "output_type": "stream",
     "text": [
      "Best alpha: 599.4842503189421\n"
     ]
    },
    {
     "name": "stderr",
     "output_type": "stream",
     "text": [
      "\r",
      "Processing samples:  26%|████████████████▌                                              | 27/103 [09:27<04:22,  3.45s/it]"
     ]
    },
    {
     "name": "stdout",
     "output_type": "stream",
     "text": [
      "0.15321409554148113\n",
      "[WRITE] Saved result from IDS_region_06_200_points_seed_1415.pkl to /home/libe2152/optimizedsampling/0_results/usavars/population/convenience_sampling_r2_scores.csv\n",
      "Fitting regression...\n",
      "NUM SAMPLES: 200\n"
     ]
    },
    {
     "name": "stdout",
     "output_type": "stream",
     "text": [
      "Best alpha: 599.4842503189421\n"
     ]
    },
    {
     "name": "stderr",
     "output_type": "stream",
     "text": [
      "\r",
      "Processing samples:  27%|█████████████████▏                                             | 28/103 [09:32<04:38,  3.71s/it]"
     ]
    },
    {
     "name": "stdout",
     "output_type": "stream",
     "text": [
      "-0.2553836328443375\n",
      "[WRITE] Saved result from IDS_region_06_200_points_seed_42.pkl to /home/libe2152/optimizedsampling/0_results/usavars/population/convenience_sampling_r2_scores.csv\n",
      "Fitting regression...\n",
      "NUM SAMPLES: 200\n"
     ]
    },
    {
     "name": "stdout",
     "output_type": "stream",
     "text": [
      "Best alpha: 599.4842503189421\n"
     ]
    },
    {
     "name": "stderr",
     "output_type": "stream",
     "text": [
      "\r",
      "Processing samples:  28%|█████████████████▋                                             | 29/103 [09:36<04:44,  3.84s/it]"
     ]
    },
    {
     "name": "stdout",
     "output_type": "stream",
     "text": [
      "0.2801671413013693\n",
      "[WRITE] Saved result from IDS_region_06_200_points_seed_456.pkl to /home/libe2152/optimizedsampling/0_results/usavars/population/convenience_sampling_r2_scores.csv\n",
      "Fitting regression...\n",
      "NUM SAMPLES: 200\n"
     ]
    },
    {
     "name": "stdout",
     "output_type": "stream",
     "text": [
      "Best alpha: 46.41588833612782\n"
     ]
    },
    {
     "name": "stderr",
     "output_type": "stream",
     "text": [
      "\r",
      "Processing samples:  29%|██████████████████▎                                            | 30/103 [09:39<04:24,  3.62s/it]"
     ]
    },
    {
     "name": "stdout",
     "output_type": "stream",
     "text": [
      "-5.059741880154489\n",
      "Warning: Severe overfitting. Add more samples.\n",
      "[WRITE] Saved result from IDS_region_06_200_points_seed_5678.pkl to /home/libe2152/optimizedsampling/0_results/usavars/population/convenience_sampling_r2_scores.csv\n",
      "Fitting regression...\n",
      "NUM SAMPLES: 200\n"
     ]
    },
    {
     "name": "stdout",
     "output_type": "stream",
     "text": [
      "Best alpha: 46.41588833612782\n"
     ]
    },
    {
     "name": "stderr",
     "output_type": "stream",
     "text": [
      "\r",
      "Processing samples:  30%|██████████████████▉                                            | 31/103 [09:42<04:09,  3.46s/it]"
     ]
    },
    {
     "name": "stdout",
     "output_type": "stream",
     "text": [
      "-0.783767907902513\n",
      "[WRITE] Saved result from IDS_region_06_200_points_seed_789.pkl to /home/libe2152/optimizedsampling/0_results/usavars/population/convenience_sampling_r2_scores.csv\n",
      "Fitting regression...\n",
      "NUM SAMPLES: 200\n"
     ]
    },
    {
     "name": "stdout",
     "output_type": "stream",
     "text": [
      "Best alpha: 599.4842503189421\n"
     ]
    },
    {
     "name": "stderr",
     "output_type": "stream",
     "text": [
      "\r",
      "Processing samples:  31%|███████████████████▌                                           | 32/103 [09:45<03:55,  3.32s/it]"
     ]
    },
    {
     "name": "stdout",
     "output_type": "stream",
     "text": [
      "-0.2699730326493617\n",
      "[WRITE] Saved result from IDS_region_06_200_points_seed_9101.pkl to /home/libe2152/optimizedsampling/0_results/usavars/population/convenience_sampling_r2_scores.csv\n",
      "Fitting regression...\n",
      "NUM SAMPLES: 300\n"
     ]
    },
    {
     "name": "stdout",
     "output_type": "stream",
     "text": [
      "Best alpha: 46.41588833612782\n"
     ]
    },
    {
     "name": "stderr",
     "output_type": "stream",
     "text": [
      "\r",
      "Processing samples:  32%|████████████████████▏                                          | 33/103 [09:52<05:07,  4.39s/it]"
     ]
    },
    {
     "name": "stdout",
     "output_type": "stream",
     "text": [
      "-1.1479265702363621\n",
      "Warning: Severe overfitting. Add more samples.\n",
      "[WRITE] Saved result from IDS_region_06_300_points_seed_1.pkl to /home/libe2152/optimizedsampling/0_results/usavars/population/convenience_sampling_r2_scores.csv\n",
      "Fitting regression...\n",
      "NUM SAMPLES: 300\n"
     ]
    },
    {
     "name": "stdout",
     "output_type": "stream",
     "text": [
      "Best alpha: 599.4842503189421\n"
     ]
    },
    {
     "name": "stderr",
     "output_type": "stream",
     "text": [
      "\r",
      "Processing samples:  33%|████████████████████▊                                          | 34/103 [09:57<05:26,  4.73s/it]"
     ]
    },
    {
     "name": "stdout",
     "output_type": "stream",
     "text": [
      "0.1293879044961651\n",
      "[WRITE] Saved result from IDS_region_06_300_points_seed_1213.pkl to /home/libe2152/optimizedsampling/0_results/usavars/population/convenience_sampling_r2_scores.csv\n",
      "Fitting regression...\n",
      "NUM SAMPLES: 300\n"
     ]
    },
    {
     "name": "stdout",
     "output_type": "stream",
     "text": [
      "Best alpha: 46.41588833612782\n"
     ]
    },
    {
     "name": "stderr",
     "output_type": "stream",
     "text": [
      "\r",
      "Processing samples:  34%|█████████████████████▍                                         | 35/103 [10:02<05:25,  4.79s/it]"
     ]
    },
    {
     "name": "stdout",
     "output_type": "stream",
     "text": [
      "-0.5981194872600206\n",
      "[WRITE] Saved result from IDS_region_06_300_points_seed_123.pkl to /home/libe2152/optimizedsampling/0_results/usavars/population/convenience_sampling_r2_scores.csv\n",
      "Fitting regression...\n",
      "NUM SAMPLES: 300\n"
     ]
    },
    {
     "name": "stdout",
     "output_type": "stream",
     "text": [
      "Best alpha: 46.41588833612782\n"
     ]
    },
    {
     "name": "stderr",
     "output_type": "stream",
     "text": [
      "\r",
      "Processing samples:  35%|██████████████████████                                         | 36/103 [10:08<05:44,  5.15s/it]"
     ]
    },
    {
     "name": "stdout",
     "output_type": "stream",
     "text": [
      "-1.7895536064724844\n",
      "Warning: Severe overfitting. Add more samples.\n",
      "[WRITE] Saved result from IDS_region_06_300_points_seed_1234.pkl to /home/libe2152/optimizedsampling/0_results/usavars/population/convenience_sampling_r2_scores.csv\n",
      "Fitting regression...\n",
      "NUM SAMPLES: 300\n"
     ]
    },
    {
     "name": "stdout",
     "output_type": "stream",
     "text": [
      "Best alpha: 599.4842503189421\n"
     ]
    },
    {
     "name": "stderr",
     "output_type": "stream",
     "text": [
      "\r",
      "Processing samples:  36%|██████████████████████▋                                        | 37/103 [10:13<05:40,  5.16s/it]"
     ]
    },
    {
     "name": "stdout",
     "output_type": "stream",
     "text": [
      "0.33210048345308474\n",
      "[WRITE] Saved result from IDS_region_06_300_points_seed_1415.pkl to /home/libe2152/optimizedsampling/0_results/usavars/population/convenience_sampling_r2_scores.csv\n",
      "Fitting regression...\n",
      "NUM SAMPLES: 300\n"
     ]
    },
    {
     "name": "stdout",
     "output_type": "stream",
     "text": [
      "Best alpha: 46.41588833612782\n"
     ]
    },
    {
     "name": "stderr",
     "output_type": "stream",
     "text": [
      "\r",
      "Processing samples:  37%|███████████████████████▏                                       | 38/103 [10:20<05:53,  5.44s/it]"
     ]
    },
    {
     "name": "stdout",
     "output_type": "stream",
     "text": [
      "0.32996457137183177\n",
      "[WRITE] Saved result from IDS_region_06_300_points_seed_42.pkl to /home/libe2152/optimizedsampling/0_results/usavars/population/convenience_sampling_r2_scores.csv\n",
      "Fitting regression...\n",
      "NUM SAMPLES: 300\n"
     ]
    },
    {
     "name": "stdout",
     "output_type": "stream",
     "text": [
      "Best alpha: 599.4842503189421\n"
     ]
    },
    {
     "name": "stderr",
     "output_type": "stream",
     "text": [
      "\r",
      "Processing samples:  38%|███████████████████████▊                                       | 39/103 [10:24<05:29,  5.15s/it]"
     ]
    },
    {
     "name": "stdout",
     "output_type": "stream",
     "text": [
      "0.270282373022834\n",
      "[WRITE] Saved result from IDS_region_06_300_points_seed_456.pkl to /home/libe2152/optimizedsampling/0_results/usavars/population/convenience_sampling_r2_scores.csv\n",
      "Fitting regression...\n",
      "NUM SAMPLES: 300\n"
     ]
    },
    {
     "name": "stdout",
     "output_type": "stream",
     "text": [
      "Best alpha: 46.41588833612782\n"
     ]
    },
    {
     "name": "stderr",
     "output_type": "stream",
     "text": [
      "\r",
      "Processing samples:  39%|████████████████████████▍                                      | 40/103 [10:29<05:23,  5.14s/it]"
     ]
    },
    {
     "name": "stdout",
     "output_type": "stream",
     "text": [
      "-2.397396786913584\n",
      "Warning: Severe overfitting. Add more samples.\n",
      "[WRITE] Saved result from IDS_region_06_300_points_seed_5678.pkl to /home/libe2152/optimizedsampling/0_results/usavars/population/convenience_sampling_r2_scores.csv\n",
      "Fitting regression...\n",
      "NUM SAMPLES: 300\n"
     ]
    },
    {
     "name": "stdout",
     "output_type": "stream",
     "text": [
      "Best alpha: 46.41588833612782\n"
     ]
    },
    {
     "name": "stderr",
     "output_type": "stream",
     "text": [
      "\r",
      "Processing samples:  40%|█████████████████████████                                      | 41/103 [10:34<05:19,  5.15s/it]"
     ]
    },
    {
     "name": "stdout",
     "output_type": "stream",
     "text": [
      "0.08284732697238972\n",
      "[WRITE] Saved result from IDS_region_06_300_points_seed_789.pkl to /home/libe2152/optimizedsampling/0_results/usavars/population/convenience_sampling_r2_scores.csv\n",
      "Fitting regression...\n",
      "NUM SAMPLES: 300\n"
     ]
    },
    {
     "name": "stdout",
     "output_type": "stream",
     "text": [
      "Best alpha: 599.4842503189421\n"
     ]
    },
    {
     "name": "stderr",
     "output_type": "stream",
     "text": [
      "\r",
      "Processing samples:  41%|█████████████████████████▋                                     | 42/103 [10:41<05:38,  5.56s/it]"
     ]
    },
    {
     "name": "stdout",
     "output_type": "stream",
     "text": [
      "0.2934135948576655\n",
      "[WRITE] Saved result from IDS_region_06_300_points_seed_9101.pkl to /home/libe2152/optimizedsampling/0_results/usavars/population/convenience_sampling_r2_scores.csv\n",
      "Fitting regression...\n",
      "NUM SAMPLES: 400\n"
     ]
    },
    {
     "name": "stdout",
     "output_type": "stream",
     "text": [
      "Best alpha: 599.4842503189421\n"
     ]
    },
    {
     "name": "stderr",
     "output_type": "stream",
     "text": [
      "\r",
      "Processing samples:  42%|██████████████████████████▎                                    | 43/103 [10:55<08:00,  8.00s/it]"
     ]
    },
    {
     "name": "stdout",
     "output_type": "stream",
     "text": [
      "-0.05341693374191636\n",
      "[WRITE] Saved result from IDS_region_06_400_points_seed_1.pkl to /home/libe2152/optimizedsampling/0_results/usavars/population/convenience_sampling_r2_scores.csv\n",
      "Fitting regression...\n",
      "NUM SAMPLES: 400\n"
     ]
    },
    {
     "name": "stdout",
     "output_type": "stream",
     "text": [
      "Best alpha: 599.4842503189421\n"
     ]
    },
    {
     "name": "stderr",
     "output_type": "stream",
     "text": [
      "\r",
      "Processing samples:  43%|██████████████████████████▉                                    | 44/103 [11:03<08:07,  8.26s/it]"
     ]
    },
    {
     "name": "stdout",
     "output_type": "stream",
     "text": [
      "0.29622918597543624\n",
      "[WRITE] Saved result from IDS_region_06_400_points_seed_1213.pkl to /home/libe2152/optimizedsampling/0_results/usavars/population/convenience_sampling_r2_scores.csv\n",
      "Fitting regression...\n",
      "NUM SAMPLES: 400\n"
     ]
    },
    {
     "name": "stdout",
     "output_type": "stream",
     "text": [
      "Best alpha: 46.41588833612782\n"
     ]
    },
    {
     "name": "stderr",
     "output_type": "stream",
     "text": [
      "\r",
      "Processing samples:  44%|███████████████████████████▌                                   | 45/103 [11:12<08:02,  8.32s/it]"
     ]
    },
    {
     "name": "stdout",
     "output_type": "stream",
     "text": [
      "-0.8318668553762276\n",
      "[WRITE] Saved result from IDS_region_06_400_points_seed_123.pkl to /home/libe2152/optimizedsampling/0_results/usavars/population/convenience_sampling_r2_scores.csv\n",
      "Fitting regression...\n",
      "NUM SAMPLES: 400\n"
     ]
    },
    {
     "name": "stdout",
     "output_type": "stream",
     "text": [
      "Best alpha: 46.41588833612782\n"
     ]
    },
    {
     "name": "stderr",
     "output_type": "stream",
     "text": [
      "\r",
      "Processing samples:  45%|████████████████████████████▏                                  | 46/103 [11:20<07:49,  8.25s/it]"
     ]
    },
    {
     "name": "stdout",
     "output_type": "stream",
     "text": [
      "-0.8066643291092497\n",
      "[WRITE] Saved result from IDS_region_06_400_points_seed_1234.pkl to /home/libe2152/optimizedsampling/0_results/usavars/population/convenience_sampling_r2_scores.csv\n",
      "Fitting regression...\n",
      "NUM SAMPLES: 400\n"
     ]
    },
    {
     "name": "stdout",
     "output_type": "stream",
     "text": [
      "Best alpha: 46.41588833612782\n"
     ]
    },
    {
     "name": "stderr",
     "output_type": "stream",
     "text": [
      "\r",
      "Processing samples:  46%|████████████████████████████▋                                  | 47/103 [11:28<07:43,  8.28s/it]"
     ]
    },
    {
     "name": "stdout",
     "output_type": "stream",
     "text": [
      "-0.4782174927245104\n",
      "[WRITE] Saved result from IDS_region_06_400_points_seed_1415.pkl to /home/libe2152/optimizedsampling/0_results/usavars/population/convenience_sampling_r2_scores.csv\n",
      "Fitting regression...\n",
      "NUM SAMPLES: 400\n"
     ]
    },
    {
     "name": "stdout",
     "output_type": "stream",
     "text": [
      "Best alpha: 599.4842503189421\n"
     ]
    },
    {
     "name": "stderr",
     "output_type": "stream",
     "text": [
      "\r",
      "Processing samples:  47%|█████████████████████████████▎                                 | 48/103 [11:36<07:29,  8.18s/it]"
     ]
    },
    {
     "name": "stdout",
     "output_type": "stream",
     "text": [
      "0.2666354824470041\n",
      "[WRITE] Saved result from IDS_region_06_400_points_seed_42.pkl to /home/libe2152/optimizedsampling/0_results/usavars/population/convenience_sampling_r2_scores.csv\n",
      "Fitting regression...\n",
      "NUM SAMPLES: 400\n"
     ]
    },
    {
     "name": "stdout",
     "output_type": "stream",
     "text": [
      "Best alpha: 599.4842503189421\n"
     ]
    },
    {
     "name": "stderr",
     "output_type": "stream",
     "text": [
      "\r",
      "Processing samples:  48%|█████████████████████████████▉                                 | 49/103 [11:44<07:17,  8.10s/it]"
     ]
    },
    {
     "name": "stdout",
     "output_type": "stream",
     "text": [
      "0.2819654904863971\n",
      "[WRITE] Saved result from IDS_region_06_400_points_seed_456.pkl to /home/libe2152/optimizedsampling/0_results/usavars/population/convenience_sampling_r2_scores.csv\n",
      "Fitting regression...\n",
      "NUM SAMPLES: 400\n"
     ]
    },
    {
     "name": "stdout",
     "output_type": "stream",
     "text": [
      "Best alpha: 46.41588833612782\n"
     ]
    },
    {
     "name": "stderr",
     "output_type": "stream",
     "text": [
      "\r",
      "Processing samples:  49%|██████████████████████████████▌                                | 50/103 [11:53<07:18,  8.27s/it]"
     ]
    },
    {
     "name": "stdout",
     "output_type": "stream",
     "text": [
      "-1.5654774582776283\n",
      "Warning: Severe overfitting. Add more samples.\n",
      "[WRITE] Saved result from IDS_region_06_400_points_seed_5678.pkl to /home/libe2152/optimizedsampling/0_results/usavars/population/convenience_sampling_r2_scores.csv\n",
      "Fitting regression...\n",
      "NUM SAMPLES: 400\n"
     ]
    },
    {
     "name": "stdout",
     "output_type": "stream",
     "text": [
      "Best alpha: 46.41588833612782\n"
     ]
    },
    {
     "name": "stderr",
     "output_type": "stream",
     "text": [
      "\r",
      "Processing samples:  50%|███████████████████████████████▏                               | 51/103 [12:01<07:13,  8.34s/it]"
     ]
    },
    {
     "name": "stdout",
     "output_type": "stream",
     "text": [
      "0.1700146177614389\n",
      "[WRITE] Saved result from IDS_region_06_400_points_seed_789.pkl to /home/libe2152/optimizedsampling/0_results/usavars/population/convenience_sampling_r2_scores.csv\n",
      "Fitting regression...\n",
      "NUM SAMPLES: 400\n"
     ]
    },
    {
     "name": "stdout",
     "output_type": "stream",
     "text": [
      "Best alpha: 599.4842503189421\n"
     ]
    },
    {
     "name": "stderr",
     "output_type": "stream",
     "text": [
      "\r",
      "Processing samples:  50%|███████████████████████████████▊                               | 52/103 [12:11<07:21,  8.65s/it]"
     ]
    },
    {
     "name": "stdout",
     "output_type": "stream",
     "text": [
      "0.2966509692774334\n",
      "[WRITE] Saved result from IDS_region_06_400_points_seed_9101.pkl to /home/libe2152/optimizedsampling/0_results/usavars/population/convenience_sampling_r2_scores.csv\n",
      "Fitting regression...\n",
      "NUM SAMPLES: 500\n"
     ]
    },
    {
     "name": "stdout",
     "output_type": "stream",
     "text": [
      "Best alpha: 599.4842503189421\n"
     ]
    },
    {
     "name": "stderr",
     "output_type": "stream",
     "text": [
      "\r",
      "Processing samples:  51%|████████████████████████████████▍                              | 53/103 [12:19<07:14,  8.70s/it]"
     ]
    },
    {
     "name": "stdout",
     "output_type": "stream",
     "text": [
      "-0.004276938613450243\n",
      "[WRITE] Saved result from IDS_region_06_500_points_seed_1.pkl to /home/libe2152/optimizedsampling/0_results/usavars/population/convenience_sampling_r2_scores.csv\n",
      "Fitting regression...\n",
      "NUM SAMPLES: 500\n"
     ]
    },
    {
     "name": "stdout",
     "output_type": "stream",
     "text": [
      "Best alpha: 46.41588833612782\n"
     ]
    },
    {
     "name": "stderr",
     "output_type": "stream",
     "text": [
      "\r",
      "Processing samples:  52%|█████████████████████████████████                              | 54/103 [12:29<07:20,  8.99s/it]"
     ]
    },
    {
     "name": "stdout",
     "output_type": "stream",
     "text": [
      "-0.1973581125268038\n",
      "[WRITE] Saved result from IDS_region_06_500_points_seed_1213.pkl to /home/libe2152/optimizedsampling/0_results/usavars/population/convenience_sampling_r2_scores.csv\n",
      "Fitting regression...\n",
      "NUM SAMPLES: 500\n"
     ]
    },
    {
     "name": "stdout",
     "output_type": "stream",
     "text": [
      "Best alpha: 46.41588833612782\n"
     ]
    },
    {
     "name": "stderr",
     "output_type": "stream",
     "text": [
      "\r",
      "Processing samples:  53%|█████████████████████████████████▋                             | 55/103 [12:41<07:47,  9.73s/it]"
     ]
    },
    {
     "name": "stdout",
     "output_type": "stream",
     "text": [
      "-0.969541223420965\n",
      "[WRITE] Saved result from IDS_region_06_500_points_seed_123.pkl to /home/libe2152/optimizedsampling/0_results/usavars/population/convenience_sampling_r2_scores.csv\n",
      "Fitting regression...\n",
      "NUM SAMPLES: 500\n"
     ]
    },
    {
     "name": "stdout",
     "output_type": "stream",
     "text": [
      "Best alpha: 46.41588833612782\n"
     ]
    },
    {
     "name": "stderr",
     "output_type": "stream",
     "text": [
      "\r",
      "Processing samples:  54%|██████████████████████████████████▎                            | 56/103 [12:50<07:25,  9.49s/it]"
     ]
    },
    {
     "name": "stdout",
     "output_type": "stream",
     "text": [
      "-1.3100208809529246\n",
      "Warning: Severe overfitting. Add more samples.\n",
      "[WRITE] Saved result from IDS_region_06_500_points_seed_1234.pkl to /home/libe2152/optimizedsampling/0_results/usavars/population/convenience_sampling_r2_scores.csv\n",
      "Fitting regression...\n",
      "NUM SAMPLES: 500\n"
     ]
    },
    {
     "name": "stdout",
     "output_type": "stream",
     "text": [
      "Best alpha: 46.41588833612782\n"
     ]
    },
    {
     "name": "stderr",
     "output_type": "stream",
     "text": [
      "\r",
      "Processing samples:  55%|██████████████████████████████████▊                            | 57/103 [12:59<07:10,  9.35s/it]"
     ]
    },
    {
     "name": "stdout",
     "output_type": "stream",
     "text": [
      "-1.141136909610288\n",
      "Warning: Severe overfitting. Add more samples.\n",
      "[WRITE] Saved result from IDS_region_06_500_points_seed_1415.pkl to /home/libe2152/optimizedsampling/0_results/usavars/population/convenience_sampling_r2_scores.csv\n",
      "Fitting regression...\n",
      "NUM SAMPLES: 500\n"
     ]
    },
    {
     "name": "stdout",
     "output_type": "stream",
     "text": [
      "Best alpha: 46.41588833612782\n"
     ]
    },
    {
     "name": "stderr",
     "output_type": "stream",
     "text": [
      "\r",
      "Processing samples:  56%|███████████████████████████████████▍                           | 58/103 [13:08<06:57,  9.28s/it]"
     ]
    },
    {
     "name": "stdout",
     "output_type": "stream",
     "text": [
      "0.09093436112184272\n",
      "[WRITE] Saved result from IDS_region_06_500_points_seed_42.pkl to /home/libe2152/optimizedsampling/0_results/usavars/population/convenience_sampling_r2_scores.csv\n",
      "Fitting regression...\n",
      "NUM SAMPLES: 500\n"
     ]
    },
    {
     "name": "stdout",
     "output_type": "stream",
     "text": [
      "Best alpha: 46.41588833612782\n"
     ]
    },
    {
     "name": "stderr",
     "output_type": "stream",
     "text": [
      "\r",
      "Processing samples:  57%|████████████████████████████████████                           | 59/103 [13:17<06:53,  9.39s/it]"
     ]
    },
    {
     "name": "stdout",
     "output_type": "stream",
     "text": [
      "-0.03029597543684459\n",
      "[WRITE] Saved result from IDS_region_06_500_points_seed_456.pkl to /home/libe2152/optimizedsampling/0_results/usavars/population/convenience_sampling_r2_scores.csv\n",
      "Fitting regression...\n",
      "NUM SAMPLES: 500\n"
     ]
    },
    {
     "name": "stdout",
     "output_type": "stream",
     "text": [
      "Best alpha: 46.41588833612782\n"
     ]
    },
    {
     "name": "stderr",
     "output_type": "stream",
     "text": [
      "\r",
      "Processing samples:  58%|████████████████████████████████████▋                          | 60/103 [13:27<06:44,  9.42s/it]"
     ]
    },
    {
     "name": "stdout",
     "output_type": "stream",
     "text": [
      "-0.10209299621195855\n",
      "[WRITE] Saved result from IDS_region_06_500_points_seed_5678.pkl to /home/libe2152/optimizedsampling/0_results/usavars/population/convenience_sampling_r2_scores.csv\n",
      "Fitting regression...\n",
      "NUM SAMPLES: 500\n"
     ]
    },
    {
     "name": "stdout",
     "output_type": "stream",
     "text": [
      "Best alpha: 599.4842503189421\n"
     ]
    },
    {
     "name": "stderr",
     "output_type": "stream",
     "text": [
      "\r",
      "Processing samples:  59%|█████████████████████████████████████▎                         | 61/103 [13:36<06:29,  9.28s/it]"
     ]
    },
    {
     "name": "stdout",
     "output_type": "stream",
     "text": [
      "0.12036354545072825\n",
      "[WRITE] Saved result from IDS_region_06_500_points_seed_789.pkl to /home/libe2152/optimizedsampling/0_results/usavars/population/convenience_sampling_r2_scores.csv\n",
      "Fitting regression...\n",
      "NUM SAMPLES: 500\n"
     ]
    },
    {
     "name": "stdout",
     "output_type": "stream",
     "text": [
      "Best alpha: 599.4842503189421\n"
     ]
    },
    {
     "name": "stderr",
     "output_type": "stream",
     "text": [
      "\r",
      "Processing samples:  60%|█████████████████████████████████████▉                         | 62/103 [13:45<06:25,  9.40s/it]"
     ]
    },
    {
     "name": "stdout",
     "output_type": "stream",
     "text": [
      "0.19908377586472636\n",
      "[WRITE] Saved result from IDS_region_06_500_points_seed_9101.pkl to /home/libe2152/optimizedsampling/0_results/usavars/population/convenience_sampling_r2_scores.csv\n",
      "Fitting regression...\n",
      "NUM SAMPLES: 600\n"
     ]
    },
    {
     "name": "stdout",
     "output_type": "stream",
     "text": [
      "Best alpha: 599.4842503189421\n"
     ]
    },
    {
     "name": "stderr",
     "output_type": "stream",
     "text": [
      "\r",
      "Processing samples:  61%|██████████████████████████████████████▌                        | 63/103 [13:59<07:08, 10.72s/it]"
     ]
    },
    {
     "name": "stdout",
     "output_type": "stream",
     "text": [
      "0.15550413631764237\n",
      "[WRITE] Saved result from IDS_region_06_600_points_seed_1.pkl to /home/libe2152/optimizedsampling/0_results/usavars/population/convenience_sampling_r2_scores.csv\n",
      "Fitting regression...\n",
      "NUM SAMPLES: 600\n"
     ]
    },
    {
     "name": "stdout",
     "output_type": "stream",
     "text": [
      "Best alpha: 46.41588833612782\n"
     ]
    },
    {
     "name": "stderr",
     "output_type": "stream",
     "text": [
      "\r",
      "Processing samples:  62%|███████████████████████████████████████▏                       | 64/103 [14:12<07:19, 11.26s/it]"
     ]
    },
    {
     "name": "stdout",
     "output_type": "stream",
     "text": [
      "0.1521280881182333\n",
      "[WRITE] Saved result from IDS_region_06_600_points_seed_1213.pkl to /home/libe2152/optimizedsampling/0_results/usavars/population/convenience_sampling_r2_scores.csv\n",
      "Fitting regression...\n",
      "NUM SAMPLES: 600\n"
     ]
    },
    {
     "name": "stdout",
     "output_type": "stream",
     "text": [
      "Best alpha: 46.41588833612782\n"
     ]
    },
    {
     "name": "stderr",
     "output_type": "stream",
     "text": [
      "\r",
      "Processing samples:  63%|███████████████████████████████████████▊                       | 65/103 [14:23<07:12, 11.39s/it]"
     ]
    },
    {
     "name": "stdout",
     "output_type": "stream",
     "text": [
      "-0.5668153157260429\n",
      "[WRITE] Saved result from IDS_region_06_600_points_seed_123.pkl to /home/libe2152/optimizedsampling/0_results/usavars/population/convenience_sampling_r2_scores.csv\n",
      "Fitting regression...\n",
      "NUM SAMPLES: 600\n"
     ]
    },
    {
     "name": "stdout",
     "output_type": "stream",
     "text": [
      "Best alpha: 46.41588833612782\n"
     ]
    },
    {
     "name": "stderr",
     "output_type": "stream",
     "text": [
      "\r",
      "Processing samples:  64%|████████████████████████████████████████▎                      | 66/103 [14:40<07:55, 12.86s/it]"
     ]
    },
    {
     "name": "stdout",
     "output_type": "stream",
     "text": [
      "-0.8147281261159764\n",
      "[WRITE] Saved result from IDS_region_06_600_points_seed_1234.pkl to /home/libe2152/optimizedsampling/0_results/usavars/population/convenience_sampling_r2_scores.csv\n",
      "Fitting regression...\n",
      "NUM SAMPLES: 600\n"
     ]
    },
    {
     "name": "stdout",
     "output_type": "stream",
     "text": [
      "Best alpha: 46.41588833612782\n"
     ]
    },
    {
     "name": "stderr",
     "output_type": "stream",
     "text": [
      "\r",
      "Processing samples:  65%|████████████████████████████████████████▉                      | 67/103 [14:59<08:51, 14.75s/it]"
     ]
    },
    {
     "name": "stdout",
     "output_type": "stream",
     "text": [
      "-1.2253511868553253\n",
      "Warning: Severe overfitting. Add more samples.\n",
      "[WRITE] Saved result from IDS_region_06_600_points_seed_1415.pkl to /home/libe2152/optimizedsampling/0_results/usavars/population/convenience_sampling_r2_scores.csv\n",
      "Fitting regression...\n",
      "NUM SAMPLES: 600\n"
     ]
    },
    {
     "name": "stdout",
     "output_type": "stream",
     "text": [
      "Best alpha: 46.41588833612782\n"
     ]
    },
    {
     "name": "stderr",
     "output_type": "stream",
     "text": [
      "\r",
      "Processing samples:  66%|█████████████████████████████████████████▌                     | 68/103 [15:14<08:43, 14.95s/it]"
     ]
    },
    {
     "name": "stdout",
     "output_type": "stream",
     "text": [
      "-0.3279805841480643\n",
      "[WRITE] Saved result from IDS_region_06_600_points_seed_42.pkl to /home/libe2152/optimizedsampling/0_results/usavars/population/convenience_sampling_r2_scores.csv\n",
      "Fitting regression...\n",
      "NUM SAMPLES: 600\n"
     ]
    },
    {
     "name": "stdout",
     "output_type": "stream",
     "text": [
      "Best alpha: 599.4842503189421\n"
     ]
    },
    {
     "name": "stderr",
     "output_type": "stream",
     "text": [
      "\r",
      "Processing samples:  67%|██████████████████████████████████████████▏                    | 69/103 [15:26<07:56, 14.02s/it]"
     ]
    },
    {
     "name": "stdout",
     "output_type": "stream",
     "text": [
      "0.33432587621476073\n",
      "[WRITE] Saved result from IDS_region_06_600_points_seed_456.pkl to /home/libe2152/optimizedsampling/0_results/usavars/population/convenience_sampling_r2_scores.csv\n",
      "Fitting regression...\n",
      "NUM SAMPLES: 600\n"
     ]
    },
    {
     "name": "stdout",
     "output_type": "stream",
     "text": [
      "Best alpha: 46.41588833612782\n"
     ]
    },
    {
     "name": "stderr",
     "output_type": "stream",
     "text": [
      "\r",
      "Processing samples:  68%|██████████████████████████████████████████▊                    | 70/103 [15:41<07:47, 14.18s/it]"
     ]
    },
    {
     "name": "stdout",
     "output_type": "stream",
     "text": [
      "-0.35468458378430245\n",
      "[WRITE] Saved result from IDS_region_06_600_points_seed_5678.pkl to /home/libe2152/optimizedsampling/0_results/usavars/population/convenience_sampling_r2_scores.csv\n",
      "Fitting regression...\n",
      "NUM SAMPLES: 600\n"
     ]
    },
    {
     "name": "stdout",
     "output_type": "stream",
     "text": [
      "Best alpha: 3.593813663804626\n"
     ]
    },
    {
     "name": "stderr",
     "output_type": "stream",
     "text": [
      "\r",
      "Processing samples:  69%|███████████████████████████████████████████▍                   | 71/103 [15:53<07:18, 13.69s/it]"
     ]
    },
    {
     "name": "stdout",
     "output_type": "stream",
     "text": [
      "0.018505290375842587\n",
      "[WRITE] Saved result from IDS_region_06_600_points_seed_789.pkl to /home/libe2152/optimizedsampling/0_results/usavars/population/convenience_sampling_r2_scores.csv\n",
      "Fitting regression...\n",
      "NUM SAMPLES: 600\n"
     ]
    },
    {
     "name": "stdout",
     "output_type": "stream",
     "text": [
      "Best alpha: 599.4842503189421\n"
     ]
    },
    {
     "name": "stderr",
     "output_type": "stream",
     "text": [
      "\r",
      "Processing samples:  70%|████████████████████████████████████████████                   | 72/103 [16:07<07:01, 13.60s/it]"
     ]
    },
    {
     "name": "stdout",
     "output_type": "stream",
     "text": [
      "0.24975630107876035\n",
      "[WRITE] Saved result from IDS_region_06_600_points_seed_9101.pkl to /home/libe2152/optimizedsampling/0_results/usavars/population/convenience_sampling_r2_scores.csv\n",
      "Fitting regression...\n",
      "NUM SAMPLES: 700\n"
     ]
    },
    {
     "name": "stdout",
     "output_type": "stream",
     "text": [
      "Best alpha: 46.41588833612782\n"
     ]
    },
    {
     "name": "stderr",
     "output_type": "stream",
     "text": [
      "\r",
      "Processing samples:  71%|████████████████████████████████████████████▋                  | 73/103 [16:27<07:51, 15.71s/it]"
     ]
    },
    {
     "name": "stdout",
     "output_type": "stream",
     "text": [
      "-0.7414490406431318\n",
      "[WRITE] Saved result from IDS_region_06_700_points_seed_1.pkl to /home/libe2152/optimizedsampling/0_results/usavars/population/convenience_sampling_r2_scores.csv\n",
      "Fitting regression...\n",
      "NUM SAMPLES: 700\n"
     ]
    },
    {
     "name": "stdout",
     "output_type": "stream",
     "text": [
      "Best alpha: 46.41588833612782\n"
     ]
    },
    {
     "name": "stderr",
     "output_type": "stream",
     "text": [
      "\r",
      "Processing samples:  72%|█████████████████████████████████████████████▎                 | 74/103 [16:42<07:29, 15.51s/it]"
     ]
    },
    {
     "name": "stdout",
     "output_type": "stream",
     "text": [
      "0.042868739231019415\n",
      "[WRITE] Saved result from IDS_region_06_700_points_seed_1213.pkl to /home/libe2152/optimizedsampling/0_results/usavars/population/convenience_sampling_r2_scores.csv\n",
      "Fitting regression...\n",
      "NUM SAMPLES: 700\n"
     ]
    },
    {
     "name": "stdout",
     "output_type": "stream",
     "text": [
      "Best alpha: 46.41588833612782\n"
     ]
    },
    {
     "name": "stderr",
     "output_type": "stream",
     "text": [
      "\r",
      "Processing samples:  73%|█████████████████████████████████████████████▊                 | 75/103 [16:58<07:11, 15.43s/it]"
     ]
    },
    {
     "name": "stdout",
     "output_type": "stream",
     "text": [
      "-1.789500581466862\n",
      "Warning: Severe overfitting. Add more samples.\n",
      "[WRITE] Saved result from IDS_region_06_700_points_seed_123.pkl to /home/libe2152/optimizedsampling/0_results/usavars/population/convenience_sampling_r2_scores.csv\n",
      "Fitting regression...\n",
      "NUM SAMPLES: 700\n"
     ]
    },
    {
     "name": "stdout",
     "output_type": "stream",
     "text": [
      "Best alpha: 46.41588833612782\n"
     ]
    },
    {
     "name": "stderr",
     "output_type": "stream",
     "text": [
      "\r",
      "Processing samples:  74%|██████████████████████████████████████████████▍                | 76/103 [17:19<07:48, 17.34s/it]"
     ]
    },
    {
     "name": "stdout",
     "output_type": "stream",
     "text": [
      "-0.45217512201319066\n",
      "[WRITE] Saved result from IDS_region_06_700_points_seed_1234.pkl to /home/libe2152/optimizedsampling/0_results/usavars/population/convenience_sampling_r2_scores.csv\n",
      "Fitting regression...\n",
      "NUM SAMPLES: 700\n"
     ]
    },
    {
     "name": "stdout",
     "output_type": "stream",
     "text": [
      "Best alpha: 3.593813663804626\n"
     ]
    },
    {
     "name": "stderr",
     "output_type": "stream",
     "text": [
      "\r",
      "Processing samples:  75%|███████████████████████████████████████████████                | 77/103 [17:29<06:33, 15.14s/it]"
     ]
    },
    {
     "name": "stdout",
     "output_type": "stream",
     "text": [
      "-2.9913678298026007\n",
      "Warning: Severe overfitting. Add more samples.\n",
      "[WRITE] Saved result from IDS_region_06_700_points_seed_1415.pkl to /home/libe2152/optimizedsampling/0_results/usavars/population/convenience_sampling_r2_scores.csv\n",
      "Fitting regression...\n",
      "NUM SAMPLES: 700\n"
     ]
    },
    {
     "name": "stdout",
     "output_type": "stream",
     "text": [
      "Best alpha: 599.4842503189421\n"
     ]
    },
    {
     "name": "stderr",
     "output_type": "stream",
     "text": [
      "\r",
      "Processing samples:  76%|███████████████████████████████████████████████▋               | 78/103 [17:58<07:56, 19.08s/it]"
     ]
    },
    {
     "name": "stdout",
     "output_type": "stream",
     "text": [
      "0.3565470116977971\n",
      "[WRITE] Saved result from IDS_region_06_700_points_seed_42.pkl to /home/libe2152/optimizedsampling/0_results/usavars/population/convenience_sampling_r2_scores.csv\n",
      "Fitting regression...\n",
      "NUM SAMPLES: 700\n"
     ]
    },
    {
     "name": "stdout",
     "output_type": "stream",
     "text": [
      "Best alpha: 599.4842503189421\n"
     ]
    },
    {
     "name": "stderr",
     "output_type": "stream",
     "text": [
      "\r",
      "Processing samples:  77%|████████████████████████████████████████████████▎              | 79/103 [18:37<10:06, 25.28s/it]"
     ]
    },
    {
     "name": "stdout",
     "output_type": "stream",
     "text": [
      "0.3343356931550937\n",
      "[WRITE] Saved result from IDS_region_06_700_points_seed_456.pkl to /home/libe2152/optimizedsampling/0_results/usavars/population/convenience_sampling_r2_scores.csv\n",
      "Fitting regression...\n",
      "NUM SAMPLES: 700\n"
     ]
    },
    {
     "name": "stdout",
     "output_type": "stream",
     "text": [
      "Best alpha: 46.41588833612782\n"
     ]
    },
    {
     "name": "stderr",
     "output_type": "stream",
     "text": [
      "\r",
      "Processing samples:  78%|████████████████████████████████████████████████▉              | 80/103 [19:18<11:24, 29.77s/it]"
     ]
    },
    {
     "name": "stdout",
     "output_type": "stream",
     "text": [
      "-0.3751556789753354\n",
      "[WRITE] Saved result from IDS_region_06_700_points_seed_5678.pkl to /home/libe2152/optimizedsampling/0_results/usavars/population/convenience_sampling_r2_scores.csv\n",
      "Fitting regression...\n",
      "NUM SAMPLES: 700\n"
     ]
    },
    {
     "name": "stdout",
     "output_type": "stream",
     "text": [
      "Best alpha: 46.41588833612782\n"
     ]
    },
    {
     "name": "stderr",
     "output_type": "stream",
     "text": [
      "\r",
      "Processing samples:  79%|█████████████████████████████████████████████████▌             | 81/103 [19:40<10:07, 27.63s/it]"
     ]
    },
    {
     "name": "stdout",
     "output_type": "stream",
     "text": [
      "0.21023730183343847\n",
      "[WRITE] Saved result from IDS_region_06_700_points_seed_789.pkl to /home/libe2152/optimizedsampling/0_results/usavars/population/convenience_sampling_r2_scores.csv\n",
      "Fitting regression...\n",
      "NUM SAMPLES: 700\n"
     ]
    },
    {
     "name": "stdout",
     "output_type": "stream",
     "text": [
      "Best alpha: 599.4842503189421\n"
     ]
    },
    {
     "name": "stderr",
     "output_type": "stream",
     "text": [
      "\r",
      "Processing samples:  80%|██████████████████████████████████████████████████▏            | 82/103 [20:01<08:57, 25.62s/it]"
     ]
    },
    {
     "name": "stdout",
     "output_type": "stream",
     "text": [
      "0.2798832547802147\n",
      "[WRITE] Saved result from IDS_region_06_700_points_seed_9101.pkl to /home/libe2152/optimizedsampling/0_results/usavars/population/convenience_sampling_r2_scores.csv\n",
      "Fitting regression...\n",
      "NUM SAMPLES: 800\n"
     ]
    },
    {
     "name": "stdout",
     "output_type": "stream",
     "text": [
      "Best alpha: 46.41588833612782\n"
     ]
    },
    {
     "name": "stderr",
     "output_type": "stream",
     "text": [
      "\r",
      "Processing samples:  81%|██████████████████████████████████████████████████▊            | 83/103 [20:50<10:53, 32.68s/it]"
     ]
    },
    {
     "name": "stdout",
     "output_type": "stream",
     "text": [
      "-0.7589615051576797\n",
      "[WRITE] Saved result from IDS_region_06_800_points_seed_1.pkl to /home/libe2152/optimizedsampling/0_results/usavars/population/convenience_sampling_r2_scores.csv\n",
      "Fitting regression...\n",
      "NUM SAMPLES: 800\n"
     ]
    },
    {
     "name": "stdout",
     "output_type": "stream",
     "text": [
      "Best alpha: 46.41588833612782\n"
     ]
    },
    {
     "name": "stderr",
     "output_type": "stream",
     "text": [
      "\r",
      "Processing samples:  82%|███████████████████████████████████████████████████▍           | 84/103 [21:30<10:58, 34.67s/it]"
     ]
    },
    {
     "name": "stdout",
     "output_type": "stream",
     "text": [
      "-0.15560245500175585\n",
      "[WRITE] Saved result from IDS_region_06_800_points_seed_1213.pkl to /home/libe2152/optimizedsampling/0_results/usavars/population/convenience_sampling_r2_scores.csv\n",
      "Fitting regression...\n",
      "NUM SAMPLES: 800\n"
     ]
    },
    {
     "name": "stdout",
     "output_type": "stream",
     "text": [
      "Best alpha: 46.41588833612782\n"
     ]
    },
    {
     "name": "stderr",
     "output_type": "stream",
     "text": [
      "\r",
      "Processing samples:  83%|███████████████████████████████████████████████████▉           | 85/103 [22:08<10:45, 35.86s/it]"
     ]
    },
    {
     "name": "stdout",
     "output_type": "stream",
     "text": [
      "-1.7622442597944477\n",
      "Warning: Severe overfitting. Add more samples.\n",
      "[WRITE] Saved result from IDS_region_06_800_points_seed_123.pkl to /home/libe2152/optimizedsampling/0_results/usavars/population/convenience_sampling_r2_scores.csv\n",
      "Fitting regression...\n",
      "NUM SAMPLES: 800\n"
     ]
    },
    {
     "name": "stdout",
     "output_type": "stream",
     "text": [
      "Best alpha: 46.41588833612782\n"
     ]
    },
    {
     "name": "stderr",
     "output_type": "stream",
     "text": [
      "\r",
      "Processing samples:  83%|████████████████████████████████████████████████████▌          | 86/103 [22:53<10:53, 38.45s/it]"
     ]
    },
    {
     "name": "stdout",
     "output_type": "stream",
     "text": [
      "-0.6221474385840986\n",
      "[WRITE] Saved result from IDS_region_06_800_points_seed_1234.pkl to /home/libe2152/optimizedsampling/0_results/usavars/population/convenience_sampling_r2_scores.csv\n",
      "Fitting regression...\n",
      "NUM SAMPLES: 800\n"
     ]
    },
    {
     "name": "stdout",
     "output_type": "stream",
     "text": [
      "Best alpha: 46.41588833612782\n"
     ]
    },
    {
     "name": "stderr",
     "output_type": "stream",
     "text": [
      "\r",
      "Processing samples:  84%|█████████████████████████████████████████████████████▏         | 87/103 [23:33<10:24, 39.01s/it]"
     ]
    },
    {
     "name": "stdout",
     "output_type": "stream",
     "text": [
      "-0.6540300146529539\n",
      "[WRITE] Saved result from IDS_region_06_800_points_seed_1415.pkl to /home/libe2152/optimizedsampling/0_results/usavars/population/convenience_sampling_r2_scores.csv\n",
      "Fitting regression...\n",
      "NUM SAMPLES: 800\n"
     ]
    },
    {
     "name": "stdout",
     "output_type": "stream",
     "text": [
      "Best alpha: 46.41588833612782\n"
     ]
    },
    {
     "name": "stderr",
     "output_type": "stream",
     "text": [
      "\r",
      "Processing samples:  85%|█████████████████████████████████████████████████████▊         | 88/103 [24:13<09:47, 39.16s/it]"
     ]
    },
    {
     "name": "stdout",
     "output_type": "stream",
     "text": [
      "-0.1903524659799518\n",
      "[WRITE] Saved result from IDS_region_06_800_points_seed_42.pkl to /home/libe2152/optimizedsampling/0_results/usavars/population/convenience_sampling_r2_scores.csv\n",
      "Fitting regression...\n",
      "NUM SAMPLES: 800\n"
     ]
    },
    {
     "name": "stdout",
     "output_type": "stream",
     "text": [
      "Best alpha: 599.4842503189421\n"
     ]
    },
    {
     "name": "stderr",
     "output_type": "stream",
     "text": [
      "\r",
      "Processing samples:  86%|██████████████████████████████████████████████████████▍        | 89/103 [24:57<09:29, 40.71s/it]"
     ]
    },
    {
     "name": "stdout",
     "output_type": "stream",
     "text": [
      "0.3356147702382889\n",
      "[WRITE] Saved result from IDS_region_06_800_points_seed_456.pkl to /home/libe2152/optimizedsampling/0_results/usavars/population/convenience_sampling_r2_scores.csv\n",
      "Fitting regression...\n",
      "NUM SAMPLES: 800\n"
     ]
    },
    {
     "name": "stdout",
     "output_type": "stream",
     "text": [
      "Best alpha: 3.593813663804626\n"
     ]
    },
    {
     "name": "stderr",
     "output_type": "stream",
     "text": [
      "\r",
      "Processing samples:  87%|███████████████████████████████████████████████████████        | 90/103 [25:29<08:14, 38.07s/it]"
     ]
    },
    {
     "name": "stdout",
     "output_type": "stream",
     "text": [
      "-0.7376728282800309\n",
      "[WRITE] Saved result from IDS_region_06_800_points_seed_5678.pkl to /home/libe2152/optimizedsampling/0_results/usavars/population/convenience_sampling_r2_scores.csv\n",
      "Fitting regression...\n",
      "NUM SAMPLES: 800\n"
     ]
    },
    {
     "name": "stdout",
     "output_type": "stream",
     "text": [
      "Best alpha: 46.41588833612782\n"
     ]
    },
    {
     "name": "stderr",
     "output_type": "stream",
     "text": [
      "\r",
      "Processing samples:  88%|███████████████████████████████████████████████████████▋       | 91/103 [26:02<07:19, 36.60s/it]"
     ]
    },
    {
     "name": "stdout",
     "output_type": "stream",
     "text": [
      "0.12416646002302312\n",
      "[WRITE] Saved result from IDS_region_06_800_points_seed_789.pkl to /home/libe2152/optimizedsampling/0_results/usavars/population/convenience_sampling_r2_scores.csv\n",
      "Fitting regression...\n",
      "NUM SAMPLES: 800\n"
     ]
    },
    {
     "name": "stdout",
     "output_type": "stream",
     "text": [
      "Best alpha: 46.41588833612782\n"
     ]
    },
    {
     "name": "stderr",
     "output_type": "stream",
     "text": [
      "\r",
      "Processing samples:  89%|████████████████████████████████████████████████████████▎      | 92/103 [26:29<06:11, 33.77s/it]"
     ]
    },
    {
     "name": "stdout",
     "output_type": "stream",
     "text": [
      "0.12336352331682843\n",
      "[WRITE] Saved result from IDS_region_06_800_points_seed_9101.pkl to /home/libe2152/optimizedsampling/0_results/usavars/population/convenience_sampling_r2_scores.csv\n",
      "Fitting regression...\n",
      "NUM SAMPLES: 900\n"
     ]
    },
    {
     "name": "stdout",
     "output_type": "stream",
     "text": [
      "Best alpha: 46.41588833612782\n"
     ]
    },
    {
     "name": "stderr",
     "output_type": "stream",
     "text": [
      "\r",
      "Processing samples:  90%|████████████████████████████████████████████████████████▉      | 93/103 [26:59<05:26, 32.67s/it]"
     ]
    },
    {
     "name": "stdout",
     "output_type": "stream",
     "text": [
      "-0.38424714273563665\n",
      "[WRITE] Saved result from IDS_region_06_900_points_seed_1.pkl to /home/libe2152/optimizedsampling/0_results/usavars/population/convenience_sampling_r2_scores.csv\n",
      "Fitting regression...\n",
      "NUM SAMPLES: 900\n"
     ]
    },
    {
     "name": "stdout",
     "output_type": "stream",
     "text": [
      "Best alpha: 46.41588833612782\n"
     ]
    },
    {
     "name": "stderr",
     "output_type": "stream",
     "text": [
      "\r",
      "Processing samples:  91%|█████████████████████████████████████████████████████████▍     | 94/103 [27:32<04:53, 32.65s/it]"
     ]
    },
    {
     "name": "stdout",
     "output_type": "stream",
     "text": [
      "-0.2714323553212603\n",
      "[WRITE] Saved result from IDS_region_06_900_points_seed_1213.pkl to /home/libe2152/optimizedsampling/0_results/usavars/population/convenience_sampling_r2_scores.csv\n",
      "Fitting regression...\n",
      "NUM SAMPLES: 900\n"
     ]
    },
    {
     "name": "stdout",
     "output_type": "stream",
     "text": [
      "Best alpha: 46.41588833612782\n"
     ]
    },
    {
     "name": "stderr",
     "output_type": "stream",
     "text": [
      "\r",
      "Processing samples:  92%|██████████████████████████████████████████████████████████     | 95/103 [28:06<04:25, 33.23s/it]"
     ]
    },
    {
     "name": "stdout",
     "output_type": "stream",
     "text": [
      "-1.5610964452282254\n",
      "Warning: Severe overfitting. Add more samples.\n",
      "[WRITE] Saved result from IDS_region_06_900_points_seed_123.pkl to /home/libe2152/optimizedsampling/0_results/usavars/population/convenience_sampling_r2_scores.csv\n",
      "Fitting regression...\n",
      "NUM SAMPLES: 900\n"
     ]
    },
    {
     "name": "stdout",
     "output_type": "stream",
     "text": [
      "Best alpha: 46.41588833612782\n"
     ]
    },
    {
     "name": "stderr",
     "output_type": "stream",
     "text": [
      "\r",
      "Processing samples:  93%|██████████████████████████████████████████████████████████▋    | 96/103 [28:45<04:04, 34.91s/it]"
     ]
    },
    {
     "name": "stdout",
     "output_type": "stream",
     "text": [
      "-0.32999039421184717\n",
      "[WRITE] Saved result from IDS_region_06_900_points_seed_1234.pkl to /home/libe2152/optimizedsampling/0_results/usavars/population/convenience_sampling_r2_scores.csv\n",
      "Fitting regression...\n",
      "NUM SAMPLES: 900\n"
     ]
    },
    {
     "name": "stdout",
     "output_type": "stream",
     "text": [
      "Best alpha: 3.593813663804626\n"
     ]
    },
    {
     "name": "stderr",
     "output_type": "stream",
     "text": [
      "\r",
      "Processing samples:  94%|███████████████████████████████████████████████████████████▎   | 97/103 [29:40<04:04, 40.74s/it]"
     ]
    },
    {
     "name": "stdout",
     "output_type": "stream",
     "text": [
      "-1.3060993528215326\n",
      "Warning: Severe overfitting. Add more samples.\n",
      "[WRITE] Saved result from IDS_region_06_900_points_seed_1415.pkl to /home/libe2152/optimizedsampling/0_results/usavars/population/convenience_sampling_r2_scores.csv\n",
      "Fitting regression...\n",
      "NUM SAMPLES: 900\n"
     ]
    },
    {
     "name": "stdout",
     "output_type": "stream",
     "text": [
      "Best alpha: 46.41588833612782\n"
     ]
    },
    {
     "name": "stderr",
     "output_type": "stream",
     "text": [
      "\r",
      "Processing samples:  95%|███████████████████████████████████████████████████████████▉   | 98/103 [30:27<03:33, 42.64s/it]"
     ]
    },
    {
     "name": "stdout",
     "output_type": "stream",
     "text": [
      "-0.11192418310729901\n",
      "[WRITE] Saved result from IDS_region_06_900_points_seed_42.pkl to /home/libe2152/optimizedsampling/0_results/usavars/population/convenience_sampling_r2_scores.csv\n",
      "Fitting regression...\n",
      "NUM SAMPLES: 900\n"
     ]
    },
    {
     "name": "stdout",
     "output_type": "stream",
     "text": [
      "Best alpha: 46.41588833612782\n"
     ]
    },
    {
     "name": "stderr",
     "output_type": "stream",
     "text": [
      "\r",
      "Processing samples:  96%|████████████████████████████████████████████████████████████▌  | 99/103 [31:05<02:45, 41.46s/it]"
     ]
    },
    {
     "name": "stdout",
     "output_type": "stream",
     "text": [
      "-0.7541644935933645\n",
      "[WRITE] Saved result from IDS_region_06_900_points_seed_456.pkl to /home/libe2152/optimizedsampling/0_results/usavars/population/convenience_sampling_r2_scores.csv\n",
      "Fitting regression...\n",
      "NUM SAMPLES: 900\n"
     ]
    },
    {
     "name": "stdout",
     "output_type": "stream",
     "text": [
      "Best alpha: 46.41588833612782\n"
     ]
    },
    {
     "name": "stderr",
     "output_type": "stream",
     "text": [
      "\r",
      "Processing samples:  97%|████████████████████████████████████████████████████████████▏ | 100/103 [31:50<02:07, 42.34s/it]"
     ]
    },
    {
     "name": "stdout",
     "output_type": "stream",
     "text": [
      "-0.11163175881609577\n",
      "[WRITE] Saved result from IDS_region_06_900_points_seed_5678.pkl to /home/libe2152/optimizedsampling/0_results/usavars/population/convenience_sampling_r2_scores.csv\n",
      "Fitting regression...\n",
      "NUM SAMPLES: 900\n"
     ]
    },
    {
     "name": "stdout",
     "output_type": "stream",
     "text": [
      "Best alpha: 46.41588833612782\n"
     ]
    },
    {
     "name": "stderr",
     "output_type": "stream",
     "text": [
      "\r",
      "Processing samples:  98%|████████████████████████████████████████████████████████████▊ | 101/103 [32:34<01:25, 42.78s/it]"
     ]
    },
    {
     "name": "stdout",
     "output_type": "stream",
     "text": [
      "-0.31241920704019566\n",
      "[WRITE] Saved result from IDS_region_06_900_points_seed_789.pkl to /home/libe2152/optimizedsampling/0_results/usavars/population/convenience_sampling_r2_scores.csv\n",
      "Fitting regression...\n",
      "NUM SAMPLES: 900\n"
     ]
    },
    {
     "name": "stdout",
     "output_type": "stream",
     "text": [
      "Best alpha: 46.41588833612782\n"
     ]
    },
    {
     "name": "stderr",
     "output_type": "stream",
     "text": [
      "\r",
      "Processing samples:  99%|█████████████████████████████████████████████████████████████▍| 102/103 [33:19<00:43, 43.55s/it]"
     ]
    },
    {
     "name": "stderr",
     "output_type": "stream",
     "text": [
      "\r",
      "Processing samples: 100%|██████████████████████████████████████████████████████████████| 103/103 [33:19<00:00, 19.41s/it]"
     ]
    },
    {
     "name": "stdout",
     "output_type": "stream",
     "text": [
      "-0.041568916891903784\n",
      "[WRITE] Saved result from IDS_region_06_900_points_seed_9101.pkl to /home/libe2152/optimizedsampling/0_results/usavars/population/convenience_sampling_r2_scores.csv\n",
      "Results written incrementally to /home/libe2152/optimizedsampling/0_results/usavars/population/convenience_sampling_r2_scores.csv\n"
     ]
    },
    {
     "name": "stderr",
     "output_type": "stream",
     "text": [
      "\n"
     ]
    },
    {
     "name": "stdout",
     "output_type": "stream",
     "text": [
      "Loading features from /home/libe2152/optimizedsampling/0_data/features/usavars/CONTUS_UAR_treecover_with_splits_torchgeo4096.pkl ...\n"
     ]
    },
    {
     "name": "stdout",
     "output_type": "stream",
     "text": [
      "Processing samples from /home/libe2152/optimizedsampling/0_data/initial_samples/usavars/treecover/convenience_sampling/urban_based ...\n"
     ]
    },
    {
     "name": "stderr",
     "output_type": "stream",
     "text": [
      "\r",
      "Processing samples:   0%|                                                                        | 0/101 [00:00<?, ?it/s]"
     ]
    },
    {
     "name": "stdout",
     "output_type": "stream",
     "text": [
      "Fitting regression...\n",
      "NUM SAMPLES: 1000\n"
     ]
    },
    {
     "name": "stdout",
     "output_type": "stream",
     "text": [
      "Best alpha: 3.593813663804626\n"
     ]
    },
    {
     "name": "stderr",
     "output_type": "stream",
     "text": [
      "\r",
      "Processing samples:   1%|▌                                                             | 1/101 [01:22<2:17:06, 82.26s/it]"
     ]
    },
    {
     "name": "stdout",
     "output_type": "stream",
     "text": [
      "0.7594297963713539\n",
      "[WRITE] Saved result from IDS_top10_urban_1000_points_probabilistic_seed_1.pkl to /home/libe2152/optimizedsampling/0_results/usavars/treecover/convenience_sampling_r2_scores.csv\n",
      "Fitting regression...\n",
      "NUM SAMPLES: 1000\n"
     ]
    },
    {
     "name": "stdout",
     "output_type": "stream",
     "text": [
      "Best alpha: 3.593813663804626\n"
     ]
    },
    {
     "name": "stderr",
     "output_type": "stream",
     "text": [
      "\r",
      "Processing samples:   2%|█▏                                                            | 2/101 [02:12<1:44:29, 63.33s/it]"
     ]
    },
    {
     "name": "stdout",
     "output_type": "stream",
     "text": [
      "0.7717006316973453\n",
      "[WRITE] Saved result from IDS_top10_urban_1000_points_probabilistic_seed_1213.pkl to /home/libe2152/optimizedsampling/0_results/usavars/treecover/convenience_sampling_r2_scores.csv\n",
      "Fitting regression...\n",
      "NUM SAMPLES: 1000\n"
     ]
    },
    {
     "name": "stdout",
     "output_type": "stream",
     "text": [
      "Best alpha: 0.2782559402207126\n"
     ]
    },
    {
     "name": "stderr",
     "output_type": "stream",
     "text": [
      "\r",
      "Processing samples:   3%|█▊                                                            | 3/101 [03:07<1:37:41, 59.81s/it]"
     ]
    },
    {
     "name": "stdout",
     "output_type": "stream",
     "text": [
      "0.6980430469789858\n",
      "[WRITE] Saved result from IDS_top10_urban_1000_points_probabilistic_seed_123.pkl to /home/libe2152/optimizedsampling/0_results/usavars/treecover/convenience_sampling_r2_scores.csv\n",
      "Fitting regression...\n",
      "NUM SAMPLES: 1000\n"
     ]
    },
    {
     "name": "stdout",
     "output_type": "stream",
     "text": [
      "Best alpha: 3.593813663804626\n"
     ]
    },
    {
     "name": "stderr",
     "output_type": "stream",
     "text": [
      "\r",
      "Processing samples:   4%|██▍                                                           | 4/101 [03:52<1:27:02, 53.84s/it]"
     ]
    },
    {
     "name": "stdout",
     "output_type": "stream",
     "text": [
      "0.779398763637754\n",
      "[WRITE] Saved result from IDS_top10_urban_1000_points_probabilistic_seed_1234.pkl to /home/libe2152/optimizedsampling/0_results/usavars/treecover/convenience_sampling_r2_scores.csv\n",
      "Fitting regression...\n",
      "NUM SAMPLES: 1000\n"
     ]
    },
    {
     "name": "stdout",
     "output_type": "stream",
     "text": [
      "Best alpha: 3.593813663804626\n"
     ]
    },
    {
     "name": "stderr",
     "output_type": "stream",
     "text": [
      "\r",
      "Processing samples:   5%|███                                                           | 5/101 [04:54<1:30:43, 56.71s/it]"
     ]
    },
    {
     "name": "stdout",
     "output_type": "stream",
     "text": [
      "0.7877340994258244\n",
      "[WRITE] Saved result from IDS_top10_urban_1000_points_probabilistic_seed_1415.pkl to /home/libe2152/optimizedsampling/0_results/usavars/treecover/convenience_sampling_r2_scores.csv\n",
      "Fitting regression...\n",
      "NUM SAMPLES: 1000\n"
     ]
    },
    {
     "name": "stdout",
     "output_type": "stream",
     "text": [
      "Best alpha: 3.593813663804626\n"
     ]
    },
    {
     "name": "stderr",
     "output_type": "stream",
     "text": [
      "\r",
      "Processing samples:   6%|███▋                                                          | 6/101 [05:51<1:29:47, 56.71s/it]"
     ]
    },
    {
     "name": "stdout",
     "output_type": "stream",
     "text": [
      "0.7775870127891306\n",
      "[WRITE] Saved result from IDS_top10_urban_1000_points_probabilistic_seed_42.pkl to /home/libe2152/optimizedsampling/0_results/usavars/treecover/convenience_sampling_r2_scores.csv\n",
      "Fitting regression...\n",
      "NUM SAMPLES: 1000\n"
     ]
    },
    {
     "name": "stdout",
     "output_type": "stream",
     "text": [
      "Best alpha: 3.593813663804626\n"
     ]
    },
    {
     "name": "stderr",
     "output_type": "stream",
     "text": [
      "\r",
      "Processing samples:   7%|████▎                                                         | 7/101 [06:43<1:26:41, 55.33s/it]"
     ]
    },
    {
     "name": "stdout",
     "output_type": "stream",
     "text": [
      "0.7757520819908665\n",
      "[WRITE] Saved result from IDS_top10_urban_1000_points_probabilistic_seed_456.pkl to /home/libe2152/optimizedsampling/0_results/usavars/treecover/convenience_sampling_r2_scores.csv\n",
      "Fitting regression...\n",
      "NUM SAMPLES: 1000\n"
     ]
    },
    {
     "name": "stdout",
     "output_type": "stream",
     "text": [
      "Best alpha: 3.593813663804626\n"
     ]
    },
    {
     "name": "stderr",
     "output_type": "stream",
     "text": [
      "\r",
      "Processing samples:   8%|████▉                                                         | 8/101 [07:31<1:22:14, 53.06s/it]"
     ]
    },
    {
     "name": "stdout",
     "output_type": "stream",
     "text": [
      "0.7749274414226918\n",
      "[WRITE] Saved result from IDS_top10_urban_1000_points_probabilistic_seed_5678.pkl to /home/libe2152/optimizedsampling/0_results/usavars/treecover/convenience_sampling_r2_scores.csv\n",
      "Fitting regression...\n",
      "NUM SAMPLES: 1000\n"
     ]
    },
    {
     "name": "stdout",
     "output_type": "stream",
     "text": [
      "Best alpha: 3.593813663804626\n"
     ]
    },
    {
     "name": "stderr",
     "output_type": "stream",
     "text": [
      "\r",
      "Processing samples:   9%|█████▌                                                        | 9/101 [08:27<1:22:36, 53.88s/it]"
     ]
    },
    {
     "name": "stdout",
     "output_type": "stream",
     "text": [
      "0.779893953589547\n",
      "[WRITE] Saved result from IDS_top10_urban_1000_points_probabilistic_seed_789.pkl to /home/libe2152/optimizedsampling/0_results/usavars/treecover/convenience_sampling_r2_scores.csv\n",
      "Fitting regression...\n",
      "NUM SAMPLES: 1000\n"
     ]
    },
    {
     "name": "stdout",
     "output_type": "stream",
     "text": [
      "Best alpha: 0.2782559402207126\n"
     ]
    },
    {
     "name": "stderr",
     "output_type": "stream",
     "text": [
      "\r",
      "Processing samples:  10%|██████                                                       | 10/101 [09:35<1:28:22, 58.27s/it]"
     ]
    },
    {
     "name": "stdout",
     "output_type": "stream",
     "text": [
      "0.7044503879716009\n",
      "[WRITE] Saved result from IDS_top10_urban_1000_points_probabilistic_seed_9101.pkl to /home/libe2152/optimizedsampling/0_results/usavars/treecover/convenience_sampling_r2_scores.csv\n",
      "Fitting regression...\n",
      "NUM SAMPLES: 100\n"
     ]
    },
    {
     "name": "stdout",
     "output_type": "stream",
     "text": [
      "Best alpha: 3.593813663804626\n"
     ]
    },
    {
     "name": "stderr",
     "output_type": "stream",
     "text": [
      "\r",
      "Processing samples:  11%|██████▋                                                      | 11/101 [09:36<1:01:11, 40.80s/it]"
     ]
    },
    {
     "name": "stdout",
     "output_type": "stream",
     "text": [
      "0.42467217675461877\n",
      "[WRITE] Saved result from IDS_top10_urban_100_points_probabilistic_seed_1.pkl to /home/libe2152/optimizedsampling/0_results/usavars/treecover/convenience_sampling_r2_scores.csv\n",
      "Fitting regression...\n",
      "NUM SAMPLES: 100\n"
     ]
    },
    {
     "name": "stdout",
     "output_type": "stream",
     "text": [
      "Best alpha: 46.41588833612782\n"
     ]
    },
    {
     "name": "stderr",
     "output_type": "stream",
     "text": [
      "\r",
      "Processing samples:  12%|███████▍                                                       | 12/101 [09:38<42:42, 28.79s/it]"
     ]
    },
    {
     "name": "stdout",
     "output_type": "stream",
     "text": [
      "0.20807485296123351\n",
      "[WRITE] Saved result from IDS_top10_urban_100_points_probabilistic_seed_1213.pkl to /home/libe2152/optimizedsampling/0_results/usavars/treecover/convenience_sampling_r2_scores.csv\n",
      "Fitting regression...\n",
      "NUM SAMPLES: 100\n"
     ]
    },
    {
     "name": "stdout",
     "output_type": "stream",
     "text": [
      "Best alpha: 46.41588833612782\n"
     ]
    },
    {
     "name": "stderr",
     "output_type": "stream",
     "text": [
      "\r",
      "Processing samples:  13%|████████                                                       | 13/101 [09:39<29:53, 20.38s/it]"
     ]
    },
    {
     "name": "stdout",
     "output_type": "stream",
     "text": [
      "0.662985743445117\n",
      "[WRITE] Saved result from IDS_top10_urban_100_points_probabilistic_seed_123.pkl to /home/libe2152/optimizedsampling/0_results/usavars/treecover/convenience_sampling_r2_scores.csv\n",
      "Fitting regression...\n",
      "NUM SAMPLES: 100\n"
     ]
    },
    {
     "name": "stdout",
     "output_type": "stream",
     "text": [
      "Best alpha: 3.593813663804626\n"
     ]
    },
    {
     "name": "stderr",
     "output_type": "stream",
     "text": [
      "\r",
      "Processing samples:  14%|████████▋                                                      | 14/101 [09:40<21:03, 14.52s/it]"
     ]
    },
    {
     "name": "stdout",
     "output_type": "stream",
     "text": [
      "0.3748812097123796\n",
      "[WRITE] Saved result from IDS_top10_urban_100_points_probabilistic_seed_1234.pkl to /home/libe2152/optimizedsampling/0_results/usavars/treecover/convenience_sampling_r2_scores.csv\n",
      "Fitting regression...\n",
      "NUM SAMPLES: 100\n"
     ]
    },
    {
     "name": "stdout",
     "output_type": "stream",
     "text": [
      "Best alpha: 3.593813663804626\n"
     ]
    },
    {
     "name": "stderr",
     "output_type": "stream",
     "text": [
      "\r",
      "Processing samples:  15%|█████████▎                                                     | 15/101 [09:41<14:58, 10.45s/it]"
     ]
    },
    {
     "name": "stdout",
     "output_type": "stream",
     "text": [
      "0.3481930193550816\n",
      "[WRITE] Saved result from IDS_top10_urban_100_points_probabilistic_seed_1415.pkl to /home/libe2152/optimizedsampling/0_results/usavars/treecover/convenience_sampling_r2_scores.csv\n",
      "Fitting regression...\n",
      "NUM SAMPLES: 100\n"
     ]
    },
    {
     "name": "stdout",
     "output_type": "stream",
     "text": [
      "Best alpha: 46.41588833612782\n"
     ]
    },
    {
     "name": "stderr",
     "output_type": "stream",
     "text": [
      "\r",
      "Processing samples:  16%|█████████▉                                                     | 16/101 [09:42<10:52,  7.67s/it]"
     ]
    },
    {
     "name": "stdout",
     "output_type": "stream",
     "text": [
      "-0.05332518068558656\n",
      "[WRITE] Saved result from IDS_top10_urban_100_points_probabilistic_seed_42.pkl to /home/libe2152/optimizedsampling/0_results/usavars/treecover/convenience_sampling_r2_scores.csv\n",
      "Fitting regression...\n",
      "NUM SAMPLES: 100\n"
     ]
    },
    {
     "name": "stdout",
     "output_type": "stream",
     "text": [
      "Best alpha: 46.41588833612782\n"
     ]
    },
    {
     "name": "stderr",
     "output_type": "stream",
     "text": [
      "\r",
      "Processing samples:  17%|██████████▌                                                    | 17/101 [09:43<08:03,  5.76s/it]"
     ]
    },
    {
     "name": "stdout",
     "output_type": "stream",
     "text": [
      "0.5485174571393386\n",
      "[WRITE] Saved result from IDS_top10_urban_100_points_probabilistic_seed_456.pkl to /home/libe2152/optimizedsampling/0_results/usavars/treecover/convenience_sampling_r2_scores.csv\n",
      "Fitting regression...\n",
      "NUM SAMPLES: 100\n"
     ]
    },
    {
     "name": "stdout",
     "output_type": "stream",
     "text": [
      "Best alpha: 46.41588833612782\n"
     ]
    },
    {
     "name": "stderr",
     "output_type": "stream",
     "text": [
      "\r",
      "Processing samples:  18%|███████████▏                                                   | 18/101 [09:44<06:04,  4.39s/it]"
     ]
    },
    {
     "name": "stdout",
     "output_type": "stream",
     "text": [
      "0.452652431782264\n",
      "[WRITE] Saved result from IDS_top10_urban_100_points_probabilistic_seed_5678.pkl to /home/libe2152/optimizedsampling/0_results/usavars/treecover/convenience_sampling_r2_scores.csv\n",
      "Fitting regression...\n",
      "NUM SAMPLES: 100\n"
     ]
    },
    {
     "name": "stdout",
     "output_type": "stream",
     "text": [
      "Best alpha: 46.41588833612782\n"
     ]
    },
    {
     "name": "stderr",
     "output_type": "stream",
     "text": [
      "\r",
      "Processing samples:  19%|███████████▊                                                   | 19/101 [09:46<04:41,  3.43s/it]"
     ]
    },
    {
     "name": "stdout",
     "output_type": "stream",
     "text": [
      "0.4320359982426826\n",
      "[WRITE] Saved result from IDS_top10_urban_100_points_probabilistic_seed_789.pkl to /home/libe2152/optimizedsampling/0_results/usavars/treecover/convenience_sampling_r2_scores.csv\n",
      "Fitting regression...\n",
      "NUM SAMPLES: 100\n"
     ]
    },
    {
     "name": "stdout",
     "output_type": "stream",
     "text": [
      "Best alpha: 599.4842503189421\n"
     ]
    },
    {
     "name": "stderr",
     "output_type": "stream",
     "text": [
      "\r",
      "Processing samples:  20%|████████████▍                                                  | 20/101 [09:47<03:44,  2.77s/it]"
     ]
    },
    {
     "name": "stdout",
     "output_type": "stream",
     "text": [
      "0.37112576031905764\n",
      "[WRITE] Saved result from IDS_top10_urban_100_points_probabilistic_seed_9101.pkl to /home/libe2152/optimizedsampling/0_results/usavars/treecover/convenience_sampling_r2_scores.csv\n",
      "Fitting regression...\n",
      "NUM SAMPLES: 200\n"
     ]
    },
    {
     "name": "stdout",
     "output_type": "stream",
     "text": [
      "Best alpha: 3.593813663804626\n"
     ]
    },
    {
     "name": "stderr",
     "output_type": "stream",
     "text": [
      "\r",
      "Processing samples:  21%|█████████████                                                  | 21/101 [09:51<04:05,  3.07s/it]"
     ]
    },
    {
     "name": "stdout",
     "output_type": "stream",
     "text": [
      "0.5590616437731148\n",
      "[WRITE] Saved result from IDS_top10_urban_200_points_probabilistic_seed_1.pkl to /home/libe2152/optimizedsampling/0_results/usavars/treecover/convenience_sampling_r2_scores.csv\n",
      "Fitting regression...\n",
      "NUM SAMPLES: 200\n"
     ]
    },
    {
     "name": "stdout",
     "output_type": "stream",
     "text": [
      "Best alpha: 3.593813663804626\n"
     ]
    },
    {
     "name": "stderr",
     "output_type": "stream",
     "text": [
      "\r",
      "Processing samples:  22%|█████████████▋                                                 | 22/101 [09:54<04:21,  3.31s/it]"
     ]
    },
    {
     "name": "stdout",
     "output_type": "stream",
     "text": [
      "0.5682267387127664\n",
      "[WRITE] Saved result from IDS_top10_urban_200_points_probabilistic_seed_1213.pkl to /home/libe2152/optimizedsampling/0_results/usavars/treecover/convenience_sampling_r2_scores.csv\n",
      "Fitting regression...\n",
      "NUM SAMPLES: 200\n"
     ]
    },
    {
     "name": "stdout",
     "output_type": "stream",
     "text": [
      "Best alpha: 46.41588833612782\n"
     ]
    },
    {
     "name": "stderr",
     "output_type": "stream",
     "text": [
      "\r",
      "Processing samples:  23%|██████████████▎                                                | 23/101 [09:59<04:51,  3.74s/it]"
     ]
    },
    {
     "name": "stdout",
     "output_type": "stream",
     "text": [
      "0.5779494222968611\n",
      "[WRITE] Saved result from IDS_top10_urban_200_points_probabilistic_seed_123.pkl to /home/libe2152/optimizedsampling/0_results/usavars/treecover/convenience_sampling_r2_scores.csv\n",
      "Fitting regression...\n",
      "NUM SAMPLES: 200\n"
     ]
    },
    {
     "name": "stdout",
     "output_type": "stream",
     "text": [
      "Best alpha: 46.41588833612782\n"
     ]
    },
    {
     "name": "stderr",
     "output_type": "stream",
     "text": [
      "\r",
      "Processing samples:  24%|██████████████▉                                                | 24/101 [10:02<04:34,  3.57s/it]"
     ]
    },
    {
     "name": "stdout",
     "output_type": "stream",
     "text": [
      "0.4827928138826534\n",
      "[WRITE] Saved result from IDS_top10_urban_200_points_probabilistic_seed_1234.pkl to /home/libe2152/optimizedsampling/0_results/usavars/treecover/convenience_sampling_r2_scores.csv\n",
      "Fitting regression...\n",
      "NUM SAMPLES: 200\n"
     ]
    },
    {
     "name": "stdout",
     "output_type": "stream",
     "text": [
      "Best alpha: 3.593813663804626\n"
     ]
    },
    {
     "name": "stderr",
     "output_type": "stream",
     "text": [
      "\r",
      "Processing samples:  25%|███████████████▌                                               | 25/101 [10:06<04:31,  3.58s/it]"
     ]
    },
    {
     "name": "stdout",
     "output_type": "stream",
     "text": [
      "0.582981234285886\n",
      "[WRITE] Saved result from IDS_top10_urban_200_points_probabilistic_seed_1415.pkl to /home/libe2152/optimizedsampling/0_results/usavars/treecover/convenience_sampling_r2_scores.csv\n",
      "Fitting regression...\n",
      "NUM SAMPLES: 200\n"
     ]
    },
    {
     "name": "stdout",
     "output_type": "stream",
     "text": [
      "Best alpha: 46.41588833612782\n"
     ]
    },
    {
     "name": "stderr",
     "output_type": "stream",
     "text": [
      "\r",
      "Processing samples:  26%|████████████████▏                                              | 26/101 [10:09<04:13,  3.38s/it]"
     ]
    },
    {
     "name": "stdout",
     "output_type": "stream",
     "text": [
      "0.12483810408714935\n",
      "[WRITE] Saved result from IDS_top10_urban_200_points_probabilistic_seed_42.pkl to /home/libe2152/optimizedsampling/0_results/usavars/treecover/convenience_sampling_r2_scores.csv\n",
      "Fitting regression...\n",
      "NUM SAMPLES: 200\n"
     ]
    },
    {
     "name": "stdout",
     "output_type": "stream",
     "text": [
      "Best alpha: 3.593813663804626\n"
     ]
    },
    {
     "name": "stderr",
     "output_type": "stream",
     "text": [
      "\r",
      "Processing samples:  27%|████████████████▊                                              | 27/101 [10:13<04:19,  3.51s/it]"
     ]
    },
    {
     "name": "stdout",
     "output_type": "stream",
     "text": [
      "0.6831711602763633\n",
      "[WRITE] Saved result from IDS_top10_urban_200_points_probabilistic_seed_456.pkl to /home/libe2152/optimizedsampling/0_results/usavars/treecover/convenience_sampling_r2_scores.csv\n",
      "Fitting regression...\n",
      "NUM SAMPLES: 200\n"
     ]
    },
    {
     "name": "stdout",
     "output_type": "stream",
     "text": [
      "Best alpha: 3.593813663804626\n"
     ]
    },
    {
     "name": "stderr",
     "output_type": "stream",
     "text": [
      "\r",
      "Processing samples:  28%|█████████████████▍                                             | 28/101 [10:16<04:19,  3.56s/it]"
     ]
    },
    {
     "name": "stdout",
     "output_type": "stream",
     "text": [
      "0.5360307777597533\n",
      "[WRITE] Saved result from IDS_top10_urban_200_points_probabilistic_seed_5678.pkl to /home/libe2152/optimizedsampling/0_results/usavars/treecover/convenience_sampling_r2_scores.csv\n",
      "Fitting regression...\n",
      "NUM SAMPLES: 200\n"
     ]
    },
    {
     "name": "stdout",
     "output_type": "stream",
     "text": [
      "Best alpha: 46.41588833612782\n"
     ]
    },
    {
     "name": "stderr",
     "output_type": "stream",
     "text": [
      "\r",
      "Processing samples:  29%|██████████████████                                             | 29/101 [10:20<04:12,  3.51s/it]"
     ]
    },
    {
     "name": "stdout",
     "output_type": "stream",
     "text": [
      "0.6318775301953108\n",
      "[WRITE] Saved result from IDS_top10_urban_200_points_probabilistic_seed_789.pkl to /home/libe2152/optimizedsampling/0_results/usavars/treecover/convenience_sampling_r2_scores.csv\n",
      "Fitting regression...\n",
      "NUM SAMPLES: 200\n"
     ]
    },
    {
     "name": "stdout",
     "output_type": "stream",
     "text": [
      "Best alpha: 3.593813663804626\n"
     ]
    },
    {
     "name": "stderr",
     "output_type": "stream",
     "text": [
      "\r",
      "Processing samples:  30%|██████████████████▋                                            | 30/101 [10:23<03:59,  3.38s/it]"
     ]
    },
    {
     "name": "stdout",
     "output_type": "stream",
     "text": [
      "0.5799806520237984\n",
      "[WRITE] Saved result from IDS_top10_urban_200_points_probabilistic_seed_9101.pkl to /home/libe2152/optimizedsampling/0_results/usavars/treecover/convenience_sampling_r2_scores.csv\n",
      "Fitting regression...\n",
      "NUM SAMPLES: 300\n"
     ]
    },
    {
     "name": "stdout",
     "output_type": "stream",
     "text": [
      "Best alpha: 3.593813663804626\n"
     ]
    },
    {
     "name": "stderr",
     "output_type": "stream",
     "text": [
      "\r",
      "Processing samples:  31%|███████████████████▎                                           | 31/101 [10:28<04:39,  3.99s/it]"
     ]
    },
    {
     "name": "stdout",
     "output_type": "stream",
     "text": [
      "0.6170460675131293\n",
      "[WRITE] Saved result from IDS_top10_urban_300_points_probabilistic_seed_1.pkl to /home/libe2152/optimizedsampling/0_results/usavars/treecover/convenience_sampling_r2_scores.csv\n",
      "Fitting regression...\n",
      "NUM SAMPLES: 300\n"
     ]
    },
    {
     "name": "stdout",
     "output_type": "stream",
     "text": [
      "Best alpha: 3.593813663804626\n"
     ]
    },
    {
     "name": "stderr",
     "output_type": "stream",
     "text": [
      "\r",
      "Processing samples:  32%|███████████████████▉                                           | 32/101 [10:34<05:11,  4.52s/it]"
     ]
    },
    {
     "name": "stdout",
     "output_type": "stream",
     "text": [
      "0.664832526636952\n",
      "[WRITE] Saved result from IDS_top10_urban_300_points_probabilistic_seed_1213.pkl to /home/libe2152/optimizedsampling/0_results/usavars/treecover/convenience_sampling_r2_scores.csv\n",
      "Fitting regression...\n",
      "NUM SAMPLES: 300\n"
     ]
    },
    {
     "name": "stdout",
     "output_type": "stream",
     "text": [
      "Best alpha: 3.593813663804626\n"
     ]
    },
    {
     "name": "stderr",
     "output_type": "stream",
     "text": [
      "\r",
      "Processing samples:  33%|████████████████████▌                                          | 33/101 [10:40<05:28,  4.83s/it]"
     ]
    },
    {
     "name": "stdout",
     "output_type": "stream",
     "text": [
      "0.5880203029955378\n",
      "[WRITE] Saved result from IDS_top10_urban_300_points_probabilistic_seed_123.pkl to /home/libe2152/optimizedsampling/0_results/usavars/treecover/convenience_sampling_r2_scores.csv\n",
      "Fitting regression...\n",
      "NUM SAMPLES: 300\n"
     ]
    },
    {
     "name": "stdout",
     "output_type": "stream",
     "text": [
      "Best alpha: 3.593813663804626\n"
     ]
    },
    {
     "name": "stderr",
     "output_type": "stream",
     "text": [
      "\r",
      "Processing samples:  34%|█████████████████████▏                                         | 34/101 [10:45<05:43,  5.12s/it]"
     ]
    },
    {
     "name": "stdout",
     "output_type": "stream",
     "text": [
      "0.7327193700501385\n",
      "[WRITE] Saved result from IDS_top10_urban_300_points_probabilistic_seed_1234.pkl to /home/libe2152/optimizedsampling/0_results/usavars/treecover/convenience_sampling_r2_scores.csv\n",
      "Fitting regression...\n",
      "NUM SAMPLES: 300\n"
     ]
    },
    {
     "name": "stdout",
     "output_type": "stream",
     "text": [
      "Best alpha: 3.593813663804626\n"
     ]
    },
    {
     "name": "stderr",
     "output_type": "stream",
     "text": [
      "\r",
      "Processing samples:  35%|█████████████████████▊                                         | 35/101 [10:51<05:52,  5.34s/it]"
     ]
    },
    {
     "name": "stdout",
     "output_type": "stream",
     "text": [
      "0.5904222886817476\n",
      "[WRITE] Saved result from IDS_top10_urban_300_points_probabilistic_seed_1415.pkl to /home/libe2152/optimizedsampling/0_results/usavars/treecover/convenience_sampling_r2_scores.csv\n",
      "Fitting regression...\n",
      "NUM SAMPLES: 300\n"
     ]
    },
    {
     "name": "stdout",
     "output_type": "stream",
     "text": [
      "Best alpha: 3.593813663804626\n"
     ]
    },
    {
     "name": "stderr",
     "output_type": "stream",
     "text": [
      "\r",
      "Processing samples:  36%|██████████████████████▍                                        | 36/101 [10:58<06:09,  5.68s/it]"
     ]
    },
    {
     "name": "stdout",
     "output_type": "stream",
     "text": [
      "0.5053608040496719\n",
      "[WRITE] Saved result from IDS_top10_urban_300_points_probabilistic_seed_42.pkl to /home/libe2152/optimizedsampling/0_results/usavars/treecover/convenience_sampling_r2_scores.csv\n",
      "Fitting regression...\n",
      "NUM SAMPLES: 300\n"
     ]
    },
    {
     "name": "stdout",
     "output_type": "stream",
     "text": [
      "Best alpha: 3.593813663804626\n"
     ]
    },
    {
     "name": "stderr",
     "output_type": "stream",
     "text": [
      "\r",
      "Processing samples:  37%|███████████████████████                                        | 37/101 [11:04<06:09,  5.78s/it]"
     ]
    },
    {
     "name": "stdout",
     "output_type": "stream",
     "text": [
      "0.6713962765683089\n",
      "[WRITE] Saved result from IDS_top10_urban_300_points_probabilistic_seed_456.pkl to /home/libe2152/optimizedsampling/0_results/usavars/treecover/convenience_sampling_r2_scores.csv\n",
      "Fitting regression...\n",
      "NUM SAMPLES: 300\n"
     ]
    },
    {
     "name": "stdout",
     "output_type": "stream",
     "text": [
      "Best alpha: 3.593813663804626\n"
     ]
    },
    {
     "name": "stderr",
     "output_type": "stream",
     "text": [
      "\r",
      "Processing samples:  38%|███████████████████████▋                                       | 38/101 [11:09<05:55,  5.65s/it]"
     ]
    },
    {
     "name": "stdout",
     "output_type": "stream",
     "text": [
      "0.6137319284628273\n",
      "[WRITE] Saved result from IDS_top10_urban_300_points_probabilistic_seed_5678.pkl to /home/libe2152/optimizedsampling/0_results/usavars/treecover/convenience_sampling_r2_scores.csv\n",
      "Fitting regression...\n",
      "NUM SAMPLES: 300\n"
     ]
    },
    {
     "name": "stdout",
     "output_type": "stream",
     "text": [
      "Best alpha: 3.593813663804626\n"
     ]
    },
    {
     "name": "stderr",
     "output_type": "stream",
     "text": [
      "\r",
      "Processing samples:  39%|████████████████████████▎                                      | 39/101 [11:15<05:59,  5.80s/it]"
     ]
    },
    {
     "name": "stdout",
     "output_type": "stream",
     "text": [
      "0.6463868213134127\n",
      "[WRITE] Saved result from IDS_top10_urban_300_points_probabilistic_seed_789.pkl to /home/libe2152/optimizedsampling/0_results/usavars/treecover/convenience_sampling_r2_scores.csv\n",
      "Fitting regression...\n",
      "NUM SAMPLES: 300\n"
     ]
    },
    {
     "name": "stdout",
     "output_type": "stream",
     "text": [
      "Best alpha: 3.593813663804626\n"
     ]
    },
    {
     "name": "stderr",
     "output_type": "stream",
     "text": [
      "\r",
      "Processing samples:  40%|████████████████████████▉                                      | 40/101 [11:21<05:55,  5.83s/it]"
     ]
    },
    {
     "name": "stdout",
     "output_type": "stream",
     "text": [
      "0.6780075224801847\n",
      "[WRITE] Saved result from IDS_top10_urban_300_points_probabilistic_seed_9101.pkl to /home/libe2152/optimizedsampling/0_results/usavars/treecover/convenience_sampling_r2_scores.csv\n",
      "Fitting regression...\n",
      "NUM SAMPLES: 400\n"
     ]
    },
    {
     "name": "stdout",
     "output_type": "stream",
     "text": [
      "Best alpha: 3.593813663804626\n"
     ]
    },
    {
     "name": "stderr",
     "output_type": "stream",
     "text": [
      "\r",
      "Processing samples:  41%|█████████████████████████▌                                     | 41/101 [11:30<06:41,  6.70s/it]"
     ]
    },
    {
     "name": "stdout",
     "output_type": "stream",
     "text": [
      "0.700032208110038\n",
      "[WRITE] Saved result from IDS_top10_urban_400_points_probabilistic_seed_1.pkl to /home/libe2152/optimizedsampling/0_results/usavars/treecover/convenience_sampling_r2_scores.csv\n",
      "Fitting regression...\n",
      "NUM SAMPLES: 400\n"
     ]
    },
    {
     "name": "stdout",
     "output_type": "stream",
     "text": [
      "Best alpha: 0.2782559402207126\n"
     ]
    },
    {
     "name": "stderr",
     "output_type": "stream",
     "text": [
      "\r",
      "Processing samples:  42%|██████████████████████████▏                                    | 42/101 [11:39<07:21,  7.49s/it]"
     ]
    },
    {
     "name": "stdout",
     "output_type": "stream",
     "text": [
      "0.6564392325414707\n",
      "[WRITE] Saved result from IDS_top10_urban_400_points_probabilistic_seed_1213.pkl to /home/libe2152/optimizedsampling/0_results/usavars/treecover/convenience_sampling_r2_scores.csv\n",
      "Fitting regression...\n",
      "NUM SAMPLES: 400\n"
     ]
    },
    {
     "name": "stdout",
     "output_type": "stream",
     "text": [
      "Best alpha: 3.593813663804626\n"
     ]
    },
    {
     "name": "stderr",
     "output_type": "stream",
     "text": [
      "\r",
      "Processing samples:  43%|██████████████████████████▊                                    | 43/101 [11:50<08:08,  8.42s/it]"
     ]
    },
    {
     "name": "stdout",
     "output_type": "stream",
     "text": [
      "0.6835050589139773\n",
      "[WRITE] Saved result from IDS_top10_urban_400_points_probabilistic_seed_123.pkl to /home/libe2152/optimizedsampling/0_results/usavars/treecover/convenience_sampling_r2_scores.csv\n",
      "Fitting regression...\n",
      "NUM SAMPLES: 400\n"
     ]
    },
    {
     "name": "stdout",
     "output_type": "stream",
     "text": [
      "Best alpha: 3.593813663804626\n"
     ]
    },
    {
     "name": "stderr",
     "output_type": "stream",
     "text": [
      "\r",
      "Processing samples:  44%|███████████████████████████▍                                   | 44/101 [11:59<08:06,  8.53s/it]"
     ]
    },
    {
     "name": "stdout",
     "output_type": "stream",
     "text": [
      "0.7024475059764063\n",
      "[WRITE] Saved result from IDS_top10_urban_400_points_probabilistic_seed_1234.pkl to /home/libe2152/optimizedsampling/0_results/usavars/treecover/convenience_sampling_r2_scores.csv\n",
      "Fitting regression...\n",
      "NUM SAMPLES: 400\n"
     ]
    },
    {
     "name": "stdout",
     "output_type": "stream",
     "text": [
      "Best alpha: 3.593813663804626\n"
     ]
    },
    {
     "name": "stderr",
     "output_type": "stream",
     "text": [
      "\r",
      "Processing samples:  45%|████████████████████████████                                   | 45/101 [12:07<08:01,  8.61s/it]"
     ]
    },
    {
     "name": "stdout",
     "output_type": "stream",
     "text": [
      "0.6690872940318641\n",
      "[WRITE] Saved result from IDS_top10_urban_400_points_probabilistic_seed_1415.pkl to /home/libe2152/optimizedsampling/0_results/usavars/treecover/convenience_sampling_r2_scores.csv\n",
      "Fitting regression...\n",
      "NUM SAMPLES: 400\n"
     ]
    },
    {
     "name": "stdout",
     "output_type": "stream",
     "text": [
      "Best alpha: 3.593813663804626\n"
     ]
    },
    {
     "name": "stderr",
     "output_type": "stream",
     "text": [
      "\r",
      "Processing samples:  46%|████████████████████████████▋                                  | 46/101 [12:16<07:51,  8.57s/it]"
     ]
    },
    {
     "name": "stdout",
     "output_type": "stream",
     "text": [
      "0.66438922942332\n",
      "[WRITE] Saved result from IDS_top10_urban_400_points_probabilistic_seed_42.pkl to /home/libe2152/optimizedsampling/0_results/usavars/treecover/convenience_sampling_r2_scores.csv\n",
      "Fitting regression...\n",
      "NUM SAMPLES: 400\n"
     ]
    },
    {
     "name": "stdout",
     "output_type": "stream",
     "text": [
      "Best alpha: 46.41588833612782\n"
     ]
    },
    {
     "name": "stderr",
     "output_type": "stream",
     "text": [
      "\r",
      "Processing samples:  47%|█████████████████████████████▎                                 | 47/101 [12:25<07:53,  8.76s/it]"
     ]
    },
    {
     "name": "stdout",
     "output_type": "stream",
     "text": [
      "0.5727742128490949\n",
      "[WRITE] Saved result from IDS_top10_urban_400_points_probabilistic_seed_456.pkl to /home/libe2152/optimizedsampling/0_results/usavars/treecover/convenience_sampling_r2_scores.csv\n",
      "Fitting regression...\n",
      "NUM SAMPLES: 400\n"
     ]
    },
    {
     "name": "stdout",
     "output_type": "stream",
     "text": [
      "Best alpha: 3.593813663804626\n"
     ]
    },
    {
     "name": "stderr",
     "output_type": "stream",
     "text": [
      "\r",
      "Processing samples:  48%|█████████████████████████████▉                                 | 48/101 [12:32<07:20,  8.30s/it]"
     ]
    },
    {
     "name": "stdout",
     "output_type": "stream",
     "text": [
      "0.6664077568012745\n",
      "[WRITE] Saved result from IDS_top10_urban_400_points_probabilistic_seed_5678.pkl to /home/libe2152/optimizedsampling/0_results/usavars/treecover/convenience_sampling_r2_scores.csv\n",
      "Fitting regression...\n",
      "NUM SAMPLES: 400\n"
     ]
    },
    {
     "name": "stdout",
     "output_type": "stream",
     "text": [
      "Best alpha: 3.593813663804626\n"
     ]
    },
    {
     "name": "stderr",
     "output_type": "stream",
     "text": [
      "\r",
      "Processing samples:  49%|██████████████████████████████▌                                | 49/101 [12:41<07:17,  8.42s/it]"
     ]
    },
    {
     "name": "stdout",
     "output_type": "stream",
     "text": [
      "0.668341492045549\n",
      "[WRITE] Saved result from IDS_top10_urban_400_points_probabilistic_seed_789.pkl to /home/libe2152/optimizedsampling/0_results/usavars/treecover/convenience_sampling_r2_scores.csv\n",
      "Fitting regression...\n",
      "NUM SAMPLES: 400\n"
     ]
    },
    {
     "name": "stdout",
     "output_type": "stream",
     "text": [
      "Best alpha: 3.593813663804626\n"
     ]
    },
    {
     "name": "stderr",
     "output_type": "stream",
     "text": [
      "\r",
      "Processing samples:  50%|███████████████████████████████▏                               | 50/101 [12:50<07:13,  8.49s/it]"
     ]
    },
    {
     "name": "stdout",
     "output_type": "stream",
     "text": [
      "0.7229317963143467\n",
      "[WRITE] Saved result from IDS_top10_urban_400_points_probabilistic_seed_9101.pkl to /home/libe2152/optimizedsampling/0_results/usavars/treecover/convenience_sampling_r2_scores.csv\n",
      "Fitting regression...\n",
      "NUM SAMPLES: 500\n"
     ]
    },
    {
     "name": "stdout",
     "output_type": "stream",
     "text": [
      "Best alpha: 3.593813663804626\n"
     ]
    },
    {
     "name": "stderr",
     "output_type": "stream",
     "text": [
      "\r",
      "Processing samples:  50%|███████████████████████████████▊                               | 51/101 [12:59<07:18,  8.76s/it]"
     ]
    },
    {
     "name": "stdout",
     "output_type": "stream",
     "text": [
      "0.7196787215533997\n",
      "[WRITE] Saved result from IDS_top10_urban_500_points_probabilistic_seed_1.pkl to /home/libe2152/optimizedsampling/0_results/usavars/treecover/convenience_sampling_r2_scores.csv\n",
      "Fitting regression...\n",
      "NUM SAMPLES: 500\n"
     ]
    },
    {
     "name": "stdout",
     "output_type": "stream",
     "text": [
      "Best alpha: 3.593813663804626\n"
     ]
    },
    {
     "name": "stderr",
     "output_type": "stream",
     "text": [
      "\r",
      "Processing samples:  51%|████████████████████████████████▍                              | 52/101 [13:09<07:33,  9.25s/it]"
     ]
    },
    {
     "name": "stdout",
     "output_type": "stream",
     "text": [
      "0.7289933573931744\n",
      "[WRITE] Saved result from IDS_top10_urban_500_points_probabilistic_seed_1213.pkl to /home/libe2152/optimizedsampling/0_results/usavars/treecover/convenience_sampling_r2_scores.csv\n",
      "Fitting regression...\n",
      "NUM SAMPLES: 500\n"
     ]
    },
    {
     "name": "stdout",
     "output_type": "stream",
     "text": [
      "Best alpha: 3.593813663804626\n"
     ]
    },
    {
     "name": "stderr",
     "output_type": "stream",
     "text": [
      "\r",
      "Processing samples:  52%|█████████████████████████████████                              | 53/101 [13:19<07:28,  9.34s/it]"
     ]
    },
    {
     "name": "stdout",
     "output_type": "stream",
     "text": [
      "0.7044776439684022\n",
      "[WRITE] Saved result from IDS_top10_urban_500_points_probabilistic_seed_123.pkl to /home/libe2152/optimizedsampling/0_results/usavars/treecover/convenience_sampling_r2_scores.csv\n",
      "Fitting regression...\n",
      "NUM SAMPLES: 500\n"
     ]
    },
    {
     "name": "stdout",
     "output_type": "stream",
     "text": [
      "Best alpha: 3.593813663804626\n"
     ]
    },
    {
     "name": "stderr",
     "output_type": "stream",
     "text": [
      "\r",
      "Processing samples:  53%|█████████████████████████████████▋                             | 54/101 [13:30<07:46,  9.93s/it]"
     ]
    },
    {
     "name": "stdout",
     "output_type": "stream",
     "text": [
      "0.6702133617762158\n",
      "[WRITE] Saved result from IDS_top10_urban_500_points_probabilistic_seed_1234.pkl to /home/libe2152/optimizedsampling/0_results/usavars/treecover/convenience_sampling_r2_scores.csv\n",
      "Fitting regression...\n",
      "NUM SAMPLES: 500\n"
     ]
    },
    {
     "name": "stdout",
     "output_type": "stream",
     "text": [
      "Best alpha: 3.593813663804626\n"
     ]
    },
    {
     "name": "stderr",
     "output_type": "stream",
     "text": [
      "\r",
      "Processing samples:  54%|██████████████████████████████████▎                            | 55/101 [13:40<07:34,  9.89s/it]"
     ]
    },
    {
     "name": "stdout",
     "output_type": "stream",
     "text": [
      "0.7020653976466438\n",
      "[WRITE] Saved result from IDS_top10_urban_500_points_probabilistic_seed_1415.pkl to /home/libe2152/optimizedsampling/0_results/usavars/treecover/convenience_sampling_r2_scores.csv\n",
      "Fitting regression...\n",
      "NUM SAMPLES: 500\n"
     ]
    },
    {
     "name": "stdout",
     "output_type": "stream",
     "text": [
      "Best alpha: 3.593813663804626\n"
     ]
    },
    {
     "name": "stderr",
     "output_type": "stream",
     "text": [
      "\r",
      "Processing samples:  55%|██████████████████████████████████▉                            | 56/101 [13:52<07:52, 10.50s/it]"
     ]
    },
    {
     "name": "stdout",
     "output_type": "stream",
     "text": [
      "0.6781044789466035\n",
      "[WRITE] Saved result from IDS_top10_urban_500_points_probabilistic_seed_42.pkl to /home/libe2152/optimizedsampling/0_results/usavars/treecover/convenience_sampling_r2_scores.csv\n",
      "Fitting regression...\n",
      "NUM SAMPLES: 500\n"
     ]
    },
    {
     "name": "stdout",
     "output_type": "stream",
     "text": [
      "Best alpha: 3.593813663804626\n"
     ]
    },
    {
     "name": "stderr",
     "output_type": "stream",
     "text": [
      "\r",
      "Processing samples:  56%|███████████████████████████████████▌                           | 57/101 [14:03<07:54, 10.79s/it]"
     ]
    },
    {
     "name": "stdout",
     "output_type": "stream",
     "text": [
      "0.6808542967076399\n",
      "[WRITE] Saved result from IDS_top10_urban_500_points_probabilistic_seed_456.pkl to /home/libe2152/optimizedsampling/0_results/usavars/treecover/convenience_sampling_r2_scores.csv\n",
      "Fitting regression...\n",
      "NUM SAMPLES: 500\n"
     ]
    },
    {
     "name": "stdout",
     "output_type": "stream",
     "text": [
      "Best alpha: 3.593813663804626\n"
     ]
    },
    {
     "name": "stderr",
     "output_type": "stream",
     "text": [
      "\r",
      "Processing samples:  57%|████████████████████████████████████▏                          | 58/101 [14:15<07:57, 11.11s/it]"
     ]
    },
    {
     "name": "stdout",
     "output_type": "stream",
     "text": [
      "0.7341258848045429\n",
      "[WRITE] Saved result from IDS_top10_urban_500_points_probabilistic_seed_5678.pkl to /home/libe2152/optimizedsampling/0_results/usavars/treecover/convenience_sampling_r2_scores.csv\n",
      "Fitting regression...\n",
      "NUM SAMPLES: 500\n"
     ]
    },
    {
     "name": "stdout",
     "output_type": "stream",
     "text": [
      "Best alpha: 3.593813663804626\n"
     ]
    },
    {
     "name": "stderr",
     "output_type": "stream",
     "text": [
      "\r",
      "Processing samples:  58%|████████████████████████████████████▊                          | 59/101 [14:25<07:34, 10.82s/it]"
     ]
    },
    {
     "name": "stdout",
     "output_type": "stream",
     "text": [
      "0.6987296290894118\n",
      "[WRITE] Saved result from IDS_top10_urban_500_points_probabilistic_seed_789.pkl to /home/libe2152/optimizedsampling/0_results/usavars/treecover/convenience_sampling_r2_scores.csv\n",
      "Fitting regression...\n",
      "NUM SAMPLES: 500\n"
     ]
    },
    {
     "name": "stdout",
     "output_type": "stream",
     "text": [
      "Best alpha: 3.593813663804626\n"
     ]
    },
    {
     "name": "stderr",
     "output_type": "stream",
     "text": [
      "\r",
      "Processing samples:  59%|█████████████████████████████████████▍                         | 60/101 [14:42<08:31, 12.49s/it]"
     ]
    },
    {
     "name": "stdout",
     "output_type": "stream",
     "text": [
      "0.7420352415280927\n",
      "[WRITE] Saved result from IDS_top10_urban_500_points_probabilistic_seed_9101.pkl to /home/libe2152/optimizedsampling/0_results/usavars/treecover/convenience_sampling_r2_scores.csv\n",
      "Fitting regression...\n",
      "NUM SAMPLES: 600\n"
     ]
    },
    {
     "name": "stdout",
     "output_type": "stream",
     "text": [
      "Best alpha: 3.593813663804626\n"
     ]
    },
    {
     "name": "stderr",
     "output_type": "stream",
     "text": [
      "\r",
      "Processing samples:  60%|██████████████████████████████████████                         | 61/101 [14:55<08:25, 12.63s/it]"
     ]
    },
    {
     "name": "stdout",
     "output_type": "stream",
     "text": [
      "0.7257159139315573\n",
      "[WRITE] Saved result from IDS_top10_urban_600_points_probabilistic_seed_1.pkl to /home/libe2152/optimizedsampling/0_results/usavars/treecover/convenience_sampling_r2_scores.csv\n",
      "Fitting regression...\n",
      "NUM SAMPLES: 600\n"
     ]
    },
    {
     "name": "stdout",
     "output_type": "stream",
     "text": [
      "Best alpha: 3.593813663804626\n"
     ]
    },
    {
     "name": "stderr",
     "output_type": "stream",
     "text": [
      "\r",
      "Processing samples:  61%|██████████████████████████████████████▋                        | 62/101 [15:07<08:11, 12.59s/it]"
     ]
    },
    {
     "name": "stdout",
     "output_type": "stream",
     "text": [
      "0.7045212287278049\n",
      "[WRITE] Saved result from IDS_top10_urban_600_points_probabilistic_seed_1213.pkl to /home/libe2152/optimizedsampling/0_results/usavars/treecover/convenience_sampling_r2_scores.csv\n",
      "Fitting regression...\n",
      "NUM SAMPLES: 600\n"
     ]
    },
    {
     "name": "stdout",
     "output_type": "stream",
     "text": [
      "Best alpha: 3.593813663804626\n"
     ]
    },
    {
     "name": "stderr",
     "output_type": "stream",
     "text": [
      "\r",
      "Processing samples:  62%|███████████████████████████████████████▎                       | 63/101 [15:22<08:27, 13.35s/it]"
     ]
    },
    {
     "name": "stdout",
     "output_type": "stream",
     "text": [
      "0.6829712069560776\n",
      "[WRITE] Saved result from IDS_top10_urban_600_points_probabilistic_seed_123.pkl to /home/libe2152/optimizedsampling/0_results/usavars/treecover/convenience_sampling_r2_scores.csv\n",
      "Fitting regression...\n",
      "NUM SAMPLES: 600\n"
     ]
    },
    {
     "name": "stdout",
     "output_type": "stream",
     "text": [
      "Best alpha: 3.593813663804626\n"
     ]
    },
    {
     "name": "stderr",
     "output_type": "stream",
     "text": [
      "\r",
      "Processing samples:  63%|███████████████████████████████████████▉                       | 64/101 [15:36<08:12, 13.31s/it]"
     ]
    },
    {
     "name": "stdout",
     "output_type": "stream",
     "text": [
      "0.7241284098173899\n",
      "[WRITE] Saved result from IDS_top10_urban_600_points_probabilistic_seed_1234.pkl to /home/libe2152/optimizedsampling/0_results/usavars/treecover/convenience_sampling_r2_scores.csv\n",
      "Fitting regression...\n",
      "NUM SAMPLES: 600\n"
     ]
    },
    {
     "name": "stdout",
     "output_type": "stream",
     "text": [
      "Best alpha: 3.593813663804626\n"
     ]
    },
    {
     "name": "stderr",
     "output_type": "stream",
     "text": [
      "\r",
      "Processing samples:  64%|████████████████████████████████████████▌                      | 65/101 [15:49<07:55, 13.21s/it]"
     ]
    },
    {
     "name": "stdout",
     "output_type": "stream",
     "text": [
      "0.6888228419126816\n",
      "[WRITE] Saved result from IDS_top10_urban_600_points_probabilistic_seed_1415.pkl to /home/libe2152/optimizedsampling/0_results/usavars/treecover/convenience_sampling_r2_scores.csv\n",
      "Fitting regression...\n",
      "NUM SAMPLES: 600\n"
     ]
    },
    {
     "name": "stdout",
     "output_type": "stream",
     "text": [
      "Best alpha: 3.593813663804626\n"
     ]
    },
    {
     "name": "stderr",
     "output_type": "stream",
     "text": [
      "\r",
      "Processing samples:  65%|█████████████████████████████████████████▏                     | 66/101 [16:01<07:29, 12.83s/it]"
     ]
    },
    {
     "name": "stdout",
     "output_type": "stream",
     "text": [
      "0.7331999925841108\n",
      "[WRITE] Saved result from IDS_top10_urban_600_points_probabilistic_seed_42.pkl to /home/libe2152/optimizedsampling/0_results/usavars/treecover/convenience_sampling_r2_scores.csv\n",
      "Fitting regression...\n",
      "NUM SAMPLES: 600\n"
     ]
    },
    {
     "name": "stdout",
     "output_type": "stream",
     "text": [
      "Best alpha: 3.593813663804626\n"
     ]
    },
    {
     "name": "stderr",
     "output_type": "stream",
     "text": [
      "\r",
      "Processing samples:  66%|█████████████████████████████████████████▊                     | 67/101 [16:14<07:20, 12.96s/it]"
     ]
    },
    {
     "name": "stdout",
     "output_type": "stream",
     "text": [
      "0.7063466215649337\n",
      "[WRITE] Saved result from IDS_top10_urban_600_points_probabilistic_seed_456.pkl to /home/libe2152/optimizedsampling/0_results/usavars/treecover/convenience_sampling_r2_scores.csv\n",
      "Fitting regression...\n",
      "NUM SAMPLES: 600\n"
     ]
    },
    {
     "name": "stdout",
     "output_type": "stream",
     "text": [
      "Best alpha: 3.593813663804626\n"
     ]
    },
    {
     "name": "stderr",
     "output_type": "stream",
     "text": [
      "\r",
      "Processing samples:  67%|██████████████████████████████████████████▍                    | 68/101 [16:28<07:24, 13.47s/it]"
     ]
    },
    {
     "name": "stdout",
     "output_type": "stream",
     "text": [
      "0.7120818920120073\n",
      "[WRITE] Saved result from IDS_top10_urban_600_points_probabilistic_seed_5678.pkl to /home/libe2152/optimizedsampling/0_results/usavars/treecover/convenience_sampling_r2_scores.csv\n",
      "Fitting regression...\n",
      "NUM SAMPLES: 600\n"
     ]
    },
    {
     "name": "stdout",
     "output_type": "stream",
     "text": [
      "Best alpha: 3.593813663804626\n"
     ]
    },
    {
     "name": "stderr",
     "output_type": "stream",
     "text": [
      "\r",
      "Processing samples:  68%|███████████████████████████████████████████                    | 69/101 [16:45<07:38, 14.32s/it]"
     ]
    },
    {
     "name": "stdout",
     "output_type": "stream",
     "text": [
      "0.6898508773540997\n",
      "[WRITE] Saved result from IDS_top10_urban_600_points_probabilistic_seed_789.pkl to /home/libe2152/optimizedsampling/0_results/usavars/treecover/convenience_sampling_r2_scores.csv\n",
      "Fitting regression...\n",
      "NUM SAMPLES: 600\n"
     ]
    },
    {
     "name": "stdout",
     "output_type": "stream",
     "text": [
      "Best alpha: 3.593813663804626\n"
     ]
    },
    {
     "name": "stderr",
     "output_type": "stream",
     "text": [
      "\r",
      "Processing samples:  69%|███████████████████████████████████████████▋                   | 70/101 [17:10<09:03, 17.53s/it]"
     ]
    },
    {
     "name": "stdout",
     "output_type": "stream",
     "text": [
      "0.694616608649866\n",
      "[WRITE] Saved result from IDS_top10_urban_600_points_probabilistic_seed_9101.pkl to /home/libe2152/optimizedsampling/0_results/usavars/treecover/convenience_sampling_r2_scores.csv\n",
      "Fitting regression...\n",
      "NUM SAMPLES: 700\n"
     ]
    },
    {
     "name": "stdout",
     "output_type": "stream",
     "text": [
      "Best alpha: 3.593813663804626\n"
     ]
    },
    {
     "name": "stderr",
     "output_type": "stream",
     "text": [
      "\r",
      "Processing samples:  70%|████████████████████████████████████████████▎                  | 71/101 [17:50<12:12, 24.42s/it]"
     ]
    },
    {
     "name": "stdout",
     "output_type": "stream",
     "text": [
      "0.7127628754994426\n",
      "[WRITE] Saved result from IDS_top10_urban_700_points_probabilistic_seed_1.pkl to /home/libe2152/optimizedsampling/0_results/usavars/treecover/convenience_sampling_r2_scores.csv\n",
      "Fitting regression...\n",
      "NUM SAMPLES: 700\n"
     ]
    },
    {
     "name": "stdout",
     "output_type": "stream",
     "text": [
      "Best alpha: 3.593813663804626\n"
     ]
    },
    {
     "name": "stderr",
     "output_type": "stream",
     "text": [
      "\r",
      "Processing samples:  71%|████████████████████████████████████████████▉                  | 72/101 [18:22<12:55, 26.76s/it]"
     ]
    },
    {
     "name": "stdout",
     "output_type": "stream",
     "text": [
      "0.7523091591400094\n",
      "[WRITE] Saved result from IDS_top10_urban_700_points_probabilistic_seed_1213.pkl to /home/libe2152/optimizedsampling/0_results/usavars/treecover/convenience_sampling_r2_scores.csv\n",
      "Fitting regression...\n",
      "NUM SAMPLES: 700\n"
     ]
    },
    {
     "name": "stdout",
     "output_type": "stream",
     "text": [
      "Best alpha: 3.593813663804626\n"
     ]
    },
    {
     "name": "stderr",
     "output_type": "stream",
     "text": [
      "\r",
      "Processing samples:  72%|█████████████████████████████████████████████▌                 | 73/101 [18:49<12:25, 26.63s/it]"
     ]
    },
    {
     "name": "stdout",
     "output_type": "stream",
     "text": [
      "0.7381669134055959\n",
      "[WRITE] Saved result from IDS_top10_urban_700_points_probabilistic_seed_123.pkl to /home/libe2152/optimizedsampling/0_results/usavars/treecover/convenience_sampling_r2_scores.csv\n",
      "Fitting regression...\n",
      "NUM SAMPLES: 700\n"
     ]
    },
    {
     "name": "stdout",
     "output_type": "stream",
     "text": [
      "Best alpha: 3.593813663804626\n"
     ]
    },
    {
     "name": "stderr",
     "output_type": "stream",
     "text": [
      "\r",
      "Processing samples:  73%|██████████████████████████████████████████████▏                | 74/101 [19:16<12:04, 26.83s/it]"
     ]
    },
    {
     "name": "stdout",
     "output_type": "stream",
     "text": [
      "0.7178943117478637\n",
      "[WRITE] Saved result from IDS_top10_urban_700_points_probabilistic_seed_1234.pkl to /home/libe2152/optimizedsampling/0_results/usavars/treecover/convenience_sampling_r2_scores.csv\n",
      "Fitting regression...\n",
      "NUM SAMPLES: 700\n"
     ]
    },
    {
     "name": "stdout",
     "output_type": "stream",
     "text": [
      "Best alpha: 3.593813663804626\n"
     ]
    },
    {
     "name": "stderr",
     "output_type": "stream",
     "text": [
      "\r",
      "Processing samples:  74%|██████████████████████████████████████████████▊                | 75/101 [19:39<11:06, 25.63s/it]"
     ]
    },
    {
     "name": "stdout",
     "output_type": "stream",
     "text": [
      "0.7135100494092346\n",
      "[WRITE] Saved result from IDS_top10_urban_700_points_probabilistic_seed_1415.pkl to /home/libe2152/optimizedsampling/0_results/usavars/treecover/convenience_sampling_r2_scores.csv\n",
      "Fitting regression...\n",
      "NUM SAMPLES: 700\n"
     ]
    },
    {
     "name": "stdout",
     "output_type": "stream",
     "text": [
      "Best alpha: 3.593813663804626\n"
     ]
    },
    {
     "name": "stderr",
     "output_type": "stream",
     "text": [
      "\r",
      "Processing samples:  75%|███████████████████████████████████████████████▍               | 76/101 [19:58<09:53, 23.73s/it]"
     ]
    },
    {
     "name": "stdout",
     "output_type": "stream",
     "text": [
      "0.7481523924375895\n",
      "[WRITE] Saved result from IDS_top10_urban_700_points_probabilistic_seed_42.pkl to /home/libe2152/optimizedsampling/0_results/usavars/treecover/convenience_sampling_r2_scores.csv\n",
      "Fitting regression...\n",
      "NUM SAMPLES: 700\n"
     ]
    },
    {
     "name": "stdout",
     "output_type": "stream",
     "text": [
      "Best alpha: 3.593813663804626\n"
     ]
    },
    {
     "name": "stderr",
     "output_type": "stream",
     "text": [
      "\r",
      "Processing samples:  76%|████████████████████████████████████████████████               | 77/101 [20:18<09:03, 22.65s/it]"
     ]
    },
    {
     "name": "stdout",
     "output_type": "stream",
     "text": [
      "0.7378918503834988\n",
      "[WRITE] Saved result from IDS_top10_urban_700_points_probabilistic_seed_456.pkl to /home/libe2152/optimizedsampling/0_results/usavars/treecover/convenience_sampling_r2_scores.csv\n",
      "Fitting regression...\n",
      "NUM SAMPLES: 700\n"
     ]
    },
    {
     "name": "stdout",
     "output_type": "stream",
     "text": [
      "Best alpha: 3.593813663804626\n"
     ]
    },
    {
     "name": "stderr",
     "output_type": "stream",
     "text": [
      "\r",
      "Processing samples:  77%|████████████████████████████████████████████████▋              | 78/101 [20:36<08:07, 21.21s/it]"
     ]
    },
    {
     "name": "stdout",
     "output_type": "stream",
     "text": [
      "0.7276918001175667\n",
      "[WRITE] Saved result from IDS_top10_urban_700_points_probabilistic_seed_5678.pkl to /home/libe2152/optimizedsampling/0_results/usavars/treecover/convenience_sampling_r2_scores.csv\n",
      "Fitting regression...\n",
      "NUM SAMPLES: 700\n"
     ]
    },
    {
     "name": "stdout",
     "output_type": "stream",
     "text": [
      "Best alpha: 3.593813663804626\n"
     ]
    },
    {
     "name": "stderr",
     "output_type": "stream",
     "text": [
      "\r",
      "Processing samples:  78%|█████████████████████████████████████████████████▎             | 79/101 [20:56<07:40, 20.92s/it]"
     ]
    },
    {
     "name": "stdout",
     "output_type": "stream",
     "text": [
      "0.7171052582761839\n",
      "[WRITE] Saved result from IDS_top10_urban_700_points_probabilistic_seed_789.pkl to /home/libe2152/optimizedsampling/0_results/usavars/treecover/convenience_sampling_r2_scores.csv\n",
      "Fitting regression...\n",
      "NUM SAMPLES: 700\n"
     ]
    },
    {
     "name": "stdout",
     "output_type": "stream",
     "text": [
      "Best alpha: 3.593813663804626\n"
     ]
    },
    {
     "name": "stderr",
     "output_type": "stream",
     "text": [
      "\r",
      "Processing samples:  79%|█████████████████████████████████████████████████▉             | 80/101 [21:15<07:01, 20.08s/it]"
     ]
    },
    {
     "name": "stdout",
     "output_type": "stream",
     "text": [
      "0.7267419156916253\n",
      "[WRITE] Saved result from IDS_top10_urban_700_points_probabilistic_seed_9101.pkl to /home/libe2152/optimizedsampling/0_results/usavars/treecover/convenience_sampling_r2_scores.csv\n",
      "Fitting regression...\n",
      "NUM SAMPLES: 800\n"
     ]
    },
    {
     "name": "stdout",
     "output_type": "stream",
     "text": [
      "Best alpha: 3.593813663804626\n"
     ]
    },
    {
     "name": "stderr",
     "output_type": "stream",
     "text": [
      "\r",
      "Processing samples:  80%|██████████████████████████████████████████████████▌            | 81/101 [21:55<08:42, 26.15s/it]"
     ]
    },
    {
     "name": "stdout",
     "output_type": "stream",
     "text": [
      "0.7531578968915341\n",
      "[WRITE] Saved result from IDS_top10_urban_800_points_probabilistic_seed_1.pkl to /home/libe2152/optimizedsampling/0_results/usavars/treecover/convenience_sampling_r2_scores.csv\n",
      "Fitting regression...\n",
      "NUM SAMPLES: 800\n"
     ]
    },
    {
     "name": "stdout",
     "output_type": "stream",
     "text": [
      "Best alpha: 3.593813663804626\n"
     ]
    },
    {
     "name": "stderr",
     "output_type": "stream",
     "text": [
      "\r",
      "Processing samples:  81%|███████████████████████████████████████████████████▏           | 82/101 [22:32<09:21, 29.56s/it]"
     ]
    },
    {
     "name": "stdout",
     "output_type": "stream",
     "text": [
      "0.7204808351927215\n",
      "[WRITE] Saved result from IDS_top10_urban_800_points_probabilistic_seed_1213.pkl to /home/libe2152/optimizedsampling/0_results/usavars/treecover/convenience_sampling_r2_scores.csv\n",
      "Fitting regression...\n",
      "NUM SAMPLES: 800\n"
     ]
    },
    {
     "name": "stdout",
     "output_type": "stream",
     "text": [
      "Best alpha: 3.593813663804626\n"
     ]
    },
    {
     "name": "stderr",
     "output_type": "stream",
     "text": [
      "\r",
      "Processing samples:  82%|███████████████████████████████████████████████████▊           | 83/101 [23:10<09:34, 31.93s/it]"
     ]
    },
    {
     "name": "stdout",
     "output_type": "stream",
     "text": [
      "0.7362250892554498\n",
      "[WRITE] Saved result from IDS_top10_urban_800_points_probabilistic_seed_123.pkl to /home/libe2152/optimizedsampling/0_results/usavars/treecover/convenience_sampling_r2_scores.csv\n",
      "Fitting regression...\n",
      "NUM SAMPLES: 800\n"
     ]
    },
    {
     "name": "stdout",
     "output_type": "stream",
     "text": [
      "Best alpha: 3.593813663804626\n"
     ]
    },
    {
     "name": "stderr",
     "output_type": "stream",
     "text": [
      "\r",
      "Processing samples:  83%|████████████████████████████████████████████████████▍          | 84/101 [23:46<09:26, 33.33s/it]"
     ]
    },
    {
     "name": "stdout",
     "output_type": "stream",
     "text": [
      "0.7344171216710076\n",
      "[WRITE] Saved result from IDS_top10_urban_800_points_probabilistic_seed_1234.pkl to /home/libe2152/optimizedsampling/0_results/usavars/treecover/convenience_sampling_r2_scores.csv\n",
      "Fitting regression...\n",
      "NUM SAMPLES: 800\n"
     ]
    },
    {
     "name": "stdout",
     "output_type": "stream",
     "text": [
      "Best alpha: 3.593813663804626\n"
     ]
    },
    {
     "name": "stderr",
     "output_type": "stream",
     "text": [
      "\r",
      "Processing samples:  84%|█████████████████████████████████████████████████████          | 85/101 [24:26<09:23, 35.25s/it]"
     ]
    },
    {
     "name": "stdout",
     "output_type": "stream",
     "text": [
      "0.7391758359512655\n",
      "[WRITE] Saved result from IDS_top10_urban_800_points_probabilistic_seed_1415.pkl to /home/libe2152/optimizedsampling/0_results/usavars/treecover/convenience_sampling_r2_scores.csv\n",
      "Fitting regression...\n",
      "NUM SAMPLES: 800\n"
     ]
    },
    {
     "name": "stdout",
     "output_type": "stream",
     "text": [
      "Best alpha: 3.593813663804626\n"
     ]
    },
    {
     "name": "stderr",
     "output_type": "stream",
     "text": [
      "\r",
      "Processing samples:  85%|█████████████████████████████████████████████████████▋         | 86/101 [24:59<08:39, 34.62s/it]"
     ]
    },
    {
     "name": "stdout",
     "output_type": "stream",
     "text": [
      "0.7052136787803971\n",
      "[WRITE] Saved result from IDS_top10_urban_800_points_probabilistic_seed_42.pkl to /home/libe2152/optimizedsampling/0_results/usavars/treecover/convenience_sampling_r2_scores.csv\n",
      "Fitting regression...\n",
      "NUM SAMPLES: 800\n"
     ]
    },
    {
     "name": "stdout",
     "output_type": "stream",
     "text": [
      "Best alpha: 3.593813663804626\n"
     ]
    },
    {
     "name": "stderr",
     "output_type": "stream",
     "text": [
      "\r",
      "Processing samples:  86%|██████████████████████████████████████████████████████▎        | 87/101 [25:30<07:46, 33.30s/it]"
     ]
    },
    {
     "name": "stdout",
     "output_type": "stream",
     "text": [
      "0.7349946830704391\n",
      "[WRITE] Saved result from IDS_top10_urban_800_points_probabilistic_seed_456.pkl to /home/libe2152/optimizedsampling/0_results/usavars/treecover/convenience_sampling_r2_scores.csv\n",
      "Fitting regression...\n",
      "NUM SAMPLES: 800\n"
     ]
    },
    {
     "name": "stdout",
     "output_type": "stream",
     "text": [
      "Best alpha: 3.593813663804626\n"
     ]
    },
    {
     "name": "stderr",
     "output_type": "stream",
     "text": [
      "\r",
      "Processing samples:  87%|██████████████████████████████████████████████████████▉        | 88/101 [26:01<07:03, 32.61s/it]"
     ]
    },
    {
     "name": "stdout",
     "output_type": "stream",
     "text": [
      "0.7388468639132527\n",
      "[WRITE] Saved result from IDS_top10_urban_800_points_probabilistic_seed_5678.pkl to /home/libe2152/optimizedsampling/0_results/usavars/treecover/convenience_sampling_r2_scores.csv\n",
      "Fitting regression...\n",
      "NUM SAMPLES: 800\n"
     ]
    },
    {
     "name": "stdout",
     "output_type": "stream",
     "text": [
      "Best alpha: 3.593813663804626\n"
     ]
    },
    {
     "name": "stderr",
     "output_type": "stream",
     "text": [
      "\r",
      "Processing samples:  88%|███████████████████████████████████████████████████████▌       | 89/101 [26:30<06:19, 31.66s/it]"
     ]
    },
    {
     "name": "stdout",
     "output_type": "stream",
     "text": [
      "0.7450455356909711\n",
      "[WRITE] Saved result from IDS_top10_urban_800_points_probabilistic_seed_789.pkl to /home/libe2152/optimizedsampling/0_results/usavars/treecover/convenience_sampling_r2_scores.csv\n",
      "Fitting regression...\n",
      "NUM SAMPLES: 800\n"
     ]
    },
    {
     "name": "stdout",
     "output_type": "stream",
     "text": [
      "Best alpha: 3.593813663804626\n"
     ]
    },
    {
     "name": "stderr",
     "output_type": "stream",
     "text": [
      "\r",
      "Processing samples:  89%|████████████████████████████████████████████████████████▏      | 90/101 [27:06<06:01, 32.86s/it]"
     ]
    },
    {
     "name": "stdout",
     "output_type": "stream",
     "text": [
      "0.7458941236630495\n",
      "[WRITE] Saved result from IDS_top10_urban_800_points_probabilistic_seed_9101.pkl to /home/libe2152/optimizedsampling/0_results/usavars/treecover/convenience_sampling_r2_scores.csv\n",
      "Fitting regression...\n",
      "NUM SAMPLES: 900\n"
     ]
    },
    {
     "name": "stdout",
     "output_type": "stream",
     "text": [
      "Best alpha: 3.593813663804626\n"
     ]
    },
    {
     "name": "stderr",
     "output_type": "stream",
     "text": [
      "\r",
      "Processing samples:  90%|████████████████████████████████████████████████████████▊      | 91/101 [27:41<05:34, 33.48s/it]"
     ]
    },
    {
     "name": "stdout",
     "output_type": "stream",
     "text": [
      "0.7690493442585382\n",
      "[WRITE] Saved result from IDS_top10_urban_900_points_probabilistic_seed_1.pkl to /home/libe2152/optimizedsampling/0_results/usavars/treecover/convenience_sampling_r2_scores.csv\n",
      "Fitting regression...\n",
      "NUM SAMPLES: 900\n"
     ]
    },
    {
     "name": "stdout",
     "output_type": "stream",
     "text": [
      "Best alpha: 3.593813663804626\n"
     ]
    },
    {
     "name": "stderr",
     "output_type": "stream",
     "text": [
      "\r",
      "Processing samples:  91%|█████████████████████████████████████████████████████████▍     | 92/101 [28:35<05:57, 39.68s/it]"
     ]
    },
    {
     "name": "stdout",
     "output_type": "stream",
     "text": [
      "0.7641983100734164\n",
      "[WRITE] Saved result from IDS_top10_urban_900_points_probabilistic_seed_1213.pkl to /home/libe2152/optimizedsampling/0_results/usavars/treecover/convenience_sampling_r2_scores.csv\n",
      "Fitting regression...\n",
      "NUM SAMPLES: 900\n"
     ]
    },
    {
     "name": "stdout",
     "output_type": "stream",
     "text": [
      "Best alpha: 3.593813663804626\n"
     ]
    },
    {
     "name": "stderr",
     "output_type": "stream",
     "text": [
      "\r",
      "Processing samples:  92%|██████████████████████████████████████████████████████████     | 93/101 [29:18<05:25, 40.73s/it]"
     ]
    },
    {
     "name": "stdout",
     "output_type": "stream",
     "text": [
      "0.7506461283270821\n",
      "[WRITE] Saved result from IDS_top10_urban_900_points_probabilistic_seed_123.pkl to /home/libe2152/optimizedsampling/0_results/usavars/treecover/convenience_sampling_r2_scores.csv\n",
      "Fitting regression...\n",
      "NUM SAMPLES: 900\n"
     ]
    },
    {
     "name": "stdout",
     "output_type": "stream",
     "text": [
      "Best alpha: 3.593813663804626\n"
     ]
    },
    {
     "name": "stderr",
     "output_type": "stream",
     "text": [
      "\r",
      "Processing samples:  93%|██████████████████████████████████████████████████████████▋    | 94/101 [29:57<04:42, 40.37s/it]"
     ]
    },
    {
     "name": "stdout",
     "output_type": "stream",
     "text": [
      "0.7590342466990088\n",
      "[WRITE] Saved result from IDS_top10_urban_900_points_probabilistic_seed_1234.pkl to /home/libe2152/optimizedsampling/0_results/usavars/treecover/convenience_sampling_r2_scores.csv\n",
      "Fitting regression...\n",
      "NUM SAMPLES: 900\n"
     ]
    },
    {
     "name": "stdout",
     "output_type": "stream",
     "text": [
      "Best alpha: 3.593813663804626\n"
     ]
    },
    {
     "name": "stderr",
     "output_type": "stream",
     "text": [
      "\r",
      "Processing samples:  94%|███████████████████████████████████████████████████████████▎   | 95/101 [30:41<04:07, 41.17s/it]"
     ]
    },
    {
     "name": "stdout",
     "output_type": "stream",
     "text": [
      "0.7390282307905933\n",
      "[WRITE] Saved result from IDS_top10_urban_900_points_probabilistic_seed_1415.pkl to /home/libe2152/optimizedsampling/0_results/usavars/treecover/convenience_sampling_r2_scores.csv\n",
      "Fitting regression...\n",
      "NUM SAMPLES: 900\n"
     ]
    },
    {
     "name": "stdout",
     "output_type": "stream",
     "text": [
      "Best alpha: 3.593813663804626\n"
     ]
    },
    {
     "name": "stderr",
     "output_type": "stream",
     "text": [
      "\r",
      "Processing samples:  95%|███████████████████████████████████████████████████████████▉   | 96/101 [31:22<03:26, 41.37s/it]"
     ]
    },
    {
     "name": "stdout",
     "output_type": "stream",
     "text": [
      "0.7443315255755047\n",
      "[WRITE] Saved result from IDS_top10_urban_900_points_probabilistic_seed_42.pkl to /home/libe2152/optimizedsampling/0_results/usavars/treecover/convenience_sampling_r2_scores.csv\n",
      "Fitting regression...\n",
      "NUM SAMPLES: 900\n"
     ]
    },
    {
     "name": "stdout",
     "output_type": "stream",
     "text": [
      "Best alpha: 3.593813663804626\n"
     ]
    },
    {
     "name": "stderr",
     "output_type": "stream",
     "text": [
      "\r",
      "Processing samples:  96%|████████████████████████████████████████████████████████████▌  | 97/101 [32:12<02:54, 43.71s/it]"
     ]
    },
    {
     "name": "stdout",
     "output_type": "stream",
     "text": [
      "0.7544738950262109\n",
      "[WRITE] Saved result from IDS_top10_urban_900_points_probabilistic_seed_456.pkl to /home/libe2152/optimizedsampling/0_results/usavars/treecover/convenience_sampling_r2_scores.csv\n",
      "Fitting regression...\n",
      "NUM SAMPLES: 900\n"
     ]
    },
    {
     "name": "stdout",
     "output_type": "stream",
     "text": [
      "Best alpha: 3.593813663804626\n"
     ]
    },
    {
     "name": "stderr",
     "output_type": "stream",
     "text": [
      "\r",
      "Processing samples:  97%|█████████████████████████████████████████████████████████████▏ | 98/101 [32:57<02:12, 44.14s/it]"
     ]
    },
    {
     "name": "stdout",
     "output_type": "stream",
     "text": [
      "0.7659905305319211\n",
      "[WRITE] Saved result from IDS_top10_urban_900_points_probabilistic_seed_5678.pkl to /home/libe2152/optimizedsampling/0_results/usavars/treecover/convenience_sampling_r2_scores.csv\n",
      "Fitting regression...\n",
      "NUM SAMPLES: 900\n"
     ]
    },
    {
     "name": "stdout",
     "output_type": "stream",
     "text": [
      "Best alpha: 3.593813663804626\n"
     ]
    },
    {
     "name": "stderr",
     "output_type": "stream",
     "text": [
      "\r",
      "Processing samples:  98%|█████████████████████████████████████████████████████████████▊ | 99/101 [33:47<01:31, 45.92s/it]"
     ]
    },
    {
     "name": "stdout",
     "output_type": "stream",
     "text": [
      "0.7583259977878085\n",
      "[WRITE] Saved result from IDS_top10_urban_900_points_probabilistic_seed_789.pkl to /home/libe2152/optimizedsampling/0_results/usavars/treecover/convenience_sampling_r2_scores.csv\n",
      "Fitting regression...\n",
      "NUM SAMPLES: 900\n"
     ]
    },
    {
     "name": "stdout",
     "output_type": "stream",
     "text": [
      "Best alpha: 0.2782559402207126\n"
     ]
    },
    {
     "name": "stderr",
     "output_type": "stream",
     "text": [
      "\r",
      "Processing samples:  99%|█████████████████████████████████████████████████████████████▍| 100/101 [34:30<00:45, 45.01s/it]"
     ]
    },
    {
     "name": "stderr",
     "output_type": "stream",
     "text": [
      "\r",
      "Processing samples: 100%|██████████████████████████████████████████████████████████████| 101/101 [34:30<00:00, 20.50s/it]"
     ]
    },
    {
     "name": "stdout",
     "output_type": "stream",
     "text": [
      "0.699329201409351\n",
      "[WRITE] Saved result from IDS_top10_urban_900_points_probabilistic_seed_9101.pkl to /home/libe2152/optimizedsampling/0_results/usavars/treecover/convenience_sampling_r2_scores.csv\n",
      "Results written incrementally to /home/libe2152/optimizedsampling/0_results/usavars/treecover/convenience_sampling_r2_scores.csv\n"
     ]
    },
    {
     "name": "stderr",
     "output_type": "stream",
     "text": [
      "\n"
     ]
    },
    {
     "name": "stdout",
     "output_type": "stream",
     "text": [
      "Loading features from /home/libe2152/optimizedsampling/0_data/features/usavars/CONTUS_UAR_treecover_with_splits_torchgeo4096.pkl ...\n"
     ]
    },
    {
     "name": "stdout",
     "output_type": "stream",
     "text": [
      "Processing samples from /home/libe2152/optimizedsampling/0_data/initial_samples/usavars/treecover/convenience_sampling/region_based ...\n"
     ]
    },
    {
     "name": "stderr",
     "output_type": "stream",
     "text": [
      "\r",
      "Processing samples:   0%|                                                                        | 0/101 [00:00<?, ?it/s]"
     ]
    },
    {
     "name": "stdout",
     "output_type": "stream",
     "text": [
      "Fitting regression...\n",
      "NUM SAMPLES: 1000\n"
     ]
    },
    {
     "name": "stdout",
     "output_type": "stream",
     "text": [
      "Best alpha: 3.593813663804626\n"
     ]
    },
    {
     "name": "stderr",
     "output_type": "stream",
     "text": [
      "\r",
      "Processing samples:   1%|▌                                                             | 1/101 [00:50<1:24:05, 50.46s/it]"
     ]
    },
    {
     "name": "stdout",
     "output_type": "stream",
     "text": [
      "0.5426993262009785\n",
      "[WRITE] Saved result from IDS_region_06_1000_points_seed_1.pkl to /home/libe2152/optimizedsampling/0_results/usavars/treecover/convenience_sampling_r2_scores.csv\n",
      "Fitting regression...\n",
      "NUM SAMPLES: 1000\n"
     ]
    },
    {
     "name": "stdout",
     "output_type": "stream",
     "text": [
      "Best alpha: 3.593813663804626\n"
     ]
    },
    {
     "name": "stderr",
     "output_type": "stream",
     "text": [
      "\r",
      "Processing samples:   2%|█▏                                                            | 2/101 [01:58<1:40:13, 60.74s/it]"
     ]
    },
    {
     "name": "stdout",
     "output_type": "stream",
     "text": [
      "0.11024460512891998\n",
      "[WRITE] Saved result from IDS_region_06_1000_points_seed_1213.pkl to /home/libe2152/optimizedsampling/0_results/usavars/treecover/convenience_sampling_r2_scores.csv\n",
      "Fitting regression...\n",
      "NUM SAMPLES: 1000\n"
     ]
    },
    {
     "name": "stdout",
     "output_type": "stream",
     "text": [
      "Best alpha: 3.593813663804626\n"
     ]
    },
    {
     "name": "stderr",
     "output_type": "stream",
     "text": [
      "\r",
      "Processing samples:   3%|█▊                                                            | 3/101 [02:50<1:32:55, 56.89s/it]"
     ]
    },
    {
     "name": "stdout",
     "output_type": "stream",
     "text": [
      "0.6674792076309569\n",
      "[WRITE] Saved result from IDS_region_06_1000_points_seed_123.pkl to /home/libe2152/optimizedsampling/0_results/usavars/treecover/convenience_sampling_r2_scores.csv\n",
      "Fitting regression...\n",
      "NUM SAMPLES: 1000\n"
     ]
    },
    {
     "name": "stdout",
     "output_type": "stream",
     "text": [
      "Best alpha: 3.593813663804626\n"
     ]
    },
    {
     "name": "stderr",
     "output_type": "stream",
     "text": [
      "\r",
      "Processing samples:   4%|██▍                                                           | 4/101 [03:47<1:32:00, 56.91s/it]"
     ]
    },
    {
     "name": "stdout",
     "output_type": "stream",
     "text": [
      "0.271598934258651\n",
      "[WRITE] Saved result from IDS_region_06_1000_points_seed_1234.pkl to /home/libe2152/optimizedsampling/0_results/usavars/treecover/convenience_sampling_r2_scores.csv\n",
      "Fitting regression...\n",
      "NUM SAMPLES: 1000\n"
     ]
    },
    {
     "name": "stdout",
     "output_type": "stream",
     "text": [
      "Best alpha: 3.593813663804626\n"
     ]
    },
    {
     "name": "stderr",
     "output_type": "stream",
     "text": [
      "\r",
      "Processing samples:   5%|███                                                           | 5/101 [04:34<1:25:00, 53.13s/it]"
     ]
    },
    {
     "name": "stdout",
     "output_type": "stream",
     "text": [
      "0.527866251035381\n",
      "[WRITE] Saved result from IDS_region_06_1000_points_seed_1415.pkl to /home/libe2152/optimizedsampling/0_results/usavars/treecover/convenience_sampling_r2_scores.csv\n",
      "Fitting regression...\n",
      "NUM SAMPLES: 1000\n"
     ]
    },
    {
     "name": "stdout",
     "output_type": "stream",
     "text": [
      "Best alpha: 46.41588833612782\n"
     ]
    },
    {
     "name": "stderr",
     "output_type": "stream",
     "text": [
      "\r",
      "Processing samples:   6%|███▋                                                          | 6/101 [05:29<1:25:17, 53.87s/it]"
     ]
    },
    {
     "name": "stdout",
     "output_type": "stream",
     "text": [
      "0.5707480937513325\n",
      "[WRITE] Saved result from IDS_region_06_1000_points_seed_42.pkl to /home/libe2152/optimizedsampling/0_results/usavars/treecover/convenience_sampling_r2_scores.csv\n",
      "Fitting regression...\n",
      "NUM SAMPLES: 1000\n"
     ]
    },
    {
     "name": "stdout",
     "output_type": "stream",
     "text": [
      "Best alpha: 3.593813663804626\n"
     ]
    },
    {
     "name": "stderr",
     "output_type": "stream",
     "text": [
      "\r",
      "Processing samples:   7%|████▎                                                         | 7/101 [06:26<1:26:15, 55.06s/it]"
     ]
    },
    {
     "name": "stdout",
     "output_type": "stream",
     "text": [
      "0.5753168484210922\n",
      "[WRITE] Saved result from IDS_region_06_1000_points_seed_456.pkl to /home/libe2152/optimizedsampling/0_results/usavars/treecover/convenience_sampling_r2_scores.csv\n",
      "Fitting regression...\n",
      "NUM SAMPLES: 1000\n"
     ]
    },
    {
     "name": "stdout",
     "output_type": "stream",
     "text": [
      "Best alpha: 46.41588833612782\n"
     ]
    },
    {
     "name": "stderr",
     "output_type": "stream",
     "text": [
      "\r",
      "Processing samples:   8%|████▉                                                         | 8/101 [07:24<1:26:49, 56.02s/it]"
     ]
    },
    {
     "name": "stdout",
     "output_type": "stream",
     "text": [
      "0.5384727845386772\n",
      "[WRITE] Saved result from IDS_region_06_1000_points_seed_5678.pkl to /home/libe2152/optimizedsampling/0_results/usavars/treecover/convenience_sampling_r2_scores.csv\n",
      "Fitting regression...\n",
      "NUM SAMPLES: 1000\n"
     ]
    },
    {
     "name": "stdout",
     "output_type": "stream",
     "text": [
      "Best alpha: 3.593813663804626\n"
     ]
    },
    {
     "name": "stderr",
     "output_type": "stream",
     "text": [
      "\r",
      "Processing samples:   9%|█████▌                                                        | 9/101 [08:24<1:27:38, 57.16s/it]"
     ]
    },
    {
     "name": "stdout",
     "output_type": "stream",
     "text": [
      "0.2929338656783861\n",
      "[WRITE] Saved result from IDS_region_06_1000_points_seed_789.pkl to /home/libe2152/optimizedsampling/0_results/usavars/treecover/convenience_sampling_r2_scores.csv\n",
      "Fitting regression...\n",
      "NUM SAMPLES: 1000\n"
     ]
    },
    {
     "name": "stdout",
     "output_type": "stream",
     "text": [
      "Best alpha: 3.593813663804626\n"
     ]
    },
    {
     "name": "stderr",
     "output_type": "stream",
     "text": [
      "\r",
      "Processing samples:  10%|██████                                                       | 10/101 [09:17<1:24:32, 55.74s/it]"
     ]
    },
    {
     "name": "stdout",
     "output_type": "stream",
     "text": [
      "0.08827828314132702\n",
      "[WRITE] Saved result from IDS_region_06_1000_points_seed_9101.pkl to /home/libe2152/optimizedsampling/0_results/usavars/treecover/convenience_sampling_r2_scores.csv\n",
      "Fitting regression...\n",
      "NUM SAMPLES: 100\n"
     ]
    },
    {
     "name": "stdout",
     "output_type": "stream",
     "text": [
      "Best alpha: 46.41588833612782\n"
     ]
    },
    {
     "name": "stderr",
     "output_type": "stream",
     "text": [
      "\r",
      "Processing samples:  11%|██████▊                                                        | 11/101 [09:18<58:33, 39.03s/it]"
     ]
    },
    {
     "name": "stdout",
     "output_type": "stream",
     "text": [
      "0.4783761000279716\n",
      "[WRITE] Saved result from IDS_region_06_100_points_seed_1.pkl to /home/libe2152/optimizedsampling/0_results/usavars/treecover/convenience_sampling_r2_scores.csv\n",
      "Fitting regression...\n",
      "NUM SAMPLES: 100\n"
     ]
    },
    {
     "name": "stdout",
     "output_type": "stream",
     "text": [
      "Best alpha: 46.41588833612782\n"
     ]
    },
    {
     "name": "stderr",
     "output_type": "stream",
     "text": [
      "\r",
      "Processing samples:  12%|███████▍                                                       | 12/101 [09:19<40:44, 27.46s/it]"
     ]
    },
    {
     "name": "stdout",
     "output_type": "stream",
     "text": [
      "0.2132733530445463\n",
      "[WRITE] Saved result from IDS_region_06_100_points_seed_1213.pkl to /home/libe2152/optimizedsampling/0_results/usavars/treecover/convenience_sampling_r2_scores.csv\n",
      "Fitting regression...\n",
      "NUM SAMPLES: 100\n"
     ]
    },
    {
     "name": "stdout",
     "output_type": "stream",
     "text": [
      "Best alpha: 46.41588833612782\n"
     ]
    },
    {
     "name": "stderr",
     "output_type": "stream",
     "text": [
      "\r",
      "Processing samples:  13%|████████                                                       | 13/101 [09:20<28:34, 19.48s/it]"
     ]
    },
    {
     "name": "stdout",
     "output_type": "stream",
     "text": [
      "0.6097087108715897\n",
      "[WRITE] Saved result from IDS_region_06_100_points_seed_123.pkl to /home/libe2152/optimizedsampling/0_results/usavars/treecover/convenience_sampling_r2_scores.csv\n",
      "Fitting regression...\n",
      "NUM SAMPLES: 100\n"
     ]
    },
    {
     "name": "stdout",
     "output_type": "stream",
     "text": [
      "Best alpha: 599.4842503189421\n"
     ]
    },
    {
     "name": "stderr",
     "output_type": "stream",
     "text": [
      "\r",
      "Processing samples:  14%|████████▋                                                      | 14/101 [09:21<20:14, 13.96s/it]"
     ]
    },
    {
     "name": "stdout",
     "output_type": "stream",
     "text": [
      "0.3128540026114478\n",
      "[WRITE] Saved result from IDS_region_06_100_points_seed_1234.pkl to /home/libe2152/optimizedsampling/0_results/usavars/treecover/convenience_sampling_r2_scores.csv\n",
      "Fitting regression...\n",
      "NUM SAMPLES: 100\n"
     ]
    },
    {
     "name": "stdout",
     "output_type": "stream",
     "text": [
      "Best alpha: 599.4842503189421\n"
     ]
    },
    {
     "name": "stderr",
     "output_type": "stream",
     "text": [
      "\r",
      "Processing samples:  15%|█████████▎                                                     | 15/101 [09:22<14:27, 10.08s/it]"
     ]
    },
    {
     "name": "stdout",
     "output_type": "stream",
     "text": [
      "0.33080962502642575\n",
      "[WRITE] Saved result from IDS_region_06_100_points_seed_1415.pkl to /home/libe2152/optimizedsampling/0_results/usavars/treecover/convenience_sampling_r2_scores.csv\n",
      "Fitting regression...\n",
      "NUM SAMPLES: 100\n"
     ]
    },
    {
     "name": "stdout",
     "output_type": "stream",
     "text": [
      "Best alpha: 599.4842503189421\n"
     ]
    },
    {
     "name": "stderr",
     "output_type": "stream",
     "text": [
      "\r",
      "Processing samples:  16%|█████████▉                                                     | 16/101 [09:23<10:28,  7.40s/it]"
     ]
    },
    {
     "name": "stdout",
     "output_type": "stream",
     "text": [
      "0.355825004749987\n",
      "[WRITE] Saved result from IDS_region_06_100_points_seed_42.pkl to /home/libe2152/optimizedsampling/0_results/usavars/treecover/convenience_sampling_r2_scores.csv\n",
      "Fitting regression...\n",
      "NUM SAMPLES: 100\n"
     ]
    },
    {
     "name": "stdout",
     "output_type": "stream",
     "text": [
      "Best alpha: 46.41588833612782\n"
     ]
    },
    {
     "name": "stderr",
     "output_type": "stream",
     "text": [
      "\r",
      "Processing samples:  17%|██████████▌                                                    | 17/101 [09:25<07:49,  5.59s/it]"
     ]
    },
    {
     "name": "stdout",
     "output_type": "stream",
     "text": [
      "-0.1786724118063716\n",
      "[WRITE] Saved result from IDS_region_06_100_points_seed_456.pkl to /home/libe2152/optimizedsampling/0_results/usavars/treecover/convenience_sampling_r2_scores.csv\n",
      "Fitting regression...\n",
      "NUM SAMPLES: 100\n"
     ]
    },
    {
     "name": "stdout",
     "output_type": "stream",
     "text": [
      "Best alpha: 599.4842503189421\n"
     ]
    },
    {
     "name": "stderr",
     "output_type": "stream",
     "text": [
      "\r",
      "Processing samples:  18%|███████████▏                                                   | 18/101 [09:26<05:51,  4.23s/it]"
     ]
    },
    {
     "name": "stdout",
     "output_type": "stream",
     "text": [
      "0.4108843583915337\n",
      "[WRITE] Saved result from IDS_region_06_100_points_seed_5678.pkl to /home/libe2152/optimizedsampling/0_results/usavars/treecover/convenience_sampling_r2_scores.csv\n",
      "Fitting regression...\n",
      "NUM SAMPLES: 100\n"
     ]
    },
    {
     "name": "stdout",
     "output_type": "stream",
     "text": [
      "Best alpha: 599.4842503189421\n"
     ]
    },
    {
     "name": "stderr",
     "output_type": "stream",
     "text": [
      "\r",
      "Processing samples:  19%|███████████▊                                                   | 19/101 [09:27<04:30,  3.30s/it]"
     ]
    },
    {
     "name": "stdout",
     "output_type": "stream",
     "text": [
      "0.41901364257605755\n",
      "[WRITE] Saved result from IDS_region_06_100_points_seed_789.pkl to /home/libe2152/optimizedsampling/0_results/usavars/treecover/convenience_sampling_r2_scores.csv\n",
      "Fitting regression...\n",
      "NUM SAMPLES: 100\n"
     ]
    },
    {
     "name": "stdout",
     "output_type": "stream",
     "text": [
      "Best alpha: 46.41588833612782\n"
     ]
    },
    {
     "name": "stderr",
     "output_type": "stream",
     "text": [
      "\r",
      "Processing samples:  20%|████████████▍                                                  | 20/101 [09:28<03:34,  2.65s/it]"
     ]
    },
    {
     "name": "stdout",
     "output_type": "stream",
     "text": [
      "0.6252515184006924\n",
      "[WRITE] Saved result from IDS_region_06_100_points_seed_9101.pkl to /home/libe2152/optimizedsampling/0_results/usavars/treecover/convenience_sampling_r2_scores.csv\n",
      "Fitting regression...\n",
      "NUM SAMPLES: 200\n"
     ]
    },
    {
     "name": "stdout",
     "output_type": "stream",
     "text": [
      "Best alpha: 46.41588833612782\n"
     ]
    },
    {
     "name": "stderr",
     "output_type": "stream",
     "text": [
      "\r",
      "Processing samples:  21%|█████████████                                                  | 21/101 [09:32<04:06,  3.08s/it]"
     ]
    },
    {
     "name": "stdout",
     "output_type": "stream",
     "text": [
      "0.5016808299033115\n",
      "[WRITE] Saved result from IDS_region_06_200_points_seed_1.pkl to /home/libe2152/optimizedsampling/0_results/usavars/treecover/convenience_sampling_r2_scores.csv\n",
      "Fitting regression...\n",
      "NUM SAMPLES: 200\n"
     ]
    },
    {
     "name": "stdout",
     "output_type": "stream",
     "text": [
      "Best alpha: 46.41588833612782\n"
     ]
    },
    {
     "name": "stderr",
     "output_type": "stream",
     "text": [
      "\r",
      "Processing samples:  22%|█████████████▋                                                 | 22/101 [09:36<04:16,  3.24s/it]"
     ]
    },
    {
     "name": "stdout",
     "output_type": "stream",
     "text": [
      "0.38377575638610095\n",
      "[WRITE] Saved result from IDS_region_06_200_points_seed_1213.pkl to /home/libe2152/optimizedsampling/0_results/usavars/treecover/convenience_sampling_r2_scores.csv\n",
      "Fitting regression...\n",
      "NUM SAMPLES: 200\n"
     ]
    },
    {
     "name": "stdout",
     "output_type": "stream",
     "text": [
      "Best alpha: 46.41588833612782\n"
     ]
    },
    {
     "name": "stderr",
     "output_type": "stream",
     "text": [
      "\r",
      "Processing samples:  23%|██████████████▎                                                | 23/101 [09:40<04:27,  3.42s/it]"
     ]
    },
    {
     "name": "stdout",
     "output_type": "stream",
     "text": [
      "0.44625768663540444\n",
      "[WRITE] Saved result from IDS_region_06_200_points_seed_123.pkl to /home/libe2152/optimizedsampling/0_results/usavars/treecover/convenience_sampling_r2_scores.csv\n",
      "Fitting regression...\n",
      "NUM SAMPLES: 200\n"
     ]
    },
    {
     "name": "stdout",
     "output_type": "stream",
     "text": [
      "Best alpha: 46.41588833612782\n"
     ]
    },
    {
     "name": "stderr",
     "output_type": "stream",
     "text": [
      "\r",
      "Processing samples:  24%|██████████████▉                                                | 24/101 [09:43<04:28,  3.48s/it]"
     ]
    },
    {
     "name": "stdout",
     "output_type": "stream",
     "text": [
      "0.04018872845411636\n",
      "[WRITE] Saved result from IDS_region_06_200_points_seed_1234.pkl to /home/libe2152/optimizedsampling/0_results/usavars/treecover/convenience_sampling_r2_scores.csv\n",
      "Fitting regression...\n",
      "NUM SAMPLES: 200\n"
     ]
    },
    {
     "name": "stdout",
     "output_type": "stream",
     "text": [
      "Best alpha: 46.41588833612782\n"
     ]
    },
    {
     "name": "stderr",
     "output_type": "stream",
     "text": [
      "\r",
      "Processing samples:  25%|███████████████▌                                               | 25/101 [09:48<04:51,  3.84s/it]"
     ]
    },
    {
     "name": "stdout",
     "output_type": "stream",
     "text": [
      "0.23199913911662273\n",
      "[WRITE] Saved result from IDS_region_06_200_points_seed_1415.pkl to /home/libe2152/optimizedsampling/0_results/usavars/treecover/convenience_sampling_r2_scores.csv\n",
      "Fitting regression...\n",
      "NUM SAMPLES: 200\n"
     ]
    },
    {
     "name": "stdout",
     "output_type": "stream",
     "text": [
      "Best alpha: 46.41588833612782\n"
     ]
    },
    {
     "name": "stderr",
     "output_type": "stream",
     "text": [
      "\r",
      "Processing samples:  26%|████████████████▏                                              | 26/101 [09:52<04:45,  3.80s/it]"
     ]
    },
    {
     "name": "stdout",
     "output_type": "stream",
     "text": [
      "0.547200754804168\n",
      "[WRITE] Saved result from IDS_region_06_200_points_seed_42.pkl to /home/libe2152/optimizedsampling/0_results/usavars/treecover/convenience_sampling_r2_scores.csv\n",
      "Fitting regression...\n",
      "NUM SAMPLES: 200\n"
     ]
    },
    {
     "name": "stdout",
     "output_type": "stream",
     "text": [
      "Best alpha: 46.41588833612782\n"
     ]
    },
    {
     "name": "stderr",
     "output_type": "stream",
     "text": [
      "\r",
      "Processing samples:  27%|████████████████▊                                              | 27/101 [09:56<04:46,  3.88s/it]"
     ]
    },
    {
     "name": "stdout",
     "output_type": "stream",
     "text": [
      "0.142988778285554\n",
      "[WRITE] Saved result from IDS_region_06_200_points_seed_456.pkl to /home/libe2152/optimizedsampling/0_results/usavars/treecover/convenience_sampling_r2_scores.csv\n",
      "Fitting regression...\n",
      "NUM SAMPLES: 200\n"
     ]
    },
    {
     "name": "stdout",
     "output_type": "stream",
     "text": [
      "Best alpha: 46.41588833612782\n"
     ]
    },
    {
     "name": "stderr",
     "output_type": "stream",
     "text": [
      "\r",
      "Processing samples:  28%|█████████████████▍                                             | 28/101 [09:58<04:17,  3.53s/it]"
     ]
    },
    {
     "name": "stdout",
     "output_type": "stream",
     "text": [
      "0.5991236102610028\n",
      "[WRITE] Saved result from IDS_region_06_200_points_seed_5678.pkl to /home/libe2152/optimizedsampling/0_results/usavars/treecover/convenience_sampling_r2_scores.csv\n",
      "Fitting regression...\n",
      "NUM SAMPLES: 200\n"
     ]
    },
    {
     "name": "stdout",
     "output_type": "stream",
     "text": [
      "Best alpha: 46.41588833612782\n"
     ]
    },
    {
     "name": "stderr",
     "output_type": "stream",
     "text": [
      "\r",
      "Processing samples:  29%|██████████████████                                             | 29/101 [10:01<04:00,  3.34s/it]"
     ]
    },
    {
     "name": "stdout",
     "output_type": "stream",
     "text": [
      "0.15045652374089358\n",
      "[WRITE] Saved result from IDS_region_06_200_points_seed_789.pkl to /home/libe2152/optimizedsampling/0_results/usavars/treecover/convenience_sampling_r2_scores.csv\n",
      "Fitting regression...\n",
      "NUM SAMPLES: 200\n"
     ]
    },
    {
     "name": "stdout",
     "output_type": "stream",
     "text": [
      "Best alpha: 46.41588833612782\n"
     ]
    },
    {
     "name": "stderr",
     "output_type": "stream",
     "text": [
      "\r",
      "Processing samples:  30%|██████████████████▋                                            | 30/101 [10:05<04:04,  3.45s/it]"
     ]
    },
    {
     "name": "stdout",
     "output_type": "stream",
     "text": [
      "0.6358554558776041\n",
      "[WRITE] Saved result from IDS_region_06_200_points_seed_9101.pkl to /home/libe2152/optimizedsampling/0_results/usavars/treecover/convenience_sampling_r2_scores.csv\n",
      "Fitting regression...\n",
      "NUM SAMPLES: 300\n"
     ]
    },
    {
     "name": "stdout",
     "output_type": "stream",
     "text": [
      "Best alpha: 46.41588833612782\n"
     ]
    },
    {
     "name": "stderr",
     "output_type": "stream",
     "text": [
      "\r",
      "Processing samples:  31%|███████████████████▎                                           | 31/101 [10:12<05:18,  4.54s/it]"
     ]
    },
    {
     "name": "stdout",
     "output_type": "stream",
     "text": [
      "0.40620512068842984\n",
      "[WRITE] Saved result from IDS_region_06_300_points_seed_1.pkl to /home/libe2152/optimizedsampling/0_results/usavars/treecover/convenience_sampling_r2_scores.csv\n",
      "Fitting regression...\n",
      "NUM SAMPLES: 300\n"
     ]
    },
    {
     "name": "stdout",
     "output_type": "stream",
     "text": [
      "Best alpha: 46.41588833612782\n"
     ]
    },
    {
     "name": "stderr",
     "output_type": "stream",
     "text": [
      "\r",
      "Processing samples:  32%|███████████████████▉                                           | 32/101 [10:18<05:30,  4.80s/it]"
     ]
    },
    {
     "name": "stdout",
     "output_type": "stream",
     "text": [
      "0.4515227860900878\n",
      "[WRITE] Saved result from IDS_region_06_300_points_seed_1213.pkl to /home/libe2152/optimizedsampling/0_results/usavars/treecover/convenience_sampling_r2_scores.csv\n",
      "Fitting regression...\n",
      "NUM SAMPLES: 300\n"
     ]
    },
    {
     "name": "stdout",
     "output_type": "stream",
     "text": [
      "Best alpha: 46.41588833612782\n"
     ]
    },
    {
     "name": "stderr",
     "output_type": "stream",
     "text": [
      "\r",
      "Processing samples:  33%|████████████████████▌                                          | 33/101 [10:24<05:52,  5.18s/it]"
     ]
    },
    {
     "name": "stdout",
     "output_type": "stream",
     "text": [
      "0.6495934493668416\n",
      "[WRITE] Saved result from IDS_region_06_300_points_seed_123.pkl to /home/libe2152/optimizedsampling/0_results/usavars/treecover/convenience_sampling_r2_scores.csv\n",
      "Fitting regression...\n",
      "NUM SAMPLES: 300\n"
     ]
    },
    {
     "name": "stdout",
     "output_type": "stream",
     "text": [
      "Best alpha: 46.41588833612782\n"
     ]
    },
    {
     "name": "stderr",
     "output_type": "stream",
     "text": [
      "\r",
      "Processing samples:  34%|█████████████████████▏                                         | 34/101 [10:30<06:15,  5.61s/it]"
     ]
    },
    {
     "name": "stdout",
     "output_type": "stream",
     "text": [
      "0.3716502237893474\n",
      "[WRITE] Saved result from IDS_region_06_300_points_seed_1234.pkl to /home/libe2152/optimizedsampling/0_results/usavars/treecover/convenience_sampling_r2_scores.csv\n",
      "Fitting regression...\n",
      "NUM SAMPLES: 300\n"
     ]
    },
    {
     "name": "stdout",
     "output_type": "stream",
     "text": [
      "Best alpha: 46.41588833612782\n"
     ]
    },
    {
     "name": "stderr",
     "output_type": "stream",
     "text": [
      "\r",
      "Processing samples:  35%|█████████████████████▊                                         | 35/101 [10:36<06:06,  5.56s/it]"
     ]
    },
    {
     "name": "stdout",
     "output_type": "stream",
     "text": [
      "0.5749403250152589\n",
      "[WRITE] Saved result from IDS_region_06_300_points_seed_1415.pkl to /home/libe2152/optimizedsampling/0_results/usavars/treecover/convenience_sampling_r2_scores.csv\n",
      "Fitting regression...\n",
      "NUM SAMPLES: 300\n"
     ]
    },
    {
     "name": "stdout",
     "output_type": "stream",
     "text": [
      "Best alpha: 46.41588833612782\n"
     ]
    },
    {
     "name": "stderr",
     "output_type": "stream",
     "text": [
      "\r",
      "Processing samples:  36%|██████████████████████▍                                        | 36/101 [10:40<05:45,  5.32s/it]"
     ]
    },
    {
     "name": "stdout",
     "output_type": "stream",
     "text": [
      "0.6099083724123826\n",
      "[WRITE] Saved result from IDS_region_06_300_points_seed_42.pkl to /home/libe2152/optimizedsampling/0_results/usavars/treecover/convenience_sampling_r2_scores.csv\n",
      "Fitting regression...\n",
      "NUM SAMPLES: 300\n"
     ]
    },
    {
     "name": "stdout",
     "output_type": "stream",
     "text": [
      "Best alpha: 46.41588833612782\n"
     ]
    },
    {
     "name": "stderr",
     "output_type": "stream",
     "text": [
      "\r",
      "Processing samples:  37%|███████████████████████                                        | 37/101 [10:46<05:45,  5.39s/it]"
     ]
    },
    {
     "name": "stdout",
     "output_type": "stream",
     "text": [
      "0.3928113515952274\n",
      "[WRITE] Saved result from IDS_region_06_300_points_seed_456.pkl to /home/libe2152/optimizedsampling/0_results/usavars/treecover/convenience_sampling_r2_scores.csv\n",
      "Fitting regression...\n",
      "NUM SAMPLES: 300\n"
     ]
    },
    {
     "name": "stdout",
     "output_type": "stream",
     "text": [
      "Best alpha: 46.41588833612782\n"
     ]
    },
    {
     "name": "stderr",
     "output_type": "stream",
     "text": [
      "\r",
      "Processing samples:  38%|███████████████████████▋                                       | 38/101 [10:52<05:48,  5.53s/it]"
     ]
    },
    {
     "name": "stdout",
     "output_type": "stream",
     "text": [
      "0.567959164998484\n",
      "[WRITE] Saved result from IDS_region_06_300_points_seed_5678.pkl to /home/libe2152/optimizedsampling/0_results/usavars/treecover/convenience_sampling_r2_scores.csv\n",
      "Fitting regression...\n",
      "NUM SAMPLES: 300\n"
     ]
    },
    {
     "name": "stdout",
     "output_type": "stream",
     "text": [
      "Best alpha: 599.4842503189421\n"
     ]
    },
    {
     "name": "stderr",
     "output_type": "stream",
     "text": [
      "\r",
      "Processing samples:  39%|████████████████████████▎                                      | 39/101 [10:58<05:54,  5.71s/it]"
     ]
    },
    {
     "name": "stdout",
     "output_type": "stream",
     "text": [
      "0.3693268823420707\n",
      "[WRITE] Saved result from IDS_region_06_300_points_seed_789.pkl to /home/libe2152/optimizedsampling/0_results/usavars/treecover/convenience_sampling_r2_scores.csv\n",
      "Fitting regression...\n",
      "NUM SAMPLES: 300\n"
     ]
    },
    {
     "name": "stdout",
     "output_type": "stream",
     "text": [
      "Best alpha: 46.41588833612782\n"
     ]
    },
    {
     "name": "stderr",
     "output_type": "stream",
     "text": [
      "\r",
      "Processing samples:  40%|████████████████████████▉                                      | 40/101 [11:05<06:10,  6.07s/it]"
     ]
    },
    {
     "name": "stdout",
     "output_type": "stream",
     "text": [
      "0.6218610541129258\n",
      "[WRITE] Saved result from IDS_region_06_300_points_seed_9101.pkl to /home/libe2152/optimizedsampling/0_results/usavars/treecover/convenience_sampling_r2_scores.csv\n",
      "Fitting regression...\n",
      "NUM SAMPLES: 400\n"
     ]
    },
    {
     "name": "stdout",
     "output_type": "stream",
     "text": [
      "Best alpha: 46.41588833612782\n"
     ]
    },
    {
     "name": "stderr",
     "output_type": "stream",
     "text": [
      "\r",
      "Processing samples:  41%|█████████████████████████▌                                     | 41/101 [11:14<07:06,  7.12s/it]"
     ]
    },
    {
     "name": "stdout",
     "output_type": "stream",
     "text": [
      "0.5284948677283899\n",
      "[WRITE] Saved result from IDS_region_06_400_points_seed_1.pkl to /home/libe2152/optimizedsampling/0_results/usavars/treecover/convenience_sampling_r2_scores.csv\n",
      "Fitting regression...\n",
      "NUM SAMPLES: 400\n"
     ]
    },
    {
     "name": "stdout",
     "output_type": "stream",
     "text": [
      "Best alpha: 46.41588833612782\n"
     ]
    },
    {
     "name": "stderr",
     "output_type": "stream",
     "text": [
      "\r",
      "Processing samples:  42%|██████████████████████████▏                                    | 42/101 [11:23<07:31,  7.65s/it]"
     ]
    },
    {
     "name": "stdout",
     "output_type": "stream",
     "text": [
      "0.5786060541666994\n",
      "[WRITE] Saved result from IDS_region_06_400_points_seed_1213.pkl to /home/libe2152/optimizedsampling/0_results/usavars/treecover/convenience_sampling_r2_scores.csv\n",
      "Fitting regression...\n",
      "NUM SAMPLES: 400\n"
     ]
    },
    {
     "name": "stdout",
     "output_type": "stream",
     "text": [
      "Best alpha: 46.41588833612782\n"
     ]
    },
    {
     "name": "stderr",
     "output_type": "stream",
     "text": [
      "\r",
      "Processing samples:  43%|██████████████████████████▊                                    | 43/101 [11:33<07:56,  8.22s/it]"
     ]
    },
    {
     "name": "stdout",
     "output_type": "stream",
     "text": [
      "0.6578511350877971\n",
      "[WRITE] Saved result from IDS_region_06_400_points_seed_123.pkl to /home/libe2152/optimizedsampling/0_results/usavars/treecover/convenience_sampling_r2_scores.csv\n",
      "Fitting regression...\n",
      "NUM SAMPLES: 400\n"
     ]
    },
    {
     "name": "stdout",
     "output_type": "stream",
     "text": [
      "Best alpha: 46.41588833612782\n"
     ]
    },
    {
     "name": "stderr",
     "output_type": "stream",
     "text": [
      "\r",
      "Processing samples:  44%|███████████████████████████▍                                   | 44/101 [11:40<07:28,  7.87s/it]"
     ]
    },
    {
     "name": "stdout",
     "output_type": "stream",
     "text": [
      "0.5210246108120947\n",
      "[WRITE] Saved result from IDS_region_06_400_points_seed_1234.pkl to /home/libe2152/optimizedsampling/0_results/usavars/treecover/convenience_sampling_r2_scores.csv\n",
      "Fitting regression...\n",
      "NUM SAMPLES: 400\n"
     ]
    },
    {
     "name": "stdout",
     "output_type": "stream",
     "text": [
      "Best alpha: 46.41588833612782\n"
     ]
    },
    {
     "name": "stderr",
     "output_type": "stream",
     "text": [
      "\r",
      "Processing samples:  45%|████████████████████████████                                   | 45/101 [11:51<08:20,  8.94s/it]"
     ]
    },
    {
     "name": "stdout",
     "output_type": "stream",
     "text": [
      "0.5715500969575398\n",
      "[WRITE] Saved result from IDS_region_06_400_points_seed_1415.pkl to /home/libe2152/optimizedsampling/0_results/usavars/treecover/convenience_sampling_r2_scores.csv\n",
      "Fitting regression...\n",
      "NUM SAMPLES: 400\n"
     ]
    },
    {
     "name": "stdout",
     "output_type": "stream",
     "text": [
      "Best alpha: 46.41588833612782\n"
     ]
    },
    {
     "name": "stderr",
     "output_type": "stream",
     "text": [
      "\r",
      "Processing samples:  46%|████████████████████████████▋                                  | 46/101 [12:02<08:31,  9.31s/it]"
     ]
    },
    {
     "name": "stdout",
     "output_type": "stream",
     "text": [
      "0.5814921729179658\n",
      "[WRITE] Saved result from IDS_region_06_400_points_seed_42.pkl to /home/libe2152/optimizedsampling/0_results/usavars/treecover/convenience_sampling_r2_scores.csv\n",
      "Fitting regression...\n",
      "NUM SAMPLES: 400\n"
     ]
    },
    {
     "name": "stdout",
     "output_type": "stream",
     "text": [
      "Best alpha: 46.41588833612782\n"
     ]
    },
    {
     "name": "stderr",
     "output_type": "stream",
     "text": [
      "\r",
      "Processing samples:  47%|█████████████████████████████▎                                 | 47/101 [12:11<08:29,  9.43s/it]"
     ]
    },
    {
     "name": "stdout",
     "output_type": "stream",
     "text": [
      "0.38876824355280504\n",
      "[WRITE] Saved result from IDS_region_06_400_points_seed_456.pkl to /home/libe2152/optimizedsampling/0_results/usavars/treecover/convenience_sampling_r2_scores.csv\n",
      "Fitting regression...\n",
      "NUM SAMPLES: 400\n"
     ]
    },
    {
     "name": "stdout",
     "output_type": "stream",
     "text": [
      "Best alpha: 46.41588833612782\n"
     ]
    },
    {
     "name": "stderr",
     "output_type": "stream",
     "text": [
      "\r",
      "Processing samples:  48%|█████████████████████████████▉                                 | 48/101 [12:20<08:11,  9.28s/it]"
     ]
    },
    {
     "name": "stdout",
     "output_type": "stream",
     "text": [
      "0.5832019905997745\n",
      "[WRITE] Saved result from IDS_region_06_400_points_seed_5678.pkl to /home/libe2152/optimizedsampling/0_results/usavars/treecover/convenience_sampling_r2_scores.csv\n",
      "Fitting regression...\n",
      "NUM SAMPLES: 400\n"
     ]
    },
    {
     "name": "stdout",
     "output_type": "stream",
     "text": [
      "Best alpha: 46.41588833612782\n"
     ]
    },
    {
     "name": "stderr",
     "output_type": "stream",
     "text": [
      "\r",
      "Processing samples:  49%|██████████████████████████████▌                                | 49/101 [12:29<07:57,  9.19s/it]"
     ]
    },
    {
     "name": "stdout",
     "output_type": "stream",
     "text": [
      "0.4287771389110565\n",
      "[WRITE] Saved result from IDS_region_06_400_points_seed_789.pkl to /home/libe2152/optimizedsampling/0_results/usavars/treecover/convenience_sampling_r2_scores.csv\n",
      "Fitting regression...\n",
      "NUM SAMPLES: 400\n"
     ]
    },
    {
     "name": "stdout",
     "output_type": "stream",
     "text": [
      "Best alpha: 599.4842503189421\n"
     ]
    },
    {
     "name": "stderr",
     "output_type": "stream",
     "text": [
      "\r",
      "Processing samples:  50%|███████████████████████████████▏                               | 50/101 [12:38<07:47,  9.17s/it]"
     ]
    },
    {
     "name": "stdout",
     "output_type": "stream",
     "text": [
      "0.5767249916775321\n",
      "[WRITE] Saved result from IDS_region_06_400_points_seed_9101.pkl to /home/libe2152/optimizedsampling/0_results/usavars/treecover/convenience_sampling_r2_scores.csv\n",
      "Fitting regression...\n",
      "NUM SAMPLES: 500\n"
     ]
    },
    {
     "name": "stdout",
     "output_type": "stream",
     "text": [
      "Best alpha: 599.4842503189421\n"
     ]
    },
    {
     "name": "stderr",
     "output_type": "stream",
     "text": [
      "\r",
      "Processing samples:  50%|███████████████████████████████▊                               | 51/101 [12:48<07:46,  9.33s/it]"
     ]
    },
    {
     "name": "stdout",
     "output_type": "stream",
     "text": [
      "0.504516501167673\n",
      "[WRITE] Saved result from IDS_region_06_500_points_seed_1.pkl to /home/libe2152/optimizedsampling/0_results/usavars/treecover/convenience_sampling_r2_scores.csv\n",
      "Fitting regression...\n",
      "NUM SAMPLES: 500\n"
     ]
    },
    {
     "name": "stdout",
     "output_type": "stream",
     "text": [
      "Best alpha: 46.41588833612782\n"
     ]
    },
    {
     "name": "stderr",
     "output_type": "stream",
     "text": [
      "\r",
      "Processing samples:  51%|████████████████████████████████▍                              | 52/101 [12:59<08:04,  9.89s/it]"
     ]
    },
    {
     "name": "stdout",
     "output_type": "stream",
     "text": [
      "0.4216174127790284\n",
      "[WRITE] Saved result from IDS_region_06_500_points_seed_1213.pkl to /home/libe2152/optimizedsampling/0_results/usavars/treecover/convenience_sampling_r2_scores.csv\n",
      "Fitting regression...\n",
      "NUM SAMPLES: 500\n"
     ]
    },
    {
     "name": "stdout",
     "output_type": "stream",
     "text": [
      "Best alpha: 46.41588833612782\n"
     ]
    },
    {
     "name": "stderr",
     "output_type": "stream",
     "text": [
      "\r",
      "Processing samples:  52%|█████████████████████████████████                              | 53/101 [13:11<08:18, 10.39s/it]"
     ]
    },
    {
     "name": "stdout",
     "output_type": "stream",
     "text": [
      "0.6364482575814907\n",
      "[WRITE] Saved result from IDS_region_06_500_points_seed_123.pkl to /home/libe2152/optimizedsampling/0_results/usavars/treecover/convenience_sampling_r2_scores.csv\n",
      "Fitting regression...\n",
      "NUM SAMPLES: 500\n"
     ]
    },
    {
     "name": "stdout",
     "output_type": "stream",
     "text": [
      "Best alpha: 46.41588833612782\n"
     ]
    },
    {
     "name": "stderr",
     "output_type": "stream",
     "text": [
      "\r",
      "Processing samples:  53%|█████████████████████████████████▋                             | 54/101 [13:22<08:13, 10.50s/it]"
     ]
    },
    {
     "name": "stdout",
     "output_type": "stream",
     "text": [
      "0.5237052486289009\n",
      "[WRITE] Saved result from IDS_region_06_500_points_seed_1234.pkl to /home/libe2152/optimizedsampling/0_results/usavars/treecover/convenience_sampling_r2_scores.csv\n",
      "Fitting regression...\n",
      "NUM SAMPLES: 500\n"
     ]
    },
    {
     "name": "stdout",
     "output_type": "stream",
     "text": [
      "Best alpha: 46.41588833612782\n"
     ]
    },
    {
     "name": "stderr",
     "output_type": "stream",
     "text": [
      "\r",
      "Processing samples:  54%|██████████████████████████████████▎                            | 55/101 [13:30<07:36,  9.92s/it]"
     ]
    },
    {
     "name": "stdout",
     "output_type": "stream",
     "text": [
      "0.5872805538126245\n",
      "[WRITE] Saved result from IDS_region_06_500_points_seed_1415.pkl to /home/libe2152/optimizedsampling/0_results/usavars/treecover/convenience_sampling_r2_scores.csv\n",
      "Fitting regression...\n",
      "NUM SAMPLES: 500\n"
     ]
    },
    {
     "name": "stdout",
     "output_type": "stream",
     "text": [
      "Best alpha: 46.41588833612782\n"
     ]
    },
    {
     "name": "stderr",
     "output_type": "stream",
     "text": [
      "\r",
      "Processing samples:  55%|██████████████████████████████████▉                            | 56/101 [13:39<07:14,  9.66s/it]"
     ]
    },
    {
     "name": "stdout",
     "output_type": "stream",
     "text": [
      "0.5783760946359671\n",
      "[WRITE] Saved result from IDS_region_06_500_points_seed_42.pkl to /home/libe2152/optimizedsampling/0_results/usavars/treecover/convenience_sampling_r2_scores.csv\n",
      "Fitting regression...\n",
      "NUM SAMPLES: 500\n"
     ]
    },
    {
     "name": "stdout",
     "output_type": "stream",
     "text": [
      "Best alpha: 3.593813663804626\n"
     ]
    },
    {
     "name": "stderr",
     "output_type": "stream",
     "text": [
      "\r",
      "Processing samples:  56%|███████████████████████████████████▌                           | 57/101 [13:47<06:47,  9.25s/it]"
     ]
    },
    {
     "name": "stdout",
     "output_type": "stream",
     "text": [
      "0.18620092376336395\n",
      "[WRITE] Saved result from IDS_region_06_500_points_seed_456.pkl to /home/libe2152/optimizedsampling/0_results/usavars/treecover/convenience_sampling_r2_scores.csv\n",
      "Fitting regression...\n",
      "NUM SAMPLES: 500\n"
     ]
    },
    {
     "name": "stdout",
     "output_type": "stream",
     "text": [
      "Best alpha: 46.41588833612782\n"
     ]
    },
    {
     "name": "stderr",
     "output_type": "stream",
     "text": [
      "\r",
      "Processing samples:  57%|████████████████████████████████████▏                          | 58/101 [13:58<06:55,  9.66s/it]"
     ]
    },
    {
     "name": "stdout",
     "output_type": "stream",
     "text": [
      "0.561549600679093\n",
      "[WRITE] Saved result from IDS_region_06_500_points_seed_5678.pkl to /home/libe2152/optimizedsampling/0_results/usavars/treecover/convenience_sampling_r2_scores.csv\n",
      "Fitting regression...\n",
      "NUM SAMPLES: 500\n"
     ]
    },
    {
     "name": "stdout",
     "output_type": "stream",
     "text": [
      "Best alpha: 46.41588833612782\n"
     ]
    },
    {
     "name": "stderr",
     "output_type": "stream",
     "text": [
      "\r",
      "Processing samples:  58%|████████████████████████████████████▊                          | 59/101 [14:12<07:40, 10.97s/it]"
     ]
    },
    {
     "name": "stdout",
     "output_type": "stream",
     "text": [
      "0.45962192025697557\n",
      "[WRITE] Saved result from IDS_region_06_500_points_seed_789.pkl to /home/libe2152/optimizedsampling/0_results/usavars/treecover/convenience_sampling_r2_scores.csv\n",
      "Fitting regression...\n",
      "NUM SAMPLES: 500\n"
     ]
    },
    {
     "name": "stdout",
     "output_type": "stream",
     "text": [
      "Best alpha: 46.41588833612782\n"
     ]
    },
    {
     "name": "stderr",
     "output_type": "stream",
     "text": [
      "\r",
      "Processing samples:  59%|█████████████████████████████████████▍                         | 60/101 [14:27<08:19, 12.19s/it]"
     ]
    },
    {
     "name": "stdout",
     "output_type": "stream",
     "text": [
      "0.6523007223871234\n",
      "[WRITE] Saved result from IDS_region_06_500_points_seed_9101.pkl to /home/libe2152/optimizedsampling/0_results/usavars/treecover/convenience_sampling_r2_scores.csv\n",
      "Fitting regression...\n",
      "NUM SAMPLES: 600\n"
     ]
    },
    {
     "name": "stdout",
     "output_type": "stream",
     "text": [
      "Best alpha: 46.41588833612782\n"
     ]
    },
    {
     "name": "stderr",
     "output_type": "stream",
     "text": [
      "\r",
      "Processing samples:  60%|██████████████████████████████████████                         | 61/101 [14:47<09:40, 14.50s/it]"
     ]
    },
    {
     "name": "stdout",
     "output_type": "stream",
     "text": [
      "0.32972020770866417\n",
      "[WRITE] Saved result from IDS_region_06_600_points_seed_1.pkl to /home/libe2152/optimizedsampling/0_results/usavars/treecover/convenience_sampling_r2_scores.csv\n",
      "Fitting regression...\n",
      "NUM SAMPLES: 600\n"
     ]
    },
    {
     "name": "stdout",
     "output_type": "stream",
     "text": [
      "Best alpha: 46.41588833612782\n"
     ]
    },
    {
     "name": "stderr",
     "output_type": "stream",
     "text": [
      "\r",
      "Processing samples:  61%|██████████████████████████████████████▋                        | 62/101 [15:18<12:42, 19.54s/it]"
     ]
    },
    {
     "name": "stdout",
     "output_type": "stream",
     "text": [
      "0.39255492869679454\n",
      "[WRITE] Saved result from IDS_region_06_600_points_seed_1213.pkl to /home/libe2152/optimizedsampling/0_results/usavars/treecover/convenience_sampling_r2_scores.csv\n",
      "Fitting regression...\n",
      "NUM SAMPLES: 600\n"
     ]
    },
    {
     "name": "stdout",
     "output_type": "stream",
     "text": [
      "Best alpha: 46.41588833612782\n"
     ]
    },
    {
     "name": "stderr",
     "output_type": "stream",
     "text": [
      "\r",
      "Processing samples:  62%|███████████████████████████████████████▎                       | 63/101 [15:41<12:57, 20.47s/it]"
     ]
    },
    {
     "name": "stdout",
     "output_type": "stream",
     "text": [
      "0.5506248639968325\n",
      "[WRITE] Saved result from IDS_region_06_600_points_seed_123.pkl to /home/libe2152/optimizedsampling/0_results/usavars/treecover/convenience_sampling_r2_scores.csv\n",
      "Fitting regression...\n",
      "NUM SAMPLES: 600\n"
     ]
    },
    {
     "name": "stdout",
     "output_type": "stream",
     "text": [
      "Best alpha: 46.41588833612782\n"
     ]
    },
    {
     "name": "stderr",
     "output_type": "stream",
     "text": [
      "\r",
      "Processing samples:  63%|███████████████████████████████████████▉                       | 64/101 [16:03<12:57, 21.01s/it]"
     ]
    },
    {
     "name": "stdout",
     "output_type": "stream",
     "text": [
      "0.5084410966413248\n",
      "[WRITE] Saved result from IDS_region_06_600_points_seed_1234.pkl to /home/libe2152/optimizedsampling/0_results/usavars/treecover/convenience_sampling_r2_scores.csv\n",
      "Fitting regression...\n",
      "NUM SAMPLES: 600\n"
     ]
    },
    {
     "name": "stdout",
     "output_type": "stream",
     "text": [
      "Best alpha: 46.41588833612782\n"
     ]
    },
    {
     "name": "stderr",
     "output_type": "stream",
     "text": [
      "\r",
      "Processing samples:  64%|████████████████████████████████████████▌                      | 65/101 [16:22<12:08, 20.24s/it]"
     ]
    },
    {
     "name": "stdout",
     "output_type": "stream",
     "text": [
      "0.5784485559739958\n",
      "[WRITE] Saved result from IDS_region_06_600_points_seed_1415.pkl to /home/libe2152/optimizedsampling/0_results/usavars/treecover/convenience_sampling_r2_scores.csv\n",
      "Fitting regression...\n",
      "NUM SAMPLES: 600\n"
     ]
    },
    {
     "name": "stdout",
     "output_type": "stream",
     "text": [
      "Best alpha: 46.41588833612782\n"
     ]
    },
    {
     "name": "stderr",
     "output_type": "stream",
     "text": [
      "\r",
      "Processing samples:  65%|█████████████████████████████████████████▏                     | 66/101 [16:37<10:56, 18.75s/it]"
     ]
    },
    {
     "name": "stdout",
     "output_type": "stream",
     "text": [
      "0.6502299077062541\n",
      "[WRITE] Saved result from IDS_region_06_600_points_seed_42.pkl to /home/libe2152/optimizedsampling/0_results/usavars/treecover/convenience_sampling_r2_scores.csv\n",
      "Fitting regression...\n",
      "NUM SAMPLES: 600\n"
     ]
    },
    {
     "name": "stdout",
     "output_type": "stream",
     "text": [
      "Best alpha: 46.41588833612782\n"
     ]
    },
    {
     "name": "stderr",
     "output_type": "stream",
     "text": [
      "\r",
      "Processing samples:  66%|█████████████████████████████████████████▊                     | 67/101 [16:53<10:09, 17.92s/it]"
     ]
    },
    {
     "name": "stdout",
     "output_type": "stream",
     "text": [
      "0.44821691498335603\n",
      "[WRITE] Saved result from IDS_region_06_600_points_seed_456.pkl to /home/libe2152/optimizedsampling/0_results/usavars/treecover/convenience_sampling_r2_scores.csv\n",
      "Fitting regression...\n",
      "NUM SAMPLES: 600\n"
     ]
    },
    {
     "name": "stdout",
     "output_type": "stream",
     "text": [
      "Best alpha: 46.41588833612782\n"
     ]
    },
    {
     "name": "stderr",
     "output_type": "stream",
     "text": [
      "\r",
      "Processing samples:  67%|██████████████████████████████████████████▍                    | 68/101 [17:08<09:18, 16.94s/it]"
     ]
    },
    {
     "name": "stdout",
     "output_type": "stream",
     "text": [
      "0.5638302573415571\n",
      "[WRITE] Saved result from IDS_region_06_600_points_seed_5678.pkl to /home/libe2152/optimizedsampling/0_results/usavars/treecover/convenience_sampling_r2_scores.csv\n",
      "Fitting regression...\n",
      "NUM SAMPLES: 600\n"
     ]
    },
    {
     "name": "stdout",
     "output_type": "stream",
     "text": [
      "Best alpha: 46.41588833612782\n"
     ]
    },
    {
     "name": "stderr",
     "output_type": "stream",
     "text": [
      "\r",
      "Processing samples:  68%|███████████████████████████████████████████                    | 69/101 [17:23<08:46, 16.45s/it]"
     ]
    },
    {
     "name": "stdout",
     "output_type": "stream",
     "text": [
      "0.5053570560377365\n",
      "[WRITE] Saved result from IDS_region_06_600_points_seed_789.pkl to /home/libe2152/optimizedsampling/0_results/usavars/treecover/convenience_sampling_r2_scores.csv\n",
      "Fitting regression...\n",
      "NUM SAMPLES: 600\n"
     ]
    },
    {
     "name": "stdout",
     "output_type": "stream",
     "text": [
      "Best alpha: 3.593813663804626\n"
     ]
    },
    {
     "name": "stderr",
     "output_type": "stream",
     "text": [
      "\r",
      "Processing samples:  69%|███████████████████████████████████████████▋                   | 70/101 [17:38<08:19, 16.11s/it]"
     ]
    },
    {
     "name": "stdout",
     "output_type": "stream",
     "text": [
      "0.3183813052226725\n",
      "[WRITE] Saved result from IDS_region_06_600_points_seed_9101.pkl to /home/libe2152/optimizedsampling/0_results/usavars/treecover/convenience_sampling_r2_scores.csv\n",
      "Fitting regression...\n",
      "NUM SAMPLES: 700\n"
     ]
    },
    {
     "name": "stdout",
     "output_type": "stream",
     "text": [
      "Best alpha: 46.41588833612782\n"
     ]
    },
    {
     "name": "stderr",
     "output_type": "stream",
     "text": [
      "\r",
      "Processing samples:  70%|████████████████████████████████████████████▎                  | 71/101 [17:55<08:05, 16.17s/it]"
     ]
    },
    {
     "name": "stdout",
     "output_type": "stream",
     "text": [
      "0.2789548448575294\n",
      "[WRITE] Saved result from IDS_region_06_700_points_seed_1.pkl to /home/libe2152/optimizedsampling/0_results/usavars/treecover/convenience_sampling_r2_scores.csv\n",
      "Fitting regression...\n",
      "NUM SAMPLES: 700\n"
     ]
    },
    {
     "name": "stdout",
     "output_type": "stream",
     "text": [
      "Best alpha: 46.41588833612782\n"
     ]
    },
    {
     "name": "stderr",
     "output_type": "stream",
     "text": [
      "\r",
      "Processing samples:  71%|████████████████████████████████████████████▉                  | 72/101 [18:13<08:09, 16.86s/it]"
     ]
    },
    {
     "name": "stdout",
     "output_type": "stream",
     "text": [
      "0.49968095797763246\n",
      "[WRITE] Saved result from IDS_region_06_700_points_seed_1213.pkl to /home/libe2152/optimizedsampling/0_results/usavars/treecover/convenience_sampling_r2_scores.csv\n",
      "Fitting regression...\n",
      "NUM SAMPLES: 700\n"
     ]
    },
    {
     "name": "stdout",
     "output_type": "stream",
     "text": [
      "Best alpha: 46.41588833612782\n"
     ]
    },
    {
     "name": "stderr",
     "output_type": "stream",
     "text": [
      "\r",
      "Processing samples:  72%|█████████████████████████████████████████████▌                 | 73/101 [18:30<07:53, 16.91s/it]"
     ]
    },
    {
     "name": "stdout",
     "output_type": "stream",
     "text": [
      "0.6142329866077263\n",
      "[WRITE] Saved result from IDS_region_06_700_points_seed_123.pkl to /home/libe2152/optimizedsampling/0_results/usavars/treecover/convenience_sampling_r2_scores.csv\n",
      "Fitting regression...\n",
      "NUM SAMPLES: 700\n"
     ]
    },
    {
     "name": "stdout",
     "output_type": "stream",
     "text": [
      "Best alpha: 3.593813663804626\n"
     ]
    },
    {
     "name": "stderr",
     "output_type": "stream",
     "text": [
      "\r",
      "Processing samples:  73%|██████████████████████████████████████████████▏                | 74/101 [18:51<08:06, 18.03s/it]"
     ]
    },
    {
     "name": "stdout",
     "output_type": "stream",
     "text": [
      "0.2590749086850649\n",
      "[WRITE] Saved result from IDS_region_06_700_points_seed_1234.pkl to /home/libe2152/optimizedsampling/0_results/usavars/treecover/convenience_sampling_r2_scores.csv\n",
      "Fitting regression...\n",
      "NUM SAMPLES: 700\n"
     ]
    },
    {
     "name": "stdout",
     "output_type": "stream",
     "text": [
      "Best alpha: 46.41588833612782\n"
     ]
    },
    {
     "name": "stderr",
     "output_type": "stream",
     "text": [
      "\r",
      "Processing samples:  74%|██████████████████████████████████████████████▊                | 75/101 [19:12<08:14, 19.02s/it]"
     ]
    },
    {
     "name": "stdout",
     "output_type": "stream",
     "text": [
      "0.5904678308690625\n",
      "[WRITE] Saved result from IDS_region_06_700_points_seed_1415.pkl to /home/libe2152/optimizedsampling/0_results/usavars/treecover/convenience_sampling_r2_scores.csv\n",
      "Fitting regression...\n",
      "NUM SAMPLES: 700\n"
     ]
    },
    {
     "name": "stdout",
     "output_type": "stream",
     "text": [
      "Best alpha: 46.41588833612782\n"
     ]
    },
    {
     "name": "stderr",
     "output_type": "stream",
     "text": [
      "\r",
      "Processing samples:  75%|███████████████████████████████████████████████▍               | 76/101 [19:31<07:55, 19.00s/it]"
     ]
    },
    {
     "name": "stdout",
     "output_type": "stream",
     "text": [
      "0.6507226146961693\n",
      "[WRITE] Saved result from IDS_region_06_700_points_seed_42.pkl to /home/libe2152/optimizedsampling/0_results/usavars/treecover/convenience_sampling_r2_scores.csv\n",
      "Fitting regression...\n",
      "NUM SAMPLES: 700\n"
     ]
    },
    {
     "name": "stdout",
     "output_type": "stream",
     "text": [
      "Best alpha: 3.593813663804626\n"
     ]
    },
    {
     "name": "stderr",
     "output_type": "stream",
     "text": [
      "\r",
      "Processing samples:  76%|████████████████████████████████████████████████               | 77/101 [19:53<07:57, 19.88s/it]"
     ]
    },
    {
     "name": "stdout",
     "output_type": "stream",
     "text": [
      "0.366025796912675\n",
      "[WRITE] Saved result from IDS_region_06_700_points_seed_456.pkl to /home/libe2152/optimizedsampling/0_results/usavars/treecover/convenience_sampling_r2_scores.csv\n",
      "Fitting regression...\n",
      "NUM SAMPLES: 700\n"
     ]
    },
    {
     "name": "stdout",
     "output_type": "stream",
     "text": [
      "Best alpha: 46.41588833612782\n"
     ]
    },
    {
     "name": "stderr",
     "output_type": "stream",
     "text": [
      "\r",
      "Processing samples:  77%|████████████████████████████████████████████████▋              | 78/101 [20:11<07:27, 19.46s/it]"
     ]
    },
    {
     "name": "stdout",
     "output_type": "stream",
     "text": [
      "0.5643273091830359\n",
      "[WRITE] Saved result from IDS_region_06_700_points_seed_5678.pkl to /home/libe2152/optimizedsampling/0_results/usavars/treecover/convenience_sampling_r2_scores.csv\n",
      "Fitting regression...\n",
      "NUM SAMPLES: 700\n"
     ]
    },
    {
     "name": "stdout",
     "output_type": "stream",
     "text": [
      "Best alpha: 3.593813663804626\n"
     ]
    },
    {
     "name": "stderr",
     "output_type": "stream",
     "text": [
      "\r",
      "Processing samples:  78%|█████████████████████████████████████████████████▎             | 79/101 [20:30<06:59, 19.06s/it]"
     ]
    },
    {
     "name": "stdout",
     "output_type": "stream",
     "text": [
      "-0.2797484638077221\n",
      "[WRITE] Saved result from IDS_region_06_700_points_seed_789.pkl to /home/libe2152/optimizedsampling/0_results/usavars/treecover/convenience_sampling_r2_scores.csv\n",
      "Fitting regression...\n",
      "NUM SAMPLES: 700\n"
     ]
    },
    {
     "name": "stdout",
     "output_type": "stream",
     "text": [
      "Best alpha: 3.593813663804626\n"
     ]
    },
    {
     "name": "stderr",
     "output_type": "stream",
     "text": [
      "\r",
      "Processing samples:  79%|█████████████████████████████████████████████████▉             | 80/101 [20:48<06:36, 18.90s/it]"
     ]
    },
    {
     "name": "stdout",
     "output_type": "stream",
     "text": [
      "0.3312752575510791\n",
      "[WRITE] Saved result from IDS_region_06_700_points_seed_9101.pkl to /home/libe2152/optimizedsampling/0_results/usavars/treecover/convenience_sampling_r2_scores.csv\n",
      "Fitting regression...\n",
      "NUM SAMPLES: 800\n"
     ]
    },
    {
     "name": "stdout",
     "output_type": "stream",
     "text": [
      "Best alpha: 3.593813663804626\n"
     ]
    },
    {
     "name": "stderr",
     "output_type": "stream",
     "text": [
      "\r",
      "Processing samples:  80%|██████████████████████████████████████████████████▌            | 81/101 [21:25<08:09, 24.45s/it]"
     ]
    },
    {
     "name": "stdout",
     "output_type": "stream",
     "text": [
      "0.5324274698448315\n",
      "[WRITE] Saved result from IDS_region_06_800_points_seed_1.pkl to /home/libe2152/optimizedsampling/0_results/usavars/treecover/convenience_sampling_r2_scores.csv\n",
      "Fitting regression...\n",
      "NUM SAMPLES: 800\n"
     ]
    },
    {
     "name": "stdout",
     "output_type": "stream",
     "text": [
      "Best alpha: 3.593813663804626\n"
     ]
    },
    {
     "name": "stderr",
     "output_type": "stream",
     "text": [
      "\r",
      "Processing samples:  81%|███████████████████████████████████████████████████▏           | 82/101 [21:55<08:12, 25.91s/it]"
     ]
    },
    {
     "name": "stdout",
     "output_type": "stream",
     "text": [
      "0.5280871753184904\n",
      "[WRITE] Saved result from IDS_region_06_800_points_seed_1213.pkl to /home/libe2152/optimizedsampling/0_results/usavars/treecover/convenience_sampling_r2_scores.csv\n",
      "Fitting regression...\n",
      "NUM SAMPLES: 800\n"
     ]
    },
    {
     "name": "stdout",
     "output_type": "stream",
     "text": [
      "Best alpha: 3.593813663804626\n"
     ]
    },
    {
     "name": "stderr",
     "output_type": "stream",
     "text": [
      "\r",
      "Processing samples:  82%|███████████████████████████████████████████████████▊           | 83/101 [22:22<07:55, 26.41s/it]"
     ]
    },
    {
     "name": "stdout",
     "output_type": "stream",
     "text": [
      "0.6751995775524646\n",
      "[WRITE] Saved result from IDS_region_06_800_points_seed_123.pkl to /home/libe2152/optimizedsampling/0_results/usavars/treecover/convenience_sampling_r2_scores.csv\n",
      "Fitting regression...\n",
      "NUM SAMPLES: 800\n"
     ]
    },
    {
     "name": "stdout",
     "output_type": "stream",
     "text": [
      "Best alpha: 3.593813663804626\n"
     ]
    },
    {
     "name": "stderr",
     "output_type": "stream",
     "text": [
      "\r",
      "Processing samples:  83%|████████████████████████████████████████████████████▍          | 84/101 [22:54<07:57, 28.09s/it]"
     ]
    },
    {
     "name": "stdout",
     "output_type": "stream",
     "text": [
      "0.3482731765812086\n",
      "[WRITE] Saved result from IDS_region_06_800_points_seed_1234.pkl to /home/libe2152/optimizedsampling/0_results/usavars/treecover/convenience_sampling_r2_scores.csv\n",
      "Fitting regression...\n",
      "NUM SAMPLES: 800\n"
     ]
    },
    {
     "name": "stdout",
     "output_type": "stream",
     "text": [
      "Best alpha: 46.41588833612782\n"
     ]
    },
    {
     "name": "stderr",
     "output_type": "stream",
     "text": [
      "\r",
      "Processing samples:  84%|█████████████████████████████████████████████████████          | 85/101 [23:23<07:31, 28.23s/it]"
     ]
    },
    {
     "name": "stdout",
     "output_type": "stream",
     "text": [
      "0.5771987240428932\n",
      "[WRITE] Saved result from IDS_region_06_800_points_seed_1415.pkl to /home/libe2152/optimizedsampling/0_results/usavars/treecover/convenience_sampling_r2_scores.csv\n",
      "Fitting regression...\n",
      "NUM SAMPLES: 800\n"
     ]
    },
    {
     "name": "stdout",
     "output_type": "stream",
     "text": [
      "Best alpha: 46.41588833612782\n"
     ]
    },
    {
     "name": "stderr",
     "output_type": "stream",
     "text": [
      "\r",
      "Processing samples:  85%|█████████████████████████████████████████████████████▋         | 86/101 [23:55<07:20, 29.34s/it]"
     ]
    },
    {
     "name": "stdout",
     "output_type": "stream",
     "text": [
      "0.6342486949477909\n",
      "[WRITE] Saved result from IDS_region_06_800_points_seed_42.pkl to /home/libe2152/optimizedsampling/0_results/usavars/treecover/convenience_sampling_r2_scores.csv\n",
      "Fitting regression...\n",
      "NUM SAMPLES: 800\n"
     ]
    },
    {
     "name": "stdout",
     "output_type": "stream",
     "text": [
      "Best alpha: 46.41588833612782\n"
     ]
    },
    {
     "name": "stderr",
     "output_type": "stream",
     "text": [
      "\r",
      "Processing samples:  86%|██████████████████████████████████████████████████████▎        | 87/101 [24:24<06:49, 29.27s/it]"
     ]
    },
    {
     "name": "stdout",
     "output_type": "stream",
     "text": [
      "0.47064337266532885\n",
      "[WRITE] Saved result from IDS_region_06_800_points_seed_456.pkl to /home/libe2152/optimizedsampling/0_results/usavars/treecover/convenience_sampling_r2_scores.csv\n",
      "Fitting regression...\n",
      "NUM SAMPLES: 800\n"
     ]
    },
    {
     "name": "stdout",
     "output_type": "stream",
     "text": [
      "Best alpha: 46.41588833612782\n"
     ]
    },
    {
     "name": "stderr",
     "output_type": "stream",
     "text": [
      "\r",
      "Processing samples:  87%|██████████████████████████████████████████████████████▉        | 88/101 [24:55<06:26, 29.76s/it]"
     ]
    },
    {
     "name": "stdout",
     "output_type": "stream",
     "text": [
      "0.56327126770482\n",
      "[WRITE] Saved result from IDS_region_06_800_points_seed_5678.pkl to /home/libe2152/optimizedsampling/0_results/usavars/treecover/convenience_sampling_r2_scores.csv\n",
      "Fitting regression...\n",
      "NUM SAMPLES: 800\n"
     ]
    },
    {
     "name": "stdout",
     "output_type": "stream",
     "text": [
      "Best alpha: 46.41588833612782\n"
     ]
    },
    {
     "name": "stderr",
     "output_type": "stream",
     "text": [
      "\r",
      "Processing samples:  88%|███████████████████████████████████████████████████████▌       | 89/101 [25:27<06:06, 30.55s/it]"
     ]
    },
    {
     "name": "stdout",
     "output_type": "stream",
     "text": [
      "0.4352450625230079\n",
      "[WRITE] Saved result from IDS_region_06_800_points_seed_789.pkl to /home/libe2152/optimizedsampling/0_results/usavars/treecover/convenience_sampling_r2_scores.csv\n",
      "Fitting regression...\n",
      "NUM SAMPLES: 800\n"
     ]
    },
    {
     "name": "stdout",
     "output_type": "stream",
     "text": [
      "Best alpha: 46.41588833612782\n"
     ]
    },
    {
     "name": "stderr",
     "output_type": "stream",
     "text": [
      "\r",
      "Processing samples:  89%|████████████████████████████████████████████████████████▏      | 90/101 [25:57<05:34, 30.38s/it]"
     ]
    },
    {
     "name": "stdout",
     "output_type": "stream",
     "text": [
      "0.5956773504630095\n",
      "[WRITE] Saved result from IDS_region_06_800_points_seed_9101.pkl to /home/libe2152/optimizedsampling/0_results/usavars/treecover/convenience_sampling_r2_scores.csv\n",
      "Fitting regression...\n",
      "NUM SAMPLES: 900\n"
     ]
    },
    {
     "name": "stdout",
     "output_type": "stream",
     "text": [
      "Best alpha: 3.593813663804626\n"
     ]
    },
    {
     "name": "stderr",
     "output_type": "stream",
     "text": [
      "\r",
      "Processing samples:  90%|████████████████████████████████████████████████████████▊      | 91/101 [26:34<05:23, 32.33s/it]"
     ]
    },
    {
     "name": "stdout",
     "output_type": "stream",
     "text": [
      "0.5240570310106851\n",
      "[WRITE] Saved result from IDS_region_06_900_points_seed_1.pkl to /home/libe2152/optimizedsampling/0_results/usavars/treecover/convenience_sampling_r2_scores.csv\n",
      "Fitting regression...\n",
      "NUM SAMPLES: 900\n"
     ]
    },
    {
     "name": "stdout",
     "output_type": "stream",
     "text": [
      "Best alpha: 3.593813663804626\n"
     ]
    },
    {
     "name": "stderr",
     "output_type": "stream",
     "text": [
      "\r",
      "Processing samples:  91%|█████████████████████████████████████████████████████████▍     | 92/101 [27:19<05:25, 36.12s/it]"
     ]
    },
    {
     "name": "stdout",
     "output_type": "stream",
     "text": [
      "0.2832181724398223\n",
      "[WRITE] Saved result from IDS_region_06_900_points_seed_1213.pkl to /home/libe2152/optimizedsampling/0_results/usavars/treecover/convenience_sampling_r2_scores.csv\n",
      "Fitting regression...\n",
      "NUM SAMPLES: 900\n"
     ]
    },
    {
     "name": "stdout",
     "output_type": "stream",
     "text": [
      "Best alpha: 3.593813663804626\n"
     ]
    },
    {
     "name": "stderr",
     "output_type": "stream",
     "text": [
      "\r",
      "Processing samples:  92%|██████████████████████████████████████████████████████████     | 93/101 [27:52<04:41, 35.22s/it]"
     ]
    },
    {
     "name": "stdout",
     "output_type": "stream",
     "text": [
      "0.6827969831838989\n",
      "[WRITE] Saved result from IDS_region_06_900_points_seed_123.pkl to /home/libe2152/optimizedsampling/0_results/usavars/treecover/convenience_sampling_r2_scores.csv\n",
      "Fitting regression...\n",
      "NUM SAMPLES: 900\n"
     ]
    },
    {
     "name": "stdout",
     "output_type": "stream",
     "text": [
      "Best alpha: 3.593813663804626\n"
     ]
    },
    {
     "name": "stderr",
     "output_type": "stream",
     "text": [
      "\r",
      "Processing samples:  93%|██████████████████████████████████████████████████████████▋    | 94/101 [28:28<04:08, 35.52s/it]"
     ]
    },
    {
     "name": "stdout",
     "output_type": "stream",
     "text": [
      "0.3358715193013284\n",
      "[WRITE] Saved result from IDS_region_06_900_points_seed_1234.pkl to /home/libe2152/optimizedsampling/0_results/usavars/treecover/convenience_sampling_r2_scores.csv\n",
      "Fitting regression...\n",
      "NUM SAMPLES: 900\n"
     ]
    },
    {
     "name": "stdout",
     "output_type": "stream",
     "text": [
      "Best alpha: 46.41588833612782\n"
     ]
    },
    {
     "name": "stderr",
     "output_type": "stream",
     "text": [
      "\r",
      "Processing samples:  94%|███████████████████████████████████████████████████████████▎   | 95/101 [29:07<03:38, 36.42s/it]"
     ]
    },
    {
     "name": "stdout",
     "output_type": "stream",
     "text": [
      "0.6170213272450896\n",
      "[WRITE] Saved result from IDS_region_06_900_points_seed_1415.pkl to /home/libe2152/optimizedsampling/0_results/usavars/treecover/convenience_sampling_r2_scores.csv\n",
      "Fitting regression...\n",
      "NUM SAMPLES: 900\n"
     ]
    },
    {
     "name": "stdout",
     "output_type": "stream",
     "text": [
      "Best alpha: 46.41588833612782\n"
     ]
    },
    {
     "name": "stderr",
     "output_type": "stream",
     "text": [
      "\r",
      "Processing samples:  95%|███████████████████████████████████████████████████████████▉   | 96/101 [29:46<03:05, 37.14s/it]"
     ]
    },
    {
     "name": "stdout",
     "output_type": "stream",
     "text": [
      "0.6214116048395089\n",
      "[WRITE] Saved result from IDS_region_06_900_points_seed_42.pkl to /home/libe2152/optimizedsampling/0_results/usavars/treecover/convenience_sampling_r2_scores.csv\n",
      "Fitting regression...\n",
      "NUM SAMPLES: 900\n"
     ]
    },
    {
     "name": "stdout",
     "output_type": "stream",
     "text": [
      "Best alpha: 3.593813663804626\n"
     ]
    },
    {
     "name": "stderr",
     "output_type": "stream",
     "text": [
      "\r",
      "Processing samples:  96%|████████████████████████████████████████████████████████████▌  | 97/101 [30:22<02:27, 36.92s/it]"
     ]
    },
    {
     "name": "stdout",
     "output_type": "stream",
     "text": [
      "0.5108838901721604\n",
      "[WRITE] Saved result from IDS_region_06_900_points_seed_456.pkl to /home/libe2152/optimizedsampling/0_results/usavars/treecover/convenience_sampling_r2_scores.csv\n",
      "Fitting regression...\n",
      "NUM SAMPLES: 900\n"
     ]
    },
    {
     "name": "stdout",
     "output_type": "stream",
     "text": [
      "Best alpha: 46.41588833612782\n"
     ]
    },
    {
     "name": "stderr",
     "output_type": "stream",
     "text": [
      "\r",
      "Processing samples:  97%|█████████████████████████████████████████████████████████████▏ | 98/101 [31:01<01:52, 37.64s/it]"
     ]
    },
    {
     "name": "stdout",
     "output_type": "stream",
     "text": [
      "0.5714675495954473\n",
      "[WRITE] Saved result from IDS_region_06_900_points_seed_5678.pkl to /home/libe2152/optimizedsampling/0_results/usavars/treecover/convenience_sampling_r2_scores.csv\n",
      "Fitting regression...\n",
      "NUM SAMPLES: 900\n"
     ]
    },
    {
     "name": "stdout",
     "output_type": "stream",
     "text": [
      "Best alpha: 3.593813663804626\n"
     ]
    },
    {
     "name": "stderr",
     "output_type": "stream",
     "text": [
      "\r",
      "Processing samples:  98%|█████████████████████████████████████████████████████████████▊ | 99/101 [31:55<01:24, 42.50s/it]"
     ]
    },
    {
     "name": "stdout",
     "output_type": "stream",
     "text": [
      "0.1444531745131582\n",
      "[WRITE] Saved result from IDS_region_06_900_points_seed_789.pkl to /home/libe2152/optimizedsampling/0_results/usavars/treecover/convenience_sampling_r2_scores.csv\n",
      "Fitting regression...\n",
      "NUM SAMPLES: 900\n"
     ]
    },
    {
     "name": "stdout",
     "output_type": "stream",
     "text": [
      "Best alpha: 46.41588833612782\n"
     ]
    },
    {
     "name": "stderr",
     "output_type": "stream",
     "text": [
      "\r",
      "Processing samples:  99%|█████████████████████████████████████████████████████████████▍| 100/101 [32:41<00:43, 43.45s/it]"
     ]
    },
    {
     "name": "stderr",
     "output_type": "stream",
     "text": [
      "\r",
      "Processing samples: 100%|██████████████████████████████████████████████████████████████| 101/101 [32:41<00:00, 19.42s/it]"
     ]
    },
    {
     "name": "stdout",
     "output_type": "stream",
     "text": [
      "0.5896574498693767\n",
      "[WRITE] Saved result from IDS_region_06_900_points_seed_9101.pkl to /home/libe2152/optimizedsampling/0_results/usavars/treecover/convenience_sampling_r2_scores.csv\n",
      "Results written incrementally to /home/libe2152/optimizedsampling/0_results/usavars/treecover/convenience_sampling_r2_scores.csv\n"
     ]
    },
    {
     "name": "stderr",
     "output_type": "stream",
     "text": [
      "\n"
     ]
    }
   ],
   "source": [
    "for label in ['population', 'treecover']:\n",
    "\n",
    "    features_path = f\"/home/libe2152/optimizedsampling/0_data/features/usavars/CONTUS_UAR_{label}_with_splits_torchgeo4096.pkl\"\n",
    "    cluster_sampling_dir= f\"/home/libe2152/optimizedsampling/0_data/initial_samples/usavars/{label}/cluster_sampling\"\n",
    "    convenience_sampling_urban_dir = f\"/home/libe2152/optimizedsampling/0_data/initial_samples/usavars/{label}/convenience_sampling/urban_based\"\n",
    "    convenience_sampling_region_dir = f\"/home/libe2152/optimizedsampling/0_data/initial_samples/usavars/{label}/convenience_sampling/region_based\"\n",
    "    random_sampling_dir = f\"/home/libe2152/optimizedsampling/0_data/initial_samples/usavars/{label}/random_sampling\"\n",
    "\n",
    "    results_dir = f\"/home/libe2152/optimizedsampling/0_results/usavars/{label}\"\n",
    "\n",
    "    # # Run cluster sampling R2 scores\n",
    "    # cluster_sampling_r2_scores(\n",
    "    #     features_path=features_path,\n",
    "    #     sampling_dir=cluster_sampling_dir,\n",
    "    #     results_dir=results_dir,\n",
    "    #     ridge_regression_fn=ridge_regression,\n",
    "    #     verbose=True,\n",
    "    # )\n",
    "\n",
    "    # Run convenience sampling R2 scores\n",
    "    convenience_sampling_r2_scores(\n",
    "        features_path=features_path,\n",
    "        sampling_dir=convenience_sampling_urban_dir,\n",
    "        results_dir=results_dir,\n",
    "        ridge_regression_fn=ridge_regression,\n",
    "        verbose=True,\n",
    "    )\n",
    "\n",
    "    convenience_sampling_r2_scores(\n",
    "        features_path=features_path,\n",
    "        sampling_dir=convenience_sampling_region_dir,\n",
    "        results_dir=results_dir,\n",
    "        ridge_regression_fn=ridge_regression,\n",
    "        verbose=True,\n",
    "    )\n",
    "\n",
    "    # # Run random sampling R2 scores\n",
    "    # random_sampling_r2_scores(\n",
    "    #     features_path=features_path,\n",
    "    #     sampling_dir=random_sampling_dir,\n",
    "    #     results_dir=results_dir,\n",
    "    #     ridge_regression_fn=ridge_regression,\n",
    "    #     verbose=True,\n",
    "    # )"
   ]
  }
 ],
 "metadata": {
  "kernelspec": {
   "display_name": "mosaiks",
   "language": "python",
   "name": "python3"
  },
  "language_info": {
   "codemirror_mode": {
    "name": "ipython",
    "version": 3
   },
   "file_extension": ".py",
   "mimetype": "text/x-python",
   "name": "python",
   "nbconvert_exporter": "python",
   "pygments_lexer": "ipython3",
   "version": "3.11.11"
  }
 },
 "nbformat": 4,
 "nbformat_minor": 5
}
