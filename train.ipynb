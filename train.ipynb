{
 "cells": [
  {
   "cell_type": "code",
   "execution_count": 2,
   "metadata": {},
   "outputs": [],
   "source": [
    "from sampling import *\n",
    "from satclip import *\n",
    "from train import *"
   ]
  },
  {
   "cell_type": "code",
   "execution_count": null,
   "metadata": {},
   "outputs": [],
   "source": [
    "X_df, latlons_df= io.get_X_latlon(cfg, \"UAR\")\n",
    "satclip_df = get_satclip(cfg,)\n",
    "\n",
    "labels_to_run = [\"population\", \"treecover\", \"elevation\"]\n",
    "rule=v_optimal_design\n",
    "loc_emb=satclip_df"
   ]
  },
  {
   "cell_type": "code",
   "execution_count": null,
   "metadata": {},
   "outputs": [],
   "source": [
    "#Run random sampling\n",
    "run(labels_to_run, X_df, latlons_df, rule=None, loc_emb=None)"
   ]
  },
  {
   "cell_type": "code",
   "execution_count": null,
   "metadata": {},
   "outputs": [],
   "source": [
    "#Run Image-only sampling\n",
    "run(labels_to_run, X_df, latlons_df, rule=rule, loc_emb=None)"
   ]
  },
  {
   "cell_type": "code",
   "execution_count": null,
   "metadata": {},
   "outputs": [],
   "source": [
    "#Run Satclip sampling\n",
    "run(labels_to_run, X_df, latlons_df, rule=rule, loc_emb=loc_emb)"
   ]
  }
 ],
 "metadata": {
  "kernelspec": {
   "display_name": "mosaiks_and_satclip",
   "language": "python",
   "name": "python3"
  },
  "language_info": {
   "codemirror_mode": {
    "name": "ipython",
    "version": 3
   },
   "file_extension": ".py",
   "mimetype": "text/x-python",
   "name": "python",
   "nbconvert_exporter": "python",
   "pygments_lexer": "ipython3",
   "version": "3.9.2"
  }
 },
 "nbformat": 4,
 "nbformat_minor": 2
}
